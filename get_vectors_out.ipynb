{
 "cells": [
  {
   "cell_type": "code",
   "execution_count": 1,
   "metadata": {},
   "outputs": [
    {
     "name": "stderr",
     "output_type": "stream",
     "text": [
      "/anaconda/lib/python3.6/site-packages/h5py/__init__.py:34: FutureWarning: Conversion of the second argument of issubdtype from `float` to `np.floating` is deprecated. In future, it will be treated as `np.float64 == np.dtype(float).type`.\n",
      "  from ._conv import register_converters as _register_converters\n"
     ]
    },
    {
     "name": "stdout",
     "output_type": "stream",
     "text": [
      "INFO:tensorflow:Restoring parameters from models/dialogue_embed/policy_0_EmbeddingPolicy/tensorflow_embedding.ckpt\n"
     ]
    },
    {
     "name": "stderr",
     "output_type": "stream",
     "text": [
      "/anaconda/lib/python3.6/site-packages/pykwalify/core.py:99: UnsafeLoaderWarning: \n",
      "The default 'Loader' for 'load(stream)' without further arguments can be unsafe.\n",
      "Use 'load(stream, Loader=ruamel.yaml.Loader)' explicitly if that is OK.\n",
      "Alternatively include the following in your code:\n",
      "\n",
      "  import warnings\n",
      "  warnings.simplefilter('ignore', ruamel.yaml.error.UnsafeLoaderWarning)\n",
      "\n",
      "In most other cases you should consider using 'safe_load(stream)'\n",
      "  data = yaml.load(stream)\n"
     ]
    },
    {
     "data": {
      "text/html": [
       "\n",
       "    <div class=\"bk-root\">\n",
       "        <a href=\"https://bokeh.pydata.org\" target=\"_blank\" class=\"bk-logo bk-logo-small bk-logo-notebook\"></a>\n",
       "        <span id=\"9963f290-8f3f-4f80-be14-48cb028ce516\">Loading BokehJS ...</span>\n",
       "    </div>"
      ]
     },
     "metadata": {},
     "output_type": "display_data"
    },
    {
     "data": {
      "application/javascript": [
       "\n",
       "(function(root) {\n",
       "  function now() {\n",
       "    return new Date();\n",
       "  }\n",
       "\n",
       "  var force = true;\n",
       "\n",
       "  if (typeof (root._bokeh_onload_callbacks) === \"undefined\" || force === true) {\n",
       "    root._bokeh_onload_callbacks = [];\n",
       "    root._bokeh_is_loading = undefined;\n",
       "  }\n",
       "\n",
       "  var JS_MIME_TYPE = 'application/javascript';\n",
       "  var HTML_MIME_TYPE = 'text/html';\n",
       "  var EXEC_MIME_TYPE = 'application/vnd.bokehjs_exec.v0+json';\n",
       "  var CLASS_NAME = 'output_bokeh rendered_html';\n",
       "\n",
       "  /**\n",
       "   * Render data to the DOM node\n",
       "   */\n",
       "  function render(props, node) {\n",
       "    var script = document.createElement(\"script\");\n",
       "    node.appendChild(script);\n",
       "  }\n",
       "\n",
       "  /**\n",
       "   * Handle when an output is cleared or removed\n",
       "   */\n",
       "  function handleClearOutput(event, handle) {\n",
       "    var cell = handle.cell;\n",
       "\n",
       "    var id = cell.output_area._bokeh_element_id;\n",
       "    var server_id = cell.output_area._bokeh_server_id;\n",
       "    // Clean up Bokeh references\n",
       "    if (id !== undefined) {\n",
       "      Bokeh.index[id].model.document.clear();\n",
       "      delete Bokeh.index[id];\n",
       "    }\n",
       "\n",
       "    if (server_id !== undefined) {\n",
       "      // Clean up Bokeh references\n",
       "      var cmd = \"from bokeh.io.state import curstate; print(curstate().uuid_to_server['\" + server_id + \"'].get_sessions()[0].document.roots[0]._id)\";\n",
       "      cell.notebook.kernel.execute(cmd, {\n",
       "        iopub: {\n",
       "          output: function(msg) {\n",
       "            var element_id = msg.content.text.trim();\n",
       "            Bokeh.index[element_id].model.document.clear();\n",
       "            delete Bokeh.index[element_id];\n",
       "          }\n",
       "        }\n",
       "      });\n",
       "      // Destroy server and session\n",
       "      var cmd = \"import bokeh.io.notebook as ion; ion.destroy_server('\" + server_id + \"')\";\n",
       "      cell.notebook.kernel.execute(cmd);\n",
       "    }\n",
       "  }\n",
       "\n",
       "  /**\n",
       "   * Handle when a new output is added\n",
       "   */\n",
       "  function handleAddOutput(event, handle) {\n",
       "    var output_area = handle.output_area;\n",
       "    var output = handle.output;\n",
       "\n",
       "    // limit handleAddOutput to display_data with EXEC_MIME_TYPE content only\n",
       "    if ((output.output_type != \"display_data\") || (!output.data.hasOwnProperty(EXEC_MIME_TYPE))) {\n",
       "      return\n",
       "    }\n",
       "\n",
       "    var toinsert = output_area.element.find(\".\" + CLASS_NAME.split(' ')[0]);\n",
       "\n",
       "    if (output.metadata[EXEC_MIME_TYPE][\"id\"] !== undefined) {\n",
       "      toinsert[toinsert.length - 1].firstChild.textContent = output.data[JS_MIME_TYPE];\n",
       "      // store reference to embed id on output_area\n",
       "      output_area._bokeh_element_id = output.metadata[EXEC_MIME_TYPE][\"id\"];\n",
       "    }\n",
       "    if (output.metadata[EXEC_MIME_TYPE][\"server_id\"] !== undefined) {\n",
       "      var bk_div = document.createElement(\"div\");\n",
       "      bk_div.innerHTML = output.data[HTML_MIME_TYPE];\n",
       "      var script_attrs = bk_div.children[0].attributes;\n",
       "      for (var i = 0; i < script_attrs.length; i++) {\n",
       "        toinsert[toinsert.length - 1].firstChild.setAttribute(script_attrs[i].name, script_attrs[i].value);\n",
       "      }\n",
       "      // store reference to server id on output_area\n",
       "      output_area._bokeh_server_id = output.metadata[EXEC_MIME_TYPE][\"server_id\"];\n",
       "    }\n",
       "  }\n",
       "\n",
       "  function register_renderer(events, OutputArea) {\n",
       "\n",
       "    function append_mime(data, metadata, element) {\n",
       "      // create a DOM node to render to\n",
       "      var toinsert = this.create_output_subarea(\n",
       "        metadata,\n",
       "        CLASS_NAME,\n",
       "        EXEC_MIME_TYPE\n",
       "      );\n",
       "      this.keyboard_manager.register_events(toinsert);\n",
       "      // Render to node\n",
       "      var props = {data: data, metadata: metadata[EXEC_MIME_TYPE]};\n",
       "      render(props, toinsert[toinsert.length - 1]);\n",
       "      element.append(toinsert);\n",
       "      return toinsert\n",
       "    }\n",
       "\n",
       "    /* Handle when an output is cleared or removed */\n",
       "    events.on('clear_output.CodeCell', handleClearOutput);\n",
       "    events.on('delete.Cell', handleClearOutput);\n",
       "\n",
       "    /* Handle when a new output is added */\n",
       "    events.on('output_added.OutputArea', handleAddOutput);\n",
       "\n",
       "    /**\n",
       "     * Register the mime type and append_mime function with output_area\n",
       "     */\n",
       "    OutputArea.prototype.register_mime_type(EXEC_MIME_TYPE, append_mime, {\n",
       "      /* Is output safe? */\n",
       "      safe: true,\n",
       "      /* Index of renderer in `output_area.display_order` */\n",
       "      index: 0\n",
       "    });\n",
       "  }\n",
       "\n",
       "  // register the mime type if in Jupyter Notebook environment and previously unregistered\n",
       "  if (root.Jupyter !== undefined) {\n",
       "    var events = require('base/js/events');\n",
       "    var OutputArea = require('notebook/js/outputarea').OutputArea;\n",
       "\n",
       "    if (OutputArea.prototype.mime_types().indexOf(EXEC_MIME_TYPE) == -1) {\n",
       "      register_renderer(events, OutputArea);\n",
       "    }\n",
       "  }\n",
       "\n",
       "  \n",
       "  if (typeof (root._bokeh_timeout) === \"undefined\" || force === true) {\n",
       "    root._bokeh_timeout = Date.now() + 5000;\n",
       "    root._bokeh_failed_load = false;\n",
       "  }\n",
       "\n",
       "  var NB_LOAD_WARNING = {'data': {'text/html':\n",
       "     \"<div style='background-color: #fdd'>\\n\"+\n",
       "     \"<p>\\n\"+\n",
       "     \"BokehJS does not appear to have successfully loaded. If loading BokehJS from CDN, this \\n\"+\n",
       "     \"may be due to a slow or bad network connection. Possible fixes:\\n\"+\n",
       "     \"</p>\\n\"+\n",
       "     \"<ul>\\n\"+\n",
       "     \"<li>re-rerun `output_notebook()` to attempt to load from CDN again, or</li>\\n\"+\n",
       "     \"<li>use INLINE resources instead, as so:</li>\\n\"+\n",
       "     \"</ul>\\n\"+\n",
       "     \"<code>\\n\"+\n",
       "     \"from bokeh.resources import INLINE\\n\"+\n",
       "     \"output_notebook(resources=INLINE)\\n\"+\n",
       "     \"</code>\\n\"+\n",
       "     \"</div>\"}};\n",
       "\n",
       "  function display_loaded() {\n",
       "    var el = document.getElementById(\"9963f290-8f3f-4f80-be14-48cb028ce516\");\n",
       "    if (el != null) {\n",
       "      el.textContent = \"BokehJS is loading...\";\n",
       "    }\n",
       "    if (root.Bokeh !== undefined) {\n",
       "      if (el != null) {\n",
       "        el.textContent = \"BokehJS \" + root.Bokeh.version + \" successfully loaded.\";\n",
       "      }\n",
       "    } else if (Date.now() < root._bokeh_timeout) {\n",
       "      setTimeout(display_loaded, 100)\n",
       "    }\n",
       "  }\n",
       "\n",
       "\n",
       "  function run_callbacks() {\n",
       "    try {\n",
       "      root._bokeh_onload_callbacks.forEach(function(callback) { callback() });\n",
       "    }\n",
       "    finally {\n",
       "      delete root._bokeh_onload_callbacks\n",
       "    }\n",
       "    console.info(\"Bokeh: all callbacks have finished\");\n",
       "  }\n",
       "\n",
       "  function load_libs(js_urls, callback) {\n",
       "    root._bokeh_onload_callbacks.push(callback);\n",
       "    if (root._bokeh_is_loading > 0) {\n",
       "      console.log(\"Bokeh: BokehJS is being loaded, scheduling callback at\", now());\n",
       "      return null;\n",
       "    }\n",
       "    if (js_urls == null || js_urls.length === 0) {\n",
       "      run_callbacks();\n",
       "      return null;\n",
       "    }\n",
       "    console.log(\"Bokeh: BokehJS not loaded, scheduling load and callback at\", now());\n",
       "    root._bokeh_is_loading = js_urls.length;\n",
       "    for (var i = 0; i < js_urls.length; i++) {\n",
       "      var url = js_urls[i];\n",
       "      var s = document.createElement('script');\n",
       "      s.src = url;\n",
       "      s.async = false;\n",
       "      s.onreadystatechange = s.onload = function() {\n",
       "        root._bokeh_is_loading--;\n",
       "        if (root._bokeh_is_loading === 0) {\n",
       "          console.log(\"Bokeh: all BokehJS libraries loaded\");\n",
       "          run_callbacks()\n",
       "        }\n",
       "      };\n",
       "      s.onerror = function() {\n",
       "        console.warn(\"failed to load library \" + url);\n",
       "      };\n",
       "      console.log(\"Bokeh: injecting script tag for BokehJS library: \", url);\n",
       "      document.getElementsByTagName(\"head\")[0].appendChild(s);\n",
       "    }\n",
       "  };var element = document.getElementById(\"9963f290-8f3f-4f80-be14-48cb028ce516\");\n",
       "  if (element == null) {\n",
       "    console.log(\"Bokeh: ERROR: autoload.js configured with elementid '9963f290-8f3f-4f80-be14-48cb028ce516' but no matching script tag was found. \")\n",
       "    return false;\n",
       "  }\n",
       "\n",
       "  var js_urls = [\"https://cdn.pydata.org/bokeh/release/bokeh-0.12.15.min.js\", \"https://cdn.pydata.org/bokeh/release/bokeh-widgets-0.12.15.min.js\", \"https://cdn.pydata.org/bokeh/release/bokeh-tables-0.12.15.min.js\", \"https://cdn.pydata.org/bokeh/release/bokeh-gl-0.12.15.min.js\"];\n",
       "\n",
       "  var inline_js = [\n",
       "    function(Bokeh) {\n",
       "      Bokeh.set_log_level(\"info\");\n",
       "    },\n",
       "    \n",
       "    function(Bokeh) {\n",
       "      \n",
       "    },\n",
       "    function(Bokeh) {\n",
       "      console.log(\"Bokeh: injecting CSS: https://cdn.pydata.org/bokeh/release/bokeh-0.12.15.min.css\");\n",
       "      Bokeh.embed.inject_css(\"https://cdn.pydata.org/bokeh/release/bokeh-0.12.15.min.css\");\n",
       "      console.log(\"Bokeh: injecting CSS: https://cdn.pydata.org/bokeh/release/bokeh-widgets-0.12.15.min.css\");\n",
       "      Bokeh.embed.inject_css(\"https://cdn.pydata.org/bokeh/release/bokeh-widgets-0.12.15.min.css\");\n",
       "      console.log(\"Bokeh: injecting CSS: https://cdn.pydata.org/bokeh/release/bokeh-tables-0.12.15.min.css\");\n",
       "      Bokeh.embed.inject_css(\"https://cdn.pydata.org/bokeh/release/bokeh-tables-0.12.15.min.css\");\n",
       "    }\n",
       "  ];\n",
       "\n",
       "  function run_inline_js() {\n",
       "    \n",
       "    if ((root.Bokeh !== undefined) || (force === true)) {\n",
       "      for (var i = 0; i < inline_js.length; i++) {\n",
       "        inline_js[i].call(root, root.Bokeh);\n",
       "      }if (force === true) {\n",
       "        display_loaded();\n",
       "      }} else if (Date.now() < root._bokeh_timeout) {\n",
       "      setTimeout(run_inline_js, 100);\n",
       "    } else if (!root._bokeh_failed_load) {\n",
       "      console.log(\"Bokeh: BokehJS failed to load within specified timeout.\");\n",
       "      root._bokeh_failed_load = true;\n",
       "    } else if (force !== true) {\n",
       "      var cell = $(document.getElementById(\"9963f290-8f3f-4f80-be14-48cb028ce516\")).parents('.cell').data().cell;\n",
       "      cell.output_area.append_execute_result(NB_LOAD_WARNING)\n",
       "    }\n",
       "\n",
       "  }\n",
       "\n",
       "  if (root._bokeh_is_loading === 0) {\n",
       "    console.log(\"Bokeh: BokehJS loaded, going straight to plotting\");\n",
       "    run_inline_js();\n",
       "  } else {\n",
       "    load_libs(js_urls, function() {\n",
       "      console.log(\"Bokeh: BokehJS plotting callback run at\", now());\n",
       "      run_inline_js();\n",
       "    });\n",
       "  }\n",
       "}(window));"
      ],
      "application/vnd.bokehjs_load.v0+json": "\n(function(root) {\n  function now() {\n    return new Date();\n  }\n\n  var force = true;\n\n  if (typeof (root._bokeh_onload_callbacks) === \"undefined\" || force === true) {\n    root._bokeh_onload_callbacks = [];\n    root._bokeh_is_loading = undefined;\n  }\n\n  \n\n  \n  if (typeof (root._bokeh_timeout) === \"undefined\" || force === true) {\n    root._bokeh_timeout = Date.now() + 5000;\n    root._bokeh_failed_load = false;\n  }\n\n  var NB_LOAD_WARNING = {'data': {'text/html':\n     \"<div style='background-color: #fdd'>\\n\"+\n     \"<p>\\n\"+\n     \"BokehJS does not appear to have successfully loaded. If loading BokehJS from CDN, this \\n\"+\n     \"may be due to a slow or bad network connection. Possible fixes:\\n\"+\n     \"</p>\\n\"+\n     \"<ul>\\n\"+\n     \"<li>re-rerun `output_notebook()` to attempt to load from CDN again, or</li>\\n\"+\n     \"<li>use INLINE resources instead, as so:</li>\\n\"+\n     \"</ul>\\n\"+\n     \"<code>\\n\"+\n     \"from bokeh.resources import INLINE\\n\"+\n     \"output_notebook(resources=INLINE)\\n\"+\n     \"</code>\\n\"+\n     \"</div>\"}};\n\n  function display_loaded() {\n    var el = document.getElementById(\"9963f290-8f3f-4f80-be14-48cb028ce516\");\n    if (el != null) {\n      el.textContent = \"BokehJS is loading...\";\n    }\n    if (root.Bokeh !== undefined) {\n      if (el != null) {\n        el.textContent = \"BokehJS \" + root.Bokeh.version + \" successfully loaded.\";\n      }\n    } else if (Date.now() < root._bokeh_timeout) {\n      setTimeout(display_loaded, 100)\n    }\n  }\n\n\n  function run_callbacks() {\n    try {\n      root._bokeh_onload_callbacks.forEach(function(callback) { callback() });\n    }\n    finally {\n      delete root._bokeh_onload_callbacks\n    }\n    console.info(\"Bokeh: all callbacks have finished\");\n  }\n\n  function load_libs(js_urls, callback) {\n    root._bokeh_onload_callbacks.push(callback);\n    if (root._bokeh_is_loading > 0) {\n      console.log(\"Bokeh: BokehJS is being loaded, scheduling callback at\", now());\n      return null;\n    }\n    if (js_urls == null || js_urls.length === 0) {\n      run_callbacks();\n      return null;\n    }\n    console.log(\"Bokeh: BokehJS not loaded, scheduling load and callback at\", now());\n    root._bokeh_is_loading = js_urls.length;\n    for (var i = 0; i < js_urls.length; i++) {\n      var url = js_urls[i];\n      var s = document.createElement('script');\n      s.src = url;\n      s.async = false;\n      s.onreadystatechange = s.onload = function() {\n        root._bokeh_is_loading--;\n        if (root._bokeh_is_loading === 0) {\n          console.log(\"Bokeh: all BokehJS libraries loaded\");\n          run_callbacks()\n        }\n      };\n      s.onerror = function() {\n        console.warn(\"failed to load library \" + url);\n      };\n      console.log(\"Bokeh: injecting script tag for BokehJS library: \", url);\n      document.getElementsByTagName(\"head\")[0].appendChild(s);\n    }\n  };var element = document.getElementById(\"9963f290-8f3f-4f80-be14-48cb028ce516\");\n  if (element == null) {\n    console.log(\"Bokeh: ERROR: autoload.js configured with elementid '9963f290-8f3f-4f80-be14-48cb028ce516' but no matching script tag was found. \")\n    return false;\n  }\n\n  var js_urls = [\"https://cdn.pydata.org/bokeh/release/bokeh-0.12.15.min.js\", \"https://cdn.pydata.org/bokeh/release/bokeh-widgets-0.12.15.min.js\", \"https://cdn.pydata.org/bokeh/release/bokeh-tables-0.12.15.min.js\", \"https://cdn.pydata.org/bokeh/release/bokeh-gl-0.12.15.min.js\"];\n\n  var inline_js = [\n    function(Bokeh) {\n      Bokeh.set_log_level(\"info\");\n    },\n    \n    function(Bokeh) {\n      \n    },\n    function(Bokeh) {\n      console.log(\"Bokeh: injecting CSS: https://cdn.pydata.org/bokeh/release/bokeh-0.12.15.min.css\");\n      Bokeh.embed.inject_css(\"https://cdn.pydata.org/bokeh/release/bokeh-0.12.15.min.css\");\n      console.log(\"Bokeh: injecting CSS: https://cdn.pydata.org/bokeh/release/bokeh-widgets-0.12.15.min.css\");\n      Bokeh.embed.inject_css(\"https://cdn.pydata.org/bokeh/release/bokeh-widgets-0.12.15.min.css\");\n      console.log(\"Bokeh: injecting CSS: https://cdn.pydata.org/bokeh/release/bokeh-tables-0.12.15.min.css\");\n      Bokeh.embed.inject_css(\"https://cdn.pydata.org/bokeh/release/bokeh-tables-0.12.15.min.css\");\n    }\n  ];\n\n  function run_inline_js() {\n    \n    if ((root.Bokeh !== undefined) || (force === true)) {\n      for (var i = 0; i < inline_js.length; i++) {\n        inline_js[i].call(root, root.Bokeh);\n      }if (force === true) {\n        display_loaded();\n      }} else if (Date.now() < root._bokeh_timeout) {\n      setTimeout(run_inline_js, 100);\n    } else if (!root._bokeh_failed_load) {\n      console.log(\"Bokeh: BokehJS failed to load within specified timeout.\");\n      root._bokeh_failed_load = true;\n    } else if (force !== true) {\n      var cell = $(document.getElementById(\"9963f290-8f3f-4f80-be14-48cb028ce516\")).parents('.cell').data().cell;\n      cell.output_area.append_execute_result(NB_LOAD_WARNING)\n    }\n\n  }\n\n  if (root._bokeh_is_loading === 0) {\n    console.log(\"Bokeh: BokehJS loaded, going straight to plotting\");\n    run_inline_js();\n  } else {\n    load_libs(js_urls, function() {\n      console.log(\"Bokeh: BokehJS plotting callback run at\", now());\n      run_inline_js();\n    });\n  }\n}(window));"
     },
     "metadata": {},
     "output_type": "display_data"
    }
   ],
   "source": [
    "import rasa_core\n",
    "from rasa_core.agent import Agent\n",
    "from bokeh.io import output_notebook\n",
    "agent = Agent.load(\"models/dialogue_embed\")\n",
    "# agent = Agent.load(\"models/dialogue_embed_before_norm_loss\")\n",
    "output_notebook()"
   ]
  },
  {
   "cell_type": "code",
   "execution_count": 2,
   "metadata": {},
   "outputs": [],
   "source": [
    "policy = agent.policy_ensemble.policies[0]\n",
    "interpreter = agent.interpreter"
   ]
  },
  {
   "cell_type": "code",
   "execution_count": 3,
   "metadata": {},
   "outputs": [],
   "source": [
    "domain = agent.domain\n"
   ]
  },
  {
   "cell_type": "code",
   "execution_count": 4,
   "metadata": {},
   "outputs": [],
   "source": [
    "from rasa_core.training.structures import StoryGraph\n",
    "from rasa_core.training.dsl import StoryFileReader\n",
    "from rasa_core.trackers import DialogueStateTracker\n",
    "from rasa_core.channels import UserMessage\n",
    "import numpy as np\n",
    "\n",
    "def embedding_from_tracker(story, bot=False):\n",
    "    reader = StoryFileReader(domain, interpreter)\n",
    "    story = story.split('\\n')\n",
    "    story_steps = reader.process_lines(story)\n",
    "#     story_graph = StoryGraph(story_steps)\n",
    "    tracker = DialogueStateTracker(\n",
    "            1,\n",
    "            domain.slots\n",
    "    )\n",
    "    tracker._reset()\n",
    "    for step in story_steps:\n",
    "        events = step.explicit_events(domain)\n",
    "        for event in events:\n",
    "            tracker.update(event)\n",
    "    data_X = policy.featurizer.create_X([tracker], domain)\n",
    "\n",
    "    X, slots, prev_act = policy._create_X_slots_prev_acts(data_X)\n",
    "    all_Y_d = policy._create_all_Y_d(X.shape[1])\n",
    "    all_Y_d_x = np.stack([all_Y_d for _ in range(X.shape[0])])\n",
    "    dial_vec = policy.session.run(policy.dial_embed, feed_dict={policy.a_in: X,\n",
    "                                           policy.b_in: all_Y_d_x,\n",
    "                                           policy.c_in: slots,\n",
    "                                           policy.b_prev_in: prev_act})\n",
    "    bot_vec = policy.session.run(policy.bot_embed, feed_dict={policy.a_in: X,\n",
    "                                           policy.b_in: all_Y_d_x,\n",
    "                                           policy.c_in: slots,\n",
    "                                           policy.b_prev_in: prev_act})\n",
    "\n",
    "    no_skip_gate = policy.session.run(policy.no_skip_gate, feed_dict={policy.a_in: X,\n",
    "                                           policy.b_in: all_Y_d_x,\n",
    "                                           policy.c_in: slots,\n",
    "                                           policy.b_prev_in: prev_act})\n",
    "    attn_embed = policy.session.run(policy.attn_embed, feed_dict={policy.a_in: X,\n",
    "                                           policy.b_in: all_Y_d_x,\n",
    "                                           policy.c_in: slots,\n",
    "                                           policy.b_prev_in: prev_act})\n",
    "    rnn_embed = policy.session.run(policy.rnn_embed, feed_dict={policy.a_in: X,\n",
    "                                           policy.b_in: all_Y_d_x,\n",
    "                                           policy.c_in: slots,\n",
    "                                           policy.b_prev_in: prev_act})\n",
    "    probs = policy.session.run(policy.alignment_history, feed_dict={policy.a_in: X,\n",
    "                                           policy.b_in: all_Y_d_x,\n",
    "                                           policy.c_in: slots,\n",
    "                                           policy.b_prev_in: prev_act})\n",
    "    \n",
    "    del tracker\n",
    "#     print(np.shape(dial_vec))\n",
    "    if bot is False:\n",
    "        return (dial_vec[0,-2,:],\n",
    "                no_skip_gate[0,-2,:],\n",
    "                attn_embed[0,-2,:],\n",
    "                rnn_embed[0,-2,:],\n",
    "                probs[1][0,-2,:])\n",
    "    else:\n",
    "        return bot_vec\n",
    "    \n",
    "def make_prediction(story):\n",
    "    dial, _,_,_,_ = embedding_from_tracker(story, bot=False)\n",
    "    bot = embedding_from_tracker(story, bot=True)[0,-2,:,:]\n",
    "    abs_vals = np.array([np.absolute(vec) for vec in bot])\n",
    "    norms = np.apply_along_axis(np.linalg.norm, 1, bot)\n",
    "    return domain.action_for_index(np.argmax(np.dot(bot, dial)/norms)).name()\n",
    "#     print(dial.shape, bot.shape)"
   ]
  },
  {
   "cell_type": "code",
   "execution_count": 5,
   "metadata": {},
   "outputs": [
    {
     "name": "stdout",
     "output_type": "stream",
     "text": [
      "47\n",
      "27\n",
      "(20,)\n"
     ]
    }
   ],
   "source": [
    "# print(domain.intents)\n",
    "story_block = \"\"\"* request_hotel\n",
    "    - utter_ask_details\n",
    "* explain\n",
    "    - utter_explain_details_hotel\n",
    "    - utter_ask_details\n",
    "* chitchat\n",
    "    - utter_chitchat\n",
    "    - utter_ask_details\n",
    "* inform{\"enddate\": \"May 26th\"}\n",
    "    - slot{\"enddate\": \"May 26th\"}\n",
    "    - utter_ask_startdate\n",
    "* inform{\"startdate\": \"next week\"}\n",
    "    - slot{\"startdate\": \"next week\"}\n",
    "    - utter_ask_location\n",
    "* explain\n",
    "    - utter_explain_location_hotel\n",
    "    - utter_ask_location\n",
    "* inform{\"location\": \"rome\"}\n",
    "    - slot{\"location\": \"rome\"}\n",
    "    - utter_ask_price\n",
    "* chitchat\n",
    "    - utter_chitchat\n",
    "    - utter_ask_price\n",
    "* chitchat\n",
    "    - utter_chitchat\n",
    "    - utter_ask_price\n",
    "* chitchat\n",
    "    - utter_chitchat\n",
    "    - utter_ask_price\n",
    "* chitchat\n",
    "    - utter_chitchat\n",
    "    - utter_ask_price\n",
    "* explain\n",
    "    - utter_explain_price_hotel\n",
    "    - utter_ask_price\n",
    "* inform{\"price\": \"expensive\"}\n",
    "    - utter_ask_people\n",
    "* inform{\"people\": \"4\"}\n",
    "    - utter_filled_slots\n",
    "    - action_search_hotel\n",
    "    - slot{\"hotel\": \"hotel\"}\n",
    "    - utter_suggest_hotel\n",
    "* chitchat\n",
    "    - utter_chitchat\n",
    "    - utter_suggest_hotel\n",
    "* affirm\n",
    "    - utter_happy\"\"\"\n",
    "print(len(story_block.split('\\n')))\n",
    "cool_list = []\n",
    "lines = story_block.split('\\n')\n",
    "for idx, line in enumerate(lines):\n",
    "    if idx == len(lines)-1:\n",
    "        continue\n",
    "    if '*' in lines[idx+1] or 'slot{' in lines[idx+1]:# or 'slot{' in line:\n",
    "        continue\n",
    "    sub_story = '\\n'.join(lines[:idx+1])\n",
    "    (dial, not_skip, attn, rnn, probs\n",
    "    ) = embedding_from_tracker(\"#generate story\\n{}\".format(sub_story))\n",
    "    pred = make_prediction(\"#generate story\\n{}\".format(sub_story))\n",
    "    cool_list.append((lines[idx+1], dial, pred, not_skip, attn[20:40], rnn, probs))\n",
    "\n",
    "print(len(cool_list))\n",
    "print(cool_list[0][4].shape)\n",
    "#     break\n",
    "# dial = embedding_from_tracker(\"#generate story\\n{}\".format(story_block)\n",
    "# )\n",
    "# print(dial.shape)\n",
    "# print(len(story_block.split('\\n')))"
   ]
  },
  {
   "cell_type": "code",
   "execution_count": 6,
   "metadata": {},
   "outputs": [
    {
     "data": {
      "text/plain": [
       "('    - utter_explain_details_hotel',\n",
       " array([-0.0432907 ,  0.06513008, -0.00712168,  0.02066339,  0.06690186,\n",
       "         0.03483723,  0.02159677,  0.08698179, -0.01871373, -0.0201348 ,\n",
       "         0.13028681,  0.00215227,  0.03920025,  0.05124117,  0.09100322,\n",
       "         0.0725673 , -0.03994236,  0.14815561,  0.02143369, -0.10926709],\n",
       "       dtype=float32),\n",
       " 'utter_explain_people_hotel',\n",
       " array([0.32197106], dtype=float32),\n",
       " array([-0.05858129,  0.01866034, -0.0818681 ,  0.02972221,  0.03072887,\n",
       "        -0.04745651,  0.04847497,  0.09474439, -0.02762125, -0.02950802,\n",
       "         0.10268139, -0.03060012,  0.04112653,  0.04928302,  0.04970276,\n",
       "         0.0629606 , -0.06304303,  0.06870931,  0.10770408, -0.03945147],\n",
       "       dtype=float32),\n",
       " array([ 0.0152906 ,  0.04646975,  0.07474642, -0.00905882,  0.03617299,\n",
       "         0.08229373, -0.0268782 , -0.00776261,  0.00890752,  0.00937323,\n",
       "         0.02760542,  0.03275239, -0.00192629,  0.00195816,  0.04130046,\n",
       "         0.0096067 ,  0.02310067,  0.0794463 , -0.08627039, -0.06981563],\n",
       "       dtype=float32),\n",
       " array([0.6915357 , 0.1532898 , 0.01162102, 0.1435535 , 0.        ],\n",
       "       dtype=float32))"
      ]
     },
     "execution_count": 6,
     "metadata": {},
     "output_type": "execute_result"
    }
   ],
   "source": [
    "cool_list[1]"
   ]
  },
  {
   "cell_type": "code",
   "execution_count": 7,
   "metadata": {},
   "outputs": [],
   "source": [
    "from sklearn.decomposition import PCA"
   ]
  },
  {
   "cell_type": "code",
   "execution_count": 8,
   "metadata": {},
   "outputs": [],
   "source": [
    "pca = PCA(n_components=2)\n",
    "X = pca.fit_transform([ting[1] for ting in cool_list])"
   ]
  },
  {
   "cell_type": "code",
   "execution_count": 9,
   "metadata": {},
   "outputs": [],
   "source": [
    "from bokeh.plotting import figure, show\n",
    "import matplotlib.pyplot as plt"
   ]
  },
  {
   "cell_type": "code",
   "execution_count": 10,
   "metadata": {},
   "outputs": [],
   "source": [
    "embed_dim = cool_list[0][1].shape[0]\n"
   ]
  },
  {
   "cell_type": "code",
   "execution_count": 11,
   "metadata": {},
   "outputs": [
    {
     "data": {
      "text/html": [
       "<div style=\"display: table;\"><div style=\"display: table-row;\"><div style=\"display: table-cell;\"><b title=\"bokeh.models.renderers.GlyphRenderer\">GlyphRenderer</b>(</div><div style=\"display: table-cell;\">id&nbsp;=&nbsp;'21210a08-6731-4808-a912-c155e36ba33b', <span id=\"d9ce5b52-3b5d-4e0e-a9d5-527470a364b7\" style=\"cursor: pointer;\">&hellip;)</span></div></div><div class=\"19386b76-6c9f-478b-9871-8c165e5c22cb\" style=\"display: none;\"><div style=\"display: table-cell;\"></div><div style=\"display: table-cell;\">data_source&nbsp;=&nbsp;ColumnDataSource(id='52238440-7f7f-4c42-b254-38607fcc47ca', ...),</div></div><div class=\"19386b76-6c9f-478b-9871-8c165e5c22cb\" style=\"display: none;\"><div style=\"display: table-cell;\"></div><div style=\"display: table-cell;\">glyph&nbsp;=&nbsp;Circle(id='2cecb8f4-811c-41c3-a527-30bbcf6870fe', ...),</div></div><div class=\"19386b76-6c9f-478b-9871-8c165e5c22cb\" style=\"display: none;\"><div style=\"display: table-cell;\"></div><div style=\"display: table-cell;\">hover_glyph&nbsp;=&nbsp;None,</div></div><div class=\"19386b76-6c9f-478b-9871-8c165e5c22cb\" style=\"display: none;\"><div style=\"display: table-cell;\"></div><div style=\"display: table-cell;\">js_event_callbacks&nbsp;=&nbsp;{},</div></div><div class=\"19386b76-6c9f-478b-9871-8c165e5c22cb\" style=\"display: none;\"><div style=\"display: table-cell;\"></div><div style=\"display: table-cell;\">js_property_callbacks&nbsp;=&nbsp;{},</div></div><div class=\"19386b76-6c9f-478b-9871-8c165e5c22cb\" style=\"display: none;\"><div style=\"display: table-cell;\"></div><div style=\"display: table-cell;\">level&nbsp;=&nbsp;'glyph',</div></div><div class=\"19386b76-6c9f-478b-9871-8c165e5c22cb\" style=\"display: none;\"><div style=\"display: table-cell;\"></div><div style=\"display: table-cell;\">muted&nbsp;=&nbsp;False,</div></div><div class=\"19386b76-6c9f-478b-9871-8c165e5c22cb\" style=\"display: none;\"><div style=\"display: table-cell;\"></div><div style=\"display: table-cell;\">muted_glyph&nbsp;=&nbsp;None,</div></div><div class=\"19386b76-6c9f-478b-9871-8c165e5c22cb\" style=\"display: none;\"><div style=\"display: table-cell;\"></div><div style=\"display: table-cell;\">name&nbsp;=&nbsp;None,</div></div><div class=\"19386b76-6c9f-478b-9871-8c165e5c22cb\" style=\"display: none;\"><div style=\"display: table-cell;\"></div><div style=\"display: table-cell;\">nonselection_glyph&nbsp;=&nbsp;Circle(id='54962404-302a-4cc6-bdf4-b4ee2512d3de', ...),</div></div><div class=\"19386b76-6c9f-478b-9871-8c165e5c22cb\" style=\"display: none;\"><div style=\"display: table-cell;\"></div><div style=\"display: table-cell;\">selection_glyph&nbsp;=&nbsp;None,</div></div><div class=\"19386b76-6c9f-478b-9871-8c165e5c22cb\" style=\"display: none;\"><div style=\"display: table-cell;\"></div><div style=\"display: table-cell;\">subscribed_events&nbsp;=&nbsp;[],</div></div><div class=\"19386b76-6c9f-478b-9871-8c165e5c22cb\" style=\"display: none;\"><div style=\"display: table-cell;\"></div><div style=\"display: table-cell;\">tags&nbsp;=&nbsp;[],</div></div><div class=\"19386b76-6c9f-478b-9871-8c165e5c22cb\" style=\"display: none;\"><div style=\"display: table-cell;\"></div><div style=\"display: table-cell;\">view&nbsp;=&nbsp;CDSView(id='42786744-d27e-426b-955d-4c6c4783139f', ...),</div></div><div class=\"19386b76-6c9f-478b-9871-8c165e5c22cb\" style=\"display: none;\"><div style=\"display: table-cell;\"></div><div style=\"display: table-cell;\">visible&nbsp;=&nbsp;True,</div></div><div class=\"19386b76-6c9f-478b-9871-8c165e5c22cb\" style=\"display: none;\"><div style=\"display: table-cell;\"></div><div style=\"display: table-cell;\">x_range_name&nbsp;=&nbsp;'default',</div></div><div class=\"19386b76-6c9f-478b-9871-8c165e5c22cb\" style=\"display: none;\"><div style=\"display: table-cell;\"></div><div style=\"display: table-cell;\">y_range_name&nbsp;=&nbsp;'default')</div></div></div>\n",
       "<script>\n",
       "(function() {\n",
       "  var expanded = false;\n",
       "  var ellipsis = document.getElementById(\"d9ce5b52-3b5d-4e0e-a9d5-527470a364b7\");\n",
       "  ellipsis.addEventListener(\"click\", function() {\n",
       "    var rows = document.getElementsByClassName(\"19386b76-6c9f-478b-9871-8c165e5c22cb\");\n",
       "    for (var i = 0; i < rows.length; i++) {\n",
       "      var el = rows[i];\n",
       "      el.style.display = expanded ? \"none\" : \"table-row\";\n",
       "    }\n",
       "    ellipsis.innerHTML = expanded ? \"&hellip;)\" : \"&lsaquo;&lsaquo;&lsaquo;\";\n",
       "    expanded = !expanded;\n",
       "  });\n",
       "})();\n",
       "</script>\n"
      ],
      "text/plain": [
       "GlyphRenderer(id='21210a08-6731-4808-a912-c155e36ba33b', ...)"
      ]
     },
     "execution_count": 11,
     "metadata": {},
     "output_type": "execute_result"
    }
   ],
   "source": [
    "from bokeh.plotting import figure, output_file, show, ColumnDataSource\n",
    "from bokeh.models import HoverTool, Arrow, OpenHead\n",
    "\n",
    "hover = HoverTool(tooltips=[(\"true action\",\"@desc\"), (\"prediction\", \"@pred\"),\n",
    "                            (\"not_skip_gate\", \"@not_skip\")],names=['circle'])\n",
    "p = figure( tools=[hover])\n",
    "\n",
    "for i in range(1, len(X)):\n",
    "    p.add_layout(Arrow(end=OpenHead(line_color=\"firebrick\", size=10, line_width=2),\n",
    "                       x_start=X[i-1,0], y_start=X[i-1,1],\n",
    "                       x_end=X[i,0], y_end=X[i,1], line_color='gray'))\n",
    "\n",
    "source = ColumnDataSource(data=dict(\n",
    "    x=X[:,0],\n",
    "    y=X[:,1],\n",
    "    desc=[ting[0] for ting in cool_list],\n",
    "    pred = [ting[2] for ting in cool_list],\n",
    "    not_skip = [ting[3] for ting in cool_list]\n",
    "))\n",
    "p.circle('x','y', source=source, size=10, name='circle')\n",
    "# p.line(X[:,0], X[:,1])\n",
    "\n",
    "X1 = pca.transform([ting[4] for ting in cool_list])\n",
    "source = ColumnDataSource(data=dict(\n",
    "    x=X1[:,0],\n",
    "    y=X1[:,1],\n",
    "    desc=[ting[0] for ting in cool_list],\n",
    "    pred = [ting[2] for ting in cool_list],\n",
    "    not_skip = [ting[3] for ting in cool_list]\n",
    "))\n",
    "p.circle('x','y', source=source, size=5, color='green', name='circle')\n",
    "\n",
    "X2 = pca.transform([ting[5] for ting in cool_list])\n",
    "source = ColumnDataSource(data=dict(\n",
    "    x=X2[:,0],\n",
    "    y=X2[:,1],\n",
    "    desc=[ting[0] for ting in cool_list],\n",
    "    pred = [ting[2] for ting in cool_list],\n",
    "    not_skip = [ting[3] for ting in cool_list]\n",
    "))\n",
    "p.circle('x','y', source=source, size=5, color='red', name='circle')\n",
    "\n",
    "x = pca.transform(np.zeros((1,embed_dim)))\n",
    "p.circle(x[0,0], x[0,1], size=5, color='magenta')\n",
    "p.circle(X[0,0], X[0,1], size=10, color='green')\n",
    "p.circle(X[-1,0], X[-1,1], size=10, color='red')\n"
   ]
  },
  {
   "cell_type": "code",
   "execution_count": 12,
   "metadata": {},
   "outputs": [
    {
     "data": {
      "text/html": [
       "\n",
       "<div class=\"bk-root\">\n",
       "    <div class=\"bk-plotdiv\" id=\"066dce99-9dec-43b2-9b4b-40222ecd98ff\"></div>\n",
       "</div>"
      ]
     },
     "metadata": {},
     "output_type": "display_data"
    },
    {
     "data": {
      "application/javascript": [
       "(function(root) {\n",
       "  function embed_document(root) {\n",
       "    \n",
       "  var docs_json = {\"583934fc-d6b8-44e7-9c4d-91bb589850de\":{\"roots\":{\"references\":[{\"attributes\":{\"line_color\":{\"value\":\"firebrick\"},\"line_width\":{\"value\":2},\"plot\":null,\"size\":10},\"id\":\"dff66178-2db3-42b3-afc4-ccc82741deae\",\"type\":\"OpenHead\"},{\"attributes\":{\"line_color\":{\"value\":\"firebrick\"},\"line_width\":{\"value\":2},\"plot\":null,\"size\":10},\"id\":\"61e48e50-8571-4d3e-8a23-a0b78f9de297\",\"type\":\"OpenHead\"},{\"attributes\":{\"line_color\":{\"value\":\"firebrick\"},\"line_width\":{\"value\":2},\"plot\":null,\"size\":10},\"id\":\"fcfef345-8034-4c15-835d-bddf733dc527\",\"type\":\"OpenHead\"},{\"attributes\":{\"end\":{\"id\":\"dff66178-2db3-42b3-afc4-ccc82741deae\",\"type\":\"OpenHead\"},\"line_color\":{\"value\":\"gray\"},\"plot\":{\"id\":\"ebc1d307-a82a-4cc9-b563-b02177b22a01\",\"subtype\":\"Figure\",\"type\":\"Plot\"},\"source\":null,\"start\":null,\"x_end\":{\"value\":0.036393301359868124},\"x_start\":{\"value\":-0.09764738361366812},\"y_end\":{\"value\":0.21471530287649396},\"y_start\":{\"value\":-0.048547245979970524}},\"id\":\"786fbed3-874a-4bea-8b24-4498d79a34d1\",\"type\":\"Arrow\"},{\"attributes\":{\"line_color\":{\"value\":\"firebrick\"},\"line_width\":{\"value\":2},\"plot\":null,\"size\":10},\"id\":\"df209def-63b6-4c99-bc47-c0aee59e1e66\",\"type\":\"OpenHead\"},{\"attributes\":{\"end\":{\"id\":\"61e48e50-8571-4d3e-8a23-a0b78f9de297\",\"type\":\"OpenHead\"},\"line_color\":{\"value\":\"gray\"},\"plot\":{\"id\":\"ebc1d307-a82a-4cc9-b563-b02177b22a01\",\"subtype\":\"Figure\",\"type\":\"Plot\"},\"source\":null,\"start\":null,\"x_end\":{\"value\":-0.03427472151108273},\"x_start\":{\"value\":-0.007589318734127639},\"y_end\":{\"value\":-0.01623054882880976},\"y_start\":{\"value\":-0.0037976804333061352}},\"id\":\"6e8b4069-2820-4d1d-8ab5-05a9b07949fd\",\"type\":\"Arrow\"},{\"attributes\":{\"line_color\":{\"value\":\"firebrick\"},\"line_width\":{\"value\":2},\"plot\":null,\"size\":10},\"id\":\"09d94a44-ece9-4ec9-a931-ed12908d617a\",\"type\":\"OpenHead\"},{\"attributes\":{\"end\":{\"id\":\"fcfef345-8034-4c15-835d-bddf733dc527\",\"type\":\"OpenHead\"},\"line_color\":{\"value\":\"gray\"},\"plot\":{\"id\":\"ebc1d307-a82a-4cc9-b563-b02177b22a01\",\"subtype\":\"Figure\",\"type\":\"Plot\"},\"source\":null,\"start\":null,\"x_end\":{\"value\":0.21903255395773524},\"x_start\":{\"value\":0.036393301359868124},\"y_end\":{\"value\":-0.10128510390376444},\"y_start\":{\"value\":0.21471530287649396}},\"id\":\"82ae6bc0-621f-45c3-85bb-b7c85ab11aaf\",\"type\":\"Arrow\"},{\"attributes\":{\"line_color\":{\"value\":\"firebrick\"},\"line_width\":{\"value\":2},\"plot\":null,\"size\":10},\"id\":\"294c6379-4652-4d5f-950f-ef7ec35ba720\",\"type\":\"OpenHead\"},{\"attributes\":{\"end\":{\"id\":\"df209def-63b6-4c99-bc47-c0aee59e1e66\",\"type\":\"OpenHead\"},\"line_color\":{\"value\":\"gray\"},\"plot\":{\"id\":\"ebc1d307-a82a-4cc9-b563-b02177b22a01\",\"subtype\":\"Figure\",\"type\":\"Plot\"},\"source\":null,\"start\":null,\"x_end\":{\"value\":-0.18614684275338242},\"x_start\":{\"value\":0.21903255395773524},\"y_end\":{\"value\":-0.13296653458904584},\"y_start\":{\"value\":-0.10128510390376444}},\"id\":\"17c37ce6-e883-4116-94aa-d0fb1e4ac333\",\"type\":\"Arrow\"},{\"attributes\":{\"line_color\":{\"value\":\"firebrick\"},\"line_width\":{\"value\":2},\"plot\":null,\"size\":10},\"id\":\"bbdb7c1f-cebb-478d-9b65-0671ea000270\",\"type\":\"OpenHead\"},{\"attributes\":{\"end\":{\"id\":\"294c6379-4652-4d5f-950f-ef7ec35ba720\",\"type\":\"OpenHead\"},\"line_color\":{\"value\":\"gray\"},\"plot\":{\"id\":\"ebc1d307-a82a-4cc9-b563-b02177b22a01\",\"subtype\":\"Figure\",\"type\":\"Plot\"},\"source\":null,\"start\":null,\"x_end\":{\"value\":0.22367061577852326},\"x_start\":{\"value\":-0.18614684275338242},\"y_end\":{\"value\":-0.11760986443446556},\"y_start\":{\"value\":-0.13296653458904584}},\"id\":\"060064a3-654d-428f-a7af-5190c07f12db\",\"type\":\"Arrow\"},{\"attributes\":{\"line_color\":{\"value\":\"firebrick\"},\"line_width\":{\"value\":2},\"plot\":null,\"size\":10},\"id\":\"771496df-8b21-49a3-9ec9-e134eaa2c9f4\",\"type\":\"OpenHead\"},{\"attributes\":{\"line_color\":{\"value\":\"firebrick\"},\"line_width\":{\"value\":2},\"plot\":null,\"size\":10},\"id\":\"ed1cef9b-4c16-4b1b-a4c2-ba3e7ff33184\",\"type\":\"OpenHead\"},{\"attributes\":{\"end\":{\"id\":\"bbdb7c1f-cebb-478d-9b65-0671ea000270\",\"type\":\"OpenHead\"},\"line_color\":{\"value\":\"gray\"},\"plot\":{\"id\":\"ebc1d307-a82a-4cc9-b563-b02177b22a01\",\"subtype\":\"Figure\",\"type\":\"Plot\"},\"source\":null,\"start\":null,\"x_end\":{\"value\":-0.1770975699510246},\"x_start\":{\"value\":0.22367061577852326},\"y_end\":{\"value\":-0.12807691036829735},\"y_start\":{\"value\":-0.11760986443446556}},\"id\":\"41acf6cb-2b2a-4535-9a85-3ac7b0709272\",\"type\":\"Arrow\"},{\"attributes\":{\"line_color\":{\"value\":\"firebrick\"},\"line_width\":{\"value\":2},\"plot\":null,\"size\":10},\"id\":\"2a097a36-1534-45b1-b887-bb3f3ef4a784\",\"type\":\"OpenHead\"},{\"attributes\":{\"end\":{\"id\":\"ed1cef9b-4c16-4b1b-a4c2-ba3e7ff33184\",\"type\":\"OpenHead\"},\"line_color\":{\"value\":\"gray\"},\"plot\":{\"id\":\"ebc1d307-a82a-4cc9-b563-b02177b22a01\",\"subtype\":\"Figure\",\"type\":\"Plot\"},\"source\":null,\"start\":null,\"x_end\":{\"value\":0.22731449192944472},\"x_start\":{\"value\":-0.1770975699510246},\"y_end\":{\"value\":-0.12211171545945611},\"y_start\":{\"value\":-0.12807691036829735}},\"id\":\"f8f07d63-ce90-4048-adf5-d3348a5a068d\",\"type\":\"Arrow\"},{\"attributes\":{\"line_color\":{\"value\":\"firebrick\"},\"line_width\":{\"value\":2},\"plot\":null,\"size\":10},\"id\":\"a4cf714a-7721-48c7-947a-3b7f0cb7836e\",\"type\":\"OpenHead\"},{\"attributes\":{\"end\":{\"id\":\"2a097a36-1534-45b1-b887-bb3f3ef4a784\",\"type\":\"OpenHead\"},\"line_color\":{\"value\":\"gray\"},\"plot\":{\"id\":\"ebc1d307-a82a-4cc9-b563-b02177b22a01\",\"subtype\":\"Figure\",\"type\":\"Plot\"},\"source\":null,\"start\":null,\"x_end\":{\"value\":-0.17229243883953574},\"x_start\":{\"value\":0.22731449192944472},\"y_end\":{\"value\":-0.13082179256401183},\"y_start\":{\"value\":-0.12211171545945611}},\"id\":\"98774260-e9bb-4bab-b33d-932c8475c6c2\",\"type\":\"Arrow\"},{\"attributes\":{\"line_color\":{\"value\":\"firebrick\"},\"line_width\":{\"value\":2},\"plot\":null,\"size\":10},\"id\":\"691e6fbf-3014-4cf9-b809-215e911691b9\",\"type\":\"OpenHead\"},{\"attributes\":{\"end\":{\"id\":\"a4cf714a-7721-48c7-947a-3b7f0cb7836e\",\"type\":\"OpenHead\"},\"line_color\":{\"value\":\"gray\"},\"plot\":{\"id\":\"ebc1d307-a82a-4cc9-b563-b02177b22a01\",\"subtype\":\"Figure\",\"type\":\"Plot\"},\"source\":null,\"start\":null,\"x_end\":{\"value\":0.23149364644371853},\"x_start\":{\"value\":-0.17229243883953574},\"y_end\":{\"value\":-0.12610070661912723},\"y_start\":{\"value\":-0.13082179256401183}},\"id\":\"decd492d-9dc4-4464-bc4c-59c9aafec143\",\"type\":\"Arrow\"},{\"attributes\":{\"line_color\":{\"value\":\"firebrick\"},\"line_width\":{\"value\":2},\"plot\":null,\"size\":10},\"id\":\"d3461f20-65e4-42f9-b394-6a630ba1982e\",\"type\":\"OpenHead\"},{\"attributes\":{\"end\":{\"id\":\"691e6fbf-3014-4cf9-b809-215e911691b9\",\"type\":\"OpenHead\"},\"line_color\":{\"value\":\"gray\"},\"plot\":{\"id\":\"ebc1d307-a82a-4cc9-b563-b02177b22a01\",\"subtype\":\"Figure\",\"type\":\"Plot\"},\"source\":null,\"start\":null,\"x_end\":{\"value\":-0.16802341106854127},\"x_start\":{\"value\":0.23149364644371853},\"y_end\":{\"value\":-0.13449972603867572},\"y_start\":{\"value\":-0.12610070661912723}},\"id\":\"32a6dddd-5be6-4001-a594-fe1adf02052a\",\"type\":\"Arrow\"},{\"attributes\":{\"line_color\":{\"value\":\"firebrick\"},\"line_width\":{\"value\":2},\"plot\":null,\"size\":10},\"id\":\"74d26963-3442-4739-84c3-43c2a9352fb1\",\"type\":\"OpenHead\"},{\"attributes\":{\"end\":{\"id\":\"d3461f20-65e4-42f9-b394-6a630ba1982e\",\"type\":\"OpenHead\"},\"line_color\":{\"value\":\"gray\"},\"plot\":{\"id\":\"ebc1d307-a82a-4cc9-b563-b02177b22a01\",\"subtype\":\"Figure\",\"type\":\"Plot\"},\"source\":null,\"start\":null,\"x_end\":{\"value\":0.061964016391688186},\"x_start\":{\"value\":-0.16802341106854127},\"y_end\":{\"value\":0.06006902486839273},\"y_start\":{\"value\":-0.13449972603867572}},\"id\":\"4110d5fc-e369-4437-839c-a92129823177\",\"type\":\"Arrow\"},{\"attributes\":{\"line_color\":{\"value\":\"firebrick\"},\"line_width\":{\"value\":2},\"plot\":null,\"size\":10},\"id\":\"d4601954-8bf4-41a9-afed-8ae2c1bcd3a8\",\"type\":\"OpenHead\"},{\"attributes\":{\"end\":{\"id\":\"74d26963-3442-4739-84c3-43c2a9352fb1\",\"type\":\"OpenHead\"},\"line_color\":{\"value\":\"gray\"},\"plot\":{\"id\":\"ebc1d307-a82a-4cc9-b563-b02177b22a01\",\"subtype\":\"Figure\",\"type\":\"Plot\"},\"source\":null,\"start\":null,\"x_end\":{\"value\":-0.15443712880041266},\"x_start\":{\"value\":0.061964016391688186},\"y_end\":{\"value\":-0.14292980285606907},\"y_start\":{\"value\":0.06006902486839273}},\"id\":\"a7fb0fe1-b67d-452a-ae59-a20b65d88a50\",\"type\":\"Arrow\"},{\"attributes\":{\"line_color\":{\"value\":\"firebrick\"},\"line_width\":{\"value\":2},\"plot\":null,\"size\":10},\"id\":\"c5ab0345-aa72-43c8-be98-2c1380034594\",\"type\":\"OpenHead\"},{\"attributes\":{\"end\":{\"id\":\"d4601954-8bf4-41a9-afed-8ae2c1bcd3a8\",\"type\":\"OpenHead\"},\"line_color\":{\"value\":\"gray\"},\"plot\":{\"id\":\"ebc1d307-a82a-4cc9-b563-b02177b22a01\",\"subtype\":\"Figure\",\"type\":\"Plot\"},\"source\":null,\"start\":null,\"x_end\":{\"value\":0.024670252058653027},\"x_start\":{\"value\":-0.15443712880041266},\"y_end\":{\"value\":0.15035742191756982},\"y_start\":{\"value\":-0.14292980285606907}},\"id\":\"34bb6cb0-4150-4e03-a514-5b7f5935ff41\",\"type\":\"Arrow\"},{\"attributes\":{\"source\":{\"id\":\"3f997f18-9d34-48f6-9477-5117d4eb779e\",\"type\":\"ColumnDataSource\"}},\"id\":\"d4772e04-6586-43d3-b32b-13109b0d3118\",\"type\":\"CDSView\"},{\"attributes\":{\"end\":{\"id\":\"c5ab0345-aa72-43c8-be98-2c1380034594\",\"type\":\"OpenHead\"},\"line_color\":{\"value\":\"gray\"},\"plot\":{\"id\":\"ebc1d307-a82a-4cc9-b563-b02177b22a01\",\"subtype\":\"Figure\",\"type\":\"Plot\"},\"source\":null,\"start\":null,\"x_end\":{\"value\":0.05986850669216594},\"x_start\":{\"value\":0.024670252058653027},\"y_end\":{\"value\":0.23222386145477264},\"y_start\":{\"value\":0.15035742191756982}},\"id\":\"bedb232f-7409-45e3-bf2d-b7cd6f0f44e1\",\"type\":\"Arrow\"},{\"attributes\":{\"line_color\":{\"value\":\"firebrick\"},\"line_width\":{\"value\":2},\"plot\":null,\"size\":10},\"id\":\"0119be06-7ecd-47ce-8f88-46fd9b2a5688\",\"type\":\"OpenHead\"},{\"attributes\":{},\"id\":\"7eec3a89-67be-4630-b520-7b606992aa32\",\"type\":\"BasicTickFormatter\"},{\"attributes\":{\"fill_color\":{\"value\":\"#1f77b4\"},\"line_color\":{\"value\":\"#1f77b4\"},\"size\":{\"units\":\"screen\",\"value\":10},\"x\":{\"field\":\"x\"},\"y\":{\"field\":\"y\"}},\"id\":\"e610c3bd-62b6-46be-93a5-2b503de4cb7e\",\"type\":\"Circle\"},{\"attributes\":{\"end\":{\"id\":\"0119be06-7ecd-47ce-8f88-46fd9b2a5688\",\"type\":\"OpenHead\"},\"line_color\":{\"value\":\"gray\"},\"plot\":{\"id\":\"ebc1d307-a82a-4cc9-b563-b02177b22a01\",\"subtype\":\"Figure\",\"type\":\"Plot\"},\"source\":null,\"start\":null,\"x_end\":{\"value\":0.22227281986224046},\"x_start\":{\"value\":-0.03427472151108273},\"y_end\":{\"value\":-0.05292027339815597},\"y_start\":{\"value\":-0.01623054882880976}},\"id\":\"3be27d10-6050-4fc3-bc52-1baf1c6a2fb6\",\"type\":\"Arrow\"},{\"attributes\":{\"line_color\":{\"value\":\"firebrick\"},\"line_width\":{\"value\":2},\"plot\":null,\"size\":10},\"id\":\"61c157f5-129e-464f-8685-2dfb1e919808\",\"type\":\"OpenHead\"},{\"attributes\":{\"end\":{\"id\":\"09d94a44-ece9-4ec9-a931-ed12908d617a\",\"type\":\"OpenHead\"},\"line_color\":{\"value\":\"gray\"},\"plot\":{\"id\":\"ebc1d307-a82a-4cc9-b563-b02177b22a01\",\"subtype\":\"Figure\",\"type\":\"Plot\"},\"source\":null,\"start\":null,\"x_end\":{\"value\":-0.07758613718775671},\"x_start\":{\"value\":0.22227281986224046},\"y_end\":{\"value\":-0.0011535661632267355},\"y_start\":{\"value\":-0.05292027339815597}},\"id\":\"c3cc06d2-9c9e-4c6c-9913-f37e594f9a03\",\"type\":\"Arrow\"},{\"attributes\":{\"data_source\":{\"id\":\"3f997f18-9d34-48f6-9477-5117d4eb779e\",\"type\":\"ColumnDataSource\"},\"glyph\":{\"id\":\"e610c3bd-62b6-46be-93a5-2b503de4cb7e\",\"type\":\"Circle\"},\"hover_glyph\":null,\"muted_glyph\":null,\"name\":\"circle\",\"nonselection_glyph\":{\"id\":\"795f3c01-c2ce-4338-8b41-87740f7ad457\",\"type\":\"Circle\"},\"selection_glyph\":null,\"view\":{\"id\":\"d4772e04-6586-43d3-b32b-13109b0d3118\",\"type\":\"CDSView\"}},\"id\":\"7c97dfa5-827e-46e3-9173-b9546729600c\",\"type\":\"GlyphRenderer\"},{\"attributes\":{\"end\":{\"id\":\"61c157f5-129e-464f-8685-2dfb1e919808\",\"type\":\"OpenHead\"},\"line_color\":{\"value\":\"gray\"},\"plot\":{\"id\":\"ebc1d307-a82a-4cc9-b563-b02177b22a01\",\"subtype\":\"Figure\",\"type\":\"Plot\"},\"source\":null,\"start\":null,\"x_end\":{\"value\":-0.026213876497466627},\"x_start\":{\"value\":-0.07758613718775671},\"y_end\":{\"value\":0.09980844048222995},\"y_start\":{\"value\":-0.0011535661632267355}},\"id\":\"40fa3140-e685-4207-aaa6-51903a96445b\",\"type\":\"Arrow\"},{\"attributes\":{\"below\":[{\"id\":\"3fa2385d-cac9-4843-af02-7d19a7622f93\",\"type\":\"LinearAxis\"}],\"left\":[{\"id\":\"02631167-88de-4f3c-974c-a20859e9e56a\",\"type\":\"LinearAxis\"}],\"renderers\":[{\"id\":\"3fa2385d-cac9-4843-af02-7d19a7622f93\",\"type\":\"LinearAxis\"},{\"id\":\"2e519c3f-a411-47e0-99f0-26ecdf4c0953\",\"type\":\"Grid\"},{\"id\":\"02631167-88de-4f3c-974c-a20859e9e56a\",\"type\":\"LinearAxis\"},{\"id\":\"9ceada83-508f-44e4-88b0-a76c91bbb575\",\"type\":\"Grid\"},{\"id\":\"787a108b-6dd4-4c97-90d6-b3501e9f504a\",\"type\":\"Arrow\"},{\"id\":\"6fbfc7fa-bc04-4418-96b9-541d2e75018d\",\"type\":\"Arrow\"},{\"id\":\"1b0f220d-ee24-41fc-ae5c-95ab47a9be58\",\"type\":\"Arrow\"},{\"id\":\"307a50eb-b930-4fc0-acfd-ad13dc7ce55a\",\"type\":\"Arrow\"},{\"id\":\"e022bcab-cfd0-4ed5-a8ff-8f80525aef08\",\"type\":\"Arrow\"},{\"id\":\"996eff7f-9cd6-432a-879b-bcfe741352e6\",\"type\":\"Arrow\"},{\"id\":\"b7fbffb0-451a-45c0-875e-60bd7cd66a39\",\"type\":\"Arrow\"},{\"id\":\"d05a7476-ef9f-49f8-a7a7-d88e030fa524\",\"type\":\"Arrow\"},{\"id\":\"786fbed3-874a-4bea-8b24-4498d79a34d1\",\"type\":\"Arrow\"},{\"id\":\"82ae6bc0-621f-45c3-85bb-b7c85ab11aaf\",\"type\":\"Arrow\"},{\"id\":\"17c37ce6-e883-4116-94aa-d0fb1e4ac333\",\"type\":\"Arrow\"},{\"id\":\"060064a3-654d-428f-a7af-5190c07f12db\",\"type\":\"Arrow\"},{\"id\":\"41acf6cb-2b2a-4535-9a85-3ac7b0709272\",\"type\":\"Arrow\"},{\"id\":\"f8f07d63-ce90-4048-adf5-d3348a5a068d\",\"type\":\"Arrow\"},{\"id\":\"98774260-e9bb-4bab-b33d-932c8475c6c2\",\"type\":\"Arrow\"},{\"id\":\"decd492d-9dc4-4464-bc4c-59c9aafec143\",\"type\":\"Arrow\"},{\"id\":\"32a6dddd-5be6-4001-a594-fe1adf02052a\",\"type\":\"Arrow\"},{\"id\":\"4110d5fc-e369-4437-839c-a92129823177\",\"type\":\"Arrow\"},{\"id\":\"a7fb0fe1-b67d-452a-ae59-a20b65d88a50\",\"type\":\"Arrow\"},{\"id\":\"34bb6cb0-4150-4e03-a514-5b7f5935ff41\",\"type\":\"Arrow\"},{\"id\":\"bedb232f-7409-45e3-bf2d-b7cd6f0f44e1\",\"type\":\"Arrow\"},{\"id\":\"9648da1e-eafe-4882-89e8-d37395a0b16f\",\"type\":\"Arrow\"},{\"id\":\"6e8b4069-2820-4d1d-8ab5-05a9b07949fd\",\"type\":\"Arrow\"},{\"id\":\"3be27d10-6050-4fc3-bc52-1baf1c6a2fb6\",\"type\":\"Arrow\"},{\"id\":\"c3cc06d2-9c9e-4c6c-9913-f37e594f9a03\",\"type\":\"Arrow\"},{\"id\":\"40fa3140-e685-4207-aaa6-51903a96445b\",\"type\":\"Arrow\"},{\"id\":\"7c97dfa5-827e-46e3-9173-b9546729600c\",\"type\":\"GlyphRenderer\"},{\"id\":\"e0a9a3bd-cf24-436c-9260-d8c0f2dc3f5c\",\"type\":\"GlyphRenderer\"},{\"id\":\"88f30aee-046a-4fae-9ee2-27435b2e500c\",\"type\":\"GlyphRenderer\"},{\"id\":\"8559adbe-52e1-48ce-a276-8d27621db1a3\",\"type\":\"GlyphRenderer\"},{\"id\":\"0600adb2-85ed-4657-9944-9a7100575eb1\",\"type\":\"GlyphRenderer\"},{\"id\":\"21210a08-6731-4808-a912-c155e36ba33b\",\"type\":\"GlyphRenderer\"}],\"title\":{\"id\":\"73f3dc13-8bd7-4364-922b-c7c898300e75\",\"type\":\"Title\"},\"toolbar\":{\"id\":\"c72b448f-be13-4675-b8a4-221d907c907b\",\"type\":\"Toolbar\"},\"x_range\":{\"id\":\"54fbb484-6243-4a23-bc10-e6a3d4c348e4\",\"type\":\"DataRange1d\"},\"x_scale\":{\"id\":\"63cd73b1-4134-4abc-a8fb-2e00350edc81\",\"type\":\"LinearScale\"},\"y_range\":{\"id\":\"9ca5afe8-fa38-4d71-b97f-5115ce496ca6\",\"type\":\"DataRange1d\"},\"y_scale\":{\"id\":\"926a29d0-4b3d-4fe8-bd45-91913621a78e\",\"type\":\"LinearScale\"}},\"id\":\"ebc1d307-a82a-4cc9-b563-b02177b22a01\",\"subtype\":\"Figure\",\"type\":\"Plot\"},{\"attributes\":{\"callback\":null,\"data\":{},\"selected\":null,\"selection_policy\":null},\"id\":\"55e7235f-9979-42a7-a084-4e8da594b154\",\"type\":\"ColumnDataSource\"},{\"attributes\":{\"fill_color\":{\"value\":\"magenta\"},\"line_color\":{\"value\":\"magenta\"},\"size\":{\"units\":\"screen\",\"value\":5},\"x\":{\"value\":-0.05168691034961503},\"y\":{\"value\":0.047258680955939894}},\"id\":\"ba07cb91-10b7-45cb-a79f-6cb4fa580da0\",\"type\":\"Circle\"},{\"attributes\":{\"callback\":null,\"names\":[\"circle\"],\"tooltips\":[[\"true action\",\"@desc\"],[\"prediction\",\"@pred\"],[\"not_skip_gate\",\"@not_skip\"]]},\"id\":\"caaeca7d-b7ee-4c7a-bebe-736d6fab3479\",\"type\":\"HoverTool\"},{\"attributes\":{\"line_color\":{\"value\":\"firebrick\"},\"line_width\":{\"value\":2},\"plot\":null,\"size\":10},\"id\":\"2c141100-ccaf-49be-85b6-25fe019e4d39\",\"type\":\"OpenHead\"},{\"attributes\":{\"fill_alpha\":{\"value\":0.1},\"fill_color\":{\"value\":\"#1f77b4\"},\"line_alpha\":{\"value\":0.1},\"line_color\":{\"value\":\"#1f77b4\"},\"size\":{\"units\":\"screen\",\"value\":10},\"x\":{\"field\":\"x\"},\"y\":{\"field\":\"y\"}},\"id\":\"795f3c01-c2ce-4338-8b41-87740f7ad457\",\"type\":\"Circle\"},{\"attributes\":{\"plot\":null,\"text\":\"\"},\"id\":\"73f3dc13-8bd7-4364-922b-c7c898300e75\",\"type\":\"Title\"},{\"attributes\":{\"callback\":null,\"column_names\":[\"x\",\"y\",\"desc\",\"pred\",\"not_skip\"],\"data\":{\"desc\":[\"    - utter_ask_details\",\"    - utter_explain_details_hotel\",\"    - utter_ask_details\",\"    - utter_chitchat\",\"    - utter_ask_details\",\"    - utter_ask_startdate\",\"    - utter_ask_location\",\"    - utter_explain_location_hotel\",\"    - utter_ask_location\",\"    - utter_ask_price\",\"    - utter_chitchat\",\"    - utter_ask_price\",\"    - utter_chitchat\",\"    - utter_ask_price\",\"    - utter_chitchat\",\"    - utter_ask_price\",\"    - utter_chitchat\",\"    - utter_ask_price\",\"    - utter_explain_price_hotel\",\"    - utter_ask_price\",\"    - utter_ask_people\",\"    - utter_filled_slots\",\"    - action_search_hotel\",\"    - utter_suggest_hotel\",\"    - utter_chitchat\",\"    - utter_suggest_hotel\",\"    - utter_happy\"],\"not_skip\":[{\"__ndarray__\":\"KOOpPA==\",\"dtype\":\"float32\",\"shape\":[1]},{\"__ndarray__\":\"ZNmkPg==\",\"dtype\":\"float32\",\"shape\":[1]},{\"__ndarray__\":\"GT7pPA==\",\"dtype\":\"float32\",\"shape\":[1]},{\"__ndarray__\":\"ObX1PQ==\",\"dtype\":\"float32\",\"shape\":[1]},{\"__ndarray__\":\"DzPnPA==\",\"dtype\":\"float32\",\"shape\":[1]},{\"__ndarray__\":\"0PR+Pw==\",\"dtype\":\"float32\",\"shape\":[1]},{\"__ndarray__\":\"VPR4Pw==\",\"dtype\":\"float32\",\"shape\":[1]},{\"__ndarray__\":\"Mx+NPg==\",\"dtype\":\"float32\",\"shape\":[1]},{\"__ndarray__\":\"NgTLPA==\",\"dtype\":\"float32\",\"shape\":[1]},{\"__ndarray__\":\"N999Pw==\",\"dtype\":\"float32\",\"shape\":[1]},{\"__ndarray__\":\"g42fPQ==\",\"dtype\":\"float32\",\"shape\":[1]},{\"__ndarray__\":\"dKuxPA==\",\"dtype\":\"float32\",\"shape\":[1]},{\"__ndarray__\":\"vpXIPQ==\",\"dtype\":\"float32\",\"shape\":[1]},{\"__ndarray__\":\"eE/BPA==\",\"dtype\":\"float32\",\"shape\":[1]},{\"__ndarray__\":\"VKPIPQ==\",\"dtype\":\"float32\",\"shape\":[1]},{\"__ndarray__\":\"VNrBPA==\",\"dtype\":\"float32\",\"shape\":[1]},{\"__ndarray__\":\"PYjJPQ==\",\"dtype\":\"float32\",\"shape\":[1]},{\"__ndarray__\":\"FE3CPA==\",\"dtype\":\"float32\",\"shape\":[1]},{\"__ndarray__\":\"nSWPPg==\",\"dtype\":\"float32\",\"shape\":[1]},{\"__ndarray__\":\"doTCPA==\",\"dtype\":\"float32\",\"shape\":[1]},{\"__ndarray__\":\"weR6Pw==\",\"dtype\":\"float32\",\"shape\":[1]},{\"__ndarray__\":\"hRZ6Pw==\",\"dtype\":\"float32\",\"shape\":[1]},{\"__ndarray__\":\"0ZbDPA==\",\"dtype\":\"float32\",\"shape\":[1]},{\"__ndarray__\":\"F1QUPQ==\",\"dtype\":\"float32\",\"shape\":[1]},{\"__ndarray__\":\"TDnzPQ==\",\"dtype\":\"float32\",\"shape\":[1]},{\"__ndarray__\":\"Qp/yPA==\",\"dtype\":\"float32\",\"shape\":[1]},{\"__ndarray__\":\"HOUCPg==\",\"dtype\":\"float32\",\"shape\":[1]}],\"pred\":[\"utter_ask_details\",\"utter_explain_people_hotel\",\"utter_ask_details\",\"utter_chitchat\",\"utter_ask_details\",\"utter_ask_startdate\",\"utter_ask_enddate\",\"utter_explain_details_hotel\",\"utter_ask_location\",\"utter_ask_people\",\"utter_chitchat\",\"utter_ask_price\",\"utter_chitchat\",\"utter_ask_price\",\"utter_chitchat\",\"utter_ask_price\",\"utter_chitchat\",\"utter_ask_price\",\"utter_explain_details_hotel\",\"utter_ask_price\",\"utter_ask_people\",\"utter_filled_slots\",\"action_search_hotel\",\"utter_suggest_hotel\",\"utter_chitchat\",\"utter_suggest_hotel\",\"utter_happy\"],\"x\":{\"__ndarray__\":\"HkOnIUmatr/dJEI287qsP2CAlglrRb+/K8u9nbXByj9Pxd3dj9+6vyzMUxNxkcC/NprCYDDMsr9meQ+Zc3SoP7ohKT9r/7i/iKlEjiSioj+EAAE8QgnMPzuR8OSo08e/9ibsHT2hzD82A5IXIqvGv4c1XyqkGM0/OfoUu60Nxr9BkVp0laHNP1E5wIfKgcW/R7rcX7+5rz9eMr6ImMTDv3+dGpcoQ5k/Uj6bvBWnrj8pJTE8+hV/v3dw8M90jKG//IsMjm9zzD+VKdhhr9yzv7oxCHnP15q/\",\"dtype\":\"float64\",\"shape\":[27]},\"y\":{\"__ndarray__\":\"3T8TGUqAxT+FU74us9nLP4dKjtw8aqw/KPNlCnkctb915xj3o0eyP1kE5NDlFKS/SybsParSpz/Zf4fA44ewP2L1lkMv26i/SxPngcp7yz94sNYQ0u25vyjewiIMBcG/mtpuGa4bvr+jyLP+0mTAv6lYW6C2Qr+/wFBVvMS+wL8NQHdlESTAv+4aVHpJN8G/Uu2fAl7Brj9Z/XEWhkvCvx9l7HjpPsM/Xkgm8YK5zT94618oUBxvv5LZqbG9npC/ALcUt10Yq7+OHHg8aOZSv5JmvMMLjbk/\",\"dtype\":\"float64\",\"shape\":[27]}},\"selected\":null,\"selection_policy\":null},\"id\":\"3f997f18-9d34-48f6-9477-5117d4eb779e\",\"type\":\"ColumnDataSource\"},{\"attributes\":{\"data_source\":{\"id\":\"17e90f06-6482-480b-8c1c-c8526b380c79\",\"type\":\"ColumnDataSource\"},\"glyph\":{\"id\":\"b4fe2a6a-8699-4108-98fa-762d3964e51a\",\"type\":\"Circle\"},\"hover_glyph\":null,\"muted_glyph\":null,\"name\":\"circle\",\"nonselection_glyph\":{\"id\":\"2596caad-f8fb-49af-b92d-0d03c38c546c\",\"type\":\"Circle\"},\"selection_glyph\":null,\"view\":{\"id\":\"3b871ca7-beeb-4c25-bc08-f84db1173e99\",\"type\":\"CDSView\"}},\"id\":\"88f30aee-046a-4fae-9ee2-27435b2e500c\",\"type\":\"GlyphRenderer\"},{\"attributes\":{\"active_drag\":\"auto\",\"active_inspect\":\"auto\",\"active_scroll\":\"auto\",\"active_tap\":\"auto\",\"tools\":[{\"id\":\"caaeca7d-b7ee-4c7a-bebe-736d6fab3479\",\"type\":\"HoverTool\"}]},\"id\":\"c72b448f-be13-4675-b8a4-221d907c907b\",\"type\":\"Toolbar\"},{\"attributes\":{\"callback\":null},\"id\":\"9ca5afe8-fa38-4d71-b97f-5115ce496ca6\",\"type\":\"DataRange1d\"},{\"attributes\":{\"source\":{\"id\":\"49ae0043-967a-4dd8-adc4-851d7c85f986\",\"type\":\"ColumnDataSource\"}},\"id\":\"82670df0-051c-4e5e-a769-4559fa4dc19d\",\"type\":\"CDSView\"},{\"attributes\":{\"callback\":null},\"id\":\"54fbb484-6243-4a23-bc10-e6a3d4c348e4\",\"type\":\"DataRange1d\"},{\"attributes\":{},\"id\":\"39023ba9-843b-4f83-9c6b-92936f21637f\",\"type\":\"BasicTickFormatter\"},{\"attributes\":{\"line_color\":{\"value\":\"firebrick\"},\"line_width\":{\"value\":2},\"plot\":null,\"size\":10},\"id\":\"1d0f163f-71e6-4abb-80d8-441f564d1adf\",\"type\":\"OpenHead\"},{\"attributes\":{\"fill_alpha\":{\"value\":0.1},\"fill_color\":{\"value\":\"#1f77b4\"},\"line_alpha\":{\"value\":0.1},\"line_color\":{\"value\":\"#1f77b4\"},\"size\":{\"units\":\"screen\",\"value\":5},\"x\":{\"field\":\"x\"},\"y\":{\"field\":\"y\"}},\"id\":\"19a48d69-3dc8-478d-9765-4d54ec0479fc\",\"type\":\"Circle\"},{\"attributes\":{},\"id\":\"926a29d0-4b3d-4fe8-bd45-91913621a78e\",\"type\":\"LinearScale\"},{\"attributes\":{\"callback\":null,\"column_names\":[\"x\",\"y\",\"desc\",\"pred\",\"not_skip\"],\"data\":{\"desc\":[\"    - utter_ask_details\",\"    - utter_explain_details_hotel\",\"    - utter_ask_details\",\"    - utter_chitchat\",\"    - utter_ask_details\",\"    - utter_ask_startdate\",\"    - utter_ask_location\",\"    - utter_explain_location_hotel\",\"    - utter_ask_location\",\"    - utter_ask_price\",\"    - utter_chitchat\",\"    - utter_ask_price\",\"    - utter_chitchat\",\"    - utter_ask_price\",\"    - utter_chitchat\",\"    - utter_ask_price\",\"    - utter_chitchat\",\"    - utter_ask_price\",\"    - utter_explain_price_hotel\",\"    - utter_ask_price\",\"    - utter_ask_people\",\"    - utter_filled_slots\",\"    - action_search_hotel\",\"    - utter_suggest_hotel\",\"    - utter_chitchat\",\"    - utter_suggest_hotel\",\"    - utter_happy\"],\"not_skip\":[{\"__ndarray__\":\"KOOpPA==\",\"dtype\":\"float32\",\"shape\":[1]},{\"__ndarray__\":\"ZNmkPg==\",\"dtype\":\"float32\",\"shape\":[1]},{\"__ndarray__\":\"GT7pPA==\",\"dtype\":\"float32\",\"shape\":[1]},{\"__ndarray__\":\"ObX1PQ==\",\"dtype\":\"float32\",\"shape\":[1]},{\"__ndarray__\":\"DzPnPA==\",\"dtype\":\"float32\",\"shape\":[1]},{\"__ndarray__\":\"0PR+Pw==\",\"dtype\":\"float32\",\"shape\":[1]},{\"__ndarray__\":\"VPR4Pw==\",\"dtype\":\"float32\",\"shape\":[1]},{\"__ndarray__\":\"Mx+NPg==\",\"dtype\":\"float32\",\"shape\":[1]},{\"__ndarray__\":\"NgTLPA==\",\"dtype\":\"float32\",\"shape\":[1]},{\"__ndarray__\":\"N999Pw==\",\"dtype\":\"float32\",\"shape\":[1]},{\"__ndarray__\":\"g42fPQ==\",\"dtype\":\"float32\",\"shape\":[1]},{\"__ndarray__\":\"dKuxPA==\",\"dtype\":\"float32\",\"shape\":[1]},{\"__ndarray__\":\"vpXIPQ==\",\"dtype\":\"float32\",\"shape\":[1]},{\"__ndarray__\":\"eE/BPA==\",\"dtype\":\"float32\",\"shape\":[1]},{\"__ndarray__\":\"VKPIPQ==\",\"dtype\":\"float32\",\"shape\":[1]},{\"__ndarray__\":\"VNrBPA==\",\"dtype\":\"float32\",\"shape\":[1]},{\"__ndarray__\":\"PYjJPQ==\",\"dtype\":\"float32\",\"shape\":[1]},{\"__ndarray__\":\"FE3CPA==\",\"dtype\":\"float32\",\"shape\":[1]},{\"__ndarray__\":\"nSWPPg==\",\"dtype\":\"float32\",\"shape\":[1]},{\"__ndarray__\":\"doTCPA==\",\"dtype\":\"float32\",\"shape\":[1]},{\"__ndarray__\":\"weR6Pw==\",\"dtype\":\"float32\",\"shape\":[1]},{\"__ndarray__\":\"hRZ6Pw==\",\"dtype\":\"float32\",\"shape\":[1]},{\"__ndarray__\":\"0ZbDPA==\",\"dtype\":\"float32\",\"shape\":[1]},{\"__ndarray__\":\"F1QUPQ==\",\"dtype\":\"float32\",\"shape\":[1]},{\"__ndarray__\":\"TDnzPQ==\",\"dtype\":\"float32\",\"shape\":[1]},{\"__ndarray__\":\"Qp/yPA==\",\"dtype\":\"float32\",\"shape\":[1]},{\"__ndarray__\":\"HOUCPg==\",\"dtype\":\"float32\",\"shape\":[1]}],\"pred\":[\"utter_ask_details\",\"utter_explain_people_hotel\",\"utter_ask_details\",\"utter_chitchat\",\"utter_ask_details\",\"utter_ask_startdate\",\"utter_ask_enddate\",\"utter_explain_details_hotel\",\"utter_ask_location\",\"utter_ask_people\",\"utter_chitchat\",\"utter_ask_price\",\"utter_chitchat\",\"utter_ask_price\",\"utter_chitchat\",\"utter_ask_price\",\"utter_chitchat\",\"utter_ask_price\",\"utter_explain_details_hotel\",\"utter_ask_price\",\"utter_ask_people\",\"utter_filled_slots\",\"action_search_hotel\",\"utter_suggest_hotel\",\"utter_chitchat\",\"utter_suggest_hotel\",\"utter_happy\"],\"x\":{\"__ndarray__\":\"rCVjAjlHmL836/ryDf6hvwPIj/OUBbW/XpBzqUzys78+r6O3IUi1v8ueTNGXxKW/bmtKWe48qb+9ylBSvj2kv6UwJZjzDra/TTr/Lddirb8FRuZLcdGpvxzc2LXzu8W/2xz9b5t8qb/n2RVO3zPFvzgvOzV0iam/MT0WrKkoxb+uRylrz6mpv/dfGcRSLsW/le/1EsCJqb+Szggsla7Ev2eZTjJxV66/v4F4mncBrb94zPyXLKKpv4xcj5cEp6u/cboLikN0q7/N+XmUYqmtv1jtCDrszK2/\",\"dtype\":\"float64\",\"shape\":[27]},\"y\":{\"__ndarray__\":\"mCfJ83L9zz+nHMy0TM7MPzM4I0CvW8E/Ht60tMgrvz8ysCwIWYvAP1TEn/joLsM/SilTZ+lhwj9XXgYySJ22P0QZbOLP6pk/cPUH9wnbwD+4Arky8dq2P2kZ8NPoarO/b0XOBy0YtT/yezLjEHuxvyZUU6mUqbQ/XSoKZ0lAsb9emkRg3GK0P2GKW9eLVLG/EokINbm2sz+j8MUbLbevvw8R2eSOtcA/5PkqN/RztD9OoG0ZS26yPzQd6PNggrY/gImo1uepsz+AcCE3Hl2vP8CTNwRkBLU/\",\"dtype\":\"float64\",\"shape\":[27]}},\"selected\":null,\"selection_policy\":null},\"id\":\"49ae0043-967a-4dd8-adc4-851d7c85f986\",\"type\":\"ColumnDataSource\"},{\"attributes\":{},\"id\":\"63cd73b1-4134-4abc-a8fb-2e00350edc81\",\"type\":\"LinearScale\"},{\"attributes\":{\"fill_color\":{\"value\":\"green\"},\"line_color\":{\"value\":\"green\"},\"size\":{\"units\":\"screen\",\"value\":5},\"x\":{\"field\":\"x\"},\"y\":{\"field\":\"y\"}},\"id\":\"cd477daf-b5de-4390-bb06-f5c7562b151a\",\"type\":\"Circle\"},{\"attributes\":{\"end\":{\"id\":\"2c141100-ccaf-49be-85b6-25fe019e4d39\",\"type\":\"OpenHead\"},\"line_color\":{\"value\":\"gray\"},\"plot\":{\"id\":\"ebc1d307-a82a-4cc9-b563-b02177b22a01\",\"subtype\":\"Figure\",\"type\":\"Plot\"},\"source\":null,\"start\":null,\"x_end\":{\"value\":0.056113815663658896},\"x_start\":{\"value\":-0.08829171249022891},\"y_end\":{\"value\":0.21758117468257523},\"y_start\":{\"value\":0.16797758316397352}},\"id\":\"787a108b-6dd4-4c97-90d6-b3501e9f504a\",\"type\":\"Arrow\"},{\"attributes\":{\"data_source\":{\"id\":\"49ae0043-967a-4dd8-adc4-851d7c85f986\",\"type\":\"ColumnDataSource\"},\"glyph\":{\"id\":\"cd477daf-b5de-4390-bb06-f5c7562b151a\",\"type\":\"Circle\"},\"hover_glyph\":null,\"muted_glyph\":null,\"name\":\"circle\",\"nonselection_glyph\":{\"id\":\"19a48d69-3dc8-478d-9765-4d54ec0479fc\",\"type\":\"Circle\"},\"selection_glyph\":null,\"view\":{\"id\":\"82670df0-051c-4e5e-a769-4559fa4dc19d\",\"type\":\"CDSView\"}},\"id\":\"e0a9a3bd-cf24-436c-9260-d8c0f2dc3f5c\",\"type\":\"GlyphRenderer\"},{\"attributes\":{\"formatter\":{\"id\":\"39023ba9-843b-4f83-9c6b-92936f21637f\",\"type\":\"BasicTickFormatter\"},\"plot\":{\"id\":\"ebc1d307-a82a-4cc9-b563-b02177b22a01\",\"subtype\":\"Figure\",\"type\":\"Plot\"},\"ticker\":{\"id\":\"c9f75979-520e-4ba9-ac8a-fd0b02ed09d7\",\"type\":\"BasicTicker\"}},\"id\":\"3fa2385d-cac9-4843-af02-7d19a7622f93\",\"type\":\"LinearAxis\"},{\"attributes\":{\"callback\":null,\"column_names\":[\"x\",\"y\",\"desc\",\"pred\",\"not_skip\"],\"data\":{\"desc\":[\"    - utter_ask_details\",\"    - utter_explain_details_hotel\",\"    - utter_ask_details\",\"    - utter_chitchat\",\"    - utter_ask_details\",\"    - utter_ask_startdate\",\"    - utter_ask_location\",\"    - utter_explain_location_hotel\",\"    - utter_ask_location\",\"    - utter_ask_price\",\"    - utter_chitchat\",\"    - utter_ask_price\",\"    - utter_chitchat\",\"    - utter_ask_price\",\"    - utter_chitchat\",\"    - utter_ask_price\",\"    - utter_chitchat\",\"    - utter_ask_price\",\"    - utter_explain_price_hotel\",\"    - utter_ask_price\",\"    - utter_ask_people\",\"    - utter_filled_slots\",\"    - action_search_hotel\",\"    - utter_suggest_hotel\",\"    - utter_chitchat\",\"    - utter_suggest_hotel\",\"    - utter_happy\"],\"not_skip\":[{\"__ndarray__\":\"KOOpPA==\",\"dtype\":\"float32\",\"shape\":[1]},{\"__ndarray__\":\"ZNmkPg==\",\"dtype\":\"float32\",\"shape\":[1]},{\"__ndarray__\":\"GT7pPA==\",\"dtype\":\"float32\",\"shape\":[1]},{\"__ndarray__\":\"ObX1PQ==\",\"dtype\":\"float32\",\"shape\":[1]},{\"__ndarray__\":\"DzPnPA==\",\"dtype\":\"float32\",\"shape\":[1]},{\"__ndarray__\":\"0PR+Pw==\",\"dtype\":\"float32\",\"shape\":[1]},{\"__ndarray__\":\"VPR4Pw==\",\"dtype\":\"float32\",\"shape\":[1]},{\"__ndarray__\":\"Mx+NPg==\",\"dtype\":\"float32\",\"shape\":[1]},{\"__ndarray__\":\"NgTLPA==\",\"dtype\":\"float32\",\"shape\":[1]},{\"__ndarray__\":\"N999Pw==\",\"dtype\":\"float32\",\"shape\":[1]},{\"__ndarray__\":\"g42fPQ==\",\"dtype\":\"float32\",\"shape\":[1]},{\"__ndarray__\":\"dKuxPA==\",\"dtype\":\"float32\",\"shape\":[1]},{\"__ndarray__\":\"vpXIPQ==\",\"dtype\":\"float32\",\"shape\":[1]},{\"__ndarray__\":\"eE/BPA==\",\"dtype\":\"float32\",\"shape\":[1]},{\"__ndarray__\":\"VKPIPQ==\",\"dtype\":\"float32\",\"shape\":[1]},{\"__ndarray__\":\"VNrBPA==\",\"dtype\":\"float32\",\"shape\":[1]},{\"__ndarray__\":\"PYjJPQ==\",\"dtype\":\"float32\",\"shape\":[1]},{\"__ndarray__\":\"FE3CPA==\",\"dtype\":\"float32\",\"shape\":[1]},{\"__ndarray__\":\"nSWPPg==\",\"dtype\":\"float32\",\"shape\":[1]},{\"__ndarray__\":\"doTCPA==\",\"dtype\":\"float32\",\"shape\":[1]},{\"__ndarray__\":\"weR6Pw==\",\"dtype\":\"float32\",\"shape\":[1]},{\"__ndarray__\":\"hRZ6Pw==\",\"dtype\":\"float32\",\"shape\":[1]},{\"__ndarray__\":\"0ZbDPA==\",\"dtype\":\"float32\",\"shape\":[1]},{\"__ndarray__\":\"F1QUPQ==\",\"dtype\":\"float32\",\"shape\":[1]},{\"__ndarray__\":\"TDnzPQ==\",\"dtype\":\"float32\",\"shape\":[1]},{\"__ndarray__\":\"Qp/yPA==\",\"dtype\":\"float32\",\"shape\":[1]},{\"__ndarray__\":\"HOUCPg==\",\"dtype\":\"float32\",\"shape\":[1]}],\"pred\":[\"utter_ask_details\",\"utter_explain_people_hotel\",\"utter_ask_details\",\"utter_chitchat\",\"utter_ask_details\",\"utter_ask_startdate\",\"utter_ask_enddate\",\"utter_explain_details_hotel\",\"utter_ask_location\",\"utter_ask_people\",\"utter_chitchat\",\"utter_ask_price\",\"utter_chitchat\",\"utter_ask_price\",\"utter_chitchat\",\"utter_ask_price\",\"utter_chitchat\",\"utter_ask_price\",\"utter_explain_details_hotel\",\"utter_ask_price\",\"utter_ask_people\",\"utter_filled_slots\",\"action_search_hotel\",\"utter_suggest_hotel\",\"utter_chitchat\",\"utter_suggest_hotel\",\"utter_happy\"],\"x\":{\"__ndarray__\":\"fThUVNXDvb/6YnA4TEKkP5v9MY0we7e/kA84vC4dzj/hjuKQyNKyv5xh/Vn4vcG/4HW6tBNps79oDWb8fDuiPxZLgh7SK7C/F+/240aOpT9qaElU8d/LP0pnWNTEarG/Yw+Xv7ZizD84y4793ymwv6g5YABU3cw/U1WwGsUKrr8kQ4QgXG7NP6A8uemTxKu/YtBmjMrMrj9jbDRrws6mv3CdOZRQgqA/wf6gNuyYsD+YpC61Ht2Cv+nn8iclXKC/HXcINdOyzD/W88aKWEOyv+yRvtRgK5S/\",\"dtype\":\"float64\",\"shape\":[27]},\"y\":{\"__ndarray__\":\"xNlyOVnCob/DZg0d5F+kP12MF+g10qC//FTyVI4XxL9ek8gQSK+Fv4KmVd+PJ8K/iwX7LrGCqb92uLSjAg+YPyWy/PGZPJu/I699FVOtwD8VePgYz1fCv9LS4jtTMIS///+D/VqNw79C9mVPf6uJvwPVaB2T6cO/dJXjuGuQkL9NDu0K7UjEv/i63zSIA5S/USyDmmsMnz8hhOEwoUShv6kopkDaK7E/wknVYRuMyT//Xy4MIjidv9QMNcHWIa2/U5h+mvEctb/nMdAJHQiPv+Li1dfMobA/\",\"dtype\":\"float64\",\"shape\":[27]}},\"selected\":null,\"selection_policy\":null},\"id\":\"17e90f06-6482-480b-8c1c-c8526b380c79\",\"type\":\"ColumnDataSource\"},{\"attributes\":{},\"id\":\"c9f75979-520e-4ba9-ac8a-fd0b02ed09d7\",\"type\":\"BasicTicker\"},{\"attributes\":{\"source\":{\"id\":\"17e90f06-6482-480b-8c1c-c8526b380c79\",\"type\":\"ColumnDataSource\"}},\"id\":\"3b871ca7-beeb-4c25-bc08-f84db1173e99\",\"type\":\"CDSView\"},{\"attributes\":{\"plot\":{\"id\":\"ebc1d307-a82a-4cc9-b563-b02177b22a01\",\"subtype\":\"Figure\",\"type\":\"Plot\"},\"ticker\":{\"id\":\"c9f75979-520e-4ba9-ac8a-fd0b02ed09d7\",\"type\":\"BasicTicker\"}},\"id\":\"2e519c3f-a411-47e0-99f0-26ecdf4c0953\",\"type\":\"Grid\"},{\"attributes\":{\"callback\":null,\"data\":{},\"selected\":null,\"selection_policy\":null},\"id\":\"4e4b5da2-d08d-4a59-9ca8-face0d7cff86\",\"type\":\"ColumnDataSource\"},{\"attributes\":{\"formatter\":{\"id\":\"7eec3a89-67be-4630-b520-7b606992aa32\",\"type\":\"BasicTickFormatter\"},\"plot\":{\"id\":\"ebc1d307-a82a-4cc9-b563-b02177b22a01\",\"subtype\":\"Figure\",\"type\":\"Plot\"},\"ticker\":{\"id\":\"7765d0c2-b799-4efc-898e-0a3ab18355f4\",\"type\":\"BasicTicker\"}},\"id\":\"02631167-88de-4f3c-974c-a20859e9e56a\",\"type\":\"LinearAxis\"},{\"attributes\":{},\"id\":\"7765d0c2-b799-4efc-898e-0a3ab18355f4\",\"type\":\"BasicTicker\"},{\"attributes\":{\"fill_color\":{\"value\":\"red\"},\"line_color\":{\"value\":\"red\"},\"size\":{\"units\":\"screen\",\"value\":5},\"x\":{\"field\":\"x\"},\"y\":{\"field\":\"y\"}},\"id\":\"b4fe2a6a-8699-4108-98fa-762d3964e51a\",\"type\":\"Circle\"},{\"attributes\":{\"dimension\":1,\"plot\":{\"id\":\"ebc1d307-a82a-4cc9-b563-b02177b22a01\",\"subtype\":\"Figure\",\"type\":\"Plot\"},\"ticker\":{\"id\":\"7765d0c2-b799-4efc-898e-0a3ab18355f4\",\"type\":\"BasicTicker\"}},\"id\":\"9ceada83-508f-44e4-88b0-a76c91bbb575\",\"type\":\"Grid\"},{\"attributes\":{\"fill_alpha\":{\"value\":0.1},\"fill_color\":{\"value\":\"#1f77b4\"},\"line_alpha\":{\"value\":0.1},\"line_color\":{\"value\":\"#1f77b4\"},\"size\":{\"units\":\"screen\",\"value\":5},\"x\":{\"field\":\"x\"},\"y\":{\"field\":\"y\"}},\"id\":\"2596caad-f8fb-49af-b92d-0d03c38c546c\",\"type\":\"Circle\"},{\"attributes\":{\"line_color\":{\"value\":\"firebrick\"},\"line_width\":{\"value\":2},\"plot\":null,\"size\":10},\"id\":\"68487a8e-63e5-4f51-ae36-54e930f79741\",\"type\":\"OpenHead\"},{\"attributes\":{\"fill_alpha\":{\"value\":0.1},\"fill_color\":{\"value\":\"#1f77b4\"},\"line_alpha\":{\"value\":0.1},\"line_color\":{\"value\":\"#1f77b4\"},\"size\":{\"units\":\"screen\",\"value\":5},\"x\":{\"value\":-0.05168691034961503},\"y\":{\"value\":0.047258680955939894}},\"id\":\"5ef6d72b-c30f-46c6-bc5a-d710e68ad4ca\",\"type\":\"Circle\"},{\"attributes\":{\"data_source\":{\"id\":\"55e7235f-9979-42a7-a084-4e8da594b154\",\"type\":\"ColumnDataSource\"},\"glyph\":{\"id\":\"ba07cb91-10b7-45cb-a79f-6cb4fa580da0\",\"type\":\"Circle\"},\"hover_glyph\":null,\"muted_glyph\":null,\"nonselection_glyph\":{\"id\":\"5ef6d72b-c30f-46c6-bc5a-d710e68ad4ca\",\"type\":\"Circle\"},\"selection_glyph\":null,\"view\":{\"id\":\"e4820e30-e300-4b2f-96f5-4543a08f0367\",\"type\":\"CDSView\"}},\"id\":\"8559adbe-52e1-48ce-a276-8d27621db1a3\",\"type\":\"GlyphRenderer\"},{\"attributes\":{\"line_color\":{\"value\":\"firebrick\"},\"line_width\":{\"value\":2},\"plot\":null,\"size\":10},\"id\":\"921535d1-c989-4a74-89c0-d22745c06324\",\"type\":\"OpenHead\"},{\"attributes\":{\"end\":{\"id\":\"68487a8e-63e5-4f51-ae36-54e930f79741\",\"type\":\"OpenHead\"},\"line_color\":{\"value\":\"gray\"},\"plot\":{\"id\":\"ebc1d307-a82a-4cc9-b563-b02177b22a01\",\"subtype\":\"Figure\",\"type\":\"Plot\"},\"source\":null,\"start\":null,\"x_end\":{\"value\":-0.09764738361366812},\"x_start\":{\"value\":0.04776345485128068},\"y_end\":{\"value\":-0.048547245979970524},\"y_start\":{\"value\":0.06457351160452109}},\"id\":\"d05a7476-ef9f-49f8-a7a7-d88e030fa524\",\"type\":\"Arrow\"},{\"attributes\":{\"end\":{\"id\":\"92d05750-df49-4799-98f8-533ba27dbf51\",\"type\":\"OpenHead\"},\"line_color\":{\"value\":\"gray\"},\"plot\":{\"id\":\"ebc1d307-a82a-4cc9-b563-b02177b22a01\",\"subtype\":\"Figure\",\"type\":\"Plot\"},\"source\":null,\"start\":null,\"x_end\":{\"value\":-0.07342817652043085},\"x_start\":{\"value\":-0.12943852847783555},\"y_end\":{\"value\":0.046529121455091436},\"y_start\":{\"value\":-0.03922193694052884}},\"id\":\"996eff7f-9cd6-432a-879b-bcfe741352e6\",\"type\":\"Arrow\"},{\"attributes\":{\"source\":{\"id\":\"55e7235f-9979-42a7-a084-4e8da594b154\",\"type\":\"ColumnDataSource\"}},\"id\":\"e4820e30-e300-4b2f-96f5-4543a08f0367\",\"type\":\"CDSView\"},{\"attributes\":{\"end\":{\"id\":\"1d0f163f-71e6-4abb-80d8-441f564d1adf\",\"type\":\"OpenHead\"},\"line_color\":{\"value\":\"gray\"},\"plot\":{\"id\":\"ebc1d307-a82a-4cc9-b563-b02177b22a01\",\"subtype\":\"Figure\",\"type\":\"Plot\"},\"source\":null,\"start\":null,\"x_end\":{\"value\":-0.12215298637465954},\"x_start\":{\"value\":0.056113815663658896},\"y_end\":{\"value\":0.055498029635733075},\"y_start\":{\"value\":0.21758117468257523}},\"id\":\"6fbfc7fa-bc04-4418-96b9-541d2e75018d\",\"type\":\"Arrow\"},{\"attributes\":{\"callback\":null,\"data\":{},\"selected\":null,\"selection_policy\":null},\"id\":\"52238440-7f7f-4c42-b254-38607fcc47ca\",\"type\":\"ColumnDataSource\"},{\"attributes\":{\"line_color\":{\"value\":\"firebrick\"},\"line_width\":{\"value\":2},\"plot\":null,\"size\":10},\"id\":\"1af03fd8-ec73-4c5a-bbdb-04e7e030f056\",\"type\":\"OpenHead\"},{\"attributes\":{\"fill_color\":{\"value\":\"green\"},\"line_color\":{\"value\":\"green\"},\"size\":{\"units\":\"screen\",\"value\":10},\"x\":{\"value\":-0.08829171249022891},\"y\":{\"value\":0.16797758316397352}},\"id\":\"714cd29e-b1bf-4385-973b-600ce764b794\",\"type\":\"Circle\"},{\"attributes\":{\"end\":{\"id\":\"921535d1-c989-4a74-89c0-d22745c06324\",\"type\":\"OpenHead\"},\"line_color\":{\"value\":\"gray\"},\"plot\":{\"id\":\"ebc1d307-a82a-4cc9-b563-b02177b22a01\",\"subtype\":\"Figure\",\"type\":\"Plot\"},\"source\":null,\"start\":null,\"x_end\":{\"value\":0.2090365429135884},\"x_start\":{\"value\":-0.12215298637465954},\"y_end\":{\"value\":-0.08246571067679709},\"y_start\":{\"value\":0.055498029635733075}},\"id\":\"1b0f220d-ee24-41fc-ae5c-95ab47a9be58\",\"type\":\"Arrow\"},{\"attributes\":{\"data_source\":{\"id\":\"4e4b5da2-d08d-4a59-9ca8-face0d7cff86\",\"type\":\"ColumnDataSource\"},\"glyph\":{\"id\":\"714cd29e-b1bf-4385-973b-600ce764b794\",\"type\":\"Circle\"},\"hover_glyph\":null,\"muted_glyph\":null,\"nonselection_glyph\":{\"id\":\"75497c89-656e-41a1-b26e-797a1ae18920\",\"type\":\"Circle\"},\"selection_glyph\":null,\"view\":{\"id\":\"b809e940-9ef5-48af-81ac-0e5402033c3b\",\"type\":\"CDSView\"}},\"id\":\"0600adb2-85ed-4657-9944-9a7100575eb1\",\"type\":\"GlyphRenderer\"},{\"attributes\":{\"line_color\":{\"value\":\"firebrick\"},\"line_width\":{\"value\":2},\"plot\":null,\"size\":10},\"id\":\"cfae2b55-8002-4757-b123-eed09580384b\",\"type\":\"OpenHead\"},{\"attributes\":{\"fill_alpha\":{\"value\":0.1},\"fill_color\":{\"value\":\"#1f77b4\"},\"line_alpha\":{\"value\":0.1},\"line_color\":{\"value\":\"#1f77b4\"},\"size\":{\"units\":\"screen\",\"value\":10},\"x\":{\"value\":-0.08829171249022891},\"y\":{\"value\":0.16797758316397352}},\"id\":\"75497c89-656e-41a1-b26e-797a1ae18920\",\"type\":\"Circle\"},{\"attributes\":{\"end\":{\"id\":\"1af03fd8-ec73-4c5a-bbdb-04e7e030f056\",\"type\":\"OpenHead\"},\"line_color\":{\"value\":\"gray\"},\"plot\":{\"id\":\"ebc1d307-a82a-4cc9-b563-b02177b22a01\",\"subtype\":\"Figure\",\"type\":\"Plot\"},\"source\":null,\"start\":null,\"x_end\":{\"value\":-0.10497378508241194},\"x_start\":{\"value\":0.2090365429135884},\"y_end\":{\"value\":0.07140564711235504},\"y_start\":{\"value\":-0.08246571067679709}},\"id\":\"307a50eb-b930-4fc0-acfd-ad13dc7ce55a\",\"type\":\"Arrow\"},{\"attributes\":{\"source\":{\"id\":\"4e4b5da2-d08d-4a59-9ca8-face0d7cff86\",\"type\":\"ColumnDataSource\"}},\"id\":\"b809e940-9ef5-48af-81ac-0e5402033c3b\",\"type\":\"CDSView\"},{\"attributes\":{\"line_color\":{\"value\":\"firebrick\"},\"line_width\":{\"value\":2},\"plot\":null,\"size\":10},\"id\":\"e805faa6-61ed-4d0b-b2e6-2c141c474175\",\"type\":\"OpenHead\"},{\"attributes\":{\"end\":{\"id\":\"cfae2b55-8002-4757-b123-eed09580384b\",\"type\":\"OpenHead\"},\"line_color\":{\"value\":\"gray\"},\"plot\":{\"id\":\"ebc1d307-a82a-4cc9-b563-b02177b22a01\",\"subtype\":\"Figure\",\"type\":\"Plot\"},\"source\":null,\"start\":null,\"x_end\":{\"value\":-0.12943852847783555},\"x_start\":{\"value\":-0.10497378508241194},\"y_end\":{\"value\":-0.03922193694052884},\"y_start\":{\"value\":0.07140564711235504}},\"id\":\"e022bcab-cfd0-4ed5-a8ff-8f80525aef08\",\"type\":\"Arrow\"},{\"attributes\":{\"fill_color\":{\"value\":\"red\"},\"line_color\":{\"value\":\"red\"},\"size\":{\"units\":\"screen\",\"value\":10},\"x\":{\"value\":-0.026213876497466627},\"y\":{\"value\":0.09980844048222995}},\"id\":\"2cecb8f4-811c-41c3-a527-30bbcf6870fe\",\"type\":\"Circle\"},{\"attributes\":{\"end\":{\"id\":\"e805faa6-61ed-4d0b-b2e6-2c141c474175\",\"type\":\"OpenHead\"},\"line_color\":{\"value\":\"gray\"},\"plot\":{\"id\":\"ebc1d307-a82a-4cc9-b563-b02177b22a01\",\"subtype\":\"Figure\",\"type\":\"Plot\"},\"source\":null,\"start\":null,\"x_end\":{\"value\":-0.007589318734127639},\"x_start\":{\"value\":0.05986850669216594},\"y_end\":{\"value\":-0.0037976804333061352},\"y_start\":{\"value\":0.23222386145477264}},\"id\":\"9648da1e-eafe-4882-89e8-d37395a0b16f\",\"type\":\"Arrow\"},{\"attributes\":{\"data_source\":{\"id\":\"52238440-7f7f-4c42-b254-38607fcc47ca\",\"type\":\"ColumnDataSource\"},\"glyph\":{\"id\":\"2cecb8f4-811c-41c3-a527-30bbcf6870fe\",\"type\":\"Circle\"},\"hover_glyph\":null,\"muted_glyph\":null,\"nonselection_glyph\":{\"id\":\"54962404-302a-4cc6-bdf4-b4ee2512d3de\",\"type\":\"Circle\"},\"selection_glyph\":null,\"view\":{\"id\":\"42786744-d27e-426b-955d-4c6c4783139f\",\"type\":\"CDSView\"}},\"id\":\"21210a08-6731-4808-a912-c155e36ba33b\",\"type\":\"GlyphRenderer\"},{\"attributes\":{\"line_color\":{\"value\":\"firebrick\"},\"line_width\":{\"value\":2},\"plot\":null,\"size\":10},\"id\":\"92d05750-df49-4799-98f8-533ba27dbf51\",\"type\":\"OpenHead\"},{\"attributes\":{\"fill_alpha\":{\"value\":0.1},\"fill_color\":{\"value\":\"#1f77b4\"},\"line_alpha\":{\"value\":0.1},\"line_color\":{\"value\":\"#1f77b4\"},\"size\":{\"units\":\"screen\",\"value\":10},\"x\":{\"value\":-0.026213876497466627},\"y\":{\"value\":0.09980844048222995}},\"id\":\"54962404-302a-4cc6-bdf4-b4ee2512d3de\",\"type\":\"Circle\"},{\"attributes\":{\"source\":{\"id\":\"52238440-7f7f-4c42-b254-38607fcc47ca\",\"type\":\"ColumnDataSource\"}},\"id\":\"42786744-d27e-426b-955d-4c6c4783139f\",\"type\":\"CDSView\"},{\"attributes\":{\"end\":{\"id\":\"771496df-8b21-49a3-9ec9-e134eaa2c9f4\",\"type\":\"OpenHead\"},\"line_color\":{\"value\":\"gray\"},\"plot\":{\"id\":\"ebc1d307-a82a-4cc9-b563-b02177b22a01\",\"subtype\":\"Figure\",\"type\":\"Plot\"},\"source\":null,\"start\":null,\"x_end\":{\"value\":0.04776345485128068},\"x_start\":{\"value\":-0.07342817652043085},\"y_end\":{\"value\":0.06457351160452109},\"y_start\":{\"value\":0.046529121455091436}},\"id\":\"b7fbffb0-451a-45c0-875e-60bd7cd66a39\",\"type\":\"Arrow\"}],\"root_ids\":[\"ebc1d307-a82a-4cc9-b563-b02177b22a01\"]},\"title\":\"Bokeh Application\",\"version\":\"0.12.15\"}};\n",
       "  var render_items = [{\"docid\":\"583934fc-d6b8-44e7-9c4d-91bb589850de\",\"elementid\":\"066dce99-9dec-43b2-9b4b-40222ecd98ff\",\"modelid\":\"ebc1d307-a82a-4cc9-b563-b02177b22a01\"}];\n",
       "  root.Bokeh.embed.embed_items_notebook(docs_json, render_items);\n",
       "\n",
       "  }\n",
       "  if (root.Bokeh !== undefined) {\n",
       "    embed_document(root);\n",
       "  } else {\n",
       "    var attempts = 0;\n",
       "    var timer = setInterval(function(root) {\n",
       "      if (root.Bokeh !== undefined) {\n",
       "        embed_document(root);\n",
       "        clearInterval(timer);\n",
       "      }\n",
       "      attempts++;\n",
       "      if (attempts > 100) {\n",
       "        console.log(\"Bokeh: ERROR: Unable to run BokehJS code because BokehJS library is missing\")\n",
       "        clearInterval(timer);\n",
       "      }\n",
       "    }, 10, root)\n",
       "  }\n",
       "})(window);"
      ],
      "application/vnd.bokehjs_exec.v0+json": ""
     },
     "metadata": {
      "application/vnd.bokehjs_exec.v0+json": {
       "id": "ebc1d307-a82a-4cc9-b563-b02177b22a01"
      }
     },
     "output_type": "display_data"
    }
   ],
   "source": [
    "show(p)"
   ]
  },
  {
   "cell_type": "code",
   "execution_count": 13,
   "metadata": {},
   "outputs": [
    {
     "name": "stdout",
     "output_type": "stream",
     "text": [
      "5\n",
      "27\n",
      "4\n",
      "6\n",
      "11\n",
      "41\n",
      "0\n",
      "UtterAction('utter_explain_location_hotel')\n"
     ]
    }
   ],
   "source": [
    "print(domain.index_for_action('utter_ask_price'))\n",
    "print(domain.index_for_action('utter_ask_details'))\n",
    "print(domain.index_for_action('utter_ask_location'))\n",
    "print(domain.index_for_action('utter_ask_startdate'))\n",
    "print(domain.index_for_action('utter_suggest_hotel'))\n",
    "print(domain.index_for_action('action_search_hotel'))\n",
    "print(domain.index_for_action('action_listen'))\n",
    "print(domain.action_for_index(16))"
   ]
  },
  {
   "cell_type": "code",
   "execution_count": 14,
   "metadata": {},
   "outputs": [
    {
     "data": {
      "text/plain": [
       "(20,)"
      ]
     },
     "execution_count": 14,
     "metadata": {},
     "output_type": "execute_result"
    }
   ],
   "source": [
    "utter_price = embedding_from_tracker(\"#generate story\\n{}\".format(story_block), bot=True)[0,-1,5,:]\n",
    "utter_price.shape"
   ]
  },
  {
   "cell_type": "code",
   "execution_count": 15,
   "metadata": {},
   "outputs": [
    {
     "name": "stdout",
     "output_type": "stream",
     "text": [
      "(20,)\n"
     ]
    },
    {
     "data": {
      "text/html": [
       "<div style=\"display: table;\"><div style=\"display: table-row;\"><div style=\"display: table-cell;\"><b title=\"bokeh.models.renderers.GlyphRenderer\">GlyphRenderer</b>(</div><div style=\"display: table-cell;\">id&nbsp;=&nbsp;'e988d162-be83-429a-9bae-0b36a7d40cde', <span id=\"f9488b5d-3c34-43fb-943a-4ad77c13b90f\" style=\"cursor: pointer;\">&hellip;)</span></div></div><div class=\"46ef72dd-94d4-4f1a-9a3c-18c58381f9f1\" style=\"display: none;\"><div style=\"display: table-cell;\"></div><div style=\"display: table-cell;\">data_source&nbsp;=&nbsp;ColumnDataSource(id='91d6afa0-3838-46e0-9d17-3ef67e1933d4', ...),</div></div><div class=\"46ef72dd-94d4-4f1a-9a3c-18c58381f9f1\" style=\"display: none;\"><div style=\"display: table-cell;\"></div><div style=\"display: table-cell;\">glyph&nbsp;=&nbsp;Circle(id='f6a5dcd6-7920-4d25-903f-870d3fe5561b', ...),</div></div><div class=\"46ef72dd-94d4-4f1a-9a3c-18c58381f9f1\" style=\"display: none;\"><div style=\"display: table-cell;\"></div><div style=\"display: table-cell;\">hover_glyph&nbsp;=&nbsp;None,</div></div><div class=\"46ef72dd-94d4-4f1a-9a3c-18c58381f9f1\" style=\"display: none;\"><div style=\"display: table-cell;\"></div><div style=\"display: table-cell;\">js_event_callbacks&nbsp;=&nbsp;{},</div></div><div class=\"46ef72dd-94d4-4f1a-9a3c-18c58381f9f1\" style=\"display: none;\"><div style=\"display: table-cell;\"></div><div style=\"display: table-cell;\">js_property_callbacks&nbsp;=&nbsp;{},</div></div><div class=\"46ef72dd-94d4-4f1a-9a3c-18c58381f9f1\" style=\"display: none;\"><div style=\"display: table-cell;\"></div><div style=\"display: table-cell;\">level&nbsp;=&nbsp;'glyph',</div></div><div class=\"46ef72dd-94d4-4f1a-9a3c-18c58381f9f1\" style=\"display: none;\"><div style=\"display: table-cell;\"></div><div style=\"display: table-cell;\">muted&nbsp;=&nbsp;False,</div></div><div class=\"46ef72dd-94d4-4f1a-9a3c-18c58381f9f1\" style=\"display: none;\"><div style=\"display: table-cell;\"></div><div style=\"display: table-cell;\">muted_glyph&nbsp;=&nbsp;None,</div></div><div class=\"46ef72dd-94d4-4f1a-9a3c-18c58381f9f1\" style=\"display: none;\"><div style=\"display: table-cell;\"></div><div style=\"display: table-cell;\">name&nbsp;=&nbsp;None,</div></div><div class=\"46ef72dd-94d4-4f1a-9a3c-18c58381f9f1\" style=\"display: none;\"><div style=\"display: table-cell;\"></div><div style=\"display: table-cell;\">nonselection_glyph&nbsp;=&nbsp;Circle(id='2f4690b5-355e-4140-ad6a-d887f375bb7d', ...),</div></div><div class=\"46ef72dd-94d4-4f1a-9a3c-18c58381f9f1\" style=\"display: none;\"><div style=\"display: table-cell;\"></div><div style=\"display: table-cell;\">selection_glyph&nbsp;=&nbsp;None,</div></div><div class=\"46ef72dd-94d4-4f1a-9a3c-18c58381f9f1\" style=\"display: none;\"><div style=\"display: table-cell;\"></div><div style=\"display: table-cell;\">subscribed_events&nbsp;=&nbsp;[],</div></div><div class=\"46ef72dd-94d4-4f1a-9a3c-18c58381f9f1\" style=\"display: none;\"><div style=\"display: table-cell;\"></div><div style=\"display: table-cell;\">tags&nbsp;=&nbsp;[],</div></div><div class=\"46ef72dd-94d4-4f1a-9a3c-18c58381f9f1\" style=\"display: none;\"><div style=\"display: table-cell;\"></div><div style=\"display: table-cell;\">view&nbsp;=&nbsp;CDSView(id='c2e52d62-ecce-49db-bed1-d03f65b41c31', ...),</div></div><div class=\"46ef72dd-94d4-4f1a-9a3c-18c58381f9f1\" style=\"display: none;\"><div style=\"display: table-cell;\"></div><div style=\"display: table-cell;\">visible&nbsp;=&nbsp;True,</div></div><div class=\"46ef72dd-94d4-4f1a-9a3c-18c58381f9f1\" style=\"display: none;\"><div style=\"display: table-cell;\"></div><div style=\"display: table-cell;\">x_range_name&nbsp;=&nbsp;'default',</div></div><div class=\"46ef72dd-94d4-4f1a-9a3c-18c58381f9f1\" style=\"display: none;\"><div style=\"display: table-cell;\"></div><div style=\"display: table-cell;\">y_range_name&nbsp;=&nbsp;'default')</div></div></div>\n",
       "<script>\n",
       "(function() {\n",
       "  var expanded = false;\n",
       "  var ellipsis = document.getElementById(\"f9488b5d-3c34-43fb-943a-4ad77c13b90f\");\n",
       "  ellipsis.addEventListener(\"click\", function() {\n",
       "    var rows = document.getElementsByClassName(\"46ef72dd-94d4-4f1a-9a3c-18c58381f9f1\");\n",
       "    for (var i = 0; i < rows.length; i++) {\n",
       "      var el = rows[i];\n",
       "      el.style.display = expanded ? \"none\" : \"table-row\";\n",
       "    }\n",
       "    ellipsis.innerHTML = expanded ? \"&hellip;)\" : \"&lsaquo;&lsaquo;&lsaquo;\";\n",
       "    expanded = !expanded;\n",
       "  });\n",
       "})();\n",
       "</script>\n"
      ],
      "text/plain": [
       "GlyphRenderer(id='e988d162-be83-429a-9bae-0b36a7d40cde', ...)"
      ]
     },
     "execution_count": 15,
     "metadata": {},
     "output_type": "execute_result"
    }
   ],
   "source": [
    "print(utter_price.shape)\n",
    "x = pca.transform(utter_price.reshape(1,-1))\n",
    "p.circle(x[0][0], x[0][1], color='black')"
   ]
  },
  {
   "cell_type": "code",
   "execution_count": 16,
   "metadata": {},
   "outputs": [
    {
     "data": {
      "text/html": [
       "\n",
       "<div class=\"bk-root\">\n",
       "    <div class=\"bk-plotdiv\" id=\"be96eb1a-fb24-422a-b51f-a32a1069c31a\"></div>\n",
       "</div>"
      ]
     },
     "metadata": {},
     "output_type": "display_data"
    },
    {
     "data": {
      "application/javascript": [
       "(function(root) {\n",
       "  function embed_document(root) {\n",
       "    \n",
       "  var docs_json = {\"63280e5b-2e44-4765-b1e2-d870018627a8\":{\"roots\":{\"references\":[{\"attributes\":{\"line_color\":{\"value\":\"firebrick\"},\"line_width\":{\"value\":2},\"plot\":null,\"size\":10},\"id\":\"dff66178-2db3-42b3-afc4-ccc82741deae\",\"type\":\"OpenHead\"},{\"attributes\":{\"source\":{\"id\":\"91d6afa0-3838-46e0-9d17-3ef67e1933d4\",\"type\":\"ColumnDataSource\"}},\"id\":\"c2e52d62-ecce-49db-bed1-d03f65b41c31\",\"type\":\"CDSView\"},{\"attributes\":{\"line_color\":{\"value\":\"firebrick\"},\"line_width\":{\"value\":2},\"plot\":null,\"size\":10},\"id\":\"61e48e50-8571-4d3e-8a23-a0b78f9de297\",\"type\":\"OpenHead\"},{\"attributes\":{\"line_color\":{\"value\":\"firebrick\"},\"line_width\":{\"value\":2},\"plot\":null,\"size\":10},\"id\":\"fcfef345-8034-4c15-835d-bddf733dc527\",\"type\":\"OpenHead\"},{\"attributes\":{\"end\":{\"id\":\"dff66178-2db3-42b3-afc4-ccc82741deae\",\"type\":\"OpenHead\"},\"line_color\":{\"value\":\"gray\"},\"plot\":{\"id\":\"ebc1d307-a82a-4cc9-b563-b02177b22a01\",\"subtype\":\"Figure\",\"type\":\"Plot\"},\"source\":null,\"start\":null,\"x_end\":{\"value\":0.036393301359868124},\"x_start\":{\"value\":-0.09764738361366812},\"y_end\":{\"value\":0.21471530287649396},\"y_start\":{\"value\":-0.048547245979970524}},\"id\":\"786fbed3-874a-4bea-8b24-4498d79a34d1\",\"type\":\"Arrow\"},{\"attributes\":{\"line_color\":{\"value\":\"firebrick\"},\"line_width\":{\"value\":2},\"plot\":null,\"size\":10},\"id\":\"df209def-63b6-4c99-bc47-c0aee59e1e66\",\"type\":\"OpenHead\"},{\"attributes\":{\"end\":{\"id\":\"61e48e50-8571-4d3e-8a23-a0b78f9de297\",\"type\":\"OpenHead\"},\"line_color\":{\"value\":\"gray\"},\"plot\":{\"id\":\"ebc1d307-a82a-4cc9-b563-b02177b22a01\",\"subtype\":\"Figure\",\"type\":\"Plot\"},\"source\":null,\"start\":null,\"x_end\":{\"value\":-0.03427472151108273},\"x_start\":{\"value\":-0.007589318734127639},\"y_end\":{\"value\":-0.01623054882880976},\"y_start\":{\"value\":-0.0037976804333061352}},\"id\":\"6e8b4069-2820-4d1d-8ab5-05a9b07949fd\",\"type\":\"Arrow\"},{\"attributes\":{\"line_color\":{\"value\":\"firebrick\"},\"line_width\":{\"value\":2},\"plot\":null,\"size\":10},\"id\":\"09d94a44-ece9-4ec9-a931-ed12908d617a\",\"type\":\"OpenHead\"},{\"attributes\":{\"end\":{\"id\":\"fcfef345-8034-4c15-835d-bddf733dc527\",\"type\":\"OpenHead\"},\"line_color\":{\"value\":\"gray\"},\"plot\":{\"id\":\"ebc1d307-a82a-4cc9-b563-b02177b22a01\",\"subtype\":\"Figure\",\"type\":\"Plot\"},\"source\":null,\"start\":null,\"x_end\":{\"value\":0.21903255395773524},\"x_start\":{\"value\":0.036393301359868124},\"y_end\":{\"value\":-0.10128510390376444},\"y_start\":{\"value\":0.21471530287649396}},\"id\":\"82ae6bc0-621f-45c3-85bb-b7c85ab11aaf\",\"type\":\"Arrow\"},{\"attributes\":{\"line_color\":{\"value\":\"firebrick\"},\"line_width\":{\"value\":2},\"plot\":null,\"size\":10},\"id\":\"294c6379-4652-4d5f-950f-ef7ec35ba720\",\"type\":\"OpenHead\"},{\"attributes\":{\"end\":{\"id\":\"df209def-63b6-4c99-bc47-c0aee59e1e66\",\"type\":\"OpenHead\"},\"line_color\":{\"value\":\"gray\"},\"plot\":{\"id\":\"ebc1d307-a82a-4cc9-b563-b02177b22a01\",\"subtype\":\"Figure\",\"type\":\"Plot\"},\"source\":null,\"start\":null,\"x_end\":{\"value\":-0.18614684275338242},\"x_start\":{\"value\":0.21903255395773524},\"y_end\":{\"value\":-0.13296653458904584},\"y_start\":{\"value\":-0.10128510390376444}},\"id\":\"17c37ce6-e883-4116-94aa-d0fb1e4ac333\",\"type\":\"Arrow\"},{\"attributes\":{\"line_color\":{\"value\":\"firebrick\"},\"line_width\":{\"value\":2},\"plot\":null,\"size\":10},\"id\":\"bbdb7c1f-cebb-478d-9b65-0671ea000270\",\"type\":\"OpenHead\"},{\"attributes\":{\"end\":{\"id\":\"294c6379-4652-4d5f-950f-ef7ec35ba720\",\"type\":\"OpenHead\"},\"line_color\":{\"value\":\"gray\"},\"plot\":{\"id\":\"ebc1d307-a82a-4cc9-b563-b02177b22a01\",\"subtype\":\"Figure\",\"type\":\"Plot\"},\"source\":null,\"start\":null,\"x_end\":{\"value\":0.22367061577852326},\"x_start\":{\"value\":-0.18614684275338242},\"y_end\":{\"value\":-0.11760986443446556},\"y_start\":{\"value\":-0.13296653458904584}},\"id\":\"060064a3-654d-428f-a7af-5190c07f12db\",\"type\":\"Arrow\"},{\"attributes\":{\"line_color\":{\"value\":\"firebrick\"},\"line_width\":{\"value\":2},\"plot\":null,\"size\":10},\"id\":\"771496df-8b21-49a3-9ec9-e134eaa2c9f4\",\"type\":\"OpenHead\"},{\"attributes\":{\"line_color\":{\"value\":\"firebrick\"},\"line_width\":{\"value\":2},\"plot\":null,\"size\":10},\"id\":\"ed1cef9b-4c16-4b1b-a4c2-ba3e7ff33184\",\"type\":\"OpenHead\"},{\"attributes\":{\"end\":{\"id\":\"bbdb7c1f-cebb-478d-9b65-0671ea000270\",\"type\":\"OpenHead\"},\"line_color\":{\"value\":\"gray\"},\"plot\":{\"id\":\"ebc1d307-a82a-4cc9-b563-b02177b22a01\",\"subtype\":\"Figure\",\"type\":\"Plot\"},\"source\":null,\"start\":null,\"x_end\":{\"value\":-0.1770975699510246},\"x_start\":{\"value\":0.22367061577852326},\"y_end\":{\"value\":-0.12807691036829735},\"y_start\":{\"value\":-0.11760986443446556}},\"id\":\"41acf6cb-2b2a-4535-9a85-3ac7b0709272\",\"type\":\"Arrow\"},{\"attributes\":{\"line_color\":{\"value\":\"firebrick\"},\"line_width\":{\"value\":2},\"plot\":null,\"size\":10},\"id\":\"2a097a36-1534-45b1-b887-bb3f3ef4a784\",\"type\":\"OpenHead\"},{\"attributes\":{\"end\":{\"id\":\"ed1cef9b-4c16-4b1b-a4c2-ba3e7ff33184\",\"type\":\"OpenHead\"},\"line_color\":{\"value\":\"gray\"},\"plot\":{\"id\":\"ebc1d307-a82a-4cc9-b563-b02177b22a01\",\"subtype\":\"Figure\",\"type\":\"Plot\"},\"source\":null,\"start\":null,\"x_end\":{\"value\":0.22731449192944472},\"x_start\":{\"value\":-0.1770975699510246},\"y_end\":{\"value\":-0.12211171545945611},\"y_start\":{\"value\":-0.12807691036829735}},\"id\":\"f8f07d63-ce90-4048-adf5-d3348a5a068d\",\"type\":\"Arrow\"},{\"attributes\":{\"line_color\":{\"value\":\"firebrick\"},\"line_width\":{\"value\":2},\"plot\":null,\"size\":10},\"id\":\"a4cf714a-7721-48c7-947a-3b7f0cb7836e\",\"type\":\"OpenHead\"},{\"attributes\":{\"data_source\":{\"id\":\"91d6afa0-3838-46e0-9d17-3ef67e1933d4\",\"type\":\"ColumnDataSource\"},\"glyph\":{\"id\":\"f6a5dcd6-7920-4d25-903f-870d3fe5561b\",\"type\":\"Circle\"},\"hover_glyph\":null,\"muted_glyph\":null,\"nonselection_glyph\":{\"id\":\"2f4690b5-355e-4140-ad6a-d887f375bb7d\",\"type\":\"Circle\"},\"selection_glyph\":null,\"view\":{\"id\":\"c2e52d62-ecce-49db-bed1-d03f65b41c31\",\"type\":\"CDSView\"}},\"id\":\"e988d162-be83-429a-9bae-0b36a7d40cde\",\"type\":\"GlyphRenderer\"},{\"attributes\":{\"end\":{\"id\":\"2a097a36-1534-45b1-b887-bb3f3ef4a784\",\"type\":\"OpenHead\"},\"line_color\":{\"value\":\"gray\"},\"plot\":{\"id\":\"ebc1d307-a82a-4cc9-b563-b02177b22a01\",\"subtype\":\"Figure\",\"type\":\"Plot\"},\"source\":null,\"start\":null,\"x_end\":{\"value\":-0.17229243883953574},\"x_start\":{\"value\":0.22731449192944472},\"y_end\":{\"value\":-0.13082179256401183},\"y_start\":{\"value\":-0.12211171545945611}},\"id\":\"98774260-e9bb-4bab-b33d-932c8475c6c2\",\"type\":\"Arrow\"},{\"attributes\":{\"line_color\":{\"value\":\"firebrick\"},\"line_width\":{\"value\":2},\"plot\":null,\"size\":10},\"id\":\"691e6fbf-3014-4cf9-b809-215e911691b9\",\"type\":\"OpenHead\"},{\"attributes\":{\"end\":{\"id\":\"a4cf714a-7721-48c7-947a-3b7f0cb7836e\",\"type\":\"OpenHead\"},\"line_color\":{\"value\":\"gray\"},\"plot\":{\"id\":\"ebc1d307-a82a-4cc9-b563-b02177b22a01\",\"subtype\":\"Figure\",\"type\":\"Plot\"},\"source\":null,\"start\":null,\"x_end\":{\"value\":0.23149364644371853},\"x_start\":{\"value\":-0.17229243883953574},\"y_end\":{\"value\":-0.12610070661912723},\"y_start\":{\"value\":-0.13082179256401183}},\"id\":\"decd492d-9dc4-4464-bc4c-59c9aafec143\",\"type\":\"Arrow\"},{\"attributes\":{\"line_color\":{\"value\":\"firebrick\"},\"line_width\":{\"value\":2},\"plot\":null,\"size\":10},\"id\":\"d3461f20-65e4-42f9-b394-6a630ba1982e\",\"type\":\"OpenHead\"},{\"attributes\":{\"end\":{\"id\":\"691e6fbf-3014-4cf9-b809-215e911691b9\",\"type\":\"OpenHead\"},\"line_color\":{\"value\":\"gray\"},\"plot\":{\"id\":\"ebc1d307-a82a-4cc9-b563-b02177b22a01\",\"subtype\":\"Figure\",\"type\":\"Plot\"},\"source\":null,\"start\":null,\"x_end\":{\"value\":-0.16802341106854127},\"x_start\":{\"value\":0.23149364644371853},\"y_end\":{\"value\":-0.13449972603867572},\"y_start\":{\"value\":-0.12610070661912723}},\"id\":\"32a6dddd-5be6-4001-a594-fe1adf02052a\",\"type\":\"Arrow\"},{\"attributes\":{\"line_color\":{\"value\":\"firebrick\"},\"line_width\":{\"value\":2},\"plot\":null,\"size\":10},\"id\":\"74d26963-3442-4739-84c3-43c2a9352fb1\",\"type\":\"OpenHead\"},{\"attributes\":{\"fill_color\":{\"value\":\"black\"},\"x\":{\"value\":-0.18923138934851455},\"y\":{\"value\":-0.10929530894454947}},\"id\":\"f6a5dcd6-7920-4d25-903f-870d3fe5561b\",\"type\":\"Circle\"},{\"attributes\":{\"end\":{\"id\":\"d3461f20-65e4-42f9-b394-6a630ba1982e\",\"type\":\"OpenHead\"},\"line_color\":{\"value\":\"gray\"},\"plot\":{\"id\":\"ebc1d307-a82a-4cc9-b563-b02177b22a01\",\"subtype\":\"Figure\",\"type\":\"Plot\"},\"source\":null,\"start\":null,\"x_end\":{\"value\":0.061964016391688186},\"x_start\":{\"value\":-0.16802341106854127},\"y_end\":{\"value\":0.06006902486839273},\"y_start\":{\"value\":-0.13449972603867572}},\"id\":\"4110d5fc-e369-4437-839c-a92129823177\",\"type\":\"Arrow\"},{\"attributes\":{\"line_color\":{\"value\":\"firebrick\"},\"line_width\":{\"value\":2},\"plot\":null,\"size\":10},\"id\":\"d4601954-8bf4-41a9-afed-8ae2c1bcd3a8\",\"type\":\"OpenHead\"},{\"attributes\":{\"end\":{\"id\":\"74d26963-3442-4739-84c3-43c2a9352fb1\",\"type\":\"OpenHead\"},\"line_color\":{\"value\":\"gray\"},\"plot\":{\"id\":\"ebc1d307-a82a-4cc9-b563-b02177b22a01\",\"subtype\":\"Figure\",\"type\":\"Plot\"},\"source\":null,\"start\":null,\"x_end\":{\"value\":-0.15443712880041266},\"x_start\":{\"value\":0.061964016391688186},\"y_end\":{\"value\":-0.14292980285606907},\"y_start\":{\"value\":0.06006902486839273}},\"id\":\"a7fb0fe1-b67d-452a-ae59-a20b65d88a50\",\"type\":\"Arrow\"},{\"attributes\":{\"line_color\":{\"value\":\"firebrick\"},\"line_width\":{\"value\":2},\"plot\":null,\"size\":10},\"id\":\"c5ab0345-aa72-43c8-be98-2c1380034594\",\"type\":\"OpenHead\"},{\"attributes\":{\"end\":{\"id\":\"d4601954-8bf4-41a9-afed-8ae2c1bcd3a8\",\"type\":\"OpenHead\"},\"line_color\":{\"value\":\"gray\"},\"plot\":{\"id\":\"ebc1d307-a82a-4cc9-b563-b02177b22a01\",\"subtype\":\"Figure\",\"type\":\"Plot\"},\"source\":null,\"start\":null,\"x_end\":{\"value\":0.024670252058653027},\"x_start\":{\"value\":-0.15443712880041266},\"y_end\":{\"value\":0.15035742191756982},\"y_start\":{\"value\":-0.14292980285606907}},\"id\":\"34bb6cb0-4150-4e03-a514-5b7f5935ff41\",\"type\":\"Arrow\"},{\"attributes\":{\"source\":{\"id\":\"3f997f18-9d34-48f6-9477-5117d4eb779e\",\"type\":\"ColumnDataSource\"}},\"id\":\"d4772e04-6586-43d3-b32b-13109b0d3118\",\"type\":\"CDSView\"},{\"attributes\":{\"end\":{\"id\":\"c5ab0345-aa72-43c8-be98-2c1380034594\",\"type\":\"OpenHead\"},\"line_color\":{\"value\":\"gray\"},\"plot\":{\"id\":\"ebc1d307-a82a-4cc9-b563-b02177b22a01\",\"subtype\":\"Figure\",\"type\":\"Plot\"},\"source\":null,\"start\":null,\"x_end\":{\"value\":0.05986850669216594},\"x_start\":{\"value\":0.024670252058653027},\"y_end\":{\"value\":0.23222386145477264},\"y_start\":{\"value\":0.15035742191756982}},\"id\":\"bedb232f-7409-45e3-bf2d-b7cd6f0f44e1\",\"type\":\"Arrow\"},{\"attributes\":{\"line_color\":{\"value\":\"firebrick\"},\"line_width\":{\"value\":2},\"plot\":null,\"size\":10},\"id\":\"0119be06-7ecd-47ce-8f88-46fd9b2a5688\",\"type\":\"OpenHead\"},{\"attributes\":{},\"id\":\"7eec3a89-67be-4630-b520-7b606992aa32\",\"type\":\"BasicTickFormatter\"},{\"attributes\":{\"fill_color\":{\"value\":\"#1f77b4\"},\"line_color\":{\"value\":\"#1f77b4\"},\"size\":{\"units\":\"screen\",\"value\":10},\"x\":{\"field\":\"x\"},\"y\":{\"field\":\"y\"}},\"id\":\"e610c3bd-62b6-46be-93a5-2b503de4cb7e\",\"type\":\"Circle\"},{\"attributes\":{\"fill_alpha\":{\"value\":0.1},\"fill_color\":{\"value\":\"#1f77b4\"},\"line_alpha\":{\"value\":0.1},\"line_color\":{\"value\":\"#1f77b4\"},\"x\":{\"value\":-0.18923138934851455},\"y\":{\"value\":-0.10929530894454947}},\"id\":\"2f4690b5-355e-4140-ad6a-d887f375bb7d\",\"type\":\"Circle\"},{\"attributes\":{\"end\":{\"id\":\"0119be06-7ecd-47ce-8f88-46fd9b2a5688\",\"type\":\"OpenHead\"},\"line_color\":{\"value\":\"gray\"},\"plot\":{\"id\":\"ebc1d307-a82a-4cc9-b563-b02177b22a01\",\"subtype\":\"Figure\",\"type\":\"Plot\"},\"source\":null,\"start\":null,\"x_end\":{\"value\":0.22227281986224046},\"x_start\":{\"value\":-0.03427472151108273},\"y_end\":{\"value\":-0.05292027339815597},\"y_start\":{\"value\":-0.01623054882880976}},\"id\":\"3be27d10-6050-4fc3-bc52-1baf1c6a2fb6\",\"type\":\"Arrow\"},{\"attributes\":{\"line_color\":{\"value\":\"firebrick\"},\"line_width\":{\"value\":2},\"plot\":null,\"size\":10},\"id\":\"61c157f5-129e-464f-8685-2dfb1e919808\",\"type\":\"OpenHead\"},{\"attributes\":{\"end\":{\"id\":\"09d94a44-ece9-4ec9-a931-ed12908d617a\",\"type\":\"OpenHead\"},\"line_color\":{\"value\":\"gray\"},\"plot\":{\"id\":\"ebc1d307-a82a-4cc9-b563-b02177b22a01\",\"subtype\":\"Figure\",\"type\":\"Plot\"},\"source\":null,\"start\":null,\"x_end\":{\"value\":-0.07758613718775671},\"x_start\":{\"value\":0.22227281986224046},\"y_end\":{\"value\":-0.0011535661632267355},\"y_start\":{\"value\":-0.05292027339815597}},\"id\":\"c3cc06d2-9c9e-4c6c-9913-f37e594f9a03\",\"type\":\"Arrow\"},{\"attributes\":{\"data_source\":{\"id\":\"3f997f18-9d34-48f6-9477-5117d4eb779e\",\"type\":\"ColumnDataSource\"},\"glyph\":{\"id\":\"e610c3bd-62b6-46be-93a5-2b503de4cb7e\",\"type\":\"Circle\"},\"hover_glyph\":null,\"muted_glyph\":null,\"name\":\"circle\",\"nonselection_glyph\":{\"id\":\"795f3c01-c2ce-4338-8b41-87740f7ad457\",\"type\":\"Circle\"},\"selection_glyph\":null,\"view\":{\"id\":\"d4772e04-6586-43d3-b32b-13109b0d3118\",\"type\":\"CDSView\"}},\"id\":\"7c97dfa5-827e-46e3-9173-b9546729600c\",\"type\":\"GlyphRenderer\"},{\"attributes\":{\"end\":{\"id\":\"61c157f5-129e-464f-8685-2dfb1e919808\",\"type\":\"OpenHead\"},\"line_color\":{\"value\":\"gray\"},\"plot\":{\"id\":\"ebc1d307-a82a-4cc9-b563-b02177b22a01\",\"subtype\":\"Figure\",\"type\":\"Plot\"},\"source\":null,\"start\":null,\"x_end\":{\"value\":-0.026213876497466627},\"x_start\":{\"value\":-0.07758613718775671},\"y_end\":{\"value\":0.09980844048222995},\"y_start\":{\"value\":-0.0011535661632267355}},\"id\":\"40fa3140-e685-4207-aaa6-51903a96445b\",\"type\":\"Arrow\"},{\"attributes\":{\"below\":[{\"id\":\"3fa2385d-cac9-4843-af02-7d19a7622f93\",\"type\":\"LinearAxis\"}],\"left\":[{\"id\":\"02631167-88de-4f3c-974c-a20859e9e56a\",\"type\":\"LinearAxis\"}],\"renderers\":[{\"id\":\"3fa2385d-cac9-4843-af02-7d19a7622f93\",\"type\":\"LinearAxis\"},{\"id\":\"2e519c3f-a411-47e0-99f0-26ecdf4c0953\",\"type\":\"Grid\"},{\"id\":\"02631167-88de-4f3c-974c-a20859e9e56a\",\"type\":\"LinearAxis\"},{\"id\":\"9ceada83-508f-44e4-88b0-a76c91bbb575\",\"type\":\"Grid\"},{\"id\":\"787a108b-6dd4-4c97-90d6-b3501e9f504a\",\"type\":\"Arrow\"},{\"id\":\"6fbfc7fa-bc04-4418-96b9-541d2e75018d\",\"type\":\"Arrow\"},{\"id\":\"1b0f220d-ee24-41fc-ae5c-95ab47a9be58\",\"type\":\"Arrow\"},{\"id\":\"307a50eb-b930-4fc0-acfd-ad13dc7ce55a\",\"type\":\"Arrow\"},{\"id\":\"e022bcab-cfd0-4ed5-a8ff-8f80525aef08\",\"type\":\"Arrow\"},{\"id\":\"996eff7f-9cd6-432a-879b-bcfe741352e6\",\"type\":\"Arrow\"},{\"id\":\"b7fbffb0-451a-45c0-875e-60bd7cd66a39\",\"type\":\"Arrow\"},{\"id\":\"d05a7476-ef9f-49f8-a7a7-d88e030fa524\",\"type\":\"Arrow\"},{\"id\":\"786fbed3-874a-4bea-8b24-4498d79a34d1\",\"type\":\"Arrow\"},{\"id\":\"82ae6bc0-621f-45c3-85bb-b7c85ab11aaf\",\"type\":\"Arrow\"},{\"id\":\"17c37ce6-e883-4116-94aa-d0fb1e4ac333\",\"type\":\"Arrow\"},{\"id\":\"060064a3-654d-428f-a7af-5190c07f12db\",\"type\":\"Arrow\"},{\"id\":\"41acf6cb-2b2a-4535-9a85-3ac7b0709272\",\"type\":\"Arrow\"},{\"id\":\"f8f07d63-ce90-4048-adf5-d3348a5a068d\",\"type\":\"Arrow\"},{\"id\":\"98774260-e9bb-4bab-b33d-932c8475c6c2\",\"type\":\"Arrow\"},{\"id\":\"decd492d-9dc4-4464-bc4c-59c9aafec143\",\"type\":\"Arrow\"},{\"id\":\"32a6dddd-5be6-4001-a594-fe1adf02052a\",\"type\":\"Arrow\"},{\"id\":\"4110d5fc-e369-4437-839c-a92129823177\",\"type\":\"Arrow\"},{\"id\":\"a7fb0fe1-b67d-452a-ae59-a20b65d88a50\",\"type\":\"Arrow\"},{\"id\":\"34bb6cb0-4150-4e03-a514-5b7f5935ff41\",\"type\":\"Arrow\"},{\"id\":\"bedb232f-7409-45e3-bf2d-b7cd6f0f44e1\",\"type\":\"Arrow\"},{\"id\":\"9648da1e-eafe-4882-89e8-d37395a0b16f\",\"type\":\"Arrow\"},{\"id\":\"6e8b4069-2820-4d1d-8ab5-05a9b07949fd\",\"type\":\"Arrow\"},{\"id\":\"3be27d10-6050-4fc3-bc52-1baf1c6a2fb6\",\"type\":\"Arrow\"},{\"id\":\"c3cc06d2-9c9e-4c6c-9913-f37e594f9a03\",\"type\":\"Arrow\"},{\"id\":\"40fa3140-e685-4207-aaa6-51903a96445b\",\"type\":\"Arrow\"},{\"id\":\"7c97dfa5-827e-46e3-9173-b9546729600c\",\"type\":\"GlyphRenderer\"},{\"id\":\"e0a9a3bd-cf24-436c-9260-d8c0f2dc3f5c\",\"type\":\"GlyphRenderer\"},{\"id\":\"88f30aee-046a-4fae-9ee2-27435b2e500c\",\"type\":\"GlyphRenderer\"},{\"id\":\"8559adbe-52e1-48ce-a276-8d27621db1a3\",\"type\":\"GlyphRenderer\"},{\"id\":\"0600adb2-85ed-4657-9944-9a7100575eb1\",\"type\":\"GlyphRenderer\"},{\"id\":\"21210a08-6731-4808-a912-c155e36ba33b\",\"type\":\"GlyphRenderer\"},{\"id\":\"e988d162-be83-429a-9bae-0b36a7d40cde\",\"type\":\"GlyphRenderer\"}],\"title\":{\"id\":\"73f3dc13-8bd7-4364-922b-c7c898300e75\",\"type\":\"Title\"},\"toolbar\":{\"id\":\"c72b448f-be13-4675-b8a4-221d907c907b\",\"type\":\"Toolbar\"},\"x_range\":{\"id\":\"54fbb484-6243-4a23-bc10-e6a3d4c348e4\",\"type\":\"DataRange1d\"},\"x_scale\":{\"id\":\"63cd73b1-4134-4abc-a8fb-2e00350edc81\",\"type\":\"LinearScale\"},\"y_range\":{\"id\":\"9ca5afe8-fa38-4d71-b97f-5115ce496ca6\",\"type\":\"DataRange1d\"},\"y_scale\":{\"id\":\"926a29d0-4b3d-4fe8-bd45-91913621a78e\",\"type\":\"LinearScale\"}},\"id\":\"ebc1d307-a82a-4cc9-b563-b02177b22a01\",\"subtype\":\"Figure\",\"type\":\"Plot\"},{\"attributes\":{\"callback\":null,\"data\":{},\"selected\":null,\"selection_policy\":null},\"id\":\"55e7235f-9979-42a7-a084-4e8da594b154\",\"type\":\"ColumnDataSource\"},{\"attributes\":{\"fill_color\":{\"value\":\"magenta\"},\"line_color\":{\"value\":\"magenta\"},\"size\":{\"units\":\"screen\",\"value\":5},\"x\":{\"value\":-0.05168691034961503},\"y\":{\"value\":0.047258680955939894}},\"id\":\"ba07cb91-10b7-45cb-a79f-6cb4fa580da0\",\"type\":\"Circle\"},{\"attributes\":{\"callback\":null,\"names\":[\"circle\"],\"tooltips\":[[\"true action\",\"@desc\"],[\"prediction\",\"@pred\"],[\"not_skip_gate\",\"@not_skip\"]]},\"id\":\"caaeca7d-b7ee-4c7a-bebe-736d6fab3479\",\"type\":\"HoverTool\"},{\"attributes\":{\"line_color\":{\"value\":\"firebrick\"},\"line_width\":{\"value\":2},\"plot\":null,\"size\":10},\"id\":\"2c141100-ccaf-49be-85b6-25fe019e4d39\",\"type\":\"OpenHead\"},{\"attributes\":{\"fill_alpha\":{\"value\":0.1},\"fill_color\":{\"value\":\"#1f77b4\"},\"line_alpha\":{\"value\":0.1},\"line_color\":{\"value\":\"#1f77b4\"},\"size\":{\"units\":\"screen\",\"value\":10},\"x\":{\"field\":\"x\"},\"y\":{\"field\":\"y\"}},\"id\":\"795f3c01-c2ce-4338-8b41-87740f7ad457\",\"type\":\"Circle\"},{\"attributes\":{\"plot\":null,\"text\":\"\"},\"id\":\"73f3dc13-8bd7-4364-922b-c7c898300e75\",\"type\":\"Title\"},{\"attributes\":{\"callback\":null,\"column_names\":[\"x\",\"y\",\"desc\",\"pred\",\"not_skip\"],\"data\":{\"desc\":[\"    - utter_ask_details\",\"    - utter_explain_details_hotel\",\"    - utter_ask_details\",\"    - utter_chitchat\",\"    - utter_ask_details\",\"    - utter_ask_startdate\",\"    - utter_ask_location\",\"    - utter_explain_location_hotel\",\"    - utter_ask_location\",\"    - utter_ask_price\",\"    - utter_chitchat\",\"    - utter_ask_price\",\"    - utter_chitchat\",\"    - utter_ask_price\",\"    - utter_chitchat\",\"    - utter_ask_price\",\"    - utter_chitchat\",\"    - utter_ask_price\",\"    - utter_explain_price_hotel\",\"    - utter_ask_price\",\"    - utter_ask_people\",\"    - utter_filled_slots\",\"    - action_search_hotel\",\"    - utter_suggest_hotel\",\"    - utter_chitchat\",\"    - utter_suggest_hotel\",\"    - utter_happy\"],\"not_skip\":[{\"__ndarray__\":\"KOOpPA==\",\"dtype\":\"float32\",\"shape\":[1]},{\"__ndarray__\":\"ZNmkPg==\",\"dtype\":\"float32\",\"shape\":[1]},{\"__ndarray__\":\"GT7pPA==\",\"dtype\":\"float32\",\"shape\":[1]},{\"__ndarray__\":\"ObX1PQ==\",\"dtype\":\"float32\",\"shape\":[1]},{\"__ndarray__\":\"DzPnPA==\",\"dtype\":\"float32\",\"shape\":[1]},{\"__ndarray__\":\"0PR+Pw==\",\"dtype\":\"float32\",\"shape\":[1]},{\"__ndarray__\":\"VPR4Pw==\",\"dtype\":\"float32\",\"shape\":[1]},{\"__ndarray__\":\"Mx+NPg==\",\"dtype\":\"float32\",\"shape\":[1]},{\"__ndarray__\":\"NgTLPA==\",\"dtype\":\"float32\",\"shape\":[1]},{\"__ndarray__\":\"N999Pw==\",\"dtype\":\"float32\",\"shape\":[1]},{\"__ndarray__\":\"g42fPQ==\",\"dtype\":\"float32\",\"shape\":[1]},{\"__ndarray__\":\"dKuxPA==\",\"dtype\":\"float32\",\"shape\":[1]},{\"__ndarray__\":\"vpXIPQ==\",\"dtype\":\"float32\",\"shape\":[1]},{\"__ndarray__\":\"eE/BPA==\",\"dtype\":\"float32\",\"shape\":[1]},{\"__ndarray__\":\"VKPIPQ==\",\"dtype\":\"float32\",\"shape\":[1]},{\"__ndarray__\":\"VNrBPA==\",\"dtype\":\"float32\",\"shape\":[1]},{\"__ndarray__\":\"PYjJPQ==\",\"dtype\":\"float32\",\"shape\":[1]},{\"__ndarray__\":\"FE3CPA==\",\"dtype\":\"float32\",\"shape\":[1]},{\"__ndarray__\":\"nSWPPg==\",\"dtype\":\"float32\",\"shape\":[1]},{\"__ndarray__\":\"doTCPA==\",\"dtype\":\"float32\",\"shape\":[1]},{\"__ndarray__\":\"weR6Pw==\",\"dtype\":\"float32\",\"shape\":[1]},{\"__ndarray__\":\"hRZ6Pw==\",\"dtype\":\"float32\",\"shape\":[1]},{\"__ndarray__\":\"0ZbDPA==\",\"dtype\":\"float32\",\"shape\":[1]},{\"__ndarray__\":\"F1QUPQ==\",\"dtype\":\"float32\",\"shape\":[1]},{\"__ndarray__\":\"TDnzPQ==\",\"dtype\":\"float32\",\"shape\":[1]},{\"__ndarray__\":\"Qp/yPA==\",\"dtype\":\"float32\",\"shape\":[1]},{\"__ndarray__\":\"HOUCPg==\",\"dtype\":\"float32\",\"shape\":[1]}],\"pred\":[\"utter_ask_details\",\"utter_explain_people_hotel\",\"utter_ask_details\",\"utter_chitchat\",\"utter_ask_details\",\"utter_ask_startdate\",\"utter_ask_enddate\",\"utter_explain_details_hotel\",\"utter_ask_location\",\"utter_ask_people\",\"utter_chitchat\",\"utter_ask_price\",\"utter_chitchat\",\"utter_ask_price\",\"utter_chitchat\",\"utter_ask_price\",\"utter_chitchat\",\"utter_ask_price\",\"utter_explain_details_hotel\",\"utter_ask_price\",\"utter_ask_people\",\"utter_filled_slots\",\"action_search_hotel\",\"utter_suggest_hotel\",\"utter_chitchat\",\"utter_suggest_hotel\",\"utter_happy\"],\"x\":{\"__ndarray__\":\"HkOnIUmatr/dJEI287qsP2CAlglrRb+/K8u9nbXByj9Pxd3dj9+6vyzMUxNxkcC/NprCYDDMsr9meQ+Zc3SoP7ohKT9r/7i/iKlEjiSioj+EAAE8QgnMPzuR8OSo08e/9ibsHT2hzD82A5IXIqvGv4c1XyqkGM0/OfoUu60Nxr9BkVp0laHNP1E5wIfKgcW/R7rcX7+5rz9eMr6ImMTDv3+dGpcoQ5k/Uj6bvBWnrj8pJTE8+hV/v3dw8M90jKG//IsMjm9zzD+VKdhhr9yzv7oxCHnP15q/\",\"dtype\":\"float64\",\"shape\":[27]},\"y\":{\"__ndarray__\":\"3T8TGUqAxT+FU74us9nLP4dKjtw8aqw/KPNlCnkctb915xj3o0eyP1kE5NDlFKS/SybsParSpz/Zf4fA44ewP2L1lkMv26i/SxPngcp7yz94sNYQ0u25vyjewiIMBcG/mtpuGa4bvr+jyLP+0mTAv6lYW6C2Qr+/wFBVvMS+wL8NQHdlESTAv+4aVHpJN8G/Uu2fAl7Brj9Z/XEWhkvCvx9l7HjpPsM/Xkgm8YK5zT94618oUBxvv5LZqbG9npC/ALcUt10Yq7+OHHg8aOZSv5JmvMMLjbk/\",\"dtype\":\"float64\",\"shape\":[27]}},\"selected\":null,\"selection_policy\":null},\"id\":\"3f997f18-9d34-48f6-9477-5117d4eb779e\",\"type\":\"ColumnDataSource\"},{\"attributes\":{\"data_source\":{\"id\":\"17e90f06-6482-480b-8c1c-c8526b380c79\",\"type\":\"ColumnDataSource\"},\"glyph\":{\"id\":\"b4fe2a6a-8699-4108-98fa-762d3964e51a\",\"type\":\"Circle\"},\"hover_glyph\":null,\"muted_glyph\":null,\"name\":\"circle\",\"nonselection_glyph\":{\"id\":\"2596caad-f8fb-49af-b92d-0d03c38c546c\",\"type\":\"Circle\"},\"selection_glyph\":null,\"view\":{\"id\":\"3b871ca7-beeb-4c25-bc08-f84db1173e99\",\"type\":\"CDSView\"}},\"id\":\"88f30aee-046a-4fae-9ee2-27435b2e500c\",\"type\":\"GlyphRenderer\"},{\"attributes\":{\"active_drag\":\"auto\",\"active_inspect\":\"auto\",\"active_scroll\":\"auto\",\"active_tap\":\"auto\",\"tools\":[{\"id\":\"caaeca7d-b7ee-4c7a-bebe-736d6fab3479\",\"type\":\"HoverTool\"}]},\"id\":\"c72b448f-be13-4675-b8a4-221d907c907b\",\"type\":\"Toolbar\"},{\"attributes\":{\"callback\":null},\"id\":\"9ca5afe8-fa38-4d71-b97f-5115ce496ca6\",\"type\":\"DataRange1d\"},{\"attributes\":{\"source\":{\"id\":\"49ae0043-967a-4dd8-adc4-851d7c85f986\",\"type\":\"ColumnDataSource\"}},\"id\":\"82670df0-051c-4e5e-a769-4559fa4dc19d\",\"type\":\"CDSView\"},{\"attributes\":{\"callback\":null},\"id\":\"54fbb484-6243-4a23-bc10-e6a3d4c348e4\",\"type\":\"DataRange1d\"},{\"attributes\":{},\"id\":\"39023ba9-843b-4f83-9c6b-92936f21637f\",\"type\":\"BasicTickFormatter\"},{\"attributes\":{\"line_color\":{\"value\":\"firebrick\"},\"line_width\":{\"value\":2},\"plot\":null,\"size\":10},\"id\":\"1d0f163f-71e6-4abb-80d8-441f564d1adf\",\"type\":\"OpenHead\"},{\"attributes\":{\"fill_alpha\":{\"value\":0.1},\"fill_color\":{\"value\":\"#1f77b4\"},\"line_alpha\":{\"value\":0.1},\"line_color\":{\"value\":\"#1f77b4\"},\"size\":{\"units\":\"screen\",\"value\":5},\"x\":{\"field\":\"x\"},\"y\":{\"field\":\"y\"}},\"id\":\"19a48d69-3dc8-478d-9765-4d54ec0479fc\",\"type\":\"Circle\"},{\"attributes\":{},\"id\":\"926a29d0-4b3d-4fe8-bd45-91913621a78e\",\"type\":\"LinearScale\"},{\"attributes\":{\"callback\":null,\"column_names\":[\"x\",\"y\",\"desc\",\"pred\",\"not_skip\"],\"data\":{\"desc\":[\"    - utter_ask_details\",\"    - utter_explain_details_hotel\",\"    - utter_ask_details\",\"    - utter_chitchat\",\"    - utter_ask_details\",\"    - utter_ask_startdate\",\"    - utter_ask_location\",\"    - utter_explain_location_hotel\",\"    - utter_ask_location\",\"    - utter_ask_price\",\"    - utter_chitchat\",\"    - utter_ask_price\",\"    - utter_chitchat\",\"    - utter_ask_price\",\"    - utter_chitchat\",\"    - utter_ask_price\",\"    - utter_chitchat\",\"    - utter_ask_price\",\"    - utter_explain_price_hotel\",\"    - utter_ask_price\",\"    - utter_ask_people\",\"    - utter_filled_slots\",\"    - action_search_hotel\",\"    - utter_suggest_hotel\",\"    - utter_chitchat\",\"    - utter_suggest_hotel\",\"    - utter_happy\"],\"not_skip\":[{\"__ndarray__\":\"KOOpPA==\",\"dtype\":\"float32\",\"shape\":[1]},{\"__ndarray__\":\"ZNmkPg==\",\"dtype\":\"float32\",\"shape\":[1]},{\"__ndarray__\":\"GT7pPA==\",\"dtype\":\"float32\",\"shape\":[1]},{\"__ndarray__\":\"ObX1PQ==\",\"dtype\":\"float32\",\"shape\":[1]},{\"__ndarray__\":\"DzPnPA==\",\"dtype\":\"float32\",\"shape\":[1]},{\"__ndarray__\":\"0PR+Pw==\",\"dtype\":\"float32\",\"shape\":[1]},{\"__ndarray__\":\"VPR4Pw==\",\"dtype\":\"float32\",\"shape\":[1]},{\"__ndarray__\":\"Mx+NPg==\",\"dtype\":\"float32\",\"shape\":[1]},{\"__ndarray__\":\"NgTLPA==\",\"dtype\":\"float32\",\"shape\":[1]},{\"__ndarray__\":\"N999Pw==\",\"dtype\":\"float32\",\"shape\":[1]},{\"__ndarray__\":\"g42fPQ==\",\"dtype\":\"float32\",\"shape\":[1]},{\"__ndarray__\":\"dKuxPA==\",\"dtype\":\"float32\",\"shape\":[1]},{\"__ndarray__\":\"vpXIPQ==\",\"dtype\":\"float32\",\"shape\":[1]},{\"__ndarray__\":\"eE/BPA==\",\"dtype\":\"float32\",\"shape\":[1]},{\"__ndarray__\":\"VKPIPQ==\",\"dtype\":\"float32\",\"shape\":[1]},{\"__ndarray__\":\"VNrBPA==\",\"dtype\":\"float32\",\"shape\":[1]},{\"__ndarray__\":\"PYjJPQ==\",\"dtype\":\"float32\",\"shape\":[1]},{\"__ndarray__\":\"FE3CPA==\",\"dtype\":\"float32\",\"shape\":[1]},{\"__ndarray__\":\"nSWPPg==\",\"dtype\":\"float32\",\"shape\":[1]},{\"__ndarray__\":\"doTCPA==\",\"dtype\":\"float32\",\"shape\":[1]},{\"__ndarray__\":\"weR6Pw==\",\"dtype\":\"float32\",\"shape\":[1]},{\"__ndarray__\":\"hRZ6Pw==\",\"dtype\":\"float32\",\"shape\":[1]},{\"__ndarray__\":\"0ZbDPA==\",\"dtype\":\"float32\",\"shape\":[1]},{\"__ndarray__\":\"F1QUPQ==\",\"dtype\":\"float32\",\"shape\":[1]},{\"__ndarray__\":\"TDnzPQ==\",\"dtype\":\"float32\",\"shape\":[1]},{\"__ndarray__\":\"Qp/yPA==\",\"dtype\":\"float32\",\"shape\":[1]},{\"__ndarray__\":\"HOUCPg==\",\"dtype\":\"float32\",\"shape\":[1]}],\"pred\":[\"utter_ask_details\",\"utter_explain_people_hotel\",\"utter_ask_details\",\"utter_chitchat\",\"utter_ask_details\",\"utter_ask_startdate\",\"utter_ask_enddate\",\"utter_explain_details_hotel\",\"utter_ask_location\",\"utter_ask_people\",\"utter_chitchat\",\"utter_ask_price\",\"utter_chitchat\",\"utter_ask_price\",\"utter_chitchat\",\"utter_ask_price\",\"utter_chitchat\",\"utter_ask_price\",\"utter_explain_details_hotel\",\"utter_ask_price\",\"utter_ask_people\",\"utter_filled_slots\",\"action_search_hotel\",\"utter_suggest_hotel\",\"utter_chitchat\",\"utter_suggest_hotel\",\"utter_happy\"],\"x\":{\"__ndarray__\":\"rCVjAjlHmL836/ryDf6hvwPIj/OUBbW/XpBzqUzys78+r6O3IUi1v8ueTNGXxKW/bmtKWe48qb+9ylBSvj2kv6UwJZjzDra/TTr/Lddirb8FRuZLcdGpvxzc2LXzu8W/2xz9b5t8qb/n2RVO3zPFvzgvOzV0iam/MT0WrKkoxb+uRylrz6mpv/dfGcRSLsW/le/1EsCJqb+Szggsla7Ev2eZTjJxV66/v4F4mncBrb94zPyXLKKpv4xcj5cEp6u/cboLikN0q7/N+XmUYqmtv1jtCDrszK2/\",\"dtype\":\"float64\",\"shape\":[27]},\"y\":{\"__ndarray__\":\"mCfJ83L9zz+nHMy0TM7MPzM4I0CvW8E/Ht60tMgrvz8ysCwIWYvAP1TEn/joLsM/SilTZ+lhwj9XXgYySJ22P0QZbOLP6pk/cPUH9wnbwD+4Arky8dq2P2kZ8NPoarO/b0XOBy0YtT/yezLjEHuxvyZUU6mUqbQ/XSoKZ0lAsb9emkRg3GK0P2GKW9eLVLG/EokINbm2sz+j8MUbLbevvw8R2eSOtcA/5PkqN/RztD9OoG0ZS26yPzQd6PNggrY/gImo1uepsz+AcCE3Hl2vP8CTNwRkBLU/\",\"dtype\":\"float64\",\"shape\":[27]}},\"selected\":null,\"selection_policy\":null},\"id\":\"49ae0043-967a-4dd8-adc4-851d7c85f986\",\"type\":\"ColumnDataSource\"},{\"attributes\":{},\"id\":\"63cd73b1-4134-4abc-a8fb-2e00350edc81\",\"type\":\"LinearScale\"},{\"attributes\":{\"fill_color\":{\"value\":\"green\"},\"line_color\":{\"value\":\"green\"},\"size\":{\"units\":\"screen\",\"value\":5},\"x\":{\"field\":\"x\"},\"y\":{\"field\":\"y\"}},\"id\":\"cd477daf-b5de-4390-bb06-f5c7562b151a\",\"type\":\"Circle\"},{\"attributes\":{\"end\":{\"id\":\"2c141100-ccaf-49be-85b6-25fe019e4d39\",\"type\":\"OpenHead\"},\"line_color\":{\"value\":\"gray\"},\"plot\":{\"id\":\"ebc1d307-a82a-4cc9-b563-b02177b22a01\",\"subtype\":\"Figure\",\"type\":\"Plot\"},\"source\":null,\"start\":null,\"x_end\":{\"value\":0.056113815663658896},\"x_start\":{\"value\":-0.08829171249022891},\"y_end\":{\"value\":0.21758117468257523},\"y_start\":{\"value\":0.16797758316397352}},\"id\":\"787a108b-6dd4-4c97-90d6-b3501e9f504a\",\"type\":\"Arrow\"},{\"attributes\":{\"data_source\":{\"id\":\"49ae0043-967a-4dd8-adc4-851d7c85f986\",\"type\":\"ColumnDataSource\"},\"glyph\":{\"id\":\"cd477daf-b5de-4390-bb06-f5c7562b151a\",\"type\":\"Circle\"},\"hover_glyph\":null,\"muted_glyph\":null,\"name\":\"circle\",\"nonselection_glyph\":{\"id\":\"19a48d69-3dc8-478d-9765-4d54ec0479fc\",\"type\":\"Circle\"},\"selection_glyph\":null,\"view\":{\"id\":\"82670df0-051c-4e5e-a769-4559fa4dc19d\",\"type\":\"CDSView\"}},\"id\":\"e0a9a3bd-cf24-436c-9260-d8c0f2dc3f5c\",\"type\":\"GlyphRenderer\"},{\"attributes\":{\"formatter\":{\"id\":\"39023ba9-843b-4f83-9c6b-92936f21637f\",\"type\":\"BasicTickFormatter\"},\"plot\":{\"id\":\"ebc1d307-a82a-4cc9-b563-b02177b22a01\",\"subtype\":\"Figure\",\"type\":\"Plot\"},\"ticker\":{\"id\":\"c9f75979-520e-4ba9-ac8a-fd0b02ed09d7\",\"type\":\"BasicTicker\"}},\"id\":\"3fa2385d-cac9-4843-af02-7d19a7622f93\",\"type\":\"LinearAxis\"},{\"attributes\":{\"callback\":null,\"column_names\":[\"x\",\"y\",\"desc\",\"pred\",\"not_skip\"],\"data\":{\"desc\":[\"    - utter_ask_details\",\"    - utter_explain_details_hotel\",\"    - utter_ask_details\",\"    - utter_chitchat\",\"    - utter_ask_details\",\"    - utter_ask_startdate\",\"    - utter_ask_location\",\"    - utter_explain_location_hotel\",\"    - utter_ask_location\",\"    - utter_ask_price\",\"    - utter_chitchat\",\"    - utter_ask_price\",\"    - utter_chitchat\",\"    - utter_ask_price\",\"    - utter_chitchat\",\"    - utter_ask_price\",\"    - utter_chitchat\",\"    - utter_ask_price\",\"    - utter_explain_price_hotel\",\"    - utter_ask_price\",\"    - utter_ask_people\",\"    - utter_filled_slots\",\"    - action_search_hotel\",\"    - utter_suggest_hotel\",\"    - utter_chitchat\",\"    - utter_suggest_hotel\",\"    - utter_happy\"],\"not_skip\":[{\"__ndarray__\":\"KOOpPA==\",\"dtype\":\"float32\",\"shape\":[1]},{\"__ndarray__\":\"ZNmkPg==\",\"dtype\":\"float32\",\"shape\":[1]},{\"__ndarray__\":\"GT7pPA==\",\"dtype\":\"float32\",\"shape\":[1]},{\"__ndarray__\":\"ObX1PQ==\",\"dtype\":\"float32\",\"shape\":[1]},{\"__ndarray__\":\"DzPnPA==\",\"dtype\":\"float32\",\"shape\":[1]},{\"__ndarray__\":\"0PR+Pw==\",\"dtype\":\"float32\",\"shape\":[1]},{\"__ndarray__\":\"VPR4Pw==\",\"dtype\":\"float32\",\"shape\":[1]},{\"__ndarray__\":\"Mx+NPg==\",\"dtype\":\"float32\",\"shape\":[1]},{\"__ndarray__\":\"NgTLPA==\",\"dtype\":\"float32\",\"shape\":[1]},{\"__ndarray__\":\"N999Pw==\",\"dtype\":\"float32\",\"shape\":[1]},{\"__ndarray__\":\"g42fPQ==\",\"dtype\":\"float32\",\"shape\":[1]},{\"__ndarray__\":\"dKuxPA==\",\"dtype\":\"float32\",\"shape\":[1]},{\"__ndarray__\":\"vpXIPQ==\",\"dtype\":\"float32\",\"shape\":[1]},{\"__ndarray__\":\"eE/BPA==\",\"dtype\":\"float32\",\"shape\":[1]},{\"__ndarray__\":\"VKPIPQ==\",\"dtype\":\"float32\",\"shape\":[1]},{\"__ndarray__\":\"VNrBPA==\",\"dtype\":\"float32\",\"shape\":[1]},{\"__ndarray__\":\"PYjJPQ==\",\"dtype\":\"float32\",\"shape\":[1]},{\"__ndarray__\":\"FE3CPA==\",\"dtype\":\"float32\",\"shape\":[1]},{\"__ndarray__\":\"nSWPPg==\",\"dtype\":\"float32\",\"shape\":[1]},{\"__ndarray__\":\"doTCPA==\",\"dtype\":\"float32\",\"shape\":[1]},{\"__ndarray__\":\"weR6Pw==\",\"dtype\":\"float32\",\"shape\":[1]},{\"__ndarray__\":\"hRZ6Pw==\",\"dtype\":\"float32\",\"shape\":[1]},{\"__ndarray__\":\"0ZbDPA==\",\"dtype\":\"float32\",\"shape\":[1]},{\"__ndarray__\":\"F1QUPQ==\",\"dtype\":\"float32\",\"shape\":[1]},{\"__ndarray__\":\"TDnzPQ==\",\"dtype\":\"float32\",\"shape\":[1]},{\"__ndarray__\":\"Qp/yPA==\",\"dtype\":\"float32\",\"shape\":[1]},{\"__ndarray__\":\"HOUCPg==\",\"dtype\":\"float32\",\"shape\":[1]}],\"pred\":[\"utter_ask_details\",\"utter_explain_people_hotel\",\"utter_ask_details\",\"utter_chitchat\",\"utter_ask_details\",\"utter_ask_startdate\",\"utter_ask_enddate\",\"utter_explain_details_hotel\",\"utter_ask_location\",\"utter_ask_people\",\"utter_chitchat\",\"utter_ask_price\",\"utter_chitchat\",\"utter_ask_price\",\"utter_chitchat\",\"utter_ask_price\",\"utter_chitchat\",\"utter_ask_price\",\"utter_explain_details_hotel\",\"utter_ask_price\",\"utter_ask_people\",\"utter_filled_slots\",\"action_search_hotel\",\"utter_suggest_hotel\",\"utter_chitchat\",\"utter_suggest_hotel\",\"utter_happy\"],\"x\":{\"__ndarray__\":\"fThUVNXDvb/6YnA4TEKkP5v9MY0we7e/kA84vC4dzj/hjuKQyNKyv5xh/Vn4vcG/4HW6tBNps79oDWb8fDuiPxZLgh7SK7C/F+/240aOpT9qaElU8d/LP0pnWNTEarG/Yw+Xv7ZizD84y4793ymwv6g5YABU3cw/U1WwGsUKrr8kQ4QgXG7NP6A8uemTxKu/YtBmjMrMrj9jbDRrws6mv3CdOZRQgqA/wf6gNuyYsD+YpC61Ht2Cv+nn8iclXKC/HXcINdOyzD/W88aKWEOyv+yRvtRgK5S/\",\"dtype\":\"float64\",\"shape\":[27]},\"y\":{\"__ndarray__\":\"xNlyOVnCob/DZg0d5F+kP12MF+g10qC//FTyVI4XxL9ek8gQSK+Fv4KmVd+PJ8K/iwX7LrGCqb92uLSjAg+YPyWy/PGZPJu/I699FVOtwD8VePgYz1fCv9LS4jtTMIS///+D/VqNw79C9mVPf6uJvwPVaB2T6cO/dJXjuGuQkL9NDu0K7UjEv/i63zSIA5S/USyDmmsMnz8hhOEwoUShv6kopkDaK7E/wknVYRuMyT//Xy4MIjidv9QMNcHWIa2/U5h+mvEctb/nMdAJHQiPv+Li1dfMobA/\",\"dtype\":\"float64\",\"shape\":[27]}},\"selected\":null,\"selection_policy\":null},\"id\":\"17e90f06-6482-480b-8c1c-c8526b380c79\",\"type\":\"ColumnDataSource\"},{\"attributes\":{},\"id\":\"c9f75979-520e-4ba9-ac8a-fd0b02ed09d7\",\"type\":\"BasicTicker\"},{\"attributes\":{\"source\":{\"id\":\"17e90f06-6482-480b-8c1c-c8526b380c79\",\"type\":\"ColumnDataSource\"}},\"id\":\"3b871ca7-beeb-4c25-bc08-f84db1173e99\",\"type\":\"CDSView\"},{\"attributes\":{\"plot\":{\"id\":\"ebc1d307-a82a-4cc9-b563-b02177b22a01\",\"subtype\":\"Figure\",\"type\":\"Plot\"},\"ticker\":{\"id\":\"c9f75979-520e-4ba9-ac8a-fd0b02ed09d7\",\"type\":\"BasicTicker\"}},\"id\":\"2e519c3f-a411-47e0-99f0-26ecdf4c0953\",\"type\":\"Grid\"},{\"attributes\":{\"callback\":null,\"data\":{},\"selected\":null,\"selection_policy\":null},\"id\":\"4e4b5da2-d08d-4a59-9ca8-face0d7cff86\",\"type\":\"ColumnDataSource\"},{\"attributes\":{\"formatter\":{\"id\":\"7eec3a89-67be-4630-b520-7b606992aa32\",\"type\":\"BasicTickFormatter\"},\"plot\":{\"id\":\"ebc1d307-a82a-4cc9-b563-b02177b22a01\",\"subtype\":\"Figure\",\"type\":\"Plot\"},\"ticker\":{\"id\":\"7765d0c2-b799-4efc-898e-0a3ab18355f4\",\"type\":\"BasicTicker\"}},\"id\":\"02631167-88de-4f3c-974c-a20859e9e56a\",\"type\":\"LinearAxis\"},{\"attributes\":{},\"id\":\"7765d0c2-b799-4efc-898e-0a3ab18355f4\",\"type\":\"BasicTicker\"},{\"attributes\":{\"fill_color\":{\"value\":\"red\"},\"line_color\":{\"value\":\"red\"},\"size\":{\"units\":\"screen\",\"value\":5},\"x\":{\"field\":\"x\"},\"y\":{\"field\":\"y\"}},\"id\":\"b4fe2a6a-8699-4108-98fa-762d3964e51a\",\"type\":\"Circle\"},{\"attributes\":{\"dimension\":1,\"plot\":{\"id\":\"ebc1d307-a82a-4cc9-b563-b02177b22a01\",\"subtype\":\"Figure\",\"type\":\"Plot\"},\"ticker\":{\"id\":\"7765d0c2-b799-4efc-898e-0a3ab18355f4\",\"type\":\"BasicTicker\"}},\"id\":\"9ceada83-508f-44e4-88b0-a76c91bbb575\",\"type\":\"Grid\"},{\"attributes\":{\"fill_alpha\":{\"value\":0.1},\"fill_color\":{\"value\":\"#1f77b4\"},\"line_alpha\":{\"value\":0.1},\"line_color\":{\"value\":\"#1f77b4\"},\"size\":{\"units\":\"screen\",\"value\":5},\"x\":{\"field\":\"x\"},\"y\":{\"field\":\"y\"}},\"id\":\"2596caad-f8fb-49af-b92d-0d03c38c546c\",\"type\":\"Circle\"},{\"attributes\":{\"line_color\":{\"value\":\"firebrick\"},\"line_width\":{\"value\":2},\"plot\":null,\"size\":10},\"id\":\"68487a8e-63e5-4f51-ae36-54e930f79741\",\"type\":\"OpenHead\"},{\"attributes\":{\"fill_alpha\":{\"value\":0.1},\"fill_color\":{\"value\":\"#1f77b4\"},\"line_alpha\":{\"value\":0.1},\"line_color\":{\"value\":\"#1f77b4\"},\"size\":{\"units\":\"screen\",\"value\":5},\"x\":{\"value\":-0.05168691034961503},\"y\":{\"value\":0.047258680955939894}},\"id\":\"5ef6d72b-c30f-46c6-bc5a-d710e68ad4ca\",\"type\":\"Circle\"},{\"attributes\":{\"data_source\":{\"id\":\"55e7235f-9979-42a7-a084-4e8da594b154\",\"type\":\"ColumnDataSource\"},\"glyph\":{\"id\":\"ba07cb91-10b7-45cb-a79f-6cb4fa580da0\",\"type\":\"Circle\"},\"hover_glyph\":null,\"muted_glyph\":null,\"nonselection_glyph\":{\"id\":\"5ef6d72b-c30f-46c6-bc5a-d710e68ad4ca\",\"type\":\"Circle\"},\"selection_glyph\":null,\"view\":{\"id\":\"e4820e30-e300-4b2f-96f5-4543a08f0367\",\"type\":\"CDSView\"}},\"id\":\"8559adbe-52e1-48ce-a276-8d27621db1a3\",\"type\":\"GlyphRenderer\"},{\"attributes\":{\"line_color\":{\"value\":\"firebrick\"},\"line_width\":{\"value\":2},\"plot\":null,\"size\":10},\"id\":\"921535d1-c989-4a74-89c0-d22745c06324\",\"type\":\"OpenHead\"},{\"attributes\":{\"end\":{\"id\":\"68487a8e-63e5-4f51-ae36-54e930f79741\",\"type\":\"OpenHead\"},\"line_color\":{\"value\":\"gray\"},\"plot\":{\"id\":\"ebc1d307-a82a-4cc9-b563-b02177b22a01\",\"subtype\":\"Figure\",\"type\":\"Plot\"},\"source\":null,\"start\":null,\"x_end\":{\"value\":-0.09764738361366812},\"x_start\":{\"value\":0.04776345485128068},\"y_end\":{\"value\":-0.048547245979970524},\"y_start\":{\"value\":0.06457351160452109}},\"id\":\"d05a7476-ef9f-49f8-a7a7-d88e030fa524\",\"type\":\"Arrow\"},{\"attributes\":{\"end\":{\"id\":\"92d05750-df49-4799-98f8-533ba27dbf51\",\"type\":\"OpenHead\"},\"line_color\":{\"value\":\"gray\"},\"plot\":{\"id\":\"ebc1d307-a82a-4cc9-b563-b02177b22a01\",\"subtype\":\"Figure\",\"type\":\"Plot\"},\"source\":null,\"start\":null,\"x_end\":{\"value\":-0.07342817652043085},\"x_start\":{\"value\":-0.12943852847783555},\"y_end\":{\"value\":0.046529121455091436},\"y_start\":{\"value\":-0.03922193694052884}},\"id\":\"996eff7f-9cd6-432a-879b-bcfe741352e6\",\"type\":\"Arrow\"},{\"attributes\":{\"source\":{\"id\":\"55e7235f-9979-42a7-a084-4e8da594b154\",\"type\":\"ColumnDataSource\"}},\"id\":\"e4820e30-e300-4b2f-96f5-4543a08f0367\",\"type\":\"CDSView\"},{\"attributes\":{\"end\":{\"id\":\"1d0f163f-71e6-4abb-80d8-441f564d1adf\",\"type\":\"OpenHead\"},\"line_color\":{\"value\":\"gray\"},\"plot\":{\"id\":\"ebc1d307-a82a-4cc9-b563-b02177b22a01\",\"subtype\":\"Figure\",\"type\":\"Plot\"},\"source\":null,\"start\":null,\"x_end\":{\"value\":-0.12215298637465954},\"x_start\":{\"value\":0.056113815663658896},\"y_end\":{\"value\":0.055498029635733075},\"y_start\":{\"value\":0.21758117468257523}},\"id\":\"6fbfc7fa-bc04-4418-96b9-541d2e75018d\",\"type\":\"Arrow\"},{\"attributes\":{\"callback\":null,\"data\":{},\"selected\":null,\"selection_policy\":null},\"id\":\"52238440-7f7f-4c42-b254-38607fcc47ca\",\"type\":\"ColumnDataSource\"},{\"attributes\":{\"line_color\":{\"value\":\"firebrick\"},\"line_width\":{\"value\":2},\"plot\":null,\"size\":10},\"id\":\"1af03fd8-ec73-4c5a-bbdb-04e7e030f056\",\"type\":\"OpenHead\"},{\"attributes\":{\"fill_color\":{\"value\":\"green\"},\"line_color\":{\"value\":\"green\"},\"size\":{\"units\":\"screen\",\"value\":10},\"x\":{\"value\":-0.08829171249022891},\"y\":{\"value\":0.16797758316397352}},\"id\":\"714cd29e-b1bf-4385-973b-600ce764b794\",\"type\":\"Circle\"},{\"attributes\":{\"end\":{\"id\":\"921535d1-c989-4a74-89c0-d22745c06324\",\"type\":\"OpenHead\"},\"line_color\":{\"value\":\"gray\"},\"plot\":{\"id\":\"ebc1d307-a82a-4cc9-b563-b02177b22a01\",\"subtype\":\"Figure\",\"type\":\"Plot\"},\"source\":null,\"start\":null,\"x_end\":{\"value\":0.2090365429135884},\"x_start\":{\"value\":-0.12215298637465954},\"y_end\":{\"value\":-0.08246571067679709},\"y_start\":{\"value\":0.055498029635733075}},\"id\":\"1b0f220d-ee24-41fc-ae5c-95ab47a9be58\",\"type\":\"Arrow\"},{\"attributes\":{\"data_source\":{\"id\":\"4e4b5da2-d08d-4a59-9ca8-face0d7cff86\",\"type\":\"ColumnDataSource\"},\"glyph\":{\"id\":\"714cd29e-b1bf-4385-973b-600ce764b794\",\"type\":\"Circle\"},\"hover_glyph\":null,\"muted_glyph\":null,\"nonselection_glyph\":{\"id\":\"75497c89-656e-41a1-b26e-797a1ae18920\",\"type\":\"Circle\"},\"selection_glyph\":null,\"view\":{\"id\":\"b809e940-9ef5-48af-81ac-0e5402033c3b\",\"type\":\"CDSView\"}},\"id\":\"0600adb2-85ed-4657-9944-9a7100575eb1\",\"type\":\"GlyphRenderer\"},{\"attributes\":{\"line_color\":{\"value\":\"firebrick\"},\"line_width\":{\"value\":2},\"plot\":null,\"size\":10},\"id\":\"cfae2b55-8002-4757-b123-eed09580384b\",\"type\":\"OpenHead\"},{\"attributes\":{\"fill_alpha\":{\"value\":0.1},\"fill_color\":{\"value\":\"#1f77b4\"},\"line_alpha\":{\"value\":0.1},\"line_color\":{\"value\":\"#1f77b4\"},\"size\":{\"units\":\"screen\",\"value\":10},\"x\":{\"value\":-0.08829171249022891},\"y\":{\"value\":0.16797758316397352}},\"id\":\"75497c89-656e-41a1-b26e-797a1ae18920\",\"type\":\"Circle\"},{\"attributes\":{\"end\":{\"id\":\"1af03fd8-ec73-4c5a-bbdb-04e7e030f056\",\"type\":\"OpenHead\"},\"line_color\":{\"value\":\"gray\"},\"plot\":{\"id\":\"ebc1d307-a82a-4cc9-b563-b02177b22a01\",\"subtype\":\"Figure\",\"type\":\"Plot\"},\"source\":null,\"start\":null,\"x_end\":{\"value\":-0.10497378508241194},\"x_start\":{\"value\":0.2090365429135884},\"y_end\":{\"value\":0.07140564711235504},\"y_start\":{\"value\":-0.08246571067679709}},\"id\":\"307a50eb-b930-4fc0-acfd-ad13dc7ce55a\",\"type\":\"Arrow\"},{\"attributes\":{\"source\":{\"id\":\"4e4b5da2-d08d-4a59-9ca8-face0d7cff86\",\"type\":\"ColumnDataSource\"}},\"id\":\"b809e940-9ef5-48af-81ac-0e5402033c3b\",\"type\":\"CDSView\"},{\"attributes\":{\"line_color\":{\"value\":\"firebrick\"},\"line_width\":{\"value\":2},\"plot\":null,\"size\":10},\"id\":\"e805faa6-61ed-4d0b-b2e6-2c141c474175\",\"type\":\"OpenHead\"},{\"attributes\":{\"end\":{\"id\":\"cfae2b55-8002-4757-b123-eed09580384b\",\"type\":\"OpenHead\"},\"line_color\":{\"value\":\"gray\"},\"plot\":{\"id\":\"ebc1d307-a82a-4cc9-b563-b02177b22a01\",\"subtype\":\"Figure\",\"type\":\"Plot\"},\"source\":null,\"start\":null,\"x_end\":{\"value\":-0.12943852847783555},\"x_start\":{\"value\":-0.10497378508241194},\"y_end\":{\"value\":-0.03922193694052884},\"y_start\":{\"value\":0.07140564711235504}},\"id\":\"e022bcab-cfd0-4ed5-a8ff-8f80525aef08\",\"type\":\"Arrow\"},{\"attributes\":{\"fill_color\":{\"value\":\"red\"},\"line_color\":{\"value\":\"red\"},\"size\":{\"units\":\"screen\",\"value\":10},\"x\":{\"value\":-0.026213876497466627},\"y\":{\"value\":0.09980844048222995}},\"id\":\"2cecb8f4-811c-41c3-a527-30bbcf6870fe\",\"type\":\"Circle\"},{\"attributes\":{\"callback\":null,\"data\":{},\"selected\":null,\"selection_policy\":null},\"id\":\"91d6afa0-3838-46e0-9d17-3ef67e1933d4\",\"type\":\"ColumnDataSource\"},{\"attributes\":{\"end\":{\"id\":\"e805faa6-61ed-4d0b-b2e6-2c141c474175\",\"type\":\"OpenHead\"},\"line_color\":{\"value\":\"gray\"},\"plot\":{\"id\":\"ebc1d307-a82a-4cc9-b563-b02177b22a01\",\"subtype\":\"Figure\",\"type\":\"Plot\"},\"source\":null,\"start\":null,\"x_end\":{\"value\":-0.007589318734127639},\"x_start\":{\"value\":0.05986850669216594},\"y_end\":{\"value\":-0.0037976804333061352},\"y_start\":{\"value\":0.23222386145477264}},\"id\":\"9648da1e-eafe-4882-89e8-d37395a0b16f\",\"type\":\"Arrow\"},{\"attributes\":{\"data_source\":{\"id\":\"52238440-7f7f-4c42-b254-38607fcc47ca\",\"type\":\"ColumnDataSource\"},\"glyph\":{\"id\":\"2cecb8f4-811c-41c3-a527-30bbcf6870fe\",\"type\":\"Circle\"},\"hover_glyph\":null,\"muted_glyph\":null,\"nonselection_glyph\":{\"id\":\"54962404-302a-4cc6-bdf4-b4ee2512d3de\",\"type\":\"Circle\"},\"selection_glyph\":null,\"view\":{\"id\":\"42786744-d27e-426b-955d-4c6c4783139f\",\"type\":\"CDSView\"}},\"id\":\"21210a08-6731-4808-a912-c155e36ba33b\",\"type\":\"GlyphRenderer\"},{\"attributes\":{\"line_color\":{\"value\":\"firebrick\"},\"line_width\":{\"value\":2},\"plot\":null,\"size\":10},\"id\":\"92d05750-df49-4799-98f8-533ba27dbf51\",\"type\":\"OpenHead\"},{\"attributes\":{\"fill_alpha\":{\"value\":0.1},\"fill_color\":{\"value\":\"#1f77b4\"},\"line_alpha\":{\"value\":0.1},\"line_color\":{\"value\":\"#1f77b4\"},\"size\":{\"units\":\"screen\",\"value\":10},\"x\":{\"value\":-0.026213876497466627},\"y\":{\"value\":0.09980844048222995}},\"id\":\"54962404-302a-4cc6-bdf4-b4ee2512d3de\",\"type\":\"Circle\"},{\"attributes\":{\"source\":{\"id\":\"52238440-7f7f-4c42-b254-38607fcc47ca\",\"type\":\"ColumnDataSource\"}},\"id\":\"42786744-d27e-426b-955d-4c6c4783139f\",\"type\":\"CDSView\"},{\"attributes\":{\"end\":{\"id\":\"771496df-8b21-49a3-9ec9-e134eaa2c9f4\",\"type\":\"OpenHead\"},\"line_color\":{\"value\":\"gray\"},\"plot\":{\"id\":\"ebc1d307-a82a-4cc9-b563-b02177b22a01\",\"subtype\":\"Figure\",\"type\":\"Plot\"},\"source\":null,\"start\":null,\"x_end\":{\"value\":0.04776345485128068},\"x_start\":{\"value\":-0.07342817652043085},\"y_end\":{\"value\":0.06457351160452109},\"y_start\":{\"value\":0.046529121455091436}},\"id\":\"b7fbffb0-451a-45c0-875e-60bd7cd66a39\",\"type\":\"Arrow\"}],\"root_ids\":[\"ebc1d307-a82a-4cc9-b563-b02177b22a01\"]},\"title\":\"Bokeh Application\",\"version\":\"0.12.15\"}};\n",
       "  var render_items = [{\"docid\":\"63280e5b-2e44-4765-b1e2-d870018627a8\",\"elementid\":\"be96eb1a-fb24-422a-b51f-a32a1069c31a\",\"modelid\":\"ebc1d307-a82a-4cc9-b563-b02177b22a01\"}];\n",
       "  root.Bokeh.embed.embed_items_notebook(docs_json, render_items);\n",
       "\n",
       "  }\n",
       "  if (root.Bokeh !== undefined) {\n",
       "    embed_document(root);\n",
       "  } else {\n",
       "    var attempts = 0;\n",
       "    var timer = setInterval(function(root) {\n",
       "      if (root.Bokeh !== undefined) {\n",
       "        embed_document(root);\n",
       "        clearInterval(timer);\n",
       "      }\n",
       "      attempts++;\n",
       "      if (attempts > 100) {\n",
       "        console.log(\"Bokeh: ERROR: Unable to run BokehJS code because BokehJS library is missing\")\n",
       "        clearInterval(timer);\n",
       "      }\n",
       "    }, 10, root)\n",
       "  }\n",
       "})(window);"
      ],
      "application/vnd.bokehjs_exec.v0+json": ""
     },
     "metadata": {
      "application/vnd.bokehjs_exec.v0+json": {
       "id": "ebc1d307-a82a-4cc9-b563-b02177b22a01"
      }
     },
     "output_type": "display_data"
    }
   ],
   "source": [
    "show(p)"
   ]
  },
  {
   "cell_type": "code",
   "execution_count": null,
   "metadata": {},
   "outputs": [],
   "source": []
  },
  {
   "cell_type": "code",
   "execution_count": null,
   "metadata": {},
   "outputs": [],
   "source": []
  },
  {
   "cell_type": "code",
   "execution_count": null,
   "metadata": {},
   "outputs": [],
   "source": []
  }
 ],
 "metadata": {
  "kernelspec": {
   "display_name": "Python 3",
   "language": "python",
   "name": "python3"
  },
  "language_info": {
   "codemirror_mode": {
    "name": "ipython",
    "version": 3
   },
   "file_extension": ".py",
   "mimetype": "text/x-python",
   "name": "python",
   "nbconvert_exporter": "python",
   "pygments_lexer": "ipython3",
   "version": "3.6.5"
  }
 },
 "nbformat": 4,
 "nbformat_minor": 2
}
