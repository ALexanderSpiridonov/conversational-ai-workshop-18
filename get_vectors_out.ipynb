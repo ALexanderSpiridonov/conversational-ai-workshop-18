{
 "cells": [
  {
   "cell_type": "code",
   "execution_count": 1,
   "metadata": {},
   "outputs": [
    {
     "name": "stderr",
     "output_type": "stream",
     "text": [
      "/anaconda/lib/python3.6/site-packages/h5py/__init__.py:34: FutureWarning: Conversion of the second argument of issubdtype from `float` to `np.floating` is deprecated. In future, it will be treated as `np.float64 == np.dtype(float).type`.\n",
      "  from ._conv import register_converters as _register_converters\n"
     ]
    },
    {
     "name": "stdout",
     "output_type": "stream",
     "text": [
      "INFO:tensorflow:Restoring parameters from models/dialogue_embed/policy_0_EmbeddingPolicy/tensorflow_embedding.ckpt\n"
     ]
    },
    {
     "name": "stderr",
     "output_type": "stream",
     "text": [
      "/anaconda/lib/python3.6/site-packages/pykwalify/core.py:99: UnsafeLoaderWarning: \n",
      "The default 'Loader' for 'load(stream)' without further arguments can be unsafe.\n",
      "Use 'load(stream, Loader=ruamel.yaml.Loader)' explicitly if that is OK.\n",
      "Alternatively include the following in your code:\n",
      "\n",
      "  import warnings\n",
      "  warnings.simplefilter('ignore', ruamel.yaml.error.UnsafeLoaderWarning)\n",
      "\n",
      "In most other cases you should consider using 'safe_load(stream)'\n",
      "  data = yaml.load(stream)\n"
     ]
    },
    {
     "data": {
      "text/html": [
       "\n",
       "    <div class=\"bk-root\">\n",
       "        <a href=\"https://bokeh.pydata.org\" target=\"_blank\" class=\"bk-logo bk-logo-small bk-logo-notebook\"></a>\n",
       "        <span id=\"773390cd-a59b-4ef9-a1fd-9313ffddb501\">Loading BokehJS ...</span>\n",
       "    </div>"
      ]
     },
     "metadata": {},
     "output_type": "display_data"
    },
    {
     "data": {
      "application/javascript": [
       "\n",
       "(function(root) {\n",
       "  function now() {\n",
       "    return new Date();\n",
       "  }\n",
       "\n",
       "  var force = true;\n",
       "\n",
       "  if (typeof (root._bokeh_onload_callbacks) === \"undefined\" || force === true) {\n",
       "    root._bokeh_onload_callbacks = [];\n",
       "    root._bokeh_is_loading = undefined;\n",
       "  }\n",
       "\n",
       "  var JS_MIME_TYPE = 'application/javascript';\n",
       "  var HTML_MIME_TYPE = 'text/html';\n",
       "  var EXEC_MIME_TYPE = 'application/vnd.bokehjs_exec.v0+json';\n",
       "  var CLASS_NAME = 'output_bokeh rendered_html';\n",
       "\n",
       "  /**\n",
       "   * Render data to the DOM node\n",
       "   */\n",
       "  function render(props, node) {\n",
       "    var script = document.createElement(\"script\");\n",
       "    node.appendChild(script);\n",
       "  }\n",
       "\n",
       "  /**\n",
       "   * Handle when an output is cleared or removed\n",
       "   */\n",
       "  function handleClearOutput(event, handle) {\n",
       "    var cell = handle.cell;\n",
       "\n",
       "    var id = cell.output_area._bokeh_element_id;\n",
       "    var server_id = cell.output_area._bokeh_server_id;\n",
       "    // Clean up Bokeh references\n",
       "    if (id !== undefined) {\n",
       "      Bokeh.index[id].model.document.clear();\n",
       "      delete Bokeh.index[id];\n",
       "    }\n",
       "\n",
       "    if (server_id !== undefined) {\n",
       "      // Clean up Bokeh references\n",
       "      var cmd = \"from bokeh.io.state import curstate; print(curstate().uuid_to_server['\" + server_id + \"'].get_sessions()[0].document.roots[0]._id)\";\n",
       "      cell.notebook.kernel.execute(cmd, {\n",
       "        iopub: {\n",
       "          output: function(msg) {\n",
       "            var element_id = msg.content.text.trim();\n",
       "            Bokeh.index[element_id].model.document.clear();\n",
       "            delete Bokeh.index[element_id];\n",
       "          }\n",
       "        }\n",
       "      });\n",
       "      // Destroy server and session\n",
       "      var cmd = \"import bokeh.io.notebook as ion; ion.destroy_server('\" + server_id + \"')\";\n",
       "      cell.notebook.kernel.execute(cmd);\n",
       "    }\n",
       "  }\n",
       "\n",
       "  /**\n",
       "   * Handle when a new output is added\n",
       "   */\n",
       "  function handleAddOutput(event, handle) {\n",
       "    var output_area = handle.output_area;\n",
       "    var output = handle.output;\n",
       "\n",
       "    // limit handleAddOutput to display_data with EXEC_MIME_TYPE content only\n",
       "    if ((output.output_type != \"display_data\") || (!output.data.hasOwnProperty(EXEC_MIME_TYPE))) {\n",
       "      return\n",
       "    }\n",
       "\n",
       "    var toinsert = output_area.element.find(\".\" + CLASS_NAME.split(' ')[0]);\n",
       "\n",
       "    if (output.metadata[EXEC_MIME_TYPE][\"id\"] !== undefined) {\n",
       "      toinsert[toinsert.length - 1].firstChild.textContent = output.data[JS_MIME_TYPE];\n",
       "      // store reference to embed id on output_area\n",
       "      output_area._bokeh_element_id = output.metadata[EXEC_MIME_TYPE][\"id\"];\n",
       "    }\n",
       "    if (output.metadata[EXEC_MIME_TYPE][\"server_id\"] !== undefined) {\n",
       "      var bk_div = document.createElement(\"div\");\n",
       "      bk_div.innerHTML = output.data[HTML_MIME_TYPE];\n",
       "      var script_attrs = bk_div.children[0].attributes;\n",
       "      for (var i = 0; i < script_attrs.length; i++) {\n",
       "        toinsert[toinsert.length - 1].firstChild.setAttribute(script_attrs[i].name, script_attrs[i].value);\n",
       "      }\n",
       "      // store reference to server id on output_area\n",
       "      output_area._bokeh_server_id = output.metadata[EXEC_MIME_TYPE][\"server_id\"];\n",
       "    }\n",
       "  }\n",
       "\n",
       "  function register_renderer(events, OutputArea) {\n",
       "\n",
       "    function append_mime(data, metadata, element) {\n",
       "      // create a DOM node to render to\n",
       "      var toinsert = this.create_output_subarea(\n",
       "        metadata,\n",
       "        CLASS_NAME,\n",
       "        EXEC_MIME_TYPE\n",
       "      );\n",
       "      this.keyboard_manager.register_events(toinsert);\n",
       "      // Render to node\n",
       "      var props = {data: data, metadata: metadata[EXEC_MIME_TYPE]};\n",
       "      render(props, toinsert[toinsert.length - 1]);\n",
       "      element.append(toinsert);\n",
       "      return toinsert\n",
       "    }\n",
       "\n",
       "    /* Handle when an output is cleared or removed */\n",
       "    events.on('clear_output.CodeCell', handleClearOutput);\n",
       "    events.on('delete.Cell', handleClearOutput);\n",
       "\n",
       "    /* Handle when a new output is added */\n",
       "    events.on('output_added.OutputArea', handleAddOutput);\n",
       "\n",
       "    /**\n",
       "     * Register the mime type and append_mime function with output_area\n",
       "     */\n",
       "    OutputArea.prototype.register_mime_type(EXEC_MIME_TYPE, append_mime, {\n",
       "      /* Is output safe? */\n",
       "      safe: true,\n",
       "      /* Index of renderer in `output_area.display_order` */\n",
       "      index: 0\n",
       "    });\n",
       "  }\n",
       "\n",
       "  // register the mime type if in Jupyter Notebook environment and previously unregistered\n",
       "  if (root.Jupyter !== undefined) {\n",
       "    var events = require('base/js/events');\n",
       "    var OutputArea = require('notebook/js/outputarea').OutputArea;\n",
       "\n",
       "    if (OutputArea.prototype.mime_types().indexOf(EXEC_MIME_TYPE) == -1) {\n",
       "      register_renderer(events, OutputArea);\n",
       "    }\n",
       "  }\n",
       "\n",
       "  \n",
       "  if (typeof (root._bokeh_timeout) === \"undefined\" || force === true) {\n",
       "    root._bokeh_timeout = Date.now() + 5000;\n",
       "    root._bokeh_failed_load = false;\n",
       "  }\n",
       "\n",
       "  var NB_LOAD_WARNING = {'data': {'text/html':\n",
       "     \"<div style='background-color: #fdd'>\\n\"+\n",
       "     \"<p>\\n\"+\n",
       "     \"BokehJS does not appear to have successfully loaded. If loading BokehJS from CDN, this \\n\"+\n",
       "     \"may be due to a slow or bad network connection. Possible fixes:\\n\"+\n",
       "     \"</p>\\n\"+\n",
       "     \"<ul>\\n\"+\n",
       "     \"<li>re-rerun `output_notebook()` to attempt to load from CDN again, or</li>\\n\"+\n",
       "     \"<li>use INLINE resources instead, as so:</li>\\n\"+\n",
       "     \"</ul>\\n\"+\n",
       "     \"<code>\\n\"+\n",
       "     \"from bokeh.resources import INLINE\\n\"+\n",
       "     \"output_notebook(resources=INLINE)\\n\"+\n",
       "     \"</code>\\n\"+\n",
       "     \"</div>\"}};\n",
       "\n",
       "  function display_loaded() {\n",
       "    var el = document.getElementById(\"773390cd-a59b-4ef9-a1fd-9313ffddb501\");\n",
       "    if (el != null) {\n",
       "      el.textContent = \"BokehJS is loading...\";\n",
       "    }\n",
       "    if (root.Bokeh !== undefined) {\n",
       "      if (el != null) {\n",
       "        el.textContent = \"BokehJS \" + root.Bokeh.version + \" successfully loaded.\";\n",
       "      }\n",
       "    } else if (Date.now() < root._bokeh_timeout) {\n",
       "      setTimeout(display_loaded, 100)\n",
       "    }\n",
       "  }\n",
       "\n",
       "\n",
       "  function run_callbacks() {\n",
       "    try {\n",
       "      root._bokeh_onload_callbacks.forEach(function(callback) { callback() });\n",
       "    }\n",
       "    finally {\n",
       "      delete root._bokeh_onload_callbacks\n",
       "    }\n",
       "    console.info(\"Bokeh: all callbacks have finished\");\n",
       "  }\n",
       "\n",
       "  function load_libs(js_urls, callback) {\n",
       "    root._bokeh_onload_callbacks.push(callback);\n",
       "    if (root._bokeh_is_loading > 0) {\n",
       "      console.log(\"Bokeh: BokehJS is being loaded, scheduling callback at\", now());\n",
       "      return null;\n",
       "    }\n",
       "    if (js_urls == null || js_urls.length === 0) {\n",
       "      run_callbacks();\n",
       "      return null;\n",
       "    }\n",
       "    console.log(\"Bokeh: BokehJS not loaded, scheduling load and callback at\", now());\n",
       "    root._bokeh_is_loading = js_urls.length;\n",
       "    for (var i = 0; i < js_urls.length; i++) {\n",
       "      var url = js_urls[i];\n",
       "      var s = document.createElement('script');\n",
       "      s.src = url;\n",
       "      s.async = false;\n",
       "      s.onreadystatechange = s.onload = function() {\n",
       "        root._bokeh_is_loading--;\n",
       "        if (root._bokeh_is_loading === 0) {\n",
       "          console.log(\"Bokeh: all BokehJS libraries loaded\");\n",
       "          run_callbacks()\n",
       "        }\n",
       "      };\n",
       "      s.onerror = function() {\n",
       "        console.warn(\"failed to load library \" + url);\n",
       "      };\n",
       "      console.log(\"Bokeh: injecting script tag for BokehJS library: \", url);\n",
       "      document.getElementsByTagName(\"head\")[0].appendChild(s);\n",
       "    }\n",
       "  };var element = document.getElementById(\"773390cd-a59b-4ef9-a1fd-9313ffddb501\");\n",
       "  if (element == null) {\n",
       "    console.log(\"Bokeh: ERROR: autoload.js configured with elementid '773390cd-a59b-4ef9-a1fd-9313ffddb501' but no matching script tag was found. \")\n",
       "    return false;\n",
       "  }\n",
       "\n",
       "  var js_urls = [\"https://cdn.pydata.org/bokeh/release/bokeh-0.12.15.min.js\", \"https://cdn.pydata.org/bokeh/release/bokeh-widgets-0.12.15.min.js\", \"https://cdn.pydata.org/bokeh/release/bokeh-tables-0.12.15.min.js\", \"https://cdn.pydata.org/bokeh/release/bokeh-gl-0.12.15.min.js\"];\n",
       "\n",
       "  var inline_js = [\n",
       "    function(Bokeh) {\n",
       "      Bokeh.set_log_level(\"info\");\n",
       "    },\n",
       "    \n",
       "    function(Bokeh) {\n",
       "      \n",
       "    },\n",
       "    function(Bokeh) {\n",
       "      console.log(\"Bokeh: injecting CSS: https://cdn.pydata.org/bokeh/release/bokeh-0.12.15.min.css\");\n",
       "      Bokeh.embed.inject_css(\"https://cdn.pydata.org/bokeh/release/bokeh-0.12.15.min.css\");\n",
       "      console.log(\"Bokeh: injecting CSS: https://cdn.pydata.org/bokeh/release/bokeh-widgets-0.12.15.min.css\");\n",
       "      Bokeh.embed.inject_css(\"https://cdn.pydata.org/bokeh/release/bokeh-widgets-0.12.15.min.css\");\n",
       "      console.log(\"Bokeh: injecting CSS: https://cdn.pydata.org/bokeh/release/bokeh-tables-0.12.15.min.css\");\n",
       "      Bokeh.embed.inject_css(\"https://cdn.pydata.org/bokeh/release/bokeh-tables-0.12.15.min.css\");\n",
       "    }\n",
       "  ];\n",
       "\n",
       "  function run_inline_js() {\n",
       "    \n",
       "    if ((root.Bokeh !== undefined) || (force === true)) {\n",
       "      for (var i = 0; i < inline_js.length; i++) {\n",
       "        inline_js[i].call(root, root.Bokeh);\n",
       "      }if (force === true) {\n",
       "        display_loaded();\n",
       "      }} else if (Date.now() < root._bokeh_timeout) {\n",
       "      setTimeout(run_inline_js, 100);\n",
       "    } else if (!root._bokeh_failed_load) {\n",
       "      console.log(\"Bokeh: BokehJS failed to load within specified timeout.\");\n",
       "      root._bokeh_failed_load = true;\n",
       "    } else if (force !== true) {\n",
       "      var cell = $(document.getElementById(\"773390cd-a59b-4ef9-a1fd-9313ffddb501\")).parents('.cell').data().cell;\n",
       "      cell.output_area.append_execute_result(NB_LOAD_WARNING)\n",
       "    }\n",
       "\n",
       "  }\n",
       "\n",
       "  if (root._bokeh_is_loading === 0) {\n",
       "    console.log(\"Bokeh: BokehJS loaded, going straight to plotting\");\n",
       "    run_inline_js();\n",
       "  } else {\n",
       "    load_libs(js_urls, function() {\n",
       "      console.log(\"Bokeh: BokehJS plotting callback run at\", now());\n",
       "      run_inline_js();\n",
       "    });\n",
       "  }\n",
       "}(window));"
      ],
      "application/vnd.bokehjs_load.v0+json": "\n(function(root) {\n  function now() {\n    return new Date();\n  }\n\n  var force = true;\n\n  if (typeof (root._bokeh_onload_callbacks) === \"undefined\" || force === true) {\n    root._bokeh_onload_callbacks = [];\n    root._bokeh_is_loading = undefined;\n  }\n\n  \n\n  \n  if (typeof (root._bokeh_timeout) === \"undefined\" || force === true) {\n    root._bokeh_timeout = Date.now() + 5000;\n    root._bokeh_failed_load = false;\n  }\n\n  var NB_LOAD_WARNING = {'data': {'text/html':\n     \"<div style='background-color: #fdd'>\\n\"+\n     \"<p>\\n\"+\n     \"BokehJS does not appear to have successfully loaded. If loading BokehJS from CDN, this \\n\"+\n     \"may be due to a slow or bad network connection. Possible fixes:\\n\"+\n     \"</p>\\n\"+\n     \"<ul>\\n\"+\n     \"<li>re-rerun `output_notebook()` to attempt to load from CDN again, or</li>\\n\"+\n     \"<li>use INLINE resources instead, as so:</li>\\n\"+\n     \"</ul>\\n\"+\n     \"<code>\\n\"+\n     \"from bokeh.resources import INLINE\\n\"+\n     \"output_notebook(resources=INLINE)\\n\"+\n     \"</code>\\n\"+\n     \"</div>\"}};\n\n  function display_loaded() {\n    var el = document.getElementById(\"773390cd-a59b-4ef9-a1fd-9313ffddb501\");\n    if (el != null) {\n      el.textContent = \"BokehJS is loading...\";\n    }\n    if (root.Bokeh !== undefined) {\n      if (el != null) {\n        el.textContent = \"BokehJS \" + root.Bokeh.version + \" successfully loaded.\";\n      }\n    } else if (Date.now() < root._bokeh_timeout) {\n      setTimeout(display_loaded, 100)\n    }\n  }\n\n\n  function run_callbacks() {\n    try {\n      root._bokeh_onload_callbacks.forEach(function(callback) { callback() });\n    }\n    finally {\n      delete root._bokeh_onload_callbacks\n    }\n    console.info(\"Bokeh: all callbacks have finished\");\n  }\n\n  function load_libs(js_urls, callback) {\n    root._bokeh_onload_callbacks.push(callback);\n    if (root._bokeh_is_loading > 0) {\n      console.log(\"Bokeh: BokehJS is being loaded, scheduling callback at\", now());\n      return null;\n    }\n    if (js_urls == null || js_urls.length === 0) {\n      run_callbacks();\n      return null;\n    }\n    console.log(\"Bokeh: BokehJS not loaded, scheduling load and callback at\", now());\n    root._bokeh_is_loading = js_urls.length;\n    for (var i = 0; i < js_urls.length; i++) {\n      var url = js_urls[i];\n      var s = document.createElement('script');\n      s.src = url;\n      s.async = false;\n      s.onreadystatechange = s.onload = function() {\n        root._bokeh_is_loading--;\n        if (root._bokeh_is_loading === 0) {\n          console.log(\"Bokeh: all BokehJS libraries loaded\");\n          run_callbacks()\n        }\n      };\n      s.onerror = function() {\n        console.warn(\"failed to load library \" + url);\n      };\n      console.log(\"Bokeh: injecting script tag for BokehJS library: \", url);\n      document.getElementsByTagName(\"head\")[0].appendChild(s);\n    }\n  };var element = document.getElementById(\"773390cd-a59b-4ef9-a1fd-9313ffddb501\");\n  if (element == null) {\n    console.log(\"Bokeh: ERROR: autoload.js configured with elementid '773390cd-a59b-4ef9-a1fd-9313ffddb501' but no matching script tag was found. \")\n    return false;\n  }\n\n  var js_urls = [\"https://cdn.pydata.org/bokeh/release/bokeh-0.12.15.min.js\", \"https://cdn.pydata.org/bokeh/release/bokeh-widgets-0.12.15.min.js\", \"https://cdn.pydata.org/bokeh/release/bokeh-tables-0.12.15.min.js\", \"https://cdn.pydata.org/bokeh/release/bokeh-gl-0.12.15.min.js\"];\n\n  var inline_js = [\n    function(Bokeh) {\n      Bokeh.set_log_level(\"info\");\n    },\n    \n    function(Bokeh) {\n      \n    },\n    function(Bokeh) {\n      console.log(\"Bokeh: injecting CSS: https://cdn.pydata.org/bokeh/release/bokeh-0.12.15.min.css\");\n      Bokeh.embed.inject_css(\"https://cdn.pydata.org/bokeh/release/bokeh-0.12.15.min.css\");\n      console.log(\"Bokeh: injecting CSS: https://cdn.pydata.org/bokeh/release/bokeh-widgets-0.12.15.min.css\");\n      Bokeh.embed.inject_css(\"https://cdn.pydata.org/bokeh/release/bokeh-widgets-0.12.15.min.css\");\n      console.log(\"Bokeh: injecting CSS: https://cdn.pydata.org/bokeh/release/bokeh-tables-0.12.15.min.css\");\n      Bokeh.embed.inject_css(\"https://cdn.pydata.org/bokeh/release/bokeh-tables-0.12.15.min.css\");\n    }\n  ];\n\n  function run_inline_js() {\n    \n    if ((root.Bokeh !== undefined) || (force === true)) {\n      for (var i = 0; i < inline_js.length; i++) {\n        inline_js[i].call(root, root.Bokeh);\n      }if (force === true) {\n        display_loaded();\n      }} else if (Date.now() < root._bokeh_timeout) {\n      setTimeout(run_inline_js, 100);\n    } else if (!root._bokeh_failed_load) {\n      console.log(\"Bokeh: BokehJS failed to load within specified timeout.\");\n      root._bokeh_failed_load = true;\n    } else if (force !== true) {\n      var cell = $(document.getElementById(\"773390cd-a59b-4ef9-a1fd-9313ffddb501\")).parents('.cell').data().cell;\n      cell.output_area.append_execute_result(NB_LOAD_WARNING)\n    }\n\n  }\n\n  if (root._bokeh_is_loading === 0) {\n    console.log(\"Bokeh: BokehJS loaded, going straight to plotting\");\n    run_inline_js();\n  } else {\n    load_libs(js_urls, function() {\n      console.log(\"Bokeh: BokehJS plotting callback run at\", now());\n      run_inline_js();\n    });\n  }\n}(window));"
     },
     "metadata": {},
     "output_type": "display_data"
    }
   ],
   "source": [
    "import rasa_core\n",
    "from rasa_core.agent import Agent\n",
    "from bokeh.io import output_notebook\n",
    "agent = Agent.load(\"models/dialogue_embed\")\n",
    "# agent = Agent.load(\"models/dialogue_embed_before_norm_loss\")\n",
    "output_notebook()"
   ]
  },
  {
   "cell_type": "code",
   "execution_count": 2,
   "metadata": {},
   "outputs": [],
   "source": [
    "policy = agent.policy_ensemble.policies[0]\n",
    "interpreter = agent.interpreter"
   ]
  },
  {
   "cell_type": "code",
   "execution_count": 3,
   "metadata": {},
   "outputs": [],
   "source": [
    "domain = agent.domain\n"
   ]
  },
  {
   "cell_type": "code",
   "execution_count": 4,
   "metadata": {},
   "outputs": [],
   "source": [
    "from rasa_core.training.structures import StoryGraph\n",
    "from rasa_core.training.dsl import StoryFileReader\n",
    "from rasa_core.trackers import DialogueStateTracker\n",
    "from rasa_core.channels import UserMessage\n",
    "import numpy as np\n",
    "\n",
    "def embedding_from_tracker(story, bot=False):\n",
    "    reader = StoryFileReader(domain, interpreter)\n",
    "    story = story.split('\\n')\n",
    "    story_steps = reader.process_lines(story)\n",
    "#     story_graph = StoryGraph(story_steps)\n",
    "    tracker = DialogueStateTracker(\n",
    "            1,\n",
    "            domain.slots\n",
    "    )\n",
    "    tracker._reset()\n",
    "    for step in story_steps:\n",
    "        events = step.explicit_events(domain)\n",
    "        for event in events:\n",
    "            tracker.update(event)\n",
    "    data_X = policy.featurizer.create_X([tracker], domain)\n",
    "\n",
    "    X, slots, prev_act = policy._create_X_slots_prev_acts(data_X)\n",
    "    all_Y_d = policy._create_all_Y_d(X.shape[1])\n",
    "    all_Y_d_x = np.stack([all_Y_d for _ in range(X.shape[0])])\n",
    "    dial_vec = policy.session.run(policy.dial_embed, feed_dict={policy.a_in: X,\n",
    "                                           policy.b_in: all_Y_d_x,\n",
    "                                           policy.c_in: slots,\n",
    "                                           policy.b_prev_in: prev_act})\n",
    "    bot_vec = policy.session.run(policy.bot_embed, feed_dict={policy.a_in: X,\n",
    "                                           policy.b_in: all_Y_d_x,\n",
    "                                           policy.c_in: slots,\n",
    "                                           policy.b_prev_in: prev_act})\n",
    "\n",
    "    no_skip_gate = policy.session.run(policy.no_skip_gate, feed_dict={policy.a_in: X,\n",
    "                                           policy.b_in: all_Y_d_x,\n",
    "                                           policy.c_in: slots,\n",
    "                                           policy.b_prev_in: prev_act})\n",
    "    attn_embed = policy.session.run(policy.attn_embed, feed_dict={policy.a_in: X,\n",
    "                                           policy.b_in: all_Y_d_x,\n",
    "                                           policy.c_in: slots,\n",
    "                                           policy.b_prev_in: prev_act})\n",
    "    rnn_embed = policy.session.run(policy.rnn_embed, feed_dict={policy.a_in: X,\n",
    "                                           policy.b_in: all_Y_d_x,\n",
    "                                           policy.c_in: slots,\n",
    "                                           policy.b_prev_in: prev_act})\n",
    "    probs = policy.session.run(policy.alignment_history, feed_dict={policy.a_in: X,\n",
    "                                           policy.b_in: all_Y_d_x,\n",
    "                                           policy.c_in: slots,\n",
    "                                           policy.b_prev_in: prev_act})\n",
    "    \n",
    "    del tracker\n",
    "#     print(np.shape(dial_vec))\n",
    "    if bot is False:\n",
    "        return (dial_vec[0,-2,:],\n",
    "                no_skip_gate[0,-2,:],\n",
    "                attn_embed[0,-2,:],\n",
    "                rnn_embed[0,-2,:],\n",
    "                probs[1][0,-2,:])\n",
    "    else:\n",
    "        return bot_vec\n",
    "    \n",
    "def make_prediction(story):\n",
    "    dial, _,_,_,_ = embedding_from_tracker(story, bot=False)\n",
    "    bot = embedding_from_tracker(story, bot=True)[0,-2,:,:]\n",
    "    abs_vals = np.array([np.absolute(vec) for vec in bot])\n",
    "    norms = np.apply_along_axis(np.linalg.norm, 1, bot)\n",
    "    return domain.action_for_index(np.argmax(np.dot(bot, dial)/norms)).name()\n",
    "#     print(dial.shape, bot.shape)"
   ]
  },
  {
   "cell_type": "code",
   "execution_count": 5,
   "metadata": {},
   "outputs": [
    {
     "name": "stdout",
     "output_type": "stream",
     "text": [
      "47\n",
      "27\n",
      "(20,)\n"
     ]
    }
   ],
   "source": [
    "# print(domain.intents)\n",
    "story_block = \"\"\"* request_hotel\n",
    "    - utter_ask_details\n",
    "* explain\n",
    "    - utter_explain_details_hotel\n",
    "    - utter_ask_details\n",
    "* chitchat\n",
    "    - utter_chitchat\n",
    "    - utter_ask_details\n",
    "* inform{\"enddate\": \"May 26th\"}\n",
    "    - slot{\"enddate\": \"May 26th\"}\n",
    "    - utter_ask_startdate\n",
    "* inform{\"startdate\": \"next week\"}\n",
    "    - slot{\"startdate\": \"next week\"}\n",
    "    - utter_ask_location\n",
    "* explain\n",
    "    - utter_explain_location_hotel\n",
    "    - utter_ask_location\n",
    "* inform{\"location\": \"rome\"}\n",
    "    - slot{\"location\": \"rome\"}\n",
    "    - utter_ask_price\n",
    "* chitchat\n",
    "    - utter_chitchat\n",
    "    - utter_ask_price\n",
    "* chitchat\n",
    "    - utter_chitchat\n",
    "    - utter_ask_price\n",
    "* chitchat\n",
    "    - utter_chitchat\n",
    "    - utter_ask_price\n",
    "* chitchat\n",
    "    - utter_chitchat\n",
    "    - utter_ask_price\n",
    "* explain\n",
    "    - utter_explain_price_hotel\n",
    "    - utter_ask_price\n",
    "* inform{\"price\": \"expensive\"}\n",
    "    - utter_ask_people\n",
    "* inform{\"people\": \"4\"}\n",
    "    - utter_filled_slots\n",
    "    - action_search_hotel\n",
    "    - slot{\"hotel\": \"hotel\"}\n",
    "    - utter_suggest_hotel\n",
    "* chitchat\n",
    "    - utter_chitchat\n",
    "    - utter_suggest_hotel\n",
    "* affirm\n",
    "    - utter_happy\"\"\"\n",
    "print(len(story_block.split('\\n')))\n",
    "cool_list = []\n",
    "lines = story_block.split('\\n')\n",
    "for idx, line in enumerate(lines):\n",
    "    if idx == len(lines)-1:\n",
    "        continue\n",
    "    if '*' in lines[idx+1] or 'slot{' in lines[idx+1]:# or 'slot{' in line:\n",
    "        continue\n",
    "    sub_story = '\\n'.join(lines[:idx+1])\n",
    "    (dial, not_skip, attn, rnn, probs\n",
    "    ) = embedding_from_tracker(\"#generate story\\n{}\".format(sub_story))\n",
    "    pred = make_prediction(\"#generate story\\n{}\".format(sub_story))\n",
    "    cool_list.append((lines[idx+1], dial, pred, not_skip, attn[20:40], rnn, probs))\n",
    "\n",
    "print(len(cool_list))\n",
    "print(cool_list[0][4].shape)\n",
    "#     break\n",
    "# dial = embedding_from_tracker(\"#generate story\\n{}\".format(story_block)\n",
    "# )\n",
    "# print(dial.shape)\n",
    "# print(len(story_block.split('\\n')))"
   ]
  },
  {
   "cell_type": "code",
   "execution_count": 6,
   "metadata": {},
   "outputs": [
    {
     "data": {
      "text/plain": [
       "('    - utter_explain_details_hotel',\n",
       " array([-0.02088561, -0.01536289,  0.03381712,  0.09675185,  0.10561556,\n",
       "         0.04323883, -0.31790456,  0.34192157,  0.03062692,  0.1063322 ,\n",
       "        -0.02378547, -0.0366603 ,  0.0616355 ,  0.02565157,  0.13443232,\n",
       "        -0.21763241,  0.01394667,  0.2174925 , -0.0539252 ,  0.02394795],\n",
       "       dtype=float32),\n",
       " 'utter_explain_people_hotel',\n",
       " array([0.10599091], dtype=float32),\n",
       " array([-0.04794408,  0.05681676,  0.04003677, -0.03631898, -0.03891982,\n",
       "         0.00771457,  0.02548517,  0.02850375, -0.02234503,  0.02146911,\n",
       "         0.10654695,  0.0622694 , -0.06699082,  0.00337493, -0.05456778,\n",
       "         0.00554225, -0.05081066, -0.00909461,  0.01054989, -0.02704157],\n",
       "       dtype=float32),\n",
       " array([ 0.02705847, -0.07217965, -0.00621965,  0.13307084,  0.14453538,\n",
       "         0.03552426, -0.34338972,  0.31341782,  0.05297195,  0.08486309,\n",
       "        -0.13033243, -0.0989297 ,  0.12862632,  0.02227664,  0.18900008,\n",
       "        -0.22317466,  0.06475734,  0.22658712, -0.06447509,  0.05098952],\n",
       "       dtype=float32),\n",
       " array([0.656896  , 0.18208343, 0.06281743, 0.09820317, 0.        ],\n",
       "       dtype=float32))"
      ]
     },
     "execution_count": 6,
     "metadata": {},
     "output_type": "execute_result"
    }
   ],
   "source": [
    "cool_list[1]"
   ]
  },
  {
   "cell_type": "code",
   "execution_count": 7,
   "metadata": {},
   "outputs": [],
   "source": [
    "from sklearn.decomposition import PCA"
   ]
  },
  {
   "cell_type": "code",
   "execution_count": 8,
   "metadata": {},
   "outputs": [],
   "source": [
    "pca = PCA(n_components=2)\n",
    "X = pca.fit_transform([ting[1] for ting in cool_list])"
   ]
  },
  {
   "cell_type": "code",
   "execution_count": 9,
   "metadata": {},
   "outputs": [],
   "source": [
    "from bokeh.plotting import figure, show\n",
    "import matplotlib.pyplot as plt"
   ]
  },
  {
   "cell_type": "code",
   "execution_count": 10,
   "metadata": {},
   "outputs": [],
   "source": [
    "embed_dim = cool_list[0][1].shape[0]\n"
   ]
  },
  {
   "cell_type": "code",
   "execution_count": 11,
   "metadata": {},
   "outputs": [
    {
     "data": {
      "text/html": [
       "<div style=\"display: table;\"><div style=\"display: table-row;\"><div style=\"display: table-cell;\"><b title=\"bokeh.models.renderers.GlyphRenderer\">GlyphRenderer</b>(</div><div style=\"display: table-cell;\">id&nbsp;=&nbsp;'60de3838-017a-4e63-b503-b55206ce711a', <span id=\"1300b455-01cb-4e1d-9672-0f266a429dca\" style=\"cursor: pointer;\">&hellip;)</span></div></div><div class=\"02eb41e4-766d-4f1e-b80f-2a523fa36012\" style=\"display: none;\"><div style=\"display: table-cell;\"></div><div style=\"display: table-cell;\">data_source&nbsp;=&nbsp;ColumnDataSource(id='6af4215b-5c7d-4aba-94ee-3d317764ed2e', ...),</div></div><div class=\"02eb41e4-766d-4f1e-b80f-2a523fa36012\" style=\"display: none;\"><div style=\"display: table-cell;\"></div><div style=\"display: table-cell;\">glyph&nbsp;=&nbsp;Circle(id='2e918f11-be7a-4704-9b61-30b88cb4a10b', ...),</div></div><div class=\"02eb41e4-766d-4f1e-b80f-2a523fa36012\" style=\"display: none;\"><div style=\"display: table-cell;\"></div><div style=\"display: table-cell;\">hover_glyph&nbsp;=&nbsp;None,</div></div><div class=\"02eb41e4-766d-4f1e-b80f-2a523fa36012\" style=\"display: none;\"><div style=\"display: table-cell;\"></div><div style=\"display: table-cell;\">js_event_callbacks&nbsp;=&nbsp;{},</div></div><div class=\"02eb41e4-766d-4f1e-b80f-2a523fa36012\" style=\"display: none;\"><div style=\"display: table-cell;\"></div><div style=\"display: table-cell;\">js_property_callbacks&nbsp;=&nbsp;{},</div></div><div class=\"02eb41e4-766d-4f1e-b80f-2a523fa36012\" style=\"display: none;\"><div style=\"display: table-cell;\"></div><div style=\"display: table-cell;\">level&nbsp;=&nbsp;'glyph',</div></div><div class=\"02eb41e4-766d-4f1e-b80f-2a523fa36012\" style=\"display: none;\"><div style=\"display: table-cell;\"></div><div style=\"display: table-cell;\">muted&nbsp;=&nbsp;False,</div></div><div class=\"02eb41e4-766d-4f1e-b80f-2a523fa36012\" style=\"display: none;\"><div style=\"display: table-cell;\"></div><div style=\"display: table-cell;\">muted_glyph&nbsp;=&nbsp;None,</div></div><div class=\"02eb41e4-766d-4f1e-b80f-2a523fa36012\" style=\"display: none;\"><div style=\"display: table-cell;\"></div><div style=\"display: table-cell;\">name&nbsp;=&nbsp;None,</div></div><div class=\"02eb41e4-766d-4f1e-b80f-2a523fa36012\" style=\"display: none;\"><div style=\"display: table-cell;\"></div><div style=\"display: table-cell;\">nonselection_glyph&nbsp;=&nbsp;Circle(id='6bb7c596-8108-4c5c-8432-8f9358bd9e0d', ...),</div></div><div class=\"02eb41e4-766d-4f1e-b80f-2a523fa36012\" style=\"display: none;\"><div style=\"display: table-cell;\"></div><div style=\"display: table-cell;\">selection_glyph&nbsp;=&nbsp;None,</div></div><div class=\"02eb41e4-766d-4f1e-b80f-2a523fa36012\" style=\"display: none;\"><div style=\"display: table-cell;\"></div><div style=\"display: table-cell;\">subscribed_events&nbsp;=&nbsp;[],</div></div><div class=\"02eb41e4-766d-4f1e-b80f-2a523fa36012\" style=\"display: none;\"><div style=\"display: table-cell;\"></div><div style=\"display: table-cell;\">tags&nbsp;=&nbsp;[],</div></div><div class=\"02eb41e4-766d-4f1e-b80f-2a523fa36012\" style=\"display: none;\"><div style=\"display: table-cell;\"></div><div style=\"display: table-cell;\">view&nbsp;=&nbsp;CDSView(id='b5278ae4-8931-4b22-9a87-624647bd8346', ...),</div></div><div class=\"02eb41e4-766d-4f1e-b80f-2a523fa36012\" style=\"display: none;\"><div style=\"display: table-cell;\"></div><div style=\"display: table-cell;\">visible&nbsp;=&nbsp;True,</div></div><div class=\"02eb41e4-766d-4f1e-b80f-2a523fa36012\" style=\"display: none;\"><div style=\"display: table-cell;\"></div><div style=\"display: table-cell;\">x_range_name&nbsp;=&nbsp;'default',</div></div><div class=\"02eb41e4-766d-4f1e-b80f-2a523fa36012\" style=\"display: none;\"><div style=\"display: table-cell;\"></div><div style=\"display: table-cell;\">y_range_name&nbsp;=&nbsp;'default')</div></div></div>\n",
       "<script>\n",
       "(function() {\n",
       "  var expanded = false;\n",
       "  var ellipsis = document.getElementById(\"1300b455-01cb-4e1d-9672-0f266a429dca\");\n",
       "  ellipsis.addEventListener(\"click\", function() {\n",
       "    var rows = document.getElementsByClassName(\"02eb41e4-766d-4f1e-b80f-2a523fa36012\");\n",
       "    for (var i = 0; i < rows.length; i++) {\n",
       "      var el = rows[i];\n",
       "      el.style.display = expanded ? \"none\" : \"table-row\";\n",
       "    }\n",
       "    ellipsis.innerHTML = expanded ? \"&hellip;)\" : \"&lsaquo;&lsaquo;&lsaquo;\";\n",
       "    expanded = !expanded;\n",
       "  });\n",
       "})();\n",
       "</script>\n"
      ],
      "text/plain": [
       "GlyphRenderer(id='60de3838-017a-4e63-b503-b55206ce711a', ...)"
      ]
     },
     "execution_count": 11,
     "metadata": {},
     "output_type": "execute_result"
    }
   ],
   "source": [
    "from bokeh.plotting import figure, output_file, show, ColumnDataSource\n",
    "from bokeh.models import HoverTool, Arrow, OpenHead\n",
    "\n",
    "hover = HoverTool(tooltips=[(\"true action\",\"@desc\"), (\"prediction\", \"@pred\"),\n",
    "                            (\"not_skip_gate\", \"@not_skip\")],names=['circle'])\n",
    "p = figure( tools=[hover])\n",
    "\n",
    "for i in range(1, len(X)):\n",
    "    p.add_layout(Arrow(end=OpenHead(line_color=\"firebrick\", size=10, line_width=2),\n",
    "                       x_start=X[i-1,0], y_start=X[i-1,1],\n",
    "                       x_end=X[i,0], y_end=X[i,1], line_color='gray'))\n",
    "\n",
    "source = ColumnDataSource(data=dict(\n",
    "    x=X[:,0],\n",
    "    y=X[:,1],\n",
    "    desc=[ting[0] for ting in cool_list],\n",
    "    pred = [ting[2] for ting in cool_list],\n",
    "    not_skip = [ting[3] for ting in cool_list]\n",
    "))\n",
    "p.circle('x','y', source=source, size=10, name='circle')\n",
    "# p.line(X[:,0], X[:,1])\n",
    "\n",
    "X1 = pca.transform([ting[4] for ting in cool_list])\n",
    "source = ColumnDataSource(data=dict(\n",
    "    x=X1[:,0],\n",
    "    y=X1[:,1],\n",
    "    desc=[ting[0] for ting in cool_list],\n",
    "    pred = [ting[2] for ting in cool_list],\n",
    "    not_skip = [ting[3] for ting in cool_list]\n",
    "))\n",
    "p.circle('x','y', source=source, size=5, color='green', name='circle')\n",
    "\n",
    "X2 = pca.transform([ting[5] for ting in cool_list])\n",
    "source = ColumnDataSource(data=dict(\n",
    "    x=X2[:,0],\n",
    "    y=X2[:,1],\n",
    "    desc=[ting[0] for ting in cool_list],\n",
    "    pred = [ting[2] for ting in cool_list],\n",
    "    not_skip = [ting[3] for ting in cool_list]\n",
    "))\n",
    "p.circle('x','y', source=source, size=5, color='red', name='circle')\n",
    "\n",
    "x = pca.transform(np.zeros((1,embed_dim)))\n",
    "p.circle(x[0,0], x[0,1], size=5, color='magenta')\n",
    "p.circle(X[0,0], X[0,1], size=10, color='green')\n",
    "p.circle(X[-1,0], X[-1,1], size=10, color='red')\n"
   ]
  },
  {
   "cell_type": "code",
   "execution_count": 12,
   "metadata": {
    "scrolled": false
   },
   "outputs": [
    {
     "data": {
      "text/html": [
       "\n",
       "<div class=\"bk-root\">\n",
       "    <div class=\"bk-plotdiv\" id=\"8305e44e-5285-4cf1-9140-fe0049056bbc\"></div>\n",
       "</div>"
      ]
     },
     "metadata": {},
     "output_type": "display_data"
    },
    {
     "data": {
      "application/javascript": [
       "(function(root) {\n",
       "  function embed_document(root) {\n",
       "    \n",
       "  var docs_json = {\"a08c3d99-4007-4012-bd72-e97ce180e559\":{\"roots\":{\"references\":[{\"attributes\":{\"source\":{\"id\":\"169a61e1-2d87-4618-bb1b-7443ceaf8a66\",\"type\":\"ColumnDataSource\"}},\"id\":\"493c2d49-f700-4876-9498-ed24bcd01ad7\",\"type\":\"CDSView\"},{\"attributes\":{\"end\":{\"id\":\"8333076d-49cb-429c-bf3d-82ab52ef22d6\",\"type\":\"OpenHead\"},\"line_color\":{\"value\":\"gray\"},\"plot\":{\"id\":\"723c2140-2844-4117-80ed-eae18a3035c5\",\"subtype\":\"Figure\",\"type\":\"Plot\"},\"source\":null,\"start\":null,\"x_end\":{\"value\":-0.4977953512513802},\"x_start\":{\"value\":0.4909800263658468},\"y_end\":{\"value\":0.23204240508656518},\"y_start\":{\"value\":0.4740278681040562}},\"id\":\"a0c3d60d-1b0e-48b7-9ec0-1e9cf5041ab9\",\"type\":\"Arrow\"},{\"attributes\":{\"line_color\":{\"value\":\"firebrick\"},\"line_width\":{\"value\":2},\"plot\":null,\"size\":10},\"id\":\"ea3c4987-e494-4174-a551-ef66e2ef91ed\",\"type\":\"OpenHead\"},{\"attributes\":{\"line_color\":{\"value\":\"firebrick\"},\"line_width\":{\"value\":2},\"plot\":null,\"size\":10},\"id\":\"27f9260f-edf9-42de-aca7-6f9c850b1d73\",\"type\":\"OpenHead\"},{\"attributes\":{},\"id\":\"21076856-7fc8-48be-943b-e06336f7f060\",\"type\":\"BasicTickFormatter\"},{\"attributes\":{\"fill_color\":{\"value\":\"#1f77b4\"},\"line_color\":{\"value\":\"#1f77b4\"},\"size\":{\"units\":\"screen\",\"value\":10},\"x\":{\"field\":\"x\"},\"y\":{\"field\":\"y\"}},\"id\":\"479f5281-250d-4078-9682-f7a5122be827\",\"type\":\"Circle\"},{\"attributes\":{\"end\":{\"id\":\"ea3c4987-e494-4174-a551-ef66e2ef91ed\",\"type\":\"OpenHead\"},\"line_color\":{\"value\":\"gray\"},\"plot\":{\"id\":\"723c2140-2844-4117-80ed-eae18a3035c5\",\"subtype\":\"Figure\",\"type\":\"Plot\"},\"source\":null,\"start\":null,\"x_end\":{\"value\":-0.2668504772537469},\"x_start\":{\"value\":-0.4977953512513802},\"y_end\":{\"value\":-0.3400447463749092},\"y_start\":{\"value\":0.23204240508656518}},\"id\":\"d2af9326-1d93-4a06-9a81-417dafab1ef2\",\"type\":\"Arrow\"},{\"attributes\":{\"line_color\":{\"value\":\"firebrick\"},\"line_width\":{\"value\":2},\"plot\":null,\"size\":10},\"id\":\"b81fb73c-5392-4219-b02c-bed381091a23\",\"type\":\"OpenHead\"},{\"attributes\":{\"end\":{\"id\":\"27f9260f-edf9-42de-aca7-6f9c850b1d73\",\"type\":\"OpenHead\"},\"line_color\":{\"value\":\"gray\"},\"plot\":{\"id\":\"723c2140-2844-4117-80ed-eae18a3035c5\",\"subtype\":\"Figure\",\"type\":\"Plot\"},\"source\":null,\"start\":null,\"x_end\":{\"value\":0.10987557019463472},\"x_start\":{\"value\":-0.2668504772537469},\"y_end\":{\"value\":0.18007307799496702},\"y_start\":{\"value\":-0.3400447463749092}},\"id\":\"382fc903-b73a-435c-b865-e03072170d09\",\"type\":\"Arrow\"},{\"attributes\":{\"line_color\":{\"value\":\"firebrick\"},\"line_width\":{\"value\":2},\"plot\":null,\"size\":10},\"id\":\"f7455b64-92b8-491d-a2f4-5ddd681ea1bf\",\"type\":\"OpenHead\"},{\"attributes\":{\"end\":{\"id\":\"b81fb73c-5392-4219-b02c-bed381091a23\",\"type\":\"OpenHead\"},\"line_color\":{\"value\":\"gray\"},\"plot\":{\"id\":\"723c2140-2844-4117-80ed-eae18a3035c5\",\"subtype\":\"Figure\",\"type\":\"Plot\"},\"source\":null,\"start\":null,\"x_end\":{\"value\":-0.5227582017490569},\"x_start\":{\"value\":0.10987557019463472},\"y_end\":{\"value\":-0.08127823161350838},\"y_start\":{\"value\":0.18007307799496702}},\"id\":\"ec6a2450-737e-4b2f-8cb5-cb35d9620898\",\"type\":\"Arrow\"},{\"attributes\":{\"line_color\":{\"value\":\"firebrick\"},\"line_width\":{\"value\":2},\"plot\":null,\"size\":10},\"id\":\"75ffaa4e-6219-4f16-be2d-6bc73f4bd664\",\"type\":\"OpenHead\"},{\"attributes\":{\"end\":{\"id\":\"f7455b64-92b8-491d-a2f4-5ddd681ea1bf\",\"type\":\"OpenHead\"},\"line_color\":{\"value\":\"gray\"},\"plot\":{\"id\":\"723c2140-2844-4117-80ed-eae18a3035c5\",\"subtype\":\"Figure\",\"type\":\"Plot\"},\"source\":null,\"start\":null,\"x_end\":{\"value\":-0.017084713217709574},\"x_start\":{\"value\":-0.5227582017490569},\"y_end\":{\"value\":0.1401015090294863},\"y_start\":{\"value\":-0.08127823161350838}},\"id\":\"80a9758b-ac9c-4241-9950-493b402a0658\",\"type\":\"Arrow\"},{\"attributes\":{\"line_color\":{\"value\":\"firebrick\"},\"line_width\":{\"value\":2},\"plot\":null,\"size\":10},\"id\":\"500361d8-bbd4-47b4-aa9c-ed0f11a23e43\",\"type\":\"OpenHead\"},{\"attributes\":{\"end\":{\"id\":\"75ffaa4e-6219-4f16-be2d-6bc73f4bd664\",\"type\":\"OpenHead\"},\"line_color\":{\"value\":\"gray\"},\"plot\":{\"id\":\"723c2140-2844-4117-80ed-eae18a3035c5\",\"subtype\":\"Figure\",\"type\":\"Plot\"},\"source\":null,\"start\":null,\"x_end\":{\"value\":0.487514493576216},\"x_start\":{\"value\":-0.017084713217709574},\"y_end\":{\"value\":0.0046695422817166965},\"y_start\":{\"value\":0.1401015090294863}},\"id\":\"159b1778-df61-4cb1-ae13-964784d5b608\",\"type\":\"Arrow\"},{\"attributes\":{\"line_color\":{\"value\":\"firebrick\"},\"line_width\":{\"value\":2},\"plot\":null,\"size\":10},\"id\":\"bfa7d24e-fde4-4c77-88b3-c9b9dc4a4fab\",\"type\":\"OpenHead\"},{\"attributes\":{\"end\":{\"id\":\"500361d8-bbd4-47b4-aa9c-ed0f11a23e43\",\"type\":\"OpenHead\"},\"line_color\":{\"value\":\"gray\"},\"plot\":{\"id\":\"723c2140-2844-4117-80ed-eae18a3035c5\",\"subtype\":\"Figure\",\"type\":\"Plot\"},\"source\":null,\"start\":null,\"x_end\":{\"value\":-0.1278627377574047},\"x_start\":{\"value\":0.487514493576216},\"y_end\":{\"value\":-0.07161323015189049},\"y_start\":{\"value\":0.0046695422817166965}},\"id\":\"b72165fa-e7e3-4377-8dc6-cc806f569628\",\"type\":\"Arrow\"},{\"attributes\":{\"data_source\":{\"id\":\"169a61e1-2d87-4618-bb1b-7443ceaf8a66\",\"type\":\"ColumnDataSource\"},\"glyph\":{\"id\":\"479f5281-250d-4078-9682-f7a5122be827\",\"type\":\"Circle\"},\"hover_glyph\":null,\"muted_glyph\":null,\"name\":\"circle\",\"nonselection_glyph\":{\"id\":\"6379bc53-b623-4440-8e2f-f9d2a3498523\",\"type\":\"Circle\"},\"selection_glyph\":null,\"view\":{\"id\":\"493c2d49-f700-4876-9498-ed24bcd01ad7\",\"type\":\"CDSView\"}},\"id\":\"a838aa6a-c844-4349-a256-142e12539c85\",\"type\":\"GlyphRenderer\"},{\"attributes\":{\"end\":{\"id\":\"bfa7d24e-fde4-4c77-88b3-c9b9dc4a4fab\",\"type\":\"OpenHead\"},\"line_color\":{\"value\":\"gray\"},\"plot\":{\"id\":\"723c2140-2844-4117-80ed-eae18a3035c5\",\"subtype\":\"Figure\",\"type\":\"Plot\"},\"source\":null,\"start\":null,\"x_end\":{\"value\":-0.0896342918178594},\"x_start\":{\"value\":-0.1278627377574047},\"y_end\":{\"value\":-0.15720992852131485},\"y_start\":{\"value\":-0.07161323015189049}},\"id\":\"c5283094-4717-44d0-82eb-2ea69e1331ec\",\"type\":\"Arrow\"},{\"attributes\":{},\"id\":\"1c07c27b-3bcd-486d-88ac-e6240784e7c4\",\"type\":\"BasicTickFormatter\"},{\"attributes\":{\"below\":[{\"id\":\"bce0f96a-692d-4c86-a387-2942bd02d9e5\",\"type\":\"LinearAxis\"}],\"left\":[{\"id\":\"b6ee40b3-2ce9-488c-9c0d-628f80263d34\",\"type\":\"LinearAxis\"}],\"renderers\":[{\"id\":\"bce0f96a-692d-4c86-a387-2942bd02d9e5\",\"type\":\"LinearAxis\"},{\"id\":\"f4d5b060-2062-4186-993e-cbdd6f0886fb\",\"type\":\"Grid\"},{\"id\":\"b6ee40b3-2ce9-488c-9c0d-628f80263d34\",\"type\":\"LinearAxis\"},{\"id\":\"826fbcbd-b182-4317-ad5c-e9f351ecbab8\",\"type\":\"Grid\"},{\"id\":\"8384413a-b93a-4635-8473-7d05960e0154\",\"type\":\"Arrow\"},{\"id\":\"24f377bf-fa7a-4127-9121-4c5d99f51835\",\"type\":\"Arrow\"},{\"id\":\"51909ee4-3e1d-44aa-af14-3e73a242e5e4\",\"type\":\"Arrow\"},{\"id\":\"b84ceaa6-f1af-4609-804c-3ed39564967e\",\"type\":\"Arrow\"},{\"id\":\"3be8ebfb-9062-46bd-9d26-421f40d3dc4a\",\"type\":\"Arrow\"},{\"id\":\"41bf7e85-05e2-4229-a27a-9d9a0de82d33\",\"type\":\"Arrow\"},{\"id\":\"5e0b7b99-1587-4890-8732-1f6a9edb5644\",\"type\":\"Arrow\"},{\"id\":\"37545e62-6683-4637-82ee-27e2d373175f\",\"type\":\"Arrow\"},{\"id\":\"66b8ea21-7f96-46b6-b527-cd6848569f3e\",\"type\":\"Arrow\"},{\"id\":\"ddf12ddc-b202-45b6-9ac0-671f48ee6776\",\"type\":\"Arrow\"},{\"id\":\"f47f1346-4d1f-4786-b3ca-a2dec9f58124\",\"type\":\"Arrow\"},{\"id\":\"e5992932-24b7-4480-a7e1-1bfd7be09761\",\"type\":\"Arrow\"},{\"id\":\"2bcd3b65-c692-4aa7-9a57-4b28db65f9ff\",\"type\":\"Arrow\"},{\"id\":\"9a029336-1584-40aa-8b6c-86f2ef55760e\",\"type\":\"Arrow\"},{\"id\":\"af0a3ac7-19cb-4bf2-9d9a-c0b30a4b68aa\",\"type\":\"Arrow\"},{\"id\":\"89005ff8-813f-49e3-b15a-952a8fb93371\",\"type\":\"Arrow\"},{\"id\":\"65a5d77d-41d4-4ecb-93bc-e595753bf3fe\",\"type\":\"Arrow\"},{\"id\":\"0c1e6f4c-1914-4358-9062-1ea4c60bd809\",\"type\":\"Arrow\"},{\"id\":\"a0c3d60d-1b0e-48b7-9ec0-1e9cf5041ab9\",\"type\":\"Arrow\"},{\"id\":\"d2af9326-1d93-4a06-9a81-417dafab1ef2\",\"type\":\"Arrow\"},{\"id\":\"382fc903-b73a-435c-b865-e03072170d09\",\"type\":\"Arrow\"},{\"id\":\"ec6a2450-737e-4b2f-8cb5-cb35d9620898\",\"type\":\"Arrow\"},{\"id\":\"80a9758b-ac9c-4241-9950-493b402a0658\",\"type\":\"Arrow\"},{\"id\":\"159b1778-df61-4cb1-ae13-964784d5b608\",\"type\":\"Arrow\"},{\"id\":\"b72165fa-e7e3-4377-8dc6-cc806f569628\",\"type\":\"Arrow\"},{\"id\":\"c5283094-4717-44d0-82eb-2ea69e1331ec\",\"type\":\"Arrow\"},{\"id\":\"a838aa6a-c844-4349-a256-142e12539c85\",\"type\":\"GlyphRenderer\"},{\"id\":\"ece7bd16-0a3f-44bb-b24a-39c59344a1f4\",\"type\":\"GlyphRenderer\"},{\"id\":\"79f9b37f-c913-41d6-88fb-aec0f6bac01e\",\"type\":\"GlyphRenderer\"},{\"id\":\"c6c5bdf7-dfcf-430c-9d57-92b07c3d67c0\",\"type\":\"GlyphRenderer\"},{\"id\":\"7267597f-26e7-4647-85e1-f4f56ef68599\",\"type\":\"GlyphRenderer\"},{\"id\":\"60de3838-017a-4e63-b503-b55206ce711a\",\"type\":\"GlyphRenderer\"}],\"title\":{\"id\":\"2a053704-6dab-40f6-9e3f-4d18358e70a3\",\"type\":\"Title\"},\"toolbar\":{\"id\":\"ea39f971-edf0-431a-bb5b-333a3e6a0c2e\",\"type\":\"Toolbar\"},\"x_range\":{\"id\":\"26e54bf3-5696-49b7-8e50-fee554f2f4c8\",\"type\":\"DataRange1d\"},\"x_scale\":{\"id\":\"2d348266-3b11-4ae4-bc9a-4237179acc92\",\"type\":\"LinearScale\"},\"y_range\":{\"id\":\"dc13347b-35e2-4869-b2db-b85579f7a4c3\",\"type\":\"DataRange1d\"},\"y_scale\":{\"id\":\"7c0fa5fc-739f-4df6-84ce-2eb0b262db82\",\"type\":\"LinearScale\"}},\"id\":\"723c2140-2844-4117-80ed-eae18a3035c5\",\"subtype\":\"Figure\",\"type\":\"Plot\"},{\"attributes\":{\"data_source\":{\"id\":\"8cadc8ca-799d-46a9-b60d-c7f81b4e7987\",\"type\":\"ColumnDataSource\"},\"glyph\":{\"id\":\"cb373b6c-66a0-491f-81da-a21bf1bdad92\",\"type\":\"Circle\"},\"hover_glyph\":null,\"muted_glyph\":null,\"name\":\"circle\",\"nonselection_glyph\":{\"id\":\"b8c943ab-622e-49b3-af8f-f9b96640e774\",\"type\":\"Circle\"},\"selection_glyph\":null,\"view\":{\"id\":\"824302c3-bd4c-4726-b273-a68d93ffab90\",\"type\":\"CDSView\"}},\"id\":\"79f9b37f-c913-41d6-88fb-aec0f6bac01e\",\"type\":\"GlyphRenderer\"},{\"attributes\":{\"callback\":null,\"names\":[\"circle\"],\"tooltips\":[[\"true action\",\"@desc\"],[\"prediction\",\"@pred\"],[\"not_skip_gate\",\"@not_skip\"]]},\"id\":\"ec44ad99-c4f7-4599-a4e3-531aa4322346\",\"type\":\"HoverTool\"},{\"attributes\":{\"fill_alpha\":{\"value\":0.1},\"fill_color\":{\"value\":\"#1f77b4\"},\"line_alpha\":{\"value\":0.1},\"line_color\":{\"value\":\"#1f77b4\"},\"size\":{\"units\":\"screen\",\"value\":10},\"x\":{\"field\":\"x\"},\"y\":{\"field\":\"y\"}},\"id\":\"6379bc53-b623-4440-8e2f-f9d2a3498523\",\"type\":\"Circle\"},{\"attributes\":{\"line_color\":{\"value\":\"firebrick\"},\"line_width\":{\"value\":2},\"plot\":null,\"size\":10},\"id\":\"146d9cbe-5c93-4c06-8c5b-da604f9d90dc\",\"type\":\"OpenHead\"},{\"attributes\":{\"plot\":null,\"text\":\"\"},\"id\":\"2a053704-6dab-40f6-9e3f-4d18358e70a3\",\"type\":\"Title\"},{\"attributes\":{},\"id\":\"7c0fa5fc-739f-4df6-84ce-2eb0b262db82\",\"type\":\"LinearScale\"},{\"attributes\":{\"end\":{\"id\":\"146d9cbe-5c93-4c06-8c5b-da604f9d90dc\",\"type\":\"OpenHead\"},\"line_color\":{\"value\":\"gray\"},\"plot\":{\"id\":\"723c2140-2844-4117-80ed-eae18a3035c5\",\"subtype\":\"Figure\",\"type\":\"Plot\"},\"source\":null,\"start\":null,\"x_end\":{\"value\":0.20854459711025802},\"x_start\":{\"value\":-0.21505613681058305},\"y_end\":{\"value\":0.06288921356779187},\"y_start\":{\"value\":-0.40584936494385054}},\"id\":\"8384413a-b93a-4635-8473-7d05960e0154\",\"type\":\"Arrow\"},{\"attributes\":{\"source\":{\"id\":\"ec0b6203-1f0f-4161-a005-f71d847cd1c4\",\"type\":\"ColumnDataSource\"}},\"id\":\"f7e0878b-3c76-435b-8b12-c44c45561e42\",\"type\":\"CDSView\"},{\"attributes\":{\"callback\":null,\"data\":{},\"selected\":null,\"selection_policy\":null},\"id\":\"19117012-f3ba-4a64-a49c-ad6401a4b4b8\",\"type\":\"ColumnDataSource\"},{\"attributes\":{\"callback\":null,\"column_names\":[\"x\",\"y\",\"desc\",\"pred\",\"not_skip\"],\"data\":{\"desc\":[\"    - utter_ask_details\",\"    - utter_explain_details_hotel\",\"    - utter_ask_details\",\"    - utter_chitchat\",\"    - utter_ask_details\",\"    - utter_ask_startdate\",\"    - utter_ask_location\",\"    - utter_explain_location_hotel\",\"    - utter_ask_location\",\"    - utter_ask_price\",\"    - utter_chitchat\",\"    - utter_ask_price\",\"    - utter_chitchat\",\"    - utter_ask_price\",\"    - utter_chitchat\",\"    - utter_ask_price\",\"    - utter_chitchat\",\"    - utter_ask_price\",\"    - utter_explain_price_hotel\",\"    - utter_ask_price\",\"    - utter_ask_people\",\"    - utter_filled_slots\",\"    - action_search_hotel\",\"    - utter_suggest_hotel\",\"    - utter_chitchat\",\"    - utter_suggest_hotel\",\"    - utter_happy\"],\"not_skip\":[{\"__ndarray__\":\"BinDPQ==\",\"dtype\":\"float32\",\"shape\":[1]},{\"__ndarray__\":\"wxHZPQ==\",\"dtype\":\"float32\",\"shape\":[1]},{\"__ndarray__\":\"GhUTPQ==\",\"dtype\":\"float32\",\"shape\":[1]},{\"__ndarray__\":\"ySCsPQ==\",\"dtype\":\"float32\",\"shape\":[1]},{\"__ndarray__\":\"HckUPQ==\",\"dtype\":\"float32\",\"shape\":[1]},{\"__ndarray__\":\"lTB/Pg==\",\"dtype\":\"float32\",\"shape\":[1]},{\"__ndarray__\":\"rrxaPg==\",\"dtype\":\"float32\",\"shape\":[1]},{\"__ndarray__\":\"PTrDPQ==\",\"dtype\":\"float32\",\"shape\":[1]},{\"__ndarray__\":\"ubfvPA==\",\"dtype\":\"float32\",\"shape\":[1]},{\"__ndarray__\":\"itecPg==\",\"dtype\":\"float32\",\"shape\":[1]},{\"__ndarray__\":\"tKFaPQ==\",\"dtype\":\"float32\",\"shape\":[1]},{\"__ndarray__\":\"SlsjPQ==\",\"dtype\":\"float32\",\"shape\":[1]},{\"__ndarray__\":\"DMWsPQ==\",\"dtype\":\"float32\",\"shape\":[1]},{\"__ndarray__\":\"AykZPQ==\",\"dtype\":\"float32\",\"shape\":[1]},{\"__ndarray__\":\"32GtPQ==\",\"dtype\":\"float32\",\"shape\":[1]},{\"__ndarray__\":\"ByUaPQ==\",\"dtype\":\"float32\",\"shape\":[1]},{\"__ndarray__\":\"g0KwPQ==\",\"dtype\":\"float32\",\"shape\":[1]},{\"__ndarray__\":\"98kaPQ==\",\"dtype\":\"float32\",\"shape\":[1]},{\"__ndarray__\":\"ixDDPQ==\",\"dtype\":\"float32\",\"shape\":[1]},{\"__ndarray__\":\"zmECPQ==\",\"dtype\":\"float32\",\"shape\":[1]},{\"__ndarray__\":\"ceRoPg==\",\"dtype\":\"float32\",\"shape\":[1]},{\"__ndarray__\":\"bMlwPg==\",\"dtype\":\"float32\",\"shape\":[1]},{\"__ndarray__\":\"nCXFPA==\",\"dtype\":\"float32\",\"shape\":[1]},{\"__ndarray__\":\"9na0PA==\",\"dtype\":\"float32\",\"shape\":[1]},{\"__ndarray__\":\"gEbdPQ==\",\"dtype\":\"float32\",\"shape\":[1]},{\"__ndarray__\":\"OkM5PQ==\",\"dtype\":\"float32\",\"shape\":[1]},{\"__ndarray__\":\"qQy9PQ==\",\"dtype\":\"float32\",\"shape\":[1]}],\"pred\":[\"utter_ask_details\",\"utter_explain_people_hotel\",\"utter_ask_details\",\"utter_chitchat\",\"utter_ask_details\",\"utter_ask_location\",\"utter_ask_location\",\"utter_explain_enddate_hotel\",\"utter_ask_location\",\"utter_ask_people\",\"utter_chitchat\",\"utter_ask_price\",\"utter_chitchat\",\"utter_ask_price\",\"utter_chitchat\",\"utter_ask_price\",\"utter_chitchat\",\"utter_ask_price\",\"utter_explain_enddate_hotel\",\"utter_ask_price\",\"utter_ask_location\",\"utter_filled_slots\",\"action_search_hotel\",\"utter_suggest_hotel\",\"utter_chitchat\",\"action_listen\",\"utter_happy\"],\"x\":{\"__ndarray__\":\"QukzofWGy7+CSyzglrHKP8W3JGNuL8e/hmUlg9SO4D84VMgv3K7Fv/7Iwdi7ydS/1MgZ/wPQ0b/DNd4y5o3hP8maQQw0VOG/oCvU9kF2yL9Ys+aopm/oP8uI8lsHZeK/mfq9/kPq5j+roxutRc3bv0kO04F4Suc/mq7NXsbw278wldAw9WbnP0e+vciRsNu/AMEOfTds3z/Ebm4I4dvfv3aELgYUFNG/24SdLM4gvD+GS4dob7rgvyhcILKnfpG/KhiP/W8z3z8axYVizl3Avx409d9F8ra/\",\"dtype\":\"float64\",\"shape\":[27]},\"y\":{\"__ndarray__\":\"N1FinW/52b+weYvrgRmwPyT3RhZFM9K/6fmcBTmuzL8PnsZsNIfOv/eotQONsN2/GwDj7W71tr8hrc0nw+jbPwOeGH5Dc9m/BnfNGEz8xj8sAE6UQm/Fv7yc5Nq95dg/mYdwo2Uvtb/ym/ZZa37WP0MJag0gXbK/l8ZGZ0o31j86rLOrIRexv6Hs66PjIdY/yZG5+3hW3j/F5JDGkLPNP6DWNgpLw9W/vnBwdqIMxz+TH6hyps60vzVxs6PY7sE/Fzoytl4gcz85mnahPlWyv3+CzXZ0H8S/\",\"dtype\":\"float64\",\"shape\":[27]}},\"selected\":null,\"selection_policy\":null},\"id\":\"169a61e1-2d87-4618-bb1b-7443ceaf8a66\",\"type\":\"ColumnDataSource\"},{\"attributes\":{\"fill_color\":{\"value\":\"magenta\"},\"line_color\":{\"value\":\"magenta\"},\"size\":{\"units\":\"screen\",\"value\":5},\"x\":{\"value\":-0.16751241105186232},\"y\":{\"value\":-0.06049810410382758}},\"id\":\"a547cc7b-71d7-443d-a4a8-297d8866630f\",\"type\":\"Circle\"},{\"attributes\":{\"active_drag\":\"auto\",\"active_inspect\":\"auto\",\"active_scroll\":\"auto\",\"active_tap\":\"auto\",\"tools\":[{\"id\":\"ec44ad99-c4f7-4599-a4e3-531aa4322346\",\"type\":\"HoverTool\"}]},\"id\":\"ea39f971-edf0-431a-bb5b-333a3e6a0c2e\",\"type\":\"Toolbar\"},{\"attributes\":{\"fill_color\":{\"value\":\"green\"},\"line_color\":{\"value\":\"green\"},\"size\":{\"units\":\"screen\",\"value\":5},\"x\":{\"field\":\"x\"},\"y\":{\"field\":\"y\"}},\"id\":\"fdc2be04-4882-41de-8eda-1f7ce5b4a0d5\",\"type\":\"Circle\"},{\"attributes\":{\"callback\":null},\"id\":\"dc13347b-35e2-4869-b2db-b85579f7a4c3\",\"type\":\"DataRange1d\"},{\"attributes\":{\"callback\":null,\"column_names\":[\"x\",\"y\",\"desc\",\"pred\",\"not_skip\"],\"data\":{\"desc\":[\"    - utter_ask_details\",\"    - utter_explain_details_hotel\",\"    - utter_ask_details\",\"    - utter_chitchat\",\"    - utter_ask_details\",\"    - utter_ask_startdate\",\"    - utter_ask_location\",\"    - utter_explain_location_hotel\",\"    - utter_ask_location\",\"    - utter_ask_price\",\"    - utter_chitchat\",\"    - utter_ask_price\",\"    - utter_chitchat\",\"    - utter_ask_price\",\"    - utter_chitchat\",\"    - utter_ask_price\",\"    - utter_chitchat\",\"    - utter_ask_price\",\"    - utter_explain_price_hotel\",\"    - utter_ask_price\",\"    - utter_ask_people\",\"    - utter_filled_slots\",\"    - action_search_hotel\",\"    - utter_suggest_hotel\",\"    - utter_chitchat\",\"    - utter_suggest_hotel\",\"    - utter_happy\"],\"not_skip\":[{\"__ndarray__\":\"BinDPQ==\",\"dtype\":\"float32\",\"shape\":[1]},{\"__ndarray__\":\"wxHZPQ==\",\"dtype\":\"float32\",\"shape\":[1]},{\"__ndarray__\":\"GhUTPQ==\",\"dtype\":\"float32\",\"shape\":[1]},{\"__ndarray__\":\"ySCsPQ==\",\"dtype\":\"float32\",\"shape\":[1]},{\"__ndarray__\":\"HckUPQ==\",\"dtype\":\"float32\",\"shape\":[1]},{\"__ndarray__\":\"lTB/Pg==\",\"dtype\":\"float32\",\"shape\":[1]},{\"__ndarray__\":\"rrxaPg==\",\"dtype\":\"float32\",\"shape\":[1]},{\"__ndarray__\":\"PTrDPQ==\",\"dtype\":\"float32\",\"shape\":[1]},{\"__ndarray__\":\"ubfvPA==\",\"dtype\":\"float32\",\"shape\":[1]},{\"__ndarray__\":\"itecPg==\",\"dtype\":\"float32\",\"shape\":[1]},{\"__ndarray__\":\"tKFaPQ==\",\"dtype\":\"float32\",\"shape\":[1]},{\"__ndarray__\":\"SlsjPQ==\",\"dtype\":\"float32\",\"shape\":[1]},{\"__ndarray__\":\"DMWsPQ==\",\"dtype\":\"float32\",\"shape\":[1]},{\"__ndarray__\":\"AykZPQ==\",\"dtype\":\"float32\",\"shape\":[1]},{\"__ndarray__\":\"32GtPQ==\",\"dtype\":\"float32\",\"shape\":[1]},{\"__ndarray__\":\"ByUaPQ==\",\"dtype\":\"float32\",\"shape\":[1]},{\"__ndarray__\":\"g0KwPQ==\",\"dtype\":\"float32\",\"shape\":[1]},{\"__ndarray__\":\"98kaPQ==\",\"dtype\":\"float32\",\"shape\":[1]},{\"__ndarray__\":\"ixDDPQ==\",\"dtype\":\"float32\",\"shape\":[1]},{\"__ndarray__\":\"zmECPQ==\",\"dtype\":\"float32\",\"shape\":[1]},{\"__ndarray__\":\"ceRoPg==\",\"dtype\":\"float32\",\"shape\":[1]},{\"__ndarray__\":\"bMlwPg==\",\"dtype\":\"float32\",\"shape\":[1]},{\"__ndarray__\":\"nCXFPA==\",\"dtype\":\"float32\",\"shape\":[1]},{\"__ndarray__\":\"9na0PA==\",\"dtype\":\"float32\",\"shape\":[1]},{\"__ndarray__\":\"gEbdPQ==\",\"dtype\":\"float32\",\"shape\":[1]},{\"__ndarray__\":\"OkM5PQ==\",\"dtype\":\"float32\",\"shape\":[1]},{\"__ndarray__\":\"qQy9PQ==\",\"dtype\":\"float32\",\"shape\":[1]}],\"pred\":[\"utter_ask_details\",\"utter_explain_people_hotel\",\"utter_ask_details\",\"utter_chitchat\",\"utter_ask_details\",\"utter_ask_location\",\"utter_ask_location\",\"utter_explain_enddate_hotel\",\"utter_ask_location\",\"utter_ask_people\",\"utter_chitchat\",\"utter_ask_price\",\"utter_chitchat\",\"utter_ask_price\",\"utter_chitchat\",\"utter_ask_price\",\"utter_chitchat\",\"utter_ask_price\",\"utter_explain_enddate_hotel\",\"utter_ask_price\",\"utter_ask_location\",\"utter_filled_slots\",\"action_search_hotel\",\"utter_suggest_hotel\",\"utter_chitchat\",\"action_listen\",\"utter_happy\"],\"x\":{\"__ndarray__\":\"pTL7vtBPyL90KjHEJPvEv35Bw54IYci/OuPjzHFoxL9gmUbp4nDKv04U3QcRz7+/nk0h+oo1sb8inImbHv+qv8KZWIFlU9e/LaiTB6M6w7/9G2AllOizv34U4jAPTdq/C1uqmqkwsL/9qgoP9pjYvzMHqqwOILC/qEENc+fF2L/c6ZtCHFOwv38peB/Jr9i/zX5N+cMts7/53FhX1DnYv9mmD2cqy7e/NSOWOg24tb8d6Fb01gmlv3xWt+vG5ai/EjYV0e9VrL9Mu3p/fDO7v0EaBOk8Za2/\",\"dtype\":\"float64\",\"shape\":[27]},\"y\":{\"__ndarray__\":\"4E19kuKnvb9CHv8ghd/Bv3HtNLL7VNO/DPMwAokz0L89+q6Tm6XVv9CAo8ywUMy/z2nL1WRYxr872spB8djKv//BI7UEvtm/n68eqXJpyr9hiw/gblLGvx9ZT+j1Z80/B9fuleitxr9iiGdRpGzHPwuTiwBSn8S/iTEQZOtRxz8oq8EEwHHDv2zLw3SyRsc/QloWdd9+wr/aEPswOxXFPz+y5NPTY7q/WKmeTNHlu79iLGivQuu0v6ZHAKw5Fau/rXJ+fY+6sb8DGObkrS+sv8bUcU8YP7C/\",\"dtype\":\"float64\",\"shape\":[27]}},\"selected\":null,\"selection_policy\":null},\"id\":\"ec0b6203-1f0f-4161-a005-f71d847cd1c4\",\"type\":\"ColumnDataSource\"},{\"attributes\":{\"callback\":null},\"id\":\"26e54bf3-5696-49b7-8e50-fee554f2f4c8\",\"type\":\"DataRange1d\"},{\"attributes\":{\"fill_alpha\":{\"value\":0.1},\"fill_color\":{\"value\":\"#1f77b4\"},\"line_alpha\":{\"value\":0.1},\"line_color\":{\"value\":\"#1f77b4\"},\"size\":{\"units\":\"screen\",\"value\":5},\"x\":{\"field\":\"x\"},\"y\":{\"field\":\"y\"}},\"id\":\"34da7656-232e-4704-af83-2591b256e1d2\",\"type\":\"Circle\"},{\"attributes\":{\"line_color\":{\"value\":\"firebrick\"},\"line_width\":{\"value\":2},\"plot\":null,\"size\":10},\"id\":\"b9266477-83b6-4639-aca7-79d73892878f\",\"type\":\"OpenHead\"},{\"attributes\":{\"data_source\":{\"id\":\"ec0b6203-1f0f-4161-a005-f71d847cd1c4\",\"type\":\"ColumnDataSource\"},\"glyph\":{\"id\":\"fdc2be04-4882-41de-8eda-1f7ce5b4a0d5\",\"type\":\"Circle\"},\"hover_glyph\":null,\"muted_glyph\":null,\"name\":\"circle\",\"nonselection_glyph\":{\"id\":\"34da7656-232e-4704-af83-2591b256e1d2\",\"type\":\"Circle\"},\"selection_glyph\":null,\"view\":{\"id\":\"f7e0878b-3c76-435b-8b12-c44c45561e42\",\"type\":\"CDSView\"}},\"id\":\"ece7bd16-0a3f-44bb-b24a-39c59344a1f4\",\"type\":\"GlyphRenderer\"},{\"attributes\":{\"formatter\":{\"id\":\"21076856-7fc8-48be-943b-e06336f7f060\",\"type\":\"BasicTickFormatter\"},\"plot\":{\"id\":\"723c2140-2844-4117-80ed-eae18a3035c5\",\"subtype\":\"Figure\",\"type\":\"Plot\"},\"ticker\":{\"id\":\"56373351-53e2-42c5-872f-a1bff04a1ef5\",\"type\":\"BasicTicker\"}},\"id\":\"bce0f96a-692d-4c86-a387-2942bd02d9e5\",\"type\":\"LinearAxis\"},{\"attributes\":{\"source\":{\"id\":\"8cadc8ca-799d-46a9-b60d-c7f81b4e7987\",\"type\":\"ColumnDataSource\"}},\"id\":\"824302c3-bd4c-4726-b273-a68d93ffab90\",\"type\":\"CDSView\"},{\"attributes\":{},\"id\":\"2d348266-3b11-4ae4-bc9a-4237179acc92\",\"type\":\"LinearScale\"},{\"attributes\":{\"callback\":null,\"column_names\":[\"x\",\"y\",\"desc\",\"pred\",\"not_skip\"],\"data\":{\"desc\":[\"    - utter_ask_details\",\"    - utter_explain_details_hotel\",\"    - utter_ask_details\",\"    - utter_chitchat\",\"    - utter_ask_details\",\"    - utter_ask_startdate\",\"    - utter_ask_location\",\"    - utter_explain_location_hotel\",\"    - utter_ask_location\",\"    - utter_ask_price\",\"    - utter_chitchat\",\"    - utter_ask_price\",\"    - utter_chitchat\",\"    - utter_ask_price\",\"    - utter_chitchat\",\"    - utter_ask_price\",\"    - utter_chitchat\",\"    - utter_ask_price\",\"    - utter_explain_price_hotel\",\"    - utter_ask_price\",\"    - utter_ask_people\",\"    - utter_filled_slots\",\"    - action_search_hotel\",\"    - utter_suggest_hotel\",\"    - utter_chitchat\",\"    - utter_suggest_hotel\",\"    - utter_happy\"],\"not_skip\":[{\"__ndarray__\":\"BinDPQ==\",\"dtype\":\"float32\",\"shape\":[1]},{\"__ndarray__\":\"wxHZPQ==\",\"dtype\":\"float32\",\"shape\":[1]},{\"__ndarray__\":\"GhUTPQ==\",\"dtype\":\"float32\",\"shape\":[1]},{\"__ndarray__\":\"ySCsPQ==\",\"dtype\":\"float32\",\"shape\":[1]},{\"__ndarray__\":\"HckUPQ==\",\"dtype\":\"float32\",\"shape\":[1]},{\"__ndarray__\":\"lTB/Pg==\",\"dtype\":\"float32\",\"shape\":[1]},{\"__ndarray__\":\"rrxaPg==\",\"dtype\":\"float32\",\"shape\":[1]},{\"__ndarray__\":\"PTrDPQ==\",\"dtype\":\"float32\",\"shape\":[1]},{\"__ndarray__\":\"ubfvPA==\",\"dtype\":\"float32\",\"shape\":[1]},{\"__ndarray__\":\"itecPg==\",\"dtype\":\"float32\",\"shape\":[1]},{\"__ndarray__\":\"tKFaPQ==\",\"dtype\":\"float32\",\"shape\":[1]},{\"__ndarray__\":\"SlsjPQ==\",\"dtype\":\"float32\",\"shape\":[1]},{\"__ndarray__\":\"DMWsPQ==\",\"dtype\":\"float32\",\"shape\":[1]},{\"__ndarray__\":\"AykZPQ==\",\"dtype\":\"float32\",\"shape\":[1]},{\"__ndarray__\":\"32GtPQ==\",\"dtype\":\"float32\",\"shape\":[1]},{\"__ndarray__\":\"ByUaPQ==\",\"dtype\":\"float32\",\"shape\":[1]},{\"__ndarray__\":\"g0KwPQ==\",\"dtype\":\"float32\",\"shape\":[1]},{\"__ndarray__\":\"98kaPQ==\",\"dtype\":\"float32\",\"shape\":[1]},{\"__ndarray__\":\"ixDDPQ==\",\"dtype\":\"float32\",\"shape\":[1]},{\"__ndarray__\":\"zmECPQ==\",\"dtype\":\"float32\",\"shape\":[1]},{\"__ndarray__\":\"ceRoPg==\",\"dtype\":\"float32\",\"shape\":[1]},{\"__ndarray__\":\"bMlwPg==\",\"dtype\":\"float32\",\"shape\":[1]},{\"__ndarray__\":\"nCXFPA==\",\"dtype\":\"float32\",\"shape\":[1]},{\"__ndarray__\":\"9na0PA==\",\"dtype\":\"float32\",\"shape\":[1]},{\"__ndarray__\":\"gEbdPQ==\",\"dtype\":\"float32\",\"shape\":[1]},{\"__ndarray__\":\"OkM5PQ==\",\"dtype\":\"float32\",\"shape\":[1]},{\"__ndarray__\":\"qQy9PQ==\",\"dtype\":\"float32\",\"shape\":[1]}],\"pred\":[\"utter_ask_details\",\"utter_explain_people_hotel\",\"utter_ask_details\",\"utter_chitchat\",\"utter_ask_details\",\"utter_ask_location\",\"utter_ask_location\",\"utter_explain_enddate_hotel\",\"utter_ask_location\",\"utter_ask_people\",\"utter_chitchat\",\"utter_ask_price\",\"utter_chitchat\",\"utter_ask_price\",\"utter_chitchat\",\"utter_ask_price\",\"utter_chitchat\",\"utter_ask_price\",\"utter_explain_enddate_hotel\",\"utter_ask_price\",\"utter_ask_location\",\"utter_filled_slots\",\"action_search_hotel\",\"utter_suggest_hotel\",\"utter_chitchat\",\"action_listen\",\"utter_happy\"],\"x\":{\"__ndarray__\":\"eHuP2DCoyL/4eQ+nrzvKP3FY9LZxP8S/exrF+q1M4D9+Y747Ba/Av5U/TYt9jte/7VR8Oyc72L/F7ExGKsPbP5LclYyIDda/wk2x1qqsyr9B2k0odpDlP5zzp4SFNdW/9QU/OhaU4z8EuWYnq9nLvwcjn1c38uM/5VFevsnGy7+qE5/DFRXkP/ptMladcsu/CQa9gCJ/2T/hpI2xklrSv4ng72DP2dW//OyfeA7bmz8vWSv3FMbkv2xDMihvZ8G/e4TZ+6cF2D8hQGIbHDXIvwvfQa7fkMm/\",\"dtype\":\"float64\",\"shape\":[27]},\"y\":{\"__ndarray__\":\"aX8waqpu1r/FqGUz3y3CP1gcP6jm66W/ZJb9mjcWoL9n6llubxakP8uf2A5oZ9O/uXQtADT6mD/TrAQsBLviP6ENZdWRo6y/d4Jl7qvT1D/T6V126myrv3+kmvo9Srk/ogAYlDtfoT+t9aL4lqO7PxorDO/Ykp0/QeAACIW8uj+phmKrQj6ZP3O8599bfbo/XT9wpFrb4T8VUp3R1v17PxjZ3IOJCdO/OMkRNCRBzT9D16oiY8Cuv8NjnjDA9cA/RYFa/z1+iz94s/1tNbqzv+gK8SRPvsO/\",\"dtype\":\"float64\",\"shape\":[27]}},\"selected\":null,\"selection_policy\":null},\"id\":\"8cadc8ca-799d-46a9-b60d-c7f81b4e7987\",\"type\":\"ColumnDataSource\"},{\"attributes\":{},\"id\":\"56373351-53e2-42c5-872f-a1bff04a1ef5\",\"type\":\"BasicTicker\"},{\"attributes\":{\"plot\":{\"id\":\"723c2140-2844-4117-80ed-eae18a3035c5\",\"subtype\":\"Figure\",\"type\":\"Plot\"},\"ticker\":{\"id\":\"56373351-53e2-42c5-872f-a1bff04a1ef5\",\"type\":\"BasicTicker\"}},\"id\":\"f4d5b060-2062-4186-993e-cbdd6f0886fb\",\"type\":\"Grid\"},{\"attributes\":{\"callback\":null,\"data\":{},\"selected\":null,\"selection_policy\":null},\"id\":\"74542f5e-7023-49d5-aa25-d8a32077cff6\",\"type\":\"ColumnDataSource\"},{\"attributes\":{\"formatter\":{\"id\":\"1c07c27b-3bcd-486d-88ac-e6240784e7c4\",\"type\":\"BasicTickFormatter\"},\"plot\":{\"id\":\"723c2140-2844-4117-80ed-eae18a3035c5\",\"subtype\":\"Figure\",\"type\":\"Plot\"},\"ticker\":{\"id\":\"a99c5afb-cfd1-45ee-b70d-d00ba93952cb\",\"type\":\"BasicTicker\"}},\"id\":\"b6ee40b3-2ce9-488c-9c0d-628f80263d34\",\"type\":\"LinearAxis\"},{\"attributes\":{\"fill_color\":{\"value\":\"red\"},\"line_color\":{\"value\":\"red\"},\"size\":{\"units\":\"screen\",\"value\":5},\"x\":{\"field\":\"x\"},\"y\":{\"field\":\"y\"}},\"id\":\"cb373b6c-66a0-491f-81da-a21bf1bdad92\",\"type\":\"Circle\"},{\"attributes\":{},\"id\":\"a99c5afb-cfd1-45ee-b70d-d00ba93952cb\",\"type\":\"BasicTicker\"},{\"attributes\":{\"fill_alpha\":{\"value\":0.1},\"fill_color\":{\"value\":\"#1f77b4\"},\"line_alpha\":{\"value\":0.1},\"line_color\":{\"value\":\"#1f77b4\"},\"size\":{\"units\":\"screen\",\"value\":5},\"x\":{\"field\":\"x\"},\"y\":{\"field\":\"y\"}},\"id\":\"b8c943ab-622e-49b3-af8f-f9b96640e774\",\"type\":\"Circle\"},{\"attributes\":{\"dimension\":1,\"plot\":{\"id\":\"723c2140-2844-4117-80ed-eae18a3035c5\",\"subtype\":\"Figure\",\"type\":\"Plot\"},\"ticker\":{\"id\":\"a99c5afb-cfd1-45ee-b70d-d00ba93952cb\",\"type\":\"BasicTicker\"}},\"id\":\"826fbcbd-b182-4317-ad5c-e9f351ecbab8\",\"type\":\"Grid\"},{\"attributes\":{\"data_source\":{\"id\":\"19117012-f3ba-4a64-a49c-ad6401a4b4b8\",\"type\":\"ColumnDataSource\"},\"glyph\":{\"id\":\"a547cc7b-71d7-443d-a4a8-297d8866630f\",\"type\":\"Circle\"},\"hover_glyph\":null,\"muted_glyph\":null,\"nonselection_glyph\":{\"id\":\"fe7744fc-fe81-4e55-bdd6-1a5df2afe4ec\",\"type\":\"Circle\"},\"selection_glyph\":null,\"view\":{\"id\":\"820b72dc-3a13-4d4f-ae70-267f0de93c7a\",\"type\":\"CDSView\"}},\"id\":\"c6c5bdf7-dfcf-430c-9d57-92b07c3d67c0\",\"type\":\"GlyphRenderer\"},{\"attributes\":{\"end\":{\"id\":\"bc7d7816-e7d7-4e62-aa7f-1a2904e741ce\",\"type\":\"OpenHead\"},\"line_color\":{\"value\":\"gray\"},\"plot\":{\"id\":\"723c2140-2844-4117-80ed-eae18a3035c5\",\"subtype\":\"Figure\",\"type\":\"Plot\"},\"source\":null,\"start\":null,\"x_end\":{\"value\":0.4909800263658468},\"x_start\":{\"value\":-0.43265194514876665},\"y_end\":{\"value\":0.4740278681040562},\"y_start\":{\"value\":0.34581843383757344}},\"id\":\"0c1e6f4c-1914-4358-9062-1ea4c60bd809\",\"type\":\"Arrow\"},{\"attributes\":{\"fill_alpha\":{\"value\":0.1},\"fill_color\":{\"value\":\"#1f77b4\"},\"line_alpha\":{\"value\":0.1},\"line_color\":{\"value\":\"#1f77b4\"},\"size\":{\"units\":\"screen\",\"value\":5},\"x\":{\"value\":-0.16751241105186232},\"y\":{\"value\":-0.06049810410382758}},\"id\":\"fe7744fc-fe81-4e55-bdd6-1a5df2afe4ec\",\"type\":\"Circle\"},{\"attributes\":{\"line_color\":{\"value\":\"firebrick\"},\"line_width\":{\"value\":2},\"plot\":null,\"size\":10},\"id\":\"5c6069a5-934b-4e6f-89b3-a71b45450565\",\"type\":\"OpenHead\"},{\"attributes\":{\"source\":{\"id\":\"19117012-f3ba-4a64-a49c-ad6401a4b4b8\",\"type\":\"ColumnDataSource\"}},\"id\":\"820b72dc-3a13-4d4f-ae70-267f0de93c7a\",\"type\":\"CDSView\"},{\"attributes\":{\"line_color\":{\"value\":\"firebrick\"},\"line_width\":{\"value\":2},\"plot\":null,\"size\":10},\"id\":\"8333076d-49cb-429c-bf3d-82ab52ef22d6\",\"type\":\"OpenHead\"},{\"attributes\":{\"source\":{\"id\":\"74542f5e-7023-49d5-aa25-d8a32077cff6\",\"type\":\"ColumnDataSource\"}},\"id\":\"1155705b-0c28-419e-ae39-842173d5f775\",\"type\":\"CDSView\"},{\"attributes\":{\"end\":{\"id\":\"c5d17af4-8864-4dec-9137-98e23588bbf9\",\"type\":\"OpenHead\"},\"line_color\":{\"value\":\"gray\"},\"plot\":{\"id\":\"723c2140-2844-4117-80ed-eae18a3035c5\",\"subtype\":\"Figure\",\"type\":\"Plot\"},\"source\":null,\"start\":null,\"x_end\":{\"value\":-0.43265194514876665},\"x_start\":{\"value\":0.7313180879033663},\"y_end\":{\"value\":0.34581843383757344},\"y_start\":{\"value\":-0.06675920907916658}},\"id\":\"65a5d77d-41d4-4ecb-93bc-e595753bf3fe\",\"type\":\"Arrow\"},{\"attributes\":{\"callback\":null,\"data\":{},\"selected\":null,\"selection_policy\":null},\"id\":\"6af4215b-5c7d-4aba-94ee-3d317764ed2e\",\"type\":\"ColumnDataSource\"},{\"attributes\":{\"end\":{\"id\":\"b9266477-83b6-4639-aca7-79d73892878f\",\"type\":\"OpenHead\"},\"line_color\":{\"value\":\"gray\"},\"plot\":{\"id\":\"723c2140-2844-4117-80ed-eae18a3035c5\",\"subtype\":\"Figure\",\"type\":\"Plot\"},\"source\":null,\"start\":null,\"x_end\":{\"value\":-0.1811349853609824},\"x_start\":{\"value\":0.20854459711025802},\"y_end\":{\"value\":-0.28437926459797525},\"y_start\":{\"value\":0.06288921356779187}},\"id\":\"24f377bf-fa7a-4127-9121-4c5d99f51835\",\"type\":\"Arrow\"},{\"attributes\":{\"fill_color\":{\"value\":\"green\"},\"line_color\":{\"value\":\"green\"},\"size\":{\"units\":\"screen\",\"value\":10},\"x\":{\"value\":-0.21505613681058305},\"y\":{\"value\":-0.40584936494385054}},\"id\":\"e9eb87eb-e111-4676-8f90-060c38da2d3e\",\"type\":\"Circle\"},{\"attributes\":{\"line_color\":{\"value\":\"firebrick\"},\"line_width\":{\"value\":2},\"plot\":null,\"size\":10},\"id\":\"5be6dce4-a68a-4bf4-8a64-e5f8692c7eb2\",\"type\":\"OpenHead\"},{\"attributes\":{\"fill_alpha\":{\"value\":0.1},\"fill_color\":{\"value\":\"#1f77b4\"},\"line_alpha\":{\"value\":0.1},\"line_color\":{\"value\":\"#1f77b4\"},\"size\":{\"units\":\"screen\",\"value\":10},\"x\":{\"value\":-0.21505613681058305},\"y\":{\"value\":-0.40584936494385054}},\"id\":\"e8b79db0-51fa-4080-bbae-97a1aac92fa3\",\"type\":\"Circle\"},{\"attributes\":{\"end\":{\"id\":\"5c6069a5-934b-4e6f-89b3-a71b45450565\",\"type\":\"OpenHead\"},\"line_color\":{\"value\":\"gray\"},\"plot\":{\"id\":\"723c2140-2844-4117-80ed-eae18a3035c5\",\"subtype\":\"Figure\",\"type\":\"Plot\"},\"source\":null,\"start\":null,\"x_end\":{\"value\":0.5174353181311495},\"x_start\":{\"value\":-0.1811349853609824},\"y_end\":{\"value\":-0.2240668561370989},\"y_start\":{\"value\":-0.28437926459797525}},\"id\":\"51909ee4-3e1d-44aa-af14-3e73a242e5e4\",\"type\":\"Arrow\"},{\"attributes\":{\"data_source\":{\"id\":\"74542f5e-7023-49d5-aa25-d8a32077cff6\",\"type\":\"ColumnDataSource\"},\"glyph\":{\"id\":\"e9eb87eb-e111-4676-8f90-060c38da2d3e\",\"type\":\"Circle\"},\"hover_glyph\":null,\"muted_glyph\":null,\"nonselection_glyph\":{\"id\":\"e8b79db0-51fa-4080-bbae-97a1aac92fa3\",\"type\":\"Circle\"},\"selection_glyph\":null,\"view\":{\"id\":\"1155705b-0c28-419e-ae39-842173d5f775\",\"type\":\"CDSView\"}},\"id\":\"7267597f-26e7-4647-85e1-f4f56ef68599\",\"type\":\"GlyphRenderer\"},{\"attributes\":{\"line_color\":{\"value\":\"firebrick\"},\"line_width\":{\"value\":2},\"plot\":null,\"size\":10},\"id\":\"5ccabdfb-dab2-4f24-ae78-5205c698e37f\",\"type\":\"OpenHead\"},{\"attributes\":{\"source\":{\"id\":\"6af4215b-5c7d-4aba-94ee-3d317764ed2e\",\"type\":\"ColumnDataSource\"}},\"id\":\"b5278ae4-8931-4b22-9a87-624647bd8346\",\"type\":\"CDSView\"},{\"attributes\":{\"end\":{\"id\":\"5be6dce4-a68a-4bf4-8a64-e5f8692c7eb2\",\"type\":\"OpenHead\"},\"line_color\":{\"value\":\"gray\"},\"plot\":{\"id\":\"723c2140-2844-4117-80ed-eae18a3035c5\",\"subtype\":\"Figure\",\"type\":\"Plot\"},\"source\":null,\"start\":null,\"x_end\":{\"value\":-0.16939880688792797},\"x_start\":{\"value\":0.5174353181311495},\"y_end\":{\"value\":-0.23850112258263365},\"y_start\":{\"value\":-0.2240668561370989}},\"id\":\"b84ceaa6-f1af-4609-804c-3ed39564967e\",\"type\":\"Arrow\"},{\"attributes\":{\"line_color\":{\"value\":\"firebrick\"},\"line_width\":{\"value\":2},\"plot\":null,\"size\":10},\"id\":\"44e81ae7-db69-4129-8307-8c079d485ce9\",\"type\":\"OpenHead\"},{\"attributes\":{\"fill_color\":{\"value\":\"red\"},\"line_color\":{\"value\":\"red\"},\"size\":{\"units\":\"screen\",\"value\":10},\"x\":{\"value\":-0.0896342918178594},\"y\":{\"value\":-0.15720992852131485}},\"id\":\"2e918f11-be7a-4704-9b61-30b88cb4a10b\",\"type\":\"Circle\"},{\"attributes\":{\"end\":{\"id\":\"5ccabdfb-dab2-4f24-ae78-5205c698e37f\",\"type\":\"OpenHead\"},\"line_color\":{\"value\":\"gray\"},\"plot\":{\"id\":\"723c2140-2844-4117-80ed-eae18a3035c5\",\"subtype\":\"Figure\",\"type\":\"Plot\"},\"source\":null,\"start\":null,\"x_end\":{\"value\":-0.3248128525512043},\"x_start\":{\"value\":-0.16939880688792797},\"y_end\":{\"value\":-0.46390080797449634},\"y_start\":{\"value\":-0.23850112258263365}},\"id\":\"3be8ebfb-9062-46bd-9d26-421f40d3dc4a\",\"type\":\"Arrow\"},{\"attributes\":{\"fill_alpha\":{\"value\":0.1},\"fill_color\":{\"value\":\"#1f77b4\"},\"line_alpha\":{\"value\":0.1},\"line_color\":{\"value\":\"#1f77b4\"},\"size\":{\"units\":\"screen\",\"value\":10},\"x\":{\"value\":-0.0896342918178594},\"y\":{\"value\":-0.15720992852131485}},\"id\":\"6bb7c596-8108-4c5c-8432-8f9358bd9e0d\",\"type\":\"Circle\"},{\"attributes\":{\"line_color\":{\"value\":\"firebrick\"},\"line_width\":{\"value\":2},\"plot\":null,\"size\":10},\"id\":\"1e559d9b-1354-4ce3-85d1-ce668048bc26\",\"type\":\"OpenHead\"},{\"attributes\":{\"data_source\":{\"id\":\"6af4215b-5c7d-4aba-94ee-3d317764ed2e\",\"type\":\"ColumnDataSource\"},\"glyph\":{\"id\":\"2e918f11-be7a-4704-9b61-30b88cb4a10b\",\"type\":\"Circle\"},\"hover_glyph\":null,\"muted_glyph\":null,\"nonselection_glyph\":{\"id\":\"6bb7c596-8108-4c5c-8432-8f9358bd9e0d\",\"type\":\"Circle\"},\"selection_glyph\":null,\"view\":{\"id\":\"b5278ae4-8931-4b22-9a87-624647bd8346\",\"type\":\"CDSView\"}},\"id\":\"60de3838-017a-4e63-b503-b55206ce711a\",\"type\":\"GlyphRenderer\"},{\"attributes\":{\"end\":{\"id\":\"44e81ae7-db69-4129-8307-8c079d485ce9\",\"type\":\"OpenHead\"},\"line_color\":{\"value\":\"gray\"},\"plot\":{\"id\":\"723c2140-2844-4117-80ed-eae18a3035c5\",\"subtype\":\"Figure\",\"type\":\"Plot\"},\"source\":null,\"start\":null,\"x_end\":{\"value\":-0.27832126533679724},\"x_start\":{\"value\":-0.3248128525512043},\"y_end\":{\"value\":-0.08968251521855601},\"y_start\":{\"value\":-0.46390080797449634}},\"id\":\"41bf7e85-05e2-4229-a27a-9d9a0de82d33\",\"type\":\"Arrow\"},{\"attributes\":{\"line_color\":{\"value\":\"firebrick\"},\"line_width\":{\"value\":2},\"plot\":null,\"size\":10},\"id\":\"e06c54b1-5998-402f-872e-2845b8691bef\",\"type\":\"OpenHead\"},{\"attributes\":{\"end\":{\"id\":\"1e559d9b-1354-4ce3-85d1-ce668048bc26\",\"type\":\"OpenHead\"},\"line_color\":{\"value\":\"gray\"},\"plot\":{\"id\":\"723c2140-2844-4117-80ed-eae18a3035c5\",\"subtype\":\"Figure\",\"type\":\"Plot\"},\"source\":null,\"start\":null,\"x_end\":{\"value\":0.5485716813579348},\"x_start\":{\"value\":-0.27832126533679724},\"y_end\":{\"value\":0.4360816849427512},\"y_start\":{\"value\":-0.08968251521855601}},\"id\":\"5e0b7b99-1587-4890-8732-1f6a9edb5644\",\"type\":\"Arrow\"},{\"attributes\":{\"line_color\":{\"value\":\"firebrick\"},\"line_width\":{\"value\":2},\"plot\":null,\"size\":10},\"id\":\"0181e9c0-8eb0-4430-a244-207315a95d7b\",\"type\":\"OpenHead\"},{\"attributes\":{\"end\":{\"id\":\"e06c54b1-5998-402f-872e-2845b8691bef\",\"type\":\"OpenHead\"},\"line_color\":{\"value\":\"gray\"},\"plot\":{\"id\":\"723c2140-2844-4117-80ed-eae18a3035c5\",\"subtype\":\"Figure\",\"type\":\"Plot\"},\"source\":null,\"start\":null,\"x_end\":{\"value\":-0.5415287246113049},\"x_start\":{\"value\":0.5485716813579348},\"y_end\":{\"value\":-0.3976601344497512},\"y_start\":{\"value\":0.4360816849427512}},\"id\":\"37545e62-6683-4637-82ee-27e2d373175f\",\"type\":\"Arrow\"},{\"attributes\":{\"line_color\":{\"value\":\"firebrick\"},\"line_width\":{\"value\":2},\"plot\":null,\"size\":10},\"id\":\"de252fd1-c2cc-4cdb-9d89-0b35310c22e9\",\"type\":\"OpenHead\"},{\"attributes\":{\"end\":{\"id\":\"0181e9c0-8eb0-4430-a244-207315a95d7b\",\"type\":\"OpenHead\"},\"line_color\":{\"value\":\"gray\"},\"plot\":{\"id\":\"723c2140-2844-4117-80ed-eae18a3035c5\",\"subtype\":\"Figure\",\"type\":\"Plot\"},\"source\":null,\"start\":null,\"x_end\":{\"value\":-0.1911089377611832},\"x_start\":{\"value\":-0.5415287246113049},\"y_end\":{\"value\":0.1795745011431153},\"y_start\":{\"value\":-0.3976601344497512}},\"id\":\"66b8ea21-7f96-46b6-b527-cd6848569f3e\",\"type\":\"Arrow\"},{\"attributes\":{\"line_color\":{\"value\":\"firebrick\"},\"line_width\":{\"value\":2},\"plot\":null,\"size\":10},\"id\":\"2d356ece-56a1-4c7c-8f39-39abde18bcb3\",\"type\":\"OpenHead\"},{\"attributes\":{\"end\":{\"id\":\"de252fd1-c2cc-4cdb-9d89-0b35310c22e9\",\"type\":\"OpenHead\"},\"line_color\":{\"value\":\"gray\"},\"plot\":{\"id\":\"723c2140-2844-4117-80ed-eae18a3035c5\",\"subtype\":\"Figure\",\"type\":\"Plot\"},\"source\":null,\"start\":null,\"x_end\":{\"value\":0.7636292742587143},\"x_start\":{\"value\":-0.1911089377611832},\"y_end\":{\"value\":-0.16745788804473827},\"y_start\":{\"value\":0.1795745011431153}},\"id\":\"ddf12ddc-b202-45b6-9ac0-671f48ee6776\",\"type\":\"Arrow\"},{\"attributes\":{\"line_color\":{\"value\":\"firebrick\"},\"line_width\":{\"value\":2},\"plot\":null,\"size\":10},\"id\":\"9c20723c-628d-452b-ab3e-f59b2887a26a\",\"type\":\"OpenHead\"},{\"attributes\":{\"end\":{\"id\":\"2d356ece-56a1-4c7c-8f39-39abde18bcb3\",\"type\":\"OpenHead\"},\"line_color\":{\"value\":\"gray\"},\"plot\":{\"id\":\"723c2140-2844-4117-80ed-eae18a3035c5\",\"subtype\":\"Figure\",\"type\":\"Plot\"},\"source\":null,\"start\":null,\"x_end\":{\"value\":-0.5748326106879856},\"x_start\":{\"value\":0.7636292742587143},\"y_end\":{\"value\":0.38902231575270796},\"y_start\":{\"value\":-0.16745788804473827}},\"id\":\"f47f1346-4d1f-4786-b3ca-a2dec9f58124\",\"type\":\"Arrow\"},{\"attributes\":{\"line_color\":{\"value\":\"firebrick\"},\"line_width\":{\"value\":2},\"plot\":null,\"size\":10},\"id\":\"99e24c95-0153-463d-a2d7-25301ac9249f\",\"type\":\"OpenHead\"},{\"attributes\":{\"end\":{\"id\":\"9c20723c-628d-452b-ab3e-f59b2887a26a\",\"type\":\"OpenHead\"},\"line_color\":{\"value\":\"gray\"},\"plot\":{\"id\":\"723c2140-2844-4117-80ed-eae18a3035c5\",\"subtype\":\"Figure\",\"type\":\"Plot\"},\"source\":null,\"start\":null,\"x_end\":{\"value\":0.7160968757087459},\"x_start\":{\"value\":-0.5748326106879856},\"y_end\":{\"value\":-0.08275447120879988},\"y_start\":{\"value\":0.38902231575270796}},\"id\":\"e5992932-24b7-4480-a7e1-1bfd7be09761\",\"type\":\"Arrow\"},{\"attributes\":{\"line_color\":{\"value\":\"firebrick\"},\"line_width\":{\"value\":2},\"plot\":null,\"size\":10},\"id\":\"cb9f589c-93c6-405a-90bb-984c4f9ef37f\",\"type\":\"OpenHead\"},{\"attributes\":{\"end\":{\"id\":\"99e24c95-0153-463d-a2d7-25301ac9249f\",\"type\":\"OpenHead\"},\"line_color\":{\"value\":\"gray\"},\"plot\":{\"id\":\"723c2140-2844-4117-80ed-eae18a3035c5\",\"subtype\":\"Figure\",\"type\":\"Plot\"},\"source\":null,\"start\":null,\"x_end\":{\"value\":-0.4344038191325647},\"x_start\":{\"value\":0.7160968757087459},\"y_end\":{\"value\":0.3514660242603319},\"y_start\":{\"value\":-0.08275447120879988}},\"id\":\"2bcd3b65-c692-4aa7-9a57-4b28db65f9ff\",\"type\":\"Arrow\"},{\"attributes\":{\"line_color\":{\"value\":\"firebrick\"},\"line_width\":{\"value\":2},\"plot\":null,\"size\":10},\"id\":\"ef6089d8-299a-4228-8a97-e715bdb91ea3\",\"type\":\"OpenHead\"},{\"attributes\":{\"end\":{\"id\":\"cb9f589c-93c6-405a-90bb-984c4f9ef37f\",\"type\":\"OpenHead\"},\"line_color\":{\"value\":\"gray\"},\"plot\":{\"id\":\"723c2140-2844-4117-80ed-eae18a3035c5\",\"subtype\":\"Figure\",\"type\":\"Plot\"},\"source\":null,\"start\":null,\"x_end\":{\"value\":0.7278406654008417},\"x_start\":{\"value\":-0.4344038191325647},\"y_end\":{\"value\":-0.07173347785468302},\"y_start\":{\"value\":0.3514660242603319}},\"id\":\"9a029336-1584-40aa-8b6c-86f2ef55760e\",\"type\":\"Arrow\"},{\"attributes\":{\"line_color\":{\"value\":\"firebrick\"},\"line_width\":{\"value\":2},\"plot\":null,\"size\":10},\"id\":\"a9134424-e56e-431b-9f0f-608747f2322a\",\"type\":\"OpenHead\"},{\"attributes\":{\"end\":{\"id\":\"ef6089d8-299a-4228-8a97-e715bdb91ea3\",\"type\":\"OpenHead\"},\"line_color\":{\"value\":\"gray\"},\"plot\":{\"id\":\"723c2140-2844-4117-80ed-eae18a3035c5\",\"subtype\":\"Figure\",\"type\":\"Plot\"},\"source\":null,\"start\":null,\"x_end\":{\"value\":-0.436570732671251},\"x_start\":{\"value\":0.7278406654008417},\"y_end\":{\"value\":0.34712467275230935},\"y_start\":{\"value\":-0.07173347785468302}},\"id\":\"af0a3ac7-19cb-4bf2-9d9a-c0b30a4b68aa\",\"type\":\"Arrow\"},{\"attributes\":{\"line_color\":{\"value\":\"firebrick\"},\"line_width\":{\"value\":2},\"plot\":null,\"size\":10},\"id\":\"c5d17af4-8864-4dec-9137-98e23588bbf9\",\"type\":\"OpenHead\"},{\"attributes\":{\"end\":{\"id\":\"a9134424-e56e-431b-9f0f-608747f2322a\",\"type\":\"OpenHead\"},\"line_color\":{\"value\":\"gray\"},\"plot\":{\"id\":\"723c2140-2844-4117-80ed-eae18a3035c5\",\"subtype\":\"Figure\",\"type\":\"Plot\"},\"source\":null,\"start\":null,\"x_end\":{\"value\":0.7313180879033663},\"x_start\":{\"value\":-0.436570732671251},\"y_end\":{\"value\":-0.06675920907916658},\"y_start\":{\"value\":0.34712467275230935}},\"id\":\"89005ff8-813f-49e3-b15a-952a8fb93371\",\"type\":\"Arrow\"},{\"attributes\":{\"line_color\":{\"value\":\"firebrick\"},\"line_width\":{\"value\":2},\"plot\":null,\"size\":10},\"id\":\"bc7d7816-e7d7-4e62-aa7f-1a2904e741ce\",\"type\":\"OpenHead\"}],\"root_ids\":[\"723c2140-2844-4117-80ed-eae18a3035c5\"]},\"title\":\"Bokeh Application\",\"version\":\"0.12.15\"}};\n",
       "  var render_items = [{\"docid\":\"a08c3d99-4007-4012-bd72-e97ce180e559\",\"elementid\":\"8305e44e-5285-4cf1-9140-fe0049056bbc\",\"modelid\":\"723c2140-2844-4117-80ed-eae18a3035c5\"}];\n",
       "  root.Bokeh.embed.embed_items_notebook(docs_json, render_items);\n",
       "\n",
       "  }\n",
       "  if (root.Bokeh !== undefined) {\n",
       "    embed_document(root);\n",
       "  } else {\n",
       "    var attempts = 0;\n",
       "    var timer = setInterval(function(root) {\n",
       "      if (root.Bokeh !== undefined) {\n",
       "        embed_document(root);\n",
       "        clearInterval(timer);\n",
       "      }\n",
       "      attempts++;\n",
       "      if (attempts > 100) {\n",
       "        console.log(\"Bokeh: ERROR: Unable to run BokehJS code because BokehJS library is missing\")\n",
       "        clearInterval(timer);\n",
       "      }\n",
       "    }, 10, root)\n",
       "  }\n",
       "})(window);"
      ],
      "application/vnd.bokehjs_exec.v0+json": ""
     },
     "metadata": {
      "application/vnd.bokehjs_exec.v0+json": {
       "id": "723c2140-2844-4117-80ed-eae18a3035c5"
      }
     },
     "output_type": "display_data"
    }
   ],
   "source": [
    "show(p)"
   ]
  },
  {
   "cell_type": "code",
   "execution_count": 13,
   "metadata": {},
   "outputs": [
    {
     "name": "stdout",
     "output_type": "stream",
     "text": [
      "5\n",
      "27\n",
      "4\n",
      "6\n",
      "11\n",
      "41\n",
      "0\n",
      "UtterAction('utter_explain_location_hotel')\n"
     ]
    }
   ],
   "source": [
    "print(domain.index_for_action('utter_ask_price'))\n",
    "print(domain.index_for_action('utter_ask_details'))\n",
    "print(domain.index_for_action('utter_ask_location'))\n",
    "print(domain.index_for_action('utter_ask_startdate'))\n",
    "print(domain.index_for_action('utter_suggest_hotel'))\n",
    "print(domain.index_for_action('action_search_hotel'))\n",
    "print(domain.index_for_action('action_listen'))\n",
    "print(domain.action_for_index(16))"
   ]
  },
  {
   "cell_type": "code",
   "execution_count": 14,
   "metadata": {},
   "outputs": [
    {
     "data": {
      "text/plain": [
       "(20,)"
      ]
     },
     "execution_count": 14,
     "metadata": {},
     "output_type": "execute_result"
    }
   ],
   "source": [
    "utter_price = embedding_from_tracker(\"#generate story\\n{}\".format(story_block), bot=True)[0,-1,5,:]\n",
    "utter_price.shape"
   ]
  },
  {
   "cell_type": "code",
   "execution_count": 15,
   "metadata": {},
   "outputs": [
    {
     "name": "stdout",
     "output_type": "stream",
     "text": [
      "(20,)\n"
     ]
    },
    {
     "data": {
      "text/html": [
       "<div style=\"display: table;\"><div style=\"display: table-row;\"><div style=\"display: table-cell;\"><b title=\"bokeh.models.renderers.GlyphRenderer\">GlyphRenderer</b>(</div><div style=\"display: table-cell;\">id&nbsp;=&nbsp;'4de4d927-7126-424c-b5b8-334e633e65f0', <span id=\"19f178ba-e637-47a0-844d-e87466420367\" style=\"cursor: pointer;\">&hellip;)</span></div></div><div class=\"3d28d0b6-d4bc-4a4f-9866-50fca74d9c55\" style=\"display: none;\"><div style=\"display: table-cell;\"></div><div style=\"display: table-cell;\">data_source&nbsp;=&nbsp;ColumnDataSource(id='59991f9e-a806-4a7e-aa05-9989ea7bafc5', ...),</div></div><div class=\"3d28d0b6-d4bc-4a4f-9866-50fca74d9c55\" style=\"display: none;\"><div style=\"display: table-cell;\"></div><div style=\"display: table-cell;\">glyph&nbsp;=&nbsp;Circle(id='3a1a2dca-f402-444c-bf34-5b944825635f', ...),</div></div><div class=\"3d28d0b6-d4bc-4a4f-9866-50fca74d9c55\" style=\"display: none;\"><div style=\"display: table-cell;\"></div><div style=\"display: table-cell;\">hover_glyph&nbsp;=&nbsp;None,</div></div><div class=\"3d28d0b6-d4bc-4a4f-9866-50fca74d9c55\" style=\"display: none;\"><div style=\"display: table-cell;\"></div><div style=\"display: table-cell;\">js_event_callbacks&nbsp;=&nbsp;{},</div></div><div class=\"3d28d0b6-d4bc-4a4f-9866-50fca74d9c55\" style=\"display: none;\"><div style=\"display: table-cell;\"></div><div style=\"display: table-cell;\">js_property_callbacks&nbsp;=&nbsp;{},</div></div><div class=\"3d28d0b6-d4bc-4a4f-9866-50fca74d9c55\" style=\"display: none;\"><div style=\"display: table-cell;\"></div><div style=\"display: table-cell;\">level&nbsp;=&nbsp;'glyph',</div></div><div class=\"3d28d0b6-d4bc-4a4f-9866-50fca74d9c55\" style=\"display: none;\"><div style=\"display: table-cell;\"></div><div style=\"display: table-cell;\">muted&nbsp;=&nbsp;False,</div></div><div class=\"3d28d0b6-d4bc-4a4f-9866-50fca74d9c55\" style=\"display: none;\"><div style=\"display: table-cell;\"></div><div style=\"display: table-cell;\">muted_glyph&nbsp;=&nbsp;None,</div></div><div class=\"3d28d0b6-d4bc-4a4f-9866-50fca74d9c55\" style=\"display: none;\"><div style=\"display: table-cell;\"></div><div style=\"display: table-cell;\">name&nbsp;=&nbsp;None,</div></div><div class=\"3d28d0b6-d4bc-4a4f-9866-50fca74d9c55\" style=\"display: none;\"><div style=\"display: table-cell;\"></div><div style=\"display: table-cell;\">nonselection_glyph&nbsp;=&nbsp;Circle(id='68fc9e5c-1224-495f-89f3-a515966d72ec', ...),</div></div><div class=\"3d28d0b6-d4bc-4a4f-9866-50fca74d9c55\" style=\"display: none;\"><div style=\"display: table-cell;\"></div><div style=\"display: table-cell;\">selection_glyph&nbsp;=&nbsp;None,</div></div><div class=\"3d28d0b6-d4bc-4a4f-9866-50fca74d9c55\" style=\"display: none;\"><div style=\"display: table-cell;\"></div><div style=\"display: table-cell;\">subscribed_events&nbsp;=&nbsp;[],</div></div><div class=\"3d28d0b6-d4bc-4a4f-9866-50fca74d9c55\" style=\"display: none;\"><div style=\"display: table-cell;\"></div><div style=\"display: table-cell;\">tags&nbsp;=&nbsp;[],</div></div><div class=\"3d28d0b6-d4bc-4a4f-9866-50fca74d9c55\" style=\"display: none;\"><div style=\"display: table-cell;\"></div><div style=\"display: table-cell;\">view&nbsp;=&nbsp;CDSView(id='014ab830-2ba3-4ee4-832c-1552c05f3a57', ...),</div></div><div class=\"3d28d0b6-d4bc-4a4f-9866-50fca74d9c55\" style=\"display: none;\"><div style=\"display: table-cell;\"></div><div style=\"display: table-cell;\">visible&nbsp;=&nbsp;True,</div></div><div class=\"3d28d0b6-d4bc-4a4f-9866-50fca74d9c55\" style=\"display: none;\"><div style=\"display: table-cell;\"></div><div style=\"display: table-cell;\">x_range_name&nbsp;=&nbsp;'default',</div></div><div class=\"3d28d0b6-d4bc-4a4f-9866-50fca74d9c55\" style=\"display: none;\"><div style=\"display: table-cell;\"></div><div style=\"display: table-cell;\">y_range_name&nbsp;=&nbsp;'default')</div></div></div>\n",
       "<script>\n",
       "(function() {\n",
       "  var expanded = false;\n",
       "  var ellipsis = document.getElementById(\"19f178ba-e637-47a0-844d-e87466420367\");\n",
       "  ellipsis.addEventListener(\"click\", function() {\n",
       "    var rows = document.getElementsByClassName(\"3d28d0b6-d4bc-4a4f-9866-50fca74d9c55\");\n",
       "    for (var i = 0; i < rows.length; i++) {\n",
       "      var el = rows[i];\n",
       "      el.style.display = expanded ? \"none\" : \"table-row\";\n",
       "    }\n",
       "    ellipsis.innerHTML = expanded ? \"&hellip;)\" : \"&lsaquo;&lsaquo;&lsaquo;\";\n",
       "    expanded = !expanded;\n",
       "  });\n",
       "})();\n",
       "</script>\n"
      ],
      "text/plain": [
       "GlyphRenderer(id='4de4d927-7126-424c-b5b8-334e633e65f0', ...)"
      ]
     },
     "execution_count": 15,
     "metadata": {},
     "output_type": "execute_result"
    }
   ],
   "source": [
    "print(utter_price.shape)\n",
    "x = pca.transform(utter_price.reshape(1,-1))\n",
    "p.circle(x[0][0], x[0][1], color='black')"
   ]
  },
  {
   "cell_type": "code",
   "execution_count": 16,
   "metadata": {},
   "outputs": [
    {
     "data": {
      "text/html": [
       "\n",
       "<div class=\"bk-root\">\n",
       "    <div class=\"bk-plotdiv\" id=\"89719b23-96c1-40b6-abc7-26d5abdfe8fb\"></div>\n",
       "</div>"
      ]
     },
     "metadata": {},
     "output_type": "display_data"
    },
    {
     "data": {
      "application/javascript": [
       "(function(root) {\n",
       "  function embed_document(root) {\n",
       "    \n",
       "  var docs_json = {\"e4042ed1-aeaa-4d8e-801d-2d63943ad009\":{\"roots\":{\"references\":[{\"attributes\":{\"source\":{\"id\":\"169a61e1-2d87-4618-bb1b-7443ceaf8a66\",\"type\":\"ColumnDataSource\"}},\"id\":\"493c2d49-f700-4876-9498-ed24bcd01ad7\",\"type\":\"CDSView\"},{\"attributes\":{\"source\":{\"id\":\"59991f9e-a806-4a7e-aa05-9989ea7bafc5\",\"type\":\"ColumnDataSource\"}},\"id\":\"014ab830-2ba3-4ee4-832c-1552c05f3a57\",\"type\":\"CDSView\"},{\"attributes\":{\"end\":{\"id\":\"8333076d-49cb-429c-bf3d-82ab52ef22d6\",\"type\":\"OpenHead\"},\"line_color\":{\"value\":\"gray\"},\"plot\":{\"id\":\"723c2140-2844-4117-80ed-eae18a3035c5\",\"subtype\":\"Figure\",\"type\":\"Plot\"},\"source\":null,\"start\":null,\"x_end\":{\"value\":-0.4977953512513802},\"x_start\":{\"value\":0.4909800263658468},\"y_end\":{\"value\":0.23204240508656518},\"y_start\":{\"value\":0.4740278681040562}},\"id\":\"a0c3d60d-1b0e-48b7-9ec0-1e9cf5041ab9\",\"type\":\"Arrow\"},{\"attributes\":{\"line_color\":{\"value\":\"firebrick\"},\"line_width\":{\"value\":2},\"plot\":null,\"size\":10},\"id\":\"ea3c4987-e494-4174-a551-ef66e2ef91ed\",\"type\":\"OpenHead\"},{\"attributes\":{\"line_color\":{\"value\":\"firebrick\"},\"line_width\":{\"value\":2},\"plot\":null,\"size\":10},\"id\":\"27f9260f-edf9-42de-aca7-6f9c850b1d73\",\"type\":\"OpenHead\"},{\"attributes\":{},\"id\":\"21076856-7fc8-48be-943b-e06336f7f060\",\"type\":\"BasicTickFormatter\"},{\"attributes\":{\"fill_color\":{\"value\":\"#1f77b4\"},\"line_color\":{\"value\":\"#1f77b4\"},\"size\":{\"units\":\"screen\",\"value\":10},\"x\":{\"field\":\"x\"},\"y\":{\"field\":\"y\"}},\"id\":\"479f5281-250d-4078-9682-f7a5122be827\",\"type\":\"Circle\"},{\"attributes\":{\"end\":{\"id\":\"ea3c4987-e494-4174-a551-ef66e2ef91ed\",\"type\":\"OpenHead\"},\"line_color\":{\"value\":\"gray\"},\"plot\":{\"id\":\"723c2140-2844-4117-80ed-eae18a3035c5\",\"subtype\":\"Figure\",\"type\":\"Plot\"},\"source\":null,\"start\":null,\"x_end\":{\"value\":-0.2668504772537469},\"x_start\":{\"value\":-0.4977953512513802},\"y_end\":{\"value\":-0.3400447463749092},\"y_start\":{\"value\":0.23204240508656518}},\"id\":\"d2af9326-1d93-4a06-9a81-417dafab1ef2\",\"type\":\"Arrow\"},{\"attributes\":{\"line_color\":{\"value\":\"firebrick\"},\"line_width\":{\"value\":2},\"plot\":null,\"size\":10},\"id\":\"b81fb73c-5392-4219-b02c-bed381091a23\",\"type\":\"OpenHead\"},{\"attributes\":{\"end\":{\"id\":\"27f9260f-edf9-42de-aca7-6f9c850b1d73\",\"type\":\"OpenHead\"},\"line_color\":{\"value\":\"gray\"},\"plot\":{\"id\":\"723c2140-2844-4117-80ed-eae18a3035c5\",\"subtype\":\"Figure\",\"type\":\"Plot\"},\"source\":null,\"start\":null,\"x_end\":{\"value\":0.10987557019463472},\"x_start\":{\"value\":-0.2668504772537469},\"y_end\":{\"value\":0.18007307799496702},\"y_start\":{\"value\":-0.3400447463749092}},\"id\":\"382fc903-b73a-435c-b865-e03072170d09\",\"type\":\"Arrow\"},{\"attributes\":{\"line_color\":{\"value\":\"firebrick\"},\"line_width\":{\"value\":2},\"plot\":null,\"size\":10},\"id\":\"f7455b64-92b8-491d-a2f4-5ddd681ea1bf\",\"type\":\"OpenHead\"},{\"attributes\":{\"end\":{\"id\":\"b81fb73c-5392-4219-b02c-bed381091a23\",\"type\":\"OpenHead\"},\"line_color\":{\"value\":\"gray\"},\"plot\":{\"id\":\"723c2140-2844-4117-80ed-eae18a3035c5\",\"subtype\":\"Figure\",\"type\":\"Plot\"},\"source\":null,\"start\":null,\"x_end\":{\"value\":-0.5227582017490569},\"x_start\":{\"value\":0.10987557019463472},\"y_end\":{\"value\":-0.08127823161350838},\"y_start\":{\"value\":0.18007307799496702}},\"id\":\"ec6a2450-737e-4b2f-8cb5-cb35d9620898\",\"type\":\"Arrow\"},{\"attributes\":{\"line_color\":{\"value\":\"firebrick\"},\"line_width\":{\"value\":2},\"plot\":null,\"size\":10},\"id\":\"75ffaa4e-6219-4f16-be2d-6bc73f4bd664\",\"type\":\"OpenHead\"},{\"attributes\":{\"end\":{\"id\":\"f7455b64-92b8-491d-a2f4-5ddd681ea1bf\",\"type\":\"OpenHead\"},\"line_color\":{\"value\":\"gray\"},\"plot\":{\"id\":\"723c2140-2844-4117-80ed-eae18a3035c5\",\"subtype\":\"Figure\",\"type\":\"Plot\"},\"source\":null,\"start\":null,\"x_end\":{\"value\":-0.017084713217709574},\"x_start\":{\"value\":-0.5227582017490569},\"y_end\":{\"value\":0.1401015090294863},\"y_start\":{\"value\":-0.08127823161350838}},\"id\":\"80a9758b-ac9c-4241-9950-493b402a0658\",\"type\":\"Arrow\"},{\"attributes\":{\"line_color\":{\"value\":\"firebrick\"},\"line_width\":{\"value\":2},\"plot\":null,\"size\":10},\"id\":\"500361d8-bbd4-47b4-aa9c-ed0f11a23e43\",\"type\":\"OpenHead\"},{\"attributes\":{\"end\":{\"id\":\"75ffaa4e-6219-4f16-be2d-6bc73f4bd664\",\"type\":\"OpenHead\"},\"line_color\":{\"value\":\"gray\"},\"plot\":{\"id\":\"723c2140-2844-4117-80ed-eae18a3035c5\",\"subtype\":\"Figure\",\"type\":\"Plot\"},\"source\":null,\"start\":null,\"x_end\":{\"value\":0.487514493576216},\"x_start\":{\"value\":-0.017084713217709574},\"y_end\":{\"value\":0.0046695422817166965},\"y_start\":{\"value\":0.1401015090294863}},\"id\":\"159b1778-df61-4cb1-ae13-964784d5b608\",\"type\":\"Arrow\"},{\"attributes\":{\"line_color\":{\"value\":\"firebrick\"},\"line_width\":{\"value\":2},\"plot\":null,\"size\":10},\"id\":\"bfa7d24e-fde4-4c77-88b3-c9b9dc4a4fab\",\"type\":\"OpenHead\"},{\"attributes\":{\"end\":{\"id\":\"500361d8-bbd4-47b4-aa9c-ed0f11a23e43\",\"type\":\"OpenHead\"},\"line_color\":{\"value\":\"gray\"},\"plot\":{\"id\":\"723c2140-2844-4117-80ed-eae18a3035c5\",\"subtype\":\"Figure\",\"type\":\"Plot\"},\"source\":null,\"start\":null,\"x_end\":{\"value\":-0.1278627377574047},\"x_start\":{\"value\":0.487514493576216},\"y_end\":{\"value\":-0.07161323015189049},\"y_start\":{\"value\":0.0046695422817166965}},\"id\":\"b72165fa-e7e3-4377-8dc6-cc806f569628\",\"type\":\"Arrow\"},{\"attributes\":{\"data_source\":{\"id\":\"169a61e1-2d87-4618-bb1b-7443ceaf8a66\",\"type\":\"ColumnDataSource\"},\"glyph\":{\"id\":\"479f5281-250d-4078-9682-f7a5122be827\",\"type\":\"Circle\"},\"hover_glyph\":null,\"muted_glyph\":null,\"name\":\"circle\",\"nonselection_glyph\":{\"id\":\"6379bc53-b623-4440-8e2f-f9d2a3498523\",\"type\":\"Circle\"},\"selection_glyph\":null,\"view\":{\"id\":\"493c2d49-f700-4876-9498-ed24bcd01ad7\",\"type\":\"CDSView\"}},\"id\":\"a838aa6a-c844-4349-a256-142e12539c85\",\"type\":\"GlyphRenderer\"},{\"attributes\":{\"end\":{\"id\":\"bfa7d24e-fde4-4c77-88b3-c9b9dc4a4fab\",\"type\":\"OpenHead\"},\"line_color\":{\"value\":\"gray\"},\"plot\":{\"id\":\"723c2140-2844-4117-80ed-eae18a3035c5\",\"subtype\":\"Figure\",\"type\":\"Plot\"},\"source\":null,\"start\":null,\"x_end\":{\"value\":-0.0896342918178594},\"x_start\":{\"value\":-0.1278627377574047},\"y_end\":{\"value\":-0.15720992852131485},\"y_start\":{\"value\":-0.07161323015189049}},\"id\":\"c5283094-4717-44d0-82eb-2ea69e1331ec\",\"type\":\"Arrow\"},{\"attributes\":{\"data_source\":{\"id\":\"59991f9e-a806-4a7e-aa05-9989ea7bafc5\",\"type\":\"ColumnDataSource\"},\"glyph\":{\"id\":\"3a1a2dca-f402-444c-bf34-5b944825635f\",\"type\":\"Circle\"},\"hover_glyph\":null,\"muted_glyph\":null,\"nonselection_glyph\":{\"id\":\"68fc9e5c-1224-495f-89f3-a515966d72ec\",\"type\":\"Circle\"},\"selection_glyph\":null,\"view\":{\"id\":\"014ab830-2ba3-4ee4-832c-1552c05f3a57\",\"type\":\"CDSView\"}},\"id\":\"4de4d927-7126-424c-b5b8-334e633e65f0\",\"type\":\"GlyphRenderer\"},{\"attributes\":{},\"id\":\"1c07c27b-3bcd-486d-88ac-e6240784e7c4\",\"type\":\"BasicTickFormatter\"},{\"attributes\":{\"below\":[{\"id\":\"bce0f96a-692d-4c86-a387-2942bd02d9e5\",\"type\":\"LinearAxis\"}],\"left\":[{\"id\":\"b6ee40b3-2ce9-488c-9c0d-628f80263d34\",\"type\":\"LinearAxis\"}],\"renderers\":[{\"id\":\"bce0f96a-692d-4c86-a387-2942bd02d9e5\",\"type\":\"LinearAxis\"},{\"id\":\"f4d5b060-2062-4186-993e-cbdd6f0886fb\",\"type\":\"Grid\"},{\"id\":\"b6ee40b3-2ce9-488c-9c0d-628f80263d34\",\"type\":\"LinearAxis\"},{\"id\":\"826fbcbd-b182-4317-ad5c-e9f351ecbab8\",\"type\":\"Grid\"},{\"id\":\"8384413a-b93a-4635-8473-7d05960e0154\",\"type\":\"Arrow\"},{\"id\":\"24f377bf-fa7a-4127-9121-4c5d99f51835\",\"type\":\"Arrow\"},{\"id\":\"51909ee4-3e1d-44aa-af14-3e73a242e5e4\",\"type\":\"Arrow\"},{\"id\":\"b84ceaa6-f1af-4609-804c-3ed39564967e\",\"type\":\"Arrow\"},{\"id\":\"3be8ebfb-9062-46bd-9d26-421f40d3dc4a\",\"type\":\"Arrow\"},{\"id\":\"41bf7e85-05e2-4229-a27a-9d9a0de82d33\",\"type\":\"Arrow\"},{\"id\":\"5e0b7b99-1587-4890-8732-1f6a9edb5644\",\"type\":\"Arrow\"},{\"id\":\"37545e62-6683-4637-82ee-27e2d373175f\",\"type\":\"Arrow\"},{\"id\":\"66b8ea21-7f96-46b6-b527-cd6848569f3e\",\"type\":\"Arrow\"},{\"id\":\"ddf12ddc-b202-45b6-9ac0-671f48ee6776\",\"type\":\"Arrow\"},{\"id\":\"f47f1346-4d1f-4786-b3ca-a2dec9f58124\",\"type\":\"Arrow\"},{\"id\":\"e5992932-24b7-4480-a7e1-1bfd7be09761\",\"type\":\"Arrow\"},{\"id\":\"2bcd3b65-c692-4aa7-9a57-4b28db65f9ff\",\"type\":\"Arrow\"},{\"id\":\"9a029336-1584-40aa-8b6c-86f2ef55760e\",\"type\":\"Arrow\"},{\"id\":\"af0a3ac7-19cb-4bf2-9d9a-c0b30a4b68aa\",\"type\":\"Arrow\"},{\"id\":\"89005ff8-813f-49e3-b15a-952a8fb93371\",\"type\":\"Arrow\"},{\"id\":\"65a5d77d-41d4-4ecb-93bc-e595753bf3fe\",\"type\":\"Arrow\"},{\"id\":\"0c1e6f4c-1914-4358-9062-1ea4c60bd809\",\"type\":\"Arrow\"},{\"id\":\"a0c3d60d-1b0e-48b7-9ec0-1e9cf5041ab9\",\"type\":\"Arrow\"},{\"id\":\"d2af9326-1d93-4a06-9a81-417dafab1ef2\",\"type\":\"Arrow\"},{\"id\":\"382fc903-b73a-435c-b865-e03072170d09\",\"type\":\"Arrow\"},{\"id\":\"ec6a2450-737e-4b2f-8cb5-cb35d9620898\",\"type\":\"Arrow\"},{\"id\":\"80a9758b-ac9c-4241-9950-493b402a0658\",\"type\":\"Arrow\"},{\"id\":\"159b1778-df61-4cb1-ae13-964784d5b608\",\"type\":\"Arrow\"},{\"id\":\"b72165fa-e7e3-4377-8dc6-cc806f569628\",\"type\":\"Arrow\"},{\"id\":\"c5283094-4717-44d0-82eb-2ea69e1331ec\",\"type\":\"Arrow\"},{\"id\":\"a838aa6a-c844-4349-a256-142e12539c85\",\"type\":\"GlyphRenderer\"},{\"id\":\"ece7bd16-0a3f-44bb-b24a-39c59344a1f4\",\"type\":\"GlyphRenderer\"},{\"id\":\"79f9b37f-c913-41d6-88fb-aec0f6bac01e\",\"type\":\"GlyphRenderer\"},{\"id\":\"c6c5bdf7-dfcf-430c-9d57-92b07c3d67c0\",\"type\":\"GlyphRenderer\"},{\"id\":\"7267597f-26e7-4647-85e1-f4f56ef68599\",\"type\":\"GlyphRenderer\"},{\"id\":\"60de3838-017a-4e63-b503-b55206ce711a\",\"type\":\"GlyphRenderer\"},{\"id\":\"4de4d927-7126-424c-b5b8-334e633e65f0\",\"type\":\"GlyphRenderer\"}],\"title\":{\"id\":\"2a053704-6dab-40f6-9e3f-4d18358e70a3\",\"type\":\"Title\"},\"toolbar\":{\"id\":\"ea39f971-edf0-431a-bb5b-333a3e6a0c2e\",\"type\":\"Toolbar\"},\"x_range\":{\"id\":\"26e54bf3-5696-49b7-8e50-fee554f2f4c8\",\"type\":\"DataRange1d\"},\"x_scale\":{\"id\":\"2d348266-3b11-4ae4-bc9a-4237179acc92\",\"type\":\"LinearScale\"},\"y_range\":{\"id\":\"dc13347b-35e2-4869-b2db-b85579f7a4c3\",\"type\":\"DataRange1d\"},\"y_scale\":{\"id\":\"7c0fa5fc-739f-4df6-84ce-2eb0b262db82\",\"type\":\"LinearScale\"}},\"id\":\"723c2140-2844-4117-80ed-eae18a3035c5\",\"subtype\":\"Figure\",\"type\":\"Plot\"},{\"attributes\":{\"data_source\":{\"id\":\"8cadc8ca-799d-46a9-b60d-c7f81b4e7987\",\"type\":\"ColumnDataSource\"},\"glyph\":{\"id\":\"cb373b6c-66a0-491f-81da-a21bf1bdad92\",\"type\":\"Circle\"},\"hover_glyph\":null,\"muted_glyph\":null,\"name\":\"circle\",\"nonselection_glyph\":{\"id\":\"b8c943ab-622e-49b3-af8f-f9b96640e774\",\"type\":\"Circle\"},\"selection_glyph\":null,\"view\":{\"id\":\"824302c3-bd4c-4726-b273-a68d93ffab90\",\"type\":\"CDSView\"}},\"id\":\"79f9b37f-c913-41d6-88fb-aec0f6bac01e\",\"type\":\"GlyphRenderer\"},{\"attributes\":{\"callback\":null,\"names\":[\"circle\"],\"tooltips\":[[\"true action\",\"@desc\"],[\"prediction\",\"@pred\"],[\"not_skip_gate\",\"@not_skip\"]]},\"id\":\"ec44ad99-c4f7-4599-a4e3-531aa4322346\",\"type\":\"HoverTool\"},{\"attributes\":{\"fill_alpha\":{\"value\":0.1},\"fill_color\":{\"value\":\"#1f77b4\"},\"line_alpha\":{\"value\":0.1},\"line_color\":{\"value\":\"#1f77b4\"},\"size\":{\"units\":\"screen\",\"value\":10},\"x\":{\"field\":\"x\"},\"y\":{\"field\":\"y\"}},\"id\":\"6379bc53-b623-4440-8e2f-f9d2a3498523\",\"type\":\"Circle\"},{\"attributes\":{\"line_color\":{\"value\":\"firebrick\"},\"line_width\":{\"value\":2},\"plot\":null,\"size\":10},\"id\":\"146d9cbe-5c93-4c06-8c5b-da604f9d90dc\",\"type\":\"OpenHead\"},{\"attributes\":{\"plot\":null,\"text\":\"\"},\"id\":\"2a053704-6dab-40f6-9e3f-4d18358e70a3\",\"type\":\"Title\"},{\"attributes\":{},\"id\":\"7c0fa5fc-739f-4df6-84ce-2eb0b262db82\",\"type\":\"LinearScale\"},{\"attributes\":{\"end\":{\"id\":\"146d9cbe-5c93-4c06-8c5b-da604f9d90dc\",\"type\":\"OpenHead\"},\"line_color\":{\"value\":\"gray\"},\"plot\":{\"id\":\"723c2140-2844-4117-80ed-eae18a3035c5\",\"subtype\":\"Figure\",\"type\":\"Plot\"},\"source\":null,\"start\":null,\"x_end\":{\"value\":0.20854459711025802},\"x_start\":{\"value\":-0.21505613681058305},\"y_end\":{\"value\":0.06288921356779187},\"y_start\":{\"value\":-0.40584936494385054}},\"id\":\"8384413a-b93a-4635-8473-7d05960e0154\",\"type\":\"Arrow\"},{\"attributes\":{\"source\":{\"id\":\"ec0b6203-1f0f-4161-a005-f71d847cd1c4\",\"type\":\"ColumnDataSource\"}},\"id\":\"f7e0878b-3c76-435b-8b12-c44c45561e42\",\"type\":\"CDSView\"},{\"attributes\":{\"callback\":null,\"data\":{},\"selected\":null,\"selection_policy\":null},\"id\":\"19117012-f3ba-4a64-a49c-ad6401a4b4b8\",\"type\":\"ColumnDataSource\"},{\"attributes\":{\"callback\":null,\"column_names\":[\"x\",\"y\",\"desc\",\"pred\",\"not_skip\"],\"data\":{\"desc\":[\"    - utter_ask_details\",\"    - utter_explain_details_hotel\",\"    - utter_ask_details\",\"    - utter_chitchat\",\"    - utter_ask_details\",\"    - utter_ask_startdate\",\"    - utter_ask_location\",\"    - utter_explain_location_hotel\",\"    - utter_ask_location\",\"    - utter_ask_price\",\"    - utter_chitchat\",\"    - utter_ask_price\",\"    - utter_chitchat\",\"    - utter_ask_price\",\"    - utter_chitchat\",\"    - utter_ask_price\",\"    - utter_chitchat\",\"    - utter_ask_price\",\"    - utter_explain_price_hotel\",\"    - utter_ask_price\",\"    - utter_ask_people\",\"    - utter_filled_slots\",\"    - action_search_hotel\",\"    - utter_suggest_hotel\",\"    - utter_chitchat\",\"    - utter_suggest_hotel\",\"    - utter_happy\"],\"not_skip\":[{\"__ndarray__\":\"BinDPQ==\",\"dtype\":\"float32\",\"shape\":[1]},{\"__ndarray__\":\"wxHZPQ==\",\"dtype\":\"float32\",\"shape\":[1]},{\"__ndarray__\":\"GhUTPQ==\",\"dtype\":\"float32\",\"shape\":[1]},{\"__ndarray__\":\"ySCsPQ==\",\"dtype\":\"float32\",\"shape\":[1]},{\"__ndarray__\":\"HckUPQ==\",\"dtype\":\"float32\",\"shape\":[1]},{\"__ndarray__\":\"lTB/Pg==\",\"dtype\":\"float32\",\"shape\":[1]},{\"__ndarray__\":\"rrxaPg==\",\"dtype\":\"float32\",\"shape\":[1]},{\"__ndarray__\":\"PTrDPQ==\",\"dtype\":\"float32\",\"shape\":[1]},{\"__ndarray__\":\"ubfvPA==\",\"dtype\":\"float32\",\"shape\":[1]},{\"__ndarray__\":\"itecPg==\",\"dtype\":\"float32\",\"shape\":[1]},{\"__ndarray__\":\"tKFaPQ==\",\"dtype\":\"float32\",\"shape\":[1]},{\"__ndarray__\":\"SlsjPQ==\",\"dtype\":\"float32\",\"shape\":[1]},{\"__ndarray__\":\"DMWsPQ==\",\"dtype\":\"float32\",\"shape\":[1]},{\"__ndarray__\":\"AykZPQ==\",\"dtype\":\"float32\",\"shape\":[1]},{\"__ndarray__\":\"32GtPQ==\",\"dtype\":\"float32\",\"shape\":[1]},{\"__ndarray__\":\"ByUaPQ==\",\"dtype\":\"float32\",\"shape\":[1]},{\"__ndarray__\":\"g0KwPQ==\",\"dtype\":\"float32\",\"shape\":[1]},{\"__ndarray__\":\"98kaPQ==\",\"dtype\":\"float32\",\"shape\":[1]},{\"__ndarray__\":\"ixDDPQ==\",\"dtype\":\"float32\",\"shape\":[1]},{\"__ndarray__\":\"zmECPQ==\",\"dtype\":\"float32\",\"shape\":[1]},{\"__ndarray__\":\"ceRoPg==\",\"dtype\":\"float32\",\"shape\":[1]},{\"__ndarray__\":\"bMlwPg==\",\"dtype\":\"float32\",\"shape\":[1]},{\"__ndarray__\":\"nCXFPA==\",\"dtype\":\"float32\",\"shape\":[1]},{\"__ndarray__\":\"9na0PA==\",\"dtype\":\"float32\",\"shape\":[1]},{\"__ndarray__\":\"gEbdPQ==\",\"dtype\":\"float32\",\"shape\":[1]},{\"__ndarray__\":\"OkM5PQ==\",\"dtype\":\"float32\",\"shape\":[1]},{\"__ndarray__\":\"qQy9PQ==\",\"dtype\":\"float32\",\"shape\":[1]}],\"pred\":[\"utter_ask_details\",\"utter_explain_people_hotel\",\"utter_ask_details\",\"utter_chitchat\",\"utter_ask_details\",\"utter_ask_location\",\"utter_ask_location\",\"utter_explain_enddate_hotel\",\"utter_ask_location\",\"utter_ask_people\",\"utter_chitchat\",\"utter_ask_price\",\"utter_chitchat\",\"utter_ask_price\",\"utter_chitchat\",\"utter_ask_price\",\"utter_chitchat\",\"utter_ask_price\",\"utter_explain_enddate_hotel\",\"utter_ask_price\",\"utter_ask_location\",\"utter_filled_slots\",\"action_search_hotel\",\"utter_suggest_hotel\",\"utter_chitchat\",\"action_listen\",\"utter_happy\"],\"x\":{\"__ndarray__\":\"QukzofWGy7+CSyzglrHKP8W3JGNuL8e/hmUlg9SO4D84VMgv3K7Fv/7Iwdi7ydS/1MgZ/wPQ0b/DNd4y5o3hP8maQQw0VOG/oCvU9kF2yL9Ys+aopm/oP8uI8lsHZeK/mfq9/kPq5j+roxutRc3bv0kO04F4Suc/mq7NXsbw278wldAw9WbnP0e+vciRsNu/AMEOfTds3z/Ebm4I4dvfv3aELgYUFNG/24SdLM4gvD+GS4dob7rgvyhcILKnfpG/KhiP/W8z3z8axYVizl3Avx409d9F8ra/\",\"dtype\":\"float64\",\"shape\":[27]},\"y\":{\"__ndarray__\":\"N1FinW/52b+weYvrgRmwPyT3RhZFM9K/6fmcBTmuzL8PnsZsNIfOv/eotQONsN2/GwDj7W71tr8hrc0nw+jbPwOeGH5Dc9m/BnfNGEz8xj8sAE6UQm/Fv7yc5Nq95dg/mYdwo2Uvtb/ym/ZZa37WP0MJag0gXbK/l8ZGZ0o31j86rLOrIRexv6Hs66PjIdY/yZG5+3hW3j/F5JDGkLPNP6DWNgpLw9W/vnBwdqIMxz+TH6hyps60vzVxs6PY7sE/Fzoytl4gcz85mnahPlWyv3+CzXZ0H8S/\",\"dtype\":\"float64\",\"shape\":[27]}},\"selected\":null,\"selection_policy\":null},\"id\":\"169a61e1-2d87-4618-bb1b-7443ceaf8a66\",\"type\":\"ColumnDataSource\"},{\"attributes\":{\"fill_color\":{\"value\":\"magenta\"},\"line_color\":{\"value\":\"magenta\"},\"size\":{\"units\":\"screen\",\"value\":5},\"x\":{\"value\":-0.16751241105186232},\"y\":{\"value\":-0.06049810410382758}},\"id\":\"a547cc7b-71d7-443d-a4a8-297d8866630f\",\"type\":\"Circle\"},{\"attributes\":{\"active_drag\":\"auto\",\"active_inspect\":\"auto\",\"active_scroll\":\"auto\",\"active_tap\":\"auto\",\"tools\":[{\"id\":\"ec44ad99-c4f7-4599-a4e3-531aa4322346\",\"type\":\"HoverTool\"}]},\"id\":\"ea39f971-edf0-431a-bb5b-333a3e6a0c2e\",\"type\":\"Toolbar\"},{\"attributes\":{\"fill_color\":{\"value\":\"green\"},\"line_color\":{\"value\":\"green\"},\"size\":{\"units\":\"screen\",\"value\":5},\"x\":{\"field\":\"x\"},\"y\":{\"field\":\"y\"}},\"id\":\"fdc2be04-4882-41de-8eda-1f7ce5b4a0d5\",\"type\":\"Circle\"},{\"attributes\":{\"callback\":null,\"data\":{},\"selected\":null,\"selection_policy\":null},\"id\":\"59991f9e-a806-4a7e-aa05-9989ea7bafc5\",\"type\":\"ColumnDataSource\"},{\"attributes\":{\"callback\":null},\"id\":\"dc13347b-35e2-4869-b2db-b85579f7a4c3\",\"type\":\"DataRange1d\"},{\"attributes\":{\"callback\":null,\"column_names\":[\"x\",\"y\",\"desc\",\"pred\",\"not_skip\"],\"data\":{\"desc\":[\"    - utter_ask_details\",\"    - utter_explain_details_hotel\",\"    - utter_ask_details\",\"    - utter_chitchat\",\"    - utter_ask_details\",\"    - utter_ask_startdate\",\"    - utter_ask_location\",\"    - utter_explain_location_hotel\",\"    - utter_ask_location\",\"    - utter_ask_price\",\"    - utter_chitchat\",\"    - utter_ask_price\",\"    - utter_chitchat\",\"    - utter_ask_price\",\"    - utter_chitchat\",\"    - utter_ask_price\",\"    - utter_chitchat\",\"    - utter_ask_price\",\"    - utter_explain_price_hotel\",\"    - utter_ask_price\",\"    - utter_ask_people\",\"    - utter_filled_slots\",\"    - action_search_hotel\",\"    - utter_suggest_hotel\",\"    - utter_chitchat\",\"    - utter_suggest_hotel\",\"    - utter_happy\"],\"not_skip\":[{\"__ndarray__\":\"BinDPQ==\",\"dtype\":\"float32\",\"shape\":[1]},{\"__ndarray__\":\"wxHZPQ==\",\"dtype\":\"float32\",\"shape\":[1]},{\"__ndarray__\":\"GhUTPQ==\",\"dtype\":\"float32\",\"shape\":[1]},{\"__ndarray__\":\"ySCsPQ==\",\"dtype\":\"float32\",\"shape\":[1]},{\"__ndarray__\":\"HckUPQ==\",\"dtype\":\"float32\",\"shape\":[1]},{\"__ndarray__\":\"lTB/Pg==\",\"dtype\":\"float32\",\"shape\":[1]},{\"__ndarray__\":\"rrxaPg==\",\"dtype\":\"float32\",\"shape\":[1]},{\"__ndarray__\":\"PTrDPQ==\",\"dtype\":\"float32\",\"shape\":[1]},{\"__ndarray__\":\"ubfvPA==\",\"dtype\":\"float32\",\"shape\":[1]},{\"__ndarray__\":\"itecPg==\",\"dtype\":\"float32\",\"shape\":[1]},{\"__ndarray__\":\"tKFaPQ==\",\"dtype\":\"float32\",\"shape\":[1]},{\"__ndarray__\":\"SlsjPQ==\",\"dtype\":\"float32\",\"shape\":[1]},{\"__ndarray__\":\"DMWsPQ==\",\"dtype\":\"float32\",\"shape\":[1]},{\"__ndarray__\":\"AykZPQ==\",\"dtype\":\"float32\",\"shape\":[1]},{\"__ndarray__\":\"32GtPQ==\",\"dtype\":\"float32\",\"shape\":[1]},{\"__ndarray__\":\"ByUaPQ==\",\"dtype\":\"float32\",\"shape\":[1]},{\"__ndarray__\":\"g0KwPQ==\",\"dtype\":\"float32\",\"shape\":[1]},{\"__ndarray__\":\"98kaPQ==\",\"dtype\":\"float32\",\"shape\":[1]},{\"__ndarray__\":\"ixDDPQ==\",\"dtype\":\"float32\",\"shape\":[1]},{\"__ndarray__\":\"zmECPQ==\",\"dtype\":\"float32\",\"shape\":[1]},{\"__ndarray__\":\"ceRoPg==\",\"dtype\":\"float32\",\"shape\":[1]},{\"__ndarray__\":\"bMlwPg==\",\"dtype\":\"float32\",\"shape\":[1]},{\"__ndarray__\":\"nCXFPA==\",\"dtype\":\"float32\",\"shape\":[1]},{\"__ndarray__\":\"9na0PA==\",\"dtype\":\"float32\",\"shape\":[1]},{\"__ndarray__\":\"gEbdPQ==\",\"dtype\":\"float32\",\"shape\":[1]},{\"__ndarray__\":\"OkM5PQ==\",\"dtype\":\"float32\",\"shape\":[1]},{\"__ndarray__\":\"qQy9PQ==\",\"dtype\":\"float32\",\"shape\":[1]}],\"pred\":[\"utter_ask_details\",\"utter_explain_people_hotel\",\"utter_ask_details\",\"utter_chitchat\",\"utter_ask_details\",\"utter_ask_location\",\"utter_ask_location\",\"utter_explain_enddate_hotel\",\"utter_ask_location\",\"utter_ask_people\",\"utter_chitchat\",\"utter_ask_price\",\"utter_chitchat\",\"utter_ask_price\",\"utter_chitchat\",\"utter_ask_price\",\"utter_chitchat\",\"utter_ask_price\",\"utter_explain_enddate_hotel\",\"utter_ask_price\",\"utter_ask_location\",\"utter_filled_slots\",\"action_search_hotel\",\"utter_suggest_hotel\",\"utter_chitchat\",\"action_listen\",\"utter_happy\"],\"x\":{\"__ndarray__\":\"pTL7vtBPyL90KjHEJPvEv35Bw54IYci/OuPjzHFoxL9gmUbp4nDKv04U3QcRz7+/nk0h+oo1sb8inImbHv+qv8KZWIFlU9e/LaiTB6M6w7/9G2AllOizv34U4jAPTdq/C1uqmqkwsL/9qgoP9pjYvzMHqqwOILC/qEENc+fF2L/c6ZtCHFOwv38peB/Jr9i/zX5N+cMts7/53FhX1DnYv9mmD2cqy7e/NSOWOg24tb8d6Fb01gmlv3xWt+vG5ai/EjYV0e9VrL9Mu3p/fDO7v0EaBOk8Za2/\",\"dtype\":\"float64\",\"shape\":[27]},\"y\":{\"__ndarray__\":\"4E19kuKnvb9CHv8ghd/Bv3HtNLL7VNO/DPMwAokz0L89+q6Tm6XVv9CAo8ywUMy/z2nL1WRYxr872spB8djKv//BI7UEvtm/n68eqXJpyr9hiw/gblLGvx9ZT+j1Z80/B9fuleitxr9iiGdRpGzHPwuTiwBSn8S/iTEQZOtRxz8oq8EEwHHDv2zLw3SyRsc/QloWdd9+wr/aEPswOxXFPz+y5NPTY7q/WKmeTNHlu79iLGivQuu0v6ZHAKw5Fau/rXJ+fY+6sb8DGObkrS+sv8bUcU8YP7C/\",\"dtype\":\"float64\",\"shape\":[27]}},\"selected\":null,\"selection_policy\":null},\"id\":\"ec0b6203-1f0f-4161-a005-f71d847cd1c4\",\"type\":\"ColumnDataSource\"},{\"attributes\":{\"callback\":null},\"id\":\"26e54bf3-5696-49b7-8e50-fee554f2f4c8\",\"type\":\"DataRange1d\"},{\"attributes\":{\"fill_alpha\":{\"value\":0.1},\"fill_color\":{\"value\":\"#1f77b4\"},\"line_alpha\":{\"value\":0.1},\"line_color\":{\"value\":\"#1f77b4\"},\"size\":{\"units\":\"screen\",\"value\":5},\"x\":{\"field\":\"x\"},\"y\":{\"field\":\"y\"}},\"id\":\"34da7656-232e-4704-af83-2591b256e1d2\",\"type\":\"Circle\"},{\"attributes\":{\"line_color\":{\"value\":\"firebrick\"},\"line_width\":{\"value\":2},\"plot\":null,\"size\":10},\"id\":\"b9266477-83b6-4639-aca7-79d73892878f\",\"type\":\"OpenHead\"},{\"attributes\":{\"data_source\":{\"id\":\"ec0b6203-1f0f-4161-a005-f71d847cd1c4\",\"type\":\"ColumnDataSource\"},\"glyph\":{\"id\":\"fdc2be04-4882-41de-8eda-1f7ce5b4a0d5\",\"type\":\"Circle\"},\"hover_glyph\":null,\"muted_glyph\":null,\"name\":\"circle\",\"nonselection_glyph\":{\"id\":\"34da7656-232e-4704-af83-2591b256e1d2\",\"type\":\"Circle\"},\"selection_glyph\":null,\"view\":{\"id\":\"f7e0878b-3c76-435b-8b12-c44c45561e42\",\"type\":\"CDSView\"}},\"id\":\"ece7bd16-0a3f-44bb-b24a-39c59344a1f4\",\"type\":\"GlyphRenderer\"},{\"attributes\":{\"formatter\":{\"id\":\"21076856-7fc8-48be-943b-e06336f7f060\",\"type\":\"BasicTickFormatter\"},\"plot\":{\"id\":\"723c2140-2844-4117-80ed-eae18a3035c5\",\"subtype\":\"Figure\",\"type\":\"Plot\"},\"ticker\":{\"id\":\"56373351-53e2-42c5-872f-a1bff04a1ef5\",\"type\":\"BasicTicker\"}},\"id\":\"bce0f96a-692d-4c86-a387-2942bd02d9e5\",\"type\":\"LinearAxis\"},{\"attributes\":{\"source\":{\"id\":\"8cadc8ca-799d-46a9-b60d-c7f81b4e7987\",\"type\":\"ColumnDataSource\"}},\"id\":\"824302c3-bd4c-4726-b273-a68d93ffab90\",\"type\":\"CDSView\"},{\"attributes\":{\"fill_color\":{\"value\":\"black\"},\"x\":{\"value\":-0.4585815550948041},\"y\":{\"value\":0.3005451995049623}},\"id\":\"3a1a2dca-f402-444c-bf34-5b944825635f\",\"type\":\"Circle\"},{\"attributes\":{},\"id\":\"2d348266-3b11-4ae4-bc9a-4237179acc92\",\"type\":\"LinearScale\"},{\"attributes\":{\"callback\":null,\"column_names\":[\"x\",\"y\",\"desc\",\"pred\",\"not_skip\"],\"data\":{\"desc\":[\"    - utter_ask_details\",\"    - utter_explain_details_hotel\",\"    - utter_ask_details\",\"    - utter_chitchat\",\"    - utter_ask_details\",\"    - utter_ask_startdate\",\"    - utter_ask_location\",\"    - utter_explain_location_hotel\",\"    - utter_ask_location\",\"    - utter_ask_price\",\"    - utter_chitchat\",\"    - utter_ask_price\",\"    - utter_chitchat\",\"    - utter_ask_price\",\"    - utter_chitchat\",\"    - utter_ask_price\",\"    - utter_chitchat\",\"    - utter_ask_price\",\"    - utter_explain_price_hotel\",\"    - utter_ask_price\",\"    - utter_ask_people\",\"    - utter_filled_slots\",\"    - action_search_hotel\",\"    - utter_suggest_hotel\",\"    - utter_chitchat\",\"    - utter_suggest_hotel\",\"    - utter_happy\"],\"not_skip\":[{\"__ndarray__\":\"BinDPQ==\",\"dtype\":\"float32\",\"shape\":[1]},{\"__ndarray__\":\"wxHZPQ==\",\"dtype\":\"float32\",\"shape\":[1]},{\"__ndarray__\":\"GhUTPQ==\",\"dtype\":\"float32\",\"shape\":[1]},{\"__ndarray__\":\"ySCsPQ==\",\"dtype\":\"float32\",\"shape\":[1]},{\"__ndarray__\":\"HckUPQ==\",\"dtype\":\"float32\",\"shape\":[1]},{\"__ndarray__\":\"lTB/Pg==\",\"dtype\":\"float32\",\"shape\":[1]},{\"__ndarray__\":\"rrxaPg==\",\"dtype\":\"float32\",\"shape\":[1]},{\"__ndarray__\":\"PTrDPQ==\",\"dtype\":\"float32\",\"shape\":[1]},{\"__ndarray__\":\"ubfvPA==\",\"dtype\":\"float32\",\"shape\":[1]},{\"__ndarray__\":\"itecPg==\",\"dtype\":\"float32\",\"shape\":[1]},{\"__ndarray__\":\"tKFaPQ==\",\"dtype\":\"float32\",\"shape\":[1]},{\"__ndarray__\":\"SlsjPQ==\",\"dtype\":\"float32\",\"shape\":[1]},{\"__ndarray__\":\"DMWsPQ==\",\"dtype\":\"float32\",\"shape\":[1]},{\"__ndarray__\":\"AykZPQ==\",\"dtype\":\"float32\",\"shape\":[1]},{\"__ndarray__\":\"32GtPQ==\",\"dtype\":\"float32\",\"shape\":[1]},{\"__ndarray__\":\"ByUaPQ==\",\"dtype\":\"float32\",\"shape\":[1]},{\"__ndarray__\":\"g0KwPQ==\",\"dtype\":\"float32\",\"shape\":[1]},{\"__ndarray__\":\"98kaPQ==\",\"dtype\":\"float32\",\"shape\":[1]},{\"__ndarray__\":\"ixDDPQ==\",\"dtype\":\"float32\",\"shape\":[1]},{\"__ndarray__\":\"zmECPQ==\",\"dtype\":\"float32\",\"shape\":[1]},{\"__ndarray__\":\"ceRoPg==\",\"dtype\":\"float32\",\"shape\":[1]},{\"__ndarray__\":\"bMlwPg==\",\"dtype\":\"float32\",\"shape\":[1]},{\"__ndarray__\":\"nCXFPA==\",\"dtype\":\"float32\",\"shape\":[1]},{\"__ndarray__\":\"9na0PA==\",\"dtype\":\"float32\",\"shape\":[1]},{\"__ndarray__\":\"gEbdPQ==\",\"dtype\":\"float32\",\"shape\":[1]},{\"__ndarray__\":\"OkM5PQ==\",\"dtype\":\"float32\",\"shape\":[1]},{\"__ndarray__\":\"qQy9PQ==\",\"dtype\":\"float32\",\"shape\":[1]}],\"pred\":[\"utter_ask_details\",\"utter_explain_people_hotel\",\"utter_ask_details\",\"utter_chitchat\",\"utter_ask_details\",\"utter_ask_location\",\"utter_ask_location\",\"utter_explain_enddate_hotel\",\"utter_ask_location\",\"utter_ask_people\",\"utter_chitchat\",\"utter_ask_price\",\"utter_chitchat\",\"utter_ask_price\",\"utter_chitchat\",\"utter_ask_price\",\"utter_chitchat\",\"utter_ask_price\",\"utter_explain_enddate_hotel\",\"utter_ask_price\",\"utter_ask_location\",\"utter_filled_slots\",\"action_search_hotel\",\"utter_suggest_hotel\",\"utter_chitchat\",\"action_listen\",\"utter_happy\"],\"x\":{\"__ndarray__\":\"eHuP2DCoyL/4eQ+nrzvKP3FY9LZxP8S/exrF+q1M4D9+Y747Ba/Av5U/TYt9jte/7VR8Oyc72L/F7ExGKsPbP5LclYyIDda/wk2x1qqsyr9B2k0odpDlP5zzp4SFNdW/9QU/OhaU4z8EuWYnq9nLvwcjn1c38uM/5VFevsnGy7+qE5/DFRXkP/ptMladcsu/CQa9gCJ/2T/hpI2xklrSv4ng72DP2dW//OyfeA7bmz8vWSv3FMbkv2xDMihvZ8G/e4TZ+6cF2D8hQGIbHDXIvwvfQa7fkMm/\",\"dtype\":\"float64\",\"shape\":[27]},\"y\":{\"__ndarray__\":\"aX8waqpu1r/FqGUz3y3CP1gcP6jm66W/ZJb9mjcWoL9n6llubxakP8uf2A5oZ9O/uXQtADT6mD/TrAQsBLviP6ENZdWRo6y/d4Jl7qvT1D/T6V126myrv3+kmvo9Srk/ogAYlDtfoT+t9aL4lqO7PxorDO/Ykp0/QeAACIW8uj+phmKrQj6ZP3O8599bfbo/XT9wpFrb4T8VUp3R1v17PxjZ3IOJCdO/OMkRNCRBzT9D16oiY8Cuv8NjnjDA9cA/RYFa/z1+iz94s/1tNbqzv+gK8SRPvsO/\",\"dtype\":\"float64\",\"shape\":[27]}},\"selected\":null,\"selection_policy\":null},\"id\":\"8cadc8ca-799d-46a9-b60d-c7f81b4e7987\",\"type\":\"ColumnDataSource\"},{\"attributes\":{},\"id\":\"56373351-53e2-42c5-872f-a1bff04a1ef5\",\"type\":\"BasicTicker\"},{\"attributes\":{\"plot\":{\"id\":\"723c2140-2844-4117-80ed-eae18a3035c5\",\"subtype\":\"Figure\",\"type\":\"Plot\"},\"ticker\":{\"id\":\"56373351-53e2-42c5-872f-a1bff04a1ef5\",\"type\":\"BasicTicker\"}},\"id\":\"f4d5b060-2062-4186-993e-cbdd6f0886fb\",\"type\":\"Grid\"},{\"attributes\":{\"callback\":null,\"data\":{},\"selected\":null,\"selection_policy\":null},\"id\":\"74542f5e-7023-49d5-aa25-d8a32077cff6\",\"type\":\"ColumnDataSource\"},{\"attributes\":{\"formatter\":{\"id\":\"1c07c27b-3bcd-486d-88ac-e6240784e7c4\",\"type\":\"BasicTickFormatter\"},\"plot\":{\"id\":\"723c2140-2844-4117-80ed-eae18a3035c5\",\"subtype\":\"Figure\",\"type\":\"Plot\"},\"ticker\":{\"id\":\"a99c5afb-cfd1-45ee-b70d-d00ba93952cb\",\"type\":\"BasicTicker\"}},\"id\":\"b6ee40b3-2ce9-488c-9c0d-628f80263d34\",\"type\":\"LinearAxis\"},{\"attributes\":{\"fill_color\":{\"value\":\"red\"},\"line_color\":{\"value\":\"red\"},\"size\":{\"units\":\"screen\",\"value\":5},\"x\":{\"field\":\"x\"},\"y\":{\"field\":\"y\"}},\"id\":\"cb373b6c-66a0-491f-81da-a21bf1bdad92\",\"type\":\"Circle\"},{\"attributes\":{},\"id\":\"a99c5afb-cfd1-45ee-b70d-d00ba93952cb\",\"type\":\"BasicTicker\"},{\"attributes\":{\"fill_alpha\":{\"value\":0.1},\"fill_color\":{\"value\":\"#1f77b4\"},\"line_alpha\":{\"value\":0.1},\"line_color\":{\"value\":\"#1f77b4\"},\"size\":{\"units\":\"screen\",\"value\":5},\"x\":{\"field\":\"x\"},\"y\":{\"field\":\"y\"}},\"id\":\"b8c943ab-622e-49b3-af8f-f9b96640e774\",\"type\":\"Circle\"},{\"attributes\":{\"dimension\":1,\"plot\":{\"id\":\"723c2140-2844-4117-80ed-eae18a3035c5\",\"subtype\":\"Figure\",\"type\":\"Plot\"},\"ticker\":{\"id\":\"a99c5afb-cfd1-45ee-b70d-d00ba93952cb\",\"type\":\"BasicTicker\"}},\"id\":\"826fbcbd-b182-4317-ad5c-e9f351ecbab8\",\"type\":\"Grid\"},{\"attributes\":{\"data_source\":{\"id\":\"19117012-f3ba-4a64-a49c-ad6401a4b4b8\",\"type\":\"ColumnDataSource\"},\"glyph\":{\"id\":\"a547cc7b-71d7-443d-a4a8-297d8866630f\",\"type\":\"Circle\"},\"hover_glyph\":null,\"muted_glyph\":null,\"nonselection_glyph\":{\"id\":\"fe7744fc-fe81-4e55-bdd6-1a5df2afe4ec\",\"type\":\"Circle\"},\"selection_glyph\":null,\"view\":{\"id\":\"820b72dc-3a13-4d4f-ae70-267f0de93c7a\",\"type\":\"CDSView\"}},\"id\":\"c6c5bdf7-dfcf-430c-9d57-92b07c3d67c0\",\"type\":\"GlyphRenderer\"},{\"attributes\":{\"end\":{\"id\":\"bc7d7816-e7d7-4e62-aa7f-1a2904e741ce\",\"type\":\"OpenHead\"},\"line_color\":{\"value\":\"gray\"},\"plot\":{\"id\":\"723c2140-2844-4117-80ed-eae18a3035c5\",\"subtype\":\"Figure\",\"type\":\"Plot\"},\"source\":null,\"start\":null,\"x_end\":{\"value\":0.4909800263658468},\"x_start\":{\"value\":-0.43265194514876665},\"y_end\":{\"value\":0.4740278681040562},\"y_start\":{\"value\":0.34581843383757344}},\"id\":\"0c1e6f4c-1914-4358-9062-1ea4c60bd809\",\"type\":\"Arrow\"},{\"attributes\":{\"fill_alpha\":{\"value\":0.1},\"fill_color\":{\"value\":\"#1f77b4\"},\"line_alpha\":{\"value\":0.1},\"line_color\":{\"value\":\"#1f77b4\"},\"size\":{\"units\":\"screen\",\"value\":5},\"x\":{\"value\":-0.16751241105186232},\"y\":{\"value\":-0.06049810410382758}},\"id\":\"fe7744fc-fe81-4e55-bdd6-1a5df2afe4ec\",\"type\":\"Circle\"},{\"attributes\":{\"line_color\":{\"value\":\"firebrick\"},\"line_width\":{\"value\":2},\"plot\":null,\"size\":10},\"id\":\"5c6069a5-934b-4e6f-89b3-a71b45450565\",\"type\":\"OpenHead\"},{\"attributes\":{\"source\":{\"id\":\"19117012-f3ba-4a64-a49c-ad6401a4b4b8\",\"type\":\"ColumnDataSource\"}},\"id\":\"820b72dc-3a13-4d4f-ae70-267f0de93c7a\",\"type\":\"CDSView\"},{\"attributes\":{\"fill_alpha\":{\"value\":0.1},\"fill_color\":{\"value\":\"#1f77b4\"},\"line_alpha\":{\"value\":0.1},\"line_color\":{\"value\":\"#1f77b4\"},\"x\":{\"value\":-0.4585815550948041},\"y\":{\"value\":0.3005451995049623}},\"id\":\"68fc9e5c-1224-495f-89f3-a515966d72ec\",\"type\":\"Circle\"},{\"attributes\":{\"line_color\":{\"value\":\"firebrick\"},\"line_width\":{\"value\":2},\"plot\":null,\"size\":10},\"id\":\"8333076d-49cb-429c-bf3d-82ab52ef22d6\",\"type\":\"OpenHead\"},{\"attributes\":{\"source\":{\"id\":\"74542f5e-7023-49d5-aa25-d8a32077cff6\",\"type\":\"ColumnDataSource\"}},\"id\":\"1155705b-0c28-419e-ae39-842173d5f775\",\"type\":\"CDSView\"},{\"attributes\":{\"end\":{\"id\":\"c5d17af4-8864-4dec-9137-98e23588bbf9\",\"type\":\"OpenHead\"},\"line_color\":{\"value\":\"gray\"},\"plot\":{\"id\":\"723c2140-2844-4117-80ed-eae18a3035c5\",\"subtype\":\"Figure\",\"type\":\"Plot\"},\"source\":null,\"start\":null,\"x_end\":{\"value\":-0.43265194514876665},\"x_start\":{\"value\":0.7313180879033663},\"y_end\":{\"value\":0.34581843383757344},\"y_start\":{\"value\":-0.06675920907916658}},\"id\":\"65a5d77d-41d4-4ecb-93bc-e595753bf3fe\",\"type\":\"Arrow\"},{\"attributes\":{\"callback\":null,\"data\":{},\"selected\":null,\"selection_policy\":null},\"id\":\"6af4215b-5c7d-4aba-94ee-3d317764ed2e\",\"type\":\"ColumnDataSource\"},{\"attributes\":{\"end\":{\"id\":\"b9266477-83b6-4639-aca7-79d73892878f\",\"type\":\"OpenHead\"},\"line_color\":{\"value\":\"gray\"},\"plot\":{\"id\":\"723c2140-2844-4117-80ed-eae18a3035c5\",\"subtype\":\"Figure\",\"type\":\"Plot\"},\"source\":null,\"start\":null,\"x_end\":{\"value\":-0.1811349853609824},\"x_start\":{\"value\":0.20854459711025802},\"y_end\":{\"value\":-0.28437926459797525},\"y_start\":{\"value\":0.06288921356779187}},\"id\":\"24f377bf-fa7a-4127-9121-4c5d99f51835\",\"type\":\"Arrow\"},{\"attributes\":{\"fill_color\":{\"value\":\"green\"},\"line_color\":{\"value\":\"green\"},\"size\":{\"units\":\"screen\",\"value\":10},\"x\":{\"value\":-0.21505613681058305},\"y\":{\"value\":-0.40584936494385054}},\"id\":\"e9eb87eb-e111-4676-8f90-060c38da2d3e\",\"type\":\"Circle\"},{\"attributes\":{\"line_color\":{\"value\":\"firebrick\"},\"line_width\":{\"value\":2},\"plot\":null,\"size\":10},\"id\":\"5be6dce4-a68a-4bf4-8a64-e5f8692c7eb2\",\"type\":\"OpenHead\"},{\"attributes\":{\"fill_alpha\":{\"value\":0.1},\"fill_color\":{\"value\":\"#1f77b4\"},\"line_alpha\":{\"value\":0.1},\"line_color\":{\"value\":\"#1f77b4\"},\"size\":{\"units\":\"screen\",\"value\":10},\"x\":{\"value\":-0.21505613681058305},\"y\":{\"value\":-0.40584936494385054}},\"id\":\"e8b79db0-51fa-4080-bbae-97a1aac92fa3\",\"type\":\"Circle\"},{\"attributes\":{\"end\":{\"id\":\"5c6069a5-934b-4e6f-89b3-a71b45450565\",\"type\":\"OpenHead\"},\"line_color\":{\"value\":\"gray\"},\"plot\":{\"id\":\"723c2140-2844-4117-80ed-eae18a3035c5\",\"subtype\":\"Figure\",\"type\":\"Plot\"},\"source\":null,\"start\":null,\"x_end\":{\"value\":0.5174353181311495},\"x_start\":{\"value\":-0.1811349853609824},\"y_end\":{\"value\":-0.2240668561370989},\"y_start\":{\"value\":-0.28437926459797525}},\"id\":\"51909ee4-3e1d-44aa-af14-3e73a242e5e4\",\"type\":\"Arrow\"},{\"attributes\":{\"data_source\":{\"id\":\"74542f5e-7023-49d5-aa25-d8a32077cff6\",\"type\":\"ColumnDataSource\"},\"glyph\":{\"id\":\"e9eb87eb-e111-4676-8f90-060c38da2d3e\",\"type\":\"Circle\"},\"hover_glyph\":null,\"muted_glyph\":null,\"nonselection_glyph\":{\"id\":\"e8b79db0-51fa-4080-bbae-97a1aac92fa3\",\"type\":\"Circle\"},\"selection_glyph\":null,\"view\":{\"id\":\"1155705b-0c28-419e-ae39-842173d5f775\",\"type\":\"CDSView\"}},\"id\":\"7267597f-26e7-4647-85e1-f4f56ef68599\",\"type\":\"GlyphRenderer\"},{\"attributes\":{\"line_color\":{\"value\":\"firebrick\"},\"line_width\":{\"value\":2},\"plot\":null,\"size\":10},\"id\":\"5ccabdfb-dab2-4f24-ae78-5205c698e37f\",\"type\":\"OpenHead\"},{\"attributes\":{\"source\":{\"id\":\"6af4215b-5c7d-4aba-94ee-3d317764ed2e\",\"type\":\"ColumnDataSource\"}},\"id\":\"b5278ae4-8931-4b22-9a87-624647bd8346\",\"type\":\"CDSView\"},{\"attributes\":{\"end\":{\"id\":\"5be6dce4-a68a-4bf4-8a64-e5f8692c7eb2\",\"type\":\"OpenHead\"},\"line_color\":{\"value\":\"gray\"},\"plot\":{\"id\":\"723c2140-2844-4117-80ed-eae18a3035c5\",\"subtype\":\"Figure\",\"type\":\"Plot\"},\"source\":null,\"start\":null,\"x_end\":{\"value\":-0.16939880688792797},\"x_start\":{\"value\":0.5174353181311495},\"y_end\":{\"value\":-0.23850112258263365},\"y_start\":{\"value\":-0.2240668561370989}},\"id\":\"b84ceaa6-f1af-4609-804c-3ed39564967e\",\"type\":\"Arrow\"},{\"attributes\":{\"line_color\":{\"value\":\"firebrick\"},\"line_width\":{\"value\":2},\"plot\":null,\"size\":10},\"id\":\"44e81ae7-db69-4129-8307-8c079d485ce9\",\"type\":\"OpenHead\"},{\"attributes\":{\"fill_color\":{\"value\":\"red\"},\"line_color\":{\"value\":\"red\"},\"size\":{\"units\":\"screen\",\"value\":10},\"x\":{\"value\":-0.0896342918178594},\"y\":{\"value\":-0.15720992852131485}},\"id\":\"2e918f11-be7a-4704-9b61-30b88cb4a10b\",\"type\":\"Circle\"},{\"attributes\":{\"end\":{\"id\":\"5ccabdfb-dab2-4f24-ae78-5205c698e37f\",\"type\":\"OpenHead\"},\"line_color\":{\"value\":\"gray\"},\"plot\":{\"id\":\"723c2140-2844-4117-80ed-eae18a3035c5\",\"subtype\":\"Figure\",\"type\":\"Plot\"},\"source\":null,\"start\":null,\"x_end\":{\"value\":-0.3248128525512043},\"x_start\":{\"value\":-0.16939880688792797},\"y_end\":{\"value\":-0.46390080797449634},\"y_start\":{\"value\":-0.23850112258263365}},\"id\":\"3be8ebfb-9062-46bd-9d26-421f40d3dc4a\",\"type\":\"Arrow\"},{\"attributes\":{\"fill_alpha\":{\"value\":0.1},\"fill_color\":{\"value\":\"#1f77b4\"},\"line_alpha\":{\"value\":0.1},\"line_color\":{\"value\":\"#1f77b4\"},\"size\":{\"units\":\"screen\",\"value\":10},\"x\":{\"value\":-0.0896342918178594},\"y\":{\"value\":-0.15720992852131485}},\"id\":\"6bb7c596-8108-4c5c-8432-8f9358bd9e0d\",\"type\":\"Circle\"},{\"attributes\":{\"line_color\":{\"value\":\"firebrick\"},\"line_width\":{\"value\":2},\"plot\":null,\"size\":10},\"id\":\"1e559d9b-1354-4ce3-85d1-ce668048bc26\",\"type\":\"OpenHead\"},{\"attributes\":{\"data_source\":{\"id\":\"6af4215b-5c7d-4aba-94ee-3d317764ed2e\",\"type\":\"ColumnDataSource\"},\"glyph\":{\"id\":\"2e918f11-be7a-4704-9b61-30b88cb4a10b\",\"type\":\"Circle\"},\"hover_glyph\":null,\"muted_glyph\":null,\"nonselection_glyph\":{\"id\":\"6bb7c596-8108-4c5c-8432-8f9358bd9e0d\",\"type\":\"Circle\"},\"selection_glyph\":null,\"view\":{\"id\":\"b5278ae4-8931-4b22-9a87-624647bd8346\",\"type\":\"CDSView\"}},\"id\":\"60de3838-017a-4e63-b503-b55206ce711a\",\"type\":\"GlyphRenderer\"},{\"attributes\":{\"end\":{\"id\":\"44e81ae7-db69-4129-8307-8c079d485ce9\",\"type\":\"OpenHead\"},\"line_color\":{\"value\":\"gray\"},\"plot\":{\"id\":\"723c2140-2844-4117-80ed-eae18a3035c5\",\"subtype\":\"Figure\",\"type\":\"Plot\"},\"source\":null,\"start\":null,\"x_end\":{\"value\":-0.27832126533679724},\"x_start\":{\"value\":-0.3248128525512043},\"y_end\":{\"value\":-0.08968251521855601},\"y_start\":{\"value\":-0.46390080797449634}},\"id\":\"41bf7e85-05e2-4229-a27a-9d9a0de82d33\",\"type\":\"Arrow\"},{\"attributes\":{\"line_color\":{\"value\":\"firebrick\"},\"line_width\":{\"value\":2},\"plot\":null,\"size\":10},\"id\":\"e06c54b1-5998-402f-872e-2845b8691bef\",\"type\":\"OpenHead\"},{\"attributes\":{\"end\":{\"id\":\"1e559d9b-1354-4ce3-85d1-ce668048bc26\",\"type\":\"OpenHead\"},\"line_color\":{\"value\":\"gray\"},\"plot\":{\"id\":\"723c2140-2844-4117-80ed-eae18a3035c5\",\"subtype\":\"Figure\",\"type\":\"Plot\"},\"source\":null,\"start\":null,\"x_end\":{\"value\":0.5485716813579348},\"x_start\":{\"value\":-0.27832126533679724},\"y_end\":{\"value\":0.4360816849427512},\"y_start\":{\"value\":-0.08968251521855601}},\"id\":\"5e0b7b99-1587-4890-8732-1f6a9edb5644\",\"type\":\"Arrow\"},{\"attributes\":{\"line_color\":{\"value\":\"firebrick\"},\"line_width\":{\"value\":2},\"plot\":null,\"size\":10},\"id\":\"0181e9c0-8eb0-4430-a244-207315a95d7b\",\"type\":\"OpenHead\"},{\"attributes\":{\"end\":{\"id\":\"e06c54b1-5998-402f-872e-2845b8691bef\",\"type\":\"OpenHead\"},\"line_color\":{\"value\":\"gray\"},\"plot\":{\"id\":\"723c2140-2844-4117-80ed-eae18a3035c5\",\"subtype\":\"Figure\",\"type\":\"Plot\"},\"source\":null,\"start\":null,\"x_end\":{\"value\":-0.5415287246113049},\"x_start\":{\"value\":0.5485716813579348},\"y_end\":{\"value\":-0.3976601344497512},\"y_start\":{\"value\":0.4360816849427512}},\"id\":\"37545e62-6683-4637-82ee-27e2d373175f\",\"type\":\"Arrow\"},{\"attributes\":{\"line_color\":{\"value\":\"firebrick\"},\"line_width\":{\"value\":2},\"plot\":null,\"size\":10},\"id\":\"de252fd1-c2cc-4cdb-9d89-0b35310c22e9\",\"type\":\"OpenHead\"},{\"attributes\":{\"end\":{\"id\":\"0181e9c0-8eb0-4430-a244-207315a95d7b\",\"type\":\"OpenHead\"},\"line_color\":{\"value\":\"gray\"},\"plot\":{\"id\":\"723c2140-2844-4117-80ed-eae18a3035c5\",\"subtype\":\"Figure\",\"type\":\"Plot\"},\"source\":null,\"start\":null,\"x_end\":{\"value\":-0.1911089377611832},\"x_start\":{\"value\":-0.5415287246113049},\"y_end\":{\"value\":0.1795745011431153},\"y_start\":{\"value\":-0.3976601344497512}},\"id\":\"66b8ea21-7f96-46b6-b527-cd6848569f3e\",\"type\":\"Arrow\"},{\"attributes\":{\"line_color\":{\"value\":\"firebrick\"},\"line_width\":{\"value\":2},\"plot\":null,\"size\":10},\"id\":\"2d356ece-56a1-4c7c-8f39-39abde18bcb3\",\"type\":\"OpenHead\"},{\"attributes\":{\"end\":{\"id\":\"de252fd1-c2cc-4cdb-9d89-0b35310c22e9\",\"type\":\"OpenHead\"},\"line_color\":{\"value\":\"gray\"},\"plot\":{\"id\":\"723c2140-2844-4117-80ed-eae18a3035c5\",\"subtype\":\"Figure\",\"type\":\"Plot\"},\"source\":null,\"start\":null,\"x_end\":{\"value\":0.7636292742587143},\"x_start\":{\"value\":-0.1911089377611832},\"y_end\":{\"value\":-0.16745788804473827},\"y_start\":{\"value\":0.1795745011431153}},\"id\":\"ddf12ddc-b202-45b6-9ac0-671f48ee6776\",\"type\":\"Arrow\"},{\"attributes\":{\"line_color\":{\"value\":\"firebrick\"},\"line_width\":{\"value\":2},\"plot\":null,\"size\":10},\"id\":\"9c20723c-628d-452b-ab3e-f59b2887a26a\",\"type\":\"OpenHead\"},{\"attributes\":{\"end\":{\"id\":\"2d356ece-56a1-4c7c-8f39-39abde18bcb3\",\"type\":\"OpenHead\"},\"line_color\":{\"value\":\"gray\"},\"plot\":{\"id\":\"723c2140-2844-4117-80ed-eae18a3035c5\",\"subtype\":\"Figure\",\"type\":\"Plot\"},\"source\":null,\"start\":null,\"x_end\":{\"value\":-0.5748326106879856},\"x_start\":{\"value\":0.7636292742587143},\"y_end\":{\"value\":0.38902231575270796},\"y_start\":{\"value\":-0.16745788804473827}},\"id\":\"f47f1346-4d1f-4786-b3ca-a2dec9f58124\",\"type\":\"Arrow\"},{\"attributes\":{\"line_color\":{\"value\":\"firebrick\"},\"line_width\":{\"value\":2},\"plot\":null,\"size\":10},\"id\":\"99e24c95-0153-463d-a2d7-25301ac9249f\",\"type\":\"OpenHead\"},{\"attributes\":{\"end\":{\"id\":\"9c20723c-628d-452b-ab3e-f59b2887a26a\",\"type\":\"OpenHead\"},\"line_color\":{\"value\":\"gray\"},\"plot\":{\"id\":\"723c2140-2844-4117-80ed-eae18a3035c5\",\"subtype\":\"Figure\",\"type\":\"Plot\"},\"source\":null,\"start\":null,\"x_end\":{\"value\":0.7160968757087459},\"x_start\":{\"value\":-0.5748326106879856},\"y_end\":{\"value\":-0.08275447120879988},\"y_start\":{\"value\":0.38902231575270796}},\"id\":\"e5992932-24b7-4480-a7e1-1bfd7be09761\",\"type\":\"Arrow\"},{\"attributes\":{\"line_color\":{\"value\":\"firebrick\"},\"line_width\":{\"value\":2},\"plot\":null,\"size\":10},\"id\":\"cb9f589c-93c6-405a-90bb-984c4f9ef37f\",\"type\":\"OpenHead\"},{\"attributes\":{\"end\":{\"id\":\"99e24c95-0153-463d-a2d7-25301ac9249f\",\"type\":\"OpenHead\"},\"line_color\":{\"value\":\"gray\"},\"plot\":{\"id\":\"723c2140-2844-4117-80ed-eae18a3035c5\",\"subtype\":\"Figure\",\"type\":\"Plot\"},\"source\":null,\"start\":null,\"x_end\":{\"value\":-0.4344038191325647},\"x_start\":{\"value\":0.7160968757087459},\"y_end\":{\"value\":0.3514660242603319},\"y_start\":{\"value\":-0.08275447120879988}},\"id\":\"2bcd3b65-c692-4aa7-9a57-4b28db65f9ff\",\"type\":\"Arrow\"},{\"attributes\":{\"line_color\":{\"value\":\"firebrick\"},\"line_width\":{\"value\":2},\"plot\":null,\"size\":10},\"id\":\"ef6089d8-299a-4228-8a97-e715bdb91ea3\",\"type\":\"OpenHead\"},{\"attributes\":{\"end\":{\"id\":\"cb9f589c-93c6-405a-90bb-984c4f9ef37f\",\"type\":\"OpenHead\"},\"line_color\":{\"value\":\"gray\"},\"plot\":{\"id\":\"723c2140-2844-4117-80ed-eae18a3035c5\",\"subtype\":\"Figure\",\"type\":\"Plot\"},\"source\":null,\"start\":null,\"x_end\":{\"value\":0.7278406654008417},\"x_start\":{\"value\":-0.4344038191325647},\"y_end\":{\"value\":-0.07173347785468302},\"y_start\":{\"value\":0.3514660242603319}},\"id\":\"9a029336-1584-40aa-8b6c-86f2ef55760e\",\"type\":\"Arrow\"},{\"attributes\":{\"line_color\":{\"value\":\"firebrick\"},\"line_width\":{\"value\":2},\"plot\":null,\"size\":10},\"id\":\"a9134424-e56e-431b-9f0f-608747f2322a\",\"type\":\"OpenHead\"},{\"attributes\":{\"end\":{\"id\":\"ef6089d8-299a-4228-8a97-e715bdb91ea3\",\"type\":\"OpenHead\"},\"line_color\":{\"value\":\"gray\"},\"plot\":{\"id\":\"723c2140-2844-4117-80ed-eae18a3035c5\",\"subtype\":\"Figure\",\"type\":\"Plot\"},\"source\":null,\"start\":null,\"x_end\":{\"value\":-0.436570732671251},\"x_start\":{\"value\":0.7278406654008417},\"y_end\":{\"value\":0.34712467275230935},\"y_start\":{\"value\":-0.07173347785468302}},\"id\":\"af0a3ac7-19cb-4bf2-9d9a-c0b30a4b68aa\",\"type\":\"Arrow\"},{\"attributes\":{\"line_color\":{\"value\":\"firebrick\"},\"line_width\":{\"value\":2},\"plot\":null,\"size\":10},\"id\":\"c5d17af4-8864-4dec-9137-98e23588bbf9\",\"type\":\"OpenHead\"},{\"attributes\":{\"end\":{\"id\":\"a9134424-e56e-431b-9f0f-608747f2322a\",\"type\":\"OpenHead\"},\"line_color\":{\"value\":\"gray\"},\"plot\":{\"id\":\"723c2140-2844-4117-80ed-eae18a3035c5\",\"subtype\":\"Figure\",\"type\":\"Plot\"},\"source\":null,\"start\":null,\"x_end\":{\"value\":0.7313180879033663},\"x_start\":{\"value\":-0.436570732671251},\"y_end\":{\"value\":-0.06675920907916658},\"y_start\":{\"value\":0.34712467275230935}},\"id\":\"89005ff8-813f-49e3-b15a-952a8fb93371\",\"type\":\"Arrow\"},{\"attributes\":{\"line_color\":{\"value\":\"firebrick\"},\"line_width\":{\"value\":2},\"plot\":null,\"size\":10},\"id\":\"bc7d7816-e7d7-4e62-aa7f-1a2904e741ce\",\"type\":\"OpenHead\"}],\"root_ids\":[\"723c2140-2844-4117-80ed-eae18a3035c5\"]},\"title\":\"Bokeh Application\",\"version\":\"0.12.15\"}};\n",
       "  var render_items = [{\"docid\":\"e4042ed1-aeaa-4d8e-801d-2d63943ad009\",\"elementid\":\"89719b23-96c1-40b6-abc7-26d5abdfe8fb\",\"modelid\":\"723c2140-2844-4117-80ed-eae18a3035c5\"}];\n",
       "  root.Bokeh.embed.embed_items_notebook(docs_json, render_items);\n",
       "\n",
       "  }\n",
       "  if (root.Bokeh !== undefined) {\n",
       "    embed_document(root);\n",
       "  } else {\n",
       "    var attempts = 0;\n",
       "    var timer = setInterval(function(root) {\n",
       "      if (root.Bokeh !== undefined) {\n",
       "        embed_document(root);\n",
       "        clearInterval(timer);\n",
       "      }\n",
       "      attempts++;\n",
       "      if (attempts > 100) {\n",
       "        console.log(\"Bokeh: ERROR: Unable to run BokehJS code because BokehJS library is missing\")\n",
       "        clearInterval(timer);\n",
       "      }\n",
       "    }, 10, root)\n",
       "  }\n",
       "})(window);"
      ],
      "application/vnd.bokehjs_exec.v0+json": ""
     },
     "metadata": {
      "application/vnd.bokehjs_exec.v0+json": {
       "id": "723c2140-2844-4117-80ed-eae18a3035c5"
      }
     },
     "output_type": "display_data"
    }
   ],
   "source": [
    "show(p)"
   ]
  },
  {
   "cell_type": "code",
   "execution_count": null,
   "metadata": {},
   "outputs": [],
   "source": []
  },
  {
   "cell_type": "code",
   "execution_count": null,
   "metadata": {},
   "outputs": [],
   "source": []
  },
  {
   "cell_type": "code",
   "execution_count": null,
   "metadata": {},
   "outputs": [],
   "source": []
  }
 ],
 "metadata": {
  "kernelspec": {
   "display_name": "Python 3",
   "language": "python",
   "name": "python3"
  },
  "language_info": {
   "codemirror_mode": {
    "name": "ipython",
    "version": 3
   },
   "file_extension": ".py",
   "mimetype": "text/x-python",
   "name": "python",
   "nbconvert_exporter": "python",
   "pygments_lexer": "ipython3",
   "version": "3.6.5"
  }
 },
 "nbformat": 4,
 "nbformat_minor": 2
}
