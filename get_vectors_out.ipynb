{
 "cells": [
  {
   "cell_type": "code",
   "execution_count": 1,
   "metadata": {},
   "outputs": [
    {
     "name": "stderr",
     "output_type": "stream",
     "text": [
      "/usr/local/lib/python3.6/site-packages/pykwalify/core.py:99: UnsafeLoaderWarning: \n",
      "The default 'Loader' for 'load(stream)' without further arguments can be unsafe.\n",
      "Use 'load(stream, Loader=ruamel.yaml.Loader)' explicitly if that is OK.\n",
      "Alternatively include the following in your code:\n",
      "\n",
      "  import warnings\n",
      "  warnings.simplefilter('ignore', ruamel.yaml.error.UnsafeLoaderWarning)\n",
      "\n",
      "In most other cases you should consider using 'safe_load(stream)'\n",
      "  data = yaml.load(stream)\n"
     ]
    },
    {
     "name": "stdout",
     "output_type": "stream",
     "text": [
      "INFO:tensorflow:Restoring parameters from models/dialogue_embed/policy_0_EmbeddingPolicy/tensorflow_embedding.ckpt\n"
     ]
    },
    {
     "data": {
      "text/html": [
       "\n",
       "    <div class=\"bk-root\">\n",
       "        <a href=\"https://bokeh.pydata.org\" target=\"_blank\" class=\"bk-logo bk-logo-small bk-logo-notebook\"></a>\n",
       "        <span id=\"96ce7ea9-9e25-4ade-ab52-527082290cde\">Loading BokehJS ...</span>\n",
       "    </div>"
      ]
     },
     "metadata": {},
     "output_type": "execute_result"
    },
    {
     "data": {},
     "metadata": {},
     "output_type": "display_data"
    }
   ],
   "source": [
    "import rasa_core\n",
    "from rasa_core.agent import Agent\n",
    "from bokeh.io import output_notebook\n",
    "agent = Agent.load(\"models/dialogue_embed\")\n",
    "# agent = Agent.load(\"models/dialogue_embed_before_norm_loss\")\n",
    "output_notebook()"
   ]
  },
  {
   "cell_type": "code",
   "execution_count": 2,
   "metadata": {},
   "outputs": [
    {
     "data": {
      "text/plain": [
       "'0.11.3'"
      ]
     },
     "execution_count": 2,
     "metadata": {},
     "output_type": "execute_result"
    }
   ],
   "source": [
    "rasa_core.__version__"
   ]
  },
  {
   "cell_type": "code",
   "execution_count": 3,
   "metadata": {},
   "outputs": [
    {
     "name": "stdout",
     "output_type": "stream",
     "text": [
      "False\n"
     ]
    }
   ],
   "source": [
    "policy = agent.policy_ensemble.policies[0]\n",
    "interpreter = agent.interpreter\n",
    "print(policy.sparse_attention)"
   ]
  },
  {
   "cell_type": "code",
   "execution_count": 4,
   "metadata": {},
   "outputs": [],
   "source": [
    "domain = agent.domain\n"
   ]
  },
  {
   "cell_type": "code",
   "execution_count": 5,
   "metadata": {},
   "outputs": [],
   "source": [
    "from rasa_core.training.structures import StoryGraph\n",
    "from rasa_core.training.dsl import StoryFileReader\n",
    "from rasa_core.trackers import DialogueStateTracker\n",
    "from rasa_core.channels import UserMessage\n",
    "import numpy as np\n",
    "np.set_printoptions(precision=3, suppress=True)\n",
    "\n",
    "def embedding_from_tracker(story, bot=False, predict_only=False):\n",
    "    reader = StoryFileReader(domain, interpreter)\n",
    "    story = story.split('\\n')\n",
    "    story_steps = reader.process_lines(story)\n",
    "#     story_graph = StoryGraph(story_steps)\n",
    "    tracker = DialogueStateTracker(\n",
    "            1,\n",
    "            domain.slots\n",
    "    )\n",
    "    tracker._reset()\n",
    "    for step in story_steps:\n",
    "        events = step.explicit_events(domain)\n",
    "        for event in events[:-1]:\n",
    "            tracker.update(event)\n",
    "\n",
    "    if predict_only:\n",
    "        return policy.predict_action_probabilities(tracker, domain)\n",
    "\n",
    "    data_X = policy.featurizer.create_X([tracker], domain)\n",
    "    session_data = policy._create_tf_session_data(domain, data_X)\n",
    "    all_Y_d_x = np.stack([session_data.all_Y_d for _ in range(session_data.X.shape[0])])\n",
    "    feed_dict={policy.a_in: session_data.X,\n",
    "               policy.b_in: all_Y_d_x,\n",
    "               policy.c_in: session_data.slots,\n",
    "               policy.b_prev_in: session_data.previous_actions,\n",
    "               policy._dialogue_len: session_data.X.shape[1],\n",
    "               policy._x_for_no_intent_in: session_data.x_for_no_intent,\n",
    "               policy._y_for_no_action_in: session_data.y_for_no_action,\n",
    "               policy._y_for_action_listen_in: session_data.y_for_action_listen}\n",
    "\n",
    "    dial_vec = policy.session.run(policy.dial_embed, feed_dict=feed_dict)\n",
    "    bot_vec = policy.session.run(policy.bot_embed, feed_dict=feed_dict)\n",
    "\n",
    "    no_skip_gate = policy.session.run(policy.copy_attn_debug, feed_dict=feed_dict)\n",
    "    attn_embed = policy.session.run(policy.attn_embed, feed_dict=feed_dict)\n",
    "    rnn_embed = policy.session.run(policy.rnn_embed, feed_dict=feed_dict)\n",
    "    probs = policy.session.run(policy.alignment_history, feed_dict=feed_dict)\n",
    "    time_mask = policy.session.run(policy.all_time_masks, feed_dict=feed_dict)\n",
    "    if probs.shape[2] == 2 * probs.shape[1]:\n",
    "        user_probs = probs[0, -1, :int(probs.shape[2]/2)]\n",
    "        bot_probs = probs[0, -1, int(probs.shape[2]/2):]\n",
    "    else:\n",
    "        user_probs = probs[0, -1, :]\n",
    "        bot_probs = []\n",
    "\n",
    "    sims = policy.session.run(policy.sim_op, feed_dict=feed_dict)\n",
    "    if bot is False:\n",
    "        sims1 = policy.predict_action_probabilities(tracker, domain)\n",
    "\n",
    "    del tracker\n",
    "#     print(np.shape(dial_vec))\n",
    "\n",
    "    if bot is False:\n",
    "        return (dial_vec[0,-1,:],\n",
    "                no_skip_gate[0,-1,:],\n",
    "                attn_embed[0,-1,:],\n",
    "                rnn_embed[0,-1,:],\n",
    "                [user_probs, bot_probs, time_mask[0,-1,:]],\n",
    "                sims[0,-1,:],\n",
    "                sims1)\n",
    "    else:\n",
    "        return (dial_vec[0,-1,:],\n",
    "                sims[0,-1,:],\n",
    "                bot_vec[0,-1,:,:])\n",
    "    \n",
    "def make_prediction(story):\n",
    "    dial, sim0, bot = embedding_from_tracker(story, bot=True)\n",
    "    abs_vals = np.array([np.absolute(vec) for vec in bot])\n",
    "    norms = np.apply_along_axis(np.linalg.norm, 1, bot)\n",
    "    sims = np.dot(bot, dial)/norms\n",
    "#     name = domain.action_for_index(np.argmax(sims)).name()\n",
    "#     print(name)\n",
    "    name = domain.action_names[np.argmax(sim0)]\n",
    "#     print(name)\n",
    "#     print('---')\n",
    "#     ids = sim0.argsort()[::-1]\n",
    "#     print(ids)\n",
    "#     print(sims[ids])\n",
    "    return '- ' + name, np.max(sim0)\n",
    "#     print(dial.shape, bot.shape)"
   ]
  },
  {
   "cell_type": "code",
   "execution_count": 6,
   "metadata": {},
   "outputs": [],
   "source": [
    "# print(domain.intents)\n",
    "story_block = \"\"\"* request_hotel\n",
    "    - utter_ask_details\n",
    "* explain\n",
    "    - utter_explain_details_hotel\n",
    "    - utter_ask_details\n",
    "* chitchat\n",
    "    - utter_chitchat\n",
    "    - utter_ask_details\n",
    "* inform{\"enddate\": \"May 26th\"}\n",
    "    - slot{\"enddate\": \"May 26th\"}\n",
    "    - utter_ask_startdate\n",
    "* inform{\"startdate\": \"next week\"}\n",
    "    - slot{\"startdate\": \"next week\"}\n",
    "    - utter_ask_location\n",
    "* correct{\"startdate\": \"next week\"}\n",
    "    - slot{\"startdate\": \"next week\"}\n",
    "    - utter_correct_startdate_hotel\n",
    "    - utter_ask_location\n",
    "* explain\n",
    "    - utter_explain_location_hotel\n",
    "    - utter_ask_location\n",
    "* inform{\"location\": \"rome\"}\n",
    "    - slot{\"location\": \"rome\"}\n",
    "    - utter_ask_price\n",
    "* chitchat\n",
    "    - utter_chitchat\n",
    "    - utter_ask_price\n",
    "* chitchat\n",
    "    - utter_chitchat\n",
    "    - utter_ask_price\n",
    "* chitchat\n",
    "    - utter_chitchat\n",
    "    - utter_ask_price\n",
    "* chitchat\n",
    "    - utter_chitchat\n",
    "    - utter_ask_price\n",
    "* explain\n",
    "    - utter_explain_price_hotel\n",
    "    - utter_ask_price\n",
    "* inform{\"price\": \"expensive\"}\n",
    "    - utter_ask_people\n",
    "* inform{\"people\": \"4\"}\n",
    "    - utter_filled_slots\n",
    "    - utter_search_hotel\n",
    "    - slot{\"hotel\": \"hotel\"}\n",
    "    - utter_suggest_hotel\n",
    "* chitchat\n",
    "    - utter_chitchat\n",
    "    - utter_suggest_hotel\n",
    "* affirm\n",
    "    - utter_happy\"\"\""
   ]
  },
  {
   "cell_type": "code",
   "execution_count": 7,
   "metadata": {},
   "outputs": [],
   "source": [
    "# story_block = \"\"\"* request_hotel\n",
    "#     - utter_ask_details\n",
    "# * inform{\"people\": \"4\"}\n",
    "#     - slot{\"people\": \"4\"}\n",
    "#     - utter_ask_location\n",
    "# * correct{\"people\": \"2\"}\n",
    "#     - slot{\"people\": \"2\"}\n",
    "#     - utter_correct_people_hotel\n",
    "#     - utter_ask_location\n",
    "# * chitchat\n",
    "#     - utter_chitchat\n",
    "#     - utter_ask_location\n",
    "# * inform{\"location\": \"rome\"}\n",
    "#     - slot{\"location\": \"rome\"}\n",
    "#     - utter_ask_price\n",
    "# * inform{\"price\": \"expensive\"}\n",
    "#     - slot{\"price\": \"expensive\"}\n",
    "#     - utter_ask_startdate\n",
    "# * inform{\"startdate\": \"next week\", \"enddate\": \"tomorrow\"}\n",
    "#     - slot{\"startdate\": \"next week\"}\n",
    "#     - slot{\"enddate\": \"tomorrow\"}\n",
    "#     - utter_filled_slots\n",
    "#     - utter_search_hotel\n",
    "#     - slot{\"hotel\": \"hotel\"}\n",
    "#     - utter_suggest_hotel\n",
    "# * correct{\"enddate\": \"May 26th\"}\n",
    "#     - slot{\"enddate\": \"May 26th\"}\n",
    "#     - utter_correct_enddate_hotel\n",
    "#     - utter_search_hotel\n",
    "#     - slot{\"hotel\": \"hotel\"}\n",
    "#     - utter_suggest_hotel\n",
    "# * correct{\"location\": \"rome\"}\n",
    "#     - slot{\"location\": \"rome\"}\n",
    "#     - utter_correct_location_hotel\n",
    "#     - utter_search_hotel\n",
    "#     - slot{\"hotel\": \"hotel\"}\n",
    "#     - utter_suggest_hotel\n",
    "# * did_that_work\n",
    "#     - utter_worked_hotel\n",
    "#     - utter_suggest_hotel\n",
    "# * affirm\n",
    "#     - utter_happy\n",
    "# * chitchat\"\"\""
   ]
  },
  {
   "cell_type": "code",
   "execution_count": 8,
   "metadata": {},
   "outputs": [],
   "source": [
    "# story_block = \"\"\"* request_hotel\n",
    "#     - utter_ask_details\n",
    "# * inform{\"people\": \"2\"}\n",
    "#     - slot{\"people\": \"2\"}\n",
    "#     - utter_ask_location\n",
    "# * correct{\"people\": \"2\"}\n",
    "#     - slot{\"people\": \"2\"}\n",
    "#     - utter_correct_people_hotel\n",
    "#     - utter_ask_location\n",
    "# * explain\n",
    "#     - utter_explain_location_hotel\n",
    "#     - utter_ask_location\n",
    "# * inform{\"location\": \"paris\"}\n",
    "#     - utter_ask_price\n",
    "# * inform{\"price\": \"expensive\"}\n",
    "#     - utter_ask_startdate\n",
    "# * inform{\"startdate\": \"10.03.2018\"}\n",
    "#     - utter_ask_enddate\n",
    "# * explain\n",
    "#     - utter_explain_enddate_hotel\n",
    "#     - utter_ask_enddate\n",
    "# * explain\n",
    "#     - utter_explain_enddate_hotel\n",
    "#     - utter_ask_enddate\n",
    "# * explain\n",
    "#     - utter_explain_enddate_hotel\n",
    "#     - utter_ask_enddate\n",
    "# * explain\n",
    "#     - utter_explain_enddate_hotel\n",
    "#     - utter_ask_enddate\n",
    "# * did_that_work\n",
    "#     - utter_more_info_hotel\n",
    "#     - utter_ask_enddate\n",
    "# * inform{\"enddate\": \"10.03.2018\"}\n",
    "#     - utter_filled_slots\n",
    "#     - utter_search_hotel\n",
    "#     - slot{\"hotel\": \"hotel\"}\n",
    "#     - utter_suggest_hotel\n",
    "# * did_that_work\n",
    "#     - utter_worked_hotel\n",
    "#     - utter_suggest_hotel\n",
    "# * affirm\n",
    "#     - utter_happy\n",
    "# \"\"\""
   ]
  },
  {
   "cell_type": "code",
   "execution_count": 9,
   "metadata": {},
   "outputs": [
    {
     "name": "stdout",
     "output_type": "stream",
     "text": [
      "51\n",
      "29\n"
     ]
    }
   ],
   "source": [
    "print(len(story_block.split('\\n')))\n",
    "cool_list = []\n",
    "lines = story_block.split('\\n')\n",
    "for idx, line in enumerate(lines):\n",
    "    if idx == len(lines)-1:\n",
    "        continue\n",
    "    if '*' in lines[idx+1] or 'slot{' in lines[idx+1]:\n",
    "#     if 'slot{' in lines[idx+1]:\n",
    "        continue\n",
    "    sub_story = '\\n'.join(lines[:idx+1])\n",
    "    (dial, not_skip, attn, rnn, probs, sims, sims1\n",
    "    ) = embedding_from_tracker(\"#generate story\\n{}\".format(sub_story))\n",
    "#     print(np.max(sims), np.max(sims1))\n",
    "\n",
    "    pred, sim = make_prediction(\"#generate story\\n{}\".format(sub_story))\n",
    "    cool_list.append((lines[idx+1].strip(), dial, (pred, sim, sims), not_skip, attn[-20:], rnn,\n",
    "                      probs))\n",
    "#     embedding_from_tracker(\"#generate story\\n{}\".format(sub_story), predict_only=True)\n",
    "\n",
    "print(len(cool_list))\n",
    "# print(cool_list[0][4].shape)\n",
    "#     break\n",
    "# dial = embedding_from_tracker(\"#generate story\\n{}\".format(story_block)\n",
    "# )\n",
    "# print(dial.shape)\n",
    "# print(len(story_block.split('\\n')))\n",
    "# print(probs[0, 6, :])"
   ]
  },
  {
   "cell_type": "code",
   "execution_count": 27,
   "metadata": {},
   "outputs": [
    {
     "data": {
      "text/plain": [
       "('- utter_ask_price',\n",
       " array([ 0.03 ,  0.114,  0.017,  0.023,  0.226, -0.034, -0.236, -0.225,\n",
       "         0.147, -0.022, -0.126,  0.03 ,  0.064, -0.17 , -0.187,  0.129,\n",
       "         0.14 ,  0.033,  0.091, -0.05 ], dtype=float32),\n",
       " ('- utter_ask_price',\n",
       "  0.9768699,\n",
       "  array([-0.035, -0.045, -0.053, -0.016,  0.112,  0.06 ,  0.977, -0.128,\n",
       "         -0.002, -0.052, -0.311, -0.07 , -0.02 , -0.032, -0.421, -0.301,\n",
       "         -0.408, -0.384, -0.278, -0.363, -0.264, -0.028, -0.054, -0.458,\n",
       "         -0.28 ,  0.017, -0.057, -0.054, -0.035,  0.046, -0.458, -0.314,\n",
       "         -0.307, -0.021, -0.055, -0.433, -0.299, -0.548, -0.488,  0.001,\n",
       "         -0.06 , -0.049,  0.044], dtype=float32)),\n",
       " array([0.999, 0.977, 0.   , 1.   , 0.   ], dtype=float32),\n",
       " array([ 0.03 ,  0.074,  0.025,  0.013,  0.179, -0.045, -0.191, -0.156,\n",
       "         0.136, -0.004, -0.1  , -0.035,  0.008, -0.13 , -0.144,  0.116,\n",
       "         0.12 ,  0.032,  0.074,  0.016], dtype=float32),\n",
       " array([ 0.001,  0.04 , -0.008,  0.009,  0.047,  0.011, -0.045, -0.069,\n",
       "         0.012, -0.018, -0.026,  0.065,  0.056, -0.04 , -0.043,  0.013,\n",
       "         0.019,  0.001,  0.017, -0.066], dtype=float32),\n",
       " [array([0.   , 0.043, 0.   , 0.   , 0.   , 0.   , 0.   , 0.   , 0.   ,\n",
       "         0.061, 0.   , 0.085, 0.   , 0.   , 0.   , 0.   , 0.   , 0.   ,\n",
       "         0.   , 0.087, 0.   , 0.214, 0.509], dtype=float32),\n",
       "  array([0.   , 0.   , 0.   , 0.   , 0.   , 0.   , 0.   , 0.   , 0.016,\n",
       "         0.   , 0.024, 0.   , 0.   , 0.   , 0.   , 0.   , 0.   , 0.   ,\n",
       "         0.036, 0.   , 0.869, 0.   , 0.056], dtype=float32),\n",
       "  array([1, 1, 0, 0, 0, 0, 0, 0, 1, 1, 1, 1, 0, 0, 0, 0, 0, 0, 1, 1, 1, 1,\n",
       "         0], dtype=int32)])"
      ]
     },
     "execution_count": 27,
     "metadata": {},
     "output_type": "execute_result"
    }
   ],
   "source": [
    "import copy\n",
    "\n",
    "# cool_list0 = copy.deepcopy(cool_list)\n",
    "cool_list[13]"
   ]
  },
  {
   "cell_type": "code",
   "execution_count": 28,
   "metadata": {},
   "outputs": [
    {
     "data": {
      "text/plain": [
       "('- utter_ask_price',\n",
       " array([ 0.032,  0.112,  0.016,  0.022,  0.225, -0.033, -0.233, -0.223,\n",
       "         0.147, -0.022, -0.125,  0.038,  0.064, -0.169, -0.183,  0.121,\n",
       "         0.135,  0.033,  0.091, -0.056], dtype=float32),\n",
       " ('- utter_ask_price',\n",
       "  0.9728898,\n",
       "  array([-0.022, -0.047, -0.059, -0.015,  0.121,  0.067,  0.973, -0.136,\n",
       "         -0.005, -0.059, -0.318, -0.078, -0.019, -0.032, -0.423, -0.308,\n",
       "         -0.41 , -0.382, -0.281, -0.36 , -0.267, -0.029, -0.06 , -0.461,\n",
       "         -0.284,  0.022, -0.063, -0.06 , -0.041,  0.044, -0.456, -0.319,\n",
       "         -0.313, -0.025, -0.063, -0.431, -0.304, -0.554, -0.492, -0.002,\n",
       "         -0.069, -0.056,  0.05 ], dtype=float32)),\n",
       " array([0.998, 0.973, 0.   , 1.   , 0.   ], dtype=float32),\n",
       " array([ 0.027,  0.07 ,  0.025,  0.012,  0.176, -0.043, -0.186, -0.15 ,\n",
       "         0.132, -0.005, -0.097, -0.035,  0.004, -0.128, -0.138,  0.112,\n",
       "         0.118,  0.031,  0.073,  0.016], dtype=float32),\n",
       " array([ 0.005,  0.042, -0.008,  0.01 ,  0.049,  0.01 , -0.047, -0.073,\n",
       "         0.015, -0.017, -0.028,  0.073,  0.059, -0.041, -0.045,  0.009,\n",
       "         0.017,  0.002,  0.018, -0.072], dtype=float32),\n",
       " [array([0.   , 0.045, 0.   , 0.   , 0.   , 0.   , 0.   , 0.   , 0.   ,\n",
       "         0.063, 0.   , 0.089, 0.   , 0.   , 0.   , 0.   , 0.   , 0.   ,\n",
       "         0.   , 0.097, 0.   , 0.   , 0.   , 0.   , 0.   , 0.   , 0.   ,\n",
       "         0.   , 0.   , 0.   , 0.206, 0.5  ], dtype=float32),\n",
       "  array([0.   , 0.   , 0.   , 0.   , 0.   , 0.   , 0.   , 0.   , 0.019,\n",
       "         0.   , 0.03 , 0.   , 0.   , 0.   , 0.   , 0.   , 0.   , 0.   ,\n",
       "         0.042, 0.   , 0.   , 0.   , 0.   , 0.   , 0.   , 0.   , 0.   ,\n",
       "         0.   , 0.   , 0.843, 0.   , 0.066], dtype=float32),\n",
       "  array([1, 1, 0, 0, 0, 0, 0, 0, 1, 1, 1, 1, 0, 0, 0, 0, 0, 0, 1, 1, 0, 0,\n",
       "         0, 0, 0, 0, 0, 0, 0, 1, 1, 0], dtype=int32)])"
      ]
     },
     "execution_count": 28,
     "metadata": {},
     "output_type": "execute_result"
    }
   ],
   "source": [
    "# cool_list1= copy.deepcopy(cool_list)\n",
    "cool_list[19]"
   ]
  },
  {
   "cell_type": "code",
   "execution_count": 12,
   "metadata": {},
   "outputs": [
    {
     "data": {
      "text/plain": [
       "[<matplotlib.lines.Line2D at 0x11f8da240>]"
      ]
     },
     "execution_count": 12,
     "metadata": {},
     "output_type": "execute_result"
    }
   ],
   "source": [
    "import matplotlib.pyplot as plt\n",
    "plt.plot(cool_list[15][-2], marker='x')"
   ]
  },
  {
   "cell_type": "code",
   "execution_count": 13,
   "metadata": {},
   "outputs": [
    {
     "data": {
      "text/plain": [
       "[<matplotlib.lines.Line2D at 0x11fb32cc0>]"
      ]
     },
     "execution_count": 13,
     "metadata": {},
     "output_type": "execute_result"
    },
    {
     "data": {
      "image/png": "[encoded data removed]",
      "text/plain": [
       "<matplotlib.figure.Figure at 0x11f8b88d0>"
      ]
     },
     "metadata": {},
     "output_type": "display_data"
    }
   ],
   "source": [
    "plt.plot(cool_list[19][-2], marker='x')"
   ]
  },
  {
   "cell_type": "code",
   "execution_count": null,
   "metadata": {},
   "outputs": [],
   "source": []
  },
  {
   "cell_type": "code",
   "execution_count": null,
   "metadata": {},
   "outputs": [],
   "source": []
  },
  {
   "cell_type": "code",
   "execution_count": 14,
   "metadata": {},
   "outputs": [],
   "source": [
    "from sklearn.decomposition import PCA"
   ]
  },
  {
   "cell_type": "code",
   "execution_count": 15,
   "metadata": {},
   "outputs": [],
   "source": [
    "pca = PCA(n_components=2)\n",
    "X = pca.fit_transform([ting[1] for ting in cool_list])"
   ]
  },
  {
   "cell_type": "code",
   "execution_count": 16,
   "metadata": {},
   "outputs": [],
   "source": [
    "from bokeh.plotting import figure, show\n",
    "import matplotlib.pyplot as plt"
   ]
  },
  {
   "cell_type": "code",
   "execution_count": 17,
   "metadata": {},
   "outputs": [],
   "source": [
    "embed_dim = cool_list[0][1].shape[0]\n"
   ]
  },
  {
   "cell_type": "code",
   "execution_count": 18,
   "metadata": {},
   "outputs": [
    {
     "data": {
      "text/html": [
       "<div style=\"display: table;\"><div style=\"display: table-row;\"><div style=\"display: table-cell;\"><b title=\"bokeh.models.renderers.GlyphRenderer\">GlyphRenderer</b>(</div><div style=\"display: table-cell;\">id&nbsp;=&nbsp;'2be95b67-6548-4bda-95d8-5fdbd2ada276', <span id=\"6dbc6117-881e-4faa-a904-d5e687bc0ff9\" style=\"cursor: pointer;\">&hellip;)</span></div></div><div class=\"b492b27a-b0b2-4990-b6a8-4e655f81561e\" style=\"display: none;\"><div style=\"display: table-cell;\"></div><div style=\"display: table-cell;\">data_source&nbsp;=&nbsp;ColumnDataSource(id='d8c62c8f-5556-4446-9a58-fcf8ea3a5462', ...),</div></div><div class=\"b492b27a-b0b2-4990-b6a8-4e655f81561e\" style=\"display: none;\"><div style=\"display: table-cell;\"></div><div style=\"display: table-cell;\">glyph&nbsp;=&nbsp;Circle(id='06a060b9-a8b4-444d-b240-57942dc273b6', ...),</div></div><div class=\"b492b27a-b0b2-4990-b6a8-4e655f81561e\" style=\"display: none;\"><div style=\"display: table-cell;\"></div><div style=\"display: table-cell;\">hover_glyph&nbsp;=&nbsp;None,</div></div><div class=\"b492b27a-b0b2-4990-b6a8-4e655f81561e\" style=\"display: none;\"><div style=\"display: table-cell;\"></div><div style=\"display: table-cell;\">js_event_callbacks&nbsp;=&nbsp;{},</div></div><div class=\"b492b27a-b0b2-4990-b6a8-4e655f81561e\" style=\"display: none;\"><div style=\"display: table-cell;\"></div><div style=\"display: table-cell;\">js_property_callbacks&nbsp;=&nbsp;{},</div></div><div class=\"b492b27a-b0b2-4990-b6a8-4e655f81561e\" style=\"display: none;\"><div style=\"display: table-cell;\"></div><div style=\"display: table-cell;\">level&nbsp;=&nbsp;'glyph',</div></div><div class=\"b492b27a-b0b2-4990-b6a8-4e655f81561e\" style=\"display: none;\"><div style=\"display: table-cell;\"></div><div style=\"display: table-cell;\">muted&nbsp;=&nbsp;False,</div></div><div class=\"b492b27a-b0b2-4990-b6a8-4e655f81561e\" style=\"display: none;\"><div style=\"display: table-cell;\"></div><div style=\"display: table-cell;\">muted_glyph&nbsp;=&nbsp;None,</div></div><div class=\"b492b27a-b0b2-4990-b6a8-4e655f81561e\" style=\"display: none;\"><div style=\"display: table-cell;\"></div><div style=\"display: table-cell;\">name&nbsp;=&nbsp;None,</div></div><div class=\"b492b27a-b0b2-4990-b6a8-4e655f81561e\" style=\"display: none;\"><div style=\"display: table-cell;\"></div><div style=\"display: table-cell;\">nonselection_glyph&nbsp;=&nbsp;Circle(id='cc6bab6f-a58c-42d2-a52f-5b3a6dd75b6b', ...),</div></div><div class=\"b492b27a-b0b2-4990-b6a8-4e655f81561e\" style=\"display: none;\"><div style=\"display: table-cell;\"></div><div style=\"display: table-cell;\">selection_glyph&nbsp;=&nbsp;None,</div></div><div class=\"b492b27a-b0b2-4990-b6a8-4e655f81561e\" style=\"display: none;\"><div style=\"display: table-cell;\"></div><div style=\"display: table-cell;\">subscribed_events&nbsp;=&nbsp;[],</div></div><div class=\"b492b27a-b0b2-4990-b6a8-4e655f81561e\" style=\"display: none;\"><div style=\"display: table-cell;\"></div><div style=\"display: table-cell;\">tags&nbsp;=&nbsp;[],</div></div><div class=\"b492b27a-b0b2-4990-b6a8-4e655f81561e\" style=\"display: none;\"><div style=\"display: table-cell;\"></div><div style=\"display: table-cell;\">view&nbsp;=&nbsp;CDSView(id='c09fed32-5220-4aa7-80b5-2f4240ec7ded', ...),</div></div><div class=\"b492b27a-b0b2-4990-b6a8-4e655f81561e\" style=\"display: none;\"><div style=\"display: table-cell;\"></div><div style=\"display: table-cell;\">visible&nbsp;=&nbsp;True,</div></div><div class=\"b492b27a-b0b2-4990-b6a8-4e655f81561e\" style=\"display: none;\"><div style=\"display: table-cell;\"></div><div style=\"display: table-cell;\">x_range_name&nbsp;=&nbsp;'default',</div></div><div class=\"b492b27a-b0b2-4990-b6a8-4e655f81561e\" style=\"display: none;\"><div style=\"display: table-cell;\"></div><div style=\"display: table-cell;\">y_range_name&nbsp;=&nbsp;'default')</div></div></div>\n",
       "<script>\n",
       "(function() {\n",
       "  var expanded = false;\n",
       "  var ellipsis = document.getElementById(\"6dbc6117-881e-4faa-a904-d5e687bc0ff9\");\n",
       "  ellipsis.addEventListener(\"click\", function() {\n",
       "    var rows = document.getElementsByClassName(\"b492b27a-b0b2-4990-b6a8-4e655f81561e\");\n",
       "    for (var i = 0; i < rows.length; i++) {\n",
       "      var el = rows[i];\n",
       "      el.style.display = expanded ? \"none\" : \"table-row\";\n",
       "    }\n",
       "    ellipsis.innerHTML = expanded ? \"&hellip;)\" : \"&lsaquo;&lsaquo;&lsaquo;\";\n",
       "    expanded = !expanded;\n",
       "  });\n",
       "})();\n",
       "</script>\n"
      ],
      "text/plain": [
       "bokeh.models.renderers.GlyphRenderer(\n",
       "    id='2be95b67-6548-4bda-95d8-5fdbd2ada276',\n",
       "    data_source=bokeh.models.sources.ColumnDataSource(\n",
       "        id='d8c62c8f-5556-4446-9a58-fcf8ea3a5462',\n",
       "        callback=None,\n",
       "        data={},\n",
       "        js_event_callbacks={},\n",
       "        js_property_callbacks={},\n",
       "        name=None,\n",
       "        selected=bokeh.models.selections.Selection(\n",
       "            id='eff068bb-4b37-4b01-9d71-def12fcdedf2',\n",
       "            indices=[],\n",
       "            js_event_callbacks={},\n",
       "            js_property_callbacks={},\n",
       "            line_indices=[],\n",
       "            multiline_indices={},\n",
       "            name=None,\n",
       "            subscribed_events=[],\n",
       "            tags=[]),\n",
       "        selection_policy=bokeh.models.selections.UnionRenderers(\n",
       "            id='2bea6543-25ee-4194-945e-3828794599ce',\n",
       "            js_event_callbacks={},\n",
       "            js_property_callbacks={},\n",
       "            name=None,\n",
       "            subscribed_events=[],\n",
       "            tags=[]),\n",
       "        subscribed_events=[],\n",
       "        tags=[]),\n",
       "    glyph=bokeh.models.markers.Circle(\n",
       "        id='06a060b9-a8b4-444d-b240-57942dc273b6',\n",
       "        angle={'value': 0.0, 'units': 'rad'},\n",
       "        fill_alpha={'value': 1.0},\n",
       "        fill_color={'value': 'red'},\n",
       "        js_event_callbacks={},\n",
       "        js_property_callbacks={},\n",
       "        line_alpha={'value': 1.0},\n",
       "        line_cap='butt',\n",
       "        line_color={'value': 'red'},\n",
       "        line_dash=[],\n",
       "        line_dash_offset=0,\n",
       "        line_join='bevel',\n",
       "        line_width={'value': 1},\n",
       "        name=None,\n",
       "        radius=None,\n",
       "        radius_dimension='x',\n",
       "        size={'value': 10, 'units': 'screen'},\n",
       "        subscribed_events=[],\n",
       "        tags=[],\n",
       "        x={'value': 0.016664560447179545},\n",
       "        y={'value': -0.11642191681527095}),\n",
       "    hover_glyph=None,\n",
       "    js_event_callbacks={},\n",
       "    js_property_callbacks={},\n",
       "    level='glyph',\n",
       "    muted=False,\n",
       "    muted_glyph=None,\n",
       "    name=None,\n",
       "    nonselection_glyph=bokeh.models.markers.Circle(\n",
       "        id='cc6bab6f-a58c-42d2-a52f-5b3a6dd75b6b',\n",
       "        angle={'value': 0.0, 'units': 'rad'},\n",
       "        fill_alpha={'value': 0.1},\n",
       "        fill_color={'value': '#1f77b4'},\n",
       "        js_event_callbacks={},\n",
       "        js_property_callbacks={},\n",
       "        line_alpha={'value': 0.1},\n",
       "        line_cap='butt',\n",
       "        line_color={'value': '#1f77b4'},\n",
       "        line_dash=[],\n",
       "        line_dash_offset=0,\n",
       "        line_join='bevel',\n",
       "        line_width={'value': 1},\n",
       "        name=None,\n",
       "        radius=None,\n",
       "        radius_dimension='x',\n",
       "        size={'value': 10, 'units': 'screen'},\n",
       "        subscribed_events=[],\n",
       "        tags=[],\n",
       "        x={'value': 0.016664560447179545},\n",
       "        y={'value': -0.11642191681527095}),\n",
       "    selection_glyph=None,\n",
       "    subscribed_events=[],\n",
       "    tags=[],\n",
       "    view=bokeh.models.sources.CDSView(\n",
       "        id='c09fed32-5220-4aa7-80b5-2f4240ec7ded',\n",
       "        filters=[],\n",
       "        js_event_callbacks={},\n",
       "        js_property_callbacks={},\n",
       "        name=None,\n",
       "        source=bokeh.models.sources.ColumnDataSource(\n",
       "            id='d8c62c8f-5556-4446-9a58-fcf8ea3a5462',\n",
       "            callback=None,\n",
       "            data={},\n",
       "            js_event_callbacks={},\n",
       "            js_property_callbacks={},\n",
       "            name=None,\n",
       "            selected=bokeh.models.selections.Selection(\n",
       "                id='eff068bb-4b37-4b01-9d71-def12fcdedf2',\n",
       "                indices=[],\n",
       "                js_event_callbacks={},\n",
       "                js_property_callbacks={},\n",
       "                line_indices=[],\n",
       "                multiline_indices={},\n",
       "                name=None,\n",
       "                subscribed_events=[],\n",
       "                tags=[]),\n",
       "            selection_policy=bokeh.models.selections.UnionRenderers(\n",
       "                id='2bea6543-25ee-4194-945e-3828794599ce',\n",
       "                js_event_callbacks={},\n",
       "                js_property_callbacks={},\n",
       "                name=None,\n",
       "                subscribed_events=[],\n",
       "                tags=[]),\n",
       "            subscribed_events=[],\n",
       "            tags=[]),\n",
       "        subscribed_events=[],\n",
       "        tags=[]),\n",
       "    visible=True,\n",
       "    x_range_name='default',\n",
       "    y_range_name='default')"
      ]
     },
     "execution_count": 18,
     "metadata": {},
     "output_type": "execute_result"
    }
   ],
   "source": [
    "from bokeh.plotting import figure, output_file, show, ColumnDataSource\n",
    "from bokeh.models import HoverTool, Arrow, OpenHead\n",
    "\n",
    "hover = HoverTool(tooltips=[(\"true action\",\"@desc\"), (\"prediction\", \"@pred\"),\n",
    "                            (\"not_skip_gate\", \"@not_skip\")],names=['circle'])\n",
    "p = figure( tools=[hover])\n",
    "\n",
    "for i in range(1, len(X)):\n",
    "    p.add_layout(Arrow(end=OpenHead(line_color=\"firebrick\", size=10, line_width=2),\n",
    "                       x_start=X[i-1,0], y_start=X[i-1,1],\n",
    "                       x_end=X[i,0], y_end=X[i,1], line_color='gray'))\n",
    "\n",
    "source = ColumnDataSource(data=dict(\n",
    "    x=X[:,0],\n",
    "    y=X[:,1],\n",
    "    desc=[ting[0] for ting in cool_list],\n",
    "    pred = [ting[2][0] for ting in cool_list],\n",
    "    not_skip = [ting[3][-1] for ting in cool_list]\n",
    "))\n",
    "p.circle('x','y', source=source, size=10, name='circle')\n",
    "# p.line(X[:,0], X[:,1])\n",
    "\n",
    "X1 = pca.transform([ting[4] for ting in cool_list])\n",
    "source = ColumnDataSource(data=dict(\n",
    "    x=X1[:,0],\n",
    "    y=X1[:,1],\n",
    "    desc=[ting[0] for ting in cool_list],\n",
    "    pred = [ting[2][0] for ting in cool_list],\n",
    "    not_skip = [ting[3][-1] for ting in cool_list]\n",
    "))\n",
    "p.circle('x','y', source=source, size=5, color='green', name='circle')\n",
    "\n",
    "X2 = pca.transform([ting[5] for ting in cool_list])\n",
    "source = ColumnDataSource(data=dict(\n",
    "    x=X2[:,0],\n",
    "    y=X2[:,1],\n",
    "    desc=[ting[0] for ting in cool_list],\n",
    "    pred = [ting[2][0] for ting in cool_list],\n",
    "    not_skip = [ting[3][-1] for ting in cool_list]\n",
    "))\n",
    "p.circle('x','y', source=source, size=5, color='red', name='circle')\n",
    "\n",
    "x = pca.transform(np.zeros((1,embed_dim)))\n",
    "p.circle(x[0,0], x[0,1], size=5, color='magenta')\n",
    "p.circle(X[0,0], X[0,1], size=10, color='green')\n",
    "p.circle(X[-1,0], X[-1,1], size=10, color='red')\n"
   ]
  },
  {
   "cell_type": "code",
   "execution_count": 19,
   "metadata": {
    "scrolled": false
   },
   "outputs": [
    {
     "data": {
      "text/html": [
       "\n",
       "\n",
       "\n",
       "\n",
       "\n",
       "\n",
       "  <div class=\"bk-root\" id=\"5c1b76e7-93ad-43ec-a4f0-742a9a255a16\"></div>\n"
      ]
     },
     "metadata": {},
     "output_type": "execute_result"
    },
    {
     "data": {},
     "metadata": {
      "application/vnd.bokehjs_exec.v0+json": {
       "id": "1c16563a-52f3-4215-8c2e-3ad8515e5396"
      }
     },
     "output_type": "display_data"
    }
   ],
   "source": [
    "show(p)"
   ]
  },
  {
   "cell_type": "code",
   "execution_count": null,
   "metadata": {},
   "outputs": [],
   "source": []
  },
  {
   "cell_type": "code",
   "execution_count": 18,
   "metadata": {},
   "outputs": [
    {
     "name": "stdout",
     "output_type": "stream",
     "text": [
      "utter_ask_price --> 6\n",
      "utter_ask_details --> 28\n",
      "utter_ask_people --> 4\n",
      "utter_explain_details_hotel --> 14\n",
      "utter_explain_people_hotel --> 19\n",
      "utter_explain_price_hotel --> 21\n",
      "utter_ask_location --> 5\n",
      "utter_explain_location_hotel --> 17\n",
      "utter_ask_startdate --> 7\n",
      "utter_suggest_hotel --> 12\n",
      "action_search_hotel --> 42\n",
      "action_listen --> 0\n"
     ]
    }
   ],
   "source": [
    "print('utter_ask_price', '-->', domain.index_for_action('utter_ask_price'))\n",
    "print('utter_ask_details', '-->', domain.index_for_action('utter_ask_details'))\n",
    "print('utter_ask_people', '-->', domain.index_for_action('utter_ask_people'))\n",
    "print('utter_explain_details_hotel', '-->', domain.index_for_action('utter_explain_details_hotel'))\n",
    "print('utter_explain_people_hotel', '-->', domain.index_for_action('utter_explain_people_hotel'))\n",
    "print('utter_explain_price_hotel', '-->', domain.index_for_action('utter_explain_price_hotel'))\n",
    "print('utter_ask_location', '-->', domain.index_for_action('utter_ask_location'))\n",
    "print('utter_explain_location_hotel', '-->', domain.index_for_action('utter_explain_location_hotel'))\n",
    "print('utter_ask_startdate', '-->', domain.index_for_action('utter_ask_startdate'))\n",
    "print('utter_suggest_hotel', '-->', domain.index_for_action('utter_suggest_hotel'))\n",
    "print('action_search_hotel', '-->', domain.index_for_action('action_search_hotel'))\n",
    "print('action_listen', '-->', domain.index_for_action('action_listen'))"
   ]
  },
  {
   "cell_type": "code",
   "execution_count": 19,
   "metadata": {},
   "outputs": [
    {
     "data": {
      "text/plain": [
       "(20,)"
      ]
     },
     "execution_count": 19,
     "metadata": {},
     "output_type": "execute_result"
    }
   ],
   "source": [
    "utter_price = embedding_from_tracker(\"#generate story\\n{}\".format(story_block), bot=True)[0,-1,5,:]\n",
    "utter_price.shape"
   ]
  },
  {
   "cell_type": "code",
   "execution_count": 20,
   "metadata": {},
   "outputs": [
    {
     "name": "stdout",
     "output_type": "stream",
     "text": [
      "(20,)\n"
     ]
    },
    {
     "data": {
      "text/html": [
       "<div style=\"display: table;\"><div style=\"display: table-row;\"><div style=\"display: table-cell;\"><b title=\"bokeh.models.renderers.GlyphRenderer\">GlyphRenderer</b>(</div><div style=\"display: table-cell;\">id&nbsp;=&nbsp;'1db745d9-cfee-44a7-8a51-a238a358f252', <span id=\"39a24e62-01d3-478d-97b4-067e18601781\" style=\"cursor: pointer;\">&hellip;)</span></div></div><div class=\"cb057124-66eb-4d3b-8bd8-dddcd76cabb6\" style=\"display: none;\"><div style=\"display: table-cell;\"></div><div style=\"display: table-cell;\">data_source&nbsp;=&nbsp;ColumnDataSource(id='f011c53f-e8a7-4c7c-9830-ff8fdc912a23', ...),</div></div><div class=\"cb057124-66eb-4d3b-8bd8-dddcd76cabb6\" style=\"display: none;\"><div style=\"display: table-cell;\"></div><div style=\"display: table-cell;\">glyph&nbsp;=&nbsp;Circle(id='dc8dc1af-cea4-493b-8c6c-d8fcbf8d1706', ...),</div></div><div class=\"cb057124-66eb-4d3b-8bd8-dddcd76cabb6\" style=\"display: none;\"><div style=\"display: table-cell;\"></div><div style=\"display: table-cell;\">hover_glyph&nbsp;=&nbsp;None,</div></div><div class=\"cb057124-66eb-4d3b-8bd8-dddcd76cabb6\" style=\"display: none;\"><div style=\"display: table-cell;\"></div><div style=\"display: table-cell;\">js_event_callbacks&nbsp;=&nbsp;{},</div></div><div class=\"cb057124-66eb-4d3b-8bd8-dddcd76cabb6\" style=\"display: none;\"><div style=\"display: table-cell;\"></div><div style=\"display: table-cell;\">js_property_callbacks&nbsp;=&nbsp;{},</div></div><div class=\"cb057124-66eb-4d3b-8bd8-dddcd76cabb6\" style=\"display: none;\"><div style=\"display: table-cell;\"></div><div style=\"display: table-cell;\">level&nbsp;=&nbsp;'glyph',</div></div><div class=\"cb057124-66eb-4d3b-8bd8-dddcd76cabb6\" style=\"display: none;\"><div style=\"display: table-cell;\"></div><div style=\"display: table-cell;\">muted&nbsp;=&nbsp;False,</div></div><div class=\"cb057124-66eb-4d3b-8bd8-dddcd76cabb6\" style=\"display: none;\"><div style=\"display: table-cell;\"></div><div style=\"display: table-cell;\">muted_glyph&nbsp;=&nbsp;None,</div></div><div class=\"cb057124-66eb-4d3b-8bd8-dddcd76cabb6\" style=\"display: none;\"><div style=\"display: table-cell;\"></div><div style=\"display: table-cell;\">name&nbsp;=&nbsp;None,</div></div><div class=\"cb057124-66eb-4d3b-8bd8-dddcd76cabb6\" style=\"display: none;\"><div style=\"display: table-cell;\"></div><div style=\"display: table-cell;\">nonselection_glyph&nbsp;=&nbsp;Circle(id='00d5c32d-1a28-4324-b511-c6c84bae9453', ...),</div></div><div class=\"cb057124-66eb-4d3b-8bd8-dddcd76cabb6\" style=\"display: none;\"><div style=\"display: table-cell;\"></div><div style=\"display: table-cell;\">selection_glyph&nbsp;=&nbsp;None,</div></div><div class=\"cb057124-66eb-4d3b-8bd8-dddcd76cabb6\" style=\"display: none;\"><div style=\"display: table-cell;\"></div><div style=\"display: table-cell;\">subscribed_events&nbsp;=&nbsp;[],</div></div><div class=\"cb057124-66eb-4d3b-8bd8-dddcd76cabb6\" style=\"display: none;\"><div style=\"display: table-cell;\"></div><div style=\"display: table-cell;\">tags&nbsp;=&nbsp;[],</div></div><div class=\"cb057124-66eb-4d3b-8bd8-dddcd76cabb6\" style=\"display: none;\"><div style=\"display: table-cell;\"></div><div style=\"display: table-cell;\">view&nbsp;=&nbsp;CDSView(id='ed67240e-ca62-4683-b5a8-428e01fd79d3', ...),</div></div><div class=\"cb057124-66eb-4d3b-8bd8-dddcd76cabb6\" style=\"display: none;\"><div style=\"display: table-cell;\"></div><div style=\"display: table-cell;\">visible&nbsp;=&nbsp;True,</div></div><div class=\"cb057124-66eb-4d3b-8bd8-dddcd76cabb6\" style=\"display: none;\"><div style=\"display: table-cell;\"></div><div style=\"display: table-cell;\">x_range_name&nbsp;=&nbsp;'default',</div></div><div class=\"cb057124-66eb-4d3b-8bd8-dddcd76cabb6\" style=\"display: none;\"><div style=\"display: table-cell;\"></div><div style=\"display: table-cell;\">y_range_name&nbsp;=&nbsp;'default')</div></div></div>\n",
       "<script>\n",
       "(function() {\n",
       "  var expanded = false;\n",
       "  var ellipsis = document.getElementById(\"39a24e62-01d3-478d-97b4-067e18601781\");\n",
       "  ellipsis.addEventListener(\"click\", function() {\n",
       "    var rows = document.getElementsByClassName(\"cb057124-66eb-4d3b-8bd8-dddcd76cabb6\");\n",
       "    for (var i = 0; i < rows.length; i++) {\n",
       "      var el = rows[i];\n",
       "      el.style.display = expanded ? \"none\" : \"table-row\";\n",
       "    }\n",
       "    ellipsis.innerHTML = expanded ? \"&hellip;)\" : \"&lsaquo;&lsaquo;&lsaquo;\";\n",
       "    expanded = !expanded;\n",
       "  });\n",
       "})();\n",
       "</script>\n"
      ],
      "text/plain": [
       "GlyphRenderer(id='1db745d9-cfee-44a7-8a51-a238a358f252', ...)"
      ]
     },
     "execution_count": 20,
     "metadata": {},
     "output_type": "execute_result"
    }
   ],
   "source": [
    "print(utter_price.shape)\n",
    "x = pca.transform(utter_price.reshape(1,-1))\n",
    "p.circle(x[0][0], x[0][1], color='black')"
   ]
  },
  {
   "cell_type": "code",
   "execution_count": 21,
   "metadata": {},
   "outputs": [
    {
     "data": {
      "text/html": [
       "\n",
       "<div class=\"bk-root\">\n",
       "    <div class=\"bk-plotdiv\" id=\"e38ee173-28d2-4a73-a4d0-aa968c67dc81\"></div>\n",
       "</div>"
      ]
     },
     "metadata": {},
     "output_type": "execute_result"
    },
    {
     "data": {},
     "metadata": {
      "application/vnd.bokehjs_exec.v0+json": {
       "id": "347ab833-a443-4459-b311-0c8692793c11"
      }
     },
     "output_type": "display_data"
    }
   ],
   "source": [
    "show(p)"
   ]
  },
  {
   "cell_type": "code",
   "execution_count": 22,
   "metadata": {},
   "outputs": [],
   "source": [
    "from collections import namedtuple"
   ]
  },
  {
   "cell_type": "code",
   "execution_count": 23,
   "metadata": {},
   "outputs": [
    {
     "data": {
      "text/plain": [
       "OrderedDict([('x', 11), ('y', 22)])"
      ]
     },
     "execution_count": 23,
     "metadata": {},
     "output_type": "execute_result"
    }
   ],
   "source": [
    "Point = namedtuple('Point', ['x', 'y'])\n",
    "p = Point(11, y=22)\n",
    "p._asdict()"
   ]
  },
  {
   "cell_type": "code",
   "execution_count": 24,
   "metadata": {},
   "outputs": [],
   "source": [
    "Point3D = namedtuple('Point3D', Point._fields + ('z',))"
   ]
  },
  {
   "cell_type": "code",
   "execution_count": 25,
   "metadata": {},
   "outputs": [
    {
     "data": {
      "text/plain": [
       "OrderedDict([('x', 11), ('y', 22), ('z', 3)])"
      ]
     },
     "execution_count": 25,
     "metadata": {},
     "output_type": "execute_result"
    }
   ],
   "source": [
    "p_asdict = p._asdict()\n",
    "p_asdict['z'] = 3\n",
    "p_asdict"
   ]
  },
  {
   "cell_type": "code",
   "execution_count": 26,
   "metadata": {},
   "outputs": [
    {
     "data": {
      "text/plain": [
       "Point3D(x=11, y=22, z=3)"
      ]
     },
     "execution_count": 26,
     "metadata": {},
     "output_type": "execute_result"
    }
   ],
   "source": [
    "p3D = Point3D(**p_asdict)\n",
    "p3D"
   ]
  },
  {
   "cell_type": "code",
   "execution_count": 27,
   "metadata": {},
   "outputs": [],
   "source": [
    "x ={\n",
    "        \"day\": \"20\",\n",
    "        \"month\": \"06\",\n",
    "        \"year\": \"2018\"\n",
    "    }"
   ]
  },
  {
   "cell_type": "code",
   "execution_count": 28,
   "metadata": {},
   "outputs": [
    {
     "data": {
      "text/plain": [
       "{'day': '20', 'month': '06', 'year': '2018'}"
      ]
     },
     "execution_count": 28,
     "metadata": {},
     "output_type": "execute_result"
    }
   ],
   "source": [
    "x"
   ]
  },
  {
   "cell_type": "code",
   "execution_count": 29,
   "metadata": {},
   "outputs": [
    {
     "data": {
      "text/plain": [
       "{'touched': True, 'value': {'value1': '20', 'value2': '06', 'value3': '2018'}}"
      ]
     },
     "execution_count": 29,
     "metadata": {},
     "output_type": "execute_result"
    }
   ],
   "source": [
    "def value_touched_dict(value):\n",
    "    if isinstance(value, dict) and value.get(\"day\"):\n",
    "        value[\"value1\"] = value.pop(\"day\")\n",
    "        value[\"value2\"] = value.pop(\"month\")\n",
    "        value[\"value3\"] = value.pop(\"year\")\n",
    "    return {\"value\": value,\n",
    "            \"touched\": True}\n",
    "value_touched_dict(x)"
   ]
  },
  {
   "cell_type": "code",
   "execution_count": 30,
   "metadata": {},
   "outputs": [
    {
     "data": {
      "text/plain": [
       "{'touched': True, 'value': 'x'}"
      ]
     },
     "execution_count": 30,
     "metadata": {},
     "output_type": "execute_result"
    }
   ],
   "source": [
    "value_touched_dict('x')"
   ]
  },
  {
   "cell_type": "code",
   "execution_count": null,
   "metadata": {},
   "outputs": [],
   "source": []
  }
 ],
 "metadata": {
  "kernelspec": {
   "display_name": "Python 3",
   "language": "python",
   "name": "python3"
  },
  "language_info": {
   "codemirror_mode": {
    "name": "ipython",
    "version": 3
   },
   "file_extension": ".py",
   "mimetype": "text/x-python",
   "name": "python",
   "nbconvert_exporter": "python",
   "pygments_lexer": "ipython3",
   "version": "3.6.5"
  }
 },
 "nbformat": 4,
 "nbformat_minor": 2
}
