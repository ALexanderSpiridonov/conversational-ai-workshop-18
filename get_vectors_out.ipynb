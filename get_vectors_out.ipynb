{
 "cells": [
  {
   "cell_type": "code",
   "execution_count": 139,
   "metadata": {},
   "outputs": [
    {
     "name": "stdout",
     "output_type": "stream",
     "text": [
      "INFO:tensorflow:Restoring parameters from models/dialogue_embed/policy_0_EmbeddingPolicy/tensorflow_embedding.ckpt\n"
     ]
    },
    {
     "data": {
      "text/html": [
       "\n",
       "    <div class=\"bk-root\">\n",
       "        <a href=\"https://bokeh.pydata.org\" target=\"_blank\" class=\"bk-logo bk-logo-small bk-logo-notebook\"></a>\n",
       "        <span id=\"50f30081-a859-46bd-a601-6dcbb42eba50\">Loading BokehJS ...</span>\n",
       "    </div>"
      ]
     },
     "metadata": {},
     "output_type": "display_data"
    },
    {
     "data": {
      "application/javascript": [
       "\n",
       "(function(root) {\n",
       "  function now() {\n",
       "    return new Date();\n",
       "  }\n",
       "\n",
       "  var force = true;\n",
       "\n",
       "  if (typeof (root._bokeh_onload_callbacks) === \"undefined\" || force === true) {\n",
       "    root._bokeh_onload_callbacks = [];\n",
       "    root._bokeh_is_loading = undefined;\n",
       "  }\n",
       "\n",
       "  var JS_MIME_TYPE = 'application/javascript';\n",
       "  var HTML_MIME_TYPE = 'text/html';\n",
       "  var EXEC_MIME_TYPE = 'application/vnd.bokehjs_exec.v0+json';\n",
       "  var CLASS_NAME = 'output_bokeh rendered_html';\n",
       "\n",
       "  /**\n",
       "   * Render data to the DOM node\n",
       "   */\n",
       "  function render(props, node) {\n",
       "    var script = document.createElement(\"script\");\n",
       "    node.appendChild(script);\n",
       "  }\n",
       "\n",
       "  /**\n",
       "   * Handle when an output is cleared or removed\n",
       "   */\n",
       "  function handleClearOutput(event, handle) {\n",
       "    var cell = handle.cell;\n",
       "\n",
       "    var id = cell.output_area._bokeh_element_id;\n",
       "    var server_id = cell.output_area._bokeh_server_id;\n",
       "    // Clean up Bokeh references\n",
       "    if (id !== undefined) {\n",
       "      Bokeh.index[id].model.document.clear();\n",
       "      delete Bokeh.index[id];\n",
       "    }\n",
       "\n",
       "    if (server_id !== undefined) {\n",
       "      // Clean up Bokeh references\n",
       "      var cmd = \"from bokeh.io.state import curstate; print(curstate().uuid_to_server['\" + server_id + \"'].get_sessions()[0].document.roots[0]._id)\";\n",
       "      cell.notebook.kernel.execute(cmd, {\n",
       "        iopub: {\n",
       "          output: function(msg) {\n",
       "            var element_id = msg.content.text.trim();\n",
       "            Bokeh.index[element_id].model.document.clear();\n",
       "            delete Bokeh.index[element_id];\n",
       "          }\n",
       "        }\n",
       "      });\n",
       "      // Destroy server and session\n",
       "      var cmd = \"import bokeh.io.notebook as ion; ion.destroy_server('\" + server_id + \"')\";\n",
       "      cell.notebook.kernel.execute(cmd);\n",
       "    }\n",
       "  }\n",
       "\n",
       "  /**\n",
       "   * Handle when a new output is added\n",
       "   */\n",
       "  function handleAddOutput(event, handle) {\n",
       "    var output_area = handle.output_area;\n",
       "    var output = handle.output;\n",
       "\n",
       "    // limit handleAddOutput to display_data with EXEC_MIME_TYPE content only\n",
       "    if ((output.output_type != \"display_data\") || (!output.data.hasOwnProperty(EXEC_MIME_TYPE))) {\n",
       "      return\n",
       "    }\n",
       "\n",
       "    var toinsert = output_area.element.find(\".\" + CLASS_NAME.split(' ')[0]);\n",
       "\n",
       "    if (output.metadata[EXEC_MIME_TYPE][\"id\"] !== undefined) {\n",
       "      toinsert[toinsert.length - 1].firstChild.textContent = output.data[JS_MIME_TYPE];\n",
       "      // store reference to embed id on output_area\n",
       "      output_area._bokeh_element_id = output.metadata[EXEC_MIME_TYPE][\"id\"];\n",
       "    }\n",
       "    if (output.metadata[EXEC_MIME_TYPE][\"server_id\"] !== undefined) {\n",
       "      var bk_div = document.createElement(\"div\");\n",
       "      bk_div.innerHTML = output.data[HTML_MIME_TYPE];\n",
       "      var script_attrs = bk_div.children[0].attributes;\n",
       "      for (var i = 0; i < script_attrs.length; i++) {\n",
       "        toinsert[toinsert.length - 1].firstChild.setAttribute(script_attrs[i].name, script_attrs[i].value);\n",
       "      }\n",
       "      // store reference to server id on output_area\n",
       "      output_area._bokeh_server_id = output.metadata[EXEC_MIME_TYPE][\"server_id\"];\n",
       "    }\n",
       "  }\n",
       "\n",
       "  function register_renderer(events, OutputArea) {\n",
       "\n",
       "    function append_mime(data, metadata, element) {\n",
       "      // create a DOM node to render to\n",
       "      var toinsert = this.create_output_subarea(\n",
       "        metadata,\n",
       "        CLASS_NAME,\n",
       "        EXEC_MIME_TYPE\n",
       "      );\n",
       "      this.keyboard_manager.register_events(toinsert);\n",
       "      // Render to node\n",
       "      var props = {data: data, metadata: metadata[EXEC_MIME_TYPE]};\n",
       "      render(props, toinsert[toinsert.length - 1]);\n",
       "      element.append(toinsert);\n",
       "      return toinsert\n",
       "    }\n",
       "\n",
       "    /* Handle when an output is cleared or removed */\n",
       "    events.on('clear_output.CodeCell', handleClearOutput);\n",
       "    events.on('delete.Cell', handleClearOutput);\n",
       "\n",
       "    /* Handle when a new output is added */\n",
       "    events.on('output_added.OutputArea', handleAddOutput);\n",
       "\n",
       "    /**\n",
       "     * Register the mime type and append_mime function with output_area\n",
       "     */\n",
       "    OutputArea.prototype.register_mime_type(EXEC_MIME_TYPE, append_mime, {\n",
       "      /* Is output safe? */\n",
       "      safe: true,\n",
       "      /* Index of renderer in `output_area.display_order` */\n",
       "      index: 0\n",
       "    });\n",
       "  }\n",
       "\n",
       "  // register the mime type if in Jupyter Notebook environment and previously unregistered\n",
       "  if (root.Jupyter !== undefined) {\n",
       "    var events = require('base/js/events');\n",
       "    var OutputArea = require('notebook/js/outputarea').OutputArea;\n",
       "\n",
       "    if (OutputArea.prototype.mime_types().indexOf(EXEC_MIME_TYPE) == -1) {\n",
       "      register_renderer(events, OutputArea);\n",
       "    }\n",
       "  }\n",
       "\n",
       "  \n",
       "  if (typeof (root._bokeh_timeout) === \"undefined\" || force === true) {\n",
       "    root._bokeh_timeout = Date.now() + 5000;\n",
       "    root._bokeh_failed_load = false;\n",
       "  }\n",
       "\n",
       "  var NB_LOAD_WARNING = {'data': {'text/html':\n",
       "     \"<div style='background-color: #fdd'>\\n\"+\n",
       "     \"<p>\\n\"+\n",
       "     \"BokehJS does not appear to have successfully loaded. If loading BokehJS from CDN, this \\n\"+\n",
       "     \"may be due to a slow or bad network connection. Possible fixes:\\n\"+\n",
       "     \"</p>\\n\"+\n",
       "     \"<ul>\\n\"+\n",
       "     \"<li>re-rerun `output_notebook()` to attempt to load from CDN again, or</li>\\n\"+\n",
       "     \"<li>use INLINE resources instead, as so:</li>\\n\"+\n",
       "     \"</ul>\\n\"+\n",
       "     \"<code>\\n\"+\n",
       "     \"from bokeh.resources import INLINE\\n\"+\n",
       "     \"output_notebook(resources=INLINE)\\n\"+\n",
       "     \"</code>\\n\"+\n",
       "     \"</div>\"}};\n",
       "\n",
       "  function display_loaded() {\n",
       "    var el = document.getElementById(\"50f30081-a859-46bd-a601-6dcbb42eba50\");\n",
       "    if (el != null) {\n",
       "      el.textContent = \"BokehJS is loading...\";\n",
       "    }\n",
       "    if (root.Bokeh !== undefined) {\n",
       "      if (el != null) {\n",
       "        el.textContent = \"BokehJS \" + root.Bokeh.version + \" successfully loaded.\";\n",
       "      }\n",
       "    } else if (Date.now() < root._bokeh_timeout) {\n",
       "      setTimeout(display_loaded, 100)\n",
       "    }\n",
       "  }\n",
       "\n",
       "\n",
       "  function run_callbacks() {\n",
       "    try {\n",
       "      root._bokeh_onload_callbacks.forEach(function(callback) { callback() });\n",
       "    }\n",
       "    finally {\n",
       "      delete root._bokeh_onload_callbacks\n",
       "    }\n",
       "    console.info(\"Bokeh: all callbacks have finished\");\n",
       "  }\n",
       "\n",
       "  function load_libs(js_urls, callback) {\n",
       "    root._bokeh_onload_callbacks.push(callback);\n",
       "    if (root._bokeh_is_loading > 0) {\n",
       "      console.log(\"Bokeh: BokehJS is being loaded, scheduling callback at\", now());\n",
       "      return null;\n",
       "    }\n",
       "    if (js_urls == null || js_urls.length === 0) {\n",
       "      run_callbacks();\n",
       "      return null;\n",
       "    }\n",
       "    console.log(\"Bokeh: BokehJS not loaded, scheduling load and callback at\", now());\n",
       "    root._bokeh_is_loading = js_urls.length;\n",
       "    for (var i = 0; i < js_urls.length; i++) {\n",
       "      var url = js_urls[i];\n",
       "      var s = document.createElement('script');\n",
       "      s.src = url;\n",
       "      s.async = false;\n",
       "      s.onreadystatechange = s.onload = function() {\n",
       "        root._bokeh_is_loading--;\n",
       "        if (root._bokeh_is_loading === 0) {\n",
       "          console.log(\"Bokeh: all BokehJS libraries loaded\");\n",
       "          run_callbacks()\n",
       "        }\n",
       "      };\n",
       "      s.onerror = function() {\n",
       "        console.warn(\"failed to load library \" + url);\n",
       "      };\n",
       "      console.log(\"Bokeh: injecting script tag for BokehJS library: \", url);\n",
       "      document.getElementsByTagName(\"head\")[0].appendChild(s);\n",
       "    }\n",
       "  };var element = document.getElementById(\"50f30081-a859-46bd-a601-6dcbb42eba50\");\n",
       "  if (element == null) {\n",
       "    console.log(\"Bokeh: ERROR: autoload.js configured with elementid '50f30081-a859-46bd-a601-6dcbb42eba50' but no matching script tag was found. \")\n",
       "    return false;\n",
       "  }\n",
       "\n",
       "  var js_urls = [\"https://cdn.pydata.org/bokeh/release/bokeh-0.12.15.min.js\", \"https://cdn.pydata.org/bokeh/release/bokeh-widgets-0.12.15.min.js\", \"https://cdn.pydata.org/bokeh/release/bokeh-tables-0.12.15.min.js\", \"https://cdn.pydata.org/bokeh/release/bokeh-gl-0.12.15.min.js\"];\n",
       "\n",
       "  var inline_js = [\n",
       "    function(Bokeh) {\n",
       "      Bokeh.set_log_level(\"info\");\n",
       "    },\n",
       "    \n",
       "    function(Bokeh) {\n",
       "      \n",
       "    },\n",
       "    function(Bokeh) {\n",
       "      console.log(\"Bokeh: injecting CSS: https://cdn.pydata.org/bokeh/release/bokeh-0.12.15.min.css\");\n",
       "      Bokeh.embed.inject_css(\"https://cdn.pydata.org/bokeh/release/bokeh-0.12.15.min.css\");\n",
       "      console.log(\"Bokeh: injecting CSS: https://cdn.pydata.org/bokeh/release/bokeh-widgets-0.12.15.min.css\");\n",
       "      Bokeh.embed.inject_css(\"https://cdn.pydata.org/bokeh/release/bokeh-widgets-0.12.15.min.css\");\n",
       "      console.log(\"Bokeh: injecting CSS: https://cdn.pydata.org/bokeh/release/bokeh-tables-0.12.15.min.css\");\n",
       "      Bokeh.embed.inject_css(\"https://cdn.pydata.org/bokeh/release/bokeh-tables-0.12.15.min.css\");\n",
       "    }\n",
       "  ];\n",
       "\n",
       "  function run_inline_js() {\n",
       "    \n",
       "    if ((root.Bokeh !== undefined) || (force === true)) {\n",
       "      for (var i = 0; i < inline_js.length; i++) {\n",
       "        inline_js[i].call(root, root.Bokeh);\n",
       "      }if (force === true) {\n",
       "        display_loaded();\n",
       "      }} else if (Date.now() < root._bokeh_timeout) {\n",
       "      setTimeout(run_inline_js, 100);\n",
       "    } else if (!root._bokeh_failed_load) {\n",
       "      console.log(\"Bokeh: BokehJS failed to load within specified timeout.\");\n",
       "      root._bokeh_failed_load = true;\n",
       "    } else if (force !== true) {\n",
       "      var cell = $(document.getElementById(\"50f30081-a859-46bd-a601-6dcbb42eba50\")).parents('.cell').data().cell;\n",
       "      cell.output_area.append_execute_result(NB_LOAD_WARNING)\n",
       "    }\n",
       "\n",
       "  }\n",
       "\n",
       "  if (root._bokeh_is_loading === 0) {\n",
       "    console.log(\"Bokeh: BokehJS loaded, going straight to plotting\");\n",
       "    run_inline_js();\n",
       "  } else {\n",
       "    load_libs(js_urls, function() {\n",
       "      console.log(\"Bokeh: BokehJS plotting callback run at\", now());\n",
       "      run_inline_js();\n",
       "    });\n",
       "  }\n",
       "}(window));"
      ],
      "application/vnd.bokehjs_load.v0+json": "\n(function(root) {\n  function now() {\n    return new Date();\n  }\n\n  var force = true;\n\n  if (typeof (root._bokeh_onload_callbacks) === \"undefined\" || force === true) {\n    root._bokeh_onload_callbacks = [];\n    root._bokeh_is_loading = undefined;\n  }\n\n  \n\n  \n  if (typeof (root._bokeh_timeout) === \"undefined\" || force === true) {\n    root._bokeh_timeout = Date.now() + 5000;\n    root._bokeh_failed_load = false;\n  }\n\n  var NB_LOAD_WARNING = {'data': {'text/html':\n     \"<div style='background-color: #fdd'>\\n\"+\n     \"<p>\\n\"+\n     \"BokehJS does not appear to have successfully loaded. If loading BokehJS from CDN, this \\n\"+\n     \"may be due to a slow or bad network connection. Possible fixes:\\n\"+\n     \"</p>\\n\"+\n     \"<ul>\\n\"+\n     \"<li>re-rerun `output_notebook()` to attempt to load from CDN again, or</li>\\n\"+\n     \"<li>use INLINE resources instead, as so:</li>\\n\"+\n     \"</ul>\\n\"+\n     \"<code>\\n\"+\n     \"from bokeh.resources import INLINE\\n\"+\n     \"output_notebook(resources=INLINE)\\n\"+\n     \"</code>\\n\"+\n     \"</div>\"}};\n\n  function display_loaded() {\n    var el = document.getElementById(\"50f30081-a859-46bd-a601-6dcbb42eba50\");\n    if (el != null) {\n      el.textContent = \"BokehJS is loading...\";\n    }\n    if (root.Bokeh !== undefined) {\n      if (el != null) {\n        el.textContent = \"BokehJS \" + root.Bokeh.version + \" successfully loaded.\";\n      }\n    } else if (Date.now() < root._bokeh_timeout) {\n      setTimeout(display_loaded, 100)\n    }\n  }\n\n\n  function run_callbacks() {\n    try {\n      root._bokeh_onload_callbacks.forEach(function(callback) { callback() });\n    }\n    finally {\n      delete root._bokeh_onload_callbacks\n    }\n    console.info(\"Bokeh: all callbacks have finished\");\n  }\n\n  function load_libs(js_urls, callback) {\n    root._bokeh_onload_callbacks.push(callback);\n    if (root._bokeh_is_loading > 0) {\n      console.log(\"Bokeh: BokehJS is being loaded, scheduling callback at\", now());\n      return null;\n    }\n    if (js_urls == null || js_urls.length === 0) {\n      run_callbacks();\n      return null;\n    }\n    console.log(\"Bokeh: BokehJS not loaded, scheduling load and callback at\", now());\n    root._bokeh_is_loading = js_urls.length;\n    for (var i = 0; i < js_urls.length; i++) {\n      var url = js_urls[i];\n      var s = document.createElement('script');\n      s.src = url;\n      s.async = false;\n      s.onreadystatechange = s.onload = function() {\n        root._bokeh_is_loading--;\n        if (root._bokeh_is_loading === 0) {\n          console.log(\"Bokeh: all BokehJS libraries loaded\");\n          run_callbacks()\n        }\n      };\n      s.onerror = function() {\n        console.warn(\"failed to load library \" + url);\n      };\n      console.log(\"Bokeh: injecting script tag for BokehJS library: \", url);\n      document.getElementsByTagName(\"head\")[0].appendChild(s);\n    }\n  };var element = document.getElementById(\"50f30081-a859-46bd-a601-6dcbb42eba50\");\n  if (element == null) {\n    console.log(\"Bokeh: ERROR: autoload.js configured with elementid '50f30081-a859-46bd-a601-6dcbb42eba50' but no matching script tag was found. \")\n    return false;\n  }\n\n  var js_urls = [\"https://cdn.pydata.org/bokeh/release/bokeh-0.12.15.min.js\", \"https://cdn.pydata.org/bokeh/release/bokeh-widgets-0.12.15.min.js\", \"https://cdn.pydata.org/bokeh/release/bokeh-tables-0.12.15.min.js\", \"https://cdn.pydata.org/bokeh/release/bokeh-gl-0.12.15.min.js\"];\n\n  var inline_js = [\n    function(Bokeh) {\n      Bokeh.set_log_level(\"info\");\n    },\n    \n    function(Bokeh) {\n      \n    },\n    function(Bokeh) {\n      console.log(\"Bokeh: injecting CSS: https://cdn.pydata.org/bokeh/release/bokeh-0.12.15.min.css\");\n      Bokeh.embed.inject_css(\"https://cdn.pydata.org/bokeh/release/bokeh-0.12.15.min.css\");\n      console.log(\"Bokeh: injecting CSS: https://cdn.pydata.org/bokeh/release/bokeh-widgets-0.12.15.min.css\");\n      Bokeh.embed.inject_css(\"https://cdn.pydata.org/bokeh/release/bokeh-widgets-0.12.15.min.css\");\n      console.log(\"Bokeh: injecting CSS: https://cdn.pydata.org/bokeh/release/bokeh-tables-0.12.15.min.css\");\n      Bokeh.embed.inject_css(\"https://cdn.pydata.org/bokeh/release/bokeh-tables-0.12.15.min.css\");\n    }\n  ];\n\n  function run_inline_js() {\n    \n    if ((root.Bokeh !== undefined) || (force === true)) {\n      for (var i = 0; i < inline_js.length; i++) {\n        inline_js[i].call(root, root.Bokeh);\n      }if (force === true) {\n        display_loaded();\n      }} else if (Date.now() < root._bokeh_timeout) {\n      setTimeout(run_inline_js, 100);\n    } else if (!root._bokeh_failed_load) {\n      console.log(\"Bokeh: BokehJS failed to load within specified timeout.\");\n      root._bokeh_failed_load = true;\n    } else if (force !== true) {\n      var cell = $(document.getElementById(\"50f30081-a859-46bd-a601-6dcbb42eba50\")).parents('.cell').data().cell;\n      cell.output_area.append_execute_result(NB_LOAD_WARNING)\n    }\n\n  }\n\n  if (root._bokeh_is_loading === 0) {\n    console.log(\"Bokeh: BokehJS loaded, going straight to plotting\");\n    run_inline_js();\n  } else {\n    load_libs(js_urls, function() {\n      console.log(\"Bokeh: BokehJS plotting callback run at\", now());\n      run_inline_js();\n    });\n  }\n}(window));"
     },
     "metadata": {},
     "output_type": "display_data"
    }
   ],
   "source": [
    "import rasa_core\n",
    "from rasa_core.agent import Agent\n",
    "from bokeh.io import output_notebook\n",
    "agent = Agent.load(\"models/dialogue_embed\")\n",
    "# agent = Agent.load(\"models/dialogue_embed_before_norm_loss\")\n",
    "output_notebook()"
   ]
  },
  {
   "cell_type": "code",
   "execution_count": 140,
   "metadata": {},
   "outputs": [],
   "source": [
    "policy = agent.policy_ensemble.policies[0]\n",
    "interpreter = agent.interpreter"
   ]
  },
  {
   "cell_type": "code",
   "execution_count": 141,
   "metadata": {},
   "outputs": [],
   "source": [
    "domain = agent.domain\n"
   ]
  },
  {
   "cell_type": "code",
   "execution_count": 142,
   "metadata": {},
   "outputs": [],
   "source": [
    "from rasa_core.training.structures import StoryGraph\n",
    "from rasa_core.training.dsl import StoryFileReader\n",
    "from rasa_core.trackers import DialogueStateTracker\n",
    "from rasa_core.channels import UserMessage\n",
    "import numpy as np\n",
    "\n",
    "def embedding_from_tracker(story, bot=False):\n",
    "    reader = StoryFileReader(domain, interpreter)\n",
    "    story = story.split('\\n')\n",
    "    story_steps = reader.process_lines(story)\n",
    "#     story_graph = StoryGraph(story_steps)\n",
    "    tracker = DialogueStateTracker(\n",
    "            1,\n",
    "            domain.slots\n",
    "    )\n",
    "    tracker._reset()\n",
    "    for step in story_steps:\n",
    "        events = step.explicit_events(domain)\n",
    "        for event in events:\n",
    "            tracker.update(event)\n",
    "    data_X = policy.featurizer.create_X([tracker], domain)\n",
    "\n",
    "    X, slots, prev_act = policy._create_X_slots(data_X)\n",
    "    all_Y_d = policy._create_all_Y_d(X.shape[1])\n",
    "    all_Y_d_x = np.stack([all_Y_d for _ in range(X.shape[0])])\n",
    "    dial_vec = policy.session.run(policy.dial_embed, feed_dict={policy.a_in: X,\n",
    "                                           policy.b_in: all_Y_d_x,\n",
    "                                           policy.c_in: slots,\n",
    "                                           policy.b_prev_in: prev_act})\n",
    "    bot_vec = policy.session.run(policy.bot_embed, feed_dict={policy.a_in: X,\n",
    "                                           policy.b_in: all_Y_d_x,\n",
    "                                           policy.c_in: slots,\n",
    "                                           policy.b_prev_in: prev_act})\n",
    "\n",
    "    copy_gate = policy.session.run(policy.copy_gate, feed_dict={policy.a_in: X,\n",
    "                                           policy.b_in: all_Y_d_x,\n",
    "                                           policy.c_in: slots,\n",
    "                                           policy.b_prev_in: prev_act})\n",
    "    attn_prev_act_embed = policy.session.run(policy.attn_prev_act_embed,\n",
    "                                             feed_dict={policy.a_in: X,\n",
    "                                           policy.b_in: all_Y_d_x,\n",
    "                                           policy.c_in: slots,\n",
    "                                           policy.b_prev_in: prev_act})\n",
    "    rnn_embed = policy.session.run(policy.rnn_embed, feed_dict={policy.a_in: X,\n",
    "                                           policy.b_in: all_Y_d_x,\n",
    "                                           policy.c_in: slots,\n",
    "                                           policy.b_prev_in: prev_act})\n",
    "\n",
    "    del tracker\n",
    "#     print(np.shape(dial_vec))\n",
    "    if bot is False:\n",
    "        return (dial_vec[0,-2,:],\n",
    "                copy_gate[0,-2,:],\n",
    "                attn_prev_act_embed[0,-2,:],\n",
    "                rnn_embed[0,-2,:])\n",
    "    else:\n",
    "        return bot_vec\n",
    "    \n",
    "def make_prediction(story):\n",
    "    dial, _,_,_ = embedding_from_tracker(story, bot=False)\n",
    "    bot = embedding_from_tracker(story, bot=True)[0,-2,:,:]\n",
    "    abs_vals = np.array([np.absolute(vec) for vec in bot])\n",
    "    norms = np.apply_along_axis(np.linalg.norm, 1, bot)\n",
    "    return domain.action_for_index(np.argmax(np.dot(bot, dial)/norms)).name()\n",
    "#     print(dial.shape, bot.shape)"
   ]
  },
  {
   "cell_type": "code",
   "execution_count": 143,
   "metadata": {},
   "outputs": [
    {
     "name": "stdout",
     "output_type": "stream",
     "text": [
      "35\n",
      "20\n"
     ]
    }
   ],
   "source": [
    "# print(domain.intents)\n",
    "story_block = \"\"\"* request_hotel\n",
    "    - utter_ask_details\n",
    "* explain\n",
    "    - utter_explain_details_hotel\n",
    "    - utter_ask_details\n",
    "* chitchat\n",
    "    - utter_chitchat\n",
    "    - utter_ask_details\n",
    "* inform{\"enddate\": \"May 26th\"}\n",
    "    - slot{\"enddate\": \"May 26th\"}\n",
    "    - utter_ask_startdate\n",
    "* inform{\"startdate\": \"next week\"}\n",
    "    - slot{\"startdate\": \"next week\"}\n",
    "    - utter_ask_location\n",
    "* explain\n",
    "    - utter_explain_location_hotel\n",
    "    - utter_ask_location\n",
    "* inform{\"location\": \"rome\"}\n",
    "    - slot{\"location\": \"rome\"}\n",
    "    - utter_ask_price\n",
    "* chitchat\n",
    "    - utter_chitchat\n",
    "    - utter_ask_price\n",
    "* chitchat\n",
    "    - utter_chitchat\n",
    "    - utter_ask_price\n",
    "* chitchat\n",
    "    - utter_chitchat\n",
    "    - utter_ask_price\n",
    "* chitchat\n",
    "    - utter_chitchat\n",
    "    - utter_ask_price\n",
    "* explain\n",
    "    - utter_explain_price_hotel\n",
    "    - utter_ask_price\"\"\"\n",
    "# * inform{\"price\": \"expensive\"}\n",
    "#     - utter_ask_people\n",
    "# * inform{\"people\": \"4\"}\n",
    "#     - utter_filled_slots\n",
    "#     - action_search_hotel\n",
    "#     - slot{\"hotel\": \"hotel\"}\n",
    "#     - utter_suggest_hotel\n",
    "# * chitchat\n",
    "#     - utter_chitchat\n",
    "#     - utter_suggest_hotel\n",
    "# * affirm\n",
    "#     - utter_happy\"\"\"\n",
    "print(len(story_block.split('\\n')))\n",
    "cool_list = []\n",
    "lines = story_block.split('\\n')\n",
    "for idx, line in enumerate(lines):\n",
    "    if idx == len(lines)-1:\n",
    "        continue\n",
    "    if '*' in lines[idx+1] or 'slot{' in lines[idx+1]:# or 'slot{' in line:\n",
    "        continue\n",
    "    sub_story = '\\n'.join(lines[:idx+1])\n",
    "    (dial, copy, attn, rnn\n",
    "    ) = embedding_from_tracker(\"#generate story\\n{}\".format(sub_story))\n",
    "    pred = make_prediction(\"#generate story\\n{}\".format(sub_story))\n",
    "    cool_list.append((lines[idx+1], dial, pred, copy, attn, rnn))\n",
    "\n",
    "print(len(cool_list))\n",
    "#     break\n",
    "# dial = embedding_from_tracker(\"#generate story\\n{}\".format(story_block)\n",
    "# )\n",
    "# print(dial.shape)\n",
    "# print(len(story_block.split('\\n')))"
   ]
  },
  {
   "cell_type": "code",
   "execution_count": 144,
   "metadata": {},
   "outputs": [],
   "source": [
    "from sklearn.decomposition import PCA"
   ]
  },
  {
   "cell_type": "code",
   "execution_count": 145,
   "metadata": {},
   "outputs": [],
   "source": [
    "pca = PCA(n_components=2)\n",
    "X = pca.fit_transform([ting[1] for ting in cool_list])"
   ]
  },
  {
   "cell_type": "code",
   "execution_count": 146,
   "metadata": {},
   "outputs": [],
   "source": [
    "from bokeh.plotting import figure, show\n",
    "import matplotlib.pyplot as plt"
   ]
  },
  {
   "cell_type": "code",
   "execution_count": 147,
   "metadata": {},
   "outputs": [],
   "source": [
    "embed_dim = cool_list[0][1].shape[0]"
   ]
  },
  {
   "cell_type": "code",
   "execution_count": 148,
   "metadata": {},
   "outputs": [
    {
     "data": {
      "text/html": [
       "<div style=\"display: table;\"><div style=\"display: table-row;\"><div style=\"display: table-cell;\"><b title=\"bokeh.models.renderers.GlyphRenderer\">GlyphRenderer</b>(</div><div style=\"display: table-cell;\">id&nbsp;=&nbsp;'f0103fd2-cd2c-4640-9519-6ab6f1529d63', <span id=\"d3e1c89a-4eb7-448b-bd3e-98b26e5e858c\" style=\"cursor: pointer;\">&hellip;)</span></div></div><div class=\"a96859e3-d591-4728-b854-4ae500181c42\" style=\"display: none;\"><div style=\"display: table-cell;\"></div><div style=\"display: table-cell;\">data_source&nbsp;=&nbsp;ColumnDataSource(id='62a97907-4c1a-4690-8b9b-a787886f7b4c', ...),</div></div><div class=\"a96859e3-d591-4728-b854-4ae500181c42\" style=\"display: none;\"><div style=\"display: table-cell;\"></div><div style=\"display: table-cell;\">glyph&nbsp;=&nbsp;Circle(id='4b608349-076e-449e-8d9d-3b183a43b9c6', ...),</div></div><div class=\"a96859e3-d591-4728-b854-4ae500181c42\" style=\"display: none;\"><div style=\"display: table-cell;\"></div><div style=\"display: table-cell;\">hover_glyph&nbsp;=&nbsp;None,</div></div><div class=\"a96859e3-d591-4728-b854-4ae500181c42\" style=\"display: none;\"><div style=\"display: table-cell;\"></div><div style=\"display: table-cell;\">js_event_callbacks&nbsp;=&nbsp;{},</div></div><div class=\"a96859e3-d591-4728-b854-4ae500181c42\" style=\"display: none;\"><div style=\"display: table-cell;\"></div><div style=\"display: table-cell;\">js_property_callbacks&nbsp;=&nbsp;{},</div></div><div class=\"a96859e3-d591-4728-b854-4ae500181c42\" style=\"display: none;\"><div style=\"display: table-cell;\"></div><div style=\"display: table-cell;\">level&nbsp;=&nbsp;'glyph',</div></div><div class=\"a96859e3-d591-4728-b854-4ae500181c42\" style=\"display: none;\"><div style=\"display: table-cell;\"></div><div style=\"display: table-cell;\">muted&nbsp;=&nbsp;False,</div></div><div class=\"a96859e3-d591-4728-b854-4ae500181c42\" style=\"display: none;\"><div style=\"display: table-cell;\"></div><div style=\"display: table-cell;\">muted_glyph&nbsp;=&nbsp;None,</div></div><div class=\"a96859e3-d591-4728-b854-4ae500181c42\" style=\"display: none;\"><div style=\"display: table-cell;\"></div><div style=\"display: table-cell;\">name&nbsp;=&nbsp;None,</div></div><div class=\"a96859e3-d591-4728-b854-4ae500181c42\" style=\"display: none;\"><div style=\"display: table-cell;\"></div><div style=\"display: table-cell;\">nonselection_glyph&nbsp;=&nbsp;Circle(id='b2eeec23-7b0f-415b-bae0-3d6e078dd828', ...),</div></div><div class=\"a96859e3-d591-4728-b854-4ae500181c42\" style=\"display: none;\"><div style=\"display: table-cell;\"></div><div style=\"display: table-cell;\">selection_glyph&nbsp;=&nbsp;None,</div></div><div class=\"a96859e3-d591-4728-b854-4ae500181c42\" style=\"display: none;\"><div style=\"display: table-cell;\"></div><div style=\"display: table-cell;\">subscribed_events&nbsp;=&nbsp;[],</div></div><div class=\"a96859e3-d591-4728-b854-4ae500181c42\" style=\"display: none;\"><div style=\"display: table-cell;\"></div><div style=\"display: table-cell;\">tags&nbsp;=&nbsp;[],</div></div><div class=\"a96859e3-d591-4728-b854-4ae500181c42\" style=\"display: none;\"><div style=\"display: table-cell;\"></div><div style=\"display: table-cell;\">view&nbsp;=&nbsp;CDSView(id='070c7516-65ec-4c05-9d08-888492b3ae7d', ...),</div></div><div class=\"a96859e3-d591-4728-b854-4ae500181c42\" style=\"display: none;\"><div style=\"display: table-cell;\"></div><div style=\"display: table-cell;\">visible&nbsp;=&nbsp;True,</div></div><div class=\"a96859e3-d591-4728-b854-4ae500181c42\" style=\"display: none;\"><div style=\"display: table-cell;\"></div><div style=\"display: table-cell;\">x_range_name&nbsp;=&nbsp;'default',</div></div><div class=\"a96859e3-d591-4728-b854-4ae500181c42\" style=\"display: none;\"><div style=\"display: table-cell;\"></div><div style=\"display: table-cell;\">y_range_name&nbsp;=&nbsp;'default')</div></div></div>\n",
       "<script>\n",
       "(function() {\n",
       "  var expanded = false;\n",
       "  var ellipsis = document.getElementById(\"d3e1c89a-4eb7-448b-bd3e-98b26e5e858c\");\n",
       "  ellipsis.addEventListener(\"click\", function() {\n",
       "    var rows = document.getElementsByClassName(\"a96859e3-d591-4728-b854-4ae500181c42\");\n",
       "    for (var i = 0; i < rows.length; i++) {\n",
       "      var el = rows[i];\n",
       "      el.style.display = expanded ? \"none\" : \"table-row\";\n",
       "    }\n",
       "    ellipsis.innerHTML = expanded ? \"&hellip;)\" : \"&lsaquo;&lsaquo;&lsaquo;\";\n",
       "    expanded = !expanded;\n",
       "  });\n",
       "})();\n",
       "</script>\n"
      ],
      "text/plain": [
       "GlyphRenderer(id='f0103fd2-cd2c-4640-9519-6ab6f1529d63', ...)"
      ]
     },
     "execution_count": 148,
     "metadata": {},
     "output_type": "execute_result"
    }
   ],
   "source": [
    "from bokeh.plotting import figure, output_file, show, ColumnDataSource\n",
    "from bokeh.models import HoverTool, Arrow, OpenHead\n",
    "\n",
    "hover = HoverTool(tooltips=[(\"true action\",\"@desc\"), (\"prediction\", \"@pred\"),\n",
    "                            (\"copy_gate\", \"@copy\")],names=['circle'])\n",
    "p = figure( tools=[hover])\n",
    "\n",
    "for i in range(1, len(X)):\n",
    "    p.add_layout(Arrow(end=OpenHead(line_color=\"firebrick\", size=10, line_width=2),\n",
    "                       x_start=X[i-1,0], y_start=X[i-1,1],\n",
    "                       x_end=X[i,0], y_end=X[i,1], line_color='gray'))\n",
    "\n",
    "source = ColumnDataSource(data=dict(\n",
    "    x=X[:,0],\n",
    "    y=X[:,1],\n",
    "    desc=[ting[0] for ting in cool_list],\n",
    "    pred = [ting[2] for ting in cool_list],\n",
    "    copy = [ting[3] for ting in cool_list]\n",
    "))\n",
    "p.circle('x','y', source=source, size=10, name='circle')\n",
    "# p.line(X[:,0], X[:,1])\n",
    "\n",
    "X1 = pca.transform([ting[4] for ting in cool_list])\n",
    "source = ColumnDataSource(data=dict(\n",
    "    x=X1[:,0],\n",
    "    y=X1[:,1],\n",
    "    desc=[ting[0] for ting in cool_list],\n",
    "    pred = [ting[2] for ting in cool_list],\n",
    "    copy = [ting[3] for ting in cool_list]\n",
    "))\n",
    "p.circle('x','y', source=source, size=5, color='green', name='circle')\n",
    "\n",
    "X2 = pca.transform([ting[5] for ting in cool_list])\n",
    "source = ColumnDataSource(data=dict(\n",
    "    x=X2[:,0],\n",
    "    y=X2[:,1],\n",
    "    desc=[ting[0] for ting in cool_list],\n",
    "    pred = [ting[2] for ting in cool_list],\n",
    "    copy = [ting[3] for ting in cool_list]\n",
    "))\n",
    "p.circle('x','y', source=source, size=5, color='red', name='circle')\n",
    "\n",
    "x = pca.transform(np.zeros((1,embed_dim)))\n",
    "p.circle(x[0,0], x[0,1], size=5, color='magenta')\n",
    "p.circle(X[0,0], X[0,1], size=10, color='green')\n",
    "p.circle(X[-1,0], X[-1,1], size=10, color='red')\n"
   ]
  },
  {
   "cell_type": "code",
   "execution_count": 149,
   "metadata": {},
   "outputs": [
    {
     "data": {
      "text/html": [
       "\n",
       "<div class=\"bk-root\">\n",
       "    <div class=\"bk-plotdiv\" id=\"de665d61-d791-49a4-b615-3a1d2c5f05f1\"></div>\n",
       "</div>"
      ]
     },
     "metadata": {},
     "output_type": "display_data"
    },
    {
     "data": {
      "application/javascript": [
       "(function(root) {\n",
       "  function embed_document(root) {\n",
       "    \n",
       "  var docs_json = {\"3bd86e75-725e-4e9b-b5da-8e3e13d8ed8d\":{\"roots\":{\"references\":[{\"attributes\":{\"data_source\":{\"id\":\"ba385fa3-4471-4094-8a1c-359a60dd0fba\",\"type\":\"ColumnDataSource\"},\"glyph\":{\"id\":\"4c7b22ce-fd6c-4d53-a22a-b3fe0b44c196\",\"type\":\"Circle\"},\"hover_glyph\":null,\"muted_glyph\":null,\"name\":\"circle\",\"nonselection_glyph\":{\"id\":\"2c764e6c-1986-491a-84e9-508c90f2e665\",\"type\":\"Circle\"},\"selection_glyph\":null,\"view\":{\"id\":\"703ab529-8758-45d7-a022-30d591fc6faf\",\"type\":\"CDSView\"}},\"id\":\"0954484c-fb0f-485f-82db-2a87d8e713b0\",\"type\":\"GlyphRenderer\"},{\"attributes\":{\"line_color\":{\"value\":\"firebrick\"},\"line_width\":{\"value\":2},\"plot\":null,\"size\":10},\"id\":\"877c3acd-fc54-4ae5-bc4b-aa70e6e2b4fb\",\"type\":\"OpenHead\"},{\"attributes\":{\"data_source\":{\"id\":\"57939676-c4f4-49ae-9723-6b51e80b16e4\",\"type\":\"ColumnDataSource\"},\"glyph\":{\"id\":\"56f95970-93fb-4754-86ba-aa22d9a6c669\",\"type\":\"Circle\"},\"hover_glyph\":null,\"muted_glyph\":null,\"name\":\"circle\",\"nonselection_glyph\":{\"id\":\"3a4ec5b4-d450-4371-ad7e-a2b2123a9721\",\"type\":\"Circle\"},\"selection_glyph\":null,\"view\":{\"id\":\"6d071531-bbc4-4393-b615-b45e8386643b\",\"type\":\"CDSView\"}},\"id\":\"33efa04a-a83f-4693-be4f-b55766b758c2\",\"type\":\"GlyphRenderer\"},{\"attributes\":{\"fill_color\":{\"value\":\"#1f77b4\"},\"line_color\":{\"value\":\"#1f77b4\"},\"size\":{\"units\":\"screen\",\"value\":10},\"x\":{\"field\":\"x\"},\"y\":{\"field\":\"y\"}},\"id\":\"56f95970-93fb-4754-86ba-aa22d9a6c669\",\"type\":\"Circle\"},{\"attributes\":{\"end\":{\"id\":\"390acd7f-7e47-4e28-8730-3be1bad665d8\",\"type\":\"OpenHead\"},\"line_color\":{\"value\":\"gray\"},\"plot\":{\"id\":\"3aaf08bb-b466-4620-924f-c0e8f3d160c6\",\"subtype\":\"Figure\",\"type\":\"Plot\"},\"source\":null,\"start\":null,\"x_end\":{\"value\":-0.06509300023371906},\"x_start\":{\"value\":-0.15159842585224884},\"y_end\":{\"value\":0.03523260135585004},\"y_start\":{\"value\":-0.11540221756410034}},\"id\":\"32ef71dd-19bc-44cc-8050-e80115d71991\",\"type\":\"Arrow\"},{\"attributes\":{\"source\":{\"id\":\"57939676-c4f4-49ae-9723-6b51e80b16e4\",\"type\":\"ColumnDataSource\"}},\"id\":\"6d071531-bbc4-4393-b615-b45e8386643b\",\"type\":\"CDSView\"},{\"attributes\":{\"end\":{\"id\":\"877c3acd-fc54-4ae5-bc4b-aa70e6e2b4fb\",\"type\":\"OpenHead\"},\"line_color\":{\"value\":\"gray\"},\"plot\":{\"id\":\"3aaf08bb-b466-4620-924f-c0e8f3d160c6\",\"subtype\":\"Figure\",\"type\":\"Plot\"},\"source\":null,\"start\":null,\"x_end\":{\"value\":-0.10682544343970084},\"x_start\":{\"value\":-0.06509300023371906},\"y_end\":{\"value\":-0.04445361976501537},\"y_start\":{\"value\":0.03523260135585004}},\"id\":\"5c2fb0f2-648a-40d7-abc2-fb78c998782e\",\"type\":\"Arrow\"},{\"attributes\":{},\"id\":\"a1a92dae-7cd1-4c56-8ad0-81023b9fffcc\",\"type\":\"BasicTickFormatter\"},{\"attributes\":{\"plot\":null,\"text\":\"\"},\"id\":\"da14a4fb-20ea-4294-a3e3-83ef0f6cb38f\",\"type\":\"Title\"},{\"attributes\":{\"fill_color\":{\"value\":\"green\"},\"line_color\":{\"value\":\"green\"},\"size\":{\"units\":\"screen\",\"value\":10},\"x\":{\"value\":-0.0019251509381688215},\"y\":{\"value\":0.24222517123554618}},\"id\":\"dd3bbf4e-2fd6-4e29-850a-e4a2b357055e\",\"type\":\"Circle\"},{\"attributes\":{\"callback\":null,\"column_names\":[\"x\",\"y\",\"desc\",\"pred\",\"copy\"],\"data\":{\"copy\":[{\"__ndarray__\":\"K0n/Pg==\",\"dtype\":\"float32\",\"shape\":[1]},{\"__ndarray__\":\"DoCZPg==\",\"dtype\":\"float32\",\"shape\":[1]},{\"__ndarray__\":\"XagCPw==\",\"dtype\":\"float32\",\"shape\":[1]},{\"__ndarray__\":\"pbgJPg==\",\"dtype\":\"float32\",\"shape\":[1]},{\"__ndarray__\":\"GMc5Pw==\",\"dtype\":\"float32\",\"shape\":[1]},{\"__ndarray__\":\"1Eh0PA==\",\"dtype\":\"float32\",\"shape\":[1]},{\"__ndarray__\":\"VxcLPQ==\",\"dtype\":\"float32\",\"shape\":[1]},{\"__ndarray__\":\"qk3SPg==\",\"dtype\":\"float32\",\"shape\":[1]},{\"__ndarray__\":\"Oo75Pg==\",\"dtype\":\"float32\",\"shape\":[1]},{\"__ndarray__\":\"ihlnPA==\",\"dtype\":\"float32\",\"shape\":[1]},{\"__ndarray__\":\"be4UPg==\",\"dtype\":\"float32\",\"shape\":[1]},{\"__ndarray__\":\"nQUgPw==\",\"dtype\":\"float32\",\"shape\":[1]},{\"__ndarray__\":\"LMchPg==\",\"dtype\":\"float32\",\"shape\":[1]},{\"__ndarray__\":\"xMMlPw==\",\"dtype\":\"float32\",\"shape\":[1]},{\"__ndarray__\":\"KjIvPg==\",\"dtype\":\"float32\",\"shape\":[1]},{\"__ndarray__\":\"dZspPw==\",\"dtype\":\"float32\",\"shape\":[1]},{\"__ndarray__\":\"hhE7Pg==\",\"dtype\":\"float32\",\"shape\":[1]},{\"__ndarray__\":\"Ou4qPw==\",\"dtype\":\"float32\",\"shape\":[1]},{\"__ndarray__\":\"xlTsPg==\",\"dtype\":\"float32\",\"shape\":[1]},{\"__ndarray__\":\"SnL5Pg==\",\"dtype\":\"float32\",\"shape\":[1]}],\"desc\":[\"    - utter_ask_details\",\"    - utter_explain_details_hotel\",\"    - utter_ask_details\",\"    - utter_chitchat\",\"    - utter_ask_details\",\"    - utter_ask_startdate\",\"    - utter_ask_location\",\"    - utter_explain_location_hotel\",\"    - utter_ask_location\",\"    - utter_ask_price\",\"    - utter_chitchat\",\"    - utter_ask_price\",\"    - utter_chitchat\",\"    - utter_ask_price\",\"    - utter_chitchat\",\"    - utter_ask_price\",\"    - utter_chitchat\",\"    - utter_ask_price\",\"    - utter_explain_price_hotel\",\"    - utter_ask_price\"],\"pred\":[\"utter_ask_details\",\"utter_explain_details_hotel\",\"utter_ask_details\",\"utter_chitchat\",\"utter_ask_details\",\"utter_ask_startdate\",\"utter_ask_location\",\"utter_explain_location_hotel\",\"utter_ask_location\",\"utter_ask_price\",\"utter_chitchat\",\"utter_ask_price\",\"utter_chitchat\",\"utter_ask_price\",\"utter_chitchat\",\"utter_ask_price\",\"utter_chitchat\",\"utter_ask_price\",\"utter_explain_price_hotel\",\"utter_ask_price\"],\"x\":{\"__ndarray__\":\"kDoGDIXFwb8Hm4M/3Bamv72yJ8t8O6a/lsOfgPRwur9D1cCFKy6mv/h/9ud5qHK/eOO6Bqfvvb8mvnIbWVG4vwDXLihHQbe/Y2vvjSh2u7+PAC0/rbPHv9cc6TZojMq/b0v59imLyb/NLRtN6r7Kv9xlKitTfsW/D5Q2Y9/Wyr+ZWrY1GgzIv7Y60fHs4cq/27kDrRsoy78M6fAmkCvJvw==\",\"dtype\":\"float64\",\"shape\":[20]},\"y\":{\"__ndarray__\":\"ozut0g/1wT92ZL0DH2rOP8jVRaq8Y84/oaJIYDERyT/vKnIYu2bOP4NHxUWB9dE/wI1lnDabxD/NdR7d+tbBP90zx0vpBsI/0qDJGUg4wz/MnvI1msGnv5pl00lXTcS/zkH82q7tu78tFTsDRoXEv3dlm0s8C8S//F6lhL2mxL/7BuORDnnEvxQTg3r7ssS/V7wjD8X+xL+RiyfXAhHDvw==\",\"dtype\":\"float64\",\"shape\":[20]}},\"selected\":null,\"selection_policy\":null},\"id\":\"ba385fa3-4471-4094-8a1c-359a60dd0fba\",\"type\":\"ColumnDataSource\"},{\"attributes\":{\"source\":{\"id\":\"ba385fa3-4471-4094-8a1c-359a60dd0fba\",\"type\":\"ColumnDataSource\"}},\"id\":\"703ab529-8758-45d7-a022-30d591fc6faf\",\"type\":\"CDSView\"},{\"attributes\":{},\"id\":\"26922811-d852-4779-895d-6bff1c7caf6d\",\"type\":\"BasicTickFormatter\"},{\"attributes\":{\"data_source\":{\"id\":\"e5747000-627d-46f5-be7c-651a9e9c586a\",\"type\":\"ColumnDataSource\"},\"glyph\":{\"id\":\"b4c12283-8689-49a1-b73b-fd59cb0c6492\",\"type\":\"Circle\"},\"hover_glyph\":null,\"muted_glyph\":null,\"name\":\"circle\",\"nonselection_glyph\":{\"id\":\"a78cc80e-ee06-4fb6-b20f-6636acfeea6c\",\"type\":\"Circle\"},\"selection_glyph\":null,\"view\":{\"id\":\"5a30b423-0bf2-49de-9598-302a859d5ba6\",\"type\":\"CDSView\"}},\"id\":\"4b5c92ed-0363-411e-bfa5-a38becaee582\",\"type\":\"GlyphRenderer\"},{\"attributes\":{\"callback\":null,\"data\":{},\"selected\":null,\"selection_policy\":null},\"id\":\"c79422d8-663f-4ae7-9994-a0a035c6a460\",\"type\":\"ColumnDataSource\"},{\"attributes\":{\"fill_color\":{\"value\":\"green\"},\"line_color\":{\"value\":\"green\"},\"size\":{\"units\":\"screen\",\"value\":5},\"x\":{\"field\":\"x\"},\"y\":{\"field\":\"y\"}},\"id\":\"4c7b22ce-fd6c-4d53-a22a-b3fe0b44c196\",\"type\":\"Circle\"},{\"attributes\":{\"callback\":null,\"data\":{},\"selected\":null,\"selection_policy\":null},\"id\":\"3dbf7dad-c08d-4f03-8932-60925558e149\",\"type\":\"ColumnDataSource\"},{\"attributes\":{\"fill_alpha\":{\"value\":0.1},\"fill_color\":{\"value\":\"#1f77b4\"},\"line_alpha\":{\"value\":0.1},\"line_color\":{\"value\":\"#1f77b4\"},\"size\":{\"units\":\"screen\",\"value\":5},\"x\":{\"field\":\"x\"},\"y\":{\"field\":\"y\"}},\"id\":\"2c764e6c-1986-491a-84e9-508c90f2e665\",\"type\":\"Circle\"},{\"attributes\":{\"callback\":null,\"column_names\":[\"x\",\"y\",\"desc\",\"pred\",\"copy\"],\"data\":{\"copy\":[{\"__ndarray__\":\"K0n/Pg==\",\"dtype\":\"float32\",\"shape\":[1]},{\"__ndarray__\":\"DoCZPg==\",\"dtype\":\"float32\",\"shape\":[1]},{\"__ndarray__\":\"XagCPw==\",\"dtype\":\"float32\",\"shape\":[1]},{\"__ndarray__\":\"pbgJPg==\",\"dtype\":\"float32\",\"shape\":[1]},{\"__ndarray__\":\"GMc5Pw==\",\"dtype\":\"float32\",\"shape\":[1]},{\"__ndarray__\":\"1Eh0PA==\",\"dtype\":\"float32\",\"shape\":[1]},{\"__ndarray__\":\"VxcLPQ==\",\"dtype\":\"float32\",\"shape\":[1]},{\"__ndarray__\":\"qk3SPg==\",\"dtype\":\"float32\",\"shape\":[1]},{\"__ndarray__\":\"Oo75Pg==\",\"dtype\":\"float32\",\"shape\":[1]},{\"__ndarray__\":\"ihlnPA==\",\"dtype\":\"float32\",\"shape\":[1]},{\"__ndarray__\":\"be4UPg==\",\"dtype\":\"float32\",\"shape\":[1]},{\"__ndarray__\":\"nQUgPw==\",\"dtype\":\"float32\",\"shape\":[1]},{\"__ndarray__\":\"LMchPg==\",\"dtype\":\"float32\",\"shape\":[1]},{\"__ndarray__\":\"xMMlPw==\",\"dtype\":\"float32\",\"shape\":[1]},{\"__ndarray__\":\"KjIvPg==\",\"dtype\":\"float32\",\"shape\":[1]},{\"__ndarray__\":\"dZspPw==\",\"dtype\":\"float32\",\"shape\":[1]},{\"__ndarray__\":\"hhE7Pg==\",\"dtype\":\"float32\",\"shape\":[1]},{\"__ndarray__\":\"Ou4qPw==\",\"dtype\":\"float32\",\"shape\":[1]},{\"__ndarray__\":\"xlTsPg==\",\"dtype\":\"float32\",\"shape\":[1]},{\"__ndarray__\":\"SnL5Pg==\",\"dtype\":\"float32\",\"shape\":[1]}],\"desc\":[\"    - utter_ask_details\",\"    - utter_explain_details_hotel\",\"    - utter_ask_details\",\"    - utter_chitchat\",\"    - utter_ask_details\",\"    - utter_ask_startdate\",\"    - utter_ask_location\",\"    - utter_explain_location_hotel\",\"    - utter_ask_location\",\"    - utter_ask_price\",\"    - utter_chitchat\",\"    - utter_ask_price\",\"    - utter_chitchat\",\"    - utter_ask_price\",\"    - utter_chitchat\",\"    - utter_ask_price\",\"    - utter_chitchat\",\"    - utter_ask_price\",\"    - utter_explain_price_hotel\",\"    - utter_ask_price\"],\"pred\":[\"utter_ask_details\",\"utter_explain_details_hotel\",\"utter_ask_details\",\"utter_chitchat\",\"utter_ask_details\",\"utter_ask_startdate\",\"utter_ask_location\",\"utter_explain_location_hotel\",\"utter_ask_location\",\"utter_ask_price\",\"utter_chitchat\",\"utter_ask_price\",\"utter_chitchat\",\"utter_ask_price\",\"utter_chitchat\",\"utter_ask_price\",\"utter_chitchat\",\"utter_ask_price\",\"utter_explain_price_hotel\",\"utter_ask_price\"],\"x\":{\"__ndarray__\":\"GzQQ+2MuwT+gk0Z+Pg6/P3+nvLD5PaM/pixWqk5u4D/bO9l4jimnP/R1nxSEXcS/Yg85B0K1xb8iZv4MsZSwvxi+h3VLjsG/1G3EI8aN0L8kl+wOuVDSP95Q9wDmw8G/EvWRz3fK1z+3TQFju0G1v0HygqzCHNo/cj4I7b5bq7/zC1vgAjfbP3OeQ/hBhKG/3d3Km/E5rz/kCnxTMQKWvw==\",\"dtype\":\"float64\",\"shape\":[20]},\"y\":{\"__ndarray__\":\"Q1aAQWn91T+EH1mAoeXSP1xffLQMPs8/f6LZN5sWlb80/pFCgjTAPyhOiJvn7qK/3/L/yVFEsz9uAMQPydDAP049Q/yjiaG/qML4ctzizL81t1bFdKXEvwYJz2yIobi/k1BUl/tIv7/OXS1ASoKsv4jc5ckttrq/QXytkRIZor+zWV13G5S4v2Vp6rhL45a/v8hKWw1gyj904Qwg/xKsPw==\",\"dtype\":\"float64\",\"shape\":[20]}},\"selected\":null,\"selection_policy\":null},\"id\":\"e5747000-627d-46f5-be7c-651a9e9c586a\",\"type\":\"ColumnDataSource\"},{\"attributes\":{\"source\":{\"id\":\"e5747000-627d-46f5-be7c-651a9e9c586a\",\"type\":\"ColumnDataSource\"}},\"id\":\"5a30b423-0bf2-49de-9598-302a859d5ba6\",\"type\":\"CDSView\"},{\"attributes\":{\"fill_color\":{\"value\":\"magenta\"},\"line_color\":{\"value\":\"magenta\"},\"size\":{\"units\":\"screen\",\"value\":5},\"x\":{\"value\":-0.06555390981982652},\"y\":{\"value\":0.11037792921088367}},\"id\":\"5c83e762-dd1c-441e-836a-e1baedb848c6\",\"type\":\"Circle\"},{\"attributes\":{\"below\":[{\"id\":\"38b32cd0-1b58-4284-acfa-f3225f14cf75\",\"type\":\"LinearAxis\"}],\"left\":[{\"id\":\"4f44dfb0-f502-4660-b19f-60ec722908a6\",\"type\":\"LinearAxis\"}],\"renderers\":[{\"id\":\"38b32cd0-1b58-4284-acfa-f3225f14cf75\",\"type\":\"LinearAxis\"},{\"id\":\"8effe03f-cf08-41e7-be9c-8d565916edbe\",\"type\":\"Grid\"},{\"id\":\"4f44dfb0-f502-4660-b19f-60ec722908a6\",\"type\":\"LinearAxis\"},{\"id\":\"8ca4aa3f-c381-4811-aeca-fa8d1e8b848b\",\"type\":\"Grid\"},{\"id\":\"0b0c21bc-f868-40ce-9971-6ccc50db90c7\",\"type\":\"Arrow\"},{\"id\":\"37543e3c-c6c1-4548-b62d-4f18c51b2b66\",\"type\":\"Arrow\"},{\"id\":\"949aad2d-9957-49bd-b4fa-ffb95fe35cdb\",\"type\":\"Arrow\"},{\"id\":\"f4869c1e-e05e-4add-a330-63970028a35d\",\"type\":\"Arrow\"},{\"id\":\"291a6b09-7fbd-4f3a-ae0a-05f59b4bb205\",\"type\":\"Arrow\"},{\"id\":\"4f1db645-ea0d-4d4d-9ea6-abe768346276\",\"type\":\"Arrow\"},{\"id\":\"08c5cad8-d1ef-41de-bc64-d3c1882125f7\",\"type\":\"Arrow\"},{\"id\":\"328feae3-9072-42e1-998d-f5bf7769d3de\",\"type\":\"Arrow\"},{\"id\":\"ca174513-c353-41ad-af8a-8904b79b3daa\",\"type\":\"Arrow\"},{\"id\":\"842fd3e6-e3f0-4326-80dc-cb5dd11a1918\",\"type\":\"Arrow\"},{\"id\":\"d4a9552a-46be-484f-9d36-11ed0e9bcbfe\",\"type\":\"Arrow\"},{\"id\":\"06496854-8ce2-40c5-a420-8138ec52dbf8\",\"type\":\"Arrow\"},{\"id\":\"a13b967d-8ab0-464e-86d8-a322c856ba34\",\"type\":\"Arrow\"},{\"id\":\"34fb2050-999b-461a-b79f-f4cb2dca6a71\",\"type\":\"Arrow\"},{\"id\":\"6182ee71-c814-414a-af6f-3996223db14d\",\"type\":\"Arrow\"},{\"id\":\"92911eb5-6517-4c80-8a2d-0ba02771d6d8\",\"type\":\"Arrow\"},{\"id\":\"4e9f5957-a9ba-43a3-9ba4-fbbc7e5e8716\",\"type\":\"Arrow\"},{\"id\":\"32ef71dd-19bc-44cc-8050-e80115d71991\",\"type\":\"Arrow\"},{\"id\":\"5c2fb0f2-648a-40d7-abc2-fb78c998782e\",\"type\":\"Arrow\"},{\"id\":\"33efa04a-a83f-4693-be4f-b55766b758c2\",\"type\":\"GlyphRenderer\"},{\"id\":\"0954484c-fb0f-485f-82db-2a87d8e713b0\",\"type\":\"GlyphRenderer\"},{\"id\":\"4b5c92ed-0363-411e-bfa5-a38becaee582\",\"type\":\"GlyphRenderer\"},{\"id\":\"4b73e163-a54e-45e4-bf48-524817af3fe3\",\"type\":\"GlyphRenderer\"},{\"id\":\"6dea5a59-20e7-4518-ab4d-13f93abee7cb\",\"type\":\"GlyphRenderer\"},{\"id\":\"f0103fd2-cd2c-4640-9519-6ab6f1529d63\",\"type\":\"GlyphRenderer\"}],\"title\":{\"id\":\"da14a4fb-20ea-4294-a3e3-83ef0f6cb38f\",\"type\":\"Title\"},\"toolbar\":{\"id\":\"cc8ff7fa-b559-4f52-8003-02cf7a201e27\",\"type\":\"Toolbar\"},\"x_range\":{\"id\":\"1b084b51-bdbd-462d-946c-531ba5f98a36\",\"type\":\"DataRange1d\"},\"x_scale\":{\"id\":\"73359dd0-3ad5-4bfb-a5da-4c86f006748d\",\"type\":\"LinearScale\"},\"y_range\":{\"id\":\"3b8f7554-edca-40bc-9eba-d7a2a7bdc6f6\",\"type\":\"DataRange1d\"},\"y_scale\":{\"id\":\"75d30ee3-bbc2-4d66-a98a-b9328d4d568f\",\"type\":\"LinearScale\"}},\"id\":\"3aaf08bb-b466-4620-924f-c0e8f3d160c6\",\"subtype\":\"Figure\",\"type\":\"Plot\"},{\"attributes\":{\"fill_color\":{\"value\":\"red\"},\"line_color\":{\"value\":\"red\"},\"size\":{\"units\":\"screen\",\"value\":5},\"x\":{\"field\":\"x\"},\"y\":{\"field\":\"y\"}},\"id\":\"b4c12283-8689-49a1-b73b-fd59cb0c6492\",\"type\":\"Circle\"},{\"attributes\":{\"fill_alpha\":{\"value\":0.1},\"fill_color\":{\"value\":\"#1f77b4\"},\"line_alpha\":{\"value\":0.1},\"line_color\":{\"value\":\"#1f77b4\"},\"size\":{\"units\":\"screen\",\"value\":5},\"x\":{\"field\":\"x\"},\"y\":{\"field\":\"y\"}},\"id\":\"a78cc80e-ee06-4fb6-b20f-6636acfeea6c\",\"type\":\"Circle\"},{\"attributes\":{\"callback\":null,\"names\":[\"circle\"],\"tooltips\":[[\"true action\",\"@desc\"],[\"prediction\",\"@pred\"],[\"copy_gate\",\"@copy\"]]},\"id\":\"e7c6ae53-6428-4be5-95f3-d19520829eef\",\"type\":\"HoverTool\"},{\"attributes\":{\"line_color\":{\"value\":\"firebrick\"},\"line_width\":{\"value\":2},\"plot\":null,\"size\":10},\"id\":\"2787d30a-2551-4793-a951-eb86285ac225\",\"type\":\"OpenHead\"},{\"attributes\":{\"source\":{\"id\":\"c79422d8-663f-4ae7-9994-a0a035c6a460\",\"type\":\"ColumnDataSource\"}},\"id\":\"523bb0cb-d677-40c5-97db-31bbf36579e2\",\"type\":\"CDSView\"},{\"attributes\":{\"callback\":null},\"id\":\"1b084b51-bdbd-462d-946c-531ba5f98a36\",\"type\":\"DataRange1d\"},{\"attributes\":{\"fill_alpha\":{\"value\":0.1},\"fill_color\":{\"value\":\"#1f77b4\"},\"line_alpha\":{\"value\":0.1},\"line_color\":{\"value\":\"#1f77b4\"},\"size\":{\"units\":\"screen\",\"value\":5},\"x\":{\"value\":-0.06555390981982652},\"y\":{\"value\":0.11037792921088367}},\"id\":\"581e9330-e0a0-4ee2-98c9-620336365997\",\"type\":\"Circle\"},{\"attributes\":{\"data_source\":{\"id\":\"c79422d8-663f-4ae7-9994-a0a035c6a460\",\"type\":\"ColumnDataSource\"},\"glyph\":{\"id\":\"5c83e762-dd1c-441e-836a-e1baedb848c6\",\"type\":\"Circle\"},\"hover_glyph\":null,\"muted_glyph\":null,\"nonselection_glyph\":{\"id\":\"581e9330-e0a0-4ee2-98c9-620336365997\",\"type\":\"Circle\"},\"selection_glyph\":null,\"view\":{\"id\":\"523bb0cb-d677-40c5-97db-31bbf36579e2\",\"type\":\"CDSView\"}},\"id\":\"4b73e163-a54e-45e4-bf48-524817af3fe3\",\"type\":\"GlyphRenderer\"},{\"attributes\":{\"callback\":null},\"id\":\"3b8f7554-edca-40bc-9eba-d7a2a7bdc6f6\",\"type\":\"DataRange1d\"},{\"attributes\":{\"data_source\":{\"id\":\"3dbf7dad-c08d-4f03-8932-60925558e149\",\"type\":\"ColumnDataSource\"},\"glyph\":{\"id\":\"dd3bbf4e-2fd6-4e29-850a-e4a2b357055e\",\"type\":\"Circle\"},\"hover_glyph\":null,\"muted_glyph\":null,\"nonselection_glyph\":{\"id\":\"f8559c0e-1995-43b2-b331-0b104978438e\",\"type\":\"Circle\"},\"selection_glyph\":null,\"view\":{\"id\":\"2dfb1562-2b79-4527-ab0f-27b92c4af229\",\"type\":\"CDSView\"}},\"id\":\"6dea5a59-20e7-4518-ab4d-13f93abee7cb\",\"type\":\"GlyphRenderer\"},{\"attributes\":{\"line_color\":{\"value\":\"firebrick\"},\"line_width\":{\"value\":2},\"plot\":null,\"size\":10},\"id\":\"fbbd1dea-0a54-40c6-8cc9-ceccd2b0937b\",\"type\":\"OpenHead\"},{\"attributes\":{\"callback\":null,\"column_names\":[\"x\",\"y\",\"desc\",\"pred\",\"copy\"],\"data\":{\"copy\":[{\"__ndarray__\":\"K0n/Pg==\",\"dtype\":\"float32\",\"shape\":[1]},{\"__ndarray__\":\"DoCZPg==\",\"dtype\":\"float32\",\"shape\":[1]},{\"__ndarray__\":\"XagCPw==\",\"dtype\":\"float32\",\"shape\":[1]},{\"__ndarray__\":\"pbgJPg==\",\"dtype\":\"float32\",\"shape\":[1]},{\"__ndarray__\":\"GMc5Pw==\",\"dtype\":\"float32\",\"shape\":[1]},{\"__ndarray__\":\"1Eh0PA==\",\"dtype\":\"float32\",\"shape\":[1]},{\"__ndarray__\":\"VxcLPQ==\",\"dtype\":\"float32\",\"shape\":[1]},{\"__ndarray__\":\"qk3SPg==\",\"dtype\":\"float32\",\"shape\":[1]},{\"__ndarray__\":\"Oo75Pg==\",\"dtype\":\"float32\",\"shape\":[1]},{\"__ndarray__\":\"ihlnPA==\",\"dtype\":\"float32\",\"shape\":[1]},{\"__ndarray__\":\"be4UPg==\",\"dtype\":\"float32\",\"shape\":[1]},{\"__ndarray__\":\"nQUgPw==\",\"dtype\":\"float32\",\"shape\":[1]},{\"__ndarray__\":\"LMchPg==\",\"dtype\":\"float32\",\"shape\":[1]},{\"__ndarray__\":\"xMMlPw==\",\"dtype\":\"float32\",\"shape\":[1]},{\"__ndarray__\":\"KjIvPg==\",\"dtype\":\"float32\",\"shape\":[1]},{\"__ndarray__\":\"dZspPw==\",\"dtype\":\"float32\",\"shape\":[1]},{\"__ndarray__\":\"hhE7Pg==\",\"dtype\":\"float32\",\"shape\":[1]},{\"__ndarray__\":\"Ou4qPw==\",\"dtype\":\"float32\",\"shape\":[1]},{\"__ndarray__\":\"xlTsPg==\",\"dtype\":\"float32\",\"shape\":[1]},{\"__ndarray__\":\"SnL5Pg==\",\"dtype\":\"float32\",\"shape\":[1]}],\"desc\":[\"    - utter_ask_details\",\"    - utter_explain_details_hotel\",\"    - utter_ask_details\",\"    - utter_chitchat\",\"    - utter_ask_details\",\"    - utter_ask_startdate\",\"    - utter_ask_location\",\"    - utter_explain_location_hotel\",\"    - utter_ask_location\",\"    - utter_ask_price\",\"    - utter_chitchat\",\"    - utter_ask_price\",\"    - utter_chitchat\",\"    - utter_ask_price\",\"    - utter_chitchat\",\"    - utter_ask_price\",\"    - utter_chitchat\",\"    - utter_ask_price\",\"    - utter_explain_price_hotel\",\"    - utter_ask_price\"],\"pred\":[\"utter_ask_details\",\"utter_explain_details_hotel\",\"utter_ask_details\",\"utter_chitchat\",\"utter_ask_details\",\"utter_ask_startdate\",\"utter_ask_location\",\"utter_explain_location_hotel\",\"utter_ask_location\",\"utter_ask_price\",\"utter_chitchat\",\"utter_ask_price\",\"utter_chitchat\",\"utter_ask_price\",\"utter_chitchat\",\"utter_ask_price\",\"utter_chitchat\",\"utter_ask_price\",\"utter_explain_price_hotel\",\"utter_ask_price\"],\"x\":{\"__ndarray__\":\"Q2RvFKuKX79NbwPkCm+yP+mCN260z26/hFWiF5SN2z+uUXyJNHyTv+4IWx4CEsS/DfFGgqp6xb8ebdyAPsKzv8mlw3ojVb2/nRvQK8pq0L98I41sGNvLP02Z0K1oQce/Z/17M7UD0j9C314IjxDFv6irTtheztM/2FLNDAoXxL/hBPA/8AvUP+2KlMSTZ8O/zMwzU++psL9LR/SJ6Vi7vw==\",\"dtype\":\"float64\",\"shape\":[20]},\"y\":{\"__ndarray__\":\"A8JcAjwBzz+gJVKdccrRPy9jqn6gzs4/1qguGBBwgT9rduSt14HKP7KBtuU/gqC/P9jSGRkDtD+2AyxAezzBP8N6Qf0kKKo/1iwWSSc1zL9T77wf3YHCv3LRXfvMTsG/yxMGgznBvr9toJtncJm/v/peAX0KAL2/BA9o7v5qvr8cVNXqjZG7vzPdUu7/ir2/bxsn7QEKoj8evCj2n8Kmvw==\",\"dtype\":\"float64\",\"shape\":[20]}},\"selected\":null,\"selection_policy\":null},\"id\":\"57939676-c4f4-49ae-9723-6b51e80b16e4\",\"type\":\"ColumnDataSource\"},{\"attributes\":{\"callback\":null,\"data\":{},\"selected\":null,\"selection_policy\":null},\"id\":\"62a97907-4c1a-4690-8b9b-a787886f7b4c\",\"type\":\"ColumnDataSource\"},{\"attributes\":{\"active_drag\":\"auto\",\"active_inspect\":\"auto\",\"active_scroll\":\"auto\",\"active_tap\":\"auto\",\"tools\":[{\"id\":\"e7c6ae53-6428-4be5-95f3-d19520829eef\",\"type\":\"HoverTool\"}]},\"id\":\"cc8ff7fa-b559-4f52-8003-02cf7a201e27\",\"type\":\"Toolbar\"},{\"attributes\":{\"fill_color\":{\"value\":\"red\"},\"line_color\":{\"value\":\"red\"},\"size\":{\"units\":\"screen\",\"value\":10},\"x\":{\"value\":-0.10682544343970084},\"y\":{\"value\":-0.04445361976501537}},\"id\":\"4b608349-076e-449e-8d9d-3b183a43b9c6\",\"type\":\"Circle\"},{\"attributes\":{},\"id\":\"75d30ee3-bbc2-4d66-a98a-b9328d4d568f\",\"type\":\"LinearScale\"},{\"attributes\":{\"fill_alpha\":{\"value\":0.1},\"fill_color\":{\"value\":\"#1f77b4\"},\"line_alpha\":{\"value\":0.1},\"line_color\":{\"value\":\"#1f77b4\"},\"size\":{\"units\":\"screen\",\"value\":10},\"x\":{\"value\":-0.0019251509381688215},\"y\":{\"value\":0.24222517123554618}},\"id\":\"f8559c0e-1995-43b2-b331-0b104978438e\",\"type\":\"Circle\"},{\"attributes\":{},\"id\":\"73359dd0-3ad5-4bfb-a5da-4c86f006748d\",\"type\":\"LinearScale\"},{\"attributes\":{\"source\":{\"id\":\"3dbf7dad-c08d-4f03-8932-60925558e149\",\"type\":\"ColumnDataSource\"}},\"id\":\"2dfb1562-2b79-4527-ab0f-27b92c4af229\",\"type\":\"CDSView\"},{\"attributes\":{\"data_source\":{\"id\":\"62a97907-4c1a-4690-8b9b-a787886f7b4c\",\"type\":\"ColumnDataSource\"},\"glyph\":{\"id\":\"4b608349-076e-449e-8d9d-3b183a43b9c6\",\"type\":\"Circle\"},\"hover_glyph\":null,\"muted_glyph\":null,\"nonselection_glyph\":{\"id\":\"b2eeec23-7b0f-415b-bae0-3d6e078dd828\",\"type\":\"Circle\"},\"selection_glyph\":null,\"view\":{\"id\":\"070c7516-65ec-4c05-9d08-888492b3ae7d\",\"type\":\"CDSView\"}},\"id\":\"f0103fd2-cd2c-4640-9519-6ab6f1529d63\",\"type\":\"GlyphRenderer\"},{\"attributes\":{\"end\":{\"id\":\"2787d30a-2551-4793-a951-eb86285ac225\",\"type\":\"OpenHead\"},\"line_color\":{\"value\":\"gray\"},\"plot\":{\"id\":\"3aaf08bb-b466-4620-924f-c0e8f3d160c6\",\"subtype\":\"Figure\",\"type\":\"Plot\"},\"source\":null,\"start\":null,\"x_end\":{\"value\":0.07200687472089591},\"x_start\":{\"value\":-0.0019251509381688215},\"y_end\":{\"value\":0.27798118937843164},\"y_start\":{\"value\":0.24222517123554618}},\"id\":\"0b0c21bc-f868-40ce-9971-6ccc50db90c7\",\"type\":\"Arrow\"},{\"attributes\":{\"formatter\":{\"id\":\"a1a92dae-7cd1-4c56-8ad0-81023b9fffcc\",\"type\":\"BasicTickFormatter\"},\"plot\":{\"id\":\"3aaf08bb-b466-4620-924f-c0e8f3d160c6\",\"subtype\":\"Figure\",\"type\":\"Plot\"},\"ticker\":{\"id\":\"1d3d9838-a3ce-413a-99cd-db5692e59a77\",\"type\":\"BasicTicker\"}},\"id\":\"38b32cd0-1b58-4284-acfa-f3225f14cf75\",\"type\":\"LinearAxis\"},{\"attributes\":{\"plot\":{\"id\":\"3aaf08bb-b466-4620-924f-c0e8f3d160c6\",\"subtype\":\"Figure\",\"type\":\"Plot\"},\"ticker\":{\"id\":\"1d3d9838-a3ce-413a-99cd-db5692e59a77\",\"type\":\"BasicTicker\"}},\"id\":\"8effe03f-cf08-41e7-be9c-8d565916edbe\",\"type\":\"Grid\"},{\"attributes\":{},\"id\":\"1d3d9838-a3ce-413a-99cd-db5692e59a77\",\"type\":\"BasicTicker\"},{\"attributes\":{\"fill_alpha\":{\"value\":0.1},\"fill_color\":{\"value\":\"#1f77b4\"},\"line_alpha\":{\"value\":0.1},\"line_color\":{\"value\":\"#1f77b4\"},\"size\":{\"units\":\"screen\",\"value\":10},\"x\":{\"value\":-0.10682544343970084},\"y\":{\"value\":-0.04445361976501537}},\"id\":\"b2eeec23-7b0f-415b-bae0-3d6e078dd828\",\"type\":\"Circle\"},{\"attributes\":{\"formatter\":{\"id\":\"26922811-d852-4779-895d-6bff1c7caf6d\",\"type\":\"BasicTickFormatter\"},\"plot\":{\"id\":\"3aaf08bb-b466-4620-924f-c0e8f3d160c6\",\"subtype\":\"Figure\",\"type\":\"Plot\"},\"ticker\":{\"id\":\"6c988359-a434-4db0-9db6-f406932dc8d6\",\"type\":\"BasicTicker\"}},\"id\":\"4f44dfb0-f502-4660-b19f-60ec722908a6\",\"type\":\"LinearAxis\"},{\"attributes\":{\"source\":{\"id\":\"62a97907-4c1a-4690-8b9b-a787886f7b4c\",\"type\":\"ColumnDataSource\"}},\"id\":\"070c7516-65ec-4c05-9d08-888492b3ae7d\",\"type\":\"CDSView\"},{\"attributes\":{},\"id\":\"6c988359-a434-4db0-9db6-f406932dc8d6\",\"type\":\"BasicTicker\"},{\"attributes\":{\"dimension\":1,\"plot\":{\"id\":\"3aaf08bb-b466-4620-924f-c0e8f3d160c6\",\"subtype\":\"Figure\",\"type\":\"Plot\"},\"ticker\":{\"id\":\"6c988359-a434-4db0-9db6-f406932dc8d6\",\"type\":\"BasicTicker\"}},\"id\":\"8ca4aa3f-c381-4811-aeca-fa8d1e8b848b\",\"type\":\"Grid\"},{\"attributes\":{\"line_color\":{\"value\":\"firebrick\"},\"line_width\":{\"value\":2},\"plot\":null,\"size\":10},\"id\":\"390acd7f-7e47-4e28-8730-3be1bad665d8\",\"type\":\"OpenHead\"},{\"attributes\":{\"line_color\":{\"value\":\"firebrick\"},\"line_width\":{\"value\":2},\"plot\":null,\"size\":10},\"id\":\"26a85c00-ea8a-4e32-b3c1-dc5bccb5a38f\",\"type\":\"OpenHead\"},{\"attributes\":{\"end\":{\"id\":\"ddabb1d3-571e-472e-ad50-8a7b0989afb9\",\"type\":\"OpenHead\"},\"line_color\":{\"value\":\"gray\"},\"plot\":{\"id\":\"3aaf08bb-b466-4620-924f-c0e8f3d160c6\",\"subtype\":\"Figure\",\"type\":\"Plot\"},\"source\":null,\"start\":null,\"x_end\":{\"value\":0.3132286667242408},\"x_start\":{\"value\":-0.15695310235118742},\"y_end\":{\"value\":-0.10768973334536763},\"y_start\":{\"value\":-0.11882012672873193}},\"id\":\"92911eb5-6517-4c80-8a2d-0ba02771d6d8\",\"type\":\"Arrow\"},{\"attributes\":{\"end\":{\"id\":\"3f0f3791-8c58-4830-951c-fd50c30b3483\",\"type\":\"OpenHead\"},\"line_color\":{\"value\":\"gray\"},\"plot\":{\"id\":\"3aaf08bb-b466-4620-924f-c0e8f3d160c6\",\"subtype\":\"Figure\",\"type\":\"Plot\"},\"source\":null,\"start\":null,\"x_end\":{\"value\":-0.15159842585224884},\"x_start\":{\"value\":0.3132286667242408},\"y_end\":{\"value\":-0.11540221756410034},\"y_start\":{\"value\":-0.10768973334536763}},\"id\":\"4e9f5957-a9ba-43a3-9ba4-fbbc7e5e8716\",\"type\":\"Arrow\"},{\"attributes\":{\"end\":{\"id\":\"fbbd1dea-0a54-40c6-8cc9-ceccd2b0937b\",\"type\":\"OpenHead\"},\"line_color\":{\"value\":\"gray\"},\"plot\":{\"id\":\"3aaf08bb-b466-4620-924f-c0e8f3d160c6\",\"subtype\":\"Figure\",\"type\":\"Plot\"},\"source\":null,\"start\":null,\"x_end\":{\"value\":-0.003761150744807974},\"x_start\":{\"value\":0.07200687472089591},\"y_end\":{\"value\":0.24068075356333327},\"y_start\":{\"value\":0.27798118937843164}},\"id\":\"37543e3c-c6c1-4548-b62d-4f18c51b2b66\",\"type\":\"Arrow\"},{\"attributes\":{\"line_color\":{\"value\":\"firebrick\"},\"line_width\":{\"value\":2},\"plot\":null,\"size\":10},\"id\":\"af4c095c-6b6e-4156-acaa-b69509f0a4de\",\"type\":\"OpenHead\"},{\"attributes\":{\"end\":{\"id\":\"26a85c00-ea8a-4e32-b3c1-dc5bccb5a38f\",\"type\":\"OpenHead\"},\"line_color\":{\"value\":\"gray\"},\"plot\":{\"id\":\"3aaf08bb-b466-4620-924f-c0e8f3d160c6\",\"subtype\":\"Figure\",\"type\":\"Plot\"},\"source\":null,\"start\":null,\"x_end\":{\"value\":0.43051626499194406},\"x_start\":{\"value\":-0.003761150744807974},\"y_end\":{\"value\":0.008514524209961054},\"y_start\":{\"value\":0.24068075356333327}},\"id\":\"949aad2d-9957-49bd-b4fa-ffb95fe35cdb\",\"type\":\"Arrow\"},{\"attributes\":{\"fill_alpha\":{\"value\":0.1},\"fill_color\":{\"value\":\"#1f77b4\"},\"line_alpha\":{\"value\":0.1},\"line_color\":{\"value\":\"#1f77b4\"},\"size\":{\"units\":\"screen\",\"value\":10},\"x\":{\"field\":\"x\"},\"y\":{\"field\":\"y\"}},\"id\":\"3a4ec5b4-d450-4371-ad7e-a2b2123a9721\",\"type\":\"Circle\"},{\"attributes\":{\"line_color\":{\"value\":\"firebrick\"},\"line_width\":{\"value\":2},\"plot\":null,\"size\":10},\"id\":\"d4cd17c8-f321-4c18-a196-47af934b73e9\",\"type\":\"OpenHead\"},{\"attributes\":{\"end\":{\"id\":\"af4c095c-6b6e-4156-acaa-b69509f0a4de\",\"type\":\"OpenHead\"},\"line_color\":{\"value\":\"gray\"},\"plot\":{\"id\":\"3aaf08bb-b466-4620-924f-c0e8f3d160c6\",\"subtype\":\"Figure\",\"type\":\"Plot\"},\"source\":null,\"start\":null,\"x_end\":{\"value\":-0.019028492824036007},\"x_start\":{\"value\":0.43051626499194406},\"y_end\":{\"value\":0.20708747855035212},\"y_start\":{\"value\":0.008514524209961054}},\"id\":\"f4869c1e-e05e-4add-a330-63970028a35d\",\"type\":\"Arrow\"},{\"attributes\":{\"line_color\":{\"value\":\"firebrick\"},\"line_width\":{\"value\":2},\"plot\":null,\"size\":10},\"id\":\"13407ac3-d9fd-4816-b378-96abff43349b\",\"type\":\"OpenHead\"},{\"attributes\":{\"end\":{\"id\":\"d4cd17c8-f321-4c18-a196-47af934b73e9\",\"type\":\"OpenHead\"},\"line_color\":{\"value\":\"gray\"},\"plot\":{\"id\":\"3aaf08bb-b466-4620-924f-c0e8f3d160c6\",\"subtype\":\"Figure\",\"type\":\"Plot\"},\"source\":null,\"start\":null,\"x_end\":{\"value\":-0.1567995689602592},\"x_start\":{\"value\":-0.019028492824036007},\"y_end\":{\"value\":-0.032243725577476026},\"y_start\":{\"value\":0.20708747855035212}},\"id\":\"291a6b09-7fbd-4f3a-ae0a-05f59b4bb205\",\"type\":\"Arrow\"},{\"attributes\":{\"line_color\":{\"value\":\"firebrick\"},\"line_width\":{\"value\":2},\"plot\":null,\"size\":10},\"id\":\"9deb14d3-8c65-4128-a477-c095a5c685d5\",\"type\":\"OpenHead\"},{\"attributes\":{\"end\":{\"id\":\"13407ac3-d9fd-4816-b378-96abff43349b\",\"type\":\"OpenHead\"},\"line_color\":{\"value\":\"gray\"},\"plot\":{\"id\":\"3aaf08bb-b466-4620-924f-c0e8f3d160c6\",\"subtype\":\"Figure\",\"type\":\"Plot\"},\"source\":null,\"start\":null,\"x_end\":{\"value\":-0.167805970775483},\"x_start\":{\"value\":-0.1567995689602592},\"y_end\":{\"value\":0.07817227249583512},\"y_start\":{\"value\":-0.032243725577476026}},\"id\":\"4f1db645-ea0d-4d4d-9ea6-abe768346276\",\"type\":\"Arrow\"},{\"attributes\":{\"line_color\":{\"value\":\"firebrick\"},\"line_width\":{\"value\":2},\"plot\":null,\"size\":10},\"id\":\"d110127f-30cd-4bdc-8641-1fe4a18d2fe2\",\"type\":\"OpenHead\"},{\"attributes\":{\"end\":{\"id\":\"9deb14d3-8c65-4128-a477-c095a5c685d5\",\"type\":\"OpenHead\"},\"line_color\":{\"value\":\"gray\"},\"plot\":{\"id\":\"3aaf08bb-b466-4620-924f-c0e8f3d160c6\",\"subtype\":\"Figure\",\"type\":\"Plot\"},\"source\":null,\"start\":null,\"x_end\":{\"value\":-0.07718268056889996},\"x_start\":{\"value\":-0.167805970775483},\"y_end\":{\"value\":0.13465824731249904},\"y_start\":{\"value\":0.07817227249583512}},\"id\":\"08c5cad8-d1ef-41de-bc64-d3c1882125f7\",\"type\":\"Arrow\"},{\"attributes\":{\"line_color\":{\"value\":\"firebrick\"},\"line_width\":{\"value\":2},\"plot\":null,\"size\":10},\"id\":\"8f1108fe-f81e-4895-af05-981ec7b57ee0\",\"type\":\"OpenHead\"},{\"attributes\":{\"end\":{\"id\":\"d110127f-30cd-4bdc-8641-1fe4a18d2fe2\",\"type\":\"OpenHead\"},\"line_color\":{\"value\":\"gray\"},\"plot\":{\"id\":\"3aaf08bb-b466-4620-924f-c0e8f3d160c6\",\"subtype\":\"Figure\",\"type\":\"Plot\"},\"source\":null,\"start\":null,\"x_end\":{\"value\":-0.11458036181615862},\"x_start\":{\"value\":-0.07718268056889996},\"y_end\":{\"value\":0.051087528147709026},\"y_start\":{\"value\":0.13465824731249904}},\"id\":\"328feae3-9072-42e1-998d-f5bf7769d3de\",\"type\":\"Arrow\"},{\"attributes\":{\"line_color\":{\"value\":\"firebrick\"},\"line_width\":{\"value\":2},\"plot\":null,\"size\":10},\"id\":\"c359707a-f255-42ae-99ad-44b5b58d7403\",\"type\":\"OpenHead\"},{\"attributes\":{\"end\":{\"id\":\"8f1108fe-f81e-4895-af05-981ec7b57ee0\",\"type\":\"OpenHead\"},\"line_color\":{\"value\":\"gray\"},\"plot\":{\"id\":\"3aaf08bb-b466-4620-924f-c0e8f3d160c6\",\"subtype\":\"Figure\",\"type\":\"Plot\"},\"source\":null,\"start\":null,\"x_end\":{\"value\":-0.2565179279194412},\"x_start\":{\"value\":-0.11458036181615862},\"y_end\":{\"value\":-0.2203721148365278},\"y_start\":{\"value\":0.051087528147709026}},\"id\":\"ca174513-c353-41ad-af8a-8904b79b3daa\",\"type\":\"Arrow\"},{\"attributes\":{\"line_color\":{\"value\":\"firebrick\"},\"line_width\":{\"value\":2},\"plot\":null,\"size\":10},\"id\":\"87ff7435-2579-4b12-8e47-a47488d49333\",\"type\":\"OpenHead\"},{\"attributes\":{\"end\":{\"id\":\"c359707a-f255-42ae-99ad-44b5b58d7403\",\"type\":\"OpenHead\"},\"line_color\":{\"value\":\"gray\"},\"plot\":{\"id\":\"3aaf08bb-b466-4620-924f-c0e8f3d160c6\",\"subtype\":\"Figure\",\"type\":\"Plot\"},\"source\":null,\"start\":null,\"x_end\":{\"value\":0.21762376118047289},\"x_start\":{\"value\":-0.2565179279194412},\"y_end\":{\"value\":-0.14458812761028614},\"y_start\":{\"value\":-0.2203721148365278}},\"id\":\"842fd3e6-e3f0-4326-80dc-cb5dd11a1918\",\"type\":\"Arrow\"},{\"attributes\":{\"line_color\":{\"value\":\"firebrick\"},\"line_width\":{\"value\":2},\"plot\":null,\"size\":10},\"id\":\"a386d87c-608d-4bb5-b999-7bee5b4d8b3a\",\"type\":\"OpenHead\"},{\"attributes\":{\"end\":{\"id\":\"87ff7435-2579-4b12-8e47-a47488d49333\",\"type\":\"OpenHead\"},\"line_color\":{\"value\":\"gray\"},\"plot\":{\"id\":\"3aaf08bb-b466-4620-924f-c0e8f3d160c6\",\"subtype\":\"Figure\",\"type\":\"Plot\"},\"source\":null,\"start\":null,\"x_end\":{\"value\":-0.18168362128308005},\"x_start\":{\"value\":0.21762376118047289},\"y_end\":{\"value\":-0.1352173068404557},\"y_start\":{\"value\":-0.14458812761028614}},\"id\":\"d4a9552a-46be-484f-9d36-11ed0e9bcbfe\",\"type\":\"Arrow\"},{\"attributes\":{\"line_color\":{\"value\":\"firebrick\"},\"line_width\":{\"value\":2},\"plot\":null,\"size\":10},\"id\":\"724a37d8-808f-435a-98e3-852ad3b62449\",\"type\":\"OpenHead\"},{\"attributes\":{\"end\":{\"id\":\"a386d87c-608d-4bb5-b999-7bee5b4d8b3a\",\"type\":\"OpenHead\"},\"line_color\":{\"value\":\"gray\"},\"plot\":{\"id\":\"3aaf08bb-b466-4620-924f-c0e8f3d160c6\",\"subtype\":\"Figure\",\"type\":\"Plot\"},\"source\":null,\"start\":null,\"x_end\":{\"value\":0.28147630718009115},\"x_start\":{\"value\":-0.18168362128308005},\"y_end\":{\"value\":-0.1201358742601563},\"y_start\":{\"value\":-0.1352173068404557}},\"id\":\"06496854-8ce2-40c5-a420-8138ec52dbf8\",\"type\":\"Arrow\"},{\"attributes\":{\"line_color\":{\"value\":\"firebrick\"},\"line_width\":{\"value\":2},\"plot\":null,\"size\":10},\"id\":\"b70a55bb-2dfd-4c2d-9ea9-e2f642a4edce\",\"type\":\"OpenHead\"},{\"attributes\":{\"end\":{\"id\":\"724a37d8-808f-435a-98e3-852ad3b62449\",\"type\":\"OpenHead\"},\"line_color\":{\"value\":\"gray\"},\"plot\":{\"id\":\"3aaf08bb-b466-4620-924f-c0e8f3d160c6\",\"subtype\":\"Figure\",\"type\":\"Plot\"},\"source\":null,\"start\":null,\"x_end\":{\"value\":-0.1645678320762674},\"x_start\":{\"value\":0.28147630718009115},\"y_end\":{\"value\":-0.12343504456987527},\"y_start\":{\"value\":-0.1201358742601563}},\"id\":\"a13b967d-8ab0-464e-86d8-a322c856ba34\",\"type\":\"Arrow\"},{\"attributes\":{\"line_color\":{\"value\":\"firebrick\"},\"line_width\":{\"value\":2},\"plot\":null,\"size\":10},\"id\":\"f1063add-9088-4e80-9a8b-8efc714e085e\",\"type\":\"OpenHead\"},{\"attributes\":{\"end\":{\"id\":\"b70a55bb-2dfd-4c2d-9ea9-e2f642a4edce\",\"type\":\"OpenHead\"},\"line_color\":{\"value\":\"gray\"},\"plot\":{\"id\":\"3aaf08bb-b466-4620-924f-c0e8f3d160c6\",\"subtype\":\"Figure\",\"type\":\"Plot\"},\"source\":null,\"start\":null,\"x_end\":{\"value\":0.3094708549858134},\"x_start\":{\"value\":-0.1645678320762674},\"y_end\":{\"value\":-0.11328187515152513},\"y_start\":{\"value\":-0.12343504456987527}},\"id\":\"34fb2050-999b-461a-b79f-f4cb2dca6a71\",\"type\":\"Arrow\"},{\"attributes\":{\"line_color\":{\"value\":\"firebrick\"},\"line_width\":{\"value\":2},\"plot\":null,\"size\":10},\"id\":\"ddabb1d3-571e-472e-ad50-8a7b0989afb9\",\"type\":\"OpenHead\"},{\"attributes\":{\"end\":{\"id\":\"f1063add-9088-4e80-9a8b-8efc714e085e\",\"type\":\"OpenHead\"},\"line_color\":{\"value\":\"gray\"},\"plot\":{\"id\":\"3aaf08bb-b466-4620-924f-c0e8f3d160c6\",\"subtype\":\"Figure\",\"type\":\"Plot\"},\"source\":null,\"start\":null,\"x_end\":{\"value\":-0.15695310235118742},\"x_start\":{\"value\":0.3094708549858134},\"y_end\":{\"value\":-0.11882012672873193},\"y_start\":{\"value\":-0.11328187515152513}},\"id\":\"6182ee71-c814-414a-af6f-3996223db14d\",\"type\":\"Arrow\"},{\"attributes\":{\"line_color\":{\"value\":\"firebrick\"},\"line_width\":{\"value\":2},\"plot\":null,\"size\":10},\"id\":\"3f0f3791-8c58-4830-951c-fd50c30b3483\",\"type\":\"OpenHead\"}],\"root_ids\":[\"3aaf08bb-b466-4620-924f-c0e8f3d160c6\"]},\"title\":\"Bokeh Application\",\"version\":\"0.12.15\"}};\n",
       "  var render_items = [{\"docid\":\"3bd86e75-725e-4e9b-b5da-8e3e13d8ed8d\",\"elementid\":\"de665d61-d791-49a4-b615-3a1d2c5f05f1\",\"modelid\":\"3aaf08bb-b466-4620-924f-c0e8f3d160c6\"}];\n",
       "  root.Bokeh.embed.embed_items_notebook(docs_json, render_items);\n",
       "\n",
       "  }\n",
       "  if (root.Bokeh !== undefined) {\n",
       "    embed_document(root);\n",
       "  } else {\n",
       "    var attempts = 0;\n",
       "    var timer = setInterval(function(root) {\n",
       "      if (root.Bokeh !== undefined) {\n",
       "        embed_document(root);\n",
       "        clearInterval(timer);\n",
       "      }\n",
       "      attempts++;\n",
       "      if (attempts > 100) {\n",
       "        console.log(\"Bokeh: ERROR: Unable to run BokehJS code because BokehJS library is missing\")\n",
       "        clearInterval(timer);\n",
       "      }\n",
       "    }, 10, root)\n",
       "  }\n",
       "})(window);"
      ],
      "application/vnd.bokehjs_exec.v0+json": ""
     },
     "metadata": {
      "application/vnd.bokehjs_exec.v0+json": {
       "id": "3aaf08bb-b466-4620-924f-c0e8f3d160c6"
      }
     },
     "output_type": "display_data"
    }
   ],
   "source": [
    "show(p)"
   ]
  },
  {
   "cell_type": "code",
   "execution_count": 67,
   "metadata": {},
   "outputs": [
    {
     "data": {
      "text/plain": [
       "41"
      ]
     },
     "execution_count": 67,
     "metadata": {},
     "output_type": "execute_result"
    }
   ],
   "source": [
    "domain.index_for_action('utter_ask_price')\n",
    "domain.index_for_action('utter_suggest_hotel')\n",
    "domain.index_for_action('action_search_hotel')"
   ]
  },
  {
   "cell_type": "code",
   "execution_count": 150,
   "metadata": {},
   "outputs": [
    {
     "data": {
      "text/plain": [
       "(20,)"
      ]
     },
     "execution_count": 150,
     "metadata": {},
     "output_type": "execute_result"
    }
   ],
   "source": [
    "utter_price = embedding_from_tracker(\"#generate story\\n{}\".format(story_block), bot=True)[0,-1,5,:]\n",
    "utter_price.shape"
   ]
  },
  {
   "cell_type": "code",
   "execution_count": 151,
   "metadata": {},
   "outputs": [
    {
     "name": "stdout",
     "output_type": "stream",
     "text": [
      "(20,)\n"
     ]
    },
    {
     "data": {
      "text/html": [
       "<div style=\"display: table;\"><div style=\"display: table-row;\"><div style=\"display: table-cell;\"><b title=\"bokeh.models.renderers.GlyphRenderer\">GlyphRenderer</b>(</div><div style=\"display: table-cell;\">id&nbsp;=&nbsp;'09076caa-24fd-4293-86d8-4aac74b012ea', <span id=\"c19ee457-9c85-416d-9584-a48064b5bae3\" style=\"cursor: pointer;\">&hellip;)</span></div></div><div class=\"9f02f757-c1ee-47aa-87d8-b64c9ca446be\" style=\"display: none;\"><div style=\"display: table-cell;\"></div><div style=\"display: table-cell;\">data_source&nbsp;=&nbsp;ColumnDataSource(id='30bb0468-0b72-4c1f-bdb3-68603e351377', ...),</div></div><div class=\"9f02f757-c1ee-47aa-87d8-b64c9ca446be\" style=\"display: none;\"><div style=\"display: table-cell;\"></div><div style=\"display: table-cell;\">glyph&nbsp;=&nbsp;Circle(id='1c7d8a87-4f47-4b8e-b935-8458e530dedb', ...),</div></div><div class=\"9f02f757-c1ee-47aa-87d8-b64c9ca446be\" style=\"display: none;\"><div style=\"display: table-cell;\"></div><div style=\"display: table-cell;\">hover_glyph&nbsp;=&nbsp;None,</div></div><div class=\"9f02f757-c1ee-47aa-87d8-b64c9ca446be\" style=\"display: none;\"><div style=\"display: table-cell;\"></div><div style=\"display: table-cell;\">js_event_callbacks&nbsp;=&nbsp;{},</div></div><div class=\"9f02f757-c1ee-47aa-87d8-b64c9ca446be\" style=\"display: none;\"><div style=\"display: table-cell;\"></div><div style=\"display: table-cell;\">js_property_callbacks&nbsp;=&nbsp;{},</div></div><div class=\"9f02f757-c1ee-47aa-87d8-b64c9ca446be\" style=\"display: none;\"><div style=\"display: table-cell;\"></div><div style=\"display: table-cell;\">level&nbsp;=&nbsp;'glyph',</div></div><div class=\"9f02f757-c1ee-47aa-87d8-b64c9ca446be\" style=\"display: none;\"><div style=\"display: table-cell;\"></div><div style=\"display: table-cell;\">muted&nbsp;=&nbsp;False,</div></div><div class=\"9f02f757-c1ee-47aa-87d8-b64c9ca446be\" style=\"display: none;\"><div style=\"display: table-cell;\"></div><div style=\"display: table-cell;\">muted_glyph&nbsp;=&nbsp;None,</div></div><div class=\"9f02f757-c1ee-47aa-87d8-b64c9ca446be\" style=\"display: none;\"><div style=\"display: table-cell;\"></div><div style=\"display: table-cell;\">name&nbsp;=&nbsp;None,</div></div><div class=\"9f02f757-c1ee-47aa-87d8-b64c9ca446be\" style=\"display: none;\"><div style=\"display: table-cell;\"></div><div style=\"display: table-cell;\">nonselection_glyph&nbsp;=&nbsp;Circle(id='02cb222a-fe3f-45f7-b697-74b02d5b5527', ...),</div></div><div class=\"9f02f757-c1ee-47aa-87d8-b64c9ca446be\" style=\"display: none;\"><div style=\"display: table-cell;\"></div><div style=\"display: table-cell;\">selection_glyph&nbsp;=&nbsp;None,</div></div><div class=\"9f02f757-c1ee-47aa-87d8-b64c9ca446be\" style=\"display: none;\"><div style=\"display: table-cell;\"></div><div style=\"display: table-cell;\">subscribed_events&nbsp;=&nbsp;[],</div></div><div class=\"9f02f757-c1ee-47aa-87d8-b64c9ca446be\" style=\"display: none;\"><div style=\"display: table-cell;\"></div><div style=\"display: table-cell;\">tags&nbsp;=&nbsp;[],</div></div><div class=\"9f02f757-c1ee-47aa-87d8-b64c9ca446be\" style=\"display: none;\"><div style=\"display: table-cell;\"></div><div style=\"display: table-cell;\">view&nbsp;=&nbsp;CDSView(id='42dd3213-7586-42a3-9953-d3f58f8848d8', ...),</div></div><div class=\"9f02f757-c1ee-47aa-87d8-b64c9ca446be\" style=\"display: none;\"><div style=\"display: table-cell;\"></div><div style=\"display: table-cell;\">visible&nbsp;=&nbsp;True,</div></div><div class=\"9f02f757-c1ee-47aa-87d8-b64c9ca446be\" style=\"display: none;\"><div style=\"display: table-cell;\"></div><div style=\"display: table-cell;\">x_range_name&nbsp;=&nbsp;'default',</div></div><div class=\"9f02f757-c1ee-47aa-87d8-b64c9ca446be\" style=\"display: none;\"><div style=\"display: table-cell;\"></div><div style=\"display: table-cell;\">y_range_name&nbsp;=&nbsp;'default')</div></div></div>\n",
       "<script>\n",
       "(function() {\n",
       "  var expanded = false;\n",
       "  var ellipsis = document.getElementById(\"c19ee457-9c85-416d-9584-a48064b5bae3\");\n",
       "  ellipsis.addEventListener(\"click\", function() {\n",
       "    var rows = document.getElementsByClassName(\"9f02f757-c1ee-47aa-87d8-b64c9ca446be\");\n",
       "    for (var i = 0; i < rows.length; i++) {\n",
       "      var el = rows[i];\n",
       "      el.style.display = expanded ? \"none\" : \"table-row\";\n",
       "    }\n",
       "    ellipsis.innerHTML = expanded ? \"&hellip;)\" : \"&lsaquo;&lsaquo;&lsaquo;\";\n",
       "    expanded = !expanded;\n",
       "  });\n",
       "})();\n",
       "</script>\n"
      ],
      "text/plain": [
       "GlyphRenderer(id='09076caa-24fd-4293-86d8-4aac74b012ea', ...)"
      ]
     },
     "execution_count": 151,
     "metadata": {},
     "output_type": "execute_result"
    }
   ],
   "source": [
    "print(utter_price.shape)\n",
    "x = pca.transform(utter_price.reshape(1,-1))\n",
    "p.circle(x[0][0], x[0][1], color='black')"
   ]
  },
  {
   "cell_type": "code",
   "execution_count": 152,
   "metadata": {},
   "outputs": [
    {
     "data": {
      "text/html": [
       "\n",
       "<div class=\"bk-root\">\n",
       "    <div class=\"bk-plotdiv\" id=\"ce72e10b-5c31-4878-8d91-5abc9bcced71\"></div>\n",
       "</div>"
      ]
     },
     "metadata": {},
     "output_type": "display_data"
    },
    {
     "data": {
      "application/javascript": [
       "(function(root) {\n",
       "  function embed_document(root) {\n",
       "    \n",
       "  var docs_json = {\"f0c154cd-0a57-44f7-9c9a-3bc2dbe1dba0\":{\"roots\":{\"references\":[{\"attributes\":{\"data_source\":{\"id\":\"ba385fa3-4471-4094-8a1c-359a60dd0fba\",\"type\":\"ColumnDataSource\"},\"glyph\":{\"id\":\"4c7b22ce-fd6c-4d53-a22a-b3fe0b44c196\",\"type\":\"Circle\"},\"hover_glyph\":null,\"muted_glyph\":null,\"name\":\"circle\",\"nonselection_glyph\":{\"id\":\"2c764e6c-1986-491a-84e9-508c90f2e665\",\"type\":\"Circle\"},\"selection_glyph\":null,\"view\":{\"id\":\"703ab529-8758-45d7-a022-30d591fc6faf\",\"type\":\"CDSView\"}},\"id\":\"0954484c-fb0f-485f-82db-2a87d8e713b0\",\"type\":\"GlyphRenderer\"},{\"attributes\":{\"line_color\":{\"value\":\"firebrick\"},\"line_width\":{\"value\":2},\"plot\":null,\"size\":10},\"id\":\"877c3acd-fc54-4ae5-bc4b-aa70e6e2b4fb\",\"type\":\"OpenHead\"},{\"attributes\":{\"data_source\":{\"id\":\"57939676-c4f4-49ae-9723-6b51e80b16e4\",\"type\":\"ColumnDataSource\"},\"glyph\":{\"id\":\"56f95970-93fb-4754-86ba-aa22d9a6c669\",\"type\":\"Circle\"},\"hover_glyph\":null,\"muted_glyph\":null,\"name\":\"circle\",\"nonselection_glyph\":{\"id\":\"3a4ec5b4-d450-4371-ad7e-a2b2123a9721\",\"type\":\"Circle\"},\"selection_glyph\":null,\"view\":{\"id\":\"6d071531-bbc4-4393-b615-b45e8386643b\",\"type\":\"CDSView\"}},\"id\":\"33efa04a-a83f-4693-be4f-b55766b758c2\",\"type\":\"GlyphRenderer\"},{\"attributes\":{\"fill_color\":{\"value\":\"#1f77b4\"},\"line_color\":{\"value\":\"#1f77b4\"},\"size\":{\"units\":\"screen\",\"value\":10},\"x\":{\"field\":\"x\"},\"y\":{\"field\":\"y\"}},\"id\":\"56f95970-93fb-4754-86ba-aa22d9a6c669\",\"type\":\"Circle\"},{\"attributes\":{\"end\":{\"id\":\"390acd7f-7e47-4e28-8730-3be1bad665d8\",\"type\":\"OpenHead\"},\"line_color\":{\"value\":\"gray\"},\"plot\":{\"id\":\"3aaf08bb-b466-4620-924f-c0e8f3d160c6\",\"subtype\":\"Figure\",\"type\":\"Plot\"},\"source\":null,\"start\":null,\"x_end\":{\"value\":-0.06509300023371906},\"x_start\":{\"value\":-0.15159842585224884},\"y_end\":{\"value\":0.03523260135585004},\"y_start\":{\"value\":-0.11540221756410034}},\"id\":\"32ef71dd-19bc-44cc-8050-e80115d71991\",\"type\":\"Arrow\"},{\"attributes\":{\"source\":{\"id\":\"57939676-c4f4-49ae-9723-6b51e80b16e4\",\"type\":\"ColumnDataSource\"}},\"id\":\"6d071531-bbc4-4393-b615-b45e8386643b\",\"type\":\"CDSView\"},{\"attributes\":{\"end\":{\"id\":\"877c3acd-fc54-4ae5-bc4b-aa70e6e2b4fb\",\"type\":\"OpenHead\"},\"line_color\":{\"value\":\"gray\"},\"plot\":{\"id\":\"3aaf08bb-b466-4620-924f-c0e8f3d160c6\",\"subtype\":\"Figure\",\"type\":\"Plot\"},\"source\":null,\"start\":null,\"x_end\":{\"value\":-0.10682544343970084},\"x_start\":{\"value\":-0.06509300023371906},\"y_end\":{\"value\":-0.04445361976501537},\"y_start\":{\"value\":0.03523260135585004}},\"id\":\"5c2fb0f2-648a-40d7-abc2-fb78c998782e\",\"type\":\"Arrow\"},{\"attributes\":{},\"id\":\"a1a92dae-7cd1-4c56-8ad0-81023b9fffcc\",\"type\":\"BasicTickFormatter\"},{\"attributes\":{\"plot\":null,\"text\":\"\"},\"id\":\"da14a4fb-20ea-4294-a3e3-83ef0f6cb38f\",\"type\":\"Title\"},{\"attributes\":{\"fill_color\":{\"value\":\"green\"},\"line_color\":{\"value\":\"green\"},\"size\":{\"units\":\"screen\",\"value\":10},\"x\":{\"value\":-0.0019251509381688215},\"y\":{\"value\":0.24222517123554618}},\"id\":\"dd3bbf4e-2fd6-4e29-850a-e4a2b357055e\",\"type\":\"Circle\"},{\"attributes\":{\"callback\":null,\"data\":{},\"selected\":null,\"selection_policy\":null},\"id\":\"30bb0468-0b72-4c1f-bdb3-68603e351377\",\"type\":\"ColumnDataSource\"},{\"attributes\":{\"callback\":null,\"column_names\":[\"x\",\"y\",\"desc\",\"pred\",\"copy\"],\"data\":{\"copy\":[{\"__ndarray__\":\"K0n/Pg==\",\"dtype\":\"float32\",\"shape\":[1]},{\"__ndarray__\":\"DoCZPg==\",\"dtype\":\"float32\",\"shape\":[1]},{\"__ndarray__\":\"XagCPw==\",\"dtype\":\"float32\",\"shape\":[1]},{\"__ndarray__\":\"pbgJPg==\",\"dtype\":\"float32\",\"shape\":[1]},{\"__ndarray__\":\"GMc5Pw==\",\"dtype\":\"float32\",\"shape\":[1]},{\"__ndarray__\":\"1Eh0PA==\",\"dtype\":\"float32\",\"shape\":[1]},{\"__ndarray__\":\"VxcLPQ==\",\"dtype\":\"float32\",\"shape\":[1]},{\"__ndarray__\":\"qk3SPg==\",\"dtype\":\"float32\",\"shape\":[1]},{\"__ndarray__\":\"Oo75Pg==\",\"dtype\":\"float32\",\"shape\":[1]},{\"__ndarray__\":\"ihlnPA==\",\"dtype\":\"float32\",\"shape\":[1]},{\"__ndarray__\":\"be4UPg==\",\"dtype\":\"float32\",\"shape\":[1]},{\"__ndarray__\":\"nQUgPw==\",\"dtype\":\"float32\",\"shape\":[1]},{\"__ndarray__\":\"LMchPg==\",\"dtype\":\"float32\",\"shape\":[1]},{\"__ndarray__\":\"xMMlPw==\",\"dtype\":\"float32\",\"shape\":[1]},{\"__ndarray__\":\"KjIvPg==\",\"dtype\":\"float32\",\"shape\":[1]},{\"__ndarray__\":\"dZspPw==\",\"dtype\":\"float32\",\"shape\":[1]},{\"__ndarray__\":\"hhE7Pg==\",\"dtype\":\"float32\",\"shape\":[1]},{\"__ndarray__\":\"Ou4qPw==\",\"dtype\":\"float32\",\"shape\":[1]},{\"__ndarray__\":\"xlTsPg==\",\"dtype\":\"float32\",\"shape\":[1]},{\"__ndarray__\":\"SnL5Pg==\",\"dtype\":\"float32\",\"shape\":[1]}],\"desc\":[\"    - utter_ask_details\",\"    - utter_explain_details_hotel\",\"    - utter_ask_details\",\"    - utter_chitchat\",\"    - utter_ask_details\",\"    - utter_ask_startdate\",\"    - utter_ask_location\",\"    - utter_explain_location_hotel\",\"    - utter_ask_location\",\"    - utter_ask_price\",\"    - utter_chitchat\",\"    - utter_ask_price\",\"    - utter_chitchat\",\"    - utter_ask_price\",\"    - utter_chitchat\",\"    - utter_ask_price\",\"    - utter_chitchat\",\"    - utter_ask_price\",\"    - utter_explain_price_hotel\",\"    - utter_ask_price\"],\"pred\":[\"utter_ask_details\",\"utter_explain_details_hotel\",\"utter_ask_details\",\"utter_chitchat\",\"utter_ask_details\",\"utter_ask_startdate\",\"utter_ask_location\",\"utter_explain_location_hotel\",\"utter_ask_location\",\"utter_ask_price\",\"utter_chitchat\",\"utter_ask_price\",\"utter_chitchat\",\"utter_ask_price\",\"utter_chitchat\",\"utter_ask_price\",\"utter_chitchat\",\"utter_ask_price\",\"utter_explain_price_hotel\",\"utter_ask_price\"],\"x\":{\"__ndarray__\":\"kDoGDIXFwb8Hm4M/3Bamv72yJ8t8O6a/lsOfgPRwur9D1cCFKy6mv/h/9ud5qHK/eOO6Bqfvvb8mvnIbWVG4vwDXLihHQbe/Y2vvjSh2u7+PAC0/rbPHv9cc6TZojMq/b0v59imLyb/NLRtN6r7Kv9xlKitTfsW/D5Q2Y9/Wyr+ZWrY1GgzIv7Y60fHs4cq/27kDrRsoy78M6fAmkCvJvw==\",\"dtype\":\"float64\",\"shape\":[20]},\"y\":{\"__ndarray__\":\"ozut0g/1wT92ZL0DH2rOP8jVRaq8Y84/oaJIYDERyT/vKnIYu2bOP4NHxUWB9dE/wI1lnDabxD/NdR7d+tbBP90zx0vpBsI/0qDJGUg4wz/MnvI1msGnv5pl00lXTcS/zkH82q7tu78tFTsDRoXEv3dlm0s8C8S//F6lhL2mxL/7BuORDnnEvxQTg3r7ssS/V7wjD8X+xL+RiyfXAhHDvw==\",\"dtype\":\"float64\",\"shape\":[20]}},\"selected\":null,\"selection_policy\":null},\"id\":\"ba385fa3-4471-4094-8a1c-359a60dd0fba\",\"type\":\"ColumnDataSource\"},{\"attributes\":{\"fill_alpha\":{\"value\":0.1},\"fill_color\":{\"value\":\"#1f77b4\"},\"line_alpha\":{\"value\":0.1},\"line_color\":{\"value\":\"#1f77b4\"},\"x\":{\"value\":-0.21216571541127482},\"y\":{\"value\":-0.16402566298103113}},\"id\":\"02cb222a-fe3f-45f7-b697-74b02d5b5527\",\"type\":\"Circle\"},{\"attributes\":{\"source\":{\"id\":\"ba385fa3-4471-4094-8a1c-359a60dd0fba\",\"type\":\"ColumnDataSource\"}},\"id\":\"703ab529-8758-45d7-a022-30d591fc6faf\",\"type\":\"CDSView\"},{\"attributes\":{},\"id\":\"26922811-d852-4779-895d-6bff1c7caf6d\",\"type\":\"BasicTickFormatter\"},{\"attributes\":{\"data_source\":{\"id\":\"e5747000-627d-46f5-be7c-651a9e9c586a\",\"type\":\"ColumnDataSource\"},\"glyph\":{\"id\":\"b4c12283-8689-49a1-b73b-fd59cb0c6492\",\"type\":\"Circle\"},\"hover_glyph\":null,\"muted_glyph\":null,\"name\":\"circle\",\"nonselection_glyph\":{\"id\":\"a78cc80e-ee06-4fb6-b20f-6636acfeea6c\",\"type\":\"Circle\"},\"selection_glyph\":null,\"view\":{\"id\":\"5a30b423-0bf2-49de-9598-302a859d5ba6\",\"type\":\"CDSView\"}},\"id\":\"4b5c92ed-0363-411e-bfa5-a38becaee582\",\"type\":\"GlyphRenderer\"},{\"attributes\":{\"callback\":null,\"data\":{},\"selected\":null,\"selection_policy\":null},\"id\":\"c79422d8-663f-4ae7-9994-a0a035c6a460\",\"type\":\"ColumnDataSource\"},{\"attributes\":{\"fill_color\":{\"value\":\"green\"},\"line_color\":{\"value\":\"green\"},\"size\":{\"units\":\"screen\",\"value\":5},\"x\":{\"field\":\"x\"},\"y\":{\"field\":\"y\"}},\"id\":\"4c7b22ce-fd6c-4d53-a22a-b3fe0b44c196\",\"type\":\"Circle\"},{\"attributes\":{\"callback\":null,\"data\":{},\"selected\":null,\"selection_policy\":null},\"id\":\"3dbf7dad-c08d-4f03-8932-60925558e149\",\"type\":\"ColumnDataSource\"},{\"attributes\":{\"fill_alpha\":{\"value\":0.1},\"fill_color\":{\"value\":\"#1f77b4\"},\"line_alpha\":{\"value\":0.1},\"line_color\":{\"value\":\"#1f77b4\"},\"size\":{\"units\":\"screen\",\"value\":5},\"x\":{\"field\":\"x\"},\"y\":{\"field\":\"y\"}},\"id\":\"2c764e6c-1986-491a-84e9-508c90f2e665\",\"type\":\"Circle\"},{\"attributes\":{\"callback\":null,\"column_names\":[\"x\",\"y\",\"desc\",\"pred\",\"copy\"],\"data\":{\"copy\":[{\"__ndarray__\":\"K0n/Pg==\",\"dtype\":\"float32\",\"shape\":[1]},{\"__ndarray__\":\"DoCZPg==\",\"dtype\":\"float32\",\"shape\":[1]},{\"__ndarray__\":\"XagCPw==\",\"dtype\":\"float32\",\"shape\":[1]},{\"__ndarray__\":\"pbgJPg==\",\"dtype\":\"float32\",\"shape\":[1]},{\"__ndarray__\":\"GMc5Pw==\",\"dtype\":\"float32\",\"shape\":[1]},{\"__ndarray__\":\"1Eh0PA==\",\"dtype\":\"float32\",\"shape\":[1]},{\"__ndarray__\":\"VxcLPQ==\",\"dtype\":\"float32\",\"shape\":[1]},{\"__ndarray__\":\"qk3SPg==\",\"dtype\":\"float32\",\"shape\":[1]},{\"__ndarray__\":\"Oo75Pg==\",\"dtype\":\"float32\",\"shape\":[1]},{\"__ndarray__\":\"ihlnPA==\",\"dtype\":\"float32\",\"shape\":[1]},{\"__ndarray__\":\"be4UPg==\",\"dtype\":\"float32\",\"shape\":[1]},{\"__ndarray__\":\"nQUgPw==\",\"dtype\":\"float32\",\"shape\":[1]},{\"__ndarray__\":\"LMchPg==\",\"dtype\":\"float32\",\"shape\":[1]},{\"__ndarray__\":\"xMMlPw==\",\"dtype\":\"float32\",\"shape\":[1]},{\"__ndarray__\":\"KjIvPg==\",\"dtype\":\"float32\",\"shape\":[1]},{\"__ndarray__\":\"dZspPw==\",\"dtype\":\"float32\",\"shape\":[1]},{\"__ndarray__\":\"hhE7Pg==\",\"dtype\":\"float32\",\"shape\":[1]},{\"__ndarray__\":\"Ou4qPw==\",\"dtype\":\"float32\",\"shape\":[1]},{\"__ndarray__\":\"xlTsPg==\",\"dtype\":\"float32\",\"shape\":[1]},{\"__ndarray__\":\"SnL5Pg==\",\"dtype\":\"float32\",\"shape\":[1]}],\"desc\":[\"    - utter_ask_details\",\"    - utter_explain_details_hotel\",\"    - utter_ask_details\",\"    - utter_chitchat\",\"    - utter_ask_details\",\"    - utter_ask_startdate\",\"    - utter_ask_location\",\"    - utter_explain_location_hotel\",\"    - utter_ask_location\",\"    - utter_ask_price\",\"    - utter_chitchat\",\"    - utter_ask_price\",\"    - utter_chitchat\",\"    - utter_ask_price\",\"    - utter_chitchat\",\"    - utter_ask_price\",\"    - utter_chitchat\",\"    - utter_ask_price\",\"    - utter_explain_price_hotel\",\"    - utter_ask_price\"],\"pred\":[\"utter_ask_details\",\"utter_explain_details_hotel\",\"utter_ask_details\",\"utter_chitchat\",\"utter_ask_details\",\"utter_ask_startdate\",\"utter_ask_location\",\"utter_explain_location_hotel\",\"utter_ask_location\",\"utter_ask_price\",\"utter_chitchat\",\"utter_ask_price\",\"utter_chitchat\",\"utter_ask_price\",\"utter_chitchat\",\"utter_ask_price\",\"utter_chitchat\",\"utter_ask_price\",\"utter_explain_price_hotel\",\"utter_ask_price\"],\"x\":{\"__ndarray__\":\"GzQQ+2MuwT+gk0Z+Pg6/P3+nvLD5PaM/pixWqk5u4D/bO9l4jimnP/R1nxSEXcS/Yg85B0K1xb8iZv4MsZSwvxi+h3VLjsG/1G3EI8aN0L8kl+wOuVDSP95Q9wDmw8G/EvWRz3fK1z+3TQFju0G1v0HygqzCHNo/cj4I7b5bq7/zC1vgAjfbP3OeQ/hBhKG/3d3Km/E5rz/kCnxTMQKWvw==\",\"dtype\":\"float64\",\"shape\":[20]},\"y\":{\"__ndarray__\":\"Q1aAQWn91T+EH1mAoeXSP1xffLQMPs8/f6LZN5sWlb80/pFCgjTAPyhOiJvn7qK/3/L/yVFEsz9uAMQPydDAP049Q/yjiaG/qML4ctzizL81t1bFdKXEvwYJz2yIobi/k1BUl/tIv7/OXS1ASoKsv4jc5ckttrq/QXytkRIZor+zWV13G5S4v2Vp6rhL45a/v8hKWw1gyj904Qwg/xKsPw==\",\"dtype\":\"float64\",\"shape\":[20]}},\"selected\":null,\"selection_policy\":null},\"id\":\"e5747000-627d-46f5-be7c-651a9e9c586a\",\"type\":\"ColumnDataSource\"},{\"attributes\":{\"source\":{\"id\":\"e5747000-627d-46f5-be7c-651a9e9c586a\",\"type\":\"ColumnDataSource\"}},\"id\":\"5a30b423-0bf2-49de-9598-302a859d5ba6\",\"type\":\"CDSView\"},{\"attributes\":{\"fill_color\":{\"value\":\"magenta\"},\"line_color\":{\"value\":\"magenta\"},\"size\":{\"units\":\"screen\",\"value\":5},\"x\":{\"value\":-0.06555390981982652},\"y\":{\"value\":0.11037792921088367}},\"id\":\"5c83e762-dd1c-441e-836a-e1baedb848c6\",\"type\":\"Circle\"},{\"attributes\":{\"below\":[{\"id\":\"38b32cd0-1b58-4284-acfa-f3225f14cf75\",\"type\":\"LinearAxis\"}],\"left\":[{\"id\":\"4f44dfb0-f502-4660-b19f-60ec722908a6\",\"type\":\"LinearAxis\"}],\"renderers\":[{\"id\":\"38b32cd0-1b58-4284-acfa-f3225f14cf75\",\"type\":\"LinearAxis\"},{\"id\":\"8effe03f-cf08-41e7-be9c-8d565916edbe\",\"type\":\"Grid\"},{\"id\":\"4f44dfb0-f502-4660-b19f-60ec722908a6\",\"type\":\"LinearAxis\"},{\"id\":\"8ca4aa3f-c381-4811-aeca-fa8d1e8b848b\",\"type\":\"Grid\"},{\"id\":\"0b0c21bc-f868-40ce-9971-6ccc50db90c7\",\"type\":\"Arrow\"},{\"id\":\"37543e3c-c6c1-4548-b62d-4f18c51b2b66\",\"type\":\"Arrow\"},{\"id\":\"949aad2d-9957-49bd-b4fa-ffb95fe35cdb\",\"type\":\"Arrow\"},{\"id\":\"f4869c1e-e05e-4add-a330-63970028a35d\",\"type\":\"Arrow\"},{\"id\":\"291a6b09-7fbd-4f3a-ae0a-05f59b4bb205\",\"type\":\"Arrow\"},{\"id\":\"4f1db645-ea0d-4d4d-9ea6-abe768346276\",\"type\":\"Arrow\"},{\"id\":\"08c5cad8-d1ef-41de-bc64-d3c1882125f7\",\"type\":\"Arrow\"},{\"id\":\"328feae3-9072-42e1-998d-f5bf7769d3de\",\"type\":\"Arrow\"},{\"id\":\"ca174513-c353-41ad-af8a-8904b79b3daa\",\"type\":\"Arrow\"},{\"id\":\"842fd3e6-e3f0-4326-80dc-cb5dd11a1918\",\"type\":\"Arrow\"},{\"id\":\"d4a9552a-46be-484f-9d36-11ed0e9bcbfe\",\"type\":\"Arrow\"},{\"id\":\"06496854-8ce2-40c5-a420-8138ec52dbf8\",\"type\":\"Arrow\"},{\"id\":\"a13b967d-8ab0-464e-86d8-a322c856ba34\",\"type\":\"Arrow\"},{\"id\":\"34fb2050-999b-461a-b79f-f4cb2dca6a71\",\"type\":\"Arrow\"},{\"id\":\"6182ee71-c814-414a-af6f-3996223db14d\",\"type\":\"Arrow\"},{\"id\":\"92911eb5-6517-4c80-8a2d-0ba02771d6d8\",\"type\":\"Arrow\"},{\"id\":\"4e9f5957-a9ba-43a3-9ba4-fbbc7e5e8716\",\"type\":\"Arrow\"},{\"id\":\"32ef71dd-19bc-44cc-8050-e80115d71991\",\"type\":\"Arrow\"},{\"id\":\"5c2fb0f2-648a-40d7-abc2-fb78c998782e\",\"type\":\"Arrow\"},{\"id\":\"33efa04a-a83f-4693-be4f-b55766b758c2\",\"type\":\"GlyphRenderer\"},{\"id\":\"0954484c-fb0f-485f-82db-2a87d8e713b0\",\"type\":\"GlyphRenderer\"},{\"id\":\"4b5c92ed-0363-411e-bfa5-a38becaee582\",\"type\":\"GlyphRenderer\"},{\"id\":\"4b73e163-a54e-45e4-bf48-524817af3fe3\",\"type\":\"GlyphRenderer\"},{\"id\":\"6dea5a59-20e7-4518-ab4d-13f93abee7cb\",\"type\":\"GlyphRenderer\"},{\"id\":\"f0103fd2-cd2c-4640-9519-6ab6f1529d63\",\"type\":\"GlyphRenderer\"},{\"id\":\"09076caa-24fd-4293-86d8-4aac74b012ea\",\"type\":\"GlyphRenderer\"}],\"title\":{\"id\":\"da14a4fb-20ea-4294-a3e3-83ef0f6cb38f\",\"type\":\"Title\"},\"toolbar\":{\"id\":\"cc8ff7fa-b559-4f52-8003-02cf7a201e27\",\"type\":\"Toolbar\"},\"x_range\":{\"id\":\"1b084b51-bdbd-462d-946c-531ba5f98a36\",\"type\":\"DataRange1d\"},\"x_scale\":{\"id\":\"73359dd0-3ad5-4bfb-a5da-4c86f006748d\",\"type\":\"LinearScale\"},\"y_range\":{\"id\":\"3b8f7554-edca-40bc-9eba-d7a2a7bdc6f6\",\"type\":\"DataRange1d\"},\"y_scale\":{\"id\":\"75d30ee3-bbc2-4d66-a98a-b9328d4d568f\",\"type\":\"LinearScale\"}},\"id\":\"3aaf08bb-b466-4620-924f-c0e8f3d160c6\",\"subtype\":\"Figure\",\"type\":\"Plot\"},{\"attributes\":{\"fill_color\":{\"value\":\"red\"},\"line_color\":{\"value\":\"red\"},\"size\":{\"units\":\"screen\",\"value\":5},\"x\":{\"field\":\"x\"},\"y\":{\"field\":\"y\"}},\"id\":\"b4c12283-8689-49a1-b73b-fd59cb0c6492\",\"type\":\"Circle\"},{\"attributes\":{\"callback\":null,\"names\":[\"circle\"],\"tooltips\":[[\"true action\",\"@desc\"],[\"prediction\",\"@pred\"],[\"copy_gate\",\"@copy\"]]},\"id\":\"e7c6ae53-6428-4be5-95f3-d19520829eef\",\"type\":\"HoverTool\"},{\"attributes\":{\"fill_alpha\":{\"value\":0.1},\"fill_color\":{\"value\":\"#1f77b4\"},\"line_alpha\":{\"value\":0.1},\"line_color\":{\"value\":\"#1f77b4\"},\"size\":{\"units\":\"screen\",\"value\":5},\"x\":{\"field\":\"x\"},\"y\":{\"field\":\"y\"}},\"id\":\"a78cc80e-ee06-4fb6-b20f-6636acfeea6c\",\"type\":\"Circle\"},{\"attributes\":{\"line_color\":{\"value\":\"firebrick\"},\"line_width\":{\"value\":2},\"plot\":null,\"size\":10},\"id\":\"2787d30a-2551-4793-a951-eb86285ac225\",\"type\":\"OpenHead\"},{\"attributes\":{\"source\":{\"id\":\"c79422d8-663f-4ae7-9994-a0a035c6a460\",\"type\":\"ColumnDataSource\"}},\"id\":\"523bb0cb-d677-40c5-97db-31bbf36579e2\",\"type\":\"CDSView\"},{\"attributes\":{\"callback\":null},\"id\":\"1b084b51-bdbd-462d-946c-531ba5f98a36\",\"type\":\"DataRange1d\"},{\"attributes\":{\"fill_alpha\":{\"value\":0.1},\"fill_color\":{\"value\":\"#1f77b4\"},\"line_alpha\":{\"value\":0.1},\"line_color\":{\"value\":\"#1f77b4\"},\"size\":{\"units\":\"screen\",\"value\":5},\"x\":{\"value\":-0.06555390981982652},\"y\":{\"value\":0.11037792921088367}},\"id\":\"581e9330-e0a0-4ee2-98c9-620336365997\",\"type\":\"Circle\"},{\"attributes\":{\"callback\":null},\"id\":\"3b8f7554-edca-40bc-9eba-d7a2a7bdc6f6\",\"type\":\"DataRange1d\"},{\"attributes\":{\"data_source\":{\"id\":\"c79422d8-663f-4ae7-9994-a0a035c6a460\",\"type\":\"ColumnDataSource\"},\"glyph\":{\"id\":\"5c83e762-dd1c-441e-836a-e1baedb848c6\",\"type\":\"Circle\"},\"hover_glyph\":null,\"muted_glyph\":null,\"nonselection_glyph\":{\"id\":\"581e9330-e0a0-4ee2-98c9-620336365997\",\"type\":\"Circle\"},\"selection_glyph\":null,\"view\":{\"id\":\"523bb0cb-d677-40c5-97db-31bbf36579e2\",\"type\":\"CDSView\"}},\"id\":\"4b73e163-a54e-45e4-bf48-524817af3fe3\",\"type\":\"GlyphRenderer\"},{\"attributes\":{\"line_color\":{\"value\":\"firebrick\"},\"line_width\":{\"value\":2},\"plot\":null,\"size\":10},\"id\":\"fbbd1dea-0a54-40c6-8cc9-ceccd2b0937b\",\"type\":\"OpenHead\"},{\"attributes\":{\"data_source\":{\"id\":\"3dbf7dad-c08d-4f03-8932-60925558e149\",\"type\":\"ColumnDataSource\"},\"glyph\":{\"id\":\"dd3bbf4e-2fd6-4e29-850a-e4a2b357055e\",\"type\":\"Circle\"},\"hover_glyph\":null,\"muted_glyph\":null,\"nonselection_glyph\":{\"id\":\"f8559c0e-1995-43b2-b331-0b104978438e\",\"type\":\"Circle\"},\"selection_glyph\":null,\"view\":{\"id\":\"2dfb1562-2b79-4527-ab0f-27b92c4af229\",\"type\":\"CDSView\"}},\"id\":\"6dea5a59-20e7-4518-ab4d-13f93abee7cb\",\"type\":\"GlyphRenderer\"},{\"attributes\":{\"callback\":null,\"column_names\":[\"x\",\"y\",\"desc\",\"pred\",\"copy\"],\"data\":{\"copy\":[{\"__ndarray__\":\"K0n/Pg==\",\"dtype\":\"float32\",\"shape\":[1]},{\"__ndarray__\":\"DoCZPg==\",\"dtype\":\"float32\",\"shape\":[1]},{\"__ndarray__\":\"XagCPw==\",\"dtype\":\"float32\",\"shape\":[1]},{\"__ndarray__\":\"pbgJPg==\",\"dtype\":\"float32\",\"shape\":[1]},{\"__ndarray__\":\"GMc5Pw==\",\"dtype\":\"float32\",\"shape\":[1]},{\"__ndarray__\":\"1Eh0PA==\",\"dtype\":\"float32\",\"shape\":[1]},{\"__ndarray__\":\"VxcLPQ==\",\"dtype\":\"float32\",\"shape\":[1]},{\"__ndarray__\":\"qk3SPg==\",\"dtype\":\"float32\",\"shape\":[1]},{\"__ndarray__\":\"Oo75Pg==\",\"dtype\":\"float32\",\"shape\":[1]},{\"__ndarray__\":\"ihlnPA==\",\"dtype\":\"float32\",\"shape\":[1]},{\"__ndarray__\":\"be4UPg==\",\"dtype\":\"float32\",\"shape\":[1]},{\"__ndarray__\":\"nQUgPw==\",\"dtype\":\"float32\",\"shape\":[1]},{\"__ndarray__\":\"LMchPg==\",\"dtype\":\"float32\",\"shape\":[1]},{\"__ndarray__\":\"xMMlPw==\",\"dtype\":\"float32\",\"shape\":[1]},{\"__ndarray__\":\"KjIvPg==\",\"dtype\":\"float32\",\"shape\":[1]},{\"__ndarray__\":\"dZspPw==\",\"dtype\":\"float32\",\"shape\":[1]},{\"__ndarray__\":\"hhE7Pg==\",\"dtype\":\"float32\",\"shape\":[1]},{\"__ndarray__\":\"Ou4qPw==\",\"dtype\":\"float32\",\"shape\":[1]},{\"__ndarray__\":\"xlTsPg==\",\"dtype\":\"float32\",\"shape\":[1]},{\"__ndarray__\":\"SnL5Pg==\",\"dtype\":\"float32\",\"shape\":[1]}],\"desc\":[\"    - utter_ask_details\",\"    - utter_explain_details_hotel\",\"    - utter_ask_details\",\"    - utter_chitchat\",\"    - utter_ask_details\",\"    - utter_ask_startdate\",\"    - utter_ask_location\",\"    - utter_explain_location_hotel\",\"    - utter_ask_location\",\"    - utter_ask_price\",\"    - utter_chitchat\",\"    - utter_ask_price\",\"    - utter_chitchat\",\"    - utter_ask_price\",\"    - utter_chitchat\",\"    - utter_ask_price\",\"    - utter_chitchat\",\"    - utter_ask_price\",\"    - utter_explain_price_hotel\",\"    - utter_ask_price\"],\"pred\":[\"utter_ask_details\",\"utter_explain_details_hotel\",\"utter_ask_details\",\"utter_chitchat\",\"utter_ask_details\",\"utter_ask_startdate\",\"utter_ask_location\",\"utter_explain_location_hotel\",\"utter_ask_location\",\"utter_ask_price\",\"utter_chitchat\",\"utter_ask_price\",\"utter_chitchat\",\"utter_ask_price\",\"utter_chitchat\",\"utter_ask_price\",\"utter_chitchat\",\"utter_ask_price\",\"utter_explain_price_hotel\",\"utter_ask_price\"],\"x\":{\"__ndarray__\":\"Q2RvFKuKX79NbwPkCm+yP+mCN260z26/hFWiF5SN2z+uUXyJNHyTv+4IWx4CEsS/DfFGgqp6xb8ebdyAPsKzv8mlw3ojVb2/nRvQK8pq0L98I41sGNvLP02Z0K1oQce/Z/17M7UD0j9C314IjxDFv6irTtheztM/2FLNDAoXxL/hBPA/8AvUP+2KlMSTZ8O/zMwzU++psL9LR/SJ6Vi7vw==\",\"dtype\":\"float64\",\"shape\":[20]},\"y\":{\"__ndarray__\":\"A8JcAjwBzz+gJVKdccrRPy9jqn6gzs4/1qguGBBwgT9rduSt14HKP7KBtuU/gqC/P9jSGRkDtD+2AyxAezzBP8N6Qf0kKKo/1iwWSSc1zL9T77wf3YHCv3LRXfvMTsG/yxMGgznBvr9toJtncJm/v/peAX0KAL2/BA9o7v5qvr8cVNXqjZG7vzPdUu7/ir2/bxsn7QEKoj8evCj2n8Kmvw==\",\"dtype\":\"float64\",\"shape\":[20]}},\"selected\":null,\"selection_policy\":null},\"id\":\"57939676-c4f4-49ae-9723-6b51e80b16e4\",\"type\":\"ColumnDataSource\"},{\"attributes\":{\"callback\":null,\"data\":{},\"selected\":null,\"selection_policy\":null},\"id\":\"62a97907-4c1a-4690-8b9b-a787886f7b4c\",\"type\":\"ColumnDataSource\"},{\"attributes\":{\"active_drag\":\"auto\",\"active_inspect\":\"auto\",\"active_scroll\":\"auto\",\"active_tap\":\"auto\",\"tools\":[{\"id\":\"e7c6ae53-6428-4be5-95f3-d19520829eef\",\"type\":\"HoverTool\"}]},\"id\":\"cc8ff7fa-b559-4f52-8003-02cf7a201e27\",\"type\":\"Toolbar\"},{\"attributes\":{\"fill_color\":{\"value\":\"red\"},\"line_color\":{\"value\":\"red\"},\"size\":{\"units\":\"screen\",\"value\":10},\"x\":{\"value\":-0.10682544343970084},\"y\":{\"value\":-0.04445361976501537}},\"id\":\"4b608349-076e-449e-8d9d-3b183a43b9c6\",\"type\":\"Circle\"},{\"attributes\":{},\"id\":\"75d30ee3-bbc2-4d66-a98a-b9328d4d568f\",\"type\":\"LinearScale\"},{\"attributes\":{\"fill_alpha\":{\"value\":0.1},\"fill_color\":{\"value\":\"#1f77b4\"},\"line_alpha\":{\"value\":0.1},\"line_color\":{\"value\":\"#1f77b4\"},\"size\":{\"units\":\"screen\",\"value\":10},\"x\":{\"value\":-0.0019251509381688215},\"y\":{\"value\":0.24222517123554618}},\"id\":\"f8559c0e-1995-43b2-b331-0b104978438e\",\"type\":\"Circle\"},{\"attributes\":{},\"id\":\"73359dd0-3ad5-4bfb-a5da-4c86f006748d\",\"type\":\"LinearScale\"},{\"attributes\":{\"source\":{\"id\":\"3dbf7dad-c08d-4f03-8932-60925558e149\",\"type\":\"ColumnDataSource\"}},\"id\":\"2dfb1562-2b79-4527-ab0f-27b92c4af229\",\"type\":\"CDSView\"},{\"attributes\":{\"end\":{\"id\":\"2787d30a-2551-4793-a951-eb86285ac225\",\"type\":\"OpenHead\"},\"line_color\":{\"value\":\"gray\"},\"plot\":{\"id\":\"3aaf08bb-b466-4620-924f-c0e8f3d160c6\",\"subtype\":\"Figure\",\"type\":\"Plot\"},\"source\":null,\"start\":null,\"x_end\":{\"value\":0.07200687472089591},\"x_start\":{\"value\":-0.0019251509381688215},\"y_end\":{\"value\":0.27798118937843164},\"y_start\":{\"value\":0.24222517123554618}},\"id\":\"0b0c21bc-f868-40ce-9971-6ccc50db90c7\",\"type\":\"Arrow\"},{\"attributes\":{\"data_source\":{\"id\":\"62a97907-4c1a-4690-8b9b-a787886f7b4c\",\"type\":\"ColumnDataSource\"},\"glyph\":{\"id\":\"4b608349-076e-449e-8d9d-3b183a43b9c6\",\"type\":\"Circle\"},\"hover_glyph\":null,\"muted_glyph\":null,\"nonselection_glyph\":{\"id\":\"b2eeec23-7b0f-415b-bae0-3d6e078dd828\",\"type\":\"Circle\"},\"selection_glyph\":null,\"view\":{\"id\":\"070c7516-65ec-4c05-9d08-888492b3ae7d\",\"type\":\"CDSView\"}},\"id\":\"f0103fd2-cd2c-4640-9519-6ab6f1529d63\",\"type\":\"GlyphRenderer\"},{\"attributes\":{\"formatter\":{\"id\":\"a1a92dae-7cd1-4c56-8ad0-81023b9fffcc\",\"type\":\"BasicTickFormatter\"},\"plot\":{\"id\":\"3aaf08bb-b466-4620-924f-c0e8f3d160c6\",\"subtype\":\"Figure\",\"type\":\"Plot\"},\"ticker\":{\"id\":\"1d3d9838-a3ce-413a-99cd-db5692e59a77\",\"type\":\"BasicTicker\"}},\"id\":\"38b32cd0-1b58-4284-acfa-f3225f14cf75\",\"type\":\"LinearAxis\"},{\"attributes\":{\"plot\":{\"id\":\"3aaf08bb-b466-4620-924f-c0e8f3d160c6\",\"subtype\":\"Figure\",\"type\":\"Plot\"},\"ticker\":{\"id\":\"1d3d9838-a3ce-413a-99cd-db5692e59a77\",\"type\":\"BasicTicker\"}},\"id\":\"8effe03f-cf08-41e7-be9c-8d565916edbe\",\"type\":\"Grid\"},{\"attributes\":{},\"id\":\"1d3d9838-a3ce-413a-99cd-db5692e59a77\",\"type\":\"BasicTicker\"},{\"attributes\":{\"fill_alpha\":{\"value\":0.1},\"fill_color\":{\"value\":\"#1f77b4\"},\"line_alpha\":{\"value\":0.1},\"line_color\":{\"value\":\"#1f77b4\"},\"size\":{\"units\":\"screen\",\"value\":10},\"x\":{\"value\":-0.10682544343970084},\"y\":{\"value\":-0.04445361976501537}},\"id\":\"b2eeec23-7b0f-415b-bae0-3d6e078dd828\",\"type\":\"Circle\"},{\"attributes\":{\"formatter\":{\"id\":\"26922811-d852-4779-895d-6bff1c7caf6d\",\"type\":\"BasicTickFormatter\"},\"plot\":{\"id\":\"3aaf08bb-b466-4620-924f-c0e8f3d160c6\",\"subtype\":\"Figure\",\"type\":\"Plot\"},\"ticker\":{\"id\":\"6c988359-a434-4db0-9db6-f406932dc8d6\",\"type\":\"BasicTicker\"}},\"id\":\"4f44dfb0-f502-4660-b19f-60ec722908a6\",\"type\":\"LinearAxis\"},{\"attributes\":{\"source\":{\"id\":\"62a97907-4c1a-4690-8b9b-a787886f7b4c\",\"type\":\"ColumnDataSource\"}},\"id\":\"070c7516-65ec-4c05-9d08-888492b3ae7d\",\"type\":\"CDSView\"},{\"attributes\":{},\"id\":\"6c988359-a434-4db0-9db6-f406932dc8d6\",\"type\":\"BasicTicker\"},{\"attributes\":{\"dimension\":1,\"plot\":{\"id\":\"3aaf08bb-b466-4620-924f-c0e8f3d160c6\",\"subtype\":\"Figure\",\"type\":\"Plot\"},\"ticker\":{\"id\":\"6c988359-a434-4db0-9db6-f406932dc8d6\",\"type\":\"BasicTicker\"}},\"id\":\"8ca4aa3f-c381-4811-aeca-fa8d1e8b848b\",\"type\":\"Grid\"},{\"attributes\":{\"line_color\":{\"value\":\"firebrick\"},\"line_width\":{\"value\":2},\"plot\":null,\"size\":10},\"id\":\"390acd7f-7e47-4e28-8730-3be1bad665d8\",\"type\":\"OpenHead\"},{\"attributes\":{\"line_color\":{\"value\":\"firebrick\"},\"line_width\":{\"value\":2},\"plot\":null,\"size\":10},\"id\":\"26a85c00-ea8a-4e32-b3c1-dc5bccb5a38f\",\"type\":\"OpenHead\"},{\"attributes\":{\"end\":{\"id\":\"ddabb1d3-571e-472e-ad50-8a7b0989afb9\",\"type\":\"OpenHead\"},\"line_color\":{\"value\":\"gray\"},\"plot\":{\"id\":\"3aaf08bb-b466-4620-924f-c0e8f3d160c6\",\"subtype\":\"Figure\",\"type\":\"Plot\"},\"source\":null,\"start\":null,\"x_end\":{\"value\":0.3132286667242408},\"x_start\":{\"value\":-0.15695310235118742},\"y_end\":{\"value\":-0.10768973334536763},\"y_start\":{\"value\":-0.11882012672873193}},\"id\":\"92911eb5-6517-4c80-8a2d-0ba02771d6d8\",\"type\":\"Arrow\"},{\"attributes\":{\"end\":{\"id\":\"3f0f3791-8c58-4830-951c-fd50c30b3483\",\"type\":\"OpenHead\"},\"line_color\":{\"value\":\"gray\"},\"plot\":{\"id\":\"3aaf08bb-b466-4620-924f-c0e8f3d160c6\",\"subtype\":\"Figure\",\"type\":\"Plot\"},\"source\":null,\"start\":null,\"x_end\":{\"value\":-0.15159842585224884},\"x_start\":{\"value\":0.3132286667242408},\"y_end\":{\"value\":-0.11540221756410034},\"y_start\":{\"value\":-0.10768973334536763}},\"id\":\"4e9f5957-a9ba-43a3-9ba4-fbbc7e5e8716\",\"type\":\"Arrow\"},{\"attributes\":{\"end\":{\"id\":\"fbbd1dea-0a54-40c6-8cc9-ceccd2b0937b\",\"type\":\"OpenHead\"},\"line_color\":{\"value\":\"gray\"},\"plot\":{\"id\":\"3aaf08bb-b466-4620-924f-c0e8f3d160c6\",\"subtype\":\"Figure\",\"type\":\"Plot\"},\"source\":null,\"start\":null,\"x_end\":{\"value\":-0.003761150744807974},\"x_start\":{\"value\":0.07200687472089591},\"y_end\":{\"value\":0.24068075356333327},\"y_start\":{\"value\":0.27798118937843164}},\"id\":\"37543e3c-c6c1-4548-b62d-4f18c51b2b66\",\"type\":\"Arrow\"},{\"attributes\":{\"line_color\":{\"value\":\"firebrick\"},\"line_width\":{\"value\":2},\"plot\":null,\"size\":10},\"id\":\"af4c095c-6b6e-4156-acaa-b69509f0a4de\",\"type\":\"OpenHead\"},{\"attributes\":{\"end\":{\"id\":\"26a85c00-ea8a-4e32-b3c1-dc5bccb5a38f\",\"type\":\"OpenHead\"},\"line_color\":{\"value\":\"gray\"},\"plot\":{\"id\":\"3aaf08bb-b466-4620-924f-c0e8f3d160c6\",\"subtype\":\"Figure\",\"type\":\"Plot\"},\"source\":null,\"start\":null,\"x_end\":{\"value\":0.43051626499194406},\"x_start\":{\"value\":-0.003761150744807974},\"y_end\":{\"value\":0.008514524209961054},\"y_start\":{\"value\":0.24068075356333327}},\"id\":\"949aad2d-9957-49bd-b4fa-ffb95fe35cdb\",\"type\":\"Arrow\"},{\"attributes\":{\"fill_alpha\":{\"value\":0.1},\"fill_color\":{\"value\":\"#1f77b4\"},\"line_alpha\":{\"value\":0.1},\"line_color\":{\"value\":\"#1f77b4\"},\"size\":{\"units\":\"screen\",\"value\":10},\"x\":{\"field\":\"x\"},\"y\":{\"field\":\"y\"}},\"id\":\"3a4ec5b4-d450-4371-ad7e-a2b2123a9721\",\"type\":\"Circle\"},{\"attributes\":{\"line_color\":{\"value\":\"firebrick\"},\"line_width\":{\"value\":2},\"plot\":null,\"size\":10},\"id\":\"d4cd17c8-f321-4c18-a196-47af934b73e9\",\"type\":\"OpenHead\"},{\"attributes\":{\"end\":{\"id\":\"af4c095c-6b6e-4156-acaa-b69509f0a4de\",\"type\":\"OpenHead\"},\"line_color\":{\"value\":\"gray\"},\"plot\":{\"id\":\"3aaf08bb-b466-4620-924f-c0e8f3d160c6\",\"subtype\":\"Figure\",\"type\":\"Plot\"},\"source\":null,\"start\":null,\"x_end\":{\"value\":-0.019028492824036007},\"x_start\":{\"value\":0.43051626499194406},\"y_end\":{\"value\":0.20708747855035212},\"y_start\":{\"value\":0.008514524209961054}},\"id\":\"f4869c1e-e05e-4add-a330-63970028a35d\",\"type\":\"Arrow\"},{\"attributes\":{\"line_color\":{\"value\":\"firebrick\"},\"line_width\":{\"value\":2},\"plot\":null,\"size\":10},\"id\":\"13407ac3-d9fd-4816-b378-96abff43349b\",\"type\":\"OpenHead\"},{\"attributes\":{\"end\":{\"id\":\"d4cd17c8-f321-4c18-a196-47af934b73e9\",\"type\":\"OpenHead\"},\"line_color\":{\"value\":\"gray\"},\"plot\":{\"id\":\"3aaf08bb-b466-4620-924f-c0e8f3d160c6\",\"subtype\":\"Figure\",\"type\":\"Plot\"},\"source\":null,\"start\":null,\"x_end\":{\"value\":-0.1567995689602592},\"x_start\":{\"value\":-0.019028492824036007},\"y_end\":{\"value\":-0.032243725577476026},\"y_start\":{\"value\":0.20708747855035212}},\"id\":\"291a6b09-7fbd-4f3a-ae0a-05f59b4bb205\",\"type\":\"Arrow\"},{\"attributes\":{\"line_color\":{\"value\":\"firebrick\"},\"line_width\":{\"value\":2},\"plot\":null,\"size\":10},\"id\":\"9deb14d3-8c65-4128-a477-c095a5c685d5\",\"type\":\"OpenHead\"},{\"attributes\":{\"end\":{\"id\":\"13407ac3-d9fd-4816-b378-96abff43349b\",\"type\":\"OpenHead\"},\"line_color\":{\"value\":\"gray\"},\"plot\":{\"id\":\"3aaf08bb-b466-4620-924f-c0e8f3d160c6\",\"subtype\":\"Figure\",\"type\":\"Plot\"},\"source\":null,\"start\":null,\"x_end\":{\"value\":-0.167805970775483},\"x_start\":{\"value\":-0.1567995689602592},\"y_end\":{\"value\":0.07817227249583512},\"y_start\":{\"value\":-0.032243725577476026}},\"id\":\"4f1db645-ea0d-4d4d-9ea6-abe768346276\",\"type\":\"Arrow\"},{\"attributes\":{\"fill_color\":{\"value\":\"black\"},\"x\":{\"value\":-0.21216571541127482},\"y\":{\"value\":-0.16402566298103113}},\"id\":\"1c7d8a87-4f47-4b8e-b935-8458e530dedb\",\"type\":\"Circle\"},{\"attributes\":{\"line_color\":{\"value\":\"firebrick\"},\"line_width\":{\"value\":2},\"plot\":null,\"size\":10},\"id\":\"d110127f-30cd-4bdc-8641-1fe4a18d2fe2\",\"type\":\"OpenHead\"},{\"attributes\":{\"end\":{\"id\":\"9deb14d3-8c65-4128-a477-c095a5c685d5\",\"type\":\"OpenHead\"},\"line_color\":{\"value\":\"gray\"},\"plot\":{\"id\":\"3aaf08bb-b466-4620-924f-c0e8f3d160c6\",\"subtype\":\"Figure\",\"type\":\"Plot\"},\"source\":null,\"start\":null,\"x_end\":{\"value\":-0.07718268056889996},\"x_start\":{\"value\":-0.167805970775483},\"y_end\":{\"value\":0.13465824731249904},\"y_start\":{\"value\":0.07817227249583512}},\"id\":\"08c5cad8-d1ef-41de-bc64-d3c1882125f7\",\"type\":\"Arrow\"},{\"attributes\":{\"line_color\":{\"value\":\"firebrick\"},\"line_width\":{\"value\":2},\"plot\":null,\"size\":10},\"id\":\"8f1108fe-f81e-4895-af05-981ec7b57ee0\",\"type\":\"OpenHead\"},{\"attributes\":{\"end\":{\"id\":\"d110127f-30cd-4bdc-8641-1fe4a18d2fe2\",\"type\":\"OpenHead\"},\"line_color\":{\"value\":\"gray\"},\"plot\":{\"id\":\"3aaf08bb-b466-4620-924f-c0e8f3d160c6\",\"subtype\":\"Figure\",\"type\":\"Plot\"},\"source\":null,\"start\":null,\"x_end\":{\"value\":-0.11458036181615862},\"x_start\":{\"value\":-0.07718268056889996},\"y_end\":{\"value\":0.051087528147709026},\"y_start\":{\"value\":0.13465824731249904}},\"id\":\"328feae3-9072-42e1-998d-f5bf7769d3de\",\"type\":\"Arrow\"},{\"attributes\":{\"line_color\":{\"value\":\"firebrick\"},\"line_width\":{\"value\":2},\"plot\":null,\"size\":10},\"id\":\"c359707a-f255-42ae-99ad-44b5b58d7403\",\"type\":\"OpenHead\"},{\"attributes\":{\"end\":{\"id\":\"8f1108fe-f81e-4895-af05-981ec7b57ee0\",\"type\":\"OpenHead\"},\"line_color\":{\"value\":\"gray\"},\"plot\":{\"id\":\"3aaf08bb-b466-4620-924f-c0e8f3d160c6\",\"subtype\":\"Figure\",\"type\":\"Plot\"},\"source\":null,\"start\":null,\"x_end\":{\"value\":-0.2565179279194412},\"x_start\":{\"value\":-0.11458036181615862},\"y_end\":{\"value\":-0.2203721148365278},\"y_start\":{\"value\":0.051087528147709026}},\"id\":\"ca174513-c353-41ad-af8a-8904b79b3daa\",\"type\":\"Arrow\"},{\"attributes\":{\"line_color\":{\"value\":\"firebrick\"},\"line_width\":{\"value\":2},\"plot\":null,\"size\":10},\"id\":\"87ff7435-2579-4b12-8e47-a47488d49333\",\"type\":\"OpenHead\"},{\"attributes\":{\"end\":{\"id\":\"c359707a-f255-42ae-99ad-44b5b58d7403\",\"type\":\"OpenHead\"},\"line_color\":{\"value\":\"gray\"},\"plot\":{\"id\":\"3aaf08bb-b466-4620-924f-c0e8f3d160c6\",\"subtype\":\"Figure\",\"type\":\"Plot\"},\"source\":null,\"start\":null,\"x_end\":{\"value\":0.21762376118047289},\"x_start\":{\"value\":-0.2565179279194412},\"y_end\":{\"value\":-0.14458812761028614},\"y_start\":{\"value\":-0.2203721148365278}},\"id\":\"842fd3e6-e3f0-4326-80dc-cb5dd11a1918\",\"type\":\"Arrow\"},{\"attributes\":{\"line_color\":{\"value\":\"firebrick\"},\"line_width\":{\"value\":2},\"plot\":null,\"size\":10},\"id\":\"a386d87c-608d-4bb5-b999-7bee5b4d8b3a\",\"type\":\"OpenHead\"},{\"attributes\":{\"end\":{\"id\":\"87ff7435-2579-4b12-8e47-a47488d49333\",\"type\":\"OpenHead\"},\"line_color\":{\"value\":\"gray\"},\"plot\":{\"id\":\"3aaf08bb-b466-4620-924f-c0e8f3d160c6\",\"subtype\":\"Figure\",\"type\":\"Plot\"},\"source\":null,\"start\":null,\"x_end\":{\"value\":-0.18168362128308005},\"x_start\":{\"value\":0.21762376118047289},\"y_end\":{\"value\":-0.1352173068404557},\"y_start\":{\"value\":-0.14458812761028614}},\"id\":\"d4a9552a-46be-484f-9d36-11ed0e9bcbfe\",\"type\":\"Arrow\"},{\"attributes\":{\"line_color\":{\"value\":\"firebrick\"},\"line_width\":{\"value\":2},\"plot\":null,\"size\":10},\"id\":\"724a37d8-808f-435a-98e3-852ad3b62449\",\"type\":\"OpenHead\"},{\"attributes\":{\"end\":{\"id\":\"a386d87c-608d-4bb5-b999-7bee5b4d8b3a\",\"type\":\"OpenHead\"},\"line_color\":{\"value\":\"gray\"},\"plot\":{\"id\":\"3aaf08bb-b466-4620-924f-c0e8f3d160c6\",\"subtype\":\"Figure\",\"type\":\"Plot\"},\"source\":null,\"start\":null,\"x_end\":{\"value\":0.28147630718009115},\"x_start\":{\"value\":-0.18168362128308005},\"y_end\":{\"value\":-0.1201358742601563},\"y_start\":{\"value\":-0.1352173068404557}},\"id\":\"06496854-8ce2-40c5-a420-8138ec52dbf8\",\"type\":\"Arrow\"},{\"attributes\":{\"source\":{\"id\":\"30bb0468-0b72-4c1f-bdb3-68603e351377\",\"type\":\"ColumnDataSource\"}},\"id\":\"42dd3213-7586-42a3-9953-d3f58f8848d8\",\"type\":\"CDSView\"},{\"attributes\":{\"line_color\":{\"value\":\"firebrick\"},\"line_width\":{\"value\":2},\"plot\":null,\"size\":10},\"id\":\"b70a55bb-2dfd-4c2d-9ea9-e2f642a4edce\",\"type\":\"OpenHead\"},{\"attributes\":{\"end\":{\"id\":\"724a37d8-808f-435a-98e3-852ad3b62449\",\"type\":\"OpenHead\"},\"line_color\":{\"value\":\"gray\"},\"plot\":{\"id\":\"3aaf08bb-b466-4620-924f-c0e8f3d160c6\",\"subtype\":\"Figure\",\"type\":\"Plot\"},\"source\":null,\"start\":null,\"x_end\":{\"value\":-0.1645678320762674},\"x_start\":{\"value\":0.28147630718009115},\"y_end\":{\"value\":-0.12343504456987527},\"y_start\":{\"value\":-0.1201358742601563}},\"id\":\"a13b967d-8ab0-464e-86d8-a322c856ba34\",\"type\":\"Arrow\"},{\"attributes\":{\"line_color\":{\"value\":\"firebrick\"},\"line_width\":{\"value\":2},\"plot\":null,\"size\":10},\"id\":\"f1063add-9088-4e80-9a8b-8efc714e085e\",\"type\":\"OpenHead\"},{\"attributes\":{\"end\":{\"id\":\"b70a55bb-2dfd-4c2d-9ea9-e2f642a4edce\",\"type\":\"OpenHead\"},\"line_color\":{\"value\":\"gray\"},\"plot\":{\"id\":\"3aaf08bb-b466-4620-924f-c0e8f3d160c6\",\"subtype\":\"Figure\",\"type\":\"Plot\"},\"source\":null,\"start\":null,\"x_end\":{\"value\":0.3094708549858134},\"x_start\":{\"value\":-0.1645678320762674},\"y_end\":{\"value\":-0.11328187515152513},\"y_start\":{\"value\":-0.12343504456987527}},\"id\":\"34fb2050-999b-461a-b79f-f4cb2dca6a71\",\"type\":\"Arrow\"},{\"attributes\":{\"data_source\":{\"id\":\"30bb0468-0b72-4c1f-bdb3-68603e351377\",\"type\":\"ColumnDataSource\"},\"glyph\":{\"id\":\"1c7d8a87-4f47-4b8e-b935-8458e530dedb\",\"type\":\"Circle\"},\"hover_glyph\":null,\"muted_glyph\":null,\"nonselection_glyph\":{\"id\":\"02cb222a-fe3f-45f7-b697-74b02d5b5527\",\"type\":\"Circle\"},\"selection_glyph\":null,\"view\":{\"id\":\"42dd3213-7586-42a3-9953-d3f58f8848d8\",\"type\":\"CDSView\"}},\"id\":\"09076caa-24fd-4293-86d8-4aac74b012ea\",\"type\":\"GlyphRenderer\"},{\"attributes\":{\"line_color\":{\"value\":\"firebrick\"},\"line_width\":{\"value\":2},\"plot\":null,\"size\":10},\"id\":\"ddabb1d3-571e-472e-ad50-8a7b0989afb9\",\"type\":\"OpenHead\"},{\"attributes\":{\"end\":{\"id\":\"f1063add-9088-4e80-9a8b-8efc714e085e\",\"type\":\"OpenHead\"},\"line_color\":{\"value\":\"gray\"},\"plot\":{\"id\":\"3aaf08bb-b466-4620-924f-c0e8f3d160c6\",\"subtype\":\"Figure\",\"type\":\"Plot\"},\"source\":null,\"start\":null,\"x_end\":{\"value\":-0.15695310235118742},\"x_start\":{\"value\":0.3094708549858134},\"y_end\":{\"value\":-0.11882012672873193},\"y_start\":{\"value\":-0.11328187515152513}},\"id\":\"6182ee71-c814-414a-af6f-3996223db14d\",\"type\":\"Arrow\"},{\"attributes\":{\"line_color\":{\"value\":\"firebrick\"},\"line_width\":{\"value\":2},\"plot\":null,\"size\":10},\"id\":\"3f0f3791-8c58-4830-951c-fd50c30b3483\",\"type\":\"OpenHead\"}],\"root_ids\":[\"3aaf08bb-b466-4620-924f-c0e8f3d160c6\"]},\"title\":\"Bokeh Application\",\"version\":\"0.12.15\"}};\n",
       "  var render_items = [{\"docid\":\"f0c154cd-0a57-44f7-9c9a-3bc2dbe1dba0\",\"elementid\":\"ce72e10b-5c31-4878-8d91-5abc9bcced71\",\"modelid\":\"3aaf08bb-b466-4620-924f-c0e8f3d160c6\"}];\n",
       "  root.Bokeh.embed.embed_items_notebook(docs_json, render_items);\n",
       "\n",
       "  }\n",
       "  if (root.Bokeh !== undefined) {\n",
       "    embed_document(root);\n",
       "  } else {\n",
       "    var attempts = 0;\n",
       "    var timer = setInterval(function(root) {\n",
       "      if (root.Bokeh !== undefined) {\n",
       "        embed_document(root);\n",
       "        clearInterval(timer);\n",
       "      }\n",
       "      attempts++;\n",
       "      if (attempts > 100) {\n",
       "        console.log(\"Bokeh: ERROR: Unable to run BokehJS code because BokehJS library is missing\")\n",
       "        clearInterval(timer);\n",
       "      }\n",
       "    }, 10, root)\n",
       "  }\n",
       "})(window);"
      ],
      "application/vnd.bokehjs_exec.v0+json": ""
     },
     "metadata": {
      "application/vnd.bokehjs_exec.v0+json": {
       "id": "3aaf08bb-b466-4620-924f-c0e8f3d160c6"
      }
     },
     "output_type": "display_data"
    }
   ],
   "source": [
    "show(p)"
   ]
  },
  {
   "cell_type": "code",
   "execution_count": null,
   "metadata": {},
   "outputs": [],
   "source": []
  },
  {
   "cell_type": "code",
   "execution_count": null,
   "metadata": {},
   "outputs": [],
   "source": []
  },
  {
   "cell_type": "code",
   "execution_count": null,
   "metadata": {},
   "outputs": [],
   "source": []
  }
 ],
 "metadata": {
  "kernelspec": {
   "display_name": "Python 3",
   "language": "python",
   "name": "python3"
  },
  "language_info": {
   "codemirror_mode": {
    "name": "ipython",
    "version": 3
   },
   "file_extension": ".py",
   "mimetype": "text/x-python",
   "name": "python",
   "nbconvert_exporter": "python",
   "pygments_lexer": "ipython3",
   "version": "3.6.4"
  }
 },
 "nbformat": 4,
 "nbformat_minor": 2
}
