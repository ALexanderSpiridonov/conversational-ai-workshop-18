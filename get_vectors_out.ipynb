{
 "cells": [
  {
   "cell_type": "code",
   "execution_count": 1,
   "metadata": {},
   "outputs": [
    {
     "name": "stderr",
     "output_type": "stream",
     "text": [
      "/usr/local/lib/python3.6/site-packages/pykwalify/core.py:99: UnsafeLoaderWarning: \n",
      "The default 'Loader' for 'load(stream)' without further arguments can be unsafe.\n",
      "Use 'load(stream, Loader=ruamel.yaml.Loader)' explicitly if that is OK.\n",
      "Alternatively include the following in your code:\n",
      "\n",
      "  import warnings\n",
      "  warnings.simplefilter('ignore', ruamel.yaml.error.UnsafeLoaderWarning)\n",
      "\n",
      "In most other cases you should consider using 'safe_load(stream)'\n",
      "  data = yaml.load(stream)\n"
     ]
    },
    {
     "name": "stdout",
     "output_type": "stream",
     "text": [
      "INFO:tensorflow:Restoring parameters from models/dialogue_embed/policy_0_EmbeddingPolicy/tensorflow_embedding.ckpt\n"
     ]
    },
    {
     "data": {
      "text/html": [
       "\n",
       "    <div class=\"bk-root\">\n",
       "        <a href=\"https://bokeh.pydata.org\" target=\"_blank\" class=\"bk-logo bk-logo-small bk-logo-notebook\"></a>\n",
       "        <span id=\"7176870f-ea39-4a67-b086-c7472f11fe07\">Loading BokehJS ...</span>\n",
       "    </div>"
      ]
     },
     "metadata": {},
     "output_type": "display_data"
    },
    {
     "data": {
      "application/javascript": [
       "\n",
       "(function(root) {\n",
       "  function now() {\n",
       "    return new Date();\n",
       "  }\n",
       "\n",
       "  var force = true;\n",
       "\n",
       "  if (typeof (root._bokeh_onload_callbacks) === \"undefined\" || force === true) {\n",
       "    root._bokeh_onload_callbacks = [];\n",
       "    root._bokeh_is_loading = undefined;\n",
       "  }\n",
       "\n",
       "  var JS_MIME_TYPE = 'application/javascript';\n",
       "  var HTML_MIME_TYPE = 'text/html';\n",
       "  var EXEC_MIME_TYPE = 'application/vnd.bokehjs_exec.v0+json';\n",
       "  var CLASS_NAME = 'output_bokeh rendered_html';\n",
       "\n",
       "  /**\n",
       "   * Render data to the DOM node\n",
       "   */\n",
       "  function render(props, node) {\n",
       "    var script = document.createElement(\"script\");\n",
       "    node.appendChild(script);\n",
       "  }\n",
       "\n",
       "  /**\n",
       "   * Handle when an output is cleared or removed\n",
       "   */\n",
       "  function handleClearOutput(event, handle) {\n",
       "    var cell = handle.cell;\n",
       "\n",
       "    var id = cell.output_area._bokeh_element_id;\n",
       "    var server_id = cell.output_area._bokeh_server_id;\n",
       "    // Clean up Bokeh references\n",
       "    if (id != null && id in Bokeh.index) {\n",
       "      Bokeh.index[id].model.document.clear();\n",
       "      delete Bokeh.index[id];\n",
       "    }\n",
       "\n",
       "    if (server_id !== undefined) {\n",
       "      // Clean up Bokeh references\n",
       "      var cmd = \"from bokeh.io.state import curstate; print(curstate().uuid_to_server['\" + server_id + \"'].get_sessions()[0].document.roots[0]._id)\";\n",
       "      cell.notebook.kernel.execute(cmd, {\n",
       "        iopub: {\n",
       "          output: function(msg) {\n",
       "            var id = msg.content.text.trim();\n",
       "            if (id in Bokeh.index) {\n",
       "              Bokeh.index[id].model.document.clear();\n",
       "              delete Bokeh.index[id];\n",
       "            }\n",
       "          }\n",
       "        }\n",
       "      });\n",
       "      // Destroy server and session\n",
       "      var cmd = \"import bokeh.io.notebook as ion; ion.destroy_server('\" + server_id + \"')\";\n",
       "      cell.notebook.kernel.execute(cmd);\n",
       "    }\n",
       "  }\n",
       "\n",
       "  /**\n",
       "   * Handle when a new output is added\n",
       "   */\n",
       "  function handleAddOutput(event, handle) {\n",
       "    var output_area = handle.output_area;\n",
       "    var output = handle.output;\n",
       "\n",
       "    // limit handleAddOutput to display_data with EXEC_MIME_TYPE content only\n",
       "    if ((output.output_type != \"display_data\") || (!output.data.hasOwnProperty(EXEC_MIME_TYPE))) {\n",
       "      return\n",
       "    }\n",
       "\n",
       "    var toinsert = output_area.element.find(\".\" + CLASS_NAME.split(' ')[0]);\n",
       "\n",
       "    if (output.metadata[EXEC_MIME_TYPE][\"id\"] !== undefined) {\n",
       "      toinsert[toinsert.length - 1].firstChild.textContent = output.data[JS_MIME_TYPE];\n",
       "      // store reference to embed id on output_area\n",
       "      output_area._bokeh_element_id = output.metadata[EXEC_MIME_TYPE][\"id\"];\n",
       "    }\n",
       "    if (output.metadata[EXEC_MIME_TYPE][\"server_id\"] !== undefined) {\n",
       "      var bk_div = document.createElement(\"div\");\n",
       "      bk_div.innerHTML = output.data[HTML_MIME_TYPE];\n",
       "      var script_attrs = bk_div.children[0].attributes;\n",
       "      for (var i = 0; i < script_attrs.length; i++) {\n",
       "        toinsert[toinsert.length - 1].firstChild.setAttribute(script_attrs[i].name, script_attrs[i].value);\n",
       "      }\n",
       "      // store reference to server id on output_area\n",
       "      output_area._bokeh_server_id = output.metadata[EXEC_MIME_TYPE][\"server_id\"];\n",
       "    }\n",
       "  }\n",
       "\n",
       "  function register_renderer(events, OutputArea) {\n",
       "\n",
       "    function append_mime(data, metadata, element) {\n",
       "      // create a DOM node to render to\n",
       "      var toinsert = this.create_output_subarea(\n",
       "        metadata,\n",
       "        CLASS_NAME,\n",
       "        EXEC_MIME_TYPE\n",
       "      );\n",
       "      this.keyboard_manager.register_events(toinsert);\n",
       "      // Render to node\n",
       "      var props = {data: data, metadata: metadata[EXEC_MIME_TYPE]};\n",
       "      render(props, toinsert[toinsert.length - 1]);\n",
       "      element.append(toinsert);\n",
       "      return toinsert\n",
       "    }\n",
       "\n",
       "    /* Handle when an output is cleared or removed */\n",
       "    events.on('clear_output.CodeCell', handleClearOutput);\n",
       "    events.on('delete.Cell', handleClearOutput);\n",
       "\n",
       "    /* Handle when a new output is added */\n",
       "    events.on('output_added.OutputArea', handleAddOutput);\n",
       "\n",
       "    /**\n",
       "     * Register the mime type and append_mime function with output_area\n",
       "     */\n",
       "    OutputArea.prototype.register_mime_type(EXEC_MIME_TYPE, append_mime, {\n",
       "      /* Is output safe? */\n",
       "      safe: true,\n",
       "      /* Index of renderer in `output_area.display_order` */\n",
       "      index: 0\n",
       "    });\n",
       "  }\n",
       "\n",
       "  // register the mime type if in Jupyter Notebook environment and previously unregistered\n",
       "  if (root.Jupyter !== undefined) {\n",
       "    var events = require('base/js/events');\n",
       "    var OutputArea = require('notebook/js/outputarea').OutputArea;\n",
       "\n",
       "    if (OutputArea.prototype.mime_types().indexOf(EXEC_MIME_TYPE) == -1) {\n",
       "      register_renderer(events, OutputArea);\n",
       "    }\n",
       "  }\n",
       "\n",
       "  \n",
       "  if (typeof (root._bokeh_timeout) === \"undefined\" || force === true) {\n",
       "    root._bokeh_timeout = Date.now() + 5000;\n",
       "    root._bokeh_failed_load = false;\n",
       "  }\n",
       "\n",
       "  var NB_LOAD_WARNING = {'data': {'text/html':\n",
       "     \"<div style='background-color: #fdd'>\\n\"+\n",
       "     \"<p>\\n\"+\n",
       "     \"BokehJS does not appear to have successfully loaded. If loading BokehJS from CDN, this \\n\"+\n",
       "     \"may be due to a slow or bad network connection. Possible fixes:\\n\"+\n",
       "     \"</p>\\n\"+\n",
       "     \"<ul>\\n\"+\n",
       "     \"<li>re-rerun `output_notebook()` to attempt to load from CDN again, or</li>\\n\"+\n",
       "     \"<li>use INLINE resources instead, as so:</li>\\n\"+\n",
       "     \"</ul>\\n\"+\n",
       "     \"<code>\\n\"+\n",
       "     \"from bokeh.resources import INLINE\\n\"+\n",
       "     \"output_notebook(resources=INLINE)\\n\"+\n",
       "     \"</code>\\n\"+\n",
       "     \"</div>\"}};\n",
       "\n",
       "  function display_loaded() {\n",
       "    var el = document.getElementById(\"7176870f-ea39-4a67-b086-c7472f11fe07\");\n",
       "    if (el != null) {\n",
       "      el.textContent = \"BokehJS is loading...\";\n",
       "    }\n",
       "    if (root.Bokeh !== undefined) {\n",
       "      if (el != null) {\n",
       "        el.textContent = \"BokehJS \" + root.Bokeh.version + \" successfully loaded.\";\n",
       "      }\n",
       "    } else if (Date.now() < root._bokeh_timeout) {\n",
       "      setTimeout(display_loaded, 100)\n",
       "    }\n",
       "  }\n",
       "\n",
       "\n",
       "  function run_callbacks() {\n",
       "    try {\n",
       "      root._bokeh_onload_callbacks.forEach(function(callback) { callback() });\n",
       "    }\n",
       "    finally {\n",
       "      delete root._bokeh_onload_callbacks\n",
       "    }\n",
       "    console.info(\"Bokeh: all callbacks have finished\");\n",
       "  }\n",
       "\n",
       "  function load_libs(js_urls, callback) {\n",
       "    root._bokeh_onload_callbacks.push(callback);\n",
       "    if (root._bokeh_is_loading > 0) {\n",
       "      console.log(\"Bokeh: BokehJS is being loaded, scheduling callback at\", now());\n",
       "      return null;\n",
       "    }\n",
       "    if (js_urls == null || js_urls.length === 0) {\n",
       "      run_callbacks();\n",
       "      return null;\n",
       "    }\n",
       "    console.log(\"Bokeh: BokehJS not loaded, scheduling load and callback at\", now());\n",
       "    root._bokeh_is_loading = js_urls.length;\n",
       "    for (var i = 0; i < js_urls.length; i++) {\n",
       "      var url = js_urls[i];\n",
       "      var s = document.createElement('script');\n",
       "      s.src = url;\n",
       "      s.async = false;\n",
       "      s.onreadystatechange = s.onload = function() {\n",
       "        root._bokeh_is_loading--;\n",
       "        if (root._bokeh_is_loading === 0) {\n",
       "          console.log(\"Bokeh: all BokehJS libraries loaded\");\n",
       "          run_callbacks()\n",
       "        }\n",
       "      };\n",
       "      s.onerror = function() {\n",
       "        console.warn(\"failed to load library \" + url);\n",
       "      };\n",
       "      console.log(\"Bokeh: injecting script tag for BokehJS library: \", url);\n",
       "      document.getElementsByTagName(\"head\")[0].appendChild(s);\n",
       "    }\n",
       "  };var element = document.getElementById(\"7176870f-ea39-4a67-b086-c7472f11fe07\");\n",
       "  if (element == null) {\n",
       "    console.log(\"Bokeh: ERROR: autoload.js configured with elementid '7176870f-ea39-4a67-b086-c7472f11fe07' but no matching script tag was found. \")\n",
       "    return false;\n",
       "  }\n",
       "\n",
       "  var js_urls = [\"https://cdn.pydata.org/bokeh/release/bokeh-0.13.0.min.js\", \"https://cdn.pydata.org/bokeh/release/bokeh-widgets-0.13.0.min.js\", \"https://cdn.pydata.org/bokeh/release/bokeh-tables-0.13.0.min.js\", \"https://cdn.pydata.org/bokeh/release/bokeh-gl-0.13.0.min.js\"];\n",
       "\n",
       "  var inline_js = [\n",
       "    function(Bokeh) {\n",
       "      Bokeh.set_log_level(\"info\");\n",
       "    },\n",
       "    \n",
       "    function(Bokeh) {\n",
       "      \n",
       "    },\n",
       "    function(Bokeh) {\n",
       "      console.log(\"Bokeh: injecting CSS: https://cdn.pydata.org/bokeh/release/bokeh-0.13.0.min.css\");\n",
       "      Bokeh.embed.inject_css(\"https://cdn.pydata.org/bokeh/release/bokeh-0.13.0.min.css\");\n",
       "      console.log(\"Bokeh: injecting CSS: https://cdn.pydata.org/bokeh/release/bokeh-widgets-0.13.0.min.css\");\n",
       "      Bokeh.embed.inject_css(\"https://cdn.pydata.org/bokeh/release/bokeh-widgets-0.13.0.min.css\");\n",
       "      console.log(\"Bokeh: injecting CSS: https://cdn.pydata.org/bokeh/release/bokeh-tables-0.13.0.min.css\");\n",
       "      Bokeh.embed.inject_css(\"https://cdn.pydata.org/bokeh/release/bokeh-tables-0.13.0.min.css\");\n",
       "    }\n",
       "  ];\n",
       "\n",
       "  function run_inline_js() {\n",
       "    \n",
       "    if ((root.Bokeh !== undefined) || (force === true)) {\n",
       "      for (var i = 0; i < inline_js.length; i++) {\n",
       "        inline_js[i].call(root, root.Bokeh);\n",
       "      }if (force === true) {\n",
       "        display_loaded();\n",
       "      }} else if (Date.now() < root._bokeh_timeout) {\n",
       "      setTimeout(run_inline_js, 100);\n",
       "    } else if (!root._bokeh_failed_load) {\n",
       "      console.log(\"Bokeh: BokehJS failed to load within specified timeout.\");\n",
       "      root._bokeh_failed_load = true;\n",
       "    } else if (force !== true) {\n",
       "      var cell = $(document.getElementById(\"7176870f-ea39-4a67-b086-c7472f11fe07\")).parents('.cell').data().cell;\n",
       "      cell.output_area.append_execute_result(NB_LOAD_WARNING)\n",
       "    }\n",
       "\n",
       "  }\n",
       "\n",
       "  if (root._bokeh_is_loading === 0) {\n",
       "    console.log(\"Bokeh: BokehJS loaded, going straight to plotting\");\n",
       "    run_inline_js();\n",
       "  } else {\n",
       "    load_libs(js_urls, function() {\n",
       "      console.log(\"Bokeh: BokehJS plotting callback run at\", now());\n",
       "      run_inline_js();\n",
       "    });\n",
       "  }\n",
       "}(window));"
      ],
      "application/vnd.bokehjs_load.v0+json": "\n(function(root) {\n  function now() {\n    return new Date();\n  }\n\n  var force = true;\n\n  if (typeof (root._bokeh_onload_callbacks) === \"undefined\" || force === true) {\n    root._bokeh_onload_callbacks = [];\n    root._bokeh_is_loading = undefined;\n  }\n\n  \n\n  \n  if (typeof (root._bokeh_timeout) === \"undefined\" || force === true) {\n    root._bokeh_timeout = Date.now() + 5000;\n    root._bokeh_failed_load = false;\n  }\n\n  var NB_LOAD_WARNING = {'data': {'text/html':\n     \"<div style='background-color: #fdd'>\\n\"+\n     \"<p>\\n\"+\n     \"BokehJS does not appear to have successfully loaded. If loading BokehJS from CDN, this \\n\"+\n     \"may be due to a slow or bad network connection. Possible fixes:\\n\"+\n     \"</p>\\n\"+\n     \"<ul>\\n\"+\n     \"<li>re-rerun `output_notebook()` to attempt to load from CDN again, or</li>\\n\"+\n     \"<li>use INLINE resources instead, as so:</li>\\n\"+\n     \"</ul>\\n\"+\n     \"<code>\\n\"+\n     \"from bokeh.resources import INLINE\\n\"+\n     \"output_notebook(resources=INLINE)\\n\"+\n     \"</code>\\n\"+\n     \"</div>\"}};\n\n  function display_loaded() {\n    var el = document.getElementById(\"7176870f-ea39-4a67-b086-c7472f11fe07\");\n    if (el != null) {\n      el.textContent = \"BokehJS is loading...\";\n    }\n    if (root.Bokeh !== undefined) {\n      if (el != null) {\n        el.textContent = \"BokehJS \" + root.Bokeh.version + \" successfully loaded.\";\n      }\n    } else if (Date.now() < root._bokeh_timeout) {\n      setTimeout(display_loaded, 100)\n    }\n  }\n\n\n  function run_callbacks() {\n    try {\n      root._bokeh_onload_callbacks.forEach(function(callback) { callback() });\n    }\n    finally {\n      delete root._bokeh_onload_callbacks\n    }\n    console.info(\"Bokeh: all callbacks have finished\");\n  }\n\n  function load_libs(js_urls, callback) {\n    root._bokeh_onload_callbacks.push(callback);\n    if (root._bokeh_is_loading > 0) {\n      console.log(\"Bokeh: BokehJS is being loaded, scheduling callback at\", now());\n      return null;\n    }\n    if (js_urls == null || js_urls.length === 0) {\n      run_callbacks();\n      return null;\n    }\n    console.log(\"Bokeh: BokehJS not loaded, scheduling load and callback at\", now());\n    root._bokeh_is_loading = js_urls.length;\n    for (var i = 0; i < js_urls.length; i++) {\n      var url = js_urls[i];\n      var s = document.createElement('script');\n      s.src = url;\n      s.async = false;\n      s.onreadystatechange = s.onload = function() {\n        root._bokeh_is_loading--;\n        if (root._bokeh_is_loading === 0) {\n          console.log(\"Bokeh: all BokehJS libraries loaded\");\n          run_callbacks()\n        }\n      };\n      s.onerror = function() {\n        console.warn(\"failed to load library \" + url);\n      };\n      console.log(\"Bokeh: injecting script tag for BokehJS library: \", url);\n      document.getElementsByTagName(\"head\")[0].appendChild(s);\n    }\n  };var element = document.getElementById(\"7176870f-ea39-4a67-b086-c7472f11fe07\");\n  if (element == null) {\n    console.log(\"Bokeh: ERROR: autoload.js configured with elementid '7176870f-ea39-4a67-b086-c7472f11fe07' but no matching script tag was found. \")\n    return false;\n  }\n\n  var js_urls = [\"https://cdn.pydata.org/bokeh/release/bokeh-0.13.0.min.js\", \"https://cdn.pydata.org/bokeh/release/bokeh-widgets-0.13.0.min.js\", \"https://cdn.pydata.org/bokeh/release/bokeh-tables-0.13.0.min.js\", \"https://cdn.pydata.org/bokeh/release/bokeh-gl-0.13.0.min.js\"];\n\n  var inline_js = [\n    function(Bokeh) {\n      Bokeh.set_log_level(\"info\");\n    },\n    \n    function(Bokeh) {\n      \n    },\n    function(Bokeh) {\n      console.log(\"Bokeh: injecting CSS: https://cdn.pydata.org/bokeh/release/bokeh-0.13.0.min.css\");\n      Bokeh.embed.inject_css(\"https://cdn.pydata.org/bokeh/release/bokeh-0.13.0.min.css\");\n      console.log(\"Bokeh: injecting CSS: https://cdn.pydata.org/bokeh/release/bokeh-widgets-0.13.0.min.css\");\n      Bokeh.embed.inject_css(\"https://cdn.pydata.org/bokeh/release/bokeh-widgets-0.13.0.min.css\");\n      console.log(\"Bokeh: injecting CSS: https://cdn.pydata.org/bokeh/release/bokeh-tables-0.13.0.min.css\");\n      Bokeh.embed.inject_css(\"https://cdn.pydata.org/bokeh/release/bokeh-tables-0.13.0.min.css\");\n    }\n  ];\n\n  function run_inline_js() {\n    \n    if ((root.Bokeh !== undefined) || (force === true)) {\n      for (var i = 0; i < inline_js.length; i++) {\n        inline_js[i].call(root, root.Bokeh);\n      }if (force === true) {\n        display_loaded();\n      }} else if (Date.now() < root._bokeh_timeout) {\n      setTimeout(run_inline_js, 100);\n    } else if (!root._bokeh_failed_load) {\n      console.log(\"Bokeh: BokehJS failed to load within specified timeout.\");\n      root._bokeh_failed_load = true;\n    } else if (force !== true) {\n      var cell = $(document.getElementById(\"7176870f-ea39-4a67-b086-c7472f11fe07\")).parents('.cell').data().cell;\n      cell.output_area.append_execute_result(NB_LOAD_WARNING)\n    }\n\n  }\n\n  if (root._bokeh_is_loading === 0) {\n    console.log(\"Bokeh: BokehJS loaded, going straight to plotting\");\n    run_inline_js();\n  } else {\n    load_libs(js_urls, function() {\n      console.log(\"Bokeh: BokehJS plotting callback run at\", now());\n      run_inline_js();\n    });\n  }\n}(window));"
     },
     "metadata": {},
     "output_type": "display_data"
    }
   ],
   "source": [
    "import rasa_core\n",
    "from rasa_core.agent import Agent\n",
    "from bokeh.io import output_notebook\n",
    "agent = Agent.load(\"models/dialogue_embed\")\n",
    "# agent = Agent.load(\"models/dialogue_embed_before_norm_loss\")\n",
    "output_notebook()"
   ]
  },
  {
   "cell_type": "code",
   "execution_count": 2,
   "metadata": {},
   "outputs": [
    {
     "data": {
      "text/plain": [
       "'0.11.0a1'"
      ]
     },
     "execution_count": 2,
     "metadata": {},
     "output_type": "execute_result"
    }
   ],
   "source": [
    "rasa_core.__version__"
   ]
  },
  {
   "cell_type": "code",
   "execution_count": 3,
   "metadata": {},
   "outputs": [],
   "source": [
    "policy = agent.policy_ensemble.policies[0]\n",
    "interpreter = agent.interpreter"
   ]
  },
  {
   "cell_type": "code",
   "execution_count": 4,
   "metadata": {},
   "outputs": [],
   "source": [
    "domain = agent.domain\n"
   ]
  },
  {
   "cell_type": "code",
   "execution_count": 5,
   "metadata": {},
   "outputs": [],
   "source": [
    "from rasa_core.training.structures import StoryGraph\n",
    "from rasa_core.training.dsl import StoryFileReader\n",
    "from rasa_core.trackers import DialogueStateTracker\n",
    "from rasa_core.channels import UserMessage\n",
    "import numpy as np\n",
    "np.set_printoptions(precision=3, suppress=True)\n",
    "\n",
    "def embedding_from_tracker(story, bot=False, predict_only=False):\n",
    "    reader = StoryFileReader(domain, interpreter)\n",
    "    story = story.split('\\n')\n",
    "    story_steps = reader.process_lines(story)\n",
    "#     story_graph = StoryGraph(story_steps)\n",
    "    tracker = DialogueStateTracker(\n",
    "            1,\n",
    "            domain.slots\n",
    "    )\n",
    "    tracker._reset()\n",
    "    for step in story_steps:\n",
    "        events = step.explicit_events(domain)\n",
    "        for event in events[:-1]:\n",
    "            tracker.update(event)\n",
    "\n",
    "    if predict_only:\n",
    "        return policy.predict_action_probabilities(tracker, domain)\n",
    "\n",
    "    data_X = policy.featurizer.create_X([tracker], domain)\n",
    "    session_data = policy._create_tf_session_data(domain, data_X)\n",
    "    all_Y_d_x = np.stack([session_data.all_Y_d for _ in range(session_data.X.shape[0])])\n",
    "    feed_dict={policy.a_in: session_data.X,\n",
    "               policy.b_in: all_Y_d_x,\n",
    "               policy.c_in: session_data.slots,\n",
    "               policy.b_prev_in: session_data.previous_actions,\n",
    "               policy._dialogue_len: session_data.X.shape[1],\n",
    "               policy._x_for_no_intent_in: session_data.x_for_no_intent,\n",
    "               policy._y_for_no_action_in: session_data.y_for_no_action,\n",
    "               policy._y_for_action_listen_in: session_data.y_for_action_listen}\n",
    "\n",
    "    dial_vec = policy.session.run(policy.dial_embed, feed_dict=feed_dict)\n",
    "    bot_vec = policy.session.run(policy.bot_embed, feed_dict=feed_dict)\n",
    "\n",
    "    no_skip_gate = policy.session.run(policy.copy_attn_debug, feed_dict=feed_dict)\n",
    "    attn_embed = policy.session.run(policy.attn_embed, feed_dict=feed_dict)\n",
    "    rnn_embed = policy.session.run(policy.rnn_embed, feed_dict=feed_dict)\n",
    "    probs = policy.session.run(policy.alignment_history, feed_dict=feed_dict)\n",
    "    sims = policy.session.run(policy.sim_op, feed_dict=feed_dict)\n",
    "    if bot is False:\n",
    "        sims1 = policy.predict_action_probabilities(tracker, domain)\n",
    "\n",
    "    del tracker\n",
    "#     print(np.shape(dial_vec))\n",
    "\n",
    "    if bot is False:\n",
    "        return (dial_vec[0,-1,:],\n",
    "                no_skip_gate[0,-1,:],\n",
    "                attn_embed[0,-1,:],\n",
    "                rnn_embed[0,-1,:],\n",
    "                probs[0,-1,:],\n",
    "                sims[0,-1,:],\n",
    "                sims1)\n",
    "    else:\n",
    "        return (dial_vec[0,-1,:],\n",
    "                sims[0,-1,:],\n",
    "                bot_vec[0,-1,:,:])\n",
    "    \n",
    "def make_prediction(story):\n",
    "    dial, sim0, bot = embedding_from_tracker(story, bot=True)\n",
    "    abs_vals = np.array([np.absolute(vec) for vec in bot])\n",
    "    norms = np.apply_along_axis(np.linalg.norm, 1, bot)\n",
    "    sims = np.dot(bot, dial)/norms\n",
    "#     name = domain.action_for_index(np.argmax(sims)).name()\n",
    "#     print(name)\n",
    "    name = domain.action_names[np.argmax(sim0)]\n",
    "#     print(name)\n",
    "#     print('---')\n",
    "#     ids = sim0.argsort()[::-1]\n",
    "#     print(ids)\n",
    "#     print(sims[ids])\n",
    "    return '- ' + name, np.max(sim0)\n",
    "#     print(dial.shape, bot.shape)"
   ]
  },
  {
   "cell_type": "code",
   "execution_count": 6,
   "metadata": {},
   "outputs": [],
   "source": [
    "# print(domain.intents)\n",
    "story_block = \"\"\"* request_hotel\n",
    "    - utter_ask_details\n",
    "* explain\n",
    "    - utter_explain_details_hotel\n",
    "    - utter_ask_details\n",
    "* chitchat\n",
    "    - utter_chitchat\n",
    "    - utter_ask_details\n",
    "* inform{\"enddate\": \"May 26th\"}\n",
    "    - slot{\"enddate\": \"May 26th\"}\n",
    "    - utter_ask_startdate\n",
    "* inform{\"startdate\": \"next week\"}\n",
    "    - slot{\"startdate\": \"next week\"}\n",
    "    - utter_ask_location\n",
    "* correct{\"startdate\": \"next week\"}\n",
    "    - slot{\"startdate\": \"next week\"}\n",
    "    - utter_correct_startdate_hotel\n",
    "    - utter_ask_location\n",
    "* explain\n",
    "    - utter_explain_location_hotel\n",
    "    - utter_ask_location\n",
    "* inform{\"location\": \"rome\"}\n",
    "    - slot{\"location\": \"rome\"}\n",
    "    - utter_ask_price\n",
    "* chitchat\n",
    "    - utter_chitchat\n",
    "    - utter_ask_price\n",
    "* chitchat\n",
    "    - utter_chitchat\n",
    "    - utter_ask_price\n",
    "* chitchat\n",
    "    - utter_chitchat\n",
    "    - utter_ask_price\n",
    "* chitchat\n",
    "    - utter_chitchat\n",
    "    - utter_ask_price\n",
    "* explain\n",
    "    - utter_explain_price_hotel\n",
    "    - utter_ask_price\n",
    "* inform{\"price\": \"expensive\"}\n",
    "    - utter_ask_people\n",
    "* inform{\"people\": \"4\"}\n",
    "    - utter_filled_slots\n",
    "    - utter_search_hotel\n",
    "    - slot{\"hotel\": \"hotel\"}\n",
    "    - utter_suggest_hotel\n",
    "* chitchat\n",
    "    - utter_chitchat\n",
    "    - utter_suggest_hotel\n",
    "* affirm\n",
    "    - utter_happy\"\"\""
   ]
  },
  {
   "cell_type": "code",
   "execution_count": 12,
   "metadata": {},
   "outputs": [],
   "source": [
    "story_block = \"\"\"* request_hotel\n",
    "    - utter_ask_details\n",
    "* inform{\"people\": \"4\"}\n",
    "    - slot{\"people\": \"4\"}\n",
    "    - utter_ask_location\n",
    "* correct{\"people\": \"2\"}\n",
    "    - slot{\"people\": \"2\"}\n",
    "    - utter_correct_people_hotel\n",
    "    - utter_ask_location\n",
    "* chitchat\n",
    "    - utter_chitchat\n",
    "    - utter_ask_location\n",
    "* inform{\"location\": \"rome\"}\n",
    "    - slot{\"location\": \"rome\"}\n",
    "    - utter_ask_price\n",
    "* inform{\"price\": \"expensive\"}\n",
    "    - slot{\"price\": \"expensive\"}\n",
    "    - utter_ask_startdate\n",
    "* inform{\"startdate\": \"next week\", \"enddate\": \"tomorrow\"}\n",
    "    - slot{\"startdate\": \"next week\"}\n",
    "    - slot{\"enddate\": \"tomorrow\"}\n",
    "    - utter_filled_slots\n",
    "    - utter_search_hotel\n",
    "    - slot{\"hotel\": \"hotel\"}\n",
    "    - utter_suggest_hotel\n",
    "* correct{\"enddate\": \"May 26th\"}\n",
    "    - slot{\"enddate\": \"May 26th\"}\n",
    "    - utter_correct_enddate_hotel\n",
    "    - utter_search_hotel\n",
    "    - slot{\"hotel\": \"hotel\"}\n",
    "    - utter_suggest_hotel\n",
    "* correct{\"location\": \"rome\"}\n",
    "    - slot{\"location\": \"rome\"}\n",
    "    - utter_correct_location_hotel\n",
    "    - utter_search_hotel\n",
    "    - slot{\"hotel\": \"hotel\"}\n",
    "    - utter_suggest_hotel\n",
    "* did_that_work\n",
    "    - utter_worked_hotel\n",
    "    - utter_suggest_hotel\n",
    "* affirm\n",
    "    - utter_happy\n",
    "* chitchat\"\"\""
   ]
  },
  {
   "cell_type": "code",
   "execution_count": 13,
   "metadata": {},
   "outputs": [],
   "source": [
    "# story_block = \"\"\"* request_hotel\n",
    "#     - utter_ask_details\n",
    "# * inform{\"people\": \"2\"}\n",
    "#     - slot{\"people\": \"2\"}\n",
    "#     - utter_ask_location\n",
    "# * did_that_work\n",
    "#     - utter_more_info_hotel\n",
    "#     - utter_ask_location\n",
    "# * chitchat\n",
    "#     - utter_chitchat\n",
    "#     - utter_ask_location\n",
    "# * did_that_work\n",
    "#     - utter_more_info_hotel\n",
    "#     - utter_ask_location\n",
    "# * inform{\"location\": \"paris\"}\n",
    "#     - utter_ask_price\n",
    "# * inform{\"price\": \"expensive\"}\n",
    "#     - utter_ask_startdate\n",
    "# * inform{\"startdate\": \"10.03.2018\"}\n",
    "#     - utter_ask_enddate\n",
    "# * explain\n",
    "#     - utter_explain_enddate_hotel\n",
    "#     - utter_ask_enddate\n",
    "# * chitchat\n",
    "#     - utter_chitchat\n",
    "#     - utter_ask_enddate\n",
    "# * explain\n",
    "#     - utter_explain_enddate_hotel\n",
    "#     - utter_ask_enddate\n",
    "# * inform{\"enddate\": \"10.03.2018\"}\n",
    "#     - utter_filled_slots\n",
    "#     - action_search_hotel\n",
    "#     - slot{\"hotel\": \"hotel\"}\n",
    "#     - utter_suggest_hotel\n",
    "# * affirm\n",
    "#     - utter_happy\n",
    "# \"\"\""
   ]
  },
  {
   "cell_type": "code",
   "execution_count": 14,
   "metadata": {},
   "outputs": [
    {
     "name": "stdout",
     "output_type": "stream",
     "text": [
      "43\n",
      "31\n",
      "(20,)\n"
     ]
    }
   ],
   "source": [
    "print(len(story_block.split('\\n')))\n",
    "cool_list = []\n",
    "lines = story_block.split('\\n')\n",
    "for idx, line in enumerate(lines):\n",
    "    if idx == len(lines)-1:\n",
    "        continue\n",
    "#     if '*' in lines[idx+1] or 'slot{' in lines[idx+1]:\n",
    "    if 'slot{' in lines[idx+1]:\n",
    "        continue\n",
    "    sub_story = '\\n'.join(lines[:idx+1])\n",
    "    (dial, not_skip, attn, rnn, probs, sims, sims1\n",
    "    ) = embedding_from_tracker(\"#generate story\\n{}\".format(sub_story))\n",
    "#     print(np.max(sims), np.max(sims1))\n",
    "    pred, sim = make_prediction(\"#generate story\\n{}\".format(sub_story))\n",
    "    cool_list.append((lines[idx+1].strip(), dial, (pred, sim, sims), not_skip, attn[-20:], rnn,\n",
    "                      probs[:20], probs[-20:]))\n",
    "#     embedding_from_tracker(\"#generate story\\n{}\".format(sub_story), predict_only=True)\n",
    "\n",
    "print(len(cool_list))\n",
    "print(cool_list[0][4].shape)\n",
    "#     break\n",
    "# dial = embedding_from_tracker(\"#generate story\\n{}\".format(story_block)\n",
    "# )\n",
    "# print(dial.shape)\n",
    "# print(len(story_block.split('\\n')))"
   ]
  },
  {
   "cell_type": "code",
   "execution_count": 15,
   "metadata": {},
   "outputs": [],
   "source": [
    "import copy\n",
    "\n",
    "# cool_list0 = copy.deepcopy(cool_list)\n",
    "# cool_list[27]"
   ]
  },
  {
   "cell_type": "code",
   "execution_count": 18,
   "metadata": {},
   "outputs": [
    {
     "data": {
      "text/plain": [
       "('* chitchat',\n",
       " array([ 0.101,  0.162, -0.012, -0.195, -0.066, -0.145, -0.014, -0.099,\n",
       "         0.073, -0.603, -0.095, -0.154,  0.09 ,  0.19 ,  0.068, -0.269,\n",
       "         0.345,  0.265,  0.379, -0.062], dtype=float32),\n",
       " ('- action_listen',\n",
       "  0.96368885,\n",
       "  array([ 0.964,  0.034, -0.104, -0.008, -0.071, -0.002, -0.076,  0.03 ,\n",
       "         -0.062, -0.054, -0.241, -0.059, -0.083,  0.009, -0.032, -0.033,\n",
       "         -0.011,  0.012, -0.004, -0.015, -0.022, -0.016, -0.023,  0.025,\n",
       "         -0.005, -0.001, -0.021, -0.105, -0.117, -0.183, -0.001, -0.015,\n",
       "         -0.014, -0.036, -0.036, -0.034, -0.035,  0.015, -0.03 , -0.211,\n",
       "         -0.117, -0.045, -0.088], dtype=float32)),\n",
       " array([1., 1., 1., 1., 1.], dtype=float32),\n",
       " array([ 0.004,  0.042,  0.065,  0.071, -0.038, -0.012, -0.01 , -0.038,\n",
       "        -0.059,  0.019, -0.04 , -0.009, -0.04 ,  0.013, -0.01 , -0.021,\n",
       "         0.001, -0.067,  0.017,  0.033], dtype=float32),\n",
       " array([ 0.097,  0.12 , -0.077, -0.266, -0.028, -0.133, -0.005, -0.061,\n",
       "         0.132, -0.622, -0.055, -0.144,  0.129,  0.177,  0.078, -0.248,\n",
       "         0.344,  0.332,  0.362, -0.094], dtype=float32),\n",
       " array([0.   , 0.033, 0.   , 0.076, 0.   , 0.006, 0.   , 0.   , 0.009,\n",
       "        0.   , 0.   , 0.067, 0.   , 0.101, 0.   , 0.064, 0.   , 0.   ,\n",
       "        0.   , 0.005], dtype=float32),\n",
       " array([0.019, 0.   , 0.015, 0.   , 0.011, 0.009, 0.02 , 0.   , 0.007,\n",
       "        0.005, 0.019, 0.   , 0.009, 0.039, 0.101, 0.   , 0.03 , 0.156,\n",
       "        0.   , 0.018], dtype=float32))"
      ]
     },
     "execution_count": 18,
     "metadata": {},
     "output_type": "execute_result"
    }
   ],
   "source": [
    "# cool_list1= copy.deepcopy(cool_list)\n",
    "cool_list[-1]"
   ]
  },
  {
   "cell_type": "code",
   "execution_count": 12,
   "metadata": {},
   "outputs": [
    {
     "data": {
      "text/plain": [
       "[<matplotlib.lines.Line2D at 0x1282dac88>]"
      ]
     },
     "execution_count": 12,
     "metadata": {},
     "output_type": "execute_result"
    }
   ],
   "source": [
    "import matplotlib.pyplot as plt\n",
    "plt.plot(cool_list[15][-2], marker='x')"
   ]
  },
  {
   "cell_type": "code",
   "execution_count": 13,
   "metadata": {},
   "outputs": [
    {
     "data": {
      "text/plain": [
       "[<matplotlib.lines.Line2D at 0x1284f7f60>]"
      ]
     },
     "execution_count": 13,
     "metadata": {},
     "output_type": "execute_result"
    },
    {
     "data": {
      "image/png": "[encoded data removed]",
      "text/plain": [
       "<matplotlib.figure.Figure at 0x128084160>"
      ]
     },
     "metadata": {},
     "output_type": "display_data"
    }
   ],
   "source": [
    "plt.plot(cool_list[19][-2], marker='x')"
   ]
  },
  {
   "cell_type": "code",
   "execution_count": null,
   "metadata": {},
   "outputs": [],
   "source": []
  },
  {
   "cell_type": "code",
   "execution_count": null,
   "metadata": {},
   "outputs": [],
   "source": []
  },
  {
   "cell_type": "code",
   "execution_count": 14,
   "metadata": {},
   "outputs": [],
   "source": [
    "from sklearn.decomposition import PCA"
   ]
  },
  {
   "cell_type": "code",
   "execution_count": 15,
   "metadata": {},
   "outputs": [],
   "source": [
    "pca = PCA(n_components=2)\n",
    "X = pca.fit_transform([ting[1] for ting in cool_list])"
   ]
  },
  {
   "cell_type": "code",
   "execution_count": 16,
   "metadata": {},
   "outputs": [],
   "source": [
    "from bokeh.plotting import figure, show\n",
    "import matplotlib.pyplot as plt"
   ]
  },
  {
   "cell_type": "code",
   "execution_count": 17,
   "metadata": {},
   "outputs": [],
   "source": [
    "embed_dim = cool_list[0][1].shape[0]\n"
   ]
  },
  {
   "cell_type": "code",
   "execution_count": 18,
   "metadata": {},
   "outputs": [
    {
     "data": {
      "text/html": [
       "<div style=\"display: table;\"><div style=\"display: table-row;\"><div style=\"display: table-cell;\"><b title=\"bokeh.models.renderers.GlyphRenderer\">GlyphRenderer</b>(</div><div style=\"display: table-cell;\">id&nbsp;=&nbsp;'a5c0065e-b0d8-48c0-a9b7-e318dfd0ed24', <span id=\"38ee25e5-8eb9-4124-9c61-fdf514746819\" style=\"cursor: pointer;\">&hellip;)</span></div></div><div class=\"57e4871e-25ad-4853-bca9-96f9a70c5f99\" style=\"display: none;\"><div style=\"display: table-cell;\"></div><div style=\"display: table-cell;\">data_source&nbsp;=&nbsp;ColumnDataSource(id='b26a7c64-0407-4318-be2e-91d43b436846', ...),</div></div><div class=\"57e4871e-25ad-4853-bca9-96f9a70c5f99\" style=\"display: none;\"><div style=\"display: table-cell;\"></div><div style=\"display: table-cell;\">glyph&nbsp;=&nbsp;Circle(id='c6fa576b-1167-403f-81e3-c2db4e6d6b07', ...),</div></div><div class=\"57e4871e-25ad-4853-bca9-96f9a70c5f99\" style=\"display: none;\"><div style=\"display: table-cell;\"></div><div style=\"display: table-cell;\">hover_glyph&nbsp;=&nbsp;None,</div></div><div class=\"57e4871e-25ad-4853-bca9-96f9a70c5f99\" style=\"display: none;\"><div style=\"display: table-cell;\"></div><div style=\"display: table-cell;\">js_event_callbacks&nbsp;=&nbsp;{},</div></div><div class=\"57e4871e-25ad-4853-bca9-96f9a70c5f99\" style=\"display: none;\"><div style=\"display: table-cell;\"></div><div style=\"display: table-cell;\">js_property_callbacks&nbsp;=&nbsp;{},</div></div><div class=\"57e4871e-25ad-4853-bca9-96f9a70c5f99\" style=\"display: none;\"><div style=\"display: table-cell;\"></div><div style=\"display: table-cell;\">level&nbsp;=&nbsp;'glyph',</div></div><div class=\"57e4871e-25ad-4853-bca9-96f9a70c5f99\" style=\"display: none;\"><div style=\"display: table-cell;\"></div><div style=\"display: table-cell;\">muted&nbsp;=&nbsp;False,</div></div><div class=\"57e4871e-25ad-4853-bca9-96f9a70c5f99\" style=\"display: none;\"><div style=\"display: table-cell;\"></div><div style=\"display: table-cell;\">muted_glyph&nbsp;=&nbsp;None,</div></div><div class=\"57e4871e-25ad-4853-bca9-96f9a70c5f99\" style=\"display: none;\"><div style=\"display: table-cell;\"></div><div style=\"display: table-cell;\">name&nbsp;=&nbsp;None,</div></div><div class=\"57e4871e-25ad-4853-bca9-96f9a70c5f99\" style=\"display: none;\"><div style=\"display: table-cell;\"></div><div style=\"display: table-cell;\">nonselection_glyph&nbsp;=&nbsp;Circle(id='e5ed9074-e862-4991-82f4-8be865b859c7', ...),</div></div><div class=\"57e4871e-25ad-4853-bca9-96f9a70c5f99\" style=\"display: none;\"><div style=\"display: table-cell;\"></div><div style=\"display: table-cell;\">selection_glyph&nbsp;=&nbsp;None,</div></div><div class=\"57e4871e-25ad-4853-bca9-96f9a70c5f99\" style=\"display: none;\"><div style=\"display: table-cell;\"></div><div style=\"display: table-cell;\">subscribed_events&nbsp;=&nbsp;[],</div></div><div class=\"57e4871e-25ad-4853-bca9-96f9a70c5f99\" style=\"display: none;\"><div style=\"display: table-cell;\"></div><div style=\"display: table-cell;\">tags&nbsp;=&nbsp;[],</div></div><div class=\"57e4871e-25ad-4853-bca9-96f9a70c5f99\" style=\"display: none;\"><div style=\"display: table-cell;\"></div><div style=\"display: table-cell;\">view&nbsp;=&nbsp;CDSView(id='0fb8e34a-64e0-44d2-b0fa-22dc80500982', ...),</div></div><div class=\"57e4871e-25ad-4853-bca9-96f9a70c5f99\" style=\"display: none;\"><div style=\"display: table-cell;\"></div><div style=\"display: table-cell;\">visible&nbsp;=&nbsp;True,</div></div><div class=\"57e4871e-25ad-4853-bca9-96f9a70c5f99\" style=\"display: none;\"><div style=\"display: table-cell;\"></div><div style=\"display: table-cell;\">x_range_name&nbsp;=&nbsp;'default',</div></div><div class=\"57e4871e-25ad-4853-bca9-96f9a70c5f99\" style=\"display: none;\"><div style=\"display: table-cell;\"></div><div style=\"display: table-cell;\">y_range_name&nbsp;=&nbsp;'default')</div></div></div>\n",
       "<script>\n",
       "(function() {\n",
       "  var expanded = false;\n",
       "  var ellipsis = document.getElementById(\"38ee25e5-8eb9-4124-9c61-fdf514746819\");\n",
       "  ellipsis.addEventListener(\"click\", function() {\n",
       "    var rows = document.getElementsByClassName(\"57e4871e-25ad-4853-bca9-96f9a70c5f99\");\n",
       "    for (var i = 0; i < rows.length; i++) {\n",
       "      var el = rows[i];\n",
       "      el.style.display = expanded ? \"none\" : \"table-row\";\n",
       "    }\n",
       "    ellipsis.innerHTML = expanded ? \"&hellip;)\" : \"&lsaquo;&lsaquo;&lsaquo;\";\n",
       "    expanded = !expanded;\n",
       "  });\n",
       "})();\n",
       "</script>\n"
      ],
      "text/plain": [
       "bokeh.models.renderers.GlyphRenderer(\n",
       "    id='a5c0065e-b0d8-48c0-a9b7-e318dfd0ed24',\n",
       "    data_source=bokeh.models.sources.ColumnDataSource(\n",
       "        id='b26a7c64-0407-4318-be2e-91d43b436846',\n",
       "        callback=None,\n",
       "        data={},\n",
       "        js_event_callbacks={},\n",
       "        js_property_callbacks={},\n",
       "        name=None,\n",
       "        selected=bokeh.models.selections.Selection(\n",
       "            id='0e3124b5-0e50-4d32-be24-6b5e4f41be31',\n",
       "            indices=[],\n",
       "            js_event_callbacks={},\n",
       "            js_property_callbacks={},\n",
       "            line_indices=[],\n",
       "            multiline_indices={},\n",
       "            name=None,\n",
       "            subscribed_events=[],\n",
       "            tags=[]),\n",
       "        selection_policy=bokeh.models.selections.UnionRenderers(\n",
       "            id='69a24e6a-6030-4396-bbdc-5e68148bcb0e',\n",
       "            js_event_callbacks={},\n",
       "            js_property_callbacks={},\n",
       "            name=None,\n",
       "            subscribed_events=[],\n",
       "            tags=[]),\n",
       "        subscribed_events=[],\n",
       "        tags=[]),\n",
       "    glyph=bokeh.models.markers.Circle(\n",
       "        id='c6fa576b-1167-403f-81e3-c2db4e6d6b07',\n",
       "        angle={'value': 0.0, 'units': 'rad'},\n",
       "        fill_alpha={'value': 1.0},\n",
       "        fill_color={'value': 'red'},\n",
       "        js_event_callbacks={},\n",
       "        js_property_callbacks={},\n",
       "        line_alpha={'value': 1.0},\n",
       "        line_cap='butt',\n",
       "        line_color={'value': 'red'},\n",
       "        line_dash=[],\n",
       "        line_dash_offset=0,\n",
       "        line_join='bevel',\n",
       "        line_width={'value': 1},\n",
       "        name=None,\n",
       "        radius=None,\n",
       "        radius_dimension='x',\n",
       "        size={'value': 10, 'units': 'screen'},\n",
       "        subscribed_events=[],\n",
       "        tags=[],\n",
       "        x={'value': -0.1753314113833793},\n",
       "        y={'value': 0.20870170072310434}),\n",
       "    hover_glyph=None,\n",
       "    js_event_callbacks={},\n",
       "    js_property_callbacks={},\n",
       "    level='glyph',\n",
       "    muted=False,\n",
       "    muted_glyph=None,\n",
       "    name=None,\n",
       "    nonselection_glyph=bokeh.models.markers.Circle(\n",
       "        id='e5ed9074-e862-4991-82f4-8be865b859c7',\n",
       "        angle={'value': 0.0, 'units': 'rad'},\n",
       "        fill_alpha={'value': 0.1},\n",
       "        fill_color={'value': '#1f77b4'},\n",
       "        js_event_callbacks={},\n",
       "        js_property_callbacks={},\n",
       "        line_alpha={'value': 0.1},\n",
       "        line_cap='butt',\n",
       "        line_color={'value': '#1f77b4'},\n",
       "        line_dash=[],\n",
       "        line_dash_offset=0,\n",
       "        line_join='bevel',\n",
       "        line_width={'value': 1},\n",
       "        name=None,\n",
       "        radius=None,\n",
       "        radius_dimension='x',\n",
       "        size={'value': 10, 'units': 'screen'},\n",
       "        subscribed_events=[],\n",
       "        tags=[],\n",
       "        x={'value': -0.1753314113833793},\n",
       "        y={'value': 0.20870170072310434}),\n",
       "    selection_glyph=None,\n",
       "    subscribed_events=[],\n",
       "    tags=[],\n",
       "    view=bokeh.models.sources.CDSView(\n",
       "        id='0fb8e34a-64e0-44d2-b0fa-22dc80500982',\n",
       "        filters=[],\n",
       "        js_event_callbacks={},\n",
       "        js_property_callbacks={},\n",
       "        name=None,\n",
       "        source=bokeh.models.sources.ColumnDataSource(\n",
       "            id='b26a7c64-0407-4318-be2e-91d43b436846',\n",
       "            callback=None,\n",
       "            data={},\n",
       "            js_event_callbacks={},\n",
       "            js_property_callbacks={},\n",
       "            name=None,\n",
       "            selected=bokeh.models.selections.Selection(\n",
       "                id='0e3124b5-0e50-4d32-be24-6b5e4f41be31',\n",
       "                indices=[],\n",
       "                js_event_callbacks={},\n",
       "                js_property_callbacks={},\n",
       "                line_indices=[],\n",
       "                multiline_indices={},\n",
       "                name=None,\n",
       "                subscribed_events=[],\n",
       "                tags=[]),\n",
       "            selection_policy=bokeh.models.selections.UnionRenderers(\n",
       "                id='69a24e6a-6030-4396-bbdc-5e68148bcb0e',\n",
       "                js_event_callbacks={},\n",
       "                js_property_callbacks={},\n",
       "                name=None,\n",
       "                subscribed_events=[],\n",
       "                tags=[]),\n",
       "            subscribed_events=[],\n",
       "            tags=[]),\n",
       "        subscribed_events=[],\n",
       "        tags=[]),\n",
       "    visible=True,\n",
       "    x_range_name='default',\n",
       "    y_range_name='default')"
      ]
     },
     "execution_count": 18,
     "metadata": {},
     "output_type": "execute_result"
    }
   ],
   "source": [
    "from bokeh.plotting import figure, output_file, show, ColumnDataSource\n",
    "from bokeh.models import HoverTool, Arrow, OpenHead\n",
    "\n",
    "hover = HoverTool(tooltips=[(\"true action\",\"@desc\"), (\"prediction\", \"@pred\"),\n",
    "                            (\"not_skip_gate\", \"@not_skip\")],names=['circle'])\n",
    "p = figure( tools=[hover])\n",
    "\n",
    "for i in range(1, len(X)):\n",
    "    p.add_layout(Arrow(end=OpenHead(line_color=\"firebrick\", size=10, line_width=2),\n",
    "                       x_start=X[i-1,0], y_start=X[i-1,1],\n",
    "                       x_end=X[i,0], y_end=X[i,1], line_color='gray'))\n",
    "\n",
    "source = ColumnDataSource(data=dict(\n",
    "    x=X[:,0],\n",
    "    y=X[:,1],\n",
    "    desc=[ting[0] for ting in cool_list],\n",
    "    pred = [ting[2][0] for ting in cool_list],\n",
    "    not_skip = [ting[3][-1] for ting in cool_list]\n",
    "))\n",
    "p.circle('x','y', source=source, size=10, name='circle')\n",
    "# p.line(X[:,0], X[:,1])\n",
    "\n",
    "X1 = pca.transform([ting[4] for ting in cool_list])\n",
    "source = ColumnDataSource(data=dict(\n",
    "    x=X1[:,0],\n",
    "    y=X1[:,1],\n",
    "    desc=[ting[0] for ting in cool_list],\n",
    "    pred = [ting[2][0] for ting in cool_list],\n",
    "    not_skip = [ting[3][-1] for ting in cool_list]\n",
    "))\n",
    "p.circle('x','y', source=source, size=5, color='green', name='circle')\n",
    "\n",
    "X2 = pca.transform([ting[5] for ting in cool_list])\n",
    "source = ColumnDataSource(data=dict(\n",
    "    x=X2[:,0],\n",
    "    y=X2[:,1],\n",
    "    desc=[ting[0] for ting in cool_list],\n",
    "    pred = [ting[2][0] for ting in cool_list],\n",
    "    not_skip = [ting[3][-1] for ting in cool_list]\n",
    "))\n",
    "p.circle('x','y', source=source, size=5, color='red', name='circle')\n",
    "\n",
    "x = pca.transform(np.zeros((1,embed_dim)))\n",
    "p.circle(x[0,0], x[0,1], size=5, color='magenta')\n",
    "p.circle(X[0,0], X[0,1], size=10, color='green')\n",
    "p.circle(X[-1,0], X[-1,1], size=10, color='red')\n"
   ]
  },
  {
   "cell_type": "code",
   "execution_count": 19,
   "metadata": {
    "scrolled": false
   },
   "outputs": [
    {
     "data": {
      "text/html": [
       "\n",
       "\n",
       "\n",
       "\n",
       "\n",
       "\n",
       "  <div class=\"bk-root\" id=\"fb0cadc3-d32e-47b9-b7ba-c737533ba8c2\"></div>\n"
      ]
     },
     "metadata": {},
     "output_type": "display_data"
    },
    {
     "data": {
      "application/javascript": [
       "(function(root) {\n",
       "  function embed_document(root) {\n",
       "    \n",
       "  var docs_json = {\"b144548f-0758-4865-b33a-ce1c8d127c70\":{\"roots\":{\"references\":[{\"attributes\":{\"line_color\":{\"value\":\"firebrick\"},\"line_width\":{\"value\":2},\"plot\":null,\"size\":10},\"id\":\"ee84e812-a3f5-46e9-a933-03cde8df4b19\",\"type\":\"OpenHead\"},{\"attributes\":{},\"id\":\"1108542b-df12-4464-affd-be1c1c05f6c4\",\"type\":\"UnionRenderers\"},{\"attributes\":{\"fill_alpha\":{\"value\":0.1},\"fill_color\":{\"value\":\"#1f77b4\"},\"line_alpha\":{\"value\":0.1},\"line_color\":{\"value\":\"#1f77b4\"},\"size\":{\"units\":\"screen\",\"value\":10},\"x\":{\"field\":\"x\"},\"y\":{\"field\":\"y\"}},\"id\":\"e954bbbb-562d-4363-aa67-b020957f1967\",\"type\":\"Circle\"},{\"attributes\":{},\"id\":\"fff1bf6d-329f-4d63-a864-9b22338171d2\",\"type\":\"Selection\"},{\"attributes\":{\"end\":{\"id\":\"ee84e812-a3f5-46e9-a933-03cde8df4b19\",\"type\":\"OpenHead\"},\"line_color\":{\"value\":\"gray\"},\"plot\":{\"id\":\"8065d706-355e-474c-aa08-4d1e00dc29c7\",\"subtype\":\"Figure\",\"type\":\"Plot\"},\"source\":null,\"start\":null,\"x_end\":{\"value\":-0.13344498485071388},\"x_start\":{\"value\":-0.0786795123396547},\"y_end\":{\"value\":-0.08283991245377262},\"y_start\":{\"value\":-0.12355031524523336}},\"id\":\"8d4248da-f943-4ec6-9151-04e9fcdc40ff\",\"type\":\"Arrow\"},{\"attributes\":{\"line_color\":{\"value\":\"firebrick\"},\"line_width\":{\"value\":2},\"plot\":null,\"size\":10},\"id\":\"5f6d6c4b-5209-43fe-b9c9-c5b6a20bf813\",\"type\":\"OpenHead\"},{\"attributes\":{},\"id\":\"e1380dd3-57b0-4b37-8381-d7bede0f86ee\",\"type\":\"UnionRenderers\"},{\"attributes\":{\"line_color\":{\"value\":\"firebrick\"},\"line_width\":{\"value\":2},\"plot\":null,\"size\":10},\"id\":\"edf67b6c-1146-4288-a85a-5e2fc8cf0ab0\",\"type\":\"OpenHead\"},{\"attributes\":{\"end\":{\"id\":\"5f6d6c4b-5209-43fe-b9c9-c5b6a20bf813\",\"type\":\"OpenHead\"},\"line_color\":{\"value\":\"gray\"},\"plot\":{\"id\":\"8065d706-355e-474c-aa08-4d1e00dc29c7\",\"subtype\":\"Figure\",\"type\":\"Plot\"},\"source\":null,\"start\":null,\"x_end\":{\"value\":-0.2238050968918243},\"x_start\":{\"value\":-0.13344498485071388},\"y_end\":{\"value\":0.14805691621432138},\"y_start\":{\"value\":-0.08283991245377262}},\"id\":\"64123115-2f4f-4073-819e-55fab43542a8\",\"type\":\"Arrow\"},{\"attributes\":{\"line_color\":{\"value\":\"firebrick\"},\"line_width\":{\"value\":2},\"plot\":null,\"size\":10},\"id\":\"400ecdba-57f3-4c21-bd18-e52a8e9851e8\",\"type\":\"OpenHead\"},{\"attributes\":{\"end\":{\"id\":\"edf67b6c-1146-4288-a85a-5e2fc8cf0ab0\",\"type\":\"OpenHead\"},\"line_color\":{\"value\":\"gray\"},\"plot\":{\"id\":\"8065d706-355e-474c-aa08-4d1e00dc29c7\",\"subtype\":\"Figure\",\"type\":\"Plot\"},\"source\":null,\"start\":null,\"x_end\":{\"value\":-0.4511542547938999},\"x_start\":{\"value\":-0.2238050968918243},\"y_end\":{\"value\":0.01649321347126725},\"y_start\":{\"value\":0.14805691621432138}},\"id\":\"86a5c7dd-432f-4338-b842-8ed6d58648e1\",\"type\":\"Arrow\"},{\"attributes\":{\"line_color\":{\"value\":\"firebrick\"},\"line_width\":{\"value\":2},\"plot\":null,\"size\":10},\"id\":\"1ae3de8c-6de9-448a-bb89-3507222df789\",\"type\":\"OpenHead\"},{\"attributes\":{},\"id\":\"e67e5c42-9fba-4dfe-bcc0-66a2662e63bd\",\"type\":\"Selection\"},{\"attributes\":{\"end\":{\"id\":\"400ecdba-57f3-4c21-bd18-e52a8e9851e8\",\"type\":\"OpenHead\"},\"line_color\":{\"value\":\"gray\"},\"plot\":{\"id\":\"8065d706-355e-474c-aa08-4d1e00dc29c7\",\"subtype\":\"Figure\",\"type\":\"Plot\"},\"source\":null,\"start\":null,\"x_end\":{\"value\":0.5722077577168216},\"x_start\":{\"value\":-0.4511542547938999},\"y_end\":{\"value\":-0.05290841361354446},\"y_start\":{\"value\":0.01649321347126725}},\"id\":\"b4bfa9ef-f262-4fce-910b-eb9f0b60fd3b\",\"type\":\"Arrow\"},{\"attributes\":{\"line_color\":{\"value\":\"firebrick\"},\"line_width\":{\"value\":2},\"plot\":null,\"size\":10},\"id\":\"c98e69b1-852d-4716-8cfe-58dc1c13a407\",\"type\":\"OpenHead\"},{\"attributes\":{},\"id\":\"048142f2-61c7-442b-ac4c-b876054a5f85\",\"type\":\"Selection\"},{\"attributes\":{\"end\":{\"id\":\"1ae3de8c-6de9-448a-bb89-3507222df789\",\"type\":\"OpenHead\"},\"line_color\":{\"value\":\"gray\"},\"plot\":{\"id\":\"8065d706-355e-474c-aa08-4d1e00dc29c7\",\"subtype\":\"Figure\",\"type\":\"Plot\"},\"source\":null,\"start\":null,\"x_end\":{\"value\":-0.05076581477903771},\"x_start\":{\"value\":0.5722077577168216},\"y_end\":{\"value\":0.6113047233365475},\"y_start\":{\"value\":-0.05290841361354446}},\"id\":\"81d5af8d-2567-4eab-9c1c-841b5961b408\",\"type\":\"Arrow\"},{\"attributes\":{\"line_color\":{\"value\":\"firebrick\"},\"line_width\":{\"value\":2},\"plot\":null,\"size\":10},\"id\":\"11abb58b-4dda-4fe5-b850-9a63b036ca9a\",\"type\":\"OpenHead\"},{\"attributes\":{\"end\":{\"id\":\"c98e69b1-852d-4716-8cfe-58dc1c13a407\",\"type\":\"OpenHead\"},\"line_color\":{\"value\":\"gray\"},\"plot\":{\"id\":\"8065d706-355e-474c-aa08-4d1e00dc29c7\",\"subtype\":\"Figure\",\"type\":\"Plot\"},\"source\":null,\"start\":null,\"x_end\":{\"value\":-0.294494921313846},\"x_start\":{\"value\":-0.05076581477903771},\"y_end\":{\"value\":0.0793422440177702},\"y_start\":{\"value\":0.6113047233365475}},\"id\":\"0cd76ae7-2675-4fc0-a8af-8ad1265782f8\",\"type\":\"Arrow\"},{\"attributes\":{\"line_color\":{\"value\":\"firebrick\"},\"line_width\":{\"value\":2},\"plot\":null,\"size\":10},\"id\":\"432de4d6-b854-4f55-86ba-c05595a57e5c\",\"type\":\"OpenHead\"},{\"attributes\":{\"end\":{\"id\":\"11abb58b-4dda-4fe5-b850-9a63b036ca9a\",\"type\":\"OpenHead\"},\"line_color\":{\"value\":\"gray\"},\"plot\":{\"id\":\"8065d706-355e-474c-aa08-4d1e00dc29c7\",\"subtype\":\"Figure\",\"type\":\"Plot\"},\"source\":null,\"start\":null,\"x_end\":{\"value\":0.7451624661403289},\"x_start\":{\"value\":-0.294494921313846},\"y_end\":{\"value\":-0.00524496181305234},\"y_start\":{\"value\":0.0793422440177702}},\"id\":\"ea540a42-0da1-44dd-aae2-4a45fbd4a6a8\",\"type\":\"Arrow\"},{\"attributes\":{\"line_color\":{\"value\":\"firebrick\"},\"line_width\":{\"value\":2},\"plot\":null,\"size\":10},\"id\":\"9cf2c503-d37b-4b77-a6ec-7d51b191b18b\",\"type\":\"OpenHead\"},{\"attributes\":{\"end\":{\"id\":\"432de4d6-b854-4f55-86ba-c05595a57e5c\",\"type\":\"OpenHead\"},\"line_color\":{\"value\":\"gray\"},\"plot\":{\"id\":\"8065d706-355e-474c-aa08-4d1e00dc29c7\",\"subtype\":\"Figure\",\"type\":\"Plot\"},\"source\":null,\"start\":null,\"x_end\":{\"value\":-0.07138422604415524},\"x_start\":{\"value\":0.7451624661403289},\"y_end\":{\"value\":0.05192063112771492},\"y_start\":{\"value\":-0.00524496181305234}},\"id\":\"75dd929d-761d-45f0-a17c-ac4a6b3f6716\",\"type\":\"Arrow\"},{\"attributes\":{\"line_color\":{\"value\":\"firebrick\"},\"line_width\":{\"value\":2},\"plot\":null,\"size\":10},\"id\":\"7562a22b-671a-46fe-9484-3fadb7c3653b\",\"type\":\"OpenHead\"},{\"attributes\":{\"end\":{\"id\":\"9cf2c503-d37b-4b77-a6ec-7d51b191b18b\",\"type\":\"OpenHead\"},\"line_color\":{\"value\":\"gray\"},\"plot\":{\"id\":\"8065d706-355e-474c-aa08-4d1e00dc29c7\",\"subtype\":\"Figure\",\"type\":\"Plot\"},\"source\":null,\"start\":null,\"x_end\":{\"value\":-0.3151818128004331},\"x_start\":{\"value\":-0.07138422604415524},\"y_end\":{\"value\":0.052800838255931286},\"y_start\":{\"value\":0.05192063112771492}},\"id\":\"d09970f6-a40d-4710-997b-533dc70bd43d\",\"type\":\"Arrow\"},{\"attributes\":{\"line_color\":{\"value\":\"firebrick\"},\"line_width\":{\"value\":2},\"plot\":null,\"size\":10},\"id\":\"ae56647d-d167-4371-9413-e7422c424d91\",\"type\":\"OpenHead\"},{\"attributes\":{\"plot\":null,\"text\":\"\"},\"id\":\"3ed893fa-e081-4c55-aab1-73138316e4ec\",\"type\":\"Title\"},{\"attributes\":{\"end\":{\"id\":\"7562a22b-671a-46fe-9484-3fadb7c3653b\",\"type\":\"OpenHead\"},\"line_color\":{\"value\":\"gray\"},\"plot\":{\"id\":\"8065d706-355e-474c-aa08-4d1e00dc29c7\",\"subtype\":\"Figure\",\"type\":\"Plot\"},\"source\":null,\"start\":null,\"x_end\":{\"value\":0.7218072188208022},\"x_start\":{\"value\":-0.3151818128004331},\"y_end\":{\"value\":-0.02084142495568167},\"y_start\":{\"value\":0.052800838255931286}},\"id\":\"19fc72cb-7aeb-41bd-9924-cf9d1b0e6de6\",\"type\":\"Arrow\"},{\"attributes\":{\"line_color\":{\"value\":\"firebrick\"},\"line_width\":{\"value\":2},\"plot\":null,\"size\":10},\"id\":\"638c6ec4-ce1e-4835-b4e7-50a3f625dc33\",\"type\":\"OpenHead\"},{\"attributes\":{\"end\":{\"id\":\"ae56647d-d167-4371-9413-e7422c424d91\",\"type\":\"OpenHead\"},\"line_color\":{\"value\":\"gray\"},\"plot\":{\"id\":\"8065d706-355e-474c-aa08-4d1e00dc29c7\",\"subtype\":\"Figure\",\"type\":\"Plot\"},\"source\":null,\"start\":null,\"x_end\":{\"value\":-0.27770687787809173},\"x_start\":{\"value\":0.7218072188208022},\"y_end\":{\"value\":0.027759710618159402},\"y_start\":{\"value\":-0.02084142495568167}},\"id\":\"340bf73d-cab0-43f6-89a0-e6832212e8a1\",\"type\":\"Arrow\"},{\"attributes\":{},\"id\":\"d163bcb2-e0e4-4204-a653-60c35ac73c96\",\"type\":\"BasicTickFormatter\"},{\"attributes\":{},\"id\":\"3ae53666-40e2-4a56-b279-d7844be80550\",\"type\":\"BasicTickFormatter\"},{\"attributes\":{\"line_color\":{\"value\":\"firebrick\"},\"line_width\":{\"value\":2},\"plot\":null,\"size\":10},\"id\":\"e112a66a-507d-452d-a8e1-21b1aee1d6b9\",\"type\":\"OpenHead\"},{\"attributes\":{\"end\":{\"id\":\"638c6ec4-ce1e-4835-b4e7-50a3f625dc33\",\"type\":\"OpenHead\"},\"line_color\":{\"value\":\"gray\"},\"plot\":{\"id\":\"8065d706-355e-474c-aa08-4d1e00dc29c7\",\"subtype\":\"Figure\",\"type\":\"Plot\"},\"source\":null,\"start\":null,\"x_end\":{\"value\":0.8704985335912636},\"x_start\":{\"value\":-0.27770687787809173},\"y_end\":{\"value\":-0.005886426505086905},\"y_start\":{\"value\":0.027759710618159402}},\"id\":\"7be58af0-b746-4369-8156-9270cea566dc\",\"type\":\"Arrow\"},{\"attributes\":{\"fill_color\":{\"value\":\"#1f77b4\"},\"line_color\":{\"value\":\"#1f77b4\"},\"size\":{\"units\":\"screen\",\"value\":10},\"x\":{\"field\":\"x\"},\"y\":{\"field\":\"y\"}},\"id\":\"f35af45c-3329-4b57-b334-8716cbc0a4c0\",\"type\":\"Circle\"},{\"attributes\":{},\"id\":\"f218dc4a-c092-4d91-ac18-65f5f1b96db0\",\"type\":\"UnionRenderers\"},{\"attributes\":{\"end\":{\"id\":\"e112a66a-507d-452d-a8e1-21b1aee1d6b9\",\"type\":\"OpenHead\"},\"line_color\":{\"value\":\"gray\"},\"plot\":{\"id\":\"8065d706-355e-474c-aa08-4d1e00dc29c7\",\"subtype\":\"Figure\",\"type\":\"Plot\"},\"source\":null,\"start\":null,\"x_end\":{\"value\":-0.1753314113833793},\"x_start\":{\"value\":0.8704985335912636},\"y_end\":{\"value\":0.20870170072310434},\"y_start\":{\"value\":-0.005886426505086905}},\"id\":\"e8f99a72-83fe-487b-8897-16775863e26a\",\"type\":\"Arrow\"},{\"attributes\":{\"data_source\":{\"id\":\"3724329c-ec50-40d3-b12b-ee137996c3dc\",\"type\":\"ColumnDataSource\"},\"glyph\":{\"id\":\"f35af45c-3329-4b57-b334-8716cbc0a4c0\",\"type\":\"Circle\"},\"hover_glyph\":null,\"muted_glyph\":null,\"name\":\"circle\",\"nonselection_glyph\":{\"id\":\"e954bbbb-562d-4363-aa67-b020957f1967\",\"type\":\"Circle\"},\"selection_glyph\":null,\"view\":{\"id\":\"368bc3c9-62d5-44e9-af60-0ed0c15ff530\",\"type\":\"CDSView\"}},\"id\":\"369b1863-0cdf-46db-a4ea-498785a5f7d2\",\"type\":\"GlyphRenderer\"},{\"attributes\":{\"data_source\":{\"id\":\"e14710fa-e1e7-4029-859f-9105643c2bd1\",\"type\":\"ColumnDataSource\"},\"glyph\":{\"id\":\"84d86249-7c5f-4c45-b39b-0802828d674d\",\"type\":\"Circle\"},\"hover_glyph\":null,\"muted_glyph\":null,\"name\":\"circle\",\"nonselection_glyph\":{\"id\":\"7fba1480-d918-4d53-8491-451735d36ba9\",\"type\":\"Circle\"},\"selection_glyph\":null,\"view\":{\"id\":\"12648bb0-9371-4bc5-9574-af987393d610\",\"type\":\"CDSView\"}},\"id\":\"0f8f1e40-6903-4428-abc8-1720da4c8317\",\"type\":\"GlyphRenderer\"},{\"attributes\":{\"fill_color\":{\"value\":\"red\"},\"line_color\":{\"value\":\"red\"},\"size\":{\"units\":\"screen\",\"value\":5},\"x\":{\"field\":\"x\"},\"y\":{\"field\":\"y\"}},\"id\":\"f785e26a-50b2-41b6-82a0-5c18aaea1a6a\",\"type\":\"Circle\"},{\"attributes\":{\"source\":{\"id\":\"3724329c-ec50-40d3-b12b-ee137996c3dc\",\"type\":\"ColumnDataSource\"}},\"id\":\"368bc3c9-62d5-44e9-af60-0ed0c15ff530\",\"type\":\"CDSView\"},{\"attributes\":{\"data_source\":{\"id\":\"99174d17-fc22-49c8-a2e0-fbfccc06ba58\",\"type\":\"ColumnDataSource\"},\"glyph\":{\"id\":\"f785e26a-50b2-41b6-82a0-5c18aaea1a6a\",\"type\":\"Circle\"},\"hover_glyph\":null,\"muted_glyph\":null,\"name\":\"circle\",\"nonselection_glyph\":{\"id\":\"45e61e12-0852-429f-a5d6-4f2bf04a44ff\",\"type\":\"Circle\"},\"selection_glyph\":null,\"view\":{\"id\":\"237252e8-ebff-4c07-827c-f6515a2fb3e9\",\"type\":\"CDSView\"}},\"id\":\"0816ad40-f04e-4c73-98f0-b198f9402225\",\"type\":\"GlyphRenderer\"},{\"attributes\":{\"source\":{\"id\":\"99174d17-fc22-49c8-a2e0-fbfccc06ba58\",\"type\":\"ColumnDataSource\"}},\"id\":\"237252e8-ebff-4c07-827c-f6515a2fb3e9\",\"type\":\"CDSView\"},{\"attributes\":{\"callback\":null,\"data\":{\"desc\":[\"- utter_ask_details\",\"- utter_ask_location\",\"- utter_correct_people_hotel\",\"- utter_ask_location\",\"- utter_chitchat\",\"- utter_ask_location\",\"- utter_ask_price\",\"- utter_ask_startdate\",\"- utter_filled_slots\",\"- utter_search_hotel\",\"- utter_suggest_hotel\",\"- utter_correct_enddate_hotel\",\"- utter_search_hotel\",\"- utter_suggest_hotel\",\"- utter_correct_location_hotel\",\"- utter_search_hotel\",\"- utter_suggest_hotel\",\"- utter_worked_hotel\",\"- utter_suggest_hotel\",\"- utter_happy\"],\"not_skip\":[1.0,1.0,1.0,0.0,1.0,0.0,1.0,1.0,1.0,1.0,1.0,1.0,1.0,0.0,1.0,1.0,0.0,1.0,0.0,1.0],\"pred\":[\"- utter_ask_details\",\"- utter_ask_location\",\"- utter_correct_people_hotel\",\"- utter_ask_location\",\"- utter_chitchat\",\"- utter_ask_location\",\"- utter_ask_price\",\"- utter_ask_startdate\",\"- utter_filled_slots\",\"- utter_search_hotel\",\"- utter_suggest_hotel\",\"- utter_correct_enddate_hotel\",\"- utter_search_hotel\",\"- utter_suggest_hotel\",\"- utter_correct_location_hotel\",\"- utter_search_hotel\",\"- utter_suggest_hotel\",\"- utter_worked_hotel\",\"- utter_suggest_hotel\",\"- utter_happy\"],\"x\":{\"__ndarray__\":\"JSVhzUwQwb+KVvaBURDBv+QiMLT6EsG/PjP/ALPZxb9oQoHODRjBv54Wsy1hysW/P+mL+KYOwb/cHKrrahzBv4Vn4Q3+F8G/sWo68zp5wb/OBGRYXXDCv3HLY6uwv8C/g/1f+qv8sT9IU4d0Zg+3P5M4bTOGrMC/QIWs4liTrT9d6jiPG3WtP5CuZ05Gu8C/B/MES9PK0z+ikJXwbzi8vw==\",\"dtype\":\"float64\",\"shape\":[20]},\"y\":{\"__ndarray__\":\"34dy75PBlD95M+xBP8KUPxlf3t4TVpQ/q+nZ733p1r+S3W4hvrCSP1EJU/d0ita//rni72rPlT8CEPQ9iryRPxgUn24bw5I/sppB+9vSkL+vqKwzWqisvzSMLSs5qJM/XT15fi6YiT8N9x5gRz6WP0AeeaWBgZk/9j7hM3U4iD/50JvMAJBrP99X5PG+FZU/7TGFXhKBbT+5GMbZFRSUPw==\",\"dtype\":\"float64\",\"shape\":[20]}},\"selected\":{\"id\":\"e67e5c42-9fba-4dfe-bcc0-66a2662e63bd\",\"type\":\"Selection\"},\"selection_policy\":{\"id\":\"f218dc4a-c092-4d91-ac18-65f5f1b96db0\",\"type\":\"UnionRenderers\"}},\"id\":\"e14710fa-e1e7-4029-859f-9105643c2bd1\",\"type\":\"ColumnDataSource\"},{\"attributes\":{\"source\":{\"id\":\"e14710fa-e1e7-4029-859f-9105643c2bd1\",\"type\":\"ColumnDataSource\"}},\"id\":\"12648bb0-9371-4bc5-9574-af987393d610\",\"type\":\"CDSView\"},{\"attributes\":{},\"id\":\"5be1ddc9-7065-4e24-b8e4-0be54d3b8b19\",\"type\":\"Selection\"},{\"attributes\":{\"fill_color\":{\"value\":\"green\"},\"line_color\":{\"value\":\"green\"},\"size\":{\"units\":\"screen\",\"value\":5},\"x\":{\"field\":\"x\"},\"y\":{\"field\":\"y\"}},\"id\":\"84d86249-7c5f-4c45-b39b-0802828d674d\",\"type\":\"Circle\"},{\"attributes\":{},\"id\":\"7baf3266-3fb4-49c8-8738-d85d1f92a8f2\",\"type\":\"UnionRenderers\"},{\"attributes\":{\"callback\":null,\"data\":{\"desc\":[\"- utter_ask_details\",\"- utter_ask_location\",\"- utter_correct_people_hotel\",\"- utter_ask_location\",\"- utter_chitchat\",\"- utter_ask_location\",\"- utter_ask_price\",\"- utter_ask_startdate\",\"- utter_filled_slots\",\"- utter_search_hotel\",\"- utter_suggest_hotel\",\"- utter_correct_enddate_hotel\",\"- utter_search_hotel\",\"- utter_suggest_hotel\",\"- utter_correct_location_hotel\",\"- utter_search_hotel\",\"- utter_suggest_hotel\",\"- utter_worked_hotel\",\"- utter_suggest_hotel\",\"- utter_happy\"],\"not_skip\":[1.0,1.0,1.0,0.0,1.0,0.0,1.0,1.0,1.0,1.0,1.0,1.0,1.0,0.0,1.0,1.0,0.0,1.0,0.0,1.0],\"pred\":[\"- utter_ask_details\",\"- utter_ask_location\",\"- utter_correct_people_hotel\",\"- utter_ask_location\",\"- utter_chitchat\",\"- utter_ask_location\",\"- utter_ask_price\",\"- utter_ask_startdate\",\"- utter_filled_slots\",\"- utter_search_hotel\",\"- utter_suggest_hotel\",\"- utter_correct_enddate_hotel\",\"- utter_search_hotel\",\"- utter_suggest_hotel\",\"- utter_correct_location_hotel\",\"- utter_search_hotel\",\"- utter_suggest_hotel\",\"- utter_worked_hotel\",\"- utter_suggest_hotel\",\"- utter_happy\"],\"x\":{\"__ndarray__\":\"0SbmffvLw7/6PAU36mfCv45AF/aD6q6/buy0uSGgwr+Y4aNuPi3Avw/gtuXO8MC/pfE/uqIntL9Jh3uKmwjBv9ffLfjzncy/XldKAz+r3L+XBL/LiqfiPzV2U8tqQKu/eP8GnVLg37/tyInyXrLgP3BaqNHJDbO/f5gt60Az4L9BXf2Fpv3gP8UF9k128NG/S+4z30Vj2z8srT1SV2XJvw==\",\"dtype\":\"float64\",\"shape\":[20]},\"y\":{\"__ndarray__\":\"2p2l8WA4tT/MeZqk1NnVv5aSNQdnk9c/9DV7vynyxL/3g+MbCdppP7IseAnY7rm/0P+7AHTkv7/yx+mZvHO0v8Hj63xWM8M/9KHoeQQ8qz//VWLhqOSXP5sZib+ZmOM/4LinHCVNtj9X0KdAjW57v3pitIJgNag/GkMd6mJbrz9DWn5agh9wv20eJ9jfGJw/tMCbs7MUhj/tG1mBbMzKPw==\",\"dtype\":\"float64\",\"shape\":[20]}},\"selected\":{\"id\":\"048142f2-61c7-442b-ac4c-b876054a5f85\",\"type\":\"Selection\"},\"selection_policy\":{\"id\":\"1108542b-df12-4464-affd-be1c1c05f6c4\",\"type\":\"UnionRenderers\"}},\"id\":\"99174d17-fc22-49c8-a2e0-fbfccc06ba58\",\"type\":\"ColumnDataSource\"},{\"attributes\":{},\"id\":\"32b8ee0f-6be5-4059-a9ef-1617684b59b0\",\"type\":\"Selection\"},{\"attributes\":{\"fill_alpha\":{\"value\":0.1},\"fill_color\":{\"value\":\"#1f77b4\"},\"line_alpha\":{\"value\":0.1},\"line_color\":{\"value\":\"#1f77b4\"},\"size\":{\"units\":\"screen\",\"value\":5},\"x\":{\"field\":\"x\"},\"y\":{\"field\":\"y\"}},\"id\":\"45e61e12-0852-429f-a5d6-4f2bf04a44ff\",\"type\":\"Circle\"},{\"attributes\":{},\"id\":\"b9b2099f-bd0a-4c9c-8217-8e48ca50523e\",\"type\":\"UnionRenderers\"},{\"attributes\":{\"end\":{\"id\":\"127d7c2d-aa9a-463a-a622-82d7bfed8dfb\",\"type\":\"OpenHead\"},\"line_color\":{\"value\":\"gray\"},\"plot\":{\"id\":\"8065d706-355e-474c-aa08-4d1e00dc29c7\",\"subtype\":\"Figure\",\"type\":\"Plot\"},\"source\":null,\"start\":null,\"x_end\":{\"value\":-0.1692775846425448},\"x_start\":{\"value\":-0.1266173626044402},\"y_end\":{\"value\":-0.4737711485350897},\"y_start\":{\"value\":0.00113837478450786}},\"id\":\"367008eb-4dc0-42d3-9cd9-b05e8967041e\",\"type\":\"Arrow\"},{\"attributes\":{\"indices\":[],\"line_indices\":[]},\"id\":\"0e3124b5-0e50-4d32-be24-6b5e4f41be31\",\"type\":\"Selection\"},{\"attributes\":{\"callback\":null,\"data\":{},\"selected\":{\"id\":\"5be1ddc9-7065-4e24-b8e4-0be54d3b8b19\",\"type\":\"Selection\"},\"selection_policy\":{\"id\":\"b9b2099f-bd0a-4c9c-8217-8e48ca50523e\",\"type\":\"UnionRenderers\"}},\"id\":\"f26dbb4d-3f75-4704-b55a-01cda2d728a5\",\"type\":\"ColumnDataSource\"},{\"attributes\":{\"below\":[{\"id\":\"f7985fdc-f845-417f-b565-162938b1342c\",\"type\":\"LinearAxis\"}],\"left\":[{\"id\":\"6d0a2883-af21-4470-8b0e-1400bad9bfd3\",\"type\":\"LinearAxis\"}],\"renderers\":[{\"id\":\"f7985fdc-f845-417f-b565-162938b1342c\",\"type\":\"LinearAxis\"},{\"id\":\"287bcbd1-b22b-4add-88df-d9a9fa162ab3\",\"type\":\"Grid\"},{\"id\":\"6d0a2883-af21-4470-8b0e-1400bad9bfd3\",\"type\":\"LinearAxis\"},{\"id\":\"91f5708a-c6a4-4966-b8bd-027d5a1af971\",\"type\":\"Grid\"},{\"id\":\"9fdefe96-78f6-4b2f-8cce-4c80921fc023\",\"type\":\"Arrow\"},{\"id\":\"aed162a5-00a6-42d2-bc33-a44c99b4f700\",\"type\":\"Arrow\"},{\"id\":\"3ec62f81-368a-460f-af39-ee9b314dccaf\",\"type\":\"Arrow\"},{\"id\":\"c825bd8a-26c7-43ca-8975-c501568d3920\",\"type\":\"Arrow\"},{\"id\":\"367008eb-4dc0-42d3-9cd9-b05e8967041e\",\"type\":\"Arrow\"},{\"id\":\"5d3386a1-8099-4329-b333-099be0067152\",\"type\":\"Arrow\"},{\"id\":\"8d4248da-f943-4ec6-9151-04e9fcdc40ff\",\"type\":\"Arrow\"},{\"id\":\"64123115-2f4f-4073-819e-55fab43542a8\",\"type\":\"Arrow\"},{\"id\":\"86a5c7dd-432f-4338-b842-8ed6d58648e1\",\"type\":\"Arrow\"},{\"id\":\"b4bfa9ef-f262-4fce-910b-eb9f0b60fd3b\",\"type\":\"Arrow\"},{\"id\":\"81d5af8d-2567-4eab-9c1c-841b5961b408\",\"type\":\"Arrow\"},{\"id\":\"0cd76ae7-2675-4fc0-a8af-8ad1265782f8\",\"type\":\"Arrow\"},{\"id\":\"ea540a42-0da1-44dd-aae2-4a45fbd4a6a8\",\"type\":\"Arrow\"},{\"id\":\"75dd929d-761d-45f0-a17c-ac4a6b3f6716\",\"type\":\"Arrow\"},{\"id\":\"d09970f6-a40d-4710-997b-533dc70bd43d\",\"type\":\"Arrow\"},{\"id\":\"19fc72cb-7aeb-41bd-9924-cf9d1b0e6de6\",\"type\":\"Arrow\"},{\"id\":\"340bf73d-cab0-43f6-89a0-e6832212e8a1\",\"type\":\"Arrow\"},{\"id\":\"7be58af0-b746-4369-8156-9270cea566dc\",\"type\":\"Arrow\"},{\"id\":\"e8f99a72-83fe-487b-8897-16775863e26a\",\"type\":\"Arrow\"},{\"id\":\"369b1863-0cdf-46db-a4ea-498785a5f7d2\",\"type\":\"GlyphRenderer\"},{\"id\":\"0f8f1e40-6903-4428-abc8-1720da4c8317\",\"type\":\"GlyphRenderer\"},{\"id\":\"0816ad40-f04e-4c73-98f0-b198f9402225\",\"type\":\"GlyphRenderer\"},{\"id\":\"8315c7e4-d7e8-405e-a618-e6ac45430423\",\"type\":\"GlyphRenderer\"},{\"id\":\"17781901-5e8c-43a6-893e-9abd58c9d97d\",\"type\":\"GlyphRenderer\"},{\"id\":\"a5c0065e-b0d8-48c0-a9b7-e318dfd0ed24\",\"type\":\"GlyphRenderer\"}],\"title\":{\"id\":\"3ed893fa-e081-4c55-aab1-73138316e4ec\",\"type\":\"Title\"},\"toolbar\":{\"id\":\"b728aa45-4383-41ef-a593-b6a70d1e6a8b\",\"type\":\"Toolbar\"},\"x_range\":{\"id\":\"70751e2c-e94c-4f89-943b-deeae2b57ac1\",\"type\":\"DataRange1d\"},\"x_scale\":{\"id\":\"f11dee3a-bbae-457f-8fe0-8a716b122823\",\"type\":\"LinearScale\"},\"y_range\":{\"id\":\"6e5582e3-33c0-42d3-9bd5-a2ffe98d36d8\",\"type\":\"DataRange1d\"},\"y_scale\":{\"id\":\"49fc16af-e8a7-49ea-89b2-66de4ebd9ed1\",\"type\":\"LinearScale\"}},\"id\":\"8065d706-355e-474c-aa08-4d1e00dc29c7\",\"subtype\":\"Figure\",\"type\":\"Plot\"},{\"attributes\":{\"callback\":null,\"data\":{},\"selected\":{\"id\":\"32b8ee0f-6be5-4059-a9ef-1617684b59b0\",\"type\":\"Selection\"},\"selection_policy\":{\"id\":\"7baf3266-3fb4-49c8-8738-d85d1f92a8f2\",\"type\":\"UnionRenderers\"}},\"id\":\"506aa229-f05a-458e-9e90-0b90e7e7762a\",\"type\":\"ColumnDataSource\"},{\"attributes\":{\"callback\":null,\"names\":[\"circle\"],\"renderers\":\"auto\",\"tooltips\":[[\"true action\",\"@desc\"],[\"prediction\",\"@pred\"],[\"not_skip_gate\",\"@not_skip\"]]},\"id\":\"c5e5129f-e4d7-43ca-bd97-1ac58b409afc\",\"type\":\"HoverTool\"},{\"attributes\":{\"fill_color\":{\"value\":\"magenta\"},\"line_color\":{\"value\":\"magenta\"},\"size\":{\"units\":\"screen\",\"value\":5},\"x\":{\"value\":-0.13330993679327566},\"y\":{\"value\":0.020269690980633356}},\"id\":\"d219c50b-66c5-4b17-8aaa-250d5f178781\",\"type\":\"Circle\"},{\"attributes\":{\"line_color\":{\"value\":\"firebrick\"},\"line_width\":{\"value\":2},\"plot\":null,\"size\":10},\"id\":\"66ac2ee7-2671-4c21-92b7-68449c93a049\",\"type\":\"OpenHead\"},{\"attributes\":{\"fill_alpha\":{\"value\":0.1},\"fill_color\":{\"value\":\"#1f77b4\"},\"line_alpha\":{\"value\":0.1},\"line_color\":{\"value\":\"#1f77b4\"},\"size\":{\"units\":\"screen\",\"value\":5},\"x\":{\"value\":-0.13330993679327566},\"y\":{\"value\":0.020269690980633356}},\"id\":\"99fa9a80-3307-4186-89cc-c56f1b40f56f\",\"type\":\"Circle\"},{\"attributes\":{\"data_source\":{\"id\":\"506aa229-f05a-458e-9e90-0b90e7e7762a\",\"type\":\"ColumnDataSource\"},\"glyph\":{\"id\":\"d219c50b-66c5-4b17-8aaa-250d5f178781\",\"type\":\"Circle\"},\"hover_glyph\":null,\"muted_glyph\":null,\"nonselection_glyph\":{\"id\":\"99fa9a80-3307-4186-89cc-c56f1b40f56f\",\"type\":\"Circle\"},\"selection_glyph\":null,\"view\":{\"id\":\"4701b3a2-3406-44cc-b7aa-77672ccc900e\",\"type\":\"CDSView\"}},\"id\":\"8315c7e4-d7e8-405e-a618-e6ac45430423\",\"type\":\"GlyphRenderer\"},{\"attributes\":{\"callback\":null,\"data\":{\"desc\":[\"- utter_ask_details\",\"- utter_ask_location\",\"- utter_correct_people_hotel\",\"- utter_ask_location\",\"- utter_chitchat\",\"- utter_ask_location\",\"- utter_ask_price\",\"- utter_ask_startdate\",\"- utter_filled_slots\",\"- utter_search_hotel\",\"- utter_suggest_hotel\",\"- utter_correct_enddate_hotel\",\"- utter_search_hotel\",\"- utter_suggest_hotel\",\"- utter_correct_location_hotel\",\"- utter_search_hotel\",\"- utter_suggest_hotel\",\"- utter_worked_hotel\",\"- utter_suggest_hotel\",\"- utter_happy\"],\"not_skip\":[1.0,1.0,1.0,0.0,1.0,0.0,1.0,1.0,1.0,1.0,1.0,1.0,1.0,0.0,1.0,1.0,0.0,1.0,0.0,1.0],\"pred\":[\"- utter_ask_details\",\"- utter_ask_location\",\"- utter_correct_people_hotel\",\"- utter_ask_location\",\"- utter_chitchat\",\"- utter_ask_location\",\"- utter_ask_price\",\"- utter_ask_startdate\",\"- utter_filled_slots\",\"- utter_search_hotel\",\"- utter_suggest_hotel\",\"- utter_correct_enddate_hotel\",\"- utter_search_hotel\",\"- utter_suggest_hotel\",\"- utter_correct_location_hotel\",\"- utter_search_hotel\",\"- utter_suggest_hotel\",\"- utter_worked_hotel\",\"- utter_suggest_hotel\",\"- utter_happy\"],\"x\":{\"__ndarray__\":\"yybmffvLw7/xt77t7mfCv8xalqU79a6/o7/q44dpx7+/9L5r/zTAvzMo/kzjqsW/FDJdLFcktL9E4N+quRTBvy0M6jmlpcy/lqByGLbf3L/iKL2khk/iPzsmdhT6/am/UmP4OQHZ0r8C8cj0XtjnP81WT5Q8RrK/EGaRVvAr1L8WRNtzCxnnPzcVlxHzxdG/pLGfvR/b6z+RM+16QnHGvw==\",\"dtype\":\"float64\",\"shape\":[20]},\"y\":{\"__ndarray__\":\"252l8WA4tT9bsqvwydnVvzwT1QCvjNc/jsZMCFZX4b9FVhWesKZSP8jHLzlEUt6/RIZjU/6gv79u3soa/zS1v9Qmi26H88I/TzPc0ZjjkD9djE7Ezxarv5fdU+zOj+M/DWE/98VPtD8AE0u3vXt1vzzIXElXlao/v24FI7YIqz+IxVhadFeVv99zAaUKbZw/MkVGlV0ceL8M15zBvLbKPw==\",\"dtype\":\"float64\",\"shape\":[20]}},\"selected\":{\"id\":\"fff1bf6d-329f-4d63-a864-9b22338171d2\",\"type\":\"Selection\"},\"selection_policy\":{\"id\":\"e1380dd3-57b0-4b37-8381-d7bede0f86ee\",\"type\":\"UnionRenderers\"}},\"id\":\"3724329c-ec50-40d3-b12b-ee137996c3dc\",\"type\":\"ColumnDataSource\"},{\"attributes\":{\"fill_alpha\":{\"value\":0.1},\"fill_color\":{\"value\":\"#1f77b4\"},\"line_alpha\":{\"value\":0.1},\"line_color\":{\"value\":\"#1f77b4\"},\"size\":{\"units\":\"screen\",\"value\":5},\"x\":{\"field\":\"x\"},\"y\":{\"field\":\"y\"}},\"id\":\"7fba1480-d918-4d53-8491-451735d36ba9\",\"type\":\"Circle\"},{\"attributes\":{\"source\":{\"id\":\"506aa229-f05a-458e-9e90-0b90e7e7762a\",\"type\":\"ColumnDataSource\"}},\"id\":\"4701b3a2-3406-44cc-b7aa-77672ccc900e\",\"type\":\"CDSView\"},{\"attributes\":{\"active_drag\":\"auto\",\"active_inspect\":\"auto\",\"active_multi\":null,\"active_scroll\":\"auto\",\"active_tap\":\"auto\",\"tools\":[{\"id\":\"c5e5129f-e4d7-43ca-bd97-1ac58b409afc\",\"type\":\"HoverTool\"}]},\"id\":\"b728aa45-4383-41ef-a593-b6a70d1e6a8b\",\"type\":\"Toolbar\"},{\"attributes\":{\"callback\":null,\"data\":{},\"selected\":{\"id\":\"0e3124b5-0e50-4d32-be24-6b5e4f41be31\",\"type\":\"Selection\"},\"selection_policy\":{\"id\":\"69a24e6a-6030-4396-bbdc-5e68148bcb0e\",\"type\":\"UnionRenderers\"}},\"id\":\"b26a7c64-0407-4318-be2e-91d43b436846\",\"type\":\"ColumnDataSource\"},{\"attributes\":{\"callback\":null},\"id\":\"70751e2c-e94c-4f89-943b-deeae2b57ac1\",\"type\":\"DataRange1d\"},{\"attributes\":{\"fill_color\":{\"value\":\"green\"},\"line_color\":{\"value\":\"green\"},\"size\":{\"units\":\"screen\",\"value\":10},\"x\":{\"value\":-0.15466254851735636},\"y\":{\"value\":0.082891520496211}},\"id\":\"279a7ef7-424d-42ef-af74-a419d648cf7e\",\"type\":\"Circle\"},{\"attributes\":{\"line_color\":{\"value\":\"firebrick\"},\"line_width\":{\"value\":2},\"plot\":null,\"size\":10},\"id\":\"c371edb3-41b5-4a65-80ef-bb4a68c47d86\",\"type\":\"OpenHead\"},{\"attributes\":{\"fill_alpha\":{\"value\":0.1},\"fill_color\":{\"value\":\"#1f77b4\"},\"line_alpha\":{\"value\":0.1},\"line_color\":{\"value\":\"#1f77b4\"},\"size\":{\"units\":\"screen\",\"value\":10},\"x\":{\"value\":-0.15466254851735636},\"y\":{\"value\":0.082891520496211}},\"id\":\"ffc955d6-cf64-488d-9125-bac21ac9f02f\",\"type\":\"Circle\"},{\"attributes\":{\"callback\":null},\"id\":\"6e5582e3-33c0-42d3-9bd5-a2ffe98d36d8\",\"type\":\"DataRange1d\"},{\"attributes\":{\"data_source\":{\"id\":\"f26dbb4d-3f75-4704-b55a-01cda2d728a5\",\"type\":\"ColumnDataSource\"},\"glyph\":{\"id\":\"279a7ef7-424d-42ef-af74-a419d648cf7e\",\"type\":\"Circle\"},\"hover_glyph\":null,\"muted_glyph\":null,\"nonselection_glyph\":{\"id\":\"ffc955d6-cf64-488d-9125-bac21ac9f02f\",\"type\":\"Circle\"},\"selection_glyph\":null,\"view\":{\"id\":\"41fb5cc3-353e-49d1-a160-85fce2c4207a\",\"type\":\"CDSView\"}},\"id\":\"17781901-5e8c-43a6-893e-9abd58c9d97d\",\"type\":\"GlyphRenderer\"},{\"attributes\":{},\"id\":\"f11dee3a-bbae-457f-8fe0-8a716b122823\",\"type\":\"LinearScale\"},{\"attributes\":{\"source\":{\"id\":\"f26dbb4d-3f75-4704-b55a-01cda2d728a5\",\"type\":\"ColumnDataSource\"}},\"id\":\"41fb5cc3-353e-49d1-a160-85fce2c4207a\",\"type\":\"CDSView\"},{\"attributes\":{},\"id\":\"49fc16af-e8a7-49ea-89b2-66de4ebd9ed1\",\"type\":\"LinearScale\"},{\"attributes\":{\"end\":{\"id\":\"66ac2ee7-2671-4c21-92b7-68449c93a049\",\"type\":\"OpenHead\"},\"line_color\":{\"value\":\"gray\"},\"plot\":{\"id\":\"8065d706-355e-474c-aa08-4d1e00dc29c7\",\"subtype\":\"Figure\",\"type\":\"Plot\"},\"source\":null,\"start\":null,\"x_end\":{\"value\":-0.14379679306642815},\"x_start\":{\"value\":-0.15466254851735636},\"y_end\":{\"value\":-0.3414177751826963},\"y_start\":{\"value\":0.082891520496211}},\"id\":\"9fdefe96-78f6-4b2f-8cce-4c80921fc023\",\"type\":\"Arrow\"},{\"attributes\":{\"fill_color\":{\"value\":\"red\"},\"line_color\":{\"value\":\"red\"},\"size\":{\"units\":\"screen\",\"value\":10},\"x\":{\"value\":-0.1753314113833793},\"y\":{\"value\":0.20870170072310434}},\"id\":\"c6fa576b-1167-403f-81e3-c2db4e6d6b07\",\"type\":\"Circle\"},{\"attributes\":{\"formatter\":{\"id\":\"d163bcb2-e0e4-4204-a653-60c35ac73c96\",\"type\":\"BasicTickFormatter\"},\"plot\":{\"id\":\"8065d706-355e-474c-aa08-4d1e00dc29c7\",\"subtype\":\"Figure\",\"type\":\"Plot\"},\"ticker\":{\"id\":\"2367d08b-e1f5-40d4-abb5-a0df30b37d49\",\"type\":\"BasicTicker\"}},\"id\":\"f7985fdc-f845-417f-b565-162938b1342c\",\"type\":\"LinearAxis\"},{\"attributes\":{\"fill_alpha\":{\"value\":0.1},\"fill_color\":{\"value\":\"#1f77b4\"},\"line_alpha\":{\"value\":0.1},\"line_color\":{\"value\":\"#1f77b4\"},\"size\":{\"units\":\"screen\",\"value\":10},\"x\":{\"value\":-0.1753314113833793},\"y\":{\"value\":0.20870170072310434}},\"id\":\"e5ed9074-e862-4991-82f4-8be865b859c7\",\"type\":\"Circle\"},{\"attributes\":{\"data_source\":{\"id\":\"b26a7c64-0407-4318-be2e-91d43b436846\",\"type\":\"ColumnDataSource\"},\"glyph\":{\"id\":\"c6fa576b-1167-403f-81e3-c2db4e6d6b07\",\"type\":\"Circle\"},\"hover_glyph\":null,\"muted_glyph\":null,\"nonselection_glyph\":{\"id\":\"e5ed9074-e862-4991-82f4-8be865b859c7\",\"type\":\"Circle\"},\"selection_glyph\":null,\"view\":{\"id\":\"0fb8e34a-64e0-44d2-b0fa-22dc80500982\",\"type\":\"CDSView\"}},\"id\":\"a5c0065e-b0d8-48c0-a9b7-e318dfd0ed24\",\"type\":\"GlyphRenderer\"},{\"attributes\":{},\"id\":\"2367d08b-e1f5-40d4-abb5-a0df30b37d49\",\"type\":\"BasicTicker\"},{\"attributes\":{\"plot\":{\"id\":\"8065d706-355e-474c-aa08-4d1e00dc29c7\",\"subtype\":\"Figure\",\"type\":\"Plot\"},\"ticker\":{\"id\":\"2367d08b-e1f5-40d4-abb5-a0df30b37d49\",\"type\":\"BasicTicker\"}},\"id\":\"287bcbd1-b22b-4add-88df-d9a9fa162ab3\",\"type\":\"Grid\"},{\"attributes\":{\"source\":{\"id\":\"b26a7c64-0407-4318-be2e-91d43b436846\",\"type\":\"ColumnDataSource\"}},\"id\":\"0fb8e34a-64e0-44d2-b0fa-22dc80500982\",\"type\":\"CDSView\"},{\"attributes\":{\"formatter\":{\"id\":\"3ae53666-40e2-4a56-b279-d7844be80550\",\"type\":\"BasicTickFormatter\"},\"plot\":{\"id\":\"8065d706-355e-474c-aa08-4d1e00dc29c7\",\"subtype\":\"Figure\",\"type\":\"Plot\"},\"ticker\":{\"id\":\"5fba1cc7-18c2-4c2f-8fdf-cb86b80bceda\",\"type\":\"BasicTicker\"}},\"id\":\"6d0a2883-af21-4470-8b0e-1400bad9bfd3\",\"type\":\"LinearAxis\"},{\"attributes\":{},\"id\":\"5fba1cc7-18c2-4c2f-8fdf-cb86b80bceda\",\"type\":\"BasicTicker\"},{\"attributes\":{\"dimension\":1,\"plot\":{\"id\":\"8065d706-355e-474c-aa08-4d1e00dc29c7\",\"subtype\":\"Figure\",\"type\":\"Plot\"},\"ticker\":{\"id\":\"5fba1cc7-18c2-4c2f-8fdf-cb86b80bceda\",\"type\":\"BasicTicker\"}},\"id\":\"91f5708a-c6a4-4966-b8bd-027d5a1af971\",\"type\":\"Grid\"},{\"attributes\":{\"line_color\":{\"value\":\"firebrick\"},\"line_width\":{\"value\":2},\"plot\":null,\"size\":10},\"id\":\"7e5b341a-0a2c-4f2c-9eee-0a7f09ba56f0\",\"type\":\"OpenHead\"},{\"attributes\":{\"line_color\":{\"value\":\"firebrick\"},\"line_width\":{\"value\":2},\"plot\":null,\"size\":10},\"id\":\"8371d1da-a80e-4ee9-9923-153f6173034d\",\"type\":\"OpenHead\"},{\"attributes\":{\"end\":{\"id\":\"a3e7b7a9-61ac-4818-98f8-71587feeae41\",\"type\":\"OpenHead\"},\"line_color\":{\"value\":\"gray\"},\"plot\":{\"id\":\"8065d706-355e-474c-aa08-4d1e00dc29c7\",\"subtype\":\"Figure\",\"type\":\"Plot\"},\"source\":null,\"start\":null,\"x_end\":{\"value\":-0.0786795123396547},\"x_start\":{\"value\":-0.1692775846425448},\"y_end\":{\"value\":-0.12355031524523336},\"y_start\":{\"value\":-0.4737711485350897}},\"id\":\"5d3386a1-8099-4329-b333-099be0067152\",\"type\":\"Arrow\"},{\"attributes\":{\"end\":{\"id\":\"c371edb3-41b5-4a65-80ef-bb4a68c47d86\",\"type\":\"OpenHead\"},\"line_color\":{\"value\":\"gray\"},\"plot\":{\"id\":\"8065d706-355e-474c-aa08-4d1e00dc29c7\",\"subtype\":\"Figure\",\"type\":\"Plot\"},\"source\":null,\"start\":null,\"x_end\":{\"value\":-0.060464729274078616},\"x_start\":{\"value\":-0.14379679306642815},\"y_end\":{\"value\":0.3679616459015056},\"y_start\":{\"value\":-0.3414177751826963}},\"id\":\"aed162a5-00a6-42d2-bc33-a44c99b4f700\",\"type\":\"Arrow\"},{\"attributes\":{\"end\":{\"id\":\"8371d1da-a80e-4ee9-9923-153f6173034d\",\"type\":\"OpenHead\"},\"line_color\":{\"value\":\"gray\"},\"plot\":{\"id\":\"8065d706-355e-474c-aa08-4d1e00dc29c7\",\"subtype\":\"Figure\",\"type\":\"Plot\"},\"source\":null,\"start\":null,\"x_end\":{\"value\":-0.18290804508933176},\"x_start\":{\"value\":-0.060464729274078616},\"y_end\":{\"value\":-0.5419111406428827},\"y_start\":{\"value\":0.3679616459015056}},\"id\":\"3ec62f81-368a-460f-af39-ee9b314dccaf\",\"type\":\"Arrow\"},{\"attributes\":{\"line_color\":{\"value\":\"firebrick\"},\"line_width\":{\"value\":2},\"plot\":null,\"size\":10},\"id\":\"127d7c2d-aa9a-463a-a622-82d7bfed8dfb\",\"type\":\"OpenHead\"},{\"attributes\":{\"end\":{\"id\":\"7e5b341a-0a2c-4f2c-9eee-0a7f09ba56f0\",\"type\":\"OpenHead\"},\"line_color\":{\"value\":\"gray\"},\"plot\":{\"id\":\"8065d706-355e-474c-aa08-4d1e00dc29c7\",\"subtype\":\"Figure\",\"type\":\"Plot\"},\"source\":null,\"start\":null,\"x_end\":{\"value\":-0.1266173626044402},\"x_start\":{\"value\":-0.18290804508933176},\"y_end\":{\"value\":0.00113837478450786},\"y_start\":{\"value\":-0.5419111406428827}},\"id\":\"c825bd8a-26c7-43ca-8975-c501568d3920\",\"type\":\"Arrow\"},{\"attributes\":{\"line_color\":{\"value\":\"firebrick\"},\"line_width\":{\"value\":2},\"plot\":null,\"size\":10},\"id\":\"a3e7b7a9-61ac-4818-98f8-71587feeae41\",\"type\":\"OpenHead\"},{\"attributes\":{},\"id\":\"69a24e6a-6030-4396-bbdc-5e68148bcb0e\",\"type\":\"UnionRenderers\"}],\"root_ids\":[\"8065d706-355e-474c-aa08-4d1e00dc29c7\"]},\"title\":\"Bokeh Application\",\"version\":\"0.13.0\"}};\n",
       "  var render_items = [{\"docid\":\"b144548f-0758-4865-b33a-ce1c8d127c70\",\"roots\":{\"8065d706-355e-474c-aa08-4d1e00dc29c7\":\"fb0cadc3-d32e-47b9-b7ba-c737533ba8c2\"}}];\n",
       "  root.Bokeh.embed.embed_items_notebook(docs_json, render_items);\n",
       "\n",
       "  }\n",
       "  if (root.Bokeh !== undefined) {\n",
       "    embed_document(root);\n",
       "  } else {\n",
       "    var attempts = 0;\n",
       "    var timer = setInterval(function(root) {\n",
       "      if (root.Bokeh !== undefined) {\n",
       "        embed_document(root);\n",
       "        clearInterval(timer);\n",
       "      }\n",
       "      attempts++;\n",
       "      if (attempts > 100) {\n",
       "        console.log(\"Bokeh: ERROR: Unable to run BokehJS code because BokehJS library is missing\")\n",
       "        clearInterval(timer);\n",
       "      }\n",
       "    }, 10, root)\n",
       "  }\n",
       "})(window);"
      ],
      "application/vnd.bokehjs_exec.v0+json": ""
     },
     "metadata": {
      "application/vnd.bokehjs_exec.v0+json": {
       "id": "8065d706-355e-474c-aa08-4d1e00dc29c7"
      }
     },
     "output_type": "display_data"
    }
   ],
   "source": [
    "show(p)"
   ]
  },
  {
   "cell_type": "code",
   "execution_count": null,
   "metadata": {},
   "outputs": [],
   "source": []
  },
  {
   "cell_type": "code",
   "execution_count": 18,
   "metadata": {},
   "outputs": [
    {
     "name": "stdout",
     "output_type": "stream",
     "text": [
      "utter_ask_price --> 6\n",
      "utter_ask_details --> 28\n",
      "utter_ask_people --> 4\n",
      "utter_explain_details_hotel --> 14\n",
      "utter_explain_people_hotel --> 19\n",
      "utter_explain_price_hotel --> 21\n",
      "utter_ask_location --> 5\n",
      "utter_explain_location_hotel --> 17\n",
      "utter_ask_startdate --> 7\n",
      "utter_suggest_hotel --> 12\n",
      "action_search_hotel --> 42\n",
      "action_listen --> 0\n"
     ]
    }
   ],
   "source": [
    "print('utter_ask_price', '-->', domain.index_for_action('utter_ask_price'))\n",
    "print('utter_ask_details', '-->', domain.index_for_action('utter_ask_details'))\n",
    "print('utter_ask_people', '-->', domain.index_for_action('utter_ask_people'))\n",
    "print('utter_explain_details_hotel', '-->', domain.index_for_action('utter_explain_details_hotel'))\n",
    "print('utter_explain_people_hotel', '-->', domain.index_for_action('utter_explain_people_hotel'))\n",
    "print('utter_explain_price_hotel', '-->', domain.index_for_action('utter_explain_price_hotel'))\n",
    "print('utter_ask_location', '-->', domain.index_for_action('utter_ask_location'))\n",
    "print('utter_explain_location_hotel', '-->', domain.index_for_action('utter_explain_location_hotel'))\n",
    "print('utter_ask_startdate', '-->', domain.index_for_action('utter_ask_startdate'))\n",
    "print('utter_suggest_hotel', '-->', domain.index_for_action('utter_suggest_hotel'))\n",
    "print('action_search_hotel', '-->', domain.index_for_action('action_search_hotel'))\n",
    "print('action_listen', '-->', domain.index_for_action('action_listen'))"
   ]
  },
  {
   "cell_type": "code",
   "execution_count": 19,
   "metadata": {},
   "outputs": [
    {
     "data": {
      "text/plain": [
       "(20,)"
      ]
     },
     "execution_count": 19,
     "metadata": {},
     "output_type": "execute_result"
    }
   ],
   "source": [
    "utter_price = embedding_from_tracker(\"#generate story\\n{}\".format(story_block), bot=True)[0,-1,5,:]\n",
    "utter_price.shape"
   ]
  },
  {
   "cell_type": "code",
   "execution_count": 20,
   "metadata": {},
   "outputs": [
    {
     "name": "stdout",
     "output_type": "stream",
     "text": [
      "(20,)\n"
     ]
    },
    {
     "data": {
      "text/html": [
       "<div style=\"display: table;\"><div style=\"display: table-row;\"><div style=\"display: table-cell;\"><b title=\"bokeh.models.renderers.GlyphRenderer\">GlyphRenderer</b>(</div><div style=\"display: table-cell;\">id&nbsp;=&nbsp;'1db745d9-cfee-44a7-8a51-a238a358f252', <span id=\"39a24e62-01d3-478d-97b4-067e18601781\" style=\"cursor: pointer;\">&hellip;)</span></div></div><div class=\"cb057124-66eb-4d3b-8bd8-dddcd76cabb6\" style=\"display: none;\"><div style=\"display: table-cell;\"></div><div style=\"display: table-cell;\">data_source&nbsp;=&nbsp;ColumnDataSource(id='f011c53f-e8a7-4c7c-9830-ff8fdc912a23', ...),</div></div><div class=\"cb057124-66eb-4d3b-8bd8-dddcd76cabb6\" style=\"display: none;\"><div style=\"display: table-cell;\"></div><div style=\"display: table-cell;\">glyph&nbsp;=&nbsp;Circle(id='dc8dc1af-cea4-493b-8c6c-d8fcbf8d1706', ...),</div></div><div class=\"cb057124-66eb-4d3b-8bd8-dddcd76cabb6\" style=\"display: none;\"><div style=\"display: table-cell;\"></div><div style=\"display: table-cell;\">hover_glyph&nbsp;=&nbsp;None,</div></div><div class=\"cb057124-66eb-4d3b-8bd8-dddcd76cabb6\" style=\"display: none;\"><div style=\"display: table-cell;\"></div><div style=\"display: table-cell;\">js_event_callbacks&nbsp;=&nbsp;{},</div></div><div class=\"cb057124-66eb-4d3b-8bd8-dddcd76cabb6\" style=\"display: none;\"><div style=\"display: table-cell;\"></div><div style=\"display: table-cell;\">js_property_callbacks&nbsp;=&nbsp;{},</div></div><div class=\"cb057124-66eb-4d3b-8bd8-dddcd76cabb6\" style=\"display: none;\"><div style=\"display: table-cell;\"></div><div style=\"display: table-cell;\">level&nbsp;=&nbsp;'glyph',</div></div><div class=\"cb057124-66eb-4d3b-8bd8-dddcd76cabb6\" style=\"display: none;\"><div style=\"display: table-cell;\"></div><div style=\"display: table-cell;\">muted&nbsp;=&nbsp;False,</div></div><div class=\"cb057124-66eb-4d3b-8bd8-dddcd76cabb6\" style=\"display: none;\"><div style=\"display: table-cell;\"></div><div style=\"display: table-cell;\">muted_glyph&nbsp;=&nbsp;None,</div></div><div class=\"cb057124-66eb-4d3b-8bd8-dddcd76cabb6\" style=\"display: none;\"><div style=\"display: table-cell;\"></div><div style=\"display: table-cell;\">name&nbsp;=&nbsp;None,</div></div><div class=\"cb057124-66eb-4d3b-8bd8-dddcd76cabb6\" style=\"display: none;\"><div style=\"display: table-cell;\"></div><div style=\"display: table-cell;\">nonselection_glyph&nbsp;=&nbsp;Circle(id='00d5c32d-1a28-4324-b511-c6c84bae9453', ...),</div></div><div class=\"cb057124-66eb-4d3b-8bd8-dddcd76cabb6\" style=\"display: none;\"><div style=\"display: table-cell;\"></div><div style=\"display: table-cell;\">selection_glyph&nbsp;=&nbsp;None,</div></div><div class=\"cb057124-66eb-4d3b-8bd8-dddcd76cabb6\" style=\"display: none;\"><div style=\"display: table-cell;\"></div><div style=\"display: table-cell;\">subscribed_events&nbsp;=&nbsp;[],</div></div><div class=\"cb057124-66eb-4d3b-8bd8-dddcd76cabb6\" style=\"display: none;\"><div style=\"display: table-cell;\"></div><div style=\"display: table-cell;\">tags&nbsp;=&nbsp;[],</div></div><div class=\"cb057124-66eb-4d3b-8bd8-dddcd76cabb6\" style=\"display: none;\"><div style=\"display: table-cell;\"></div><div style=\"display: table-cell;\">view&nbsp;=&nbsp;CDSView(id='ed67240e-ca62-4683-b5a8-428e01fd79d3', ...),</div></div><div class=\"cb057124-66eb-4d3b-8bd8-dddcd76cabb6\" style=\"display: none;\"><div style=\"display: table-cell;\"></div><div style=\"display: table-cell;\">visible&nbsp;=&nbsp;True,</div></div><div class=\"cb057124-66eb-4d3b-8bd8-dddcd76cabb6\" style=\"display: none;\"><div style=\"display: table-cell;\"></div><div style=\"display: table-cell;\">x_range_name&nbsp;=&nbsp;'default',</div></div><div class=\"cb057124-66eb-4d3b-8bd8-dddcd76cabb6\" style=\"display: none;\"><div style=\"display: table-cell;\"></div><div style=\"display: table-cell;\">y_range_name&nbsp;=&nbsp;'default')</div></div></div>\n",
       "<script>\n",
       "(function() {\n",
       "  var expanded = false;\n",
       "  var ellipsis = document.getElementById(\"39a24e62-01d3-478d-97b4-067e18601781\");\n",
       "  ellipsis.addEventListener(\"click\", function() {\n",
       "    var rows = document.getElementsByClassName(\"cb057124-66eb-4d3b-8bd8-dddcd76cabb6\");\n",
       "    for (var i = 0; i < rows.length; i++) {\n",
       "      var el = rows[i];\n",
       "      el.style.display = expanded ? \"none\" : \"table-row\";\n",
       "    }\n",
       "    ellipsis.innerHTML = expanded ? \"&hellip;)\" : \"&lsaquo;&lsaquo;&lsaquo;\";\n",
       "    expanded = !expanded;\n",
       "  });\n",
       "})();\n",
       "</script>\n"
      ],
      "text/plain": [
       "GlyphRenderer(id='1db745d9-cfee-44a7-8a51-a238a358f252', ...)"
      ]
     },
     "execution_count": 20,
     "metadata": {},
     "output_type": "execute_result"
    }
   ],
   "source": [
    "print(utter_price.shape)\n",
    "x = pca.transform(utter_price.reshape(1,-1))\n",
    "p.circle(x[0][0], x[0][1], color='black')"
   ]
  },
  {
   "cell_type": "code",
   "execution_count": 21,
   "metadata": {},
   "outputs": [
    {
     "data": {
      "text/html": [
       "\n",
       "<div class=\"bk-root\">\n",
       "    <div class=\"bk-plotdiv\" id=\"e38ee173-28d2-4a73-a4d0-aa968c67dc81\"></div>\n",
       "</div>"
      ]
     },
     "metadata": {},
     "output_type": "display_data"
    },
    {
     "data": {
      "application/javascript": [
       "(function(root) {\n",
       "  function embed_document(root) {\n",
       "    \n",
       "  var docs_json = {\"16cfbd7b-b5f2-4e06-9035-9a18049e5434\":{\"roots\":{\"references\":[{\"attributes\":{\"fill_alpha\":{\"value\":0.1},\"fill_color\":{\"value\":\"#1f77b4\"},\"line_alpha\":{\"value\":0.1},\"line_color\":{\"value\":\"#1f77b4\"},\"size\":{\"units\":\"screen\",\"value\":10},\"x\":{\"field\":\"x\"},\"y\":{\"field\":\"y\"}},\"id\":\"288a9ac7-4e75-4774-9d77-c8d942b67b2b\",\"type\":\"Circle\"},{\"attributes\":{\"line_color\":{\"value\":\"firebrick\"},\"line_width\":{\"value\":2},\"plot\":null,\"size\":10},\"id\":\"ed787cb4-7f65-45b9-a22b-c25148fa6fbc\",\"type\":\"OpenHead\"},{\"attributes\":{\"end\":{\"id\":\"8c6e4f59-cce4-4911-a30d-7799490b941b\",\"type\":\"OpenHead\"},\"line_color\":{\"value\":\"gray\"},\"plot\":{\"id\":\"347ab833-a443-4459-b311-0c8692793c11\",\"subtype\":\"Figure\",\"type\":\"Plot\"},\"source\":null,\"start\":null,\"x_end\":{\"value\":-0.3805565241904119},\"x_start\":{\"value\":0.02905640531580811},\"y_end\":{\"value\":0.10540252086984231},\"y_start\":{\"value\":-0.2549101256491246}},\"id\":\"6e531212-41e4-4b24-aaa4-a9cd13b72d7f\",\"type\":\"Arrow\"},{\"attributes\":{\"line_color\":{\"value\":\"firebrick\"},\"line_width\":{\"value\":2},\"plot\":null,\"size\":10},\"id\":\"bff4cd54-155b-4da8-98b6-1037415da493\",\"type\":\"OpenHead\"},{\"attributes\":{\"fill_color\":{\"value\":\"red\"},\"line_color\":{\"value\":\"red\"},\"size\":{\"units\":\"screen\",\"value\":5},\"x\":{\"field\":\"x\"},\"y\":{\"field\":\"y\"}},\"id\":\"a1ec1416-05b7-4a4e-824d-d92ed5ceb123\",\"type\":\"Circle\"},{\"attributes\":{\"source\":{\"id\":\"49432e78-fee7-49d0-ac29-2a202ae5ac72\",\"type\":\"ColumnDataSource\"}},\"id\":\"3e9f8f7d-44a0-4a7a-8fdd-30bc030c881f\",\"type\":\"CDSView\"},{\"attributes\":{\"end\":{\"id\":\"ed787cb4-7f65-45b9-a22b-c25148fa6fbc\",\"type\":\"OpenHead\"},\"line_color\":{\"value\":\"gray\"},\"plot\":{\"id\":\"347ab833-a443-4459-b311-0c8692793c11\",\"subtype\":\"Figure\",\"type\":\"Plot\"},\"source\":null,\"start\":null,\"x_end\":{\"value\":0.02914260745900814},\"x_start\":{\"value\":-0.3805565241904119},\"y_end\":{\"value\":-0.24985271009534893},\"y_start\":{\"value\":0.10540252086984231}},\"id\":\"9ce6940e-ddc8-4bde-9678-38df7b610fb3\",\"type\":\"Arrow\"},{\"attributes\":{\"line_color\":{\"value\":\"firebrick\"},\"line_width\":{\"value\":2},\"plot\":null,\"size\":10},\"id\":\"6c27c0c6-77ae-473d-a381-ba69ccf3dbd7\",\"type\":\"OpenHead\"},{\"attributes\":{\"end\":{\"id\":\"bff4cd54-155b-4da8-98b6-1037415da493\",\"type\":\"OpenHead\"},\"line_color\":{\"value\":\"gray\"},\"plot\":{\"id\":\"347ab833-a443-4459-b311-0c8692793c11\",\"subtype\":\"Figure\",\"type\":\"Plot\"},\"source\":null,\"start\":null,\"x_end\":{\"value\":-0.04278218138082326},\"x_start\":{\"value\":0.02914260745900814},\"y_end\":{\"value\":-0.022171252890457994},\"y_start\":{\"value\":-0.24985271009534893}},\"id\":\"337fc054-279b-4c21-807f-3fa1f8bab318\",\"type\":\"Arrow\"},{\"attributes\":{\"line_color\":{\"value\":\"firebrick\"},\"line_width\":{\"value\":2},\"plot\":null,\"size\":10},\"id\":\"5754d56c-5495-4624-abdb-3c0ecbf191c1\",\"type\":\"OpenHead\"},{\"attributes\":{\"end\":{\"id\":\"6c27c0c6-77ae-473d-a381-ba69ccf3dbd7\",\"type\":\"OpenHead\"},\"line_color\":{\"value\":\"gray\"},\"plot\":{\"id\":\"347ab833-a443-4459-b311-0c8692793c11\",\"subtype\":\"Figure\",\"type\":\"Plot\"},\"source\":null,\"start\":null,\"x_end\":{\"value\":0.031472042469468366},\"x_start\":{\"value\":-0.04278218138082326},\"y_end\":{\"value\":-0.32819433995120073},\"y_start\":{\"value\":-0.022171252890457994}},\"id\":\"35b3ebe5-ad95-4b7b-8db8-9e2df1ff3d47\",\"type\":\"Arrow\"},{\"attributes\":{\"line_color\":{\"value\":\"firebrick\"},\"line_width\":{\"value\":2},\"plot\":null,\"size\":10},\"id\":\"7b1e37c3-13a9-4157-8184-c24245a80f0a\",\"type\":\"OpenHead\"},{\"attributes\":{\"end\":{\"id\":\"5754d56c-5495-4624-abdb-3c0ecbf191c1\",\"type\":\"OpenHead\"},\"line_color\":{\"value\":\"gray\"},\"plot\":{\"id\":\"347ab833-a443-4459-b311-0c8692793c11\",\"subtype\":\"Figure\",\"type\":\"Plot\"},\"source\":null,\"start\":null,\"x_end\":{\"value\":0.03765355907090482},\"x_start\":{\"value\":0.031472042469468366},\"y_end\":{\"value\":0.005031913232679683},\"y_start\":{\"value\":-0.32819433995120073}},\"id\":\"e3355d5e-d8aa-4e9a-b770-ebfdba22f0dd\",\"type\":\"Arrow\"},{\"attributes\":{\"line_color\":{\"value\":\"firebrick\"},\"line_width\":{\"value\":2},\"plot\":null,\"size\":10},\"id\":\"74249e7d-ea2d-4c03-921a-83104eb22477\",\"type\":\"OpenHead\"},{\"attributes\":{\"end\":{\"id\":\"7b1e37c3-13a9-4157-8184-c24245a80f0a\",\"type\":\"OpenHead\"},\"line_color\":{\"value\":\"gray\"},\"plot\":{\"id\":\"347ab833-a443-4459-b311-0c8692793c11\",\"subtype\":\"Figure\",\"type\":\"Plot\"},\"source\":null,\"start\":null,\"x_end\":{\"value\":0.058576871988579186},\"x_start\":{\"value\":0.03765355907090482},\"y_end\":{\"value\":0.08619872373255343},\"y_start\":{\"value\":0.005031913232679683}},\"id\":\"a3f42c25-375a-4abd-8772-0ff3ffca206e\",\"type\":\"Arrow\"},{\"attributes\":{\"line_color\":{\"value\":\"firebrick\"},\"line_width\":{\"value\":2},\"plot\":null,\"size\":10},\"id\":\"793701a9-f05c-4209-9006-ff2b22c4e267\",\"type\":\"OpenHead\"},{\"attributes\":{\"end\":{\"id\":\"74249e7d-ea2d-4c03-921a-83104eb22477\",\"type\":\"OpenHead\"},\"line_color\":{\"value\":\"gray\"},\"plot\":{\"id\":\"347ab833-a443-4459-b311-0c8692793c11\",\"subtype\":\"Figure\",\"type\":\"Plot\"},\"source\":null,\"start\":null,\"x_end\":{\"value\":-0.265161236500666},\"x_start\":{\"value\":0.058576871988579186},\"y_end\":{\"value\":-0.1027498052560122},\"y_start\":{\"value\":0.08619872373255343}},\"id\":\"c310b04a-d3ac-4975-933c-7a399be2b271\",\"type\":\"Arrow\"},{\"attributes\":{\"line_color\":{\"value\":\"firebrick\"},\"line_width\":{\"value\":2},\"plot\":null,\"size\":10},\"id\":\"7296979d-d384-4a2a-961c-0e648fcac339\",\"type\":\"OpenHead\"},{\"attributes\":{\"end\":{\"id\":\"793701a9-f05c-4209-9006-ff2b22c4e267\",\"type\":\"OpenHead\"},\"line_color\":{\"value\":\"gray\"},\"plot\":{\"id\":\"347ab833-a443-4459-b311-0c8692793c11\",\"subtype\":\"Figure\",\"type\":\"Plot\"},\"source\":null,\"start\":null,\"x_end\":{\"value\":0.4321514539484079},\"x_start\":{\"value\":-0.265161236500666},\"y_end\":{\"value\":0.43725194230878817},\"y_start\":{\"value\":-0.1027498052560122}},\"id\":\"f3f1d100-94c8-401b-bac4-66c1215feece\",\"type\":\"Arrow\"},{\"attributes\":{\"callback\":null,\"data\":{},\"selected\":null,\"selection_policy\":null},\"id\":\"f011c53f-e8a7-4c7c-9830-ff8fdc912a23\",\"type\":\"ColumnDataSource\"},{\"attributes\":{\"line_color\":{\"value\":\"firebrick\"},\"line_width\":{\"value\":2},\"plot\":null,\"size\":10},\"id\":\"f4b718f1-7582-4911-bb35-e9ef8385f850\",\"type\":\"OpenHead\"},{\"attributes\":{\"end\":{\"id\":\"7296979d-d384-4a2a-961c-0e648fcac339\",\"type\":\"OpenHead\"},\"line_color\":{\"value\":\"gray\"},\"plot\":{\"id\":\"347ab833-a443-4459-b311-0c8692793c11\",\"subtype\":\"Figure\",\"type\":\"Plot\"},\"source\":null,\"start\":null,\"x_end\":{\"value\":-0.27990555025988323},\"x_start\":{\"value\":0.4321514539484079},\"y_end\":{\"value\":0.12805750454219536},\"y_start\":{\"value\":0.43725194230878817}},\"id\":\"3df56e9a-e861-4df7-9718-d3a32f19260c\",\"type\":\"Arrow\"},{\"attributes\":{\"line_color\":{\"value\":\"firebrick\"},\"line_width\":{\"value\":2},\"plot\":null,\"size\":10},\"id\":\"c0f74198-68ee-448c-843b-ccd90ed0607e\",\"type\":\"OpenHead\"},{\"attributes\":{\"below\":[{\"id\":\"253cd694-93b6-48fd-9f60-b4c90422d560\",\"type\":\"LinearAxis\"}],\"left\":[{\"id\":\"ad05a489-8844-4769-be78-cf30b7f1f3e7\",\"type\":\"LinearAxis\"}],\"renderers\":[{\"id\":\"253cd694-93b6-48fd-9f60-b4c90422d560\",\"type\":\"LinearAxis\"},{\"id\":\"273fbdb8-090f-44a2-9f21-d06ef754a753\",\"type\":\"Grid\"},{\"id\":\"ad05a489-8844-4769-be78-cf30b7f1f3e7\",\"type\":\"LinearAxis\"},{\"id\":\"fcb80b30-ff0a-4983-b9d1-3523834c2df5\",\"type\":\"Grid\"},{\"id\":\"15acef01-e7ad-44e9-99f9-a3c561c2662a\",\"type\":\"Arrow\"},{\"id\":\"cab1f7c8-aef3-4ff0-b259-b8851870a6af\",\"type\":\"Arrow\"},{\"id\":\"01b8bf87-b94d-490a-b0f8-5c9643b56ecb\",\"type\":\"Arrow\"},{\"id\":\"eab6fd5a-d262-4947-85ca-62eac437ecd6\",\"type\":\"Arrow\"},{\"id\":\"cf1c117d-4ad6-42ea-99a4-e4bb8c39becd\",\"type\":\"Arrow\"},{\"id\":\"ddb4367d-fa94-4767-ae80-484c44304ecb\",\"type\":\"Arrow\"},{\"id\":\"6ac8f21d-1b94-403e-8280-d9fe6910e3c8\",\"type\":\"Arrow\"},{\"id\":\"c7ac06af-202f-4a92-80f4-9c956f444136\",\"type\":\"Arrow\"},{\"id\":\"ad4d455d-3bdf-475a-9766-b4452120b796\",\"type\":\"Arrow\"},{\"id\":\"9a24fd37-932c-4a25-abf7-37e2c1a67017\",\"type\":\"Arrow\"},{\"id\":\"65c1922c-a821-47c5-b95b-5ea9489c3405\",\"type\":\"Arrow\"},{\"id\":\"0bcb76e4-4369-42c2-9211-560b04cec1cb\",\"type\":\"Arrow\"},{\"id\":\"497e8dea-2f4d-4e72-bc5a-f0bde9ca5a6e\",\"type\":\"Arrow\"},{\"id\":\"05190aa1-917f-4cbc-9ded-eaa4063cd5b2\",\"type\":\"Arrow\"},{\"id\":\"e2ded1dd-c58e-474b-9e68-c7a618d8d249\",\"type\":\"Arrow\"},{\"id\":\"411f427b-4968-4ec1-85dc-42c8e3bc8f8e\",\"type\":\"Arrow\"},{\"id\":\"a2051f56-ebea-42ff-b524-0f31028a5545\",\"type\":\"Arrow\"},{\"id\":\"6e531212-41e4-4b24-aaa4-a9cd13b72d7f\",\"type\":\"Arrow\"},{\"id\":\"9ce6940e-ddc8-4bde-9678-38df7b610fb3\",\"type\":\"Arrow\"},{\"id\":\"337fc054-279b-4c21-807f-3fa1f8bab318\",\"type\":\"Arrow\"},{\"id\":\"35b3ebe5-ad95-4b7b-8db8-9e2df1ff3d47\",\"type\":\"Arrow\"},{\"id\":\"e3355d5e-d8aa-4e9a-b770-ebfdba22f0dd\",\"type\":\"Arrow\"},{\"id\":\"a3f42c25-375a-4abd-8772-0ff3ffca206e\",\"type\":\"Arrow\"},{\"id\":\"c310b04a-d3ac-4975-933c-7a399be2b271\",\"type\":\"Arrow\"},{\"id\":\"f3f1d100-94c8-401b-bac4-66c1215feece\",\"type\":\"Arrow\"},{\"id\":\"3df56e9a-e861-4df7-9718-d3a32f19260c\",\"type\":\"Arrow\"},{\"id\":\"5cd19452-3c07-4073-a1bf-678aa016510d\",\"type\":\"Arrow\"},{\"id\":\"a30f3cf9-ead4-49e7-9532-01b7d6250e08\",\"type\":\"Arrow\"},{\"id\":\"865269fa-5224-4481-812e-05d711a403bf\",\"type\":\"GlyphRenderer\"},{\"id\":\"de144473-8478-40f2-9097-3485cf891e97\",\"type\":\"GlyphRenderer\"},{\"id\":\"8e79de32-6c44-4d9d-a42f-e08e14cf64cc\",\"type\":\"GlyphRenderer\"},{\"id\":\"518ec73b-d460-4ba1-8f3c-030cf1a6fc8a\",\"type\":\"GlyphRenderer\"},{\"id\":\"20a5c39f-cd62-4a96-af0d-e4d3913d4d88\",\"type\":\"GlyphRenderer\"},{\"id\":\"c5d66b4d-f272-4008-8554-229f36d1d5ce\",\"type\":\"GlyphRenderer\"},{\"id\":\"1db745d9-cfee-44a7-8a51-a238a358f252\",\"type\":\"GlyphRenderer\"}],\"title\":{\"id\":\"ebac63c2-0cfc-462e-861c-f1681b7dabf7\",\"type\":\"Title\"},\"toolbar\":{\"id\":\"ec430f4a-32f2-44bb-9ad0-3feebb1e64bf\",\"type\":\"Toolbar\"},\"x_range\":{\"id\":\"d1eda359-b651-40bb-a301-32ea08063dcf\",\"type\":\"DataRange1d\"},\"x_scale\":{\"id\":\"4d46a418-9539-4247-b273-2e0b3bd527d3\",\"type\":\"LinearScale\"},\"y_range\":{\"id\":\"f5b4630c-dbd9-469f-9509-4d1594a9096a\",\"type\":\"DataRange1d\"},\"y_scale\":{\"id\":\"3e36dee7-84ac-498b-991d-42d75417f810\",\"type\":\"LinearScale\"}},\"id\":\"347ab833-a443-4459-b311-0c8692793c11\",\"subtype\":\"Figure\",\"type\":\"Plot\"},{\"attributes\":{\"end\":{\"id\":\"f4b718f1-7582-4911-bb35-e9ef8385f850\",\"type\":\"OpenHead\"},\"line_color\":{\"value\":\"gray\"},\"plot\":{\"id\":\"347ab833-a443-4459-b311-0c8692793c11\",\"subtype\":\"Figure\",\"type\":\"Plot\"},\"source\":null,\"start\":null,\"x_end\":{\"value\":0.37054299755170195},\"x_start\":{\"value\":-0.27990555025988323},\"y_end\":{\"value\":0.32989097781934273},\"y_start\":{\"value\":0.12805750454219536}},\"id\":\"5cd19452-3c07-4073-a1bf-678aa016510d\",\"type\":\"Arrow\"},{\"attributes\":{\"fill_color\":{\"value\":\"#1f77b4\"},\"line_color\":{\"value\":\"#1f77b4\"},\"size\":{\"units\":\"screen\",\"value\":10},\"x\":{\"field\":\"x\"},\"y\":{\"field\":\"y\"}},\"id\":\"bf9f3bfb-84e4-4dc4-96da-2fe4b90e0c66\",\"type\":\"Circle\"},{\"attributes\":{\"callback\":null,\"names\":[\"circle\"],\"tooltips\":[[\"true action\",\"@desc\"],[\"prediction\",\"@pred\"],[\"not_skip_gate\",\"@not_skip\"]]},\"id\":\"e6398bc9-3e47-433d-a1cc-ff3bd7156280\",\"type\":\"HoverTool\"},{\"attributes\":{\"end\":{\"id\":\"c0f74198-68ee-448c-843b-ccd90ed0607e\",\"type\":\"OpenHead\"},\"line_color\":{\"value\":\"gray\"},\"plot\":{\"id\":\"347ab833-a443-4459-b311-0c8692793c11\",\"subtype\":\"Figure\",\"type\":\"Plot\"},\"source\":null,\"start\":null,\"x_end\":{\"value\":0.3708714345834348},\"x_start\":{\"value\":0.37054299755170195},\"y_end\":{\"value\":-0.015025144481799394},\"y_start\":{\"value\":0.32989097781934273}},\"id\":\"a30f3cf9-ead4-49e7-9532-01b7d6250e08\",\"type\":\"Arrow\"},{\"attributes\":{\"line_color\":{\"value\":\"firebrick\"},\"line_width\":{\"value\":2},\"plot\":null,\"size\":10},\"id\":\"57ea10ad-6ab6-49a4-9284-0eb82d79ccc9\",\"type\":\"OpenHead\"},{\"attributes\":{},\"id\":\"3e36dee7-84ac-498b-991d-42d75417f810\",\"type\":\"LinearScale\"},{\"attributes\":{\"end\":{\"id\":\"57ea10ad-6ab6-49a4-9284-0eb82d79ccc9\",\"type\":\"OpenHead\"},\"line_color\":{\"value\":\"gray\"},\"plot\":{\"id\":\"347ab833-a443-4459-b311-0c8692793c11\",\"subtype\":\"Figure\",\"type\":\"Plot\"},\"source\":null,\"start\":null,\"x_end\":{\"value\":0.014002850883277566},\"x_start\":{\"value\":0.0931300660718028},\"y_end\":{\"value\":0.12183172910549814},\"y_start\":{\"value\":0.08760349099838793}},\"id\":\"15acef01-e7ad-44e9-99f9-a3c561c2662a\",\"type\":\"Arrow\"},{\"attributes\":{\"data_source\":{\"id\":\"49432e78-fee7-49d0-ac29-2a202ae5ac72\",\"type\":\"ColumnDataSource\"},\"glyph\":{\"id\":\"bf9f3bfb-84e4-4dc4-96da-2fe4b90e0c66\",\"type\":\"Circle\"},\"hover_glyph\":null,\"muted_glyph\":null,\"name\":\"circle\",\"nonselection_glyph\":{\"id\":\"288a9ac7-4e75-4774-9d77-c8d942b67b2b\",\"type\":\"Circle\"},\"selection_glyph\":null,\"view\":{\"id\":\"3e9f8f7d-44a0-4a7a-8fdd-30bc030c881f\",\"type\":\"CDSView\"}},\"id\":\"865269fa-5224-4481-812e-05d711a403bf\",\"type\":\"GlyphRenderer\"},{\"attributes\":{\"data_source\":{\"id\":\"2b531bdf-3c4a-4d7d-b10f-e33905d85789\",\"type\":\"ColumnDataSource\"},\"glyph\":{\"id\":\"f154498f-7e74-49d1-be53-af5dd59a4d13\",\"type\":\"Circle\"},\"hover_glyph\":null,\"muted_glyph\":null,\"name\":\"circle\",\"nonselection_glyph\":{\"id\":\"86bac7a2-8062-4c69-a846-7793e764e077\",\"type\":\"Circle\"},\"selection_glyph\":null,\"view\":{\"id\":\"f720056f-801b-4014-8eb0-ed88e08e9dd7\",\"type\":\"CDSView\"}},\"id\":\"de144473-8478-40f2-9097-3485cf891e97\",\"type\":\"GlyphRenderer\"},{\"attributes\":{},\"id\":\"f85490f7-b9ff-4a67-bacc-b8657e2e869c\",\"type\":\"BasicTickFormatter\"},{\"attributes\":{},\"id\":\"523d14a1-bb0c-42fd-953e-34728f7608b8\",\"type\":\"BasicTickFormatter\"},{\"attributes\":{\"callback\":null,\"column_names\":[\"x\",\"y\",\"desc\",\"pred\",\"not_skip\"],\"data\":{\"desc\":[\"- utter_ask_details\",\"- utter_explain_details_hotel\",\"- utter_ask_details\",\"- utter_chitchat\",\"- utter_ask_details\",\"- utter_ask_startdate\",\"- utter_ask_location\",\"- utter_correct_startdate_hotel\",\"- utter_ask_location\",\"- utter_explain_location_hotel\",\"- utter_ask_location\",\"- utter_ask_price\",\"- utter_chitchat\",\"- utter_ask_price\",\"- utter_chitchat\",\"- utter_ask_price\",\"- utter_chitchat\",\"- utter_ask_price\",\"- utter_chitchat\",\"- utter_ask_price\",\"- utter_explain_price_hotel\",\"- utter_ask_price\",\"- utter_ask_people\",\"- utter_filled_slots\",\"- action_search_hotel\",\"- utter_suggest_hotel\",\"- utter_chitchat\",\"- utter_suggest_hotel\",\"- utter_happy\"],\"not_skip\":[1.0,1.0,0.0,1.0,0.0,1.0,1.0,1.0,0.0,1.0,0.0,1.0,1.0,0.0,1.0,0.0,1.0,0.0,1.0,0.0,1.0,0.0,1.0,1.0,1.0,1.0,1.0,0.0,1.0],\"pred\":[\"- utter_ask_details\",\"- utter_explain_people_hotel\",\"- utter_ask_details\",\"- utter_chitchat\",\"- utter_ask_details\",\"- utter_ask_startdate\",\"- utter_ask_location\",\"- utter_correct_startdate_hotel\",\"- utter_ask_location\",\"- utter_explain_location_hotel\",\"- utter_ask_location\",\"- utter_ask_price\",\"- utter_chitchat\",\"- utter_ask_price\",\"- utter_chitchat\",\"- utter_ask_price\",\"- utter_chitchat\",\"- utter_ask_price\",\"- utter_chitchat\",\"- utter_ask_price\",\"- utter_explain_price_hotel\",\"- utter_ask_price\",\"- utter_ask_people\",\"- utter_filled_slots\",\"- action_search_hotel\",\"- utter_suggest_hotel\",\"- utter_chitchat\",\"- utter_suggest_hotel\",\"- utter_happy\"],\"x\":{\"__ndarray__\":\"jH4NPF/Xtz+8asHUhq2MP9/TmX6T7bU/P7GTDsNY0b/82DKs+DC5P9T+dp5UycE/Sp3qeKeTwD9JTfGaweQiv0BcShURGMQ/SgAviifMk78znH4BsNjGP++EWwZt4qU/4REu7bYW17/F+cI+V36gP1OXgcFXPNe/p1UdzWBHnT/dHDHXiwbYv+BpSFr2wJ0/GVhrwAlb2L9tkNNHj9edP5Osw8uL56W/xRRKghodoD99OJPJU0ejP89g/KrJ/a0/bfy71Wb40L8QJWiSXqjbP/9xFfj46dG/fsQP+vm21z/5nKOKW7zXPw==\",\"dtype\":\"float64\",\"shape\":[29]},\"y\":{\"__ndarray__\":\"aH/asC5ttj8KjR88XTC/P1SO6bZ0wcU/B+tMFY4yuz8SvKcEt6S3P75PcM+9JrA/qsMZ0hekwL9qj10XRxrYPxLCmLztftK/uNiBHIIFlD/FYP62BrjSv+MwzHXZvMy/ACgepEqWuT+Jg5O4L8HQv/qOEYG7zbk/sbi+4P7B0L86kQG8PUu6P29DRY9yUNC/TEsN3Kj7uj9Ql1ZxLPvPv+quTZgPtJa/Vqc01SIB1b/jqFTsV5x0P79kY5seEbY/ebQ+rc9Nur/QCRWS7/vbP5UPAjUwZMA/wrA+DO8c1T/PBVbBgMWOvw==\",\"dtype\":\"float64\",\"shape\":[29]}},\"selected\":null,\"selection_policy\":null},\"id\":\"49432e78-fee7-49d0-ac29-2a202ae5ac72\",\"type\":\"ColumnDataSource\"},{\"attributes\":{\"active_drag\":\"auto\",\"active_inspect\":\"auto\",\"active_scroll\":\"auto\",\"active_tap\":\"auto\",\"tools\":[{\"id\":\"e6398bc9-3e47-433d-a1cc-ff3bd7156280\",\"type\":\"HoverTool\"}]},\"id\":\"ec430f4a-32f2-44bb-9ad0-3feebb1e64bf\",\"type\":\"Toolbar\"},{\"attributes\":{\"plot\":null,\"text\":\"\"},\"id\":\"ebac63c2-0cfc-462e-861c-f1681b7dabf7\",\"type\":\"Title\"},{\"attributes\":{\"callback\":null},\"id\":\"f5b4630c-dbd9-469f-9509-4d1594a9096a\",\"type\":\"DataRange1d\"},{\"attributes\":{\"source\":{\"id\":\"2b531bdf-3c4a-4d7d-b10f-e33905d85789\",\"type\":\"ColumnDataSource\"}},\"id\":\"f720056f-801b-4014-8eb0-ed88e08e9dd7\",\"type\":\"CDSView\"},{\"attributes\":{\"callback\":null},\"id\":\"d1eda359-b651-40bb-a301-32ea08063dcf\",\"type\":\"DataRange1d\"},{\"attributes\":{\"line_color\":{\"value\":\"firebrick\"},\"line_width\":{\"value\":2},\"plot\":null,\"size\":10},\"id\":\"2d4f83ab-0357-4fd7-af4c-37f80b6bc422\",\"type\":\"OpenHead\"},{\"attributes\":{\"fill_alpha\":{\"value\":0.1},\"fill_color\":{\"value\":\"#1f77b4\"},\"line_alpha\":{\"value\":0.1},\"line_color\":{\"value\":\"#1f77b4\"},\"size\":{\"units\":\"screen\",\"value\":5},\"x\":{\"field\":\"x\"},\"y\":{\"field\":\"y\"}},\"id\":\"86bac7a2-8062-4c69-a846-7793e764e077\",\"type\":\"Circle\"},{\"attributes\":{\"data_source\":{\"id\":\"423e2029-32f0-4e63-9086-a84987721995\",\"type\":\"ColumnDataSource\"},\"glyph\":{\"id\":\"a1ec1416-05b7-4a4e-824d-d92ed5ceb123\",\"type\":\"Circle\"},\"hover_glyph\":null,\"muted_glyph\":null,\"name\":\"circle\",\"nonselection_glyph\":{\"id\":\"1d1d97e0-dee8-497f-9036-e87f12e4d7e4\",\"type\":\"Circle\"},\"selection_glyph\":null,\"view\":{\"id\":\"51cb200a-bb52-4af3-b07c-9048c3875c29\",\"type\":\"CDSView\"}},\"id\":\"8e79de32-6c44-4d9d-a42f-e08e14cf64cc\",\"type\":\"GlyphRenderer\"},{\"attributes\":{\"formatter\":{\"id\":\"f85490f7-b9ff-4a67-bacc-b8657e2e869c\",\"type\":\"BasicTickFormatter\"},\"plot\":{\"id\":\"347ab833-a443-4459-b311-0c8692793c11\",\"subtype\":\"Figure\",\"type\":\"Plot\"},\"ticker\":{\"id\":\"cba97696-5b17-4836-a5b9-d269b3e77bcd\",\"type\":\"BasicTicker\"}},\"id\":\"253cd694-93b6-48fd-9f60-b4c90422d560\",\"type\":\"LinearAxis\"},{\"attributes\":{\"fill_color\":{\"value\":\"green\"},\"line_color\":{\"value\":\"green\"},\"size\":{\"units\":\"screen\",\"value\":5},\"x\":{\"field\":\"x\"},\"y\":{\"field\":\"y\"}},\"id\":\"f154498f-7e74-49d1-be53-af5dd59a4d13\",\"type\":\"Circle\"},{\"attributes\":{},\"id\":\"4d46a418-9539-4247-b273-2e0b3bd527d3\",\"type\":\"LinearScale\"},{\"attributes\":{\"callback\":null,\"column_names\":[\"x\",\"y\",\"desc\",\"pred\",\"not_skip\"],\"data\":{\"desc\":[\"- utter_ask_details\",\"- utter_explain_details_hotel\",\"- utter_ask_details\",\"- utter_chitchat\",\"- utter_ask_details\",\"- utter_ask_startdate\",\"- utter_ask_location\",\"- utter_correct_startdate_hotel\",\"- utter_ask_location\",\"- utter_explain_location_hotel\",\"- utter_ask_location\",\"- utter_ask_price\",\"- utter_chitchat\",\"- utter_ask_price\",\"- utter_chitchat\",\"- utter_ask_price\",\"- utter_chitchat\",\"- utter_ask_price\",\"- utter_chitchat\",\"- utter_ask_price\",\"- utter_explain_price_hotel\",\"- utter_ask_price\",\"- utter_ask_people\",\"- utter_filled_slots\",\"- action_search_hotel\",\"- utter_suggest_hotel\",\"- utter_chitchat\",\"- utter_suggest_hotel\",\"- utter_happy\"],\"not_skip\":[1.0,1.0,0.0,1.0,0.0,1.0,1.0,1.0,0.0,1.0,0.0,1.0,1.0,0.0,1.0,0.0,1.0,0.0,1.0,0.0,1.0,0.0,1.0,1.0,1.0,1.0,1.0,0.0,1.0],\"pred\":[\"- utter_ask_details\",\"- utter_explain_people_hotel\",\"- utter_ask_details\",\"- utter_chitchat\",\"- utter_ask_details\",\"- utter_ask_startdate\",\"- utter_ask_location\",\"- utter_correct_startdate_hotel\",\"- utter_ask_location\",\"- utter_explain_location_hotel\",\"- utter_ask_location\",\"- utter_ask_price\",\"- utter_chitchat\",\"- utter_ask_price\",\"- utter_chitchat\",\"- utter_ask_price\",\"- utter_chitchat\",\"- utter_ask_price\",\"- utter_chitchat\",\"- utter_ask_price\",\"- utter_explain_price_hotel\",\"- utter_ask_price\",\"- utter_ask_people\",\"- utter_filled_slots\",\"- action_search_hotel\",\"- utter_suggest_hotel\",\"- utter_chitchat\",\"- utter_suggest_hotel\",\"- utter_happy\"],\"x\":{\"__ndarray__\":\"1OR+u+KkrD8+J0RJCq6sP8nj/Y5eDrs/+3ZpWlqOrD9xz3ipqsm2P2YTZFRAaqo/T7vezBbTqT917w0xnGOoP+ulYmzzt8E/1pg8724Crj9kbsXRwa/BPwzawQ2xLqw/voyJ+NVmqz82fT39Pf+0PwkkP50inqg/VYbopg42tD/I6plQnFKnPx8h72UNFrQ/SIopWgLTpj/aePSmsNKzP2Yyt4cCSac/VEn6hfWuuT+6EBbADRusP9DkYcvd86k/7Jga/L0EmT+AlVWfBF2mPxjzNiTT8ac/Z2LROQEnwT9nBrUynm6oPw==\",\"dtype\":\"float64\",\"shape\":[29]},\"y\":{\"__ndarray__\":\"WOSOOQ3HmD/DB+qoTeSYPz8gM8cJiro/qnje+c67mT+BWIWMAtq2P1qPJpQrmJ4/GJcxQeoAoD+Kt6vAtmWhP3Db/+DGpsm/rhKVo7/mlD8CgX9sNYrJv2vCGiLonZo/JnMKD65vmz+U4bdy1gXGvzKxoO5RVJ0/yqOLOQcwxr+oovt5dIecP7sLVHeis8W/cDpIFlNxnD/uyvR930DFv5H2mH/nT1O//3bJKPx70r/RHyAMIUyZP20SJVryrJo/U2A5hCU2ZD+iiy/UIiicvxOhg6FNvpk/7RlHyM4Dtz/vHteXZj+VPw==\",\"dtype\":\"float64\",\"shape\":[29]}},\"selected\":null,\"selection_policy\":null},\"id\":\"2b531bdf-3c4a-4d7d-b10f-e33905d85789\",\"type\":\"ColumnDataSource\"},{\"attributes\":{},\"id\":\"cba97696-5b17-4836-a5b9-d269b3e77bcd\",\"type\":\"BasicTicker\"},{\"attributes\":{\"plot\":{\"id\":\"347ab833-a443-4459-b311-0c8692793c11\",\"subtype\":\"Figure\",\"type\":\"Plot\"},\"ticker\":{\"id\":\"cba97696-5b17-4836-a5b9-d269b3e77bcd\",\"type\":\"BasicTicker\"}},\"id\":\"273fbdb8-090f-44a2-9f21-d06ef754a753\",\"type\":\"Grid\"},{\"attributes\":{\"source\":{\"id\":\"423e2029-32f0-4e63-9086-a84987721995\",\"type\":\"ColumnDataSource\"}},\"id\":\"51cb200a-bb52-4af3-b07c-9048c3875c29\",\"type\":\"CDSView\"},{\"attributes\":{\"formatter\":{\"id\":\"523d14a1-bb0c-42fd-953e-34728f7608b8\",\"type\":\"BasicTickFormatter\"},\"plot\":{\"id\":\"347ab833-a443-4459-b311-0c8692793c11\",\"subtype\":\"Figure\",\"type\":\"Plot\"},\"ticker\":{\"id\":\"e25d2161-9667-4d24-bf82-9efe7aa0e609\",\"type\":\"BasicTicker\"}},\"id\":\"ad05a489-8844-4769-be78-cf30b7f1f3e7\",\"type\":\"LinearAxis\"},{\"attributes\":{\"callback\":null,\"column_names\":[\"x\",\"y\",\"desc\",\"pred\",\"not_skip\"],\"data\":{\"desc\":[\"- utter_ask_details\",\"- utter_explain_details_hotel\",\"- utter_ask_details\",\"- utter_chitchat\",\"- utter_ask_details\",\"- utter_ask_startdate\",\"- utter_ask_location\",\"- utter_correct_startdate_hotel\",\"- utter_ask_location\",\"- utter_explain_location_hotel\",\"- utter_ask_location\",\"- utter_ask_price\",\"- utter_chitchat\",\"- utter_ask_price\",\"- utter_chitchat\",\"- utter_ask_price\",\"- utter_chitchat\",\"- utter_ask_price\",\"- utter_chitchat\",\"- utter_ask_price\",\"- utter_explain_price_hotel\",\"- utter_ask_price\",\"- utter_ask_people\",\"- utter_filled_slots\",\"- action_search_hotel\",\"- utter_suggest_hotel\",\"- utter_chitchat\",\"- utter_suggest_hotel\",\"- utter_happy\"],\"not_skip\":[1.0,1.0,0.0,1.0,0.0,1.0,1.0,1.0,0.0,1.0,0.0,1.0,1.0,0.0,1.0,0.0,1.0,0.0,1.0,0.0,1.0,0.0,1.0,1.0,1.0,1.0,1.0,0.0,1.0],\"pred\":[\"- utter_ask_details\",\"- utter_explain_people_hotel\",\"- utter_ask_details\",\"- utter_chitchat\",\"- utter_ask_details\",\"- utter_ask_startdate\",\"- utter_ask_location\",\"- utter_correct_startdate_hotel\",\"- utter_ask_location\",\"- utter_explain_location_hotel\",\"- utter_ask_location\",\"- utter_ask_price\",\"- utter_chitchat\",\"- utter_ask_price\",\"- utter_chitchat\",\"- utter_ask_price\",\"- utter_chitchat\",\"- utter_ask_price\",\"- utter_chitchat\",\"- utter_ask_price\",\"- utter_explain_price_hotel\",\"- utter_ask_price\",\"- utter_ask_people\",\"- utter_filled_slots\",\"- action_search_hotel\",\"- utter_suggest_hotel\",\"- utter_chitchat\",\"- utter_suggest_hotel\",\"- utter_happy\"],\"x\":{\"__ndarray__\":\"j34NPF/Xtz8IpFSP6IiMPwNK4q5MY6I/ryXdAvJV0b+wjzpmv7mwP0LyrDv9V8I/u6jmaxpIwT8N1JkxhrmAP0Y7Jb6sErM/layiBkCHlr9LFLW4TaS4PyjhinaeWKY/TqplXPXu1r+YZ36z7yV5P8Ao/MR/u9a/TY43AK/jdj8qT7cKQ1zXv0RmYOMYyno/hqi0t82g17/6x++MSFp/P2dXJ6yri6C/L5aPLLdvir/4SAS6KNGjP5fh5VJnV7A/+ikntCzozb+/4kVcWnHcP/1wwwSXU9G/+tYDshW40j/jUpUaJEPYPw==\",\"dtype\":\"float64\",\"shape\":[29]},\"y\":{\"__ndarray__\":\"bX/asC5ttj80gZ4VDSm/P6LKdAejKrc/aonFqF31uj9dF94f3/GbP1K/XHLsZK0/OpG4tHCLwb/h2xwSAXrXPxDQO/tlfLC/IePRm8/llz84cU557Jmxv8tBFNy098y/cCxnfCLsuD9IyemxTsewv04n8llqqrg/KYWqtil2sL+RC4/2I1u5Pyws5wWEUa+/gOkzXxcRuj9+1P0+rYWuv4O7pUniP2o/Srh+6rsWj790dA1vCIhyP75Lz1Kll7U/IuARmL29tL+k/B+O4krfP/ZdLRxIRcA/Ca48MGzo0D8y498UM7aHvw==\",\"dtype\":\"float64\",\"shape\":[29]}},\"selected\":null,\"selection_policy\":null},\"id\":\"423e2029-32f0-4e63-9086-a84987721995\",\"type\":\"ColumnDataSource\"},{\"attributes\":{},\"id\":\"e25d2161-9667-4d24-bf82-9efe7aa0e609\",\"type\":\"BasicTicker\"},{\"attributes\":{\"dimension\":1,\"plot\":{\"id\":\"347ab833-a443-4459-b311-0c8692793c11\",\"subtype\":\"Figure\",\"type\":\"Plot\"},\"ticker\":{\"id\":\"e25d2161-9667-4d24-bf82-9efe7aa0e609\",\"type\":\"BasicTicker\"}},\"id\":\"fcb80b30-ff0a-4983-b9d1-3523834c2df5\",\"type\":\"Grid\"},{\"attributes\":{\"fill_alpha\":{\"value\":0.1},\"fill_color\":{\"value\":\"#1f77b4\"},\"line_alpha\":{\"value\":0.1},\"line_color\":{\"value\":\"#1f77b4\"},\"size\":{\"units\":\"screen\",\"value\":5},\"x\":{\"field\":\"x\"},\"y\":{\"field\":\"y\"}},\"id\":\"1d1d97e0-dee8-497f-9036-e87f12e4d7e4\",\"type\":\"Circle\"},{\"attributes\":{\"end\":{\"id\":\"a97759c9-c373-491d-9de0-e2a5508c3aa2\",\"type\":\"OpenHead\"},\"line_color\":{\"value\":\"gray\"},\"plot\":{\"id\":\"347ab833-a443-4459-b311-0c8692793c11\",\"subtype\":\"Figure\",\"type\":\"Plot\"},\"source\":null,\"start\":null,\"x_end\":{\"value\":0.02905640531580811},\"x_start\":{\"value\":-0.3753995515330198},\"y_end\":{\"value\":-0.2549101256491246},\"y_start\":{\"value\":0.10271058883660525}},\"id\":\"a2051f56-ebea-42ff-b524-0f31028a5545\",\"type\":\"Arrow\"},{\"attributes\":{\"callback\":null,\"data\":{},\"selected\":null,\"selection_policy\":null},\"id\":\"00842943-6833-441c-a814-3aeb0409e158\",\"type\":\"ColumnDataSource\"},{\"attributes\":{\"line_color\":{\"value\":\"firebrick\"},\"line_width\":{\"value\":2},\"plot\":null,\"size\":10},\"id\":\"7fd73d40-daee-4112-ba16-81ea8ab6c487\",\"type\":\"OpenHead\"},{\"attributes\":{\"fill_color\":{\"value\":\"magenta\"},\"line_color\":{\"value\":\"magenta\"},\"size\":{\"units\":\"screen\",\"value\":5},\"x\":{\"value\":0.05594547785535445},\"y\":{\"value\":0.02419682182128144}},\"id\":\"814d1bb4-a9a2-476d-8d21-3c2771745f2d\",\"type\":\"Circle\"},{\"attributes\":{\"line_color\":{\"value\":\"firebrick\"},\"line_width\":{\"value\":2},\"plot\":null,\"size\":10},\"id\":\"8c6e4f59-cce4-4911-a30d-7799490b941b\",\"type\":\"OpenHead\"},{\"attributes\":{\"callback\":null,\"data\":{},\"selected\":null,\"selection_policy\":null},\"id\":\"eb58ced8-a1f9-4790-8916-79f52f85b515\",\"type\":\"ColumnDataSource\"},{\"attributes\":{\"end\":{\"id\":\"d8187662-4202-443e-a7d9-23808a888ec9\",\"type\":\"OpenHead\"},\"line_color\":{\"value\":\"gray\"},\"plot\":{\"id\":\"347ab833-a443-4459-b311-0c8692793c11\",\"subtype\":\"Figure\",\"type\":\"Plot\"},\"source\":null,\"start\":null,\"x_end\":{\"value\":-0.3753995515330198},\"x_start\":{\"value\":0.028592598456574383},\"y_end\":{\"value\":0.10271058883660525},\"y_start\":{\"value\":-0.2618405527854391}},\"id\":\"411f427b-4968-4ec1-85dc-42c8e3bc8f8e\",\"type\":\"Arrow\"},{\"attributes\":{\"fill_alpha\":{\"value\":0.1},\"fill_color\":{\"value\":\"#1f77b4\"},\"line_alpha\":{\"value\":0.1},\"line_color\":{\"value\":\"#1f77b4\"},\"size\":{\"units\":\"screen\",\"value\":5},\"x\":{\"value\":0.05594547785535445},\"y\":{\"value\":0.02419682182128144}},\"id\":\"a059b3a1-cbb6-4c45-b6d0-d2d8ee416085\",\"type\":\"Circle\"},{\"attributes\":{\"fill_alpha\":{\"value\":0.1},\"fill_color\":{\"value\":\"#1f77b4\"},\"line_alpha\":{\"value\":0.1},\"line_color\":{\"value\":\"#1f77b4\"},\"x\":{\"value\":0.1392568190555826},\"y\":{\"value\":-0.20309194961420987}},\"id\":\"00d5c32d-1a28-4324-b511-c6c84bae9453\",\"type\":\"Circle\"},{\"attributes\":{\"end\":{\"id\":\"2d4f83ab-0357-4fd7-af4c-37f80b6bc422\",\"type\":\"OpenHead\"},\"line_color\":{\"value\":\"gray\"},\"plot\":{\"id\":\"347ab833-a443-4459-b311-0c8692793c11\",\"subtype\":\"Figure\",\"type\":\"Plot\"},\"source\":null,\"start\":null,\"x_end\":{\"value\":0.08565637436716099},\"x_start\":{\"value\":0.014002850883277566},\"y_end\":{\"value\":0.169966306030903},\"y_start\":{\"value\":0.12183172910549814}},\"id\":\"cab1f7c8-aef3-4ff0-b259-b8851870a6af\",\"type\":\"Arrow\"},{\"attributes\":{\"source\":{\"id\":\"eb58ced8-a1f9-4790-8916-79f52f85b515\",\"type\":\"ColumnDataSource\"}},\"id\":\"f6a5bdfe-0c17-4b46-b58f-0195525f3353\",\"type\":\"CDSView\"},{\"attributes\":{\"data_source\":{\"id\":\"eb58ced8-a1f9-4790-8916-79f52f85b515\",\"type\":\"ColumnDataSource\"},\"glyph\":{\"id\":\"814d1bb4-a9a2-476d-8d21-3c2771745f2d\",\"type\":\"Circle\"},\"hover_glyph\":null,\"muted_glyph\":null,\"nonselection_glyph\":{\"id\":\"a059b3a1-cbb6-4c45-b6d0-d2d8ee416085\",\"type\":\"Circle\"},\"selection_glyph\":null,\"view\":{\"id\":\"f6a5bdfe-0c17-4b46-b58f-0195525f3353\",\"type\":\"CDSView\"}},\"id\":\"518ec73b-d460-4ba1-8f3c-030cf1a6fc8a\",\"type\":\"GlyphRenderer\"},{\"attributes\":{\"line_color\":{\"value\":\"firebrick\"},\"line_width\":{\"value\":2},\"plot\":null,\"size\":10},\"id\":\"8787163b-5357-47a8-abf3-15330f04a39a\",\"type\":\"OpenHead\"},{\"attributes\":{\"end\":{\"id\":\"7fd73d40-daee-4112-ba16-81ea8ab6c487\",\"type\":\"OpenHead\"},\"line_color\":{\"value\":\"gray\"},\"plot\":{\"id\":\"347ab833-a443-4459-b311-0c8692793c11\",\"subtype\":\"Figure\",\"type\":\"Plot\"},\"source\":null,\"start\":null,\"x_end\":{\"value\":-0.27104259894874255},\"x_start\":{\"value\":0.08565637436716099},\"y_end\":{\"value\":0.1062401582720832},\"y_start\":{\"value\":0.169966306030903}},\"id\":\"01b8bf87-b94d-490a-b0f8-5c9643b56ecb\",\"type\":\"Arrow\"},{\"attributes\":{\"data_source\":{\"id\":\"00842943-6833-441c-a814-3aeb0409e158\",\"type\":\"ColumnDataSource\"},\"glyph\":{\"id\":\"df3cbed6-7395-435c-aa4c-169c732869c4\",\"type\":\"Circle\"},\"hover_glyph\":null,\"muted_glyph\":null,\"nonselection_glyph\":{\"id\":\"308237e1-56f5-4633-b7dc-93d69b3b060a\",\"type\":\"Circle\"},\"selection_glyph\":null,\"view\":{\"id\":\"6721e177-91bf-426b-b4ed-d5ffc7a5d788\",\"type\":\"CDSView\"}},\"id\":\"20a5c39f-cd62-4a96-af0d-e4d3913d4d88\",\"type\":\"GlyphRenderer\"},{\"attributes\":{\"line_color\":{\"value\":\"firebrick\"},\"line_width\":{\"value\":2},\"plot\":null,\"size\":10},\"id\":\"b671087f-fd49-4fc9-bf59-c254a0957eeb\",\"type\":\"OpenHead\"},{\"attributes\":{\"callback\":null,\"data\":{},\"selected\":null,\"selection_policy\":null},\"id\":\"0717cf48-bf0e-454c-8299-4bc0d6fc7d67\",\"type\":\"ColumnDataSource\"},{\"attributes\":{\"source\":{\"id\":\"f011c53f-e8a7-4c7c-9830-ff8fdc912a23\",\"type\":\"ColumnDataSource\"}},\"id\":\"ed67240e-ca62-4683-b5a8-428e01fd79d3\",\"type\":\"CDSView\"},{\"attributes\":{\"end\":{\"id\":\"8787163b-5357-47a8-abf3-15330f04a39a\",\"type\":\"OpenHead\"},\"line_color\":{\"value\":\"gray\"},\"plot\":{\"id\":\"347ab833-a443-4459-b311-0c8692793c11\",\"subtype\":\"Figure\",\"type\":\"Plot\"},\"source\":null,\"start\":null,\"x_end\":{\"value\":0.09840349392002062},\"x_start\":{\"value\":-0.27104259894874255},\"y_end\":{\"value\":0.09235710014012025},\"y_start\":{\"value\":0.1062401582720832}},\"id\":\"eab6fd5a-d262-4947-85ca-62eac437ecd6\",\"type\":\"Arrow\"},{\"attributes\":{\"fill_color\":{\"value\":\"green\"},\"line_color\":{\"value\":\"green\"},\"size\":{\"units\":\"screen\",\"value\":10},\"x\":{\"value\":0.0931300660718028},\"y\":{\"value\":0.08760349099838793}},\"id\":\"df3cbed6-7395-435c-aa4c-169c732869c4\",\"type\":\"Circle\"},{\"attributes\":{\"line_color\":{\"value\":\"firebrick\"},\"line_width\":{\"value\":2},\"plot\":null,\"size\":10},\"id\":\"a5dba983-7f6c-48a8-85bb-380c30245ba4\",\"type\":\"OpenHead\"},{\"attributes\":{\"source\":{\"id\":\"00842943-6833-441c-a814-3aeb0409e158\",\"type\":\"ColumnDataSource\"}},\"id\":\"6721e177-91bf-426b-b4ed-d5ffc7a5d788\",\"type\":\"CDSView\"},{\"attributes\":{\"end\":{\"id\":\"b671087f-fd49-4fc9-bf59-c254a0957eeb\",\"type\":\"OpenHead\"},\"line_color\":{\"value\":\"gray\"},\"plot\":{\"id\":\"347ab833-a443-4459-b311-0c8692793c11\",\"subtype\":\"Figure\",\"type\":\"Plot\"},\"source\":null,\"start\":null,\"x_end\":{\"value\":0.13895662057438207},\"x_start\":{\"value\":0.09840349392002062},\"y_end\":{\"value\":0.06309114756032749},\"y_start\":{\"value\":0.09235710014012025}},\"id\":\"cf1c117d-4ad6-42ea-99a4-e4bb8c39becd\",\"type\":\"Arrow\"},{\"attributes\":{\"fill_alpha\":{\"value\":0.1},\"fill_color\":{\"value\":\"#1f77b4\"},\"line_alpha\":{\"value\":0.1},\"line_color\":{\"value\":\"#1f77b4\"},\"size\":{\"units\":\"screen\",\"value\":10},\"x\":{\"value\":0.0931300660718028},\"y\":{\"value\":0.08760349099838793}},\"id\":\"308237e1-56f5-4633-b7dc-93d69b3b060a\",\"type\":\"Circle\"},{\"attributes\":{\"data_source\":{\"id\":\"0717cf48-bf0e-454c-8299-4bc0d6fc7d67\",\"type\":\"ColumnDataSource\"},\"glyph\":{\"id\":\"dd7b2cad-dd01-4b99-934d-77086cc432c6\",\"type\":\"Circle\"},\"hover_glyph\":null,\"muted_glyph\":null,\"nonselection_glyph\":{\"id\":\"a0ab5549-6eb0-4a61-afc9-39062ca92a7b\",\"type\":\"Circle\"},\"selection_glyph\":null,\"view\":{\"id\":\"2d271d92-d267-4602-9458-2414c9b34546\",\"type\":\"CDSView\"}},\"id\":\"c5d66b4d-f272-4008-8554-229f36d1d5ce\",\"type\":\"GlyphRenderer\"},{\"attributes\":{\"line_color\":{\"value\":\"firebrick\"},\"line_width\":{\"value\":2},\"plot\":null,\"size\":10},\"id\":\"8de605f1-8f08-49e8-8fe2-19ebe96115db\",\"type\":\"OpenHead\"},{\"attributes\":{\"end\":{\"id\":\"a5dba983-7f6c-48a8-85bb-380c30245ba4\",\"type\":\"OpenHead\"},\"line_color\":{\"value\":\"gray\"},\"plot\":{\"id\":\"347ab833-a443-4459-b311-0c8692793c11\",\"subtype\":\"Figure\",\"type\":\"Plot\"},\"source\":null,\"start\":null,\"x_end\":{\"value\":0.12950604824184558},\"x_start\":{\"value\":0.13895662057438207},\"y_end\":{\"value\":-0.13000772246189501},\"y_start\":{\"value\":0.06309114756032749}},\"id\":\"ddb4367d-fa94-4767-ae80-484c44304ecb\",\"type\":\"Arrow\"},{\"attributes\":{\"line_color\":{\"value\":\"firebrick\"},\"line_width\":{\"value\":2},\"plot\":null,\"size\":10},\"id\":\"acb9e7cb-35d7-4240-a831-cc0a0d06c9f9\",\"type\":\"OpenHead\"},{\"attributes\":{\"fill_color\":{\"value\":\"red\"},\"line_color\":{\"value\":\"red\"},\"size\":{\"units\":\"screen\",\"value\":10},\"x\":{\"value\":0.3708714345834348},\"y\":{\"value\":-0.015025144481799394}},\"id\":\"dd7b2cad-dd01-4b99-934d-77086cc432c6\",\"type\":\"Circle\"},{\"attributes\":{\"end\":{\"id\":\"8de605f1-8f08-49e8-8fe2-19ebe96115db\",\"type\":\"OpenHead\"},\"line_color\":{\"value\":\"gray\"},\"plot\":{\"id\":\"347ab833-a443-4459-b311-0c8692793c11\",\"subtype\":\"Figure\",\"type\":\"Plot\"},\"source\":null,\"start\":null,\"x_end\":{\"value\":-0.00014414656968373744},\"x_start\":{\"value\":0.12950604824184558},\"y_end\":{\"value\":0.3766038635424055},\"y_start\":{\"value\":-0.13000772246189501}},\"id\":\"6ac8f21d-1b94-403e-8280-d9fe6910e3c8\",\"type\":\"Arrow\"},{\"attributes\":{\"source\":{\"id\":\"0717cf48-bf0e-454c-8299-4bc0d6fc7d67\",\"type\":\"ColumnDataSource\"}},\"id\":\"2d271d92-d267-4602-9458-2414c9b34546\",\"type\":\"CDSView\"},{\"attributes\":{\"data_source\":{\"id\":\"f011c53f-e8a7-4c7c-9830-ff8fdc912a23\",\"type\":\"ColumnDataSource\"},\"glyph\":{\"id\":\"dc8dc1af-cea4-493b-8c6c-d8fcbf8d1706\",\"type\":\"Circle\"},\"hover_glyph\":null,\"muted_glyph\":null,\"nonselection_glyph\":{\"id\":\"00d5c32d-1a28-4324-b511-c6c84bae9453\",\"type\":\"Circle\"},\"selection_glyph\":null,\"view\":{\"id\":\"ed67240e-ca62-4683-b5a8-428e01fd79d3\",\"type\":\"CDSView\"}},\"id\":\"1db745d9-cfee-44a7-8a51-a238a358f252\",\"type\":\"GlyphRenderer\"},{\"attributes\":{\"line_color\":{\"value\":\"firebrick\"},\"line_width\":{\"value\":2},\"plot\":null,\"size\":10},\"id\":\"5c6a97b9-5208-4f47-a522-649286a9e722\",\"type\":\"OpenHead\"},{\"attributes\":{\"fill_alpha\":{\"value\":0.1},\"fill_color\":{\"value\":\"#1f77b4\"},\"line_alpha\":{\"value\":0.1},\"line_color\":{\"value\":\"#1f77b4\"},\"size\":{\"units\":\"screen\",\"value\":10},\"x\":{\"value\":0.3708714345834348},\"y\":{\"value\":-0.015025144481799394}},\"id\":\"a0ab5549-6eb0-4a61-afc9-39062ca92a7b\",\"type\":\"Circle\"},{\"attributes\":{\"end\":{\"id\":\"acb9e7cb-35d7-4240-a831-cc0a0d06c9f9\",\"type\":\"OpenHead\"},\"line_color\":{\"value\":\"gray\"},\"plot\":{\"id\":\"347ab833-a443-4459-b311-0c8692793c11\",\"subtype\":\"Figure\",\"type\":\"Plot\"},\"source\":null,\"start\":null,\"x_end\":{\"value\":0.1569844583470701},\"x_start\":{\"value\":-0.00014414656968373744},\"y_end\":{\"value\":-0.2889971105351218},\"y_start\":{\"value\":0.3766038635424055}},\"id\":\"c7ac06af-202f-4a92-80f4-9c956f444136\",\"type\":\"Arrow\"},{\"attributes\":{\"line_color\":{\"value\":\"firebrick\"},\"line_width\":{\"value\":2},\"plot\":null,\"size\":10},\"id\":\"e67f42b8-cd28-4f7d-90e6-78d7d02613e7\",\"type\":\"OpenHead\"},{\"attributes\":{\"end\":{\"id\":\"5c6a97b9-5208-4f47-a522-649286a9e722\",\"type\":\"OpenHead\"},\"line_color\":{\"value\":\"gray\"},\"plot\":{\"id\":\"347ab833-a443-4459-b311-0c8692793c11\",\"subtype\":\"Figure\",\"type\":\"Plot\"},\"source\":null,\"start\":null,\"x_end\":{\"value\":-0.019333474930818086},\"x_start\":{\"value\":0.1569844583470701},\"y_end\":{\"value\":0.01955226229662152},\"y_start\":{\"value\":-0.2889971105351218}},\"id\":\"ad4d455d-3bdf-475a-9766-b4452120b796\",\"type\":\"Arrow\"},{\"attributes\":{\"line_color\":{\"value\":\"firebrick\"},\"line_width\":{\"value\":2},\"plot\":null,\"size\":10},\"id\":\"4934da73-b9b7-4656-9c81-21800cb63383\",\"type\":\"OpenHead\"},{\"attributes\":{\"end\":{\"id\":\"e67f42b8-cd28-4f7d-90e6-78d7d02613e7\",\"type\":\"OpenHead\"},\"line_color\":{\"value\":\"gray\"},\"plot\":{\"id\":\"347ab833-a443-4459-b311-0c8692793c11\",\"subtype\":\"Figure\",\"type\":\"Plot\"},\"source\":null,\"start\":null,\"x_end\":{\"value\":0.17848777840592475},\"x_start\":{\"value\":-0.019333474930818086},\"y_end\":{\"value\":-0.292482069687605},\"y_start\":{\"value\":0.01955226229662152}},\"id\":\"9a24fd37-932c-4a25-abf7-37e2c1a67017\",\"type\":\"Arrow\"},{\"attributes\":{\"line_color\":{\"value\":\"firebrick\"},\"line_width\":{\"value\":2},\"plot\":null,\"size\":10},\"id\":\"9ef76164-a8b3-46a6-9aef-27768d975981\",\"type\":\"OpenHead\"},{\"attributes\":{\"end\":{\"id\":\"4934da73-b9b7-4656-9c81-21800cb63383\",\"type\":\"OpenHead\"},\"line_color\":{\"value\":\"gray\"},\"plot\":{\"id\":\"347ab833-a443-4459-b311-0c8692793c11\",\"subtype\":\"Figure\",\"type\":\"Plot\"},\"source\":null,\"start\":null,\"x_end\":{\"value\":0.042743117357312836},\"x_start\":{\"value\":0.17848777840592475},\"y_end\":{\"value\":-0.22451322795712433},\"y_start\":{\"value\":-0.292482069687605}},\"id\":\"65c1922c-a821-47c5-b95b-5ea9489c3405\",\"type\":\"Arrow\"},{\"attributes\":{\"line_color\":{\"value\":\"firebrick\"},\"line_width\":{\"value\":2},\"plot\":null,\"size\":10},\"id\":\"512b0039-e17a-4312-a7a0-554b2b7dbac5\",\"type\":\"OpenHead\"},{\"attributes\":{\"fill_color\":{\"value\":\"black\"},\"x\":{\"value\":0.1392568190555826},\"y\":{\"value\":-0.20309194961420987}},\"id\":\"dc8dc1af-cea4-493b-8c6c-d8fcbf8d1706\",\"type\":\"Circle\"},{\"attributes\":{\"end\":{\"id\":\"9ef76164-a8b3-46a6-9aef-27768d975981\",\"type\":\"OpenHead\"},\"line_color\":{\"value\":\"gray\"},\"plot\":{\"id\":\"347ab833-a443-4459-b311-0c8692793c11\",\"subtype\":\"Figure\",\"type\":\"Plot\"},\"source\":null,\"start\":null,\"x_end\":{\"value\":-0.36076138650994777},\"x_start\":{\"value\":0.042743117357312836},\"y_end\":{\"value\":0.09994951731474089},\"y_start\":{\"value\":-0.22451322795712433}},\"id\":\"0bcb76e4-4369-42c2-9211-560b04cec1cb\",\"type\":\"Arrow\"},{\"attributes\":{\"line_color\":{\"value\":\"firebrick\"},\"line_width\":{\"value\":2},\"plot\":null,\"size\":10},\"id\":\"9ef27647-768a-475b-89bd-d0b941ff6770\",\"type\":\"OpenHead\"},{\"attributes\":{\"end\":{\"id\":\"512b0039-e17a-4312-a7a0-554b2b7dbac5\",\"type\":\"OpenHead\"},\"line_color\":{\"value\":\"gray\"},\"plot\":{\"id\":\"347ab833-a443-4459-b311-0c8692793c11\",\"subtype\":\"Figure\",\"type\":\"Plot\"},\"source\":null,\"start\":null,\"x_end\":{\"value\":0.03221390381939985},\"x_start\":{\"value\":-0.36076138650994777},\"y_end\":{\"value\":-0.2617911627294736},\"y_start\":{\"value\":0.09994951731474089}},\"id\":\"497e8dea-2f4d-4e72-bc5a-f0bde9ca5a6e\",\"type\":\"Arrow\"},{\"attributes\":{\"line_color\":{\"value\":\"firebrick\"},\"line_width\":{\"value\":2},\"plot\":null,\"size\":10},\"id\":\"329ab291-d1dd-4666-95de-076e0ba5acee\",\"type\":\"OpenHead\"},{\"attributes\":{\"end\":{\"id\":\"9ef27647-768a-475b-89bd-d0b941ff6770\",\"type\":\"OpenHead\"},\"line_color\":{\"value\":\"gray\"},\"plot\":{\"id\":\"347ab833-a443-4459-b311-0c8692793c11\",\"subtype\":\"Figure\",\"type\":\"Plot\"},\"source\":null,\"start\":null,\"x_end\":{\"value\":-0.36305803200808845},\"x_start\":{\"value\":0.03221390381939985},\"y_end\":{\"value\":0.1007954778775079},\"y_start\":{\"value\":-0.2617911627294736}},\"id\":\"05190aa1-917f-4cbc-9ded-eaa4063cd5b2\",\"type\":\"Arrow\"},{\"attributes\":{\"line_color\":{\"value\":\"firebrick\"},\"line_width\":{\"value\":2},\"plot\":null,\"size\":10},\"id\":\"d8187662-4202-443e-a7d9-23808a888ec9\",\"type\":\"OpenHead\"},{\"attributes\":{\"end\":{\"id\":\"329ab291-d1dd-4666-95de-076e0ba5acee\",\"type\":\"OpenHead\"},\"line_color\":{\"value\":\"gray\"},\"plot\":{\"id\":\"347ab833-a443-4459-b311-0c8692793c11\",\"subtype\":\"Figure\",\"type\":\"Plot\"},\"source\":null,\"start\":null,\"x_end\":{\"value\":0.028592598456574383},\"x_start\":{\"value\":-0.36305803200808845},\"y_end\":{\"value\":-0.2618405527854391},\"y_start\":{\"value\":0.1007954778775079}},\"id\":\"e2ded1dd-c58e-474b-9e68-c7a618d8d249\",\"type\":\"Arrow\"},{\"attributes\":{\"line_color\":{\"value\":\"firebrick\"},\"line_width\":{\"value\":2},\"plot\":null,\"size\":10},\"id\":\"a97759c9-c373-491d-9de0-e2a5508c3aa2\",\"type\":\"OpenHead\"}],\"root_ids\":[\"347ab833-a443-4459-b311-0c8692793c11\"]},\"title\":\"Bokeh Application\",\"version\":\"0.12.15\"}};\n",
       "  var render_items = [{\"docid\":\"16cfbd7b-b5f2-4e06-9035-9a18049e5434\",\"elementid\":\"e38ee173-28d2-4a73-a4d0-aa968c67dc81\",\"modelid\":\"347ab833-a443-4459-b311-0c8692793c11\"}];\n",
       "  root.Bokeh.embed.embed_items_notebook(docs_json, render_items);\n",
       "\n",
       "  }\n",
       "  if (root.Bokeh !== undefined) {\n",
       "    embed_document(root);\n",
       "  } else {\n",
       "    var attempts = 0;\n",
       "    var timer = setInterval(function(root) {\n",
       "      if (root.Bokeh !== undefined) {\n",
       "        embed_document(root);\n",
       "        clearInterval(timer);\n",
       "      }\n",
       "      attempts++;\n",
       "      if (attempts > 100) {\n",
       "        console.log(\"Bokeh: ERROR: Unable to run BokehJS code because BokehJS library is missing\")\n",
       "        clearInterval(timer);\n",
       "      }\n",
       "    }, 10, root)\n",
       "  }\n",
       "})(window);"
      ],
      "application/vnd.bokehjs_exec.v0+json": ""
     },
     "metadata": {
      "application/vnd.bokehjs_exec.v0+json": {
       "id": "347ab833-a443-4459-b311-0c8692793c11"
      }
     },
     "output_type": "display_data"
    }
   ],
   "source": [
    "show(p)"
   ]
  },
  {
   "cell_type": "code",
   "execution_count": 22,
   "metadata": {},
   "outputs": [],
   "source": [
    "from collections import namedtuple"
   ]
  },
  {
   "cell_type": "code",
   "execution_count": 23,
   "metadata": {},
   "outputs": [
    {
     "data": {
      "text/plain": [
       "OrderedDict([('x', 11), ('y', 22)])"
      ]
     },
     "execution_count": 23,
     "metadata": {},
     "output_type": "execute_result"
    }
   ],
   "source": [
    "Point = namedtuple('Point', ['x', 'y'])\n",
    "p = Point(11, y=22)\n",
    "p._asdict()"
   ]
  },
  {
   "cell_type": "code",
   "execution_count": 24,
   "metadata": {},
   "outputs": [],
   "source": [
    "Point3D = namedtuple('Point3D', Point._fields + ('z',))"
   ]
  },
  {
   "cell_type": "code",
   "execution_count": 25,
   "metadata": {},
   "outputs": [
    {
     "data": {
      "text/plain": [
       "OrderedDict([('x', 11), ('y', 22), ('z', 3)])"
      ]
     },
     "execution_count": 25,
     "metadata": {},
     "output_type": "execute_result"
    }
   ],
   "source": [
    "p_asdict = p._asdict()\n",
    "p_asdict['z'] = 3\n",
    "p_asdict"
   ]
  },
  {
   "cell_type": "code",
   "execution_count": 26,
   "metadata": {},
   "outputs": [
    {
     "data": {
      "text/plain": [
       "Point3D(x=11, y=22, z=3)"
      ]
     },
     "execution_count": 26,
     "metadata": {},
     "output_type": "execute_result"
    }
   ],
   "source": [
    "p3D = Point3D(**p_asdict)\n",
    "p3D"
   ]
  },
  {
   "cell_type": "code",
   "execution_count": 27,
   "metadata": {},
   "outputs": [],
   "source": [
    "x ={\n",
    "        \"day\": \"20\",\n",
    "        \"month\": \"06\",\n",
    "        \"year\": \"2018\"\n",
    "    }"
   ]
  },
  {
   "cell_type": "code",
   "execution_count": 28,
   "metadata": {},
   "outputs": [
    {
     "data": {
      "text/plain": [
       "{'day': '20', 'month': '06', 'year': '2018'}"
      ]
     },
     "execution_count": 28,
     "metadata": {},
     "output_type": "execute_result"
    }
   ],
   "source": [
    "x"
   ]
  },
  {
   "cell_type": "code",
   "execution_count": 29,
   "metadata": {},
   "outputs": [
    {
     "data": {
      "text/plain": [
       "{'touched': True, 'value': {'value1': '20', 'value2': '06', 'value3': '2018'}}"
      ]
     },
     "execution_count": 29,
     "metadata": {},
     "output_type": "execute_result"
    }
   ],
   "source": [
    "def value_touched_dict(value):\n",
    "    if isinstance(value, dict) and value.get(\"day\"):\n",
    "        value[\"value1\"] = value.pop(\"day\")\n",
    "        value[\"value2\"] = value.pop(\"month\")\n",
    "        value[\"value3\"] = value.pop(\"year\")\n",
    "    return {\"value\": value,\n",
    "            \"touched\": True}\n",
    "value_touched_dict(x)"
   ]
  },
  {
   "cell_type": "code",
   "execution_count": 30,
   "metadata": {},
   "outputs": [
    {
     "data": {
      "text/plain": [
       "{'touched': True, 'value': 'x'}"
      ]
     },
     "execution_count": 30,
     "metadata": {},
     "output_type": "execute_result"
    }
   ],
   "source": [
    "value_touched_dict('x')"
   ]
  },
  {
   "cell_type": "code",
   "execution_count": null,
   "metadata": {},
   "outputs": [],
   "source": []
  }
 ],
 "metadata": {
  "kernelspec": {
   "display_name": "Python 3",
   "language": "python",
   "name": "python3"
  },
  "language_info": {
   "codemirror_mode": {
    "name": "ipython",
    "version": 3
   },
   "file_extension": ".py",
   "mimetype": "text/x-python",
   "name": "python",
   "nbconvert_exporter": "python",
   "pygments_lexer": "ipython3",
   "version": "3.6.5"
  }
 },
 "nbformat": 4,
 "nbformat_minor": 2
}
