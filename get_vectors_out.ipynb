{
 "cells": [
  {
   "cell_type": "code",
   "execution_count": 1,
   "metadata": {},
   "outputs": [
    {
     "name": "stderr",
     "output_type": "stream",
     "text": [
      "/anaconda/lib/python3.6/site-packages/h5py/__init__.py:34: FutureWarning: Conversion of the second argument of issubdtype from `float` to `np.floating` is deprecated. In future, it will be treated as `np.float64 == np.dtype(float).type`.\n",
      "  from ._conv import register_converters as _register_converters\n"
     ]
    },
    {
     "name": "stdout",
     "output_type": "stream",
     "text": [
      "INFO:tensorflow:Restoring parameters from models/dialogue_embed/policy_0_EmbeddingPolicy/tensorflow_embedding.ckpt\n"
     ]
    },
    {
     "name": "stderr",
     "output_type": "stream",
     "text": [
      "/anaconda/lib/python3.6/site-packages/pykwalify/core.py:99: UnsafeLoaderWarning: \n",
      "The default 'Loader' for 'load(stream)' without further arguments can be unsafe.\n",
      "Use 'load(stream, Loader=ruamel.yaml.Loader)' explicitly if that is OK.\n",
      "Alternatively include the following in your code:\n",
      "\n",
      "  import warnings\n",
      "  warnings.simplefilter('ignore', ruamel.yaml.error.UnsafeLoaderWarning)\n",
      "\n",
      "In most other cases you should consider using 'safe_load(stream)'\n",
      "  data = yaml.load(stream)\n"
     ]
    },
    {
     "data": {
      "text/html": [
       "\n",
       "    <div class=\"bk-root\">\n",
       "        <a href=\"https://bokeh.pydata.org\" target=\"_blank\" class=\"bk-logo bk-logo-small bk-logo-notebook\"></a>\n",
       "        <span id=\"5c55d99c-ead1-45f7-aad6-b6df4afffd14\">Loading BokehJS ...</span>\n",
       "    </div>"
      ]
     },
     "metadata": {},
     "output_type": "display_data"
    },
    {
     "data": {
      "application/javascript": [
       "\n",
       "(function(root) {\n",
       "  function now() {\n",
       "    return new Date();\n",
       "  }\n",
       "\n",
       "  var force = true;\n",
       "\n",
       "  if (typeof (root._bokeh_onload_callbacks) === \"undefined\" || force === true) {\n",
       "    root._bokeh_onload_callbacks = [];\n",
       "    root._bokeh_is_loading = undefined;\n",
       "  }\n",
       "\n",
       "  var JS_MIME_TYPE = 'application/javascript';\n",
       "  var HTML_MIME_TYPE = 'text/html';\n",
       "  var EXEC_MIME_TYPE = 'application/vnd.bokehjs_exec.v0+json';\n",
       "  var CLASS_NAME = 'output_bokeh rendered_html';\n",
       "\n",
       "  /**\n",
       "   * Render data to the DOM node\n",
       "   */\n",
       "  function render(props, node) {\n",
       "    var script = document.createElement(\"script\");\n",
       "    node.appendChild(script);\n",
       "  }\n",
       "\n",
       "  /**\n",
       "   * Handle when an output is cleared or removed\n",
       "   */\n",
       "  function handleClearOutput(event, handle) {\n",
       "    var cell = handle.cell;\n",
       "\n",
       "    var id = cell.output_area._bokeh_element_id;\n",
       "    var server_id = cell.output_area._bokeh_server_id;\n",
       "    // Clean up Bokeh references\n",
       "    if (id !== undefined) {\n",
       "      Bokeh.index[id].model.document.clear();\n",
       "      delete Bokeh.index[id];\n",
       "    }\n",
       "\n",
       "    if (server_id !== undefined) {\n",
       "      // Clean up Bokeh references\n",
       "      var cmd = \"from bokeh.io.state import curstate; print(curstate().uuid_to_server['\" + server_id + \"'].get_sessions()[0].document.roots[0]._id)\";\n",
       "      cell.notebook.kernel.execute(cmd, {\n",
       "        iopub: {\n",
       "          output: function(msg) {\n",
       "            var element_id = msg.content.text.trim();\n",
       "            Bokeh.index[element_id].model.document.clear();\n",
       "            delete Bokeh.index[element_id];\n",
       "          }\n",
       "        }\n",
       "      });\n",
       "      // Destroy server and session\n",
       "      var cmd = \"import bokeh.io.notebook as ion; ion.destroy_server('\" + server_id + \"')\";\n",
       "      cell.notebook.kernel.execute(cmd);\n",
       "    }\n",
       "  }\n",
       "\n",
       "  /**\n",
       "   * Handle when a new output is added\n",
       "   */\n",
       "  function handleAddOutput(event, handle) {\n",
       "    var output_area = handle.output_area;\n",
       "    var output = handle.output;\n",
       "\n",
       "    // limit handleAddOutput to display_data with EXEC_MIME_TYPE content only\n",
       "    if ((output.output_type != \"display_data\") || (!output.data.hasOwnProperty(EXEC_MIME_TYPE))) {\n",
       "      return\n",
       "    }\n",
       "\n",
       "    var toinsert = output_area.element.find(\".\" + CLASS_NAME.split(' ')[0]);\n",
       "\n",
       "    if (output.metadata[EXEC_MIME_TYPE][\"id\"] !== undefined) {\n",
       "      toinsert[toinsert.length - 1].firstChild.textContent = output.data[JS_MIME_TYPE];\n",
       "      // store reference to embed id on output_area\n",
       "      output_area._bokeh_element_id = output.metadata[EXEC_MIME_TYPE][\"id\"];\n",
       "    }\n",
       "    if (output.metadata[EXEC_MIME_TYPE][\"server_id\"] !== undefined) {\n",
       "      var bk_div = document.createElement(\"div\");\n",
       "      bk_div.innerHTML = output.data[HTML_MIME_TYPE];\n",
       "      var script_attrs = bk_div.children[0].attributes;\n",
       "      for (var i = 0; i < script_attrs.length; i++) {\n",
       "        toinsert[toinsert.length - 1].firstChild.setAttribute(script_attrs[i].name, script_attrs[i].value);\n",
       "      }\n",
       "      // store reference to server id on output_area\n",
       "      output_area._bokeh_server_id = output.metadata[EXEC_MIME_TYPE][\"server_id\"];\n",
       "    }\n",
       "  }\n",
       "\n",
       "  function register_renderer(events, OutputArea) {\n",
       "\n",
       "    function append_mime(data, metadata, element) {\n",
       "      // create a DOM node to render to\n",
       "      var toinsert = this.create_output_subarea(\n",
       "        metadata,\n",
       "        CLASS_NAME,\n",
       "        EXEC_MIME_TYPE\n",
       "      );\n",
       "      this.keyboard_manager.register_events(toinsert);\n",
       "      // Render to node\n",
       "      var props = {data: data, metadata: metadata[EXEC_MIME_TYPE]};\n",
       "      render(props, toinsert[toinsert.length - 1]);\n",
       "      element.append(toinsert);\n",
       "      return toinsert\n",
       "    }\n",
       "\n",
       "    /* Handle when an output is cleared or removed */\n",
       "    events.on('clear_output.CodeCell', handleClearOutput);\n",
       "    events.on('delete.Cell', handleClearOutput);\n",
       "\n",
       "    /* Handle when a new output is added */\n",
       "    events.on('output_added.OutputArea', handleAddOutput);\n",
       "\n",
       "    /**\n",
       "     * Register the mime type and append_mime function with output_area\n",
       "     */\n",
       "    OutputArea.prototype.register_mime_type(EXEC_MIME_TYPE, append_mime, {\n",
       "      /* Is output safe? */\n",
       "      safe: true,\n",
       "      /* Index of renderer in `output_area.display_order` */\n",
       "      index: 0\n",
       "    });\n",
       "  }\n",
       "\n",
       "  // register the mime type if in Jupyter Notebook environment and previously unregistered\n",
       "  if (root.Jupyter !== undefined) {\n",
       "    var events = require('base/js/events');\n",
       "    var OutputArea = require('notebook/js/outputarea').OutputArea;\n",
       "\n",
       "    if (OutputArea.prototype.mime_types().indexOf(EXEC_MIME_TYPE) == -1) {\n",
       "      register_renderer(events, OutputArea);\n",
       "    }\n",
       "  }\n",
       "\n",
       "  \n",
       "  if (typeof (root._bokeh_timeout) === \"undefined\" || force === true) {\n",
       "    root._bokeh_timeout = Date.now() + 5000;\n",
       "    root._bokeh_failed_load = false;\n",
       "  }\n",
       "\n",
       "  var NB_LOAD_WARNING = {'data': {'text/html':\n",
       "     \"<div style='background-color: #fdd'>\\n\"+\n",
       "     \"<p>\\n\"+\n",
       "     \"BokehJS does not appear to have successfully loaded. If loading BokehJS from CDN, this \\n\"+\n",
       "     \"may be due to a slow or bad network connection. Possible fixes:\\n\"+\n",
       "     \"</p>\\n\"+\n",
       "     \"<ul>\\n\"+\n",
       "     \"<li>re-rerun `output_notebook()` to attempt to load from CDN again, or</li>\\n\"+\n",
       "     \"<li>use INLINE resources instead, as so:</li>\\n\"+\n",
       "     \"</ul>\\n\"+\n",
       "     \"<code>\\n\"+\n",
       "     \"from bokeh.resources import INLINE\\n\"+\n",
       "     \"output_notebook(resources=INLINE)\\n\"+\n",
       "     \"</code>\\n\"+\n",
       "     \"</div>\"}};\n",
       "\n",
       "  function display_loaded() {\n",
       "    var el = document.getElementById(\"5c55d99c-ead1-45f7-aad6-b6df4afffd14\");\n",
       "    if (el != null) {\n",
       "      el.textContent = \"BokehJS is loading...\";\n",
       "    }\n",
       "    if (root.Bokeh !== undefined) {\n",
       "      if (el != null) {\n",
       "        el.textContent = \"BokehJS \" + root.Bokeh.version + \" successfully loaded.\";\n",
       "      }\n",
       "    } else if (Date.now() < root._bokeh_timeout) {\n",
       "      setTimeout(display_loaded, 100)\n",
       "    }\n",
       "  }\n",
       "\n",
       "\n",
       "  function run_callbacks() {\n",
       "    try {\n",
       "      root._bokeh_onload_callbacks.forEach(function(callback) { callback() });\n",
       "    }\n",
       "    finally {\n",
       "      delete root._bokeh_onload_callbacks\n",
       "    }\n",
       "    console.info(\"Bokeh: all callbacks have finished\");\n",
       "  }\n",
       "\n",
       "  function load_libs(js_urls, callback) {\n",
       "    root._bokeh_onload_callbacks.push(callback);\n",
       "    if (root._bokeh_is_loading > 0) {\n",
       "      console.log(\"Bokeh: BokehJS is being loaded, scheduling callback at\", now());\n",
       "      return null;\n",
       "    }\n",
       "    if (js_urls == null || js_urls.length === 0) {\n",
       "      run_callbacks();\n",
       "      return null;\n",
       "    }\n",
       "    console.log(\"Bokeh: BokehJS not loaded, scheduling load and callback at\", now());\n",
       "    root._bokeh_is_loading = js_urls.length;\n",
       "    for (var i = 0; i < js_urls.length; i++) {\n",
       "      var url = js_urls[i];\n",
       "      var s = document.createElement('script');\n",
       "      s.src = url;\n",
       "      s.async = false;\n",
       "      s.onreadystatechange = s.onload = function() {\n",
       "        root._bokeh_is_loading--;\n",
       "        if (root._bokeh_is_loading === 0) {\n",
       "          console.log(\"Bokeh: all BokehJS libraries loaded\");\n",
       "          run_callbacks()\n",
       "        }\n",
       "      };\n",
       "      s.onerror = function() {\n",
       "        console.warn(\"failed to load library \" + url);\n",
       "      };\n",
       "      console.log(\"Bokeh: injecting script tag for BokehJS library: \", url);\n",
       "      document.getElementsByTagName(\"head\")[0].appendChild(s);\n",
       "    }\n",
       "  };var element = document.getElementById(\"5c55d99c-ead1-45f7-aad6-b6df4afffd14\");\n",
       "  if (element == null) {\n",
       "    console.log(\"Bokeh: ERROR: autoload.js configured with elementid '5c55d99c-ead1-45f7-aad6-b6df4afffd14' but no matching script tag was found. \")\n",
       "    return false;\n",
       "  }\n",
       "\n",
       "  var js_urls = [\"https://cdn.pydata.org/bokeh/release/bokeh-0.12.15.min.js\", \"https://cdn.pydata.org/bokeh/release/bokeh-widgets-0.12.15.min.js\", \"https://cdn.pydata.org/bokeh/release/bokeh-tables-0.12.15.min.js\", \"https://cdn.pydata.org/bokeh/release/bokeh-gl-0.12.15.min.js\"];\n",
       "\n",
       "  var inline_js = [\n",
       "    function(Bokeh) {\n",
       "      Bokeh.set_log_level(\"info\");\n",
       "    },\n",
       "    \n",
       "    function(Bokeh) {\n",
       "      \n",
       "    },\n",
       "    function(Bokeh) {\n",
       "      console.log(\"Bokeh: injecting CSS: https://cdn.pydata.org/bokeh/release/bokeh-0.12.15.min.css\");\n",
       "      Bokeh.embed.inject_css(\"https://cdn.pydata.org/bokeh/release/bokeh-0.12.15.min.css\");\n",
       "      console.log(\"Bokeh: injecting CSS: https://cdn.pydata.org/bokeh/release/bokeh-widgets-0.12.15.min.css\");\n",
       "      Bokeh.embed.inject_css(\"https://cdn.pydata.org/bokeh/release/bokeh-widgets-0.12.15.min.css\");\n",
       "      console.log(\"Bokeh: injecting CSS: https://cdn.pydata.org/bokeh/release/bokeh-tables-0.12.15.min.css\");\n",
       "      Bokeh.embed.inject_css(\"https://cdn.pydata.org/bokeh/release/bokeh-tables-0.12.15.min.css\");\n",
       "    }\n",
       "  ];\n",
       "\n",
       "  function run_inline_js() {\n",
       "    \n",
       "    if ((root.Bokeh !== undefined) || (force === true)) {\n",
       "      for (var i = 0; i < inline_js.length; i++) {\n",
       "        inline_js[i].call(root, root.Bokeh);\n",
       "      }if (force === true) {\n",
       "        display_loaded();\n",
       "      }} else if (Date.now() < root._bokeh_timeout) {\n",
       "      setTimeout(run_inline_js, 100);\n",
       "    } else if (!root._bokeh_failed_load) {\n",
       "      console.log(\"Bokeh: BokehJS failed to load within specified timeout.\");\n",
       "      root._bokeh_failed_load = true;\n",
       "    } else if (force !== true) {\n",
       "      var cell = $(document.getElementById(\"5c55d99c-ead1-45f7-aad6-b6df4afffd14\")).parents('.cell').data().cell;\n",
       "      cell.output_area.append_execute_result(NB_LOAD_WARNING)\n",
       "    }\n",
       "\n",
       "  }\n",
       "\n",
       "  if (root._bokeh_is_loading === 0) {\n",
       "    console.log(\"Bokeh: BokehJS loaded, going straight to plotting\");\n",
       "    run_inline_js();\n",
       "  } else {\n",
       "    load_libs(js_urls, function() {\n",
       "      console.log(\"Bokeh: BokehJS plotting callback run at\", now());\n",
       "      run_inline_js();\n",
       "    });\n",
       "  }\n",
       "}(window));"
      ],
      "application/vnd.bokehjs_load.v0+json": "\n(function(root) {\n  function now() {\n    return new Date();\n  }\n\n  var force = true;\n\n  if (typeof (root._bokeh_onload_callbacks) === \"undefined\" || force === true) {\n    root._bokeh_onload_callbacks = [];\n    root._bokeh_is_loading = undefined;\n  }\n\n  \n\n  \n  if (typeof (root._bokeh_timeout) === \"undefined\" || force === true) {\n    root._bokeh_timeout = Date.now() + 5000;\n    root._bokeh_failed_load = false;\n  }\n\n  var NB_LOAD_WARNING = {'data': {'text/html':\n     \"<div style='background-color: #fdd'>\\n\"+\n     \"<p>\\n\"+\n     \"BokehJS does not appear to have successfully loaded. If loading BokehJS from CDN, this \\n\"+\n     \"may be due to a slow or bad network connection. Possible fixes:\\n\"+\n     \"</p>\\n\"+\n     \"<ul>\\n\"+\n     \"<li>re-rerun `output_notebook()` to attempt to load from CDN again, or</li>\\n\"+\n     \"<li>use INLINE resources instead, as so:</li>\\n\"+\n     \"</ul>\\n\"+\n     \"<code>\\n\"+\n     \"from bokeh.resources import INLINE\\n\"+\n     \"output_notebook(resources=INLINE)\\n\"+\n     \"</code>\\n\"+\n     \"</div>\"}};\n\n  function display_loaded() {\n    var el = document.getElementById(\"5c55d99c-ead1-45f7-aad6-b6df4afffd14\");\n    if (el != null) {\n      el.textContent = \"BokehJS is loading...\";\n    }\n    if (root.Bokeh !== undefined) {\n      if (el != null) {\n        el.textContent = \"BokehJS \" + root.Bokeh.version + \" successfully loaded.\";\n      }\n    } else if (Date.now() < root._bokeh_timeout) {\n      setTimeout(display_loaded, 100)\n    }\n  }\n\n\n  function run_callbacks() {\n    try {\n      root._bokeh_onload_callbacks.forEach(function(callback) { callback() });\n    }\n    finally {\n      delete root._bokeh_onload_callbacks\n    }\n    console.info(\"Bokeh: all callbacks have finished\");\n  }\n\n  function load_libs(js_urls, callback) {\n    root._bokeh_onload_callbacks.push(callback);\n    if (root._bokeh_is_loading > 0) {\n      console.log(\"Bokeh: BokehJS is being loaded, scheduling callback at\", now());\n      return null;\n    }\n    if (js_urls == null || js_urls.length === 0) {\n      run_callbacks();\n      return null;\n    }\n    console.log(\"Bokeh: BokehJS not loaded, scheduling load and callback at\", now());\n    root._bokeh_is_loading = js_urls.length;\n    for (var i = 0; i < js_urls.length; i++) {\n      var url = js_urls[i];\n      var s = document.createElement('script');\n      s.src = url;\n      s.async = false;\n      s.onreadystatechange = s.onload = function() {\n        root._bokeh_is_loading--;\n        if (root._bokeh_is_loading === 0) {\n          console.log(\"Bokeh: all BokehJS libraries loaded\");\n          run_callbacks()\n        }\n      };\n      s.onerror = function() {\n        console.warn(\"failed to load library \" + url);\n      };\n      console.log(\"Bokeh: injecting script tag for BokehJS library: \", url);\n      document.getElementsByTagName(\"head\")[0].appendChild(s);\n    }\n  };var element = document.getElementById(\"5c55d99c-ead1-45f7-aad6-b6df4afffd14\");\n  if (element == null) {\n    console.log(\"Bokeh: ERROR: autoload.js configured with elementid '5c55d99c-ead1-45f7-aad6-b6df4afffd14' but no matching script tag was found. \")\n    return false;\n  }\n\n  var js_urls = [\"https://cdn.pydata.org/bokeh/release/bokeh-0.12.15.min.js\", \"https://cdn.pydata.org/bokeh/release/bokeh-widgets-0.12.15.min.js\", \"https://cdn.pydata.org/bokeh/release/bokeh-tables-0.12.15.min.js\", \"https://cdn.pydata.org/bokeh/release/bokeh-gl-0.12.15.min.js\"];\n\n  var inline_js = [\n    function(Bokeh) {\n      Bokeh.set_log_level(\"info\");\n    },\n    \n    function(Bokeh) {\n      \n    },\n    function(Bokeh) {\n      console.log(\"Bokeh: injecting CSS: https://cdn.pydata.org/bokeh/release/bokeh-0.12.15.min.css\");\n      Bokeh.embed.inject_css(\"https://cdn.pydata.org/bokeh/release/bokeh-0.12.15.min.css\");\n      console.log(\"Bokeh: injecting CSS: https://cdn.pydata.org/bokeh/release/bokeh-widgets-0.12.15.min.css\");\n      Bokeh.embed.inject_css(\"https://cdn.pydata.org/bokeh/release/bokeh-widgets-0.12.15.min.css\");\n      console.log(\"Bokeh: injecting CSS: https://cdn.pydata.org/bokeh/release/bokeh-tables-0.12.15.min.css\");\n      Bokeh.embed.inject_css(\"https://cdn.pydata.org/bokeh/release/bokeh-tables-0.12.15.min.css\");\n    }\n  ];\n\n  function run_inline_js() {\n    \n    if ((root.Bokeh !== undefined) || (force === true)) {\n      for (var i = 0; i < inline_js.length; i++) {\n        inline_js[i].call(root, root.Bokeh);\n      }if (force === true) {\n        display_loaded();\n      }} else if (Date.now() < root._bokeh_timeout) {\n      setTimeout(run_inline_js, 100);\n    } else if (!root._bokeh_failed_load) {\n      console.log(\"Bokeh: BokehJS failed to load within specified timeout.\");\n      root._bokeh_failed_load = true;\n    } else if (force !== true) {\n      var cell = $(document.getElementById(\"5c55d99c-ead1-45f7-aad6-b6df4afffd14\")).parents('.cell').data().cell;\n      cell.output_area.append_execute_result(NB_LOAD_WARNING)\n    }\n\n  }\n\n  if (root._bokeh_is_loading === 0) {\n    console.log(\"Bokeh: BokehJS loaded, going straight to plotting\");\n    run_inline_js();\n  } else {\n    load_libs(js_urls, function() {\n      console.log(\"Bokeh: BokehJS plotting callback run at\", now());\n      run_inline_js();\n    });\n  }\n}(window));"
     },
     "metadata": {},
     "output_type": "display_data"
    }
   ],
   "source": [
    "import rasa_core\n",
    "from rasa_core.agent import Agent\n",
    "from bokeh.io import output_notebook\n",
    "agent = Agent.load(\"models/dialogue_embed\")\n",
    "# agent = Agent.load(\"models/dialogue_embed_before_norm_loss\")\n",
    "output_notebook()"
   ]
  },
  {
   "cell_type": "code",
   "execution_count": 2,
   "metadata": {},
   "outputs": [],
   "source": [
    "policy = agent.policy_ensemble.policies[0]\n",
    "interpreter = agent.interpreter"
   ]
  },
  {
   "cell_type": "code",
   "execution_count": 3,
   "metadata": {},
   "outputs": [],
   "source": [
    "domain = agent.domain\n"
   ]
  },
  {
   "cell_type": "code",
   "execution_count": 4,
   "metadata": {},
   "outputs": [],
   "source": [
    "from rasa_core.training.structures import StoryGraph\n",
    "from rasa_core.training.dsl import StoryFileReader\n",
    "from rasa_core.trackers import DialogueStateTracker\n",
    "from rasa_core.channels import UserMessage\n",
    "import numpy as np\n",
    "np.set_printoptions(precision=3, suppress=True)\n",
    "\n",
    "def embedding_from_tracker(story, bot=False):\n",
    "    reader = StoryFileReader(domain, interpreter)\n",
    "    story = story.split('\\n')\n",
    "    story_steps = reader.process_lines(story)\n",
    "#     story_graph = StoryGraph(story_steps)\n",
    "    tracker = DialogueStateTracker(\n",
    "            1,\n",
    "            domain.slots\n",
    "    )\n",
    "    tracker._reset()\n",
    "    for step in story_steps:\n",
    "        events = step.explicit_events(domain)\n",
    "        for event in events:\n",
    "            tracker.update(event)\n",
    "    data_X = policy.featurizer.create_X([tracker], domain)\n",
    "\n",
    "    X, slots, prev_act = policy._create_X_slots_prev_acts(data_X)\n",
    "    x_for_no_intent = policy._create_zero_vector(X)\n",
    "    y_for_no_action = policy._create_zero_vector(prev_act)\n",
    "    y_for_action_listen = policy._create_y_for_action_listen(domain)\n",
    "    all_Y_d = policy._create_all_Y_d(X.shape[1])\n",
    "    all_Y_d_x = np.stack([all_Y_d for _ in range(X.shape[0])])\n",
    "    dial_vec = policy.session.run(policy.dial_embed, feed_dict={policy.a_in: X,\n",
    "                                           policy.b_in: all_Y_d_x,\n",
    "                                           policy.c_in: slots,\n",
    "                                           policy.b_prev_in: prev_act,\n",
    "                                           policy._dialogue_len: X.shape[1],\n",
    "                                           policy._x_for_no_intent_in: x_for_no_intent,\n",
    "                                           policy._y_for_no_action_in: y_for_no_action,\n",
    "                                           policy._y_for_action_listen_in: y_for_action_listen})\n",
    "    bot_vec = policy.session.run(policy.bot_embed, feed_dict={policy.a_in: X,\n",
    "                                           policy.b_in: all_Y_d_x,\n",
    "                                           policy.c_in: slots,\n",
    "                                           policy.b_prev_in: prev_act,\n",
    "                                           policy._dialogue_len: X.shape[1],\n",
    "                                           policy._x_for_no_intent_in: x_for_no_intent,\n",
    "                                           policy._y_for_no_action_in: y_for_no_action,\n",
    "                                           policy._y_for_action_listen_in: y_for_action_listen})\n",
    "\n",
    "    no_skip_gate = policy.session.run(policy.no_skip_gate, feed_dict={policy.a_in: X,\n",
    "                                           policy.b_in: all_Y_d_x,\n",
    "                                           policy.c_in: slots,\n",
    "                                           policy.b_prev_in: prev_act,\n",
    "                                           policy._dialogue_len: X.shape[1],\n",
    "                                           policy._x_for_no_intent_in: x_for_no_intent,\n",
    "                                           policy._y_for_no_action_in: y_for_no_action,\n",
    "                                           policy._y_for_action_listen_in: y_for_action_listen})\n",
    "    attn_embed = policy.session.run(policy.attn_embed, feed_dict={policy.a_in: X,\n",
    "                                           policy.b_in: all_Y_d_x,\n",
    "                                           policy.c_in: slots,\n",
    "                                           policy.b_prev_in: prev_act,\n",
    "                                           policy._dialogue_len: X.shape[1],\n",
    "                                           policy._x_for_no_intent_in: x_for_no_intent,\n",
    "                                           policy._y_for_no_action_in: y_for_no_action,\n",
    "                                           policy._y_for_action_listen_in: y_for_action_listen})\n",
    "    rnn_embed = policy.session.run(policy.rnn_embed, feed_dict={policy.a_in: X,\n",
    "                                           policy.b_in: all_Y_d_x,\n",
    "                                           policy.c_in: slots,\n",
    "                                           policy.b_prev_in: prev_act,\n",
    "                                           policy._dialogue_len: X.shape[1],\n",
    "                                           policy._x_for_no_intent_in: x_for_no_intent,\n",
    "                                           policy._y_for_no_action_in: y_for_no_action,\n",
    "                                           policy._y_for_action_listen_in: y_for_action_listen})\n",
    "    probs = policy.session.run(policy.alignment_history, feed_dict={policy.a_in: X,\n",
    "                                           policy.b_in: all_Y_d_x,\n",
    "                                           policy.c_in: slots,\n",
    "                                           policy.b_prev_in: prev_act,\n",
    "                                           policy._dialogue_len: X.shape[1],\n",
    "                                           policy._x_for_no_intent_in: x_for_no_intent,\n",
    "                                           policy._y_for_no_action_in: y_for_no_action,\n",
    "                                           policy._y_for_action_listen_in: y_for_action_listen})\n",
    "    sim = policy.session.run(policy.sim_op, feed_dict={policy.a_in: X,\n",
    "                                           policy.b_in: all_Y_d_x,\n",
    "                                           policy.c_in: slots,\n",
    "                                           policy.b_prev_in: prev_act,\n",
    "                                           policy._dialogue_len: X.shape[1],\n",
    "                                           policy._x_for_no_intent_in: x_for_no_intent,\n",
    "                                           policy._y_for_no_action_in: y_for_no_action,\n",
    "                                           policy._y_for_action_listen_in: y_for_action_listen})\n",
    "    del tracker\n",
    "#     print(np.shape(dial_vec))\n",
    "\n",
    "    if bot is False:\n",
    "        return (dial_vec[0,-2,:],\n",
    "                no_skip_gate[0,-2,:],\n",
    "                attn_embed[0,-2,:],\n",
    "                rnn_embed[0,-2,:],\n",
    "                probs[0][0,-2,:],\n",
    "                probs[-1][0,-2,:],\n",
    "                sim[0,-2,:])\n",
    "    else:\n",
    "        return bot_vec\n",
    "    \n",
    "def make_prediction(story):\n",
    "    dial, _,_,_,_,_, sim0 = embedding_from_tracker(story, bot=False)\n",
    "    bot = embedding_from_tracker(story, bot=True)[0,-2,:,:]\n",
    "    abs_vals = np.array([np.absolute(vec) for vec in bot])\n",
    "    norms = np.apply_along_axis(np.linalg.norm, 1, bot)\n",
    "    sims = np.dot(bot, dial)/norms\n",
    "#     name = domain.action_for_index(np.argmax(sims)).name()\n",
    "#     print(name)\n",
    "    name = domain.action_for_index(np.argmax(sim0)).name()\n",
    "#     print(name)\n",
    "#     print('---')\n",
    "#     ids = sim0.argsort()[::-1]\n",
    "#     print(ids)\n",
    "#     print(sims[ids])\n",
    "    return '- ' + name, np.max(sim0)\n",
    "#     print(dial.shape, bot.shape)"
   ]
  },
  {
   "cell_type": "code",
   "execution_count": 5,
   "metadata": {},
   "outputs": [],
   "source": [
    "# print(domain.intents)\n",
    "story_block = \"\"\"* request_hotel\n",
    "    - utter_ask_details\n",
    "* explain\n",
    "    - utter_explain_details_hotel\n",
    "    - utter_ask_details\n",
    "* chitchat\n",
    "    - utter_chitchat\n",
    "    - utter_ask_details\n",
    "* inform{\"enddate\": \"May 26th\"}\n",
    "    - slot{\"enddate\": \"May 26th\"}\n",
    "    - utter_ask_startdate\n",
    "* inform{\"startdate\": \"next week\"}\n",
    "    - slot{\"startdate\": \"next week\"}\n",
    "    - utter_ask_location\n",
    "* correct{\"startdate\": \"next week\"}\n",
    "    - slot{\"startdate\": \"next week\"}\n",
    "    - utter_correct_startdate_hotel\n",
    "    - utter_ask_location\n",
    "* explain\n",
    "    - utter_explain_location_hotel\n",
    "    - utter_ask_location\n",
    "* inform{\"location\": \"rome\"}\n",
    "    - slot{\"location\": \"rome\"}\n",
    "    - utter_ask_price\n",
    "* chitchat\n",
    "    - utter_chitchat\n",
    "    - utter_ask_price\n",
    "* chitchat\n",
    "    - utter_chitchat\n",
    "    - utter_ask_price\n",
    "* chitchat\n",
    "    - utter_chitchat\n",
    "    - utter_ask_price\n",
    "* chitchat\n",
    "    - utter_chitchat\n",
    "    - utter_ask_price\n",
    "* explain\n",
    "    - utter_explain_price_hotel\n",
    "    - utter_ask_price\n",
    "* inform{\"price\": \"expensive\"}\n",
    "    - utter_ask_people\n",
    "* inform{\"people\": \"4\"}\n",
    "    - utter_filled_slots\n",
    "    - action_search_hotel\n",
    "    - slot{\"hotel\": \"hotel\"}\n",
    "    - utter_suggest_hotel\n",
    "* chitchat\n",
    "    - utter_chitchat\n",
    "    - utter_suggest_hotel\n",
    "* affirm\n",
    "    - utter_happy\"\"\""
   ]
  },
  {
   "cell_type": "code",
   "execution_count": 6,
   "metadata": {},
   "outputs": [],
   "source": [
    "# story_block = \"\"\"* request_hotel\n",
    "#     - utter_ask_details\n",
    "# * inform{\"people\": \"2\"}\n",
    "#     - slot{\"people\": \"2\"}\n",
    "#     - utter_ask_location\n",
    "# * did_that_work\n",
    "#     - utter_more_info_hotel\n",
    "#     - utter_ask_location\n",
    "# * chitchat\n",
    "#     - utter_chitchat\n",
    "#     - utter_ask_location\n",
    "# * did_that_work\n",
    "#     - utter_more_info_hotel\n",
    "#     - utter_ask_location\n",
    "# * inform{\"location\": \"paris\"}\n",
    "#     - utter_ask_price\n",
    "# * inform{\"price\": \"expensive\"}\n",
    "#     - utter_ask_startdate\n",
    "# * inform{\"startdate\": \"10.03.2018\"}\n",
    "#     - utter_ask_enddate\n",
    "# * explain\n",
    "#     - utter_explain_enddate_hotel\n",
    "#     - utter_ask_enddate\n",
    "# * chitchat\n",
    "#     - utter_chitchat\n",
    "#     - utter_ask_enddate\n",
    "# * explain\n",
    "#     - utter_explain_enddate_hotel\n",
    "#     - utter_ask_enddate\n",
    "# * inform{\"enddate\": \"10.03.2018\"}\n",
    "#     - utter_filled_slots\n",
    "#     - action_search_hotel\n",
    "#     - slot{\"hotel\": \"hotel\"}\n",
    "#     - utter_suggest_hotel\n",
    "# * affirm\n",
    "#     - utter_happy\n",
    "# \"\"\""
   ]
  },
  {
   "cell_type": "code",
   "execution_count": 7,
   "metadata": {},
   "outputs": [
    {
     "name": "stdout",
     "output_type": "stream",
     "text": [
      "51\n",
      "29\n",
      "(20,)\n"
     ]
    }
   ],
   "source": [
    "print(len(story_block.split('\\n')))\n",
    "cool_list = []\n",
    "lines = story_block.split('\\n')\n",
    "for idx, line in enumerate(lines):\n",
    "    if idx == len(lines)-1:\n",
    "        continue\n",
    "    if '*' in lines[idx+1] or 'slot{' in lines[idx+1]:\n",
    "#     if 'slot{' in lines[idx+1]:\n",
    "        continue\n",
    "    sub_story = '\\n'.join(lines[:idx+1])\n",
    "    (dial, not_skip, attn, rnn, probs0, probs1, sims\n",
    "    ) = embedding_from_tracker(\"#generate story\\n{}\".format(sub_story))\n",
    "    pred, sim = make_prediction(\"#generate story\\n{}\".format(sub_story))\n",
    "    cool_list.append((lines[idx+1].strip(), dial, (pred, sim, sims), not_skip, attn[-20:], rnn,\n",
    "                      probs0, probs1))\n",
    "\n",
    "print(len(cool_list))\n",
    "print(cool_list[0][4].shape)\n",
    "#     break\n",
    "# dial = embedding_from_tracker(\"#generate story\\n{}\".format(story_block)\n",
    "# )\n",
    "# print(dial.shape)\n",
    "# print(len(story_block.split('\\n')))"
   ]
  },
  {
   "cell_type": "code",
   "execution_count": 8,
   "metadata": {},
   "outputs": [
    {
     "data": {
      "text/plain": [
       "('- utter_suggest_hotel',\n",
       " array([-0.013,  0.069,  0.054, -0.052, -0.037, -0.007,  0.033,  0.157,\n",
       "        -0.03 ,  0.184,  0.068, -0.057,  0.091, -0.103, -0.042,  0.001,\n",
       "         0.085, -0.045,  0.   , -0.02 ], dtype=float32),\n",
       " ('- utter_suggest_hotel',\n",
       "  0.81259435,\n",
       "  array([ 0.278, -0.053, -0.238, -0.222, -0.039, -0.019,  0.09 ,  0.185,\n",
       "         -0.111, -0.067, -0.155,  0.813,  0.14 , -0.082, -0.284, -0.039,\n",
       "         -0.126, -0.313, -0.197, -0.36 , -0.118, -0.307, -0.075, -0.305,\n",
       "          0.14 , -0.36 , -0.085,  0.073, -0.17 , -0.103, -0.342, -0.322,\n",
       "         -0.093, -0.335, -0.191, -0.398, -0.04 ,  0.005, -0.095, -0.45 ,\n",
       "         -0.393,  0.036, -0.237], dtype=float32)),\n",
       " array([0.   , 0.591, 0.   , 1.   , 0.99 , 0.813], dtype=float32),\n",
       " array([-0.065,  0.072, -0.006,  0.009, -0.05 , -0.009,  0.033,  0.085,\n",
       "         0.028,  0.072,  0.075, -0.025,  0.05 , -0.055,  0.02 , -0.019,\n",
       "         0.05 , -0.044, -0.038,  0.005], dtype=float32),\n",
       " array([ 0.052, -0.003,  0.06 , -0.06 ,  0.014,  0.002, -0.   ,  0.073,\n",
       "        -0.058,  0.113, -0.007, -0.032,  0.041, -0.048, -0.061,  0.021,\n",
       "         0.035, -0.001,  0.038, -0.025], dtype=float32),\n",
       " array([0.   , 0.023, 0.   , 0.01 , 0.   , 0.   , 0.006, 0.   , 0.   ,\n",
       "        0.054, 0.   , 0.04 , 0.   , 0.004, 0.   , 0.   , 0.01 , 0.   ,\n",
       "        0.   , 0.036, 0.   , 0.006, 0.   , 0.   , 0.006, 0.   , 0.   ,\n",
       "        0.006, 0.   , 0.   , 0.006, 0.   , 0.   , 0.01 , 0.   , 0.   ,\n",
       "        0.034, 0.   , 0.032, 0.   , 0.   , 0.   , 0.003, 0.07 , 0.   ],\n",
       "       dtype=float32),\n",
       " array([0.   , 0.   , 0.006, 0.   , 0.002, 0.008, 0.   , 0.004, 0.004,\n",
       "        0.   , 0.004, 0.   , 0.011, 0.   , 0.001, 0.009, 0.   , 0.003,\n",
       "        0.006, 0.   , 0.005, 0.   , 0.003, 0.005, 0.   , 0.002, 0.006,\n",
       "        0.   , 0.002, 0.007, 0.   , 0.002, 0.007, 0.   , 0.002, 0.004,\n",
       "        0.   , 0.002, 0.   , 0.03 , 0.009, 0.591, 0.   , 0.004, 0.   ],\n",
       "       dtype=float32))"
      ]
     },
     "execution_count": 8,
     "metadata": {},
     "output_type": "execute_result"
    }
   ],
   "source": [
    "import copy\n",
    "\n",
    "# cool_list0 = copy.deepcopy(cool_list)\n",
    "cool_list[27]"
   ]
  },
  {
   "cell_type": "code",
   "execution_count": 9,
   "metadata": {},
   "outputs": [
    {
     "data": {
      "text/plain": [
       "('- utter_ask_price',\n",
       " array([ 0.024,  0.006,  0.061, -0.089, -0.158,  0.086, -0.036, -0.149,\n",
       "         0.193,  0.112, -0.09 , -0.014, -0.076, -0.077,  0.134, -0.043,\n",
       "        -0.004,  0.023,  0.037, -0.04 ], dtype=float32),\n",
       " ('- utter_ask_price',\n",
       "  0.94845057,\n",
       "  array([-0.059, -0.129, -0.07 ,  0.062,  0.097,  0.948, -0.073,  0.158,\n",
       "         -0.127, -0.232, -0.059, -0.084, -0.056, -0.457, -0.321, -0.376,\n",
       "         -0.4  , -0.283, -0.414, -0.293, -0.073, -0.068, -0.466, -0.288,\n",
       "          0.039, -0.016, -0.119, -0.052,  0.064, -0.536, -0.365, -0.354,\n",
       "         -0.129, -0.107, -0.553, -0.377, -0.618, -0.506, -0.09 , -0.073,\n",
       "          0.017,  0.135, -0.041], dtype=float32)),\n",
       " array([0.   , 0.631, 0.   , 1.   , 0.999, 0.948], dtype=float32),\n",
       " array([-0.014,  0.001,  0.053, -0.079, -0.092,  0.083, -0.035, -0.127,\n",
       "         0.214,  0.109, -0.061, -0.   , -0.022, -0.039,  0.123, -0.064,\n",
       "         0.031,  0.054,  0.025, -0.083], dtype=float32),\n",
       " array([ 0.037,  0.004,  0.008, -0.011, -0.065,  0.003, -0.001, -0.022,\n",
       "        -0.021,  0.003, -0.029, -0.014, -0.055, -0.038,  0.011,  0.021,\n",
       "        -0.035, -0.03 ,  0.012,  0.044], dtype=float32),\n",
       " array([0.   , 0.031, 0.   , 0.014, 0.   , 0.   , 0.008, 0.   , 0.   ,\n",
       "        0.074, 0.   , 0.056, 0.   , 0.006, 0.   , 0.   , 0.014, 0.   ,\n",
       "        0.   , 0.049, 0.   , 0.008, 0.   , 0.   , 0.008, 0.   , 0.   ,\n",
       "        0.007, 0.   , 0.   , 0.004, 0.094, 0.   ], dtype=float32),\n",
       " array([0.   , 0.   , 0.004, 0.   , 0.001, 0.005, 0.   , 0.002, 0.003,\n",
       "        0.   , 0.002, 0.   , 0.007, 0.   , 0.001, 0.006, 0.   , 0.002,\n",
       "        0.004, 0.   , 0.004, 0.   , 0.002, 0.005, 0.   , 0.001, 0.057,\n",
       "        0.   , 0.01 , 0.631, 0.   , 0.006, 0.   ], dtype=float32))"
      ]
     },
     "execution_count": 9,
     "metadata": {},
     "output_type": "execute_result"
    }
   ],
   "source": [
    "# cool_list1= copy.deepcopy(cool_list)\n",
    "cool_list[19]"
   ]
  },
  {
   "cell_type": "code",
   "execution_count": 10,
   "metadata": {},
   "outputs": [
    {
     "data": {
      "text/plain": [
       "[<matplotlib.lines.Line2D at 0x1c2a897748>]"
      ]
     },
     "execution_count": 10,
     "metadata": {},
     "output_type": "execute_result"
    }
   ],
   "source": [
    "import matplotlib.pyplot as plt\n",
    "plt.plot(cool_list[15][-2], marker='x')"
   ]
  },
  {
   "cell_type": "code",
   "execution_count": 11,
   "metadata": {},
   "outputs": [
    {
     "data": {
      "text/plain": [
       "[<matplotlib.lines.Line2D at 0x1c2aae5eb8>]"
      ]
     },
     "execution_count": 11,
     "metadata": {},
     "output_type": "execute_result"
    },
    {
     "data": {
      "image/png": "[encoded data removed]",
      "text/plain": [
       "<matplotlib.figure.Figure at 0x1c2a8c3320>"
      ]
     },
     "metadata": {},
     "output_type": "display_data"
    }
   ],
   "source": [
    "plt.plot(cool_list[19][-2], marker='x')"
   ]
  },
  {
   "cell_type": "code",
   "execution_count": null,
   "metadata": {},
   "outputs": [],
   "source": []
  },
  {
   "cell_type": "code",
   "execution_count": null,
   "metadata": {},
   "outputs": [],
   "source": []
  },
  {
   "cell_type": "code",
   "execution_count": 12,
   "metadata": {},
   "outputs": [],
   "source": [
    "from sklearn.decomposition import PCA"
   ]
  },
  {
   "cell_type": "code",
   "execution_count": 13,
   "metadata": {},
   "outputs": [],
   "source": [
    "pca = PCA(n_components=2)\n",
    "X = pca.fit_transform([ting[1] for ting in cool_list])"
   ]
  },
  {
   "cell_type": "code",
   "execution_count": 14,
   "metadata": {},
   "outputs": [],
   "source": [
    "from bokeh.plotting import figure, show\n",
    "import matplotlib.pyplot as plt"
   ]
  },
  {
   "cell_type": "code",
   "execution_count": 15,
   "metadata": {},
   "outputs": [],
   "source": [
    "embed_dim = cool_list[0][1].shape[0]\n"
   ]
  },
  {
   "cell_type": "code",
   "execution_count": 16,
   "metadata": {},
   "outputs": [
    {
     "data": {
      "text/html": [
       "<div style=\"display: table;\"><div style=\"display: table-row;\"><div style=\"display: table-cell;\"><b title=\"bokeh.models.renderers.GlyphRenderer\">GlyphRenderer</b>(</div><div style=\"display: table-cell;\">id&nbsp;=&nbsp;'9f3fcb07-8db3-4f25-8f9c-f2f355a6f3a9', <span id=\"0c8658d3-5eea-48a4-b66a-fa1124b62fcc\" style=\"cursor: pointer;\">&hellip;)</span></div></div><div class=\"6720b475-7907-408c-bd45-ae56ba46e679\" style=\"display: none;\"><div style=\"display: table-cell;\"></div><div style=\"display: table-cell;\">data_source&nbsp;=&nbsp;ColumnDataSource(id='d18f6576-8c13-43a0-b7b3-0047763f924b', ...),</div></div><div class=\"6720b475-7907-408c-bd45-ae56ba46e679\" style=\"display: none;\"><div style=\"display: table-cell;\"></div><div style=\"display: table-cell;\">glyph&nbsp;=&nbsp;Circle(id='40acbda2-ce24-402d-b20e-69b6eea9f3f7', ...),</div></div><div class=\"6720b475-7907-408c-bd45-ae56ba46e679\" style=\"display: none;\"><div style=\"display: table-cell;\"></div><div style=\"display: table-cell;\">hover_glyph&nbsp;=&nbsp;None,</div></div><div class=\"6720b475-7907-408c-bd45-ae56ba46e679\" style=\"display: none;\"><div style=\"display: table-cell;\"></div><div style=\"display: table-cell;\">js_event_callbacks&nbsp;=&nbsp;{},</div></div><div class=\"6720b475-7907-408c-bd45-ae56ba46e679\" style=\"display: none;\"><div style=\"display: table-cell;\"></div><div style=\"display: table-cell;\">js_property_callbacks&nbsp;=&nbsp;{},</div></div><div class=\"6720b475-7907-408c-bd45-ae56ba46e679\" style=\"display: none;\"><div style=\"display: table-cell;\"></div><div style=\"display: table-cell;\">level&nbsp;=&nbsp;'glyph',</div></div><div class=\"6720b475-7907-408c-bd45-ae56ba46e679\" style=\"display: none;\"><div style=\"display: table-cell;\"></div><div style=\"display: table-cell;\">muted&nbsp;=&nbsp;False,</div></div><div class=\"6720b475-7907-408c-bd45-ae56ba46e679\" style=\"display: none;\"><div style=\"display: table-cell;\"></div><div style=\"display: table-cell;\">muted_glyph&nbsp;=&nbsp;None,</div></div><div class=\"6720b475-7907-408c-bd45-ae56ba46e679\" style=\"display: none;\"><div style=\"display: table-cell;\"></div><div style=\"display: table-cell;\">name&nbsp;=&nbsp;None,</div></div><div class=\"6720b475-7907-408c-bd45-ae56ba46e679\" style=\"display: none;\"><div style=\"display: table-cell;\"></div><div style=\"display: table-cell;\">nonselection_glyph&nbsp;=&nbsp;Circle(id='cad338a2-236d-4b4a-967c-90f9cb608214', ...),</div></div><div class=\"6720b475-7907-408c-bd45-ae56ba46e679\" style=\"display: none;\"><div style=\"display: table-cell;\"></div><div style=\"display: table-cell;\">selection_glyph&nbsp;=&nbsp;None,</div></div><div class=\"6720b475-7907-408c-bd45-ae56ba46e679\" style=\"display: none;\"><div style=\"display: table-cell;\"></div><div style=\"display: table-cell;\">subscribed_events&nbsp;=&nbsp;[],</div></div><div class=\"6720b475-7907-408c-bd45-ae56ba46e679\" style=\"display: none;\"><div style=\"display: table-cell;\"></div><div style=\"display: table-cell;\">tags&nbsp;=&nbsp;[],</div></div><div class=\"6720b475-7907-408c-bd45-ae56ba46e679\" style=\"display: none;\"><div style=\"display: table-cell;\"></div><div style=\"display: table-cell;\">view&nbsp;=&nbsp;CDSView(id='86e4f9ba-98d6-4337-8777-23e986787f0a', ...),</div></div><div class=\"6720b475-7907-408c-bd45-ae56ba46e679\" style=\"display: none;\"><div style=\"display: table-cell;\"></div><div style=\"display: table-cell;\">visible&nbsp;=&nbsp;True,</div></div><div class=\"6720b475-7907-408c-bd45-ae56ba46e679\" style=\"display: none;\"><div style=\"display: table-cell;\"></div><div style=\"display: table-cell;\">x_range_name&nbsp;=&nbsp;'default',</div></div><div class=\"6720b475-7907-408c-bd45-ae56ba46e679\" style=\"display: none;\"><div style=\"display: table-cell;\"></div><div style=\"display: table-cell;\">y_range_name&nbsp;=&nbsp;'default')</div></div></div>\n",
       "<script>\n",
       "(function() {\n",
       "  var expanded = false;\n",
       "  var ellipsis = document.getElementById(\"0c8658d3-5eea-48a4-b66a-fa1124b62fcc\");\n",
       "  ellipsis.addEventListener(\"click\", function() {\n",
       "    var rows = document.getElementsByClassName(\"6720b475-7907-408c-bd45-ae56ba46e679\");\n",
       "    for (var i = 0; i < rows.length; i++) {\n",
       "      var el = rows[i];\n",
       "      el.style.display = expanded ? \"none\" : \"table-row\";\n",
       "    }\n",
       "    ellipsis.innerHTML = expanded ? \"&hellip;)\" : \"&lsaquo;&lsaquo;&lsaquo;\";\n",
       "    expanded = !expanded;\n",
       "  });\n",
       "})();\n",
       "</script>\n"
      ],
      "text/plain": [
       "GlyphRenderer(id='9f3fcb07-8db3-4f25-8f9c-f2f355a6f3a9', ...)"
      ]
     },
     "execution_count": 16,
     "metadata": {},
     "output_type": "execute_result"
    }
   ],
   "source": [
    "from bokeh.plotting import figure, output_file, show, ColumnDataSource\n",
    "from bokeh.models import HoverTool, Arrow, OpenHead\n",
    "\n",
    "hover = HoverTool(tooltips=[(\"true action\",\"@desc\"), (\"prediction\", \"@pred\"),\n",
    "                            (\"not_skip_gate\", \"@not_skip\")],names=['circle'])\n",
    "p = figure( tools=[hover])\n",
    "\n",
    "for i in range(1, len(X)):\n",
    "    p.add_layout(Arrow(end=OpenHead(line_color=\"firebrick\", size=10, line_width=2),\n",
    "                       x_start=X[i-1,0], y_start=X[i-1,1],\n",
    "                       x_end=X[i,0], y_end=X[i,1], line_color='gray'))\n",
    "\n",
    "source = ColumnDataSource(data=dict(\n",
    "    x=X[:,0],\n",
    "    y=X[:,1],\n",
    "    desc=[ting[0] for ting in cool_list],\n",
    "    pred = [ting[2][0] for ting in cool_list],\n",
    "    not_skip = [ting[3][0] for ting in cool_list]\n",
    "))\n",
    "p.circle('x','y', source=source, size=10, name='circle')\n",
    "# p.line(X[:,0], X[:,1])\n",
    "\n",
    "X1 = pca.transform([ting[4] for ting in cool_list])\n",
    "source = ColumnDataSource(data=dict(\n",
    "    x=X1[:,0],\n",
    "    y=X1[:,1],\n",
    "    desc=[ting[0] for ting in cool_list],\n",
    "    pred = [ting[2][0] for ting in cool_list],\n",
    "    not_skip = [ting[3][0] for ting in cool_list]\n",
    "))\n",
    "p.circle('x','y', source=source, size=5, color='green', name='circle')\n",
    "\n",
    "X2 = pca.transform([ting[5] for ting in cool_list])\n",
    "source = ColumnDataSource(data=dict(\n",
    "    x=X2[:,0],\n",
    "    y=X2[:,1],\n",
    "    desc=[ting[0] for ting in cool_list],\n",
    "    pred = [ting[2][0] for ting in cool_list],\n",
    "    not_skip = [ting[3][0] for ting in cool_list]\n",
    "))\n",
    "p.circle('x','y', source=source, size=5, color='red', name='circle')\n",
    "\n",
    "x = pca.transform(np.zeros((1,embed_dim)))\n",
    "p.circle(x[0,0], x[0,1], size=5, color='magenta')\n",
    "p.circle(X[0,0], X[0,1], size=10, color='green')\n",
    "p.circle(X[-1,0], X[-1,1], size=10, color='red')\n"
   ]
  },
  {
   "cell_type": "code",
   "execution_count": 17,
   "metadata": {
    "scrolled": false
   },
   "outputs": [
    {
     "data": {
      "text/html": [
       "\n",
       "<div class=\"bk-root\">\n",
       "    <div class=\"bk-plotdiv\" id=\"bc4f3f95-0fb3-4eaf-9a34-e358bc88a402\"></div>\n",
       "</div>"
      ]
     },
     "metadata": {},
     "output_type": "display_data"
    },
    {
     "data": {
      "application/javascript": [
       "(function(root) {\n",
       "  function embed_document(root) {\n",
       "    \n",
       "  var docs_json = {\"47828e2a-9267-4f9c-9c37-eeca0492374b\":{\"roots\":{\"references\":[{\"attributes\":{\"fill_alpha\":{\"value\":0.1},\"fill_color\":{\"value\":\"#1f77b4\"},\"line_alpha\":{\"value\":0.1},\"line_color\":{\"value\":\"#1f77b4\"},\"size\":{\"units\":\"screen\",\"value\":10},\"x\":{\"field\":\"x\"},\"y\":{\"field\":\"y\"}},\"id\":\"0c78e44e-680a-4059-9394-1e0421c19bf9\",\"type\":\"Circle\"},{\"attributes\":{\"end\":{\"id\":\"b411005e-5130-4ad7-a9a6-52266d0a3cb0\",\"type\":\"OpenHead\"},\"line_color\":{\"value\":\"gray\"},\"plot\":{\"id\":\"85272f57-734c-4dc5-b147-5e51d69e7d5c\",\"subtype\":\"Figure\",\"type\":\"Plot\"},\"source\":null,\"start\":null,\"x_end\":{\"value\":-0.2286793577665982},\"x_start\":{\"value\":0.3235697258052374},\"y_end\":{\"value\":-0.09388240906187717},\"y_start\":{\"value\":-0.026693184847622915}},\"id\":\"b8e8df41-2e53-4f0f-99f8-95f19e518e23\",\"type\":\"Arrow\"},{\"attributes\":{\"line_color\":{\"value\":\"firebrick\"},\"line_width\":{\"value\":2},\"plot\":null,\"size\":10},\"id\":\"4c8b03d5-30a5-4445-aa46-0586ec1dd9e3\",\"type\":\"OpenHead\"},{\"attributes\":{\"line_color\":{\"value\":\"firebrick\"},\"line_width\":{\"value\":2},\"plot\":null,\"size\":10},\"id\":\"4f3102ef-0d3f-4239-8d71-5b20d97b24ef\",\"type\":\"OpenHead\"},{\"attributes\":{},\"id\":\"74437bdb-c538-41b4-961a-0d98c9ff8e37\",\"type\":\"BasicTickFormatter\"},{\"attributes\":{\"source\":{\"id\":\"1b66b44b-0039-4f35-8094-de3e11db6750\",\"type\":\"ColumnDataSource\"}},\"id\":\"e762c0bc-99f0-4081-90c8-f8495f041d2c\",\"type\":\"CDSView\"},{\"attributes\":{\"end\":{\"id\":\"4c8b03d5-30a5-4445-aa46-0586ec1dd9e3\",\"type\":\"OpenHead\"},\"line_color\":{\"value\":\"gray\"},\"plot\":{\"id\":\"85272f57-734c-4dc5-b147-5e51d69e7d5c\",\"subtype\":\"Figure\",\"type\":\"Plot\"},\"source\":null,\"start\":null,\"x_end\":{\"value\":0.3295374189621917},\"x_start\":{\"value\":-0.2286793577665982},\"y_end\":{\"value\":-0.010007415109161292},\"y_start\":{\"value\":-0.09388240906187717}},\"id\":\"c2d4cc93-37f4-4565-b6d6-d8d2d4ea46b1\",\"type\":\"Arrow\"},{\"attributes\":{\"line_color\":{\"value\":\"firebrick\"},\"line_width\":{\"value\":2},\"plot\":null,\"size\":10},\"id\":\"856b64d4-bf84-4f6e-be8c-f59f3ce9bae8\",\"type\":\"OpenHead\"},{\"attributes\":{\"end\":{\"id\":\"4f3102ef-0d3f-4239-8d71-5b20d97b24ef\",\"type\":\"OpenHead\"},\"line_color\":{\"value\":\"gray\"},\"plot\":{\"id\":\"85272f57-734c-4dc5-b147-5e51d69e7d5c\",\"subtype\":\"Figure\",\"type\":\"Plot\"},\"source\":null,\"start\":null,\"x_end\":{\"value\":-0.24841095356577575},\"x_start\":{\"value\":0.3295374189621917},\"y_end\":{\"value\":-0.10703115308883247},\"y_start\":{\"value\":-0.010007415109161292}},\"id\":\"6167d592-c4d0-4371-9dbd-2cb06ab5cfcb\",\"type\":\"Arrow\"},{\"attributes\":{\"line_color\":{\"value\":\"firebrick\"},\"line_width\":{\"value\":2},\"plot\":null,\"size\":10},\"id\":\"6e07eefc-09cd-495d-a737-35e37fda833f\",\"type\":\"OpenHead\"},{\"attributes\":{\"end\":{\"id\":\"856b64d4-bf84-4f6e-be8c-f59f3ce9bae8\",\"type\":\"OpenHead\"},\"line_color\":{\"value\":\"gray\"},\"plot\":{\"id\":\"85272f57-734c-4dc5-b147-5e51d69e7d5c\",\"subtype\":\"Figure\",\"type\":\"Plot\"},\"source\":null,\"start\":null,\"x_end\":{\"value\":0.3176683427823038},\"x_start\":{\"value\":-0.24841095356577575},\"y_end\":{\"value\":-0.011449311908315146},\"y_start\":{\"value\":-0.10703115308883247}},\"id\":\"35622825-0497-4ae9-8ebc-54becd1b4291\",\"type\":\"Arrow\"},{\"attributes\":{\"line_color\":{\"value\":\"firebrick\"},\"line_width\":{\"value\":2},\"plot\":null,\"size\":10},\"id\":\"604ae6b4-f4b6-4eb7-b9f2-0be905ef2608\",\"type\":\"OpenHead\"},{\"attributes\":{\"end\":{\"id\":\"6e07eefc-09cd-495d-a737-35e37fda833f\",\"type\":\"OpenHead\"},\"line_color\":{\"value\":\"gray\"},\"plot\":{\"id\":\"85272f57-734c-4dc5-b147-5e51d69e7d5c\",\"subtype\":\"Figure\",\"type\":\"Plot\"},\"source\":null,\"start\":null,\"x_end\":{\"value\":-0.2553936436544243},\"x_start\":{\"value\":0.3176683427823038},\"y_end\":{\"value\":-0.10993515914208597},\"y_start\":{\"value\":-0.011449311908315146}},\"id\":\"279c9863-3490-4831-b1a7-8a222f60e176\",\"type\":\"Arrow\"},{\"attributes\":{\"line_color\":{\"value\":\"firebrick\"},\"line_width\":{\"value\":2},\"plot\":null,\"size\":10},\"id\":\"57ffea77-b6a0-40ae-808c-523102f285df\",\"type\":\"OpenHead\"},{\"attributes\":{\"end\":{\"id\":\"604ae6b4-f4b6-4eb7-b9f2-0be905ef2608\",\"type\":\"OpenHead\"},\"line_color\":{\"value\":\"gray\"},\"plot\":{\"id\":\"85272f57-734c-4dc5-b147-5e51d69e7d5c\",\"subtype\":\"Figure\",\"type\":\"Plot\"},\"source\":null,\"start\":null,\"x_end\":{\"value\":0.310337217897502},\"x_start\":{\"value\":-0.2553936436544243},\"y_end\":{\"value\":-0.011917836232723607},\"y_start\":{\"value\":-0.10993515914208597}},\"id\":\"d9ab58fd-970a-46dd-9ccd-ebc5711090e9\",\"type\":\"Arrow\"},{\"attributes\":{\"line_color\":{\"value\":\"firebrick\"},\"line_width\":{\"value\":2},\"plot\":null,\"size\":10},\"id\":\"fd83255c-300b-462f-aa46-6ec7140e9c44\",\"type\":\"OpenHead\"},{\"attributes\":{\"end\":{\"id\":\"57ffea77-b6a0-40ae-808c-523102f285df\",\"type\":\"OpenHead\"},\"line_color\":{\"value\":\"gray\"},\"plot\":{\"id\":\"85272f57-734c-4dc5-b147-5e51d69e7d5c\",\"subtype\":\"Figure\",\"type\":\"Plot\"},\"source\":null,\"start\":null,\"x_end\":{\"value\":0.04870316960864764},\"x_start\":{\"value\":0.310337217897502},\"y_end\":{\"value\":-0.19216600756277263},\"y_start\":{\"value\":-0.011917836232723607}},\"id\":\"f9a19a86-89c7-4322-b204-92ba6e67bf62\",\"type\":\"Arrow\"},{\"attributes\":{\"line_color\":{\"value\":\"firebrick\"},\"line_width\":{\"value\":2},\"plot\":null,\"size\":10},\"id\":\"b6dc1b16-49c2-44d7-a21a-53a666fe51b3\",\"type\":\"OpenHead\"},{\"attributes\":{\"end\":{\"id\":\"fd83255c-300b-462f-aa46-6ec7140e9c44\",\"type\":\"OpenHead\"},\"line_color\":{\"value\":\"gray\"},\"plot\":{\"id\":\"85272f57-734c-4dc5-b147-5e51d69e7d5c\",\"subtype\":\"Figure\",\"type\":\"Plot\"},\"source\":null,\"start\":null,\"x_end\":{\"value\":0.5359072475169921},\"x_start\":{\"value\":0.04870316960864764},\"y_end\":{\"value\":-0.022014789166248775},\"y_start\":{\"value\":-0.19216600756277263}},\"id\":\"185491fb-ce00-4255-98bf-2b8e02c293c3\",\"type\":\"Arrow\"},{\"attributes\":{\"line_color\":{\"value\":\"firebrick\"},\"line_width\":{\"value\":2},\"plot\":null,\"size\":10},\"id\":\"b94e92ab-e628-4da0-899c-1aba403aaec3\",\"type\":\"OpenHead\"},{\"attributes\":{\"end\":{\"id\":\"b6dc1b16-49c2-44d7-a21a-53a666fe51b3\",\"type\":\"OpenHead\"},\"line_color\":{\"value\":\"gray\"},\"plot\":{\"id\":\"85272f57-734c-4dc5-b147-5e51d69e7d5c\",\"subtype\":\"Figure\",\"type\":\"Plot\"},\"source\":null,\"start\":null,\"x_end\":{\"value\":-0.00412055413115097},\"x_start\":{\"value\":0.5359072475169921},\"y_end\":{\"value\":0.13424326910027518},\"y_start\":{\"value\":-0.022014789166248775}},\"id\":\"76cf8849-c637-4ba5-ba05-b42cf5a51ef3\",\"type\":\"Arrow\"},{\"attributes\":{\"line_color\":{\"value\":\"firebrick\"},\"line_width\":{\"value\":2},\"plot\":null,\"size\":10},\"id\":\"0d2320e8-8036-4ae5-bb24-3b5155fe131f\",\"type\":\"OpenHead\"},{\"attributes\":{\"end\":{\"id\":\"b94e92ab-e628-4da0-899c-1aba403aaec3\",\"type\":\"OpenHead\"},\"line_color\":{\"value\":\"gray\"},\"plot\":{\"id\":\"85272f57-734c-4dc5-b147-5e51d69e7d5c\",\"subtype\":\"Figure\",\"type\":\"Plot\"},\"source\":null,\"start\":null,\"x_end\":{\"value\":-0.09900444798127699},\"x_start\":{\"value\":-0.00412055413115097},\"y_end\":{\"value\":0.07029481430512892},\"y_start\":{\"value\":0.13424326910027518}},\"id\":\"147f4967-4b05-4dd1-bf16-e107277ef333\",\"type\":\"Arrow\"},{\"attributes\":{\"line_color\":{\"value\":\"firebrick\"},\"line_width\":{\"value\":2},\"plot\":null,\"size\":10},\"id\":\"26eaddc7-2e03-47da-bd0e-c3a52e1b9c11\",\"type\":\"OpenHead\"},{\"attributes\":{\"end\":{\"id\":\"0d2320e8-8036-4ae5-bb24-3b5155fe131f\",\"type\":\"OpenHead\"},\"line_color\":{\"value\":\"gray\"},\"plot\":{\"id\":\"85272f57-734c-4dc5-b147-5e51d69e7d5c\",\"subtype\":\"Figure\",\"type\":\"Plot\"},\"source\":null,\"start\":null,\"x_end\":{\"value\":0.3329440926833932},\"x_start\":{\"value\":-0.09900444798127699},\"y_end\":{\"value\":0.347486228707811},\"y_start\":{\"value\":0.07029481430512892}},\"id\":\"9fe01675-d182-4fe4-87f3-38cec54fe1c5\",\"type\":\"Arrow\"},{\"attributes\":{\"line_color\":{\"value\":\"firebrick\"},\"line_width\":{\"value\":2},\"plot\":null,\"size\":10},\"id\":\"155c814b-d682-431d-8e0a-374a501f73b7\",\"type\":\"OpenHead\"},{\"attributes\":{\"end\":{\"id\":\"26eaddc7-2e03-47da-bd0e-c3a52e1b9c11\",\"type\":\"OpenHead\"},\"line_color\":{\"value\":\"gray\"},\"plot\":{\"id\":\"85272f57-734c-4dc5-b147-5e51d69e7d5c\",\"subtype\":\"Figure\",\"type\":\"Plot\"},\"source\":null,\"start\":null,\"x_end\":{\"value\":-0.16361669925191186},\"x_start\":{\"value\":0.3329440926833932},\"y_end\":{\"value\":-0.1828742346998748},\"y_start\":{\"value\":0.347486228707811}},\"id\":\"c128e9c1-93aa-447c-abce-986b34033252\",\"type\":\"Arrow\"},{\"attributes\":{\"line_color\":{\"value\":\"firebrick\"},\"line_width\":{\"value\":2},\"plot\":null,\"size\":10},\"id\":\"6003258b-0aff-4429-ab54-277997013aa9\",\"type\":\"OpenHead\"},{\"attributes\":{\"end\":{\"id\":\"155c814b-d682-431d-8e0a-374a501f73b7\",\"type\":\"OpenHead\"},\"line_color\":{\"value\":\"gray\"},\"plot\":{\"id\":\"85272f57-734c-4dc5-b147-5e51d69e7d5c\",\"subtype\":\"Figure\",\"type\":\"Plot\"},\"source\":null,\"start\":null,\"x_end\":{\"value\":-0.36309511553667234},\"x_start\":{\"value\":-0.16361669925191186},\"y_end\":{\"value\":-0.21550763923832822},\"y_start\":{\"value\":-0.1828742346998748}},\"id\":\"4713a229-1b09-46ee-82f1-02638cdf9bf4\",\"type\":\"Arrow\"},{\"attributes\":{\"line_color\":{\"value\":\"firebrick\"},\"line_width\":{\"value\":2},\"plot\":null,\"size\":10},\"id\":\"deaa5faf-7626-48c8-85a0-4d75e1e3f6cb\",\"type\":\"OpenHead\"},{\"attributes\":{\"below\":[{\"id\":\"664834fd-4db7-4b0c-b2ab-28c2d27ebe0a\",\"type\":\"LinearAxis\"}],\"left\":[{\"id\":\"a9299076-9181-49fb-b146-092056810b3c\",\"type\":\"LinearAxis\"}],\"renderers\":[{\"id\":\"664834fd-4db7-4b0c-b2ab-28c2d27ebe0a\",\"type\":\"LinearAxis\"},{\"id\":\"c3bff1aa-3238-42ee-86eb-acd72da0b79e\",\"type\":\"Grid\"},{\"id\":\"a9299076-9181-49fb-b146-092056810b3c\",\"type\":\"LinearAxis\"},{\"id\":\"95131923-e21d-4ba9-8b5a-5cdfaad7df8b\",\"type\":\"Grid\"},{\"id\":\"3391c76d-5eb2-4e1b-825d-f7db794f76c5\",\"type\":\"Arrow\"},{\"id\":\"fe66a023-8c55-4822-aa91-b15363ff61fd\",\"type\":\"Arrow\"},{\"id\":\"d4d5de6f-d70c-49b5-9159-99aa6d1b1021\",\"type\":\"Arrow\"},{\"id\":\"ccdb9068-9a4e-4824-93fa-fbf7645aaa0c\",\"type\":\"Arrow\"},{\"id\":\"d1e3597d-8093-4350-9a2c-632a64c96470\",\"type\":\"Arrow\"},{\"id\":\"03bc1e77-b808-4351-934f-1220a6436a96\",\"type\":\"Arrow\"},{\"id\":\"5aa341b1-e42f-416f-8127-715e1d901387\",\"type\":\"Arrow\"},{\"id\":\"19cdaf69-a307-4830-9861-8a2d81ade2c9\",\"type\":\"Arrow\"},{\"id\":\"fdb752c8-ecdc-4e2b-b2c8-00bd47b5b62a\",\"type\":\"Arrow\"},{\"id\":\"e95d8685-c5c6-4cdb-a946-0a8ac3a5720c\",\"type\":\"Arrow\"},{\"id\":\"8515f5b5-0688-4ae7-8ae8-7245a22d4d85\",\"type\":\"Arrow\"},{\"id\":\"74aa2a5b-0b93-49ae-b20a-641d48bdb1b5\",\"type\":\"Arrow\"},{\"id\":\"67a910a9-b2fc-4891-81b9-040f57da157f\",\"type\":\"Arrow\"},{\"id\":\"b8e8df41-2e53-4f0f-99f8-95f19e518e23\",\"type\":\"Arrow\"},{\"id\":\"c2d4cc93-37f4-4565-b6d6-d8d2d4ea46b1\",\"type\":\"Arrow\"},{\"id\":\"6167d592-c4d0-4371-9dbd-2cb06ab5cfcb\",\"type\":\"Arrow\"},{\"id\":\"35622825-0497-4ae9-8ebc-54becd1b4291\",\"type\":\"Arrow\"},{\"id\":\"279c9863-3490-4831-b1a7-8a222f60e176\",\"type\":\"Arrow\"},{\"id\":\"d9ab58fd-970a-46dd-9ccd-ebc5711090e9\",\"type\":\"Arrow\"},{\"id\":\"f9a19a86-89c7-4322-b204-92ba6e67bf62\",\"type\":\"Arrow\"},{\"id\":\"185491fb-ce00-4255-98bf-2b8e02c293c3\",\"type\":\"Arrow\"},{\"id\":\"76cf8849-c637-4ba5-ba05-b42cf5a51ef3\",\"type\":\"Arrow\"},{\"id\":\"147f4967-4b05-4dd1-bf16-e107277ef333\",\"type\":\"Arrow\"},{\"id\":\"9fe01675-d182-4fe4-87f3-38cec54fe1c5\",\"type\":\"Arrow\"},{\"id\":\"c128e9c1-93aa-447c-abce-986b34033252\",\"type\":\"Arrow\"},{\"id\":\"4713a229-1b09-46ee-82f1-02638cdf9bf4\",\"type\":\"Arrow\"},{\"id\":\"912af53e-3483-4522-b580-1d22c8a3b3ec\",\"type\":\"Arrow\"},{\"id\":\"712cfb42-4861-4ca8-b11c-fddcf7df4ee2\",\"type\":\"Arrow\"},{\"id\":\"08807219-42a5-4432-a654-2af486635233\",\"type\":\"GlyphRenderer\"},{\"id\":\"26947e37-0935-42da-8756-8f6f3b59e5b6\",\"type\":\"GlyphRenderer\"},{\"id\":\"9804670d-41e8-4799-880d-ee981ffe07e8\",\"type\":\"GlyphRenderer\"},{\"id\":\"ef1c1150-7013-4565-b921-8be17fa2e7ac\",\"type\":\"GlyphRenderer\"},{\"id\":\"8631b491-dfa7-4188-ab72-79c565aa7883\",\"type\":\"GlyphRenderer\"},{\"id\":\"9f3fcb07-8db3-4f25-8f9c-f2f355a6f3a9\",\"type\":\"GlyphRenderer\"}],\"title\":{\"id\":\"536447fb-bfb9-43bf-bbca-04694c0da4bb\",\"type\":\"Title\"},\"toolbar\":{\"id\":\"cef4e66b-9549-4b3d-9c80-4e05074c607f\",\"type\":\"Toolbar\"},\"x_range\":{\"id\":\"32a4ec62-1460-4f77-87fe-63d9d4244298\",\"type\":\"DataRange1d\"},\"x_scale\":{\"id\":\"61f6b74a-7a10-4642-976c-1c5d30f02b6f\",\"type\":\"LinearScale\"},\"y_range\":{\"id\":\"edf68f94-1c0d-43ca-86b3-117e3c52766b\",\"type\":\"DataRange1d\"},\"y_scale\":{\"id\":\"cab8a556-af9b-46d1-8431-03fd793ab252\",\"type\":\"LinearScale\"}},\"id\":\"85272f57-734c-4dc5-b147-5e51d69e7d5c\",\"subtype\":\"Figure\",\"type\":\"Plot\"},{\"attributes\":{\"end\":{\"id\":\"6003258b-0aff-4429-ab54-277997013aa9\",\"type\":\"OpenHead\"},\"line_color\":{\"value\":\"gray\"},\"plot\":{\"id\":\"85272f57-734c-4dc5-b147-5e51d69e7d5c\",\"subtype\":\"Figure\",\"type\":\"Plot\"},\"source\":null,\"start\":null,\"x_end\":{\"value\":-0.063660914488057},\"x_start\":{\"value\":-0.36309511553667234},\"y_end\":{\"value\":-0.005656461117405918},\"y_start\":{\"value\":-0.21550763923832822}},\"id\":\"912af53e-3483-4522-b580-1d22c8a3b3ec\",\"type\":\"Arrow\"},{\"attributes\":{\"fill_color\":{\"value\":\"#1f77b4\"},\"line_color\":{\"value\":\"#1f77b4\"},\"size\":{\"units\":\"screen\",\"value\":10},\"x\":{\"field\":\"x\"},\"y\":{\"field\":\"y\"}},\"id\":\"2f39088c-e26c-4be6-842a-d5cebce42431\",\"type\":\"Circle\"},{\"attributes\":{\"callback\":null,\"names\":[\"circle\"],\"tooltips\":[[\"true action\",\"@desc\"],[\"prediction\",\"@pred\"],[\"not_skip_gate\",\"@not_skip\"]]},\"id\":\"fb8f3648-2422-4a3a-a882-8cbf4ea60772\",\"type\":\"HoverTool\"},{\"attributes\":{\"end\":{\"id\":\"deaa5faf-7626-48c8-85a0-4d75e1e3f6cb\",\"type\":\"OpenHead\"},\"line_color\":{\"value\":\"gray\"},\"plot\":{\"id\":\"85272f57-734c-4dc5-b147-5e51d69e7d5c\",\"subtype\":\"Figure\",\"type\":\"Plot\"},\"source\":null,\"start\":null,\"x_end\":{\"value\":-0.21850781001174804},\"x_start\":{\"value\":-0.063660914488057},\"y_end\":{\"value\":-0.39125846494791444},\"y_start\":{\"value\":-0.005656461117405918}},\"id\":\"712cfb42-4861-4ca8-b11c-fddcf7df4ee2\",\"type\":\"Arrow\"},{\"attributes\":{\"line_color\":{\"value\":\"firebrick\"},\"line_width\":{\"value\":2},\"plot\":null,\"size\":10},\"id\":\"85eb92ef-a6e7-4871-8351-2f2e9ad0afb4\",\"type\":\"OpenHead\"},{\"attributes\":{\"line_color\":{\"value\":\"firebrick\"},\"line_width\":{\"value\":2},\"plot\":null,\"size\":10},\"id\":\"b411005e-5130-4ad7-a9a6-52266d0a3cb0\",\"type\":\"OpenHead\"},{\"attributes\":{},\"id\":\"ee4147e1-385b-424c-b367-bd0ced35f7ba\",\"type\":\"BasicTicker\"},{\"attributes\":{\"data_source\":{\"id\":\"1b66b44b-0039-4f35-8094-de3e11db6750\",\"type\":\"ColumnDataSource\"},\"glyph\":{\"id\":\"2f39088c-e26c-4be6-842a-d5cebce42431\",\"type\":\"Circle\"},\"hover_glyph\":null,\"muted_glyph\":null,\"name\":\"circle\",\"nonselection_glyph\":{\"id\":\"0c78e44e-680a-4059-9394-1e0421c19bf9\",\"type\":\"Circle\"},\"selection_glyph\":null,\"view\":{\"id\":\"e762c0bc-99f0-4081-90c8-f8495f041d2c\",\"type\":\"CDSView\"}},\"id\":\"08807219-42a5-4432-a654-2af486635233\",\"type\":\"GlyphRenderer\"},{\"attributes\":{\"fill_color\":{\"value\":\"red\"},\"line_color\":{\"value\":\"red\"},\"size\":{\"units\":\"screen\",\"value\":5},\"x\":{\"field\":\"x\"},\"y\":{\"field\":\"y\"}},\"id\":\"65a3b59d-ba78-4b51-ab7c-14ce60fa1e0a\",\"type\":\"Circle\"},{\"attributes\":{\"data_source\":{\"id\":\"23e31853-5df8-4573-8265-24c330aa8bd4\",\"type\":\"ColumnDataSource\"},\"glyph\":{\"id\":\"abf2619d-75a4-45a6-93dd-064fe5088bd2\",\"type\":\"Circle\"},\"hover_glyph\":null,\"muted_glyph\":null,\"name\":\"circle\",\"nonselection_glyph\":{\"id\":\"da6e698e-7e51-4256-9965-6ae1dc5b59f6\",\"type\":\"Circle\"},\"selection_glyph\":null,\"view\":{\"id\":\"eb98448d-b3a2-4591-bd71-d38c1a118505\",\"type\":\"CDSView\"}},\"id\":\"26947e37-0935-42da-8756-8f6f3b59e5b6\",\"type\":\"GlyphRenderer\"},{\"attributes\":{\"callback\":null,\"column_names\":[\"x\",\"y\",\"desc\",\"pred\",\"not_skip\"],\"data\":{\"desc\":[\"- utter_ask_details\",\"- utter_explain_details_hotel\",\"- utter_ask_details\",\"- utter_chitchat\",\"- utter_ask_details\",\"- utter_ask_startdate\",\"- utter_ask_location\",\"- utter_correct_startdate_hotel\",\"- utter_ask_location\",\"- utter_explain_location_hotel\",\"- utter_ask_location\",\"- utter_ask_price\",\"- utter_chitchat\",\"- utter_ask_price\",\"- utter_chitchat\",\"- utter_ask_price\",\"- utter_chitchat\",\"- utter_ask_price\",\"- utter_chitchat\",\"- utter_ask_price\",\"- utter_explain_price_hotel\",\"- utter_ask_price\",\"- utter_ask_people\",\"- utter_filled_slots\",\"- action_search_hotel\",\"- utter_suggest_hotel\",\"- utter_chitchat\",\"- utter_suggest_hotel\",\"- utter_happy\"],\"not_skip\":[1.0,1.0,0.0,1.0,0.0,1.0,1.0,1.0,0.0,1.0,0.0,1.0,1.0,0.0,1.0,0.0,1.0,0.0,1.0,0.0,1.0,0.0,1.0,1.0,1.0,1.0,1.0,0.0,1.0],\"pred\":[\"- utter_ask_details\",\"- utter_explain_startdate_hotel\",\"- utter_ask_details\",\"- utter_chitchat\",\"- utter_ask_details\",\"- utter_ask_startdate\",\"- utter_ask_location\",\"- utter_correct_startdate_hotel\",\"- utter_ask_location\",\"- utter_explain_price_hotel\",\"- utter_ask_location\",\"- utter_ask_price\",\"- utter_chitchat\",\"- utter_ask_price\",\"- utter_chitchat\",\"- utter_ask_price\",\"- utter_chitchat\",\"- utter_ask_price\",\"- utter_chitchat\",\"- utter_ask_price\",\"- utter_explain_price_hotel\",\"- utter_ask_price\",\"- utter_ask_people\",\"- utter_filled_slots\",\"- action_search_hotel\",\"- utter_suggest_hotel\",\"- utter_chitchat\",\"- utter_suggest_hotel\",\"- utter_happy\"],\"x\":{\"__ndarray__\":\"vL88vSFMvb/p0x2Hn/HMv/ZqyNqpjsm/b2KwB/pV2b+v7f+pIX+2v/L0CxQw1ri/yMykqv+yqz+sCH3vFl7SvzDarAtFs88/NzL5ZVkiqj82mtpzUULWP8wDbqzVY9g/12rbJxArzb+jyZPLXbXUP4BccH1dRc2/Jg5QHSQX1T9KP8Qc7svPv2pezpmtVNQ/qofGlF5Y0L9KfWaikNzTP3KCXDGf76g/pMu49CYm4T93S8HTtuBwv0v1PAJbWLm/Ji5evfRO1T8m5y5aZPHEv3NPpEvzPNe/6HjC6RRMsL+d5PVcEPjLvw==\",\"dtype\":\"float64\",\"shape\":[29]},\"y\":{\"__ndarray__\":\"1cVVPDSH5D8yyhDardyzv+hB7BaleeY/L8t5y8jKu79I76GqnrnWP8V0pSY707w/Q2tVei/dsb/gaJVt10ysP5b4Qby8O7u/jMCnpm6H079rdD+SbSXIv1UtV24O+re/hTD5zdqztr+VV8lPdVWbvygol3StCLi/VQjkhMR+hL/HcSvGZGa7v1bQqaG8coe/6SAy6bUkvL9Ret7mYGiIv5ZH8U7lmMi/gU/9fQuLlr8kNT8p4i7BPw3YhEjX/rE/MhEH4TY91j8mk6hEbGjHv3KMSBvBlcu//mgquDord79PAc/xYArZvw==\",\"dtype\":\"float64\",\"shape\":[29]}},\"selected\":null,\"selection_policy\":null},\"id\":\"1b66b44b-0039-4f35-8094-de3e11db6750\",\"type\":\"ColumnDataSource\"},{\"attributes\":{\"plot\":null,\"text\":\"\"},\"id\":\"536447fb-bfb9-43bf-bbca-04694c0da4bb\",\"type\":\"Title\"},{\"attributes\":{\"active_drag\":\"auto\",\"active_inspect\":\"auto\",\"active_scroll\":\"auto\",\"active_tap\":\"auto\",\"tools\":[{\"id\":\"fb8f3648-2422-4a3a-a882-8cbf4ea60772\",\"type\":\"HoverTool\"}]},\"id\":\"cef4e66b-9549-4b3d-9c80-4e05074c607f\",\"type\":\"Toolbar\"},{\"attributes\":{\"data_source\":{\"id\":\"ccd1eea0-6624-455b-a867-07857246d6b0\",\"type\":\"ColumnDataSource\"},\"glyph\":{\"id\":\"65a3b59d-ba78-4b51-ab7c-14ce60fa1e0a\",\"type\":\"Circle\"},\"hover_glyph\":null,\"muted_glyph\":null,\"name\":\"circle\",\"nonselection_glyph\":{\"id\":\"82040fe3-e894-4c00-8281-c6c0447e1152\",\"type\":\"Circle\"},\"selection_glyph\":null,\"view\":{\"id\":\"c205baac-c6d5-450b-9416-c01e962bda5f\",\"type\":\"CDSView\"}},\"id\":\"9804670d-41e8-4799-880d-ee981ffe07e8\",\"type\":\"GlyphRenderer\"},{\"attributes\":{\"callback\":null},\"id\":\"edf68f94-1c0d-43ca-86b3-117e3c52766b\",\"type\":\"DataRange1d\"},{\"attributes\":{\"callback\":null},\"id\":\"32a4ec62-1460-4f77-87fe-63d9d4244298\",\"type\":\"DataRange1d\"},{\"attributes\":{},\"id\":\"e54ccc20-29f1-40ee-bf70-279a26d4da2c\",\"type\":\"BasicTickFormatter\"},{\"attributes\":{\"end\":{\"id\":\"85eb92ef-a6e7-4871-8351-2f2e9ad0afb4\",\"type\":\"OpenHead\"},\"line_color\":{\"value\":\"gray\"},\"plot\":{\"id\":\"85272f57-734c-4dc5-b147-5e51d69e7d5c\",\"subtype\":\"Figure\",\"type\":\"Plot\"},\"source\":null,\"start\":null,\"x_end\":{\"value\":-0.22612375352369377},\"x_start\":{\"value\":-0.1144429289822701},\"y_end\":{\"value\":-0.07758604596964672},\"y_start\":{\"value\":0.6415044001025146}},\"id\":\"3391c76d-5eb2-4e1b-825d-f7db794f76c5\",\"type\":\"Arrow\"},{\"attributes\":{\"fill_color\":{\"value\":\"green\"},\"line_color\":{\"value\":\"green\"},\"size\":{\"units\":\"screen\",\"value\":5},\"x\":{\"field\":\"x\"},\"y\":{\"field\":\"y\"}},\"id\":\"abf2619d-75a4-45a6-93dd-064fe5088bd2\",\"type\":\"Circle\"},{\"attributes\":{},\"id\":\"cab8a556-af9b-46d1-8431-03fd793ab252\",\"type\":\"LinearScale\"},{\"attributes\":{\"callback\":null,\"column_names\":[\"x\",\"y\",\"desc\",\"pred\",\"not_skip\"],\"data\":{\"desc\":[\"- utter_ask_details\",\"- utter_explain_details_hotel\",\"- utter_ask_details\",\"- utter_chitchat\",\"- utter_ask_details\",\"- utter_ask_startdate\",\"- utter_ask_location\",\"- utter_correct_startdate_hotel\",\"- utter_ask_location\",\"- utter_explain_location_hotel\",\"- utter_ask_location\",\"- utter_ask_price\",\"- utter_chitchat\",\"- utter_ask_price\",\"- utter_chitchat\",\"- utter_ask_price\",\"- utter_chitchat\",\"- utter_ask_price\",\"- utter_chitchat\",\"- utter_ask_price\",\"- utter_explain_price_hotel\",\"- utter_ask_price\",\"- utter_ask_people\",\"- utter_filled_slots\",\"- action_search_hotel\",\"- utter_suggest_hotel\",\"- utter_chitchat\",\"- utter_suggest_hotel\",\"- utter_happy\"],\"not_skip\":[1.0,1.0,0.0,1.0,0.0,1.0,1.0,1.0,0.0,1.0,0.0,1.0,1.0,0.0,1.0,0.0,1.0,0.0,1.0,0.0,1.0,0.0,1.0,1.0,1.0,1.0,1.0,0.0,1.0],\"pred\":[\"- utter_ask_details\",\"- utter_explain_startdate_hotel\",\"- utter_ask_details\",\"- utter_chitchat\",\"- utter_ask_details\",\"- utter_ask_startdate\",\"- utter_ask_location\",\"- utter_correct_startdate_hotel\",\"- utter_ask_location\",\"- utter_explain_price_hotel\",\"- utter_ask_location\",\"- utter_ask_price\",\"- utter_chitchat\",\"- utter_ask_price\",\"- utter_chitchat\",\"- utter_ask_price\",\"- utter_chitchat\",\"- utter_ask_price\",\"- utter_chitchat\",\"- utter_ask_price\",\"- utter_explain_price_hotel\",\"- utter_ask_price\",\"- utter_ask_people\",\"- utter_filled_slots\",\"- action_search_hotel\",\"- utter_suggest_hotel\",\"- utter_chitchat\",\"- utter_suggest_hotel\",\"- utter_happy\"],\"x\":{\"__ndarray__\":\"S8jlcnJXm7/3YMQSnWabv3Y0tt40Ari/SBv9m6twoL/DFY8l3Tu1vxfdNv0Cy6a/DJ56s3BGpb8AnEsyZp6rv9yPm+gNBrs/uZTFGsvWl7/qUVnFHfa6P6boAav885+//QNqeWWXp7+bzvuoLNHMP3HhqD60AKe/kF7L+aT/zT+GBUzK222mv+DnunzwU80/256yP2xRpb/1KdhsqOTMP4mckpsVS4G/G7DbIDa81T/P55XwbmKfv3QsmqMrRaS/yFuy8wP7jL9Cyyqgg7mBP35qmMkjp6O/hP8dH50oqL+lgbXCvoagvw==\",\"dtype\":\"float64\",\"shape\":[29]},\"y\":{\"__ndarray__\":\"tuLK5GG4nz/5PxFD3AugP3ItiBOC+Nw/x5Hi8Wb/oD+vIVemOj3WP1WDOHxKL50/TLJXF8pPnj+S7SXdh+ehP8IZYSfxG6m/EdAwx98inT8KT0iOygipv9n5XPUNSJ0/iPBvfe1SnD+p2nl8ey+mv+VjVYQ+RpY/grzg6lKomr9ZRv+3LNyYPweVjOsJwJi/38qDSrvUmD8u1vfR6weYvwbFW3Rvip4/eU7jl7GwqL/XdfUe44ydP8grFx2Z0Jg/BF/uZvHcjD8nft7oGqaYP4FktdOHkpU/WZejPdBkbL9Q9gxKaPWYPw==\",\"dtype\":\"float64\",\"shape\":[29]}},\"selected\":null,\"selection_policy\":null},\"id\":\"23e31853-5df8-4573-8265-24c330aa8bd4\",\"type\":\"ColumnDataSource\"},{\"attributes\":{},\"id\":\"61f6b74a-7a10-4642-976c-1c5d30f02b6f\",\"type\":\"LinearScale\"},{\"attributes\":{\"source\":{\"id\":\"23e31853-5df8-4573-8265-24c330aa8bd4\",\"type\":\"ColumnDataSource\"}},\"id\":\"eb98448d-b3a2-4591-bd71-d38c1a118505\",\"type\":\"CDSView\"},{\"attributes\":{\"dimension\":1,\"plot\":{\"id\":\"85272f57-734c-4dc5-b147-5e51d69e7d5c\",\"subtype\":\"Figure\",\"type\":\"Plot\"},\"ticker\":{\"id\":\"ee4147e1-385b-424c-b367-bd0ced35f7ba\",\"type\":\"BasicTicker\"}},\"id\":\"95131923-e21d-4ba9-8b5a-5cdfaad7df8b\",\"type\":\"Grid\"},{\"attributes\":{\"fill_alpha\":{\"value\":0.1},\"fill_color\":{\"value\":\"#1f77b4\"},\"line_alpha\":{\"value\":0.1},\"line_color\":{\"value\":\"#1f77b4\"},\"size\":{\"units\":\"screen\",\"value\":5},\"x\":{\"field\":\"x\"},\"y\":{\"field\":\"y\"}},\"id\":\"da6e698e-7e51-4256-9965-6ae1dc5b59f6\",\"type\":\"Circle\"},{\"attributes\":{\"formatter\":{\"id\":\"74437bdb-c538-41b4-961a-0d98c9ff8e37\",\"type\":\"BasicTickFormatter\"},\"plot\":{\"id\":\"85272f57-734c-4dc5-b147-5e51d69e7d5c\",\"subtype\":\"Figure\",\"type\":\"Plot\"},\"ticker\":{\"id\":\"c5c7d128-35fa-4721-8b08-99a013b7d07c\",\"type\":\"BasicTicker\"}},\"id\":\"664834fd-4db7-4b0c-b2ab-28c2d27ebe0a\",\"type\":\"LinearAxis\"},{\"attributes\":{},\"id\":\"c5c7d128-35fa-4721-8b08-99a013b7d07c\",\"type\":\"BasicTicker\"},{\"attributes\":{\"source\":{\"id\":\"ccd1eea0-6624-455b-a867-07857246d6b0\",\"type\":\"ColumnDataSource\"}},\"id\":\"c205baac-c6d5-450b-9416-c01e962bda5f\",\"type\":\"CDSView\"},{\"attributes\":{\"plot\":{\"id\":\"85272f57-734c-4dc5-b147-5e51d69e7d5c\",\"subtype\":\"Figure\",\"type\":\"Plot\"},\"ticker\":{\"id\":\"c5c7d128-35fa-4721-8b08-99a013b7d07c\",\"type\":\"BasicTicker\"}},\"id\":\"c3bff1aa-3238-42ee-86eb-acd72da0b79e\",\"type\":\"Grid\"},{\"attributes\":{\"callback\":null,\"column_names\":[\"x\",\"y\",\"desc\",\"pred\",\"not_skip\"],\"data\":{\"desc\":[\"- utter_ask_details\",\"- utter_explain_details_hotel\",\"- utter_ask_details\",\"- utter_chitchat\",\"- utter_ask_details\",\"- utter_ask_startdate\",\"- utter_ask_location\",\"- utter_correct_startdate_hotel\",\"- utter_ask_location\",\"- utter_explain_location_hotel\",\"- utter_ask_location\",\"- utter_ask_price\",\"- utter_chitchat\",\"- utter_ask_price\",\"- utter_chitchat\",\"- utter_ask_price\",\"- utter_chitchat\",\"- utter_ask_price\",\"- utter_chitchat\",\"- utter_ask_price\",\"- utter_explain_price_hotel\",\"- utter_ask_price\",\"- utter_ask_people\",\"- utter_filled_slots\",\"- action_search_hotel\",\"- utter_suggest_hotel\",\"- utter_chitchat\",\"- utter_suggest_hotel\",\"- utter_happy\"],\"not_skip\":[1.0,1.0,0.0,1.0,0.0,1.0,1.0,1.0,0.0,1.0,0.0,1.0,1.0,0.0,1.0,0.0,1.0,0.0,1.0,0.0,1.0,0.0,1.0,1.0,1.0,1.0,1.0,0.0,1.0],\"pred\":[\"- utter_ask_details\",\"- utter_explain_startdate_hotel\",\"- utter_ask_details\",\"- utter_chitchat\",\"- utter_ask_details\",\"- utter_ask_startdate\",\"- utter_ask_location\",\"- utter_correct_startdate_hotel\",\"- utter_ask_location\",\"- utter_explain_price_hotel\",\"- utter_ask_location\",\"- utter_ask_price\",\"- utter_chitchat\",\"- utter_ask_price\",\"- utter_chitchat\",\"- utter_ask_price\",\"- utter_chitchat\",\"- utter_ask_price\",\"- utter_chitchat\",\"- utter_ask_price\",\"- utter_explain_price_hotel\",\"- utter_ask_price\",\"- utter_ask_people\",\"- utter_filled_slots\",\"- action_search_hotel\",\"- utter_suggest_hotel\",\"- utter_chitchat\",\"- utter_suggest_hotel\",\"- utter_happy\"],\"x\":{\"__ndarray__\":\"yr88vSFMvb+4oLctuu/Mv2S2Bbp9+MC/fYI6wlv92L8NSqpCQjKgvyLhFDSLRrS/kS7FntumsT+Lvq5SwZ/QvxYt04mfir0/f0zTnAViqD8LBFmtpZ7LP5PnxlGerdg/wHduCiWwyr9MER9RQV2yPyGyMrge8Mq/B34q6GmHsT/7eStwZZvNv8Di6Kjxqa8/R57+dVDHzr+aEaVDKqatP8RkbPVWLZ8/v1qGQkG1xT+Lk0r4i5gmv/+UB9GhC7a/fdV5tFWB1D9T6xbg6nfJv3laf/eFfda/SJbr50Ubpr+WWJX6TkHLvw==\",\"dtype\":\"float64\",\"shape\":[29]},\"y\":{\"__ndarray__\":\"0MVVPDSH5D/H5buFg/Szvzhfg0FO9tE/RtKP0GNcvL8hUwvwUL+jPxZXqvmAdb0/rNyrewmDsb+uSLV2gEGqP0EUJ5mu/pq/kbI7fhZe07+ZtWdaXdi7v77tsmz5Xbe/1Go8pX3atb8/bhjS8WCoP5uBN7okrLW/4I4ZWakQqD93HWSEV6+5v7JuF96GX6Y/R1EcNcxrur/gzOy/DsalP8G2RP8mc8i/pv9Q1FxHrT9HyqMKUnTBP96/gXrJuLM/ZaYJd9VR1z+/y51gI4bGvyDSnu0FUcq/pb8pTS16nT8eWfBVMZ7Yvw==\",\"dtype\":\"float64\",\"shape\":[29]}},\"selected\":null,\"selection_policy\":null},\"id\":\"ccd1eea0-6624-455b-a867-07857246d6b0\",\"type\":\"ColumnDataSource\"},{\"attributes\":{\"formatter\":{\"id\":\"e54ccc20-29f1-40ee-bf70-279a26d4da2c\",\"type\":\"BasicTickFormatter\"},\"plot\":{\"id\":\"85272f57-734c-4dc5-b147-5e51d69e7d5c\",\"subtype\":\"Figure\",\"type\":\"Plot\"},\"ticker\":{\"id\":\"ee4147e1-385b-424c-b367-bd0ced35f7ba\",\"type\":\"BasicTicker\"}},\"id\":\"a9299076-9181-49fb-b146-092056810b3c\",\"type\":\"LinearAxis\"},{\"attributes\":{\"fill_alpha\":{\"value\":0.1},\"fill_color\":{\"value\":\"#1f77b4\"},\"line_alpha\":{\"value\":0.1},\"line_color\":{\"value\":\"#1f77b4\"},\"size\":{\"units\":\"screen\",\"value\":5},\"x\":{\"field\":\"x\"},\"y\":{\"field\":\"y\"}},\"id\":\"82040fe3-e894-4c00-8281-c6c0447e1152\",\"type\":\"Circle\"},{\"attributes\":{\"line_color\":{\"value\":\"firebrick\"},\"line_width\":{\"value\":2},\"plot\":null,\"size\":10},\"id\":\"a96e13b4-fcb6-403a-bd11-424022ae2605\",\"type\":\"OpenHead\"},{\"attributes\":{\"callback\":null,\"data\":{},\"selected\":null,\"selection_policy\":null},\"id\":\"276f649c-9560-473e-8426-065026792cf6\",\"type\":\"ColumnDataSource\"},{\"attributes\":{\"line_color\":{\"value\":\"firebrick\"},\"line_width\":{\"value\":2},\"plot\":null,\"size\":10},\"id\":\"d19a531d-77e3-4ba9-b0f6-42f121f1b7eb\",\"type\":\"OpenHead\"},{\"attributes\":{\"end\":{\"id\":\"a96e13b4-fcb6-403a-bd11-424022ae2605\",\"type\":\"OpenHead\"},\"line_color\":{\"value\":\"gray\"},\"plot\":{\"id\":\"85272f57-734c-4dc5-b147-5e51d69e7d5c\",\"subtype\":\"Figure\",\"type\":\"Plot\"},\"source\":null,\"start\":null,\"x_end\":{\"value\":-0.1996662443424026},\"x_start\":{\"value\":-0.22612375352369377},\"y_end\":{\"value\":0.702349228640796},\"y_start\":{\"value\":-0.07758604596964672}},\"id\":\"fe66a023-8c55-4822-aa91-b15363ff61fd\",\"type\":\"Arrow\"},{\"attributes\":{\"fill_color\":{\"value\":\"magenta\"},\"line_color\":{\"value\":\"magenta\"},\"size\":{\"units\":\"screen\",\"value\":5},\"x\":{\"value\":-0.026700771582405285},\"y\":{\"value\":0.030976800526988334}},\"id\":\"f49f0729-6b43-4ac7-b9f5-d5106b5c80bc\",\"type\":\"Circle\"},{\"attributes\":{\"end\":{\"id\":\"ef62d686-7b50-498a-8bad-7d940a8a052e\",\"type\":\"OpenHead\"},\"line_color\":{\"value\":\"gray\"},\"plot\":{\"id\":\"85272f57-734c-4dc5-b147-5e51d69e7d5c\",\"subtype\":\"Figure\",\"type\":\"Plot\"},\"source\":null,\"start\":null,\"x_end\":{\"value\":-0.22787668176791584},\"x_start\":{\"value\":0.3810934242138131},\"y_end\":{\"value\":-0.08868186501166704},\"y_start\":{\"value\":-0.09365930742130975}},\"id\":\"74aa2a5b-0b93-49ae-b20a-641d48bdb1b5\",\"type\":\"Arrow\"},{\"attributes\":{\"callback\":null,\"data\":{},\"selected\":null,\"selection_policy\":null},\"id\":\"fc5a5d98-3939-4dea-b4c3-a0b73531afca\",\"type\":\"ColumnDataSource\"},{\"attributes\":{\"line_color\":{\"value\":\"firebrick\"},\"line_width\":{\"value\":2},\"plot\":null,\"size\":10},\"id\":\"f0aa58f1-a9d6-4f60-9879-acbc1eaef20c\",\"type\":\"OpenHead\"},{\"attributes\":{\"fill_alpha\":{\"value\":0.1},\"fill_color\":{\"value\":\"#1f77b4\"},\"line_alpha\":{\"value\":0.1},\"line_color\":{\"value\":\"#1f77b4\"},\"size\":{\"units\":\"screen\",\"value\":5},\"x\":{\"value\":-0.026700771582405285},\"y\":{\"value\":0.030976800526988334}},\"id\":\"e369e24c-706f-4705-8e28-1921cbb3553e\",\"type\":\"Circle\"},{\"attributes\":{\"end\":{\"id\":\"41e5c9ee-2157-4f96-9f93-3104427980d6\",\"type\":\"OpenHead\"},\"line_color\":{\"value\":\"gray\"},\"plot\":{\"id\":\"85272f57-734c-4dc5-b147-5e51d69e7d5c\",\"subtype\":\"Figure\",\"type\":\"Plot\"},\"source\":null,\"start\":null,\"x_end\":{\"value\":0.3235697258052374},\"x_start\":{\"value\":-0.22787668176791584},\"y_end\":{\"value\":-0.026693184847622915},\"y_start\":{\"value\":-0.08868186501166704}},\"id\":\"67a910a9-b2fc-4891-81b9-040f57da157f\",\"type\":\"Arrow\"},{\"attributes\":{\"data_source\":{\"id\":\"fc5a5d98-3939-4dea-b4c3-a0b73531afca\",\"type\":\"ColumnDataSource\"},\"glyph\":{\"id\":\"f49f0729-6b43-4ac7-b9f5-d5106b5c80bc\",\"type\":\"Circle\"},\"hover_glyph\":null,\"muted_glyph\":null,\"nonselection_glyph\":{\"id\":\"e369e24c-706f-4705-8e28-1921cbb3553e\",\"type\":\"Circle\"},\"selection_glyph\":null,\"view\":{\"id\":\"ea5412b2-4b40-4679-9e24-8db3c8200ab2\",\"type\":\"CDSView\"}},\"id\":\"ef1c1150-7013-4565-b921-8be17fa2e7ac\",\"type\":\"GlyphRenderer\"},{\"attributes\":{\"end\":{\"id\":\"f0aa58f1-a9d6-4f60-9879-acbc1eaef20c\",\"type\":\"OpenHead\"},\"line_color\":{\"value\":\"gray\"},\"plot\":{\"id\":\"85272f57-734c-4dc5-b147-5e51d69e7d5c\",\"subtype\":\"Figure\",\"type\":\"Plot\"},\"source\":null,\"start\":null,\"x_end\":{\"value\":-0.3958726000869665},\"x_start\":{\"value\":-0.1996662443424026},\"y_end\":{\"value\":-0.10856299369497145},\"y_start\":{\"value\":0.702349228640796}},\"id\":\"d4d5de6f-d70c-49b5-9159-99aa6d1b1021\",\"type\":\"Arrow\"},{\"attributes\":{\"line_color\":{\"value\":\"firebrick\"},\"line_width\":{\"value\":2},\"plot\":null,\"size\":10},\"id\":\"dc60febc-e2ce-486c-ad6d-b0b8850fa052\",\"type\":\"OpenHead\"},{\"attributes\":{\"source\":{\"id\":\"fc5a5d98-3939-4dea-b4c3-a0b73531afca\",\"type\":\"ColumnDataSource\"}},\"id\":\"ea5412b2-4b40-4679-9e24-8db3c8200ab2\",\"type\":\"CDSView\"},{\"attributes\":{\"end\":{\"id\":\"d19a531d-77e3-4ba9-b0f6-42f121f1b7eb\",\"type\":\"OpenHead\"},\"line_color\":{\"value\":\"gray\"},\"plot\":{\"id\":\"85272f57-734c-4dc5-b147-5e51d69e7d5c\",\"subtype\":\"Figure\",\"type\":\"Plot\"},\"source\":null,\"start\":null,\"x_end\":{\"value\":-0.08787737274535944},\"x_start\":{\"value\":-0.3958726000869665},\"y_end\":{\"value\":0.3550793329557007},\"y_start\":{\"value\":-0.10856299369497145}},\"id\":\"ccdb9068-9a4e-4824-93fa-fbf7645aaa0c\",\"type\":\"Arrow\"},{\"attributes\":{\"callback\":null,\"data\":{},\"selected\":null,\"selection_policy\":null},\"id\":\"d18f6576-8c13-43a0-b7b3-0047763f924b\",\"type\":\"ColumnDataSource\"},{\"attributes\":{\"line_color\":{\"value\":\"firebrick\"},\"line_width\":{\"value\":2},\"plot\":null,\"size\":10},\"id\":\"fbc61532-c575-41a0-a306-7b1b70bac5f9\",\"type\":\"OpenHead\"},{\"attributes\":{\"fill_color\":{\"value\":\"green\"},\"line_color\":{\"value\":\"green\"},\"size\":{\"units\":\"screen\",\"value\":10},\"x\":{\"value\":-0.1144429289822701},\"y\":{\"value\":0.6415044001025146}},\"id\":\"8c1bb15d-3c9d-4f7a-a7de-fe9765016a9b\",\"type\":\"Circle\"},{\"attributes\":{\"end\":{\"id\":\"dc60febc-e2ce-486c-ad6d-b0b8850fa052\",\"type\":\"OpenHead\"},\"line_color\":{\"value\":\"gray\"},\"plot\":{\"id\":\"85272f57-734c-4dc5-b147-5e51d69e7d5c\",\"subtype\":\"Figure\",\"type\":\"Plot\"},\"source\":null,\"start\":null,\"x_end\":{\"value\":-0.09701824654981175},\"x_start\":{\"value\":-0.08787737274535944},\"y_end\":{\"value\":0.11259813016427518},\"y_start\":{\"value\":0.3550793329557007}},\"id\":\"d1e3597d-8093-4350-9a2c-632a64c96470\",\"type\":\"Arrow\"},{\"attributes\":{\"data_source\":{\"id\":\"276f649c-9560-473e-8426-065026792cf6\",\"type\":\"ColumnDataSource\"},\"glyph\":{\"id\":\"8c1bb15d-3c9d-4f7a-a7de-fe9765016a9b\",\"type\":\"Circle\"},\"hover_glyph\":null,\"muted_glyph\":null,\"nonselection_glyph\":{\"id\":\"c59dbc1e-3355-4458-b06a-0408d95462e3\",\"type\":\"Circle\"},\"selection_glyph\":null,\"view\":{\"id\":\"2f1c38f3-02ef-4475-9221-1f4a4a3d0728\",\"type\":\"CDSView\"}},\"id\":\"8631b491-dfa7-4188-ab72-79c565aa7883\",\"type\":\"GlyphRenderer\"},{\"attributes\":{\"line_color\":{\"value\":\"firebrick\"},\"line_width\":{\"value\":2},\"plot\":null,\"size\":10},\"id\":\"24c4eda2-5c0d-48ed-99e7-720d207350c8\",\"type\":\"OpenHead\"},{\"attributes\":{\"fill_alpha\":{\"value\":0.1},\"fill_color\":{\"value\":\"#1f77b4\"},\"line_alpha\":{\"value\":0.1},\"line_color\":{\"value\":\"#1f77b4\"},\"size\":{\"units\":\"screen\",\"value\":10},\"x\":{\"value\":-0.1144429289822701},\"y\":{\"value\":0.6415044001025146}},\"id\":\"c59dbc1e-3355-4458-b06a-0408d95462e3\",\"type\":\"Circle\"},{\"attributes\":{\"end\":{\"id\":\"fbc61532-c575-41a0-a306-7b1b70bac5f9\",\"type\":\"OpenHead\"},\"line_color\":{\"value\":\"gray\"},\"plot\":{\"id\":\"85272f57-734c-4dc5-b147-5e51d69e7d5c\",\"subtype\":\"Figure\",\"type\":\"Plot\"},\"source\":null,\"start\":null,\"x_end\":{\"value\":0.0541000266843184},\"x_start\":{\"value\":-0.09701824654981175},\"y_end\":{\"value\":-0.06978127228414359},\"y_start\":{\"value\":0.11259813016427518}},\"id\":\"03bc1e77-b808-4351-934f-1220a6436a96\",\"type\":\"Arrow\"},{\"attributes\":{\"source\":{\"id\":\"276f649c-9560-473e-8426-065026792cf6\",\"type\":\"ColumnDataSource\"}},\"id\":\"2f1c38f3-02ef-4475-9221-1f4a4a3d0728\",\"type\":\"CDSView\"},{\"attributes\":{\"line_color\":{\"value\":\"firebrick\"},\"line_width\":{\"value\":2},\"plot\":null,\"size\":10},\"id\":\"b3d060c2-f1c9-4248-b4e7-9e9bfecef68a\",\"type\":\"OpenHead\"},{\"attributes\":{\"end\":{\"id\":\"24c4eda2-5c0d-48ed-99e7-720d207350c8\",\"type\":\"OpenHead\"},\"line_color\":{\"value\":\"gray\"},\"plot\":{\"id\":\"85272f57-734c-4dc5-b147-5e51d69e7d5c\",\"subtype\":\"Figure\",\"type\":\"Plot\"},\"source\":null,\"start\":null,\"x_end\":{\"value\":-0.28699277293720615},\"x_start\":{\"value\":0.0541000266843184},\"y_end\":{\"value\":0.055273754240902084},\"y_start\":{\"value\":-0.06978127228414359}},\"id\":\"5aa341b1-e42f-416f-8127-715e1d901387\",\"type\":\"Arrow\"},{\"attributes\":{\"fill_color\":{\"value\":\"red\"},\"line_color\":{\"value\":\"red\"},\"size\":{\"units\":\"screen\",\"value\":10},\"x\":{\"value\":-0.21850781001174804},\"y\":{\"value\":-0.39125846494791444}},\"id\":\"40acbda2-ce24-402d-b20e-69b6eea9f3f7\",\"type\":\"Circle\"},{\"attributes\":{\"data_source\":{\"id\":\"d18f6576-8c13-43a0-b7b3-0047763f924b\",\"type\":\"ColumnDataSource\"},\"glyph\":{\"id\":\"40acbda2-ce24-402d-b20e-69b6eea9f3f7\",\"type\":\"Circle\"},\"hover_glyph\":null,\"muted_glyph\":null,\"nonselection_glyph\":{\"id\":\"cad338a2-236d-4b4a-967c-90f9cb608214\",\"type\":\"Circle\"},\"selection_glyph\":null,\"view\":{\"id\":\"86e4f9ba-98d6-4337-8777-23e986787f0a\",\"type\":\"CDSView\"}},\"id\":\"9f3fcb07-8db3-4f25-8f9c-f2f355a6f3a9\",\"type\":\"GlyphRenderer\"},{\"attributes\":{\"line_color\":{\"value\":\"firebrick\"},\"line_width\":{\"value\":2},\"plot\":null,\"size\":10},\"id\":\"ffeeaa99-5742-4c55-a629-614fb6957f88\",\"type\":\"OpenHead\"},{\"attributes\":{\"end\":{\"id\":\"b3d060c2-f1c9-4248-b4e7-9e9bfecef68a\",\"type\":\"OpenHead\"},\"line_color\":{\"value\":\"gray\"},\"plot\":{\"id\":\"85272f57-734c-4dc5-b147-5e51d69e7d5c\",\"subtype\":\"Figure\",\"type\":\"Plot\"},\"source\":null,\"start\":null,\"x_end\":{\"value\":0.24765837736204466},\"x_start\":{\"value\":-0.28699277293720615},\"y_end\":{\"value\":-0.10638026806006659},\"y_start\":{\"value\":0.055273754240902084}},\"id\":\"19cdaf69-a307-4830-9861-8a2d81ade2c9\",\"type\":\"Arrow\"},{\"attributes\":{\"fill_alpha\":{\"value\":0.1},\"fill_color\":{\"value\":\"#1f77b4\"},\"line_alpha\":{\"value\":0.1},\"line_color\":{\"value\":\"#1f77b4\"},\"size\":{\"units\":\"screen\",\"value\":10},\"x\":{\"value\":-0.21850781001174804},\"y\":{\"value\":-0.39125846494791444}},\"id\":\"cad338a2-236d-4b4a-967c-90f9cb608214\",\"type\":\"Circle\"},{\"attributes\":{\"line_color\":{\"value\":\"firebrick\"},\"line_width\":{\"value\":2},\"plot\":null,\"size\":10},\"id\":\"9e119da1-bbbc-4406-862d-28738bf2a459\",\"type\":\"OpenHead\"},{\"attributes\":{\"source\":{\"id\":\"d18f6576-8c13-43a0-b7b3-0047763f924b\",\"type\":\"ColumnDataSource\"}},\"id\":\"86e4f9ba-98d6-4337-8777-23e986787f0a\",\"type\":\"CDSView\"},{\"attributes\":{\"end\":{\"id\":\"ffeeaa99-5742-4c55-a629-614fb6957f88\",\"type\":\"OpenHead\"},\"line_color\":{\"value\":\"gray\"},\"plot\":{\"id\":\"85272f57-734c-4dc5-b147-5e51d69e7d5c\",\"subtype\":\"Figure\",\"type\":\"Plot\"},\"source\":null,\"start\":null,\"x_end\":{\"value\":0.0510433136920238},\"x_start\":{\"value\":0.24765837736204466},\"y_end\":{\"value\":-0.3051411273472773},\"y_start\":{\"value\":-0.10638026806006659}},\"id\":\"fdb752c8-ecdc-4e2b-b2c8-00bd47b5b62a\",\"type\":\"Arrow\"},{\"attributes\":{\"line_color\":{\"value\":\"firebrick\"},\"line_width\":{\"value\":2},\"plot\":null,\"size\":10},\"id\":\"785d98c1-e8cb-43f8-9397-376efafc8433\",\"type\":\"OpenHead\"},{\"attributes\":{\"end\":{\"id\":\"9e119da1-bbbc-4406-862d-28738bf2a459\",\"type\":\"OpenHead\"},\"line_color\":{\"value\":\"gray\"},\"plot\":{\"id\":\"85272f57-734c-4dc5-b147-5e51d69e7d5c\",\"subtype\":\"Figure\",\"type\":\"Plot\"},\"source\":null,\"start\":null,\"x_end\":{\"value\":0.34779774011477416},\"x_start\":{\"value\":0.0510433136920238},\"y_end\":{\"value\":-0.18864221230515751},\"y_start\":{\"value\":-0.3051411273472773}},\"id\":\"e95d8685-c5c6-4cdb-a946-0a8ac3a5720c\",\"type\":\"Arrow\"},{\"attributes\":{\"line_color\":{\"value\":\"firebrick\"},\"line_width\":{\"value\":2},\"plot\":null,\"size\":10},\"id\":\"ef62d686-7b50-498a-8bad-7d940a8a052e\",\"type\":\"OpenHead\"},{\"attributes\":{\"end\":{\"id\":\"785d98c1-e8cb-43f8-9397-376efafc8433\",\"type\":\"OpenHead\"},\"line_color\":{\"value\":\"gray\"},\"plot\":{\"id\":\"85272f57-734c-4dc5-b147-5e51d69e7d5c\",\"subtype\":\"Figure\",\"type\":\"Plot\"},\"source\":null,\"start\":null,\"x_end\":{\"value\":0.3810934242138131},\"x_start\":{\"value\":0.34779774011477416},\"y_end\":{\"value\":-0.09365930742130975},\"y_start\":{\"value\":-0.18864221230515751}},\"id\":\"8515f5b5-0688-4ae7-8ae8-7245a22d4d85\",\"type\":\"Arrow\"},{\"attributes\":{\"line_color\":{\"value\":\"firebrick\"},\"line_width\":{\"value\":2},\"plot\":null,\"size\":10},\"id\":\"41e5c9ee-2157-4f96-9f93-3104427980d6\",\"type\":\"OpenHead\"}],\"root_ids\":[\"85272f57-734c-4dc5-b147-5e51d69e7d5c\"]},\"title\":\"Bokeh Application\",\"version\":\"0.12.15\"}};\n",
       "  var render_items = [{\"docid\":\"47828e2a-9267-4f9c-9c37-eeca0492374b\",\"elementid\":\"bc4f3f95-0fb3-4eaf-9a34-e358bc88a402\",\"modelid\":\"85272f57-734c-4dc5-b147-5e51d69e7d5c\"}];\n",
       "  root.Bokeh.embed.embed_items_notebook(docs_json, render_items);\n",
       "\n",
       "  }\n",
       "  if (root.Bokeh !== undefined) {\n",
       "    embed_document(root);\n",
       "  } else {\n",
       "    var attempts = 0;\n",
       "    var timer = setInterval(function(root) {\n",
       "      if (root.Bokeh !== undefined) {\n",
       "        embed_document(root);\n",
       "        clearInterval(timer);\n",
       "      }\n",
       "      attempts++;\n",
       "      if (attempts > 100) {\n",
       "        console.log(\"Bokeh: ERROR: Unable to run BokehJS code because BokehJS library is missing\")\n",
       "        clearInterval(timer);\n",
       "      }\n",
       "    }, 10, root)\n",
       "  }\n",
       "})(window);"
      ],
      "application/vnd.bokehjs_exec.v0+json": ""
     },
     "metadata": {
      "application/vnd.bokehjs_exec.v0+json": {
       "id": "85272f57-734c-4dc5-b147-5e51d69e7d5c"
      }
     },
     "output_type": "display_data"
    }
   ],
   "source": [
    "show(p)"
   ]
  },
  {
   "cell_type": "code",
   "execution_count": null,
   "metadata": {},
   "outputs": [],
   "source": []
  },
  {
   "cell_type": "code",
   "execution_count": 18,
   "metadata": {},
   "outputs": [
    {
     "name": "stdout",
     "output_type": "stream",
     "text": [
      "utter_ask_price --> 5\n",
      "utter_ask_details --> 27\n",
      "utter_ask_people --> 3\n",
      "utter_explain_details_hotel --> 13\n",
      "utter_explain_people_hotel --> 18\n",
      "utter_explain_price_hotel --> 20\n",
      "utter_ask_location --> 4\n",
      "utter_explain_location_hotel --> 16\n",
      "utter_ask_startdate --> 6\n",
      "utter_suggest_hotel --> 11\n",
      "action_search_hotel --> 41\n",
      "action_listen --> 0\n"
     ]
    }
   ],
   "source": [
    "print('utter_ask_price', '-->', domain.index_for_action('utter_ask_price'))\n",
    "print('utter_ask_details', '-->', domain.index_for_action('utter_ask_details'))\n",
    "print('utter_ask_people', '-->', domain.index_for_action('utter_ask_people'))\n",
    "print('utter_explain_details_hotel', '-->', domain.index_for_action('utter_explain_details_hotel'))\n",
    "print('utter_explain_people_hotel', '-->', domain.index_for_action('utter_explain_people_hotel'))\n",
    "print('utter_explain_price_hotel', '-->', domain.index_for_action('utter_explain_price_hotel'))\n",
    "print('utter_ask_location', '-->', domain.index_for_action('utter_ask_location'))\n",
    "print('utter_explain_location_hotel', '-->', domain.index_for_action('utter_explain_location_hotel'))\n",
    "print('utter_ask_startdate', '-->', domain.index_for_action('utter_ask_startdate'))\n",
    "print('utter_suggest_hotel', '-->', domain.index_for_action('utter_suggest_hotel'))\n",
    "print('action_search_hotel', '-->', domain.index_for_action('action_search_hotel'))\n",
    "print('action_listen', '-->', domain.index_for_action('action_listen'))"
   ]
  },
  {
   "cell_type": "code",
   "execution_count": 19,
   "metadata": {},
   "outputs": [
    {
     "data": {
      "text/plain": [
       "(20,)"
      ]
     },
     "execution_count": 19,
     "metadata": {},
     "output_type": "execute_result"
    }
   ],
   "source": [
    "utter_price = embedding_from_tracker(\"#generate story\\n{}\".format(story_block), bot=True)[0,-1,5,:]\n",
    "utter_price.shape"
   ]
  },
  {
   "cell_type": "code",
   "execution_count": 20,
   "metadata": {},
   "outputs": [
    {
     "name": "stdout",
     "output_type": "stream",
     "text": [
      "(20,)\n"
     ]
    },
    {
     "data": {
      "text/html": [
       "<div style=\"display: table;\"><div style=\"display: table-row;\"><div style=\"display: table-cell;\"><b title=\"bokeh.models.renderers.GlyphRenderer\">GlyphRenderer</b>(</div><div style=\"display: table-cell;\">id&nbsp;=&nbsp;'6e965d30-c5c8-45c2-87d3-f8b717c3cf45', <span id=\"a81a1a03-247e-4116-bc0e-1aa7dce64448\" style=\"cursor: pointer;\">&hellip;)</span></div></div><div class=\"cf9f037c-abbd-4fcb-8498-d21534636f28\" style=\"display: none;\"><div style=\"display: table-cell;\"></div><div style=\"display: table-cell;\">data_source&nbsp;=&nbsp;ColumnDataSource(id='7a743e31-f3d8-4b64-8a62-6071b2a7027b', ...),</div></div><div class=\"cf9f037c-abbd-4fcb-8498-d21534636f28\" style=\"display: none;\"><div style=\"display: table-cell;\"></div><div style=\"display: table-cell;\">glyph&nbsp;=&nbsp;Circle(id='19f1b72b-da87-4822-8ac6-7802e1f3d2d4', ...),</div></div><div class=\"cf9f037c-abbd-4fcb-8498-d21534636f28\" style=\"display: none;\"><div style=\"display: table-cell;\"></div><div style=\"display: table-cell;\">hover_glyph&nbsp;=&nbsp;None,</div></div><div class=\"cf9f037c-abbd-4fcb-8498-d21534636f28\" style=\"display: none;\"><div style=\"display: table-cell;\"></div><div style=\"display: table-cell;\">js_event_callbacks&nbsp;=&nbsp;{},</div></div><div class=\"cf9f037c-abbd-4fcb-8498-d21534636f28\" style=\"display: none;\"><div style=\"display: table-cell;\"></div><div style=\"display: table-cell;\">js_property_callbacks&nbsp;=&nbsp;{},</div></div><div class=\"cf9f037c-abbd-4fcb-8498-d21534636f28\" style=\"display: none;\"><div style=\"display: table-cell;\"></div><div style=\"display: table-cell;\">level&nbsp;=&nbsp;'glyph',</div></div><div class=\"cf9f037c-abbd-4fcb-8498-d21534636f28\" style=\"display: none;\"><div style=\"display: table-cell;\"></div><div style=\"display: table-cell;\">muted&nbsp;=&nbsp;False,</div></div><div class=\"cf9f037c-abbd-4fcb-8498-d21534636f28\" style=\"display: none;\"><div style=\"display: table-cell;\"></div><div style=\"display: table-cell;\">muted_glyph&nbsp;=&nbsp;None,</div></div><div class=\"cf9f037c-abbd-4fcb-8498-d21534636f28\" style=\"display: none;\"><div style=\"display: table-cell;\"></div><div style=\"display: table-cell;\">name&nbsp;=&nbsp;None,</div></div><div class=\"cf9f037c-abbd-4fcb-8498-d21534636f28\" style=\"display: none;\"><div style=\"display: table-cell;\"></div><div style=\"display: table-cell;\">nonselection_glyph&nbsp;=&nbsp;Circle(id='b63f6a88-c8c7-4724-a8a8-30cedc17de69', ...),</div></div><div class=\"cf9f037c-abbd-4fcb-8498-d21534636f28\" style=\"display: none;\"><div style=\"display: table-cell;\"></div><div style=\"display: table-cell;\">selection_glyph&nbsp;=&nbsp;None,</div></div><div class=\"cf9f037c-abbd-4fcb-8498-d21534636f28\" style=\"display: none;\"><div style=\"display: table-cell;\"></div><div style=\"display: table-cell;\">subscribed_events&nbsp;=&nbsp;[],</div></div><div class=\"cf9f037c-abbd-4fcb-8498-d21534636f28\" style=\"display: none;\"><div style=\"display: table-cell;\"></div><div style=\"display: table-cell;\">tags&nbsp;=&nbsp;[],</div></div><div class=\"cf9f037c-abbd-4fcb-8498-d21534636f28\" style=\"display: none;\"><div style=\"display: table-cell;\"></div><div style=\"display: table-cell;\">view&nbsp;=&nbsp;CDSView(id='ba22e320-e737-47ab-b42f-75a7257a9387', ...),</div></div><div class=\"cf9f037c-abbd-4fcb-8498-d21534636f28\" style=\"display: none;\"><div style=\"display: table-cell;\"></div><div style=\"display: table-cell;\">visible&nbsp;=&nbsp;True,</div></div><div class=\"cf9f037c-abbd-4fcb-8498-d21534636f28\" style=\"display: none;\"><div style=\"display: table-cell;\"></div><div style=\"display: table-cell;\">x_range_name&nbsp;=&nbsp;'default',</div></div><div class=\"cf9f037c-abbd-4fcb-8498-d21534636f28\" style=\"display: none;\"><div style=\"display: table-cell;\"></div><div style=\"display: table-cell;\">y_range_name&nbsp;=&nbsp;'default')</div></div></div>\n",
       "<script>\n",
       "(function() {\n",
       "  var expanded = false;\n",
       "  var ellipsis = document.getElementById(\"a81a1a03-247e-4116-bc0e-1aa7dce64448\");\n",
       "  ellipsis.addEventListener(\"click\", function() {\n",
       "    var rows = document.getElementsByClassName(\"cf9f037c-abbd-4fcb-8498-d21534636f28\");\n",
       "    for (var i = 0; i < rows.length; i++) {\n",
       "      var el = rows[i];\n",
       "      el.style.display = expanded ? \"none\" : \"table-row\";\n",
       "    }\n",
       "    ellipsis.innerHTML = expanded ? \"&hellip;)\" : \"&lsaquo;&lsaquo;&lsaquo;\";\n",
       "    expanded = !expanded;\n",
       "  });\n",
       "})();\n",
       "</script>\n"
      ],
      "text/plain": [
       "GlyphRenderer(id='6e965d30-c5c8-45c2-87d3-f8b717c3cf45', ...)"
      ]
     },
     "execution_count": 20,
     "metadata": {},
     "output_type": "execute_result"
    }
   ],
   "source": [
    "print(utter_price.shape)\n",
    "x = pca.transform(utter_price.reshape(1,-1))\n",
    "p.circle(x[0][0], x[0][1], color='black')"
   ]
  },
  {
   "cell_type": "code",
   "execution_count": 21,
   "metadata": {},
   "outputs": [
    {
     "data": {
      "text/html": [
       "\n",
       "<div class=\"bk-root\">\n",
       "    <div class=\"bk-plotdiv\" id=\"35749415-1a34-484f-b818-15e73a19d821\"></div>\n",
       "</div>"
      ]
     },
     "metadata": {},
     "output_type": "display_data"
    },
    {
     "data": {
      "application/javascript": [
       "(function(root) {\n",
       "  function embed_document(root) {\n",
       "    \n",
       "  var docs_json = {\"4b9dc224-286e-4083-8617-df5f19a4884f\":{\"roots\":{\"references\":[{\"attributes\":{\"fill_alpha\":{\"value\":0.1},\"fill_color\":{\"value\":\"#1f77b4\"},\"line_alpha\":{\"value\":0.1},\"line_color\":{\"value\":\"#1f77b4\"},\"size\":{\"units\":\"screen\",\"value\":10},\"x\":{\"field\":\"x\"},\"y\":{\"field\":\"y\"}},\"id\":\"0c78e44e-680a-4059-9394-1e0421c19bf9\",\"type\":\"Circle\"},{\"attributes\":{\"end\":{\"id\":\"b411005e-5130-4ad7-a9a6-52266d0a3cb0\",\"type\":\"OpenHead\"},\"line_color\":{\"value\":\"gray\"},\"plot\":{\"id\":\"85272f57-734c-4dc5-b147-5e51d69e7d5c\",\"subtype\":\"Figure\",\"type\":\"Plot\"},\"source\":null,\"start\":null,\"x_end\":{\"value\":-0.2286793577665982},\"x_start\":{\"value\":0.3235697258052374},\"y_end\":{\"value\":-0.09388240906187717},\"y_start\":{\"value\":-0.026693184847622915}},\"id\":\"b8e8df41-2e53-4f0f-99f8-95f19e518e23\",\"type\":\"Arrow\"},{\"attributes\":{\"line_color\":{\"value\":\"firebrick\"},\"line_width\":{\"value\":2},\"plot\":null,\"size\":10},\"id\":\"4c8b03d5-30a5-4445-aa46-0586ec1dd9e3\",\"type\":\"OpenHead\"},{\"attributes\":{\"line_color\":{\"value\":\"firebrick\"},\"line_width\":{\"value\":2},\"plot\":null,\"size\":10},\"id\":\"4f3102ef-0d3f-4239-8d71-5b20d97b24ef\",\"type\":\"OpenHead\"},{\"attributes\":{},\"id\":\"74437bdb-c538-41b4-961a-0d98c9ff8e37\",\"type\":\"BasicTickFormatter\"},{\"attributes\":{\"source\":{\"id\":\"1b66b44b-0039-4f35-8094-de3e11db6750\",\"type\":\"ColumnDataSource\"}},\"id\":\"e762c0bc-99f0-4081-90c8-f8495f041d2c\",\"type\":\"CDSView\"},{\"attributes\":{\"end\":{\"id\":\"4c8b03d5-30a5-4445-aa46-0586ec1dd9e3\",\"type\":\"OpenHead\"},\"line_color\":{\"value\":\"gray\"},\"plot\":{\"id\":\"85272f57-734c-4dc5-b147-5e51d69e7d5c\",\"subtype\":\"Figure\",\"type\":\"Plot\"},\"source\":null,\"start\":null,\"x_end\":{\"value\":0.3295374189621917},\"x_start\":{\"value\":-0.2286793577665982},\"y_end\":{\"value\":-0.010007415109161292},\"y_start\":{\"value\":-0.09388240906187717}},\"id\":\"c2d4cc93-37f4-4565-b6d6-d8d2d4ea46b1\",\"type\":\"Arrow\"},{\"attributes\":{\"line_color\":{\"value\":\"firebrick\"},\"line_width\":{\"value\":2},\"plot\":null,\"size\":10},\"id\":\"856b64d4-bf84-4f6e-be8c-f59f3ce9bae8\",\"type\":\"OpenHead\"},{\"attributes\":{\"end\":{\"id\":\"785d98c1-e8cb-43f8-9397-376efafc8433\",\"type\":\"OpenHead\"},\"line_color\":{\"value\":\"gray\"},\"plot\":{\"id\":\"85272f57-734c-4dc5-b147-5e51d69e7d5c\",\"subtype\":\"Figure\",\"type\":\"Plot\"},\"source\":null,\"start\":null,\"x_end\":{\"value\":0.3810934242138131},\"x_start\":{\"value\":0.34779774011477416},\"y_end\":{\"value\":-0.09365930742130975},\"y_start\":{\"value\":-0.18864221230515751}},\"id\":\"8515f5b5-0688-4ae7-8ae8-7245a22d4d85\",\"type\":\"Arrow\"},{\"attributes\":{\"end\":{\"id\":\"4f3102ef-0d3f-4239-8d71-5b20d97b24ef\",\"type\":\"OpenHead\"},\"line_color\":{\"value\":\"gray\"},\"plot\":{\"id\":\"85272f57-734c-4dc5-b147-5e51d69e7d5c\",\"subtype\":\"Figure\",\"type\":\"Plot\"},\"source\":null,\"start\":null,\"x_end\":{\"value\":-0.24841095356577575},\"x_start\":{\"value\":0.3295374189621917},\"y_end\":{\"value\":-0.10703115308883247},\"y_start\":{\"value\":-0.010007415109161292}},\"id\":\"6167d592-c4d0-4371-9dbd-2cb06ab5cfcb\",\"type\":\"Arrow\"},{\"attributes\":{\"line_color\":{\"value\":\"firebrick\"},\"line_width\":{\"value\":2},\"plot\":null,\"size\":10},\"id\":\"6e07eefc-09cd-495d-a737-35e37fda833f\",\"type\":\"OpenHead\"},{\"attributes\":{\"end\":{\"id\":\"856b64d4-bf84-4f6e-be8c-f59f3ce9bae8\",\"type\":\"OpenHead\"},\"line_color\":{\"value\":\"gray\"},\"plot\":{\"id\":\"85272f57-734c-4dc5-b147-5e51d69e7d5c\",\"subtype\":\"Figure\",\"type\":\"Plot\"},\"source\":null,\"start\":null,\"x_end\":{\"value\":0.3176683427823038},\"x_start\":{\"value\":-0.24841095356577575},\"y_end\":{\"value\":-0.011449311908315146},\"y_start\":{\"value\":-0.10703115308883247}},\"id\":\"35622825-0497-4ae9-8ebc-54becd1b4291\",\"type\":\"Arrow\"},{\"attributes\":{\"line_color\":{\"value\":\"firebrick\"},\"line_width\":{\"value\":2},\"plot\":null,\"size\":10},\"id\":\"604ae6b4-f4b6-4eb7-b9f2-0be905ef2608\",\"type\":\"OpenHead\"},{\"attributes\":{\"end\":{\"id\":\"6e07eefc-09cd-495d-a737-35e37fda833f\",\"type\":\"OpenHead\"},\"line_color\":{\"value\":\"gray\"},\"plot\":{\"id\":\"85272f57-734c-4dc5-b147-5e51d69e7d5c\",\"subtype\":\"Figure\",\"type\":\"Plot\"},\"source\":null,\"start\":null,\"x_end\":{\"value\":-0.2553936436544243},\"x_start\":{\"value\":0.3176683427823038},\"y_end\":{\"value\":-0.10993515914208597},\"y_start\":{\"value\":-0.011449311908315146}},\"id\":\"279c9863-3490-4831-b1a7-8a222f60e176\",\"type\":\"Arrow\"},{\"attributes\":{\"line_color\":{\"value\":\"firebrick\"},\"line_width\":{\"value\":2},\"plot\":null,\"size\":10},\"id\":\"57ffea77-b6a0-40ae-808c-523102f285df\",\"type\":\"OpenHead\"},{\"attributes\":{\"end\":{\"id\":\"604ae6b4-f4b6-4eb7-b9f2-0be905ef2608\",\"type\":\"OpenHead\"},\"line_color\":{\"value\":\"gray\"},\"plot\":{\"id\":\"85272f57-734c-4dc5-b147-5e51d69e7d5c\",\"subtype\":\"Figure\",\"type\":\"Plot\"},\"source\":null,\"start\":null,\"x_end\":{\"value\":0.310337217897502},\"x_start\":{\"value\":-0.2553936436544243},\"y_end\":{\"value\":-0.011917836232723607},\"y_start\":{\"value\":-0.10993515914208597}},\"id\":\"d9ab58fd-970a-46dd-9ccd-ebc5711090e9\",\"type\":\"Arrow\"},{\"attributes\":{\"line_color\":{\"value\":\"firebrick\"},\"line_width\":{\"value\":2},\"plot\":null,\"size\":10},\"id\":\"fd83255c-300b-462f-aa46-6ec7140e9c44\",\"type\":\"OpenHead\"},{\"attributes\":{\"end\":{\"id\":\"57ffea77-b6a0-40ae-808c-523102f285df\",\"type\":\"OpenHead\"},\"line_color\":{\"value\":\"gray\"},\"plot\":{\"id\":\"85272f57-734c-4dc5-b147-5e51d69e7d5c\",\"subtype\":\"Figure\",\"type\":\"Plot\"},\"source\":null,\"start\":null,\"x_end\":{\"value\":0.04870316960864764},\"x_start\":{\"value\":0.310337217897502},\"y_end\":{\"value\":-0.19216600756277263},\"y_start\":{\"value\":-0.011917836232723607}},\"id\":\"f9a19a86-89c7-4322-b204-92ba6e67bf62\",\"type\":\"Arrow\"},{\"attributes\":{\"line_color\":{\"value\":\"firebrick\"},\"line_width\":{\"value\":2},\"plot\":null,\"size\":10},\"id\":\"b6dc1b16-49c2-44d7-a21a-53a666fe51b3\",\"type\":\"OpenHead\"},{\"attributes\":{\"end\":{\"id\":\"fd83255c-300b-462f-aa46-6ec7140e9c44\",\"type\":\"OpenHead\"},\"line_color\":{\"value\":\"gray\"},\"plot\":{\"id\":\"85272f57-734c-4dc5-b147-5e51d69e7d5c\",\"subtype\":\"Figure\",\"type\":\"Plot\"},\"source\":null,\"start\":null,\"x_end\":{\"value\":0.5359072475169921},\"x_start\":{\"value\":0.04870316960864764},\"y_end\":{\"value\":-0.022014789166248775},\"y_start\":{\"value\":-0.19216600756277263}},\"id\":\"185491fb-ce00-4255-98bf-2b8e02c293c3\",\"type\":\"Arrow\"},{\"attributes\":{\"line_color\":{\"value\":\"firebrick\"},\"line_width\":{\"value\":2},\"plot\":null,\"size\":10},\"id\":\"b94e92ab-e628-4da0-899c-1aba403aaec3\",\"type\":\"OpenHead\"},{\"attributes\":{\"end\":{\"id\":\"b6dc1b16-49c2-44d7-a21a-53a666fe51b3\",\"type\":\"OpenHead\"},\"line_color\":{\"value\":\"gray\"},\"plot\":{\"id\":\"85272f57-734c-4dc5-b147-5e51d69e7d5c\",\"subtype\":\"Figure\",\"type\":\"Plot\"},\"source\":null,\"start\":null,\"x_end\":{\"value\":-0.00412055413115097},\"x_start\":{\"value\":0.5359072475169921},\"y_end\":{\"value\":0.13424326910027518},\"y_start\":{\"value\":-0.022014789166248775}},\"id\":\"76cf8849-c637-4ba5-ba05-b42cf5a51ef3\",\"type\":\"Arrow\"},{\"attributes\":{\"line_color\":{\"value\":\"firebrick\"},\"line_width\":{\"value\":2},\"plot\":null,\"size\":10},\"id\":\"0d2320e8-8036-4ae5-bb24-3b5155fe131f\",\"type\":\"OpenHead\"},{\"attributes\":{\"end\":{\"id\":\"b94e92ab-e628-4da0-899c-1aba403aaec3\",\"type\":\"OpenHead\"},\"line_color\":{\"value\":\"gray\"},\"plot\":{\"id\":\"85272f57-734c-4dc5-b147-5e51d69e7d5c\",\"subtype\":\"Figure\",\"type\":\"Plot\"},\"source\":null,\"start\":null,\"x_end\":{\"value\":-0.09900444798127699},\"x_start\":{\"value\":-0.00412055413115097},\"y_end\":{\"value\":0.07029481430512892},\"y_start\":{\"value\":0.13424326910027518}},\"id\":\"147f4967-4b05-4dd1-bf16-e107277ef333\",\"type\":\"Arrow\"},{\"attributes\":{\"line_color\":{\"value\":\"firebrick\"},\"line_width\":{\"value\":2},\"plot\":null,\"size\":10},\"id\":\"26eaddc7-2e03-47da-bd0e-c3a52e1b9c11\",\"type\":\"OpenHead\"},{\"attributes\":{\"end\":{\"id\":\"0d2320e8-8036-4ae5-bb24-3b5155fe131f\",\"type\":\"OpenHead\"},\"line_color\":{\"value\":\"gray\"},\"plot\":{\"id\":\"85272f57-734c-4dc5-b147-5e51d69e7d5c\",\"subtype\":\"Figure\",\"type\":\"Plot\"},\"source\":null,\"start\":null,\"x_end\":{\"value\":0.3329440926833932},\"x_start\":{\"value\":-0.09900444798127699},\"y_end\":{\"value\":0.347486228707811},\"y_start\":{\"value\":0.07029481430512892}},\"id\":\"9fe01675-d182-4fe4-87f3-38cec54fe1c5\",\"type\":\"Arrow\"},{\"attributes\":{\"line_color\":{\"value\":\"firebrick\"},\"line_width\":{\"value\":2},\"plot\":null,\"size\":10},\"id\":\"155c814b-d682-431d-8e0a-374a501f73b7\",\"type\":\"OpenHead\"},{\"attributes\":{\"end\":{\"id\":\"26eaddc7-2e03-47da-bd0e-c3a52e1b9c11\",\"type\":\"OpenHead\"},\"line_color\":{\"value\":\"gray\"},\"plot\":{\"id\":\"85272f57-734c-4dc5-b147-5e51d69e7d5c\",\"subtype\":\"Figure\",\"type\":\"Plot\"},\"source\":null,\"start\":null,\"x_end\":{\"value\":-0.16361669925191186},\"x_start\":{\"value\":0.3329440926833932},\"y_end\":{\"value\":-0.1828742346998748},\"y_start\":{\"value\":0.347486228707811}},\"id\":\"c128e9c1-93aa-447c-abce-986b34033252\",\"type\":\"Arrow\"},{\"attributes\":{\"line_color\":{\"value\":\"firebrick\"},\"line_width\":{\"value\":2},\"plot\":null,\"size\":10},\"id\":\"6003258b-0aff-4429-ab54-277997013aa9\",\"type\":\"OpenHead\"},{\"attributes\":{\"end\":{\"id\":\"155c814b-d682-431d-8e0a-374a501f73b7\",\"type\":\"OpenHead\"},\"line_color\":{\"value\":\"gray\"},\"plot\":{\"id\":\"85272f57-734c-4dc5-b147-5e51d69e7d5c\",\"subtype\":\"Figure\",\"type\":\"Plot\"},\"source\":null,\"start\":null,\"x_end\":{\"value\":-0.36309511553667234},\"x_start\":{\"value\":-0.16361669925191186},\"y_end\":{\"value\":-0.21550763923832822},\"y_start\":{\"value\":-0.1828742346998748}},\"id\":\"4713a229-1b09-46ee-82f1-02638cdf9bf4\",\"type\":\"Arrow\"},{\"attributes\":{\"line_color\":{\"value\":\"firebrick\"},\"line_width\":{\"value\":2},\"plot\":null,\"size\":10},\"id\":\"deaa5faf-7626-48c8-85a0-4d75e1e3f6cb\",\"type\":\"OpenHead\"},{\"attributes\":{\"below\":[{\"id\":\"664834fd-4db7-4b0c-b2ab-28c2d27ebe0a\",\"type\":\"LinearAxis\"}],\"left\":[{\"id\":\"a9299076-9181-49fb-b146-092056810b3c\",\"type\":\"LinearAxis\"}],\"renderers\":[{\"id\":\"664834fd-4db7-4b0c-b2ab-28c2d27ebe0a\",\"type\":\"LinearAxis\"},{\"id\":\"c3bff1aa-3238-42ee-86eb-acd72da0b79e\",\"type\":\"Grid\"},{\"id\":\"a9299076-9181-49fb-b146-092056810b3c\",\"type\":\"LinearAxis\"},{\"id\":\"95131923-e21d-4ba9-8b5a-5cdfaad7df8b\",\"type\":\"Grid\"},{\"id\":\"3391c76d-5eb2-4e1b-825d-f7db794f76c5\",\"type\":\"Arrow\"},{\"id\":\"fe66a023-8c55-4822-aa91-b15363ff61fd\",\"type\":\"Arrow\"},{\"id\":\"d4d5de6f-d70c-49b5-9159-99aa6d1b1021\",\"type\":\"Arrow\"},{\"id\":\"ccdb9068-9a4e-4824-93fa-fbf7645aaa0c\",\"type\":\"Arrow\"},{\"id\":\"d1e3597d-8093-4350-9a2c-632a64c96470\",\"type\":\"Arrow\"},{\"id\":\"03bc1e77-b808-4351-934f-1220a6436a96\",\"type\":\"Arrow\"},{\"id\":\"5aa341b1-e42f-416f-8127-715e1d901387\",\"type\":\"Arrow\"},{\"id\":\"19cdaf69-a307-4830-9861-8a2d81ade2c9\",\"type\":\"Arrow\"},{\"id\":\"fdb752c8-ecdc-4e2b-b2c8-00bd47b5b62a\",\"type\":\"Arrow\"},{\"id\":\"e95d8685-c5c6-4cdb-a946-0a8ac3a5720c\",\"type\":\"Arrow\"},{\"id\":\"8515f5b5-0688-4ae7-8ae8-7245a22d4d85\",\"type\":\"Arrow\"},{\"id\":\"74aa2a5b-0b93-49ae-b20a-641d48bdb1b5\",\"type\":\"Arrow\"},{\"id\":\"67a910a9-b2fc-4891-81b9-040f57da157f\",\"type\":\"Arrow\"},{\"id\":\"b8e8df41-2e53-4f0f-99f8-95f19e518e23\",\"type\":\"Arrow\"},{\"id\":\"c2d4cc93-37f4-4565-b6d6-d8d2d4ea46b1\",\"type\":\"Arrow\"},{\"id\":\"6167d592-c4d0-4371-9dbd-2cb06ab5cfcb\",\"type\":\"Arrow\"},{\"id\":\"35622825-0497-4ae9-8ebc-54becd1b4291\",\"type\":\"Arrow\"},{\"id\":\"279c9863-3490-4831-b1a7-8a222f60e176\",\"type\":\"Arrow\"},{\"id\":\"d9ab58fd-970a-46dd-9ccd-ebc5711090e9\",\"type\":\"Arrow\"},{\"id\":\"f9a19a86-89c7-4322-b204-92ba6e67bf62\",\"type\":\"Arrow\"},{\"id\":\"185491fb-ce00-4255-98bf-2b8e02c293c3\",\"type\":\"Arrow\"},{\"id\":\"76cf8849-c637-4ba5-ba05-b42cf5a51ef3\",\"type\":\"Arrow\"},{\"id\":\"147f4967-4b05-4dd1-bf16-e107277ef333\",\"type\":\"Arrow\"},{\"id\":\"9fe01675-d182-4fe4-87f3-38cec54fe1c5\",\"type\":\"Arrow\"},{\"id\":\"c128e9c1-93aa-447c-abce-986b34033252\",\"type\":\"Arrow\"},{\"id\":\"4713a229-1b09-46ee-82f1-02638cdf9bf4\",\"type\":\"Arrow\"},{\"id\":\"912af53e-3483-4522-b580-1d22c8a3b3ec\",\"type\":\"Arrow\"},{\"id\":\"712cfb42-4861-4ca8-b11c-fddcf7df4ee2\",\"type\":\"Arrow\"},{\"id\":\"08807219-42a5-4432-a654-2af486635233\",\"type\":\"GlyphRenderer\"},{\"id\":\"26947e37-0935-42da-8756-8f6f3b59e5b6\",\"type\":\"GlyphRenderer\"},{\"id\":\"9804670d-41e8-4799-880d-ee981ffe07e8\",\"type\":\"GlyphRenderer\"},{\"id\":\"ef1c1150-7013-4565-b921-8be17fa2e7ac\",\"type\":\"GlyphRenderer\"},{\"id\":\"8631b491-dfa7-4188-ab72-79c565aa7883\",\"type\":\"GlyphRenderer\"},{\"id\":\"9f3fcb07-8db3-4f25-8f9c-f2f355a6f3a9\",\"type\":\"GlyphRenderer\"},{\"id\":\"6e965d30-c5c8-45c2-87d3-f8b717c3cf45\",\"type\":\"GlyphRenderer\"}],\"title\":{\"id\":\"536447fb-bfb9-43bf-bbca-04694c0da4bb\",\"type\":\"Title\"},\"toolbar\":{\"id\":\"cef4e66b-9549-4b3d-9c80-4e05074c607f\",\"type\":\"Toolbar\"},\"x_range\":{\"id\":\"32a4ec62-1460-4f77-87fe-63d9d4244298\",\"type\":\"DataRange1d\"},\"x_scale\":{\"id\":\"61f6b74a-7a10-4642-976c-1c5d30f02b6f\",\"type\":\"LinearScale\"},\"y_range\":{\"id\":\"edf68f94-1c0d-43ca-86b3-117e3c52766b\",\"type\":\"DataRange1d\"},\"y_scale\":{\"id\":\"cab8a556-af9b-46d1-8431-03fd793ab252\",\"type\":\"LinearScale\"}},\"id\":\"85272f57-734c-4dc5-b147-5e51d69e7d5c\",\"subtype\":\"Figure\",\"type\":\"Plot\"},{\"attributes\":{\"end\":{\"id\":\"6003258b-0aff-4429-ab54-277997013aa9\",\"type\":\"OpenHead\"},\"line_color\":{\"value\":\"gray\"},\"plot\":{\"id\":\"85272f57-734c-4dc5-b147-5e51d69e7d5c\",\"subtype\":\"Figure\",\"type\":\"Plot\"},\"source\":null,\"start\":null,\"x_end\":{\"value\":-0.063660914488057},\"x_start\":{\"value\":-0.36309511553667234},\"y_end\":{\"value\":-0.005656461117405918},\"y_start\":{\"value\":-0.21550763923832822}},\"id\":\"912af53e-3483-4522-b580-1d22c8a3b3ec\",\"type\":\"Arrow\"},{\"attributes\":{\"fill_color\":{\"value\":\"#1f77b4\"},\"line_color\":{\"value\":\"#1f77b4\"},\"size\":{\"units\":\"screen\",\"value\":10},\"x\":{\"field\":\"x\"},\"y\":{\"field\":\"y\"}},\"id\":\"2f39088c-e26c-4be6-842a-d5cebce42431\",\"type\":\"Circle\"},{\"attributes\":{\"callback\":null,\"names\":[\"circle\"],\"tooltips\":[[\"true action\",\"@desc\"],[\"prediction\",\"@pred\"],[\"not_skip_gate\",\"@not_skip\"]]},\"id\":\"fb8f3648-2422-4a3a-a882-8cbf4ea60772\",\"type\":\"HoverTool\"},{\"attributes\":{\"end\":{\"id\":\"deaa5faf-7626-48c8-85a0-4d75e1e3f6cb\",\"type\":\"OpenHead\"},\"line_color\":{\"value\":\"gray\"},\"plot\":{\"id\":\"85272f57-734c-4dc5-b147-5e51d69e7d5c\",\"subtype\":\"Figure\",\"type\":\"Plot\"},\"source\":null,\"start\":null,\"x_end\":{\"value\":-0.21850781001174804},\"x_start\":{\"value\":-0.063660914488057},\"y_end\":{\"value\":-0.39125846494791444},\"y_start\":{\"value\":-0.005656461117405918}},\"id\":\"712cfb42-4861-4ca8-b11c-fddcf7df4ee2\",\"type\":\"Arrow\"},{\"attributes\":{\"line_color\":{\"value\":\"firebrick\"},\"line_width\":{\"value\":2},\"plot\":null,\"size\":10},\"id\":\"85eb92ef-a6e7-4871-8351-2f2e9ad0afb4\",\"type\":\"OpenHead\"},{\"attributes\":{\"line_color\":{\"value\":\"firebrick\"},\"line_width\":{\"value\":2},\"plot\":null,\"size\":10},\"id\":\"b411005e-5130-4ad7-a9a6-52266d0a3cb0\",\"type\":\"OpenHead\"},{\"attributes\":{},\"id\":\"ee4147e1-385b-424c-b367-bd0ced35f7ba\",\"type\":\"BasicTicker\"},{\"attributes\":{\"data_source\":{\"id\":\"1b66b44b-0039-4f35-8094-de3e11db6750\",\"type\":\"ColumnDataSource\"},\"glyph\":{\"id\":\"2f39088c-e26c-4be6-842a-d5cebce42431\",\"type\":\"Circle\"},\"hover_glyph\":null,\"muted_glyph\":null,\"name\":\"circle\",\"nonselection_glyph\":{\"id\":\"0c78e44e-680a-4059-9394-1e0421c19bf9\",\"type\":\"Circle\"},\"selection_glyph\":null,\"view\":{\"id\":\"e762c0bc-99f0-4081-90c8-f8495f041d2c\",\"type\":\"CDSView\"}},\"id\":\"08807219-42a5-4432-a654-2af486635233\",\"type\":\"GlyphRenderer\"},{\"attributes\":{\"fill_color\":{\"value\":\"red\"},\"line_color\":{\"value\":\"red\"},\"size\":{\"units\":\"screen\",\"value\":5},\"x\":{\"field\":\"x\"},\"y\":{\"field\":\"y\"}},\"id\":\"65a3b59d-ba78-4b51-ab7c-14ce60fa1e0a\",\"type\":\"Circle\"},{\"attributes\":{\"data_source\":{\"id\":\"23e31853-5df8-4573-8265-24c330aa8bd4\",\"type\":\"ColumnDataSource\"},\"glyph\":{\"id\":\"abf2619d-75a4-45a6-93dd-064fe5088bd2\",\"type\":\"Circle\"},\"hover_glyph\":null,\"muted_glyph\":null,\"name\":\"circle\",\"nonselection_glyph\":{\"id\":\"da6e698e-7e51-4256-9965-6ae1dc5b59f6\",\"type\":\"Circle\"},\"selection_glyph\":null,\"view\":{\"id\":\"eb98448d-b3a2-4591-bd71-d38c1a118505\",\"type\":\"CDSView\"}},\"id\":\"26947e37-0935-42da-8756-8f6f3b59e5b6\",\"type\":\"GlyphRenderer\"},{\"attributes\":{\"callback\":null,\"column_names\":[\"x\",\"y\",\"desc\",\"pred\",\"not_skip\"],\"data\":{\"desc\":[\"- utter_ask_details\",\"- utter_explain_details_hotel\",\"- utter_ask_details\",\"- utter_chitchat\",\"- utter_ask_details\",\"- utter_ask_startdate\",\"- utter_ask_location\",\"- utter_correct_startdate_hotel\",\"- utter_ask_location\",\"- utter_explain_location_hotel\",\"- utter_ask_location\",\"- utter_ask_price\",\"- utter_chitchat\",\"- utter_ask_price\",\"- utter_chitchat\",\"- utter_ask_price\",\"- utter_chitchat\",\"- utter_ask_price\",\"- utter_chitchat\",\"- utter_ask_price\",\"- utter_explain_price_hotel\",\"- utter_ask_price\",\"- utter_ask_people\",\"- utter_filled_slots\",\"- action_search_hotel\",\"- utter_suggest_hotel\",\"- utter_chitchat\",\"- utter_suggest_hotel\",\"- utter_happy\"],\"not_skip\":[1.0,1.0,0.0,1.0,0.0,1.0,1.0,1.0,0.0,1.0,0.0,1.0,1.0,0.0,1.0,0.0,1.0,0.0,1.0,0.0,1.0,0.0,1.0,1.0,1.0,1.0,1.0,0.0,1.0],\"pred\":[\"- utter_ask_details\",\"- utter_explain_startdate_hotel\",\"- utter_ask_details\",\"- utter_chitchat\",\"- utter_ask_details\",\"- utter_ask_startdate\",\"- utter_ask_location\",\"- utter_correct_startdate_hotel\",\"- utter_ask_location\",\"- utter_explain_price_hotel\",\"- utter_ask_location\",\"- utter_ask_price\",\"- utter_chitchat\",\"- utter_ask_price\",\"- utter_chitchat\",\"- utter_ask_price\",\"- utter_chitchat\",\"- utter_ask_price\",\"- utter_chitchat\",\"- utter_ask_price\",\"- utter_explain_price_hotel\",\"- utter_ask_price\",\"- utter_ask_people\",\"- utter_filled_slots\",\"- action_search_hotel\",\"- utter_suggest_hotel\",\"- utter_chitchat\",\"- utter_suggest_hotel\",\"- utter_happy\"],\"x\":{\"__ndarray__\":\"vL88vSFMvb/p0x2Hn/HMv/ZqyNqpjsm/b2KwB/pV2b+v7f+pIX+2v/L0CxQw1ri/yMykqv+yqz+sCH3vFl7SvzDarAtFs88/NzL5ZVkiqj82mtpzUULWP8wDbqzVY9g/12rbJxArzb+jyZPLXbXUP4BccH1dRc2/Jg5QHSQX1T9KP8Qc7svPv2pezpmtVNQ/qofGlF5Y0L9KfWaikNzTP3KCXDGf76g/pMu49CYm4T93S8HTtuBwv0v1PAJbWLm/Ji5evfRO1T8m5y5aZPHEv3NPpEvzPNe/6HjC6RRMsL+d5PVcEPjLvw==\",\"dtype\":\"float64\",\"shape\":[29]},\"y\":{\"__ndarray__\":\"1cVVPDSH5D8yyhDardyzv+hB7BaleeY/L8t5y8jKu79I76GqnrnWP8V0pSY707w/Q2tVei/dsb/gaJVt10ysP5b4Qby8O7u/jMCnpm6H079rdD+SbSXIv1UtV24O+re/hTD5zdqztr+VV8lPdVWbvygol3StCLi/VQjkhMR+hL/HcSvGZGa7v1bQqaG8coe/6SAy6bUkvL9Ret7mYGiIv5ZH8U7lmMi/gU/9fQuLlr8kNT8p4i7BPw3YhEjX/rE/MhEH4TY91j8mk6hEbGjHv3KMSBvBlcu//mgquDord79PAc/xYArZvw==\",\"dtype\":\"float64\",\"shape\":[29]}},\"selected\":null,\"selection_policy\":null},\"id\":\"1b66b44b-0039-4f35-8094-de3e11db6750\",\"type\":\"ColumnDataSource\"},{\"attributes\":{\"plot\":null,\"text\":\"\"},\"id\":\"536447fb-bfb9-43bf-bbca-04694c0da4bb\",\"type\":\"Title\"},{\"attributes\":{\"active_drag\":\"auto\",\"active_inspect\":\"auto\",\"active_scroll\":\"auto\",\"active_tap\":\"auto\",\"tools\":[{\"id\":\"fb8f3648-2422-4a3a-a882-8cbf4ea60772\",\"type\":\"HoverTool\"}]},\"id\":\"cef4e66b-9549-4b3d-9c80-4e05074c607f\",\"type\":\"Toolbar\"},{\"attributes\":{\"data_source\":{\"id\":\"ccd1eea0-6624-455b-a867-07857246d6b0\",\"type\":\"ColumnDataSource\"},\"glyph\":{\"id\":\"65a3b59d-ba78-4b51-ab7c-14ce60fa1e0a\",\"type\":\"Circle\"},\"hover_glyph\":null,\"muted_glyph\":null,\"name\":\"circle\",\"nonselection_glyph\":{\"id\":\"82040fe3-e894-4c00-8281-c6c0447e1152\",\"type\":\"Circle\"},\"selection_glyph\":null,\"view\":{\"id\":\"c205baac-c6d5-450b-9416-c01e962bda5f\",\"type\":\"CDSView\"}},\"id\":\"9804670d-41e8-4799-880d-ee981ffe07e8\",\"type\":\"GlyphRenderer\"},{\"attributes\":{\"callback\":null},\"id\":\"edf68f94-1c0d-43ca-86b3-117e3c52766b\",\"type\":\"DataRange1d\"},{\"attributes\":{\"callback\":null},\"id\":\"32a4ec62-1460-4f77-87fe-63d9d4244298\",\"type\":\"DataRange1d\"},{\"attributes\":{},\"id\":\"e54ccc20-29f1-40ee-bf70-279a26d4da2c\",\"type\":\"BasicTickFormatter\"},{\"attributes\":{\"end\":{\"id\":\"85eb92ef-a6e7-4871-8351-2f2e9ad0afb4\",\"type\":\"OpenHead\"},\"line_color\":{\"value\":\"gray\"},\"plot\":{\"id\":\"85272f57-734c-4dc5-b147-5e51d69e7d5c\",\"subtype\":\"Figure\",\"type\":\"Plot\"},\"source\":null,\"start\":null,\"x_end\":{\"value\":-0.22612375352369377},\"x_start\":{\"value\":-0.1144429289822701},\"y_end\":{\"value\":-0.07758604596964672},\"y_start\":{\"value\":0.6415044001025146}},\"id\":\"3391c76d-5eb2-4e1b-825d-f7db794f76c5\",\"type\":\"Arrow\"},{\"attributes\":{\"fill_color\":{\"value\":\"green\"},\"line_color\":{\"value\":\"green\"},\"size\":{\"units\":\"screen\",\"value\":5},\"x\":{\"field\":\"x\"},\"y\":{\"field\":\"y\"}},\"id\":\"abf2619d-75a4-45a6-93dd-064fe5088bd2\",\"type\":\"Circle\"},{\"attributes\":{},\"id\":\"cab8a556-af9b-46d1-8431-03fd793ab252\",\"type\":\"LinearScale\"},{\"attributes\":{\"callback\":null,\"column_names\":[\"x\",\"y\",\"desc\",\"pred\",\"not_skip\"],\"data\":{\"desc\":[\"- utter_ask_details\",\"- utter_explain_details_hotel\",\"- utter_ask_details\",\"- utter_chitchat\",\"- utter_ask_details\",\"- utter_ask_startdate\",\"- utter_ask_location\",\"- utter_correct_startdate_hotel\",\"- utter_ask_location\",\"- utter_explain_location_hotel\",\"- utter_ask_location\",\"- utter_ask_price\",\"- utter_chitchat\",\"- utter_ask_price\",\"- utter_chitchat\",\"- utter_ask_price\",\"- utter_chitchat\",\"- utter_ask_price\",\"- utter_chitchat\",\"- utter_ask_price\",\"- utter_explain_price_hotel\",\"- utter_ask_price\",\"- utter_ask_people\",\"- utter_filled_slots\",\"- action_search_hotel\",\"- utter_suggest_hotel\",\"- utter_chitchat\",\"- utter_suggest_hotel\",\"- utter_happy\"],\"not_skip\":[1.0,1.0,0.0,1.0,0.0,1.0,1.0,1.0,0.0,1.0,0.0,1.0,1.0,0.0,1.0,0.0,1.0,0.0,1.0,0.0,1.0,0.0,1.0,1.0,1.0,1.0,1.0,0.0,1.0],\"pred\":[\"- utter_ask_details\",\"- utter_explain_startdate_hotel\",\"- utter_ask_details\",\"- utter_chitchat\",\"- utter_ask_details\",\"- utter_ask_startdate\",\"- utter_ask_location\",\"- utter_correct_startdate_hotel\",\"- utter_ask_location\",\"- utter_explain_price_hotel\",\"- utter_ask_location\",\"- utter_ask_price\",\"- utter_chitchat\",\"- utter_ask_price\",\"- utter_chitchat\",\"- utter_ask_price\",\"- utter_chitchat\",\"- utter_ask_price\",\"- utter_chitchat\",\"- utter_ask_price\",\"- utter_explain_price_hotel\",\"- utter_ask_price\",\"- utter_ask_people\",\"- utter_filled_slots\",\"- action_search_hotel\",\"- utter_suggest_hotel\",\"- utter_chitchat\",\"- utter_suggest_hotel\",\"- utter_happy\"],\"x\":{\"__ndarray__\":\"S8jlcnJXm7/3YMQSnWabv3Y0tt40Ari/SBv9m6twoL/DFY8l3Tu1vxfdNv0Cy6a/DJ56s3BGpb8AnEsyZp6rv9yPm+gNBrs/uZTFGsvWl7/qUVnFHfa6P6boAav885+//QNqeWWXp7+bzvuoLNHMP3HhqD60AKe/kF7L+aT/zT+GBUzK222mv+DnunzwU80/256yP2xRpb/1KdhsqOTMP4mckpsVS4G/G7DbIDa81T/P55XwbmKfv3QsmqMrRaS/yFuy8wP7jL9Cyyqgg7mBP35qmMkjp6O/hP8dH50oqL+lgbXCvoagvw==\",\"dtype\":\"float64\",\"shape\":[29]},\"y\":{\"__ndarray__\":\"tuLK5GG4nz/5PxFD3AugP3ItiBOC+Nw/x5Hi8Wb/oD+vIVemOj3WP1WDOHxKL50/TLJXF8pPnj+S7SXdh+ehP8IZYSfxG6m/EdAwx98inT8KT0iOygipv9n5XPUNSJ0/iPBvfe1SnD+p2nl8ey+mv+VjVYQ+RpY/grzg6lKomr9ZRv+3LNyYPweVjOsJwJi/38qDSrvUmD8u1vfR6weYvwbFW3Rvip4/eU7jl7GwqL/XdfUe44ydP8grFx2Z0Jg/BF/uZvHcjD8nft7oGqaYP4FktdOHkpU/WZejPdBkbL9Q9gxKaPWYPw==\",\"dtype\":\"float64\",\"shape\":[29]}},\"selected\":null,\"selection_policy\":null},\"id\":\"23e31853-5df8-4573-8265-24c330aa8bd4\",\"type\":\"ColumnDataSource\"},{\"attributes\":{},\"id\":\"61f6b74a-7a10-4642-976c-1c5d30f02b6f\",\"type\":\"LinearScale\"},{\"attributes\":{\"source\":{\"id\":\"23e31853-5df8-4573-8265-24c330aa8bd4\",\"type\":\"ColumnDataSource\"}},\"id\":\"eb98448d-b3a2-4591-bd71-d38c1a118505\",\"type\":\"CDSView\"},{\"attributes\":{\"dimension\":1,\"plot\":{\"id\":\"85272f57-734c-4dc5-b147-5e51d69e7d5c\",\"subtype\":\"Figure\",\"type\":\"Plot\"},\"ticker\":{\"id\":\"ee4147e1-385b-424c-b367-bd0ced35f7ba\",\"type\":\"BasicTicker\"}},\"id\":\"95131923-e21d-4ba9-8b5a-5cdfaad7df8b\",\"type\":\"Grid\"},{\"attributes\":{\"fill_alpha\":{\"value\":0.1},\"fill_color\":{\"value\":\"#1f77b4\"},\"line_alpha\":{\"value\":0.1},\"line_color\":{\"value\":\"#1f77b4\"},\"size\":{\"units\":\"screen\",\"value\":5},\"x\":{\"field\":\"x\"},\"y\":{\"field\":\"y\"}},\"id\":\"da6e698e-7e51-4256-9965-6ae1dc5b59f6\",\"type\":\"Circle\"},{\"attributes\":{\"formatter\":{\"id\":\"74437bdb-c538-41b4-961a-0d98c9ff8e37\",\"type\":\"BasicTickFormatter\"},\"plot\":{\"id\":\"85272f57-734c-4dc5-b147-5e51d69e7d5c\",\"subtype\":\"Figure\",\"type\":\"Plot\"},\"ticker\":{\"id\":\"c5c7d128-35fa-4721-8b08-99a013b7d07c\",\"type\":\"BasicTicker\"}},\"id\":\"664834fd-4db7-4b0c-b2ab-28c2d27ebe0a\",\"type\":\"LinearAxis\"},{\"attributes\":{},\"id\":\"c5c7d128-35fa-4721-8b08-99a013b7d07c\",\"type\":\"BasicTicker\"},{\"attributes\":{\"source\":{\"id\":\"ccd1eea0-6624-455b-a867-07857246d6b0\",\"type\":\"ColumnDataSource\"}},\"id\":\"c205baac-c6d5-450b-9416-c01e962bda5f\",\"type\":\"CDSView\"},{\"attributes\":{\"plot\":{\"id\":\"85272f57-734c-4dc5-b147-5e51d69e7d5c\",\"subtype\":\"Figure\",\"type\":\"Plot\"},\"ticker\":{\"id\":\"c5c7d128-35fa-4721-8b08-99a013b7d07c\",\"type\":\"BasicTicker\"}},\"id\":\"c3bff1aa-3238-42ee-86eb-acd72da0b79e\",\"type\":\"Grid\"},{\"attributes\":{\"callback\":null,\"column_names\":[\"x\",\"y\",\"desc\",\"pred\",\"not_skip\"],\"data\":{\"desc\":[\"- utter_ask_details\",\"- utter_explain_details_hotel\",\"- utter_ask_details\",\"- utter_chitchat\",\"- utter_ask_details\",\"- utter_ask_startdate\",\"- utter_ask_location\",\"- utter_correct_startdate_hotel\",\"- utter_ask_location\",\"- utter_explain_location_hotel\",\"- utter_ask_location\",\"- utter_ask_price\",\"- utter_chitchat\",\"- utter_ask_price\",\"- utter_chitchat\",\"- utter_ask_price\",\"- utter_chitchat\",\"- utter_ask_price\",\"- utter_chitchat\",\"- utter_ask_price\",\"- utter_explain_price_hotel\",\"- utter_ask_price\",\"- utter_ask_people\",\"- utter_filled_slots\",\"- action_search_hotel\",\"- utter_suggest_hotel\",\"- utter_chitchat\",\"- utter_suggest_hotel\",\"- utter_happy\"],\"not_skip\":[1.0,1.0,0.0,1.0,0.0,1.0,1.0,1.0,0.0,1.0,0.0,1.0,1.0,0.0,1.0,0.0,1.0,0.0,1.0,0.0,1.0,0.0,1.0,1.0,1.0,1.0,1.0,0.0,1.0],\"pred\":[\"- utter_ask_details\",\"- utter_explain_startdate_hotel\",\"- utter_ask_details\",\"- utter_chitchat\",\"- utter_ask_details\",\"- utter_ask_startdate\",\"- utter_ask_location\",\"- utter_correct_startdate_hotel\",\"- utter_ask_location\",\"- utter_explain_price_hotel\",\"- utter_ask_location\",\"- utter_ask_price\",\"- utter_chitchat\",\"- utter_ask_price\",\"- utter_chitchat\",\"- utter_ask_price\",\"- utter_chitchat\",\"- utter_ask_price\",\"- utter_chitchat\",\"- utter_ask_price\",\"- utter_explain_price_hotel\",\"- utter_ask_price\",\"- utter_ask_people\",\"- utter_filled_slots\",\"- action_search_hotel\",\"- utter_suggest_hotel\",\"- utter_chitchat\",\"- utter_suggest_hotel\",\"- utter_happy\"],\"x\":{\"__ndarray__\":\"yr88vSFMvb+4oLctuu/Mv2S2Bbp9+MC/fYI6wlv92L8NSqpCQjKgvyLhFDSLRrS/kS7FntumsT+Lvq5SwZ/QvxYt04mfir0/f0zTnAViqD8LBFmtpZ7LP5PnxlGerdg/wHduCiWwyr9MER9RQV2yPyGyMrge8Mq/B34q6GmHsT/7eStwZZvNv8Di6Kjxqa8/R57+dVDHzr+aEaVDKqatP8RkbPVWLZ8/v1qGQkG1xT+Lk0r4i5gmv/+UB9GhC7a/fdV5tFWB1D9T6xbg6nfJv3laf/eFfda/SJbr50Ubpr+WWJX6TkHLvw==\",\"dtype\":\"float64\",\"shape\":[29]},\"y\":{\"__ndarray__\":\"0MVVPDSH5D/H5buFg/Szvzhfg0FO9tE/RtKP0GNcvL8hUwvwUL+jPxZXqvmAdb0/rNyrewmDsb+uSLV2gEGqP0EUJ5mu/pq/kbI7fhZe07+ZtWdaXdi7v77tsmz5Xbe/1Go8pX3atb8/bhjS8WCoP5uBN7okrLW/4I4ZWakQqD93HWSEV6+5v7JuF96GX6Y/R1EcNcxrur/gzOy/DsalP8G2RP8mc8i/pv9Q1FxHrT9HyqMKUnTBP96/gXrJuLM/ZaYJd9VR1z+/y51gI4bGvyDSnu0FUcq/pb8pTS16nT8eWfBVMZ7Yvw==\",\"dtype\":\"float64\",\"shape\":[29]}},\"selected\":null,\"selection_policy\":null},\"id\":\"ccd1eea0-6624-455b-a867-07857246d6b0\",\"type\":\"ColumnDataSource\"},{\"attributes\":{\"formatter\":{\"id\":\"e54ccc20-29f1-40ee-bf70-279a26d4da2c\",\"type\":\"BasicTickFormatter\"},\"plot\":{\"id\":\"85272f57-734c-4dc5-b147-5e51d69e7d5c\",\"subtype\":\"Figure\",\"type\":\"Plot\"},\"ticker\":{\"id\":\"ee4147e1-385b-424c-b367-bd0ced35f7ba\",\"type\":\"BasicTicker\"}},\"id\":\"a9299076-9181-49fb-b146-092056810b3c\",\"type\":\"LinearAxis\"},{\"attributes\":{\"fill_alpha\":{\"value\":0.1},\"fill_color\":{\"value\":\"#1f77b4\"},\"line_alpha\":{\"value\":0.1},\"line_color\":{\"value\":\"#1f77b4\"},\"size\":{\"units\":\"screen\",\"value\":5},\"x\":{\"field\":\"x\"},\"y\":{\"field\":\"y\"}},\"id\":\"82040fe3-e894-4c00-8281-c6c0447e1152\",\"type\":\"Circle\"},{\"attributes\":{\"line_color\":{\"value\":\"firebrick\"},\"line_width\":{\"value\":2},\"plot\":null,\"size\":10},\"id\":\"a96e13b4-fcb6-403a-bd11-424022ae2605\",\"type\":\"OpenHead\"},{\"attributes\":{\"callback\":null,\"data\":{},\"selected\":null,\"selection_policy\":null},\"id\":\"276f649c-9560-473e-8426-065026792cf6\",\"type\":\"ColumnDataSource\"},{\"attributes\":{\"line_color\":{\"value\":\"firebrick\"},\"line_width\":{\"value\":2},\"plot\":null,\"size\":10},\"id\":\"d19a531d-77e3-4ba9-b0f6-42f121f1b7eb\",\"type\":\"OpenHead\"},{\"attributes\":{\"end\":{\"id\":\"a96e13b4-fcb6-403a-bd11-424022ae2605\",\"type\":\"OpenHead\"},\"line_color\":{\"value\":\"gray\"},\"plot\":{\"id\":\"85272f57-734c-4dc5-b147-5e51d69e7d5c\",\"subtype\":\"Figure\",\"type\":\"Plot\"},\"source\":null,\"start\":null,\"x_end\":{\"value\":-0.1996662443424026},\"x_start\":{\"value\":-0.22612375352369377},\"y_end\":{\"value\":0.702349228640796},\"y_start\":{\"value\":-0.07758604596964672}},\"id\":\"fe66a023-8c55-4822-aa91-b15363ff61fd\",\"type\":\"Arrow\"},{\"attributes\":{\"fill_color\":{\"value\":\"magenta\"},\"line_color\":{\"value\":\"magenta\"},\"size\":{\"units\":\"screen\",\"value\":5},\"x\":{\"value\":-0.026700771582405285},\"y\":{\"value\":0.030976800526988334}},\"id\":\"f49f0729-6b43-4ac7-b9f5-d5106b5c80bc\",\"type\":\"Circle\"},{\"attributes\":{\"end\":{\"id\":\"ef62d686-7b50-498a-8bad-7d940a8a052e\",\"type\":\"OpenHead\"},\"line_color\":{\"value\":\"gray\"},\"plot\":{\"id\":\"85272f57-734c-4dc5-b147-5e51d69e7d5c\",\"subtype\":\"Figure\",\"type\":\"Plot\"},\"source\":null,\"start\":null,\"x_end\":{\"value\":-0.22787668176791584},\"x_start\":{\"value\":0.3810934242138131},\"y_end\":{\"value\":-0.08868186501166704},\"y_start\":{\"value\":-0.09365930742130975}},\"id\":\"74aa2a5b-0b93-49ae-b20a-641d48bdb1b5\",\"type\":\"Arrow\"},{\"attributes\":{\"callback\":null,\"data\":{},\"selected\":null,\"selection_policy\":null},\"id\":\"fc5a5d98-3939-4dea-b4c3-a0b73531afca\",\"type\":\"ColumnDataSource\"},{\"attributes\":{\"line_color\":{\"value\":\"firebrick\"},\"line_width\":{\"value\":2},\"plot\":null,\"size\":10},\"id\":\"f0aa58f1-a9d6-4f60-9879-acbc1eaef20c\",\"type\":\"OpenHead\"},{\"attributes\":{\"fill_alpha\":{\"value\":0.1},\"fill_color\":{\"value\":\"#1f77b4\"},\"line_alpha\":{\"value\":0.1},\"line_color\":{\"value\":\"#1f77b4\"},\"size\":{\"units\":\"screen\",\"value\":5},\"x\":{\"value\":-0.026700771582405285},\"y\":{\"value\":0.030976800526988334}},\"id\":\"e369e24c-706f-4705-8e28-1921cbb3553e\",\"type\":\"Circle\"},{\"attributes\":{\"end\":{\"id\":\"41e5c9ee-2157-4f96-9f93-3104427980d6\",\"type\":\"OpenHead\"},\"line_color\":{\"value\":\"gray\"},\"plot\":{\"id\":\"85272f57-734c-4dc5-b147-5e51d69e7d5c\",\"subtype\":\"Figure\",\"type\":\"Plot\"},\"source\":null,\"start\":null,\"x_end\":{\"value\":0.3235697258052374},\"x_start\":{\"value\":-0.22787668176791584},\"y_end\":{\"value\":-0.026693184847622915},\"y_start\":{\"value\":-0.08868186501166704}},\"id\":\"67a910a9-b2fc-4891-81b9-040f57da157f\",\"type\":\"Arrow\"},{\"attributes\":{\"data_source\":{\"id\":\"fc5a5d98-3939-4dea-b4c3-a0b73531afca\",\"type\":\"ColumnDataSource\"},\"glyph\":{\"id\":\"f49f0729-6b43-4ac7-b9f5-d5106b5c80bc\",\"type\":\"Circle\"},\"hover_glyph\":null,\"muted_glyph\":null,\"nonselection_glyph\":{\"id\":\"e369e24c-706f-4705-8e28-1921cbb3553e\",\"type\":\"Circle\"},\"selection_glyph\":null,\"view\":{\"id\":\"ea5412b2-4b40-4679-9e24-8db3c8200ab2\",\"type\":\"CDSView\"}},\"id\":\"ef1c1150-7013-4565-b921-8be17fa2e7ac\",\"type\":\"GlyphRenderer\"},{\"attributes\":{\"end\":{\"id\":\"f0aa58f1-a9d6-4f60-9879-acbc1eaef20c\",\"type\":\"OpenHead\"},\"line_color\":{\"value\":\"gray\"},\"plot\":{\"id\":\"85272f57-734c-4dc5-b147-5e51d69e7d5c\",\"subtype\":\"Figure\",\"type\":\"Plot\"},\"source\":null,\"start\":null,\"x_end\":{\"value\":-0.3958726000869665},\"x_start\":{\"value\":-0.1996662443424026},\"y_end\":{\"value\":-0.10856299369497145},\"y_start\":{\"value\":0.702349228640796}},\"id\":\"d4d5de6f-d70c-49b5-9159-99aa6d1b1021\",\"type\":\"Arrow\"},{\"attributes\":{\"line_color\":{\"value\":\"firebrick\"},\"line_width\":{\"value\":2},\"plot\":null,\"size\":10},\"id\":\"dc60febc-e2ce-486c-ad6d-b0b8850fa052\",\"type\":\"OpenHead\"},{\"attributes\":{\"source\":{\"id\":\"fc5a5d98-3939-4dea-b4c3-a0b73531afca\",\"type\":\"ColumnDataSource\"}},\"id\":\"ea5412b2-4b40-4679-9e24-8db3c8200ab2\",\"type\":\"CDSView\"},{\"attributes\":{\"end\":{\"id\":\"d19a531d-77e3-4ba9-b0f6-42f121f1b7eb\",\"type\":\"OpenHead\"},\"line_color\":{\"value\":\"gray\"},\"plot\":{\"id\":\"85272f57-734c-4dc5-b147-5e51d69e7d5c\",\"subtype\":\"Figure\",\"type\":\"Plot\"},\"source\":null,\"start\":null,\"x_end\":{\"value\":-0.08787737274535944},\"x_start\":{\"value\":-0.3958726000869665},\"y_end\":{\"value\":0.3550793329557007},\"y_start\":{\"value\":-0.10856299369497145}},\"id\":\"ccdb9068-9a4e-4824-93fa-fbf7645aaa0c\",\"type\":\"Arrow\"},{\"attributes\":{\"callback\":null,\"data\":{},\"selected\":null,\"selection_policy\":null},\"id\":\"d18f6576-8c13-43a0-b7b3-0047763f924b\",\"type\":\"ColumnDataSource\"},{\"attributes\":{\"line_color\":{\"value\":\"firebrick\"},\"line_width\":{\"value\":2},\"plot\":null,\"size\":10},\"id\":\"fbc61532-c575-41a0-a306-7b1b70bac5f9\",\"type\":\"OpenHead\"},{\"attributes\":{\"fill_color\":{\"value\":\"green\"},\"line_color\":{\"value\":\"green\"},\"size\":{\"units\":\"screen\",\"value\":10},\"x\":{\"value\":-0.1144429289822701},\"y\":{\"value\":0.6415044001025146}},\"id\":\"8c1bb15d-3c9d-4f7a-a7de-fe9765016a9b\",\"type\":\"Circle\"},{\"attributes\":{\"end\":{\"id\":\"dc60febc-e2ce-486c-ad6d-b0b8850fa052\",\"type\":\"OpenHead\"},\"line_color\":{\"value\":\"gray\"},\"plot\":{\"id\":\"85272f57-734c-4dc5-b147-5e51d69e7d5c\",\"subtype\":\"Figure\",\"type\":\"Plot\"},\"source\":null,\"start\":null,\"x_end\":{\"value\":-0.09701824654981175},\"x_start\":{\"value\":-0.08787737274535944},\"y_end\":{\"value\":0.11259813016427518},\"y_start\":{\"value\":0.3550793329557007}},\"id\":\"d1e3597d-8093-4350-9a2c-632a64c96470\",\"type\":\"Arrow\"},{\"attributes\":{\"data_source\":{\"id\":\"276f649c-9560-473e-8426-065026792cf6\",\"type\":\"ColumnDataSource\"},\"glyph\":{\"id\":\"8c1bb15d-3c9d-4f7a-a7de-fe9765016a9b\",\"type\":\"Circle\"},\"hover_glyph\":null,\"muted_glyph\":null,\"nonselection_glyph\":{\"id\":\"c59dbc1e-3355-4458-b06a-0408d95462e3\",\"type\":\"Circle\"},\"selection_glyph\":null,\"view\":{\"id\":\"2f1c38f3-02ef-4475-9221-1f4a4a3d0728\",\"type\":\"CDSView\"}},\"id\":\"8631b491-dfa7-4188-ab72-79c565aa7883\",\"type\":\"GlyphRenderer\"},{\"attributes\":{\"line_color\":{\"value\":\"firebrick\"},\"line_width\":{\"value\":2},\"plot\":null,\"size\":10},\"id\":\"24c4eda2-5c0d-48ed-99e7-720d207350c8\",\"type\":\"OpenHead\"},{\"attributes\":{\"fill_alpha\":{\"value\":0.1},\"fill_color\":{\"value\":\"#1f77b4\"},\"line_alpha\":{\"value\":0.1},\"line_color\":{\"value\":\"#1f77b4\"},\"size\":{\"units\":\"screen\",\"value\":10},\"x\":{\"value\":-0.1144429289822701},\"y\":{\"value\":0.6415044001025146}},\"id\":\"c59dbc1e-3355-4458-b06a-0408d95462e3\",\"type\":\"Circle\"},{\"attributes\":{\"callback\":null,\"data\":{},\"selected\":null,\"selection_policy\":null},\"id\":\"7a743e31-f3d8-4b64-8a62-6071b2a7027b\",\"type\":\"ColumnDataSource\"},{\"attributes\":{\"end\":{\"id\":\"fbc61532-c575-41a0-a306-7b1b70bac5f9\",\"type\":\"OpenHead\"},\"line_color\":{\"value\":\"gray\"},\"plot\":{\"id\":\"85272f57-734c-4dc5-b147-5e51d69e7d5c\",\"subtype\":\"Figure\",\"type\":\"Plot\"},\"source\":null,\"start\":null,\"x_end\":{\"value\":0.0541000266843184},\"x_start\":{\"value\":-0.09701824654981175},\"y_end\":{\"value\":-0.06978127228414359},\"y_start\":{\"value\":0.11259813016427518}},\"id\":\"03bc1e77-b808-4351-934f-1220a6436a96\",\"type\":\"Arrow\"},{\"attributes\":{\"source\":{\"id\":\"276f649c-9560-473e-8426-065026792cf6\",\"type\":\"ColumnDataSource\"}},\"id\":\"2f1c38f3-02ef-4475-9221-1f4a4a3d0728\",\"type\":\"CDSView\"},{\"attributes\":{\"line_color\":{\"value\":\"firebrick\"},\"line_width\":{\"value\":2},\"plot\":null,\"size\":10},\"id\":\"b3d060c2-f1c9-4248-b4e7-9e9bfecef68a\",\"type\":\"OpenHead\"},{\"attributes\":{\"end\":{\"id\":\"24c4eda2-5c0d-48ed-99e7-720d207350c8\",\"type\":\"OpenHead\"},\"line_color\":{\"value\":\"gray\"},\"plot\":{\"id\":\"85272f57-734c-4dc5-b147-5e51d69e7d5c\",\"subtype\":\"Figure\",\"type\":\"Plot\"},\"source\":null,\"start\":null,\"x_end\":{\"value\":-0.28699277293720615},\"x_start\":{\"value\":0.0541000266843184},\"y_end\":{\"value\":0.055273754240902084},\"y_start\":{\"value\":-0.06978127228414359}},\"id\":\"5aa341b1-e42f-416f-8127-715e1d901387\",\"type\":\"Arrow\"},{\"attributes\":{\"fill_color\":{\"value\":\"red\"},\"line_color\":{\"value\":\"red\"},\"size\":{\"units\":\"screen\",\"value\":10},\"x\":{\"value\":-0.21850781001174804},\"y\":{\"value\":-0.39125846494791444}},\"id\":\"40acbda2-ce24-402d-b20e-69b6eea9f3f7\",\"type\":\"Circle\"},{\"attributes\":{\"data_source\":{\"id\":\"d18f6576-8c13-43a0-b7b3-0047763f924b\",\"type\":\"ColumnDataSource\"},\"glyph\":{\"id\":\"40acbda2-ce24-402d-b20e-69b6eea9f3f7\",\"type\":\"Circle\"},\"hover_glyph\":null,\"muted_glyph\":null,\"nonselection_glyph\":{\"id\":\"cad338a2-236d-4b4a-967c-90f9cb608214\",\"type\":\"Circle\"},\"selection_glyph\":null,\"view\":{\"id\":\"86e4f9ba-98d6-4337-8777-23e986787f0a\",\"type\":\"CDSView\"}},\"id\":\"9f3fcb07-8db3-4f25-8f9c-f2f355a6f3a9\",\"type\":\"GlyphRenderer\"},{\"attributes\":{\"line_color\":{\"value\":\"firebrick\"},\"line_width\":{\"value\":2},\"plot\":null,\"size\":10},\"id\":\"ffeeaa99-5742-4c55-a629-614fb6957f88\",\"type\":\"OpenHead\"},{\"attributes\":{\"end\":{\"id\":\"b3d060c2-f1c9-4248-b4e7-9e9bfecef68a\",\"type\":\"OpenHead\"},\"line_color\":{\"value\":\"gray\"},\"plot\":{\"id\":\"85272f57-734c-4dc5-b147-5e51d69e7d5c\",\"subtype\":\"Figure\",\"type\":\"Plot\"},\"source\":null,\"start\":null,\"x_end\":{\"value\":0.24765837736204466},\"x_start\":{\"value\":-0.28699277293720615},\"y_end\":{\"value\":-0.10638026806006659},\"y_start\":{\"value\":0.055273754240902084}},\"id\":\"19cdaf69-a307-4830-9861-8a2d81ade2c9\",\"type\":\"Arrow\"},{\"attributes\":{\"fill_alpha\":{\"value\":0.1},\"fill_color\":{\"value\":\"#1f77b4\"},\"line_alpha\":{\"value\":0.1},\"line_color\":{\"value\":\"#1f77b4\"},\"size\":{\"units\":\"screen\",\"value\":10},\"x\":{\"value\":-0.21850781001174804},\"y\":{\"value\":-0.39125846494791444}},\"id\":\"cad338a2-236d-4b4a-967c-90f9cb608214\",\"type\":\"Circle\"},{\"attributes\":{\"line_color\":{\"value\":\"firebrick\"},\"line_width\":{\"value\":2},\"plot\":null,\"size\":10},\"id\":\"9e119da1-bbbc-4406-862d-28738bf2a459\",\"type\":\"OpenHead\"},{\"attributes\":{\"source\":{\"id\":\"d18f6576-8c13-43a0-b7b3-0047763f924b\",\"type\":\"ColumnDataSource\"}},\"id\":\"86e4f9ba-98d6-4337-8777-23e986787f0a\",\"type\":\"CDSView\"},{\"attributes\":{\"source\":{\"id\":\"7a743e31-f3d8-4b64-8a62-6071b2a7027b\",\"type\":\"ColumnDataSource\"}},\"id\":\"ba22e320-e737-47ab-b42f-75a7257a9387\",\"type\":\"CDSView\"},{\"attributes\":{\"end\":{\"id\":\"ffeeaa99-5742-4c55-a629-614fb6957f88\",\"type\":\"OpenHead\"},\"line_color\":{\"value\":\"gray\"},\"plot\":{\"id\":\"85272f57-734c-4dc5-b147-5e51d69e7d5c\",\"subtype\":\"Figure\",\"type\":\"Plot\"},\"source\":null,\"start\":null,\"x_end\":{\"value\":0.0510433136920238},\"x_start\":{\"value\":0.24765837736204466},\"y_end\":{\"value\":-0.3051411273472773},\"y_start\":{\"value\":-0.10638026806006659}},\"id\":\"fdb752c8-ecdc-4e2b-b2c8-00bd47b5b62a\",\"type\":\"Arrow\"},{\"attributes\":{\"line_color\":{\"value\":\"firebrick\"},\"line_width\":{\"value\":2},\"plot\":null,\"size\":10},\"id\":\"785d98c1-e8cb-43f8-9397-376efafc8433\",\"type\":\"OpenHead\"},{\"attributes\":{\"data_source\":{\"id\":\"7a743e31-f3d8-4b64-8a62-6071b2a7027b\",\"type\":\"ColumnDataSource\"},\"glyph\":{\"id\":\"19f1b72b-da87-4822-8ac6-7802e1f3d2d4\",\"type\":\"Circle\"},\"hover_glyph\":null,\"muted_glyph\":null,\"nonselection_glyph\":{\"id\":\"b63f6a88-c8c7-4724-a8a8-30cedc17de69\",\"type\":\"Circle\"},\"selection_glyph\":null,\"view\":{\"id\":\"ba22e320-e737-47ab-b42f-75a7257a9387\",\"type\":\"CDSView\"}},\"id\":\"6e965d30-c5c8-45c2-87d3-f8b717c3cf45\",\"type\":\"GlyphRenderer\"},{\"attributes\":{\"end\":{\"id\":\"9e119da1-bbbc-4406-862d-28738bf2a459\",\"type\":\"OpenHead\"},\"line_color\":{\"value\":\"gray\"},\"plot\":{\"id\":\"85272f57-734c-4dc5-b147-5e51d69e7d5c\",\"subtype\":\"Figure\",\"type\":\"Plot\"},\"source\":null,\"start\":null,\"x_end\":{\"value\":0.34779774011477416},\"x_start\":{\"value\":0.0510433136920238},\"y_end\":{\"value\":-0.18864221230515751},\"y_start\":{\"value\":-0.3051411273472773}},\"id\":\"e95d8685-c5c6-4cdb-a946-0a8ac3a5720c\",\"type\":\"Arrow\"},{\"attributes\":{\"fill_color\":{\"value\":\"black\"},\"x\":{\"value\":0.34108448959679233},\"y\":{\"value\":-0.048781495474545376}},\"id\":\"19f1b72b-da87-4822-8ac6-7802e1f3d2d4\",\"type\":\"Circle\"},{\"attributes\":{\"line_color\":{\"value\":\"firebrick\"},\"line_width\":{\"value\":2},\"plot\":null,\"size\":10},\"id\":\"ef62d686-7b50-498a-8bad-7d940a8a052e\",\"type\":\"OpenHead\"},{\"attributes\":{\"fill_alpha\":{\"value\":0.1},\"fill_color\":{\"value\":\"#1f77b4\"},\"line_alpha\":{\"value\":0.1},\"line_color\":{\"value\":\"#1f77b4\"},\"x\":{\"value\":0.34108448959679233},\"y\":{\"value\":-0.048781495474545376}},\"id\":\"b63f6a88-c8c7-4724-a8a8-30cedc17de69\",\"type\":\"Circle\"},{\"attributes\":{\"line_color\":{\"value\":\"firebrick\"},\"line_width\":{\"value\":2},\"plot\":null,\"size\":10},\"id\":\"41e5c9ee-2157-4f96-9f93-3104427980d6\",\"type\":\"OpenHead\"}],\"root_ids\":[\"85272f57-734c-4dc5-b147-5e51d69e7d5c\"]},\"title\":\"Bokeh Application\",\"version\":\"0.12.15\"}};\n",
       "  var render_items = [{\"docid\":\"4b9dc224-286e-4083-8617-df5f19a4884f\",\"elementid\":\"35749415-1a34-484f-b818-15e73a19d821\",\"modelid\":\"85272f57-734c-4dc5-b147-5e51d69e7d5c\"}];\n",
       "  root.Bokeh.embed.embed_items_notebook(docs_json, render_items);\n",
       "\n",
       "  }\n",
       "  if (root.Bokeh !== undefined) {\n",
       "    embed_document(root);\n",
       "  } else {\n",
       "    var attempts = 0;\n",
       "    var timer = setInterval(function(root) {\n",
       "      if (root.Bokeh !== undefined) {\n",
       "        embed_document(root);\n",
       "        clearInterval(timer);\n",
       "      }\n",
       "      attempts++;\n",
       "      if (attempts > 100) {\n",
       "        console.log(\"Bokeh: ERROR: Unable to run BokehJS code because BokehJS library is missing\")\n",
       "        clearInterval(timer);\n",
       "      }\n",
       "    }, 10, root)\n",
       "  }\n",
       "})(window);"
      ],
      "application/vnd.bokehjs_exec.v0+json": ""
     },
     "metadata": {
      "application/vnd.bokehjs_exec.v0+json": {
       "id": "85272f57-734c-4dc5-b147-5e51d69e7d5c"
      }
     },
     "output_type": "display_data"
    }
   ],
   "source": [
    "show(p)"
   ]
  },
  {
   "cell_type": "code",
   "execution_count": null,
   "metadata": {},
   "outputs": [],
   "source": []
  },
  {
   "cell_type": "code",
   "execution_count": null,
   "metadata": {},
   "outputs": [],
   "source": []
  },
  {
   "cell_type": "code",
   "execution_count": null,
   "metadata": {},
   "outputs": [],
   "source": []
  }
 ],
 "metadata": {
  "kernelspec": {
   "display_name": "Python 3",
   "language": "python",
   "name": "python3"
  },
  "language_info": {
   "codemirror_mode": {
    "name": "ipython",
    "version": 3
   },
   "file_extension": ".py",
   "mimetype": "text/x-python",
   "name": "python",
   "nbconvert_exporter": "python",
   "pygments_lexer": "ipython3",
   "version": "3.6.5"
  }
 },
 "nbformat": 4,
 "nbformat_minor": 2
}
