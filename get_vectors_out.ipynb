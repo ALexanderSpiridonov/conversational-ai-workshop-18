{
 "cells": [
  {
   "cell_type": "code",
   "execution_count": 1,
   "metadata": {},
   "outputs": [
    {
     "name": "stderr",
     "output_type": "stream",
     "text": [
      "/usr/local/lib/python3.6/site-packages/pykwalify/core.py:99: UnsafeLoaderWarning: \n",
      "The default 'Loader' for 'load(stream)' without further arguments can be unsafe.\n",
      "Use 'load(stream, Loader=ruamel.yaml.Loader)' explicitly if that is OK.\n",
      "Alternatively include the following in your code:\n",
      "\n",
      "  import warnings\n",
      "  warnings.simplefilter('ignore', ruamel.yaml.error.UnsafeLoaderWarning)\n",
      "\n",
      "In most other cases you should consider using 'safe_load(stream)'\n",
      "  data = yaml.load(stream)\n"
     ]
    },
    {
     "name": "stdout",
     "output_type": "stream",
     "text": [
      "INFO:tensorflow:Restoring parameters from models/dialogue_embed/policy_0_EmbeddingPolicy/tensorflow_embedding.ckpt\n"
     ]
    },
    {
     "data": {
      "text/html": [
       "\n",
       "    <div class=\"bk-root\">\n",
       "        <a href=\"https://bokeh.pydata.org\" target=\"_blank\" class=\"bk-logo bk-logo-small bk-logo-notebook\"></a>\n",
       "        <span id=\"48699922-e1d2-4cf8-9983-50e338c4ab53\">Loading BokehJS ...</span>\n",
       "    </div>"
      ]
     },
     "metadata": {},
     "output_type": "display_data"
    },
    {
     "data": {
      "application/javascript": [
       "\n",
       "(function(root) {\n",
       "  function now() {\n",
       "    return new Date();\n",
       "  }\n",
       "\n",
       "  var force = true;\n",
       "\n",
       "  if (typeof (root._bokeh_onload_callbacks) === \"undefined\" || force === true) {\n",
       "    root._bokeh_onload_callbacks = [];\n",
       "    root._bokeh_is_loading = undefined;\n",
       "  }\n",
       "\n",
       "  var JS_MIME_TYPE = 'application/javascript';\n",
       "  var HTML_MIME_TYPE = 'text/html';\n",
       "  var EXEC_MIME_TYPE = 'application/vnd.bokehjs_exec.v0+json';\n",
       "  var CLASS_NAME = 'output_bokeh rendered_html';\n",
       "\n",
       "  /**\n",
       "   * Render data to the DOM node\n",
       "   */\n",
       "  function render(props, node) {\n",
       "    var script = document.createElement(\"script\");\n",
       "    node.appendChild(script);\n",
       "  }\n",
       "\n",
       "  /**\n",
       "   * Handle when an output is cleared or removed\n",
       "   */\n",
       "  function handleClearOutput(event, handle) {\n",
       "    var cell = handle.cell;\n",
       "\n",
       "    var id = cell.output_area._bokeh_element_id;\n",
       "    var server_id = cell.output_area._bokeh_server_id;\n",
       "    // Clean up Bokeh references\n",
       "    if (id != null && id in Bokeh.index) {\n",
       "      Bokeh.index[id].model.document.clear();\n",
       "      delete Bokeh.index[id];\n",
       "    }\n",
       "\n",
       "    if (server_id !== undefined) {\n",
       "      // Clean up Bokeh references\n",
       "      var cmd = \"from bokeh.io.state import curstate; print(curstate().uuid_to_server['\" + server_id + \"'].get_sessions()[0].document.roots[0]._id)\";\n",
       "      cell.notebook.kernel.execute(cmd, {\n",
       "        iopub: {\n",
       "          output: function(msg) {\n",
       "            var id = msg.content.text.trim();\n",
       "            if (id in Bokeh.index) {\n",
       "              Bokeh.index[id].model.document.clear();\n",
       "              delete Bokeh.index[id];\n",
       "            }\n",
       "          }\n",
       "        }\n",
       "      });\n",
       "      // Destroy server and session\n",
       "      var cmd = \"import bokeh.io.notebook as ion; ion.destroy_server('\" + server_id + \"')\";\n",
       "      cell.notebook.kernel.execute(cmd);\n",
       "    }\n",
       "  }\n",
       "\n",
       "  /**\n",
       "   * Handle when a new output is added\n",
       "   */\n",
       "  function handleAddOutput(event, handle) {\n",
       "    var output_area = handle.output_area;\n",
       "    var output = handle.output;\n",
       "\n",
       "    // limit handleAddOutput to display_data with EXEC_MIME_TYPE content only\n",
       "    if ((output.output_type != \"display_data\") || (!output.data.hasOwnProperty(EXEC_MIME_TYPE))) {\n",
       "      return\n",
       "    }\n",
       "\n",
       "    var toinsert = output_area.element.find(\".\" + CLASS_NAME.split(' ')[0]);\n",
       "\n",
       "    if (output.metadata[EXEC_MIME_TYPE][\"id\"] !== undefined) {\n",
       "      toinsert[toinsert.length - 1].firstChild.textContent = output.data[JS_MIME_TYPE];\n",
       "      // store reference to embed id on output_area\n",
       "      output_area._bokeh_element_id = output.metadata[EXEC_MIME_TYPE][\"id\"];\n",
       "    }\n",
       "    if (output.metadata[EXEC_MIME_TYPE][\"server_id\"] !== undefined) {\n",
       "      var bk_div = document.createElement(\"div\");\n",
       "      bk_div.innerHTML = output.data[HTML_MIME_TYPE];\n",
       "      var script_attrs = bk_div.children[0].attributes;\n",
       "      for (var i = 0; i < script_attrs.length; i++) {\n",
       "        toinsert[toinsert.length - 1].firstChild.setAttribute(script_attrs[i].name, script_attrs[i].value);\n",
       "      }\n",
       "      // store reference to server id on output_area\n",
       "      output_area._bokeh_server_id = output.metadata[EXEC_MIME_TYPE][\"server_id\"];\n",
       "    }\n",
       "  }\n",
       "\n",
       "  function register_renderer(events, OutputArea) {\n",
       "\n",
       "    function append_mime(data, metadata, element) {\n",
       "      // create a DOM node to render to\n",
       "      var toinsert = this.create_output_subarea(\n",
       "        metadata,\n",
       "        CLASS_NAME,\n",
       "        EXEC_MIME_TYPE\n",
       "      );\n",
       "      this.keyboard_manager.register_events(toinsert);\n",
       "      // Render to node\n",
       "      var props = {data: data, metadata: metadata[EXEC_MIME_TYPE]};\n",
       "      render(props, toinsert[toinsert.length - 1]);\n",
       "      element.append(toinsert);\n",
       "      return toinsert\n",
       "    }\n",
       "\n",
       "    /* Handle when an output is cleared or removed */\n",
       "    events.on('clear_output.CodeCell', handleClearOutput);\n",
       "    events.on('delete.Cell', handleClearOutput);\n",
       "\n",
       "    /* Handle when a new output is added */\n",
       "    events.on('output_added.OutputArea', handleAddOutput);\n",
       "\n",
       "    /**\n",
       "     * Register the mime type and append_mime function with output_area\n",
       "     */\n",
       "    OutputArea.prototype.register_mime_type(EXEC_MIME_TYPE, append_mime, {\n",
       "      /* Is output safe? */\n",
       "      safe: true,\n",
       "      /* Index of renderer in `output_area.display_order` */\n",
       "      index: 0\n",
       "    });\n",
       "  }\n",
       "\n",
       "  // register the mime type if in Jupyter Notebook environment and previously unregistered\n",
       "  if (root.Jupyter !== undefined) {\n",
       "    var events = require('base/js/events');\n",
       "    var OutputArea = require('notebook/js/outputarea').OutputArea;\n",
       "\n",
       "    if (OutputArea.prototype.mime_types().indexOf(EXEC_MIME_TYPE) == -1) {\n",
       "      register_renderer(events, OutputArea);\n",
       "    }\n",
       "  }\n",
       "\n",
       "  \n",
       "  if (typeof (root._bokeh_timeout) === \"undefined\" || force === true) {\n",
       "    root._bokeh_timeout = Date.now() + 5000;\n",
       "    root._bokeh_failed_load = false;\n",
       "  }\n",
       "\n",
       "  var NB_LOAD_WARNING = {'data': {'text/html':\n",
       "     \"<div style='background-color: #fdd'>\\n\"+\n",
       "     \"<p>\\n\"+\n",
       "     \"BokehJS does not appear to have successfully loaded. If loading BokehJS from CDN, this \\n\"+\n",
       "     \"may be due to a slow or bad network connection. Possible fixes:\\n\"+\n",
       "     \"</p>\\n\"+\n",
       "     \"<ul>\\n\"+\n",
       "     \"<li>re-rerun `output_notebook()` to attempt to load from CDN again, or</li>\\n\"+\n",
       "     \"<li>use INLINE resources instead, as so:</li>\\n\"+\n",
       "     \"</ul>\\n\"+\n",
       "     \"<code>\\n\"+\n",
       "     \"from bokeh.resources import INLINE\\n\"+\n",
       "     \"output_notebook(resources=INLINE)\\n\"+\n",
       "     \"</code>\\n\"+\n",
       "     \"</div>\"}};\n",
       "\n",
       "  function display_loaded() {\n",
       "    var el = document.getElementById(\"48699922-e1d2-4cf8-9983-50e338c4ab53\");\n",
       "    if (el != null) {\n",
       "      el.textContent = \"BokehJS is loading...\";\n",
       "    }\n",
       "    if (root.Bokeh !== undefined) {\n",
       "      if (el != null) {\n",
       "        el.textContent = \"BokehJS \" + root.Bokeh.version + \" successfully loaded.\";\n",
       "      }\n",
       "    } else if (Date.now() < root._bokeh_timeout) {\n",
       "      setTimeout(display_loaded, 100)\n",
       "    }\n",
       "  }\n",
       "\n",
       "\n",
       "  function run_callbacks() {\n",
       "    try {\n",
       "      root._bokeh_onload_callbacks.forEach(function(callback) { callback() });\n",
       "    }\n",
       "    finally {\n",
       "      delete root._bokeh_onload_callbacks\n",
       "    }\n",
       "    console.info(\"Bokeh: all callbacks have finished\");\n",
       "  }\n",
       "\n",
       "  function load_libs(js_urls, callback) {\n",
       "    root._bokeh_onload_callbacks.push(callback);\n",
       "    if (root._bokeh_is_loading > 0) {\n",
       "      console.log(\"Bokeh: BokehJS is being loaded, scheduling callback at\", now());\n",
       "      return null;\n",
       "    }\n",
       "    if (js_urls == null || js_urls.length === 0) {\n",
       "      run_callbacks();\n",
       "      return null;\n",
       "    }\n",
       "    console.log(\"Bokeh: BokehJS not loaded, scheduling load and callback at\", now());\n",
       "    root._bokeh_is_loading = js_urls.length;\n",
       "    for (var i = 0; i < js_urls.length; i++) {\n",
       "      var url = js_urls[i];\n",
       "      var s = document.createElement('script');\n",
       "      s.src = url;\n",
       "      s.async = false;\n",
       "      s.onreadystatechange = s.onload = function() {\n",
       "        root._bokeh_is_loading--;\n",
       "        if (root._bokeh_is_loading === 0) {\n",
       "          console.log(\"Bokeh: all BokehJS libraries loaded\");\n",
       "          run_callbacks()\n",
       "        }\n",
       "      };\n",
       "      s.onerror = function() {\n",
       "        console.warn(\"failed to load library \" + url);\n",
       "      };\n",
       "      console.log(\"Bokeh: injecting script tag for BokehJS library: \", url);\n",
       "      document.getElementsByTagName(\"head\")[0].appendChild(s);\n",
       "    }\n",
       "  };var element = document.getElementById(\"48699922-e1d2-4cf8-9983-50e338c4ab53\");\n",
       "  if (element == null) {\n",
       "    console.log(\"Bokeh: ERROR: autoload.js configured with elementid '48699922-e1d2-4cf8-9983-50e338c4ab53' but no matching script tag was found. \")\n",
       "    return false;\n",
       "  }\n",
       "\n",
       "  var js_urls = [\"https://cdn.pydata.org/bokeh/release/bokeh-0.13.0.min.js\", \"https://cdn.pydata.org/bokeh/release/bokeh-widgets-0.13.0.min.js\", \"https://cdn.pydata.org/bokeh/release/bokeh-tables-0.13.0.min.js\", \"https://cdn.pydata.org/bokeh/release/bokeh-gl-0.13.0.min.js\"];\n",
       "\n",
       "  var inline_js = [\n",
       "    function(Bokeh) {\n",
       "      Bokeh.set_log_level(\"info\");\n",
       "    },\n",
       "    \n",
       "    function(Bokeh) {\n",
       "      \n",
       "    },\n",
       "    function(Bokeh) {\n",
       "      console.log(\"Bokeh: injecting CSS: https://cdn.pydata.org/bokeh/release/bokeh-0.13.0.min.css\");\n",
       "      Bokeh.embed.inject_css(\"https://cdn.pydata.org/bokeh/release/bokeh-0.13.0.min.css\");\n",
       "      console.log(\"Bokeh: injecting CSS: https://cdn.pydata.org/bokeh/release/bokeh-widgets-0.13.0.min.css\");\n",
       "      Bokeh.embed.inject_css(\"https://cdn.pydata.org/bokeh/release/bokeh-widgets-0.13.0.min.css\");\n",
       "      console.log(\"Bokeh: injecting CSS: https://cdn.pydata.org/bokeh/release/bokeh-tables-0.13.0.min.css\");\n",
       "      Bokeh.embed.inject_css(\"https://cdn.pydata.org/bokeh/release/bokeh-tables-0.13.0.min.css\");\n",
       "    }\n",
       "  ];\n",
       "\n",
       "  function run_inline_js() {\n",
       "    \n",
       "    if ((root.Bokeh !== undefined) || (force === true)) {\n",
       "      for (var i = 0; i < inline_js.length; i++) {\n",
       "        inline_js[i].call(root, root.Bokeh);\n",
       "      }if (force === true) {\n",
       "        display_loaded();\n",
       "      }} else if (Date.now() < root._bokeh_timeout) {\n",
       "      setTimeout(run_inline_js, 100);\n",
       "    } else if (!root._bokeh_failed_load) {\n",
       "      console.log(\"Bokeh: BokehJS failed to load within specified timeout.\");\n",
       "      root._bokeh_failed_load = true;\n",
       "    } else if (force !== true) {\n",
       "      var cell = $(document.getElementById(\"48699922-e1d2-4cf8-9983-50e338c4ab53\")).parents('.cell').data().cell;\n",
       "      cell.output_area.append_execute_result(NB_LOAD_WARNING)\n",
       "    }\n",
       "\n",
       "  }\n",
       "\n",
       "  if (root._bokeh_is_loading === 0) {\n",
       "    console.log(\"Bokeh: BokehJS loaded, going straight to plotting\");\n",
       "    run_inline_js();\n",
       "  } else {\n",
       "    load_libs(js_urls, function() {\n",
       "      console.log(\"Bokeh: BokehJS plotting callback run at\", now());\n",
       "      run_inline_js();\n",
       "    });\n",
       "  }\n",
       "}(window));"
      ],
      "application/vnd.bokehjs_load.v0+json": "\n(function(root) {\n  function now() {\n    return new Date();\n  }\n\n  var force = true;\n\n  if (typeof (root._bokeh_onload_callbacks) === \"undefined\" || force === true) {\n    root._bokeh_onload_callbacks = [];\n    root._bokeh_is_loading = undefined;\n  }\n\n  \n\n  \n  if (typeof (root._bokeh_timeout) === \"undefined\" || force === true) {\n    root._bokeh_timeout = Date.now() + 5000;\n    root._bokeh_failed_load = false;\n  }\n\n  var NB_LOAD_WARNING = {'data': {'text/html':\n     \"<div style='background-color: #fdd'>\\n\"+\n     \"<p>\\n\"+\n     \"BokehJS does not appear to have successfully loaded. If loading BokehJS from CDN, this \\n\"+\n     \"may be due to a slow or bad network connection. Possible fixes:\\n\"+\n     \"</p>\\n\"+\n     \"<ul>\\n\"+\n     \"<li>re-rerun `output_notebook()` to attempt to load from CDN again, or</li>\\n\"+\n     \"<li>use INLINE resources instead, as so:</li>\\n\"+\n     \"</ul>\\n\"+\n     \"<code>\\n\"+\n     \"from bokeh.resources import INLINE\\n\"+\n     \"output_notebook(resources=INLINE)\\n\"+\n     \"</code>\\n\"+\n     \"</div>\"}};\n\n  function display_loaded() {\n    var el = document.getElementById(\"48699922-e1d2-4cf8-9983-50e338c4ab53\");\n    if (el != null) {\n      el.textContent = \"BokehJS is loading...\";\n    }\n    if (root.Bokeh !== undefined) {\n      if (el != null) {\n        el.textContent = \"BokehJS \" + root.Bokeh.version + \" successfully loaded.\";\n      }\n    } else if (Date.now() < root._bokeh_timeout) {\n      setTimeout(display_loaded, 100)\n    }\n  }\n\n\n  function run_callbacks() {\n    try {\n      root._bokeh_onload_callbacks.forEach(function(callback) { callback() });\n    }\n    finally {\n      delete root._bokeh_onload_callbacks\n    }\n    console.info(\"Bokeh: all callbacks have finished\");\n  }\n\n  function load_libs(js_urls, callback) {\n    root._bokeh_onload_callbacks.push(callback);\n    if (root._bokeh_is_loading > 0) {\n      console.log(\"Bokeh: BokehJS is being loaded, scheduling callback at\", now());\n      return null;\n    }\n    if (js_urls == null || js_urls.length === 0) {\n      run_callbacks();\n      return null;\n    }\n    console.log(\"Bokeh: BokehJS not loaded, scheduling load and callback at\", now());\n    root._bokeh_is_loading = js_urls.length;\n    for (var i = 0; i < js_urls.length; i++) {\n      var url = js_urls[i];\n      var s = document.createElement('script');\n      s.src = url;\n      s.async = false;\n      s.onreadystatechange = s.onload = function() {\n        root._bokeh_is_loading--;\n        if (root._bokeh_is_loading === 0) {\n          console.log(\"Bokeh: all BokehJS libraries loaded\");\n          run_callbacks()\n        }\n      };\n      s.onerror = function() {\n        console.warn(\"failed to load library \" + url);\n      };\n      console.log(\"Bokeh: injecting script tag for BokehJS library: \", url);\n      document.getElementsByTagName(\"head\")[0].appendChild(s);\n    }\n  };var element = document.getElementById(\"48699922-e1d2-4cf8-9983-50e338c4ab53\");\n  if (element == null) {\n    console.log(\"Bokeh: ERROR: autoload.js configured with elementid '48699922-e1d2-4cf8-9983-50e338c4ab53' but no matching script tag was found. \")\n    return false;\n  }\n\n  var js_urls = [\"https://cdn.pydata.org/bokeh/release/bokeh-0.13.0.min.js\", \"https://cdn.pydata.org/bokeh/release/bokeh-widgets-0.13.0.min.js\", \"https://cdn.pydata.org/bokeh/release/bokeh-tables-0.13.0.min.js\", \"https://cdn.pydata.org/bokeh/release/bokeh-gl-0.13.0.min.js\"];\n\n  var inline_js = [\n    function(Bokeh) {\n      Bokeh.set_log_level(\"info\");\n    },\n    \n    function(Bokeh) {\n      \n    },\n    function(Bokeh) {\n      console.log(\"Bokeh: injecting CSS: https://cdn.pydata.org/bokeh/release/bokeh-0.13.0.min.css\");\n      Bokeh.embed.inject_css(\"https://cdn.pydata.org/bokeh/release/bokeh-0.13.0.min.css\");\n      console.log(\"Bokeh: injecting CSS: https://cdn.pydata.org/bokeh/release/bokeh-widgets-0.13.0.min.css\");\n      Bokeh.embed.inject_css(\"https://cdn.pydata.org/bokeh/release/bokeh-widgets-0.13.0.min.css\");\n      console.log(\"Bokeh: injecting CSS: https://cdn.pydata.org/bokeh/release/bokeh-tables-0.13.0.min.css\");\n      Bokeh.embed.inject_css(\"https://cdn.pydata.org/bokeh/release/bokeh-tables-0.13.0.min.css\");\n    }\n  ];\n\n  function run_inline_js() {\n    \n    if ((root.Bokeh !== undefined) || (force === true)) {\n      for (var i = 0; i < inline_js.length; i++) {\n        inline_js[i].call(root, root.Bokeh);\n      }if (force === true) {\n        display_loaded();\n      }} else if (Date.now() < root._bokeh_timeout) {\n      setTimeout(run_inline_js, 100);\n    } else if (!root._bokeh_failed_load) {\n      console.log(\"Bokeh: BokehJS failed to load within specified timeout.\");\n      root._bokeh_failed_load = true;\n    } else if (force !== true) {\n      var cell = $(document.getElementById(\"48699922-e1d2-4cf8-9983-50e338c4ab53\")).parents('.cell').data().cell;\n      cell.output_area.append_execute_result(NB_LOAD_WARNING)\n    }\n\n  }\n\n  if (root._bokeh_is_loading === 0) {\n    console.log(\"Bokeh: BokehJS loaded, going straight to plotting\");\n    run_inline_js();\n  } else {\n    load_libs(js_urls, function() {\n      console.log(\"Bokeh: BokehJS plotting callback run at\", now());\n      run_inline_js();\n    });\n  }\n}(window));"
     },
     "metadata": {},
     "output_type": "display_data"
    }
   ],
   "source": [
    "import rasa_core\n",
    "from rasa_core.agent import Agent\n",
    "from bokeh.io import output_notebook\n",
    "agent = Agent.load(\"models/dialogue_embed\")\n",
    "# agent = Agent.load(\"models/dialogue_embed_before_norm_loss\")\n",
    "output_notebook()"
   ]
  },
  {
   "cell_type": "code",
   "execution_count": 2,
   "metadata": {},
   "outputs": [
    {
     "data": {
      "text/plain": [
       "'0.12.0a4'"
      ]
     },
     "execution_count": 2,
     "metadata": {},
     "output_type": "execute_result"
    }
   ],
   "source": [
    "rasa_core.__version__"
   ]
  },
  {
   "cell_type": "code",
   "execution_count": 3,
   "metadata": {},
   "outputs": [
    {
     "name": "stdout",
     "output_type": "stream",
     "text": [
      "False\n"
     ]
    }
   ],
   "source": [
    "policy = agent.policy_ensemble.policies[0]\n",
    "interpreter = agent.interpreter\n",
    "print(policy.sparse_attention)"
   ]
  },
  {
   "cell_type": "code",
   "execution_count": 4,
   "metadata": {},
   "outputs": [],
   "source": [
    "domain = agent.domain\n"
   ]
  },
  {
   "cell_type": "code",
   "execution_count": 5,
   "metadata": {},
   "outputs": [],
   "source": [
    "from rasa_core.training.structures import StoryGraph\n",
    "from rasa_core.training.dsl import StoryFileReader\n",
    "from rasa_core.trackers import DialogueStateTracker\n",
    "from rasa_core.channels import UserMessage\n",
    "import numpy as np\n",
    "np.set_printoptions(precision=3, suppress=True)\n",
    "\n",
    "def embedding_from_tracker(story, bot=False, predict_only=False):\n",
    "    reader = StoryFileReader(domain, interpreter)\n",
    "    story = story.split('\\n')\n",
    "    story_steps = reader.process_lines(story)\n",
    "#     story_graph = StoryGraph(story_steps)\n",
    "    tracker = DialogueStateTracker(\n",
    "            1,\n",
    "            domain.slots\n",
    "    )\n",
    "    tracker._reset()\n",
    "    for step in story_steps:\n",
    "        events = step.explicit_events(domain)\n",
    "        for event in events[:-1]:\n",
    "            tracker.update(event)\n",
    "\n",
    "    if predict_only:\n",
    "        return policy.predict_action_probabilities(tracker, domain)\n",
    "\n",
    "    data_X = policy.featurizer.create_X([tracker], domain)\n",
    "    session_data = policy._create_tf_session_data(domain, data_X)\n",
    "    all_Y_d_x = np.stack([session_data.all_Y_d for _ in range(session_data.X.shape[0])])\n",
    "    feed_dict={policy.a_in: session_data.X,\n",
    "               policy.b_in: all_Y_d_x,\n",
    "               policy.c_in: session_data.slots,\n",
    "               policy.b_prev_in: session_data.previous_actions,\n",
    "               policy._dialogue_len: session_data.X.shape[1],\n",
    "               policy._x_for_no_intent_in: session_data.x_for_no_intent,\n",
    "               policy._y_for_no_action_in: session_data.y_for_no_action,\n",
    "               policy._y_for_action_listen_in: session_data.y_for_action_listen}\n",
    "\n",
    "    dial_vec = policy.session.run(policy.dial_embed, feed_dict=feed_dict)\n",
    "    bot_vec = policy.session.run(policy.bot_embed, feed_dict=feed_dict)\n",
    "\n",
    "    no_skip_gate = policy.session.run(policy.copy_attn_debug, feed_dict=feed_dict)\n",
    "    attn_embed = policy.session.run(policy.attn_embed, feed_dict=feed_dict)\n",
    "    rnn_embed = policy.session.run(policy.rnn_embed, feed_dict=feed_dict)\n",
    "    probs = policy.session.run(policy.alignment_history, feed_dict=feed_dict)\n",
    "    time_mask = policy.session.run(policy.all_time_masks, feed_dict=feed_dict)\n",
    "    if probs.shape[2] == 2 * probs.shape[1]:\n",
    "        user_probs = probs[0, -1, :int(probs.shape[2]/2)]\n",
    "        bot_probs = probs[0, -1, int(probs.shape[2]/2):]\n",
    "    else:\n",
    "        user_probs = probs[0, -1, :]\n",
    "        bot_probs = []\n",
    "\n",
    "    sims = policy.session.run(policy.sim_op, feed_dict=feed_dict)\n",
    "    if bot is False:\n",
    "        sims1 = policy.predict_action_probabilities(tracker, domain)\n",
    "\n",
    "    del tracker\n",
    "#     print(np.shape(dial_vec))\n",
    "\n",
    "    if bot is False:\n",
    "        return (dial_vec[0,-1,:],\n",
    "                no_skip_gate[0,-1,:],\n",
    "                attn_embed[0,-1,:],\n",
    "                rnn_embed[0,-1,:],\n",
    "                [user_probs, bot_probs, time_mask[0,-1,:]],\n",
    "                sims[0,-1,:],\n",
    "                sims1)\n",
    "    else:\n",
    "        return (dial_vec[0,-1,:],\n",
    "                sims[0,-1,:],\n",
    "                bot_vec[0,-1,:,:])\n",
    "    \n",
    "def make_prediction(story):\n",
    "    dial, sim0, bot = embedding_from_tracker(story, bot=True)\n",
    "    abs_vals = np.array([np.absolute(vec) for vec in bot])\n",
    "    norms = np.apply_along_axis(np.linalg.norm, 1, bot)\n",
    "    sims = np.dot(bot, dial)/norms\n",
    "#     name = domain.action_for_index(np.argmax(sims)).name()\n",
    "#     print(name)\n",
    "    name = domain.action_names[np.argmax(sim0)]\n",
    "#     print(name)\n",
    "#     print('---')\n",
    "#     ids = sim0.argsort()[::-1]\n",
    "#     print(ids)\n",
    "#     print(sims[ids])\n",
    "    return '- ' + name, np.max(sim0)\n",
    "#     print(dial.shape, bot.shape)"
   ]
  },
  {
   "cell_type": "code",
   "execution_count": 20,
   "metadata": {},
   "outputs": [],
   "source": [
    "# print(domain.intents)\n",
    "story_block = \"\"\"* request_hotel\n",
    "    - utter_ask_details\n",
    "* chitchat\n",
    "    - utter_chitchat\n",
    "    - utter_ask_details\n",
    "* inform{\"enddate\": \"May 26th\"}\n",
    "    - slot{\"enddate\": \"May 26th\"}\n",
    "    - utter_ask_startdate\n",
    "* inform{\"startdate\": \"next week\"}\n",
    "    - slot{\"startdate\": \"next week\"}\n",
    "    - utter_ask_location\n",
    "* correct{\"startdate\": \"next week\"}\n",
    "    - slot{\"startdate\": \"next week\"}\n",
    "    - utter_correct_startdate_hotel\n",
    "    - utter_ask_location\n",
    "* explain\n",
    "    - utter_explain_location_hotel\n",
    "    - utter_ask_location\n",
    "* inform{\"location\": \"rome\"}\n",
    "    - slot{\"location\": \"rome\"}\n",
    "    - utter_ask_price\n",
    "* chitchat\n",
    "    - utter_chitchat\n",
    "    - utter_ask_price\n",
    "* chitchat\n",
    "    - utter_chitchat\n",
    "    - utter_ask_price\n",
    "* chitchat\n",
    "    - utter_chitchat\n",
    "    - utter_ask_price\n",
    "* chitchat\n",
    "    - utter_chitchat\n",
    "    - utter_ask_price\n",
    "* explain\n",
    "    - utter_explain_price_hotel\n",
    "    - utter_ask_price\n",
    "* inform{\"price\": \"expensive\"}\n",
    "    - utter_ask_people\n",
    "* inform{\"people\": \"4\"}\n",
    "    - utter_filled_slots\n",
    "    - utter_search_hotel\n",
    "    - slot{\"hotel\": \"hotel\"}\n",
    "    - utter_suggest_hotel\n",
    "* chitchat\n",
    "    - utter_chitchat\n",
    "    - utter_suggest_hotel\n",
    "* affirm\n",
    "    - utter_happy\"\"\""
   ]
  },
  {
   "cell_type": "code",
   "execution_count": 21,
   "metadata": {},
   "outputs": [],
   "source": [
    "# story_block = \"\"\"* request_hotel\n",
    "#     - utter_ask_details\n",
    "# * inform{\"people\": \"4\"}\n",
    "#     - slot{\"people\": \"4\"}\n",
    "#     - utter_ask_location\n",
    "# * correct{\"people\": \"2\"}\n",
    "#     - slot{\"people\": \"2\"}\n",
    "#     - utter_correct_people_hotel\n",
    "#     - utter_ask_location\n",
    "# * chitchat\n",
    "#     - utter_chitchat\n",
    "#     - utter_ask_location\n",
    "# * inform{\"location\": \"rome\"}\n",
    "#     - slot{\"location\": \"rome\"}\n",
    "#     - utter_ask_price\n",
    "# * inform{\"price\": \"expensive\"}\n",
    "#     - slot{\"price\": \"expensive\"}\n",
    "#     - utter_ask_startdate\n",
    "# * inform{\"startdate\": \"next week\", \"enddate\": \"tomorrow\"}\n",
    "#     - slot{\"startdate\": \"next week\"}\n",
    "#     - slot{\"enddate\": \"tomorrow\"}\n",
    "#     - utter_filled_slots\n",
    "#     - utter_search_hotel\n",
    "#     - slot{\"hotel\": \"hotel\"}\n",
    "#     - utter_suggest_hotel\n",
    "# * correct{\"enddate\": \"May 26th\"}\n",
    "#     - slot{\"enddate\": \"May 26th\"}\n",
    "#     - utter_correct_enddate_hotel\n",
    "#     - utter_search_hotel\n",
    "#     - slot{\"hotel\": \"hotel\"}\n",
    "#     - utter_suggest_hotel\n",
    "# * correct{\"location\": \"rome\"}\n",
    "#     - slot{\"location\": \"rome\"}\n",
    "#     - utter_correct_location_hotel\n",
    "#     - utter_search_hotel\n",
    "#     - slot{\"hotel\": \"hotel\"}\n",
    "#     - utter_suggest_hotel\n",
    "# * did_that_work\n",
    "#     - utter_worked_hotel\n",
    "#     - utter_suggest_hotel\n",
    "# * affirm\n",
    "#     - utter_happy\n",
    "# * chitchat\"\"\""
   ]
  },
  {
   "cell_type": "code",
   "execution_count": 22,
   "metadata": {},
   "outputs": [],
   "source": [
    "# story_block = \"\"\"* request_hotel\n",
    "#     - utter_ask_details\n",
    "# * inform{\"people\": \"2\"}\n",
    "#     - slot{\"people\": \"2\"}\n",
    "#     - utter_ask_location\n",
    "# * correct{\"people\": \"2\"}\n",
    "#     - slot{\"people\": \"2\"}\n",
    "#     - utter_correct_people_hotel\n",
    "#     - utter_ask_location\n",
    "# * explain\n",
    "#     - utter_explain_location_hotel\n",
    "#     - utter_ask_location\n",
    "# * inform{\"location\": \"paris\"}\n",
    "#     - utter_ask_price\n",
    "# * inform{\"price\": \"expensive\"}\n",
    "#     - utter_ask_startdate\n",
    "# * inform{\"startdate\": \"10.03.2018\"}\n",
    "#     - utter_ask_enddate\n",
    "# * explain\n",
    "#     - utter_explain_enddate_hotel\n",
    "#     - utter_ask_enddate\n",
    "# * explain\n",
    "#     - utter_explain_enddate_hotel\n",
    "#     - utter_ask_enddate\n",
    "# * explain\n",
    "#     - utter_explain_enddate_hotel\n",
    "#     - utter_ask_enddate\n",
    "# * explain\n",
    "#     - utter_explain_enddate_hotel\n",
    "#     - utter_ask_enddate\n",
    "# * did_that_work\n",
    "#     - utter_more_info_hotel\n",
    "#     - utter_ask_enddate\n",
    "# * inform{\"enddate\": \"10.03.2018\"}\n",
    "#     - utter_filled_slots\n",
    "#     - utter_search_hotel\n",
    "#     - slot{\"hotel\": \"hotel\"}\n",
    "#     - utter_suggest_hotel\n",
    "# * did_that_work\n",
    "#     - utter_worked_hotel\n",
    "#     - utter_suggest_hotel\n",
    "# * affirm\n",
    "#     - utter_happy\n",
    "# \"\"\""
   ]
  },
  {
   "cell_type": "code",
   "execution_count": 23,
   "metadata": {},
   "outputs": [
    {
     "name": "stdout",
     "output_type": "stream",
     "text": [
      "48\n",
      "27\n"
     ]
    }
   ],
   "source": [
    "print(len(story_block.split('\\n')))\n",
    "cool_list = []\n",
    "lines = story_block.split('\\n')\n",
    "for idx, line in enumerate(lines):\n",
    "    if idx == len(lines)-1:\n",
    "        continue\n",
    "    if '*' in lines[idx+1] or 'slot{' in lines[idx+1]:\n",
    "#     if 'slot{' in lines[idx+1]:\n",
    "        continue\n",
    "    sub_story = '\\n'.join(lines[:idx+1])\n",
    "    (dial, not_skip, attn, rnn, probs, sims, sims1\n",
    "    ) = embedding_from_tracker(\"#generate story\\n{}\".format(sub_story))\n",
    "#     print(np.max(sims), np.max(sims1))\n",
    "\n",
    "    pred, sim = make_prediction(\"#generate story\\n{}\".format(sub_story))\n",
    "    cool_list.append((lines[idx+1].strip(), dial, (pred, sim, sims), not_skip, attn[-20:], rnn,\n",
    "                      probs))\n",
    "#     embedding_from_tracker(\"#generate story\\n{}\".format(sub_story), predict_only=True)\n",
    "\n",
    "print(len(cool_list))\n",
    "# print(cool_list[0][4].shape)\n",
    "#     break\n",
    "# dial = embedding_from_tracker(\"#generate story\\n{}\".format(story_block)\n",
    "# )\n",
    "# print(dial.shape)\n",
    "# print(len(story_block.split('\\n')))\n",
    "# print(probs[0, 6, :])"
   ]
  },
  {
   "cell_type": "code",
   "execution_count": 35,
   "metadata": {},
   "outputs": [
    {
     "data": {
      "text/plain": [
       "('- utter_ask_price',\n",
       " array([ 0.039, -0.05 ,  0.054,  0.03 ,  0.385, -0.162,  0.098, -0.076,\n",
       "         0.213, -0.052, -0.081,  0.014,  0.116,  0.037,  0.077, -0.022,\n",
       "        -0.253, -0.054, -0.002,  0.179], dtype=float32),\n",
       " ('- utter_ask_price',\n",
       "  0.969217,\n",
       "  array([-0.048, -0.003, -0.085,  0.026,  0.1  ,  0.079,  0.969, -0.148,\n",
       "         -0.035, -0.057, -0.092,  0.006,  0.074, -0.015, -0.347, -0.226,\n",
       "         -0.346, -0.302, -0.196, -0.293, -0.191,  0.019, -0.003, -0.39 ,\n",
       "         -0.188, -0.032, -0.037, -0.035, -0.057,  0.007, -0.406, -0.25 ,\n",
       "         -0.231, -0.008, -0.022, -0.394, -0.244, -0.514, -0.46 , -0.079,\n",
       "         -0.052, -0.019,  0.017], dtype=float32)),\n",
       " array([1.   , 0.969, 0.   , 1.   , 0.   ], dtype=float32),\n",
       " array([ 0.034, -0.043,  0.058,  0.081,  0.236, -0.097,  0.057, -0.081,\n",
       "         0.144, -0.048, -0.024,  0.   ,  0.103,  0.058,  0.076, -0.001,\n",
       "        -0.164, -0.053, -0.013,  0.159], dtype=float32),\n",
       " array([ 0.005, -0.007, -0.004, -0.051,  0.148, -0.065,  0.041,  0.005,\n",
       "         0.069, -0.004, -0.057,  0.013,  0.013, -0.021,  0.001, -0.022,\n",
       "        -0.089, -0.   ,  0.011,  0.02 ], dtype=float32),\n",
       " [array([0.   , 0.196, 0.   , 0.   , 0.   , 0.   , 0.141, 0.   , 0.159,\n",
       "         0.   , 0.   , 0.   , 0.   , 0.   , 0.   , 0.   , 0.159, 0.   ,\n",
       "         0.104, 0.24 ], dtype=float32),\n",
       "  array([0.   , 0.   , 0.   , 0.   , 0.   , 0.006, 0.   , 0.005, 0.   ,\n",
       "         0.   , 0.   , 0.   , 0.   , 0.   , 0.   , 0.006, 0.   , 0.969,\n",
       "         0.   , 0.014], dtype=float32),\n",
       "  array([1, 1, 0, 0, 0, 1, 1, 1, 1, 0, 0, 0, 0, 0, 0, 1, 1, 1, 1, 0],\n",
       "        dtype=int32)])"
      ]
     },
     "execution_count": 35,
     "metadata": {},
     "output_type": "execute_result"
    }
   ],
   "source": [
    "import copy\n",
    "\n",
    "# cool_list0 = copy.deepcopy(cool_list)\n",
    "cool_list[11]"
   ]
  },
  {
   "cell_type": "code",
   "execution_count": 36,
   "metadata": {},
   "outputs": [
    {
     "data": {
      "text/plain": [
       "('- utter_ask_price',\n",
       " array([ 0.038, -0.054,  0.055,  0.029,  0.394, -0.166,  0.099, -0.077,\n",
       "         0.216, -0.049, -0.088,  0.011,  0.117,  0.033,  0.076, -0.02 ,\n",
       "        -0.26 , -0.055,  0.001,  0.181], dtype=float32),\n",
       " ('- utter_ask_price',\n",
       "  0.96681106,\n",
       "  array([-0.048, -0.003, -0.086,  0.023,  0.108,  0.071,  0.967, -0.157,\n",
       "         -0.035, -0.061, -0.093,  0.005,  0.084, -0.013, -0.343, -0.226,\n",
       "         -0.342, -0.3  , -0.198, -0.286, -0.189,  0.023, -0.003, -0.389,\n",
       "         -0.189, -0.035, -0.042, -0.034, -0.057,  0.006, -0.404, -0.252,\n",
       "         -0.231, -0.004, -0.022, -0.385, -0.242, -0.513, -0.454, -0.08 ,\n",
       "         -0.056, -0.023,  0.019], dtype=float32)),\n",
       " array([1.   , 0.967, 0.   , 1.   , 0.   ], dtype=float32),\n",
       " array([ 0.034, -0.043,  0.058,  0.081,  0.236, -0.097,  0.057, -0.081,\n",
       "         0.144, -0.048, -0.024,  0.   ,  0.103,  0.058,  0.076, -0.001,\n",
       "        -0.164, -0.053, -0.013,  0.159], dtype=float32),\n",
       " array([ 0.005, -0.011, -0.003, -0.052,  0.157, -0.068,  0.042,  0.004,\n",
       "         0.073, -0.001, -0.064,  0.01 ,  0.014, -0.024, -0.   , -0.02 ,\n",
       "        -0.096, -0.002,  0.014,  0.021], dtype=float32),\n",
       " [array([0.   , 0.198, 0.   , 0.   , 0.   , 0.   , 0.141, 0.   , 0.159,\n",
       "         0.   , 0.   , 0.   , 0.   , 0.   , 0.   , 0.   , 0.169, 0.   ,\n",
       "         0.   , 0.   , 0.   , 0.101, 0.232], dtype=float32),\n",
       "  array([0.   , 0.   , 0.   , 0.   , 0.   , 0.007, 0.   , 0.005, 0.   ,\n",
       "         0.   , 0.   , 0.   , 0.   , 0.   , 0.   , 0.006, 0.   , 0.   ,\n",
       "         0.   , 0.   , 0.969, 0.   , 0.014], dtype=float32),\n",
       "  array([1, 1, 0, 0, 0, 1, 1, 1, 1, 0, 0, 0, 0, 0, 0, 1, 1, 0, 0, 0, 1, 1,\n",
       "         0], dtype=int32)])"
      ]
     },
     "execution_count": 36,
     "metadata": {},
     "output_type": "execute_result"
    }
   ],
   "source": [
    "# cool_list1= copy.deepcopy(cool_list)\n",
    "cool_list[13]"
   ]
  },
  {
   "cell_type": "code",
   "execution_count": 12,
   "metadata": {},
   "outputs": [
    {
     "data": {
      "text/plain": [
       "[<matplotlib.lines.Line2D at 0x13459c7f0>]"
      ]
     },
     "execution_count": 12,
     "metadata": {},
     "output_type": "execute_result"
    }
   ],
   "source": [
    "import matplotlib.pyplot as plt\n",
    "plt.plot(cool_list[15][-2], marker='x')"
   ]
  },
  {
   "cell_type": "code",
   "execution_count": 13,
   "metadata": {},
   "outputs": [
    {
     "data": {
      "text/plain": [
       "[<matplotlib.lines.Line2D at 0x134830d30>]"
      ]
     },
     "execution_count": 13,
     "metadata": {},
     "output_type": "execute_result"
    },
    {
     "data": {
      "image/png": "[encoded data removed]",
      "text/plain": [
       "<matplotlib.figure.Figure at 0x134793198>"
      ]
     },
     "metadata": {},
     "output_type": "display_data"
    }
   ],
   "source": [
    "plt.plot(cool_list[19][-2], marker='x')"
   ]
  },
  {
   "cell_type": "code",
   "execution_count": null,
   "metadata": {},
   "outputs": [],
   "source": []
  },
  {
   "cell_type": "code",
   "execution_count": null,
   "metadata": {},
   "outputs": [],
   "source": []
  },
  {
   "cell_type": "code",
   "execution_count": 14,
   "metadata": {},
   "outputs": [],
   "source": [
    "from sklearn.decomposition import PCA"
   ]
  },
  {
   "cell_type": "code",
   "execution_count": 15,
   "metadata": {},
   "outputs": [],
   "source": [
    "pca = PCA(n_components=2)\n",
    "X = pca.fit_transform([ting[1] for ting in cool_list])"
   ]
  },
  {
   "cell_type": "code",
   "execution_count": 16,
   "metadata": {},
   "outputs": [],
   "source": [
    "from bokeh.plotting import figure, show\n",
    "import matplotlib.pyplot as plt"
   ]
  },
  {
   "cell_type": "code",
   "execution_count": 17,
   "metadata": {},
   "outputs": [],
   "source": [
    "embed_dim = cool_list[0][1].shape[0]\n"
   ]
  },
  {
   "cell_type": "code",
   "execution_count": 18,
   "metadata": {},
   "outputs": [
    {
     "data": {
      "text/html": [
       "<div style=\"display: table;\"><div style=\"display: table-row;\"><div style=\"display: table-cell;\"><b title=\"bokeh.models.renderers.GlyphRenderer\">GlyphRenderer</b>(</div><div style=\"display: table-cell;\">id&nbsp;=&nbsp;'4ae725e7-b8de-4b32-adac-b3570c9de3b5', <span id=\"e4936143-8c74-4fbe-a254-9ca317bd43f4\" style=\"cursor: pointer;\">&hellip;)</span></div></div><div class=\"013e3256-d927-4698-b4f8-8053b302f8ac\" style=\"display: none;\"><div style=\"display: table-cell;\"></div><div style=\"display: table-cell;\">data_source&nbsp;=&nbsp;ColumnDataSource(id='3359c1b3-a3f6-4018-a858-31e759115287', ...),</div></div><div class=\"013e3256-d927-4698-b4f8-8053b302f8ac\" style=\"display: none;\"><div style=\"display: table-cell;\"></div><div style=\"display: table-cell;\">glyph&nbsp;=&nbsp;Circle(id='189b7106-df69-4aac-8617-b6094bdca4be', ...),</div></div><div class=\"013e3256-d927-4698-b4f8-8053b302f8ac\" style=\"display: none;\"><div style=\"display: table-cell;\"></div><div style=\"display: table-cell;\">hover_glyph&nbsp;=&nbsp;None,</div></div><div class=\"013e3256-d927-4698-b4f8-8053b302f8ac\" style=\"display: none;\"><div style=\"display: table-cell;\"></div><div style=\"display: table-cell;\">js_event_callbacks&nbsp;=&nbsp;{},</div></div><div class=\"013e3256-d927-4698-b4f8-8053b302f8ac\" style=\"display: none;\"><div style=\"display: table-cell;\"></div><div style=\"display: table-cell;\">js_property_callbacks&nbsp;=&nbsp;{},</div></div><div class=\"013e3256-d927-4698-b4f8-8053b302f8ac\" style=\"display: none;\"><div style=\"display: table-cell;\"></div><div style=\"display: table-cell;\">level&nbsp;=&nbsp;'glyph',</div></div><div class=\"013e3256-d927-4698-b4f8-8053b302f8ac\" style=\"display: none;\"><div style=\"display: table-cell;\"></div><div style=\"display: table-cell;\">muted&nbsp;=&nbsp;False,</div></div><div class=\"013e3256-d927-4698-b4f8-8053b302f8ac\" style=\"display: none;\"><div style=\"display: table-cell;\"></div><div style=\"display: table-cell;\">muted_glyph&nbsp;=&nbsp;None,</div></div><div class=\"013e3256-d927-4698-b4f8-8053b302f8ac\" style=\"display: none;\"><div style=\"display: table-cell;\"></div><div style=\"display: table-cell;\">name&nbsp;=&nbsp;None,</div></div><div class=\"013e3256-d927-4698-b4f8-8053b302f8ac\" style=\"display: none;\"><div style=\"display: table-cell;\"></div><div style=\"display: table-cell;\">nonselection_glyph&nbsp;=&nbsp;Circle(id='2cdf4a35-4377-45a9-8221-e727b5626770', ...),</div></div><div class=\"013e3256-d927-4698-b4f8-8053b302f8ac\" style=\"display: none;\"><div style=\"display: table-cell;\"></div><div style=\"display: table-cell;\">selection_glyph&nbsp;=&nbsp;None,</div></div><div class=\"013e3256-d927-4698-b4f8-8053b302f8ac\" style=\"display: none;\"><div style=\"display: table-cell;\"></div><div style=\"display: table-cell;\">subscribed_events&nbsp;=&nbsp;[],</div></div><div class=\"013e3256-d927-4698-b4f8-8053b302f8ac\" style=\"display: none;\"><div style=\"display: table-cell;\"></div><div style=\"display: table-cell;\">tags&nbsp;=&nbsp;[],</div></div><div class=\"013e3256-d927-4698-b4f8-8053b302f8ac\" style=\"display: none;\"><div style=\"display: table-cell;\"></div><div style=\"display: table-cell;\">view&nbsp;=&nbsp;CDSView(id='c22f5376-6d82-4201-817a-4b1c2b5b8782', ...),</div></div><div class=\"013e3256-d927-4698-b4f8-8053b302f8ac\" style=\"display: none;\"><div style=\"display: table-cell;\"></div><div style=\"display: table-cell;\">visible&nbsp;=&nbsp;True,</div></div><div class=\"013e3256-d927-4698-b4f8-8053b302f8ac\" style=\"display: none;\"><div style=\"display: table-cell;\"></div><div style=\"display: table-cell;\">x_range_name&nbsp;=&nbsp;'default',</div></div><div class=\"013e3256-d927-4698-b4f8-8053b302f8ac\" style=\"display: none;\"><div style=\"display: table-cell;\"></div><div style=\"display: table-cell;\">y_range_name&nbsp;=&nbsp;'default')</div></div></div>\n",
       "<script>\n",
       "(function() {\n",
       "  var expanded = false;\n",
       "  var ellipsis = document.getElementById(\"e4936143-8c74-4fbe-a254-9ca317bd43f4\");\n",
       "  ellipsis.addEventListener(\"click\", function() {\n",
       "    var rows = document.getElementsByClassName(\"013e3256-d927-4698-b4f8-8053b302f8ac\");\n",
       "    for (var i = 0; i < rows.length; i++) {\n",
       "      var el = rows[i];\n",
       "      el.style.display = expanded ? \"none\" : \"table-row\";\n",
       "    }\n",
       "    ellipsis.innerHTML = expanded ? \"&hellip;)\" : \"&lsaquo;&lsaquo;&lsaquo;\";\n",
       "    expanded = !expanded;\n",
       "  });\n",
       "})();\n",
       "</script>\n"
      ],
      "text/plain": [
       "bokeh.models.renderers.GlyphRenderer(\n",
       "    id='4ae725e7-b8de-4b32-adac-b3570c9de3b5',\n",
       "    data_source=bokeh.models.sources.ColumnDataSource(\n",
       "        id='3359c1b3-a3f6-4018-a858-31e759115287',\n",
       "        callback=None,\n",
       "        data={},\n",
       "        js_event_callbacks={},\n",
       "        js_property_callbacks={},\n",
       "        name=None,\n",
       "        selected=bokeh.models.selections.Selection(\n",
       "            id='d81c3ef4-aa7b-47a9-b696-50e557a6ca01',\n",
       "            indices=[],\n",
       "            js_event_callbacks={},\n",
       "            js_property_callbacks={},\n",
       "            line_indices=[],\n",
       "            multiline_indices={},\n",
       "            name=None,\n",
       "            subscribed_events=[],\n",
       "            tags=[]),\n",
       "        selection_policy=bokeh.models.selections.UnionRenderers(\n",
       "            id='f6690a46-4d19-41e1-af0c-f149b2da494e',\n",
       "            js_event_callbacks={},\n",
       "            js_property_callbacks={},\n",
       "            name=None,\n",
       "            subscribed_events=[],\n",
       "            tags=[]),\n",
       "        subscribed_events=[],\n",
       "        tags=[]),\n",
       "    glyph=bokeh.models.markers.Circle(\n",
       "        id='189b7106-df69-4aac-8617-b6094bdca4be',\n",
       "        angle={'value': 0.0, 'units': 'rad'},\n",
       "        fill_alpha={'value': 1.0},\n",
       "        fill_color={'value': 'red'},\n",
       "        js_event_callbacks={},\n",
       "        js_property_callbacks={},\n",
       "        line_alpha={'value': 1.0},\n",
       "        line_cap='butt',\n",
       "        line_color={'value': 'red'},\n",
       "        line_dash=[],\n",
       "        line_dash_offset=0,\n",
       "        line_join='bevel',\n",
       "        line_width={'value': 1},\n",
       "        name=None,\n",
       "        radius=None,\n",
       "        radius_dimension='x',\n",
       "        size={'value': 10, 'units': 'screen'},\n",
       "        subscribed_events=[],\n",
       "        tags=[],\n",
       "        x={'value': 0.03182150336145036},\n",
       "        y={'value': 0.0027050023283965107}),\n",
       "    hover_glyph=None,\n",
       "    js_event_callbacks={},\n",
       "    js_property_callbacks={},\n",
       "    level='glyph',\n",
       "    muted=False,\n",
       "    muted_glyph=None,\n",
       "    name=None,\n",
       "    nonselection_glyph=bokeh.models.markers.Circle(\n",
       "        id='2cdf4a35-4377-45a9-8221-e727b5626770',\n",
       "        angle={'value': 0.0, 'units': 'rad'},\n",
       "        fill_alpha={'value': 0.1},\n",
       "        fill_color={'value': '#1f77b4'},\n",
       "        js_event_callbacks={},\n",
       "        js_property_callbacks={},\n",
       "        line_alpha={'value': 0.1},\n",
       "        line_cap='butt',\n",
       "        line_color={'value': '#1f77b4'},\n",
       "        line_dash=[],\n",
       "        line_dash_offset=0,\n",
       "        line_join='bevel',\n",
       "        line_width={'value': 1},\n",
       "        name=None,\n",
       "        radius=None,\n",
       "        radius_dimension='x',\n",
       "        size={'value': 10, 'units': 'screen'},\n",
       "        subscribed_events=[],\n",
       "        tags=[],\n",
       "        x={'value': 0.03182150336145036},\n",
       "        y={'value': 0.0027050023283965107}),\n",
       "    selection_glyph=None,\n",
       "    subscribed_events=[],\n",
       "    tags=[],\n",
       "    view=bokeh.models.sources.CDSView(\n",
       "        id='c22f5376-6d82-4201-817a-4b1c2b5b8782',\n",
       "        filters=[],\n",
       "        js_event_callbacks={},\n",
       "        js_property_callbacks={},\n",
       "        name=None,\n",
       "        source=bokeh.models.sources.ColumnDataSource(\n",
       "            id='3359c1b3-a3f6-4018-a858-31e759115287',\n",
       "            callback=None,\n",
       "            data={},\n",
       "            js_event_callbacks={},\n",
       "            js_property_callbacks={},\n",
       "            name=None,\n",
       "            selected=bokeh.models.selections.Selection(\n",
       "                id='d81c3ef4-aa7b-47a9-b696-50e557a6ca01',\n",
       "                indices=[],\n",
       "                js_event_callbacks={},\n",
       "                js_property_callbacks={},\n",
       "                line_indices=[],\n",
       "                multiline_indices={},\n",
       "                name=None,\n",
       "                subscribed_events=[],\n",
       "                tags=[]),\n",
       "            selection_policy=bokeh.models.selections.UnionRenderers(\n",
       "                id='f6690a46-4d19-41e1-af0c-f149b2da494e',\n",
       "                js_event_callbacks={},\n",
       "                js_property_callbacks={},\n",
       "                name=None,\n",
       "                subscribed_events=[],\n",
       "                tags=[]),\n",
       "            subscribed_events=[],\n",
       "            tags=[]),\n",
       "        subscribed_events=[],\n",
       "        tags=[]),\n",
       "    visible=True,\n",
       "    x_range_name='default',\n",
       "    y_range_name='default')"
      ]
     },
     "execution_count": 18,
     "metadata": {},
     "output_type": "execute_result"
    }
   ],
   "source": [
    "from bokeh.plotting import figure, output_file, show, ColumnDataSource\n",
    "from bokeh.models import HoverTool, Arrow, OpenHead\n",
    "\n",
    "hover = HoverTool(tooltips=[(\"true action\",\"@desc\"), (\"prediction\", \"@pred\"),\n",
    "                            (\"not_skip_gate\", \"@not_skip\")],names=['circle'])\n",
    "p = figure( tools=[hover])\n",
    "\n",
    "for i in range(1, len(X)):\n",
    "    p.add_layout(Arrow(end=OpenHead(line_color=\"firebrick\", size=10, line_width=2),\n",
    "                       x_start=X[i-1,0], y_start=X[i-1,1],\n",
    "                       x_end=X[i,0], y_end=X[i,1], line_color='gray'))\n",
    "\n",
    "source = ColumnDataSource(data=dict(\n",
    "    x=X[:,0],\n",
    "    y=X[:,1],\n",
    "    desc=[ting[0] for ting in cool_list],\n",
    "    pred = [ting[2][0] for ting in cool_list],\n",
    "    not_skip = [ting[3][-1] for ting in cool_list]\n",
    "))\n",
    "p.circle('x','y', source=source, size=10, name='circle')\n",
    "# p.line(X[:,0], X[:,1])\n",
    "\n",
    "X1 = pca.transform([ting[4] for ting in cool_list])\n",
    "source = ColumnDataSource(data=dict(\n",
    "    x=X1[:,0],\n",
    "    y=X1[:,1],\n",
    "    desc=[ting[0] for ting in cool_list],\n",
    "    pred = [ting[2][0] for ting in cool_list],\n",
    "    not_skip = [ting[3][-1] for ting in cool_list]\n",
    "))\n",
    "p.circle('x','y', source=source, size=5, color='green', name='circle')\n",
    "\n",
    "X2 = pca.transform([ting[5] for ting in cool_list])\n",
    "source = ColumnDataSource(data=dict(\n",
    "    x=X2[:,0],\n",
    "    y=X2[:,1],\n",
    "    desc=[ting[0] for ting in cool_list],\n",
    "    pred = [ting[2][0] for ting in cool_list],\n",
    "    not_skip = [ting[3][-1] for ting in cool_list]\n",
    "))\n",
    "p.circle('x','y', source=source, size=5, color='red', name='circle')\n",
    "\n",
    "x = pca.transform(np.zeros((1,embed_dim)))\n",
    "p.circle(x[0,0], x[0,1], size=5, color='magenta')\n",
    "p.circle(X[0,0], X[0,1], size=10, color='green')\n",
    "p.circle(X[-1,0], X[-1,1], size=10, color='red')\n"
   ]
  },
  {
   "cell_type": "code",
   "execution_count": 19,
   "metadata": {
    "scrolled": false
   },
   "outputs": [
    {
     "data": {
      "text/html": [
       "\n",
       "\n",
       "\n",
       "\n",
       "\n",
       "\n",
       "  <div class=\"bk-root\" id=\"b8fe8b68-1a4c-4cf1-9fd6-dc4328b8244d\"></div>\n"
      ]
     },
     "metadata": {},
     "output_type": "display_data"
    },
    {
     "data": {
      "application/javascript": [
       "(function(root) {\n",
       "  function embed_document(root) {\n",
       "    \n",
       "  var docs_json = {\"7f4806af-4865-4f92-a488-3dab0e19e378\":{\"roots\":{\"references\":[{\"attributes\":{\"data_source\":{\"id\":\"7ffa52af-d63e-453b-9009-721d1d66db5d\",\"type\":\"ColumnDataSource\"},\"glyph\":{\"id\":\"7d64c098-797a-4db9-b15a-cc853b80c81e\",\"type\":\"Circle\"},\"hover_glyph\":null,\"muted_glyph\":null,\"name\":\"circle\",\"nonselection_glyph\":{\"id\":\"f5078ee7-3be2-4dfe-a95b-6d1b9609f10a\",\"type\":\"Circle\"},\"selection_glyph\":null,\"view\":{\"id\":\"bb1fd38c-97b1-4e71-aaf7-b0d1d31ce10e\",\"type\":\"CDSView\"}},\"id\":\"4a22d9bd-590b-4b31-b407-aafd661d86f7\",\"type\":\"GlyphRenderer\"},{\"attributes\":{\"line_color\":{\"value\":\"firebrick\"},\"line_width\":{\"value\":2},\"plot\":null,\"size\":10},\"id\":\"bf28b671-bdb8-4591-b476-9ae6fc295aee\",\"type\":\"OpenHead\"},{\"attributes\":{\"callback\":null,\"data\":{\"desc\":[\"- utter_ask_details\",\"- utter_explain_details_hotel\",\"- utter_ask_details\",\"- utter_chitchat\",\"- utter_ask_details\",\"- utter_ask_startdate\",\"- utter_ask_location\",\"- utter_correct_startdate_hotel\",\"- utter_ask_location\",\"- utter_explain_location_hotel\",\"- utter_ask_location\",\"- utter_ask_price\",\"- utter_chitchat\",\"- utter_ask_price\",\"- utter_chitchat\",\"- utter_ask_price\",\"- utter_chitchat\",\"- utter_ask_price\",\"- utter_chitchat\",\"- utter_ask_price\",\"- utter_explain_price_hotel\",\"- utter_ask_price\",\"- utter_ask_people\",\"- utter_filled_slots\",\"- utter_search_hotel\",\"- utter_suggest_hotel\",\"- utter_chitchat\",\"- utter_suggest_hotel\",\"- utter_happy\"],\"not_skip\":[1.0,1.0,0.0,1.0,0.0,1.0,1.0,1.0,0.0,1.0,0.0,1.0,1.0,0.0,1.0,0.0,1.0,0.0,1.0,0.0,1.0,0.0,1.0,1.0,1.0,1.0,1.0,1.0,1.0],\"pred\":[\"- utter_ask_details\",\"- utter_explain_people_hotel\",\"- utter_ask_details\",\"- utter_chitchat\",\"- utter_ask_details\",\"- utter_ask_startdate\",\"- utter_ask_location\",\"- utter_correct_startdate_hotel\",\"- utter_ask_location\",\"- utter_explain_location_hotel\",\"- utter_ask_location\",\"- utter_ask_price\",\"- utter_chitchat\",\"- utter_ask_price\",\"- utter_chitchat\",\"- utter_ask_price\",\"- utter_chitchat\",\"- utter_ask_price\",\"- utter_chitchat\",\"- utter_ask_price\",\"- utter_explain_price_hotel\",\"- utter_ask_price\",\"- utter_ask_people\",\"- utter_filled_slots\",\"- utter_search_hotel\",\"- utter_suggest_hotel\",\"- utter_happy\",\"- action_listen\",\"- utter_happy\"],\"x\":{\"__ndarray__\":\"7QFhmWVJqr+0WzpTI0Srv2LtZaZlbLu/oadYz9r2q79ajxKTsN+7v7c8OwSVpaq/k5TGYs+Rqr92xq2b3uypv3Df7G21OIy/Zp1N6Yo0qb9dnexgNf2Jv4C9zWB4wam/pQ+3/3RZl78X2rOxK1DRP6T7h3gss5W//pO+qrtN0T8Jo4l9FnOVvwFjULhuTdE/triwWaVplb/yH5sHak3RPw6WJ7zwMoO/Ubp1zD7ozj9X7j+OPRR/PyIqSYF9QqW/jTUIy0SLkD8v2HiJ/E90P4HsQRuPL3G/zVkpBgcWqz+/6el/HFCRPw==\",\"dtype\":\"float64\",\"shape\":[29]},\"y\":{\"__ndarray__\":\"G11vnBI3vz+2QE9vwpS/P5RGczFz8cQ/A5k0/ojXvz/yFh0ihxzFP0l2dkmEWb8/4Rk/vaKWvz+r3RskQqa/P7KTNYrHgcw/XD3oHYaZwD+UgClkfnPMP7WFg4GhYMA/tPFk5fEhuj9cJiVDbT+8v7A9IYzr27k/YcIYcOQ2vL/efacaWtG5P02cCJ7bNby/3ny8Vc3PuT8wKq1tzDW8v1CUkC5NC7g/NjdQ3lCotb+7pc87Kfy0P9JzeKUaW74/Fy2pleAruj+27Sm1K9zBP4b39a6zo8Y/Fsc8uulGyD+Bjz6RJ0rAPw==\",\"dtype\":\"float64\",\"shape\":[29]}},\"selected\":{\"id\":\"f8d3a7bd-ffd0-4183-99f6-8ff930425899\",\"type\":\"Selection\"},\"selection_policy\":{\"id\":\"2f1a800b-898f-426d-9023-f710120d5106\",\"type\":\"UnionRenderers\"}},\"id\":\"fef2af2f-3c18-4375-80ba-1552a75e8885\",\"type\":\"ColumnDataSource\"},{\"attributes\":{},\"id\":\"a1a95ee9-8af3-4a75-8e3c-c67f5d215a55\",\"type\":\"BasicTickFormatter\"},{\"attributes\":{\"end\":{\"id\":\"abca18d7-e8b7-4211-9a6d-7b60ab9eb4f8\",\"type\":\"OpenHead\"},\"line_color\":{\"value\":\"gray\"},\"plot\":{\"id\":\"54397c5a-3c4f-4cd0-8ebf-ae2157a7c88a\",\"subtype\":\"Figure\",\"type\":\"Plot\"},\"source\":null,\"start\":null,\"x_end\":{\"value\":-0.4284147251263577},\"x_start\":{\"value\":0.6431129693644326},\"y_end\":{\"value\":-0.37655414573729773},\"y_start\":{\"value\":-0.393791945941529}},\"id\":\"07f0136b-24e3-48b0-807d-1c89e6d98432\",\"type\":\"Arrow\"},{\"attributes\":{\"line_color\":{\"value\":\"firebrick\"},\"line_width\":{\"value\":2},\"plot\":null,\"size\":10},\"id\":\"891a6260-d5a7-426c-b626-74358f1076e4\",\"type\":\"OpenHead\"},{\"attributes\":{\"end\":{\"id\":\"bf28b671-bdb8-4591-b476-9ae6fc295aee\",\"type\":\"OpenHead\"},\"line_color\":{\"value\":\"gray\"},\"plot\":{\"id\":\"54397c5a-3c4f-4cd0-8ebf-ae2157a7c88a\",\"subtype\":\"Figure\",\"type\":\"Plot\"},\"source\":null,\"start\":null,\"x_end\":{\"value\":0.4415873216446317},\"x_start\":{\"value\":-0.4284147251263577},\"y_end\":{\"value\":-0.19762030965516122},\"y_start\":{\"value\":-0.37655414573729773}},\"id\":\"79543633-62eb-449b-ae4f-adec521682ac\",\"type\":\"Arrow\"},{\"attributes\":{\"indices\":[],\"line_indices\":[]},\"id\":\"d81c3ef4-aa7b-47a9-b696-50e557a6ca01\",\"type\":\"Selection\"},{\"attributes\":{\"line_color\":{\"value\":\"firebrick\"},\"line_width\":{\"value\":2},\"plot\":null,\"size\":10},\"id\":\"04c91552-e3d0-4812-a111-d8d005c91984\",\"type\":\"OpenHead\"},{\"attributes\":{\"end\":{\"id\":\"891a6260-d5a7-426c-b626-74358f1076e4\",\"type\":\"OpenHead\"},\"line_color\":{\"value\":\"gray\"},\"plot\":{\"id\":\"54397c5a-3c4f-4cd0-8ebf-ae2157a7c88a\",\"subtype\":\"Figure\",\"type\":\"Plot\"},\"source\":null,\"start\":null,\"x_end\":{\"value\":-0.42138094072381066},\"x_start\":{\"value\":0.4415873216446317},\"y_end\":{\"value\":-0.37671746427587177},\"y_start\":{\"value\":-0.19762030965516122}},\"id\":\"e72ee20c-8e2d-4560-8142-8e8968958144\",\"type\":\"Arrow\"},{\"attributes\":{},\"id\":\"f6690a46-4d19-41e1-af0c-f149b2da494e\",\"type\":\"UnionRenderers\"},{\"attributes\":{\"line_color\":{\"value\":\"firebrick\"},\"line_width\":{\"value\":2},\"plot\":null,\"size\":10},\"id\":\"44b0db10-757a-4806-9d64-228e914d25ad\",\"type\":\"OpenHead\"},{\"attributes\":{\"end\":{\"id\":\"04c91552-e3d0-4812-a111-d8d005c91984\",\"type\":\"OpenHead\"},\"line_color\":{\"value\":\"gray\"},\"plot\":{\"id\":\"54397c5a-3c4f-4cd0-8ebf-ae2157a7c88a\",\"subtype\":\"Figure\",\"type\":\"Plot\"},\"source\":null,\"start\":null,\"x_end\":{\"value\":0.45237040680854296},\"x_start\":{\"value\":-0.42138094072381066},\"y_end\":{\"value\":-0.2039587043558574},\"y_start\":{\"value\":-0.37671746427587177}},\"id\":\"597abeea-307a-4a75-a127-1acfe62cdcbb\",\"type\":\"Arrow\"},{\"attributes\":{\"line_color\":{\"value\":\"firebrick\"},\"line_width\":{\"value\":2},\"plot\":null,\"size\":10},\"id\":\"5988e1f1-9321-477b-83a3-b4cc5bc21550\",\"type\":\"OpenHead\"},{\"attributes\":{\"end\":{\"id\":\"44b0db10-757a-4806-9d64-228e914d25ad\",\"type\":\"OpenHead\"},\"line_color\":{\"value\":\"gray\"},\"plot\":{\"id\":\"54397c5a-3c4f-4cd0-8ebf-ae2157a7c88a\",\"subtype\":\"Figure\",\"type\":\"Plot\"},\"source\":null,\"start\":null,\"x_end\":{\"value\":-0.4204877719355051},\"x_start\":{\"value\":0.45237040680854296},\"y_end\":{\"value\":-0.3766689967958882},\"y_start\":{\"value\":-0.2039587043558574}},\"id\":\"4208bc3b-fee8-4d21-b284-18c2b6eb4e53\",\"type\":\"Arrow\"},{\"attributes\":{\"line_color\":{\"value\":\"firebrick\"},\"line_width\":{\"value\":2},\"plot\":null,\"size\":10},\"id\":\"e490004a-3dc9-4fe0-956b-2cc619394fd2\",\"type\":\"OpenHead\"},{\"attributes\":{\"end\":{\"id\":\"5988e1f1-9321-477b-83a3-b4cc5bc21550\",\"type\":\"OpenHead\"},\"line_color\":{\"value\":\"gray\"},\"plot\":{\"id\":\"54397c5a-3c4f-4cd0-8ebf-ae2157a7c88a\",\"subtype\":\"Figure\",\"type\":\"Plot\"},\"source\":null,\"start\":null,\"x_end\":{\"value\":0.4536867175657288},\"x_start\":{\"value\":-0.4204877719355051},\"y_end\":{\"value\":-0.2047610531843989},\"y_start\":{\"value\":-0.3766689967958882}},\"id\":\"fb020794-7de3-4ef1-b841-50757fbfa114\",\"type\":\"Arrow\"},{\"attributes\":{\"line_color\":{\"value\":\"firebrick\"},\"line_width\":{\"value\":2},\"plot\":null,\"size\":10},\"id\":\"0a963d60-3fd0-4e0d-a67d-672f74b5c443\",\"type\":\"OpenHead\"},{\"attributes\":{\"end\":{\"id\":\"e490004a-3dc9-4fe0-956b-2cc619394fd2\",\"type\":\"OpenHead\"},\"line_color\":{\"value\":\"gray\"},\"plot\":{\"id\":\"54397c5a-3c4f-4cd0-8ebf-ae2157a7c88a\",\"subtype\":\"Figure\",\"type\":\"Plot\"},\"source\":null,\"start\":null,\"x_end\":{\"value\":-0.42038924061652183},\"x_start\":{\"value\":0.4536867175657288},\"y_end\":{\"value\":-0.37665666569017897},\"y_start\":{\"value\":-0.2047610531843989}},\"id\":\"b2a885cd-dd14-4a3f-acfb-f0b4e9174c9c\",\"type\":\"Arrow\"},{\"attributes\":{\"line_color\":{\"value\":\"firebrick\"},\"line_width\":{\"value\":2},\"plot\":null,\"size\":10},\"id\":\"eba033de-5cef-4e9c-bccc-d067837d4d48\",\"type\":\"OpenHead\"},{\"attributes\":{\"line_color\":{\"value\":\"firebrick\"},\"line_width\":{\"value\":2},\"plot\":null,\"size\":10},\"id\":\"2b2a8aa8-25ab-4c2d-9c24-4d3e0e205974\",\"type\":\"OpenHead\"},{\"attributes\":{\"end\":{\"id\":\"eba033de-5cef-4e9c-bccc-d067837d4d48\",\"type\":\"OpenHead\"},\"line_color\":{\"value\":\"gray\"},\"plot\":{\"id\":\"54397c5a-3c4f-4cd0-8ebf-ae2157a7c88a\",\"subtype\":\"Figure\",\"type\":\"Plot\"},\"source\":null,\"start\":null,\"x_end\":{\"value\":0.07050702667101902},\"x_start\":{\"value\":0.4538481893558596},\"y_end\":{\"value\":-0.06517637571909767},\"y_start\":{\"value\":-0.20486394628882174}},\"id\":\"d14c0ac3-c103-45bc-b19b-1211fd5e13e4\",\"type\":\"Arrow\"},{\"attributes\":{\"line_color\":{\"value\":\"firebrick\"},\"line_width\":{\"value\":2},\"plot\":null,\"size\":10},\"id\":\"62d74160-aaab-41ff-a121-5de2f089dc79\",\"type\":\"OpenHead\"},{\"attributes\":{\"end\":{\"id\":\"2b2a8aa8-25ab-4c2d-9c24-4d3e0e205974\",\"type\":\"OpenHead\"},\"line_color\":{\"value\":\"gray\"},\"plot\":{\"id\":\"54397c5a-3c4f-4cd0-8ebf-ae2157a7c88a\",\"subtype\":\"Figure\",\"type\":\"Plot\"},\"source\":null,\"start\":null,\"x_end\":{\"value\":0.4372140478314866},\"x_start\":{\"value\":0.07050702667101902},\"y_end\":{\"value\":-0.19416791299317107},\"y_start\":{\"value\":-0.06517637571909767}},\"id\":\"bb97adc8-22ec-40f0-bc18-f237aaf094ad\",\"type\":\"Arrow\"},{\"attributes\":{\"line_color\":{\"value\":\"firebrick\"},\"line_width\":{\"value\":2},\"plot\":null,\"size\":10},\"id\":\"b3398ed5-d2a4-461e-86ca-576ef58ead24\",\"type\":\"OpenHead\"},{\"attributes\":{\"end\":{\"id\":\"62d74160-aaab-41ff-a121-5de2f089dc79\",\"type\":\"OpenHead\"},\"line_color\":{\"value\":\"gray\"},\"plot\":{\"id\":\"54397c5a-3c4f-4cd0-8ebf-ae2157a7c88a\",\"subtype\":\"Figure\",\"type\":\"Plot\"},\"source\":null,\"start\":null,\"x_end\":{\"value\":0.02106755865390235},\"x_start\":{\"value\":0.4372140478314866},\"y_end\":{\"value\":0.1527442344294926},\"y_start\":{\"value\":-0.19416791299317107}},\"id\":\"19d1da93-4a8d-4505-8b2e-0f67a9ffe3e2\",\"type\":\"Arrow\"},{\"attributes\":{\"line_color\":{\"value\":\"firebrick\"},\"line_width\":{\"value\":2},\"plot\":null,\"size\":10},\"id\":\"131999ad-27e6-4bfe-a00b-beb3fed21869\",\"type\":\"OpenHead\"},{\"attributes\":{\"end\":{\"id\":\"b3398ed5-d2a4-461e-86ca-576ef58ead24\",\"type\":\"OpenHead\"},\"line_color\":{\"value\":\"gray\"},\"plot\":{\"id\":\"54397c5a-3c4f-4cd0-8ebf-ae2157a7c88a\",\"subtype\":\"Figure\",\"type\":\"Plot\"},\"source\":null,\"start\":null,\"x_end\":{\"value\":-0.13556912706588733},\"x_start\":{\"value\":0.02106755865390235},\"y_end\":{\"value\":0.3467037862959522},\"y_start\":{\"value\":0.1527442344294926}},\"id\":\"2fd2d4b4-2542-4f08-8fd3-38c6aa3e647f\",\"type\":\"Arrow\"},{\"attributes\":{\"line_color\":{\"value\":\"firebrick\"},\"line_width\":{\"value\":2},\"plot\":null,\"size\":10},\"id\":\"92954574-ecb5-4ace-bfd5-39ede3e514e6\",\"type\":\"OpenHead\"},{\"attributes\":{\"end\":{\"id\":\"131999ad-27e6-4bfe-a00b-beb3fed21869\",\"type\":\"OpenHead\"},\"line_color\":{\"value\":\"gray\"},\"plot\":{\"id\":\"54397c5a-3c4f-4cd0-8ebf-ae2157a7c88a\",\"subtype\":\"Figure\",\"type\":\"Plot\"},\"source\":null,\"start\":null,\"x_end\":{\"value\":-0.0641207136059285},\"x_start\":{\"value\":-0.13556912706588733},\"y_end\":{\"value\":0.06870238846843163},\"y_start\":{\"value\":0.3467037862959522}},\"id\":\"02482554-f16f-4ab9-8200-ef6051b55f08\",\"type\":\"Arrow\"},{\"attributes\":{\"line_color\":{\"value\":\"firebrick\"},\"line_width\":{\"value\":2},\"plot\":null,\"size\":10},\"id\":\"5c2925a9-7c25-4cbc-99ce-e9388f3a926f\",\"type\":\"OpenHead\"},{\"attributes\":{\"plot\":null,\"text\":\"\"},\"id\":\"eca0cbea-fef1-405d-aef6-3882852960f3\",\"type\":\"Title\"},{\"attributes\":{\"end\":{\"id\":\"92954574-ecb5-4ace-bfd5-39ede3e514e6\",\"type\":\"OpenHead\"},\"line_color\":{\"value\":\"gray\"},\"plot\":{\"id\":\"54397c5a-3c4f-4cd0-8ebf-ae2157a7c88a\",\"subtype\":\"Figure\",\"type\":\"Plot\"},\"source\":null,\"start\":null,\"x_end\":{\"value\":0.3791331913417415},\"x_start\":{\"value\":-0.0641207136059285},\"y_end\":{\"value\":0.5158568061731339},\"y_start\":{\"value\":0.06870238846843163}},\"id\":\"cc145522-9985-4519-9818-db568b3906bc\",\"type\":\"Arrow\"},{\"attributes\":{\"line_color\":{\"value\":\"firebrick\"},\"line_width\":{\"value\":2},\"plot\":null,\"size\":10},\"id\":\"26ae306a-62f8-4b83-88d0-ba8e44b73a89\",\"type\":\"OpenHead\"},{\"attributes\":{\"end\":{\"id\":\"5c2925a9-7c25-4cbc-99ce-e9388f3a926f\",\"type\":\"OpenHead\"},\"line_color\":{\"value\":\"gray\"},\"plot\":{\"id\":\"54397c5a-3c4f-4cd0-8ebf-ae2157a7c88a\",\"subtype\":\"Figure\",\"type\":\"Plot\"},\"source\":null,\"start\":null,\"x_end\":{\"value\":-0.22644813362132687},\"x_start\":{\"value\":0.3791331913417415},\"y_end\":{\"value\":-0.0647700508613384},\"y_start\":{\"value\":0.5158568061731339}},\"id\":\"4148d5c8-9500-47c2-b72b-ec78528e05fc\",\"type\":\"Arrow\"},{\"attributes\":{\"line_color\":{\"value\":\"firebrick\"},\"line_width\":{\"value\":2},\"plot\":null,\"size\":10},\"id\":\"2e4da788-c265-4e38-b35c-ebd4f3052e26\",\"type\":\"OpenHead\"},{\"attributes\":{},\"id\":\"8a1dd4c5-3f42-4a3f-a905-254250434a0c\",\"type\":\"BasicTickFormatter\"},{\"attributes\":{\"end\":{\"id\":\"26ae306a-62f8-4b83-88d0-ba8e44b73a89\",\"type\":\"OpenHead\"},\"line_color\":{\"value\":\"gray\"},\"plot\":{\"id\":\"54397c5a-3c4f-4cd0-8ebf-ae2157a7c88a\",\"subtype\":\"Figure\",\"type\":\"Plot\"},\"source\":null,\"start\":null,\"x_end\":{\"value\":0.04674869198963624},\"x_start\":{\"value\":-0.22644813362132687},\"y_end\":{\"value\":0.25308247594227673},\"y_start\":{\"value\":-0.0647700508613384}},\"id\":\"c6ebdef0-b607-4e99-a6c2-d629c5f37a9c\",\"type\":\"Arrow\"},{\"attributes\":{\"source\":{\"id\":\"fef2af2f-3c18-4375-80ba-1552a75e8885\",\"type\":\"ColumnDataSource\"}},\"id\":\"b920394d-bfdf-4c1d-ba50-899b1682b424\",\"type\":\"CDSView\"},{\"attributes\":{\"below\":[{\"id\":\"beebfdc0-16c9-4d52-9d21-28538fbe4f7a\",\"type\":\"LinearAxis\"}],\"left\":[{\"id\":\"5af1cf44-f7b0-468f-8023-b1bc2306e4db\",\"type\":\"LinearAxis\"}],\"renderers\":[{\"id\":\"beebfdc0-16c9-4d52-9d21-28538fbe4f7a\",\"type\":\"LinearAxis\"},{\"id\":\"2c7b54c3-0204-40ce-b2a1-36bf4469e501\",\"type\":\"Grid\"},{\"id\":\"5af1cf44-f7b0-468f-8023-b1bc2306e4db\",\"type\":\"LinearAxis\"},{\"id\":\"ab14150f-c77e-406e-993e-db998ad80786\",\"type\":\"Grid\"},{\"id\":\"0d0edbfa-2f1b-4caa-a772-8eae02df7f92\",\"type\":\"Arrow\"},{\"id\":\"cce05107-e84c-485c-9f66-dd7a465eb2d8\",\"type\":\"Arrow\"},{\"id\":\"39924481-7675-40b5-b4e9-fa7320a844eb\",\"type\":\"Arrow\"},{\"id\":\"864adcf5-22d7-4d76-a2de-96989f283ff0\",\"type\":\"Arrow\"},{\"id\":\"5a97c743-b6bf-4d0a-b5bc-3935e1489764\",\"type\":\"Arrow\"},{\"id\":\"b3ae9aff-72be-461c-8714-60127523bf5a\",\"type\":\"Arrow\"},{\"id\":\"3aca37a6-930c-4a63-b150-8ace26f4780f\",\"type\":\"Arrow\"},{\"id\":\"6570b9d8-209b-4183-93bb-4aa32d5b86db\",\"type\":\"Arrow\"},{\"id\":\"930094ff-4eca-4e3a-b87b-2ceb0fa86551\",\"type\":\"Arrow\"},{\"id\":\"280f171c-8ede-438b-899f-429f1d38d9e5\",\"type\":\"Arrow\"},{\"id\":\"f381c98d-a2db-426d-bd3e-4f7e3830f342\",\"type\":\"Arrow\"},{\"id\":\"07f0136b-24e3-48b0-807d-1c89e6d98432\",\"type\":\"Arrow\"},{\"id\":\"79543633-62eb-449b-ae4f-adec521682ac\",\"type\":\"Arrow\"},{\"id\":\"e72ee20c-8e2d-4560-8142-8e8968958144\",\"type\":\"Arrow\"},{\"id\":\"597abeea-307a-4a75-a127-1acfe62cdcbb\",\"type\":\"Arrow\"},{\"id\":\"4208bc3b-fee8-4d21-b284-18c2b6eb4e53\",\"type\":\"Arrow\"},{\"id\":\"fb020794-7de3-4ef1-b841-50757fbfa114\",\"type\":\"Arrow\"},{\"id\":\"b2a885cd-dd14-4a3f-acfb-f0b4e9174c9c\",\"type\":\"Arrow\"},{\"id\":\"85873fef-b4c0-45df-ae59-78df96c9735d\",\"type\":\"Arrow\"},{\"id\":\"d14c0ac3-c103-45bc-b19b-1211fd5e13e4\",\"type\":\"Arrow\"},{\"id\":\"bb97adc8-22ec-40f0-bc18-f237aaf094ad\",\"type\":\"Arrow\"},{\"id\":\"19d1da93-4a8d-4505-8b2e-0f67a9ffe3e2\",\"type\":\"Arrow\"},{\"id\":\"2fd2d4b4-2542-4f08-8fd3-38c6aa3e647f\",\"type\":\"Arrow\"},{\"id\":\"02482554-f16f-4ab9-8200-ef6051b55f08\",\"type\":\"Arrow\"},{\"id\":\"cc145522-9985-4519-9818-db568b3906bc\",\"type\":\"Arrow\"},{\"id\":\"4148d5c8-9500-47c2-b72b-ec78528e05fc\",\"type\":\"Arrow\"},{\"id\":\"c6ebdef0-b607-4e99-a6c2-d629c5f37a9c\",\"type\":\"Arrow\"},{\"id\":\"6abb088b-f56c-4b41-be11-1dad7f6586f9\",\"type\":\"Arrow\"},{\"id\":\"4a22d9bd-590b-4b31-b407-aafd661d86f7\",\"type\":\"GlyphRenderer\"},{\"id\":\"9b9c8399-6fbe-4169-9c2b-f053eaf2fbdb\",\"type\":\"GlyphRenderer\"},{\"id\":\"58da8b9b-bc6a-4808-89e3-59776e154336\",\"type\":\"GlyphRenderer\"},{\"id\":\"d2a64384-8fed-4157-94fc-3c5f0ee910a8\",\"type\":\"GlyphRenderer\"},{\"id\":\"29ac8253-2623-40d3-9c99-4a20091e571e\",\"type\":\"GlyphRenderer\"},{\"id\":\"4ae725e7-b8de-4b32-adac-b3570c9de3b5\",\"type\":\"GlyphRenderer\"}],\"title\":{\"id\":\"eca0cbea-fef1-405d-aef6-3882852960f3\",\"type\":\"Title\"},\"toolbar\":{\"id\":\"e8fe246d-b0e0-41b9-9de7-790af63df232\",\"type\":\"Toolbar\"},\"x_range\":{\"id\":\"1c1153df-5d1c-449f-ae02-d7f00639567e\",\"type\":\"DataRange1d\"},\"x_scale\":{\"id\":\"c6a46416-d968-43c1-b2b5-6a2461aff000\",\"type\":\"LinearScale\"},\"y_range\":{\"id\":\"43373924-7830-4ff6-a241-37099ad2e8ec\",\"type\":\"DataRange1d\"},\"y_scale\":{\"id\":\"bd5fad62-55d6-493f-86cd-fb17b20d13ce\",\"type\":\"LinearScale\"}},\"id\":\"54397c5a-3c4f-4cd0-8ebf-ae2157a7c88a\",\"subtype\":\"Figure\",\"type\":\"Plot\"},{\"attributes\":{\"end\":{\"id\":\"2e4da788-c265-4e38-b35c-ebd4f3052e26\",\"type\":\"OpenHead\"},\"line_color\":{\"value\":\"gray\"},\"plot\":{\"id\":\"54397c5a-3c4f-4cd0-8ebf-ae2157a7c88a\",\"subtype\":\"Figure\",\"type\":\"Plot\"},\"source\":null,\"start\":null,\"x_end\":{\"value\":0.03182150336145036},\"x_start\":{\"value\":0.04674869198963624},\"y_end\":{\"value\":0.0027050023283965107},\"y_start\":{\"value\":0.25308247594227673}},\"id\":\"6abb088b-f56c-4b41-be11-1dad7f6586f9\",\"type\":\"Arrow\"},{\"attributes\":{\"callback\":null,\"names\":[\"circle\"],\"renderers\":\"auto\",\"tooltips\":[[\"true action\",\"@desc\"],[\"prediction\",\"@pred\"],[\"not_skip_gate\",\"@not_skip\"]]},\"id\":\"d2e33c56-45be-4b91-aa86-8360c360f3cc\",\"type\":\"HoverTool\"},{\"attributes\":{\"line_color\":{\"value\":\"firebrick\"},\"line_width\":{\"value\":2},\"plot\":null,\"size\":10},\"id\":\"41a0ae69-8b6e-4e5e-9c65-34db7d17471a\",\"type\":\"OpenHead\"},{\"attributes\":{\"source\":{\"id\":\"7ffa52af-d63e-453b-9009-721d1d66db5d\",\"type\":\"ColumnDataSource\"}},\"id\":\"bb1fd38c-97b1-4e71-aaf7-b0d1d31ce10e\",\"type\":\"CDSView\"},{\"attributes\":{\"fill_color\":{\"value\":\"#1f77b4\"},\"line_color\":{\"value\":\"#1f77b4\"},\"size\":{\"units\":\"screen\",\"value\":10},\"x\":{\"field\":\"x\"},\"y\":{\"field\":\"y\"}},\"id\":\"7d64c098-797a-4db9-b15a-cc853b80c81e\",\"type\":\"Circle\"},{\"attributes\":{\"fill_color\":{\"value\":\"red\"},\"line_color\":{\"value\":\"red\"},\"size\":{\"units\":\"screen\",\"value\":5},\"x\":{\"field\":\"x\"},\"y\":{\"field\":\"y\"}},\"id\":\"65dfce00-dd4d-49b5-917d-8c3118fe1002\",\"type\":\"Circle\"},{\"attributes\":{\"callback\":null,\"data\":{\"desc\":[\"- utter_ask_details\",\"- utter_explain_details_hotel\",\"- utter_ask_details\",\"- utter_chitchat\",\"- utter_ask_details\",\"- utter_ask_startdate\",\"- utter_ask_location\",\"- utter_correct_startdate_hotel\",\"- utter_ask_location\",\"- utter_explain_location_hotel\",\"- utter_ask_location\",\"- utter_ask_price\",\"- utter_chitchat\",\"- utter_ask_price\",\"- utter_chitchat\",\"- utter_ask_price\",\"- utter_chitchat\",\"- utter_ask_price\",\"- utter_chitchat\",\"- utter_ask_price\",\"- utter_explain_price_hotel\",\"- utter_ask_price\",\"- utter_ask_people\",\"- utter_filled_slots\",\"- utter_search_hotel\",\"- utter_suggest_hotel\",\"- utter_chitchat\",\"- utter_suggest_hotel\",\"- utter_happy\"],\"not_skip\":[1.0,1.0,0.0,1.0,0.0,1.0,1.0,1.0,0.0,1.0,0.0,1.0,1.0,0.0,1.0,0.0,1.0,0.0,1.0,0.0,1.0,0.0,1.0,1.0,1.0,1.0,1.0,1.0,1.0],\"pred\":[\"- utter_ask_details\",\"- utter_explain_people_hotel\",\"- utter_ask_details\",\"- utter_chitchat\",\"- utter_ask_details\",\"- utter_ask_startdate\",\"- utter_ask_location\",\"- utter_correct_startdate_hotel\",\"- utter_ask_location\",\"- utter_explain_location_hotel\",\"- utter_ask_location\",\"- utter_ask_price\",\"- utter_chitchat\",\"- utter_ask_price\",\"- utter_chitchat\",\"- utter_ask_price\",\"- utter_chitchat\",\"- utter_ask_price\",\"- utter_chitchat\",\"- utter_ask_price\",\"- utter_explain_price_hotel\",\"- utter_ask_price\",\"- utter_ask_people\",\"- utter_filled_slots\",\"- utter_search_hotel\",\"- utter_suggest_hotel\",\"- utter_happy\",\"- action_listen\",\"- utter_happy\"],\"x\":{\"__ndarray__\":\"VE+SKSPMvL/iu8s/J73IvxmZW019+sS/62zrAZc42r+uhyOe5bTGv+lTqnl4F8G/BQoRLy2agz/wwtkoLsnKv4kI8+2yWq4/60PEn3xaoL/h3hosx8CoP9C3YaZhlOQ/6LhimCVr27/rrjJ490LcPztB5MPn99q/J/C6AaPz3D97LTWLRenav9/CpAM0Cd0/dnICRqjn2r9+dqhG2QvdP66ysJ2/DLI/1W4yoVD72z8sRrPtu5KVP00xjENUWsG/XgPvDzdqsL9YBGnct0PYP0BpEqBA/My//NhzznHvpz+adH546EqgPw==\",\"dtype\":\"float64\",\"shape\":[29]},\"y\":{\"__ndarray__\":\"UaKs17uAxT/28At0Nmm4P36/TFlb2sI/tAIP1hD+uL8PIJuxL8nEPxpAI+buI80/D6J4CrsMzj/WpV8jUdnNPyp7O2qI2c0/w7zNxuAmpT/uExN6SwbQP/LPTyLjM9m/tlpHj3YZ2L+RRX9Pn0vJvxlnOZEjHNi/RLJ4nlEbyr8z86lHWBvYvwr0dTWcNcq/Hmw9jyQb2L+XUbhW+zjKv/txLyJmr7C/wX4egn7ayL80fMOBH43DP1qX4hNlMNY/PAahz3qWsT8I2P0h5oHgPzuvNSLFlLC/4DdX14Ay0D+zdScRzShmPw==\",\"dtype\":\"float64\",\"shape\":[29]}},\"selected\":{\"id\":\"69c91838-0668-4906-9c37-10a4dc3d2845\",\"type\":\"Selection\"},\"selection_policy\":{\"id\":\"c0f894a9-a1f7-4d92-8216-b9fe478faa63\",\"type\":\"UnionRenderers\"}},\"id\":\"7ffa52af-d63e-453b-9009-721d1d66db5d\",\"type\":\"ColumnDataSource\"},{\"attributes\":{\"fill_alpha\":{\"value\":0.1},\"fill_color\":{\"value\":\"#1f77b4\"},\"line_alpha\":{\"value\":0.1},\"line_color\":{\"value\":\"#1f77b4\"},\"size\":{\"units\":\"screen\",\"value\":10},\"x\":{\"field\":\"x\"},\"y\":{\"field\":\"y\"}},\"id\":\"f5078ee7-3be2-4dfe-a95b-6d1b9609f10a\",\"type\":\"Circle\"},{\"attributes\":{\"active_drag\":\"auto\",\"active_inspect\":\"auto\",\"active_multi\":null,\"active_scroll\":\"auto\",\"active_tap\":\"auto\",\"tools\":[{\"id\":\"d2e33c56-45be-4b91-aa86-8360c360f3cc\",\"type\":\"HoverTool\"}]},\"id\":\"e8fe246d-b0e0-41b9-9de7-790af63df232\",\"type\":\"Toolbar\"},{\"attributes\":{\"data_source\":{\"id\":\"fef2af2f-3c18-4375-80ba-1552a75e8885\",\"type\":\"ColumnDataSource\"},\"glyph\":{\"id\":\"1d5e21aa-6915-4d8d-ab52-347272403ee7\",\"type\":\"Circle\"},\"hover_glyph\":null,\"muted_glyph\":null,\"name\":\"circle\",\"nonselection_glyph\":{\"id\":\"5d99972e-e1b9-4b66-8024-c102a4de51fa\",\"type\":\"Circle\"},\"selection_glyph\":null,\"view\":{\"id\":\"b920394d-bfdf-4c1d-ba50-899b1682b424\",\"type\":\"CDSView\"}},\"id\":\"9b9c8399-6fbe-4169-9c2b-f053eaf2fbdb\",\"type\":\"GlyphRenderer\"},{\"attributes\":{\"callback\":null},\"id\":\"1c1153df-5d1c-449f-ae02-d7f00639567e\",\"type\":\"DataRange1d\"},{\"attributes\":{},\"id\":\"69c91838-0668-4906-9c37-10a4dc3d2845\",\"type\":\"Selection\"},{\"attributes\":{\"fill_alpha\":{\"value\":0.1},\"fill_color\":{\"value\":\"#1f77b4\"},\"line_alpha\":{\"value\":0.1},\"line_color\":{\"value\":\"#1f77b4\"},\"size\":{\"units\":\"screen\",\"value\":5},\"x\":{\"field\":\"x\"},\"y\":{\"field\":\"y\"}},\"id\":\"5d99972e-e1b9-4b66-8024-c102a4de51fa\",\"type\":\"Circle\"},{\"attributes\":{\"line_color\":{\"value\":\"firebrick\"},\"line_width\":{\"value\":2},\"plot\":null,\"size\":10},\"id\":\"afce8535-7d8c-4d36-b750-0eeec9fb163e\",\"type\":\"OpenHead\"},{\"attributes\":{\"callback\":null},\"id\":\"43373924-7830-4ff6-a241-37099ad2e8ec\",\"type\":\"DataRange1d\"},{\"attributes\":{\"fill_color\":{\"value\":\"green\"},\"line_color\":{\"value\":\"green\"},\"size\":{\"units\":\"screen\",\"value\":5},\"x\":{\"field\":\"x\"},\"y\":{\"field\":\"y\"}},\"id\":\"1d5e21aa-6915-4d8d-ab52-347272403ee7\",\"type\":\"Circle\"},{\"attributes\":{},\"id\":\"c6a46416-d968-43c1-b2b5-6a2461aff000\",\"type\":\"LinearScale\"},{\"attributes\":{\"source\":{\"id\":\"750fa0b8-32d4-4cf2-9db6-f113419cd94f\",\"type\":\"ColumnDataSource\"}},\"id\":\"97b8f9e8-f17a-4b6c-a967-f294958339f5\",\"type\":\"CDSView\"},{\"attributes\":{},\"id\":\"bd5fad62-55d6-493f-86cd-fb17b20d13ce\",\"type\":\"LinearScale\"},{\"attributes\":{},\"id\":\"c0f894a9-a1f7-4d92-8216-b9fe478faa63\",\"type\":\"UnionRenderers\"},{\"attributes\":{\"data_source\":{\"id\":\"750fa0b8-32d4-4cf2-9db6-f113419cd94f\",\"type\":\"ColumnDataSource\"},\"glyph\":{\"id\":\"65dfce00-dd4d-49b5-917d-8c3118fe1002\",\"type\":\"Circle\"},\"hover_glyph\":null,\"muted_glyph\":null,\"name\":\"circle\",\"nonselection_glyph\":{\"id\":\"6fdbe663-04a2-4c48-b43d-b403babf96f2\",\"type\":\"Circle\"},\"selection_glyph\":null,\"view\":{\"id\":\"97b8f9e8-f17a-4b6c-a967-f294958339f5\",\"type\":\"CDSView\"}},\"id\":\"58da8b9b-bc6a-4808-89e3-59776e154336\",\"type\":\"GlyphRenderer\"},{\"attributes\":{\"end\":{\"id\":\"41a0ae69-8b6e-4e5e-9c65-34db7d17471a\",\"type\":\"OpenHead\"},\"line_color\":{\"value\":\"gray\"},\"plot\":{\"id\":\"54397c5a-3c4f-4cd0-8ebf-ae2157a7c88a\",\"subtype\":\"Figure\",\"type\":\"Plot\"},\"source\":null,\"start\":null,\"x_end\":{\"value\":-0.19327250113516842},\"x_start\":{\"value\":-0.11248988881044159},\"y_end\":{\"value\":0.09535541852159554},\"y_start\":{\"value\":0.16799114256834227}},\"id\":\"0d0edbfa-2f1b-4caa-a772-8eae02df7f92\",\"type\":\"Arrow\"},{\"attributes\":{\"callback\":null,\"data\":{\"desc\":[\"- utter_ask_details\",\"- utter_explain_details_hotel\",\"- utter_ask_details\",\"- utter_chitchat\",\"- utter_ask_details\",\"- utter_ask_startdate\",\"- utter_ask_location\",\"- utter_correct_startdate_hotel\",\"- utter_ask_location\",\"- utter_explain_location_hotel\",\"- utter_ask_location\",\"- utter_ask_price\",\"- utter_chitchat\",\"- utter_ask_price\",\"- utter_chitchat\",\"- utter_ask_price\",\"- utter_chitchat\",\"- utter_ask_price\",\"- utter_chitchat\",\"- utter_ask_price\",\"- utter_explain_price_hotel\",\"- utter_ask_price\",\"- utter_ask_people\",\"- utter_filled_slots\",\"- utter_search_hotel\",\"- utter_suggest_hotel\",\"- utter_chitchat\",\"- utter_suggest_hotel\",\"- utter_happy\"],\"not_skip\":[1.0,1.0,0.0,1.0,0.0,1.0,1.0,1.0,0.0,1.0,0.0,1.0,1.0,0.0,1.0,0.0,1.0,0.0,1.0,0.0,1.0,0.0,1.0,1.0,1.0,1.0,1.0,1.0,1.0],\"pred\":[\"- utter_ask_details\",\"- utter_explain_people_hotel\",\"- utter_ask_details\",\"- utter_chitchat\",\"- utter_ask_details\",\"- utter_ask_startdate\",\"- utter_ask_location\",\"- utter_correct_startdate_hotel\",\"- utter_ask_location\",\"- utter_explain_location_hotel\",\"- utter_ask_location\",\"- utter_ask_price\",\"- utter_chitchat\",\"- utter_ask_price\",\"- utter_chitchat\",\"- utter_ask_price\",\"- utter_chitchat\",\"- utter_ask_price\",\"- utter_chitchat\",\"- utter_ask_price\",\"- utter_explain_price_hotel\",\"- utter_ask_price\",\"- utter_ask_people\",\"- utter_filled_slots\",\"- utter_search_hotel\",\"- utter_suggest_hotel\",\"- utter_happy\",\"- action_listen\",\"- utter_happy\"],\"x\":{\"__ndarray__\":\"Vk+SKSPMvL/0V2DSd37IvwlEWdJHrbu/NQL0XegC2r+I7UV1za6+v/M8m59sAMG/eWm35NO7hD9T/rjkT+DKv3tpfnD1PpY/7bjyZldvob+Uetzeu9qDP1c8u9Xii+Q/gyNr+7o+3b/9x+pefKa+P/zRoKzh5dy/yzfoS3W5wD+jD5DVQNvcv/dQqjQx5cA/4MLOojra3L9tcXMSherAP1o4E5irOZ0/Y8Y8DAl8wj+nfQtXj2Kjv1NZ90wOnMK/ScuYf93YwL/XcgI0S6nUP1o7T8SOgtG/DBnh1Ppvrb+4tVPyiqaivw==\",\"dtype\":\"float64\",\"shape\":[29]},\"y\":{\"__ndarray__\":\"SaKs17uAxT+hRLaihgu4P1/c6u3iCLs/ZHu8Q4eeub/ckZLBY5C+P3vq/hO2Es0/B3nK7vLczT+lUKNjuaHNP4CK1jJK88A/hO2/a+0uoT9S0K/roTTDPzkk0Thvltm/Pcq2Yi7U1r+UymRrgr6hP4ZGfsFZxda/vngbTE/dnD8XHnkp6sHWv+qx+TzXBpw/t0/IOlPB1r8LMLSJoeubP/GDZXpBB6O/sT+y4jNTiT9YB2cylKrIP0r9PxNjZ9Y/BQtWkKyhtj+tagYVe+PfPy0ZxegZpb6/icz9RaG5xz/wD3bwxn5lvw==\",\"dtype\":\"float64\",\"shape\":[29]}},\"selected\":{\"id\":\"1e6e3c89-1121-4ed3-b64a-ad6de699be1c\",\"type\":\"Selection\"},\"selection_policy\":{\"id\":\"ab254606-7a12-46e4-88c9-de79d850202a\",\"type\":\"UnionRenderers\"}},\"id\":\"750fa0b8-32d4-4cf2-9db6-f113419cd94f\",\"type\":\"ColumnDataSource\"},{\"attributes\":{\"formatter\":{\"id\":\"a1a95ee9-8af3-4a75-8e3c-c67f5d215a55\",\"type\":\"BasicTickFormatter\"},\"plot\":{\"id\":\"54397c5a-3c4f-4cd0-8ebf-ae2157a7c88a\",\"subtype\":\"Figure\",\"type\":\"Plot\"},\"ticker\":{\"id\":\"de8562fe-aea0-4a5b-90ed-09c30aa546ae\",\"type\":\"BasicTicker\"}},\"id\":\"beebfdc0-16c9-4d52-9d21-28538fbe4f7a\",\"type\":\"LinearAxis\"},{\"attributes\":{},\"id\":\"f8d3a7bd-ffd0-4183-99f6-8ff930425899\",\"type\":\"Selection\"},{\"attributes\":{\"fill_alpha\":{\"value\":0.1},\"fill_color\":{\"value\":\"#1f77b4\"},\"line_alpha\":{\"value\":0.1},\"line_color\":{\"value\":\"#1f77b4\"},\"size\":{\"units\":\"screen\",\"value\":5},\"x\":{\"field\":\"x\"},\"y\":{\"field\":\"y\"}},\"id\":\"6fdbe663-04a2-4c48-b43d-b403babf96f2\",\"type\":\"Circle\"},{\"attributes\":{},\"id\":\"de8562fe-aea0-4a5b-90ed-09c30aa546ae\",\"type\":\"BasicTicker\"},{\"attributes\":{},\"id\":\"2f1a800b-898f-426d-9023-f710120d5106\",\"type\":\"UnionRenderers\"},{\"attributes\":{\"plot\":{\"id\":\"54397c5a-3c4f-4cd0-8ebf-ae2157a7c88a\",\"subtype\":\"Figure\",\"type\":\"Plot\"},\"ticker\":{\"id\":\"de8562fe-aea0-4a5b-90ed-09c30aa546ae\",\"type\":\"BasicTicker\"}},\"id\":\"2c7b54c3-0204-40ce-b2a1-36bf4469e501\",\"type\":\"Grid\"},{\"attributes\":{\"callback\":null,\"data\":{},\"selected\":{\"id\":\"7450562e-7a9d-4324-99b8-bb0575fbc924\",\"type\":\"Selection\"},\"selection_policy\":{\"id\":\"fc068924-0810-4315-94e3-814b19cbcdc0\",\"type\":\"UnionRenderers\"}},\"id\":\"b9a0c371-3b2d-4e19-98dc-b35e7466aab5\",\"type\":\"ColumnDataSource\"},{\"attributes\":{\"formatter\":{\"id\":\"8a1dd4c5-3f42-4a3f-a905-254250434a0c\",\"type\":\"BasicTickFormatter\"},\"plot\":{\"id\":\"54397c5a-3c4f-4cd0-8ebf-ae2157a7c88a\",\"subtype\":\"Figure\",\"type\":\"Plot\"},\"ticker\":{\"id\":\"3e2a15b2-767a-45fa-8ed8-cf961ff6c2e8\",\"type\":\"BasicTicker\"}},\"id\":\"5af1cf44-f7b0-468f-8023-b1bc2306e4db\",\"type\":\"LinearAxis\"},{\"attributes\":{},\"id\":\"1e6e3c89-1121-4ed3-b64a-ad6de699be1c\",\"type\":\"Selection\"},{\"attributes\":{\"callback\":null,\"data\":{},\"selected\":{\"id\":\"70b11c9c-ea69-4a68-af28-5e3ad30f7b4e\",\"type\":\"Selection\"},\"selection_policy\":{\"id\":\"06c94f2b-9bcc-402f-8ff6-53dc1ab5a1d6\",\"type\":\"UnionRenderers\"}},\"id\":\"2cbcfb1f-7852-4ee1-92a0-e5f7503b3e68\",\"type\":\"ColumnDataSource\"},{\"attributes\":{},\"id\":\"3e2a15b2-767a-45fa-8ed8-cf961ff6c2e8\",\"type\":\"BasicTicker\"},{\"attributes\":{},\"id\":\"ab254606-7a12-46e4-88c9-de79d850202a\",\"type\":\"UnionRenderers\"},{\"attributes\":{\"fill_color\":{\"value\":\"magenta\"},\"line_color\":{\"value\":\"magenta\"},\"size\":{\"units\":\"screen\",\"value\":5},\"x\":{\"value\":-0.05134122369100056},\"y\":{\"value\":0.12193409270490854}},\"id\":\"f9818092-0f81-45c4-aa2f-345462bc21a5\",\"type\":\"Circle\"},{\"attributes\":{\"dimension\":1,\"plot\":{\"id\":\"54397c5a-3c4f-4cd0-8ebf-ae2157a7c88a\",\"subtype\":\"Figure\",\"type\":\"Plot\"},\"ticker\":{\"id\":\"3e2a15b2-767a-45fa-8ed8-cf961ff6c2e8\",\"type\":\"BasicTicker\"}},\"id\":\"ab14150f-c77e-406e-993e-db998ad80786\",\"type\":\"Grid\"},{\"attributes\":{},\"id\":\"70b11c9c-ea69-4a68-af28-5e3ad30f7b4e\",\"type\":\"Selection\"},{\"attributes\":{\"fill_alpha\":{\"value\":0.1},\"fill_color\":{\"value\":\"#1f77b4\"},\"line_alpha\":{\"value\":0.1},\"line_color\":{\"value\":\"#1f77b4\"},\"size\":{\"units\":\"screen\",\"value\":5},\"x\":{\"value\":-0.05134122369100056},\"y\":{\"value\":0.12193409270490854}},\"id\":\"55e8e468-59a5-4996-aff9-2fa22ded27bb\",\"type\":\"Circle\"},{\"attributes\":{\"line_color\":{\"value\":\"firebrick\"},\"line_width\":{\"value\":2},\"plot\":null,\"size\":10},\"id\":\"f08ead2d-cb6d-444d-9f5f-98a9ab74de16\",\"type\":\"OpenHead\"},{\"attributes\":{},\"id\":\"06c94f2b-9bcc-402f-8ff6-53dc1ab5a1d6\",\"type\":\"UnionRenderers\"},{\"attributes\":{\"data_source\":{\"id\":\"2cbcfb1f-7852-4ee1-92a0-e5f7503b3e68\",\"type\":\"ColumnDataSource\"},\"glyph\":{\"id\":\"f9818092-0f81-45c4-aa2f-345462bc21a5\",\"type\":\"Circle\"},\"hover_glyph\":null,\"muted_glyph\":null,\"nonselection_glyph\":{\"id\":\"55e8e468-59a5-4996-aff9-2fa22ded27bb\",\"type\":\"Circle\"},\"selection_glyph\":null,\"view\":{\"id\":\"e12a8893-0911-4f8a-9b38-368b043808c6\",\"type\":\"CDSView\"}},\"id\":\"d2a64384-8fed-4157-94fc-3c5f0ee910a8\",\"type\":\"GlyphRenderer\"},{\"attributes\":{\"line_color\":{\"value\":\"firebrick\"},\"line_width\":{\"value\":2},\"plot\":null,\"size\":10},\"id\":\"be80ff30-badf-49d1-bf2d-0c0ce67d8dde\",\"type\":\"OpenHead\"},{\"attributes\":{},\"id\":\"7450562e-7a9d-4324-99b8-bb0575fbc924\",\"type\":\"Selection\"},{\"attributes\":{\"source\":{\"id\":\"2cbcfb1f-7852-4ee1-92a0-e5f7503b3e68\",\"type\":\"ColumnDataSource\"}},\"id\":\"e12a8893-0911-4f8a-9b38-368b043808c6\",\"type\":\"CDSView\"},{\"attributes\":{\"line_color\":{\"value\":\"firebrick\"},\"line_width\":{\"value\":2},\"plot\":null,\"size\":10},\"id\":\"abca18d7-e8b7-4211-9a6d-7b60ab9eb4f8\",\"type\":\"OpenHead\"},{\"attributes\":{},\"id\":\"fc068924-0810-4315-94e3-814b19cbcdc0\",\"type\":\"UnionRenderers\"},{\"attributes\":{\"callback\":null,\"data\":{},\"selected\":{\"id\":\"d81c3ef4-aa7b-47a9-b696-50e557a6ca01\",\"type\":\"Selection\"},\"selection_policy\":{\"id\":\"f6690a46-4d19-41e1-af0c-f149b2da494e\",\"type\":\"UnionRenderers\"}},\"id\":\"3359c1b3-a3f6-4018-a858-31e759115287\",\"type\":\"ColumnDataSource\"},{\"attributes\":{\"end\":{\"id\":\"afce8535-7d8c-4d36-b750-0eeec9fb163e\",\"type\":\"OpenHead\"},\"line_color\":{\"value\":\"gray\"},\"plot\":{\"id\":\"54397c5a-3c4f-4cd0-8ebf-ae2157a7c88a\",\"subtype\":\"Figure\",\"type\":\"Plot\"},\"source\":null,\"start\":null,\"x_end\":{\"value\":-0.16389433171497883},\"x_start\":{\"value\":-0.19327250113516842},\"y_end\":{\"value\":0.14728872166005752},\"y_start\":{\"value\":0.09535541852159554}},\"id\":\"cce05107-e84c-485c-9f66-dd7a465eb2d8\",\"type\":\"Arrow\"},{\"attributes\":{\"fill_color\":{\"value\":\"green\"},\"line_color\":{\"value\":\"green\"},\"size\":{\"units\":\"screen\",\"value\":10},\"x\":{\"value\":-0.11248988881044159},\"y\":{\"value\":0.16799114256834227}},\"id\":\"5d4e2020-854b-4d2c-8d8e-93534db24875\",\"type\":\"Circle\"},{\"attributes\":{\"end\":{\"id\":\"be80ff30-badf-49d1-bf2d-0c0ce67d8dde\",\"type\":\"OpenHead\"},\"line_color\":{\"value\":\"gray\"},\"plot\":{\"id\":\"54397c5a-3c4f-4cd0-8ebf-ae2157a7c88a\",\"subtype\":\"Figure\",\"type\":\"Plot\"},\"source\":null,\"start\":null,\"x_end\":{\"value\":-0.40970397174323975},\"x_start\":{\"value\":-0.16389433171497883},\"y_end\":{\"value\":-0.09762673593560117},\"y_start\":{\"value\":0.14728872166005752}},\"id\":\"39924481-7675-40b5-b4e9-fa7320a844eb\",\"type\":\"Arrow\"},{\"attributes\":{\"fill_alpha\":{\"value\":0.1},\"fill_color\":{\"value\":\"#1f77b4\"},\"line_alpha\":{\"value\":0.1},\"line_color\":{\"value\":\"#1f77b4\"},\"size\":{\"units\":\"screen\",\"value\":10},\"x\":{\"value\":-0.11248988881044159},\"y\":{\"value\":0.16799114256834227}},\"id\":\"c24826fc-b834-422c-9ebc-d20792cd9be1\",\"type\":\"Circle\"},{\"attributes\":{\"line_color\":{\"value\":\"firebrick\"},\"line_width\":{\"value\":2},\"plot\":null,\"size\":10},\"id\":\"54a379a6-36f8-4cb8-9fd4-cc70aff74398\",\"type\":\"OpenHead\"},{\"attributes\":{\"data_source\":{\"id\":\"b9a0c371-3b2d-4e19-98dc-b35e7466aab5\",\"type\":\"ColumnDataSource\"},\"glyph\":{\"id\":\"5d4e2020-854b-4d2c-8d8e-93534db24875\",\"type\":\"Circle\"},\"hover_glyph\":null,\"muted_glyph\":null,\"nonselection_glyph\":{\"id\":\"c24826fc-b834-422c-9ebc-d20792cd9be1\",\"type\":\"Circle\"},\"selection_glyph\":null,\"view\":{\"id\":\"9af0db21-56ee-4b06-9b75-319c146c82d7\",\"type\":\"CDSView\"}},\"id\":\"29ac8253-2623-40d3-9c99-4a20091e571e\",\"type\":\"GlyphRenderer\"},{\"attributes\":{\"end\":{\"id\":\"f08ead2d-cb6d-444d-9f5f-98a9ab74de16\",\"type\":\"OpenHead\"},\"line_color\":{\"value\":\"gray\"},\"plot\":{\"id\":\"54397c5a-3c4f-4cd0-8ebf-ae2157a7c88a\",\"subtype\":\"Figure\",\"type\":\"Plot\"},\"source\":null,\"start\":null,\"x_end\":{\"value\":-0.17739553662891921},\"x_start\":{\"value\":-0.40970397174323975},\"y_end\":{\"value\":0.1623897187439529},\"y_start\":{\"value\":-0.09762673593560117}},\"id\":\"864adcf5-22d7-4d76-a2de-96989f283ff0\",\"type\":\"Arrow\"},{\"attributes\":{\"source\":{\"id\":\"b9a0c371-3b2d-4e19-98dc-b35e7466aab5\",\"type\":\"ColumnDataSource\"}},\"id\":\"9af0db21-56ee-4b06-9b75-319c146c82d7\",\"type\":\"CDSView\"},{\"attributes\":{\"line_color\":{\"value\":\"firebrick\"},\"line_width\":{\"value\":2},\"plot\":null,\"size\":10},\"id\":\"a172dec8-52d1-4113-a410-b259c373bc38\",\"type\":\"OpenHead\"},{\"attributes\":{\"end\":{\"id\":\"54a379a6-36f8-4cb8-9fd4-cc70aff74398\",\"type\":\"OpenHead\"},\"line_color\":{\"value\":\"gray\"},\"plot\":{\"id\":\"54397c5a-3c4f-4cd0-8ebf-ae2157a7c88a\",\"subtype\":\"Figure\",\"type\":\"Plot\"},\"source\":null,\"start\":null,\"x_end\":{\"value\":-0.13352876606646127},\"x_start\":{\"value\":-0.17739553662891921},\"y_end\":{\"value\":0.22765909421150426},\"y_start\":{\"value\":0.1623897187439529}},\"id\":\"5a97c743-b6bf-4d0a-b5bc-3935e1489764\",\"type\":\"Arrow\"},{\"attributes\":{\"fill_color\":{\"value\":\"red\"},\"line_color\":{\"value\":\"red\"},\"size\":{\"units\":\"screen\",\"value\":10},\"x\":{\"value\":0.03182150336145036},\"y\":{\"value\":0.0027050023283965107}},\"id\":\"189b7106-df69-4aac-8617-b6094bdca4be\",\"type\":\"Circle\"},{\"attributes\":{\"line_color\":{\"value\":\"firebrick\"},\"line_width\":{\"value\":2},\"plot\":null,\"size\":10},\"id\":\"dde31922-f33b-4bc5-977d-9b8271daf183\",\"type\":\"OpenHead\"},{\"attributes\":{\"fill_alpha\":{\"value\":0.1},\"fill_color\":{\"value\":\"#1f77b4\"},\"line_alpha\":{\"value\":0.1},\"line_color\":{\"value\":\"#1f77b4\"},\"size\":{\"units\":\"screen\",\"value\":10},\"x\":{\"value\":0.03182150336145036},\"y\":{\"value\":0.0027050023283965107}},\"id\":\"2cdf4a35-4377-45a9-8221-e727b5626770\",\"type\":\"Circle\"},{\"attributes\":{\"end\":{\"id\":\"a172dec8-52d1-4113-a410-b259c373bc38\",\"type\":\"OpenHead\"},\"line_color\":{\"value\":\"gray\"},\"plot\":{\"id\":\"54397c5a-3c4f-4cd0-8ebf-ae2157a7c88a\",\"subtype\":\"Figure\",\"type\":\"Plot\"},\"source\":null,\"start\":null,\"x_end\":{\"value\":0.009571412085397144},\"x_start\":{\"value\":-0.13352876606646127},\"y_end\":{\"value\":0.2347635079506891},\"y_start\":{\"value\":0.22765909421150426}},\"id\":\"b3ae9aff-72be-461c-8714-60127523bf5a\",\"type\":\"Arrow\"},{\"attributes\":{\"data_source\":{\"id\":\"3359c1b3-a3f6-4018-a858-31e759115287\",\"type\":\"ColumnDataSource\"},\"glyph\":{\"id\":\"189b7106-df69-4aac-8617-b6094bdca4be\",\"type\":\"Circle\"},\"hover_glyph\":null,\"muted_glyph\":null,\"nonselection_glyph\":{\"id\":\"2cdf4a35-4377-45a9-8221-e727b5626770\",\"type\":\"Circle\"},\"selection_glyph\":null,\"view\":{\"id\":\"c22f5376-6d82-4201-817a-4b1c2b5b8782\",\"type\":\"CDSView\"}},\"id\":\"4ae725e7-b8de-4b32-adac-b3570c9de3b5\",\"type\":\"GlyphRenderer\"},{\"attributes\":{\"line_color\":{\"value\":\"firebrick\"},\"line_width\":{\"value\":2},\"plot\":null,\"size\":10},\"id\":\"8e73d0b4-e812-4fed-ab8a-5311b05f8f3b\",\"type\":\"OpenHead\"},{\"attributes\":{\"source\":{\"id\":\"3359c1b3-a3f6-4018-a858-31e759115287\",\"type\":\"ColumnDataSource\"}},\"id\":\"c22f5376-6d82-4201-817a-4b1c2b5b8782\",\"type\":\"CDSView\"},{\"attributes\":{\"end\":{\"id\":\"dde31922-f33b-4bc5-977d-9b8271daf183\",\"type\":\"OpenHead\"},\"line_color\":{\"value\":\"gray\"},\"plot\":{\"id\":\"54397c5a-3c4f-4cd0-8ebf-ae2157a7c88a\",\"subtype\":\"Figure\",\"type\":\"Plot\"},\"source\":null,\"start\":null,\"x_end\":{\"value\":-0.20926453585300164},\"x_start\":{\"value\":0.009571412085397144},\"y_end\":{\"value\":0.233194486877706},\"y_start\":{\"value\":0.2347635079506891}},\"id\":\"3aca37a6-930c-4a63-b150-8ace26f4780f\",\"type\":\"Arrow\"},{\"attributes\":{\"end\":{\"id\":\"0a963d60-3fd0-4e0d-a67d-672f74b5c443\",\"type\":\"OpenHead\"},\"line_color\":{\"value\":\"gray\"},\"plot\":{\"id\":\"54397c5a-3c4f-4cd0-8ebf-ae2157a7c88a\",\"subtype\":\"Figure\",\"type\":\"Plot\"},\"source\":null,\"start\":null,\"x_end\":{\"value\":0.4538481893558596},\"x_start\":{\"value\":-0.42038924061652183},\"y_end\":{\"value\":-0.20486394628882174},\"y_start\":{\"value\":-0.37665666569017897}},\"id\":\"85873fef-b4c0-45df-ae59-78df96c9735d\",\"type\":\"Arrow\"},{\"attributes\":{\"line_color\":{\"value\":\"firebrick\"},\"line_width\":{\"value\":2},\"plot\":null,\"size\":10},\"id\":\"7d30f69b-4d1f-408b-858c-ecbd0d5a4cbb\",\"type\":\"OpenHead\"},{\"attributes\":{\"end\":{\"id\":\"8e73d0b4-e812-4fed-ab8a-5311b05f8f3b\",\"type\":\"OpenHead\"},\"line_color\":{\"value\":\"gray\"},\"plot\":{\"id\":\"54397c5a-3c4f-4cd0-8ebf-ae2157a7c88a\",\"subtype\":\"Figure\",\"type\":\"Plot\"},\"source\":null,\"start\":null,\"x_end\":{\"value\":0.05928572802214755},\"x_start\":{\"value\":-0.20926453585300164},\"y_end\":{\"value\":0.23320107638479587},\"y_start\":{\"value\":0.233194486877706}},\"id\":\"6570b9d8-209b-4183-93bb-4aa32d5b86db\",\"type\":\"Arrow\"},{\"attributes\":{\"line_color\":{\"value\":\"firebrick\"},\"line_width\":{\"value\":2},\"plot\":null,\"size\":10},\"id\":\"587e1197-80d6-4c68-8c22-e7d288ae91b2\",\"type\":\"OpenHead\"},{\"attributes\":{\"end\":{\"id\":\"7d30f69b-4d1f-408b-858c-ecbd0d5a4cbb\",\"type\":\"OpenHead\"},\"line_color\":{\"value\":\"gray\"},\"plot\":{\"id\":\"54397c5a-3c4f-4cd0-8ebf-ae2157a7c88a\",\"subtype\":\"Figure\",\"type\":\"Plot\"},\"source\":null,\"start\":null,\"x_end\":{\"value\":-0.03194035959507587},\"x_start\":{\"value\":0.05928572802214755},\"y_end\":{\"value\":0.04131224085619458},\"y_start\":{\"value\":0.23320107638479587}},\"id\":\"930094ff-4eca-4e3a-b87b-2ceb0fa86551\",\"type\":\"Arrow\"},{\"attributes\":{\"line_color\":{\"value\":\"firebrick\"},\"line_width\":{\"value\":2},\"plot\":null,\"size\":10},\"id\":\"7ed363c4-3a20-4c52-9045-cc7d9926425b\",\"type\":\"OpenHead\"},{\"attributes\":{\"end\":{\"id\":\"587e1197-80d6-4c68-8c22-e7d288ae91b2\",\"type\":\"OpenHead\"},\"line_color\":{\"value\":\"gray\"},\"plot\":{\"id\":\"54397c5a-3c4f-4cd0-8ebf-ae2157a7c88a\",\"subtype\":\"Figure\",\"type\":\"Plot\"},\"source\":null,\"start\":null,\"x_end\":{\"value\":0.048345779546648655},\"x_start\":{\"value\":-0.03194035959507587},\"y_end\":{\"value\":0.25038420602169154},\"y_start\":{\"value\":0.04131224085619458}},\"id\":\"280f171c-8ede-438b-899f-429f1d38d9e5\",\"type\":\"Arrow\"},{\"attributes\":{\"end\":{\"id\":\"7ed363c4-3a20-4c52-9045-cc7d9926425b\",\"type\":\"OpenHead\"},\"line_color\":{\"value\":\"gray\"},\"plot\":{\"id\":\"54397c5a-3c4f-4cd0-8ebf-ae2157a7c88a\",\"subtype\":\"Figure\",\"type\":\"Plot\"},\"source\":null,\"start\":null,\"x_end\":{\"value\":0.6431129693644326},\"x_start\":{\"value\":0.048345779546648655},\"y_end\":{\"value\":-0.393791945941529},\"y_start\":{\"value\":0.25038420602169154}},\"id\":\"f381c98d-a2db-426d-bd3e-4f7e3830f342\",\"type\":\"Arrow\"}],\"root_ids\":[\"54397c5a-3c4f-4cd0-8ebf-ae2157a7c88a\"]},\"title\":\"Bokeh Application\",\"version\":\"0.13.0\"}};\n",
       "  var render_items = [{\"docid\":\"7f4806af-4865-4f92-a488-3dab0e19e378\",\"roots\":{\"54397c5a-3c4f-4cd0-8ebf-ae2157a7c88a\":\"b8fe8b68-1a4c-4cf1-9fd6-dc4328b8244d\"}}];\n",
       "  root.Bokeh.embed.embed_items_notebook(docs_json, render_items);\n",
       "\n",
       "  }\n",
       "  if (root.Bokeh !== undefined) {\n",
       "    embed_document(root);\n",
       "  } else {\n",
       "    var attempts = 0;\n",
       "    var timer = setInterval(function(root) {\n",
       "      if (root.Bokeh !== undefined) {\n",
       "        embed_document(root);\n",
       "        clearInterval(timer);\n",
       "      }\n",
       "      attempts++;\n",
       "      if (attempts > 100) {\n",
       "        console.log(\"Bokeh: ERROR: Unable to run BokehJS code because BokehJS library is missing\")\n",
       "        clearInterval(timer);\n",
       "      }\n",
       "    }, 10, root)\n",
       "  }\n",
       "})(window);"
      ],
      "application/vnd.bokehjs_exec.v0+json": ""
     },
     "metadata": {
      "application/vnd.bokehjs_exec.v0+json": {
       "id": "54397c5a-3c4f-4cd0-8ebf-ae2157a7c88a"
      }
     },
     "output_type": "display_data"
    }
   ],
   "source": [
    "show(p)"
   ]
  },
  {
   "cell_type": "code",
   "execution_count": null,
   "metadata": {},
   "outputs": [],
   "source": []
  },
  {
   "cell_type": "code",
   "execution_count": 18,
   "metadata": {},
   "outputs": [
    {
     "name": "stdout",
     "output_type": "stream",
     "text": [
      "utter_ask_price --> 6\n",
      "utter_ask_details --> 28\n",
      "utter_ask_people --> 4\n",
      "utter_explain_details_hotel --> 14\n",
      "utter_explain_people_hotel --> 19\n",
      "utter_explain_price_hotel --> 21\n",
      "utter_ask_location --> 5\n",
      "utter_explain_location_hotel --> 17\n",
      "utter_ask_startdate --> 7\n",
      "utter_suggest_hotel --> 12\n",
      "action_search_hotel --> 42\n",
      "action_listen --> 0\n"
     ]
    }
   ],
   "source": [
    "print('utter_ask_price', '-->', domain.index_for_action('utter_ask_price'))\n",
    "print('utter_ask_details', '-->', domain.index_for_action('utter_ask_details'))\n",
    "print('utter_ask_people', '-->', domain.index_for_action('utter_ask_people'))\n",
    "print('utter_explain_details_hotel', '-->', domain.index_for_action('utter_explain_details_hotel'))\n",
    "print('utter_explain_people_hotel', '-->', domain.index_for_action('utter_explain_people_hotel'))\n",
    "print('utter_explain_price_hotel', '-->', domain.index_for_action('utter_explain_price_hotel'))\n",
    "print('utter_ask_location', '-->', domain.index_for_action('utter_ask_location'))\n",
    "print('utter_explain_location_hotel', '-->', domain.index_for_action('utter_explain_location_hotel'))\n",
    "print('utter_ask_startdate', '-->', domain.index_for_action('utter_ask_startdate'))\n",
    "print('utter_suggest_hotel', '-->', domain.index_for_action('utter_suggest_hotel'))\n",
    "print('action_search_hotel', '-->', domain.index_for_action('action_search_hotel'))\n",
    "print('action_listen', '-->', domain.index_for_action('action_listen'))"
   ]
  },
  {
   "cell_type": "code",
   "execution_count": 19,
   "metadata": {},
   "outputs": [
    {
     "data": {
      "text/plain": [
       "(20,)"
      ]
     },
     "execution_count": 19,
     "metadata": {},
     "output_type": "execute_result"
    }
   ],
   "source": [
    "utter_price = embedding_from_tracker(\"#generate story\\n{}\".format(story_block), bot=True)[0,-1,5,:]\n",
    "utter_price.shape"
   ]
  },
  {
   "cell_type": "code",
   "execution_count": 20,
   "metadata": {},
   "outputs": [
    {
     "name": "stdout",
     "output_type": "stream",
     "text": [
      "(20,)\n"
     ]
    },
    {
     "data": {
      "text/html": [
       "<div style=\"display: table;\"><div style=\"display: table-row;\"><div style=\"display: table-cell;\"><b title=\"bokeh.models.renderers.GlyphRenderer\">GlyphRenderer</b>(</div><div style=\"display: table-cell;\">id&nbsp;=&nbsp;'1db745d9-cfee-44a7-8a51-a238a358f252', <span id=\"39a24e62-01d3-478d-97b4-067e18601781\" style=\"cursor: pointer;\">&hellip;)</span></div></div><div class=\"cb057124-66eb-4d3b-8bd8-dddcd76cabb6\" style=\"display: none;\"><div style=\"display: table-cell;\"></div><div style=\"display: table-cell;\">data_source&nbsp;=&nbsp;ColumnDataSource(id='f011c53f-e8a7-4c7c-9830-ff8fdc912a23', ...),</div></div><div class=\"cb057124-66eb-4d3b-8bd8-dddcd76cabb6\" style=\"display: none;\"><div style=\"display: table-cell;\"></div><div style=\"display: table-cell;\">glyph&nbsp;=&nbsp;Circle(id='dc8dc1af-cea4-493b-8c6c-d8fcbf8d1706', ...),</div></div><div class=\"cb057124-66eb-4d3b-8bd8-dddcd76cabb6\" style=\"display: none;\"><div style=\"display: table-cell;\"></div><div style=\"display: table-cell;\">hover_glyph&nbsp;=&nbsp;None,</div></div><div class=\"cb057124-66eb-4d3b-8bd8-dddcd76cabb6\" style=\"display: none;\"><div style=\"display: table-cell;\"></div><div style=\"display: table-cell;\">js_event_callbacks&nbsp;=&nbsp;{},</div></div><div class=\"cb057124-66eb-4d3b-8bd8-dddcd76cabb6\" style=\"display: none;\"><div style=\"display: table-cell;\"></div><div style=\"display: table-cell;\">js_property_callbacks&nbsp;=&nbsp;{},</div></div><div class=\"cb057124-66eb-4d3b-8bd8-dddcd76cabb6\" style=\"display: none;\"><div style=\"display: table-cell;\"></div><div style=\"display: table-cell;\">level&nbsp;=&nbsp;'glyph',</div></div><div class=\"cb057124-66eb-4d3b-8bd8-dddcd76cabb6\" style=\"display: none;\"><div style=\"display: table-cell;\"></div><div style=\"display: table-cell;\">muted&nbsp;=&nbsp;False,</div></div><div class=\"cb057124-66eb-4d3b-8bd8-dddcd76cabb6\" style=\"display: none;\"><div style=\"display: table-cell;\"></div><div style=\"display: table-cell;\">muted_glyph&nbsp;=&nbsp;None,</div></div><div class=\"cb057124-66eb-4d3b-8bd8-dddcd76cabb6\" style=\"display: none;\"><div style=\"display: table-cell;\"></div><div style=\"display: table-cell;\">name&nbsp;=&nbsp;None,</div></div><div class=\"cb057124-66eb-4d3b-8bd8-dddcd76cabb6\" style=\"display: none;\"><div style=\"display: table-cell;\"></div><div style=\"display: table-cell;\">nonselection_glyph&nbsp;=&nbsp;Circle(id='00d5c32d-1a28-4324-b511-c6c84bae9453', ...),</div></div><div class=\"cb057124-66eb-4d3b-8bd8-dddcd76cabb6\" style=\"display: none;\"><div style=\"display: table-cell;\"></div><div style=\"display: table-cell;\">selection_glyph&nbsp;=&nbsp;None,</div></div><div class=\"cb057124-66eb-4d3b-8bd8-dddcd76cabb6\" style=\"display: none;\"><div style=\"display: table-cell;\"></div><div style=\"display: table-cell;\">subscribed_events&nbsp;=&nbsp;[],</div></div><div class=\"cb057124-66eb-4d3b-8bd8-dddcd76cabb6\" style=\"display: none;\"><div style=\"display: table-cell;\"></div><div style=\"display: table-cell;\">tags&nbsp;=&nbsp;[],</div></div><div class=\"cb057124-66eb-4d3b-8bd8-dddcd76cabb6\" style=\"display: none;\"><div style=\"display: table-cell;\"></div><div style=\"display: table-cell;\">view&nbsp;=&nbsp;CDSView(id='ed67240e-ca62-4683-b5a8-428e01fd79d3', ...),</div></div><div class=\"cb057124-66eb-4d3b-8bd8-dddcd76cabb6\" style=\"display: none;\"><div style=\"display: table-cell;\"></div><div style=\"display: table-cell;\">visible&nbsp;=&nbsp;True,</div></div><div class=\"cb057124-66eb-4d3b-8bd8-dddcd76cabb6\" style=\"display: none;\"><div style=\"display: table-cell;\"></div><div style=\"display: table-cell;\">x_range_name&nbsp;=&nbsp;'default',</div></div><div class=\"cb057124-66eb-4d3b-8bd8-dddcd76cabb6\" style=\"display: none;\"><div style=\"display: table-cell;\"></div><div style=\"display: table-cell;\">y_range_name&nbsp;=&nbsp;'default')</div></div></div>\n",
       "<script>\n",
       "(function() {\n",
       "  var expanded = false;\n",
       "  var ellipsis = document.getElementById(\"39a24e62-01d3-478d-97b4-067e18601781\");\n",
       "  ellipsis.addEventListener(\"click\", function() {\n",
       "    var rows = document.getElementsByClassName(\"cb057124-66eb-4d3b-8bd8-dddcd76cabb6\");\n",
       "    for (var i = 0; i < rows.length; i++) {\n",
       "      var el = rows[i];\n",
       "      el.style.display = expanded ? \"none\" : \"table-row\";\n",
       "    }\n",
       "    ellipsis.innerHTML = expanded ? \"&hellip;)\" : \"&lsaquo;&lsaquo;&lsaquo;\";\n",
       "    expanded = !expanded;\n",
       "  });\n",
       "})();\n",
       "</script>\n"
      ],
      "text/plain": [
       "GlyphRenderer(id='1db745d9-cfee-44a7-8a51-a238a358f252', ...)"
      ]
     },
     "execution_count": 20,
     "metadata": {},
     "output_type": "execute_result"
    }
   ],
   "source": [
    "print(utter_price.shape)\n",
    "x = pca.transform(utter_price.reshape(1,-1))\n",
    "p.circle(x[0][0], x[0][1], color='black')"
   ]
  },
  {
   "cell_type": "code",
   "execution_count": 21,
   "metadata": {},
   "outputs": [
    {
     "data": {
      "text/html": [
       "\n",
       "<div class=\"bk-root\">\n",
       "    <div class=\"bk-plotdiv\" id=\"e38ee173-28d2-4a73-a4d0-aa968c67dc81\"></div>\n",
       "</div>"
      ]
     },
     "metadata": {},
     "output_type": "execute_result"
    },
    {
     "data": {},
     "metadata": {
      "application/vnd.bokehjs_exec.v0+json": {
       "id": "347ab833-a443-4459-b311-0c8692793c11"
      }
     },
     "output_type": "display_data"
    }
   ],
   "source": [
    "show(p)"
   ]
  },
  {
   "cell_type": "code",
   "execution_count": 22,
   "metadata": {},
   "outputs": [],
   "source": [
    "from collections import namedtuple"
   ]
  },
  {
   "cell_type": "code",
   "execution_count": 23,
   "metadata": {},
   "outputs": [
    {
     "data": {
      "text/plain": [
       "OrderedDict([('x', 11), ('y', 22)])"
      ]
     },
     "execution_count": 23,
     "metadata": {},
     "output_type": "execute_result"
    }
   ],
   "source": [
    "Point = namedtuple('Point', ['x', 'y'])\n",
    "p = Point(11, y=22)\n",
    "p._asdict()"
   ]
  },
  {
   "cell_type": "code",
   "execution_count": 24,
   "metadata": {},
   "outputs": [],
   "source": [
    "Point3D = namedtuple('Point3D', Point._fields + ('z',))"
   ]
  },
  {
   "cell_type": "code",
   "execution_count": 25,
   "metadata": {},
   "outputs": [
    {
     "data": {
      "text/plain": [
       "OrderedDict([('x', 11), ('y', 22), ('z', 3)])"
      ]
     },
     "execution_count": 25,
     "metadata": {},
     "output_type": "execute_result"
    }
   ],
   "source": [
    "p_asdict = p._asdict()\n",
    "p_asdict['z'] = 3\n",
    "p_asdict"
   ]
  },
  {
   "cell_type": "code",
   "execution_count": 26,
   "metadata": {},
   "outputs": [
    {
     "data": {
      "text/plain": [
       "Point3D(x=11, y=22, z=3)"
      ]
     },
     "execution_count": 26,
     "metadata": {},
     "output_type": "execute_result"
    }
   ],
   "source": [
    "p3D = Point3D(**p_asdict)\n",
    "p3D"
   ]
  },
  {
   "cell_type": "code",
   "execution_count": 27,
   "metadata": {},
   "outputs": [],
   "source": [
    "x ={\n",
    "        \"day\": \"20\",\n",
    "        \"month\": \"06\",\n",
    "        \"year\": \"2018\"\n",
    "    }"
   ]
  },
  {
   "cell_type": "code",
   "execution_count": 28,
   "metadata": {},
   "outputs": [
    {
     "data": {
      "text/plain": [
       "{'day': '20', 'month': '06', 'year': '2018'}"
      ]
     },
     "execution_count": 28,
     "metadata": {},
     "output_type": "execute_result"
    }
   ],
   "source": [
    "x"
   ]
  },
  {
   "cell_type": "code",
   "execution_count": 29,
   "metadata": {},
   "outputs": [
    {
     "data": {
      "text/plain": [
       "{'touched': True, 'value': {'value1': '20', 'value2': '06', 'value3': '2018'}}"
      ]
     },
     "execution_count": 29,
     "metadata": {},
     "output_type": "execute_result"
    }
   ],
   "source": [
    "def value_touched_dict(value):\n",
    "    if isinstance(value, dict) and value.get(\"day\"):\n",
    "        value[\"value1\"] = value.pop(\"day\")\n",
    "        value[\"value2\"] = value.pop(\"month\")\n",
    "        value[\"value3\"] = value.pop(\"year\")\n",
    "    return {\"value\": value,\n",
    "            \"touched\": True}\n",
    "value_touched_dict(x)"
   ]
  },
  {
   "cell_type": "code",
   "execution_count": 30,
   "metadata": {},
   "outputs": [
    {
     "data": {
      "text/plain": [
       "{'touched': True, 'value': 'x'}"
      ]
     },
     "execution_count": 30,
     "metadata": {},
     "output_type": "execute_result"
    }
   ],
   "source": [
    "value_touched_dict('x')"
   ]
  },
  {
   "cell_type": "code",
   "execution_count": null,
   "metadata": {},
   "outputs": [],
   "source": []
  }
 ],
 "metadata": {
  "kernelspec": {
   "display_name": "Python 3",
   "language": "python",
   "name": "python3"
  },
  "language_info": {
   "codemirror_mode": {
    "name": "ipython",
    "version": 3
   },
   "file_extension": ".py",
   "mimetype": "text/x-python",
   "name": "python",
   "nbconvert_exporter": "python",
   "pygments_lexer": "ipython3",
   "version": "3.6.5"
  }
 },
 "nbformat": 4,
 "nbformat_minor": 2
}
