{
 "cells": [
  {
   "cell_type": "code",
   "execution_count": 61,
   "metadata": {},
   "outputs": [
    {
     "name": "stdout",
     "output_type": "stream",
     "text": [
      "INFO:tensorflow:Restoring parameters from models/dialogue_embed/policy_0_EmbeddingPolicy/tensorflow_embedding.ckpt\n"
     ]
    },
    {
     "name": "stderr",
     "output_type": "stream",
     "text": [
      "/anaconda/lib/python3.6/site-packages/pykwalify/core.py:99: UnsafeLoaderWarning: \n",
      "The default 'Loader' for 'load(stream)' without further arguments can be unsafe.\n",
      "Use 'load(stream, Loader=ruamel.yaml.Loader)' explicitly if that is OK.\n",
      "Alternatively include the following in your code:\n",
      "\n",
      "  import warnings\n",
      "  warnings.simplefilter('ignore', ruamel.yaml.error.UnsafeLoaderWarning)\n",
      "\n",
      "In most other cases you should consider using 'safe_load(stream)'\n",
      "  data = yaml.load(stream)\n"
     ]
    },
    {
     "data": {
      "text/html": [
       "\n",
       "    <div class=\"bk-root\">\n",
       "        <a href=\"https://bokeh.pydata.org\" target=\"_blank\" class=\"bk-logo bk-logo-small bk-logo-notebook\"></a>\n",
       "        <span id=\"3acb18c3-3cfd-460f-b469-0f030a19ee8b\">Loading BokehJS ...</span>\n",
       "    </div>"
      ]
     },
     "metadata": {},
     "output_type": "display_data"
    },
    {
     "data": {
      "application/javascript": [
       "\n",
       "(function(root) {\n",
       "  function now() {\n",
       "    return new Date();\n",
       "  }\n",
       "\n",
       "  var force = true;\n",
       "\n",
       "  if (typeof (root._bokeh_onload_callbacks) === \"undefined\" || force === true) {\n",
       "    root._bokeh_onload_callbacks = [];\n",
       "    root._bokeh_is_loading = undefined;\n",
       "  }\n",
       "\n",
       "  var JS_MIME_TYPE = 'application/javascript';\n",
       "  var HTML_MIME_TYPE = 'text/html';\n",
       "  var EXEC_MIME_TYPE = 'application/vnd.bokehjs_exec.v0+json';\n",
       "  var CLASS_NAME = 'output_bokeh rendered_html';\n",
       "\n",
       "  /**\n",
       "   * Render data to the DOM node\n",
       "   */\n",
       "  function render(props, node) {\n",
       "    var script = document.createElement(\"script\");\n",
       "    node.appendChild(script);\n",
       "  }\n",
       "\n",
       "  /**\n",
       "   * Handle when an output is cleared or removed\n",
       "   */\n",
       "  function handleClearOutput(event, handle) {\n",
       "    var cell = handle.cell;\n",
       "\n",
       "    var id = cell.output_area._bokeh_element_id;\n",
       "    var server_id = cell.output_area._bokeh_server_id;\n",
       "    // Clean up Bokeh references\n",
       "    if (id !== undefined) {\n",
       "      Bokeh.index[id].model.document.clear();\n",
       "      delete Bokeh.index[id];\n",
       "    }\n",
       "\n",
       "    if (server_id !== undefined) {\n",
       "      // Clean up Bokeh references\n",
       "      var cmd = \"from bokeh.io.state import curstate; print(curstate().uuid_to_server['\" + server_id + \"'].get_sessions()[0].document.roots[0]._id)\";\n",
       "      cell.notebook.kernel.execute(cmd, {\n",
       "        iopub: {\n",
       "          output: function(msg) {\n",
       "            var element_id = msg.content.text.trim();\n",
       "            Bokeh.index[element_id].model.document.clear();\n",
       "            delete Bokeh.index[element_id];\n",
       "          }\n",
       "        }\n",
       "      });\n",
       "      // Destroy server and session\n",
       "      var cmd = \"import bokeh.io.notebook as ion; ion.destroy_server('\" + server_id + \"')\";\n",
       "      cell.notebook.kernel.execute(cmd);\n",
       "    }\n",
       "  }\n",
       "\n",
       "  /**\n",
       "   * Handle when a new output is added\n",
       "   */\n",
       "  function handleAddOutput(event, handle) {\n",
       "    var output_area = handle.output_area;\n",
       "    var output = handle.output;\n",
       "\n",
       "    // limit handleAddOutput to display_data with EXEC_MIME_TYPE content only\n",
       "    if ((output.output_type != \"display_data\") || (!output.data.hasOwnProperty(EXEC_MIME_TYPE))) {\n",
       "      return\n",
       "    }\n",
       "\n",
       "    var toinsert = output_area.element.find(\".\" + CLASS_NAME.split(' ')[0]);\n",
       "\n",
       "    if (output.metadata[EXEC_MIME_TYPE][\"id\"] !== undefined) {\n",
       "      toinsert[toinsert.length - 1].firstChild.textContent = output.data[JS_MIME_TYPE];\n",
       "      // store reference to embed id on output_area\n",
       "      output_area._bokeh_element_id = output.metadata[EXEC_MIME_TYPE][\"id\"];\n",
       "    }\n",
       "    if (output.metadata[EXEC_MIME_TYPE][\"server_id\"] !== undefined) {\n",
       "      var bk_div = document.createElement(\"div\");\n",
       "      bk_div.innerHTML = output.data[HTML_MIME_TYPE];\n",
       "      var script_attrs = bk_div.children[0].attributes;\n",
       "      for (var i = 0; i < script_attrs.length; i++) {\n",
       "        toinsert[toinsert.length - 1].firstChild.setAttribute(script_attrs[i].name, script_attrs[i].value);\n",
       "      }\n",
       "      // store reference to server id on output_area\n",
       "      output_area._bokeh_server_id = output.metadata[EXEC_MIME_TYPE][\"server_id\"];\n",
       "    }\n",
       "  }\n",
       "\n",
       "  function register_renderer(events, OutputArea) {\n",
       "\n",
       "    function append_mime(data, metadata, element) {\n",
       "      // create a DOM node to render to\n",
       "      var toinsert = this.create_output_subarea(\n",
       "        metadata,\n",
       "        CLASS_NAME,\n",
       "        EXEC_MIME_TYPE\n",
       "      );\n",
       "      this.keyboard_manager.register_events(toinsert);\n",
       "      // Render to node\n",
       "      var props = {data: data, metadata: metadata[EXEC_MIME_TYPE]};\n",
       "      render(props, toinsert[toinsert.length - 1]);\n",
       "      element.append(toinsert);\n",
       "      return toinsert\n",
       "    }\n",
       "\n",
       "    /* Handle when an output is cleared or removed */\n",
       "    events.on('clear_output.CodeCell', handleClearOutput);\n",
       "    events.on('delete.Cell', handleClearOutput);\n",
       "\n",
       "    /* Handle when a new output is added */\n",
       "    events.on('output_added.OutputArea', handleAddOutput);\n",
       "\n",
       "    /**\n",
       "     * Register the mime type and append_mime function with output_area\n",
       "     */\n",
       "    OutputArea.prototype.register_mime_type(EXEC_MIME_TYPE, append_mime, {\n",
       "      /* Is output safe? */\n",
       "      safe: true,\n",
       "      /* Index of renderer in `output_area.display_order` */\n",
       "      index: 0\n",
       "    });\n",
       "  }\n",
       "\n",
       "  // register the mime type if in Jupyter Notebook environment and previously unregistered\n",
       "  if (root.Jupyter !== undefined) {\n",
       "    var events = require('base/js/events');\n",
       "    var OutputArea = require('notebook/js/outputarea').OutputArea;\n",
       "\n",
       "    if (OutputArea.prototype.mime_types().indexOf(EXEC_MIME_TYPE) == -1) {\n",
       "      register_renderer(events, OutputArea);\n",
       "    }\n",
       "  }\n",
       "\n",
       "  \n",
       "  if (typeof (root._bokeh_timeout) === \"undefined\" || force === true) {\n",
       "    root._bokeh_timeout = Date.now() + 5000;\n",
       "    root._bokeh_failed_load = false;\n",
       "  }\n",
       "\n",
       "  var NB_LOAD_WARNING = {'data': {'text/html':\n",
       "     \"<div style='background-color: #fdd'>\\n\"+\n",
       "     \"<p>\\n\"+\n",
       "     \"BokehJS does not appear to have successfully loaded. If loading BokehJS from CDN, this \\n\"+\n",
       "     \"may be due to a slow or bad network connection. Possible fixes:\\n\"+\n",
       "     \"</p>\\n\"+\n",
       "     \"<ul>\\n\"+\n",
       "     \"<li>re-rerun `output_notebook()` to attempt to load from CDN again, or</li>\\n\"+\n",
       "     \"<li>use INLINE resources instead, as so:</li>\\n\"+\n",
       "     \"</ul>\\n\"+\n",
       "     \"<code>\\n\"+\n",
       "     \"from bokeh.resources import INLINE\\n\"+\n",
       "     \"output_notebook(resources=INLINE)\\n\"+\n",
       "     \"</code>\\n\"+\n",
       "     \"</div>\"}};\n",
       "\n",
       "  function display_loaded() {\n",
       "    var el = document.getElementById(\"3acb18c3-3cfd-460f-b469-0f030a19ee8b\");\n",
       "    if (el != null) {\n",
       "      el.textContent = \"BokehJS is loading...\";\n",
       "    }\n",
       "    if (root.Bokeh !== undefined) {\n",
       "      if (el != null) {\n",
       "        el.textContent = \"BokehJS \" + root.Bokeh.version + \" successfully loaded.\";\n",
       "      }\n",
       "    } else if (Date.now() < root._bokeh_timeout) {\n",
       "      setTimeout(display_loaded, 100)\n",
       "    }\n",
       "  }\n",
       "\n",
       "\n",
       "  function run_callbacks() {\n",
       "    try {\n",
       "      root._bokeh_onload_callbacks.forEach(function(callback) { callback() });\n",
       "    }\n",
       "    finally {\n",
       "      delete root._bokeh_onload_callbacks\n",
       "    }\n",
       "    console.info(\"Bokeh: all callbacks have finished\");\n",
       "  }\n",
       "\n",
       "  function load_libs(js_urls, callback) {\n",
       "    root._bokeh_onload_callbacks.push(callback);\n",
       "    if (root._bokeh_is_loading > 0) {\n",
       "      console.log(\"Bokeh: BokehJS is being loaded, scheduling callback at\", now());\n",
       "      return null;\n",
       "    }\n",
       "    if (js_urls == null || js_urls.length === 0) {\n",
       "      run_callbacks();\n",
       "      return null;\n",
       "    }\n",
       "    console.log(\"Bokeh: BokehJS not loaded, scheduling load and callback at\", now());\n",
       "    root._bokeh_is_loading = js_urls.length;\n",
       "    for (var i = 0; i < js_urls.length; i++) {\n",
       "      var url = js_urls[i];\n",
       "      var s = document.createElement('script');\n",
       "      s.src = url;\n",
       "      s.async = false;\n",
       "      s.onreadystatechange = s.onload = function() {\n",
       "        root._bokeh_is_loading--;\n",
       "        if (root._bokeh_is_loading === 0) {\n",
       "          console.log(\"Bokeh: all BokehJS libraries loaded\");\n",
       "          run_callbacks()\n",
       "        }\n",
       "      };\n",
       "      s.onerror = function() {\n",
       "        console.warn(\"failed to load library \" + url);\n",
       "      };\n",
       "      console.log(\"Bokeh: injecting script tag for BokehJS library: \", url);\n",
       "      document.getElementsByTagName(\"head\")[0].appendChild(s);\n",
       "    }\n",
       "  };var element = document.getElementById(\"3acb18c3-3cfd-460f-b469-0f030a19ee8b\");\n",
       "  if (element == null) {\n",
       "    console.log(\"Bokeh: ERROR: autoload.js configured with elementid '3acb18c3-3cfd-460f-b469-0f030a19ee8b' but no matching script tag was found. \")\n",
       "    return false;\n",
       "  }\n",
       "\n",
       "  var js_urls = [\"https://cdn.pydata.org/bokeh/release/bokeh-0.12.15.min.js\", \"https://cdn.pydata.org/bokeh/release/bokeh-widgets-0.12.15.min.js\", \"https://cdn.pydata.org/bokeh/release/bokeh-tables-0.12.15.min.js\", \"https://cdn.pydata.org/bokeh/release/bokeh-gl-0.12.15.min.js\"];\n",
       "\n",
       "  var inline_js = [\n",
       "    function(Bokeh) {\n",
       "      Bokeh.set_log_level(\"info\");\n",
       "    },\n",
       "    \n",
       "    function(Bokeh) {\n",
       "      \n",
       "    },\n",
       "    function(Bokeh) {\n",
       "      console.log(\"Bokeh: injecting CSS: https://cdn.pydata.org/bokeh/release/bokeh-0.12.15.min.css\");\n",
       "      Bokeh.embed.inject_css(\"https://cdn.pydata.org/bokeh/release/bokeh-0.12.15.min.css\");\n",
       "      console.log(\"Bokeh: injecting CSS: https://cdn.pydata.org/bokeh/release/bokeh-widgets-0.12.15.min.css\");\n",
       "      Bokeh.embed.inject_css(\"https://cdn.pydata.org/bokeh/release/bokeh-widgets-0.12.15.min.css\");\n",
       "      console.log(\"Bokeh: injecting CSS: https://cdn.pydata.org/bokeh/release/bokeh-tables-0.12.15.min.css\");\n",
       "      Bokeh.embed.inject_css(\"https://cdn.pydata.org/bokeh/release/bokeh-tables-0.12.15.min.css\");\n",
       "    }\n",
       "  ];\n",
       "\n",
       "  function run_inline_js() {\n",
       "    \n",
       "    if ((root.Bokeh !== undefined) || (force === true)) {\n",
       "      for (var i = 0; i < inline_js.length; i++) {\n",
       "        inline_js[i].call(root, root.Bokeh);\n",
       "      }if (force === true) {\n",
       "        display_loaded();\n",
       "      }} else if (Date.now() < root._bokeh_timeout) {\n",
       "      setTimeout(run_inline_js, 100);\n",
       "    } else if (!root._bokeh_failed_load) {\n",
       "      console.log(\"Bokeh: BokehJS failed to load within specified timeout.\");\n",
       "      root._bokeh_failed_load = true;\n",
       "    } else if (force !== true) {\n",
       "      var cell = $(document.getElementById(\"3acb18c3-3cfd-460f-b469-0f030a19ee8b\")).parents('.cell').data().cell;\n",
       "      cell.output_area.append_execute_result(NB_LOAD_WARNING)\n",
       "    }\n",
       "\n",
       "  }\n",
       "\n",
       "  if (root._bokeh_is_loading === 0) {\n",
       "    console.log(\"Bokeh: BokehJS loaded, going straight to plotting\");\n",
       "    run_inline_js();\n",
       "  } else {\n",
       "    load_libs(js_urls, function() {\n",
       "      console.log(\"Bokeh: BokehJS plotting callback run at\", now());\n",
       "      run_inline_js();\n",
       "    });\n",
       "  }\n",
       "}(window));"
      ],
      "application/vnd.bokehjs_load.v0+json": "\n(function(root) {\n  function now() {\n    return new Date();\n  }\n\n  var force = true;\n\n  if (typeof (root._bokeh_onload_callbacks) === \"undefined\" || force === true) {\n    root._bokeh_onload_callbacks = [];\n    root._bokeh_is_loading = undefined;\n  }\n\n  \n\n  \n  if (typeof (root._bokeh_timeout) === \"undefined\" || force === true) {\n    root._bokeh_timeout = Date.now() + 5000;\n    root._bokeh_failed_load = false;\n  }\n\n  var NB_LOAD_WARNING = {'data': {'text/html':\n     \"<div style='background-color: #fdd'>\\n\"+\n     \"<p>\\n\"+\n     \"BokehJS does not appear to have successfully loaded. If loading BokehJS from CDN, this \\n\"+\n     \"may be due to a slow or bad network connection. Possible fixes:\\n\"+\n     \"</p>\\n\"+\n     \"<ul>\\n\"+\n     \"<li>re-rerun `output_notebook()` to attempt to load from CDN again, or</li>\\n\"+\n     \"<li>use INLINE resources instead, as so:</li>\\n\"+\n     \"</ul>\\n\"+\n     \"<code>\\n\"+\n     \"from bokeh.resources import INLINE\\n\"+\n     \"output_notebook(resources=INLINE)\\n\"+\n     \"</code>\\n\"+\n     \"</div>\"}};\n\n  function display_loaded() {\n    var el = document.getElementById(\"3acb18c3-3cfd-460f-b469-0f030a19ee8b\");\n    if (el != null) {\n      el.textContent = \"BokehJS is loading...\";\n    }\n    if (root.Bokeh !== undefined) {\n      if (el != null) {\n        el.textContent = \"BokehJS \" + root.Bokeh.version + \" successfully loaded.\";\n      }\n    } else if (Date.now() < root._bokeh_timeout) {\n      setTimeout(display_loaded, 100)\n    }\n  }\n\n\n  function run_callbacks() {\n    try {\n      root._bokeh_onload_callbacks.forEach(function(callback) { callback() });\n    }\n    finally {\n      delete root._bokeh_onload_callbacks\n    }\n    console.info(\"Bokeh: all callbacks have finished\");\n  }\n\n  function load_libs(js_urls, callback) {\n    root._bokeh_onload_callbacks.push(callback);\n    if (root._bokeh_is_loading > 0) {\n      console.log(\"Bokeh: BokehJS is being loaded, scheduling callback at\", now());\n      return null;\n    }\n    if (js_urls == null || js_urls.length === 0) {\n      run_callbacks();\n      return null;\n    }\n    console.log(\"Bokeh: BokehJS not loaded, scheduling load and callback at\", now());\n    root._bokeh_is_loading = js_urls.length;\n    for (var i = 0; i < js_urls.length; i++) {\n      var url = js_urls[i];\n      var s = document.createElement('script');\n      s.src = url;\n      s.async = false;\n      s.onreadystatechange = s.onload = function() {\n        root._bokeh_is_loading--;\n        if (root._bokeh_is_loading === 0) {\n          console.log(\"Bokeh: all BokehJS libraries loaded\");\n          run_callbacks()\n        }\n      };\n      s.onerror = function() {\n        console.warn(\"failed to load library \" + url);\n      };\n      console.log(\"Bokeh: injecting script tag for BokehJS library: \", url);\n      document.getElementsByTagName(\"head\")[0].appendChild(s);\n    }\n  };var element = document.getElementById(\"3acb18c3-3cfd-460f-b469-0f030a19ee8b\");\n  if (element == null) {\n    console.log(\"Bokeh: ERROR: autoload.js configured with elementid '3acb18c3-3cfd-460f-b469-0f030a19ee8b' but no matching script tag was found. \")\n    return false;\n  }\n\n  var js_urls = [\"https://cdn.pydata.org/bokeh/release/bokeh-0.12.15.min.js\", \"https://cdn.pydata.org/bokeh/release/bokeh-widgets-0.12.15.min.js\", \"https://cdn.pydata.org/bokeh/release/bokeh-tables-0.12.15.min.js\", \"https://cdn.pydata.org/bokeh/release/bokeh-gl-0.12.15.min.js\"];\n\n  var inline_js = [\n    function(Bokeh) {\n      Bokeh.set_log_level(\"info\");\n    },\n    \n    function(Bokeh) {\n      \n    },\n    function(Bokeh) {\n      console.log(\"Bokeh: injecting CSS: https://cdn.pydata.org/bokeh/release/bokeh-0.12.15.min.css\");\n      Bokeh.embed.inject_css(\"https://cdn.pydata.org/bokeh/release/bokeh-0.12.15.min.css\");\n      console.log(\"Bokeh: injecting CSS: https://cdn.pydata.org/bokeh/release/bokeh-widgets-0.12.15.min.css\");\n      Bokeh.embed.inject_css(\"https://cdn.pydata.org/bokeh/release/bokeh-widgets-0.12.15.min.css\");\n      console.log(\"Bokeh: injecting CSS: https://cdn.pydata.org/bokeh/release/bokeh-tables-0.12.15.min.css\");\n      Bokeh.embed.inject_css(\"https://cdn.pydata.org/bokeh/release/bokeh-tables-0.12.15.min.css\");\n    }\n  ];\n\n  function run_inline_js() {\n    \n    if ((root.Bokeh !== undefined) || (force === true)) {\n      for (var i = 0; i < inline_js.length; i++) {\n        inline_js[i].call(root, root.Bokeh);\n      }if (force === true) {\n        display_loaded();\n      }} else if (Date.now() < root._bokeh_timeout) {\n      setTimeout(run_inline_js, 100);\n    } else if (!root._bokeh_failed_load) {\n      console.log(\"Bokeh: BokehJS failed to load within specified timeout.\");\n      root._bokeh_failed_load = true;\n    } else if (force !== true) {\n      var cell = $(document.getElementById(\"3acb18c3-3cfd-460f-b469-0f030a19ee8b\")).parents('.cell').data().cell;\n      cell.output_area.append_execute_result(NB_LOAD_WARNING)\n    }\n\n  }\n\n  if (root._bokeh_is_loading === 0) {\n    console.log(\"Bokeh: BokehJS loaded, going straight to plotting\");\n    run_inline_js();\n  } else {\n    load_libs(js_urls, function() {\n      console.log(\"Bokeh: BokehJS plotting callback run at\", now());\n      run_inline_js();\n    });\n  }\n}(window));"
     },
     "metadata": {},
     "output_type": "display_data"
    }
   ],
   "source": [
    "import rasa_core\n",
    "from rasa_core.agent import Agent\n",
    "from bokeh.io import output_notebook\n",
    "agent = Agent.load(\"models/dialogue_embed\")\n",
    "# agent = Agent.load(\"models/dialogue_embed_before_norm_loss\")\n",
    "output_notebook()"
   ]
  },
  {
   "cell_type": "code",
   "execution_count": 62,
   "metadata": {},
   "outputs": [],
   "source": [
    "policy = agent.policy_ensemble.policies[0]\n",
    "interpreter = agent.interpreter"
   ]
  },
  {
   "cell_type": "code",
   "execution_count": 63,
   "metadata": {},
   "outputs": [],
   "source": [
    "domain = agent.domain\n"
   ]
  },
  {
   "cell_type": "code",
   "execution_count": 64,
   "metadata": {},
   "outputs": [],
   "source": [
    "from rasa_core.training.structures import StoryGraph\n",
    "from rasa_core.training.dsl import StoryFileReader\n",
    "from rasa_core.trackers import DialogueStateTracker\n",
    "from rasa_core.channels import UserMessage\n",
    "import numpy as np\n",
    "\n",
    "def embedding_from_tracker(story, bot=False):\n",
    "    reader = StoryFileReader(domain, interpreter)\n",
    "    story = story.split('\\n')\n",
    "    story_steps = reader.process_lines(story)\n",
    "#     story_graph = StoryGraph(story_steps)\n",
    "    tracker = DialogueStateTracker(\n",
    "            1,\n",
    "            domain.slots\n",
    "    )\n",
    "    tracker._reset()\n",
    "    for step in story_steps:\n",
    "        events = step.explicit_events(domain)\n",
    "        for event in events:\n",
    "            tracker.update(event)\n",
    "    data_X = policy.featurizer.create_X([tracker], domain)\n",
    "\n",
    "    X, slots, prev_act = policy._create_X_slots(data_X)\n",
    "    all_Y_d = policy._create_all_Y_d(X.shape[1])\n",
    "    all_Y_d_x = np.stack([all_Y_d for _ in range(X.shape[0])])\n",
    "    dial_vec = policy.session.run(policy.dial_embed, feed_dict={policy.a_in: X,\n",
    "                                           policy.b_in: all_Y_d_x,\n",
    "                                           policy.c_in: slots,\n",
    "                                           policy.b_prev_in: prev_act})\n",
    "    bot_vec = policy.session.run(policy.bot_embed, feed_dict={policy.a_in: X,\n",
    "                                           policy.b_in: all_Y_d_x,\n",
    "                                           policy.c_in: slots,\n",
    "                                           policy.b_prev_in: prev_act})\n",
    "    \n",
    "    skip_gate = policy.session.run(policy.skip_gate, feed_dict={policy.a_in: X,\n",
    "                                           policy.b_in: all_Y_d_x,\n",
    "                                           policy.c_in: slots,\n",
    "                                           policy.b_prev_in: prev_act})\n",
    "    copy_gate = policy.session.run(policy.copy_gate, feed_dict={policy.a_in: X,\n",
    "                                           policy.b_in: all_Y_d_x,\n",
    "                                           policy.c_in: slots,\n",
    "                                           policy.b_prev_in: prev_act})\n",
    "    attn_prev_act_embed = policy.session.run(policy.attn_prev_act_embed,\n",
    "                                             feed_dict={policy.a_in: X,\n",
    "                                           policy.b_in: all_Y_d_x,\n",
    "                                           policy.c_in: slots,\n",
    "                                           policy.b_prev_in: prev_act})\n",
    "    rnn_embed = policy.session.run(policy.rnn_embed, feed_dict={policy.a_in: X,\n",
    "                                           policy.b_in: all_Y_d_x,\n",
    "                                           policy.c_in: slots,\n",
    "                                           policy.b_prev_in: prev_act})\n",
    "\n",
    "    del tracker\n",
    "#     print(np.shape(dial_vec))\n",
    "    if bot is False:\n",
    "        return (dial_vec[0,-2,:],\n",
    "                copy_gate[0,-2,:],\n",
    "                attn_prev_act_embed[0,-2,:],\n",
    "                rnn_embed[0,-2,:],\n",
    "                skip_gate[0,-2,:])\n",
    "    else:\n",
    "        return bot_vec\n",
    "    \n",
    "def make_prediction(story):\n",
    "    dial, _,_,_,_ = embedding_from_tracker(story, bot=False)\n",
    "    bot = embedding_from_tracker(story, bot=True)[0,-2,:,:]\n",
    "    abs_vals = np.array([np.absolute(vec) for vec in bot])\n",
    "    norms = np.apply_along_axis(np.linalg.norm, 1, bot)\n",
    "    return domain.action_for_index(np.argmax(np.dot(bot, dial)/norms)).name()\n",
    "#     print(dial.shape, bot.shape)"
   ]
  },
  {
   "cell_type": "code",
   "execution_count": 65,
   "metadata": {},
   "outputs": [
    {
     "name": "stdout",
     "output_type": "stream",
     "text": [
      "47\n",
      "27\n"
     ]
    }
   ],
   "source": [
    "# print(domain.intents)\n",
    "story_block = \"\"\"* request_hotel\n",
    "    - utter_ask_details\n",
    "* explain\n",
    "    - utter_explain_details_hotel\n",
    "    - utter_ask_details\n",
    "* chitchat\n",
    "    - utter_chitchat\n",
    "    - utter_ask_details\n",
    "* inform{\"enddate\": \"May 26th\"}\n",
    "    - slot{\"enddate\": \"May 26th\"}\n",
    "    - utter_ask_startdate\n",
    "* inform{\"startdate\": \"next week\"}\n",
    "    - slot{\"startdate\": \"next week\"}\n",
    "    - utter_ask_location\n",
    "* explain\n",
    "    - utter_explain_location_hotel\n",
    "    - utter_ask_location\n",
    "* inform{\"location\": \"rome\"}\n",
    "    - slot{\"location\": \"rome\"}\n",
    "    - utter_ask_price\n",
    "* chitchat\n",
    "    - utter_chitchat\n",
    "    - utter_ask_price\n",
    "* chitchat\n",
    "    - utter_chitchat\n",
    "    - utter_ask_price\n",
    "* chitchat\n",
    "    - utter_chitchat\n",
    "    - utter_ask_price\n",
    "* chitchat\n",
    "    - utter_chitchat\n",
    "    - utter_ask_price\n",
    "* explain\n",
    "    - utter_explain_price_hotel\n",
    "    - utter_ask_price\n",
    "* inform{\"price\": \"expensive\"}\n",
    "    - utter_ask_people\n",
    "* inform{\"people\": \"4\"}\n",
    "    - utter_filled_slots\n",
    "    - action_search_hotel\n",
    "    - slot{\"hotel\": \"hotel\"}\n",
    "    - utter_suggest_hotel\n",
    "* chitchat\n",
    "    - utter_chitchat\n",
    "    - utter_suggest_hotel\n",
    "* affirm\n",
    "    - utter_happy\"\"\"\n",
    "print(len(story_block.split('\\n')))\n",
    "cool_list = []\n",
    "lines = story_block.split('\\n')\n",
    "for idx, line in enumerate(lines):\n",
    "    if idx == len(lines)-1:\n",
    "        continue\n",
    "    if '*' in lines[idx+1] or 'slot{' in lines[idx+1]:# or 'slot{' in line:\n",
    "        continue\n",
    "    sub_story = '\\n'.join(lines[:idx+1])\n",
    "    (dial, copy, attn, rnn, skip\n",
    "    ) = embedding_from_tracker(\"#generate story\\n{}\".format(sub_story))\n",
    "    pred = make_prediction(\"#generate story\\n{}\".format(sub_story))\n",
    "    cool_list.append((lines[idx+1], dial, pred, copy, attn, rnn, skip))\n",
    "\n",
    "print(len(cool_list))\n",
    "#     break\n",
    "# dial = embedding_from_tracker(\"#generate story\\n{}\".format(story_block)\n",
    "# )\n",
    "# print(dial.shape)\n",
    "# print(len(story_block.split('\\n')))"
   ]
  },
  {
   "cell_type": "code",
   "execution_count": 66,
   "metadata": {},
   "outputs": [],
   "source": [
    "from sklearn.decomposition import PCA"
   ]
  },
  {
   "cell_type": "code",
   "execution_count": 67,
   "metadata": {},
   "outputs": [],
   "source": [
    "pca = PCA(n_components=2)\n",
    "X = pca.fit_transform([ting[1] for ting in cool_list])"
   ]
  },
  {
   "cell_type": "code",
   "execution_count": 68,
   "metadata": {},
   "outputs": [],
   "source": [
    "from bokeh.plotting import figure, show\n",
    "import matplotlib.pyplot as plt"
   ]
  },
  {
   "cell_type": "code",
   "execution_count": 69,
   "metadata": {},
   "outputs": [],
   "source": [
    "embed_dim = cool_list[0][1].shape[0]"
   ]
  },
  {
   "cell_type": "code",
   "execution_count": 70,
   "metadata": {},
   "outputs": [
    {
     "data": {
      "text/html": [
       "<div style=\"display: table;\"><div style=\"display: table-row;\"><div style=\"display: table-cell;\"><b title=\"bokeh.models.renderers.GlyphRenderer\">GlyphRenderer</b>(</div><div style=\"display: table-cell;\">id&nbsp;=&nbsp;'93c540d2-caaa-477f-b339-31c41099fa88', <span id=\"4b332914-0963-4258-a3c4-b016c2ff3498\" style=\"cursor: pointer;\">&hellip;)</span></div></div><div class=\"a8777fcb-dfa9-4c3b-8b10-928c154a4aac\" style=\"display: none;\"><div style=\"display: table-cell;\"></div><div style=\"display: table-cell;\">data_source&nbsp;=&nbsp;ColumnDataSource(id='4e5e5c8b-9813-40a4-9fa3-6684db3dd37c', ...),</div></div><div class=\"a8777fcb-dfa9-4c3b-8b10-928c154a4aac\" style=\"display: none;\"><div style=\"display: table-cell;\"></div><div style=\"display: table-cell;\">glyph&nbsp;=&nbsp;Circle(id='4d16c4e5-2921-461e-b52e-abf886fa1eee', ...),</div></div><div class=\"a8777fcb-dfa9-4c3b-8b10-928c154a4aac\" style=\"display: none;\"><div style=\"display: table-cell;\"></div><div style=\"display: table-cell;\">hover_glyph&nbsp;=&nbsp;None,</div></div><div class=\"a8777fcb-dfa9-4c3b-8b10-928c154a4aac\" style=\"display: none;\"><div style=\"display: table-cell;\"></div><div style=\"display: table-cell;\">js_event_callbacks&nbsp;=&nbsp;{},</div></div><div class=\"a8777fcb-dfa9-4c3b-8b10-928c154a4aac\" style=\"display: none;\"><div style=\"display: table-cell;\"></div><div style=\"display: table-cell;\">js_property_callbacks&nbsp;=&nbsp;{},</div></div><div class=\"a8777fcb-dfa9-4c3b-8b10-928c154a4aac\" style=\"display: none;\"><div style=\"display: table-cell;\"></div><div style=\"display: table-cell;\">level&nbsp;=&nbsp;'glyph',</div></div><div class=\"a8777fcb-dfa9-4c3b-8b10-928c154a4aac\" style=\"display: none;\"><div style=\"display: table-cell;\"></div><div style=\"display: table-cell;\">muted&nbsp;=&nbsp;False,</div></div><div class=\"a8777fcb-dfa9-4c3b-8b10-928c154a4aac\" style=\"display: none;\"><div style=\"display: table-cell;\"></div><div style=\"display: table-cell;\">muted_glyph&nbsp;=&nbsp;None,</div></div><div class=\"a8777fcb-dfa9-4c3b-8b10-928c154a4aac\" style=\"display: none;\"><div style=\"display: table-cell;\"></div><div style=\"display: table-cell;\">name&nbsp;=&nbsp;None,</div></div><div class=\"a8777fcb-dfa9-4c3b-8b10-928c154a4aac\" style=\"display: none;\"><div style=\"display: table-cell;\"></div><div style=\"display: table-cell;\">nonselection_glyph&nbsp;=&nbsp;Circle(id='98b79182-d871-4ada-b58a-ede7a7b58ef2', ...),</div></div><div class=\"a8777fcb-dfa9-4c3b-8b10-928c154a4aac\" style=\"display: none;\"><div style=\"display: table-cell;\"></div><div style=\"display: table-cell;\">selection_glyph&nbsp;=&nbsp;None,</div></div><div class=\"a8777fcb-dfa9-4c3b-8b10-928c154a4aac\" style=\"display: none;\"><div style=\"display: table-cell;\"></div><div style=\"display: table-cell;\">subscribed_events&nbsp;=&nbsp;[],</div></div><div class=\"a8777fcb-dfa9-4c3b-8b10-928c154a4aac\" style=\"display: none;\"><div style=\"display: table-cell;\"></div><div style=\"display: table-cell;\">tags&nbsp;=&nbsp;[],</div></div><div class=\"a8777fcb-dfa9-4c3b-8b10-928c154a4aac\" style=\"display: none;\"><div style=\"display: table-cell;\"></div><div style=\"display: table-cell;\">view&nbsp;=&nbsp;CDSView(id='f5269404-1797-419b-ac5b-cd75927c4498', ...),</div></div><div class=\"a8777fcb-dfa9-4c3b-8b10-928c154a4aac\" style=\"display: none;\"><div style=\"display: table-cell;\"></div><div style=\"display: table-cell;\">visible&nbsp;=&nbsp;True,</div></div><div class=\"a8777fcb-dfa9-4c3b-8b10-928c154a4aac\" style=\"display: none;\"><div style=\"display: table-cell;\"></div><div style=\"display: table-cell;\">x_range_name&nbsp;=&nbsp;'default',</div></div><div class=\"a8777fcb-dfa9-4c3b-8b10-928c154a4aac\" style=\"display: none;\"><div style=\"display: table-cell;\"></div><div style=\"display: table-cell;\">y_range_name&nbsp;=&nbsp;'default')</div></div></div>\n",
       "<script>\n",
       "(function() {\n",
       "  var expanded = false;\n",
       "  var ellipsis = document.getElementById(\"4b332914-0963-4258-a3c4-b016c2ff3498\");\n",
       "  ellipsis.addEventListener(\"click\", function() {\n",
       "    var rows = document.getElementsByClassName(\"a8777fcb-dfa9-4c3b-8b10-928c154a4aac\");\n",
       "    for (var i = 0; i < rows.length; i++) {\n",
       "      var el = rows[i];\n",
       "      el.style.display = expanded ? \"none\" : \"table-row\";\n",
       "    }\n",
       "    ellipsis.innerHTML = expanded ? \"&hellip;)\" : \"&lsaquo;&lsaquo;&lsaquo;\";\n",
       "    expanded = !expanded;\n",
       "  });\n",
       "})();\n",
       "</script>\n"
      ],
      "text/plain": [
       "GlyphRenderer(id='93c540d2-caaa-477f-b339-31c41099fa88', ...)"
      ]
     },
     "execution_count": 70,
     "metadata": {},
     "output_type": "execute_result"
    }
   ],
   "source": [
    "from bokeh.plotting import figure, output_file, show, ColumnDataSource\n",
    "from bokeh.models import HoverTool, Arrow, OpenHead\n",
    "\n",
    "hover = HoverTool(tooltips=[(\"true action\",\"@desc\"), (\"prediction\", \"@pred\"),\n",
    "                            (\"copy_gate\", \"@copy\"), (\"skip_gate\", \"@skip\")],names=['circle'])\n",
    "p = figure( tools=[hover])\n",
    "\n",
    "for i in range(1, len(X)):\n",
    "    p.add_layout(Arrow(end=OpenHead(line_color=\"firebrick\", size=10, line_width=2),\n",
    "                       x_start=X[i-1,0], y_start=X[i-1,1],\n",
    "                       x_end=X[i,0], y_end=X[i,1], line_color='gray'))\n",
    "\n",
    "source = ColumnDataSource(data=dict(\n",
    "    x=X[:,0],\n",
    "    y=X[:,1],\n",
    "    desc=[ting[0] for ting in cool_list],\n",
    "    pred = [ting[2] for ting in cool_list],\n",
    "    copy = [ting[3] for ting in cool_list],\n",
    "    skip = [ting[6] for ting in cool_list]\n",
    "))\n",
    "p.circle('x','y', source=source, size=10, name='circle')\n",
    "# p.line(X[:,0], X[:,1])\n",
    "\n",
    "X1 = pca.transform([ting[4] for ting in cool_list])\n",
    "source = ColumnDataSource(data=dict(\n",
    "    x=X1[:,0],\n",
    "    y=X1[:,1],\n",
    "    desc=[ting[0] for ting in cool_list],\n",
    "    pred = [ting[2] for ting in cool_list],\n",
    "    copy = [ting[3] for ting in cool_list],\n",
    "    skip = [ting[6] for ting in cool_list]\n",
    "))\n",
    "p.circle('x','y', source=source, size=5, color='green', name='circle')\n",
    "\n",
    "X2 = pca.transform([ting[5] for ting in cool_list])\n",
    "source = ColumnDataSource(data=dict(\n",
    "    x=X2[:,0],\n",
    "    y=X2[:,1],\n",
    "    desc=[ting[0] for ting in cool_list],\n",
    "    pred = [ting[2] for ting in cool_list],\n",
    "    copy = [ting[3] for ting in cool_list],\n",
    "    skip = [ting[6] for ting in cool_list]\n",
    "))\n",
    "p.circle('x','y', source=source, size=5, color='red', name='circle')\n",
    "\n",
    "x = pca.transform(np.zeros((1,embed_dim)))\n",
    "p.circle(x[0,0], x[0,1], size=5, color='magenta')\n",
    "p.circle(X[0,0], X[0,1], size=10, color='green')\n",
    "p.circle(X[-1,0], X[-1,1], size=10, color='red')\n"
   ]
  },
  {
   "cell_type": "code",
   "execution_count": 71,
   "metadata": {},
   "outputs": [
    {
     "data": {
      "text/html": [
       "\n",
       "<div class=\"bk-root\">\n",
       "    <div class=\"bk-plotdiv\" id=\"91de7c95-45ea-42c0-ac58-8bda91b6c152\"></div>\n",
       "</div>"
      ]
     },
     "metadata": {},
     "output_type": "display_data"
    },
    {
     "data": {
      "application/javascript": [
       "(function(root) {\n",
       "  function embed_document(root) {\n",
       "    \n",
       "  var docs_json = {\"f26104cf-59b3-4c3c-862e-c9943d9158b8\":{\"roots\":{\"references\":[{\"attributes\":{\"line_color\":{\"value\":\"firebrick\"},\"line_width\":{\"value\":2},\"plot\":null,\"size\":10},\"id\":\"82f8aa85-5612-47cc-a2a6-20c745815207\",\"type\":\"OpenHead\"},{\"attributes\":{\"source\":{\"id\":\"3e9535e0-91b7-494a-9f63-41400511e1ef\",\"type\":\"ColumnDataSource\"}},\"id\":\"095c56db-23b8-4078-bb55-6a8ee791a101\",\"type\":\"CDSView\"},{\"attributes\":{\"end\":{\"id\":\"82f8aa85-5612-47cc-a2a6-20c745815207\",\"type\":\"OpenHead\"},\"line_color\":{\"value\":\"gray\"},\"plot\":{\"id\":\"bb740ed5-a277-4de5-b363-a2e871c80a0b\",\"subtype\":\"Figure\",\"type\":\"Plot\"},\"source\":null,\"start\":null,\"x_end\":{\"value\":-0.08531963105295988},\"x_start\":{\"value\":-0.17025506905106003},\"y_end\":{\"value\":-0.05239476555978906},\"y_start\":{\"value\":-0.04730366538253713}},\"id\":\"d7eabafb-2549-435f-b780-fd4e019a5210\",\"type\":\"Arrow\"},{\"attributes\":{\"line_color\":{\"value\":\"firebrick\"},\"line_width\":{\"value\":2},\"plot\":null,\"size\":10},\"id\":\"ddb219ce-3d76-410b-bbb8-540fdd172912\",\"type\":\"OpenHead\"},{\"attributes\":{\"line_color\":{\"value\":\"firebrick\"},\"line_width\":{\"value\":2},\"plot\":null,\"size\":10},\"id\":\"049d075b-51b6-4fd5-b15d-4348e2480aa1\",\"type\":\"OpenHead\"},{\"attributes\":{},\"id\":\"e643d5c3-d8cf-44b6-9c1c-f62876ce6802\",\"type\":\"BasicTickFormatter\"},{\"attributes\":{\"end\":{\"id\":\"ddb219ce-3d76-410b-bbb8-540fdd172912\",\"type\":\"OpenHead\"},\"line_color\":{\"value\":\"gray\"},\"plot\":{\"id\":\"bb740ed5-a277-4de5-b363-a2e871c80a0b\",\"subtype\":\"Figure\",\"type\":\"Plot\"},\"source\":null,\"start\":null,\"x_end\":{\"value\":0.09246929240170182},\"x_start\":{\"value\":-0.08531963105295988},\"y_end\":{\"value\":-0.04534831401796099},\"y_start\":{\"value\":-0.05239476555978906}},\"id\":\"1363b6a7-d58a-4703-a8e8-1c61010a5f36\",\"type\":\"Arrow\"},{\"attributes\":{\"line_color\":{\"value\":\"firebrick\"},\"line_width\":{\"value\":2},\"plot\":null,\"size\":10},\"id\":\"9415e494-8848-4e5f-b08d-744ff44fa452\",\"type\":\"OpenHead\"},{\"attributes\":{\"end\":{\"id\":\"049d075b-51b6-4fd5-b15d-4348e2480aa1\",\"type\":\"OpenHead\"},\"line_color\":{\"value\":\"gray\"},\"plot\":{\"id\":\"bb740ed5-a277-4de5-b363-a2e871c80a0b\",\"subtype\":\"Figure\",\"type\":\"Plot\"},\"source\":null,\"start\":null,\"x_end\":{\"value\":-0.06116030068151489},\"x_start\":{\"value\":0.09246929240170182},\"y_end\":{\"value\":0.050058499675879976},\"y_start\":{\"value\":-0.04534831401796099}},\"id\":\"ab118d69-b92e-4628-b051-87548cb088a1\",\"type\":\"Arrow\"},{\"attributes\":{\"line_color\":{\"value\":\"firebrick\"},\"line_width\":{\"value\":2},\"plot\":null,\"size\":10},\"id\":\"cfeee3f0-d36c-45fa-8b14-8785644fd373\",\"type\":\"OpenHead\"},{\"attributes\":{\"end\":{\"id\":\"9415e494-8848-4e5f-b08d-744ff44fa452\",\"type\":\"OpenHead\"},\"line_color\":{\"value\":\"gray\"},\"plot\":{\"id\":\"bb740ed5-a277-4de5-b363-a2e871c80a0b\",\"subtype\":\"Figure\",\"type\":\"Plot\"},\"source\":null,\"start\":null,\"x_end\":{\"value\":0.054266329906315955},\"x_start\":{\"value\":-0.06116030068151489},\"y_end\":{\"value\":-0.20831785588442414},\"y_start\":{\"value\":0.050058499675879976}},\"id\":\"73aaa8c4-3807-45a9-a294-0d449e8c8062\",\"type\":\"Arrow\"},{\"attributes\":{\"line_color\":{\"value\":\"firebrick\"},\"line_width\":{\"value\":2},\"plot\":null,\"size\":10},\"id\":\"eadf4021-2713-475a-8fa0-6b5cf777178e\",\"type\":\"OpenHead\"},{\"attributes\":{\"end\":{\"id\":\"cfeee3f0-d36c-45fa-8b14-8785644fd373\",\"type\":\"OpenHead\"},\"line_color\":{\"value\":\"gray\"},\"plot\":{\"id\":\"bb740ed5-a277-4de5-b363-a2e871c80a0b\",\"subtype\":\"Figure\",\"type\":\"Plot\"},\"source\":null,\"start\":null,\"x_end\":{\"value\":0.11833892997647619},\"x_start\":{\"value\":0.054266329906315955},\"y_end\":{\"value\":0.23375790615649503},\"y_start\":{\"value\":-0.20831785588442414}},\"id\":\"929c130b-31ce-4816-bc9e-1c19585fb0ff\",\"type\":\"Arrow\"},{\"attributes\":{\"line_color\":{\"value\":\"firebrick\"},\"line_width\":{\"value\":2},\"plot\":null,\"size\":10},\"id\":\"db789fcb-3916-40aa-b911-febdd648f442\",\"type\":\"OpenHead\"},{\"attributes\":{\"end\":{\"id\":\"eadf4021-2713-475a-8fa0-6b5cf777178e\",\"type\":\"OpenHead\"},\"line_color\":{\"value\":\"gray\"},\"plot\":{\"id\":\"bb740ed5-a277-4de5-b363-a2e871c80a0b\",\"subtype\":\"Figure\",\"type\":\"Plot\"},\"source\":null,\"start\":null,\"x_end\":{\"value\":0.08730531049480927},\"x_start\":{\"value\":0.11833892997647619},\"y_end\":{\"value\":-0.0349548407107104},\"y_start\":{\"value\":0.23375790615649503}},\"id\":\"729fff0f-721d-4886-aea5-d5491c45ddcd\",\"type\":\"Arrow\"},{\"attributes\":{\"source\":{\"id\":\"ef4672e3-f617-45b9-8ce0-08bb88e59e34\",\"type\":\"ColumnDataSource\"}},\"id\":\"6b92b531-6de5-4736-9167-070e6cd97375\",\"type\":\"CDSView\"},{\"attributes\":{\"end\":{\"id\":\"db789fcb-3916-40aa-b911-febdd648f442\",\"type\":\"OpenHead\"},\"line_color\":{\"value\":\"gray\"},\"plot\":{\"id\":\"bb740ed5-a277-4de5-b363-a2e871c80a0b\",\"subtype\":\"Figure\",\"type\":\"Plot\"},\"source\":null,\"start\":null,\"x_end\":{\"value\":0.10742846419166471},\"x_start\":{\"value\":0.08730531049480927},\"y_end\":{\"value\":0.03134678056404985},\"y_start\":{\"value\":-0.0349548407107104}},\"id\":\"4b866a88-bb83-47ec-b04a-003e99b3f0d6\",\"type\":\"Arrow\"},{\"attributes\":{\"plot\":null,\"text\":\"\"},\"id\":\"d35d8ba5-c352-41ec-9808-2f60cbac731f\",\"type\":\"Title\"},{\"attributes\":{\"source\":{\"id\":\"6c58fc0d-8f31-4880-8f77-1a14d1341316\",\"type\":\"ColumnDataSource\"}},\"id\":\"7b3d9da6-c8ab-496c-a924-f78e87118269\",\"type\":\"CDSView\"},{\"attributes\":{},\"id\":\"b3958686-e1d2-485a-a310-06a076e473a1\",\"type\":\"BasicTickFormatter\"},{\"attributes\":{\"below\":[{\"id\":\"f8ba1cc8-81ae-4ec7-a31e-06064b41275f\",\"type\":\"LinearAxis\"}],\"left\":[{\"id\":\"b32111ce-439d-4f79-84d1-0b511e2e597f\",\"type\":\"LinearAxis\"}],\"renderers\":[{\"id\":\"f8ba1cc8-81ae-4ec7-a31e-06064b41275f\",\"type\":\"LinearAxis\"},{\"id\":\"b5b9f640-9e00-4609-a2ad-6b70abd06a97\",\"type\":\"Grid\"},{\"id\":\"b32111ce-439d-4f79-84d1-0b511e2e597f\",\"type\":\"LinearAxis\"},{\"id\":\"ac41cacd-0073-42c3-bc6d-9271281dfa6b\",\"type\":\"Grid\"},{\"id\":\"991e437d-e6a6-4d98-b188-ffc41eb6460c\",\"type\":\"Arrow\"},{\"id\":\"9b8a7b03-cd10-4dbb-93fb-725bf5b640ad\",\"type\":\"Arrow\"},{\"id\":\"e42616b7-a07c-4ad9-b253-7118a549960c\",\"type\":\"Arrow\"},{\"id\":\"d6c910a2-5866-4f02-9f2b-af31b59df6c2\",\"type\":\"Arrow\"},{\"id\":\"75a6950c-c660-4670-8f57-3fa956e532ac\",\"type\":\"Arrow\"},{\"id\":\"7e88c562-894c-43ad-91ec-9700d2bde273\",\"type\":\"Arrow\"},{\"id\":\"fd800089-d190-4d6d-93bb-e80f6b729c81\",\"type\":\"Arrow\"},{\"id\":\"235f943a-d06d-4106-b8ca-5d70fe32dc7e\",\"type\":\"Arrow\"},{\"id\":\"bcd34974-4f6a-4f60-851d-b32898e9a386\",\"type\":\"Arrow\"},{\"id\":\"48a456fe-ad15-48ed-a341-87e445502876\",\"type\":\"Arrow\"},{\"id\":\"438a1b39-f976-41d4-83ab-95eb2e92c086\",\"type\":\"Arrow\"},{\"id\":\"17d104fa-b0dc-45ed-9ec3-3e9eab506f56\",\"type\":\"Arrow\"},{\"id\":\"bc66d813-8042-4565-b805-70dcaf330921\",\"type\":\"Arrow\"},{\"id\":\"8bc9f4f6-c249-4a7d-a8e3-178a80d8a0b1\",\"type\":\"Arrow\"},{\"id\":\"1ea2fc08-4398-4745-9002-8bb14d6bbe56\",\"type\":\"Arrow\"},{\"id\":\"51ae6bce-36ae-4e91-86d5-50c778fffa67\",\"type\":\"Arrow\"},{\"id\":\"7090937b-41d3-464e-b500-0bc2e0d7bfcf\",\"type\":\"Arrow\"},{\"id\":\"0ceb9506-8790-4dba-af7e-7d9c044ee057\",\"type\":\"Arrow\"},{\"id\":\"72d9a37f-88b4-4361-90f3-440dec6ed79f\",\"type\":\"Arrow\"},{\"id\":\"d7eabafb-2549-435f-b780-fd4e019a5210\",\"type\":\"Arrow\"},{\"id\":\"1363b6a7-d58a-4703-a8e8-1c61010a5f36\",\"type\":\"Arrow\"},{\"id\":\"ab118d69-b92e-4628-b051-87548cb088a1\",\"type\":\"Arrow\"},{\"id\":\"73aaa8c4-3807-45a9-a294-0d449e8c8062\",\"type\":\"Arrow\"},{\"id\":\"929c130b-31ce-4816-bc9e-1c19585fb0ff\",\"type\":\"Arrow\"},{\"id\":\"729fff0f-721d-4886-aea5-d5491c45ddcd\",\"type\":\"Arrow\"},{\"id\":\"4b866a88-bb83-47ec-b04a-003e99b3f0d6\",\"type\":\"Arrow\"},{\"id\":\"cc017995-5989-4cd7-9d63-0dfb72c48bb9\",\"type\":\"GlyphRenderer\"},{\"id\":\"92f74bac-fbf2-4573-83dc-f34268941b77\",\"type\":\"GlyphRenderer\"},{\"id\":\"00a0a234-8928-4417-8195-3ec259401a8b\",\"type\":\"GlyphRenderer\"},{\"id\":\"868bbcf6-aef1-4141-b87a-df23e40755e8\",\"type\":\"GlyphRenderer\"},{\"id\":\"fa34e4bb-5038-4ac2-ba49-13598e1a978c\",\"type\":\"GlyphRenderer\"},{\"id\":\"93c540d2-caaa-477f-b339-31c41099fa88\",\"type\":\"GlyphRenderer\"}],\"title\":{\"id\":\"d35d8ba5-c352-41ec-9808-2f60cbac731f\",\"type\":\"Title\"},\"toolbar\":{\"id\":\"b659c297-dbad-4e7a-ae19-94353f3614d1\",\"type\":\"Toolbar\"},\"x_range\":{\"id\":\"cbe0f22b-4605-4e6c-833b-e2cb172ad5c3\",\"type\":\"DataRange1d\"},\"x_scale\":{\"id\":\"53395d3a-c8a3-4e42-b879-532539857749\",\"type\":\"LinearScale\"},\"y_range\":{\"id\":\"c0cb4c5c-3efa-41ec-b5d9-87969a0fd5c7\",\"type\":\"DataRange1d\"},\"y_scale\":{\"id\":\"460049d4-eb19-43b1-9463-02b0f6df6d24\",\"type\":\"LinearScale\"}},\"id\":\"bb740ed5-a277-4de5-b363-a2e871c80a0b\",\"subtype\":\"Figure\",\"type\":\"Plot\"},{\"attributes\":{\"fill_color\":{\"value\":\"#1f77b4\"},\"line_color\":{\"value\":\"#1f77b4\"},\"size\":{\"units\":\"screen\",\"value\":10},\"x\":{\"field\":\"x\"},\"y\":{\"field\":\"y\"}},\"id\":\"fda9e734-7084-4868-be8a-f62976d6af70\",\"type\":\"Circle\"},{\"attributes\":{\"fill_alpha\":{\"value\":0.1},\"fill_color\":{\"value\":\"#1f77b4\"},\"line_alpha\":{\"value\":0.1},\"line_color\":{\"value\":\"#1f77b4\"},\"size\":{\"units\":\"screen\",\"value\":10},\"x\":{\"field\":\"x\"},\"y\":{\"field\":\"y\"}},\"id\":\"3cb70dea-5e13-4dd9-9b4a-6860dd788168\",\"type\":\"Circle\"},{\"attributes\":{\"callback\":null,\"names\":[\"circle\"],\"tooltips\":[[\"true action\",\"@desc\"],[\"prediction\",\"@pred\"],[\"copy_gate\",\"@copy\"],[\"skip_gate\",\"@skip\"]]},\"id\":\"80919d7f-1e1b-41a7-870e-4ca07aa68a92\",\"type\":\"HoverTool\"},{\"attributes\":{\"data_source\":{\"id\":\"ef4672e3-f617-45b9-8ce0-08bb88e59e34\",\"type\":\"ColumnDataSource\"},\"glyph\":{\"id\":\"fda9e734-7084-4868-be8a-f62976d6af70\",\"type\":\"Circle\"},\"hover_glyph\":null,\"muted_glyph\":null,\"name\":\"circle\",\"nonselection_glyph\":{\"id\":\"3cb70dea-5e13-4dd9-9b4a-6860dd788168\",\"type\":\"Circle\"},\"selection_glyph\":null,\"view\":{\"id\":\"6b92b531-6de5-4736-9167-070e6cd97375\",\"type\":\"CDSView\"}},\"id\":\"cc017995-5989-4cd7-9d63-0dfb72c48bb9\",\"type\":\"GlyphRenderer\"},{\"attributes\":{\"line_color\":{\"value\":\"firebrick\"},\"line_width\":{\"value\":2},\"plot\":null,\"size\":10},\"id\":\"a6ac8b5e-fa4b-4286-94ed-04b1e5c12059\",\"type\":\"OpenHead\"},{\"attributes\":{\"line_color\":{\"value\":\"firebrick\"},\"line_width\":{\"value\":2},\"plot\":null,\"size\":10},\"id\":\"a8bb2f45-f494-41f2-b0cb-06d019c41b00\",\"type\":\"OpenHead\"},{\"attributes\":{\"callback\":null,\"column_names\":[\"x\",\"y\",\"desc\",\"pred\",\"copy\",\"skip\"],\"data\":{\"copy\":[{\"__ndarray__\":\"mEc1Pg==\",\"dtype\":\"float32\",\"shape\":[1]},{\"__ndarray__\":\"Hcx/Pg==\",\"dtype\":\"float32\",\"shape\":[1]},{\"__ndarray__\":\"QP2+Pg==\",\"dtype\":\"float32\",\"shape\":[1]},{\"__ndarray__\":\"4AD5PQ==\",\"dtype\":\"float32\",\"shape\":[1]},{\"__ndarray__\":\"nqz2Pg==\",\"dtype\":\"float32\",\"shape\":[1]},{\"__ndarray__\":\"Qc4bPQ==\",\"dtype\":\"float32\",\"shape\":[1]},{\"__ndarray__\":\"66ebPQ==\",\"dtype\":\"float32\",\"shape\":[1]},{\"__ndarray__\":\"gDSePg==\",\"dtype\":\"float32\",\"shape\":[1]},{\"__ndarray__\":\"dsDQPg==\",\"dtype\":\"float32\",\"shape\":[1]},{\"__ndarray__\":\"LIY3PQ==\",\"dtype\":\"float32\",\"shape\":[1]},{\"__ndarray__\":\"A9wRPg==\",\"dtype\":\"float32\",\"shape\":[1]},{\"__ndarray__\":\"pKL4Pg==\",\"dtype\":\"float32\",\"shape\":[1]},{\"__ndarray__\":\"CeMNPg==\",\"dtype\":\"float32\",\"shape\":[1]},{\"__ndarray__\":\"ZibxPg==\",\"dtype\":\"float32\",\"shape\":[1]},{\"__ndarray__\":\"utAOPg==\",\"dtype\":\"float32\",\"shape\":[1]},{\"__ndarray__\":\"7H3pPg==\",\"dtype\":\"float32\",\"shape\":[1]},{\"__ndarray__\":\"WaYSPg==\",\"dtype\":\"float32\",\"shape\":[1]},{\"__ndarray__\":\"TeHqPg==\",\"dtype\":\"float32\",\"shape\":[1]},{\"__ndarray__\":\"SMWrPg==\",\"dtype\":\"float32\",\"shape\":[1]},{\"__ndarray__\":\"p3LcPg==\",\"dtype\":\"float32\",\"shape\":[1]},{\"__ndarray__\":\"w9WwPQ==\",\"dtype\":\"float32\",\"shape\":[1]},{\"__ndarray__\":\"Q7m1PQ==\",\"dtype\":\"float32\",\"shape\":[1]},{\"__ndarray__\":\"8CvdPg==\",\"dtype\":\"float32\",\"shape\":[1]},{\"__ndarray__\":\"pyLvPg==\",\"dtype\":\"float32\",\"shape\":[1]},{\"__ndarray__\":\"3T5wPg==\",\"dtype\":\"float32\",\"shape\":[1]},{\"__ndarray__\":\"2KUWPw==\",\"dtype\":\"float32\",\"shape\":[1]},{\"__ndarray__\":\"xfqWPg==\",\"dtype\":\"float32\",\"shape\":[1]}],\"desc\":[\"    - utter_ask_details\",\"    - utter_explain_details_hotel\",\"    - utter_ask_details\",\"    - utter_chitchat\",\"    - utter_ask_details\",\"    - utter_ask_startdate\",\"    - utter_ask_location\",\"    - utter_explain_location_hotel\",\"    - utter_ask_location\",\"    - utter_ask_price\",\"    - utter_chitchat\",\"    - utter_ask_price\",\"    - utter_chitchat\",\"    - utter_ask_price\",\"    - utter_chitchat\",\"    - utter_ask_price\",\"    - utter_chitchat\",\"    - utter_ask_price\",\"    - utter_explain_price_hotel\",\"    - utter_ask_price\",\"    - utter_ask_people\",\"    - utter_filled_slots\",\"    - action_search_hotel\",\"    - utter_suggest_hotel\",\"    - utter_chitchat\",\"    - utter_suggest_hotel\",\"    - utter_happy\"],\"pred\":[\"utter_ask_details\",\"utter_explain_enddate_hotel\",\"action_listen\",\"utter_chitchat\",\"utter_ask_details\",\"utter_ask_startdate\",\"utter_ask_location\",\"action_listen\",\"utter_ask_location\",\"utter_ask_price\",\"utter_chitchat\",\"utter_ask_price\",\"utter_chitchat\",\"utter_ask_price\",\"utter_worked_hotel\",\"utter_ask_price\",\"utter_worked_hotel\",\"utter_ask_price\",\"action_listen\",\"utter_ask_price\",\"utter_worked_hotel\",\"utter_filled_slots\",\"action_search_hotel\",\"utter_suggest_hotel\",\"utter_chitchat\",\"action_listen\",\"action_listen\"],\"skip\":[{\"__ndarray__\":\"AAAAAA==\",\"dtype\":\"float32\",\"shape\":[1]},{\"__ndarray__\":\"AAAAAA==\",\"dtype\":\"float32\",\"shape\":[1]},{\"__ndarray__\":\"AAAAAA==\",\"dtype\":\"float32\",\"shape\":[1]},{\"__ndarray__\":\"AAAAAA==\",\"dtype\":\"float32\",\"shape\":[1]},{\"__ndarray__\":\"AAAAAA==\",\"dtype\":\"float32\",\"shape\":[1]},{\"__ndarray__\":\"AAAAAA==\",\"dtype\":\"float32\",\"shape\":[1]},{\"__ndarray__\":\"AAAAAA==\",\"dtype\":\"float32\",\"shape\":[1]},{\"__ndarray__\":\"AAAAAA==\",\"dtype\":\"float32\",\"shape\":[1]},{\"__ndarray__\":\"AAAAAA==\",\"dtype\":\"float32\",\"shape\":[1]},{\"__ndarray__\":\"AAAAAA==\",\"dtype\":\"float32\",\"shape\":[1]},{\"__ndarray__\":\"AAAAAA==\",\"dtype\":\"float32\",\"shape\":[1]},{\"__ndarray__\":\"AAAAAA==\",\"dtype\":\"float32\",\"shape\":[1]},{\"__ndarray__\":\"AAAAAA==\",\"dtype\":\"float32\",\"shape\":[1]},{\"__ndarray__\":\"AAAAAA==\",\"dtype\":\"float32\",\"shape\":[1]},{\"__ndarray__\":\"AAAAAA==\",\"dtype\":\"float32\",\"shape\":[1]},{\"__ndarray__\":\"AAAAAA==\",\"dtype\":\"float32\",\"shape\":[1]},{\"__ndarray__\":\"AAAAAA==\",\"dtype\":\"float32\",\"shape\":[1]},{\"__ndarray__\":\"AAAAAA==\",\"dtype\":\"float32\",\"shape\":[1]},{\"__ndarray__\":\"AAAAAA==\",\"dtype\":\"float32\",\"shape\":[1]},{\"__ndarray__\":\"AAAAAA==\",\"dtype\":\"float32\",\"shape\":[1]},{\"__ndarray__\":\"AAAAAA==\",\"dtype\":\"float32\",\"shape\":[1]},{\"__ndarray__\":\"AAAAAA==\",\"dtype\":\"float32\",\"shape\":[1]},{\"__ndarray__\":\"AAAAAA==\",\"dtype\":\"float32\",\"shape\":[1]},{\"__ndarray__\":\"AAAAAA==\",\"dtype\":\"float32\",\"shape\":[1]},{\"__ndarray__\":\"AAAAAA==\",\"dtype\":\"float32\",\"shape\":[1]},{\"__ndarray__\":\"AAAAAA==\",\"dtype\":\"float32\",\"shape\":[1]},{\"__ndarray__\":\"AAAAAA==\",\"dtype\":\"float32\",\"shape\":[1]}],\"x\":{\"__ndarray__\":\"JiO4FcHDxz/ziyo3uQHCP7uOPf0l7cY/7jBLQixvzD+3dRnqVZjJPz66Dfeds7k/arW97sDuwT/p97i6N/ewP9wccXYvAcE/tb5sGZZ0w79GkJezHEGqvyPpG4fWBr+/k50vfGb1wL+/7hl2WVTEv49nZwQGh8a/x2Rq4HN0x7/RhRHm033Jv7cwbiu8+si/riWOTqUJwr8gucYI68rFv6VJFOGB17W/3OO/ShGstz8+NHsmZ1Cvvx5yceDLyKs/lrQXynVLvj8Io1cNpFm2P17aXIxugLs/\",\"dtype\":\"float64\",\"shape\":[27]},\"y\":{\"__ndarray__\":\"srcx3USpur9qR/jzLcinvyMqENO6Z6e/jWgoe6JMzz8M66SqFmWdPxsG5knWiau/zwZNkLUPt78qBAILd7Klv75Fr9XPla+/fHe6Zbufsb+hCR3M1RzIP8AEUrsfKa6/FiMyu9B9xj9RhN8E21+zvyd0q47yecA/30KxY3DGs7+8dl9Hz1m+P/gtgG/GXLS/jIg9cjSdfL+bDJmfLziov9ArH5l806q/K5JF6+Q3p79lTf2FRKGpPwolGdUoqsq/k9EPccfrzT/N92DTmeWhv/QHt2qvDKA/\",\"dtype\":\"float64\",\"shape\":[27]}},\"selected\":null,\"selection_policy\":null},\"id\":\"ef4672e3-f617-45b9-8ce0-08bb88e59e34\",\"type\":\"ColumnDataSource\"},{\"attributes\":{\"source\":{\"id\":\"06710cf7-e925-4659-bf50-54628152deec\",\"type\":\"ColumnDataSource\"}},\"id\":\"a602846a-4548-46cc-857e-e9848f28aa01\",\"type\":\"CDSView\"},{\"attributes\":{\"active_drag\":\"auto\",\"active_inspect\":\"auto\",\"active_scroll\":\"auto\",\"active_tap\":\"auto\",\"tools\":[{\"id\":\"80919d7f-1e1b-41a7-870e-4ca07aa68a92\",\"type\":\"HoverTool\"}]},\"id\":\"b659c297-dbad-4e7a-ae19-94353f3614d1\",\"type\":\"Toolbar\"},{\"attributes\":{\"fill_color\":{\"value\":\"green\"},\"line_color\":{\"value\":\"green\"},\"size\":{\"units\":\"screen\",\"value\":10},\"x\":{\"value\":0.18566144524108913},\"y\":{\"value\":-0.10414533996819733}},\"id\":\"54715581-00b2-44a4-b949-7b4725a03e3f\",\"type\":\"Circle\"},{\"attributes\":{\"callback\":null},\"id\":\"c0cb4c5c-3efa-41ec-b5d9-87969a0fd5c7\",\"type\":\"DataRange1d\"},{\"attributes\":{\"fill_color\":{\"value\":\"magenta\"},\"line_color\":{\"value\":\"magenta\"},\"size\":{\"units\":\"screen\",\"value\":5},\"x\":{\"value\":0.10594704427043677},\"y\":{\"value\":-0.05903119942139191}},\"id\":\"62d93ff8-de8e-4f23-9b87-4b1e8c5a32d8\",\"type\":\"Circle\"},{\"attributes\":{\"data_source\":{\"id\":\"4af17c97-7e32-4764-acbd-875278a1bd3a\",\"type\":\"ColumnDataSource\"},\"glyph\":{\"id\":\"54715581-00b2-44a4-b949-7b4725a03e3f\",\"type\":\"Circle\"},\"hover_glyph\":null,\"muted_glyph\":null,\"nonselection_glyph\":{\"id\":\"098b0731-c786-4b2e-af91-8f631e684acb\",\"type\":\"Circle\"},\"selection_glyph\":null,\"view\":{\"id\":\"328bd2b4-4dd0-46b1-9c67-2db69dc3c3e2\",\"type\":\"CDSView\"}},\"id\":\"fa34e4bb-5038-4ac2-ba49-13598e1a978c\",\"type\":\"GlyphRenderer\"},{\"attributes\":{\"callback\":null},\"id\":\"cbe0f22b-4605-4e6c-833b-e2cb172ad5c3\",\"type\":\"DataRange1d\"},{\"attributes\":{\"line_color\":{\"value\":\"firebrick\"},\"line_width\":{\"value\":2},\"plot\":null,\"size\":10},\"id\":\"6271d654-cf91-4f89-8ba6-54fc8a863299\",\"type\":\"OpenHead\"},{\"attributes\":{\"callback\":null,\"column_names\":[\"x\",\"y\",\"desc\",\"pred\",\"copy\",\"skip\"],\"data\":{\"copy\":[{\"__ndarray__\":\"mEc1Pg==\",\"dtype\":\"float32\",\"shape\":[1]},{\"__ndarray__\":\"Hcx/Pg==\",\"dtype\":\"float32\",\"shape\":[1]},{\"__ndarray__\":\"QP2+Pg==\",\"dtype\":\"float32\",\"shape\":[1]},{\"__ndarray__\":\"4AD5PQ==\",\"dtype\":\"float32\",\"shape\":[1]},{\"__ndarray__\":\"nqz2Pg==\",\"dtype\":\"float32\",\"shape\":[1]},{\"__ndarray__\":\"Qc4bPQ==\",\"dtype\":\"float32\",\"shape\":[1]},{\"__ndarray__\":\"66ebPQ==\",\"dtype\":\"float32\",\"shape\":[1]},{\"__ndarray__\":\"gDSePg==\",\"dtype\":\"float32\",\"shape\":[1]},{\"__ndarray__\":\"dsDQPg==\",\"dtype\":\"float32\",\"shape\":[1]},{\"__ndarray__\":\"LIY3PQ==\",\"dtype\":\"float32\",\"shape\":[1]},{\"__ndarray__\":\"A9wRPg==\",\"dtype\":\"float32\",\"shape\":[1]},{\"__ndarray__\":\"pKL4Pg==\",\"dtype\":\"float32\",\"shape\":[1]},{\"__ndarray__\":\"CeMNPg==\",\"dtype\":\"float32\",\"shape\":[1]},{\"__ndarray__\":\"ZibxPg==\",\"dtype\":\"float32\",\"shape\":[1]},{\"__ndarray__\":\"utAOPg==\",\"dtype\":\"float32\",\"shape\":[1]},{\"__ndarray__\":\"7H3pPg==\",\"dtype\":\"float32\",\"shape\":[1]},{\"__ndarray__\":\"WaYSPg==\",\"dtype\":\"float32\",\"shape\":[1]},{\"__ndarray__\":\"TeHqPg==\",\"dtype\":\"float32\",\"shape\":[1]},{\"__ndarray__\":\"SMWrPg==\",\"dtype\":\"float32\",\"shape\":[1]},{\"__ndarray__\":\"p3LcPg==\",\"dtype\":\"float32\",\"shape\":[1]},{\"__ndarray__\":\"w9WwPQ==\",\"dtype\":\"float32\",\"shape\":[1]},{\"__ndarray__\":\"Q7m1PQ==\",\"dtype\":\"float32\",\"shape\":[1]},{\"__ndarray__\":\"8CvdPg==\",\"dtype\":\"float32\",\"shape\":[1]},{\"__ndarray__\":\"pyLvPg==\",\"dtype\":\"float32\",\"shape\":[1]},{\"__ndarray__\":\"3T5wPg==\",\"dtype\":\"float32\",\"shape\":[1]},{\"__ndarray__\":\"2KUWPw==\",\"dtype\":\"float32\",\"shape\":[1]},{\"__ndarray__\":\"xfqWPg==\",\"dtype\":\"float32\",\"shape\":[1]}],\"desc\":[\"    - utter_ask_details\",\"    - utter_explain_details_hotel\",\"    - utter_ask_details\",\"    - utter_chitchat\",\"    - utter_ask_details\",\"    - utter_ask_startdate\",\"    - utter_ask_location\",\"    - utter_explain_location_hotel\",\"    - utter_ask_location\",\"    - utter_ask_price\",\"    - utter_chitchat\",\"    - utter_ask_price\",\"    - utter_chitchat\",\"    - utter_ask_price\",\"    - utter_chitchat\",\"    - utter_ask_price\",\"    - utter_chitchat\",\"    - utter_ask_price\",\"    - utter_explain_price_hotel\",\"    - utter_ask_price\",\"    - utter_ask_people\",\"    - utter_filled_slots\",\"    - action_search_hotel\",\"    - utter_suggest_hotel\",\"    - utter_chitchat\",\"    - utter_suggest_hotel\",\"    - utter_happy\"],\"pred\":[\"utter_ask_details\",\"utter_explain_enddate_hotel\",\"action_listen\",\"utter_chitchat\",\"utter_ask_details\",\"utter_ask_startdate\",\"utter_ask_location\",\"action_listen\",\"utter_ask_location\",\"utter_ask_price\",\"utter_chitchat\",\"utter_ask_price\",\"utter_chitchat\",\"utter_ask_price\",\"utter_worked_hotel\",\"utter_ask_price\",\"utter_worked_hotel\",\"utter_ask_price\",\"action_listen\",\"utter_ask_price\",\"utter_worked_hotel\",\"utter_filled_slots\",\"action_search_hotel\",\"utter_suggest_hotel\",\"utter_chitchat\",\"action_listen\",\"action_listen\"],\"skip\":[{\"__ndarray__\":\"AAAAAA==\",\"dtype\":\"float32\",\"shape\":[1]},{\"__ndarray__\":\"AAAAAA==\",\"dtype\":\"float32\",\"shape\":[1]},{\"__ndarray__\":\"AAAAAA==\",\"dtype\":\"float32\",\"shape\":[1]},{\"__ndarray__\":\"AAAAAA==\",\"dtype\":\"float32\",\"shape\":[1]},{\"__ndarray__\":\"AAAAAA==\",\"dtype\":\"float32\",\"shape\":[1]},{\"__ndarray__\":\"AAAAAA==\",\"dtype\":\"float32\",\"shape\":[1]},{\"__ndarray__\":\"AAAAAA==\",\"dtype\":\"float32\",\"shape\":[1]},{\"__ndarray__\":\"AAAAAA==\",\"dtype\":\"float32\",\"shape\":[1]},{\"__ndarray__\":\"AAAAAA==\",\"dtype\":\"float32\",\"shape\":[1]},{\"__ndarray__\":\"AAAAAA==\",\"dtype\":\"float32\",\"shape\":[1]},{\"__ndarray__\":\"AAAAAA==\",\"dtype\":\"float32\",\"shape\":[1]},{\"__ndarray__\":\"AAAAAA==\",\"dtype\":\"float32\",\"shape\":[1]},{\"__ndarray__\":\"AAAAAA==\",\"dtype\":\"float32\",\"shape\":[1]},{\"__ndarray__\":\"AAAAAA==\",\"dtype\":\"float32\",\"shape\":[1]},{\"__ndarray__\":\"AAAAAA==\",\"dtype\":\"float32\",\"shape\":[1]},{\"__ndarray__\":\"AAAAAA==\",\"dtype\":\"float32\",\"shape\":[1]},{\"__ndarray__\":\"AAAAAA==\",\"dtype\":\"float32\",\"shape\":[1]},{\"__ndarray__\":\"AAAAAA==\",\"dtype\":\"float32\",\"shape\":[1]},{\"__ndarray__\":\"AAAAAA==\",\"dtype\":\"float32\",\"shape\":[1]},{\"__ndarray__\":\"AAAAAA==\",\"dtype\":\"float32\",\"shape\":[1]},{\"__ndarray__\":\"AAAAAA==\",\"dtype\":\"float32\",\"shape\":[1]},{\"__ndarray__\":\"AAAAAA==\",\"dtype\":\"float32\",\"shape\":[1]},{\"__ndarray__\":\"AAAAAA==\",\"dtype\":\"float32\",\"shape\":[1]},{\"__ndarray__\":\"AAAAAA==\",\"dtype\":\"float32\",\"shape\":[1]},{\"__ndarray__\":\"AAAAAA==\",\"dtype\":\"float32\",\"shape\":[1]},{\"__ndarray__\":\"AAAAAA==\",\"dtype\":\"float32\",\"shape\":[1]},{\"__ndarray__\":\"AAAAAA==\",\"dtype\":\"float32\",\"shape\":[1]}],\"x\":{\"__ndarray__\":\"m2Tfqrr4vD9yZRhxHPm8P1a+TQ5G3cc/JSa8mN9swD9F4xKsJgLIP7OT+u3118A/e0vFZeHywD9n+OxEs17BPw4gdAyEhtA/d2JCf8Ybwj96ZFOjaDzAPwzpZrf8g7C/cSQjMulKwD9xEhGosH+wv6aiEoX8UcA/ZTH8ibRfsL/2Dk+Pw1nAP8TlD+R3ULC/cHmCwv4ywT8jlR7mt5alP6H/+CDEJMM/8Vbn8ys/wT/9/lMUzmrBP32gabOa2MA/GWUbN+Q3wT+aojvsW3TBP1GIwGlFYME/\",\"dtype\":\"float64\",\"shape\":[27]},\"y\":{\"__ndarray__\":\"9SucnI+xtb/0Vb6DibG1v6WDERhL9rG/Aeb4Y2z1tL8pWIt2zuKxvwep//QOGbW/vXgwrHYhtb9TFJhWiyK1vwaPl9ADmMG/6V5uYTx2s79yJ2shOVi1v2jsHLT7yLy/DE5n/Fpatb8mGZN3Wsi8v5SDwRxAWLW/UTn4EK/DvL9ArgrdOle1vzG1Oht1wby/uW8+RpJDtb+1JUR8v8+4v5iG4e2HPrO/twUVpL0Ftb+THY97ZmCyv4PAlVAN1bS/Lbi0GrlXtb8PoFFsikm1v5P5M2+QTrW/\",\"dtype\":\"float64\",\"shape\":[27]}},\"selected\":null,\"selection_policy\":null},\"id\":\"3e9535e0-91b7-494a-9f63-41400511e1ef\",\"type\":\"ColumnDataSource\"},{\"attributes\":{},\"id\":\"460049d4-eb19-43b1-9463-02b0f6df6d24\",\"type\":\"LinearScale\"},{\"attributes\":{\"fill_alpha\":{\"value\":0.1},\"fill_color\":{\"value\":\"#1f77b4\"},\"line_alpha\":{\"value\":0.1},\"line_color\":{\"value\":\"#1f77b4\"},\"size\":{\"units\":\"screen\",\"value\":10},\"x\":{\"value\":0.10742846419166471},\"y\":{\"value\":0.03134678056404985}},\"id\":\"98b79182-d871-4ada-b58a-ede7a7b58ef2\",\"type\":\"Circle\"},{\"attributes\":{},\"id\":\"53395d3a-c8a3-4e42-b879-532539857749\",\"type\":\"LinearScale\"},{\"attributes\":{\"fill_color\":{\"value\":\"green\"},\"line_color\":{\"value\":\"green\"},\"size\":{\"units\":\"screen\",\"value\":5},\"x\":{\"field\":\"x\"},\"y\":{\"field\":\"y\"}},\"id\":\"806c59d1-573e-4956-bff3-53dd26e45e83\",\"type\":\"Circle\"},{\"attributes\":{\"plot\":{\"id\":\"bb740ed5-a277-4de5-b363-a2e871c80a0b\",\"subtype\":\"Figure\",\"type\":\"Plot\"},\"ticker\":{\"id\":\"bfd6004f-20ae-4062-a3ad-03379e45cc3d\",\"type\":\"BasicTicker\"}},\"id\":\"b5b9f640-9e00-4609-a2ad-6b70abd06a97\",\"type\":\"Grid\"},{\"attributes\":{\"fill_alpha\":{\"value\":0.1},\"fill_color\":{\"value\":\"#1f77b4\"},\"line_alpha\":{\"value\":0.1},\"line_color\":{\"value\":\"#1f77b4\"},\"size\":{\"units\":\"screen\",\"value\":5},\"x\":{\"field\":\"x\"},\"y\":{\"field\":\"y\"}},\"id\":\"b030690d-5b03-43a5-828a-589f335b1f72\",\"type\":\"Circle\"},{\"attributes\":{\"data_source\":{\"id\":\"3e9535e0-91b7-494a-9f63-41400511e1ef\",\"type\":\"ColumnDataSource\"},\"glyph\":{\"id\":\"806c59d1-573e-4956-bff3-53dd26e45e83\",\"type\":\"Circle\"},\"hover_glyph\":null,\"muted_glyph\":null,\"name\":\"circle\",\"nonselection_glyph\":{\"id\":\"b030690d-5b03-43a5-828a-589f335b1f72\",\"type\":\"Circle\"},\"selection_glyph\":null,\"view\":{\"id\":\"095c56db-23b8-4078-bb55-6a8ee791a101\",\"type\":\"CDSView\"}},\"id\":\"92f74bac-fbf2-4573-83dc-f34268941b77\",\"type\":\"GlyphRenderer\"},{\"attributes\":{\"formatter\":{\"id\":\"b3958686-e1d2-485a-a310-06a076e473a1\",\"type\":\"BasicTickFormatter\"},\"plot\":{\"id\":\"bb740ed5-a277-4de5-b363-a2e871c80a0b\",\"subtype\":\"Figure\",\"type\":\"Plot\"},\"ticker\":{\"id\":\"bfd6004f-20ae-4062-a3ad-03379e45cc3d\",\"type\":\"BasicTicker\"}},\"id\":\"f8ba1cc8-81ae-4ec7-a31e-06064b41275f\",\"type\":\"LinearAxis\"},{\"attributes\":{\"callback\":null,\"column_names\":[\"x\",\"y\",\"desc\",\"pred\",\"copy\",\"skip\"],\"data\":{\"copy\":[{\"__ndarray__\":\"mEc1Pg==\",\"dtype\":\"float32\",\"shape\":[1]},{\"__ndarray__\":\"Hcx/Pg==\",\"dtype\":\"float32\",\"shape\":[1]},{\"__ndarray__\":\"QP2+Pg==\",\"dtype\":\"float32\",\"shape\":[1]},{\"__ndarray__\":\"4AD5PQ==\",\"dtype\":\"float32\",\"shape\":[1]},{\"__ndarray__\":\"nqz2Pg==\",\"dtype\":\"float32\",\"shape\":[1]},{\"__ndarray__\":\"Qc4bPQ==\",\"dtype\":\"float32\",\"shape\":[1]},{\"__ndarray__\":\"66ebPQ==\",\"dtype\":\"float32\",\"shape\":[1]},{\"__ndarray__\":\"gDSePg==\",\"dtype\":\"float32\",\"shape\":[1]},{\"__ndarray__\":\"dsDQPg==\",\"dtype\":\"float32\",\"shape\":[1]},{\"__ndarray__\":\"LIY3PQ==\",\"dtype\":\"float32\",\"shape\":[1]},{\"__ndarray__\":\"A9wRPg==\",\"dtype\":\"float32\",\"shape\":[1]},{\"__ndarray__\":\"pKL4Pg==\",\"dtype\":\"float32\",\"shape\":[1]},{\"__ndarray__\":\"CeMNPg==\",\"dtype\":\"float32\",\"shape\":[1]},{\"__ndarray__\":\"ZibxPg==\",\"dtype\":\"float32\",\"shape\":[1]},{\"__ndarray__\":\"utAOPg==\",\"dtype\":\"float32\",\"shape\":[1]},{\"__ndarray__\":\"7H3pPg==\",\"dtype\":\"float32\",\"shape\":[1]},{\"__ndarray__\":\"WaYSPg==\",\"dtype\":\"float32\",\"shape\":[1]},{\"__ndarray__\":\"TeHqPg==\",\"dtype\":\"float32\",\"shape\":[1]},{\"__ndarray__\":\"SMWrPg==\",\"dtype\":\"float32\",\"shape\":[1]},{\"__ndarray__\":\"p3LcPg==\",\"dtype\":\"float32\",\"shape\":[1]},{\"__ndarray__\":\"w9WwPQ==\",\"dtype\":\"float32\",\"shape\":[1]},{\"__ndarray__\":\"Q7m1PQ==\",\"dtype\":\"float32\",\"shape\":[1]},{\"__ndarray__\":\"8CvdPg==\",\"dtype\":\"float32\",\"shape\":[1]},{\"__ndarray__\":\"pyLvPg==\",\"dtype\":\"float32\",\"shape\":[1]},{\"__ndarray__\":\"3T5wPg==\",\"dtype\":\"float32\",\"shape\":[1]},{\"__ndarray__\":\"2KUWPw==\",\"dtype\":\"float32\",\"shape\":[1]},{\"__ndarray__\":\"xfqWPg==\",\"dtype\":\"float32\",\"shape\":[1]}],\"desc\":[\"    - utter_ask_details\",\"    - utter_explain_details_hotel\",\"    - utter_ask_details\",\"    - utter_chitchat\",\"    - utter_ask_details\",\"    - utter_ask_startdate\",\"    - utter_ask_location\",\"    - utter_explain_location_hotel\",\"    - utter_ask_location\",\"    - utter_ask_price\",\"    - utter_chitchat\",\"    - utter_ask_price\",\"    - utter_chitchat\",\"    - utter_ask_price\",\"    - utter_chitchat\",\"    - utter_ask_price\",\"    - utter_chitchat\",\"    - utter_ask_price\",\"    - utter_explain_price_hotel\",\"    - utter_ask_price\",\"    - utter_ask_people\",\"    - utter_filled_slots\",\"    - action_search_hotel\",\"    - utter_suggest_hotel\",\"    - utter_chitchat\",\"    - utter_suggest_hotel\",\"    - utter_happy\"],\"pred\":[\"utter_ask_details\",\"utter_explain_enddate_hotel\",\"action_listen\",\"utter_chitchat\",\"utter_ask_details\",\"utter_ask_startdate\",\"utter_ask_location\",\"action_listen\",\"utter_ask_location\",\"utter_ask_price\",\"utter_chitchat\",\"utter_ask_price\",\"utter_chitchat\",\"utter_ask_price\",\"utter_worked_hotel\",\"utter_ask_price\",\"utter_worked_hotel\",\"utter_ask_price\",\"action_listen\",\"utter_ask_price\",\"utter_worked_hotel\",\"utter_filled_slots\",\"action_search_hotel\",\"utter_suggest_hotel\",\"utter_chitchat\",\"action_listen\",\"action_listen\"],\"skip\":[{\"__ndarray__\":\"AAAAAA==\",\"dtype\":\"float32\",\"shape\":[1]},{\"__ndarray__\":\"AAAAAA==\",\"dtype\":\"float32\",\"shape\":[1]},{\"__ndarray__\":\"AAAAAA==\",\"dtype\":\"float32\",\"shape\":[1]},{\"__ndarray__\":\"AAAAAA==\",\"dtype\":\"float32\",\"shape\":[1]},{\"__ndarray__\":\"AAAAAA==\",\"dtype\":\"float32\",\"shape\":[1]},{\"__ndarray__\":\"AAAAAA==\",\"dtype\":\"float32\",\"shape\":[1]},{\"__ndarray__\":\"AAAAAA==\",\"dtype\":\"float32\",\"shape\":[1]},{\"__ndarray__\":\"AAAAAA==\",\"dtype\":\"float32\",\"shape\":[1]},{\"__ndarray__\":\"AAAAAA==\",\"dtype\":\"float32\",\"shape\":[1]},{\"__ndarray__\":\"AAAAAA==\",\"dtype\":\"float32\",\"shape\":[1]},{\"__ndarray__\":\"AAAAAA==\",\"dtype\":\"float32\",\"shape\":[1]},{\"__ndarray__\":\"AAAAAA==\",\"dtype\":\"float32\",\"shape\":[1]},{\"__ndarray__\":\"AAAAAA==\",\"dtype\":\"float32\",\"shape\":[1]},{\"__ndarray__\":\"AAAAAA==\",\"dtype\":\"float32\",\"shape\":[1]},{\"__ndarray__\":\"AAAAAA==\",\"dtype\":\"float32\",\"shape\":[1]},{\"__ndarray__\":\"AAAAAA==\",\"dtype\":\"float32\",\"shape\":[1]},{\"__ndarray__\":\"AAAAAA==\",\"dtype\":\"float32\",\"shape\":[1]},{\"__ndarray__\":\"AAAAAA==\",\"dtype\":\"float32\",\"shape\":[1]},{\"__ndarray__\":\"AAAAAA==\",\"dtype\":\"float32\",\"shape\":[1]},{\"__ndarray__\":\"AAAAAA==\",\"dtype\":\"float32\",\"shape\":[1]},{\"__ndarray__\":\"AAAAAA==\",\"dtype\":\"float32\",\"shape\":[1]},{\"__ndarray__\":\"AAAAAA==\",\"dtype\":\"float32\",\"shape\":[1]},{\"__ndarray__\":\"AAAAAA==\",\"dtype\":\"float32\",\"shape\":[1]},{\"__ndarray__\":\"AAAAAA==\",\"dtype\":\"float32\",\"shape\":[1]},{\"__ndarray__\":\"AAAAAA==\",\"dtype\":\"float32\",\"shape\":[1]},{\"__ndarray__\":\"AAAAAA==\",\"dtype\":\"float32\",\"shape\":[1]},{\"__ndarray__\":\"AAAAAA==\",\"dtype\":\"float32\",\"shape\":[1]}],\"x\":{\"__ndarray__\":\"vZb76LrCyT8faJa2yy3DPxptgnBIXsY/xXyKrrEYzj+3A3l+9xHLP3PtJafHYrk/V5tXwngDwj+VrGqcDwmiP3S5Y1+b1ac/j+4yP6o3xb/MaFnSgbO0v3ZBboH2XMa/AuwGgJhOxr9MZOzxvhXPv+3aNprU0sy/HCmUZaUg0r8y1nupIz7QvxynTtZontO/rGdke+/p0b+1b9/5+SzVv7gmzxA7hru/FzlsuVGetj+msU8OEQfLv0WlN1/Irou/CIHJ+28GvT/V0ZB9B5GRP0L7ZNQzeLg/\",\"dtype\":\"float64\",\"shape\":[27]},\"y\":{\"__ndarray__\":\"d3TBPdS6u7+qmeT0+kChv/KdPwvs6Z+/Zc0Wa4CK0j8PZZIhO8++Pz7OAzZ29aq/NmyIHl04t7+2Wjjd0f6YvzWajG3fh4O/m05kdqmJsb/rKXMX8+PNP5HVKOjdIoG/Ljrg3JTTyz+do05C7P6lvwiiagJc4MQ/V4eA4E16qL84SFWB3H7DP2CxcUY1f6q/aJkQAaEWoD/d23QLqguEvwP/8n1Vuam/jRn+pJlipb9F+5mWlETCPxs2ZJnOc9S/XqHFqZIu1T+zu6OcDGShP45MonSVSrQ/\",\"dtype\":\"float64\",\"shape\":[27]}},\"selected\":null,\"selection_policy\":null},\"id\":\"06710cf7-e925-4659-bf50-54628152deec\",\"type\":\"ColumnDataSource\"},{\"attributes\":{},\"id\":\"bfd6004f-20ae-4062-a3ad-03379e45cc3d\",\"type\":\"BasicTicker\"},{\"attributes\":{\"formatter\":{\"id\":\"e643d5c3-d8cf-44b6-9c1c-f62876ce6802\",\"type\":\"BasicTickFormatter\"},\"plot\":{\"id\":\"bb740ed5-a277-4de5-b363-a2e871c80a0b\",\"subtype\":\"Figure\",\"type\":\"Plot\"},\"ticker\":{\"id\":\"722a0387-9167-4dbc-a43d-e7d0b42c274a\",\"type\":\"BasicTicker\"}},\"id\":\"b32111ce-439d-4f79-84d1-0b511e2e597f\",\"type\":\"LinearAxis\"},{\"attributes\":{\"callback\":null,\"data\":{},\"selected\":null,\"selection_policy\":null},\"id\":\"6c58fc0d-8f31-4880-8f77-1a14d1341316\",\"type\":\"ColumnDataSource\"},{\"attributes\":{},\"id\":\"722a0387-9167-4dbc-a43d-e7d0b42c274a\",\"type\":\"BasicTicker\"},{\"attributes\":{\"callback\":null,\"data\":{},\"selected\":null,\"selection_policy\":null},\"id\":\"4af17c97-7e32-4764-acbd-875278a1bd3a\",\"type\":\"ColumnDataSource\"},{\"attributes\":{\"dimension\":1,\"plot\":{\"id\":\"bb740ed5-a277-4de5-b363-a2e871c80a0b\",\"subtype\":\"Figure\",\"type\":\"Plot\"},\"ticker\":{\"id\":\"722a0387-9167-4dbc-a43d-e7d0b42c274a\",\"type\":\"BasicTicker\"}},\"id\":\"ac41cacd-0073-42c3-bc6d-9271281dfa6b\",\"type\":\"Grid\"},{\"attributes\":{\"fill_color\":{\"value\":\"red\"},\"line_color\":{\"value\":\"red\"},\"size\":{\"units\":\"screen\",\"value\":5},\"x\":{\"field\":\"x\"},\"y\":{\"field\":\"y\"}},\"id\":\"c5f8fb3d-4f76-44bd-b387-f2b7d200845e\",\"type\":\"Circle\"},{\"attributes\":{\"line_color\":{\"value\":\"firebrick\"},\"line_width\":{\"value\":2},\"plot\":null,\"size\":10},\"id\":\"1fdbe182-5cbd-4cc6-82e1-d3efdaff9059\",\"type\":\"OpenHead\"},{\"attributes\":{\"fill_alpha\":{\"value\":0.1},\"fill_color\":{\"value\":\"#1f77b4\"},\"line_alpha\":{\"value\":0.1},\"line_color\":{\"value\":\"#1f77b4\"},\"size\":{\"units\":\"screen\",\"value\":5},\"x\":{\"field\":\"x\"},\"y\":{\"field\":\"y\"}},\"id\":\"6d80ab2f-109e-480a-8801-911e3d11400a\",\"type\":\"Circle\"},{\"attributes\":{\"end\":{\"id\":\"b34861b1-ab8e-4c59-90a9-87cb184d8479\",\"type\":\"OpenHead\"},\"line_color\":{\"value\":\"gray\"},\"plot\":{\"id\":\"bb740ed5-a277-4de5-b363-a2e871c80a0b\",\"subtype\":\"Figure\",\"type\":\"Plot\"},\"source\":null,\"start\":null,\"x_end\":{\"value\":-0.17025506905106003},\"x_start\":{\"value\":-0.14091936431604551},\"y_end\":{\"value\":-0.04730366538253713},\"y_start\":{\"value\":-0.006985859745187405}},\"id\":\"72d9a37f-88b4-4361-90f3-440dec6ed79f\",\"type\":\"Arrow\"},{\"attributes\":{\"data_source\":{\"id\":\"06710cf7-e925-4659-bf50-54628152deec\",\"type\":\"ColumnDataSource\"},\"glyph\":{\"id\":\"c5f8fb3d-4f76-44bd-b387-f2b7d200845e\",\"type\":\"Circle\"},\"hover_glyph\":null,\"muted_glyph\":null,\"name\":\"circle\",\"nonselection_glyph\":{\"id\":\"6d80ab2f-109e-480a-8801-911e3d11400a\",\"type\":\"Circle\"},\"selection_glyph\":null,\"view\":{\"id\":\"a602846a-4548-46cc-857e-e9848f28aa01\",\"type\":\"CDSView\"}},\"id\":\"00a0a234-8928-4417-8195-3ec259401a8b\",\"type\":\"GlyphRenderer\"},{\"attributes\":{\"line_color\":{\"value\":\"firebrick\"},\"line_width\":{\"value\":2},\"plot\":null,\"size\":10},\"id\":\"b34861b1-ab8e-4c59-90a9-87cb184d8479\",\"type\":\"OpenHead\"},{\"attributes\":{\"fill_alpha\":{\"value\":0.1},\"fill_color\":{\"value\":\"#1f77b4\"},\"line_alpha\":{\"value\":0.1},\"line_color\":{\"value\":\"#1f77b4\"},\"size\":{\"units\":\"screen\",\"value\":5},\"x\":{\"value\":0.10594704427043677},\"y\":{\"value\":-0.05903119942139191}},\"id\":\"7fd3c645-e2e7-454e-b6d6-aee5d989e7ed\",\"type\":\"Circle\"},{\"attributes\":{\"end\":{\"id\":\"6271d654-cf91-4f89-8ba6-54fc8a863299\",\"type\":\"OpenHead\"},\"line_color\":{\"value\":\"gray\"},\"plot\":{\"id\":\"bb740ed5-a277-4de5-b363-a2e871c80a0b\",\"subtype\":\"Figure\",\"type\":\"Plot\"},\"source\":null,\"start\":null,\"x_end\":{\"value\":0.17911219468361658},\"x_start\":{\"value\":0.14067759698545465},\"y_end\":{\"value\":-0.045713270439666574},\"y_start\":{\"value\":-0.04644912341258485}},\"id\":\"9b8a7b03-cd10-4dbb-93fb-725bf5b640ad\",\"type\":\"Arrow\"},{\"attributes\":{\"data_source\":{\"id\":\"6c58fc0d-8f31-4880-8f77-1a14d1341316\",\"type\":\"ColumnDataSource\"},\"glyph\":{\"id\":\"62d93ff8-de8e-4f23-9b87-4b1e8c5a32d8\",\"type\":\"Circle\"},\"hover_glyph\":null,\"muted_glyph\":null,\"nonselection_glyph\":{\"id\":\"7fd3c645-e2e7-454e-b6d6-aee5d989e7ed\",\"type\":\"Circle\"},\"selection_glyph\":null,\"view\":{\"id\":\"7b3d9da6-c8ab-496c-a924-f78e87118269\",\"type\":\"CDSView\"}},\"id\":\"868bbcf6-aef1-4141-b87a-df23e40755e8\",\"type\":\"GlyphRenderer\"},{\"attributes\":{\"end\":{\"id\":\"a8bb2f45-f494-41f2-b0cb-06d019c41b00\",\"type\":\"OpenHead\"},\"line_color\":{\"value\":\"gray\"},\"plot\":{\"id\":\"bb740ed5-a277-4de5-b363-a2e871c80a0b\",\"subtype\":\"Figure\",\"type\":\"Plot\"},\"source\":null,\"start\":null,\"x_end\":{\"value\":0.22214272725103207},\"x_start\":{\"value\":0.17911219468361658},\"y_end\":{\"value\":0.24452620519224802},\"y_start\":{\"value\":-0.045713270439666574}},\"id\":\"e42616b7-a07c-4ad9-b253-7118a549960c\",\"type\":\"Arrow\"},{\"attributes\":{\"callback\":null,\"data\":{},\"selected\":null,\"selection_policy\":null},\"id\":\"4e5e5c8b-9813-40a4-9fa3-6684db3dd37c\",\"type\":\"ColumnDataSource\"},{\"attributes\":{\"end\":{\"id\":\"972c31b0-c7c9-476c-9c6d-3e26da9fb3f4\",\"type\":\"OpenHead\"},\"line_color\":{\"value\":\"gray\"},\"plot\":{\"id\":\"bb740ed5-a277-4de5-b363-a2e871c80a0b\",\"subtype\":\"Figure\",\"type\":\"Plot\"},\"source\":null,\"start\":null,\"x_end\":{\"value\":-0.19515182610155588},\"x_start\":{\"value\":-0.19915245755968994},\"y_end\":{\"value\":-0.07954063627419561},\"y_start\":{\"value\":0.11855788700583053}},\"id\":\"7090937b-41d3-464e-b500-0bc2e0d7bfcf\",\"type\":\"Arrow\"},{\"attributes\":{\"fill_alpha\":{\"value\":0.1},\"fill_color\":{\"value\":\"#1f77b4\"},\"line_alpha\":{\"value\":0.1},\"line_color\":{\"value\":\"#1f77b4\"},\"size\":{\"units\":\"screen\",\"value\":10},\"x\":{\"value\":0.18566144524108913},\"y\":{\"value\":-0.10414533996819733}},\"id\":\"098b0731-c786-4b2e-af91-8f631e684acb\",\"type\":\"Circle\"},{\"attributes\":{\"line_color\":{\"value\":\"firebrick\"},\"line_width\":{\"value\":2},\"plot\":null,\"size\":10},\"id\":\"2ae10845-1fe0-447a-b7ee-7d2d9a2987e6\",\"type\":\"OpenHead\"},{\"attributes\":{\"fill_color\":{\"value\":\"red\"},\"line_color\":{\"value\":\"red\"},\"size\":{\"units\":\"screen\",\"value\":10},\"x\":{\"value\":0.10742846419166471},\"y\":{\"value\":0.03134678056404985}},\"id\":\"4d16c4e5-2921-461e-b52e-abf886fa1eee\",\"type\":\"Circle\"},{\"attributes\":{\"end\":{\"id\":\"1fdbe182-5cbd-4cc6-82e1-d3efdaff9059\",\"type\":\"OpenHead\"},\"line_color\":{\"value\":\"gray\"},\"plot\":{\"id\":\"bb740ed5-a277-4de5-b363-a2e871c80a0b\",\"subtype\":\"Figure\",\"type\":\"Plot\"},\"source\":null,\"start\":null,\"x_end\":{\"value\":0.1999614136756642},\"x_start\":{\"value\":0.22214272725103207},\"y_end\":{\"value\":0.02870593468217479},\"y_start\":{\"value\":0.24452620519224802}},\"id\":\"d6c910a2-5866-4f02-9f2b-af31b59df6c2\",\"type\":\"Arrow\"},{\"attributes\":{\"source\":{\"id\":\"4af17c97-7e32-4764-acbd-875278a1bd3a\",\"type\":\"ColumnDataSource\"}},\"id\":\"328bd2b4-4dd0-46b1-9c67-2db69dc3c3e2\",\"type\":\"CDSView\"},{\"attributes\":{\"line_color\":{\"value\":\"firebrick\"},\"line_width\":{\"value\":2},\"plot\":null,\"size\":10},\"id\":\"47309ec3-52b8-4a9a-9832-706d27e3133a\",\"type\":\"OpenHead\"},{\"attributes\":{\"end\":{\"id\":\"2ae10845-1fe0-447a-b7ee-7d2d9a2987e6\",\"type\":\"OpenHead\"},\"line_color\":{\"value\":\"gray\"},\"plot\":{\"id\":\"bb740ed5-a277-4de5-b363-a2e871c80a0b\",\"subtype\":\"Figure\",\"type\":\"Plot\"},\"source\":null,\"start\":null,\"x_end\":{\"value\":0.10039698869307132},\"x_start\":{\"value\":0.1999614136756642},\"y_end\":{\"value\":-0.053785988350693446},\"y_start\":{\"value\":0.02870593468217479}},\"id\":\"75a6950c-c660-4670-8f57-3fa956e532ac\",\"type\":\"Arrow\"},{\"attributes\":{\"source\":{\"id\":\"4e5e5c8b-9813-40a4-9fa3-6684db3dd37c\",\"type\":\"ColumnDataSource\"}},\"id\":\"f5269404-1797-419b-ac5b-cd75927c4498\",\"type\":\"CDSView\"},{\"attributes\":{\"line_color\":{\"value\":\"firebrick\"},\"line_width\":{\"value\":2},\"plot\":null,\"size\":10},\"id\":\"5aaeae1a-9949-4d7f-9003-739b56a85e21\",\"type\":\"OpenHead\"},{\"attributes\":{\"end\":{\"id\":\"47309ec3-52b8-4a9a-9832-706d27e3133a\",\"type\":\"OpenHead\"},\"line_color\":{\"value\":\"gray\"},\"plot\":{\"id\":\"bb740ed5-a277-4de5-b363-a2e871c80a0b\",\"subtype\":\"Figure\",\"type\":\"Plot\"},\"source\":null,\"start\":null,\"x_end\":{\"value\":0.14009868294980815},\"x_start\":{\"value\":0.10039698869307132},\"y_end\":{\"value\":-0.09008345387430981},\"y_start\":{\"value\":-0.053785988350693446}},\"id\":\"7e88c562-894c-43ad-91ec-9700d2bde273\",\"type\":\"Arrow\"},{\"attributes\":{\"data_source\":{\"id\":\"4e5e5c8b-9813-40a4-9fa3-6684db3dd37c\",\"type\":\"ColumnDataSource\"},\"glyph\":{\"id\":\"4d16c4e5-2921-461e-b52e-abf886fa1eee\",\"type\":\"Circle\"},\"hover_glyph\":null,\"muted_glyph\":null,\"nonselection_glyph\":{\"id\":\"98b79182-d871-4ada-b58a-ede7a7b58ef2\",\"type\":\"Circle\"},\"selection_glyph\":null,\"view\":{\"id\":\"f5269404-1797-419b-ac5b-cd75927c4498\",\"type\":\"CDSView\"}},\"id\":\"93c540d2-caaa-477f-b339-31c41099fa88\",\"type\":\"GlyphRenderer\"},{\"attributes\":{\"line_color\":{\"value\":\"firebrick\"},\"line_width\":{\"value\":2},\"plot\":null,\"size\":10},\"id\":\"7ef8af58-c109-49a4-bf92-8a9a15e10e65\",\"type\":\"OpenHead\"},{\"attributes\":{\"end\":{\"id\":\"5aaeae1a-9949-4d7f-9003-739b56a85e21\",\"type\":\"OpenHead\"},\"line_color\":{\"value\":\"gray\"},\"plot\":{\"id\":\"bb740ed5-a277-4de5-b363-a2e871c80a0b\",\"subtype\":\"Figure\",\"type\":\"Plot\"},\"source\":null,\"start\":null,\"x_end\":{\"value\":0.06627224262862765},\"x_start\":{\"value\":0.14009868294980815},\"y_end\":{\"value\":-0.04237720498441207},\"y_start\":{\"value\":-0.09008345387430981}},\"id\":\"fd800089-d190-4d6d-93bb-e80f6b729c81\",\"type\":\"Arrow\"},{\"attributes\":{\"line_color\":{\"value\":\"firebrick\"},\"line_width\":{\"value\":2},\"plot\":null,\"size\":10},\"id\":\"802b7df9-e509-4727-9c1a-6716aaf08431\",\"type\":\"OpenHead\"},{\"attributes\":{\"end\":{\"id\":\"7ef8af58-c109-49a4-bf92-8a9a15e10e65\",\"type\":\"OpenHead\"},\"line_color\":{\"value\":\"gray\"},\"plot\":{\"id\":\"bb740ed5-a277-4de5-b363-a2e871c80a0b\",\"subtype\":\"Figure\",\"type\":\"Plot\"},\"source\":null,\"start\":null,\"x_end\":{\"value\":0.13284867556851665},\"x_start\":{\"value\":0.06627224262862765},\"y_end\":{\"value\":-0.061689848742058725},\"y_start\":{\"value\":-0.04237720498441207}},\"id\":\"235f943a-d06d-4106-b8ca-5d70fe32dc7e\",\"type\":\"Arrow\"},{\"attributes\":{\"line_color\":{\"value\":\"firebrick\"},\"line_width\":{\"value\":2},\"plot\":null,\"size\":10},\"id\":\"849cd793-9a14-4138-bcad-3c31c1c06bdc\",\"type\":\"OpenHead\"},{\"attributes\":{\"end\":{\"id\":\"802b7df9-e509-4727-9c1a-6716aaf08431\",\"type\":\"OpenHead\"},\"line_color\":{\"value\":\"gray\"},\"plot\":{\"id\":\"bb740ed5-a277-4de5-b363-a2e871c80a0b\",\"subtype\":\"Figure\",\"type\":\"Plot\"},\"source\":null,\"start\":null,\"x_end\":{\"value\":-0.1519954322952707},\"x_start\":{\"value\":0.13284867556851665},\"y_end\":{\"value\":-0.06884356721499602},\"y_start\":{\"value\":-0.061689848742058725}},\"id\":\"bcd34974-4f6a-4f60-851d-b32898e9a386\",\"type\":\"Arrow\"},{\"attributes\":{\"line_color\":{\"value\":\"firebrick\"},\"line_width\":{\"value\":2},\"plot\":null,\"size\":10},\"id\":\"d49c2467-2209-4e35-9346-5f89f75ba928\",\"type\":\"OpenHead\"},{\"attributes\":{\"end\":{\"id\":\"849cd793-9a14-4138-bcad-3c31c1c06bdc\",\"type\":\"OpenHead\"},\"line_color\":{\"value\":\"gray\"},\"plot\":{\"id\":\"bb740ed5-a277-4de5-b363-a2e871c80a0b\",\"subtype\":\"Figure\",\"type\":\"Plot\"},\"source\":null,\"start\":null,\"x_end\":{\"value\":-0.051278016016823844},\"x_start\":{\"value\":-0.1519954322952707},\"y_end\":{\"value\":0.18837997881389604},\"y_start\":{\"value\":-0.06884356721499602}},\"id\":\"48a456fe-ad15-48ed-a341-87e445502876\",\"type\":\"Arrow\"},{\"attributes\":{\"line_color\":{\"value\":\"firebrick\"},\"line_width\":{\"value\":2},\"plot\":null,\"size\":10},\"id\":\"d84987b6-5352-4fe5-8290-87776743ac8a\",\"type\":\"OpenHead\"},{\"attributes\":{\"end\":{\"id\":\"d49c2467-2209-4e35-9346-5f89f75ba928\",\"type\":\"OpenHead\"},\"line_color\":{\"value\":\"gray\"},\"plot\":{\"id\":\"bb740ed5-a277-4de5-b363-a2e871c80a0b\",\"subtype\":\"Figure\",\"type\":\"Plot\"},\"source\":null,\"start\":null,\"x_end\":{\"value\":-0.12119808958587845},\"x_start\":{\"value\":-0.051278016016823844},\"y_end\":{\"value\":-0.05890750085473817},\"y_start\":{\"value\":0.18837997881389604}},\"id\":\"438a1b39-f976-41d4-83ab-95eb2e92c086\",\"type\":\"Arrow\"},{\"attributes\":{\"line_color\":{\"value\":\"firebrick\"},\"line_width\":{\"value\":2},\"plot\":null,\"size\":10},\"id\":\"320d4adb-0e11-4d03-8661-0d05602fbf88\",\"type\":\"OpenHead\"},{\"attributes\":{\"end\":{\"id\":\"d84987b6-5352-4fe5-8290-87776743ac8a\",\"type\":\"OpenHead\"},\"line_color\":{\"value\":\"gray\"},\"plot\":{\"id\":\"bb740ed5-a277-4de5-b363-a2e871c80a0b\",\"subtype\":\"Figure\",\"type\":\"Plot\"},\"source\":null,\"start\":null,\"x_end\":{\"value\":-0.13248902381677094},\"x_start\":{\"value\":-0.12119808958587845},\"y_end\":{\"value\":0.17571457996771106},\"y_start\":{\"value\":-0.05890750085473817}},\"id\":\"17d104fa-b0dc-45ed-9ec3-3e9eab506f56\",\"type\":\"Arrow\"},{\"attributes\":{\"line_color\":{\"value\":\"firebrick\"},\"line_width\":{\"value\":2},\"plot\":null,\"size\":10},\"id\":\"9a6fc9c1-dc36-49d0-b582-1773cd7c1aa0\",\"type\":\"OpenHead\"},{\"attributes\":{\"end\":{\"id\":\"320d4adb-0e11-4d03-8661-0d05602fbf88\",\"type\":\"OpenHead\"},\"line_color\":{\"value\":\"gray\"},\"plot\":{\"id\":\"bb740ed5-a277-4de5-b363-a2e871c80a0b\",\"subtype\":\"Figure\",\"type\":\"Plot\"},\"source\":null,\"start\":null,\"x_end\":{\"value\":-0.15882414118447305},\"x_start\":{\"value\":-0.13248902381677094},\"y_end\":{\"value\":-0.07568138951275329},\"y_start\":{\"value\":0.17571457996771106}},\"id\":\"bc66d813-8042-4565-b805-70dcaf330921\",\"type\":\"Arrow\"},{\"attributes\":{\"line_color\":{\"value\":\"firebrick\"},\"line_width\":{\"value\":2},\"plot\":null,\"size\":10},\"id\":\"a93e93da-1d04-4930-b78b-4b1959a439ce\",\"type\":\"OpenHead\"},{\"attributes\":{\"end\":{\"id\":\"9a6fc9c1-dc36-49d0-b582-1773cd7c1aa0\",\"type\":\"OpenHead\"},\"line_color\":{\"value\":\"gray\"},\"plot\":{\"id\":\"bb740ed5-a277-4de5-b363-a2e871c80a0b\",\"subtype\":\"Figure\",\"type\":\"Plot\"},\"source\":null,\"start\":null,\"x_end\":{\"value\":-0.1759955903533492},\"x_start\":{\"value\":-0.15882414118447305},\"y_end\":{\"value\":0.1287215420369716},\"y_start\":{\"value\":-0.07568138951275329}},\"id\":\"8bc9f4f6-c249-4a7d-a8e3-178a80d8a0b1\",\"type\":\"Arrow\"},{\"attributes\":{\"line_color\":{\"value\":\"firebrick\"},\"line_width\":{\"value\":2},\"plot\":null,\"size\":10},\"id\":\"19fc4996-534b-4afd-a41c-82256dc24b95\",\"type\":\"OpenHead\"},{\"attributes\":{\"end\":{\"id\":\"a93e93da-1d04-4930-b78b-4b1959a439ce\",\"type\":\"OpenHead\"},\"line_color\":{\"value\":\"gray\"},\"plot\":{\"id\":\"bb740ed5-a277-4de5-b363-a2e871c80a0b\",\"subtype\":\"Figure\",\"type\":\"Plot\"},\"source\":null,\"start\":null,\"x_end\":{\"value\":-0.18324135263245564},\"x_start\":{\"value\":-0.1759955903533492},\"y_end\":{\"value\":-0.0772466891660417},\"y_start\":{\"value\":0.1287215420369716}},\"id\":\"1ea2fc08-4398-4745-9002-8bb14d6bbe56\",\"type\":\"Arrow\"},{\"attributes\":{\"end\":{\"id\":\"a6ac8b5e-fa4b-4286-94ed-04b1e5c12059\",\"type\":\"OpenHead\"},\"line_color\":{\"value\":\"gray\"},\"plot\":{\"id\":\"bb740ed5-a277-4de5-b363-a2e871c80a0b\",\"subtype\":\"Figure\",\"type\":\"Plot\"},\"source\":null,\"start\":null,\"x_end\":{\"value\":0.14067759698545465},\"x_start\":{\"value\":0.18566144524108913},\"y_end\":{\"value\":-0.04644912341258485},\"y_start\":{\"value\":-0.10414533996819733}},\"id\":\"991e437d-e6a6-4d98-b188-ffc41eb6460c\",\"type\":\"Arrow\"},{\"attributes\":{\"line_color\":{\"value\":\"firebrick\"},\"line_width\":{\"value\":2},\"plot\":null,\"size\":10},\"id\":\"972c31b0-c7c9-476c-9c6d-3e26da9fb3f4\",\"type\":\"OpenHead\"},{\"attributes\":{\"end\":{\"id\":\"19fc4996-534b-4afd-a41c-82256dc24b95\",\"type\":\"OpenHead\"},\"line_color\":{\"value\":\"gray\"},\"plot\":{\"id\":\"bb740ed5-a277-4de5-b363-a2e871c80a0b\",\"subtype\":\"Figure\",\"type\":\"Plot\"},\"source\":null,\"start\":null,\"x_end\":{\"value\":-0.19915245755968994},\"x_start\":{\"value\":-0.18324135263245564},\"y_end\":{\"value\":0.11855788700583053},\"y_start\":{\"value\":-0.0772466891660417}},\"id\":\"51ae6bce-36ae-4e91-86d5-50c778fffa67\",\"type\":\"Arrow\"},{\"attributes\":{\"line_color\":{\"value\":\"firebrick\"},\"line_width\":{\"value\":2},\"plot\":null,\"size\":10},\"id\":\"26b95ce2-218d-478d-8c8b-6eb02dbdacf9\",\"type\":\"OpenHead\"},{\"attributes\":{\"end\":{\"id\":\"26b95ce2-218d-478d-8c8b-6eb02dbdacf9\",\"type\":\"OpenHead\"},\"line_color\":{\"value\":\"gray\"},\"plot\":{\"id\":\"bb740ed5-a277-4de5-b363-a2e871c80a0b\",\"subtype\":\"Figure\",\"type\":\"Plot\"},\"source\":null,\"start\":null,\"x_end\":{\"value\":-0.14091936431604551},\"x_start\":{\"value\":-0.19515182610155588},\"y_end\":{\"value\":-0.006985859745187405},\"y_start\":{\"value\":-0.07954063627419561}},\"id\":\"0ceb9506-8790-4dba-af7e-7d9c044ee057\",\"type\":\"Arrow\"}],\"root_ids\":[\"bb740ed5-a277-4de5-b363-a2e871c80a0b\"]},\"title\":\"Bokeh Application\",\"version\":\"0.12.15\"}};\n",
       "  var render_items = [{\"docid\":\"f26104cf-59b3-4c3c-862e-c9943d9158b8\",\"elementid\":\"91de7c95-45ea-42c0-ac58-8bda91b6c152\",\"modelid\":\"bb740ed5-a277-4de5-b363-a2e871c80a0b\"}];\n",
       "  root.Bokeh.embed.embed_items_notebook(docs_json, render_items);\n",
       "\n",
       "  }\n",
       "  if (root.Bokeh !== undefined) {\n",
       "    embed_document(root);\n",
       "  } else {\n",
       "    var attempts = 0;\n",
       "    var timer = setInterval(function(root) {\n",
       "      if (root.Bokeh !== undefined) {\n",
       "        embed_document(root);\n",
       "        clearInterval(timer);\n",
       "      }\n",
       "      attempts++;\n",
       "      if (attempts > 100) {\n",
       "        console.log(\"Bokeh: ERROR: Unable to run BokehJS code because BokehJS library is missing\")\n",
       "        clearInterval(timer);\n",
       "      }\n",
       "    }, 10, root)\n",
       "  }\n",
       "})(window);"
      ],
      "application/vnd.bokehjs_exec.v0+json": ""
     },
     "metadata": {
      "application/vnd.bokehjs_exec.v0+json": {
       "id": "bb740ed5-a277-4de5-b363-a2e871c80a0b"
      }
     },
     "output_type": "display_data"
    }
   ],
   "source": [
    "show(p)"
   ]
  },
  {
   "cell_type": "code",
   "execution_count": 72,
   "metadata": {},
   "outputs": [
    {
     "data": {
      "text/plain": [
       "41"
      ]
     },
     "execution_count": 72,
     "metadata": {},
     "output_type": "execute_result"
    }
   ],
   "source": [
    "domain.index_for_action('utter_ask_price')\n",
    "domain.index_for_action('utter_suggest_hotel')\n",
    "domain.index_for_action('action_search_hotel')"
   ]
  },
  {
   "cell_type": "code",
   "execution_count": 73,
   "metadata": {},
   "outputs": [
    {
     "data": {
      "text/plain": [
       "(20,)"
      ]
     },
     "execution_count": 73,
     "metadata": {},
     "output_type": "execute_result"
    }
   ],
   "source": [
    "utter_price = embedding_from_tracker(\"#generate story\\n{}\".format(story_block), bot=True)[0,-1,5,:]\n",
    "utter_price.shape"
   ]
  },
  {
   "cell_type": "code",
   "execution_count": 74,
   "metadata": {},
   "outputs": [
    {
     "name": "stdout",
     "output_type": "stream",
     "text": [
      "(20,)\n"
     ]
    },
    {
     "data": {
      "text/html": [
       "<div style=\"display: table;\"><div style=\"display: table-row;\"><div style=\"display: table-cell;\"><b title=\"bokeh.models.renderers.GlyphRenderer\">GlyphRenderer</b>(</div><div style=\"display: table-cell;\">id&nbsp;=&nbsp;'be5dced1-8938-4ec1-9eec-05d6fa5cbfcb', <span id=\"28078c7c-5a4e-48a5-9bf4-28bd67a00608\" style=\"cursor: pointer;\">&hellip;)</span></div></div><div class=\"ec774c22-bd3a-4e3a-8cc1-27899bb064fd\" style=\"display: none;\"><div style=\"display: table-cell;\"></div><div style=\"display: table-cell;\">data_source&nbsp;=&nbsp;ColumnDataSource(id='ec275aec-5334-4e24-b38e-b69fbefbe59d', ...),</div></div><div class=\"ec774c22-bd3a-4e3a-8cc1-27899bb064fd\" style=\"display: none;\"><div style=\"display: table-cell;\"></div><div style=\"display: table-cell;\">glyph&nbsp;=&nbsp;Circle(id='0a4ad5f4-66eb-48d7-8792-b1ae34fa9d83', ...),</div></div><div class=\"ec774c22-bd3a-4e3a-8cc1-27899bb064fd\" style=\"display: none;\"><div style=\"display: table-cell;\"></div><div style=\"display: table-cell;\">hover_glyph&nbsp;=&nbsp;None,</div></div><div class=\"ec774c22-bd3a-4e3a-8cc1-27899bb064fd\" style=\"display: none;\"><div style=\"display: table-cell;\"></div><div style=\"display: table-cell;\">js_event_callbacks&nbsp;=&nbsp;{},</div></div><div class=\"ec774c22-bd3a-4e3a-8cc1-27899bb064fd\" style=\"display: none;\"><div style=\"display: table-cell;\"></div><div style=\"display: table-cell;\">js_property_callbacks&nbsp;=&nbsp;{},</div></div><div class=\"ec774c22-bd3a-4e3a-8cc1-27899bb064fd\" style=\"display: none;\"><div style=\"display: table-cell;\"></div><div style=\"display: table-cell;\">level&nbsp;=&nbsp;'glyph',</div></div><div class=\"ec774c22-bd3a-4e3a-8cc1-27899bb064fd\" style=\"display: none;\"><div style=\"display: table-cell;\"></div><div style=\"display: table-cell;\">muted&nbsp;=&nbsp;False,</div></div><div class=\"ec774c22-bd3a-4e3a-8cc1-27899bb064fd\" style=\"display: none;\"><div style=\"display: table-cell;\"></div><div style=\"display: table-cell;\">muted_glyph&nbsp;=&nbsp;None,</div></div><div class=\"ec774c22-bd3a-4e3a-8cc1-27899bb064fd\" style=\"display: none;\"><div style=\"display: table-cell;\"></div><div style=\"display: table-cell;\">name&nbsp;=&nbsp;None,</div></div><div class=\"ec774c22-bd3a-4e3a-8cc1-27899bb064fd\" style=\"display: none;\"><div style=\"display: table-cell;\"></div><div style=\"display: table-cell;\">nonselection_glyph&nbsp;=&nbsp;Circle(id='0466a792-0d28-42fd-9ee1-d4c929bfe740', ...),</div></div><div class=\"ec774c22-bd3a-4e3a-8cc1-27899bb064fd\" style=\"display: none;\"><div style=\"display: table-cell;\"></div><div style=\"display: table-cell;\">selection_glyph&nbsp;=&nbsp;None,</div></div><div class=\"ec774c22-bd3a-4e3a-8cc1-27899bb064fd\" style=\"display: none;\"><div style=\"display: table-cell;\"></div><div style=\"display: table-cell;\">subscribed_events&nbsp;=&nbsp;[],</div></div><div class=\"ec774c22-bd3a-4e3a-8cc1-27899bb064fd\" style=\"display: none;\"><div style=\"display: table-cell;\"></div><div style=\"display: table-cell;\">tags&nbsp;=&nbsp;[],</div></div><div class=\"ec774c22-bd3a-4e3a-8cc1-27899bb064fd\" style=\"display: none;\"><div style=\"display: table-cell;\"></div><div style=\"display: table-cell;\">view&nbsp;=&nbsp;CDSView(id='5cb41df2-722c-4593-8f18-dbe30ac9a8be', ...),</div></div><div class=\"ec774c22-bd3a-4e3a-8cc1-27899bb064fd\" style=\"display: none;\"><div style=\"display: table-cell;\"></div><div style=\"display: table-cell;\">visible&nbsp;=&nbsp;True,</div></div><div class=\"ec774c22-bd3a-4e3a-8cc1-27899bb064fd\" style=\"display: none;\"><div style=\"display: table-cell;\"></div><div style=\"display: table-cell;\">x_range_name&nbsp;=&nbsp;'default',</div></div><div class=\"ec774c22-bd3a-4e3a-8cc1-27899bb064fd\" style=\"display: none;\"><div style=\"display: table-cell;\"></div><div style=\"display: table-cell;\">y_range_name&nbsp;=&nbsp;'default')</div></div></div>\n",
       "<script>\n",
       "(function() {\n",
       "  var expanded = false;\n",
       "  var ellipsis = document.getElementById(\"28078c7c-5a4e-48a5-9bf4-28bd67a00608\");\n",
       "  ellipsis.addEventListener(\"click\", function() {\n",
       "    var rows = document.getElementsByClassName(\"ec774c22-bd3a-4e3a-8cc1-27899bb064fd\");\n",
       "    for (var i = 0; i < rows.length; i++) {\n",
       "      var el = rows[i];\n",
       "      el.style.display = expanded ? \"none\" : \"table-row\";\n",
       "    }\n",
       "    ellipsis.innerHTML = expanded ? \"&hellip;)\" : \"&lsaquo;&lsaquo;&lsaquo;\";\n",
       "    expanded = !expanded;\n",
       "  });\n",
       "})();\n",
       "</script>\n"
      ],
      "text/plain": [
       "GlyphRenderer(id='be5dced1-8938-4ec1-9eec-05d6fa5cbfcb', ...)"
      ]
     },
     "execution_count": 74,
     "metadata": {},
     "output_type": "execute_result"
    }
   ],
   "source": [
    "print(utter_price.shape)\n",
    "x = pca.transform(utter_price.reshape(1,-1))\n",
    "p.circle(x[0][0], x[0][1], color='black')"
   ]
  },
  {
   "cell_type": "code",
   "execution_count": 75,
   "metadata": {},
   "outputs": [
    {
     "data": {
      "text/html": [
       "\n",
       "<div class=\"bk-root\">\n",
       "    <div class=\"bk-plotdiv\" id=\"ee8e4d2c-656e-4513-82ef-b6a98e0ed20e\"></div>\n",
       "</div>"
      ]
     },
     "metadata": {},
     "output_type": "display_data"
    },
    {
     "data": {
      "application/javascript": [
       "(function(root) {\n",
       "  function embed_document(root) {\n",
       "    \n",
       "  var docs_json = {\"fa2cad01-62d6-4c31-b133-7fc3c776b8f9\":{\"roots\":{\"references\":[{\"attributes\":{\"line_color\":{\"value\":\"firebrick\"},\"line_width\":{\"value\":2},\"plot\":null,\"size\":10},\"id\":\"82f8aa85-5612-47cc-a2a6-20c745815207\",\"type\":\"OpenHead\"},{\"attributes\":{\"source\":{\"id\":\"3e9535e0-91b7-494a-9f63-41400511e1ef\",\"type\":\"ColumnDataSource\"}},\"id\":\"095c56db-23b8-4078-bb55-6a8ee791a101\",\"type\":\"CDSView\"},{\"attributes\":{\"end\":{\"id\":\"82f8aa85-5612-47cc-a2a6-20c745815207\",\"type\":\"OpenHead\"},\"line_color\":{\"value\":\"gray\"},\"plot\":{\"id\":\"bb740ed5-a277-4de5-b363-a2e871c80a0b\",\"subtype\":\"Figure\",\"type\":\"Plot\"},\"source\":null,\"start\":null,\"x_end\":{\"value\":-0.08531963105295988},\"x_start\":{\"value\":-0.17025506905106003},\"y_end\":{\"value\":-0.05239476555978906},\"y_start\":{\"value\":-0.04730366538253713}},\"id\":\"d7eabafb-2549-435f-b780-fd4e019a5210\",\"type\":\"Arrow\"},{\"attributes\":{\"line_color\":{\"value\":\"firebrick\"},\"line_width\":{\"value\":2},\"plot\":null,\"size\":10},\"id\":\"ddb219ce-3d76-410b-bbb8-540fdd172912\",\"type\":\"OpenHead\"},{\"attributes\":{\"line_color\":{\"value\":\"firebrick\"},\"line_width\":{\"value\":2},\"plot\":null,\"size\":10},\"id\":\"049d075b-51b6-4fd5-b15d-4348e2480aa1\",\"type\":\"OpenHead\"},{\"attributes\":{},\"id\":\"e643d5c3-d8cf-44b6-9c1c-f62876ce6802\",\"type\":\"BasicTickFormatter\"},{\"attributes\":{\"end\":{\"id\":\"ddb219ce-3d76-410b-bbb8-540fdd172912\",\"type\":\"OpenHead\"},\"line_color\":{\"value\":\"gray\"},\"plot\":{\"id\":\"bb740ed5-a277-4de5-b363-a2e871c80a0b\",\"subtype\":\"Figure\",\"type\":\"Plot\"},\"source\":null,\"start\":null,\"x_end\":{\"value\":0.09246929240170182},\"x_start\":{\"value\":-0.08531963105295988},\"y_end\":{\"value\":-0.04534831401796099},\"y_start\":{\"value\":-0.05239476555978906}},\"id\":\"1363b6a7-d58a-4703-a8e8-1c61010a5f36\",\"type\":\"Arrow\"},{\"attributes\":{\"line_color\":{\"value\":\"firebrick\"},\"line_width\":{\"value\":2},\"plot\":null,\"size\":10},\"id\":\"9415e494-8848-4e5f-b08d-744ff44fa452\",\"type\":\"OpenHead\"},{\"attributes\":{\"end\":{\"id\":\"049d075b-51b6-4fd5-b15d-4348e2480aa1\",\"type\":\"OpenHead\"},\"line_color\":{\"value\":\"gray\"},\"plot\":{\"id\":\"bb740ed5-a277-4de5-b363-a2e871c80a0b\",\"subtype\":\"Figure\",\"type\":\"Plot\"},\"source\":null,\"start\":null,\"x_end\":{\"value\":-0.06116030068151489},\"x_start\":{\"value\":0.09246929240170182},\"y_end\":{\"value\":0.050058499675879976},\"y_start\":{\"value\":-0.04534831401796099}},\"id\":\"ab118d69-b92e-4628-b051-87548cb088a1\",\"type\":\"Arrow\"},{\"attributes\":{\"line_color\":{\"value\":\"firebrick\"},\"line_width\":{\"value\":2},\"plot\":null,\"size\":10},\"id\":\"cfeee3f0-d36c-45fa-8b14-8785644fd373\",\"type\":\"OpenHead\"},{\"attributes\":{\"end\":{\"id\":\"9415e494-8848-4e5f-b08d-744ff44fa452\",\"type\":\"OpenHead\"},\"line_color\":{\"value\":\"gray\"},\"plot\":{\"id\":\"bb740ed5-a277-4de5-b363-a2e871c80a0b\",\"subtype\":\"Figure\",\"type\":\"Plot\"},\"source\":null,\"start\":null,\"x_end\":{\"value\":0.054266329906315955},\"x_start\":{\"value\":-0.06116030068151489},\"y_end\":{\"value\":-0.20831785588442414},\"y_start\":{\"value\":0.050058499675879976}},\"id\":\"73aaa8c4-3807-45a9-a294-0d449e8c8062\",\"type\":\"Arrow\"},{\"attributes\":{\"line_color\":{\"value\":\"firebrick\"},\"line_width\":{\"value\":2},\"plot\":null,\"size\":10},\"id\":\"eadf4021-2713-475a-8fa0-6b5cf777178e\",\"type\":\"OpenHead\"},{\"attributes\":{\"end\":{\"id\":\"cfeee3f0-d36c-45fa-8b14-8785644fd373\",\"type\":\"OpenHead\"},\"line_color\":{\"value\":\"gray\"},\"plot\":{\"id\":\"bb740ed5-a277-4de5-b363-a2e871c80a0b\",\"subtype\":\"Figure\",\"type\":\"Plot\"},\"source\":null,\"start\":null,\"x_end\":{\"value\":0.11833892997647619},\"x_start\":{\"value\":0.054266329906315955},\"y_end\":{\"value\":0.23375790615649503},\"y_start\":{\"value\":-0.20831785588442414}},\"id\":\"929c130b-31ce-4816-bc9e-1c19585fb0ff\",\"type\":\"Arrow\"},{\"attributes\":{\"line_color\":{\"value\":\"firebrick\"},\"line_width\":{\"value\":2},\"plot\":null,\"size\":10},\"id\":\"db789fcb-3916-40aa-b911-febdd648f442\",\"type\":\"OpenHead\"},{\"attributes\":{\"end\":{\"id\":\"eadf4021-2713-475a-8fa0-6b5cf777178e\",\"type\":\"OpenHead\"},\"line_color\":{\"value\":\"gray\"},\"plot\":{\"id\":\"bb740ed5-a277-4de5-b363-a2e871c80a0b\",\"subtype\":\"Figure\",\"type\":\"Plot\"},\"source\":null,\"start\":null,\"x_end\":{\"value\":0.08730531049480927},\"x_start\":{\"value\":0.11833892997647619},\"y_end\":{\"value\":-0.0349548407107104},\"y_start\":{\"value\":0.23375790615649503}},\"id\":\"729fff0f-721d-4886-aea5-d5491c45ddcd\",\"type\":\"Arrow\"},{\"attributes\":{\"source\":{\"id\":\"ef4672e3-f617-45b9-8ce0-08bb88e59e34\",\"type\":\"ColumnDataSource\"}},\"id\":\"6b92b531-6de5-4736-9167-070e6cd97375\",\"type\":\"CDSView\"},{\"attributes\":{\"end\":{\"id\":\"db789fcb-3916-40aa-b911-febdd648f442\",\"type\":\"OpenHead\"},\"line_color\":{\"value\":\"gray\"},\"plot\":{\"id\":\"bb740ed5-a277-4de5-b363-a2e871c80a0b\",\"subtype\":\"Figure\",\"type\":\"Plot\"},\"source\":null,\"start\":null,\"x_end\":{\"value\":0.10742846419166471},\"x_start\":{\"value\":0.08730531049480927},\"y_end\":{\"value\":0.03134678056404985},\"y_start\":{\"value\":-0.0349548407107104}},\"id\":\"4b866a88-bb83-47ec-b04a-003e99b3f0d6\",\"type\":\"Arrow\"},{\"attributes\":{\"plot\":null,\"text\":\"\"},\"id\":\"d35d8ba5-c352-41ec-9808-2f60cbac731f\",\"type\":\"Title\"},{\"attributes\":{\"source\":{\"id\":\"6c58fc0d-8f31-4880-8f77-1a14d1341316\",\"type\":\"ColumnDataSource\"}},\"id\":\"7b3d9da6-c8ab-496c-a924-f78e87118269\",\"type\":\"CDSView\"},{\"attributes\":{},\"id\":\"b3958686-e1d2-485a-a310-06a076e473a1\",\"type\":\"BasicTickFormatter\"},{\"attributes\":{\"below\":[{\"id\":\"f8ba1cc8-81ae-4ec7-a31e-06064b41275f\",\"type\":\"LinearAxis\"}],\"left\":[{\"id\":\"b32111ce-439d-4f79-84d1-0b511e2e597f\",\"type\":\"LinearAxis\"}],\"renderers\":[{\"id\":\"f8ba1cc8-81ae-4ec7-a31e-06064b41275f\",\"type\":\"LinearAxis\"},{\"id\":\"b5b9f640-9e00-4609-a2ad-6b70abd06a97\",\"type\":\"Grid\"},{\"id\":\"b32111ce-439d-4f79-84d1-0b511e2e597f\",\"type\":\"LinearAxis\"},{\"id\":\"ac41cacd-0073-42c3-bc6d-9271281dfa6b\",\"type\":\"Grid\"},{\"id\":\"991e437d-e6a6-4d98-b188-ffc41eb6460c\",\"type\":\"Arrow\"},{\"id\":\"9b8a7b03-cd10-4dbb-93fb-725bf5b640ad\",\"type\":\"Arrow\"},{\"id\":\"e42616b7-a07c-4ad9-b253-7118a549960c\",\"type\":\"Arrow\"},{\"id\":\"d6c910a2-5866-4f02-9f2b-af31b59df6c2\",\"type\":\"Arrow\"},{\"id\":\"75a6950c-c660-4670-8f57-3fa956e532ac\",\"type\":\"Arrow\"},{\"id\":\"7e88c562-894c-43ad-91ec-9700d2bde273\",\"type\":\"Arrow\"},{\"id\":\"fd800089-d190-4d6d-93bb-e80f6b729c81\",\"type\":\"Arrow\"},{\"id\":\"235f943a-d06d-4106-b8ca-5d70fe32dc7e\",\"type\":\"Arrow\"},{\"id\":\"bcd34974-4f6a-4f60-851d-b32898e9a386\",\"type\":\"Arrow\"},{\"id\":\"48a456fe-ad15-48ed-a341-87e445502876\",\"type\":\"Arrow\"},{\"id\":\"438a1b39-f976-41d4-83ab-95eb2e92c086\",\"type\":\"Arrow\"},{\"id\":\"17d104fa-b0dc-45ed-9ec3-3e9eab506f56\",\"type\":\"Arrow\"},{\"id\":\"bc66d813-8042-4565-b805-70dcaf330921\",\"type\":\"Arrow\"},{\"id\":\"8bc9f4f6-c249-4a7d-a8e3-178a80d8a0b1\",\"type\":\"Arrow\"},{\"id\":\"1ea2fc08-4398-4745-9002-8bb14d6bbe56\",\"type\":\"Arrow\"},{\"id\":\"51ae6bce-36ae-4e91-86d5-50c778fffa67\",\"type\":\"Arrow\"},{\"id\":\"7090937b-41d3-464e-b500-0bc2e0d7bfcf\",\"type\":\"Arrow\"},{\"id\":\"0ceb9506-8790-4dba-af7e-7d9c044ee057\",\"type\":\"Arrow\"},{\"id\":\"72d9a37f-88b4-4361-90f3-440dec6ed79f\",\"type\":\"Arrow\"},{\"id\":\"d7eabafb-2549-435f-b780-fd4e019a5210\",\"type\":\"Arrow\"},{\"id\":\"1363b6a7-d58a-4703-a8e8-1c61010a5f36\",\"type\":\"Arrow\"},{\"id\":\"ab118d69-b92e-4628-b051-87548cb088a1\",\"type\":\"Arrow\"},{\"id\":\"73aaa8c4-3807-45a9-a294-0d449e8c8062\",\"type\":\"Arrow\"},{\"id\":\"929c130b-31ce-4816-bc9e-1c19585fb0ff\",\"type\":\"Arrow\"},{\"id\":\"729fff0f-721d-4886-aea5-d5491c45ddcd\",\"type\":\"Arrow\"},{\"id\":\"4b866a88-bb83-47ec-b04a-003e99b3f0d6\",\"type\":\"Arrow\"},{\"id\":\"cc017995-5989-4cd7-9d63-0dfb72c48bb9\",\"type\":\"GlyphRenderer\"},{\"id\":\"92f74bac-fbf2-4573-83dc-f34268941b77\",\"type\":\"GlyphRenderer\"},{\"id\":\"00a0a234-8928-4417-8195-3ec259401a8b\",\"type\":\"GlyphRenderer\"},{\"id\":\"868bbcf6-aef1-4141-b87a-df23e40755e8\",\"type\":\"GlyphRenderer\"},{\"id\":\"fa34e4bb-5038-4ac2-ba49-13598e1a978c\",\"type\":\"GlyphRenderer\"},{\"id\":\"93c540d2-caaa-477f-b339-31c41099fa88\",\"type\":\"GlyphRenderer\"},{\"id\":\"be5dced1-8938-4ec1-9eec-05d6fa5cbfcb\",\"type\":\"GlyphRenderer\"}],\"title\":{\"id\":\"d35d8ba5-c352-41ec-9808-2f60cbac731f\",\"type\":\"Title\"},\"toolbar\":{\"id\":\"b659c297-dbad-4e7a-ae19-94353f3614d1\",\"type\":\"Toolbar\"},\"x_range\":{\"id\":\"cbe0f22b-4605-4e6c-833b-e2cb172ad5c3\",\"type\":\"DataRange1d\"},\"x_scale\":{\"id\":\"53395d3a-c8a3-4e42-b879-532539857749\",\"type\":\"LinearScale\"},\"y_range\":{\"id\":\"c0cb4c5c-3efa-41ec-b5d9-87969a0fd5c7\",\"type\":\"DataRange1d\"},\"y_scale\":{\"id\":\"460049d4-eb19-43b1-9463-02b0f6df6d24\",\"type\":\"LinearScale\"}},\"id\":\"bb740ed5-a277-4de5-b363-a2e871c80a0b\",\"subtype\":\"Figure\",\"type\":\"Plot\"},{\"attributes\":{\"fill_color\":{\"value\":\"#1f77b4\"},\"line_color\":{\"value\":\"#1f77b4\"},\"size\":{\"units\":\"screen\",\"value\":10},\"x\":{\"field\":\"x\"},\"y\":{\"field\":\"y\"}},\"id\":\"fda9e734-7084-4868-be8a-f62976d6af70\",\"type\":\"Circle\"},{\"attributes\":{\"data_source\":{\"id\":\"ec275aec-5334-4e24-b38e-b69fbefbe59d\",\"type\":\"ColumnDataSource\"},\"glyph\":{\"id\":\"0a4ad5f4-66eb-48d7-8792-b1ae34fa9d83\",\"type\":\"Circle\"},\"hover_glyph\":null,\"muted_glyph\":null,\"nonselection_glyph\":{\"id\":\"0466a792-0d28-42fd-9ee1-d4c929bfe740\",\"type\":\"Circle\"},\"selection_glyph\":null,\"view\":{\"id\":\"5cb41df2-722c-4593-8f18-dbe30ac9a8be\",\"type\":\"CDSView\"}},\"id\":\"be5dced1-8938-4ec1-9eec-05d6fa5cbfcb\",\"type\":\"GlyphRenderer\"},{\"attributes\":{\"fill_alpha\":{\"value\":0.1},\"fill_color\":{\"value\":\"#1f77b4\"},\"line_alpha\":{\"value\":0.1},\"line_color\":{\"value\":\"#1f77b4\"},\"size\":{\"units\":\"screen\",\"value\":10},\"x\":{\"field\":\"x\"},\"y\":{\"field\":\"y\"}},\"id\":\"3cb70dea-5e13-4dd9-9b4a-6860dd788168\",\"type\":\"Circle\"},{\"attributes\":{\"callback\":null,\"names\":[\"circle\"],\"tooltips\":[[\"true action\",\"@desc\"],[\"prediction\",\"@pred\"],[\"copy_gate\",\"@copy\"],[\"skip_gate\",\"@skip\"]]},\"id\":\"80919d7f-1e1b-41a7-870e-4ca07aa68a92\",\"type\":\"HoverTool\"},{\"attributes\":{\"data_source\":{\"id\":\"ef4672e3-f617-45b9-8ce0-08bb88e59e34\",\"type\":\"ColumnDataSource\"},\"glyph\":{\"id\":\"fda9e734-7084-4868-be8a-f62976d6af70\",\"type\":\"Circle\"},\"hover_glyph\":null,\"muted_glyph\":null,\"name\":\"circle\",\"nonselection_glyph\":{\"id\":\"3cb70dea-5e13-4dd9-9b4a-6860dd788168\",\"type\":\"Circle\"},\"selection_glyph\":null,\"view\":{\"id\":\"6b92b531-6de5-4736-9167-070e6cd97375\",\"type\":\"CDSView\"}},\"id\":\"cc017995-5989-4cd7-9d63-0dfb72c48bb9\",\"type\":\"GlyphRenderer\"},{\"attributes\":{\"line_color\":{\"value\":\"firebrick\"},\"line_width\":{\"value\":2},\"plot\":null,\"size\":10},\"id\":\"a6ac8b5e-fa4b-4286-94ed-04b1e5c12059\",\"type\":\"OpenHead\"},{\"attributes\":{\"line_color\":{\"value\":\"firebrick\"},\"line_width\":{\"value\":2},\"plot\":null,\"size\":10},\"id\":\"a8bb2f45-f494-41f2-b0cb-06d019c41b00\",\"type\":\"OpenHead\"},{\"attributes\":{\"callback\":null,\"column_names\":[\"x\",\"y\",\"desc\",\"pred\",\"copy\",\"skip\"],\"data\":{\"copy\":[{\"__ndarray__\":\"mEc1Pg==\",\"dtype\":\"float32\",\"shape\":[1]},{\"__ndarray__\":\"Hcx/Pg==\",\"dtype\":\"float32\",\"shape\":[1]},{\"__ndarray__\":\"QP2+Pg==\",\"dtype\":\"float32\",\"shape\":[1]},{\"__ndarray__\":\"4AD5PQ==\",\"dtype\":\"float32\",\"shape\":[1]},{\"__ndarray__\":\"nqz2Pg==\",\"dtype\":\"float32\",\"shape\":[1]},{\"__ndarray__\":\"Qc4bPQ==\",\"dtype\":\"float32\",\"shape\":[1]},{\"__ndarray__\":\"66ebPQ==\",\"dtype\":\"float32\",\"shape\":[1]},{\"__ndarray__\":\"gDSePg==\",\"dtype\":\"float32\",\"shape\":[1]},{\"__ndarray__\":\"dsDQPg==\",\"dtype\":\"float32\",\"shape\":[1]},{\"__ndarray__\":\"LIY3PQ==\",\"dtype\":\"float32\",\"shape\":[1]},{\"__ndarray__\":\"A9wRPg==\",\"dtype\":\"float32\",\"shape\":[1]},{\"__ndarray__\":\"pKL4Pg==\",\"dtype\":\"float32\",\"shape\":[1]},{\"__ndarray__\":\"CeMNPg==\",\"dtype\":\"float32\",\"shape\":[1]},{\"__ndarray__\":\"ZibxPg==\",\"dtype\":\"float32\",\"shape\":[1]},{\"__ndarray__\":\"utAOPg==\",\"dtype\":\"float32\",\"shape\":[1]},{\"__ndarray__\":\"7H3pPg==\",\"dtype\":\"float32\",\"shape\":[1]},{\"__ndarray__\":\"WaYSPg==\",\"dtype\":\"float32\",\"shape\":[1]},{\"__ndarray__\":\"TeHqPg==\",\"dtype\":\"float32\",\"shape\":[1]},{\"__ndarray__\":\"SMWrPg==\",\"dtype\":\"float32\",\"shape\":[1]},{\"__ndarray__\":\"p3LcPg==\",\"dtype\":\"float32\",\"shape\":[1]},{\"__ndarray__\":\"w9WwPQ==\",\"dtype\":\"float32\",\"shape\":[1]},{\"__ndarray__\":\"Q7m1PQ==\",\"dtype\":\"float32\",\"shape\":[1]},{\"__ndarray__\":\"8CvdPg==\",\"dtype\":\"float32\",\"shape\":[1]},{\"__ndarray__\":\"pyLvPg==\",\"dtype\":\"float32\",\"shape\":[1]},{\"__ndarray__\":\"3T5wPg==\",\"dtype\":\"float32\",\"shape\":[1]},{\"__ndarray__\":\"2KUWPw==\",\"dtype\":\"float32\",\"shape\":[1]},{\"__ndarray__\":\"xfqWPg==\",\"dtype\":\"float32\",\"shape\":[1]}],\"desc\":[\"    - utter_ask_details\",\"    - utter_explain_details_hotel\",\"    - utter_ask_details\",\"    - utter_chitchat\",\"    - utter_ask_details\",\"    - utter_ask_startdate\",\"    - utter_ask_location\",\"    - utter_explain_location_hotel\",\"    - utter_ask_location\",\"    - utter_ask_price\",\"    - utter_chitchat\",\"    - utter_ask_price\",\"    - utter_chitchat\",\"    - utter_ask_price\",\"    - utter_chitchat\",\"    - utter_ask_price\",\"    - utter_chitchat\",\"    - utter_ask_price\",\"    - utter_explain_price_hotel\",\"    - utter_ask_price\",\"    - utter_ask_people\",\"    - utter_filled_slots\",\"    - action_search_hotel\",\"    - utter_suggest_hotel\",\"    - utter_chitchat\",\"    - utter_suggest_hotel\",\"    - utter_happy\"],\"pred\":[\"utter_ask_details\",\"utter_explain_enddate_hotel\",\"action_listen\",\"utter_chitchat\",\"utter_ask_details\",\"utter_ask_startdate\",\"utter_ask_location\",\"action_listen\",\"utter_ask_location\",\"utter_ask_price\",\"utter_chitchat\",\"utter_ask_price\",\"utter_chitchat\",\"utter_ask_price\",\"utter_worked_hotel\",\"utter_ask_price\",\"utter_worked_hotel\",\"utter_ask_price\",\"action_listen\",\"utter_ask_price\",\"utter_worked_hotel\",\"utter_filled_slots\",\"action_search_hotel\",\"utter_suggest_hotel\",\"utter_chitchat\",\"action_listen\",\"action_listen\"],\"skip\":[{\"__ndarray__\":\"AAAAAA==\",\"dtype\":\"float32\",\"shape\":[1]},{\"__ndarray__\":\"AAAAAA==\",\"dtype\":\"float32\",\"shape\":[1]},{\"__ndarray__\":\"AAAAAA==\",\"dtype\":\"float32\",\"shape\":[1]},{\"__ndarray__\":\"AAAAAA==\",\"dtype\":\"float32\",\"shape\":[1]},{\"__ndarray__\":\"AAAAAA==\",\"dtype\":\"float32\",\"shape\":[1]},{\"__ndarray__\":\"AAAAAA==\",\"dtype\":\"float32\",\"shape\":[1]},{\"__ndarray__\":\"AAAAAA==\",\"dtype\":\"float32\",\"shape\":[1]},{\"__ndarray__\":\"AAAAAA==\",\"dtype\":\"float32\",\"shape\":[1]},{\"__ndarray__\":\"AAAAAA==\",\"dtype\":\"float32\",\"shape\":[1]},{\"__ndarray__\":\"AAAAAA==\",\"dtype\":\"float32\",\"shape\":[1]},{\"__ndarray__\":\"AAAAAA==\",\"dtype\":\"float32\",\"shape\":[1]},{\"__ndarray__\":\"AAAAAA==\",\"dtype\":\"float32\",\"shape\":[1]},{\"__ndarray__\":\"AAAAAA==\",\"dtype\":\"float32\",\"shape\":[1]},{\"__ndarray__\":\"AAAAAA==\",\"dtype\":\"float32\",\"shape\":[1]},{\"__ndarray__\":\"AAAAAA==\",\"dtype\":\"float32\",\"shape\":[1]},{\"__ndarray__\":\"AAAAAA==\",\"dtype\":\"float32\",\"shape\":[1]},{\"__ndarray__\":\"AAAAAA==\",\"dtype\":\"float32\",\"shape\":[1]},{\"__ndarray__\":\"AAAAAA==\",\"dtype\":\"float32\",\"shape\":[1]},{\"__ndarray__\":\"AAAAAA==\",\"dtype\":\"float32\",\"shape\":[1]},{\"__ndarray__\":\"AAAAAA==\",\"dtype\":\"float32\",\"shape\":[1]},{\"__ndarray__\":\"AAAAAA==\",\"dtype\":\"float32\",\"shape\":[1]},{\"__ndarray__\":\"AAAAAA==\",\"dtype\":\"float32\",\"shape\":[1]},{\"__ndarray__\":\"AAAAAA==\",\"dtype\":\"float32\",\"shape\":[1]},{\"__ndarray__\":\"AAAAAA==\",\"dtype\":\"float32\",\"shape\":[1]},{\"__ndarray__\":\"AAAAAA==\",\"dtype\":\"float32\",\"shape\":[1]},{\"__ndarray__\":\"AAAAAA==\",\"dtype\":\"float32\",\"shape\":[1]},{\"__ndarray__\":\"AAAAAA==\",\"dtype\":\"float32\",\"shape\":[1]}],\"x\":{\"__ndarray__\":\"JiO4FcHDxz/ziyo3uQHCP7uOPf0l7cY/7jBLQixvzD+3dRnqVZjJPz66Dfeds7k/arW97sDuwT/p97i6N/ewP9wccXYvAcE/tb5sGZZ0w79GkJezHEGqvyPpG4fWBr+/k50vfGb1wL+/7hl2WVTEv49nZwQGh8a/x2Rq4HN0x7/RhRHm033Jv7cwbiu8+si/riWOTqUJwr8gucYI68rFv6VJFOGB17W/3OO/ShGstz8+NHsmZ1Cvvx5yceDLyKs/lrQXynVLvj8Io1cNpFm2P17aXIxugLs/\",\"dtype\":\"float64\",\"shape\":[27]},\"y\":{\"__ndarray__\":\"srcx3USpur9qR/jzLcinvyMqENO6Z6e/jWgoe6JMzz8M66SqFmWdPxsG5knWiau/zwZNkLUPt78qBAILd7Klv75Fr9XPla+/fHe6Zbufsb+hCR3M1RzIP8AEUrsfKa6/FiMyu9B9xj9RhN8E21+zvyd0q47yecA/30KxY3DGs7+8dl9Hz1m+P/gtgG/GXLS/jIg9cjSdfL+bDJmfLziov9ArH5l806q/K5JF6+Q3p79lTf2FRKGpPwolGdUoqsq/k9EPccfrzT/N92DTmeWhv/QHt2qvDKA/\",\"dtype\":\"float64\",\"shape\":[27]}},\"selected\":null,\"selection_policy\":null},\"id\":\"ef4672e3-f617-45b9-8ce0-08bb88e59e34\",\"type\":\"ColumnDataSource\"},{\"attributes\":{\"source\":{\"id\":\"06710cf7-e925-4659-bf50-54628152deec\",\"type\":\"ColumnDataSource\"}},\"id\":\"a602846a-4548-46cc-857e-e9848f28aa01\",\"type\":\"CDSView\"},{\"attributes\":{\"active_drag\":\"auto\",\"active_inspect\":\"auto\",\"active_scroll\":\"auto\",\"active_tap\":\"auto\",\"tools\":[{\"id\":\"80919d7f-1e1b-41a7-870e-4ca07aa68a92\",\"type\":\"HoverTool\"}]},\"id\":\"b659c297-dbad-4e7a-ae19-94353f3614d1\",\"type\":\"Toolbar\"},{\"attributes\":{\"fill_color\":{\"value\":\"green\"},\"line_color\":{\"value\":\"green\"},\"size\":{\"units\":\"screen\",\"value\":10},\"x\":{\"value\":0.18566144524108913},\"y\":{\"value\":-0.10414533996819733}},\"id\":\"54715581-00b2-44a4-b949-7b4725a03e3f\",\"type\":\"Circle\"},{\"attributes\":{\"callback\":null,\"data\":{},\"selected\":null,\"selection_policy\":null},\"id\":\"ec275aec-5334-4e24-b38e-b69fbefbe59d\",\"type\":\"ColumnDataSource\"},{\"attributes\":{\"callback\":null},\"id\":\"c0cb4c5c-3efa-41ec-b5d9-87969a0fd5c7\",\"type\":\"DataRange1d\"},{\"attributes\":{\"fill_color\":{\"value\":\"magenta\"},\"line_color\":{\"value\":\"magenta\"},\"size\":{\"units\":\"screen\",\"value\":5},\"x\":{\"value\":0.10594704427043677},\"y\":{\"value\":-0.05903119942139191}},\"id\":\"62d93ff8-de8e-4f23-9b87-4b1e8c5a32d8\",\"type\":\"Circle\"},{\"attributes\":{\"data_source\":{\"id\":\"4af17c97-7e32-4764-acbd-875278a1bd3a\",\"type\":\"ColumnDataSource\"},\"glyph\":{\"id\":\"54715581-00b2-44a4-b949-7b4725a03e3f\",\"type\":\"Circle\"},\"hover_glyph\":null,\"muted_glyph\":null,\"nonselection_glyph\":{\"id\":\"098b0731-c786-4b2e-af91-8f631e684acb\",\"type\":\"Circle\"},\"selection_glyph\":null,\"view\":{\"id\":\"328bd2b4-4dd0-46b1-9c67-2db69dc3c3e2\",\"type\":\"CDSView\"}},\"id\":\"fa34e4bb-5038-4ac2-ba49-13598e1a978c\",\"type\":\"GlyphRenderer\"},{\"attributes\":{\"callback\":null},\"id\":\"cbe0f22b-4605-4e6c-833b-e2cb172ad5c3\",\"type\":\"DataRange1d\"},{\"attributes\":{\"line_color\":{\"value\":\"firebrick\"},\"line_width\":{\"value\":2},\"plot\":null,\"size\":10},\"id\":\"6271d654-cf91-4f89-8ba6-54fc8a863299\",\"type\":\"OpenHead\"},{\"attributes\":{\"callback\":null,\"column_names\":[\"x\",\"y\",\"desc\",\"pred\",\"copy\",\"skip\"],\"data\":{\"copy\":[{\"__ndarray__\":\"mEc1Pg==\",\"dtype\":\"float32\",\"shape\":[1]},{\"__ndarray__\":\"Hcx/Pg==\",\"dtype\":\"float32\",\"shape\":[1]},{\"__ndarray__\":\"QP2+Pg==\",\"dtype\":\"float32\",\"shape\":[1]},{\"__ndarray__\":\"4AD5PQ==\",\"dtype\":\"float32\",\"shape\":[1]},{\"__ndarray__\":\"nqz2Pg==\",\"dtype\":\"float32\",\"shape\":[1]},{\"__ndarray__\":\"Qc4bPQ==\",\"dtype\":\"float32\",\"shape\":[1]},{\"__ndarray__\":\"66ebPQ==\",\"dtype\":\"float32\",\"shape\":[1]},{\"__ndarray__\":\"gDSePg==\",\"dtype\":\"float32\",\"shape\":[1]},{\"__ndarray__\":\"dsDQPg==\",\"dtype\":\"float32\",\"shape\":[1]},{\"__ndarray__\":\"LIY3PQ==\",\"dtype\":\"float32\",\"shape\":[1]},{\"__ndarray__\":\"A9wRPg==\",\"dtype\":\"float32\",\"shape\":[1]},{\"__ndarray__\":\"pKL4Pg==\",\"dtype\":\"float32\",\"shape\":[1]},{\"__ndarray__\":\"CeMNPg==\",\"dtype\":\"float32\",\"shape\":[1]},{\"__ndarray__\":\"ZibxPg==\",\"dtype\":\"float32\",\"shape\":[1]},{\"__ndarray__\":\"utAOPg==\",\"dtype\":\"float32\",\"shape\":[1]},{\"__ndarray__\":\"7H3pPg==\",\"dtype\":\"float32\",\"shape\":[1]},{\"__ndarray__\":\"WaYSPg==\",\"dtype\":\"float32\",\"shape\":[1]},{\"__ndarray__\":\"TeHqPg==\",\"dtype\":\"float32\",\"shape\":[1]},{\"__ndarray__\":\"SMWrPg==\",\"dtype\":\"float32\",\"shape\":[1]},{\"__ndarray__\":\"p3LcPg==\",\"dtype\":\"float32\",\"shape\":[1]},{\"__ndarray__\":\"w9WwPQ==\",\"dtype\":\"float32\",\"shape\":[1]},{\"__ndarray__\":\"Q7m1PQ==\",\"dtype\":\"float32\",\"shape\":[1]},{\"__ndarray__\":\"8CvdPg==\",\"dtype\":\"float32\",\"shape\":[1]},{\"__ndarray__\":\"pyLvPg==\",\"dtype\":\"float32\",\"shape\":[1]},{\"__ndarray__\":\"3T5wPg==\",\"dtype\":\"float32\",\"shape\":[1]},{\"__ndarray__\":\"2KUWPw==\",\"dtype\":\"float32\",\"shape\":[1]},{\"__ndarray__\":\"xfqWPg==\",\"dtype\":\"float32\",\"shape\":[1]}],\"desc\":[\"    - utter_ask_details\",\"    - utter_explain_details_hotel\",\"    - utter_ask_details\",\"    - utter_chitchat\",\"    - utter_ask_details\",\"    - utter_ask_startdate\",\"    - utter_ask_location\",\"    - utter_explain_location_hotel\",\"    - utter_ask_location\",\"    - utter_ask_price\",\"    - utter_chitchat\",\"    - utter_ask_price\",\"    - utter_chitchat\",\"    - utter_ask_price\",\"    - utter_chitchat\",\"    - utter_ask_price\",\"    - utter_chitchat\",\"    - utter_ask_price\",\"    - utter_explain_price_hotel\",\"    - utter_ask_price\",\"    - utter_ask_people\",\"    - utter_filled_slots\",\"    - action_search_hotel\",\"    - utter_suggest_hotel\",\"    - utter_chitchat\",\"    - utter_suggest_hotel\",\"    - utter_happy\"],\"pred\":[\"utter_ask_details\",\"utter_explain_enddate_hotel\",\"action_listen\",\"utter_chitchat\",\"utter_ask_details\",\"utter_ask_startdate\",\"utter_ask_location\",\"action_listen\",\"utter_ask_location\",\"utter_ask_price\",\"utter_chitchat\",\"utter_ask_price\",\"utter_chitchat\",\"utter_ask_price\",\"utter_worked_hotel\",\"utter_ask_price\",\"utter_worked_hotel\",\"utter_ask_price\",\"action_listen\",\"utter_ask_price\",\"utter_worked_hotel\",\"utter_filled_slots\",\"action_search_hotel\",\"utter_suggest_hotel\",\"utter_chitchat\",\"action_listen\",\"action_listen\"],\"skip\":[{\"__ndarray__\":\"AAAAAA==\",\"dtype\":\"float32\",\"shape\":[1]},{\"__ndarray__\":\"AAAAAA==\",\"dtype\":\"float32\",\"shape\":[1]},{\"__ndarray__\":\"AAAAAA==\",\"dtype\":\"float32\",\"shape\":[1]},{\"__ndarray__\":\"AAAAAA==\",\"dtype\":\"float32\",\"shape\":[1]},{\"__ndarray__\":\"AAAAAA==\",\"dtype\":\"float32\",\"shape\":[1]},{\"__ndarray__\":\"AAAAAA==\",\"dtype\":\"float32\",\"shape\":[1]},{\"__ndarray__\":\"AAAAAA==\",\"dtype\":\"float32\",\"shape\":[1]},{\"__ndarray__\":\"AAAAAA==\",\"dtype\":\"float32\",\"shape\":[1]},{\"__ndarray__\":\"AAAAAA==\",\"dtype\":\"float32\",\"shape\":[1]},{\"__ndarray__\":\"AAAAAA==\",\"dtype\":\"float32\",\"shape\":[1]},{\"__ndarray__\":\"AAAAAA==\",\"dtype\":\"float32\",\"shape\":[1]},{\"__ndarray__\":\"AAAAAA==\",\"dtype\":\"float32\",\"shape\":[1]},{\"__ndarray__\":\"AAAAAA==\",\"dtype\":\"float32\",\"shape\":[1]},{\"__ndarray__\":\"AAAAAA==\",\"dtype\":\"float32\",\"shape\":[1]},{\"__ndarray__\":\"AAAAAA==\",\"dtype\":\"float32\",\"shape\":[1]},{\"__ndarray__\":\"AAAAAA==\",\"dtype\":\"float32\",\"shape\":[1]},{\"__ndarray__\":\"AAAAAA==\",\"dtype\":\"float32\",\"shape\":[1]},{\"__ndarray__\":\"AAAAAA==\",\"dtype\":\"float32\",\"shape\":[1]},{\"__ndarray__\":\"AAAAAA==\",\"dtype\":\"float32\",\"shape\":[1]},{\"__ndarray__\":\"AAAAAA==\",\"dtype\":\"float32\",\"shape\":[1]},{\"__ndarray__\":\"AAAAAA==\",\"dtype\":\"float32\",\"shape\":[1]},{\"__ndarray__\":\"AAAAAA==\",\"dtype\":\"float32\",\"shape\":[1]},{\"__ndarray__\":\"AAAAAA==\",\"dtype\":\"float32\",\"shape\":[1]},{\"__ndarray__\":\"AAAAAA==\",\"dtype\":\"float32\",\"shape\":[1]},{\"__ndarray__\":\"AAAAAA==\",\"dtype\":\"float32\",\"shape\":[1]},{\"__ndarray__\":\"AAAAAA==\",\"dtype\":\"float32\",\"shape\":[1]},{\"__ndarray__\":\"AAAAAA==\",\"dtype\":\"float32\",\"shape\":[1]}],\"x\":{\"__ndarray__\":\"m2Tfqrr4vD9yZRhxHPm8P1a+TQ5G3cc/JSa8mN9swD9F4xKsJgLIP7OT+u3118A/e0vFZeHywD9n+OxEs17BPw4gdAyEhtA/d2JCf8Ybwj96ZFOjaDzAPwzpZrf8g7C/cSQjMulKwD9xEhGosH+wv6aiEoX8UcA/ZTH8ibRfsL/2Dk+Pw1nAP8TlD+R3ULC/cHmCwv4ywT8jlR7mt5alP6H/+CDEJMM/8Vbn8ys/wT/9/lMUzmrBP32gabOa2MA/GWUbN+Q3wT+aojvsW3TBP1GIwGlFYME/\",\"dtype\":\"float64\",\"shape\":[27]},\"y\":{\"__ndarray__\":\"9SucnI+xtb/0Vb6DibG1v6WDERhL9rG/Aeb4Y2z1tL8pWIt2zuKxvwep//QOGbW/vXgwrHYhtb9TFJhWiyK1vwaPl9ADmMG/6V5uYTx2s79yJ2shOVi1v2jsHLT7yLy/DE5n/Fpatb8mGZN3Wsi8v5SDwRxAWLW/UTn4EK/DvL9ArgrdOle1vzG1Oht1wby/uW8+RpJDtb+1JUR8v8+4v5iG4e2HPrO/twUVpL0Ftb+THY97ZmCyv4PAlVAN1bS/Lbi0GrlXtb8PoFFsikm1v5P5M2+QTrW/\",\"dtype\":\"float64\",\"shape\":[27]}},\"selected\":null,\"selection_policy\":null},\"id\":\"3e9535e0-91b7-494a-9f63-41400511e1ef\",\"type\":\"ColumnDataSource\"},{\"attributes\":{},\"id\":\"460049d4-eb19-43b1-9463-02b0f6df6d24\",\"type\":\"LinearScale\"},{\"attributes\":{\"fill_alpha\":{\"value\":0.1},\"fill_color\":{\"value\":\"#1f77b4\"},\"line_alpha\":{\"value\":0.1},\"line_color\":{\"value\":\"#1f77b4\"},\"size\":{\"units\":\"screen\",\"value\":10},\"x\":{\"value\":0.10742846419166471},\"y\":{\"value\":0.03134678056404985}},\"id\":\"98b79182-d871-4ada-b58a-ede7a7b58ef2\",\"type\":\"Circle\"},{\"attributes\":{},\"id\":\"53395d3a-c8a3-4e42-b879-532539857749\",\"type\":\"LinearScale\"},{\"attributes\":{\"fill_color\":{\"value\":\"green\"},\"line_color\":{\"value\":\"green\"},\"size\":{\"units\":\"screen\",\"value\":5},\"x\":{\"field\":\"x\"},\"y\":{\"field\":\"y\"}},\"id\":\"806c59d1-573e-4956-bff3-53dd26e45e83\",\"type\":\"Circle\"},{\"attributes\":{\"plot\":{\"id\":\"bb740ed5-a277-4de5-b363-a2e871c80a0b\",\"subtype\":\"Figure\",\"type\":\"Plot\"},\"ticker\":{\"id\":\"bfd6004f-20ae-4062-a3ad-03379e45cc3d\",\"type\":\"BasicTicker\"}},\"id\":\"b5b9f640-9e00-4609-a2ad-6b70abd06a97\",\"type\":\"Grid\"},{\"attributes\":{\"fill_alpha\":{\"value\":0.1},\"fill_color\":{\"value\":\"#1f77b4\"},\"line_alpha\":{\"value\":0.1},\"line_color\":{\"value\":\"#1f77b4\"},\"size\":{\"units\":\"screen\",\"value\":5},\"x\":{\"field\":\"x\"},\"y\":{\"field\":\"y\"}},\"id\":\"b030690d-5b03-43a5-828a-589f335b1f72\",\"type\":\"Circle\"},{\"attributes\":{\"data_source\":{\"id\":\"3e9535e0-91b7-494a-9f63-41400511e1ef\",\"type\":\"ColumnDataSource\"},\"glyph\":{\"id\":\"806c59d1-573e-4956-bff3-53dd26e45e83\",\"type\":\"Circle\"},\"hover_glyph\":null,\"muted_glyph\":null,\"name\":\"circle\",\"nonselection_glyph\":{\"id\":\"b030690d-5b03-43a5-828a-589f335b1f72\",\"type\":\"Circle\"},\"selection_glyph\":null,\"view\":{\"id\":\"095c56db-23b8-4078-bb55-6a8ee791a101\",\"type\":\"CDSView\"}},\"id\":\"92f74bac-fbf2-4573-83dc-f34268941b77\",\"type\":\"GlyphRenderer\"},{\"attributes\":{\"formatter\":{\"id\":\"b3958686-e1d2-485a-a310-06a076e473a1\",\"type\":\"BasicTickFormatter\"},\"plot\":{\"id\":\"bb740ed5-a277-4de5-b363-a2e871c80a0b\",\"subtype\":\"Figure\",\"type\":\"Plot\"},\"ticker\":{\"id\":\"bfd6004f-20ae-4062-a3ad-03379e45cc3d\",\"type\":\"BasicTicker\"}},\"id\":\"f8ba1cc8-81ae-4ec7-a31e-06064b41275f\",\"type\":\"LinearAxis\"},{\"attributes\":{\"callback\":null,\"column_names\":[\"x\",\"y\",\"desc\",\"pred\",\"copy\",\"skip\"],\"data\":{\"copy\":[{\"__ndarray__\":\"mEc1Pg==\",\"dtype\":\"float32\",\"shape\":[1]},{\"__ndarray__\":\"Hcx/Pg==\",\"dtype\":\"float32\",\"shape\":[1]},{\"__ndarray__\":\"QP2+Pg==\",\"dtype\":\"float32\",\"shape\":[1]},{\"__ndarray__\":\"4AD5PQ==\",\"dtype\":\"float32\",\"shape\":[1]},{\"__ndarray__\":\"nqz2Pg==\",\"dtype\":\"float32\",\"shape\":[1]},{\"__ndarray__\":\"Qc4bPQ==\",\"dtype\":\"float32\",\"shape\":[1]},{\"__ndarray__\":\"66ebPQ==\",\"dtype\":\"float32\",\"shape\":[1]},{\"__ndarray__\":\"gDSePg==\",\"dtype\":\"float32\",\"shape\":[1]},{\"__ndarray__\":\"dsDQPg==\",\"dtype\":\"float32\",\"shape\":[1]},{\"__ndarray__\":\"LIY3PQ==\",\"dtype\":\"float32\",\"shape\":[1]},{\"__ndarray__\":\"A9wRPg==\",\"dtype\":\"float32\",\"shape\":[1]},{\"__ndarray__\":\"pKL4Pg==\",\"dtype\":\"float32\",\"shape\":[1]},{\"__ndarray__\":\"CeMNPg==\",\"dtype\":\"float32\",\"shape\":[1]},{\"__ndarray__\":\"ZibxPg==\",\"dtype\":\"float32\",\"shape\":[1]},{\"__ndarray__\":\"utAOPg==\",\"dtype\":\"float32\",\"shape\":[1]},{\"__ndarray__\":\"7H3pPg==\",\"dtype\":\"float32\",\"shape\":[1]},{\"__ndarray__\":\"WaYSPg==\",\"dtype\":\"float32\",\"shape\":[1]},{\"__ndarray__\":\"TeHqPg==\",\"dtype\":\"float32\",\"shape\":[1]},{\"__ndarray__\":\"SMWrPg==\",\"dtype\":\"float32\",\"shape\":[1]},{\"__ndarray__\":\"p3LcPg==\",\"dtype\":\"float32\",\"shape\":[1]},{\"__ndarray__\":\"w9WwPQ==\",\"dtype\":\"float32\",\"shape\":[1]},{\"__ndarray__\":\"Q7m1PQ==\",\"dtype\":\"float32\",\"shape\":[1]},{\"__ndarray__\":\"8CvdPg==\",\"dtype\":\"float32\",\"shape\":[1]},{\"__ndarray__\":\"pyLvPg==\",\"dtype\":\"float32\",\"shape\":[1]},{\"__ndarray__\":\"3T5wPg==\",\"dtype\":\"float32\",\"shape\":[1]},{\"__ndarray__\":\"2KUWPw==\",\"dtype\":\"float32\",\"shape\":[1]},{\"__ndarray__\":\"xfqWPg==\",\"dtype\":\"float32\",\"shape\":[1]}],\"desc\":[\"    - utter_ask_details\",\"    - utter_explain_details_hotel\",\"    - utter_ask_details\",\"    - utter_chitchat\",\"    - utter_ask_details\",\"    - utter_ask_startdate\",\"    - utter_ask_location\",\"    - utter_explain_location_hotel\",\"    - utter_ask_location\",\"    - utter_ask_price\",\"    - utter_chitchat\",\"    - utter_ask_price\",\"    - utter_chitchat\",\"    - utter_ask_price\",\"    - utter_chitchat\",\"    - utter_ask_price\",\"    - utter_chitchat\",\"    - utter_ask_price\",\"    - utter_explain_price_hotel\",\"    - utter_ask_price\",\"    - utter_ask_people\",\"    - utter_filled_slots\",\"    - action_search_hotel\",\"    - utter_suggest_hotel\",\"    - utter_chitchat\",\"    - utter_suggest_hotel\",\"    - utter_happy\"],\"pred\":[\"utter_ask_details\",\"utter_explain_enddate_hotel\",\"action_listen\",\"utter_chitchat\",\"utter_ask_details\",\"utter_ask_startdate\",\"utter_ask_location\",\"action_listen\",\"utter_ask_location\",\"utter_ask_price\",\"utter_chitchat\",\"utter_ask_price\",\"utter_chitchat\",\"utter_ask_price\",\"utter_worked_hotel\",\"utter_ask_price\",\"utter_worked_hotel\",\"utter_ask_price\",\"action_listen\",\"utter_ask_price\",\"utter_worked_hotel\",\"utter_filled_slots\",\"action_search_hotel\",\"utter_suggest_hotel\",\"utter_chitchat\",\"action_listen\",\"action_listen\"],\"skip\":[{\"__ndarray__\":\"AAAAAA==\",\"dtype\":\"float32\",\"shape\":[1]},{\"__ndarray__\":\"AAAAAA==\",\"dtype\":\"float32\",\"shape\":[1]},{\"__ndarray__\":\"AAAAAA==\",\"dtype\":\"float32\",\"shape\":[1]},{\"__ndarray__\":\"AAAAAA==\",\"dtype\":\"float32\",\"shape\":[1]},{\"__ndarray__\":\"AAAAAA==\",\"dtype\":\"float32\",\"shape\":[1]},{\"__ndarray__\":\"AAAAAA==\",\"dtype\":\"float32\",\"shape\":[1]},{\"__ndarray__\":\"AAAAAA==\",\"dtype\":\"float32\",\"shape\":[1]},{\"__ndarray__\":\"AAAAAA==\",\"dtype\":\"float32\",\"shape\":[1]},{\"__ndarray__\":\"AAAAAA==\",\"dtype\":\"float32\",\"shape\":[1]},{\"__ndarray__\":\"AAAAAA==\",\"dtype\":\"float32\",\"shape\":[1]},{\"__ndarray__\":\"AAAAAA==\",\"dtype\":\"float32\",\"shape\":[1]},{\"__ndarray__\":\"AAAAAA==\",\"dtype\":\"float32\",\"shape\":[1]},{\"__ndarray__\":\"AAAAAA==\",\"dtype\":\"float32\",\"shape\":[1]},{\"__ndarray__\":\"AAAAAA==\",\"dtype\":\"float32\",\"shape\":[1]},{\"__ndarray__\":\"AAAAAA==\",\"dtype\":\"float32\",\"shape\":[1]},{\"__ndarray__\":\"AAAAAA==\",\"dtype\":\"float32\",\"shape\":[1]},{\"__ndarray__\":\"AAAAAA==\",\"dtype\":\"float32\",\"shape\":[1]},{\"__ndarray__\":\"AAAAAA==\",\"dtype\":\"float32\",\"shape\":[1]},{\"__ndarray__\":\"AAAAAA==\",\"dtype\":\"float32\",\"shape\":[1]},{\"__ndarray__\":\"AAAAAA==\",\"dtype\":\"float32\",\"shape\":[1]},{\"__ndarray__\":\"AAAAAA==\",\"dtype\":\"float32\",\"shape\":[1]},{\"__ndarray__\":\"AAAAAA==\",\"dtype\":\"float32\",\"shape\":[1]},{\"__ndarray__\":\"AAAAAA==\",\"dtype\":\"float32\",\"shape\":[1]},{\"__ndarray__\":\"AAAAAA==\",\"dtype\":\"float32\",\"shape\":[1]},{\"__ndarray__\":\"AAAAAA==\",\"dtype\":\"float32\",\"shape\":[1]},{\"__ndarray__\":\"AAAAAA==\",\"dtype\":\"float32\",\"shape\":[1]},{\"__ndarray__\":\"AAAAAA==\",\"dtype\":\"float32\",\"shape\":[1]}],\"x\":{\"__ndarray__\":\"vZb76LrCyT8faJa2yy3DPxptgnBIXsY/xXyKrrEYzj+3A3l+9xHLP3PtJafHYrk/V5tXwngDwj+VrGqcDwmiP3S5Y1+b1ac/j+4yP6o3xb/MaFnSgbO0v3ZBboH2XMa/AuwGgJhOxr9MZOzxvhXPv+3aNprU0sy/HCmUZaUg0r8y1nupIz7QvxynTtZontO/rGdke+/p0b+1b9/5+SzVv7gmzxA7hru/FzlsuVGetj+msU8OEQfLv0WlN1/Irou/CIHJ+28GvT/V0ZB9B5GRP0L7ZNQzeLg/\",\"dtype\":\"float64\",\"shape\":[27]},\"y\":{\"__ndarray__\":\"d3TBPdS6u7+qmeT0+kChv/KdPwvs6Z+/Zc0Wa4CK0j8PZZIhO8++Pz7OAzZ29aq/NmyIHl04t7+2Wjjd0f6YvzWajG3fh4O/m05kdqmJsb/rKXMX8+PNP5HVKOjdIoG/Ljrg3JTTyz+do05C7P6lvwiiagJc4MQ/V4eA4E16qL84SFWB3H7DP2CxcUY1f6q/aJkQAaEWoD/d23QLqguEvwP/8n1Vuam/jRn+pJlipb9F+5mWlETCPxs2ZJnOc9S/XqHFqZIu1T+zu6OcDGShP45MonSVSrQ/\",\"dtype\":\"float64\",\"shape\":[27]}},\"selected\":null,\"selection_policy\":null},\"id\":\"06710cf7-e925-4659-bf50-54628152deec\",\"type\":\"ColumnDataSource\"},{\"attributes\":{},\"id\":\"bfd6004f-20ae-4062-a3ad-03379e45cc3d\",\"type\":\"BasicTicker\"},{\"attributes\":{\"formatter\":{\"id\":\"e643d5c3-d8cf-44b6-9c1c-f62876ce6802\",\"type\":\"BasicTickFormatter\"},\"plot\":{\"id\":\"bb740ed5-a277-4de5-b363-a2e871c80a0b\",\"subtype\":\"Figure\",\"type\":\"Plot\"},\"ticker\":{\"id\":\"722a0387-9167-4dbc-a43d-e7d0b42c274a\",\"type\":\"BasicTicker\"}},\"id\":\"b32111ce-439d-4f79-84d1-0b511e2e597f\",\"type\":\"LinearAxis\"},{\"attributes\":{\"callback\":null,\"data\":{},\"selected\":null,\"selection_policy\":null},\"id\":\"6c58fc0d-8f31-4880-8f77-1a14d1341316\",\"type\":\"ColumnDataSource\"},{\"attributes\":{},\"id\":\"722a0387-9167-4dbc-a43d-e7d0b42c274a\",\"type\":\"BasicTicker\"},{\"attributes\":{\"callback\":null,\"data\":{},\"selected\":null,\"selection_policy\":null},\"id\":\"4af17c97-7e32-4764-acbd-875278a1bd3a\",\"type\":\"ColumnDataSource\"},{\"attributes\":{\"dimension\":1,\"plot\":{\"id\":\"bb740ed5-a277-4de5-b363-a2e871c80a0b\",\"subtype\":\"Figure\",\"type\":\"Plot\"},\"ticker\":{\"id\":\"722a0387-9167-4dbc-a43d-e7d0b42c274a\",\"type\":\"BasicTicker\"}},\"id\":\"ac41cacd-0073-42c3-bc6d-9271281dfa6b\",\"type\":\"Grid\"},{\"attributes\":{\"fill_color\":{\"value\":\"red\"},\"line_color\":{\"value\":\"red\"},\"size\":{\"units\":\"screen\",\"value\":5},\"x\":{\"field\":\"x\"},\"y\":{\"field\":\"y\"}},\"id\":\"c5f8fb3d-4f76-44bd-b387-f2b7d200845e\",\"type\":\"Circle\"},{\"attributes\":{\"line_color\":{\"value\":\"firebrick\"},\"line_width\":{\"value\":2},\"plot\":null,\"size\":10},\"id\":\"1fdbe182-5cbd-4cc6-82e1-d3efdaff9059\",\"type\":\"OpenHead\"},{\"attributes\":{\"fill_alpha\":{\"value\":0.1},\"fill_color\":{\"value\":\"#1f77b4\"},\"line_alpha\":{\"value\":0.1},\"line_color\":{\"value\":\"#1f77b4\"},\"size\":{\"units\":\"screen\",\"value\":5},\"x\":{\"field\":\"x\"},\"y\":{\"field\":\"y\"}},\"id\":\"6d80ab2f-109e-480a-8801-911e3d11400a\",\"type\":\"Circle\"},{\"attributes\":{\"source\":{\"id\":\"ec275aec-5334-4e24-b38e-b69fbefbe59d\",\"type\":\"ColumnDataSource\"}},\"id\":\"5cb41df2-722c-4593-8f18-dbe30ac9a8be\",\"type\":\"CDSView\"},{\"attributes\":{\"end\":{\"id\":\"b34861b1-ab8e-4c59-90a9-87cb184d8479\",\"type\":\"OpenHead\"},\"line_color\":{\"value\":\"gray\"},\"plot\":{\"id\":\"bb740ed5-a277-4de5-b363-a2e871c80a0b\",\"subtype\":\"Figure\",\"type\":\"Plot\"},\"source\":null,\"start\":null,\"x_end\":{\"value\":-0.17025506905106003},\"x_start\":{\"value\":-0.14091936431604551},\"y_end\":{\"value\":-0.04730366538253713},\"y_start\":{\"value\":-0.006985859745187405}},\"id\":\"72d9a37f-88b4-4361-90f3-440dec6ed79f\",\"type\":\"Arrow\"},{\"attributes\":{\"data_source\":{\"id\":\"06710cf7-e925-4659-bf50-54628152deec\",\"type\":\"ColumnDataSource\"},\"glyph\":{\"id\":\"c5f8fb3d-4f76-44bd-b387-f2b7d200845e\",\"type\":\"Circle\"},\"hover_glyph\":null,\"muted_glyph\":null,\"name\":\"circle\",\"nonselection_glyph\":{\"id\":\"6d80ab2f-109e-480a-8801-911e3d11400a\",\"type\":\"Circle\"},\"selection_glyph\":null,\"view\":{\"id\":\"a602846a-4548-46cc-857e-e9848f28aa01\",\"type\":\"CDSView\"}},\"id\":\"00a0a234-8928-4417-8195-3ec259401a8b\",\"type\":\"GlyphRenderer\"},{\"attributes\":{\"line_color\":{\"value\":\"firebrick\"},\"line_width\":{\"value\":2},\"plot\":null,\"size\":10},\"id\":\"b34861b1-ab8e-4c59-90a9-87cb184d8479\",\"type\":\"OpenHead\"},{\"attributes\":{\"fill_alpha\":{\"value\":0.1},\"fill_color\":{\"value\":\"#1f77b4\"},\"line_alpha\":{\"value\":0.1},\"line_color\":{\"value\":\"#1f77b4\"},\"size\":{\"units\":\"screen\",\"value\":5},\"x\":{\"value\":0.10594704427043677},\"y\":{\"value\":-0.05903119942139191}},\"id\":\"7fd3c645-e2e7-454e-b6d6-aee5d989e7ed\",\"type\":\"Circle\"},{\"attributes\":{\"end\":{\"id\":\"6271d654-cf91-4f89-8ba6-54fc8a863299\",\"type\":\"OpenHead\"},\"line_color\":{\"value\":\"gray\"},\"plot\":{\"id\":\"bb740ed5-a277-4de5-b363-a2e871c80a0b\",\"subtype\":\"Figure\",\"type\":\"Plot\"},\"source\":null,\"start\":null,\"x_end\":{\"value\":0.17911219468361658},\"x_start\":{\"value\":0.14067759698545465},\"y_end\":{\"value\":-0.045713270439666574},\"y_start\":{\"value\":-0.04644912341258485}},\"id\":\"9b8a7b03-cd10-4dbb-93fb-725bf5b640ad\",\"type\":\"Arrow\"},{\"attributes\":{\"data_source\":{\"id\":\"6c58fc0d-8f31-4880-8f77-1a14d1341316\",\"type\":\"ColumnDataSource\"},\"glyph\":{\"id\":\"62d93ff8-de8e-4f23-9b87-4b1e8c5a32d8\",\"type\":\"Circle\"},\"hover_glyph\":null,\"muted_glyph\":null,\"nonselection_glyph\":{\"id\":\"7fd3c645-e2e7-454e-b6d6-aee5d989e7ed\",\"type\":\"Circle\"},\"selection_glyph\":null,\"view\":{\"id\":\"7b3d9da6-c8ab-496c-a924-f78e87118269\",\"type\":\"CDSView\"}},\"id\":\"868bbcf6-aef1-4141-b87a-df23e40755e8\",\"type\":\"GlyphRenderer\"},{\"attributes\":{\"end\":{\"id\":\"a8bb2f45-f494-41f2-b0cb-06d019c41b00\",\"type\":\"OpenHead\"},\"line_color\":{\"value\":\"gray\"},\"plot\":{\"id\":\"bb740ed5-a277-4de5-b363-a2e871c80a0b\",\"subtype\":\"Figure\",\"type\":\"Plot\"},\"source\":null,\"start\":null,\"x_end\":{\"value\":0.22214272725103207},\"x_start\":{\"value\":0.17911219468361658},\"y_end\":{\"value\":0.24452620519224802},\"y_start\":{\"value\":-0.045713270439666574}},\"id\":\"e42616b7-a07c-4ad9-b253-7118a549960c\",\"type\":\"Arrow\"},{\"attributes\":{\"callback\":null,\"data\":{},\"selected\":null,\"selection_policy\":null},\"id\":\"4e5e5c8b-9813-40a4-9fa3-6684db3dd37c\",\"type\":\"ColumnDataSource\"},{\"attributes\":{\"end\":{\"id\":\"972c31b0-c7c9-476c-9c6d-3e26da9fb3f4\",\"type\":\"OpenHead\"},\"line_color\":{\"value\":\"gray\"},\"plot\":{\"id\":\"bb740ed5-a277-4de5-b363-a2e871c80a0b\",\"subtype\":\"Figure\",\"type\":\"Plot\"},\"source\":null,\"start\":null,\"x_end\":{\"value\":-0.19515182610155588},\"x_start\":{\"value\":-0.19915245755968994},\"y_end\":{\"value\":-0.07954063627419561},\"y_start\":{\"value\":0.11855788700583053}},\"id\":\"7090937b-41d3-464e-b500-0bc2e0d7bfcf\",\"type\":\"Arrow\"},{\"attributes\":{\"fill_alpha\":{\"value\":0.1},\"fill_color\":{\"value\":\"#1f77b4\"},\"line_alpha\":{\"value\":0.1},\"line_color\":{\"value\":\"#1f77b4\"},\"size\":{\"units\":\"screen\",\"value\":10},\"x\":{\"value\":0.18566144524108913},\"y\":{\"value\":-0.10414533996819733}},\"id\":\"098b0731-c786-4b2e-af91-8f631e684acb\",\"type\":\"Circle\"},{\"attributes\":{\"line_color\":{\"value\":\"firebrick\"},\"line_width\":{\"value\":2},\"plot\":null,\"size\":10},\"id\":\"2ae10845-1fe0-447a-b7ee-7d2d9a2987e6\",\"type\":\"OpenHead\"},{\"attributes\":{\"fill_color\":{\"value\":\"red\"},\"line_color\":{\"value\":\"red\"},\"size\":{\"units\":\"screen\",\"value\":10},\"x\":{\"value\":0.10742846419166471},\"y\":{\"value\":0.03134678056404985}},\"id\":\"4d16c4e5-2921-461e-b52e-abf886fa1eee\",\"type\":\"Circle\"},{\"attributes\":{\"end\":{\"id\":\"1fdbe182-5cbd-4cc6-82e1-d3efdaff9059\",\"type\":\"OpenHead\"},\"line_color\":{\"value\":\"gray\"},\"plot\":{\"id\":\"bb740ed5-a277-4de5-b363-a2e871c80a0b\",\"subtype\":\"Figure\",\"type\":\"Plot\"},\"source\":null,\"start\":null,\"x_end\":{\"value\":0.1999614136756642},\"x_start\":{\"value\":0.22214272725103207},\"y_end\":{\"value\":0.02870593468217479},\"y_start\":{\"value\":0.24452620519224802}},\"id\":\"d6c910a2-5866-4f02-9f2b-af31b59df6c2\",\"type\":\"Arrow\"},{\"attributes\":{\"source\":{\"id\":\"4af17c97-7e32-4764-acbd-875278a1bd3a\",\"type\":\"ColumnDataSource\"}},\"id\":\"328bd2b4-4dd0-46b1-9c67-2db69dc3c3e2\",\"type\":\"CDSView\"},{\"attributes\":{\"line_color\":{\"value\":\"firebrick\"},\"line_width\":{\"value\":2},\"plot\":null,\"size\":10},\"id\":\"47309ec3-52b8-4a9a-9832-706d27e3133a\",\"type\":\"OpenHead\"},{\"attributes\":{\"fill_alpha\":{\"value\":0.1},\"fill_color\":{\"value\":\"#1f77b4\"},\"line_alpha\":{\"value\":0.1},\"line_color\":{\"value\":\"#1f77b4\"},\"x\":{\"value\":-0.06456754079328182},\"y\":{\"value\":-0.11244952944947532}},\"id\":\"0466a792-0d28-42fd-9ee1-d4c929bfe740\",\"type\":\"Circle\"},{\"attributes\":{\"end\":{\"id\":\"2ae10845-1fe0-447a-b7ee-7d2d9a2987e6\",\"type\":\"OpenHead\"},\"line_color\":{\"value\":\"gray\"},\"plot\":{\"id\":\"bb740ed5-a277-4de5-b363-a2e871c80a0b\",\"subtype\":\"Figure\",\"type\":\"Plot\"},\"source\":null,\"start\":null,\"x_end\":{\"value\":0.10039698869307132},\"x_start\":{\"value\":0.1999614136756642},\"y_end\":{\"value\":-0.053785988350693446},\"y_start\":{\"value\":0.02870593468217479}},\"id\":\"75a6950c-c660-4670-8f57-3fa956e532ac\",\"type\":\"Arrow\"},{\"attributes\":{\"source\":{\"id\":\"4e5e5c8b-9813-40a4-9fa3-6684db3dd37c\",\"type\":\"ColumnDataSource\"}},\"id\":\"f5269404-1797-419b-ac5b-cd75927c4498\",\"type\":\"CDSView\"},{\"attributes\":{\"line_color\":{\"value\":\"firebrick\"},\"line_width\":{\"value\":2},\"plot\":null,\"size\":10},\"id\":\"5aaeae1a-9949-4d7f-9003-739b56a85e21\",\"type\":\"OpenHead\"},{\"attributes\":{\"end\":{\"id\":\"47309ec3-52b8-4a9a-9832-706d27e3133a\",\"type\":\"OpenHead\"},\"line_color\":{\"value\":\"gray\"},\"plot\":{\"id\":\"bb740ed5-a277-4de5-b363-a2e871c80a0b\",\"subtype\":\"Figure\",\"type\":\"Plot\"},\"source\":null,\"start\":null,\"x_end\":{\"value\":0.14009868294980815},\"x_start\":{\"value\":0.10039698869307132},\"y_end\":{\"value\":-0.09008345387430981},\"y_start\":{\"value\":-0.053785988350693446}},\"id\":\"7e88c562-894c-43ad-91ec-9700d2bde273\",\"type\":\"Arrow\"},{\"attributes\":{\"data_source\":{\"id\":\"4e5e5c8b-9813-40a4-9fa3-6684db3dd37c\",\"type\":\"ColumnDataSource\"},\"glyph\":{\"id\":\"4d16c4e5-2921-461e-b52e-abf886fa1eee\",\"type\":\"Circle\"},\"hover_glyph\":null,\"muted_glyph\":null,\"nonselection_glyph\":{\"id\":\"98b79182-d871-4ada-b58a-ede7a7b58ef2\",\"type\":\"Circle\"},\"selection_glyph\":null,\"view\":{\"id\":\"f5269404-1797-419b-ac5b-cd75927c4498\",\"type\":\"CDSView\"}},\"id\":\"93c540d2-caaa-477f-b339-31c41099fa88\",\"type\":\"GlyphRenderer\"},{\"attributes\":{\"line_color\":{\"value\":\"firebrick\"},\"line_width\":{\"value\":2},\"plot\":null,\"size\":10},\"id\":\"7ef8af58-c109-49a4-bf92-8a9a15e10e65\",\"type\":\"OpenHead\"},{\"attributes\":{\"end\":{\"id\":\"5aaeae1a-9949-4d7f-9003-739b56a85e21\",\"type\":\"OpenHead\"},\"line_color\":{\"value\":\"gray\"},\"plot\":{\"id\":\"bb740ed5-a277-4de5-b363-a2e871c80a0b\",\"subtype\":\"Figure\",\"type\":\"Plot\"},\"source\":null,\"start\":null,\"x_end\":{\"value\":0.06627224262862765},\"x_start\":{\"value\":0.14009868294980815},\"y_end\":{\"value\":-0.04237720498441207},\"y_start\":{\"value\":-0.09008345387430981}},\"id\":\"fd800089-d190-4d6d-93bb-e80f6b729c81\",\"type\":\"Arrow\"},{\"attributes\":{\"line_color\":{\"value\":\"firebrick\"},\"line_width\":{\"value\":2},\"plot\":null,\"size\":10},\"id\":\"802b7df9-e509-4727-9c1a-6716aaf08431\",\"type\":\"OpenHead\"},{\"attributes\":{\"end\":{\"id\":\"7ef8af58-c109-49a4-bf92-8a9a15e10e65\",\"type\":\"OpenHead\"},\"line_color\":{\"value\":\"gray\"},\"plot\":{\"id\":\"bb740ed5-a277-4de5-b363-a2e871c80a0b\",\"subtype\":\"Figure\",\"type\":\"Plot\"},\"source\":null,\"start\":null,\"x_end\":{\"value\":0.13284867556851665},\"x_start\":{\"value\":0.06627224262862765},\"y_end\":{\"value\":-0.061689848742058725},\"y_start\":{\"value\":-0.04237720498441207}},\"id\":\"235f943a-d06d-4106-b8ca-5d70fe32dc7e\",\"type\":\"Arrow\"},{\"attributes\":{\"line_color\":{\"value\":\"firebrick\"},\"line_width\":{\"value\":2},\"plot\":null,\"size\":10},\"id\":\"849cd793-9a14-4138-bcad-3c31c1c06bdc\",\"type\":\"OpenHead\"},{\"attributes\":{\"end\":{\"id\":\"802b7df9-e509-4727-9c1a-6716aaf08431\",\"type\":\"OpenHead\"},\"line_color\":{\"value\":\"gray\"},\"plot\":{\"id\":\"bb740ed5-a277-4de5-b363-a2e871c80a0b\",\"subtype\":\"Figure\",\"type\":\"Plot\"},\"source\":null,\"start\":null,\"x_end\":{\"value\":-0.1519954322952707},\"x_start\":{\"value\":0.13284867556851665},\"y_end\":{\"value\":-0.06884356721499602},\"y_start\":{\"value\":-0.061689848742058725}},\"id\":\"bcd34974-4f6a-4f60-851d-b32898e9a386\",\"type\":\"Arrow\"},{\"attributes\":{\"line_color\":{\"value\":\"firebrick\"},\"line_width\":{\"value\":2},\"plot\":null,\"size\":10},\"id\":\"d49c2467-2209-4e35-9346-5f89f75ba928\",\"type\":\"OpenHead\"},{\"attributes\":{\"end\":{\"id\":\"849cd793-9a14-4138-bcad-3c31c1c06bdc\",\"type\":\"OpenHead\"},\"line_color\":{\"value\":\"gray\"},\"plot\":{\"id\":\"bb740ed5-a277-4de5-b363-a2e871c80a0b\",\"subtype\":\"Figure\",\"type\":\"Plot\"},\"source\":null,\"start\":null,\"x_end\":{\"value\":-0.051278016016823844},\"x_start\":{\"value\":-0.1519954322952707},\"y_end\":{\"value\":0.18837997881389604},\"y_start\":{\"value\":-0.06884356721499602}},\"id\":\"48a456fe-ad15-48ed-a341-87e445502876\",\"type\":\"Arrow\"},{\"attributes\":{\"line_color\":{\"value\":\"firebrick\"},\"line_width\":{\"value\":2},\"plot\":null,\"size\":10},\"id\":\"d84987b6-5352-4fe5-8290-87776743ac8a\",\"type\":\"OpenHead\"},{\"attributes\":{\"end\":{\"id\":\"d49c2467-2209-4e35-9346-5f89f75ba928\",\"type\":\"OpenHead\"},\"line_color\":{\"value\":\"gray\"},\"plot\":{\"id\":\"bb740ed5-a277-4de5-b363-a2e871c80a0b\",\"subtype\":\"Figure\",\"type\":\"Plot\"},\"source\":null,\"start\":null,\"x_end\":{\"value\":-0.12119808958587845},\"x_start\":{\"value\":-0.051278016016823844},\"y_end\":{\"value\":-0.05890750085473817},\"y_start\":{\"value\":0.18837997881389604}},\"id\":\"438a1b39-f976-41d4-83ab-95eb2e92c086\",\"type\":\"Arrow\"},{\"attributes\":{\"line_color\":{\"value\":\"firebrick\"},\"line_width\":{\"value\":2},\"plot\":null,\"size\":10},\"id\":\"320d4adb-0e11-4d03-8661-0d05602fbf88\",\"type\":\"OpenHead\"},{\"attributes\":{\"fill_color\":{\"value\":\"black\"},\"x\":{\"value\":-0.06456754079328182},\"y\":{\"value\":-0.11244952944947532}},\"id\":\"0a4ad5f4-66eb-48d7-8792-b1ae34fa9d83\",\"type\":\"Circle\"},{\"attributes\":{\"end\":{\"id\":\"d84987b6-5352-4fe5-8290-87776743ac8a\",\"type\":\"OpenHead\"},\"line_color\":{\"value\":\"gray\"},\"plot\":{\"id\":\"bb740ed5-a277-4de5-b363-a2e871c80a0b\",\"subtype\":\"Figure\",\"type\":\"Plot\"},\"source\":null,\"start\":null,\"x_end\":{\"value\":-0.13248902381677094},\"x_start\":{\"value\":-0.12119808958587845},\"y_end\":{\"value\":0.17571457996771106},\"y_start\":{\"value\":-0.05890750085473817}},\"id\":\"17d104fa-b0dc-45ed-9ec3-3e9eab506f56\",\"type\":\"Arrow\"},{\"attributes\":{\"line_color\":{\"value\":\"firebrick\"},\"line_width\":{\"value\":2},\"plot\":null,\"size\":10},\"id\":\"9a6fc9c1-dc36-49d0-b582-1773cd7c1aa0\",\"type\":\"OpenHead\"},{\"attributes\":{\"end\":{\"id\":\"320d4adb-0e11-4d03-8661-0d05602fbf88\",\"type\":\"OpenHead\"},\"line_color\":{\"value\":\"gray\"},\"plot\":{\"id\":\"bb740ed5-a277-4de5-b363-a2e871c80a0b\",\"subtype\":\"Figure\",\"type\":\"Plot\"},\"source\":null,\"start\":null,\"x_end\":{\"value\":-0.15882414118447305},\"x_start\":{\"value\":-0.13248902381677094},\"y_end\":{\"value\":-0.07568138951275329},\"y_start\":{\"value\":0.17571457996771106}},\"id\":\"bc66d813-8042-4565-b805-70dcaf330921\",\"type\":\"Arrow\"},{\"attributes\":{\"line_color\":{\"value\":\"firebrick\"},\"line_width\":{\"value\":2},\"plot\":null,\"size\":10},\"id\":\"a93e93da-1d04-4930-b78b-4b1959a439ce\",\"type\":\"OpenHead\"},{\"attributes\":{\"end\":{\"id\":\"9a6fc9c1-dc36-49d0-b582-1773cd7c1aa0\",\"type\":\"OpenHead\"},\"line_color\":{\"value\":\"gray\"},\"plot\":{\"id\":\"bb740ed5-a277-4de5-b363-a2e871c80a0b\",\"subtype\":\"Figure\",\"type\":\"Plot\"},\"source\":null,\"start\":null,\"x_end\":{\"value\":-0.1759955903533492},\"x_start\":{\"value\":-0.15882414118447305},\"y_end\":{\"value\":0.1287215420369716},\"y_start\":{\"value\":-0.07568138951275329}},\"id\":\"8bc9f4f6-c249-4a7d-a8e3-178a80d8a0b1\",\"type\":\"Arrow\"},{\"attributes\":{\"line_color\":{\"value\":\"firebrick\"},\"line_width\":{\"value\":2},\"plot\":null,\"size\":10},\"id\":\"19fc4996-534b-4afd-a41c-82256dc24b95\",\"type\":\"OpenHead\"},{\"attributes\":{\"end\":{\"id\":\"a93e93da-1d04-4930-b78b-4b1959a439ce\",\"type\":\"OpenHead\"},\"line_color\":{\"value\":\"gray\"},\"plot\":{\"id\":\"bb740ed5-a277-4de5-b363-a2e871c80a0b\",\"subtype\":\"Figure\",\"type\":\"Plot\"},\"source\":null,\"start\":null,\"x_end\":{\"value\":-0.18324135263245564},\"x_start\":{\"value\":-0.1759955903533492},\"y_end\":{\"value\":-0.0772466891660417},\"y_start\":{\"value\":0.1287215420369716}},\"id\":\"1ea2fc08-4398-4745-9002-8bb14d6bbe56\",\"type\":\"Arrow\"},{\"attributes\":{\"end\":{\"id\":\"a6ac8b5e-fa4b-4286-94ed-04b1e5c12059\",\"type\":\"OpenHead\"},\"line_color\":{\"value\":\"gray\"},\"plot\":{\"id\":\"bb740ed5-a277-4de5-b363-a2e871c80a0b\",\"subtype\":\"Figure\",\"type\":\"Plot\"},\"source\":null,\"start\":null,\"x_end\":{\"value\":0.14067759698545465},\"x_start\":{\"value\":0.18566144524108913},\"y_end\":{\"value\":-0.04644912341258485},\"y_start\":{\"value\":-0.10414533996819733}},\"id\":\"991e437d-e6a6-4d98-b188-ffc41eb6460c\",\"type\":\"Arrow\"},{\"attributes\":{\"line_color\":{\"value\":\"firebrick\"},\"line_width\":{\"value\":2},\"plot\":null,\"size\":10},\"id\":\"972c31b0-c7c9-476c-9c6d-3e26da9fb3f4\",\"type\":\"OpenHead\"},{\"attributes\":{\"end\":{\"id\":\"19fc4996-534b-4afd-a41c-82256dc24b95\",\"type\":\"OpenHead\"},\"line_color\":{\"value\":\"gray\"},\"plot\":{\"id\":\"bb740ed5-a277-4de5-b363-a2e871c80a0b\",\"subtype\":\"Figure\",\"type\":\"Plot\"},\"source\":null,\"start\":null,\"x_end\":{\"value\":-0.19915245755968994},\"x_start\":{\"value\":-0.18324135263245564},\"y_end\":{\"value\":0.11855788700583053},\"y_start\":{\"value\":-0.0772466891660417}},\"id\":\"51ae6bce-36ae-4e91-86d5-50c778fffa67\",\"type\":\"Arrow\"},{\"attributes\":{\"line_color\":{\"value\":\"firebrick\"},\"line_width\":{\"value\":2},\"plot\":null,\"size\":10},\"id\":\"26b95ce2-218d-478d-8c8b-6eb02dbdacf9\",\"type\":\"OpenHead\"},{\"attributes\":{\"end\":{\"id\":\"26b95ce2-218d-478d-8c8b-6eb02dbdacf9\",\"type\":\"OpenHead\"},\"line_color\":{\"value\":\"gray\"},\"plot\":{\"id\":\"bb740ed5-a277-4de5-b363-a2e871c80a0b\",\"subtype\":\"Figure\",\"type\":\"Plot\"},\"source\":null,\"start\":null,\"x_end\":{\"value\":-0.14091936431604551},\"x_start\":{\"value\":-0.19515182610155588},\"y_end\":{\"value\":-0.006985859745187405},\"y_start\":{\"value\":-0.07954063627419561}},\"id\":\"0ceb9506-8790-4dba-af7e-7d9c044ee057\",\"type\":\"Arrow\"}],\"root_ids\":[\"bb740ed5-a277-4de5-b363-a2e871c80a0b\"]},\"title\":\"Bokeh Application\",\"version\":\"0.12.15\"}};\n",
       "  var render_items = [{\"docid\":\"fa2cad01-62d6-4c31-b133-7fc3c776b8f9\",\"elementid\":\"ee8e4d2c-656e-4513-82ef-b6a98e0ed20e\",\"modelid\":\"bb740ed5-a277-4de5-b363-a2e871c80a0b\"}];\n",
       "  root.Bokeh.embed.embed_items_notebook(docs_json, render_items);\n",
       "\n",
       "  }\n",
       "  if (root.Bokeh !== undefined) {\n",
       "    embed_document(root);\n",
       "  } else {\n",
       "    var attempts = 0;\n",
       "    var timer = setInterval(function(root) {\n",
       "      if (root.Bokeh !== undefined) {\n",
       "        embed_document(root);\n",
       "        clearInterval(timer);\n",
       "      }\n",
       "      attempts++;\n",
       "      if (attempts > 100) {\n",
       "        console.log(\"Bokeh: ERROR: Unable to run BokehJS code because BokehJS library is missing\")\n",
       "        clearInterval(timer);\n",
       "      }\n",
       "    }, 10, root)\n",
       "  }\n",
       "})(window);"
      ],
      "application/vnd.bokehjs_exec.v0+json": ""
     },
     "metadata": {
      "application/vnd.bokehjs_exec.v0+json": {
       "id": "bb740ed5-a277-4de5-b363-a2e871c80a0b"
      }
     },
     "output_type": "display_data"
    }
   ],
   "source": [
    "show(p)"
   ]
  },
  {
   "cell_type": "code",
   "execution_count": null,
   "metadata": {},
   "outputs": [],
   "source": []
  },
  {
   "cell_type": "code",
   "execution_count": null,
   "metadata": {},
   "outputs": [],
   "source": []
  },
  {
   "cell_type": "code",
   "execution_count": null,
   "metadata": {},
   "outputs": [],
   "source": []
  }
 ],
 "metadata": {
  "kernelspec": {
   "display_name": "Python 3",
   "language": "python",
   "name": "python3"
  },
  "language_info": {
   "codemirror_mode": {
    "name": "ipython",
    "version": 3
   },
   "file_extension": ".py",
   "mimetype": "text/x-python",
   "name": "python",
   "nbconvert_exporter": "python",
   "pygments_lexer": "ipython3",
   "version": "3.6.4"
  }
 },
 "nbformat": 4,
 "nbformat_minor": 2
}
