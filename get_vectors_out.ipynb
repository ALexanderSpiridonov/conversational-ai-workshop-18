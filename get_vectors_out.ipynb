{
 "cells": [
  {
   "cell_type": "code",
   "execution_count": 1,
   "metadata": {},
   "outputs": [
    {
     "name": "stderr",
     "output_type": "stream",
     "text": [
      "/anaconda/lib/python3.6/site-packages/h5py/__init__.py:34: FutureWarning: Conversion of the second argument of issubdtype from `float` to `np.floating` is deprecated. In future, it will be treated as `np.float64 == np.dtype(float).type`.\n",
      "  from ._conv import register_converters as _register_converters\n"
     ]
    },
    {
     "name": "stdout",
     "output_type": "stream",
     "text": [
      "INFO:tensorflow:Restoring parameters from models/dialogue_embed/policy_0_EmbeddingPolicy/tensorflow_embedding.ckpt\n"
     ]
    },
    {
     "name": "stderr",
     "output_type": "stream",
     "text": [
      "/anaconda/lib/python3.6/site-packages/pykwalify/core.py:99: UnsafeLoaderWarning: \n",
      "The default 'Loader' for 'load(stream)' without further arguments can be unsafe.\n",
      "Use 'load(stream, Loader=ruamel.yaml.Loader)' explicitly if that is OK.\n",
      "Alternatively include the following in your code:\n",
      "\n",
      "  import warnings\n",
      "  warnings.simplefilter('ignore', ruamel.yaml.error.UnsafeLoaderWarning)\n",
      "\n",
      "In most other cases you should consider using 'safe_load(stream)'\n",
      "  data = yaml.load(stream)\n"
     ]
    },
    {
     "data": {
      "text/html": [
       "\n",
       "    <div class=\"bk-root\">\n",
       "        <a href=\"https://bokeh.pydata.org\" target=\"_blank\" class=\"bk-logo bk-logo-small bk-logo-notebook\"></a>\n",
       "        <span id=\"0797da66-7c07-469e-b231-1cd9ee5abc5f\">Loading BokehJS ...</span>\n",
       "    </div>"
      ]
     },
     "metadata": {},
     "output_type": "display_data"
    },
    {
     "data": {
      "application/javascript": [
       "\n",
       "(function(root) {\n",
       "  function now() {\n",
       "    return new Date();\n",
       "  }\n",
       "\n",
       "  var force = true;\n",
       "\n",
       "  if (typeof (root._bokeh_onload_callbacks) === \"undefined\" || force === true) {\n",
       "    root._bokeh_onload_callbacks = [];\n",
       "    root._bokeh_is_loading = undefined;\n",
       "  }\n",
       "\n",
       "  var JS_MIME_TYPE = 'application/javascript';\n",
       "  var HTML_MIME_TYPE = 'text/html';\n",
       "  var EXEC_MIME_TYPE = 'application/vnd.bokehjs_exec.v0+json';\n",
       "  var CLASS_NAME = 'output_bokeh rendered_html';\n",
       "\n",
       "  /**\n",
       "   * Render data to the DOM node\n",
       "   */\n",
       "  function render(props, node) {\n",
       "    var script = document.createElement(\"script\");\n",
       "    node.appendChild(script);\n",
       "  }\n",
       "\n",
       "  /**\n",
       "   * Handle when an output is cleared or removed\n",
       "   */\n",
       "  function handleClearOutput(event, handle) {\n",
       "    var cell = handle.cell;\n",
       "\n",
       "    var id = cell.output_area._bokeh_element_id;\n",
       "    var server_id = cell.output_area._bokeh_server_id;\n",
       "    // Clean up Bokeh references\n",
       "    if (id !== undefined) {\n",
       "      Bokeh.index[id].model.document.clear();\n",
       "      delete Bokeh.index[id];\n",
       "    }\n",
       "\n",
       "    if (server_id !== undefined) {\n",
       "      // Clean up Bokeh references\n",
       "      var cmd = \"from bokeh.io.state import curstate; print(curstate().uuid_to_server['\" + server_id + \"'].get_sessions()[0].document.roots[0]._id)\";\n",
       "      cell.notebook.kernel.execute(cmd, {\n",
       "        iopub: {\n",
       "          output: function(msg) {\n",
       "            var element_id = msg.content.text.trim();\n",
       "            Bokeh.index[element_id].model.document.clear();\n",
       "            delete Bokeh.index[element_id];\n",
       "          }\n",
       "        }\n",
       "      });\n",
       "      // Destroy server and session\n",
       "      var cmd = \"import bokeh.io.notebook as ion; ion.destroy_server('\" + server_id + \"')\";\n",
       "      cell.notebook.kernel.execute(cmd);\n",
       "    }\n",
       "  }\n",
       "\n",
       "  /**\n",
       "   * Handle when a new output is added\n",
       "   */\n",
       "  function handleAddOutput(event, handle) {\n",
       "    var output_area = handle.output_area;\n",
       "    var output = handle.output;\n",
       "\n",
       "    // limit handleAddOutput to display_data with EXEC_MIME_TYPE content only\n",
       "    if ((output.output_type != \"display_data\") || (!output.data.hasOwnProperty(EXEC_MIME_TYPE))) {\n",
       "      return\n",
       "    }\n",
       "\n",
       "    var toinsert = output_area.element.find(\".\" + CLASS_NAME.split(' ')[0]);\n",
       "\n",
       "    if (output.metadata[EXEC_MIME_TYPE][\"id\"] !== undefined) {\n",
       "      toinsert[toinsert.length - 1].firstChild.textContent = output.data[JS_MIME_TYPE];\n",
       "      // store reference to embed id on output_area\n",
       "      output_area._bokeh_element_id = output.metadata[EXEC_MIME_TYPE][\"id\"];\n",
       "    }\n",
       "    if (output.metadata[EXEC_MIME_TYPE][\"server_id\"] !== undefined) {\n",
       "      var bk_div = document.createElement(\"div\");\n",
       "      bk_div.innerHTML = output.data[HTML_MIME_TYPE];\n",
       "      var script_attrs = bk_div.children[0].attributes;\n",
       "      for (var i = 0; i < script_attrs.length; i++) {\n",
       "        toinsert[toinsert.length - 1].firstChild.setAttribute(script_attrs[i].name, script_attrs[i].value);\n",
       "      }\n",
       "      // store reference to server id on output_area\n",
       "      output_area._bokeh_server_id = output.metadata[EXEC_MIME_TYPE][\"server_id\"];\n",
       "    }\n",
       "  }\n",
       "\n",
       "  function register_renderer(events, OutputArea) {\n",
       "\n",
       "    function append_mime(data, metadata, element) {\n",
       "      // create a DOM node to render to\n",
       "      var toinsert = this.create_output_subarea(\n",
       "        metadata,\n",
       "        CLASS_NAME,\n",
       "        EXEC_MIME_TYPE\n",
       "      );\n",
       "      this.keyboard_manager.register_events(toinsert);\n",
       "      // Render to node\n",
       "      var props = {data: data, metadata: metadata[EXEC_MIME_TYPE]};\n",
       "      render(props, toinsert[toinsert.length - 1]);\n",
       "      element.append(toinsert);\n",
       "      return toinsert\n",
       "    }\n",
       "\n",
       "    /* Handle when an output is cleared or removed */\n",
       "    events.on('clear_output.CodeCell', handleClearOutput);\n",
       "    events.on('delete.Cell', handleClearOutput);\n",
       "\n",
       "    /* Handle when a new output is added */\n",
       "    events.on('output_added.OutputArea', handleAddOutput);\n",
       "\n",
       "    /**\n",
       "     * Register the mime type and append_mime function with output_area\n",
       "     */\n",
       "    OutputArea.prototype.register_mime_type(EXEC_MIME_TYPE, append_mime, {\n",
       "      /* Is output safe? */\n",
       "      safe: true,\n",
       "      /* Index of renderer in `output_area.display_order` */\n",
       "      index: 0\n",
       "    });\n",
       "  }\n",
       "\n",
       "  // register the mime type if in Jupyter Notebook environment and previously unregistered\n",
       "  if (root.Jupyter !== undefined) {\n",
       "    var events = require('base/js/events');\n",
       "    var OutputArea = require('notebook/js/outputarea').OutputArea;\n",
       "\n",
       "    if (OutputArea.prototype.mime_types().indexOf(EXEC_MIME_TYPE) == -1) {\n",
       "      register_renderer(events, OutputArea);\n",
       "    }\n",
       "  }\n",
       "\n",
       "  \n",
       "  if (typeof (root._bokeh_timeout) === \"undefined\" || force === true) {\n",
       "    root._bokeh_timeout = Date.now() + 5000;\n",
       "    root._bokeh_failed_load = false;\n",
       "  }\n",
       "\n",
       "  var NB_LOAD_WARNING = {'data': {'text/html':\n",
       "     \"<div style='background-color: #fdd'>\\n\"+\n",
       "     \"<p>\\n\"+\n",
       "     \"BokehJS does not appear to have successfully loaded. If loading BokehJS from CDN, this \\n\"+\n",
       "     \"may be due to a slow or bad network connection. Possible fixes:\\n\"+\n",
       "     \"</p>\\n\"+\n",
       "     \"<ul>\\n\"+\n",
       "     \"<li>re-rerun `output_notebook()` to attempt to load from CDN again, or</li>\\n\"+\n",
       "     \"<li>use INLINE resources instead, as so:</li>\\n\"+\n",
       "     \"</ul>\\n\"+\n",
       "     \"<code>\\n\"+\n",
       "     \"from bokeh.resources import INLINE\\n\"+\n",
       "     \"output_notebook(resources=INLINE)\\n\"+\n",
       "     \"</code>\\n\"+\n",
       "     \"</div>\"}};\n",
       "\n",
       "  function display_loaded() {\n",
       "    var el = document.getElementById(\"0797da66-7c07-469e-b231-1cd9ee5abc5f\");\n",
       "    if (el != null) {\n",
       "      el.textContent = \"BokehJS is loading...\";\n",
       "    }\n",
       "    if (root.Bokeh !== undefined) {\n",
       "      if (el != null) {\n",
       "        el.textContent = \"BokehJS \" + root.Bokeh.version + \" successfully loaded.\";\n",
       "      }\n",
       "    } else if (Date.now() < root._bokeh_timeout) {\n",
       "      setTimeout(display_loaded, 100)\n",
       "    }\n",
       "  }\n",
       "\n",
       "\n",
       "  function run_callbacks() {\n",
       "    try {\n",
       "      root._bokeh_onload_callbacks.forEach(function(callback) { callback() });\n",
       "    }\n",
       "    finally {\n",
       "      delete root._bokeh_onload_callbacks\n",
       "    }\n",
       "    console.info(\"Bokeh: all callbacks have finished\");\n",
       "  }\n",
       "\n",
       "  function load_libs(js_urls, callback) {\n",
       "    root._bokeh_onload_callbacks.push(callback);\n",
       "    if (root._bokeh_is_loading > 0) {\n",
       "      console.log(\"Bokeh: BokehJS is being loaded, scheduling callback at\", now());\n",
       "      return null;\n",
       "    }\n",
       "    if (js_urls == null || js_urls.length === 0) {\n",
       "      run_callbacks();\n",
       "      return null;\n",
       "    }\n",
       "    console.log(\"Bokeh: BokehJS not loaded, scheduling load and callback at\", now());\n",
       "    root._bokeh_is_loading = js_urls.length;\n",
       "    for (var i = 0; i < js_urls.length; i++) {\n",
       "      var url = js_urls[i];\n",
       "      var s = document.createElement('script');\n",
       "      s.src = url;\n",
       "      s.async = false;\n",
       "      s.onreadystatechange = s.onload = function() {\n",
       "        root._bokeh_is_loading--;\n",
       "        if (root._bokeh_is_loading === 0) {\n",
       "          console.log(\"Bokeh: all BokehJS libraries loaded\");\n",
       "          run_callbacks()\n",
       "        }\n",
       "      };\n",
       "      s.onerror = function() {\n",
       "        console.warn(\"failed to load library \" + url);\n",
       "      };\n",
       "      console.log(\"Bokeh: injecting script tag for BokehJS library: \", url);\n",
       "      document.getElementsByTagName(\"head\")[0].appendChild(s);\n",
       "    }\n",
       "  };var element = document.getElementById(\"0797da66-7c07-469e-b231-1cd9ee5abc5f\");\n",
       "  if (element == null) {\n",
       "    console.log(\"Bokeh: ERROR: autoload.js configured with elementid '0797da66-7c07-469e-b231-1cd9ee5abc5f' but no matching script tag was found. \")\n",
       "    return false;\n",
       "  }\n",
       "\n",
       "  var js_urls = [\"https://cdn.pydata.org/bokeh/release/bokeh-0.12.15.min.js\", \"https://cdn.pydata.org/bokeh/release/bokeh-widgets-0.12.15.min.js\", \"https://cdn.pydata.org/bokeh/release/bokeh-tables-0.12.15.min.js\", \"https://cdn.pydata.org/bokeh/release/bokeh-gl-0.12.15.min.js\"];\n",
       "\n",
       "  var inline_js = [\n",
       "    function(Bokeh) {\n",
       "      Bokeh.set_log_level(\"info\");\n",
       "    },\n",
       "    \n",
       "    function(Bokeh) {\n",
       "      \n",
       "    },\n",
       "    function(Bokeh) {\n",
       "      console.log(\"Bokeh: injecting CSS: https://cdn.pydata.org/bokeh/release/bokeh-0.12.15.min.css\");\n",
       "      Bokeh.embed.inject_css(\"https://cdn.pydata.org/bokeh/release/bokeh-0.12.15.min.css\");\n",
       "      console.log(\"Bokeh: injecting CSS: https://cdn.pydata.org/bokeh/release/bokeh-widgets-0.12.15.min.css\");\n",
       "      Bokeh.embed.inject_css(\"https://cdn.pydata.org/bokeh/release/bokeh-widgets-0.12.15.min.css\");\n",
       "      console.log(\"Bokeh: injecting CSS: https://cdn.pydata.org/bokeh/release/bokeh-tables-0.12.15.min.css\");\n",
       "      Bokeh.embed.inject_css(\"https://cdn.pydata.org/bokeh/release/bokeh-tables-0.12.15.min.css\");\n",
       "    }\n",
       "  ];\n",
       "\n",
       "  function run_inline_js() {\n",
       "    \n",
       "    if ((root.Bokeh !== undefined) || (force === true)) {\n",
       "      for (var i = 0; i < inline_js.length; i++) {\n",
       "        inline_js[i].call(root, root.Bokeh);\n",
       "      }if (force === true) {\n",
       "        display_loaded();\n",
       "      }} else if (Date.now() < root._bokeh_timeout) {\n",
       "      setTimeout(run_inline_js, 100);\n",
       "    } else if (!root._bokeh_failed_load) {\n",
       "      console.log(\"Bokeh: BokehJS failed to load within specified timeout.\");\n",
       "      root._bokeh_failed_load = true;\n",
       "    } else if (force !== true) {\n",
       "      var cell = $(document.getElementById(\"0797da66-7c07-469e-b231-1cd9ee5abc5f\")).parents('.cell').data().cell;\n",
       "      cell.output_area.append_execute_result(NB_LOAD_WARNING)\n",
       "    }\n",
       "\n",
       "  }\n",
       "\n",
       "  if (root._bokeh_is_loading === 0) {\n",
       "    console.log(\"Bokeh: BokehJS loaded, going straight to plotting\");\n",
       "    run_inline_js();\n",
       "  } else {\n",
       "    load_libs(js_urls, function() {\n",
       "      console.log(\"Bokeh: BokehJS plotting callback run at\", now());\n",
       "      run_inline_js();\n",
       "    });\n",
       "  }\n",
       "}(window));"
      ],
      "application/vnd.bokehjs_load.v0+json": "\n(function(root) {\n  function now() {\n    return new Date();\n  }\n\n  var force = true;\n\n  if (typeof (root._bokeh_onload_callbacks) === \"undefined\" || force === true) {\n    root._bokeh_onload_callbacks = [];\n    root._bokeh_is_loading = undefined;\n  }\n\n  \n\n  \n  if (typeof (root._bokeh_timeout) === \"undefined\" || force === true) {\n    root._bokeh_timeout = Date.now() + 5000;\n    root._bokeh_failed_load = false;\n  }\n\n  var NB_LOAD_WARNING = {'data': {'text/html':\n     \"<div style='background-color: #fdd'>\\n\"+\n     \"<p>\\n\"+\n     \"BokehJS does not appear to have successfully loaded. If loading BokehJS from CDN, this \\n\"+\n     \"may be due to a slow or bad network connection. Possible fixes:\\n\"+\n     \"</p>\\n\"+\n     \"<ul>\\n\"+\n     \"<li>re-rerun `output_notebook()` to attempt to load from CDN again, or</li>\\n\"+\n     \"<li>use INLINE resources instead, as so:</li>\\n\"+\n     \"</ul>\\n\"+\n     \"<code>\\n\"+\n     \"from bokeh.resources import INLINE\\n\"+\n     \"output_notebook(resources=INLINE)\\n\"+\n     \"</code>\\n\"+\n     \"</div>\"}};\n\n  function display_loaded() {\n    var el = document.getElementById(\"0797da66-7c07-469e-b231-1cd9ee5abc5f\");\n    if (el != null) {\n      el.textContent = \"BokehJS is loading...\";\n    }\n    if (root.Bokeh !== undefined) {\n      if (el != null) {\n        el.textContent = \"BokehJS \" + root.Bokeh.version + \" successfully loaded.\";\n      }\n    } else if (Date.now() < root._bokeh_timeout) {\n      setTimeout(display_loaded, 100)\n    }\n  }\n\n\n  function run_callbacks() {\n    try {\n      root._bokeh_onload_callbacks.forEach(function(callback) { callback() });\n    }\n    finally {\n      delete root._bokeh_onload_callbacks\n    }\n    console.info(\"Bokeh: all callbacks have finished\");\n  }\n\n  function load_libs(js_urls, callback) {\n    root._bokeh_onload_callbacks.push(callback);\n    if (root._bokeh_is_loading > 0) {\n      console.log(\"Bokeh: BokehJS is being loaded, scheduling callback at\", now());\n      return null;\n    }\n    if (js_urls == null || js_urls.length === 0) {\n      run_callbacks();\n      return null;\n    }\n    console.log(\"Bokeh: BokehJS not loaded, scheduling load and callback at\", now());\n    root._bokeh_is_loading = js_urls.length;\n    for (var i = 0; i < js_urls.length; i++) {\n      var url = js_urls[i];\n      var s = document.createElement('script');\n      s.src = url;\n      s.async = false;\n      s.onreadystatechange = s.onload = function() {\n        root._bokeh_is_loading--;\n        if (root._bokeh_is_loading === 0) {\n          console.log(\"Bokeh: all BokehJS libraries loaded\");\n          run_callbacks()\n        }\n      };\n      s.onerror = function() {\n        console.warn(\"failed to load library \" + url);\n      };\n      console.log(\"Bokeh: injecting script tag for BokehJS library: \", url);\n      document.getElementsByTagName(\"head\")[0].appendChild(s);\n    }\n  };var element = document.getElementById(\"0797da66-7c07-469e-b231-1cd9ee5abc5f\");\n  if (element == null) {\n    console.log(\"Bokeh: ERROR: autoload.js configured with elementid '0797da66-7c07-469e-b231-1cd9ee5abc5f' but no matching script tag was found. \")\n    return false;\n  }\n\n  var js_urls = [\"https://cdn.pydata.org/bokeh/release/bokeh-0.12.15.min.js\", \"https://cdn.pydata.org/bokeh/release/bokeh-widgets-0.12.15.min.js\", \"https://cdn.pydata.org/bokeh/release/bokeh-tables-0.12.15.min.js\", \"https://cdn.pydata.org/bokeh/release/bokeh-gl-0.12.15.min.js\"];\n\n  var inline_js = [\n    function(Bokeh) {\n      Bokeh.set_log_level(\"info\");\n    },\n    \n    function(Bokeh) {\n      \n    },\n    function(Bokeh) {\n      console.log(\"Bokeh: injecting CSS: https://cdn.pydata.org/bokeh/release/bokeh-0.12.15.min.css\");\n      Bokeh.embed.inject_css(\"https://cdn.pydata.org/bokeh/release/bokeh-0.12.15.min.css\");\n      console.log(\"Bokeh: injecting CSS: https://cdn.pydata.org/bokeh/release/bokeh-widgets-0.12.15.min.css\");\n      Bokeh.embed.inject_css(\"https://cdn.pydata.org/bokeh/release/bokeh-widgets-0.12.15.min.css\");\n      console.log(\"Bokeh: injecting CSS: https://cdn.pydata.org/bokeh/release/bokeh-tables-0.12.15.min.css\");\n      Bokeh.embed.inject_css(\"https://cdn.pydata.org/bokeh/release/bokeh-tables-0.12.15.min.css\");\n    }\n  ];\n\n  function run_inline_js() {\n    \n    if ((root.Bokeh !== undefined) || (force === true)) {\n      for (var i = 0; i < inline_js.length; i++) {\n        inline_js[i].call(root, root.Bokeh);\n      }if (force === true) {\n        display_loaded();\n      }} else if (Date.now() < root._bokeh_timeout) {\n      setTimeout(run_inline_js, 100);\n    } else if (!root._bokeh_failed_load) {\n      console.log(\"Bokeh: BokehJS failed to load within specified timeout.\");\n      root._bokeh_failed_load = true;\n    } else if (force !== true) {\n      var cell = $(document.getElementById(\"0797da66-7c07-469e-b231-1cd9ee5abc5f\")).parents('.cell').data().cell;\n      cell.output_area.append_execute_result(NB_LOAD_WARNING)\n    }\n\n  }\n\n  if (root._bokeh_is_loading === 0) {\n    console.log(\"Bokeh: BokehJS loaded, going straight to plotting\");\n    run_inline_js();\n  } else {\n    load_libs(js_urls, function() {\n      console.log(\"Bokeh: BokehJS plotting callback run at\", now());\n      run_inline_js();\n    });\n  }\n}(window));"
     },
     "metadata": {},
     "output_type": "display_data"
    }
   ],
   "source": [
    "import rasa_core\n",
    "from rasa_core.agent import Agent\n",
    "from bokeh.io import output_notebook\n",
    "agent = Agent.load(\"models/dialogue_embed\")\n",
    "# agent = Agent.load(\"models/dialogue_embed_before_norm_loss\")\n",
    "output_notebook()"
   ]
  },
  {
   "cell_type": "code",
   "execution_count": 2,
   "metadata": {},
   "outputs": [],
   "source": [
    "policy = agent.policy_ensemble.policies[0]\n",
    "interpreter = agent.interpreter"
   ]
  },
  {
   "cell_type": "code",
   "execution_count": 3,
   "metadata": {},
   "outputs": [],
   "source": [
    "domain = agent.domain\n"
   ]
  },
  {
   "cell_type": "code",
   "execution_count": 4,
   "metadata": {},
   "outputs": [],
   "source": [
    "from rasa_core.training.structures import StoryGraph\n",
    "from rasa_core.training.dsl import StoryFileReader\n",
    "from rasa_core.trackers import DialogueStateTracker\n",
    "from rasa_core.channels import UserMessage\n",
    "import numpy as np\n",
    "np.set_printoptions(precision=3, suppress=True)\n",
    "\n",
    "def embedding_from_tracker(story, bot=False):\n",
    "    reader = StoryFileReader(domain, interpreter)\n",
    "    story = story.split('\\n')\n",
    "    story_steps = reader.process_lines(story)\n",
    "#     story_graph = StoryGraph(story_steps)\n",
    "    tracker = DialogueStateTracker(\n",
    "            1,\n",
    "            domain.slots\n",
    "    )\n",
    "    tracker._reset()\n",
    "    for step in story_steps:\n",
    "        events = step.explicit_events(domain)\n",
    "        for event in events:\n",
    "            tracker.update(event)\n",
    "    data_X = policy.featurizer.create_X([tracker], domain)\n",
    "\n",
    "    X, slots, prev_act = policy._create_X_slots_prev_acts(data_X)\n",
    "    x_for_action_listen = policy._create_x_for_action_listen(domain)\n",
    "    all_Y_d = policy._create_all_Y_d(X.shape[1])\n",
    "    all_Y_d_x = np.stack([all_Y_d for _ in range(X.shape[0])])\n",
    "    dial_vec = policy.session.run(policy.dial_embed, feed_dict={policy.a_in: X,\n",
    "                                           policy.b_in: all_Y_d_x,\n",
    "                                           policy.c_in: slots,\n",
    "                                           policy.b_prev_in: prev_act,\n",
    "                                           policy._dialogue_len: X.shape[1],\n",
    "                                           policy._x_for_action_listen_in: x_for_action_listen})\n",
    "    bot_vec = policy.session.run(policy.bot_embed, feed_dict={policy.a_in: X,\n",
    "                                           policy.b_in: all_Y_d_x,\n",
    "                                           policy.c_in: slots,\n",
    "                                           policy.b_prev_in: prev_act,\n",
    "                                           policy._dialogue_len: X.shape[1],\n",
    "                                           policy._x_for_action_listen_in: x_for_action_listen})\n",
    "\n",
    "    no_skip_gate = policy.session.run(policy.no_skip_gate, feed_dict={policy.a_in: X,\n",
    "                                           policy.b_in: all_Y_d_x,\n",
    "                                           policy.c_in: slots,\n",
    "                                           policy.b_prev_in: prev_act,\n",
    "                                           policy._dialogue_len: X.shape[1],\n",
    "                                           policy._x_for_action_listen_in: x_for_action_listen})\n",
    "    attn_embed = policy.session.run(policy.attn_embed, feed_dict={policy.a_in: X,\n",
    "                                           policy.b_in: all_Y_d_x,\n",
    "                                           policy.c_in: slots,\n",
    "                                           policy.b_prev_in: prev_act,\n",
    "                                           policy._dialogue_len: X.shape[1],\n",
    "                                           policy._x_for_action_listen_in: x_for_action_listen})\n",
    "    rnn_embed = policy.session.run(policy.rnn_embed, feed_dict={policy.a_in: X,\n",
    "                                           policy.b_in: all_Y_d_x,\n",
    "                                           policy.c_in: slots,\n",
    "                                           policy.b_prev_in: prev_act,\n",
    "                                           policy._dialogue_len: X.shape[1],\n",
    "                                           policy._x_for_action_listen_in: x_for_action_listen})\n",
    "    probs = policy.session.run(policy.alignment_history, feed_dict={policy.a_in: X,\n",
    "                                           policy.b_in: all_Y_d_x,\n",
    "                                           policy.c_in: slots,\n",
    "                                           policy.b_prev_in: prev_act,\n",
    "                                           policy._dialogue_len: X.shape[1],\n",
    "                                           policy._x_for_action_listen_in: x_for_action_listen})\n",
    "    hidden_states = policy.session.run(policy.hidden_states, feed_dict={policy.a_in: X,\n",
    "                                           policy.b_in: all_Y_d_x,\n",
    "                                           policy.c_in: slots,\n",
    "                                           policy.b_prev_in: prev_act,\n",
    "                                           policy._dialogue_len: X.shape[1],\n",
    "                                           policy._x_for_action_listen_in: x_for_action_listen})\n",
    "    sim = policy.session.run(policy.sim_op, feed_dict={policy.a_in: X,\n",
    "                                           policy.b_in: all_Y_d_x,\n",
    "                                           policy.c_in: slots,\n",
    "                                           policy.b_prev_in: prev_act,\n",
    "                                           policy._dialogue_len: X.shape[1],\n",
    "                                           policy._x_for_action_listen_in: x_for_action_listen})\n",
    "    del tracker\n",
    "#     print(np.shape(dial_vec))\n",
    "    if bot is False:\n",
    "        return (dial_vec[0,-2,:],\n",
    "                no_skip_gate[0,-2,:],\n",
    "                attn_embed[0,-2,:],\n",
    "                rnn_embed[0,-2,:],\n",
    "                probs[0][0,-2,:],\n",
    "                probs[-1][0,-2,:],\n",
    "                hidden_states[0,-2,:],\n",
    "                sim[0,-2,:])\n",
    "    else:\n",
    "        return bot_vec\n",
    "    \n",
    "def make_prediction(story):\n",
    "    dial, _,_,_,_,_,_, sim0 = embedding_from_tracker(story, bot=False)\n",
    "    bot = embedding_from_tracker(story, bot=True)[0,-2,:,:]\n",
    "    abs_vals = np.array([np.absolute(vec) for vec in bot])\n",
    "    norms = np.apply_along_axis(np.linalg.norm, 1, bot)\n",
    "    sims = np.dot(bot, dial)/norms\n",
    "#     name = domain.action_for_index(np.argmax(sims)).name()\n",
    "#     print(name)\n",
    "    name = domain.action_for_index(np.argmax(sim0)).name()\n",
    "#     print(name)\n",
    "#     print('---')\n",
    "#     ids = sim0.argsort()[::-1]\n",
    "#     print(ids)\n",
    "#     print(sims[ids])\n",
    "    return '- ' + name, np.max(sim0)\n",
    "#     print(dial.shape, bot.shape)"
   ]
  },
  {
   "cell_type": "code",
   "execution_count": 13,
   "metadata": {},
   "outputs": [],
   "source": [
    "# print(domain.intents)\n",
    "story_block = \"\"\"* request_hotel\n",
    "    - utter_ask_details\n",
    "* explain\n",
    "    - utter_explain_details_hotel\n",
    "    - utter_ask_details\n",
    "* chitchat\n",
    "    - utter_chitchat\n",
    "    - utter_ask_details\n",
    "* inform{\"enddate\": \"May 26th\"}\n",
    "    - slot{\"enddate\": \"May 26th\"}\n",
    "    - utter_ask_startdate\n",
    "* inform{\"startdate\": \"next week\"}\n",
    "    - slot{\"startdate\": \"next week\"}\n",
    "    - utter_ask_location\n",
    "* correct{\"startdate\": \"next week\"}\n",
    "    - slot{\"startdate\": \"next week\"}\n",
    "    - utter_correct_startdate_hotel\n",
    "    - utter_ask_location\n",
    "* explain\n",
    "    - utter_explain_location_hotel\n",
    "    - utter_ask_location\n",
    "* inform{\"location\": \"rome\"}\n",
    "    - slot{\"location\": \"rome\"}\n",
    "    - utter_ask_price\n",
    "* chitchat\n",
    "    - utter_chitchat\n",
    "    - utter_ask_price\n",
    "* chitchat\n",
    "    - utter_chitchat\n",
    "    - utter_ask_price\n",
    "* chitchat\n",
    "    - utter_chitchat\n",
    "    - utter_ask_price\n",
    "* chitchat\n",
    "    - utter_chitchat\n",
    "    - utter_ask_price\n",
    "* explain\n",
    "    - utter_explain_price_hotel\n",
    "    - utter_ask_price\n",
    "* inform{\"price\": \"expensive\"}\n",
    "    - utter_ask_people\n",
    "* inform{\"people\": \"4\"}\n",
    "    - utter_filled_slots\n",
    "    - action_search_hotel\n",
    "    - slot{\"hotel\": \"hotel\"}\n",
    "    - utter_suggest_hotel\n",
    "* chitchat\n",
    "    - utter_chitchat\n",
    "    - utter_suggest_hotel\n",
    "* affirm\n",
    "    - utter_happy\"\"\""
   ]
  },
  {
   "cell_type": "code",
   "execution_count": 14,
   "metadata": {},
   "outputs": [],
   "source": [
    "# story_block = \"\"\"* request_hotel\n",
    "#     - utter_ask_details\n",
    "# * inform{\"location\": \"paris\"}\n",
    "#     - slot{\"location\": \"paris\"}\n",
    "#     - utter_ask_people\n",
    "# * inform{\"people\": \"1\"}\n",
    "#     - slot{\"people\": \"1\"}\n",
    "#     - utter_ask_price\n",
    "# * did_that_work\n",
    "#     - utter_more_info_hotel\n",
    "#     - utter_ask_price\n",
    "# * inform{\"price\": \"expensive\"}\n",
    "#     - utter_ask_startdate\n",
    "# * explain\n",
    "#     - utter_explain_startdate_hotel\n",
    "#     - utter_ask_startdate\n",
    "# * explain\n",
    "#     - utter_explain_startdate_hotel\n",
    "#     - utter_ask_startdate\n",
    "# * inform{\"startdate\": \"10.03.2018\"}\n",
    "#     - utter_ask_enddate\n",
    "# * chitchat\n",
    "#     - utter_chitchat\n",
    "#     - utter_ask_enddate\n",
    "# * chitchat\n",
    "#     - utter_chitchat\n",
    "#     - utter_ask_enddate\n",
    "# * inform{\"enddate\": \"10.03.2018\"}\n",
    "#     - utter_filled_slots\n",
    "#     - action_search_hotel\n",
    "#     - slot{\"hotel\": \"hotel\"}\n",
    "#     - utter_suggest_hotel\n",
    "# * did_that_work\n",
    "#     - utter_worked_hotel\n",
    "#     - utter_suggest_hotel\n",
    "# * affirm\n",
    "#     - utter_happy\"\"\""
   ]
  },
  {
   "cell_type": "code",
   "execution_count": 33,
   "metadata": {},
   "outputs": [
    {
     "name": "stdout",
     "output_type": "stream",
     "text": [
      "51\n",
      "29\n",
      "(20,)\n"
     ]
    }
   ],
   "source": [
    "print(len(story_block.split('\\n')))\n",
    "cool_list = []\n",
    "lines = story_block.split('\\n')\n",
    "for idx, line in enumerate(lines):\n",
    "    if idx == len(lines)-1:\n",
    "        continue\n",
    "    if '*' in lines[idx+1] or 'slot{' in lines[idx+1]:\n",
    "#     if 'slot{' in lines[idx+1]:\n",
    "        continue\n",
    "    sub_story = '\\n'.join(lines[:idx+1])\n",
    "    (dial, not_skip, attn, rnn, probs0, probs1, hidden_states, sims\n",
    "    ) = embedding_from_tracker(\"#generate story\\n{}\".format(sub_story))\n",
    "    pred, sim = make_prediction(\"#generate story\\n{}\".format(sub_story))\n",
    "    cool_list.append((lines[idx+1].strip(), dial, (pred, sims), not_skip, attn[-20:], rnn,\n",
    "                      probs0, probs1, hidden_states))\n",
    "\n",
    "print(len(cool_list))\n",
    "print(cool_list[0][4].shape)\n",
    "#     break\n",
    "# dial = embedding_from_tracker(\"#generate story\\n{}\".format(story_block)\n",
    "# )\n",
    "# print(dial.shape)\n",
    "# print(len(story_block.split('\\n')))"
   ]
  },
  {
   "cell_type": "code",
   "execution_count": 40,
   "metadata": {},
   "outputs": [
    {
     "data": {
      "text/plain": [
       "('- utter_ask_details',\n",
       " array([ 0.078, -0.126,  0.028, -0.247, -0.013,  0.05 , -0.167,  0.236,\n",
       "        -0.052, -0.036, -0.002,  0.053,  0.015,  0.085,  0.006,  0.218,\n",
       "        -0.151, -0.01 ,  0.05 , -0.019], dtype=float32),\n",
       " ('- utter_ask_details',\n",
       "  array([ 0.237, -0.052, -0.009,  0.215,  0.04 , -0.256, -0.027, -0.032,\n",
       "         -0.036,  0.037,  0.036, -0.097, -0.015, -0.026,  0.032, -0.328,\n",
       "         -0.298, -0.136, -0.231, -0.095, -0.426, -0.213, -0.324, -0.126,\n",
       "          0.127,  0.123,  0.042,  0.758,  0.095,  0.002,  0.056,  0.035,\n",
       "         -0.149, -0.03 ,  0.083,  0.104, -0.03 , -0.033, -0.016,  0.071,\n",
       "         -0.037, -0.247, -0.228], dtype=float32)),\n",
       " array([0.   , 0.528, 1.   , 0.   ], dtype=float32),\n",
       " array([ 0.104, -0.018, -0.014, -0.147, -0.007,  0.137, -0.11 ,  0.095,\n",
       "        -0.069,  0.013,  0.045,  0.106, -0.018,  0.01 , -0.047,  0.221,\n",
       "        -0.117, -0.025,  0.109,  0.038], dtype=float32),\n",
       " array([-0.026, -0.108,  0.041, -0.1  , -0.006, -0.087, -0.057,  0.141,\n",
       "         0.017, -0.049, -0.047, -0.053,  0.033,  0.075,  0.052, -0.003,\n",
       "        -0.034,  0.015, -0.059, -0.057], dtype=float32),\n",
       " array([0.135, 0.193, 0.134, 0.067, 0.135, 0.134, 0.061, 0.141, 0.   ],\n",
       "       dtype=float32),\n",
       " array([0.049, 0.008, 0.088, 0.166, 0.042, 0.528, 0.076, 0.044, 0.   ],\n",
       "       dtype=float32),\n",
       " array([-0.014,  0.037,  0.013, -0.235,  0.001,  0.187, -0.126,  0.106,\n",
       "        -0.11 ,  0.027,  0.005,  0.118, -0.063,  0.046, -0.061,  0.306,\n",
       "        -0.297,  0.039,  0.167,  0.039], dtype=float32))"
      ]
     },
     "execution_count": 40,
     "metadata": {},
     "output_type": "execute_result"
    }
   ],
   "source": [
    "import copy\n",
    "\n",
    "# cool_list0 = copy.deepcopy(cool_list)\n",
    "cool_list[4]"
   ]
  },
  {
   "cell_type": "code",
   "execution_count": 35,
   "metadata": {},
   "outputs": [
    {
     "data": {
      "text/plain": [
       "('- utter_ask_location',\n",
       " array([-0.041,  0.084, -0.123,  0.074,  0.064, -0.168, -0.176,  0.082,\n",
       "        -0.135, -0.091, -0.057,  0.061, -0.092,  0.111, -0.148, -0.185,\n",
       "         0.026,  0.238,  0.03 , -0.149], dtype=float32),\n",
       " ('- utter_ask_location',\n",
       "  array([-0.113, -0.042, -0.099, -0.039,  0.885, -0.027, -0.002,  0.136,\n",
       "         -0.079, -0.546, -0.152, -0.16 , -0.008, -0.449, -0.326, -0.377,\n",
       "         -0.091, -0.105, -0.445, -0.325, -0.447, -0.324, -0.43 , -0.293,\n",
       "          0.076, -0.049, -0.121, -0.052, -0.181,  0.051, -0.026, -0.249,\n",
       "         -0.382, -0.276, -0.379, -0.277, -0.361, -0.297,  0.067, -0.048,\n",
       "         -0.057,  0.048, -0.447], dtype=float32)),\n",
       " array([0.   , 0.436, 1.   , 0.   ], dtype=float32),\n",
       " array([ 0.103,  0.033, -0.018,  0.011,  0.06 , -0.053, -0.129,  0.07 ,\n",
       "        -0.149, -0.007, -0.016,  0.075, -0.004,  0.099, -0.036,  0.019,\n",
       "         0.049,  0.027,  0.085, -0.097], dtype=float32),\n",
       " array([-0.144,  0.051, -0.105,  0.062,  0.004, -0.114, -0.047,  0.011,\n",
       "         0.014, -0.084, -0.041, -0.013, -0.088,  0.012, -0.112, -0.204,\n",
       "        -0.023,  0.211, -0.055, -0.052], dtype=float32),\n",
       " array([0.068, 0.095, 0.068, 0.036, 0.068, 0.068, 0.035, 0.068, 0.068,\n",
       "        0.084, 0.069, 0.091, 0.072, 0.031, 0.078, 0.   ], dtype=float32),\n",
       " array([0.061, 0.002, 0.048, 0.071, 0.025, 0.046, 0.096, 0.026, 0.042,\n",
       "        0.027, 0.057, 0.011, 0.436, 0.007, 0.045, 0.   ], dtype=float32),\n",
       " array([ 0.097,  0.025, -0.027,  0.062,  0.014, -0.273, -0.131,  0.146,\n",
       "        -0.234, -0.013, -0.074,  0.125, -0.065,  0.089, -0.141, -0.137,\n",
       "         0.101, -0.014,  0.138, -0.244], dtype=float32))"
      ]
     },
     "execution_count": 35,
     "metadata": {},
     "output_type": "execute_result"
    }
   ],
   "source": [
    "# cool_list1= copy.deepcopy(cool_list)\n",
    "cool_list[8]"
   ]
  },
  {
   "cell_type": "code",
   "execution_count": 18,
   "metadata": {},
   "outputs": [
    {
     "data": {
      "text/plain": [
       "[<matplotlib.lines.Line2D at 0x1c24f98e10>]"
      ]
     },
     "execution_count": 18,
     "metadata": {},
     "output_type": "execute_result"
    },
    {
     "data": {
      "image/png": "[encoded data removed]",
      "text/plain": [
       "<matplotlib.figure.Figure at 0x1c29a9b4a8>"
      ]
     },
     "metadata": {},
     "output_type": "display_data"
    }
   ],
   "source": [
    "import matplotlib.pyplot as plt\n",
    "plt.plot(cool_list[15][-2], marker='x')"
   ]
  },
  {
   "cell_type": "code",
   "execution_count": 19,
   "metadata": {},
   "outputs": [
    {
     "data": {
      "text/plain": [
       "[<matplotlib.lines.Line2D at 0x1c2501b6d8>]"
      ]
     },
     "execution_count": 19,
     "metadata": {},
     "output_type": "execute_result"
    },
    {
     "data": {
      "image/png": "[encoded data removed]",
      "text/plain": [
       "<matplotlib.figure.Figure at 0x1c24fc1518>"
      ]
     },
     "metadata": {},
     "output_type": "display_data"
    }
   ],
   "source": [
    "plt.plot(cool_list[19][-2], marker='x')"
   ]
  },
  {
   "cell_type": "code",
   "execution_count": 20,
   "metadata": {},
   "outputs": [
    {
     "name": "stdout",
     "output_type": "stream",
     "text": [
      "[0. 0. 0. 0. 0. 0. 0. 0. 0. 0. 0. 0. 0. 0. 0. 0. 0. 0. 0. 0.]\n"
     ]
    },
    {
     "data": {
      "text/plain": [
       "True"
      ]
     },
     "execution_count": 20,
     "metadata": {},
     "output_type": "execute_result"
    }
   ],
   "source": [
    "c1=cool_list[0][-1]\n",
    "c2=cool_list[4][-1]\n",
    "print(c1-c2)\n",
    "np.all(c1==c2)"
   ]
  },
  {
   "cell_type": "code",
   "execution_count": 21,
   "metadata": {},
   "outputs": [
    {
     "data": {
      "text/plain": [
       "array([ 0.079, -0.011,  0.063, -0.024, -0.036,  0.157,  0.037,  0.004,\n",
       "       -0.001,  0.017,  0.017,  0.013,  0.061, -0.046,  0.099, -0.167,\n",
       "        0.03 , -0.073,  0.001, -0.018,  0.   ,  0.004,  0.167,  0.007,\n",
       "       -0.067, -0.133, -0.007,  0.5  ,  0.028, -0.034, -0.034, -0.034,\n",
       "       -0.058, -0.026, -0.054,  0.064,  0.089, -0.04 , -0.055,  0.036,\n",
       "        0.102,  0.007,  0.002,  0.046, -0.031,  0.172, -0.021, -0.045,\n",
       "        0.008, -0.068, -0.035,  0.086, -0.078,  0.009,  0.204,  0.002,\n",
       "        0.12 , -0.066, -0.076,  0.022,  0.044, -0.197, -0.045, -0.094])"
      ]
     },
     "execution_count": 21,
     "metadata": {},
     "output_type": "execute_result"
    }
   ],
   "source": [
    "c1=np.array([-0.092, -0.177,  0.143,  0.121,  0.205,  0.279,  0.099, -0.022,\n",
    "         0.131, -0.239,  0.165,  0.045,  0.377,  0.374, -0.327, -0.881,\n",
    "         0.014, -0.072,  0.068,  0.853,  0.049, -0.008,  0.163, -0.104,\n",
    "         0.09 ,  0.171,  0.025,  1.155,  0.053,  0.078,  0.424, -0.2  ,\n",
    "         0.048, -0.357, -0.081, -0.18 ,  0.304, -0.246, -0.073, -0.072,\n",
    "         0.446,  0.064, -0.101,  0.113,  0.197,  0.359, -0.276,  0.992,\n",
    "        -0.32 ,  0.148, -0.253,  0.433, -0.089, -0.2  , -0.676,  0.002,\n",
    "         0.513, -0.218, -0.391, -0.302, -0.155, -0.201, -0.811, -0.372])\n",
    "c2=np.array([-0.171, -0.166,  0.08 ,  0.145,  0.241,  0.122,  0.062, -0.026,\n",
    "         0.132, -0.256,  0.148,  0.032,  0.316,  0.42 , -0.426, -0.714,\n",
    "        -0.016,  0.001,  0.067,  0.871,  0.049, -0.012, -0.004, -0.111,\n",
    "         0.157,  0.304,  0.032,  0.655,  0.025,  0.112,  0.458, -0.166,\n",
    "         0.106, -0.331, -0.027, -0.244,  0.215, -0.206, -0.018, -0.108,\n",
    "         0.344,  0.057, -0.103,  0.067,  0.228,  0.187, -0.255,  1.037,\n",
    "        -0.328,  0.216, -0.218,  0.347, -0.011, -0.209, -0.88 ,  0.   ,\n",
    "         0.393, -0.152, -0.315, -0.324, -0.199, -0.004, -0.766, -0.278])\n",
    "\n",
    "c1-c2"
   ]
  },
  {
   "cell_type": "code",
   "execution_count": 22,
   "metadata": {},
   "outputs": [],
   "source": [
    "from sklearn.decomposition import PCA"
   ]
  },
  {
   "cell_type": "code",
   "execution_count": 23,
   "metadata": {},
   "outputs": [],
   "source": [
    "pca = PCA(n_components=2)\n",
    "X = pca.fit_transform([ting[1] for ting in cool_list])"
   ]
  },
  {
   "cell_type": "code",
   "execution_count": 24,
   "metadata": {},
   "outputs": [],
   "source": [
    "from bokeh.plotting import figure, show\n",
    "import matplotlib.pyplot as plt"
   ]
  },
  {
   "cell_type": "code",
   "execution_count": 25,
   "metadata": {},
   "outputs": [],
   "source": [
    "embed_dim = cool_list[0][1].shape[0]\n"
   ]
  },
  {
   "cell_type": "code",
   "execution_count": 26,
   "metadata": {},
   "outputs": [
    {
     "data": {
      "text/html": [
       "<div style=\"display: table;\"><div style=\"display: table-row;\"><div style=\"display: table-cell;\"><b title=\"bokeh.models.renderers.GlyphRenderer\">GlyphRenderer</b>(</div><div style=\"display: table-cell;\">id&nbsp;=&nbsp;'d9133188-5150-475d-b1c4-5cdffe4c4cd4', <span id=\"f938b51c-7fcc-4126-a145-044ca4446107\" style=\"cursor: pointer;\">&hellip;)</span></div></div><div class=\"948bc9fa-534b-490b-b000-f5615db10f60\" style=\"display: none;\"><div style=\"display: table-cell;\"></div><div style=\"display: table-cell;\">data_source&nbsp;=&nbsp;ColumnDataSource(id='be66dce0-02a7-4106-9ee9-0adfa671df70', ...),</div></div><div class=\"948bc9fa-534b-490b-b000-f5615db10f60\" style=\"display: none;\"><div style=\"display: table-cell;\"></div><div style=\"display: table-cell;\">glyph&nbsp;=&nbsp;Circle(id='f6e87e88-b93f-449d-b04f-afb8141ccc76', ...),</div></div><div class=\"948bc9fa-534b-490b-b000-f5615db10f60\" style=\"display: none;\"><div style=\"display: table-cell;\"></div><div style=\"display: table-cell;\">hover_glyph&nbsp;=&nbsp;None,</div></div><div class=\"948bc9fa-534b-490b-b000-f5615db10f60\" style=\"display: none;\"><div style=\"display: table-cell;\"></div><div style=\"display: table-cell;\">js_event_callbacks&nbsp;=&nbsp;{},</div></div><div class=\"948bc9fa-534b-490b-b000-f5615db10f60\" style=\"display: none;\"><div style=\"display: table-cell;\"></div><div style=\"display: table-cell;\">js_property_callbacks&nbsp;=&nbsp;{},</div></div><div class=\"948bc9fa-534b-490b-b000-f5615db10f60\" style=\"display: none;\"><div style=\"display: table-cell;\"></div><div style=\"display: table-cell;\">level&nbsp;=&nbsp;'glyph',</div></div><div class=\"948bc9fa-534b-490b-b000-f5615db10f60\" style=\"display: none;\"><div style=\"display: table-cell;\"></div><div style=\"display: table-cell;\">muted&nbsp;=&nbsp;False,</div></div><div class=\"948bc9fa-534b-490b-b000-f5615db10f60\" style=\"display: none;\"><div style=\"display: table-cell;\"></div><div style=\"display: table-cell;\">muted_glyph&nbsp;=&nbsp;None,</div></div><div class=\"948bc9fa-534b-490b-b000-f5615db10f60\" style=\"display: none;\"><div style=\"display: table-cell;\"></div><div style=\"display: table-cell;\">name&nbsp;=&nbsp;None,</div></div><div class=\"948bc9fa-534b-490b-b000-f5615db10f60\" style=\"display: none;\"><div style=\"display: table-cell;\"></div><div style=\"display: table-cell;\">nonselection_glyph&nbsp;=&nbsp;Circle(id='a487ca7d-84a9-4690-b4ad-d644830a852c', ...),</div></div><div class=\"948bc9fa-534b-490b-b000-f5615db10f60\" style=\"display: none;\"><div style=\"display: table-cell;\"></div><div style=\"display: table-cell;\">selection_glyph&nbsp;=&nbsp;None,</div></div><div class=\"948bc9fa-534b-490b-b000-f5615db10f60\" style=\"display: none;\"><div style=\"display: table-cell;\"></div><div style=\"display: table-cell;\">subscribed_events&nbsp;=&nbsp;[],</div></div><div class=\"948bc9fa-534b-490b-b000-f5615db10f60\" style=\"display: none;\"><div style=\"display: table-cell;\"></div><div style=\"display: table-cell;\">tags&nbsp;=&nbsp;[],</div></div><div class=\"948bc9fa-534b-490b-b000-f5615db10f60\" style=\"display: none;\"><div style=\"display: table-cell;\"></div><div style=\"display: table-cell;\">view&nbsp;=&nbsp;CDSView(id='ff82ab93-1fd7-4def-bf4c-37cd5c4ea97d', ...),</div></div><div class=\"948bc9fa-534b-490b-b000-f5615db10f60\" style=\"display: none;\"><div style=\"display: table-cell;\"></div><div style=\"display: table-cell;\">visible&nbsp;=&nbsp;True,</div></div><div class=\"948bc9fa-534b-490b-b000-f5615db10f60\" style=\"display: none;\"><div style=\"display: table-cell;\"></div><div style=\"display: table-cell;\">x_range_name&nbsp;=&nbsp;'default',</div></div><div class=\"948bc9fa-534b-490b-b000-f5615db10f60\" style=\"display: none;\"><div style=\"display: table-cell;\"></div><div style=\"display: table-cell;\">y_range_name&nbsp;=&nbsp;'default')</div></div></div>\n",
       "<script>\n",
       "(function() {\n",
       "  var expanded = false;\n",
       "  var ellipsis = document.getElementById(\"f938b51c-7fcc-4126-a145-044ca4446107\");\n",
       "  ellipsis.addEventListener(\"click\", function() {\n",
       "    var rows = document.getElementsByClassName(\"948bc9fa-534b-490b-b000-f5615db10f60\");\n",
       "    for (var i = 0; i < rows.length; i++) {\n",
       "      var el = rows[i];\n",
       "      el.style.display = expanded ? \"none\" : \"table-row\";\n",
       "    }\n",
       "    ellipsis.innerHTML = expanded ? \"&hellip;)\" : \"&lsaquo;&lsaquo;&lsaquo;\";\n",
       "    expanded = !expanded;\n",
       "  });\n",
       "})();\n",
       "</script>\n"
      ],
      "text/plain": [
       "GlyphRenderer(id='d9133188-5150-475d-b1c4-5cdffe4c4cd4', ...)"
      ]
     },
     "execution_count": 26,
     "metadata": {},
     "output_type": "execute_result"
    }
   ],
   "source": [
    "from bokeh.plotting import figure, output_file, show, ColumnDataSource\n",
    "from bokeh.models import HoverTool, Arrow, OpenHead\n",
    "\n",
    "hover = HoverTool(tooltips=[(\"true action\",\"@desc\"), (\"prediction\", \"@pred\"),\n",
    "                            (\"not_skip_gate\", \"@not_skip\")],names=['circle'])\n",
    "p = figure( tools=[hover])\n",
    "\n",
    "for i in range(1, len(X)):\n",
    "    p.add_layout(Arrow(end=OpenHead(line_color=\"firebrick\", size=10, line_width=2),\n",
    "                       x_start=X[i-1,0], y_start=X[i-1,1],\n",
    "                       x_end=X[i,0], y_end=X[i,1], line_color='gray'))\n",
    "\n",
    "source = ColumnDataSource(data=dict(\n",
    "    x=X[:,0],\n",
    "    y=X[:,1],\n",
    "    desc=[ting[0] for ting in cool_list],\n",
    "    pred = [ting[2][0] for ting in cool_list],\n",
    "    not_skip = [ting[3][0] for ting in cool_list]\n",
    "))\n",
    "p.circle('x','y', source=source, size=10, name='circle')\n",
    "# p.line(X[:,0], X[:,1])\n",
    "\n",
    "X1 = pca.transform([ting[4] for ting in cool_list])\n",
    "source = ColumnDataSource(data=dict(\n",
    "    x=X1[:,0],\n",
    "    y=X1[:,1],\n",
    "    desc=[ting[0] for ting in cool_list],\n",
    "    pred = [ting[2][0] for ting in cool_list],\n",
    "    not_skip = [ting[3][0] for ting in cool_list]\n",
    "))\n",
    "p.circle('x','y', source=source, size=5, color='green', name='circle')\n",
    "\n",
    "X2 = pca.transform([ting[5] for ting in cool_list])\n",
    "source = ColumnDataSource(data=dict(\n",
    "    x=X2[:,0],\n",
    "    y=X2[:,1],\n",
    "    desc=[ting[0] for ting in cool_list],\n",
    "    pred = [ting[2][0] for ting in cool_list],\n",
    "    not_skip = [ting[3][0] for ting in cool_list]\n",
    "))\n",
    "p.circle('x','y', source=source, size=5, color='red', name='circle')\n",
    "\n",
    "x = pca.transform(np.zeros((1,embed_dim)))\n",
    "p.circle(x[0,0], x[0,1], size=5, color='magenta')\n",
    "p.circle(X[0,0], X[0,1], size=10, color='green')\n",
    "p.circle(X[-1,0], X[-1,1], size=10, color='red')\n"
   ]
  },
  {
   "cell_type": "code",
   "execution_count": 27,
   "metadata": {
    "scrolled": false
   },
   "outputs": [
    {
     "data": {
      "text/html": [
       "\n",
       "<div class=\"bk-root\">\n",
       "    <div class=\"bk-plotdiv\" id=\"a7b7be9a-27c6-45f0-b186-78daf3937ecd\"></div>\n",
       "</div>"
      ]
     },
     "metadata": {},
     "output_type": "display_data"
    },
    {
     "data": {
      "application/javascript": [
       "(function(root) {\n",
       "  function embed_document(root) {\n",
       "    \n",
       "  var docs_json = {\"dcc970cf-1db5-4e00-a299-bc8932542b55\":{\"roots\":{\"references\":[{\"attributes\":{\"line_color\":{\"value\":\"firebrick\"},\"line_width\":{\"value\":2},\"plot\":null,\"size\":10},\"id\":\"9b500f3b-a169-4a7e-b9fb-5431e4b10ac0\",\"type\":\"OpenHead\"},{\"attributes\":{\"source\":{\"id\":\"ffcf2a89-bb6b-4ca6-804c-6d301a70b1b2\",\"type\":\"ColumnDataSource\"}},\"id\":\"ccaa1817-4497-4aa4-843c-dcfd7c3e75f7\",\"type\":\"CDSView\"},{\"attributes\":{\"end\":{\"id\":\"9b500f3b-a169-4a7e-b9fb-5431e4b10ac0\",\"type\":\"OpenHead\"},\"line_color\":{\"value\":\"gray\"},\"plot\":{\"id\":\"b669d6f2-1f6a-4b35-800b-0168eb2524a3\",\"subtype\":\"Figure\",\"type\":\"Plot\"},\"source\":null,\"start\":null,\"x_end\":{\"value\":0.5586542542642597},\"x_start\":{\"value\":-0.285243096710322},\"y_end\":{\"value\":-0.12619006454164255},\"y_start\":{\"value\":-0.23926506914256854}},\"id\":\"afcde149-e13b-4561-b56d-bc5052499e5e\",\"type\":\"Arrow\"},{\"attributes\":{\"line_color\":{\"value\":\"firebrick\"},\"line_width\":{\"value\":2},\"plot\":null,\"size\":10},\"id\":\"d3c7d2ef-4b47-4bb9-b058-3c502a9ef3b5\",\"type\":\"OpenHead\"},{\"attributes\":{\"line_color\":{\"value\":\"firebrick\"},\"line_width\":{\"value\":2},\"plot\":null,\"size\":10},\"id\":\"9a7cb88d-6b19-4c15-9d34-4cbad446215c\",\"type\":\"OpenHead\"},{\"attributes\":{},\"id\":\"39e487b0-3992-4960-bc00-09c136beb499\",\"type\":\"BasicTickFormatter\"},{\"attributes\":{\"plot\":null,\"text\":\"\"},\"id\":\"e60e699f-eed6-4c90-bf79-6959c267beee\",\"type\":\"Title\"},{\"attributes\":{\"end\":{\"id\":\"d3c7d2ef-4b47-4bb9-b058-3c502a9ef3b5\",\"type\":\"OpenHead\"},\"line_color\":{\"value\":\"gray\"},\"plot\":{\"id\":\"b669d6f2-1f6a-4b35-800b-0168eb2524a3\",\"subtype\":\"Figure\",\"type\":\"Plot\"},\"source\":null,\"start\":null,\"x_end\":{\"value\":-0.2938961738675373},\"x_start\":{\"value\":0.5586542542642597},\"y_end\":{\"value\":-0.25372153292662264},\"y_start\":{\"value\":-0.12619006454164255}},\"id\":\"20687fcd-2062-4303-bee3-1fcb870f4d81\",\"type\":\"Arrow\"},{\"attributes\":{\"line_color\":{\"value\":\"firebrick\"},\"line_width\":{\"value\":2},\"plot\":null,\"size\":10},\"id\":\"7791d764-355f-4698-b929-7924235c217b\",\"type\":\"OpenHead\"},{\"attributes\":{\"fill_color\":{\"value\":\"#1f77b4\"},\"line_color\":{\"value\":\"#1f77b4\"},\"size\":{\"units\":\"screen\",\"value\":10},\"x\":{\"field\":\"x\"},\"y\":{\"field\":\"y\"}},\"id\":\"2b338e85-5a52-41f1-96dc-49d559d0ae7f\",\"type\":\"Circle\"},{\"attributes\":{\"end\":{\"id\":\"9a7cb88d-6b19-4c15-9d34-4cbad446215c\",\"type\":\"OpenHead\"},\"line_color\":{\"value\":\"gray\"},\"plot\":{\"id\":\"b669d6f2-1f6a-4b35-800b-0168eb2524a3\",\"subtype\":\"Figure\",\"type\":\"Plot\"},\"source\":null,\"start\":null,\"x_end\":{\"value\":0.5635436368945541},\"x_start\":{\"value\":-0.2938961738675373},\"y_end\":{\"value\":-0.12838985739505898},\"y_start\":{\"value\":-0.25372153292662264}},\"id\":\"4c473331-9049-465d-b774-b136388d202e\",\"type\":\"Arrow\"},{\"attributes\":{\"line_color\":{\"value\":\"firebrick\"},\"line_width\":{\"value\":2},\"plot\":null,\"size\":10},\"id\":\"8cbc6c7d-c917-43ea-908a-d3da942a74b9\",\"type\":\"OpenHead\"},{\"attributes\":{\"end\":{\"id\":\"7791d764-355f-4698-b929-7924235c217b\",\"type\":\"OpenHead\"},\"line_color\":{\"value\":\"gray\"},\"plot\":{\"id\":\"b669d6f2-1f6a-4b35-800b-0168eb2524a3\",\"subtype\":\"Figure\",\"type\":\"Plot\"},\"source\":null,\"start\":null,\"x_end\":{\"value\":-0.2896421717685403},\"x_start\":{\"value\":0.5635436368945541},\"y_end\":{\"value\":-0.2501463562243132},\"y_start\":{\"value\":-0.12838985739505898}},\"id\":\"9ef19933-4694-4944-828d-01c783709634\",\"type\":\"Arrow\"},{\"attributes\":{\"line_color\":{\"value\":\"firebrick\"},\"line_width\":{\"value\":2},\"plot\":null,\"size\":10},\"id\":\"661e87ac-d80c-4f78-9b09-167fa07daddb\",\"type\":\"OpenHead\"},{\"attributes\":{\"end\":{\"id\":\"8cbc6c7d-c917-43ea-908a-d3da942a74b9\",\"type\":\"OpenHead\"},\"line_color\":{\"value\":\"gray\"},\"plot\":{\"id\":\"b669d6f2-1f6a-4b35-800b-0168eb2524a3\",\"subtype\":\"Figure\",\"type\":\"Plot\"},\"source\":null,\"start\":null,\"x_end\":{\"value\":0.5678131170814096},\"x_start\":{\"value\":-0.2896421717685403},\"y_end\":{\"value\":-0.1308677443759629},\"y_start\":{\"value\":-0.2501463562243132}},\"id\":\"1eafda6d-023a-49dd-ac49-e54870498144\",\"type\":\"Arrow\"},{\"attributes\":{\"line_color\":{\"value\":\"firebrick\"},\"line_width\":{\"value\":2},\"plot\":null,\"size\":10},\"id\":\"c7f4cea5-c49c-4bc1-ab0f-9368c1ca3f67\",\"type\":\"OpenHead\"},{\"attributes\":{\"end\":{\"id\":\"661e87ac-d80c-4f78-9b09-167fa07daddb\",\"type\":\"OpenHead\"},\"line_color\":{\"value\":\"gray\"},\"plot\":{\"id\":\"b669d6f2-1f6a-4b35-800b-0168eb2524a3\",\"subtype\":\"Figure\",\"type\":\"Plot\"},\"source\":null,\"start\":null,\"x_end\":{\"value\":-0.2846938524184256},\"x_start\":{\"value\":0.5678131170814096},\"y_end\":{\"value\":-0.2473678512457797},\"y_start\":{\"value\":-0.1308677443759629}},\"id\":\"f406efdc-590c-4c36-9b9a-af00a06a09d6\",\"type\":\"Arrow\"},{\"attributes\":{\"line_color\":{\"value\":\"firebrick\"},\"line_width\":{\"value\":2},\"plot\":null,\"size\":10},\"id\":\"2ffe8d41-db57-4afb-b529-3388ddeb6ec0\",\"type\":\"OpenHead\"},{\"attributes\":{\"end\":{\"id\":\"c7f4cea5-c49c-4bc1-ab0f-9368c1ca3f67\",\"type\":\"OpenHead\"},\"line_color\":{\"value\":\"gray\"},\"plot\":{\"id\":\"b669d6f2-1f6a-4b35-800b-0168eb2524a3\",\"subtype\":\"Figure\",\"type\":\"Plot\"},\"source\":null,\"start\":null,\"x_end\":{\"value\":0.0588353990521485},\"x_start\":{\"value\":-0.2846938524184256},\"y_end\":{\"value\":-0.11531735711989308},\"y_start\":{\"value\":-0.2473678512457797}},\"id\":\"00a71839-20fb-4585-b52e-0ac5a002a252\",\"type\":\"Arrow\"},{\"attributes\":{\"line_color\":{\"value\":\"firebrick\"},\"line_width\":{\"value\":2},\"plot\":null,\"size\":10},\"id\":\"183f862a-0f51-4114-b0ad-19907b9df5b6\",\"type\":\"OpenHead\"},{\"attributes\":{\"end\":{\"id\":\"2ffe8d41-db57-4afb-b529-3388ddeb6ec0\",\"type\":\"OpenHead\"},\"line_color\":{\"value\":\"gray\"},\"plot\":{\"id\":\"b669d6f2-1f6a-4b35-800b-0168eb2524a3\",\"subtype\":\"Figure\",\"type\":\"Plot\"},\"source\":null,\"start\":null,\"x_end\":{\"value\":-0.3138470108330667},\"x_start\":{\"value\":0.0588353990521485},\"y_end\":{\"value\":-0.25751267720828547},\"y_start\":{\"value\":-0.11531735711989308}},\"id\":\"b84ca199-66a8-4cfd-a8b5-229513e025a2\",\"type\":\"Arrow\"},{\"attributes\":{\"line_color\":{\"value\":\"firebrick\"},\"line_width\":{\"value\":2},\"plot\":null,\"size\":10},\"id\":\"27faff8a-5559-4058-8a1e-d505c0f36104\",\"type\":\"OpenHead\"},{\"attributes\":{\"end\":{\"id\":\"183f862a-0f51-4114-b0ad-19907b9df5b6\",\"type\":\"OpenHead\"},\"line_color\":{\"value\":\"gray\"},\"plot\":{\"id\":\"b669d6f2-1f6a-4b35-800b-0168eb2524a3\",\"subtype\":\"Figure\",\"type\":\"Plot\"},\"source\":null,\"start\":null,\"x_end\":{\"value\":-0.04557911997678121},\"x_start\":{\"value\":-0.3138470108330667},\"y_end\":{\"value\":-0.05113532447408584},\"y_start\":{\"value\":-0.25751267720828547}},\"id\":\"a2f0ed95-5a33-4d5a-81b7-9e9a458a2cd6\",\"type\":\"Arrow\"},{\"attributes\":{\"line_color\":{\"value\":\"firebrick\"},\"line_width\":{\"value\":2},\"plot\":null,\"size\":10},\"id\":\"405825d7-b9c5-4a10-9985-fe758db78389\",\"type\":\"OpenHead\"},{\"attributes\":{\"end\":{\"id\":\"27faff8a-5559-4058-8a1e-d505c0f36104\",\"type\":\"OpenHead\"},\"line_color\":{\"value\":\"gray\"},\"plot\":{\"id\":\"b669d6f2-1f6a-4b35-800b-0168eb2524a3\",\"subtype\":\"Figure\",\"type\":\"Plot\"},\"source\":null,\"start\":null,\"x_end\":{\"value\":0.03124561719320319},\"x_start\":{\"value\":-0.04557911997678121},\"y_end\":{\"value\":0.3386023417931356},\"y_start\":{\"value\":-0.05113532447408584}},\"id\":\"6eb7186f-8714-405b-b286-26be09419ec4\",\"type\":\"Arrow\"},{\"attributes\":{\"line_color\":{\"value\":\"firebrick\"},\"line_width\":{\"value\":2},\"plot\":null,\"size\":10},\"id\":\"cfd7f703-0341-48eb-9809-544f5ac289b3\",\"type\":\"OpenHead\"},{\"attributes\":{\"end\":{\"id\":\"405825d7-b9c5-4a10-9985-fe758db78389\",\"type\":\"OpenHead\"},\"line_color\":{\"value\":\"gray\"},\"plot\":{\"id\":\"b669d6f2-1f6a-4b35-800b-0168eb2524a3\",\"subtype\":\"Figure\",\"type\":\"Plot\"},\"source\":null,\"start\":null,\"x_end\":{\"value\":-0.07081238300791215},\"x_start\":{\"value\":0.03124561719320319},\"y_end\":{\"value\":0.0943232315610813},\"y_start\":{\"value\":0.3386023417931356}},\"id\":\"7417f084-a535-4b5f-9f4b-41d042d29371\",\"type\":\"Arrow\"},{\"attributes\":{\"line_color\":{\"value\":\"firebrick\"},\"line_width\":{\"value\":2},\"plot\":null,\"size\":10},\"id\":\"c29f3b6a-a6d8-4564-98b1-def46abd7dac\",\"type\":\"OpenHead\"},{\"attributes\":{\"end\":{\"id\":\"cfd7f703-0341-48eb-9809-544f5ac289b3\",\"type\":\"OpenHead\"},\"line_color\":{\"value\":\"gray\"},\"plot\":{\"id\":\"b669d6f2-1f6a-4b35-800b-0168eb2524a3\",\"subtype\":\"Figure\",\"type\":\"Plot\"},\"source\":null,\"start\":null,\"x_end\":{\"value\":-0.17801634723364018},\"x_start\":{\"value\":-0.07081238300791215},\"y_end\":{\"value\":0.14439926157252095},\"y_start\":{\"value\":0.0943232315610813}},\"id\":\"804f66f7-3e72-4c10-89d4-c4b0a18659f9\",\"type\":\"Arrow\"},{\"attributes\":{\"line_color\":{\"value\":\"firebrick\"},\"line_width\":{\"value\":2},\"plot\":null,\"size\":10},\"id\":\"958cdea3-d0ab-4632-9405-1281e1670175\",\"type\":\"OpenHead\"},{\"attributes\":{\"end\":{\"id\":\"c29f3b6a-a6d8-4564-98b1-def46abd7dac\",\"type\":\"OpenHead\"},\"line_color\":{\"value\":\"gray\"},\"plot\":{\"id\":\"b669d6f2-1f6a-4b35-800b-0168eb2524a3\",\"subtype\":\"Figure\",\"type\":\"Plot\"},\"source\":null,\"start\":null,\"x_end\":{\"value\":0.24156681622323},\"x_start\":{\"value\":-0.17801634723364018},\"y_end\":{\"value\":-0.03882706957403987},\"y_start\":{\"value\":0.14439926157252095}},\"id\":\"8089c5d6-88ec-43ec-bd48-129e99532526\",\"type\":\"Arrow\"},{\"attributes\":{\"line_color\":{\"value\":\"firebrick\"},\"line_width\":{\"value\":2},\"plot\":null,\"size\":10},\"id\":\"64919c42-3bba-4521-95ba-6a3943d5ad2f\",\"type\":\"OpenHead\"},{\"attributes\":{\"below\":[{\"id\":\"7a11aa6d-5ebd-4024-8d01-78b7eac172e4\",\"type\":\"LinearAxis\"}],\"left\":[{\"id\":\"4c33fac5-52d2-42ae-8774-f743d9c120db\",\"type\":\"LinearAxis\"}],\"renderers\":[{\"id\":\"7a11aa6d-5ebd-4024-8d01-78b7eac172e4\",\"type\":\"LinearAxis\"},{\"id\":\"e0c5d6e0-f4da-4b8a-a0e3-a80923e2feef\",\"type\":\"Grid\"},{\"id\":\"4c33fac5-52d2-42ae-8774-f743d9c120db\",\"type\":\"LinearAxis\"},{\"id\":\"fce5f489-8f5f-42eb-a3b3-b5a434313822\",\"type\":\"Grid\"},{\"id\":\"531db164-dd92-431e-b2c4-6b908b2a6705\",\"type\":\"Arrow\"},{\"id\":\"929aa52f-e9ed-4229-9204-94ed9ba76eee\",\"type\":\"Arrow\"},{\"id\":\"042a37b5-f6ef-4271-a954-9ef52b3753ec\",\"type\":\"Arrow\"},{\"id\":\"3b92e0f2-e0bf-45f8-9328-09ae70d623b9\",\"type\":\"Arrow\"},{\"id\":\"e80db9ee-1a6a-4a48-9efe-2a0175dd7357\",\"type\":\"Arrow\"},{\"id\":\"07adab9e-425d-4f8b-84ba-69fc6e4b81c5\",\"type\":\"Arrow\"},{\"id\":\"2ed6ed0c-e020-4b5f-a1bb-f663b5076612\",\"type\":\"Arrow\"},{\"id\":\"b67c9ac0-53ea-4fee-8810-9105618ab295\",\"type\":\"Arrow\"},{\"id\":\"e1f00262-8881-4645-a8c1-c5b7cf70bd14\",\"type\":\"Arrow\"},{\"id\":\"bcaa8d73-d0ba-4456-baa9-f1edfd04fd8e\",\"type\":\"Arrow\"},{\"id\":\"d7952ba5-b4ad-419d-abcb-f24548a57183\",\"type\":\"Arrow\"},{\"id\":\"cbac7766-ab05-4786-8c31-31de751eb3fa\",\"type\":\"Arrow\"},{\"id\":\"ec549d6b-1ed7-485a-9412-ba1b98ffab15\",\"type\":\"Arrow\"},{\"id\":\"afcde149-e13b-4561-b56d-bc5052499e5e\",\"type\":\"Arrow\"},{\"id\":\"20687fcd-2062-4303-bee3-1fcb870f4d81\",\"type\":\"Arrow\"},{\"id\":\"4c473331-9049-465d-b774-b136388d202e\",\"type\":\"Arrow\"},{\"id\":\"9ef19933-4694-4944-828d-01c783709634\",\"type\":\"Arrow\"},{\"id\":\"1eafda6d-023a-49dd-ac49-e54870498144\",\"type\":\"Arrow\"},{\"id\":\"f406efdc-590c-4c36-9b9a-af00a06a09d6\",\"type\":\"Arrow\"},{\"id\":\"00a71839-20fb-4585-b52e-0ac5a002a252\",\"type\":\"Arrow\"},{\"id\":\"b84ca199-66a8-4cfd-a8b5-229513e025a2\",\"type\":\"Arrow\"},{\"id\":\"a2f0ed95-5a33-4d5a-81b7-9e9a458a2cd6\",\"type\":\"Arrow\"},{\"id\":\"6eb7186f-8714-405b-b286-26be09419ec4\",\"type\":\"Arrow\"},{\"id\":\"7417f084-a535-4b5f-9f4b-41d042d29371\",\"type\":\"Arrow\"},{\"id\":\"804f66f7-3e72-4c10-89d4-c4b0a18659f9\",\"type\":\"Arrow\"},{\"id\":\"8089c5d6-88ec-43ec-bd48-129e99532526\",\"type\":\"Arrow\"},{\"id\":\"71e92ca8-5f5e-4acc-bd61-3816ed252f9f\",\"type\":\"Arrow\"},{\"id\":\"48c8a369-5736-484a-a93a-d9aa5e845a2f\",\"type\":\"Arrow\"},{\"id\":\"53d5c40c-626b-49b7-9151-d8bb6bf435ff\",\"type\":\"GlyphRenderer\"},{\"id\":\"7655b27c-651c-42cf-9479-b855ce71d924\",\"type\":\"GlyphRenderer\"},{\"id\":\"931bc5bf-7748-44cd-842a-54596901abb5\",\"type\":\"GlyphRenderer\"},{\"id\":\"e65cb276-b036-4c22-a286-a6e8a1900e8c\",\"type\":\"GlyphRenderer\"},{\"id\":\"414d55c0-d82d-45d3-9ab9-48651bc887ee\",\"type\":\"GlyphRenderer\"},{\"id\":\"d9133188-5150-475d-b1c4-5cdffe4c4cd4\",\"type\":\"GlyphRenderer\"}],\"title\":{\"id\":\"e60e699f-eed6-4c90-bf79-6959c267beee\",\"type\":\"Title\"},\"toolbar\":{\"id\":\"c4b78e45-3ea1-48d2-a266-f53a646f8b44\",\"type\":\"Toolbar\"},\"x_range\":{\"id\":\"408dc621-c4f5-4734-8d16-e70bcfa89887\",\"type\":\"DataRange1d\"},\"x_scale\":{\"id\":\"3fe74c64-2681-4bd6-b197-352d7df8a1ef\",\"type\":\"LinearScale\"},\"y_range\":{\"id\":\"d3de5434-4247-4ade-995c-38ca49068524\",\"type\":\"DataRange1d\"},\"y_scale\":{\"id\":\"55ee5bef-bd08-4c48-adca-f51cea827559\",\"type\":\"LinearScale\"}},\"id\":\"b669d6f2-1f6a-4b35-800b-0168eb2524a3\",\"subtype\":\"Figure\",\"type\":\"Plot\"},{\"attributes\":{\"end\":{\"id\":\"958cdea3-d0ab-4632-9405-1281e1670175\",\"type\":\"OpenHead\"},\"line_color\":{\"value\":\"gray\"},\"plot\":{\"id\":\"b669d6f2-1f6a-4b35-800b-0168eb2524a3\",\"subtype\":\"Figure\",\"type\":\"Plot\"},\"source\":null,\"start\":null,\"x_end\":{\"value\":-0.264557937246971},\"x_start\":{\"value\":0.24156681622323},\"y_end\":{\"value\":0.12794732398802752},\"y_start\":{\"value\":-0.03882706957403987}},\"id\":\"71e92ca8-5f5e-4acc-bd61-3816ed252f9f\",\"type\":\"Arrow\"},{\"attributes\":{\"callback\":null,\"names\":[\"circle\"],\"tooltips\":[[\"true action\",\"@desc\"],[\"prediction\",\"@pred\"],[\"not_skip_gate\",\"@not_skip\"]]},\"id\":\"ba48a49c-2da7-48c0-b63d-906e5008ca87\",\"type\":\"HoverTool\"},{\"attributes\":{\"data_source\":{\"id\":\"ffcf2a89-bb6b-4ca6-804c-6d301a70b1b2\",\"type\":\"ColumnDataSource\"},\"glyph\":{\"id\":\"2b338e85-5a52-41f1-96dc-49d559d0ae7f\",\"type\":\"Circle\"},\"hover_glyph\":null,\"muted_glyph\":null,\"name\":\"circle\",\"nonselection_glyph\":{\"id\":\"428ee024-1f16-42ab-be4a-e7b4722cce15\",\"type\":\"Circle\"},\"selection_glyph\":null,\"view\":{\"id\":\"ccaa1817-4497-4aa4-843c-dcfd7c3e75f7\",\"type\":\"CDSView\"}},\"id\":\"53d5c40c-626b-49b7-9151-d8bb6bf435ff\",\"type\":\"GlyphRenderer\"},{\"attributes\":{\"line_color\":{\"value\":\"firebrick\"},\"line_width\":{\"value\":2},\"plot\":null,\"size\":10},\"id\":\"ea9b2813-72c4-4ece-9bad-dcf7e7df88d5\",\"type\":\"OpenHead\"},{\"attributes\":{\"end\":{\"id\":\"64919c42-3bba-4521-95ba-6a3943d5ad2f\",\"type\":\"OpenHead\"},\"line_color\":{\"value\":\"gray\"},\"plot\":{\"id\":\"b669d6f2-1f6a-4b35-800b-0168eb2524a3\",\"subtype\":\"Figure\",\"type\":\"Plot\"},\"source\":null,\"start\":null,\"x_end\":{\"value\":-0.20861026709290412},\"x_start\":{\"value\":-0.264557937246971},\"y_end\":{\"value\":0.08393881811804342},\"y_start\":{\"value\":0.12794732398802752}},\"id\":\"48c8a369-5736-484a-a93a-d9aa5e845a2f\",\"type\":\"Arrow\"},{\"attributes\":{},\"id\":\"728e5c9f-1529-49d8-8575-6f674a914dfe\",\"type\":\"BasicTicker\"},{\"attributes\":{\"plot\":{\"id\":\"b669d6f2-1f6a-4b35-800b-0168eb2524a3\",\"subtype\":\"Figure\",\"type\":\"Plot\"},\"ticker\":{\"id\":\"728e5c9f-1529-49d8-8575-6f674a914dfe\",\"type\":\"BasicTicker\"}},\"id\":\"e0c5d6e0-f4da-4b8a-a0e3-a80923e2feef\",\"type\":\"Grid\"},{\"attributes\":{\"fill_color\":{\"value\":\"red\"},\"line_color\":{\"value\":\"red\"},\"size\":{\"units\":\"screen\",\"value\":5},\"x\":{\"field\":\"x\"},\"y\":{\"field\":\"y\"}},\"id\":\"8a3119f3-dbba-4efc-a74b-9c6b76d8aba0\",\"type\":\"Circle\"},{\"attributes\":{\"callback\":null,\"column_names\":[\"x\",\"y\",\"desc\",\"pred\",\"not_skip\"],\"data\":{\"desc\":[\"- utter_ask_details\",\"- utter_explain_details_hotel\",\"- utter_ask_details\",\"- utter_chitchat\",\"- utter_ask_details\",\"- utter_ask_startdate\",\"- utter_ask_location\",\"- utter_correct_startdate_hotel\",\"- utter_ask_location\",\"- utter_explain_location_hotel\",\"- utter_ask_location\",\"- utter_ask_price\",\"- utter_chitchat\",\"- utter_ask_price\",\"- utter_chitchat\",\"- utter_ask_price\",\"- utter_chitchat\",\"- utter_ask_price\",\"- utter_chitchat\",\"- utter_ask_price\",\"- utter_explain_price_hotel\",\"- utter_ask_price\",\"- utter_ask_people\",\"- utter_filled_slots\",\"- action_search_hotel\",\"- utter_suggest_hotel\",\"- utter_chitchat\",\"- utter_suggest_hotel\",\"- utter_happy\"],\"not_skip\":[1.0,1.0,0.0,1.0,0.0,1.0,1.0,1.0,0.0,1.0,0.0,1.0,1.0,0.0,1.0,0.0,1.0,0.0,1.0,0.0,1.0,0.0,1.0,1.0,1.0,1.0,1.0,1.0,1.0],\"pred\":[\"- utter_ask_details\",\"- utter_explain_people_hotel\",\"- utter_ask_details\",\"- utter_chitchat\",\"- utter_ask_details\",\"- utter_ask_startdate\",\"- utter_ask_location\",\"- utter_correct_startdate_hotel\",\"- utter_ask_location\",\"- utter_explain_location_hotel\",\"- utter_ask_location\",\"- utter_ask_price\",\"- utter_chitchat\",\"- utter_ask_price\",\"- utter_chitchat\",\"- utter_ask_price\",\"- utter_chitchat\",\"- utter_ask_price\",\"- utter_chitchat\",\"- utter_ask_price\",\"- utter_explain_people_hotel\",\"- utter_ask_price\",\"- utter_ask_people\",\"- utter_filled_slots\",\"- action_search_hotel\",\"- utter_suggest_hotel\",\"- utter_chitchat\",\"- action_listen\",\"- utter_happy\"],\"x\":{\"__ndarray__\":\"wfp9YhkYxb9ZKCZY8IPHv6BXwpk20c6/9BT+PKZAxL8gB6HyCRjJv+A3DDh7S7a/NlqcGIIjvL9AJiJV9CKyv/5ft/j5q8G/+Np1KV/dvL+iPzShFgXDv9prVOfQ37u/Zfzd+r3cu7/23KhmDxLIvzasfeeZzbu/pSgQe+PWyb8VneD3sZe7v3aBRBsFz8m/PJY9LuVRu78Zc5rnD7LJvwszFiKSdLu/cIClKWaf0r+85c0xiAe/vxfTPUs3b7y/w489GlOus7/V17vbvbG4vwV2qq9nV7y/mPONAt6+w7/c3kIrrOy9vw==\",\"dtype\":\"float64\",\"shape\":[29]},\"y\":{\"__ndarray__\":\"WS69smZcqz9pG/lpNpC6P+SJ7vNRpdU/qfi3dPIkyz9I7XmnniPTP/IGV7c6V9A/gtCI9A4uzj9leAbwC9/RPxrhsZ9FoZo/A52ilsacyz/OeJcBqxjAv2yy4UZbvMw/Rtu1JQJXyz/S+7gQPY+LvwtMWu8JPco/oNzot9mpnr/9k7dTGm/JP8uRIXkU0p2/uBoVHaCxyD9idfpmME2dv8VvW+ImDcc/1cRtXhBiy78pASGa5tPEP9Yss2VQ48Y/l0ko3r1UzD+n1hNvqvzGP/ojCPUf9sU/ZWYXVNwswj817YvSwfnFPw==\",\"dtype\":\"float64\",\"shape\":[29]}},\"selected\":null,\"selection_policy\":null},\"id\":\"6da61f6d-1c69-4335-be80-09a71dee07a6\",\"type\":\"ColumnDataSource\"},{\"attributes\":{\"fill_alpha\":{\"value\":0.1},\"fill_color\":{\"value\":\"#1f77b4\"},\"line_alpha\":{\"value\":0.1},\"line_color\":{\"value\":\"#1f77b4\"},\"size\":{\"units\":\"screen\",\"value\":10},\"x\":{\"field\":\"x\"},\"y\":{\"field\":\"y\"}},\"id\":\"428ee024-1f16-42ab-be4a-e7b4722cce15\",\"type\":\"Circle\"},{\"attributes\":{\"callback\":null,\"column_names\":[\"x\",\"y\",\"desc\",\"pred\",\"not_skip\"],\"data\":{\"desc\":[\"- utter_ask_details\",\"- utter_explain_details_hotel\",\"- utter_ask_details\",\"- utter_chitchat\",\"- utter_ask_details\",\"- utter_ask_startdate\",\"- utter_ask_location\",\"- utter_correct_startdate_hotel\",\"- utter_ask_location\",\"- utter_explain_location_hotel\",\"- utter_ask_location\",\"- utter_ask_price\",\"- utter_chitchat\",\"- utter_ask_price\",\"- utter_chitchat\",\"- utter_ask_price\",\"- utter_chitchat\",\"- utter_ask_price\",\"- utter_chitchat\",\"- utter_ask_price\",\"- utter_explain_price_hotel\",\"- utter_ask_price\",\"- utter_ask_people\",\"- utter_filled_slots\",\"- action_search_hotel\",\"- utter_suggest_hotel\",\"- utter_chitchat\",\"- utter_suggest_hotel\",\"- utter_happy\"],\"not_skip\":[1.0,1.0,0.0,1.0,0.0,1.0,1.0,1.0,0.0,1.0,0.0,1.0,1.0,0.0,1.0,0.0,1.0,0.0,1.0,0.0,1.0,0.0,1.0,1.0,1.0,1.0,1.0,1.0,1.0],\"pred\":[\"- utter_ask_details\",\"- utter_explain_people_hotel\",\"- utter_ask_details\",\"- utter_chitchat\",\"- utter_ask_details\",\"- utter_ask_startdate\",\"- utter_ask_location\",\"- utter_correct_startdate_hotel\",\"- utter_ask_location\",\"- utter_explain_location_hotel\",\"- utter_ask_location\",\"- utter_ask_price\",\"- utter_chitchat\",\"- utter_ask_price\",\"- utter_chitchat\",\"- utter_ask_price\",\"- utter_chitchat\",\"- utter_ask_price\",\"- utter_chitchat\",\"- utter_ask_price\",\"- utter_explain_people_hotel\",\"- utter_ask_price\",\"- utter_ask_people\",\"- utter_filled_slots\",\"- action_search_hotel\",\"- utter_suggest_hotel\",\"- utter_chitchat\",\"- action_listen\",\"- utter_happy\"],\"x\":{\"__ndarray__\":\"uG4D0Bu1zr8uyXDYZAnCv7U7620oFMm/TyPCsyo94j/J5bQoXN/Bv/czHhpyDpW/B4o6kWQQgj99yrlqrtXMPzr8nFAcdcm/+nXg3TEHsz/kzdfnNYq6v0P/N6XgfMa/ImfcbdiZ4T9S9fFCbEHSv63C+uJ+4OE//o7L5THP0r+gl0qqjAjiP21z0lF/idK/2FcDaoYr4j/SmWCQbDjSv01bjWWsH64/nWzexREW1L9giVx7JVanv8Pb89/Z/p8/ILorpcIgsr92zMJaPcnGv34ivVOp684/l94XaoTu0L91DWPBvbPKvw==\",\"dtype\":\"float64\",\"shape\":[29]},\"y\":{\"__ndarray__\":\"5LLMkhmh1j+5ubrBhg3FP3LyT1wLjto/O1wKMp8htb9CC05BmkvUP2qM5pAIX70/Da0heS48wr/uCrBzWnvqP8OJNhxMksW/aKnJ5fjvur9kcXcUihjKv+opy/eqWdS/2NFs35pLv7/9cIXfPKDOv4KrJPz+JsC/Q36NPfk80L9WL1MvFG/Av4GbzNxlAtC/HxgZNUbAwL9uWZfvv6nPv064fTVwhb2/NY+6cxZ70L9NtpLEaC6qvxtvFiipq9U/LNHOOpEluD+hoALNrHvCP8k/CkQk4aO/Z9QR8pNgwD9DkK6uA321Pw==\",\"dtype\":\"float64\",\"shape\":[29]}},\"selected\":null,\"selection_policy\":null},\"id\":\"ffcf2a89-bb6b-4ca6-804c-6d301a70b1b2\",\"type\":\"ColumnDataSource\"},{\"attributes\":{\"fill_alpha\":{\"value\":0.1},\"fill_color\":{\"value\":\"#1f77b4\"},\"line_alpha\":{\"value\":0.1},\"line_color\":{\"value\":\"#1f77b4\"},\"size\":{\"units\":\"screen\",\"value\":5},\"x\":{\"field\":\"x\"},\"y\":{\"field\":\"y\"}},\"id\":\"e3175fcc-f020-429d-8896-6e8deda2ca20\",\"type\":\"Circle\"},{\"attributes\":{\"active_drag\":\"auto\",\"active_inspect\":\"auto\",\"active_scroll\":\"auto\",\"active_tap\":\"auto\",\"tools\":[{\"id\":\"ba48a49c-2da7-48c0-b63d-906e5008ca87\",\"type\":\"HoverTool\"}]},\"id\":\"c4b78e45-3ea1-48d2-a266-f53a646f8b44\",\"type\":\"Toolbar\"},{\"attributes\":{\"source\":{\"id\":\"6da61f6d-1c69-4335-be80-09a71dee07a6\",\"type\":\"ColumnDataSource\"}},\"id\":\"27edaa67-fbd9-4ad7-9aab-59a3d5de70be\",\"type\":\"CDSView\"},{\"attributes\":{\"callback\":null},\"id\":\"d3de5434-4247-4ade-995c-38ca49068524\",\"type\":\"DataRange1d\"},{\"attributes\":{\"fill_color\":{\"value\":\"green\"},\"line_color\":{\"value\":\"green\"},\"size\":{\"units\":\"screen\",\"value\":5},\"x\":{\"field\":\"x\"},\"y\":{\"field\":\"y\"}},\"id\":\"76bbf10f-1182-4bab-addc-184072d098c0\",\"type\":\"Circle\"},{\"attributes\":{\"callback\":null},\"id\":\"408dc621-c4f5-4734-8d16-e70bcfa89887\",\"type\":\"DataRange1d\"},{\"attributes\":{},\"id\":\"f98a1123-88ba-4407-b43b-50ad6154a2a6\",\"type\":\"BasicTickFormatter\"},{\"attributes\":{\"line_color\":{\"value\":\"firebrick\"},\"line_width\":{\"value\":2},\"plot\":null,\"size\":10},\"id\":\"7ffc6286-0bd5-4a9b-9ecc-b56afa8e563d\",\"type\":\"OpenHead\"},{\"attributes\":{},\"id\":\"55ee5bef-bd08-4c48-adca-f51cea827559\",\"type\":\"LinearScale\"},{\"attributes\":{\"data_source\":{\"id\":\"6da61f6d-1c69-4335-be80-09a71dee07a6\",\"type\":\"ColumnDataSource\"},\"glyph\":{\"id\":\"76bbf10f-1182-4bab-addc-184072d098c0\",\"type\":\"Circle\"},\"hover_glyph\":null,\"muted_glyph\":null,\"name\":\"circle\",\"nonselection_glyph\":{\"id\":\"e3175fcc-f020-429d-8896-6e8deda2ca20\",\"type\":\"Circle\"},\"selection_glyph\":null,\"view\":{\"id\":\"27edaa67-fbd9-4ad7-9aab-59a3d5de70be\",\"type\":\"CDSView\"}},\"id\":\"7655b27c-651c-42cf-9479-b855ce71d924\",\"type\":\"GlyphRenderer\"},{\"attributes\":{},\"id\":\"3fe74c64-2681-4bd6-b197-352d7df8a1ef\",\"type\":\"LinearScale\"},{\"attributes\":{\"data_source\":{\"id\":\"32532c7c-c78f-4f2d-a801-28b05628f921\",\"type\":\"ColumnDataSource\"},\"glyph\":{\"id\":\"8a3119f3-dbba-4efc-a74b-9c6b76d8aba0\",\"type\":\"Circle\"},\"hover_glyph\":null,\"muted_glyph\":null,\"name\":\"circle\",\"nonselection_glyph\":{\"id\":\"5157a50e-382e-42ec-b074-caec185be005\",\"type\":\"Circle\"},\"selection_glyph\":null,\"view\":{\"id\":\"d69e1294-bed5-44cf-94ca-acb3e3ca5dd8\",\"type\":\"CDSView\"}},\"id\":\"931bc5bf-7748-44cd-842a-54596901abb5\",\"type\":\"GlyphRenderer\"},{\"attributes\":{\"end\":{\"id\":\"ea9b2813-72c4-4ece-9bad-dcf7e7df88d5\",\"type\":\"OpenHead\"},\"line_color\":{\"value\":\"gray\"},\"plot\":{\"id\":\"b669d6f2-1f6a-4b35-800b-0168eb2524a3\",\"subtype\":\"Figure\",\"type\":\"Plot\"},\"source\":null,\"start\":null,\"x_end\":{\"value\":-0.14091167992007442},\"x_start\":{\"value\":-0.2399019971552343},\"y_end\":{\"value\":0.16447529277270492},\"y_start\":{\"value\":0.3535827573385133}},\"id\":\"531db164-dd92-431e-b2c4-6b908b2a6705\",\"type\":\"Arrow\"},{\"attributes\":{\"source\":{\"id\":\"32532c7c-c78f-4f2d-a801-28b05628f921\",\"type\":\"ColumnDataSource\"}},\"id\":\"d69e1294-bed5-44cf-94ca-acb3e3ca5dd8\",\"type\":\"CDSView\"},{\"attributes\":{\"formatter\":{\"id\":\"39e487b0-3992-4960-bc00-09c136beb499\",\"type\":\"BasicTickFormatter\"},\"plot\":{\"id\":\"b669d6f2-1f6a-4b35-800b-0168eb2524a3\",\"subtype\":\"Figure\",\"type\":\"Plot\"},\"ticker\":{\"id\":\"728e5c9f-1529-49d8-8575-6f674a914dfe\",\"type\":\"BasicTicker\"}},\"id\":\"7a11aa6d-5ebd-4024-8d01-78b7eac172e4\",\"type\":\"LinearAxis\"},{\"attributes\":{\"formatter\":{\"id\":\"f98a1123-88ba-4407-b43b-50ad6154a2a6\",\"type\":\"BasicTickFormatter\"},\"plot\":{\"id\":\"b669d6f2-1f6a-4b35-800b-0168eb2524a3\",\"subtype\":\"Figure\",\"type\":\"Plot\"},\"ticker\":{\"id\":\"c1cb3315-48f7-4c0e-9012-6edf19d35c09\",\"type\":\"BasicTicker\"}},\"id\":\"4c33fac5-52d2-42ae-8774-f743d9c120db\",\"type\":\"LinearAxis\"},{\"attributes\":{\"callback\":null,\"column_names\":[\"x\",\"y\",\"desc\",\"pred\",\"not_skip\"],\"data\":{\"desc\":[\"- utter_ask_details\",\"- utter_explain_details_hotel\",\"- utter_ask_details\",\"- utter_chitchat\",\"- utter_ask_details\",\"- utter_ask_startdate\",\"- utter_ask_location\",\"- utter_correct_startdate_hotel\",\"- utter_ask_location\",\"- utter_explain_location_hotel\",\"- utter_ask_location\",\"- utter_ask_price\",\"- utter_chitchat\",\"- utter_ask_price\",\"- utter_chitchat\",\"- utter_ask_price\",\"- utter_chitchat\",\"- utter_ask_price\",\"- utter_chitchat\",\"- utter_ask_price\",\"- utter_explain_price_hotel\",\"- utter_ask_price\",\"- utter_ask_people\",\"- utter_filled_slots\",\"- action_search_hotel\",\"- utter_suggest_hotel\",\"- utter_chitchat\",\"- utter_suggest_hotel\",\"- utter_happy\"],\"not_skip\":[1.0,1.0,0.0,1.0,0.0,1.0,1.0,1.0,0.0,1.0,0.0,1.0,1.0,0.0,1.0,0.0,1.0,0.0,1.0,0.0,1.0,0.0,1.0,1.0,1.0,1.0,1.0,1.0,1.0],\"pred\":[\"- utter_ask_details\",\"- utter_explain_people_hotel\",\"- utter_ask_details\",\"- utter_chitchat\",\"- utter_ask_details\",\"- utter_ask_startdate\",\"- utter_ask_location\",\"- utter_correct_startdate_hotel\",\"- utter_ask_location\",\"- utter_explain_location_hotel\",\"- utter_ask_location\",\"- utter_ask_price\",\"- utter_chitchat\",\"- utter_ask_price\",\"- utter_chitchat\",\"- utter_ask_price\",\"- utter_chitchat\",\"- utter_ask_price\",\"- utter_chitchat\",\"- utter_ask_price\",\"- utter_explain_people_hotel\",\"- utter_ask_price\",\"- utter_ask_people\",\"- utter_filled_slots\",\"- action_search_hotel\",\"- utter_suggest_hotel\",\"- utter_chitchat\",\"- action_listen\",\"- utter_happy\"],\"x\":{\"__ndarray__\":\"/IJv2aTBy7/PTYbsLVS5v3uT/YIoz7i/M+qlpSvE4j/urv9Q6de1v4KAtDRmQbO/kV1HjdiOl79ngWMnhsLDP2tQYszE7cm/f7atP5g2pz+1fe13Tcm4v9jijqaascq/CZXvjkeM4D9CqROTa5XOv4kZNoYJ0eA/DpHuyCLszb8x4HlMWvLgPyWIZ/ibaM2/mU0MeZoM4T9qm66na+PMv6mXdhaO7Jg/YptTpPkRxb+zbGxdz+ywv3FeXuJz1EI/Uj1QPtpdwb+hqAXtAJXMv+R3W6e68so/Tg7poGYh0L+4AmYMCuLNvw==\",\"dtype\":\"float64\",\"shape\":[29]},\"y\":{\"__ndarray__\":\"VyaB/E4B1j9AYgYm4Lm6PxOvtYzu0b4/6EAavR4P0L8d4W3f7p2vP1vH3DHZzri/JQjLeVxp1b+B09uZtfHiP9qRj1PwTsO/iDFBQJ++0b/nzRMvaqGhvzSqRFgW7N+/GU7hgaWy0r85ZzGUxE/Hv5LAkjNCZtK/JqsnwDINx79/Dmv8VCPSv24RDKEEs8a//FUM5jDt0b8XYlNdlWjGvyEr4z4tHNC/T0x5LLs/Gz9k88VK/MfFv44fm2CGC8o/OZyiaOFUtb8o/V1mbmiBP8Nl1XzkVsW/Nj+7BOFZnj/bQMuY7Y6mvw==\",\"dtype\":\"float64\",\"shape\":[29]}},\"selected\":null,\"selection_policy\":null},\"id\":\"32532c7c-c78f-4f2d-a801-28b05628f921\",\"type\":\"ColumnDataSource\"},{\"attributes\":{},\"id\":\"c1cb3315-48f7-4c0e-9012-6edf19d35c09\",\"type\":\"BasicTicker\"},{\"attributes\":{\"callback\":null,\"data\":{},\"selected\":null,\"selection_policy\":null},\"id\":\"487d3a3d-f745-499a-b398-79df1d027ede\",\"type\":\"ColumnDataSource\"},{\"attributes\":{\"dimension\":1,\"plot\":{\"id\":\"b669d6f2-1f6a-4b35-800b-0168eb2524a3\",\"subtype\":\"Figure\",\"type\":\"Plot\"},\"ticker\":{\"id\":\"c1cb3315-48f7-4c0e-9012-6edf19d35c09\",\"type\":\"BasicTicker\"}},\"id\":\"fce5f489-8f5f-42eb-a3b3-b5a434313822\",\"type\":\"Grid\"},{\"attributes\":{\"fill_alpha\":{\"value\":0.1},\"fill_color\":{\"value\":\"#1f77b4\"},\"line_alpha\":{\"value\":0.1},\"line_color\":{\"value\":\"#1f77b4\"},\"size\":{\"units\":\"screen\",\"value\":5},\"x\":{\"field\":\"x\"},\"y\":{\"field\":\"y\"}},\"id\":\"5157a50e-382e-42ec-b074-caec185be005\",\"type\":\"Circle\"},{\"attributes\":{\"line_color\":{\"value\":\"firebrick\"},\"line_width\":{\"value\":2},\"plot\":null,\"size\":10},\"id\":\"05fb5c10-8156-4474-ab96-649042db019a\",\"type\":\"OpenHead\"},{\"attributes\":{\"fill_color\":{\"value\":\"magenta\"},\"line_color\":{\"value\":\"magenta\"},\"size\":{\"units\":\"screen\",\"value\":5},\"x\":{\"value\":-0.14174299625679743},\"y\":{\"value\":0.04368645248409171}},\"id\":\"15ef6243-cf56-4705-86bd-7df5e9e1495a\",\"type\":\"Circle\"},{\"attributes\":{\"line_color\":{\"value\":\"firebrick\"},\"line_width\":{\"value\":2},\"plot\":null,\"size\":10},\"id\":\"b2b03601-fee9-435f-8935-dc2d34017025\",\"type\":\"OpenHead\"},{\"attributes\":{\"callback\":null,\"data\":{},\"selected\":null,\"selection_policy\":null},\"id\":\"16b72751-b2d1-4f4c-b2b2-4872ff3d38fa\",\"type\":\"ColumnDataSource\"},{\"attributes\":{\"end\":{\"id\":\"05fb5c10-8156-4474-ab96-649042db019a\",\"type\":\"OpenHead\"},\"line_color\":{\"value\":\"gray\"},\"plot\":{\"id\":\"b669d6f2-1f6a-4b35-800b-0168eb2524a3\",\"subtype\":\"Figure\",\"type\":\"Plot\"},\"source\":null,\"start\":null,\"x_end\":{\"value\":-0.285243096710322},\"x_start\":{\"value\":0.550029959270635},\"y_end\":{\"value\":-0.23926506914256854},\"y_start\":{\"value\":-0.12224739031518739}},\"id\":\"ec549d6b-1ed7-485a-9412-ba1b98ffab15\",\"type\":\"Arrow\"},{\"attributes\":{\"source\":{\"id\":\"16b72751-b2d1-4f4c-b2b2-4872ff3d38fa\",\"type\":\"ColumnDataSource\"}},\"id\":\"6e61a89c-ebb6-4e21-8a36-136c63d08f01\",\"type\":\"CDSView\"},{\"attributes\":{\"end\":{\"id\":\"2fe08a89-31ed-4996-8ec9-4537b192613f\",\"type\":\"OpenHead\"},\"line_color\":{\"value\":\"gray\"},\"plot\":{\"id\":\"b669d6f2-1f6a-4b35-800b-0168eb2524a3\",\"subtype\":\"Figure\",\"type\":\"Plot\"},\"source\":null,\"start\":null,\"x_end\":{\"value\":-0.17568595950432994},\"x_start\":{\"value\":-0.10367142591694961},\"y_end\":{\"value\":-0.31797289084047853},\"y_start\":{\"value\":-0.20387388228744918}},\"id\":\"d7952ba5-b4ad-419d-abcb-f24548a57183\",\"type\":\"Arrow\"},{\"attributes\":{\"fill_alpha\":{\"value\":0.1},\"fill_color\":{\"value\":\"#1f77b4\"},\"line_alpha\":{\"value\":0.1},\"line_color\":{\"value\":\"#1f77b4\"},\"size\":{\"units\":\"screen\",\"value\":5},\"x\":{\"value\":-0.14174299625679743},\"y\":{\"value\":0.04368645248409171}},\"id\":\"ae52f29e-7be3-4fa7-b0ac-33452c37a760\",\"type\":\"Circle\"},{\"attributes\":{\"end\":{\"id\":\"7ffc6286-0bd5-4a9b-9ecc-b56afa8e563d\",\"type\":\"OpenHead\"},\"line_color\":{\"value\":\"gray\"},\"plot\":{\"id\":\"b669d6f2-1f6a-4b35-800b-0168eb2524a3\",\"subtype\":\"Figure\",\"type\":\"Plot\"},\"source\":null,\"start\":null,\"x_end\":{\"value\":-0.1959276711190491},\"x_start\":{\"value\":-0.14091167992007442},\"y_end\":{\"value\":0.41491970076439266},\"y_start\":{\"value\":0.16447529277270492}},\"id\":\"929aa52f-e9ed-4229-9204-94ed9ba76eee\",\"type\":\"Arrow\"},{\"attributes\":{\"line_color\":{\"value\":\"firebrick\"},\"line_width\":{\"value\":2},\"plot\":null,\"size\":10},\"id\":\"a69d20db-8231-4665-9a82-2bbba99e07ba\",\"type\":\"OpenHead\"},{\"attributes\":{\"data_source\":{\"id\":\"16b72751-b2d1-4f4c-b2b2-4872ff3d38fa\",\"type\":\"ColumnDataSource\"},\"glyph\":{\"id\":\"15ef6243-cf56-4705-86bd-7df5e9e1495a\",\"type\":\"Circle\"},\"hover_glyph\":null,\"muted_glyph\":null,\"nonselection_glyph\":{\"id\":\"ae52f29e-7be3-4fa7-b0ac-33452c37a760\",\"type\":\"Circle\"},\"selection_glyph\":null,\"view\":{\"id\":\"6e61a89c-ebb6-4e21-8a36-136c63d08f01\",\"type\":\"CDSView\"}},\"id\":\"e65cb276-b036-4c22-a286-a6e8a1900e8c\",\"type\":\"GlyphRenderer\"},{\"attributes\":{\"end\":{\"id\":\"b2b03601-fee9-435f-8935-dc2d34017025\",\"type\":\"OpenHead\"},\"line_color\":{\"value\":\"gray\"},\"plot\":{\"id\":\"b669d6f2-1f6a-4b35-800b-0168eb2524a3\",\"subtype\":\"Figure\",\"type\":\"Plot\"},\"source\":null,\"start\":null,\"x_end\":{\"value\":0.5699666510491656},\"x_start\":{\"value\":-0.1959276711190491},\"y_end\":{\"value\":-0.08254427882853659},\"y_start\":{\"value\":0.41491970076439266}},\"id\":\"042a37b5-f6ef-4271-a954-9ef52b3753ec\",\"type\":\"Arrow\"},{\"attributes\":{\"callback\":null,\"data\":{},\"selected\":null,\"selection_policy\":null},\"id\":\"be66dce0-02a7-4106-9ee9-0adfa671df70\",\"type\":\"ColumnDataSource\"},{\"attributes\":{\"line_color\":{\"value\":\"firebrick\"},\"line_width\":{\"value\":2},\"plot\":null,\"size\":10},\"id\":\"98114c39-67d2-4058-8de7-db7c6369d011\",\"type\":\"OpenHead\"},{\"attributes\":{\"fill_color\":{\"value\":\"green\"},\"line_color\":{\"value\":\"green\"},\"size\":{\"units\":\"screen\",\"value\":10},\"x\":{\"value\":-0.2399019971552343},\"y\":{\"value\":0.3535827573385133}},\"id\":\"be0cea88-82eb-4da2-b1f7-17bdb163f8c6\",\"type\":\"Circle\"},{\"attributes\":{\"end\":{\"id\":\"a69d20db-8231-4665-9a82-2bbba99e07ba\",\"type\":\"OpenHead\"},\"line_color\":{\"value\":\"gray\"},\"plot\":{\"id\":\"b669d6f2-1f6a-4b35-800b-0168eb2524a3\",\"subtype\":\"Figure\",\"type\":\"Plot\"},\"source\":null,\"start\":null,\"x_end\":{\"value\":-0.13962890613201598},\"x_start\":{\"value\":0.5699666510491656},\"y_end\":{\"value\":0.3171144139998213},\"y_start\":{\"value\":-0.08254427882853659}},\"id\":\"3b92e0f2-e0bf-45f8-9328-09ae70d623b9\",\"type\":\"Arrow\"},{\"attributes\":{\"fill_alpha\":{\"value\":0.1},\"fill_color\":{\"value\":\"#1f77b4\"},\"line_alpha\":{\"value\":0.1},\"line_color\":{\"value\":\"#1f77b4\"},\"size\":{\"units\":\"screen\",\"value\":10},\"x\":{\"value\":-0.2399019971552343},\"y\":{\"value\":0.3535827573385133}},\"id\":\"781b8318-c0d7-4338-86c6-2b19144b699b\",\"type\":\"Circle\"},{\"attributes\":{\"line_color\":{\"value\":\"firebrick\"},\"line_width\":{\"value\":2},\"plot\":null,\"size\":10},\"id\":\"01fccd00-8b73-4025-83de-cbf53e38db7f\",\"type\":\"OpenHead\"},{\"attributes\":{\"source\":{\"id\":\"487d3a3d-f745-499a-b398-79df1d027ede\",\"type\":\"ColumnDataSource\"}},\"id\":\"3409f6c5-1429-4512-a65a-6d19f4544999\",\"type\":\"CDSView\"},{\"attributes\":{\"end\":{\"id\":\"98114c39-67d2-4058-8de7-db7c6369d011\",\"type\":\"OpenHead\"},\"line_color\":{\"value\":\"gray\"},\"plot\":{\"id\":\"b669d6f2-1f6a-4b35-800b-0168eb2524a3\",\"subtype\":\"Figure\",\"type\":\"Plot\"},\"source\":null,\"start\":null,\"x_end\":{\"value\":-0.020562918514361397},\"x_start\":{\"value\":-0.13962890613201598},\"y_end\":{\"value\":0.11473134553539102},\"y_start\":{\"value\":0.3171144139998213}},\"id\":\"e80db9ee-1a6a-4a48-9efe-2a0175dd7357\",\"type\":\"Arrow\"},{\"attributes\":{\"data_source\":{\"id\":\"487d3a3d-f745-499a-b398-79df1d027ede\",\"type\":\"ColumnDataSource\"},\"glyph\":{\"id\":\"be0cea88-82eb-4da2-b1f7-17bdb163f8c6\",\"type\":\"Circle\"},\"hover_glyph\":null,\"muted_glyph\":null,\"nonselection_glyph\":{\"id\":\"781b8318-c0d7-4338-86c6-2b19144b699b\",\"type\":\"Circle\"},\"selection_glyph\":null,\"view\":{\"id\":\"3409f6c5-1429-4512-a65a-6d19f4544999\",\"type\":\"CDSView\"}},\"id\":\"414d55c0-d82d-45d3-9ab9-48651bc887ee\",\"type\":\"GlyphRenderer\"},{\"attributes\":{\"line_color\":{\"value\":\"firebrick\"},\"line_width\":{\"value\":2},\"plot\":null,\"size\":10},\"id\":\"5c935ced-36c5-43c1-92ad-29cb0c6eeaa7\",\"type\":\"OpenHead\"},{\"attributes\":{\"end\":{\"id\":\"01fccd00-8b73-4025-83de-cbf53e38db7f\",\"type\":\"OpenHead\"},\"line_color\":{\"value\":\"gray\"},\"plot\":{\"id\":\"b669d6f2-1f6a-4b35-800b-0168eb2524a3\",\"subtype\":\"Figure\",\"type\":\"Plot\"},\"source\":null,\"start\":null,\"x_end\":{\"value\":0.008820329362895242},\"x_start\":{\"value\":-0.020562918514361397},\"y_end\":{\"value\":-0.14246159472109135},\"y_start\":{\"value\":0.11473134553539102}},\"id\":\"07adab9e-425d-4f8b-84ba-69fc6e4b81c5\",\"type\":\"Arrow\"},{\"attributes\":{\"fill_color\":{\"value\":\"red\"},\"line_color\":{\"value\":\"red\"},\"size\":{\"units\":\"screen\",\"value\":10},\"x\":{\"value\":-0.20861026709290412},\"y\":{\"value\":0.08393881811804342}},\"id\":\"f6e87e88-b93f-449d-b04f-afb8141ccc76\",\"type\":\"Circle\"},{\"attributes\":{\"line_color\":{\"value\":\"firebrick\"},\"line_width\":{\"value\":2},\"plot\":null,\"size\":10},\"id\":\"33156c7a-ec21-47dc-863d-125bed22113d\",\"type\":\"OpenHead\"},{\"attributes\":{\"fill_alpha\":{\"value\":0.1},\"fill_color\":{\"value\":\"#1f77b4\"},\"line_alpha\":{\"value\":0.1},\"line_color\":{\"value\":\"#1f77b4\"},\"size\":{\"units\":\"screen\",\"value\":10},\"x\":{\"value\":-0.20861026709290412},\"y\":{\"value\":0.08393881811804342}},\"id\":\"a487ca7d-84a9-4690-b4ad-d644830a852c\",\"type\":\"Circle\"},{\"attributes\":{\"end\":{\"id\":\"5c935ced-36c5-43c1-92ad-29cb0c6eeaa7\",\"type\":\"OpenHead\"},\"line_color\":{\"value\":\"gray\"},\"plot\":{\"id\":\"b669d6f2-1f6a-4b35-800b-0168eb2524a3\",\"subtype\":\"Figure\",\"type\":\"Plot\"},\"source\":null,\"start\":null,\"x_end\":{\"value\":0.2252710362550551},\"x_start\":{\"value\":0.008820329362895242},\"y_end\":{\"value\":0.8275577792668096},\"y_start\":{\"value\":-0.14246159472109135}},\"id\":\"2ed6ed0c-e020-4b5f-a1bb-f663b5076612\",\"type\":\"Arrow\"},{\"attributes\":{\"source\":{\"id\":\"be66dce0-02a7-4106-9ee9-0adfa671df70\",\"type\":\"ColumnDataSource\"}},\"id\":\"ff82ab93-1fd7-4def-bf4c-37cd5c4ea97d\",\"type\":\"CDSView\"},{\"attributes\":{\"line_color\":{\"value\":\"firebrick\"},\"line_width\":{\"value\":2},\"plot\":null,\"size\":10},\"id\":\"d4c2c3b2-b877-4173-9560-e0d51399e34d\",\"type\":\"OpenHead\"},{\"attributes\":{\"data_source\":{\"id\":\"be66dce0-02a7-4106-9ee9-0adfa671df70\",\"type\":\"ColumnDataSource\"},\"glyph\":{\"id\":\"f6e87e88-b93f-449d-b04f-afb8141ccc76\",\"type\":\"Circle\"},\"hover_glyph\":null,\"muted_glyph\":null,\"nonselection_glyph\":{\"id\":\"a487ca7d-84a9-4690-b4ad-d644830a852c\",\"type\":\"Circle\"},\"selection_glyph\":null,\"view\":{\"id\":\"ff82ab93-1fd7-4def-bf4c-37cd5c4ea97d\",\"type\":\"CDSView\"}},\"id\":\"d9133188-5150-475d-b1c4-5cdffe4c4cd4\",\"type\":\"GlyphRenderer\"},{\"attributes\":{\"end\":{\"id\":\"33156c7a-ec21-47dc-863d-125bed22113d\",\"type\":\"OpenHead\"},\"line_color\":{\"value\":\"gray\"},\"plot\":{\"id\":\"b669d6f2-1f6a-4b35-800b-0168eb2524a3\",\"subtype\":\"Figure\",\"type\":\"Plot\"},\"source\":null,\"start\":null,\"x_end\":{\"value\":-0.19888643203918993},\"x_start\":{\"value\":0.2252710362550551},\"y_end\":{\"value\":-0.1685271394499762},\"y_start\":{\"value\":0.8275577792668096}},\"id\":\"b67c9ac0-53ea-4fee-8810-9105618ab295\",\"type\":\"Arrow\"},{\"attributes\":{\"line_color\":{\"value\":\"firebrick\"},\"line_width\":{\"value\":2},\"plot\":null,\"size\":10},\"id\":\"3c07a5ac-3f86-4ce7-bfa0-6ec41c8b4e28\",\"type\":\"OpenHead\"},{\"attributes\":{\"end\":{\"id\":\"d4c2c3b2-b877-4173-9560-e0d51399e34d\",\"type\":\"OpenHead\"},\"line_color\":{\"value\":\"gray\"},\"plot\":{\"id\":\"b669d6f2-1f6a-4b35-800b-0168eb2524a3\",\"subtype\":\"Figure\",\"type\":\"Plot\"},\"source\":null,\"start\":null,\"x_end\":{\"value\":0.07432853381074969},\"x_start\":{\"value\":-0.19888643203918993},\"y_end\":{\"value\":-0.10522418603946948},\"y_start\":{\"value\":-0.1685271394499762}},\"id\":\"e1f00262-8881-4645-a8c1-c5b7cf70bd14\",\"type\":\"Arrow\"},{\"attributes\":{\"line_color\":{\"value\":\"firebrick\"},\"line_width\":{\"value\":2},\"plot\":null,\"size\":10},\"id\":\"2fe08a89-31ed-4996-8ec9-4537b192613f\",\"type\":\"OpenHead\"},{\"attributes\":{\"end\":{\"id\":\"3c07a5ac-3f86-4ce7-bfa0-6ec41c8b4e28\",\"type\":\"OpenHead\"},\"line_color\":{\"value\":\"gray\"},\"plot\":{\"id\":\"b669d6f2-1f6a-4b35-800b-0168eb2524a3\",\"subtype\":\"Figure\",\"type\":\"Plot\"},\"source\":null,\"start\":null,\"x_end\":{\"value\":-0.10367142591694961},\"x_start\":{\"value\":0.07432853381074969},\"y_end\":{\"value\":-0.20387388228744918},\"y_start\":{\"value\":-0.10522418603946948}},\"id\":\"bcaa8d73-d0ba-4456-baa9-f1edfd04fd8e\",\"type\":\"Arrow\"},{\"attributes\":{\"line_color\":{\"value\":\"firebrick\"},\"line_width\":{\"value\":2},\"plot\":null,\"size\":10},\"id\":\"1a3e9b07-7ff5-49a9-8194-465d283b851a\",\"type\":\"OpenHead\"},{\"attributes\":{\"end\":{\"id\":\"1a3e9b07-7ff5-49a9-8194-465d283b851a\",\"type\":\"OpenHead\"},\"line_color\":{\"value\":\"gray\"},\"plot\":{\"id\":\"b669d6f2-1f6a-4b35-800b-0168eb2524a3\",\"subtype\":\"Figure\",\"type\":\"Plot\"},\"source\":null,\"start\":null,\"x_end\":{\"value\":0.550029959270635},\"x_start\":{\"value\":-0.17568595950432994},\"y_end\":{\"value\":-0.12224739031518739},\"y_start\":{\"value\":-0.31797289084047853}},\"id\":\"cbac7766-ab05-4786-8c31-31de751eb3fa\",\"type\":\"Arrow\"}],\"root_ids\":[\"b669d6f2-1f6a-4b35-800b-0168eb2524a3\"]},\"title\":\"Bokeh Application\",\"version\":\"0.12.15\"}};\n",
       "  var render_items = [{\"docid\":\"dcc970cf-1db5-4e00-a299-bc8932542b55\",\"elementid\":\"a7b7be9a-27c6-45f0-b186-78daf3937ecd\",\"modelid\":\"b669d6f2-1f6a-4b35-800b-0168eb2524a3\"}];\n",
       "  root.Bokeh.embed.embed_items_notebook(docs_json, render_items);\n",
       "\n",
       "  }\n",
       "  if (root.Bokeh !== undefined) {\n",
       "    embed_document(root);\n",
       "  } else {\n",
       "    var attempts = 0;\n",
       "    var timer = setInterval(function(root) {\n",
       "      if (root.Bokeh !== undefined) {\n",
       "        embed_document(root);\n",
       "        clearInterval(timer);\n",
       "      }\n",
       "      attempts++;\n",
       "      if (attempts > 100) {\n",
       "        console.log(\"Bokeh: ERROR: Unable to run BokehJS code because BokehJS library is missing\")\n",
       "        clearInterval(timer);\n",
       "      }\n",
       "    }, 10, root)\n",
       "  }\n",
       "})(window);"
      ],
      "application/vnd.bokehjs_exec.v0+json": ""
     },
     "metadata": {
      "application/vnd.bokehjs_exec.v0+json": {
       "id": "b669d6f2-1f6a-4b35-800b-0168eb2524a3"
      }
     },
     "output_type": "display_data"
    }
   ],
   "source": [
    "show(p)"
   ]
  },
  {
   "cell_type": "code",
   "execution_count": null,
   "metadata": {},
   "outputs": [],
   "source": []
  },
  {
   "cell_type": "code",
   "execution_count": 38,
   "metadata": {},
   "outputs": [
    {
     "name": "stdout",
     "output_type": "stream",
     "text": [
      "utter_ask_price --> 5\n",
      "utter_ask_details --> 27\n",
      "utter_explain_details_hotel --> 13\n",
      "utter_explain_people_hotel --> 18\n",
      "utter_ask_location --> 4\n",
      "utter_explain_location_hotel --> 16\n",
      "utter_ask_startdate --> 6\n",
      "utter_suggest_hotel --> 11\n",
      "action_search_hotel --> 41\n",
      "action_listen --> 0\n"
     ]
    }
   ],
   "source": [
    "print('utter_ask_price', '-->', domain.index_for_action('utter_ask_price'))\n",
    "print('utter_ask_details', '-->', domain.index_for_action('utter_ask_details'))\n",
    "print('utter_explain_details_hotel', '-->', domain.index_for_action('utter_explain_details_hotel'))\n",
    "print('utter_explain_people_hotel', '-->', domain.index_for_action('utter_explain_people_hotel'))\n",
    "print('utter_ask_location', '-->', domain.index_for_action('utter_ask_location'))\n",
    "print('utter_explain_location_hotel', '-->', domain.index_for_action('utter_explain_location_hotel'))\n",
    "print('utter_ask_startdate', '-->', domain.index_for_action('utter_ask_startdate'))\n",
    "print('utter_suggest_hotel', '-->', domain.index_for_action('utter_suggest_hotel'))\n",
    "print('action_search_hotel', '-->', domain.index_for_action('action_search_hotel'))\n",
    "print('action_listen', '-->', domain.index_for_action('action_listen'))"
   ]
  },
  {
   "cell_type": "code",
   "execution_count": null,
   "metadata": {},
   "outputs": [],
   "source": [
    "utter_price = embedding_from_tracker(\"#generate story\\n{}\".format(story_block), bot=True)[0,-1,5,:]\n",
    "utter_price.shape"
   ]
  },
  {
   "cell_type": "code",
   "execution_count": null,
   "metadata": {},
   "outputs": [],
   "source": [
    "print(utter_price.shape)\n",
    "x = pca.transform(utter_price.reshape(1,-1))\n",
    "p.circle(x[0][0], x[0][1], color='black')"
   ]
  },
  {
   "cell_type": "code",
   "execution_count": null,
   "metadata": {},
   "outputs": [],
   "source": [
    "show(p)"
   ]
  },
  {
   "cell_type": "code",
   "execution_count": null,
   "metadata": {},
   "outputs": [],
   "source": []
  },
  {
   "cell_type": "code",
   "execution_count": null,
   "metadata": {},
   "outputs": [],
   "source": []
  },
  {
   "cell_type": "code",
   "execution_count": null,
   "metadata": {},
   "outputs": [],
   "source": []
  }
 ],
 "metadata": {
  "kernelspec": {
   "display_name": "Python 3",
   "language": "python",
   "name": "python3"
  },
  "language_info": {
   "codemirror_mode": {
    "name": "ipython",
    "version": 3
   },
   "file_extension": ".py",
   "mimetype": "text/x-python",
   "name": "python",
   "nbconvert_exporter": "python",
   "pygments_lexer": "ipython3",
   "version": "3.6.5"
  }
 },
 "nbformat": 4,
 "nbformat_minor": 2
}
