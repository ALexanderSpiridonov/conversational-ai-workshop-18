{
 "cells": [
  {
   "cell_type": "code",
   "execution_count": 251,
   "metadata": {},
   "outputs": [
    {
     "name": "stdout",
     "output_type": "stream",
     "text": [
      "INFO:tensorflow:Restoring parameters from models/dialogue_embed/policy_0_EmbeddingPolicy/tensorflow_embedding.ckpt\n"
     ]
    },
    {
     "data": {
      "text/html": [
       "\n",
       "    <div class=\"bk-root\">\n",
       "        <a href=\"https://bokeh.pydata.org\" target=\"_blank\" class=\"bk-logo bk-logo-small bk-logo-notebook\"></a>\n",
       "        <span id=\"5941880f-3a4d-4e51-b5b0-b05cb479088b\">Loading BokehJS ...</span>\n",
       "    </div>"
      ]
     },
     "metadata": {},
     "output_type": "display_data"
    },
    {
     "data": {
      "application/javascript": [
       "\n",
       "(function(root) {\n",
       "  function now() {\n",
       "    return new Date();\n",
       "  }\n",
       "\n",
       "  var force = true;\n",
       "\n",
       "  if (typeof (root._bokeh_onload_callbacks) === \"undefined\" || force === true) {\n",
       "    root._bokeh_onload_callbacks = [];\n",
       "    root._bokeh_is_loading = undefined;\n",
       "  }\n",
       "\n",
       "  var JS_MIME_TYPE = 'application/javascript';\n",
       "  var HTML_MIME_TYPE = 'text/html';\n",
       "  var EXEC_MIME_TYPE = 'application/vnd.bokehjs_exec.v0+json';\n",
       "  var CLASS_NAME = 'output_bokeh rendered_html';\n",
       "\n",
       "  /**\n",
       "   * Render data to the DOM node\n",
       "   */\n",
       "  function render(props, node) {\n",
       "    var script = document.createElement(\"script\");\n",
       "    node.appendChild(script);\n",
       "  }\n",
       "\n",
       "  /**\n",
       "   * Handle when an output is cleared or removed\n",
       "   */\n",
       "  function handleClearOutput(event, handle) {\n",
       "    var cell = handle.cell;\n",
       "\n",
       "    var id = cell.output_area._bokeh_element_id;\n",
       "    var server_id = cell.output_area._bokeh_server_id;\n",
       "    // Clean up Bokeh references\n",
       "    if (id !== undefined) {\n",
       "      Bokeh.index[id].model.document.clear();\n",
       "      delete Bokeh.index[id];\n",
       "    }\n",
       "\n",
       "    if (server_id !== undefined) {\n",
       "      // Clean up Bokeh references\n",
       "      var cmd = \"from bokeh.io.state import curstate; print(curstate().uuid_to_server['\" + server_id + \"'].get_sessions()[0].document.roots[0]._id)\";\n",
       "      cell.notebook.kernel.execute(cmd, {\n",
       "        iopub: {\n",
       "          output: function(msg) {\n",
       "            var element_id = msg.content.text.trim();\n",
       "            Bokeh.index[element_id].model.document.clear();\n",
       "            delete Bokeh.index[element_id];\n",
       "          }\n",
       "        }\n",
       "      });\n",
       "      // Destroy server and session\n",
       "      var cmd = \"import bokeh.io.notebook as ion; ion.destroy_server('\" + server_id + \"')\";\n",
       "      cell.notebook.kernel.execute(cmd);\n",
       "    }\n",
       "  }\n",
       "\n",
       "  /**\n",
       "   * Handle when a new output is added\n",
       "   */\n",
       "  function handleAddOutput(event, handle) {\n",
       "    var output_area = handle.output_area;\n",
       "    var output = handle.output;\n",
       "\n",
       "    // limit handleAddOutput to display_data with EXEC_MIME_TYPE content only\n",
       "    if ((output.output_type != \"display_data\") || (!output.data.hasOwnProperty(EXEC_MIME_TYPE))) {\n",
       "      return\n",
       "    }\n",
       "\n",
       "    var toinsert = output_area.element.find(\".\" + CLASS_NAME.split(' ')[0]);\n",
       "\n",
       "    if (output.metadata[EXEC_MIME_TYPE][\"id\"] !== undefined) {\n",
       "      toinsert[toinsert.length - 1].firstChild.textContent = output.data[JS_MIME_TYPE];\n",
       "      // store reference to embed id on output_area\n",
       "      output_area._bokeh_element_id = output.metadata[EXEC_MIME_TYPE][\"id\"];\n",
       "    }\n",
       "    if (output.metadata[EXEC_MIME_TYPE][\"server_id\"] !== undefined) {\n",
       "      var bk_div = document.createElement(\"div\");\n",
       "      bk_div.innerHTML = output.data[HTML_MIME_TYPE];\n",
       "      var script_attrs = bk_div.children[0].attributes;\n",
       "      for (var i = 0; i < script_attrs.length; i++) {\n",
       "        toinsert[toinsert.length - 1].firstChild.setAttribute(script_attrs[i].name, script_attrs[i].value);\n",
       "      }\n",
       "      // store reference to server id on output_area\n",
       "      output_area._bokeh_server_id = output.metadata[EXEC_MIME_TYPE][\"server_id\"];\n",
       "    }\n",
       "  }\n",
       "\n",
       "  function register_renderer(events, OutputArea) {\n",
       "\n",
       "    function append_mime(data, metadata, element) {\n",
       "      // create a DOM node to render to\n",
       "      var toinsert = this.create_output_subarea(\n",
       "        metadata,\n",
       "        CLASS_NAME,\n",
       "        EXEC_MIME_TYPE\n",
       "      );\n",
       "      this.keyboard_manager.register_events(toinsert);\n",
       "      // Render to node\n",
       "      var props = {data: data, metadata: metadata[EXEC_MIME_TYPE]};\n",
       "      render(props, toinsert[toinsert.length - 1]);\n",
       "      element.append(toinsert);\n",
       "      return toinsert\n",
       "    }\n",
       "\n",
       "    /* Handle when an output is cleared or removed */\n",
       "    events.on('clear_output.CodeCell', handleClearOutput);\n",
       "    events.on('delete.Cell', handleClearOutput);\n",
       "\n",
       "    /* Handle when a new output is added */\n",
       "    events.on('output_added.OutputArea', handleAddOutput);\n",
       "\n",
       "    /**\n",
       "     * Register the mime type and append_mime function with output_area\n",
       "     */\n",
       "    OutputArea.prototype.register_mime_type(EXEC_MIME_TYPE, append_mime, {\n",
       "      /* Is output safe? */\n",
       "      safe: true,\n",
       "      /* Index of renderer in `output_area.display_order` */\n",
       "      index: 0\n",
       "    });\n",
       "  }\n",
       "\n",
       "  // register the mime type if in Jupyter Notebook environment and previously unregistered\n",
       "  if (root.Jupyter !== undefined) {\n",
       "    var events = require('base/js/events');\n",
       "    var OutputArea = require('notebook/js/outputarea').OutputArea;\n",
       "\n",
       "    if (OutputArea.prototype.mime_types().indexOf(EXEC_MIME_TYPE) == -1) {\n",
       "      register_renderer(events, OutputArea);\n",
       "    }\n",
       "  }\n",
       "\n",
       "  \n",
       "  if (typeof (root._bokeh_timeout) === \"undefined\" || force === true) {\n",
       "    root._bokeh_timeout = Date.now() + 5000;\n",
       "    root._bokeh_failed_load = false;\n",
       "  }\n",
       "\n",
       "  var NB_LOAD_WARNING = {'data': {'text/html':\n",
       "     \"<div style='background-color: #fdd'>\\n\"+\n",
       "     \"<p>\\n\"+\n",
       "     \"BokehJS does not appear to have successfully loaded. If loading BokehJS from CDN, this \\n\"+\n",
       "     \"may be due to a slow or bad network connection. Possible fixes:\\n\"+\n",
       "     \"</p>\\n\"+\n",
       "     \"<ul>\\n\"+\n",
       "     \"<li>re-rerun `output_notebook()` to attempt to load from CDN again, or</li>\\n\"+\n",
       "     \"<li>use INLINE resources instead, as so:</li>\\n\"+\n",
       "     \"</ul>\\n\"+\n",
       "     \"<code>\\n\"+\n",
       "     \"from bokeh.resources import INLINE\\n\"+\n",
       "     \"output_notebook(resources=INLINE)\\n\"+\n",
       "     \"</code>\\n\"+\n",
       "     \"</div>\"}};\n",
       "\n",
       "  function display_loaded() {\n",
       "    var el = document.getElementById(\"5941880f-3a4d-4e51-b5b0-b05cb479088b\");\n",
       "    if (el != null) {\n",
       "      el.textContent = \"BokehJS is loading...\";\n",
       "    }\n",
       "    if (root.Bokeh !== undefined) {\n",
       "      if (el != null) {\n",
       "        el.textContent = \"BokehJS \" + root.Bokeh.version + \" successfully loaded.\";\n",
       "      }\n",
       "    } else if (Date.now() < root._bokeh_timeout) {\n",
       "      setTimeout(display_loaded, 100)\n",
       "    }\n",
       "  }\n",
       "\n",
       "\n",
       "  function run_callbacks() {\n",
       "    try {\n",
       "      root._bokeh_onload_callbacks.forEach(function(callback) { callback() });\n",
       "    }\n",
       "    finally {\n",
       "      delete root._bokeh_onload_callbacks\n",
       "    }\n",
       "    console.info(\"Bokeh: all callbacks have finished\");\n",
       "  }\n",
       "\n",
       "  function load_libs(js_urls, callback) {\n",
       "    root._bokeh_onload_callbacks.push(callback);\n",
       "    if (root._bokeh_is_loading > 0) {\n",
       "      console.log(\"Bokeh: BokehJS is being loaded, scheduling callback at\", now());\n",
       "      return null;\n",
       "    }\n",
       "    if (js_urls == null || js_urls.length === 0) {\n",
       "      run_callbacks();\n",
       "      return null;\n",
       "    }\n",
       "    console.log(\"Bokeh: BokehJS not loaded, scheduling load and callback at\", now());\n",
       "    root._bokeh_is_loading = js_urls.length;\n",
       "    for (var i = 0; i < js_urls.length; i++) {\n",
       "      var url = js_urls[i];\n",
       "      var s = document.createElement('script');\n",
       "      s.src = url;\n",
       "      s.async = false;\n",
       "      s.onreadystatechange = s.onload = function() {\n",
       "        root._bokeh_is_loading--;\n",
       "        if (root._bokeh_is_loading === 0) {\n",
       "          console.log(\"Bokeh: all BokehJS libraries loaded\");\n",
       "          run_callbacks()\n",
       "        }\n",
       "      };\n",
       "      s.onerror = function() {\n",
       "        console.warn(\"failed to load library \" + url);\n",
       "      };\n",
       "      console.log(\"Bokeh: injecting script tag for BokehJS library: \", url);\n",
       "      document.getElementsByTagName(\"head\")[0].appendChild(s);\n",
       "    }\n",
       "  };var element = document.getElementById(\"5941880f-3a4d-4e51-b5b0-b05cb479088b\");\n",
       "  if (element == null) {\n",
       "    console.log(\"Bokeh: ERROR: autoload.js configured with elementid '5941880f-3a4d-4e51-b5b0-b05cb479088b' but no matching script tag was found. \")\n",
       "    return false;\n",
       "  }\n",
       "\n",
       "  var js_urls = [\"https://cdn.pydata.org/bokeh/release/bokeh-0.12.15.min.js\", \"https://cdn.pydata.org/bokeh/release/bokeh-widgets-0.12.15.min.js\", \"https://cdn.pydata.org/bokeh/release/bokeh-tables-0.12.15.min.js\", \"https://cdn.pydata.org/bokeh/release/bokeh-gl-0.12.15.min.js\"];\n",
       "\n",
       "  var inline_js = [\n",
       "    function(Bokeh) {\n",
       "      Bokeh.set_log_level(\"info\");\n",
       "    },\n",
       "    \n",
       "    function(Bokeh) {\n",
       "      \n",
       "    },\n",
       "    function(Bokeh) {\n",
       "      console.log(\"Bokeh: injecting CSS: https://cdn.pydata.org/bokeh/release/bokeh-0.12.15.min.css\");\n",
       "      Bokeh.embed.inject_css(\"https://cdn.pydata.org/bokeh/release/bokeh-0.12.15.min.css\");\n",
       "      console.log(\"Bokeh: injecting CSS: https://cdn.pydata.org/bokeh/release/bokeh-widgets-0.12.15.min.css\");\n",
       "      Bokeh.embed.inject_css(\"https://cdn.pydata.org/bokeh/release/bokeh-widgets-0.12.15.min.css\");\n",
       "      console.log(\"Bokeh: injecting CSS: https://cdn.pydata.org/bokeh/release/bokeh-tables-0.12.15.min.css\");\n",
       "      Bokeh.embed.inject_css(\"https://cdn.pydata.org/bokeh/release/bokeh-tables-0.12.15.min.css\");\n",
       "    }\n",
       "  ];\n",
       "\n",
       "  function run_inline_js() {\n",
       "    \n",
       "    if ((root.Bokeh !== undefined) || (force === true)) {\n",
       "      for (var i = 0; i < inline_js.length; i++) {\n",
       "        inline_js[i].call(root, root.Bokeh);\n",
       "      }if (force === true) {\n",
       "        display_loaded();\n",
       "      }} else if (Date.now() < root._bokeh_timeout) {\n",
       "      setTimeout(run_inline_js, 100);\n",
       "    } else if (!root._bokeh_failed_load) {\n",
       "      console.log(\"Bokeh: BokehJS failed to load within specified timeout.\");\n",
       "      root._bokeh_failed_load = true;\n",
       "    } else if (force !== true) {\n",
       "      var cell = $(document.getElementById(\"5941880f-3a4d-4e51-b5b0-b05cb479088b\")).parents('.cell').data().cell;\n",
       "      cell.output_area.append_execute_result(NB_LOAD_WARNING)\n",
       "    }\n",
       "\n",
       "  }\n",
       "\n",
       "  if (root._bokeh_is_loading === 0) {\n",
       "    console.log(\"Bokeh: BokehJS loaded, going straight to plotting\");\n",
       "    run_inline_js();\n",
       "  } else {\n",
       "    load_libs(js_urls, function() {\n",
       "      console.log(\"Bokeh: BokehJS plotting callback run at\", now());\n",
       "      run_inline_js();\n",
       "    });\n",
       "  }\n",
       "}(window));"
      ],
      "application/vnd.bokehjs_load.v0+json": "\n(function(root) {\n  function now() {\n    return new Date();\n  }\n\n  var force = true;\n\n  if (typeof (root._bokeh_onload_callbacks) === \"undefined\" || force === true) {\n    root._bokeh_onload_callbacks = [];\n    root._bokeh_is_loading = undefined;\n  }\n\n  \n\n  \n  if (typeof (root._bokeh_timeout) === \"undefined\" || force === true) {\n    root._bokeh_timeout = Date.now() + 5000;\n    root._bokeh_failed_load = false;\n  }\n\n  var NB_LOAD_WARNING = {'data': {'text/html':\n     \"<div style='background-color: #fdd'>\\n\"+\n     \"<p>\\n\"+\n     \"BokehJS does not appear to have successfully loaded. If loading BokehJS from CDN, this \\n\"+\n     \"may be due to a slow or bad network connection. Possible fixes:\\n\"+\n     \"</p>\\n\"+\n     \"<ul>\\n\"+\n     \"<li>re-rerun `output_notebook()` to attempt to load from CDN again, or</li>\\n\"+\n     \"<li>use INLINE resources instead, as so:</li>\\n\"+\n     \"</ul>\\n\"+\n     \"<code>\\n\"+\n     \"from bokeh.resources import INLINE\\n\"+\n     \"output_notebook(resources=INLINE)\\n\"+\n     \"</code>\\n\"+\n     \"</div>\"}};\n\n  function display_loaded() {\n    var el = document.getElementById(\"5941880f-3a4d-4e51-b5b0-b05cb479088b\");\n    if (el != null) {\n      el.textContent = \"BokehJS is loading...\";\n    }\n    if (root.Bokeh !== undefined) {\n      if (el != null) {\n        el.textContent = \"BokehJS \" + root.Bokeh.version + \" successfully loaded.\";\n      }\n    } else if (Date.now() < root._bokeh_timeout) {\n      setTimeout(display_loaded, 100)\n    }\n  }\n\n\n  function run_callbacks() {\n    try {\n      root._bokeh_onload_callbacks.forEach(function(callback) { callback() });\n    }\n    finally {\n      delete root._bokeh_onload_callbacks\n    }\n    console.info(\"Bokeh: all callbacks have finished\");\n  }\n\n  function load_libs(js_urls, callback) {\n    root._bokeh_onload_callbacks.push(callback);\n    if (root._bokeh_is_loading > 0) {\n      console.log(\"Bokeh: BokehJS is being loaded, scheduling callback at\", now());\n      return null;\n    }\n    if (js_urls == null || js_urls.length === 0) {\n      run_callbacks();\n      return null;\n    }\n    console.log(\"Bokeh: BokehJS not loaded, scheduling load and callback at\", now());\n    root._bokeh_is_loading = js_urls.length;\n    for (var i = 0; i < js_urls.length; i++) {\n      var url = js_urls[i];\n      var s = document.createElement('script');\n      s.src = url;\n      s.async = false;\n      s.onreadystatechange = s.onload = function() {\n        root._bokeh_is_loading--;\n        if (root._bokeh_is_loading === 0) {\n          console.log(\"Bokeh: all BokehJS libraries loaded\");\n          run_callbacks()\n        }\n      };\n      s.onerror = function() {\n        console.warn(\"failed to load library \" + url);\n      };\n      console.log(\"Bokeh: injecting script tag for BokehJS library: \", url);\n      document.getElementsByTagName(\"head\")[0].appendChild(s);\n    }\n  };var element = document.getElementById(\"5941880f-3a4d-4e51-b5b0-b05cb479088b\");\n  if (element == null) {\n    console.log(\"Bokeh: ERROR: autoload.js configured with elementid '5941880f-3a4d-4e51-b5b0-b05cb479088b' but no matching script tag was found. \")\n    return false;\n  }\n\n  var js_urls = [\"https://cdn.pydata.org/bokeh/release/bokeh-0.12.15.min.js\", \"https://cdn.pydata.org/bokeh/release/bokeh-widgets-0.12.15.min.js\", \"https://cdn.pydata.org/bokeh/release/bokeh-tables-0.12.15.min.js\", \"https://cdn.pydata.org/bokeh/release/bokeh-gl-0.12.15.min.js\"];\n\n  var inline_js = [\n    function(Bokeh) {\n      Bokeh.set_log_level(\"info\");\n    },\n    \n    function(Bokeh) {\n      \n    },\n    function(Bokeh) {\n      console.log(\"Bokeh: injecting CSS: https://cdn.pydata.org/bokeh/release/bokeh-0.12.15.min.css\");\n      Bokeh.embed.inject_css(\"https://cdn.pydata.org/bokeh/release/bokeh-0.12.15.min.css\");\n      console.log(\"Bokeh: injecting CSS: https://cdn.pydata.org/bokeh/release/bokeh-widgets-0.12.15.min.css\");\n      Bokeh.embed.inject_css(\"https://cdn.pydata.org/bokeh/release/bokeh-widgets-0.12.15.min.css\");\n      console.log(\"Bokeh: injecting CSS: https://cdn.pydata.org/bokeh/release/bokeh-tables-0.12.15.min.css\");\n      Bokeh.embed.inject_css(\"https://cdn.pydata.org/bokeh/release/bokeh-tables-0.12.15.min.css\");\n    }\n  ];\n\n  function run_inline_js() {\n    \n    if ((root.Bokeh !== undefined) || (force === true)) {\n      for (var i = 0; i < inline_js.length; i++) {\n        inline_js[i].call(root, root.Bokeh);\n      }if (force === true) {\n        display_loaded();\n      }} else if (Date.now() < root._bokeh_timeout) {\n      setTimeout(run_inline_js, 100);\n    } else if (!root._bokeh_failed_load) {\n      console.log(\"Bokeh: BokehJS failed to load within specified timeout.\");\n      root._bokeh_failed_load = true;\n    } else if (force !== true) {\n      var cell = $(document.getElementById(\"5941880f-3a4d-4e51-b5b0-b05cb479088b\")).parents('.cell').data().cell;\n      cell.output_area.append_execute_result(NB_LOAD_WARNING)\n    }\n\n  }\n\n  if (root._bokeh_is_loading === 0) {\n    console.log(\"Bokeh: BokehJS loaded, going straight to plotting\");\n    run_inline_js();\n  } else {\n    load_libs(js_urls, function() {\n      console.log(\"Bokeh: BokehJS plotting callback run at\", now());\n      run_inline_js();\n    });\n  }\n}(window));"
     },
     "metadata": {},
     "output_type": "display_data"
    }
   ],
   "source": [
    "import rasa_core\n",
    "from rasa_core.agent import Agent\n",
    "from bokeh.io import output_notebook\n",
    "agent = Agent.load(\"models/dialogue_embed\")\n",
    "output_notebook()"
   ]
  },
  {
   "cell_type": "code",
   "execution_count": 252,
   "metadata": {},
   "outputs": [],
   "source": [
    "policy = agent.policy_ensemble.policies[0]\n",
    "interpreter = agent.interpreter"
   ]
  },
  {
   "cell_type": "code",
   "execution_count": 253,
   "metadata": {},
   "outputs": [],
   "source": [
    "domain = agent.domain\n"
   ]
  },
  {
   "cell_type": "code",
   "execution_count": 254,
   "metadata": {},
   "outputs": [],
   "source": [
    "from rasa_core.training.structures import StoryGraph\n",
    "from rasa_core.training.dsl import StoryFileReader\n",
    "from rasa_core.trackers import DialogueStateTracker\n",
    "from rasa_core.channels import UserMessage\n",
    "import numpy as np\n",
    "\n",
    "def embedding_from_tracker(story, bot=False):\n",
    "    reader = StoryFileReader(domain, interpreter)\n",
    "    story = story.split('\\n')\n",
    "    story_steps = reader.process_lines(story)\n",
    "#     story_graph = StoryGraph(story_steps)\n",
    "    tracker = DialogueStateTracker(\n",
    "            1,\n",
    "            domain.slots\n",
    "    )\n",
    "    tracker._reset()\n",
    "    for step in story_steps:\n",
    "        events = step.explicit_events(domain)\n",
    "        for event in events:\n",
    "            tracker.update(event)\n",
    "    data_X = policy.featurizer.create_X([tracker], domain)\n",
    "\n",
    "    X, slots, prev_act = policy._create_X_slots(data_X)\n",
    "    all_Y_d = policy._create_all_Y_d(X.shape[1])\n",
    "    all_Y_d_x = np.stack([all_Y_d for _ in range(X.shape[0])])\n",
    "    dial_vec = policy.session.run(policy.dial_embed, feed_dict={policy.a_in: X,\n",
    "                                           policy.b_in: all_Y_d_x,\n",
    "                                           policy.c_in: slots,\n",
    "                                           policy.b_prev_in: prev_act})\n",
    "    bot_vec = policy.session.run(policy.bot_embed, feed_dict={policy.a_in: X,\n",
    "                                           policy.b_in: all_Y_d_x,\n",
    "                                           policy.c_in: slots,\n",
    "                                           policy.b_prev_in: prev_act})\n",
    "    \n",
    "    skip_gate = policy.session.run(policy.skip_gate, feed_dict={policy.a_in: X,\n",
    "                                           policy.b_in: all_Y_d_x,\n",
    "                                           policy.c_in: slots,\n",
    "                                           policy.b_prev_in: prev_act})\n",
    "    copy_gate = policy.session.run(policy.copy_gate, feed_dict={policy.a_in: X,\n",
    "                                           policy.b_in: all_Y_d_x,\n",
    "                                           policy.c_in: slots,\n",
    "                                           policy.b_prev_in: prev_act})\n",
    "    attn_prev_act_embed = policy.session.run(policy.attn_prev_act_embed,\n",
    "                                             feed_dict={policy.a_in: X,\n",
    "                                           policy.b_in: all_Y_d_x,\n",
    "                                           policy.c_in: slots,\n",
    "                                           policy.b_prev_in: prev_act})\n",
    "    rnn_embed = policy.session.run(policy.rnn_embed, feed_dict={policy.a_in: X,\n",
    "                                           policy.b_in: all_Y_d_x,\n",
    "                                           policy.c_in: slots,\n",
    "                                           policy.b_prev_in: prev_act})\n",
    "    del tracker\n",
    "#     print(np.shape(dial_vec))\n",
    "    if bot is False:\n",
    "        return (dial_vec[0,-2,:],\n",
    "                skip_gate[0,-2,:],\n",
    "                copy_gate[0,-2,:],\n",
    "                attn_prev_act_embed[0,-2,:],\n",
    "                rnn_embed[0,-2,:])\n",
    "    else:\n",
    "        return bot_vec\n",
    "    \n",
    "def make_prediction(story):\n",
    "    dial, _,_,_,_ = embedding_from_tracker(story, bot=False)\n",
    "    bot = embedding_from_tracker(story, bot=True)[0,-2,:,:]\n",
    "    abs_vals = np.array([np.absolute(vec) for vec in bot])\n",
    "    norms = np.apply_along_axis(np.linalg.norm, 1, bot)\n",
    "    return domain.action_for_index(np.argmax(np.dot(bot, dial)/norms)).name()\n",
    "#     print(dial.shape, bot.shape)"
   ]
  },
  {
   "cell_type": "code",
   "execution_count": 255,
   "metadata": {},
   "outputs": [
    {
     "name": "stdout",
     "output_type": "stream",
     "text": [
      "32\n",
      "18\n"
     ]
    }
   ],
   "source": [
    "# print(domain.intents)\n",
    "story_block = \"\"\"* request_hotel\n",
    "    - utter_ask_details\n",
    "* chitchat\n",
    "    - utter_chitchat\n",
    "    - utter_ask_details\n",
    "* inform{\"enddate\": \"May 26th\"}\n",
    "    - slot{\"enddate\": \"May 26th\"}\n",
    "    - utter_ask_startdate\n",
    "* inform{\"startdate\": \"next week\"}\n",
    "    - slot{\"startdate\": \"next week\"}\n",
    "    - utter_ask_location\n",
    "* explain\n",
    "    - utter_explain_location_hotel\n",
    "    - utter_ask_location\n",
    "* inform{\"location\": \"rome\"}\n",
    "    - slot{\"location\": \"rome\"}\n",
    "    - utter_ask_price\n",
    "* chitchat\n",
    "    - utter_chitchat\n",
    "    - utter_ask_price\n",
    "* chitchat\n",
    "    - utter_chitchat\n",
    "    - utter_ask_price\n",
    "* chitchat\n",
    "    - utter_chitchat\n",
    "    - utter_ask_price\n",
    "* chitchat\n",
    "    - utter_chitchat\n",
    "    - utter_ask_price\n",
    "* explain\n",
    "    - utter_explain_price_hotel\n",
    "    - utter_ask_price\"\"\"\n",
    "print(len(story_block.split('\\n')))\n",
    "cool_list = []\n",
    "lines = story_block.split('\\n')\n",
    "for idx, line in enumerate(lines):\n",
    "    if idx == len(lines)-1:\n",
    "        continue\n",
    "    if '*' in lines[idx+1] or 'slot{' in lines[idx+1]:# or 'slot{' in line:\n",
    "        continue\n",
    "    sub_story = '\\n'.join(lines[:idx+1])\n",
    "    (dial, skip, copy, attn, rnn\n",
    "    ) = embedding_from_tracker(\"#generate story\\n{}\".format(sub_story))\n",
    "    pred = make_prediction(\"#generate story\\n{}\".format(sub_story))\n",
    "    cool_list.append((lines[idx+1], dial, pred, skip, copy, attn, rnn))\n",
    "\n",
    "print(len(cool_list))\n",
    "#     break\n",
    "# dial = embedding_from_tracker(\"#generate story\\n{}\".format(story_block)\n",
    "# )\n",
    "# print(dial.shape)\n",
    "# print(len(story_block.split('\\n')))"
   ]
  },
  {
   "cell_type": "code",
   "execution_count": 256,
   "metadata": {},
   "outputs": [],
   "source": [
    "from sklearn.decomposition import PCA"
   ]
  },
  {
   "cell_type": "code",
   "execution_count": 257,
   "metadata": {},
   "outputs": [],
   "source": [
    "pca = PCA(n_components=2)\n",
    "X = pca.fit_transform([ting[1] for ting in cool_list])"
   ]
  },
  {
   "cell_type": "code",
   "execution_count": 258,
   "metadata": {},
   "outputs": [],
   "source": [
    "from bokeh.plotting import figure, show\n",
    "import matplotlib.pyplot as plt"
   ]
  },
  {
   "cell_type": "code",
   "execution_count": null,
   "metadata": {},
   "outputs": [],
   "source": []
  },
  {
   "cell_type": "code",
   "execution_count": 259,
   "metadata": {},
   "outputs": [
    {
     "data": {
      "text/html": [
       "<div style=\"display: table;\"><div style=\"display: table-row;\"><div style=\"display: table-cell;\"><b title=\"bokeh.models.renderers.GlyphRenderer\">GlyphRenderer</b>(</div><div style=\"display: table-cell;\">id&nbsp;=&nbsp;'549bfc51-a469-4ac7-9145-bfc063a4e851', <span id=\"0779a6c2-4c57-41a6-9bd7-994e808b763a\" style=\"cursor: pointer;\">&hellip;)</span></div></div><div class=\"21c42594-6566-4cf7-902e-704a1e446652\" style=\"display: none;\"><div style=\"display: table-cell;\"></div><div style=\"display: table-cell;\">data_source&nbsp;=&nbsp;ColumnDataSource(id='37361de8-1f9f-4396-ba81-10a2316ce8f9', ...),</div></div><div class=\"21c42594-6566-4cf7-902e-704a1e446652\" style=\"display: none;\"><div style=\"display: table-cell;\"></div><div style=\"display: table-cell;\">glyph&nbsp;=&nbsp;Circle(id='88658496-cac4-48f1-81af-975880f8b1d9', ...),</div></div><div class=\"21c42594-6566-4cf7-902e-704a1e446652\" style=\"display: none;\"><div style=\"display: table-cell;\"></div><div style=\"display: table-cell;\">hover_glyph&nbsp;=&nbsp;None,</div></div><div class=\"21c42594-6566-4cf7-902e-704a1e446652\" style=\"display: none;\"><div style=\"display: table-cell;\"></div><div style=\"display: table-cell;\">js_event_callbacks&nbsp;=&nbsp;{},</div></div><div class=\"21c42594-6566-4cf7-902e-704a1e446652\" style=\"display: none;\"><div style=\"display: table-cell;\"></div><div style=\"display: table-cell;\">js_property_callbacks&nbsp;=&nbsp;{},</div></div><div class=\"21c42594-6566-4cf7-902e-704a1e446652\" style=\"display: none;\"><div style=\"display: table-cell;\"></div><div style=\"display: table-cell;\">level&nbsp;=&nbsp;'glyph',</div></div><div class=\"21c42594-6566-4cf7-902e-704a1e446652\" style=\"display: none;\"><div style=\"display: table-cell;\"></div><div style=\"display: table-cell;\">muted&nbsp;=&nbsp;False,</div></div><div class=\"21c42594-6566-4cf7-902e-704a1e446652\" style=\"display: none;\"><div style=\"display: table-cell;\"></div><div style=\"display: table-cell;\">muted_glyph&nbsp;=&nbsp;None,</div></div><div class=\"21c42594-6566-4cf7-902e-704a1e446652\" style=\"display: none;\"><div style=\"display: table-cell;\"></div><div style=\"display: table-cell;\">name&nbsp;=&nbsp;'circle',</div></div><div class=\"21c42594-6566-4cf7-902e-704a1e446652\" style=\"display: none;\"><div style=\"display: table-cell;\"></div><div style=\"display: table-cell;\">nonselection_glyph&nbsp;=&nbsp;Circle(id='7c207014-09fb-4c13-86dd-703253afa721', ...),</div></div><div class=\"21c42594-6566-4cf7-902e-704a1e446652\" style=\"display: none;\"><div style=\"display: table-cell;\"></div><div style=\"display: table-cell;\">selection_glyph&nbsp;=&nbsp;None,</div></div><div class=\"21c42594-6566-4cf7-902e-704a1e446652\" style=\"display: none;\"><div style=\"display: table-cell;\"></div><div style=\"display: table-cell;\">subscribed_events&nbsp;=&nbsp;[],</div></div><div class=\"21c42594-6566-4cf7-902e-704a1e446652\" style=\"display: none;\"><div style=\"display: table-cell;\"></div><div style=\"display: table-cell;\">tags&nbsp;=&nbsp;[],</div></div><div class=\"21c42594-6566-4cf7-902e-704a1e446652\" style=\"display: none;\"><div style=\"display: table-cell;\"></div><div style=\"display: table-cell;\">view&nbsp;=&nbsp;CDSView(id='6eff8aff-04bf-4392-84b2-ea81b3c65014', ...),</div></div><div class=\"21c42594-6566-4cf7-902e-704a1e446652\" style=\"display: none;\"><div style=\"display: table-cell;\"></div><div style=\"display: table-cell;\">visible&nbsp;=&nbsp;True,</div></div><div class=\"21c42594-6566-4cf7-902e-704a1e446652\" style=\"display: none;\"><div style=\"display: table-cell;\"></div><div style=\"display: table-cell;\">x_range_name&nbsp;=&nbsp;'default',</div></div><div class=\"21c42594-6566-4cf7-902e-704a1e446652\" style=\"display: none;\"><div style=\"display: table-cell;\"></div><div style=\"display: table-cell;\">y_range_name&nbsp;=&nbsp;'default')</div></div></div>\n",
       "<script>\n",
       "(function() {\n",
       "  var expanded = false;\n",
       "  var ellipsis = document.getElementById(\"0779a6c2-4c57-41a6-9bd7-994e808b763a\");\n",
       "  ellipsis.addEventListener(\"click\", function() {\n",
       "    var rows = document.getElementsByClassName(\"21c42594-6566-4cf7-902e-704a1e446652\");\n",
       "    for (var i = 0; i < rows.length; i++) {\n",
       "      var el = rows[i];\n",
       "      el.style.display = expanded ? \"none\" : \"table-row\";\n",
       "    }\n",
       "    ellipsis.innerHTML = expanded ? \"&hellip;)\" : \"&lsaquo;&lsaquo;&lsaquo;\";\n",
       "    expanded = !expanded;\n",
       "  });\n",
       "})();\n",
       "</script>\n"
      ],
      "text/plain": [
       "GlyphRenderer(id='549bfc51-a469-4ac7-9145-bfc063a4e851', ...)"
      ]
     },
     "execution_count": 259,
     "metadata": {},
     "output_type": "execute_result"
    }
   ],
   "source": [
    "from bokeh.plotting import figure, output_file, show, ColumnDataSource\n",
    "from bokeh.models import HoverTool\n",
    "\n",
    "hover = HoverTool(tooltips=[(\"true action\",\"@desc\"), (\"prediction\", \"@pred\"),\n",
    "                            (\"skip_gate\",\"@skip\"), (\"copy_gate\", \"@copy\")],names=['circle'])\n",
    "p = figure( tools=[hover])\n",
    "source = ColumnDataSource(data=dict(\n",
    "    x=X[:,0],\n",
    "    y=X[:,1],\n",
    "    desc=[ting[0] for ting in cool_list],\n",
    "    pred = [ting[2] for ting in cool_list],\n",
    "    skip = [ting[3] for ting in cool_list],\n",
    "    copy = [ting[4] for ting in cool_list]\n",
    "))\n",
    "p.circle('x','y', source=source, size=10, name='circle')\n",
    "p.line(X[:,0], X[:,1])\n",
    "x = pca.transform(np.zeros((1,20)))\n",
    "p.circle(x[0][0], x[0][1], color='magenta')\n",
    "\n",
    "X1 = pca.transform([ting[5] for ting in cool_list])\n",
    "source = ColumnDataSource(data=dict(\n",
    "    x=X1[:,0],\n",
    "    y=X1[:,1],\n",
    "    desc=[ting[0] for ting in cool_list],\n",
    "    pred = [ting[2] for ting in cool_list],\n",
    "    skip = [ting[3] for ting in cool_list],\n",
    "    copy = [ting[4] for ting in cool_list]\n",
    "))\n",
    "p.circle('x','y', source=source, size=5, color='green', name='circle')\n",
    "X2 = pca.transform([ting[6] for ting in cool_list])\n",
    "source = ColumnDataSource(data=dict(\n",
    "    x=X2[:,0],\n",
    "    y=X2[:,1],\n",
    "    desc=[ting[0] for ting in cool_list],\n",
    "    pred = [ting[2] for ting in cool_list],\n",
    "    skip = [ting[3] for ting in cool_list],\n",
    "    copy = [ting[4] for ting in cool_list]\n",
    "))\n",
    "p.circle('x','y', source=source, size=5, color='red', name='circle')\n",
    "\n"
   ]
  },
  {
   "cell_type": "code",
   "execution_count": 260,
   "metadata": {},
   "outputs": [
    {
     "data": {
      "text/html": [
       "\n",
       "<div class=\"bk-root\">\n",
       "    <div class=\"bk-plotdiv\" id=\"4bc29e45-49a2-45c4-add0-fca782a49e53\"></div>\n",
       "</div>"
      ]
     },
     "metadata": {},
     "output_type": "display_data"
    },
    {
     "data": {
      "application/javascript": [
       "(function(root) {\n",
       "  function embed_document(root) {\n",
       "    \n",
       "  var docs_json = {\"da7ababe-63eb-4a28-a7c2-1ba689f9b21a\":{\"roots\":{\"references\":[{\"attributes\":{\"data_source\":{\"id\":\"da6e43dc-c5c7-4ebf-b837-b21c013df599\",\"type\":\"ColumnDataSource\"},\"glyph\":{\"id\":\"3a7e3ea2-db48-4951-82cc-2b0ee3e4e18e\",\"type\":\"Circle\"},\"hover_glyph\":null,\"muted_glyph\":null,\"nonselection_glyph\":{\"id\":\"e2469504-cda6-46d3-9ad8-13405ef86604\",\"type\":\"Circle\"},\"selection_glyph\":null,\"view\":{\"id\":\"db8896d1-c1c6-48e5-a78c-fbff6aab0098\",\"type\":\"CDSView\"}},\"id\":\"7b365d8d-9854-4181-8852-5f92c3b1e1ca\",\"type\":\"GlyphRenderer\"},{\"attributes\":{\"source\":{\"id\":\"37361de8-1f9f-4396-ba81-10a2316ce8f9\",\"type\":\"ColumnDataSource\"}},\"id\":\"6eff8aff-04bf-4392-84b2-ea81b3c65014\",\"type\":\"CDSView\"},{\"attributes\":{\"source\":{\"id\":\"da6e43dc-c5c7-4ebf-b837-b21c013df599\",\"type\":\"ColumnDataSource\"}},\"id\":\"db8896d1-c1c6-48e5-a78c-fbff6aab0098\",\"type\":\"CDSView\"},{\"attributes\":{\"below\":[{\"id\":\"a363e624-0d7a-4f40-bd3d-11423a180304\",\"type\":\"LinearAxis\"}],\"left\":[{\"id\":\"59f3979b-32be-4c9e-824c-0070afd92b36\",\"type\":\"LinearAxis\"}],\"renderers\":[{\"id\":\"a363e624-0d7a-4f40-bd3d-11423a180304\",\"type\":\"LinearAxis\"},{\"id\":\"51b5ec36-8606-450f-9d69-871245d0cab2\",\"type\":\"Grid\"},{\"id\":\"59f3979b-32be-4c9e-824c-0070afd92b36\",\"type\":\"LinearAxis\"},{\"id\":\"2d673c5f-f2f3-4471-9ff9-ae89bb572769\",\"type\":\"Grid\"},{\"id\":\"47d05a50-20e9-4ae8-9499-cc669543a8f7\",\"type\":\"GlyphRenderer\"},{\"id\":\"7d33cbba-9120-4b14-b955-5519e5245837\",\"type\":\"GlyphRenderer\"},{\"id\":\"7b365d8d-9854-4181-8852-5f92c3b1e1ca\",\"type\":\"GlyphRenderer\"},{\"id\":\"f76a78c1-519f-4290-a1d9-9c87628121ef\",\"type\":\"GlyphRenderer\"},{\"id\":\"549bfc51-a469-4ac7-9145-bfc063a4e851\",\"type\":\"GlyphRenderer\"}],\"title\":{\"id\":\"0866cf05-f6c6-4b8d-88d8-741181630acc\",\"type\":\"Title\"},\"toolbar\":{\"id\":\"368b871f-d639-4987-862e-6497c26098f0\",\"type\":\"Toolbar\"},\"x_range\":{\"id\":\"b45aa27f-1341-4e27-bb3b-c4137288ff09\",\"type\":\"DataRange1d\"},\"x_scale\":{\"id\":\"fcecda56-3234-4f5f-aeaf-c4da52364a7b\",\"type\":\"LinearScale\"},\"y_range\":{\"id\":\"f2dce0b4-3822-4b17-aa24-fd8acb15e9f4\",\"type\":\"DataRange1d\"},\"y_scale\":{\"id\":\"3448142a-1bdb-4a65-a90f-ad5ef689ef9c\",\"type\":\"LinearScale\"}},\"id\":\"35b9dbc7-96d8-4639-a1d7-f50414afe9ce\",\"subtype\":\"Figure\",\"type\":\"Plot\"},{\"attributes\":{\"source\":{\"id\":\"6fb23690-dd07-4fab-96a6-454eee543aed\",\"type\":\"ColumnDataSource\"}},\"id\":\"d3050995-302f-4649-92de-256d1e6e08f4\",\"type\":\"CDSView\"},{\"attributes\":{\"callback\":null,\"names\":[\"circle\"],\"tooltips\":[[\"true action\",\"@desc\"],[\"prediction\",\"@pred\"],[\"skip_gate\",\"@skip\"],[\"copy_gate\",\"@copy\"]]},\"id\":\"5c7047bc-5721-4b52-960d-c382f6923352\",\"type\":\"HoverTool\"},{\"attributes\":{\"callback\":null,\"column_names\":[\"x\",\"y\",\"desc\",\"pred\",\"skip\",\"copy\"],\"data\":{\"copy\":[{\"__ndarray__\":\"MgqfPg==\",\"dtype\":\"float32\",\"shape\":[1]},{\"__ndarray__\":\"Yo6MPA==\",\"dtype\":\"float32\",\"shape\":[1]},{\"__ndarray__\":\"PFzbPg==\",\"dtype\":\"float32\",\"shape\":[1]},{\"__ndarray__\":\"rClkPA==\",\"dtype\":\"float32\",\"shape\":[1]},{\"__ndarray__\":\"BPoKPA==\",\"dtype\":\"float32\",\"shape\":[1]},{\"__ndarray__\":\"CyVVPg==\",\"dtype\":\"float32\",\"shape\":[1]},{\"__ndarray__\":\"/FUOPw==\",\"dtype\":\"float32\",\"shape\":[1]},{\"__ndarray__\":\"4cfvOw==\",\"dtype\":\"float32\",\"shape\":[1]},{\"__ndarray__\":\"ja/NPA==\",\"dtype\":\"float32\",\"shape\":[1]},{\"__ndarray__\":\"9h3fPg==\",\"dtype\":\"float32\",\"shape\":[1]},{\"__ndarray__\":\"bKrhPA==\",\"dtype\":\"float32\",\"shape\":[1]},{\"__ndarray__\":\"/qbxPg==\",\"dtype\":\"float32\",\"shape\":[1]},{\"__ndarray__\":\"qRYMPQ==\",\"dtype\":\"float32\",\"shape\":[1]},{\"__ndarray__\":\"vJ8GPw==\",\"dtype\":\"float32\",\"shape\":[1]},{\"__ndarray__\":\"2jMmPQ==\",\"dtype\":\"float32\",\"shape\":[1]},{\"__ndarray__\":\"/OATPw==\",\"dtype\":\"float32\",\"shape\":[1]},{\"__ndarray__\":\"+y0SPg==\",\"dtype\":\"float32\",\"shape\":[1]},{\"__ndarray__\":\"H5AXPw==\",\"dtype\":\"float32\",\"shape\":[1]}],\"desc\":[\"    - utter_ask_details\",\"    - utter_chitchat\",\"    - utter_ask_details\",\"    - utter_ask_startdate\",\"    - utter_ask_location\",\"    - utter_explain_location_hotel\",\"    - utter_ask_location\",\"    - utter_ask_price\",\"    - utter_chitchat\",\"    - utter_ask_price\",\"    - utter_chitchat\",\"    - utter_ask_price\",\"    - utter_chitchat\",\"    - utter_ask_price\",\"    - utter_chitchat\",\"    - utter_ask_price\",\"    - utter_explain_price_hotel\",\"    - utter_ask_price\"],\"pred\":[\"utter_ask_details\",\"utter_chitchat\",\"utter_ask_details\",\"utter_ask_price\",\"utter_ask_location\",\"utter_ask_location\",\"utter_ask_location\",\"utter_ask_people\",\"utter_chitchat\",\"utter_ask_price\",\"utter_chitchat\",\"utter_ask_price\",\"utter_chitchat\",\"utter_ask_price\",\"utter_chitchat\",\"utter_ask_price\",\"utter_explain_price_hotel\",\"utter_ask_price\"],\"skip\":[{\"__ndarray__\":\"AAAAAA==\",\"dtype\":\"float32\",\"shape\":[1]},{\"__ndarray__\":\"AAAAAA==\",\"dtype\":\"float32\",\"shape\":[1]},{\"__ndarray__\":\"AAAAAA==\",\"dtype\":\"float32\",\"shape\":[1]},{\"__ndarray__\":\"AAAAAA==\",\"dtype\":\"float32\",\"shape\":[1]},{\"__ndarray__\":\"AAAAAA==\",\"dtype\":\"float32\",\"shape\":[1]},{\"__ndarray__\":\"AAAAAA==\",\"dtype\":\"float32\",\"shape\":[1]},{\"__ndarray__\":\"AAAAAA==\",\"dtype\":\"float32\",\"shape\":[1]},{\"__ndarray__\":\"AAAAAA==\",\"dtype\":\"float32\",\"shape\":[1]},{\"__ndarray__\":\"AAAAAA==\",\"dtype\":\"float32\",\"shape\":[1]},{\"__ndarray__\":\"AAAAAA==\",\"dtype\":\"float32\",\"shape\":[1]},{\"__ndarray__\":\"AAAAAA==\",\"dtype\":\"float32\",\"shape\":[1]},{\"__ndarray__\":\"AAAAAA==\",\"dtype\":\"float32\",\"shape\":[1]},{\"__ndarray__\":\"AAAAAA==\",\"dtype\":\"float32\",\"shape\":[1]},{\"__ndarray__\":\"AAAAAA==\",\"dtype\":\"float32\",\"shape\":[1]},{\"__ndarray__\":\"AAAAAA==\",\"dtype\":\"float32\",\"shape\":[1]},{\"__ndarray__\":\"AAAAAA==\",\"dtype\":\"float32\",\"shape\":[1]},{\"__ndarray__\":\"AAAAAA==\",\"dtype\":\"float32\",\"shape\":[1]},{\"__ndarray__\":\"AAAAAA==\",\"dtype\":\"float32\",\"shape\":[1]}],\"x\":{\"__ndarray__\":\"2eT20PFfpr8/n6sZ8EO5v8r2Mxb2r7m/Fzv0zeH6qb+svUqi3HOyv9aR/xEiabu/IS6hBzx2u7/C1lZH0Mmwv+tOFN9UeMY/D4rYgVKT1z/LMw+wGyTNP37tSvo0hNc/EIn2VzHV0T+lefZDNIfXP+0iLdlnD9Q/52qv1E2P1z+7sT9aonLXP+3qNAtYjdc/\",\"dtype\":\"float64\",\"shape\":[18]},\"y\":{\"__ndarray__\":\"YQhEyT7cqr9ulbioGOhVP18pFUT3nHO/sVoSQnGcqb+anog9Ep+fP83k4uOppdk/MQV9iw0M2j8jC3MTUrWrv9wzvlQ9xaM/vwfVayUwkL/PrgYlt8GXP+3hIJvKNpC/IrB/gWQqo7/Ec5Mf40WQv/avnrBt1J2/i3oKeOg/kL8brF7Jb+aQvyEg0RRNP5C/\",\"dtype\":\"float64\",\"shape\":[18]}},\"selected\":null,\"selection_policy\":null},\"id\":\"6f3edb8d-a2d1-442f-ab38-edc7af8c530f\",\"type\":\"ColumnDataSource\"},{\"attributes\":{},\"id\":\"310b7498-fe22-4ae4-9078-c51e1d9cfeea\",\"type\":\"BasicTicker\"},{\"attributes\":{\"fill_color\":{\"value\":\"green\"},\"line_color\":{\"value\":\"green\"},\"size\":{\"units\":\"screen\",\"value\":5},\"x\":{\"field\":\"x\"},\"y\":{\"field\":\"y\"}},\"id\":\"094df335-051c-44bc-869e-7a48d716cf09\",\"type\":\"Circle\"},{\"attributes\":{\"plot\":{\"id\":\"35b9dbc7-96d8-4639-a1d7-f50414afe9ce\",\"subtype\":\"Figure\",\"type\":\"Plot\"},\"ticker\":{\"id\":\"310b7498-fe22-4ae4-9078-c51e1d9cfeea\",\"type\":\"BasicTicker\"}},\"id\":\"51b5ec36-8606-450f-9d69-871245d0cab2\",\"type\":\"Grid\"},{\"attributes\":{\"fill_alpha\":{\"value\":0.1},\"fill_color\":{\"value\":\"#1f77b4\"},\"line_alpha\":{\"value\":0.1},\"line_color\":{\"value\":\"#1f77b4\"},\"size\":{\"units\":\"screen\",\"value\":5},\"x\":{\"field\":\"x\"},\"y\":{\"field\":\"y\"}},\"id\":\"e96a7b42-53ad-4840-aa99-0f55fe69198e\",\"type\":\"Circle\"},{\"attributes\":{},\"id\":\"40f9cbd2-d53b-45c1-80e1-3973de9a1c52\",\"type\":\"BasicTickFormatter\"},{\"attributes\":{\"data_source\":{\"id\":\"6f3edb8d-a2d1-442f-ab38-edc7af8c530f\",\"type\":\"ColumnDataSource\"},\"glyph\":{\"id\":\"094df335-051c-44bc-869e-7a48d716cf09\",\"type\":\"Circle\"},\"hover_glyph\":null,\"muted_glyph\":null,\"name\":\"circle\",\"nonselection_glyph\":{\"id\":\"e96a7b42-53ad-4840-aa99-0f55fe69198e\",\"type\":\"Circle\"},\"selection_glyph\":null,\"view\":{\"id\":\"e6b983a3-48d8-4dcd-b267-b5893398a6f4\",\"type\":\"CDSView\"}},\"id\":\"f76a78c1-519f-4290-a1d9-9c87628121ef\",\"type\":\"GlyphRenderer\"},{\"attributes\":{\"active_drag\":\"auto\",\"active_inspect\":\"auto\",\"active_scroll\":\"auto\",\"active_tap\":\"auto\",\"tools\":[{\"id\":\"5c7047bc-5721-4b52-960d-c382f6923352\",\"type\":\"HoverTool\"}]},\"id\":\"368b871f-d639-4987-862e-6497c26098f0\",\"type\":\"Toolbar\"},{\"attributes\":{\"source\":{\"id\":\"6f3edb8d-a2d1-442f-ab38-edc7af8c530f\",\"type\":\"ColumnDataSource\"}},\"id\":\"e6b983a3-48d8-4dcd-b267-b5893398a6f4\",\"type\":\"CDSView\"},{\"attributes\":{\"callback\":null},\"id\":\"b45aa27f-1341-4e27-bb3b-c4137288ff09\",\"type\":\"DataRange1d\"},{\"attributes\":{\"plot\":null,\"text\":\"\"},\"id\":\"0866cf05-f6c6-4b8d-88d8-741181630acc\",\"type\":\"Title\"},{\"attributes\":{\"callback\":null,\"column_names\":[\"x\",\"y\",\"desc\",\"pred\",\"skip\",\"copy\"],\"data\":{\"copy\":[{\"__ndarray__\":\"MgqfPg==\",\"dtype\":\"float32\",\"shape\":[1]},{\"__ndarray__\":\"Yo6MPA==\",\"dtype\":\"float32\",\"shape\":[1]},{\"__ndarray__\":\"PFzbPg==\",\"dtype\":\"float32\",\"shape\":[1]},{\"__ndarray__\":\"rClkPA==\",\"dtype\":\"float32\",\"shape\":[1]},{\"__ndarray__\":\"BPoKPA==\",\"dtype\":\"float32\",\"shape\":[1]},{\"__ndarray__\":\"CyVVPg==\",\"dtype\":\"float32\",\"shape\":[1]},{\"__ndarray__\":\"/FUOPw==\",\"dtype\":\"float32\",\"shape\":[1]},{\"__ndarray__\":\"4cfvOw==\",\"dtype\":\"float32\",\"shape\":[1]},{\"__ndarray__\":\"ja/NPA==\",\"dtype\":\"float32\",\"shape\":[1]},{\"__ndarray__\":\"9h3fPg==\",\"dtype\":\"float32\",\"shape\":[1]},{\"__ndarray__\":\"bKrhPA==\",\"dtype\":\"float32\",\"shape\":[1]},{\"__ndarray__\":\"/qbxPg==\",\"dtype\":\"float32\",\"shape\":[1]},{\"__ndarray__\":\"qRYMPQ==\",\"dtype\":\"float32\",\"shape\":[1]},{\"__ndarray__\":\"vJ8GPw==\",\"dtype\":\"float32\",\"shape\":[1]},{\"__ndarray__\":\"2jMmPQ==\",\"dtype\":\"float32\",\"shape\":[1]},{\"__ndarray__\":\"/OATPw==\",\"dtype\":\"float32\",\"shape\":[1]},{\"__ndarray__\":\"+y0SPg==\",\"dtype\":\"float32\",\"shape\":[1]},{\"__ndarray__\":\"H5AXPw==\",\"dtype\":\"float32\",\"shape\":[1]}],\"desc\":[\"    - utter_ask_details\",\"    - utter_chitchat\",\"    - utter_ask_details\",\"    - utter_ask_startdate\",\"    - utter_ask_location\",\"    - utter_explain_location_hotel\",\"    - utter_ask_location\",\"    - utter_ask_price\",\"    - utter_chitchat\",\"    - utter_ask_price\",\"    - utter_chitchat\",\"    - utter_ask_price\",\"    - utter_chitchat\",\"    - utter_ask_price\",\"    - utter_chitchat\",\"    - utter_ask_price\",\"    - utter_explain_price_hotel\",\"    - utter_ask_price\"],\"pred\":[\"utter_ask_details\",\"utter_chitchat\",\"utter_ask_details\",\"utter_ask_price\",\"utter_ask_location\",\"utter_ask_location\",\"utter_ask_location\",\"utter_ask_people\",\"utter_chitchat\",\"utter_ask_price\",\"utter_chitchat\",\"utter_ask_price\",\"utter_chitchat\",\"utter_ask_price\",\"utter_chitchat\",\"utter_ask_price\",\"utter_explain_price_hotel\",\"utter_ask_price\"],\"skip\":[{\"__ndarray__\":\"AAAAAA==\",\"dtype\":\"float32\",\"shape\":[1]},{\"__ndarray__\":\"AAAAAA==\",\"dtype\":\"float32\",\"shape\":[1]},{\"__ndarray__\":\"AAAAAA==\",\"dtype\":\"float32\",\"shape\":[1]},{\"__ndarray__\":\"AAAAAA==\",\"dtype\":\"float32\",\"shape\":[1]},{\"__ndarray__\":\"AAAAAA==\",\"dtype\":\"float32\",\"shape\":[1]},{\"__ndarray__\":\"AAAAAA==\",\"dtype\":\"float32\",\"shape\":[1]},{\"__ndarray__\":\"AAAAAA==\",\"dtype\":\"float32\",\"shape\":[1]},{\"__ndarray__\":\"AAAAAA==\",\"dtype\":\"float32\",\"shape\":[1]},{\"__ndarray__\":\"AAAAAA==\",\"dtype\":\"float32\",\"shape\":[1]},{\"__ndarray__\":\"AAAAAA==\",\"dtype\":\"float32\",\"shape\":[1]},{\"__ndarray__\":\"AAAAAA==\",\"dtype\":\"float32\",\"shape\":[1]},{\"__ndarray__\":\"AAAAAA==\",\"dtype\":\"float32\",\"shape\":[1]},{\"__ndarray__\":\"AAAAAA==\",\"dtype\":\"float32\",\"shape\":[1]},{\"__ndarray__\":\"AAAAAA==\",\"dtype\":\"float32\",\"shape\":[1]},{\"__ndarray__\":\"AAAAAA==\",\"dtype\":\"float32\",\"shape\":[1]},{\"__ndarray__\":\"AAAAAA==\",\"dtype\":\"float32\",\"shape\":[1]},{\"__ndarray__\":\"AAAAAA==\",\"dtype\":\"float32\",\"shape\":[1]},{\"__ndarray__\":\"AAAAAA==\",\"dtype\":\"float32\",\"shape\":[1]}],\"x\":{\"__ndarray__\":\"cLnz0DFGq7/XBaCB0rPDv6F+FL+9erC/2WO8r/gJqz/tY7eXc66jv7ZMELK9apc/lGPZjToyiD+BNOXDVguFvw/qqJWwf72/DHv3Hkakqr+Yb1zIeWy/v1Zi/7TNc7K/iVAfJgfWv7/DCy2ViO+zvzaXBjXcE8C/fjO4sxUstL9sxaHnfu+0v3YjjTO8P62/\",\"dtype\":\"float64\",\"shape\":[18]},\"y\":{\"__ndarray__\":\"uMg7ZKRKoT/gv52jih2rv8F3GisCgZK/8drs0SIni78qdkiS4orDP6YDRPawsKw/UdOohuUWsD8/88+HbPB4P5TCgT8kDay/tttA5dzNgL+UriWwaJmyv7Hsy+qaDqG/bSyHulxOtb/D1xcPcNSnv5FN+c11ura/Qso72Jq+qr/POVDeWhKuvwcjPpSJqaW/\",\"dtype\":\"float64\",\"shape\":[18]}},\"selected\":null,\"selection_policy\":null},\"id\":\"37361de8-1f9f-4396-ba81-10a2316ce8f9\",\"type\":\"ColumnDataSource\"},{\"attributes\":{\"callback\":null},\"id\":\"f2dce0b4-3822-4b17-aa24-fd8acb15e9f4\",\"type\":\"DataRange1d\"},{\"attributes\":{},\"id\":\"3448142a-1bdb-4a65-a90f-ad5ef689ef9c\",\"type\":\"LinearScale\"},{\"attributes\":{\"fill_color\":{\"value\":\"red\"},\"line_color\":{\"value\":\"red\"},\"size\":{\"units\":\"screen\",\"value\":5},\"x\":{\"field\":\"x\"},\"y\":{\"field\":\"y\"}},\"id\":\"88658496-cac4-48f1-81af-975880f8b1d9\",\"type\":\"Circle\"},{\"attributes\":{},\"id\":\"fcecda56-3234-4f5f-aeaf-c4da52364a7b\",\"type\":\"LinearScale\"},{\"attributes\":{\"fill_alpha\":{\"value\":0.1},\"fill_color\":{\"value\":\"#1f77b4\"},\"line_alpha\":{\"value\":0.1},\"line_color\":{\"value\":\"#1f77b4\"},\"size\":{\"units\":\"screen\",\"value\":5},\"x\":{\"field\":\"x\"},\"y\":{\"field\":\"y\"}},\"id\":\"7c207014-09fb-4c13-86dd-703253afa721\",\"type\":\"Circle\"},{\"attributes\":{},\"id\":\"e7f727d3-49bb-4bff-86e8-0e7923759b55\",\"type\":\"BasicTicker\"},{\"attributes\":{\"data_source\":{\"id\":\"37361de8-1f9f-4396-ba81-10a2316ce8f9\",\"type\":\"ColumnDataSource\"},\"glyph\":{\"id\":\"88658496-cac4-48f1-81af-975880f8b1d9\",\"type\":\"Circle\"},\"hover_glyph\":null,\"muted_glyph\":null,\"name\":\"circle\",\"nonselection_glyph\":{\"id\":\"7c207014-09fb-4c13-86dd-703253afa721\",\"type\":\"Circle\"},\"selection_glyph\":null,\"view\":{\"id\":\"6eff8aff-04bf-4392-84b2-ea81b3c65014\",\"type\":\"CDSView\"}},\"id\":\"549bfc51-a469-4ac7-9145-bfc063a4e851\",\"type\":\"GlyphRenderer\"},{\"attributes\":{\"callback\":null,\"column_names\":[\"x\",\"y\",\"desc\",\"pred\",\"skip\",\"copy\"],\"data\":{\"copy\":[{\"__ndarray__\":\"MgqfPg==\",\"dtype\":\"float32\",\"shape\":[1]},{\"__ndarray__\":\"Yo6MPA==\",\"dtype\":\"float32\",\"shape\":[1]},{\"__ndarray__\":\"PFzbPg==\",\"dtype\":\"float32\",\"shape\":[1]},{\"__ndarray__\":\"rClkPA==\",\"dtype\":\"float32\",\"shape\":[1]},{\"__ndarray__\":\"BPoKPA==\",\"dtype\":\"float32\",\"shape\":[1]},{\"__ndarray__\":\"CyVVPg==\",\"dtype\":\"float32\",\"shape\":[1]},{\"__ndarray__\":\"/FUOPw==\",\"dtype\":\"float32\",\"shape\":[1]},{\"__ndarray__\":\"4cfvOw==\",\"dtype\":\"float32\",\"shape\":[1]},{\"__ndarray__\":\"ja/NPA==\",\"dtype\":\"float32\",\"shape\":[1]},{\"__ndarray__\":\"9h3fPg==\",\"dtype\":\"float32\",\"shape\":[1]},{\"__ndarray__\":\"bKrhPA==\",\"dtype\":\"float32\",\"shape\":[1]},{\"__ndarray__\":\"/qbxPg==\",\"dtype\":\"float32\",\"shape\":[1]},{\"__ndarray__\":\"qRYMPQ==\",\"dtype\":\"float32\",\"shape\":[1]},{\"__ndarray__\":\"vJ8GPw==\",\"dtype\":\"float32\",\"shape\":[1]},{\"__ndarray__\":\"2jMmPQ==\",\"dtype\":\"float32\",\"shape\":[1]},{\"__ndarray__\":\"/OATPw==\",\"dtype\":\"float32\",\"shape\":[1]},{\"__ndarray__\":\"+y0SPg==\",\"dtype\":\"float32\",\"shape\":[1]},{\"__ndarray__\":\"H5AXPw==\",\"dtype\":\"float32\",\"shape\":[1]}],\"desc\":[\"    - utter_ask_details\",\"    - utter_chitchat\",\"    - utter_ask_details\",\"    - utter_ask_startdate\",\"    - utter_ask_location\",\"    - utter_explain_location_hotel\",\"    - utter_ask_location\",\"    - utter_ask_price\",\"    - utter_chitchat\",\"    - utter_ask_price\",\"    - utter_chitchat\",\"    - utter_ask_price\",\"    - utter_chitchat\",\"    - utter_ask_price\",\"    - utter_chitchat\",\"    - utter_ask_price\",\"    - utter_explain_price_hotel\",\"    - utter_ask_price\"],\"pred\":[\"utter_ask_details\",\"utter_chitchat\",\"utter_ask_details\",\"utter_ask_price\",\"utter_ask_location\",\"utter_ask_location\",\"utter_ask_location\",\"utter_ask_people\",\"utter_chitchat\",\"utter_ask_price\",\"utter_chitchat\",\"utter_ask_price\",\"utter_chitchat\",\"utter_ask_price\",\"utter_chitchat\",\"utter_ask_price\",\"utter_explain_price_hotel\",\"utter_ask_price\"],\"skip\":[{\"__ndarray__\":\"AAAAAA==\",\"dtype\":\"float32\",\"shape\":[1]},{\"__ndarray__\":\"AAAAAA==\",\"dtype\":\"float32\",\"shape\":[1]},{\"__ndarray__\":\"AAAAAA==\",\"dtype\":\"float32\",\"shape\":[1]},{\"__ndarray__\":\"AAAAAA==\",\"dtype\":\"float32\",\"shape\":[1]},{\"__ndarray__\":\"AAAAAA==\",\"dtype\":\"float32\",\"shape\":[1]},{\"__ndarray__\":\"AAAAAA==\",\"dtype\":\"float32\",\"shape\":[1]},{\"__ndarray__\":\"AAAAAA==\",\"dtype\":\"float32\",\"shape\":[1]},{\"__ndarray__\":\"AAAAAA==\",\"dtype\":\"float32\",\"shape\":[1]},{\"__ndarray__\":\"AAAAAA==\",\"dtype\":\"float32\",\"shape\":[1]},{\"__ndarray__\":\"AAAAAA==\",\"dtype\":\"float32\",\"shape\":[1]},{\"__ndarray__\":\"AAAAAA==\",\"dtype\":\"float32\",\"shape\":[1]},{\"__ndarray__\":\"AAAAAA==\",\"dtype\":\"float32\",\"shape\":[1]},{\"__ndarray__\":\"AAAAAA==\",\"dtype\":\"float32\",\"shape\":[1]},{\"__ndarray__\":\"AAAAAA==\",\"dtype\":\"float32\",\"shape\":[1]},{\"__ndarray__\":\"AAAAAA==\",\"dtype\":\"float32\",\"shape\":[1]},{\"__ndarray__\":\"AAAAAA==\",\"dtype\":\"float32\",\"shape\":[1]},{\"__ndarray__\":\"AAAAAA==\",\"dtype\":\"float32\",\"shape\":[1]},{\"__ndarray__\":\"AAAAAA==\",\"dtype\":\"float32\",\"shape\":[1]}],\"x\":{\"__ndarray__\":\"/1Xh+ZfAqb+NGbvrxJTDv+I7kPipbLS/ylauyPRMqj8Xpkpc2tOjv6Q7P5P/HXG/YeLowQ3aq78AAPN9g9+Fv3GXVH44obu/A6z5lgzKwD+v/E+X3fO8v+eAPZ2pU8E/S9EdiL5OvL9gaqnfCwXEP/zKvLcwmLu/8929Gnf1xj/XurqeRzuSv5Z9TmCX58g/\",\"dtype\":\"float64\",\"shape\":[18]},\"y\":{\"__ndarray__\":\"vq0iPX6dfD+cZJ3pbqOqv47h1h2TWom/IsWQxY0zjL8wthwWCGnDP/CapNY/W8A/AoGu06FE0D9ZdTAkdiJ3P+4XQCvC2aq/bD3uMQ2Xh7+seFvbXOyxv7UZrN5pqpm/O2qu67fntL8lVrYbeiefv9EqD77UG7a/jarQAUj6n7/DMBfDMfyqv7TDG+4qS5u/\",\"dtype\":\"float64\",\"shape\":[18]}},\"selected\":null,\"selection_policy\":null},\"id\":\"6fb23690-dd07-4fab-96a6-454eee543aed\",\"type\":\"ColumnDataSource\"},{\"attributes\":{\"formatter\":{\"id\":\"40f9cbd2-d53b-45c1-80e1-3973de9a1c52\",\"type\":\"BasicTickFormatter\"},\"plot\":{\"id\":\"35b9dbc7-96d8-4639-a1d7-f50414afe9ce\",\"subtype\":\"Figure\",\"type\":\"Plot\"},\"ticker\":{\"id\":\"310b7498-fe22-4ae4-9078-c51e1d9cfeea\",\"type\":\"BasicTicker\"}},\"id\":\"a363e624-0d7a-4f40-bd3d-11423a180304\",\"type\":\"LinearAxis\"},{\"attributes\":{\"formatter\":{\"id\":\"18a3d425-302e-43d5-aeb8-d62b15c51c04\",\"type\":\"BasicTickFormatter\"},\"plot\":{\"id\":\"35b9dbc7-96d8-4639-a1d7-f50414afe9ce\",\"subtype\":\"Figure\",\"type\":\"Plot\"},\"ticker\":{\"id\":\"e7f727d3-49bb-4bff-86e8-0e7923759b55\",\"type\":\"BasicTicker\"}},\"id\":\"59f3979b-32be-4c9e-824c-0070afd92b36\",\"type\":\"LinearAxis\"},{\"attributes\":{\"dimension\":1,\"plot\":{\"id\":\"35b9dbc7-96d8-4639-a1d7-f50414afe9ce\",\"subtype\":\"Figure\",\"type\":\"Plot\"},\"ticker\":{\"id\":\"e7f727d3-49bb-4bff-86e8-0e7923759b55\",\"type\":\"BasicTicker\"}},\"id\":\"2d673c5f-f2f3-4471-9ff9-ae89bb572769\",\"type\":\"Grid\"},{\"attributes\":{\"source\":{\"id\":\"471a2c20-e729-4533-8a53-9d4717766804\",\"type\":\"ColumnDataSource\"}},\"id\":\"a93ec4be-f8fe-4f08-91ca-16b785ce91f9\",\"type\":\"CDSView\"},{\"attributes\":{\"callback\":null,\"data\":{},\"selected\":null,\"selection_policy\":null},\"id\":\"da6e43dc-c5c7-4ebf-b837-b21c013df599\",\"type\":\"ColumnDataSource\"},{\"attributes\":{\"callback\":null,\"column_names\":[\"x\",\"y\"],\"data\":{\"x\":{\"__ndarray__\":\"/1Xh+ZfAqb+NGbvrxJTDv+I7kPipbLS/ylauyPRMqj8Xpkpc2tOjv6Q7P5P/HXG/YeLowQ3aq78AAPN9g9+Fv3GXVH44obu/A6z5lgzKwD+v/E+X3fO8v+eAPZ2pU8E/S9EdiL5OvL9gaqnfCwXEP/zKvLcwmLu/8929Gnf1xj/XurqeRzuSv5Z9TmCX58g/\",\"dtype\":\"float64\",\"shape\":[18]},\"y\":{\"__ndarray__\":\"vq0iPX6dfD+cZJ3pbqOqv47h1h2TWom/IsWQxY0zjL8wthwWCGnDP/CapNY/W8A/AoGu06FE0D9ZdTAkdiJ3P+4XQCvC2aq/bD3uMQ2Xh7+seFvbXOyxv7UZrN5pqpm/O2qu67fntL8lVrYbeiefv9EqD77UG7a/jarQAUj6n7/DMBfDMfyqv7TDG+4qS5u/\",\"dtype\":\"float64\",\"shape\":[18]}},\"selected\":null,\"selection_policy\":null},\"id\":\"471a2c20-e729-4533-8a53-9d4717766804\",\"type\":\"ColumnDataSource\"},{\"attributes\":{},\"id\":\"18a3d425-302e-43d5-aeb8-d62b15c51c04\",\"type\":\"BasicTickFormatter\"},{\"attributes\":{\"fill_color\":{\"value\":\"#1f77b4\"},\"line_color\":{\"value\":\"#1f77b4\"},\"size\":{\"units\":\"screen\",\"value\":10},\"x\":{\"field\":\"x\"},\"y\":{\"field\":\"y\"}},\"id\":\"75d37ab1-f043-439e-af33-fb7e458db16a\",\"type\":\"Circle\"},{\"attributes\":{\"fill_alpha\":{\"value\":0.1},\"fill_color\":{\"value\":\"#1f77b4\"},\"line_alpha\":{\"value\":0.1},\"line_color\":{\"value\":\"#1f77b4\"},\"size\":{\"units\":\"screen\",\"value\":10},\"x\":{\"field\":\"x\"},\"y\":{\"field\":\"y\"}},\"id\":\"66b0b937-a4f1-4f86-b896-5ad85c94b3c0\",\"type\":\"Circle\"},{\"attributes\":{\"data_source\":{\"id\":\"6fb23690-dd07-4fab-96a6-454eee543aed\",\"type\":\"ColumnDataSource\"},\"glyph\":{\"id\":\"75d37ab1-f043-439e-af33-fb7e458db16a\",\"type\":\"Circle\"},\"hover_glyph\":null,\"muted_glyph\":null,\"name\":\"circle\",\"nonselection_glyph\":{\"id\":\"66b0b937-a4f1-4f86-b896-5ad85c94b3c0\",\"type\":\"Circle\"},\"selection_glyph\":null,\"view\":{\"id\":\"d3050995-302f-4649-92de-256d1e6e08f4\",\"type\":\"CDSView\"}},\"id\":\"47d05a50-20e9-4ae8-9499-cc669543a8f7\",\"type\":\"GlyphRenderer\"},{\"attributes\":{\"data_source\":{\"id\":\"471a2c20-e729-4533-8a53-9d4717766804\",\"type\":\"ColumnDataSource\"},\"glyph\":{\"id\":\"13e8024c-1a03-4b91-bbd6-ba036e5b6028\",\"type\":\"Line\"},\"hover_glyph\":null,\"muted_glyph\":null,\"nonselection_glyph\":{\"id\":\"5293b890-026d-4e47-b315-68b922d05455\",\"type\":\"Line\"},\"selection_glyph\":null,\"view\":{\"id\":\"a93ec4be-f8fe-4f08-91ca-16b785ce91f9\",\"type\":\"CDSView\"}},\"id\":\"7d33cbba-9120-4b14-b955-5519e5245837\",\"type\":\"GlyphRenderer\"},{\"attributes\":{\"line_color\":\"#1f77b4\",\"x\":{\"field\":\"x\"},\"y\":{\"field\":\"y\"}},\"id\":\"13e8024c-1a03-4b91-bbd6-ba036e5b6028\",\"type\":\"Line\"},{\"attributes\":{\"fill_color\":{\"value\":\"magenta\"},\"line_color\":{\"value\":\"magenta\"},\"x\":{\"value\":-0.04857305750515641},\"y\":{\"value\":0.01624356281931212}},\"id\":\"3a7e3ea2-db48-4951-82cc-2b0ee3e4e18e\",\"type\":\"Circle\"},{\"attributes\":{\"line_alpha\":0.1,\"line_color\":\"#1f77b4\",\"x\":{\"field\":\"x\"},\"y\":{\"field\":\"y\"}},\"id\":\"5293b890-026d-4e47-b315-68b922d05455\",\"type\":\"Line\"},{\"attributes\":{\"fill_alpha\":{\"value\":0.1},\"fill_color\":{\"value\":\"#1f77b4\"},\"line_alpha\":{\"value\":0.1},\"line_color\":{\"value\":\"#1f77b4\"},\"x\":{\"value\":-0.04857305750515641},\"y\":{\"value\":0.01624356281931212}},\"id\":\"e2469504-cda6-46d3-9ad8-13405ef86604\",\"type\":\"Circle\"}],\"root_ids\":[\"35b9dbc7-96d8-4639-a1d7-f50414afe9ce\"]},\"title\":\"Bokeh Application\",\"version\":\"0.12.15\"}};\n",
       "  var render_items = [{\"docid\":\"da7ababe-63eb-4a28-a7c2-1ba689f9b21a\",\"elementid\":\"4bc29e45-49a2-45c4-add0-fca782a49e53\",\"modelid\":\"35b9dbc7-96d8-4639-a1d7-f50414afe9ce\"}];\n",
       "  root.Bokeh.embed.embed_items_notebook(docs_json, render_items);\n",
       "\n",
       "  }\n",
       "  if (root.Bokeh !== undefined) {\n",
       "    embed_document(root);\n",
       "  } else {\n",
       "    var attempts = 0;\n",
       "    var timer = setInterval(function(root) {\n",
       "      if (root.Bokeh !== undefined) {\n",
       "        embed_document(root);\n",
       "        clearInterval(timer);\n",
       "      }\n",
       "      attempts++;\n",
       "      if (attempts > 100) {\n",
       "        console.log(\"Bokeh: ERROR: Unable to run BokehJS code because BokehJS library is missing\")\n",
       "        clearInterval(timer);\n",
       "      }\n",
       "    }, 10, root)\n",
       "  }\n",
       "})(window);"
      ],
      "application/vnd.bokehjs_exec.v0+json": ""
     },
     "metadata": {
      "application/vnd.bokehjs_exec.v0+json": {
       "id": "35b9dbc7-96d8-4639-a1d7-f50414afe9ce"
      }
     },
     "output_type": "display_data"
    }
   ],
   "source": [
    "show(p)"
   ]
  },
  {
   "cell_type": "code",
   "execution_count": 247,
   "metadata": {},
   "outputs": [
    {
     "data": {
      "text/plain": [
       "5"
      ]
     },
     "execution_count": 247,
     "metadata": {},
     "output_type": "execute_result"
    }
   ],
   "source": [
    "domain.index_for_action('utter_ask_price')"
   ]
  },
  {
   "cell_type": "code",
   "execution_count": 248,
   "metadata": {},
   "outputs": [
    {
     "data": {
      "text/plain": [
       "(20,)"
      ]
     },
     "execution_count": 248,
     "metadata": {},
     "output_type": "execute_result"
    }
   ],
   "source": [
    "utter_price = embedding_from_tracker(\"#generate story\\n{}\".format(story_block), bot=True)[0,-1,5,:]\n",
    "utter_price.shape"
   ]
  },
  {
   "cell_type": "code",
   "execution_count": 249,
   "metadata": {},
   "outputs": [
    {
     "name": "stdout",
     "output_type": "stream",
     "text": [
      "(20,)\n"
     ]
    },
    {
     "data": {
      "text/html": [
       "<div style=\"display: table;\"><div style=\"display: table-row;\"><div style=\"display: table-cell;\"><b title=\"bokeh.models.renderers.GlyphRenderer\">GlyphRenderer</b>(</div><div style=\"display: table-cell;\">id&nbsp;=&nbsp;'d9ae80d1-2723-480c-82d3-6a22748cba1b', <span id=\"812199bb-4c14-4c13-a2d6-8c26aa334e0f\" style=\"cursor: pointer;\">&hellip;)</span></div></div><div class=\"55152af1-056e-4a25-82ae-545aa4439f66\" style=\"display: none;\"><div style=\"display: table-cell;\"></div><div style=\"display: table-cell;\">data_source&nbsp;=&nbsp;ColumnDataSource(id='75713276-82c1-4420-928a-c4464388d5cf', ...),</div></div><div class=\"55152af1-056e-4a25-82ae-545aa4439f66\" style=\"display: none;\"><div style=\"display: table-cell;\"></div><div style=\"display: table-cell;\">glyph&nbsp;=&nbsp;Circle(id='3791c9ee-549b-437d-b60f-19a43c808d67', ...),</div></div><div class=\"55152af1-056e-4a25-82ae-545aa4439f66\" style=\"display: none;\"><div style=\"display: table-cell;\"></div><div style=\"display: table-cell;\">hover_glyph&nbsp;=&nbsp;None,</div></div><div class=\"55152af1-056e-4a25-82ae-545aa4439f66\" style=\"display: none;\"><div style=\"display: table-cell;\"></div><div style=\"display: table-cell;\">js_event_callbacks&nbsp;=&nbsp;{},</div></div><div class=\"55152af1-056e-4a25-82ae-545aa4439f66\" style=\"display: none;\"><div style=\"display: table-cell;\"></div><div style=\"display: table-cell;\">js_property_callbacks&nbsp;=&nbsp;{},</div></div><div class=\"55152af1-056e-4a25-82ae-545aa4439f66\" style=\"display: none;\"><div style=\"display: table-cell;\"></div><div style=\"display: table-cell;\">level&nbsp;=&nbsp;'glyph',</div></div><div class=\"55152af1-056e-4a25-82ae-545aa4439f66\" style=\"display: none;\"><div style=\"display: table-cell;\"></div><div style=\"display: table-cell;\">muted&nbsp;=&nbsp;False,</div></div><div class=\"55152af1-056e-4a25-82ae-545aa4439f66\" style=\"display: none;\"><div style=\"display: table-cell;\"></div><div style=\"display: table-cell;\">muted_glyph&nbsp;=&nbsp;None,</div></div><div class=\"55152af1-056e-4a25-82ae-545aa4439f66\" style=\"display: none;\"><div style=\"display: table-cell;\"></div><div style=\"display: table-cell;\">name&nbsp;=&nbsp;None,</div></div><div class=\"55152af1-056e-4a25-82ae-545aa4439f66\" style=\"display: none;\"><div style=\"display: table-cell;\"></div><div style=\"display: table-cell;\">nonselection_glyph&nbsp;=&nbsp;Circle(id='4902a272-8e2d-45e9-8aa0-051b32dbe903', ...),</div></div><div class=\"55152af1-056e-4a25-82ae-545aa4439f66\" style=\"display: none;\"><div style=\"display: table-cell;\"></div><div style=\"display: table-cell;\">selection_glyph&nbsp;=&nbsp;None,</div></div><div class=\"55152af1-056e-4a25-82ae-545aa4439f66\" style=\"display: none;\"><div style=\"display: table-cell;\"></div><div style=\"display: table-cell;\">subscribed_events&nbsp;=&nbsp;[],</div></div><div class=\"55152af1-056e-4a25-82ae-545aa4439f66\" style=\"display: none;\"><div style=\"display: table-cell;\"></div><div style=\"display: table-cell;\">tags&nbsp;=&nbsp;[],</div></div><div class=\"55152af1-056e-4a25-82ae-545aa4439f66\" style=\"display: none;\"><div style=\"display: table-cell;\"></div><div style=\"display: table-cell;\">view&nbsp;=&nbsp;CDSView(id='e40b27f0-211c-4319-b01f-a6075405318d', ...),</div></div><div class=\"55152af1-056e-4a25-82ae-545aa4439f66\" style=\"display: none;\"><div style=\"display: table-cell;\"></div><div style=\"display: table-cell;\">visible&nbsp;=&nbsp;True,</div></div><div class=\"55152af1-056e-4a25-82ae-545aa4439f66\" style=\"display: none;\"><div style=\"display: table-cell;\"></div><div style=\"display: table-cell;\">x_range_name&nbsp;=&nbsp;'default',</div></div><div class=\"55152af1-056e-4a25-82ae-545aa4439f66\" style=\"display: none;\"><div style=\"display: table-cell;\"></div><div style=\"display: table-cell;\">y_range_name&nbsp;=&nbsp;'default')</div></div></div>\n",
       "<script>\n",
       "(function() {\n",
       "  var expanded = false;\n",
       "  var ellipsis = document.getElementById(\"812199bb-4c14-4c13-a2d6-8c26aa334e0f\");\n",
       "  ellipsis.addEventListener(\"click\", function() {\n",
       "    var rows = document.getElementsByClassName(\"55152af1-056e-4a25-82ae-545aa4439f66\");\n",
       "    for (var i = 0; i < rows.length; i++) {\n",
       "      var el = rows[i];\n",
       "      el.style.display = expanded ? \"none\" : \"table-row\";\n",
       "    }\n",
       "    ellipsis.innerHTML = expanded ? \"&hellip;)\" : \"&lsaquo;&lsaquo;&lsaquo;\";\n",
       "    expanded = !expanded;\n",
       "  });\n",
       "})();\n",
       "</script>\n"
      ],
      "text/plain": [
       "GlyphRenderer(id='d9ae80d1-2723-480c-82d3-6a22748cba1b', ...)"
      ]
     },
     "execution_count": 249,
     "metadata": {},
     "output_type": "execute_result"
    }
   ],
   "source": [
    "print(utter_price.shape)\n",
    "x = pca.transform(utter_price.reshape(1,-1))\n",
    "p.circle(x[0][0], x[0][1], color='black')"
   ]
  },
  {
   "cell_type": "code",
   "execution_count": 250,
   "metadata": {},
   "outputs": [
    {
     "data": {
      "text/html": [
       "\n",
       "<div class=\"bk-root\">\n",
       "    <div class=\"bk-plotdiv\" id=\"68f6c403-73f5-4130-8d63-c660f67eff0d\"></div>\n",
       "</div>"
      ]
     },
     "metadata": {},
     "output_type": "display_data"
    },
    {
     "data": {
      "application/javascript": [
       "(function(root) {\n",
       "  function embed_document(root) {\n",
       "    \n",
       "  var docs_json = {\"0cefe546-fc88-44ba-9a89-addd359c7684\":{\"roots\":{\"references\":[{\"attributes\":{\"source\":{\"id\":\"46b7b5e1-7e45-4edf-9161-29bae96e029b\",\"type\":\"ColumnDataSource\"}},\"id\":\"e1f751f6-49d9-4b12-98d8-e49f7a754a41\",\"type\":\"CDSView\"},{\"attributes\":{\"callback\":null,\"data\":{},\"selected\":null,\"selection_policy\":null},\"id\":\"fc8a9328-25d3-4159-84a6-72dea9d9a908\",\"type\":\"ColumnDataSource\"},{\"attributes\":{\"callback\":null,\"column_names\":[\"x\",\"y\"],\"data\":{\"x\":{\"__ndarray__\":\"kfeeVrl/sL+VkX4l2K/Hv/gwUXY/srq/JFM1Z3s4sT8TSjIAhvqvv0JnzRqPtLG/Cu2TG/SDsb+2nOXKCgyzP2HBxOG828G/g48yuj3Lxz/cPXPHooHDv4QaTAahrM4/mb7xf28jxL8LTbM0iETQP0DTsbPJX8S/LuCDxoy/0D82lqjv8z29v0lC6av+wMg/\",\"dtype\":\"float64\",\"shape\":[18]},\"y\":{\"__ndarray__\":\"qe37xykomL+5kQvA0KWjv+TOmQJcU7O/xCWZ1zFzw79FKPMUQqLKP+MJyTIGz4M/6daXFokIzT8l0UT3kt5+v6YAlpKkGXQ/Z0lj+eeilT+GyrOT2MaTv9aW7OXDv38/fXSyHXl4ob+6GPifQ69cP1FSaBaCC6e/tpvgVL7lXL+BIS2wnYyvv4ubmbg92ZW/\",\"dtype\":\"float64\",\"shape\":[18]}},\"selected\":null,\"selection_policy\":null},\"id\":\"46b7b5e1-7e45-4edf-9161-29bae96e029b\",\"type\":\"ColumnDataSource\"},{\"attributes\":{\"data_source\":{\"id\":\"75713276-82c1-4420-928a-c4464388d5cf\",\"type\":\"ColumnDataSource\"},\"glyph\":{\"id\":\"3791c9ee-549b-437d-b60f-19a43c808d67\",\"type\":\"Circle\"},\"hover_glyph\":null,\"muted_glyph\":null,\"nonselection_glyph\":{\"id\":\"4902a272-8e2d-45e9-8aa0-051b32dbe903\",\"type\":\"Circle\"},\"selection_glyph\":null,\"view\":{\"id\":\"e40b27f0-211c-4319-b01f-a6075405318d\",\"type\":\"CDSView\"}},\"id\":\"d9ae80d1-2723-480c-82d3-6a22748cba1b\",\"type\":\"GlyphRenderer\"},{\"attributes\":{},\"id\":\"5f5904f3-bee2-4544-afa7-e0ea90297248\",\"type\":\"BasicTickFormatter\"},{\"attributes\":{\"fill_color\":{\"value\":\"#1f77b4\"},\"line_color\":{\"value\":\"#1f77b4\"},\"size\":{\"units\":\"screen\",\"value\":10},\"x\":{\"field\":\"x\"},\"y\":{\"field\":\"y\"}},\"id\":\"68275d37-18de-4249-8bda-108678c8642d\",\"type\":\"Circle\"},{\"attributes\":{\"callback\":null,\"column_names\":[\"x\",\"y\",\"desc\",\"pred\",\"skip\",\"copy\"],\"data\":{\"copy\":[{\"__ndarray__\":\"N9ysPg==\",\"dtype\":\"float32\",\"shape\":[1]},{\"__ndarray__\":\"+VQXPQ==\",\"dtype\":\"float32\",\"shape\":[1]},{\"__ndarray__\":\"YMIIPw==\",\"dtype\":\"float32\",\"shape\":[1]},{\"__ndarray__\":\"XjVUPA==\",\"dtype\":\"float32\",\"shape\":[1]},{\"__ndarray__\":\"PI8SPA==\",\"dtype\":\"float32\",\"shape\":[1]},{\"__ndarray__\":\"iBYoPQ==\",\"dtype\":\"float32\",\"shape\":[1]},{\"__ndarray__\":\"Ej37Pg==\",\"dtype\":\"float32\",\"shape\":[1]},{\"__ndarray__\":\"g1k1PA==\",\"dtype\":\"float32\",\"shape\":[1]},{\"__ndarray__\":\"GI6CPQ==\",\"dtype\":\"float32\",\"shape\":[1]},{\"__ndarray__\":\"rk4dPw==\",\"dtype\":\"float32\",\"shape\":[1]},{\"__ndarray__\":\"w6B1PQ==\",\"dtype\":\"float32\",\"shape\":[1]},{\"__ndarray__\":\"AcI/Pw==\",\"dtype\":\"float32\",\"shape\":[1]},{\"__ndarray__\":\"LrmnPQ==\",\"dtype\":\"float32\",\"shape\":[1]},{\"__ndarray__\":\"nBZJPw==\",\"dtype\":\"float32\",\"shape\":[1]},{\"__ndarray__\":\"W+jCPQ==\",\"dtype\":\"float32\",\"shape\":[1]},{\"__ndarray__\":\"ab1NPw==\",\"dtype\":\"float32\",\"shape\":[1]},{\"__ndarray__\":\"heFjPQ==\",\"dtype\":\"float32\",\"shape\":[1]},{\"__ndarray__\":\"HZklPw==\",\"dtype\":\"float32\",\"shape\":[1]}],\"desc\":[\"    - utter_ask_details\",\"    - utter_chitchat\",\"    - utter_ask_details\",\"    - utter_ask_startdate\",\"    - utter_ask_location\",\"    - utter_explain_location_hotel\",\"    - utter_ask_location\",\"    - utter_ask_price\",\"    - utter_chitchat\",\"    - utter_ask_price\",\"    - utter_chitchat\",\"    - utter_ask_price\",\"    - utter_chitchat\",\"    - utter_ask_price\",\"    - utter_chitchat\",\"    - utter_ask_price\",\"    - utter_explain_price_hotel\",\"    - utter_ask_price\"],\"pred\":[\"utter_ask_details\",\"utter_chitchat\",\"utter_ask_details\",\"utter_ask_startdate\",\"utter_ask_location\",\"utter_explain_enddate_hotel\",\"utter_ask_location\",\"utter_ask_price\",\"utter_chitchat\",\"utter_ask_price\",\"utter_chitchat\",\"utter_ask_price\",\"utter_chitchat\",\"utter_ask_price\",\"utter_chitchat\",\"utter_ask_price\",\"utter_explain_enddate_hotel\",\"utter_ask_price\"],\"skip\":[{\"__ndarray__\":\"XH5ePg==\",\"dtype\":\"float32\",\"shape\":[1]},{\"__ndarray__\":\"Q9k8Pg==\",\"dtype\":\"float32\",\"shape\":[1]},{\"__ndarray__\":\"VWMYPg==\",\"dtype\":\"float32\",\"shape\":[1]},{\"__ndarray__\":\"v3jNPQ==\",\"dtype\":\"float32\",\"shape\":[1]},{\"__ndarray__\":\"/gXEPQ==\",\"dtype\":\"float32\",\"shape\":[1]},{\"__ndarray__\":\"3vm1PQ==\",\"dtype\":\"float32\",\"shape\":[1]},{\"__ndarray__\":\"FIxlPQ==\",\"dtype\":\"float32\",\"shape\":[1]},{\"__ndarray__\":\"CY2QPQ==\",\"dtype\":\"float32\",\"shape\":[1]},{\"__ndarray__\":\"RZT2PQ==\",\"dtype\":\"float32\",\"shape\":[1]},{\"__ndarray__\":\"dasdPQ==\",\"dtype\":\"float32\",\"shape\":[1]},{\"__ndarray__\":\"cMvbPQ==\",\"dtype\":\"float32\",\"shape\":[1]},{\"__ndarray__\":\"Fac2PQ==\",\"dtype\":\"float32\",\"shape\":[1]},{\"__ndarray__\":\"/PrbPQ==\",\"dtype\":\"float32\",\"shape\":[1]},{\"__ndarray__\":\"QeRDPQ==\",\"dtype\":\"float32\",\"shape\":[1]},{\"__ndarray__\":\"1bPdPQ==\",\"dtype\":\"float32\",\"shape\":[1]},{\"__ndarray__\":\"2upMPQ==\",\"dtype\":\"float32\",\"shape\":[1]},{\"__ndarray__\":\"tnaTPQ==\",\"dtype\":\"float32\",\"shape\":[1]},{\"__ndarray__\":\"TRKJPQ==\",\"dtype\":\"float32\",\"shape\":[1]}],\"x\":{\"__ndarray__\":\"kfeeVrl/sL+VkX4l2K/Hv/gwUXY/srq/JFM1Z3s4sT8TSjIAhvqvv0JnzRqPtLG/Cu2TG/SDsb+2nOXKCgyzP2HBxOG828G/g48yuj3Lxz/cPXPHooHDv4QaTAahrM4/mb7xf28jxL8LTbM0iETQP0DTsbPJX8S/LuCDxoy/0D82lqjv8z29v0lC6av+wMg/\",\"dtype\":\"float64\",\"shape\":[18]},\"y\":{\"__ndarray__\":\"qe37xykomL+5kQvA0KWjv+TOmQJcU7O/xCWZ1zFzw79FKPMUQqLKP+MJyTIGz4M/6daXFokIzT8l0UT3kt5+v6YAlpKkGXQ/Z0lj+eeilT+GyrOT2MaTv9aW7OXDv38/fXSyHXl4ob+6GPifQ69cP1FSaBaCC6e/tpvgVL7lXL+BIS2wnYyvv4ubmbg92ZW/\",\"dtype\":\"float64\",\"shape\":[18]}},\"selected\":null,\"selection_policy\":null},\"id\":\"76f64019-5e0e-4399-b58e-3b0c3054b024\",\"type\":\"ColumnDataSource\"},{\"attributes\":{\"fill_alpha\":{\"value\":0.1},\"fill_color\":{\"value\":\"#1f77b4\"},\"line_alpha\":{\"value\":0.1},\"line_color\":{\"value\":\"#1f77b4\"},\"size\":{\"units\":\"screen\",\"value\":10},\"x\":{\"field\":\"x\"},\"y\":{\"field\":\"y\"}},\"id\":\"0de224b6-6a77-4bd5-abba-5a1d3d192986\",\"type\":\"Circle\"},{\"attributes\":{\"data_source\":{\"id\":\"76f64019-5e0e-4399-b58e-3b0c3054b024\",\"type\":\"ColumnDataSource\"},\"glyph\":{\"id\":\"68275d37-18de-4249-8bda-108678c8642d\",\"type\":\"Circle\"},\"hover_glyph\":null,\"muted_glyph\":null,\"name\":\"circle\",\"nonselection_glyph\":{\"id\":\"0de224b6-6a77-4bd5-abba-5a1d3d192986\",\"type\":\"Circle\"},\"selection_glyph\":null,\"view\":{\"id\":\"d3add1c5-fbe5-4f96-82cd-431cdb23cf1b\",\"type\":\"CDSView\"}},\"id\":\"9bf5228a-ea65-42de-9ecf-c4011a3bc2b6\",\"type\":\"GlyphRenderer\"},{\"attributes\":{\"data_source\":{\"id\":\"46b7b5e1-7e45-4edf-9161-29bae96e029b\",\"type\":\"ColumnDataSource\"},\"glyph\":{\"id\":\"f6b64f29-41f6-4985-ad19-0d0a1abb5b5a\",\"type\":\"Line\"},\"hover_glyph\":null,\"muted_glyph\":null,\"nonselection_glyph\":{\"id\":\"61034fa0-15be-4bab-9a0f-6048115ae412\",\"type\":\"Line\"},\"selection_glyph\":null,\"view\":{\"id\":\"e1f751f6-49d9-4b12-98d8-e49f7a754a41\",\"type\":\"CDSView\"}},\"id\":\"a88bd1f1-dc55-4858-9c26-ff0d7988acfe\",\"type\":\"GlyphRenderer\"},{\"attributes\":{\"line_color\":\"#1f77b4\",\"x\":{\"field\":\"x\"},\"y\":{\"field\":\"y\"}},\"id\":\"f6b64f29-41f6-4985-ad19-0d0a1abb5b5a\",\"type\":\"Line\"},{\"attributes\":{\"fill_color\":{\"value\":\"magenta\"},\"line_color\":{\"value\":\"magenta\"},\"x\":{\"value\":-0.059552302861232455},\"y\":{\"value\":-0.008916155928397432}},\"id\":\"347c1277-be60-453e-8dd6-5cb59f9a7407\",\"type\":\"Circle\"},{\"attributes\":{\"source\":{\"id\":\"d040f585-5271-4828-a665-4ae2a8f0ddef\",\"type\":\"ColumnDataSource\"}},\"id\":\"05088ed9-2eb5-4725-b96e-54cf0759743a\",\"type\":\"CDSView\"},{\"attributes\":{\"source\":{\"id\":\"75713276-82c1-4420-928a-c4464388d5cf\",\"type\":\"ColumnDataSource\"}},\"id\":\"e40b27f0-211c-4319-b01f-a6075405318d\",\"type\":\"CDSView\"},{\"attributes\":{\"line_alpha\":0.1,\"line_color\":\"#1f77b4\",\"x\":{\"field\":\"x\"},\"y\":{\"field\":\"y\"}},\"id\":\"61034fa0-15be-4bab-9a0f-6048115ae412\",\"type\":\"Line\"},{\"attributes\":{\"source\":{\"id\":\"0b16b824-275f-4956-bdfe-2eb4708823af\",\"type\":\"ColumnDataSource\"}},\"id\":\"9276f8ed-6386-4bb5-9c08-ccc3148c09f4\",\"type\":\"CDSView\"},{\"attributes\":{\"source\":{\"id\":\"fc8a9328-25d3-4159-84a6-72dea9d9a908\",\"type\":\"ColumnDataSource\"}},\"id\":\"59ca4a1c-f34e-436b-b67e-610b80cb1e83\",\"type\":\"CDSView\"},{\"attributes\":{\"fill_color\":{\"value\":\"black\"},\"x\":{\"value\":0.35287561653021765},\"y\":{\"value\":0.01167302922828135}},\"id\":\"3791c9ee-549b-437d-b60f-19a43c808d67\",\"type\":\"Circle\"},{\"attributes\":{\"data_source\":{\"id\":\"fc8a9328-25d3-4159-84a6-72dea9d9a908\",\"type\":\"ColumnDataSource\"},\"glyph\":{\"id\":\"347c1277-be60-453e-8dd6-5cb59f9a7407\",\"type\":\"Circle\"},\"hover_glyph\":null,\"muted_glyph\":null,\"nonselection_glyph\":{\"id\":\"024709f1-c8de-459c-a82e-65173ea8d550\",\"type\":\"Circle\"},\"selection_glyph\":null,\"view\":{\"id\":\"59ca4a1c-f34e-436b-b67e-610b80cb1e83\",\"type\":\"CDSView\"}},\"id\":\"ccdbdceb-fb76-442b-abdb-88421638c5c5\",\"type\":\"GlyphRenderer\"},{\"attributes\":{\"fill_alpha\":{\"value\":0.1},\"fill_color\":{\"value\":\"#1f77b4\"},\"line_alpha\":{\"value\":0.1},\"line_color\":{\"value\":\"#1f77b4\"},\"x\":{\"value\":-0.059552302861232455},\"y\":{\"value\":-0.008916155928397432}},\"id\":\"024709f1-c8de-459c-a82e-65173ea8d550\",\"type\":\"Circle\"},{\"attributes\":{\"below\":[{\"id\":\"f03ede7a-e828-46f8-8f3c-6995bd6b3fec\",\"type\":\"LinearAxis\"}],\"left\":[{\"id\":\"ba01d710-552b-4699-bec1-cda9ac406fb3\",\"type\":\"LinearAxis\"}],\"renderers\":[{\"id\":\"f03ede7a-e828-46f8-8f3c-6995bd6b3fec\",\"type\":\"LinearAxis\"},{\"id\":\"da98caed-9627-4939-af09-a15bb3d9bb15\",\"type\":\"Grid\"},{\"id\":\"ba01d710-552b-4699-bec1-cda9ac406fb3\",\"type\":\"LinearAxis\"},{\"id\":\"39e8d59c-b073-476f-ba91-7f34c0aa6eed\",\"type\":\"Grid\"},{\"id\":\"9bf5228a-ea65-42de-9ecf-c4011a3bc2b6\",\"type\":\"GlyphRenderer\"},{\"id\":\"a88bd1f1-dc55-4858-9c26-ff0d7988acfe\",\"type\":\"GlyphRenderer\"},{\"id\":\"ccdbdceb-fb76-442b-abdb-88421638c5c5\",\"type\":\"GlyphRenderer\"},{\"id\":\"737ecca1-4361-46b0-bd7f-2f9b46d6c92c\",\"type\":\"GlyphRenderer\"},{\"id\":\"c26afe79-2582-4fa4-985a-898fa2837a2d\",\"type\":\"GlyphRenderer\"},{\"id\":\"d9ae80d1-2723-480c-82d3-6a22748cba1b\",\"type\":\"GlyphRenderer\"}],\"title\":{\"id\":\"bb9276df-a24d-4b55-b5ad-51d4785b6e61\",\"type\":\"Title\"},\"toolbar\":{\"id\":\"7d99f161-a1ca-46eb-815c-747444ac5ef9\",\"type\":\"Toolbar\"},\"x_range\":{\"id\":\"7c9510d9-5d9d-4916-a114-b0c4a0d1d418\",\"type\":\"DataRange1d\"},\"x_scale\":{\"id\":\"3ffabdd0-d501-47ab-931e-cff3223580b7\",\"type\":\"LinearScale\"},\"y_range\":{\"id\":\"bcb4cf59-f375-4ee2-8e20-e712e7380bd8\",\"type\":\"DataRange1d\"},\"y_scale\":{\"id\":\"6ca1ab4b-6947-44b7-a597-539501d1ffa7\",\"type\":\"LinearScale\"}},\"id\":\"4c0bfcfd-4f1f-4c08-b01f-16aa1a76f29c\",\"subtype\":\"Figure\",\"type\":\"Plot\"},{\"attributes\":{\"source\":{\"id\":\"76f64019-5e0e-4399-b58e-3b0c3054b024\",\"type\":\"ColumnDataSource\"}},\"id\":\"d3add1c5-fbe5-4f96-82cd-431cdb23cf1b\",\"type\":\"CDSView\"},{\"attributes\":{\"callback\":null,\"column_names\":[\"x\",\"y\",\"desc\",\"pred\",\"skip\",\"copy\"],\"data\":{\"copy\":[{\"__ndarray__\":\"N9ysPg==\",\"dtype\":\"float32\",\"shape\":[1]},{\"__ndarray__\":\"+VQXPQ==\",\"dtype\":\"float32\",\"shape\":[1]},{\"__ndarray__\":\"YMIIPw==\",\"dtype\":\"float32\",\"shape\":[1]},{\"__ndarray__\":\"XjVUPA==\",\"dtype\":\"float32\",\"shape\":[1]},{\"__ndarray__\":\"PI8SPA==\",\"dtype\":\"float32\",\"shape\":[1]},{\"__ndarray__\":\"iBYoPQ==\",\"dtype\":\"float32\",\"shape\":[1]},{\"__ndarray__\":\"Ej37Pg==\",\"dtype\":\"float32\",\"shape\":[1]},{\"__ndarray__\":\"g1k1PA==\",\"dtype\":\"float32\",\"shape\":[1]},{\"__ndarray__\":\"GI6CPQ==\",\"dtype\":\"float32\",\"shape\":[1]},{\"__ndarray__\":\"rk4dPw==\",\"dtype\":\"float32\",\"shape\":[1]},{\"__ndarray__\":\"w6B1PQ==\",\"dtype\":\"float32\",\"shape\":[1]},{\"__ndarray__\":\"AcI/Pw==\",\"dtype\":\"float32\",\"shape\":[1]},{\"__ndarray__\":\"LrmnPQ==\",\"dtype\":\"float32\",\"shape\":[1]},{\"__ndarray__\":\"nBZJPw==\",\"dtype\":\"float32\",\"shape\":[1]},{\"__ndarray__\":\"W+jCPQ==\",\"dtype\":\"float32\",\"shape\":[1]},{\"__ndarray__\":\"ab1NPw==\",\"dtype\":\"float32\",\"shape\":[1]},{\"__ndarray__\":\"heFjPQ==\",\"dtype\":\"float32\",\"shape\":[1]},{\"__ndarray__\":\"HZklPw==\",\"dtype\":\"float32\",\"shape\":[1]}],\"desc\":[\"    - utter_ask_details\",\"    - utter_chitchat\",\"    - utter_ask_details\",\"    - utter_ask_startdate\",\"    - utter_ask_location\",\"    - utter_explain_location_hotel\",\"    - utter_ask_location\",\"    - utter_ask_price\",\"    - utter_chitchat\",\"    - utter_ask_price\",\"    - utter_chitchat\",\"    - utter_ask_price\",\"    - utter_chitchat\",\"    - utter_ask_price\",\"    - utter_chitchat\",\"    - utter_ask_price\",\"    - utter_explain_price_hotel\",\"    - utter_ask_price\"],\"pred\":[\"utter_ask_details\",\"utter_chitchat\",\"utter_ask_details\",\"utter_ask_startdate\",\"utter_ask_location\",\"utter_explain_enddate_hotel\",\"utter_ask_location\",\"utter_ask_price\",\"utter_chitchat\",\"utter_ask_price\",\"utter_chitchat\",\"utter_ask_price\",\"utter_chitchat\",\"utter_ask_price\",\"utter_chitchat\",\"utter_ask_price\",\"utter_explain_enddate_hotel\",\"utter_ask_price\"],\"skip\":[{\"__ndarray__\":\"XH5ePg==\",\"dtype\":\"float32\",\"shape\":[1]},{\"__ndarray__\":\"Q9k8Pg==\",\"dtype\":\"float32\",\"shape\":[1]},{\"__ndarray__\":\"VWMYPg==\",\"dtype\":\"float32\",\"shape\":[1]},{\"__ndarray__\":\"v3jNPQ==\",\"dtype\":\"float32\",\"shape\":[1]},{\"__ndarray__\":\"/gXEPQ==\",\"dtype\":\"float32\",\"shape\":[1]},{\"__ndarray__\":\"3vm1PQ==\",\"dtype\":\"float32\",\"shape\":[1]},{\"__ndarray__\":\"FIxlPQ==\",\"dtype\":\"float32\",\"shape\":[1]},{\"__ndarray__\":\"CY2QPQ==\",\"dtype\":\"float32\",\"shape\":[1]},{\"__ndarray__\":\"RZT2PQ==\",\"dtype\":\"float32\",\"shape\":[1]},{\"__ndarray__\":\"dasdPQ==\",\"dtype\":\"float32\",\"shape\":[1]},{\"__ndarray__\":\"cMvbPQ==\",\"dtype\":\"float32\",\"shape\":[1]},{\"__ndarray__\":\"Fac2PQ==\",\"dtype\":\"float32\",\"shape\":[1]},{\"__ndarray__\":\"/PrbPQ==\",\"dtype\":\"float32\",\"shape\":[1]},{\"__ndarray__\":\"QeRDPQ==\",\"dtype\":\"float32\",\"shape\":[1]},{\"__ndarray__\":\"1bPdPQ==\",\"dtype\":\"float32\",\"shape\":[1]},{\"__ndarray__\":\"2upMPQ==\",\"dtype\":\"float32\",\"shape\":[1]},{\"__ndarray__\":\"tnaTPQ==\",\"dtype\":\"float32\",\"shape\":[1]},{\"__ndarray__\":\"TRKJPQ==\",\"dtype\":\"float32\",\"shape\":[1]}],\"x\":{\"__ndarray__\":\"nyDN4pPcrL/UFMh5KAaov1ZbTF0k27e/5vAkfni5qr+ghuYeVAuxvxVOlzE02rC/EdW6LRZJvb9Icn1jHxipv8zv4yl9LKi/nJg8NUqT1j84cJt2X7aqv2HapaB7ldY/v4YQ7u22p79pcLVggJXWP7qdpETqfKe/5Fb5w4CV1j/guiUUWnmkvz8i2ZTSktY/\",\"dtype\":\"float64\",\"shape\":[18]},\"y\":{\"__ndarray__\":\"mMbv1tpJuL/8aON/mcSSvznveVkOfrq/wzNQQz5kob8pX8q2sKqav3+yF61yBJ+/ZpLdkq+t2T+njW3IkI6QvwK8zhX4kpG/gvR62IDzhz+YXQbh036Gv1LdcIZX6Ic/7SF6AIMpjb+69KXsPuiHP0rqYCaq6Yq/SfTJYUHohz9chX68hhBuP5NU41xSCYg/\",\"dtype\":\"float64\",\"shape\":[18]}},\"selected\":null,\"selection_policy\":null},\"id\":\"d040f585-5271-4828-a665-4ae2a8f0ddef\",\"type\":\"ColumnDataSource\"},{\"attributes\":{\"callback\":null,\"data\":{},\"selected\":null,\"selection_policy\":null},\"id\":\"75713276-82c1-4420-928a-c4464388d5cf\",\"type\":\"ColumnDataSource\"},{\"attributes\":{\"callback\":null,\"names\":[\"circle\"],\"tooltips\":[[\"true action\",\"@desc\"],[\"prediction\",\"@pred\"],[\"skip_gate\",\"@skip\"],[\"copy_gate\",\"@copy\"]]},\"id\":\"d8f4d381-3940-48f1-b93e-d52f61084d8d\",\"type\":\"HoverTool\"},{\"attributes\":{\"fill_alpha\":{\"value\":0.1},\"fill_color\":{\"value\":\"#1f77b4\"},\"line_alpha\":{\"value\":0.1},\"line_color\":{\"value\":\"#1f77b4\"},\"x\":{\"value\":0.35287561653021765},\"y\":{\"value\":0.01167302922828135}},\"id\":\"4902a272-8e2d-45e9-8aa0-051b32dbe903\",\"type\":\"Circle\"},{\"attributes\":{\"formatter\":{\"id\":\"0c8606e0-83e2-4cd8-896e-a1916451f5a8\",\"type\":\"BasicTickFormatter\"},\"plot\":{\"id\":\"4c0bfcfd-4f1f-4c08-b01f-16aa1a76f29c\",\"subtype\":\"Figure\",\"type\":\"Plot\"},\"ticker\":{\"id\":\"4419d159-fd2f-48b4-8b08-c9103dced43d\",\"type\":\"BasicTicker\"}},\"id\":\"f03ede7a-e828-46f8-8f3c-6995bd6b3fec\",\"type\":\"LinearAxis\"},{\"attributes\":{\"fill_color\":{\"value\":\"green\"},\"line_color\":{\"value\":\"green\"},\"size\":{\"units\":\"screen\",\"value\":5},\"x\":{\"field\":\"x\"},\"y\":{\"field\":\"y\"}},\"id\":\"1591223b-c957-4bf7-8ed8-714e4ad83642\",\"type\":\"Circle\"},{\"attributes\":{\"plot\":{\"id\":\"4c0bfcfd-4f1f-4c08-b01f-16aa1a76f29c\",\"subtype\":\"Figure\",\"type\":\"Plot\"},\"ticker\":{\"id\":\"4419d159-fd2f-48b4-8b08-c9103dced43d\",\"type\":\"BasicTicker\"}},\"id\":\"da98caed-9627-4939-af09-a15bb3d9bb15\",\"type\":\"Grid\"},{\"attributes\":{\"fill_alpha\":{\"value\":0.1},\"fill_color\":{\"value\":\"#1f77b4\"},\"line_alpha\":{\"value\":0.1},\"line_color\":{\"value\":\"#1f77b4\"},\"size\":{\"units\":\"screen\",\"value\":5},\"x\":{\"field\":\"x\"},\"y\":{\"field\":\"y\"}},\"id\":\"bf02c8ea-f738-42cf-979d-90888df03348\",\"type\":\"Circle\"},{\"attributes\":{},\"id\":\"0c8606e0-83e2-4cd8-896e-a1916451f5a8\",\"type\":\"BasicTickFormatter\"},{\"attributes\":{\"data_source\":{\"id\":\"d040f585-5271-4828-a665-4ae2a8f0ddef\",\"type\":\"ColumnDataSource\"},\"glyph\":{\"id\":\"1591223b-c957-4bf7-8ed8-714e4ad83642\",\"type\":\"Circle\"},\"hover_glyph\":null,\"muted_glyph\":null,\"name\":\"circle\",\"nonselection_glyph\":{\"id\":\"bf02c8ea-f738-42cf-979d-90888df03348\",\"type\":\"Circle\"},\"selection_glyph\":null,\"view\":{\"id\":\"05088ed9-2eb5-4725-b96e-54cf0759743a\",\"type\":\"CDSView\"}},\"id\":\"737ecca1-4361-46b0-bd7f-2f9b46d6c92c\",\"type\":\"GlyphRenderer\"},{\"attributes\":{\"active_drag\":\"auto\",\"active_inspect\":\"auto\",\"active_scroll\":\"auto\",\"active_tap\":\"auto\",\"tools\":[{\"id\":\"d8f4d381-3940-48f1-b93e-d52f61084d8d\",\"type\":\"HoverTool\"}]},\"id\":\"7d99f161-a1ca-46eb-815c-747444ac5ef9\",\"type\":\"Toolbar\"},{\"attributes\":{\"callback\":null},\"id\":\"7c9510d9-5d9d-4916-a114-b0c4a0d1d418\",\"type\":\"DataRange1d\"},{\"attributes\":{\"callback\":null,\"column_names\":[\"x\",\"y\",\"desc\",\"pred\",\"skip\",\"copy\"],\"data\":{\"copy\":[{\"__ndarray__\":\"N9ysPg==\",\"dtype\":\"float32\",\"shape\":[1]},{\"__ndarray__\":\"+VQXPQ==\",\"dtype\":\"float32\",\"shape\":[1]},{\"__ndarray__\":\"YMIIPw==\",\"dtype\":\"float32\",\"shape\":[1]},{\"__ndarray__\":\"XjVUPA==\",\"dtype\":\"float32\",\"shape\":[1]},{\"__ndarray__\":\"PI8SPA==\",\"dtype\":\"float32\",\"shape\":[1]},{\"__ndarray__\":\"iBYoPQ==\",\"dtype\":\"float32\",\"shape\":[1]},{\"__ndarray__\":\"Ej37Pg==\",\"dtype\":\"float32\",\"shape\":[1]},{\"__ndarray__\":\"g1k1PA==\",\"dtype\":\"float32\",\"shape\":[1]},{\"__ndarray__\":\"GI6CPQ==\",\"dtype\":\"float32\",\"shape\":[1]},{\"__ndarray__\":\"rk4dPw==\",\"dtype\":\"float32\",\"shape\":[1]},{\"__ndarray__\":\"w6B1PQ==\",\"dtype\":\"float32\",\"shape\":[1]},{\"__ndarray__\":\"AcI/Pw==\",\"dtype\":\"float32\",\"shape\":[1]},{\"__ndarray__\":\"LrmnPQ==\",\"dtype\":\"float32\",\"shape\":[1]},{\"__ndarray__\":\"nBZJPw==\",\"dtype\":\"float32\",\"shape\":[1]},{\"__ndarray__\":\"W+jCPQ==\",\"dtype\":\"float32\",\"shape\":[1]},{\"__ndarray__\":\"ab1NPw==\",\"dtype\":\"float32\",\"shape\":[1]},{\"__ndarray__\":\"heFjPQ==\",\"dtype\":\"float32\",\"shape\":[1]},{\"__ndarray__\":\"HZklPw==\",\"dtype\":\"float32\",\"shape\":[1]}],\"desc\":[\"    - utter_ask_details\",\"    - utter_chitchat\",\"    - utter_ask_details\",\"    - utter_ask_startdate\",\"    - utter_ask_location\",\"    - utter_explain_location_hotel\",\"    - utter_ask_location\",\"    - utter_ask_price\",\"    - utter_chitchat\",\"    - utter_ask_price\",\"    - utter_chitchat\",\"    - utter_ask_price\",\"    - utter_chitchat\",\"    - utter_ask_price\",\"    - utter_chitchat\",\"    - utter_ask_price\",\"    - utter_explain_price_hotel\",\"    - utter_ask_price\"],\"pred\":[\"utter_ask_details\",\"utter_chitchat\",\"utter_ask_details\",\"utter_ask_startdate\",\"utter_ask_location\",\"utter_explain_enddate_hotel\",\"utter_ask_location\",\"utter_ask_price\",\"utter_chitchat\",\"utter_ask_price\",\"utter_chitchat\",\"utter_ask_price\",\"utter_chitchat\",\"utter_ask_price\",\"utter_chitchat\",\"utter_ask_price\",\"utter_explain_enddate_hotel\",\"utter_ask_price\"],\"skip\":[{\"__ndarray__\":\"XH5ePg==\",\"dtype\":\"float32\",\"shape\":[1]},{\"__ndarray__\":\"Q9k8Pg==\",\"dtype\":\"float32\",\"shape\":[1]},{\"__ndarray__\":\"VWMYPg==\",\"dtype\":\"float32\",\"shape\":[1]},{\"__ndarray__\":\"v3jNPQ==\",\"dtype\":\"float32\",\"shape\":[1]},{\"__ndarray__\":\"/gXEPQ==\",\"dtype\":\"float32\",\"shape\":[1]},{\"__ndarray__\":\"3vm1PQ==\",\"dtype\":\"float32\",\"shape\":[1]},{\"__ndarray__\":\"FIxlPQ==\",\"dtype\":\"float32\",\"shape\":[1]},{\"__ndarray__\":\"CY2QPQ==\",\"dtype\":\"float32\",\"shape\":[1]},{\"__ndarray__\":\"RZT2PQ==\",\"dtype\":\"float32\",\"shape\":[1]},{\"__ndarray__\":\"dasdPQ==\",\"dtype\":\"float32\",\"shape\":[1]},{\"__ndarray__\":\"cMvbPQ==\",\"dtype\":\"float32\",\"shape\":[1]},{\"__ndarray__\":\"Fac2PQ==\",\"dtype\":\"float32\",\"shape\":[1]},{\"__ndarray__\":\"/PrbPQ==\",\"dtype\":\"float32\",\"shape\":[1]},{\"__ndarray__\":\"QeRDPQ==\",\"dtype\":\"float32\",\"shape\":[1]},{\"__ndarray__\":\"1bPdPQ==\",\"dtype\":\"float32\",\"shape\":[1]},{\"__ndarray__\":\"2upMPQ==\",\"dtype\":\"float32\",\"shape\":[1]},{\"__ndarray__\":\"tnaTPQ==\",\"dtype\":\"float32\",\"shape\":[1]},{\"__ndarray__\":\"TRKJPQ==\",\"dtype\":\"float32\",\"shape\":[1]}],\"x\":{\"__ndarray__\":\"8uP2AJSNsb/ptqhzfV3Iv4ktmKEt9L2/fu4+wzefsT8y2I7ipfWvvx2bHi/nvbG/dK98PG+zmL/KMrSqkWazPwXd+YytqcK/R5kNcmx+tL+ms7u/IlPEv7T7RmDeLLm/sOMQkexnxb86dYzMcXO7v9a9rANG5sW/1fCgfMyPvL+CaXIzlFy+v8E/O3dfNLm/\",\"dtype\":\"float64\",\"shape\":[18]},\"y\":{\"__ndarray__\":\"9bZj9IgZij9Nk/f1nQqkv8FF2vc5Nqa/e9pmKe2lw7+3IaSSgOfKP6w8RsafT4c/RpAtQZwZrj9bLI0BQ3l+v2RAVA5OQXo/6tNaNXKEoj9fg19eIlKUvxz/94X3NHC/OUjp4PBgor9qm5X0TbWhv+SXcXHawqi/6atPmdQQrb8f5GdpYsKwvxH+O0mw+LS/\",\"dtype\":\"float64\",\"shape\":[18]}},\"selected\":null,\"selection_policy\":null},\"id\":\"0b16b824-275f-4956-bdfe-2eb4708823af\",\"type\":\"ColumnDataSource\"},{\"attributes\":{\"plot\":null,\"text\":\"\"},\"id\":\"bb9276df-a24d-4b55-b5ad-51d4785b6e61\",\"type\":\"Title\"},{\"attributes\":{\"callback\":null},\"id\":\"bcb4cf59-f375-4ee2-8e20-e712e7380bd8\",\"type\":\"DataRange1d\"},{\"attributes\":{\"fill_color\":{\"value\":\"red\"},\"line_color\":{\"value\":\"red\"},\"size\":{\"units\":\"screen\",\"value\":5},\"x\":{\"field\":\"x\"},\"y\":{\"field\":\"y\"}},\"id\":\"7840ca83-65d9-4184-837b-35a13729bdc5\",\"type\":\"Circle\"},{\"attributes\":{},\"id\":\"6ca1ab4b-6947-44b7-a597-539501d1ffa7\",\"type\":\"LinearScale\"},{\"attributes\":{\"fill_alpha\":{\"value\":0.1},\"fill_color\":{\"value\":\"#1f77b4\"},\"line_alpha\":{\"value\":0.1},\"line_color\":{\"value\":\"#1f77b4\"},\"size\":{\"units\":\"screen\",\"value\":5},\"x\":{\"field\":\"x\"},\"y\":{\"field\":\"y\"}},\"id\":\"11e0a04f-ce2b-4ac3-9578-12e4abafe408\",\"type\":\"Circle\"},{\"attributes\":{},\"id\":\"3ffabdd0-d501-47ab-931e-cff3223580b7\",\"type\":\"LinearScale\"},{\"attributes\":{\"data_source\":{\"id\":\"0b16b824-275f-4956-bdfe-2eb4708823af\",\"type\":\"ColumnDataSource\"},\"glyph\":{\"id\":\"7840ca83-65d9-4184-837b-35a13729bdc5\",\"type\":\"Circle\"},\"hover_glyph\":null,\"muted_glyph\":null,\"name\":\"circle\",\"nonselection_glyph\":{\"id\":\"11e0a04f-ce2b-4ac3-9578-12e4abafe408\",\"type\":\"Circle\"},\"selection_glyph\":null,\"view\":{\"id\":\"9276f8ed-6386-4bb5-9c08-ccc3148c09f4\",\"type\":\"CDSView\"}},\"id\":\"c26afe79-2582-4fa4-985a-898fa2837a2d\",\"type\":\"GlyphRenderer\"},{\"attributes\":{\"formatter\":{\"id\":\"5f5904f3-bee2-4544-afa7-e0ea90297248\",\"type\":\"BasicTickFormatter\"},\"plot\":{\"id\":\"4c0bfcfd-4f1f-4c08-b01f-16aa1a76f29c\",\"subtype\":\"Figure\",\"type\":\"Plot\"},\"ticker\":{\"id\":\"c6d73a39-348f-4c5e-bb19-021034aa26e0\",\"type\":\"BasicTicker\"}},\"id\":\"ba01d710-552b-4699-bec1-cda9ac406fb3\",\"type\":\"LinearAxis\"},{\"attributes\":{},\"id\":\"4419d159-fd2f-48b4-8b08-c9103dced43d\",\"type\":\"BasicTicker\"},{\"attributes\":{},\"id\":\"c6d73a39-348f-4c5e-bb19-021034aa26e0\",\"type\":\"BasicTicker\"},{\"attributes\":{\"dimension\":1,\"plot\":{\"id\":\"4c0bfcfd-4f1f-4c08-b01f-16aa1a76f29c\",\"subtype\":\"Figure\",\"type\":\"Plot\"},\"ticker\":{\"id\":\"c6d73a39-348f-4c5e-bb19-021034aa26e0\",\"type\":\"BasicTicker\"}},\"id\":\"39e8d59c-b073-476f-ba91-7f34c0aa6eed\",\"type\":\"Grid\"}],\"root_ids\":[\"4c0bfcfd-4f1f-4c08-b01f-16aa1a76f29c\"]},\"title\":\"Bokeh Application\",\"version\":\"0.12.15\"}};\n",
       "  var render_items = [{\"docid\":\"0cefe546-fc88-44ba-9a89-addd359c7684\",\"elementid\":\"68f6c403-73f5-4130-8d63-c660f67eff0d\",\"modelid\":\"4c0bfcfd-4f1f-4c08-b01f-16aa1a76f29c\"}];\n",
       "  root.Bokeh.embed.embed_items_notebook(docs_json, render_items);\n",
       "\n",
       "  }\n",
       "  if (root.Bokeh !== undefined) {\n",
       "    embed_document(root);\n",
       "  } else {\n",
       "    var attempts = 0;\n",
       "    var timer = setInterval(function(root) {\n",
       "      if (root.Bokeh !== undefined) {\n",
       "        embed_document(root);\n",
       "        clearInterval(timer);\n",
       "      }\n",
       "      attempts++;\n",
       "      if (attempts > 100) {\n",
       "        console.log(\"Bokeh: ERROR: Unable to run BokehJS code because BokehJS library is missing\")\n",
       "        clearInterval(timer);\n",
       "      }\n",
       "    }, 10, root)\n",
       "  }\n",
       "})(window);"
      ],
      "application/vnd.bokehjs_exec.v0+json": ""
     },
     "metadata": {
      "application/vnd.bokehjs_exec.v0+json": {
       "id": "4c0bfcfd-4f1f-4c08-b01f-16aa1a76f29c"
      }
     },
     "output_type": "display_data"
    }
   ],
   "source": [
    "show(p)"
   ]
  },
  {
   "cell_type": "code",
   "execution_count": null,
   "metadata": {},
   "outputs": [],
   "source": []
  },
  {
   "cell_type": "code",
   "execution_count": null,
   "metadata": {},
   "outputs": [],
   "source": []
  },
  {
   "cell_type": "code",
   "execution_count": null,
   "metadata": {},
   "outputs": [],
   "source": []
  }
 ],
 "metadata": {
  "kernelspec": {
   "display_name": "Python 3",
   "language": "python",
   "name": "python3"
  },
  "language_info": {
   "codemirror_mode": {
    "name": "ipython",
    "version": 3
   },
   "file_extension": ".py",
   "mimetype": "text/x-python",
   "name": "python",
   "nbconvert_exporter": "python",
   "pygments_lexer": "ipython3",
   "version": "3.6.4"
  }
 },
 "nbformat": 4,
 "nbformat_minor": 2
}
