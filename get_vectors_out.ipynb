{
 "cells": [
  {
   "cell_type": "code",
   "execution_count": 1,
   "metadata": {},
   "outputs": [
    {
     "name": "stderr",
     "output_type": "stream",
     "text": [
      "/anaconda/lib/python3.6/site-packages/h5py/__init__.py:34: FutureWarning: Conversion of the second argument of issubdtype from `float` to `np.floating` is deprecated. In future, it will be treated as `np.float64 == np.dtype(float).type`.\n",
      "  from ._conv import register_converters as _register_converters\n"
     ]
    },
    {
     "name": "stdout",
     "output_type": "stream",
     "text": [
      "INFO:tensorflow:Restoring parameters from models/dialogue_embed/policy_0_EmbeddingPolicy/tensorflow_embedding.ckpt\n"
     ]
    },
    {
     "name": "stderr",
     "output_type": "stream",
     "text": [
      "/anaconda/lib/python3.6/site-packages/pykwalify/core.py:99: UnsafeLoaderWarning: \n",
      "The default 'Loader' for 'load(stream)' without further arguments can be unsafe.\n",
      "Use 'load(stream, Loader=ruamel.yaml.Loader)' explicitly if that is OK.\n",
      "Alternatively include the following in your code:\n",
      "\n",
      "  import warnings\n",
      "  warnings.simplefilter('ignore', ruamel.yaml.error.UnsafeLoaderWarning)\n",
      "\n",
      "In most other cases you should consider using 'safe_load(stream)'\n",
      "  data = yaml.load(stream)\n"
     ]
    },
    {
     "data": {
      "text/html": [
       "\n",
       "    <div class=\"bk-root\">\n",
       "        <a href=\"https://bokeh.pydata.org\" target=\"_blank\" class=\"bk-logo bk-logo-small bk-logo-notebook\"></a>\n",
       "        <span id=\"9928b1be-a74f-4eac-a398-7f452256609a\">Loading BokehJS ...</span>\n",
       "    </div>"
      ]
     },
     "metadata": {},
     "output_type": "display_data"
    },
    {
     "data": {
      "application/javascript": [
       "\n",
       "(function(root) {\n",
       "  function now() {\n",
       "    return new Date();\n",
       "  }\n",
       "\n",
       "  var force = true;\n",
       "\n",
       "  if (typeof (root._bokeh_onload_callbacks) === \"undefined\" || force === true) {\n",
       "    root._bokeh_onload_callbacks = [];\n",
       "    root._bokeh_is_loading = undefined;\n",
       "  }\n",
       "\n",
       "  var JS_MIME_TYPE = 'application/javascript';\n",
       "  var HTML_MIME_TYPE = 'text/html';\n",
       "  var EXEC_MIME_TYPE = 'application/vnd.bokehjs_exec.v0+json';\n",
       "  var CLASS_NAME = 'output_bokeh rendered_html';\n",
       "\n",
       "  /**\n",
       "   * Render data to the DOM node\n",
       "   */\n",
       "  function render(props, node) {\n",
       "    var script = document.createElement(\"script\");\n",
       "    node.appendChild(script);\n",
       "  }\n",
       "\n",
       "  /**\n",
       "   * Handle when an output is cleared or removed\n",
       "   */\n",
       "  function handleClearOutput(event, handle) {\n",
       "    var cell = handle.cell;\n",
       "\n",
       "    var id = cell.output_area._bokeh_element_id;\n",
       "    var server_id = cell.output_area._bokeh_server_id;\n",
       "    // Clean up Bokeh references\n",
       "    if (id !== undefined) {\n",
       "      Bokeh.index[id].model.document.clear();\n",
       "      delete Bokeh.index[id];\n",
       "    }\n",
       "\n",
       "    if (server_id !== undefined) {\n",
       "      // Clean up Bokeh references\n",
       "      var cmd = \"from bokeh.io.state import curstate; print(curstate().uuid_to_server['\" + server_id + \"'].get_sessions()[0].document.roots[0]._id)\";\n",
       "      cell.notebook.kernel.execute(cmd, {\n",
       "        iopub: {\n",
       "          output: function(msg) {\n",
       "            var element_id = msg.content.text.trim();\n",
       "            Bokeh.index[element_id].model.document.clear();\n",
       "            delete Bokeh.index[element_id];\n",
       "          }\n",
       "        }\n",
       "      });\n",
       "      // Destroy server and session\n",
       "      var cmd = \"import bokeh.io.notebook as ion; ion.destroy_server('\" + server_id + \"')\";\n",
       "      cell.notebook.kernel.execute(cmd);\n",
       "    }\n",
       "  }\n",
       "\n",
       "  /**\n",
       "   * Handle when a new output is added\n",
       "   */\n",
       "  function handleAddOutput(event, handle) {\n",
       "    var output_area = handle.output_area;\n",
       "    var output = handle.output;\n",
       "\n",
       "    // limit handleAddOutput to display_data with EXEC_MIME_TYPE content only\n",
       "    if ((output.output_type != \"display_data\") || (!output.data.hasOwnProperty(EXEC_MIME_TYPE))) {\n",
       "      return\n",
       "    }\n",
       "\n",
       "    var toinsert = output_area.element.find(\".\" + CLASS_NAME.split(' ')[0]);\n",
       "\n",
       "    if (output.metadata[EXEC_MIME_TYPE][\"id\"] !== undefined) {\n",
       "      toinsert[toinsert.length - 1].firstChild.textContent = output.data[JS_MIME_TYPE];\n",
       "      // store reference to embed id on output_area\n",
       "      output_area._bokeh_element_id = output.metadata[EXEC_MIME_TYPE][\"id\"];\n",
       "    }\n",
       "    if (output.metadata[EXEC_MIME_TYPE][\"server_id\"] !== undefined) {\n",
       "      var bk_div = document.createElement(\"div\");\n",
       "      bk_div.innerHTML = output.data[HTML_MIME_TYPE];\n",
       "      var script_attrs = bk_div.children[0].attributes;\n",
       "      for (var i = 0; i < script_attrs.length; i++) {\n",
       "        toinsert[toinsert.length - 1].firstChild.setAttribute(script_attrs[i].name, script_attrs[i].value);\n",
       "      }\n",
       "      // store reference to server id on output_area\n",
       "      output_area._bokeh_server_id = output.metadata[EXEC_MIME_TYPE][\"server_id\"];\n",
       "    }\n",
       "  }\n",
       "\n",
       "  function register_renderer(events, OutputArea) {\n",
       "\n",
       "    function append_mime(data, metadata, element) {\n",
       "      // create a DOM node to render to\n",
       "      var toinsert = this.create_output_subarea(\n",
       "        metadata,\n",
       "        CLASS_NAME,\n",
       "        EXEC_MIME_TYPE\n",
       "      );\n",
       "      this.keyboard_manager.register_events(toinsert);\n",
       "      // Render to node\n",
       "      var props = {data: data, metadata: metadata[EXEC_MIME_TYPE]};\n",
       "      render(props, toinsert[toinsert.length - 1]);\n",
       "      element.append(toinsert);\n",
       "      return toinsert\n",
       "    }\n",
       "\n",
       "    /* Handle when an output is cleared or removed */\n",
       "    events.on('clear_output.CodeCell', handleClearOutput);\n",
       "    events.on('delete.Cell', handleClearOutput);\n",
       "\n",
       "    /* Handle when a new output is added */\n",
       "    events.on('output_added.OutputArea', handleAddOutput);\n",
       "\n",
       "    /**\n",
       "     * Register the mime type and append_mime function with output_area\n",
       "     */\n",
       "    OutputArea.prototype.register_mime_type(EXEC_MIME_TYPE, append_mime, {\n",
       "      /* Is output safe? */\n",
       "      safe: true,\n",
       "      /* Index of renderer in `output_area.display_order` */\n",
       "      index: 0\n",
       "    });\n",
       "  }\n",
       "\n",
       "  // register the mime type if in Jupyter Notebook environment and previously unregistered\n",
       "  if (root.Jupyter !== undefined) {\n",
       "    var events = require('base/js/events');\n",
       "    var OutputArea = require('notebook/js/outputarea').OutputArea;\n",
       "\n",
       "    if (OutputArea.prototype.mime_types().indexOf(EXEC_MIME_TYPE) == -1) {\n",
       "      register_renderer(events, OutputArea);\n",
       "    }\n",
       "  }\n",
       "\n",
       "  \n",
       "  if (typeof (root._bokeh_timeout) === \"undefined\" || force === true) {\n",
       "    root._bokeh_timeout = Date.now() + 5000;\n",
       "    root._bokeh_failed_load = false;\n",
       "  }\n",
       "\n",
       "  var NB_LOAD_WARNING = {'data': {'text/html':\n",
       "     \"<div style='background-color: #fdd'>\\n\"+\n",
       "     \"<p>\\n\"+\n",
       "     \"BokehJS does not appear to have successfully loaded. If loading BokehJS from CDN, this \\n\"+\n",
       "     \"may be due to a slow or bad network connection. Possible fixes:\\n\"+\n",
       "     \"</p>\\n\"+\n",
       "     \"<ul>\\n\"+\n",
       "     \"<li>re-rerun `output_notebook()` to attempt to load from CDN again, or</li>\\n\"+\n",
       "     \"<li>use INLINE resources instead, as so:</li>\\n\"+\n",
       "     \"</ul>\\n\"+\n",
       "     \"<code>\\n\"+\n",
       "     \"from bokeh.resources import INLINE\\n\"+\n",
       "     \"output_notebook(resources=INLINE)\\n\"+\n",
       "     \"</code>\\n\"+\n",
       "     \"</div>\"}};\n",
       "\n",
       "  function display_loaded() {\n",
       "    var el = document.getElementById(\"9928b1be-a74f-4eac-a398-7f452256609a\");\n",
       "    if (el != null) {\n",
       "      el.textContent = \"BokehJS is loading...\";\n",
       "    }\n",
       "    if (root.Bokeh !== undefined) {\n",
       "      if (el != null) {\n",
       "        el.textContent = \"BokehJS \" + root.Bokeh.version + \" successfully loaded.\";\n",
       "      }\n",
       "    } else if (Date.now() < root._bokeh_timeout) {\n",
       "      setTimeout(display_loaded, 100)\n",
       "    }\n",
       "  }\n",
       "\n",
       "\n",
       "  function run_callbacks() {\n",
       "    try {\n",
       "      root._bokeh_onload_callbacks.forEach(function(callback) { callback() });\n",
       "    }\n",
       "    finally {\n",
       "      delete root._bokeh_onload_callbacks\n",
       "    }\n",
       "    console.info(\"Bokeh: all callbacks have finished\");\n",
       "  }\n",
       "\n",
       "  function load_libs(js_urls, callback) {\n",
       "    root._bokeh_onload_callbacks.push(callback);\n",
       "    if (root._bokeh_is_loading > 0) {\n",
       "      console.log(\"Bokeh: BokehJS is being loaded, scheduling callback at\", now());\n",
       "      return null;\n",
       "    }\n",
       "    if (js_urls == null || js_urls.length === 0) {\n",
       "      run_callbacks();\n",
       "      return null;\n",
       "    }\n",
       "    console.log(\"Bokeh: BokehJS not loaded, scheduling load and callback at\", now());\n",
       "    root._bokeh_is_loading = js_urls.length;\n",
       "    for (var i = 0; i < js_urls.length; i++) {\n",
       "      var url = js_urls[i];\n",
       "      var s = document.createElement('script');\n",
       "      s.src = url;\n",
       "      s.async = false;\n",
       "      s.onreadystatechange = s.onload = function() {\n",
       "        root._bokeh_is_loading--;\n",
       "        if (root._bokeh_is_loading === 0) {\n",
       "          console.log(\"Bokeh: all BokehJS libraries loaded\");\n",
       "          run_callbacks()\n",
       "        }\n",
       "      };\n",
       "      s.onerror = function() {\n",
       "        console.warn(\"failed to load library \" + url);\n",
       "      };\n",
       "      console.log(\"Bokeh: injecting script tag for BokehJS library: \", url);\n",
       "      document.getElementsByTagName(\"head\")[0].appendChild(s);\n",
       "    }\n",
       "  };var element = document.getElementById(\"9928b1be-a74f-4eac-a398-7f452256609a\");\n",
       "  if (element == null) {\n",
       "    console.log(\"Bokeh: ERROR: autoload.js configured with elementid '9928b1be-a74f-4eac-a398-7f452256609a' but no matching script tag was found. \")\n",
       "    return false;\n",
       "  }\n",
       "\n",
       "  var js_urls = [\"https://cdn.pydata.org/bokeh/release/bokeh-0.12.15.min.js\", \"https://cdn.pydata.org/bokeh/release/bokeh-widgets-0.12.15.min.js\", \"https://cdn.pydata.org/bokeh/release/bokeh-tables-0.12.15.min.js\", \"https://cdn.pydata.org/bokeh/release/bokeh-gl-0.12.15.min.js\"];\n",
       "\n",
       "  var inline_js = [\n",
       "    function(Bokeh) {\n",
       "      Bokeh.set_log_level(\"info\");\n",
       "    },\n",
       "    \n",
       "    function(Bokeh) {\n",
       "      \n",
       "    },\n",
       "    function(Bokeh) {\n",
       "      console.log(\"Bokeh: injecting CSS: https://cdn.pydata.org/bokeh/release/bokeh-0.12.15.min.css\");\n",
       "      Bokeh.embed.inject_css(\"https://cdn.pydata.org/bokeh/release/bokeh-0.12.15.min.css\");\n",
       "      console.log(\"Bokeh: injecting CSS: https://cdn.pydata.org/bokeh/release/bokeh-widgets-0.12.15.min.css\");\n",
       "      Bokeh.embed.inject_css(\"https://cdn.pydata.org/bokeh/release/bokeh-widgets-0.12.15.min.css\");\n",
       "      console.log(\"Bokeh: injecting CSS: https://cdn.pydata.org/bokeh/release/bokeh-tables-0.12.15.min.css\");\n",
       "      Bokeh.embed.inject_css(\"https://cdn.pydata.org/bokeh/release/bokeh-tables-0.12.15.min.css\");\n",
       "    }\n",
       "  ];\n",
       "\n",
       "  function run_inline_js() {\n",
       "    \n",
       "    if ((root.Bokeh !== undefined) || (force === true)) {\n",
       "      for (var i = 0; i < inline_js.length; i++) {\n",
       "        inline_js[i].call(root, root.Bokeh);\n",
       "      }if (force === true) {\n",
       "        display_loaded();\n",
       "      }} else if (Date.now() < root._bokeh_timeout) {\n",
       "      setTimeout(run_inline_js, 100);\n",
       "    } else if (!root._bokeh_failed_load) {\n",
       "      console.log(\"Bokeh: BokehJS failed to load within specified timeout.\");\n",
       "      root._bokeh_failed_load = true;\n",
       "    } else if (force !== true) {\n",
       "      var cell = $(document.getElementById(\"9928b1be-a74f-4eac-a398-7f452256609a\")).parents('.cell').data().cell;\n",
       "      cell.output_area.append_execute_result(NB_LOAD_WARNING)\n",
       "    }\n",
       "\n",
       "  }\n",
       "\n",
       "  if (root._bokeh_is_loading === 0) {\n",
       "    console.log(\"Bokeh: BokehJS loaded, going straight to plotting\");\n",
       "    run_inline_js();\n",
       "  } else {\n",
       "    load_libs(js_urls, function() {\n",
       "      console.log(\"Bokeh: BokehJS plotting callback run at\", now());\n",
       "      run_inline_js();\n",
       "    });\n",
       "  }\n",
       "}(window));"
      ],
      "application/vnd.bokehjs_load.v0+json": "\n(function(root) {\n  function now() {\n    return new Date();\n  }\n\n  var force = true;\n\n  if (typeof (root._bokeh_onload_callbacks) === \"undefined\" || force === true) {\n    root._bokeh_onload_callbacks = [];\n    root._bokeh_is_loading = undefined;\n  }\n\n  \n\n  \n  if (typeof (root._bokeh_timeout) === \"undefined\" || force === true) {\n    root._bokeh_timeout = Date.now() + 5000;\n    root._bokeh_failed_load = false;\n  }\n\n  var NB_LOAD_WARNING = {'data': {'text/html':\n     \"<div style='background-color: #fdd'>\\n\"+\n     \"<p>\\n\"+\n     \"BokehJS does not appear to have successfully loaded. If loading BokehJS from CDN, this \\n\"+\n     \"may be due to a slow or bad network connection. Possible fixes:\\n\"+\n     \"</p>\\n\"+\n     \"<ul>\\n\"+\n     \"<li>re-rerun `output_notebook()` to attempt to load from CDN again, or</li>\\n\"+\n     \"<li>use INLINE resources instead, as so:</li>\\n\"+\n     \"</ul>\\n\"+\n     \"<code>\\n\"+\n     \"from bokeh.resources import INLINE\\n\"+\n     \"output_notebook(resources=INLINE)\\n\"+\n     \"</code>\\n\"+\n     \"</div>\"}};\n\n  function display_loaded() {\n    var el = document.getElementById(\"9928b1be-a74f-4eac-a398-7f452256609a\");\n    if (el != null) {\n      el.textContent = \"BokehJS is loading...\";\n    }\n    if (root.Bokeh !== undefined) {\n      if (el != null) {\n        el.textContent = \"BokehJS \" + root.Bokeh.version + \" successfully loaded.\";\n      }\n    } else if (Date.now() < root._bokeh_timeout) {\n      setTimeout(display_loaded, 100)\n    }\n  }\n\n\n  function run_callbacks() {\n    try {\n      root._bokeh_onload_callbacks.forEach(function(callback) { callback() });\n    }\n    finally {\n      delete root._bokeh_onload_callbacks\n    }\n    console.info(\"Bokeh: all callbacks have finished\");\n  }\n\n  function load_libs(js_urls, callback) {\n    root._bokeh_onload_callbacks.push(callback);\n    if (root._bokeh_is_loading > 0) {\n      console.log(\"Bokeh: BokehJS is being loaded, scheduling callback at\", now());\n      return null;\n    }\n    if (js_urls == null || js_urls.length === 0) {\n      run_callbacks();\n      return null;\n    }\n    console.log(\"Bokeh: BokehJS not loaded, scheduling load and callback at\", now());\n    root._bokeh_is_loading = js_urls.length;\n    for (var i = 0; i < js_urls.length; i++) {\n      var url = js_urls[i];\n      var s = document.createElement('script');\n      s.src = url;\n      s.async = false;\n      s.onreadystatechange = s.onload = function() {\n        root._bokeh_is_loading--;\n        if (root._bokeh_is_loading === 0) {\n          console.log(\"Bokeh: all BokehJS libraries loaded\");\n          run_callbacks()\n        }\n      };\n      s.onerror = function() {\n        console.warn(\"failed to load library \" + url);\n      };\n      console.log(\"Bokeh: injecting script tag for BokehJS library: \", url);\n      document.getElementsByTagName(\"head\")[0].appendChild(s);\n    }\n  };var element = document.getElementById(\"9928b1be-a74f-4eac-a398-7f452256609a\");\n  if (element == null) {\n    console.log(\"Bokeh: ERROR: autoload.js configured with elementid '9928b1be-a74f-4eac-a398-7f452256609a' but no matching script tag was found. \")\n    return false;\n  }\n\n  var js_urls = [\"https://cdn.pydata.org/bokeh/release/bokeh-0.12.15.min.js\", \"https://cdn.pydata.org/bokeh/release/bokeh-widgets-0.12.15.min.js\", \"https://cdn.pydata.org/bokeh/release/bokeh-tables-0.12.15.min.js\", \"https://cdn.pydata.org/bokeh/release/bokeh-gl-0.12.15.min.js\"];\n\n  var inline_js = [\n    function(Bokeh) {\n      Bokeh.set_log_level(\"info\");\n    },\n    \n    function(Bokeh) {\n      \n    },\n    function(Bokeh) {\n      console.log(\"Bokeh: injecting CSS: https://cdn.pydata.org/bokeh/release/bokeh-0.12.15.min.css\");\n      Bokeh.embed.inject_css(\"https://cdn.pydata.org/bokeh/release/bokeh-0.12.15.min.css\");\n      console.log(\"Bokeh: injecting CSS: https://cdn.pydata.org/bokeh/release/bokeh-widgets-0.12.15.min.css\");\n      Bokeh.embed.inject_css(\"https://cdn.pydata.org/bokeh/release/bokeh-widgets-0.12.15.min.css\");\n      console.log(\"Bokeh: injecting CSS: https://cdn.pydata.org/bokeh/release/bokeh-tables-0.12.15.min.css\");\n      Bokeh.embed.inject_css(\"https://cdn.pydata.org/bokeh/release/bokeh-tables-0.12.15.min.css\");\n    }\n  ];\n\n  function run_inline_js() {\n    \n    if ((root.Bokeh !== undefined) || (force === true)) {\n      for (var i = 0; i < inline_js.length; i++) {\n        inline_js[i].call(root, root.Bokeh);\n      }if (force === true) {\n        display_loaded();\n      }} else if (Date.now() < root._bokeh_timeout) {\n      setTimeout(run_inline_js, 100);\n    } else if (!root._bokeh_failed_load) {\n      console.log(\"Bokeh: BokehJS failed to load within specified timeout.\");\n      root._bokeh_failed_load = true;\n    } else if (force !== true) {\n      var cell = $(document.getElementById(\"9928b1be-a74f-4eac-a398-7f452256609a\")).parents('.cell').data().cell;\n      cell.output_area.append_execute_result(NB_LOAD_WARNING)\n    }\n\n  }\n\n  if (root._bokeh_is_loading === 0) {\n    console.log(\"Bokeh: BokehJS loaded, going straight to plotting\");\n    run_inline_js();\n  } else {\n    load_libs(js_urls, function() {\n      console.log(\"Bokeh: BokehJS plotting callback run at\", now());\n      run_inline_js();\n    });\n  }\n}(window));"
     },
     "metadata": {},
     "output_type": "display_data"
    }
   ],
   "source": [
    "import rasa_core\n",
    "from rasa_core.agent import Agent\n",
    "from bokeh.io import output_notebook\n",
    "agent = Agent.load(\"models/dialogue_embed\")\n",
    "# agent = Agent.load(\"models/dialogue_embed_before_norm_loss\")\n",
    "output_notebook()"
   ]
  },
  {
   "cell_type": "code",
   "execution_count": 2,
   "metadata": {},
   "outputs": [],
   "source": [
    "policy = agent.policy_ensemble.policies[0]\n",
    "interpreter = agent.interpreter"
   ]
  },
  {
   "cell_type": "code",
   "execution_count": 3,
   "metadata": {},
   "outputs": [],
   "source": [
    "domain = agent.domain\n"
   ]
  },
  {
   "cell_type": "code",
   "execution_count": 4,
   "metadata": {},
   "outputs": [],
   "source": [
    "from rasa_core.training.structures import StoryGraph\n",
    "from rasa_core.training.dsl import StoryFileReader\n",
    "from rasa_core.trackers import DialogueStateTracker\n",
    "from rasa_core.channels import UserMessage\n",
    "import numpy as np\n",
    "np.set_printoptions(precision=3, suppress=True)\n",
    "\n",
    "def embedding_from_tracker(story, bot=False):\n",
    "    reader = StoryFileReader(domain, interpreter)\n",
    "    story = story.split('\\n')\n",
    "    story_steps = reader.process_lines(story)\n",
    "#     story_graph = StoryGraph(story_steps)\n",
    "    tracker = DialogueStateTracker(\n",
    "            1,\n",
    "            domain.slots\n",
    "    )\n",
    "    tracker._reset()\n",
    "    for step in story_steps:\n",
    "        events = step.explicit_events(domain)\n",
    "        for event in events:\n",
    "            tracker.update(event)\n",
    "    data_X = policy.featurizer.create_X([tracker], domain)\n",
    "    session_data = policy._create_tf_session_data(domain, data_X)\n",
    "    all_Y_d_x = np.stack([session_data.all_Y_d for _ in range(session_data.X.shape[0])])\n",
    "    feed_dict={policy.a_in: session_data.X,\n",
    "               policy.b_in: all_Y_d_x,\n",
    "               policy.c_in: session_data.slots,\n",
    "               policy.b_prev_in: session_data.previous_actions,\n",
    "               policy._dialogue_len: session_data.X.shape[1],\n",
    "               policy._x_for_no_intent_in: session_data.x_for_no_intent,\n",
    "               policy._y_for_no_action_in: session_data.y_for_no_action,\n",
    "               policy._y_for_action_listen_in: session_data.y_for_action_listen}\n",
    "\n",
    "    dial_vec = policy.session.run(policy.dial_embed, feed_dict=feed_dict)\n",
    "    bot_vec = policy.session.run(policy.bot_embed, feed_dict=feed_dict)\n",
    "\n",
    "    no_skip_gate = policy.session.run(policy.copy_attn_debug, feed_dict=feed_dict)\n",
    "    attn_embed = policy.session.run(policy.attn_embed, feed_dict=feed_dict)\n",
    "    rnn_embed = policy.session.run(policy.rnn_embed, feed_dict=feed_dict)\n",
    "    probs = policy.session.run(policy.alignment_history, feed_dict=feed_dict)\n",
    "    sim = policy.session.run(policy.sim_op, feed_dict=feed_dict)\n",
    "\n",
    "    del tracker\n",
    "#     print(np.shape(dial_vec))\n",
    "\n",
    "    if bot is False:\n",
    "        return (dial_vec[0,-2,:],\n",
    "                no_skip_gate[0,-2,:],\n",
    "                attn_embed[0,-2,:],\n",
    "                rnn_embed[0,-2,:],\n",
    "                probs[0,-2,:],\n",
    "                sim[0,-2,:])\n",
    "    else:\n",
    "        return bot_vec\n",
    "    \n",
    "def make_prediction(story):\n",
    "    dial, _,_,_,_, sim0 = embedding_from_tracker(story, bot=False)\n",
    "    bot = embedding_from_tracker(story, bot=True)[0,-2,:,:]\n",
    "    abs_vals = np.array([np.absolute(vec) for vec in bot])\n",
    "    norms = np.apply_along_axis(np.linalg.norm, 1, bot)\n",
    "    sims = np.dot(bot, dial)/norms\n",
    "#     name = domain.action_for_index(np.argmax(sims)).name()\n",
    "#     print(name)\n",
    "    name = domain.action_for_index(np.argmax(sim0)).name()\n",
    "#     print(name)\n",
    "#     print('---')\n",
    "#     ids = sim0.argsort()[::-1]\n",
    "#     print(ids)\n",
    "#     print(sims[ids])\n",
    "    return '- ' + name, np.max(sim0)\n",
    "#     print(dial.shape, bot.shape)"
   ]
  },
  {
   "cell_type": "code",
   "execution_count": 5,
   "metadata": {},
   "outputs": [],
   "source": [
    "# print(domain.intents)\n",
    "story_block = \"\"\"* request_hotel\n",
    "    - utter_ask_details\n",
    "* explain\n",
    "    - utter_explain_details_hotel\n",
    "    - utter_ask_details\n",
    "* chitchat\n",
    "    - utter_chitchat\n",
    "    - utter_ask_details\n",
    "* inform{\"enddate\": \"May 26th\"}\n",
    "    - slot{\"enddate\": \"May 26th\"}\n",
    "    - utter_ask_startdate\n",
    "* inform{\"startdate\": \"next week\"}\n",
    "    - slot{\"startdate\": \"next week\"}\n",
    "    - utter_ask_location\n",
    "* correct{\"startdate\": \"next week\"}\n",
    "    - slot{\"startdate\": \"next week\"}\n",
    "    - utter_correct_startdate_hotel\n",
    "    - utter_ask_location\n",
    "* explain\n",
    "    - utter_explain_location_hotel\n",
    "    - utter_ask_location\n",
    "* inform{\"location\": \"rome\"}\n",
    "    - slot{\"location\": \"rome\"}\n",
    "    - utter_ask_price\n",
    "* chitchat\n",
    "    - utter_chitchat\n",
    "    - utter_ask_price\n",
    "* chitchat\n",
    "    - utter_chitchat\n",
    "    - utter_ask_price\n",
    "* chitchat\n",
    "    - utter_chitchat\n",
    "    - utter_ask_price\n",
    "* chitchat\n",
    "    - utter_chitchat\n",
    "    - utter_ask_price\n",
    "* explain\n",
    "    - utter_explain_price_hotel\n",
    "    - utter_ask_price\n",
    "* inform{\"price\": \"expensive\"}\n",
    "    - utter_ask_people\n",
    "* inform{\"people\": \"4\"}\n",
    "    - utter_filled_slots\n",
    "    - action_search_hotel\n",
    "    - slot{\"hotel\": \"hotel\"}\n",
    "    - utter_suggest_hotel\n",
    "* chitchat\n",
    "    - utter_chitchat\n",
    "    - utter_suggest_hotel\n",
    "* affirm\n",
    "    - utter_happy\"\"\""
   ]
  },
  {
   "cell_type": "code",
   "execution_count": 6,
   "metadata": {},
   "outputs": [],
   "source": [
    "# story_block = \"\"\"* request_hotel\n",
    "#     - utter_ask_details\n",
    "# * inform{\"people\": \"2\"}\n",
    "#     - slot{\"people\": \"2\"}\n",
    "#     - utter_ask_location\n",
    "# * did_that_work\n",
    "#     - utter_more_info_hotel\n",
    "#     - utter_ask_location\n",
    "# * chitchat\n",
    "#     - utter_chitchat\n",
    "#     - utter_ask_location\n",
    "# * did_that_work\n",
    "#     - utter_more_info_hotel\n",
    "#     - utter_ask_location\n",
    "# * inform{\"location\": \"paris\"}\n",
    "#     - utter_ask_price\n",
    "# * inform{\"price\": \"expensive\"}\n",
    "#     - utter_ask_startdate\n",
    "# * inform{\"startdate\": \"10.03.2018\"}\n",
    "#     - utter_ask_enddate\n",
    "# * explain\n",
    "#     - utter_explain_enddate_hotel\n",
    "#     - utter_ask_enddate\n",
    "# * chitchat\n",
    "#     - utter_chitchat\n",
    "#     - utter_ask_enddate\n",
    "# * explain\n",
    "#     - utter_explain_enddate_hotel\n",
    "#     - utter_ask_enddate\n",
    "# * inform{\"enddate\": \"10.03.2018\"}\n",
    "#     - utter_filled_slots\n",
    "#     - action_search_hotel\n",
    "#     - slot{\"hotel\": \"hotel\"}\n",
    "#     - utter_suggest_hotel\n",
    "# * affirm\n",
    "#     - utter_happy\n",
    "# \"\"\""
   ]
  },
  {
   "cell_type": "code",
   "execution_count": 7,
   "metadata": {},
   "outputs": [
    {
     "name": "stdout",
     "output_type": "stream",
     "text": [
      "51\n",
      "29\n",
      "(20,)\n"
     ]
    }
   ],
   "source": [
    "print(len(story_block.split('\\n')))\n",
    "cool_list = []\n",
    "lines = story_block.split('\\n')\n",
    "for idx, line in enumerate(lines):\n",
    "    if idx == len(lines)-1:\n",
    "        continue\n",
    "    if '*' in lines[idx+1] or 'slot{' in lines[idx+1]:\n",
    "#     if 'slot{' in lines[idx+1]:\n",
    "        continue\n",
    "    sub_story = '\\n'.join(lines[:idx+1])\n",
    "    (dial, not_skip, attn, rnn, probs, sims\n",
    "    ) = embedding_from_tracker(\"#generate story\\n{}\".format(sub_story))\n",
    "    pred, sim = make_prediction(\"#generate story\\n{}\".format(sub_story))\n",
    "    cool_list.append((lines[idx+1].strip(), dial, (pred, sim, sims), not_skip, attn[-20:], rnn,\n",
    "                      probs[:20], probs[-20:]))\n",
    "\n",
    "print(len(cool_list))\n",
    "print(cool_list[0][4].shape)\n",
    "#     break\n",
    "# dial = embedding_from_tracker(\"#generate story\\n{}\".format(story_block)\n",
    "# )\n",
    "# print(dial.shape)\n",
    "# print(len(story_block.split('\\n')))"
   ]
  },
  {
   "cell_type": "code",
   "execution_count": 31,
   "metadata": {},
   "outputs": [
    {
     "data": {
      "text/plain": [
       "('- utter_suggest_hotel',\n",
       " array([ 0.089, -0.049,  0.038,  0.009, -0.175,  0.174, -0.05 ,  0.032,\n",
       "        -0.202, -0.052, -0.042,  0.166,  0.166,  0.047, -0.159, -0.225,\n",
       "         0.027,  0.13 , -0.164,  0.183], dtype=float32),\n",
       " ('- utter_suggest_hotel',\n",
       "  0.95272386,\n",
       "  array([-0.046, -0.251, -0.186, -0.177,  0.148, -0.016, -0.051,  0.094,\n",
       "          0.039, -0.081, -0.067, -0.017,  0.953,  0.103, -0.084, -0.244,\n",
       "         -0.059, -0.081, -0.242, -0.019, -0.2  , -0.093, -0.249, -0.038,\n",
       "         -0.241,  0.047, -0.285, -0.015, -0.026, -0.136, -0.159, -0.303,\n",
       "         -0.291, -0.171, -0.31 , -0.078, -0.256, -0.103, -0.13 , -0.1  ,\n",
       "         -0.349, -0.392, -0.175, -0.231], dtype=float32)),\n",
       " array([0.962, 0.953, 0.   , 1.   , 0.   ], dtype=float32),\n",
       " array([ 0.002,  0.01 ,  0.009, -0.01 , -0.046,  0.039, -0.026,  0.014,\n",
       "        -0.041, -0.002, -0.023,  0.032,  0.039,  0.018, -0.059, -0.077,\n",
       "         0.02 ,  0.031, -0.09 ,  0.029], dtype=float32),\n",
       " array([ 0.087, -0.058,  0.029,  0.019, -0.129,  0.135, -0.024,  0.018,\n",
       "        -0.16 , -0.051, -0.019,  0.135,  0.126,  0.03 , -0.1  , -0.147,\n",
       "         0.007,  0.098, -0.074,  0.155], dtype=float32),\n",
       " array([0.   , 0.017, 0.   , 0.012, 0.   , 0.   , 0.01 , 0.   , 0.   ,\n",
       "        0.023, 0.   , 0.024, 0.   , 0.007, 0.   , 0.   , 0.012, 0.   ,\n",
       "        0.   , 0.032], dtype=float32),\n",
       " array([0.002, 0.01 , 0.   , 0.002, 0.014, 0.   , 0.003, 0.024, 0.   ,\n",
       "        0.003, 0.007, 0.   , 0.006, 0.   , 0.044, 0.009, 0.453, 0.   ,\n",
       "        0.004, 0.   ], dtype=float32))"
      ]
     },
     "execution_count": 31,
     "metadata": {},
     "output_type": "execute_result"
    }
   ],
   "source": [
    "import copy\n",
    "\n",
    "# cool_list0 = copy.deepcopy(cool_list)\n",
    "cool_list[27]"
   ]
  },
  {
   "cell_type": "code",
   "execution_count": 9,
   "metadata": {},
   "outputs": [
    {
     "data": {
      "text/plain": [
       "('- utter_ask_price',\n",
       " array([ 0.008,  0.075, -0.154, -0.103, -0.026,  0.039,  0.018,  0.104,\n",
       "        -0.022,  0.04 ,  0.004, -0.051, -0.097, -0.082, -0.062, -0.06 ,\n",
       "         0.039, -0.072, -0.009, -0.2  ], dtype=float32),\n",
       " ('- utter_ask_price',\n",
       "  0.90243894,\n",
       "  array([-0.124, -0.054, -0.098, -0.009,  0.263,  0.127,  0.902, -0.136,\n",
       "          0.077, -0.014, -0.113, -0.12 , -0.205, -0.016, -0.486, -0.358,\n",
       "         -0.46 , -0.441, -0.327, -0.389, -0.294, -0.153, -0.139, -0.542,\n",
       "         -0.328,  0.075, -0.031,  0.062,  0.005,  0.148, -0.525, -0.347,\n",
       "         -0.342, -0.161, -0.137, -0.456, -0.31 , -0.651, -0.547,  0.021,\n",
       "         -0.055, -0.044,  0.047, -0.351], dtype=float32)),\n",
       " array([0.997, 0.902, 0.   , 1.   , 0.   ], dtype=float32),\n",
       " array([-0.013,  0.031, -0.122, -0.108, -0.038,  0.05 ,  0.051,  0.055,\n",
       "         0.023,  0.037, -0.003,  0.017, -0.081, -0.045, -0.087, -0.046,\n",
       "         0.027, -0.05 , -0.074, -0.149], dtype=float32),\n",
       " array([ 0.022,  0.044, -0.032,  0.005,  0.012, -0.011, -0.033,  0.049,\n",
       "        -0.045,  0.004,  0.007, -0.067, -0.016, -0.037,  0.024, -0.014,\n",
       "         0.012, -0.023,  0.065, -0.051], dtype=float32),\n",
       " array([0.   , 0.024, 0.   , 0.017, 0.   , 0.   , 0.014, 0.   , 0.   ,\n",
       "        0.033, 0.   , 0.033, 0.   , 0.009, 0.   , 0.   , 0.017, 0.   ,\n",
       "        0.   , 0.045], dtype=float32),\n",
       " array([0.   , 0.001, 0.014, 0.   , 0.004, 0.008, 0.   , 0.009, 0.   ,\n",
       "        0.004, 0.011, 0.   , 0.003, 0.094, 0.   , 0.013, 0.492, 0.   ,\n",
       "        0.006, 0.   ], dtype=float32))"
      ]
     },
     "execution_count": 9,
     "metadata": {},
     "output_type": "execute_result"
    }
   ],
   "source": [
    "# cool_list1= copy.deepcopy(cool_list)\n",
    "cool_list[19]"
   ]
  },
  {
   "cell_type": "code",
   "execution_count": 10,
   "metadata": {},
   "outputs": [
    {
     "data": {
      "text/plain": [
       "[<matplotlib.lines.Line2D at 0x1c24f8b240>]"
      ]
     },
     "execution_count": 10,
     "metadata": {},
     "output_type": "execute_result"
    }
   ],
   "source": [
    "import matplotlib.pyplot as plt\n",
    "plt.plot(cool_list[15][-2], marker='x')"
   ]
  },
  {
   "cell_type": "code",
   "execution_count": 11,
   "metadata": {},
   "outputs": [
    {
     "data": {
      "text/plain": [
       "[<matplotlib.lines.Line2D at 0x1c252756a0>]"
      ]
     },
     "execution_count": 11,
     "metadata": {},
     "output_type": "execute_result"
    },
    {
     "data": {
      "image/png": "[encoded data removed]",
      "text/plain": [
       "<matplotlib.figure.Figure at 0x1c250642e8>"
      ]
     },
     "metadata": {},
     "output_type": "display_data"
    }
   ],
   "source": [
    "plt.plot(cool_list[19][-2], marker='x')"
   ]
  },
  {
   "cell_type": "code",
   "execution_count": null,
   "metadata": {},
   "outputs": [],
   "source": []
  },
  {
   "cell_type": "code",
   "execution_count": null,
   "metadata": {},
   "outputs": [],
   "source": []
  },
  {
   "cell_type": "code",
   "execution_count": 12,
   "metadata": {},
   "outputs": [],
   "source": [
    "from sklearn.decomposition import PCA"
   ]
  },
  {
   "cell_type": "code",
   "execution_count": 13,
   "metadata": {},
   "outputs": [],
   "source": [
    "pca = PCA(n_components=2)\n",
    "X = pca.fit_transform([ting[1] for ting in cool_list])"
   ]
  },
  {
   "cell_type": "code",
   "execution_count": 14,
   "metadata": {},
   "outputs": [],
   "source": [
    "from bokeh.plotting import figure, show\n",
    "import matplotlib.pyplot as plt"
   ]
  },
  {
   "cell_type": "code",
   "execution_count": 15,
   "metadata": {},
   "outputs": [],
   "source": [
    "embed_dim = cool_list[0][1].shape[0]\n"
   ]
  },
  {
   "cell_type": "code",
   "execution_count": 16,
   "metadata": {},
   "outputs": [
    {
     "data": {
      "text/html": [
       "<div style=\"display: table;\"><div style=\"display: table-row;\"><div style=\"display: table-cell;\"><b title=\"bokeh.models.renderers.GlyphRenderer\">GlyphRenderer</b>(</div><div style=\"display: table-cell;\">id&nbsp;=&nbsp;'c5d66b4d-f272-4008-8554-229f36d1d5ce', <span id=\"ff328b86-1f49-4a5d-8197-ad9e7911dadd\" style=\"cursor: pointer;\">&hellip;)</span></div></div><div class=\"f244e40b-017a-43b9-b2e1-6a86215c85ce\" style=\"display: none;\"><div style=\"display: table-cell;\"></div><div style=\"display: table-cell;\">data_source&nbsp;=&nbsp;ColumnDataSource(id='0717cf48-bf0e-454c-8299-4bc0d6fc7d67', ...),</div></div><div class=\"f244e40b-017a-43b9-b2e1-6a86215c85ce\" style=\"display: none;\"><div style=\"display: table-cell;\"></div><div style=\"display: table-cell;\">glyph&nbsp;=&nbsp;Circle(id='dd7b2cad-dd01-4b99-934d-77086cc432c6', ...),</div></div><div class=\"f244e40b-017a-43b9-b2e1-6a86215c85ce\" style=\"display: none;\"><div style=\"display: table-cell;\"></div><div style=\"display: table-cell;\">hover_glyph&nbsp;=&nbsp;None,</div></div><div class=\"f244e40b-017a-43b9-b2e1-6a86215c85ce\" style=\"display: none;\"><div style=\"display: table-cell;\"></div><div style=\"display: table-cell;\">js_event_callbacks&nbsp;=&nbsp;{},</div></div><div class=\"f244e40b-017a-43b9-b2e1-6a86215c85ce\" style=\"display: none;\"><div style=\"display: table-cell;\"></div><div style=\"display: table-cell;\">js_property_callbacks&nbsp;=&nbsp;{},</div></div><div class=\"f244e40b-017a-43b9-b2e1-6a86215c85ce\" style=\"display: none;\"><div style=\"display: table-cell;\"></div><div style=\"display: table-cell;\">level&nbsp;=&nbsp;'glyph',</div></div><div class=\"f244e40b-017a-43b9-b2e1-6a86215c85ce\" style=\"display: none;\"><div style=\"display: table-cell;\"></div><div style=\"display: table-cell;\">muted&nbsp;=&nbsp;False,</div></div><div class=\"f244e40b-017a-43b9-b2e1-6a86215c85ce\" style=\"display: none;\"><div style=\"display: table-cell;\"></div><div style=\"display: table-cell;\">muted_glyph&nbsp;=&nbsp;None,</div></div><div class=\"f244e40b-017a-43b9-b2e1-6a86215c85ce\" style=\"display: none;\"><div style=\"display: table-cell;\"></div><div style=\"display: table-cell;\">name&nbsp;=&nbsp;None,</div></div><div class=\"f244e40b-017a-43b9-b2e1-6a86215c85ce\" style=\"display: none;\"><div style=\"display: table-cell;\"></div><div style=\"display: table-cell;\">nonselection_glyph&nbsp;=&nbsp;Circle(id='a0ab5549-6eb0-4a61-afc9-39062ca92a7b', ...),</div></div><div class=\"f244e40b-017a-43b9-b2e1-6a86215c85ce\" style=\"display: none;\"><div style=\"display: table-cell;\"></div><div style=\"display: table-cell;\">selection_glyph&nbsp;=&nbsp;None,</div></div><div class=\"f244e40b-017a-43b9-b2e1-6a86215c85ce\" style=\"display: none;\"><div style=\"display: table-cell;\"></div><div style=\"display: table-cell;\">subscribed_events&nbsp;=&nbsp;[],</div></div><div class=\"f244e40b-017a-43b9-b2e1-6a86215c85ce\" style=\"display: none;\"><div style=\"display: table-cell;\"></div><div style=\"display: table-cell;\">tags&nbsp;=&nbsp;[],</div></div><div class=\"f244e40b-017a-43b9-b2e1-6a86215c85ce\" style=\"display: none;\"><div style=\"display: table-cell;\"></div><div style=\"display: table-cell;\">view&nbsp;=&nbsp;CDSView(id='2d271d92-d267-4602-9458-2414c9b34546', ...),</div></div><div class=\"f244e40b-017a-43b9-b2e1-6a86215c85ce\" style=\"display: none;\"><div style=\"display: table-cell;\"></div><div style=\"display: table-cell;\">visible&nbsp;=&nbsp;True,</div></div><div class=\"f244e40b-017a-43b9-b2e1-6a86215c85ce\" style=\"display: none;\"><div style=\"display: table-cell;\"></div><div style=\"display: table-cell;\">x_range_name&nbsp;=&nbsp;'default',</div></div><div class=\"f244e40b-017a-43b9-b2e1-6a86215c85ce\" style=\"display: none;\"><div style=\"display: table-cell;\"></div><div style=\"display: table-cell;\">y_range_name&nbsp;=&nbsp;'default')</div></div></div>\n",
       "<script>\n",
       "(function() {\n",
       "  var expanded = false;\n",
       "  var ellipsis = document.getElementById(\"ff328b86-1f49-4a5d-8197-ad9e7911dadd\");\n",
       "  ellipsis.addEventListener(\"click\", function() {\n",
       "    var rows = document.getElementsByClassName(\"f244e40b-017a-43b9-b2e1-6a86215c85ce\");\n",
       "    for (var i = 0; i < rows.length; i++) {\n",
       "      var el = rows[i];\n",
       "      el.style.display = expanded ? \"none\" : \"table-row\";\n",
       "    }\n",
       "    ellipsis.innerHTML = expanded ? \"&hellip;)\" : \"&lsaquo;&lsaquo;&lsaquo;\";\n",
       "    expanded = !expanded;\n",
       "  });\n",
       "})();\n",
       "</script>\n"
      ],
      "text/plain": [
       "GlyphRenderer(id='c5d66b4d-f272-4008-8554-229f36d1d5ce', ...)"
      ]
     },
     "execution_count": 16,
     "metadata": {},
     "output_type": "execute_result"
    }
   ],
   "source": [
    "from bokeh.plotting import figure, output_file, show, ColumnDataSource\n",
    "from bokeh.models import HoverTool, Arrow, OpenHead\n",
    "\n",
    "hover = HoverTool(tooltips=[(\"true action\",\"@desc\"), (\"prediction\", \"@pred\"),\n",
    "                            (\"not_skip_gate\", \"@not_skip\")],names=['circle'])\n",
    "p = figure( tools=[hover])\n",
    "\n",
    "for i in range(1, len(X)):\n",
    "    p.add_layout(Arrow(end=OpenHead(line_color=\"firebrick\", size=10, line_width=2),\n",
    "                       x_start=X[i-1,0], y_start=X[i-1,1],\n",
    "                       x_end=X[i,0], y_end=X[i,1], line_color='gray'))\n",
    "\n",
    "source = ColumnDataSource(data=dict(\n",
    "    x=X[:,0],\n",
    "    y=X[:,1],\n",
    "    desc=[ting[0] for ting in cool_list],\n",
    "    pred = [ting[2][0] for ting in cool_list],\n",
    "    not_skip = [ting[3][-1] for ting in cool_list]\n",
    "))\n",
    "p.circle('x','y', source=source, size=10, name='circle')\n",
    "# p.line(X[:,0], X[:,1])\n",
    "\n",
    "X1 = pca.transform([ting[4] for ting in cool_list])\n",
    "source = ColumnDataSource(data=dict(\n",
    "    x=X1[:,0],\n",
    "    y=X1[:,1],\n",
    "    desc=[ting[0] for ting in cool_list],\n",
    "    pred = [ting[2][0] for ting in cool_list],\n",
    "    not_skip = [ting[3][-1] for ting in cool_list]\n",
    "))\n",
    "p.circle('x','y', source=source, size=5, color='green', name='circle')\n",
    "\n",
    "X2 = pca.transform([ting[5] for ting in cool_list])\n",
    "source = ColumnDataSource(data=dict(\n",
    "    x=X2[:,0],\n",
    "    y=X2[:,1],\n",
    "    desc=[ting[0] for ting in cool_list],\n",
    "    pred = [ting[2][0] for ting in cool_list],\n",
    "    not_skip = [ting[3][-1] for ting in cool_list]\n",
    "))\n",
    "p.circle('x','y', source=source, size=5, color='red', name='circle')\n",
    "\n",
    "x = pca.transform(np.zeros((1,embed_dim)))\n",
    "p.circle(x[0,0], x[0,1], size=5, color='magenta')\n",
    "p.circle(X[0,0], X[0,1], size=10, color='green')\n",
    "p.circle(X[-1,0], X[-1,1], size=10, color='red')\n"
   ]
  },
  {
   "cell_type": "code",
   "execution_count": 17,
   "metadata": {
    "scrolled": false
   },
   "outputs": [
    {
     "data": {
      "text/html": [
       "\n",
       "<div class=\"bk-root\">\n",
       "    <div class=\"bk-plotdiv\" id=\"6417cfeb-8d55-4dd5-b2dc-0f4cfb65b22e\"></div>\n",
       "</div>"
      ]
     },
     "metadata": {},
     "output_type": "display_data"
    },
    {
     "data": {
      "application/javascript": [
       "(function(root) {\n",
       "  function embed_document(root) {\n",
       "    \n",
       "  var docs_json = {\"df94348f-eca4-4885-abd6-68319e3de02e\":{\"roots\":{\"references\":[{\"attributes\":{\"fill_alpha\":{\"value\":0.1},\"fill_color\":{\"value\":\"#1f77b4\"},\"line_alpha\":{\"value\":0.1},\"line_color\":{\"value\":\"#1f77b4\"},\"size\":{\"units\":\"screen\",\"value\":10},\"x\":{\"field\":\"x\"},\"y\":{\"field\":\"y\"}},\"id\":\"288a9ac7-4e75-4774-9d77-c8d942b67b2b\",\"type\":\"Circle\"},{\"attributes\":{\"line_color\":{\"value\":\"firebrick\"},\"line_width\":{\"value\":2},\"plot\":null,\"size\":10},\"id\":\"ed787cb4-7f65-45b9-a22b-c25148fa6fbc\",\"type\":\"OpenHead\"},{\"attributes\":{\"end\":{\"id\":\"8c6e4f59-cce4-4911-a30d-7799490b941b\",\"type\":\"OpenHead\"},\"line_color\":{\"value\":\"gray\"},\"plot\":{\"id\":\"347ab833-a443-4459-b311-0c8692793c11\",\"subtype\":\"Figure\",\"type\":\"Plot\"},\"source\":null,\"start\":null,\"x_end\":{\"value\":-0.3805565241904119},\"x_start\":{\"value\":0.02905640531580811},\"y_end\":{\"value\":0.10540252086984231},\"y_start\":{\"value\":-0.2549101256491246}},\"id\":\"6e531212-41e4-4b24-aaa4-a9cd13b72d7f\",\"type\":\"Arrow\"},{\"attributes\":{\"line_color\":{\"value\":\"firebrick\"},\"line_width\":{\"value\":2},\"plot\":null,\"size\":10},\"id\":\"bff4cd54-155b-4da8-98b6-1037415da493\",\"type\":\"OpenHead\"},{\"attributes\":{\"fill_color\":{\"value\":\"red\"},\"line_color\":{\"value\":\"red\"},\"size\":{\"units\":\"screen\",\"value\":5},\"x\":{\"field\":\"x\"},\"y\":{\"field\":\"y\"}},\"id\":\"a1ec1416-05b7-4a4e-824d-d92ed5ceb123\",\"type\":\"Circle\"},{\"attributes\":{\"source\":{\"id\":\"49432e78-fee7-49d0-ac29-2a202ae5ac72\",\"type\":\"ColumnDataSource\"}},\"id\":\"3e9f8f7d-44a0-4a7a-8fdd-30bc030c881f\",\"type\":\"CDSView\"},{\"attributes\":{\"end\":{\"id\":\"ed787cb4-7f65-45b9-a22b-c25148fa6fbc\",\"type\":\"OpenHead\"},\"line_color\":{\"value\":\"gray\"},\"plot\":{\"id\":\"347ab833-a443-4459-b311-0c8692793c11\",\"subtype\":\"Figure\",\"type\":\"Plot\"},\"source\":null,\"start\":null,\"x_end\":{\"value\":0.02914260745900814},\"x_start\":{\"value\":-0.3805565241904119},\"y_end\":{\"value\":-0.24985271009534893},\"y_start\":{\"value\":0.10540252086984231}},\"id\":\"9ce6940e-ddc8-4bde-9678-38df7b610fb3\",\"type\":\"Arrow\"},{\"attributes\":{\"line_color\":{\"value\":\"firebrick\"},\"line_width\":{\"value\":2},\"plot\":null,\"size\":10},\"id\":\"6c27c0c6-77ae-473d-a381-ba69ccf3dbd7\",\"type\":\"OpenHead\"},{\"attributes\":{\"end\":{\"id\":\"bff4cd54-155b-4da8-98b6-1037415da493\",\"type\":\"OpenHead\"},\"line_color\":{\"value\":\"gray\"},\"plot\":{\"id\":\"347ab833-a443-4459-b311-0c8692793c11\",\"subtype\":\"Figure\",\"type\":\"Plot\"},\"source\":null,\"start\":null,\"x_end\":{\"value\":-0.04278218138082326},\"x_start\":{\"value\":0.02914260745900814},\"y_end\":{\"value\":-0.022171252890457994},\"y_start\":{\"value\":-0.24985271009534893}},\"id\":\"337fc054-279b-4c21-807f-3fa1f8bab318\",\"type\":\"Arrow\"},{\"attributes\":{\"line_color\":{\"value\":\"firebrick\"},\"line_width\":{\"value\":2},\"plot\":null,\"size\":10},\"id\":\"5754d56c-5495-4624-abdb-3c0ecbf191c1\",\"type\":\"OpenHead\"},{\"attributes\":{\"end\":{\"id\":\"6c27c0c6-77ae-473d-a381-ba69ccf3dbd7\",\"type\":\"OpenHead\"},\"line_color\":{\"value\":\"gray\"},\"plot\":{\"id\":\"347ab833-a443-4459-b311-0c8692793c11\",\"subtype\":\"Figure\",\"type\":\"Plot\"},\"source\":null,\"start\":null,\"x_end\":{\"value\":0.031472042469468366},\"x_start\":{\"value\":-0.04278218138082326},\"y_end\":{\"value\":-0.32819433995120073},\"y_start\":{\"value\":-0.022171252890457994}},\"id\":\"35b3ebe5-ad95-4b7b-8db8-9e2df1ff3d47\",\"type\":\"Arrow\"},{\"attributes\":{\"line_color\":{\"value\":\"firebrick\"},\"line_width\":{\"value\":2},\"plot\":null,\"size\":10},\"id\":\"7b1e37c3-13a9-4157-8184-c24245a80f0a\",\"type\":\"OpenHead\"},{\"attributes\":{\"end\":{\"id\":\"5754d56c-5495-4624-abdb-3c0ecbf191c1\",\"type\":\"OpenHead\"},\"line_color\":{\"value\":\"gray\"},\"plot\":{\"id\":\"347ab833-a443-4459-b311-0c8692793c11\",\"subtype\":\"Figure\",\"type\":\"Plot\"},\"source\":null,\"start\":null,\"x_end\":{\"value\":0.03765355907090482},\"x_start\":{\"value\":0.031472042469468366},\"y_end\":{\"value\":0.005031913232679683},\"y_start\":{\"value\":-0.32819433995120073}},\"id\":\"e3355d5e-d8aa-4e9a-b770-ebfdba22f0dd\",\"type\":\"Arrow\"},{\"attributes\":{\"line_color\":{\"value\":\"firebrick\"},\"line_width\":{\"value\":2},\"plot\":null,\"size\":10},\"id\":\"74249e7d-ea2d-4c03-921a-83104eb22477\",\"type\":\"OpenHead\"},{\"attributes\":{\"end\":{\"id\":\"7b1e37c3-13a9-4157-8184-c24245a80f0a\",\"type\":\"OpenHead\"},\"line_color\":{\"value\":\"gray\"},\"plot\":{\"id\":\"347ab833-a443-4459-b311-0c8692793c11\",\"subtype\":\"Figure\",\"type\":\"Plot\"},\"source\":null,\"start\":null,\"x_end\":{\"value\":0.058576871988579186},\"x_start\":{\"value\":0.03765355907090482},\"y_end\":{\"value\":0.08619872373255343},\"y_start\":{\"value\":0.005031913232679683}},\"id\":\"a3f42c25-375a-4abd-8772-0ff3ffca206e\",\"type\":\"Arrow\"},{\"attributes\":{\"line_color\":{\"value\":\"firebrick\"},\"line_width\":{\"value\":2},\"plot\":null,\"size\":10},\"id\":\"793701a9-f05c-4209-9006-ff2b22c4e267\",\"type\":\"OpenHead\"},{\"attributes\":{\"end\":{\"id\":\"74249e7d-ea2d-4c03-921a-83104eb22477\",\"type\":\"OpenHead\"},\"line_color\":{\"value\":\"gray\"},\"plot\":{\"id\":\"347ab833-a443-4459-b311-0c8692793c11\",\"subtype\":\"Figure\",\"type\":\"Plot\"},\"source\":null,\"start\":null,\"x_end\":{\"value\":-0.265161236500666},\"x_start\":{\"value\":0.058576871988579186},\"y_end\":{\"value\":-0.1027498052560122},\"y_start\":{\"value\":0.08619872373255343}},\"id\":\"c310b04a-d3ac-4975-933c-7a399be2b271\",\"type\":\"Arrow\"},{\"attributes\":{\"line_color\":{\"value\":\"firebrick\"},\"line_width\":{\"value\":2},\"plot\":null,\"size\":10},\"id\":\"7296979d-d384-4a2a-961c-0e648fcac339\",\"type\":\"OpenHead\"},{\"attributes\":{\"end\":{\"id\":\"793701a9-f05c-4209-9006-ff2b22c4e267\",\"type\":\"OpenHead\"},\"line_color\":{\"value\":\"gray\"},\"plot\":{\"id\":\"347ab833-a443-4459-b311-0c8692793c11\",\"subtype\":\"Figure\",\"type\":\"Plot\"},\"source\":null,\"start\":null,\"x_end\":{\"value\":0.4321514539484079},\"x_start\":{\"value\":-0.265161236500666},\"y_end\":{\"value\":0.43725194230878817},\"y_start\":{\"value\":-0.1027498052560122}},\"id\":\"f3f1d100-94c8-401b-bac4-66c1215feece\",\"type\":\"Arrow\"},{\"attributes\":{\"line_color\":{\"value\":\"firebrick\"},\"line_width\":{\"value\":2},\"plot\":null,\"size\":10},\"id\":\"f4b718f1-7582-4911-bb35-e9ef8385f850\",\"type\":\"OpenHead\"},{\"attributes\":{\"end\":{\"id\":\"7296979d-d384-4a2a-961c-0e648fcac339\",\"type\":\"OpenHead\"},\"line_color\":{\"value\":\"gray\"},\"plot\":{\"id\":\"347ab833-a443-4459-b311-0c8692793c11\",\"subtype\":\"Figure\",\"type\":\"Plot\"},\"source\":null,\"start\":null,\"x_end\":{\"value\":-0.27990555025988323},\"x_start\":{\"value\":0.4321514539484079},\"y_end\":{\"value\":0.12805750454219536},\"y_start\":{\"value\":0.43725194230878817}},\"id\":\"3df56e9a-e861-4df7-9718-d3a32f19260c\",\"type\":\"Arrow\"},{\"attributes\":{\"line_color\":{\"value\":\"firebrick\"},\"line_width\":{\"value\":2},\"plot\":null,\"size\":10},\"id\":\"c0f74198-68ee-448c-843b-ccd90ed0607e\",\"type\":\"OpenHead\"},{\"attributes\":{\"below\":[{\"id\":\"253cd694-93b6-48fd-9f60-b4c90422d560\",\"type\":\"LinearAxis\"}],\"left\":[{\"id\":\"ad05a489-8844-4769-be78-cf30b7f1f3e7\",\"type\":\"LinearAxis\"}],\"renderers\":[{\"id\":\"253cd694-93b6-48fd-9f60-b4c90422d560\",\"type\":\"LinearAxis\"},{\"id\":\"273fbdb8-090f-44a2-9f21-d06ef754a753\",\"type\":\"Grid\"},{\"id\":\"ad05a489-8844-4769-be78-cf30b7f1f3e7\",\"type\":\"LinearAxis\"},{\"id\":\"fcb80b30-ff0a-4983-b9d1-3523834c2df5\",\"type\":\"Grid\"},{\"id\":\"15acef01-e7ad-44e9-99f9-a3c561c2662a\",\"type\":\"Arrow\"},{\"id\":\"cab1f7c8-aef3-4ff0-b259-b8851870a6af\",\"type\":\"Arrow\"},{\"id\":\"01b8bf87-b94d-490a-b0f8-5c9643b56ecb\",\"type\":\"Arrow\"},{\"id\":\"eab6fd5a-d262-4947-85ca-62eac437ecd6\",\"type\":\"Arrow\"},{\"id\":\"cf1c117d-4ad6-42ea-99a4-e4bb8c39becd\",\"type\":\"Arrow\"},{\"id\":\"ddb4367d-fa94-4767-ae80-484c44304ecb\",\"type\":\"Arrow\"},{\"id\":\"6ac8f21d-1b94-403e-8280-d9fe6910e3c8\",\"type\":\"Arrow\"},{\"id\":\"c7ac06af-202f-4a92-80f4-9c956f444136\",\"type\":\"Arrow\"},{\"id\":\"ad4d455d-3bdf-475a-9766-b4452120b796\",\"type\":\"Arrow\"},{\"id\":\"9a24fd37-932c-4a25-abf7-37e2c1a67017\",\"type\":\"Arrow\"},{\"id\":\"65c1922c-a821-47c5-b95b-5ea9489c3405\",\"type\":\"Arrow\"},{\"id\":\"0bcb76e4-4369-42c2-9211-560b04cec1cb\",\"type\":\"Arrow\"},{\"id\":\"497e8dea-2f4d-4e72-bc5a-f0bde9ca5a6e\",\"type\":\"Arrow\"},{\"id\":\"05190aa1-917f-4cbc-9ded-eaa4063cd5b2\",\"type\":\"Arrow\"},{\"id\":\"e2ded1dd-c58e-474b-9e68-c7a618d8d249\",\"type\":\"Arrow\"},{\"id\":\"411f427b-4968-4ec1-85dc-42c8e3bc8f8e\",\"type\":\"Arrow\"},{\"id\":\"a2051f56-ebea-42ff-b524-0f31028a5545\",\"type\":\"Arrow\"},{\"id\":\"6e531212-41e4-4b24-aaa4-a9cd13b72d7f\",\"type\":\"Arrow\"},{\"id\":\"9ce6940e-ddc8-4bde-9678-38df7b610fb3\",\"type\":\"Arrow\"},{\"id\":\"337fc054-279b-4c21-807f-3fa1f8bab318\",\"type\":\"Arrow\"},{\"id\":\"35b3ebe5-ad95-4b7b-8db8-9e2df1ff3d47\",\"type\":\"Arrow\"},{\"id\":\"e3355d5e-d8aa-4e9a-b770-ebfdba22f0dd\",\"type\":\"Arrow\"},{\"id\":\"a3f42c25-375a-4abd-8772-0ff3ffca206e\",\"type\":\"Arrow\"},{\"id\":\"c310b04a-d3ac-4975-933c-7a399be2b271\",\"type\":\"Arrow\"},{\"id\":\"f3f1d100-94c8-401b-bac4-66c1215feece\",\"type\":\"Arrow\"},{\"id\":\"3df56e9a-e861-4df7-9718-d3a32f19260c\",\"type\":\"Arrow\"},{\"id\":\"5cd19452-3c07-4073-a1bf-678aa016510d\",\"type\":\"Arrow\"},{\"id\":\"a30f3cf9-ead4-49e7-9532-01b7d6250e08\",\"type\":\"Arrow\"},{\"id\":\"865269fa-5224-4481-812e-05d711a403bf\",\"type\":\"GlyphRenderer\"},{\"id\":\"de144473-8478-40f2-9097-3485cf891e97\",\"type\":\"GlyphRenderer\"},{\"id\":\"8e79de32-6c44-4d9d-a42f-e08e14cf64cc\",\"type\":\"GlyphRenderer\"},{\"id\":\"518ec73b-d460-4ba1-8f3c-030cf1a6fc8a\",\"type\":\"GlyphRenderer\"},{\"id\":\"20a5c39f-cd62-4a96-af0d-e4d3913d4d88\",\"type\":\"GlyphRenderer\"},{\"id\":\"c5d66b4d-f272-4008-8554-229f36d1d5ce\",\"type\":\"GlyphRenderer\"}],\"title\":{\"id\":\"ebac63c2-0cfc-462e-861c-f1681b7dabf7\",\"type\":\"Title\"},\"toolbar\":{\"id\":\"ec430f4a-32f2-44bb-9ad0-3feebb1e64bf\",\"type\":\"Toolbar\"},\"x_range\":{\"id\":\"d1eda359-b651-40bb-a301-32ea08063dcf\",\"type\":\"DataRange1d\"},\"x_scale\":{\"id\":\"4d46a418-9539-4247-b273-2e0b3bd527d3\",\"type\":\"LinearScale\"},\"y_range\":{\"id\":\"f5b4630c-dbd9-469f-9509-4d1594a9096a\",\"type\":\"DataRange1d\"},\"y_scale\":{\"id\":\"3e36dee7-84ac-498b-991d-42d75417f810\",\"type\":\"LinearScale\"}},\"id\":\"347ab833-a443-4459-b311-0c8692793c11\",\"subtype\":\"Figure\",\"type\":\"Plot\"},{\"attributes\":{\"end\":{\"id\":\"f4b718f1-7582-4911-bb35-e9ef8385f850\",\"type\":\"OpenHead\"},\"line_color\":{\"value\":\"gray\"},\"plot\":{\"id\":\"347ab833-a443-4459-b311-0c8692793c11\",\"subtype\":\"Figure\",\"type\":\"Plot\"},\"source\":null,\"start\":null,\"x_end\":{\"value\":0.37054299755170195},\"x_start\":{\"value\":-0.27990555025988323},\"y_end\":{\"value\":0.32989097781934273},\"y_start\":{\"value\":0.12805750454219536}},\"id\":\"5cd19452-3c07-4073-a1bf-678aa016510d\",\"type\":\"Arrow\"},{\"attributes\":{\"fill_color\":{\"value\":\"#1f77b4\"},\"line_color\":{\"value\":\"#1f77b4\"},\"size\":{\"units\":\"screen\",\"value\":10},\"x\":{\"field\":\"x\"},\"y\":{\"field\":\"y\"}},\"id\":\"bf9f3bfb-84e4-4dc4-96da-2fe4b90e0c66\",\"type\":\"Circle\"},{\"attributes\":{\"callback\":null,\"names\":[\"circle\"],\"tooltips\":[[\"true action\",\"@desc\"],[\"prediction\",\"@pred\"],[\"not_skip_gate\",\"@not_skip\"]]},\"id\":\"e6398bc9-3e47-433d-a1cc-ff3bd7156280\",\"type\":\"HoverTool\"},{\"attributes\":{\"end\":{\"id\":\"c0f74198-68ee-448c-843b-ccd90ed0607e\",\"type\":\"OpenHead\"},\"line_color\":{\"value\":\"gray\"},\"plot\":{\"id\":\"347ab833-a443-4459-b311-0c8692793c11\",\"subtype\":\"Figure\",\"type\":\"Plot\"},\"source\":null,\"start\":null,\"x_end\":{\"value\":0.3708714345834348},\"x_start\":{\"value\":0.37054299755170195},\"y_end\":{\"value\":-0.015025144481799394},\"y_start\":{\"value\":0.32989097781934273}},\"id\":\"a30f3cf9-ead4-49e7-9532-01b7d6250e08\",\"type\":\"Arrow\"},{\"attributes\":{\"line_color\":{\"value\":\"firebrick\"},\"line_width\":{\"value\":2},\"plot\":null,\"size\":10},\"id\":\"57ea10ad-6ab6-49a4-9284-0eb82d79ccc9\",\"type\":\"OpenHead\"},{\"attributes\":{},\"id\":\"3e36dee7-84ac-498b-991d-42d75417f810\",\"type\":\"LinearScale\"},{\"attributes\":{\"end\":{\"id\":\"57ea10ad-6ab6-49a4-9284-0eb82d79ccc9\",\"type\":\"OpenHead\"},\"line_color\":{\"value\":\"gray\"},\"plot\":{\"id\":\"347ab833-a443-4459-b311-0c8692793c11\",\"subtype\":\"Figure\",\"type\":\"Plot\"},\"source\":null,\"start\":null,\"x_end\":{\"value\":0.014002850883277566},\"x_start\":{\"value\":0.0931300660718028},\"y_end\":{\"value\":0.12183172910549814},\"y_start\":{\"value\":0.08760349099838793}},\"id\":\"15acef01-e7ad-44e9-99f9-a3c561c2662a\",\"type\":\"Arrow\"},{\"attributes\":{\"data_source\":{\"id\":\"49432e78-fee7-49d0-ac29-2a202ae5ac72\",\"type\":\"ColumnDataSource\"},\"glyph\":{\"id\":\"bf9f3bfb-84e4-4dc4-96da-2fe4b90e0c66\",\"type\":\"Circle\"},\"hover_glyph\":null,\"muted_glyph\":null,\"name\":\"circle\",\"nonselection_glyph\":{\"id\":\"288a9ac7-4e75-4774-9d77-c8d942b67b2b\",\"type\":\"Circle\"},\"selection_glyph\":null,\"view\":{\"id\":\"3e9f8f7d-44a0-4a7a-8fdd-30bc030c881f\",\"type\":\"CDSView\"}},\"id\":\"865269fa-5224-4481-812e-05d711a403bf\",\"type\":\"GlyphRenderer\"},{\"attributes\":{\"data_source\":{\"id\":\"2b531bdf-3c4a-4d7d-b10f-e33905d85789\",\"type\":\"ColumnDataSource\"},\"glyph\":{\"id\":\"f154498f-7e74-49d1-be53-af5dd59a4d13\",\"type\":\"Circle\"},\"hover_glyph\":null,\"muted_glyph\":null,\"name\":\"circle\",\"nonselection_glyph\":{\"id\":\"86bac7a2-8062-4c69-a846-7793e764e077\",\"type\":\"Circle\"},\"selection_glyph\":null,\"view\":{\"id\":\"f720056f-801b-4014-8eb0-ed88e08e9dd7\",\"type\":\"CDSView\"}},\"id\":\"de144473-8478-40f2-9097-3485cf891e97\",\"type\":\"GlyphRenderer\"},{\"attributes\":{},\"id\":\"f85490f7-b9ff-4a67-bacc-b8657e2e869c\",\"type\":\"BasicTickFormatter\"},{\"attributes\":{},\"id\":\"523d14a1-bb0c-42fd-953e-34728f7608b8\",\"type\":\"BasicTickFormatter\"},{\"attributes\":{\"callback\":null,\"column_names\":[\"x\",\"y\",\"desc\",\"pred\",\"not_skip\"],\"data\":{\"desc\":[\"- utter_ask_details\",\"- utter_explain_details_hotel\",\"- utter_ask_details\",\"- utter_chitchat\",\"- utter_ask_details\",\"- utter_ask_startdate\",\"- utter_ask_location\",\"- utter_correct_startdate_hotel\",\"- utter_ask_location\",\"- utter_explain_location_hotel\",\"- utter_ask_location\",\"- utter_ask_price\",\"- utter_chitchat\",\"- utter_ask_price\",\"- utter_chitchat\",\"- utter_ask_price\",\"- utter_chitchat\",\"- utter_ask_price\",\"- utter_chitchat\",\"- utter_ask_price\",\"- utter_explain_price_hotel\",\"- utter_ask_price\",\"- utter_ask_people\",\"- utter_filled_slots\",\"- action_search_hotel\",\"- utter_suggest_hotel\",\"- utter_chitchat\",\"- utter_suggest_hotel\",\"- utter_happy\"],\"not_skip\":[1.0,1.0,0.0,1.0,0.0,1.0,1.0,1.0,0.0,1.0,0.0,1.0,1.0,0.0,1.0,0.0,1.0,0.0,1.0,0.0,1.0,0.0,1.0,1.0,1.0,1.0,1.0,0.0,1.0],\"pred\":[\"- utter_ask_details\",\"- utter_explain_people_hotel\",\"- utter_ask_details\",\"- utter_chitchat\",\"- utter_ask_details\",\"- utter_ask_startdate\",\"- utter_ask_location\",\"- utter_correct_startdate_hotel\",\"- utter_ask_location\",\"- utter_explain_location_hotel\",\"- utter_ask_location\",\"- utter_ask_price\",\"- utter_chitchat\",\"- utter_ask_price\",\"- utter_chitchat\",\"- utter_ask_price\",\"- utter_chitchat\",\"- utter_ask_price\",\"- utter_chitchat\",\"- utter_ask_price\",\"- utter_explain_price_hotel\",\"- utter_ask_price\",\"- utter_ask_people\",\"- utter_filled_slots\",\"- action_search_hotel\",\"- utter_suggest_hotel\",\"- utter_chitchat\",\"- utter_suggest_hotel\",\"- utter_happy\"],\"x\":{\"__ndarray__\":\"jH4NPF/Xtz+8asHUhq2MP9/TmX6T7bU/P7GTDsNY0b/82DKs+DC5P9T+dp5UycE/Sp3qeKeTwD9JTfGaweQiv0BcShURGMQ/SgAviifMk78znH4BsNjGP++EWwZt4qU/4REu7bYW17/F+cI+V36gP1OXgcFXPNe/p1UdzWBHnT/dHDHXiwbYv+BpSFr2wJ0/GVhrwAlb2L9tkNNHj9edP5Osw8uL56W/xRRKghodoD99OJPJU0ejP89g/KrJ/a0/bfy71Wb40L8QJWiSXqjbP/9xFfj46dG/fsQP+vm21z/5nKOKW7zXPw==\",\"dtype\":\"float64\",\"shape\":[29]},\"y\":{\"__ndarray__\":\"aH/asC5ttj8KjR88XTC/P1SO6bZ0wcU/B+tMFY4yuz8SvKcEt6S3P75PcM+9JrA/qsMZ0hekwL9qj10XRxrYPxLCmLztftK/uNiBHIIFlD/FYP62BrjSv+MwzHXZvMy/ACgepEqWuT+Jg5O4L8HQv/qOEYG7zbk/sbi+4P7B0L86kQG8PUu6P29DRY9yUNC/TEsN3Kj7uj9Ql1ZxLPvPv+quTZgPtJa/Vqc01SIB1b/jqFTsV5x0P79kY5seEbY/ebQ+rc9Nur/QCRWS7/vbP5UPAjUwZMA/wrA+DO8c1T/PBVbBgMWOvw==\",\"dtype\":\"float64\",\"shape\":[29]}},\"selected\":null,\"selection_policy\":null},\"id\":\"49432e78-fee7-49d0-ac29-2a202ae5ac72\",\"type\":\"ColumnDataSource\"},{\"attributes\":{\"active_drag\":\"auto\",\"active_inspect\":\"auto\",\"active_scroll\":\"auto\",\"active_tap\":\"auto\",\"tools\":[{\"id\":\"e6398bc9-3e47-433d-a1cc-ff3bd7156280\",\"type\":\"HoverTool\"}]},\"id\":\"ec430f4a-32f2-44bb-9ad0-3feebb1e64bf\",\"type\":\"Toolbar\"},{\"attributes\":{\"plot\":null,\"text\":\"\"},\"id\":\"ebac63c2-0cfc-462e-861c-f1681b7dabf7\",\"type\":\"Title\"},{\"attributes\":{\"callback\":null},\"id\":\"f5b4630c-dbd9-469f-9509-4d1594a9096a\",\"type\":\"DataRange1d\"},{\"attributes\":{\"source\":{\"id\":\"2b531bdf-3c4a-4d7d-b10f-e33905d85789\",\"type\":\"ColumnDataSource\"}},\"id\":\"f720056f-801b-4014-8eb0-ed88e08e9dd7\",\"type\":\"CDSView\"},{\"attributes\":{\"callback\":null},\"id\":\"d1eda359-b651-40bb-a301-32ea08063dcf\",\"type\":\"DataRange1d\"},{\"attributes\":{\"line_color\":{\"value\":\"firebrick\"},\"line_width\":{\"value\":2},\"plot\":null,\"size\":10},\"id\":\"2d4f83ab-0357-4fd7-af4c-37f80b6bc422\",\"type\":\"OpenHead\"},{\"attributes\":{\"fill_alpha\":{\"value\":0.1},\"fill_color\":{\"value\":\"#1f77b4\"},\"line_alpha\":{\"value\":0.1},\"line_color\":{\"value\":\"#1f77b4\"},\"size\":{\"units\":\"screen\",\"value\":5},\"x\":{\"field\":\"x\"},\"y\":{\"field\":\"y\"}},\"id\":\"86bac7a2-8062-4c69-a846-7793e764e077\",\"type\":\"Circle\"},{\"attributes\":{\"data_source\":{\"id\":\"423e2029-32f0-4e63-9086-a84987721995\",\"type\":\"ColumnDataSource\"},\"glyph\":{\"id\":\"a1ec1416-05b7-4a4e-824d-d92ed5ceb123\",\"type\":\"Circle\"},\"hover_glyph\":null,\"muted_glyph\":null,\"name\":\"circle\",\"nonselection_glyph\":{\"id\":\"1d1d97e0-dee8-497f-9036-e87f12e4d7e4\",\"type\":\"Circle\"},\"selection_glyph\":null,\"view\":{\"id\":\"51cb200a-bb52-4af3-b07c-9048c3875c29\",\"type\":\"CDSView\"}},\"id\":\"8e79de32-6c44-4d9d-a42f-e08e14cf64cc\",\"type\":\"GlyphRenderer\"},{\"attributes\":{\"formatter\":{\"id\":\"f85490f7-b9ff-4a67-bacc-b8657e2e869c\",\"type\":\"BasicTickFormatter\"},\"plot\":{\"id\":\"347ab833-a443-4459-b311-0c8692793c11\",\"subtype\":\"Figure\",\"type\":\"Plot\"},\"ticker\":{\"id\":\"cba97696-5b17-4836-a5b9-d269b3e77bcd\",\"type\":\"BasicTicker\"}},\"id\":\"253cd694-93b6-48fd-9f60-b4c90422d560\",\"type\":\"LinearAxis\"},{\"attributes\":{\"fill_color\":{\"value\":\"green\"},\"line_color\":{\"value\":\"green\"},\"size\":{\"units\":\"screen\",\"value\":5},\"x\":{\"field\":\"x\"},\"y\":{\"field\":\"y\"}},\"id\":\"f154498f-7e74-49d1-be53-af5dd59a4d13\",\"type\":\"Circle\"},{\"attributes\":{},\"id\":\"4d46a418-9539-4247-b273-2e0b3bd527d3\",\"type\":\"LinearScale\"},{\"attributes\":{\"callback\":null,\"column_names\":[\"x\",\"y\",\"desc\",\"pred\",\"not_skip\"],\"data\":{\"desc\":[\"- utter_ask_details\",\"- utter_explain_details_hotel\",\"- utter_ask_details\",\"- utter_chitchat\",\"- utter_ask_details\",\"- utter_ask_startdate\",\"- utter_ask_location\",\"- utter_correct_startdate_hotel\",\"- utter_ask_location\",\"- utter_explain_location_hotel\",\"- utter_ask_location\",\"- utter_ask_price\",\"- utter_chitchat\",\"- utter_ask_price\",\"- utter_chitchat\",\"- utter_ask_price\",\"- utter_chitchat\",\"- utter_ask_price\",\"- utter_chitchat\",\"- utter_ask_price\",\"- utter_explain_price_hotel\",\"- utter_ask_price\",\"- utter_ask_people\",\"- utter_filled_slots\",\"- action_search_hotel\",\"- utter_suggest_hotel\",\"- utter_chitchat\",\"- utter_suggest_hotel\",\"- utter_happy\"],\"not_skip\":[1.0,1.0,0.0,1.0,0.0,1.0,1.0,1.0,0.0,1.0,0.0,1.0,1.0,0.0,1.0,0.0,1.0,0.0,1.0,0.0,1.0,0.0,1.0,1.0,1.0,1.0,1.0,0.0,1.0],\"pred\":[\"- utter_ask_details\",\"- utter_explain_people_hotel\",\"- utter_ask_details\",\"- utter_chitchat\",\"- utter_ask_details\",\"- utter_ask_startdate\",\"- utter_ask_location\",\"- utter_correct_startdate_hotel\",\"- utter_ask_location\",\"- utter_explain_location_hotel\",\"- utter_ask_location\",\"- utter_ask_price\",\"- utter_chitchat\",\"- utter_ask_price\",\"- utter_chitchat\",\"- utter_ask_price\",\"- utter_chitchat\",\"- utter_ask_price\",\"- utter_chitchat\",\"- utter_ask_price\",\"- utter_explain_price_hotel\",\"- utter_ask_price\",\"- utter_ask_people\",\"- utter_filled_slots\",\"- action_search_hotel\",\"- utter_suggest_hotel\",\"- utter_chitchat\",\"- utter_suggest_hotel\",\"- utter_happy\"],\"x\":{\"__ndarray__\":\"1OR+u+KkrD8+J0RJCq6sP8nj/Y5eDrs/+3ZpWlqOrD9xz3ipqsm2P2YTZFRAaqo/T7vezBbTqT917w0xnGOoP+ulYmzzt8E/1pg8724Crj9kbsXRwa/BPwzawQ2xLqw/voyJ+NVmqz82fT39Pf+0PwkkP50inqg/VYbopg42tD/I6plQnFKnPx8h72UNFrQ/SIopWgLTpj/aePSmsNKzP2Yyt4cCSac/VEn6hfWuuT+6EBbADRusP9DkYcvd86k/7Jga/L0EmT+AlVWfBF2mPxjzNiTT8ac/Z2LROQEnwT9nBrUynm6oPw==\",\"dtype\":\"float64\",\"shape\":[29]},\"y\":{\"__ndarray__\":\"WOSOOQ3HmD/DB+qoTeSYPz8gM8cJiro/qnje+c67mT+BWIWMAtq2P1qPJpQrmJ4/GJcxQeoAoD+Kt6vAtmWhP3Db/+DGpsm/rhKVo7/mlD8CgX9sNYrJv2vCGiLonZo/JnMKD65vmz+U4bdy1gXGvzKxoO5RVJ0/yqOLOQcwxr+oovt5dIecP7sLVHeis8W/cDpIFlNxnD/uyvR930DFv5H2mH/nT1O//3bJKPx70r/RHyAMIUyZP20SJVryrJo/U2A5hCU2ZD+iiy/UIiicvxOhg6FNvpk/7RlHyM4Dtz/vHteXZj+VPw==\",\"dtype\":\"float64\",\"shape\":[29]}},\"selected\":null,\"selection_policy\":null},\"id\":\"2b531bdf-3c4a-4d7d-b10f-e33905d85789\",\"type\":\"ColumnDataSource\"},{\"attributes\":{},\"id\":\"cba97696-5b17-4836-a5b9-d269b3e77bcd\",\"type\":\"BasicTicker\"},{\"attributes\":{\"plot\":{\"id\":\"347ab833-a443-4459-b311-0c8692793c11\",\"subtype\":\"Figure\",\"type\":\"Plot\"},\"ticker\":{\"id\":\"cba97696-5b17-4836-a5b9-d269b3e77bcd\",\"type\":\"BasicTicker\"}},\"id\":\"273fbdb8-090f-44a2-9f21-d06ef754a753\",\"type\":\"Grid\"},{\"attributes\":{\"source\":{\"id\":\"423e2029-32f0-4e63-9086-a84987721995\",\"type\":\"ColumnDataSource\"}},\"id\":\"51cb200a-bb52-4af3-b07c-9048c3875c29\",\"type\":\"CDSView\"},{\"attributes\":{\"formatter\":{\"id\":\"523d14a1-bb0c-42fd-953e-34728f7608b8\",\"type\":\"BasicTickFormatter\"},\"plot\":{\"id\":\"347ab833-a443-4459-b311-0c8692793c11\",\"subtype\":\"Figure\",\"type\":\"Plot\"},\"ticker\":{\"id\":\"e25d2161-9667-4d24-bf82-9efe7aa0e609\",\"type\":\"BasicTicker\"}},\"id\":\"ad05a489-8844-4769-be78-cf30b7f1f3e7\",\"type\":\"LinearAxis\"},{\"attributes\":{\"callback\":null,\"column_names\":[\"x\",\"y\",\"desc\",\"pred\",\"not_skip\"],\"data\":{\"desc\":[\"- utter_ask_details\",\"- utter_explain_details_hotel\",\"- utter_ask_details\",\"- utter_chitchat\",\"- utter_ask_details\",\"- utter_ask_startdate\",\"- utter_ask_location\",\"- utter_correct_startdate_hotel\",\"- utter_ask_location\",\"- utter_explain_location_hotel\",\"- utter_ask_location\",\"- utter_ask_price\",\"- utter_chitchat\",\"- utter_ask_price\",\"- utter_chitchat\",\"- utter_ask_price\",\"- utter_chitchat\",\"- utter_ask_price\",\"- utter_chitchat\",\"- utter_ask_price\",\"- utter_explain_price_hotel\",\"- utter_ask_price\",\"- utter_ask_people\",\"- utter_filled_slots\",\"- action_search_hotel\",\"- utter_suggest_hotel\",\"- utter_chitchat\",\"- utter_suggest_hotel\",\"- utter_happy\"],\"not_skip\":[1.0,1.0,0.0,1.0,0.0,1.0,1.0,1.0,0.0,1.0,0.0,1.0,1.0,0.0,1.0,0.0,1.0,0.0,1.0,0.0,1.0,0.0,1.0,1.0,1.0,1.0,1.0,0.0,1.0],\"pred\":[\"- utter_ask_details\",\"- utter_explain_people_hotel\",\"- utter_ask_details\",\"- utter_chitchat\",\"- utter_ask_details\",\"- utter_ask_startdate\",\"- utter_ask_location\",\"- utter_correct_startdate_hotel\",\"- utter_ask_location\",\"- utter_explain_location_hotel\",\"- utter_ask_location\",\"- utter_ask_price\",\"- utter_chitchat\",\"- utter_ask_price\",\"- utter_chitchat\",\"- utter_ask_price\",\"- utter_chitchat\",\"- utter_ask_price\",\"- utter_chitchat\",\"- utter_ask_price\",\"- utter_explain_price_hotel\",\"- utter_ask_price\",\"- utter_ask_people\",\"- utter_filled_slots\",\"- action_search_hotel\",\"- utter_suggest_hotel\",\"- utter_chitchat\",\"- utter_suggest_hotel\",\"- utter_happy\"],\"x\":{\"__ndarray__\":\"j34NPF/Xtz8IpFSP6IiMPwNK4q5MY6I/ryXdAvJV0b+wjzpmv7mwP0LyrDv9V8I/u6jmaxpIwT8N1JkxhrmAP0Y7Jb6sErM/layiBkCHlr9LFLW4TaS4PyjhinaeWKY/TqplXPXu1r+YZ36z7yV5P8Ao/MR/u9a/TY43AK/jdj8qT7cKQ1zXv0RmYOMYyno/hqi0t82g17/6x++MSFp/P2dXJ6yri6C/L5aPLLdvir/4SAS6KNGjP5fh5VJnV7A/+ikntCzozb+/4kVcWnHcP/1wwwSXU9G/+tYDshW40j/jUpUaJEPYPw==\",\"dtype\":\"float64\",\"shape\":[29]},\"y\":{\"__ndarray__\":\"bX/asC5ttj80gZ4VDSm/P6LKdAejKrc/aonFqF31uj9dF94f3/GbP1K/XHLsZK0/OpG4tHCLwb/h2xwSAXrXPxDQO/tlfLC/IePRm8/llz84cU557Jmxv8tBFNy098y/cCxnfCLsuD9IyemxTsewv04n8llqqrg/KYWqtil2sL+RC4/2I1u5Pyws5wWEUa+/gOkzXxcRuj9+1P0+rYWuv4O7pUniP2o/Srh+6rsWj790dA1vCIhyP75Lz1Kll7U/IuARmL29tL+k/B+O4krfP/ZdLRxIRcA/Ca48MGzo0D8y498UM7aHvw==\",\"dtype\":\"float64\",\"shape\":[29]}},\"selected\":null,\"selection_policy\":null},\"id\":\"423e2029-32f0-4e63-9086-a84987721995\",\"type\":\"ColumnDataSource\"},{\"attributes\":{},\"id\":\"e25d2161-9667-4d24-bf82-9efe7aa0e609\",\"type\":\"BasicTicker\"},{\"attributes\":{\"dimension\":1,\"plot\":{\"id\":\"347ab833-a443-4459-b311-0c8692793c11\",\"subtype\":\"Figure\",\"type\":\"Plot\"},\"ticker\":{\"id\":\"e25d2161-9667-4d24-bf82-9efe7aa0e609\",\"type\":\"BasicTicker\"}},\"id\":\"fcb80b30-ff0a-4983-b9d1-3523834c2df5\",\"type\":\"Grid\"},{\"attributes\":{\"fill_alpha\":{\"value\":0.1},\"fill_color\":{\"value\":\"#1f77b4\"},\"line_alpha\":{\"value\":0.1},\"line_color\":{\"value\":\"#1f77b4\"},\"size\":{\"units\":\"screen\",\"value\":5},\"x\":{\"field\":\"x\"},\"y\":{\"field\":\"y\"}},\"id\":\"1d1d97e0-dee8-497f-9036-e87f12e4d7e4\",\"type\":\"Circle\"},{\"attributes\":{\"end\":{\"id\":\"a97759c9-c373-491d-9de0-e2a5508c3aa2\",\"type\":\"OpenHead\"},\"line_color\":{\"value\":\"gray\"},\"plot\":{\"id\":\"347ab833-a443-4459-b311-0c8692793c11\",\"subtype\":\"Figure\",\"type\":\"Plot\"},\"source\":null,\"start\":null,\"x_end\":{\"value\":0.02905640531580811},\"x_start\":{\"value\":-0.3753995515330198},\"y_end\":{\"value\":-0.2549101256491246},\"y_start\":{\"value\":0.10271058883660525}},\"id\":\"a2051f56-ebea-42ff-b524-0f31028a5545\",\"type\":\"Arrow\"},{\"attributes\":{\"callback\":null,\"data\":{},\"selected\":null,\"selection_policy\":null},\"id\":\"00842943-6833-441c-a814-3aeb0409e158\",\"type\":\"ColumnDataSource\"},{\"attributes\":{\"line_color\":{\"value\":\"firebrick\"},\"line_width\":{\"value\":2},\"plot\":null,\"size\":10},\"id\":\"7fd73d40-daee-4112-ba16-81ea8ab6c487\",\"type\":\"OpenHead\"},{\"attributes\":{\"fill_color\":{\"value\":\"magenta\"},\"line_color\":{\"value\":\"magenta\"},\"size\":{\"units\":\"screen\",\"value\":5},\"x\":{\"value\":0.05594547785535445},\"y\":{\"value\":0.02419682182128144}},\"id\":\"814d1bb4-a9a2-476d-8d21-3c2771745f2d\",\"type\":\"Circle\"},{\"attributes\":{\"line_color\":{\"value\":\"firebrick\"},\"line_width\":{\"value\":2},\"plot\":null,\"size\":10},\"id\":\"8c6e4f59-cce4-4911-a30d-7799490b941b\",\"type\":\"OpenHead\"},{\"attributes\":{\"callback\":null,\"data\":{},\"selected\":null,\"selection_policy\":null},\"id\":\"eb58ced8-a1f9-4790-8916-79f52f85b515\",\"type\":\"ColumnDataSource\"},{\"attributes\":{\"end\":{\"id\":\"d8187662-4202-443e-a7d9-23808a888ec9\",\"type\":\"OpenHead\"},\"line_color\":{\"value\":\"gray\"},\"plot\":{\"id\":\"347ab833-a443-4459-b311-0c8692793c11\",\"subtype\":\"Figure\",\"type\":\"Plot\"},\"source\":null,\"start\":null,\"x_end\":{\"value\":-0.3753995515330198},\"x_start\":{\"value\":0.028592598456574383},\"y_end\":{\"value\":0.10271058883660525},\"y_start\":{\"value\":-0.2618405527854391}},\"id\":\"411f427b-4968-4ec1-85dc-42c8e3bc8f8e\",\"type\":\"Arrow\"},{\"attributes\":{\"fill_alpha\":{\"value\":0.1},\"fill_color\":{\"value\":\"#1f77b4\"},\"line_alpha\":{\"value\":0.1},\"line_color\":{\"value\":\"#1f77b4\"},\"size\":{\"units\":\"screen\",\"value\":5},\"x\":{\"value\":0.05594547785535445},\"y\":{\"value\":0.02419682182128144}},\"id\":\"a059b3a1-cbb6-4c45-b6d0-d2d8ee416085\",\"type\":\"Circle\"},{\"attributes\":{\"end\":{\"id\":\"2d4f83ab-0357-4fd7-af4c-37f80b6bc422\",\"type\":\"OpenHead\"},\"line_color\":{\"value\":\"gray\"},\"plot\":{\"id\":\"347ab833-a443-4459-b311-0c8692793c11\",\"subtype\":\"Figure\",\"type\":\"Plot\"},\"source\":null,\"start\":null,\"x_end\":{\"value\":0.08565637436716099},\"x_start\":{\"value\":0.014002850883277566},\"y_end\":{\"value\":0.169966306030903},\"y_start\":{\"value\":0.12183172910549814}},\"id\":\"cab1f7c8-aef3-4ff0-b259-b8851870a6af\",\"type\":\"Arrow\"},{\"attributes\":{\"source\":{\"id\":\"eb58ced8-a1f9-4790-8916-79f52f85b515\",\"type\":\"ColumnDataSource\"}},\"id\":\"f6a5bdfe-0c17-4b46-b58f-0195525f3353\",\"type\":\"CDSView\"},{\"attributes\":{\"data_source\":{\"id\":\"eb58ced8-a1f9-4790-8916-79f52f85b515\",\"type\":\"ColumnDataSource\"},\"glyph\":{\"id\":\"814d1bb4-a9a2-476d-8d21-3c2771745f2d\",\"type\":\"Circle\"},\"hover_glyph\":null,\"muted_glyph\":null,\"nonselection_glyph\":{\"id\":\"a059b3a1-cbb6-4c45-b6d0-d2d8ee416085\",\"type\":\"Circle\"},\"selection_glyph\":null,\"view\":{\"id\":\"f6a5bdfe-0c17-4b46-b58f-0195525f3353\",\"type\":\"CDSView\"}},\"id\":\"518ec73b-d460-4ba1-8f3c-030cf1a6fc8a\",\"type\":\"GlyphRenderer\"},{\"attributes\":{\"line_color\":{\"value\":\"firebrick\"},\"line_width\":{\"value\":2},\"plot\":null,\"size\":10},\"id\":\"8787163b-5357-47a8-abf3-15330f04a39a\",\"type\":\"OpenHead\"},{\"attributes\":{\"end\":{\"id\":\"7fd73d40-daee-4112-ba16-81ea8ab6c487\",\"type\":\"OpenHead\"},\"line_color\":{\"value\":\"gray\"},\"plot\":{\"id\":\"347ab833-a443-4459-b311-0c8692793c11\",\"subtype\":\"Figure\",\"type\":\"Plot\"},\"source\":null,\"start\":null,\"x_end\":{\"value\":-0.27104259894874255},\"x_start\":{\"value\":0.08565637436716099},\"y_end\":{\"value\":0.1062401582720832},\"y_start\":{\"value\":0.169966306030903}},\"id\":\"01b8bf87-b94d-490a-b0f8-5c9643b56ecb\",\"type\":\"Arrow\"},{\"attributes\":{\"data_source\":{\"id\":\"00842943-6833-441c-a814-3aeb0409e158\",\"type\":\"ColumnDataSource\"},\"glyph\":{\"id\":\"df3cbed6-7395-435c-aa4c-169c732869c4\",\"type\":\"Circle\"},\"hover_glyph\":null,\"muted_glyph\":null,\"nonselection_glyph\":{\"id\":\"308237e1-56f5-4633-b7dc-93d69b3b060a\",\"type\":\"Circle\"},\"selection_glyph\":null,\"view\":{\"id\":\"6721e177-91bf-426b-b4ed-d5ffc7a5d788\",\"type\":\"CDSView\"}},\"id\":\"20a5c39f-cd62-4a96-af0d-e4d3913d4d88\",\"type\":\"GlyphRenderer\"},{\"attributes\":{\"line_color\":{\"value\":\"firebrick\"},\"line_width\":{\"value\":2},\"plot\":null,\"size\":10},\"id\":\"b671087f-fd49-4fc9-bf59-c254a0957eeb\",\"type\":\"OpenHead\"},{\"attributes\":{\"callback\":null,\"data\":{},\"selected\":null,\"selection_policy\":null},\"id\":\"0717cf48-bf0e-454c-8299-4bc0d6fc7d67\",\"type\":\"ColumnDataSource\"},{\"attributes\":{\"end\":{\"id\":\"8787163b-5357-47a8-abf3-15330f04a39a\",\"type\":\"OpenHead\"},\"line_color\":{\"value\":\"gray\"},\"plot\":{\"id\":\"347ab833-a443-4459-b311-0c8692793c11\",\"subtype\":\"Figure\",\"type\":\"Plot\"},\"source\":null,\"start\":null,\"x_end\":{\"value\":0.09840349392002062},\"x_start\":{\"value\":-0.27104259894874255},\"y_end\":{\"value\":0.09235710014012025},\"y_start\":{\"value\":0.1062401582720832}},\"id\":\"eab6fd5a-d262-4947-85ca-62eac437ecd6\",\"type\":\"Arrow\"},{\"attributes\":{\"fill_color\":{\"value\":\"green\"},\"line_color\":{\"value\":\"green\"},\"size\":{\"units\":\"screen\",\"value\":10},\"x\":{\"value\":0.0931300660718028},\"y\":{\"value\":0.08760349099838793}},\"id\":\"df3cbed6-7395-435c-aa4c-169c732869c4\",\"type\":\"Circle\"},{\"attributes\":{\"line_color\":{\"value\":\"firebrick\"},\"line_width\":{\"value\":2},\"plot\":null,\"size\":10},\"id\":\"a5dba983-7f6c-48a8-85bb-380c30245ba4\",\"type\":\"OpenHead\"},{\"attributes\":{\"source\":{\"id\":\"00842943-6833-441c-a814-3aeb0409e158\",\"type\":\"ColumnDataSource\"}},\"id\":\"6721e177-91bf-426b-b4ed-d5ffc7a5d788\",\"type\":\"CDSView\"},{\"attributes\":{\"end\":{\"id\":\"b671087f-fd49-4fc9-bf59-c254a0957eeb\",\"type\":\"OpenHead\"},\"line_color\":{\"value\":\"gray\"},\"plot\":{\"id\":\"347ab833-a443-4459-b311-0c8692793c11\",\"subtype\":\"Figure\",\"type\":\"Plot\"},\"source\":null,\"start\":null,\"x_end\":{\"value\":0.13895662057438207},\"x_start\":{\"value\":0.09840349392002062},\"y_end\":{\"value\":0.06309114756032749},\"y_start\":{\"value\":0.09235710014012025}},\"id\":\"cf1c117d-4ad6-42ea-99a4-e4bb8c39becd\",\"type\":\"Arrow\"},{\"attributes\":{\"fill_alpha\":{\"value\":0.1},\"fill_color\":{\"value\":\"#1f77b4\"},\"line_alpha\":{\"value\":0.1},\"line_color\":{\"value\":\"#1f77b4\"},\"size\":{\"units\":\"screen\",\"value\":10},\"x\":{\"value\":0.0931300660718028},\"y\":{\"value\":0.08760349099838793}},\"id\":\"308237e1-56f5-4633-b7dc-93d69b3b060a\",\"type\":\"Circle\"},{\"attributes\":{\"data_source\":{\"id\":\"0717cf48-bf0e-454c-8299-4bc0d6fc7d67\",\"type\":\"ColumnDataSource\"},\"glyph\":{\"id\":\"dd7b2cad-dd01-4b99-934d-77086cc432c6\",\"type\":\"Circle\"},\"hover_glyph\":null,\"muted_glyph\":null,\"nonselection_glyph\":{\"id\":\"a0ab5549-6eb0-4a61-afc9-39062ca92a7b\",\"type\":\"Circle\"},\"selection_glyph\":null,\"view\":{\"id\":\"2d271d92-d267-4602-9458-2414c9b34546\",\"type\":\"CDSView\"}},\"id\":\"c5d66b4d-f272-4008-8554-229f36d1d5ce\",\"type\":\"GlyphRenderer\"},{\"attributes\":{\"line_color\":{\"value\":\"firebrick\"},\"line_width\":{\"value\":2},\"plot\":null,\"size\":10},\"id\":\"8de605f1-8f08-49e8-8fe2-19ebe96115db\",\"type\":\"OpenHead\"},{\"attributes\":{\"end\":{\"id\":\"a5dba983-7f6c-48a8-85bb-380c30245ba4\",\"type\":\"OpenHead\"},\"line_color\":{\"value\":\"gray\"},\"plot\":{\"id\":\"347ab833-a443-4459-b311-0c8692793c11\",\"subtype\":\"Figure\",\"type\":\"Plot\"},\"source\":null,\"start\":null,\"x_end\":{\"value\":0.12950604824184558},\"x_start\":{\"value\":0.13895662057438207},\"y_end\":{\"value\":-0.13000772246189501},\"y_start\":{\"value\":0.06309114756032749}},\"id\":\"ddb4367d-fa94-4767-ae80-484c44304ecb\",\"type\":\"Arrow\"},{\"attributes\":{\"line_color\":{\"value\":\"firebrick\"},\"line_width\":{\"value\":2},\"plot\":null,\"size\":10},\"id\":\"acb9e7cb-35d7-4240-a831-cc0a0d06c9f9\",\"type\":\"OpenHead\"},{\"attributes\":{\"fill_color\":{\"value\":\"red\"},\"line_color\":{\"value\":\"red\"},\"size\":{\"units\":\"screen\",\"value\":10},\"x\":{\"value\":0.3708714345834348},\"y\":{\"value\":-0.015025144481799394}},\"id\":\"dd7b2cad-dd01-4b99-934d-77086cc432c6\",\"type\":\"Circle\"},{\"attributes\":{\"end\":{\"id\":\"8de605f1-8f08-49e8-8fe2-19ebe96115db\",\"type\":\"OpenHead\"},\"line_color\":{\"value\":\"gray\"},\"plot\":{\"id\":\"347ab833-a443-4459-b311-0c8692793c11\",\"subtype\":\"Figure\",\"type\":\"Plot\"},\"source\":null,\"start\":null,\"x_end\":{\"value\":-0.00014414656968373744},\"x_start\":{\"value\":0.12950604824184558},\"y_end\":{\"value\":0.3766038635424055},\"y_start\":{\"value\":-0.13000772246189501}},\"id\":\"6ac8f21d-1b94-403e-8280-d9fe6910e3c8\",\"type\":\"Arrow\"},{\"attributes\":{\"source\":{\"id\":\"0717cf48-bf0e-454c-8299-4bc0d6fc7d67\",\"type\":\"ColumnDataSource\"}},\"id\":\"2d271d92-d267-4602-9458-2414c9b34546\",\"type\":\"CDSView\"},{\"attributes\":{\"line_color\":{\"value\":\"firebrick\"},\"line_width\":{\"value\":2},\"plot\":null,\"size\":10},\"id\":\"5c6a97b9-5208-4f47-a522-649286a9e722\",\"type\":\"OpenHead\"},{\"attributes\":{\"fill_alpha\":{\"value\":0.1},\"fill_color\":{\"value\":\"#1f77b4\"},\"line_alpha\":{\"value\":0.1},\"line_color\":{\"value\":\"#1f77b4\"},\"size\":{\"units\":\"screen\",\"value\":10},\"x\":{\"value\":0.3708714345834348},\"y\":{\"value\":-0.015025144481799394}},\"id\":\"a0ab5549-6eb0-4a61-afc9-39062ca92a7b\",\"type\":\"Circle\"},{\"attributes\":{\"end\":{\"id\":\"acb9e7cb-35d7-4240-a831-cc0a0d06c9f9\",\"type\":\"OpenHead\"},\"line_color\":{\"value\":\"gray\"},\"plot\":{\"id\":\"347ab833-a443-4459-b311-0c8692793c11\",\"subtype\":\"Figure\",\"type\":\"Plot\"},\"source\":null,\"start\":null,\"x_end\":{\"value\":0.1569844583470701},\"x_start\":{\"value\":-0.00014414656968373744},\"y_end\":{\"value\":-0.2889971105351218},\"y_start\":{\"value\":0.3766038635424055}},\"id\":\"c7ac06af-202f-4a92-80f4-9c956f444136\",\"type\":\"Arrow\"},{\"attributes\":{\"line_color\":{\"value\":\"firebrick\"},\"line_width\":{\"value\":2},\"plot\":null,\"size\":10},\"id\":\"e67f42b8-cd28-4f7d-90e6-78d7d02613e7\",\"type\":\"OpenHead\"},{\"attributes\":{\"end\":{\"id\":\"5c6a97b9-5208-4f47-a522-649286a9e722\",\"type\":\"OpenHead\"},\"line_color\":{\"value\":\"gray\"},\"plot\":{\"id\":\"347ab833-a443-4459-b311-0c8692793c11\",\"subtype\":\"Figure\",\"type\":\"Plot\"},\"source\":null,\"start\":null,\"x_end\":{\"value\":-0.019333474930818086},\"x_start\":{\"value\":0.1569844583470701},\"y_end\":{\"value\":0.01955226229662152},\"y_start\":{\"value\":-0.2889971105351218}},\"id\":\"ad4d455d-3bdf-475a-9766-b4452120b796\",\"type\":\"Arrow\"},{\"attributes\":{\"line_color\":{\"value\":\"firebrick\"},\"line_width\":{\"value\":2},\"plot\":null,\"size\":10},\"id\":\"4934da73-b9b7-4656-9c81-21800cb63383\",\"type\":\"OpenHead\"},{\"attributes\":{\"end\":{\"id\":\"e67f42b8-cd28-4f7d-90e6-78d7d02613e7\",\"type\":\"OpenHead\"},\"line_color\":{\"value\":\"gray\"},\"plot\":{\"id\":\"347ab833-a443-4459-b311-0c8692793c11\",\"subtype\":\"Figure\",\"type\":\"Plot\"},\"source\":null,\"start\":null,\"x_end\":{\"value\":0.17848777840592475},\"x_start\":{\"value\":-0.019333474930818086},\"y_end\":{\"value\":-0.292482069687605},\"y_start\":{\"value\":0.01955226229662152}},\"id\":\"9a24fd37-932c-4a25-abf7-37e2c1a67017\",\"type\":\"Arrow\"},{\"attributes\":{\"line_color\":{\"value\":\"firebrick\"},\"line_width\":{\"value\":2},\"plot\":null,\"size\":10},\"id\":\"9ef76164-a8b3-46a6-9aef-27768d975981\",\"type\":\"OpenHead\"},{\"attributes\":{\"end\":{\"id\":\"4934da73-b9b7-4656-9c81-21800cb63383\",\"type\":\"OpenHead\"},\"line_color\":{\"value\":\"gray\"},\"plot\":{\"id\":\"347ab833-a443-4459-b311-0c8692793c11\",\"subtype\":\"Figure\",\"type\":\"Plot\"},\"source\":null,\"start\":null,\"x_end\":{\"value\":0.042743117357312836},\"x_start\":{\"value\":0.17848777840592475},\"y_end\":{\"value\":-0.22451322795712433},\"y_start\":{\"value\":-0.292482069687605}},\"id\":\"65c1922c-a821-47c5-b95b-5ea9489c3405\",\"type\":\"Arrow\"},{\"attributes\":{\"line_color\":{\"value\":\"firebrick\"},\"line_width\":{\"value\":2},\"plot\":null,\"size\":10},\"id\":\"512b0039-e17a-4312-a7a0-554b2b7dbac5\",\"type\":\"OpenHead\"},{\"attributes\":{\"end\":{\"id\":\"9ef76164-a8b3-46a6-9aef-27768d975981\",\"type\":\"OpenHead\"},\"line_color\":{\"value\":\"gray\"},\"plot\":{\"id\":\"347ab833-a443-4459-b311-0c8692793c11\",\"subtype\":\"Figure\",\"type\":\"Plot\"},\"source\":null,\"start\":null,\"x_end\":{\"value\":-0.36076138650994777},\"x_start\":{\"value\":0.042743117357312836},\"y_end\":{\"value\":0.09994951731474089},\"y_start\":{\"value\":-0.22451322795712433}},\"id\":\"0bcb76e4-4369-42c2-9211-560b04cec1cb\",\"type\":\"Arrow\"},{\"attributes\":{\"line_color\":{\"value\":\"firebrick\"},\"line_width\":{\"value\":2},\"plot\":null,\"size\":10},\"id\":\"9ef27647-768a-475b-89bd-d0b941ff6770\",\"type\":\"OpenHead\"},{\"attributes\":{\"end\":{\"id\":\"512b0039-e17a-4312-a7a0-554b2b7dbac5\",\"type\":\"OpenHead\"},\"line_color\":{\"value\":\"gray\"},\"plot\":{\"id\":\"347ab833-a443-4459-b311-0c8692793c11\",\"subtype\":\"Figure\",\"type\":\"Plot\"},\"source\":null,\"start\":null,\"x_end\":{\"value\":0.03221390381939985},\"x_start\":{\"value\":-0.36076138650994777},\"y_end\":{\"value\":-0.2617911627294736},\"y_start\":{\"value\":0.09994951731474089}},\"id\":\"497e8dea-2f4d-4e72-bc5a-f0bde9ca5a6e\",\"type\":\"Arrow\"},{\"attributes\":{\"line_color\":{\"value\":\"firebrick\"},\"line_width\":{\"value\":2},\"plot\":null,\"size\":10},\"id\":\"329ab291-d1dd-4666-95de-076e0ba5acee\",\"type\":\"OpenHead\"},{\"attributes\":{\"end\":{\"id\":\"9ef27647-768a-475b-89bd-d0b941ff6770\",\"type\":\"OpenHead\"},\"line_color\":{\"value\":\"gray\"},\"plot\":{\"id\":\"347ab833-a443-4459-b311-0c8692793c11\",\"subtype\":\"Figure\",\"type\":\"Plot\"},\"source\":null,\"start\":null,\"x_end\":{\"value\":-0.36305803200808845},\"x_start\":{\"value\":0.03221390381939985},\"y_end\":{\"value\":0.1007954778775079},\"y_start\":{\"value\":-0.2617911627294736}},\"id\":\"05190aa1-917f-4cbc-9ded-eaa4063cd5b2\",\"type\":\"Arrow\"},{\"attributes\":{\"line_color\":{\"value\":\"firebrick\"},\"line_width\":{\"value\":2},\"plot\":null,\"size\":10},\"id\":\"d8187662-4202-443e-a7d9-23808a888ec9\",\"type\":\"OpenHead\"},{\"attributes\":{\"end\":{\"id\":\"329ab291-d1dd-4666-95de-076e0ba5acee\",\"type\":\"OpenHead\"},\"line_color\":{\"value\":\"gray\"},\"plot\":{\"id\":\"347ab833-a443-4459-b311-0c8692793c11\",\"subtype\":\"Figure\",\"type\":\"Plot\"},\"source\":null,\"start\":null,\"x_end\":{\"value\":0.028592598456574383},\"x_start\":{\"value\":-0.36305803200808845},\"y_end\":{\"value\":-0.2618405527854391},\"y_start\":{\"value\":0.1007954778775079}},\"id\":\"e2ded1dd-c58e-474b-9e68-c7a618d8d249\",\"type\":\"Arrow\"},{\"attributes\":{\"line_color\":{\"value\":\"firebrick\"},\"line_width\":{\"value\":2},\"plot\":null,\"size\":10},\"id\":\"a97759c9-c373-491d-9de0-e2a5508c3aa2\",\"type\":\"OpenHead\"}],\"root_ids\":[\"347ab833-a443-4459-b311-0c8692793c11\"]},\"title\":\"Bokeh Application\",\"version\":\"0.12.15\"}};\n",
       "  var render_items = [{\"docid\":\"df94348f-eca4-4885-abd6-68319e3de02e\",\"elementid\":\"6417cfeb-8d55-4dd5-b2dc-0f4cfb65b22e\",\"modelid\":\"347ab833-a443-4459-b311-0c8692793c11\"}];\n",
       "  root.Bokeh.embed.embed_items_notebook(docs_json, render_items);\n",
       "\n",
       "  }\n",
       "  if (root.Bokeh !== undefined) {\n",
       "    embed_document(root);\n",
       "  } else {\n",
       "    var attempts = 0;\n",
       "    var timer = setInterval(function(root) {\n",
       "      if (root.Bokeh !== undefined) {\n",
       "        embed_document(root);\n",
       "        clearInterval(timer);\n",
       "      }\n",
       "      attempts++;\n",
       "      if (attempts > 100) {\n",
       "        console.log(\"Bokeh: ERROR: Unable to run BokehJS code because BokehJS library is missing\")\n",
       "        clearInterval(timer);\n",
       "      }\n",
       "    }, 10, root)\n",
       "  }\n",
       "})(window);"
      ],
      "application/vnd.bokehjs_exec.v0+json": ""
     },
     "metadata": {
      "application/vnd.bokehjs_exec.v0+json": {
       "id": "347ab833-a443-4459-b311-0c8692793c11"
      }
     },
     "output_type": "display_data"
    }
   ],
   "source": [
    "show(p)"
   ]
  },
  {
   "cell_type": "code",
   "execution_count": null,
   "metadata": {},
   "outputs": [],
   "source": []
  },
  {
   "cell_type": "code",
   "execution_count": 18,
   "metadata": {},
   "outputs": [
    {
     "name": "stdout",
     "output_type": "stream",
     "text": [
      "utter_ask_price --> 6\n",
      "utter_ask_details --> 28\n",
      "utter_ask_people --> 4\n",
      "utter_explain_details_hotel --> 14\n",
      "utter_explain_people_hotel --> 19\n",
      "utter_explain_price_hotel --> 21\n",
      "utter_ask_location --> 5\n",
      "utter_explain_location_hotel --> 17\n",
      "utter_ask_startdate --> 7\n",
      "utter_suggest_hotel --> 12\n",
      "action_search_hotel --> 42\n",
      "action_listen --> 0\n"
     ]
    }
   ],
   "source": [
    "print('utter_ask_price', '-->', domain.index_for_action('utter_ask_price'))\n",
    "print('utter_ask_details', '-->', domain.index_for_action('utter_ask_details'))\n",
    "print('utter_ask_people', '-->', domain.index_for_action('utter_ask_people'))\n",
    "print('utter_explain_details_hotel', '-->', domain.index_for_action('utter_explain_details_hotel'))\n",
    "print('utter_explain_people_hotel', '-->', domain.index_for_action('utter_explain_people_hotel'))\n",
    "print('utter_explain_price_hotel', '-->', domain.index_for_action('utter_explain_price_hotel'))\n",
    "print('utter_ask_location', '-->', domain.index_for_action('utter_ask_location'))\n",
    "print('utter_explain_location_hotel', '-->', domain.index_for_action('utter_explain_location_hotel'))\n",
    "print('utter_ask_startdate', '-->', domain.index_for_action('utter_ask_startdate'))\n",
    "print('utter_suggest_hotel', '-->', domain.index_for_action('utter_suggest_hotel'))\n",
    "print('action_search_hotel', '-->', domain.index_for_action('action_search_hotel'))\n",
    "print('action_listen', '-->', domain.index_for_action('action_listen'))"
   ]
  },
  {
   "cell_type": "code",
   "execution_count": 19,
   "metadata": {},
   "outputs": [
    {
     "data": {
      "text/plain": [
       "(20,)"
      ]
     },
     "execution_count": 19,
     "metadata": {},
     "output_type": "execute_result"
    }
   ],
   "source": [
    "utter_price = embedding_from_tracker(\"#generate story\\n{}\".format(story_block), bot=True)[0,-1,5,:]\n",
    "utter_price.shape"
   ]
  },
  {
   "cell_type": "code",
   "execution_count": 20,
   "metadata": {},
   "outputs": [
    {
     "name": "stdout",
     "output_type": "stream",
     "text": [
      "(20,)\n"
     ]
    },
    {
     "data": {
      "text/html": [
       "<div style=\"display: table;\"><div style=\"display: table-row;\"><div style=\"display: table-cell;\"><b title=\"bokeh.models.renderers.GlyphRenderer\">GlyphRenderer</b>(</div><div style=\"display: table-cell;\">id&nbsp;=&nbsp;'1db745d9-cfee-44a7-8a51-a238a358f252', <span id=\"39a24e62-01d3-478d-97b4-067e18601781\" style=\"cursor: pointer;\">&hellip;)</span></div></div><div class=\"cb057124-66eb-4d3b-8bd8-dddcd76cabb6\" style=\"display: none;\"><div style=\"display: table-cell;\"></div><div style=\"display: table-cell;\">data_source&nbsp;=&nbsp;ColumnDataSource(id='f011c53f-e8a7-4c7c-9830-ff8fdc912a23', ...),</div></div><div class=\"cb057124-66eb-4d3b-8bd8-dddcd76cabb6\" style=\"display: none;\"><div style=\"display: table-cell;\"></div><div style=\"display: table-cell;\">glyph&nbsp;=&nbsp;Circle(id='dc8dc1af-cea4-493b-8c6c-d8fcbf8d1706', ...),</div></div><div class=\"cb057124-66eb-4d3b-8bd8-dddcd76cabb6\" style=\"display: none;\"><div style=\"display: table-cell;\"></div><div style=\"display: table-cell;\">hover_glyph&nbsp;=&nbsp;None,</div></div><div class=\"cb057124-66eb-4d3b-8bd8-dddcd76cabb6\" style=\"display: none;\"><div style=\"display: table-cell;\"></div><div style=\"display: table-cell;\">js_event_callbacks&nbsp;=&nbsp;{},</div></div><div class=\"cb057124-66eb-4d3b-8bd8-dddcd76cabb6\" style=\"display: none;\"><div style=\"display: table-cell;\"></div><div style=\"display: table-cell;\">js_property_callbacks&nbsp;=&nbsp;{},</div></div><div class=\"cb057124-66eb-4d3b-8bd8-dddcd76cabb6\" style=\"display: none;\"><div style=\"display: table-cell;\"></div><div style=\"display: table-cell;\">level&nbsp;=&nbsp;'glyph',</div></div><div class=\"cb057124-66eb-4d3b-8bd8-dddcd76cabb6\" style=\"display: none;\"><div style=\"display: table-cell;\"></div><div style=\"display: table-cell;\">muted&nbsp;=&nbsp;False,</div></div><div class=\"cb057124-66eb-4d3b-8bd8-dddcd76cabb6\" style=\"display: none;\"><div style=\"display: table-cell;\"></div><div style=\"display: table-cell;\">muted_glyph&nbsp;=&nbsp;None,</div></div><div class=\"cb057124-66eb-4d3b-8bd8-dddcd76cabb6\" style=\"display: none;\"><div style=\"display: table-cell;\"></div><div style=\"display: table-cell;\">name&nbsp;=&nbsp;None,</div></div><div class=\"cb057124-66eb-4d3b-8bd8-dddcd76cabb6\" style=\"display: none;\"><div style=\"display: table-cell;\"></div><div style=\"display: table-cell;\">nonselection_glyph&nbsp;=&nbsp;Circle(id='00d5c32d-1a28-4324-b511-c6c84bae9453', ...),</div></div><div class=\"cb057124-66eb-4d3b-8bd8-dddcd76cabb6\" style=\"display: none;\"><div style=\"display: table-cell;\"></div><div style=\"display: table-cell;\">selection_glyph&nbsp;=&nbsp;None,</div></div><div class=\"cb057124-66eb-4d3b-8bd8-dddcd76cabb6\" style=\"display: none;\"><div style=\"display: table-cell;\"></div><div style=\"display: table-cell;\">subscribed_events&nbsp;=&nbsp;[],</div></div><div class=\"cb057124-66eb-4d3b-8bd8-dddcd76cabb6\" style=\"display: none;\"><div style=\"display: table-cell;\"></div><div style=\"display: table-cell;\">tags&nbsp;=&nbsp;[],</div></div><div class=\"cb057124-66eb-4d3b-8bd8-dddcd76cabb6\" style=\"display: none;\"><div style=\"display: table-cell;\"></div><div style=\"display: table-cell;\">view&nbsp;=&nbsp;CDSView(id='ed67240e-ca62-4683-b5a8-428e01fd79d3', ...),</div></div><div class=\"cb057124-66eb-4d3b-8bd8-dddcd76cabb6\" style=\"display: none;\"><div style=\"display: table-cell;\"></div><div style=\"display: table-cell;\">visible&nbsp;=&nbsp;True,</div></div><div class=\"cb057124-66eb-4d3b-8bd8-dddcd76cabb6\" style=\"display: none;\"><div style=\"display: table-cell;\"></div><div style=\"display: table-cell;\">x_range_name&nbsp;=&nbsp;'default',</div></div><div class=\"cb057124-66eb-4d3b-8bd8-dddcd76cabb6\" style=\"display: none;\"><div style=\"display: table-cell;\"></div><div style=\"display: table-cell;\">y_range_name&nbsp;=&nbsp;'default')</div></div></div>\n",
       "<script>\n",
       "(function() {\n",
       "  var expanded = false;\n",
       "  var ellipsis = document.getElementById(\"39a24e62-01d3-478d-97b4-067e18601781\");\n",
       "  ellipsis.addEventListener(\"click\", function() {\n",
       "    var rows = document.getElementsByClassName(\"cb057124-66eb-4d3b-8bd8-dddcd76cabb6\");\n",
       "    for (var i = 0; i < rows.length; i++) {\n",
       "      var el = rows[i];\n",
       "      el.style.display = expanded ? \"none\" : \"table-row\";\n",
       "    }\n",
       "    ellipsis.innerHTML = expanded ? \"&hellip;)\" : \"&lsaquo;&lsaquo;&lsaquo;\";\n",
       "    expanded = !expanded;\n",
       "  });\n",
       "})();\n",
       "</script>\n"
      ],
      "text/plain": [
       "GlyphRenderer(id='1db745d9-cfee-44a7-8a51-a238a358f252', ...)"
      ]
     },
     "execution_count": 20,
     "metadata": {},
     "output_type": "execute_result"
    }
   ],
   "source": [
    "print(utter_price.shape)\n",
    "x = pca.transform(utter_price.reshape(1,-1))\n",
    "p.circle(x[0][0], x[0][1], color='black')"
   ]
  },
  {
   "cell_type": "code",
   "execution_count": 21,
   "metadata": {},
   "outputs": [
    {
     "data": {
      "text/html": [
       "\n",
       "<div class=\"bk-root\">\n",
       "    <div class=\"bk-plotdiv\" id=\"e38ee173-28d2-4a73-a4d0-aa968c67dc81\"></div>\n",
       "</div>"
      ]
     },
     "metadata": {},
     "output_type": "display_data"
    },
    {
     "data": {
      "application/javascript": [
       "(function(root) {\n",
       "  function embed_document(root) {\n",
       "    \n",
       "  var docs_json = {\"16cfbd7b-b5f2-4e06-9035-9a18049e5434\":{\"roots\":{\"references\":[{\"attributes\":{\"fill_alpha\":{\"value\":0.1},\"fill_color\":{\"value\":\"#1f77b4\"},\"line_alpha\":{\"value\":0.1},\"line_color\":{\"value\":\"#1f77b4\"},\"size\":{\"units\":\"screen\",\"value\":10},\"x\":{\"field\":\"x\"},\"y\":{\"field\":\"y\"}},\"id\":\"288a9ac7-4e75-4774-9d77-c8d942b67b2b\",\"type\":\"Circle\"},{\"attributes\":{\"line_color\":{\"value\":\"firebrick\"},\"line_width\":{\"value\":2},\"plot\":null,\"size\":10},\"id\":\"ed787cb4-7f65-45b9-a22b-c25148fa6fbc\",\"type\":\"OpenHead\"},{\"attributes\":{\"end\":{\"id\":\"8c6e4f59-cce4-4911-a30d-7799490b941b\",\"type\":\"OpenHead\"},\"line_color\":{\"value\":\"gray\"},\"plot\":{\"id\":\"347ab833-a443-4459-b311-0c8692793c11\",\"subtype\":\"Figure\",\"type\":\"Plot\"},\"source\":null,\"start\":null,\"x_end\":{\"value\":-0.3805565241904119},\"x_start\":{\"value\":0.02905640531580811},\"y_end\":{\"value\":0.10540252086984231},\"y_start\":{\"value\":-0.2549101256491246}},\"id\":\"6e531212-41e4-4b24-aaa4-a9cd13b72d7f\",\"type\":\"Arrow\"},{\"attributes\":{\"line_color\":{\"value\":\"firebrick\"},\"line_width\":{\"value\":2},\"plot\":null,\"size\":10},\"id\":\"bff4cd54-155b-4da8-98b6-1037415da493\",\"type\":\"OpenHead\"},{\"attributes\":{\"fill_color\":{\"value\":\"red\"},\"line_color\":{\"value\":\"red\"},\"size\":{\"units\":\"screen\",\"value\":5},\"x\":{\"field\":\"x\"},\"y\":{\"field\":\"y\"}},\"id\":\"a1ec1416-05b7-4a4e-824d-d92ed5ceb123\",\"type\":\"Circle\"},{\"attributes\":{\"source\":{\"id\":\"49432e78-fee7-49d0-ac29-2a202ae5ac72\",\"type\":\"ColumnDataSource\"}},\"id\":\"3e9f8f7d-44a0-4a7a-8fdd-30bc030c881f\",\"type\":\"CDSView\"},{\"attributes\":{\"end\":{\"id\":\"ed787cb4-7f65-45b9-a22b-c25148fa6fbc\",\"type\":\"OpenHead\"},\"line_color\":{\"value\":\"gray\"},\"plot\":{\"id\":\"347ab833-a443-4459-b311-0c8692793c11\",\"subtype\":\"Figure\",\"type\":\"Plot\"},\"source\":null,\"start\":null,\"x_end\":{\"value\":0.02914260745900814},\"x_start\":{\"value\":-0.3805565241904119},\"y_end\":{\"value\":-0.24985271009534893},\"y_start\":{\"value\":0.10540252086984231}},\"id\":\"9ce6940e-ddc8-4bde-9678-38df7b610fb3\",\"type\":\"Arrow\"},{\"attributes\":{\"line_color\":{\"value\":\"firebrick\"},\"line_width\":{\"value\":2},\"plot\":null,\"size\":10},\"id\":\"6c27c0c6-77ae-473d-a381-ba69ccf3dbd7\",\"type\":\"OpenHead\"},{\"attributes\":{\"end\":{\"id\":\"bff4cd54-155b-4da8-98b6-1037415da493\",\"type\":\"OpenHead\"},\"line_color\":{\"value\":\"gray\"},\"plot\":{\"id\":\"347ab833-a443-4459-b311-0c8692793c11\",\"subtype\":\"Figure\",\"type\":\"Plot\"},\"source\":null,\"start\":null,\"x_end\":{\"value\":-0.04278218138082326},\"x_start\":{\"value\":0.02914260745900814},\"y_end\":{\"value\":-0.022171252890457994},\"y_start\":{\"value\":-0.24985271009534893}},\"id\":\"337fc054-279b-4c21-807f-3fa1f8bab318\",\"type\":\"Arrow\"},{\"attributes\":{\"line_color\":{\"value\":\"firebrick\"},\"line_width\":{\"value\":2},\"plot\":null,\"size\":10},\"id\":\"5754d56c-5495-4624-abdb-3c0ecbf191c1\",\"type\":\"OpenHead\"},{\"attributes\":{\"end\":{\"id\":\"6c27c0c6-77ae-473d-a381-ba69ccf3dbd7\",\"type\":\"OpenHead\"},\"line_color\":{\"value\":\"gray\"},\"plot\":{\"id\":\"347ab833-a443-4459-b311-0c8692793c11\",\"subtype\":\"Figure\",\"type\":\"Plot\"},\"source\":null,\"start\":null,\"x_end\":{\"value\":0.031472042469468366},\"x_start\":{\"value\":-0.04278218138082326},\"y_end\":{\"value\":-0.32819433995120073},\"y_start\":{\"value\":-0.022171252890457994}},\"id\":\"35b3ebe5-ad95-4b7b-8db8-9e2df1ff3d47\",\"type\":\"Arrow\"},{\"attributes\":{\"line_color\":{\"value\":\"firebrick\"},\"line_width\":{\"value\":2},\"plot\":null,\"size\":10},\"id\":\"7b1e37c3-13a9-4157-8184-c24245a80f0a\",\"type\":\"OpenHead\"},{\"attributes\":{\"end\":{\"id\":\"5754d56c-5495-4624-abdb-3c0ecbf191c1\",\"type\":\"OpenHead\"},\"line_color\":{\"value\":\"gray\"},\"plot\":{\"id\":\"347ab833-a443-4459-b311-0c8692793c11\",\"subtype\":\"Figure\",\"type\":\"Plot\"},\"source\":null,\"start\":null,\"x_end\":{\"value\":0.03765355907090482},\"x_start\":{\"value\":0.031472042469468366},\"y_end\":{\"value\":0.005031913232679683},\"y_start\":{\"value\":-0.32819433995120073}},\"id\":\"e3355d5e-d8aa-4e9a-b770-ebfdba22f0dd\",\"type\":\"Arrow\"},{\"attributes\":{\"line_color\":{\"value\":\"firebrick\"},\"line_width\":{\"value\":2},\"plot\":null,\"size\":10},\"id\":\"74249e7d-ea2d-4c03-921a-83104eb22477\",\"type\":\"OpenHead\"},{\"attributes\":{\"end\":{\"id\":\"7b1e37c3-13a9-4157-8184-c24245a80f0a\",\"type\":\"OpenHead\"},\"line_color\":{\"value\":\"gray\"},\"plot\":{\"id\":\"347ab833-a443-4459-b311-0c8692793c11\",\"subtype\":\"Figure\",\"type\":\"Plot\"},\"source\":null,\"start\":null,\"x_end\":{\"value\":0.058576871988579186},\"x_start\":{\"value\":0.03765355907090482},\"y_end\":{\"value\":0.08619872373255343},\"y_start\":{\"value\":0.005031913232679683}},\"id\":\"a3f42c25-375a-4abd-8772-0ff3ffca206e\",\"type\":\"Arrow\"},{\"attributes\":{\"line_color\":{\"value\":\"firebrick\"},\"line_width\":{\"value\":2},\"plot\":null,\"size\":10},\"id\":\"793701a9-f05c-4209-9006-ff2b22c4e267\",\"type\":\"OpenHead\"},{\"attributes\":{\"end\":{\"id\":\"74249e7d-ea2d-4c03-921a-83104eb22477\",\"type\":\"OpenHead\"},\"line_color\":{\"value\":\"gray\"},\"plot\":{\"id\":\"347ab833-a443-4459-b311-0c8692793c11\",\"subtype\":\"Figure\",\"type\":\"Plot\"},\"source\":null,\"start\":null,\"x_end\":{\"value\":-0.265161236500666},\"x_start\":{\"value\":0.058576871988579186},\"y_end\":{\"value\":-0.1027498052560122},\"y_start\":{\"value\":0.08619872373255343}},\"id\":\"c310b04a-d3ac-4975-933c-7a399be2b271\",\"type\":\"Arrow\"},{\"attributes\":{\"line_color\":{\"value\":\"firebrick\"},\"line_width\":{\"value\":2},\"plot\":null,\"size\":10},\"id\":\"7296979d-d384-4a2a-961c-0e648fcac339\",\"type\":\"OpenHead\"},{\"attributes\":{\"end\":{\"id\":\"793701a9-f05c-4209-9006-ff2b22c4e267\",\"type\":\"OpenHead\"},\"line_color\":{\"value\":\"gray\"},\"plot\":{\"id\":\"347ab833-a443-4459-b311-0c8692793c11\",\"subtype\":\"Figure\",\"type\":\"Plot\"},\"source\":null,\"start\":null,\"x_end\":{\"value\":0.4321514539484079},\"x_start\":{\"value\":-0.265161236500666},\"y_end\":{\"value\":0.43725194230878817},\"y_start\":{\"value\":-0.1027498052560122}},\"id\":\"f3f1d100-94c8-401b-bac4-66c1215feece\",\"type\":\"Arrow\"},{\"attributes\":{\"callback\":null,\"data\":{},\"selected\":null,\"selection_policy\":null},\"id\":\"f011c53f-e8a7-4c7c-9830-ff8fdc912a23\",\"type\":\"ColumnDataSource\"},{\"attributes\":{\"line_color\":{\"value\":\"firebrick\"},\"line_width\":{\"value\":2},\"plot\":null,\"size\":10},\"id\":\"f4b718f1-7582-4911-bb35-e9ef8385f850\",\"type\":\"OpenHead\"},{\"attributes\":{\"end\":{\"id\":\"7296979d-d384-4a2a-961c-0e648fcac339\",\"type\":\"OpenHead\"},\"line_color\":{\"value\":\"gray\"},\"plot\":{\"id\":\"347ab833-a443-4459-b311-0c8692793c11\",\"subtype\":\"Figure\",\"type\":\"Plot\"},\"source\":null,\"start\":null,\"x_end\":{\"value\":-0.27990555025988323},\"x_start\":{\"value\":0.4321514539484079},\"y_end\":{\"value\":0.12805750454219536},\"y_start\":{\"value\":0.43725194230878817}},\"id\":\"3df56e9a-e861-4df7-9718-d3a32f19260c\",\"type\":\"Arrow\"},{\"attributes\":{\"line_color\":{\"value\":\"firebrick\"},\"line_width\":{\"value\":2},\"plot\":null,\"size\":10},\"id\":\"c0f74198-68ee-448c-843b-ccd90ed0607e\",\"type\":\"OpenHead\"},{\"attributes\":{\"below\":[{\"id\":\"253cd694-93b6-48fd-9f60-b4c90422d560\",\"type\":\"LinearAxis\"}],\"left\":[{\"id\":\"ad05a489-8844-4769-be78-cf30b7f1f3e7\",\"type\":\"LinearAxis\"}],\"renderers\":[{\"id\":\"253cd694-93b6-48fd-9f60-b4c90422d560\",\"type\":\"LinearAxis\"},{\"id\":\"273fbdb8-090f-44a2-9f21-d06ef754a753\",\"type\":\"Grid\"},{\"id\":\"ad05a489-8844-4769-be78-cf30b7f1f3e7\",\"type\":\"LinearAxis\"},{\"id\":\"fcb80b30-ff0a-4983-b9d1-3523834c2df5\",\"type\":\"Grid\"},{\"id\":\"15acef01-e7ad-44e9-99f9-a3c561c2662a\",\"type\":\"Arrow\"},{\"id\":\"cab1f7c8-aef3-4ff0-b259-b8851870a6af\",\"type\":\"Arrow\"},{\"id\":\"01b8bf87-b94d-490a-b0f8-5c9643b56ecb\",\"type\":\"Arrow\"},{\"id\":\"eab6fd5a-d262-4947-85ca-62eac437ecd6\",\"type\":\"Arrow\"},{\"id\":\"cf1c117d-4ad6-42ea-99a4-e4bb8c39becd\",\"type\":\"Arrow\"},{\"id\":\"ddb4367d-fa94-4767-ae80-484c44304ecb\",\"type\":\"Arrow\"},{\"id\":\"6ac8f21d-1b94-403e-8280-d9fe6910e3c8\",\"type\":\"Arrow\"},{\"id\":\"c7ac06af-202f-4a92-80f4-9c956f444136\",\"type\":\"Arrow\"},{\"id\":\"ad4d455d-3bdf-475a-9766-b4452120b796\",\"type\":\"Arrow\"},{\"id\":\"9a24fd37-932c-4a25-abf7-37e2c1a67017\",\"type\":\"Arrow\"},{\"id\":\"65c1922c-a821-47c5-b95b-5ea9489c3405\",\"type\":\"Arrow\"},{\"id\":\"0bcb76e4-4369-42c2-9211-560b04cec1cb\",\"type\":\"Arrow\"},{\"id\":\"497e8dea-2f4d-4e72-bc5a-f0bde9ca5a6e\",\"type\":\"Arrow\"},{\"id\":\"05190aa1-917f-4cbc-9ded-eaa4063cd5b2\",\"type\":\"Arrow\"},{\"id\":\"e2ded1dd-c58e-474b-9e68-c7a618d8d249\",\"type\":\"Arrow\"},{\"id\":\"411f427b-4968-4ec1-85dc-42c8e3bc8f8e\",\"type\":\"Arrow\"},{\"id\":\"a2051f56-ebea-42ff-b524-0f31028a5545\",\"type\":\"Arrow\"},{\"id\":\"6e531212-41e4-4b24-aaa4-a9cd13b72d7f\",\"type\":\"Arrow\"},{\"id\":\"9ce6940e-ddc8-4bde-9678-38df7b610fb3\",\"type\":\"Arrow\"},{\"id\":\"337fc054-279b-4c21-807f-3fa1f8bab318\",\"type\":\"Arrow\"},{\"id\":\"35b3ebe5-ad95-4b7b-8db8-9e2df1ff3d47\",\"type\":\"Arrow\"},{\"id\":\"e3355d5e-d8aa-4e9a-b770-ebfdba22f0dd\",\"type\":\"Arrow\"},{\"id\":\"a3f42c25-375a-4abd-8772-0ff3ffca206e\",\"type\":\"Arrow\"},{\"id\":\"c310b04a-d3ac-4975-933c-7a399be2b271\",\"type\":\"Arrow\"},{\"id\":\"f3f1d100-94c8-401b-bac4-66c1215feece\",\"type\":\"Arrow\"},{\"id\":\"3df56e9a-e861-4df7-9718-d3a32f19260c\",\"type\":\"Arrow\"},{\"id\":\"5cd19452-3c07-4073-a1bf-678aa016510d\",\"type\":\"Arrow\"},{\"id\":\"a30f3cf9-ead4-49e7-9532-01b7d6250e08\",\"type\":\"Arrow\"},{\"id\":\"865269fa-5224-4481-812e-05d711a403bf\",\"type\":\"GlyphRenderer\"},{\"id\":\"de144473-8478-40f2-9097-3485cf891e97\",\"type\":\"GlyphRenderer\"},{\"id\":\"8e79de32-6c44-4d9d-a42f-e08e14cf64cc\",\"type\":\"GlyphRenderer\"},{\"id\":\"518ec73b-d460-4ba1-8f3c-030cf1a6fc8a\",\"type\":\"GlyphRenderer\"},{\"id\":\"20a5c39f-cd62-4a96-af0d-e4d3913d4d88\",\"type\":\"GlyphRenderer\"},{\"id\":\"c5d66b4d-f272-4008-8554-229f36d1d5ce\",\"type\":\"GlyphRenderer\"},{\"id\":\"1db745d9-cfee-44a7-8a51-a238a358f252\",\"type\":\"GlyphRenderer\"}],\"title\":{\"id\":\"ebac63c2-0cfc-462e-861c-f1681b7dabf7\",\"type\":\"Title\"},\"toolbar\":{\"id\":\"ec430f4a-32f2-44bb-9ad0-3feebb1e64bf\",\"type\":\"Toolbar\"},\"x_range\":{\"id\":\"d1eda359-b651-40bb-a301-32ea08063dcf\",\"type\":\"DataRange1d\"},\"x_scale\":{\"id\":\"4d46a418-9539-4247-b273-2e0b3bd527d3\",\"type\":\"LinearScale\"},\"y_range\":{\"id\":\"f5b4630c-dbd9-469f-9509-4d1594a9096a\",\"type\":\"DataRange1d\"},\"y_scale\":{\"id\":\"3e36dee7-84ac-498b-991d-42d75417f810\",\"type\":\"LinearScale\"}},\"id\":\"347ab833-a443-4459-b311-0c8692793c11\",\"subtype\":\"Figure\",\"type\":\"Plot\"},{\"attributes\":{\"end\":{\"id\":\"f4b718f1-7582-4911-bb35-e9ef8385f850\",\"type\":\"OpenHead\"},\"line_color\":{\"value\":\"gray\"},\"plot\":{\"id\":\"347ab833-a443-4459-b311-0c8692793c11\",\"subtype\":\"Figure\",\"type\":\"Plot\"},\"source\":null,\"start\":null,\"x_end\":{\"value\":0.37054299755170195},\"x_start\":{\"value\":-0.27990555025988323},\"y_end\":{\"value\":0.32989097781934273},\"y_start\":{\"value\":0.12805750454219536}},\"id\":\"5cd19452-3c07-4073-a1bf-678aa016510d\",\"type\":\"Arrow\"},{\"attributes\":{\"fill_color\":{\"value\":\"#1f77b4\"},\"line_color\":{\"value\":\"#1f77b4\"},\"size\":{\"units\":\"screen\",\"value\":10},\"x\":{\"field\":\"x\"},\"y\":{\"field\":\"y\"}},\"id\":\"bf9f3bfb-84e4-4dc4-96da-2fe4b90e0c66\",\"type\":\"Circle\"},{\"attributes\":{\"callback\":null,\"names\":[\"circle\"],\"tooltips\":[[\"true action\",\"@desc\"],[\"prediction\",\"@pred\"],[\"not_skip_gate\",\"@not_skip\"]]},\"id\":\"e6398bc9-3e47-433d-a1cc-ff3bd7156280\",\"type\":\"HoverTool\"},{\"attributes\":{\"end\":{\"id\":\"c0f74198-68ee-448c-843b-ccd90ed0607e\",\"type\":\"OpenHead\"},\"line_color\":{\"value\":\"gray\"},\"plot\":{\"id\":\"347ab833-a443-4459-b311-0c8692793c11\",\"subtype\":\"Figure\",\"type\":\"Plot\"},\"source\":null,\"start\":null,\"x_end\":{\"value\":0.3708714345834348},\"x_start\":{\"value\":0.37054299755170195},\"y_end\":{\"value\":-0.015025144481799394},\"y_start\":{\"value\":0.32989097781934273}},\"id\":\"a30f3cf9-ead4-49e7-9532-01b7d6250e08\",\"type\":\"Arrow\"},{\"attributes\":{\"line_color\":{\"value\":\"firebrick\"},\"line_width\":{\"value\":2},\"plot\":null,\"size\":10},\"id\":\"57ea10ad-6ab6-49a4-9284-0eb82d79ccc9\",\"type\":\"OpenHead\"},{\"attributes\":{},\"id\":\"3e36dee7-84ac-498b-991d-42d75417f810\",\"type\":\"LinearScale\"},{\"attributes\":{\"end\":{\"id\":\"57ea10ad-6ab6-49a4-9284-0eb82d79ccc9\",\"type\":\"OpenHead\"},\"line_color\":{\"value\":\"gray\"},\"plot\":{\"id\":\"347ab833-a443-4459-b311-0c8692793c11\",\"subtype\":\"Figure\",\"type\":\"Plot\"},\"source\":null,\"start\":null,\"x_end\":{\"value\":0.014002850883277566},\"x_start\":{\"value\":0.0931300660718028},\"y_end\":{\"value\":0.12183172910549814},\"y_start\":{\"value\":0.08760349099838793}},\"id\":\"15acef01-e7ad-44e9-99f9-a3c561c2662a\",\"type\":\"Arrow\"},{\"attributes\":{\"data_source\":{\"id\":\"49432e78-fee7-49d0-ac29-2a202ae5ac72\",\"type\":\"ColumnDataSource\"},\"glyph\":{\"id\":\"bf9f3bfb-84e4-4dc4-96da-2fe4b90e0c66\",\"type\":\"Circle\"},\"hover_glyph\":null,\"muted_glyph\":null,\"name\":\"circle\",\"nonselection_glyph\":{\"id\":\"288a9ac7-4e75-4774-9d77-c8d942b67b2b\",\"type\":\"Circle\"},\"selection_glyph\":null,\"view\":{\"id\":\"3e9f8f7d-44a0-4a7a-8fdd-30bc030c881f\",\"type\":\"CDSView\"}},\"id\":\"865269fa-5224-4481-812e-05d711a403bf\",\"type\":\"GlyphRenderer\"},{\"attributes\":{\"data_source\":{\"id\":\"2b531bdf-3c4a-4d7d-b10f-e33905d85789\",\"type\":\"ColumnDataSource\"},\"glyph\":{\"id\":\"f154498f-7e74-49d1-be53-af5dd59a4d13\",\"type\":\"Circle\"},\"hover_glyph\":null,\"muted_glyph\":null,\"name\":\"circle\",\"nonselection_glyph\":{\"id\":\"86bac7a2-8062-4c69-a846-7793e764e077\",\"type\":\"Circle\"},\"selection_glyph\":null,\"view\":{\"id\":\"f720056f-801b-4014-8eb0-ed88e08e9dd7\",\"type\":\"CDSView\"}},\"id\":\"de144473-8478-40f2-9097-3485cf891e97\",\"type\":\"GlyphRenderer\"},{\"attributes\":{},\"id\":\"f85490f7-b9ff-4a67-bacc-b8657e2e869c\",\"type\":\"BasicTickFormatter\"},{\"attributes\":{},\"id\":\"523d14a1-bb0c-42fd-953e-34728f7608b8\",\"type\":\"BasicTickFormatter\"},{\"attributes\":{\"callback\":null,\"column_names\":[\"x\",\"y\",\"desc\",\"pred\",\"not_skip\"],\"data\":{\"desc\":[\"- utter_ask_details\",\"- utter_explain_details_hotel\",\"- utter_ask_details\",\"- utter_chitchat\",\"- utter_ask_details\",\"- utter_ask_startdate\",\"- utter_ask_location\",\"- utter_correct_startdate_hotel\",\"- utter_ask_location\",\"- utter_explain_location_hotel\",\"- utter_ask_location\",\"- utter_ask_price\",\"- utter_chitchat\",\"- utter_ask_price\",\"- utter_chitchat\",\"- utter_ask_price\",\"- utter_chitchat\",\"- utter_ask_price\",\"- utter_chitchat\",\"- utter_ask_price\",\"- utter_explain_price_hotel\",\"- utter_ask_price\",\"- utter_ask_people\",\"- utter_filled_slots\",\"- action_search_hotel\",\"- utter_suggest_hotel\",\"- utter_chitchat\",\"- utter_suggest_hotel\",\"- utter_happy\"],\"not_skip\":[1.0,1.0,0.0,1.0,0.0,1.0,1.0,1.0,0.0,1.0,0.0,1.0,1.0,0.0,1.0,0.0,1.0,0.0,1.0,0.0,1.0,0.0,1.0,1.0,1.0,1.0,1.0,0.0,1.0],\"pred\":[\"- utter_ask_details\",\"- utter_explain_people_hotel\",\"- utter_ask_details\",\"- utter_chitchat\",\"- utter_ask_details\",\"- utter_ask_startdate\",\"- utter_ask_location\",\"- utter_correct_startdate_hotel\",\"- utter_ask_location\",\"- utter_explain_location_hotel\",\"- utter_ask_location\",\"- utter_ask_price\",\"- utter_chitchat\",\"- utter_ask_price\",\"- utter_chitchat\",\"- utter_ask_price\",\"- utter_chitchat\",\"- utter_ask_price\",\"- utter_chitchat\",\"- utter_ask_price\",\"- utter_explain_price_hotel\",\"- utter_ask_price\",\"- utter_ask_people\",\"- utter_filled_slots\",\"- action_search_hotel\",\"- utter_suggest_hotel\",\"- utter_chitchat\",\"- utter_suggest_hotel\",\"- utter_happy\"],\"x\":{\"__ndarray__\":\"jH4NPF/Xtz+8asHUhq2MP9/TmX6T7bU/P7GTDsNY0b/82DKs+DC5P9T+dp5UycE/Sp3qeKeTwD9JTfGaweQiv0BcShURGMQ/SgAviifMk78znH4BsNjGP++EWwZt4qU/4REu7bYW17/F+cI+V36gP1OXgcFXPNe/p1UdzWBHnT/dHDHXiwbYv+BpSFr2wJ0/GVhrwAlb2L9tkNNHj9edP5Osw8uL56W/xRRKghodoD99OJPJU0ejP89g/KrJ/a0/bfy71Wb40L8QJWiSXqjbP/9xFfj46dG/fsQP+vm21z/5nKOKW7zXPw==\",\"dtype\":\"float64\",\"shape\":[29]},\"y\":{\"__ndarray__\":\"aH/asC5ttj8KjR88XTC/P1SO6bZ0wcU/B+tMFY4yuz8SvKcEt6S3P75PcM+9JrA/qsMZ0hekwL9qj10XRxrYPxLCmLztftK/uNiBHIIFlD/FYP62BrjSv+MwzHXZvMy/ACgepEqWuT+Jg5O4L8HQv/qOEYG7zbk/sbi+4P7B0L86kQG8PUu6P29DRY9yUNC/TEsN3Kj7uj9Ql1ZxLPvPv+quTZgPtJa/Vqc01SIB1b/jqFTsV5x0P79kY5seEbY/ebQ+rc9Nur/QCRWS7/vbP5UPAjUwZMA/wrA+DO8c1T/PBVbBgMWOvw==\",\"dtype\":\"float64\",\"shape\":[29]}},\"selected\":null,\"selection_policy\":null},\"id\":\"49432e78-fee7-49d0-ac29-2a202ae5ac72\",\"type\":\"ColumnDataSource\"},{\"attributes\":{\"active_drag\":\"auto\",\"active_inspect\":\"auto\",\"active_scroll\":\"auto\",\"active_tap\":\"auto\",\"tools\":[{\"id\":\"e6398bc9-3e47-433d-a1cc-ff3bd7156280\",\"type\":\"HoverTool\"}]},\"id\":\"ec430f4a-32f2-44bb-9ad0-3feebb1e64bf\",\"type\":\"Toolbar\"},{\"attributes\":{\"plot\":null,\"text\":\"\"},\"id\":\"ebac63c2-0cfc-462e-861c-f1681b7dabf7\",\"type\":\"Title\"},{\"attributes\":{\"callback\":null},\"id\":\"f5b4630c-dbd9-469f-9509-4d1594a9096a\",\"type\":\"DataRange1d\"},{\"attributes\":{\"source\":{\"id\":\"2b531bdf-3c4a-4d7d-b10f-e33905d85789\",\"type\":\"ColumnDataSource\"}},\"id\":\"f720056f-801b-4014-8eb0-ed88e08e9dd7\",\"type\":\"CDSView\"},{\"attributes\":{\"callback\":null},\"id\":\"d1eda359-b651-40bb-a301-32ea08063dcf\",\"type\":\"DataRange1d\"},{\"attributes\":{\"line_color\":{\"value\":\"firebrick\"},\"line_width\":{\"value\":2},\"plot\":null,\"size\":10},\"id\":\"2d4f83ab-0357-4fd7-af4c-37f80b6bc422\",\"type\":\"OpenHead\"},{\"attributes\":{\"fill_alpha\":{\"value\":0.1},\"fill_color\":{\"value\":\"#1f77b4\"},\"line_alpha\":{\"value\":0.1},\"line_color\":{\"value\":\"#1f77b4\"},\"size\":{\"units\":\"screen\",\"value\":5},\"x\":{\"field\":\"x\"},\"y\":{\"field\":\"y\"}},\"id\":\"86bac7a2-8062-4c69-a846-7793e764e077\",\"type\":\"Circle\"},{\"attributes\":{\"data_source\":{\"id\":\"423e2029-32f0-4e63-9086-a84987721995\",\"type\":\"ColumnDataSource\"},\"glyph\":{\"id\":\"a1ec1416-05b7-4a4e-824d-d92ed5ceb123\",\"type\":\"Circle\"},\"hover_glyph\":null,\"muted_glyph\":null,\"name\":\"circle\",\"nonselection_glyph\":{\"id\":\"1d1d97e0-dee8-497f-9036-e87f12e4d7e4\",\"type\":\"Circle\"},\"selection_glyph\":null,\"view\":{\"id\":\"51cb200a-bb52-4af3-b07c-9048c3875c29\",\"type\":\"CDSView\"}},\"id\":\"8e79de32-6c44-4d9d-a42f-e08e14cf64cc\",\"type\":\"GlyphRenderer\"},{\"attributes\":{\"formatter\":{\"id\":\"f85490f7-b9ff-4a67-bacc-b8657e2e869c\",\"type\":\"BasicTickFormatter\"},\"plot\":{\"id\":\"347ab833-a443-4459-b311-0c8692793c11\",\"subtype\":\"Figure\",\"type\":\"Plot\"},\"ticker\":{\"id\":\"cba97696-5b17-4836-a5b9-d269b3e77bcd\",\"type\":\"BasicTicker\"}},\"id\":\"253cd694-93b6-48fd-9f60-b4c90422d560\",\"type\":\"LinearAxis\"},{\"attributes\":{\"fill_color\":{\"value\":\"green\"},\"line_color\":{\"value\":\"green\"},\"size\":{\"units\":\"screen\",\"value\":5},\"x\":{\"field\":\"x\"},\"y\":{\"field\":\"y\"}},\"id\":\"f154498f-7e74-49d1-be53-af5dd59a4d13\",\"type\":\"Circle\"},{\"attributes\":{},\"id\":\"4d46a418-9539-4247-b273-2e0b3bd527d3\",\"type\":\"LinearScale\"},{\"attributes\":{\"callback\":null,\"column_names\":[\"x\",\"y\",\"desc\",\"pred\",\"not_skip\"],\"data\":{\"desc\":[\"- utter_ask_details\",\"- utter_explain_details_hotel\",\"- utter_ask_details\",\"- utter_chitchat\",\"- utter_ask_details\",\"- utter_ask_startdate\",\"- utter_ask_location\",\"- utter_correct_startdate_hotel\",\"- utter_ask_location\",\"- utter_explain_location_hotel\",\"- utter_ask_location\",\"- utter_ask_price\",\"- utter_chitchat\",\"- utter_ask_price\",\"- utter_chitchat\",\"- utter_ask_price\",\"- utter_chitchat\",\"- utter_ask_price\",\"- utter_chitchat\",\"- utter_ask_price\",\"- utter_explain_price_hotel\",\"- utter_ask_price\",\"- utter_ask_people\",\"- utter_filled_slots\",\"- action_search_hotel\",\"- utter_suggest_hotel\",\"- utter_chitchat\",\"- utter_suggest_hotel\",\"- utter_happy\"],\"not_skip\":[1.0,1.0,0.0,1.0,0.0,1.0,1.0,1.0,0.0,1.0,0.0,1.0,1.0,0.0,1.0,0.0,1.0,0.0,1.0,0.0,1.0,0.0,1.0,1.0,1.0,1.0,1.0,0.0,1.0],\"pred\":[\"- utter_ask_details\",\"- utter_explain_people_hotel\",\"- utter_ask_details\",\"- utter_chitchat\",\"- utter_ask_details\",\"- utter_ask_startdate\",\"- utter_ask_location\",\"- utter_correct_startdate_hotel\",\"- utter_ask_location\",\"- utter_explain_location_hotel\",\"- utter_ask_location\",\"- utter_ask_price\",\"- utter_chitchat\",\"- utter_ask_price\",\"- utter_chitchat\",\"- utter_ask_price\",\"- utter_chitchat\",\"- utter_ask_price\",\"- utter_chitchat\",\"- utter_ask_price\",\"- utter_explain_price_hotel\",\"- utter_ask_price\",\"- utter_ask_people\",\"- utter_filled_slots\",\"- action_search_hotel\",\"- utter_suggest_hotel\",\"- utter_chitchat\",\"- utter_suggest_hotel\",\"- utter_happy\"],\"x\":{\"__ndarray__\":\"1OR+u+KkrD8+J0RJCq6sP8nj/Y5eDrs/+3ZpWlqOrD9xz3ipqsm2P2YTZFRAaqo/T7vezBbTqT917w0xnGOoP+ulYmzzt8E/1pg8724Crj9kbsXRwa/BPwzawQ2xLqw/voyJ+NVmqz82fT39Pf+0PwkkP50inqg/VYbopg42tD/I6plQnFKnPx8h72UNFrQ/SIopWgLTpj/aePSmsNKzP2Yyt4cCSac/VEn6hfWuuT+6EBbADRusP9DkYcvd86k/7Jga/L0EmT+AlVWfBF2mPxjzNiTT8ac/Z2LROQEnwT9nBrUynm6oPw==\",\"dtype\":\"float64\",\"shape\":[29]},\"y\":{\"__ndarray__\":\"WOSOOQ3HmD/DB+qoTeSYPz8gM8cJiro/qnje+c67mT+BWIWMAtq2P1qPJpQrmJ4/GJcxQeoAoD+Kt6vAtmWhP3Db/+DGpsm/rhKVo7/mlD8CgX9sNYrJv2vCGiLonZo/JnMKD65vmz+U4bdy1gXGvzKxoO5RVJ0/yqOLOQcwxr+oovt5dIecP7sLVHeis8W/cDpIFlNxnD/uyvR930DFv5H2mH/nT1O//3bJKPx70r/RHyAMIUyZP20SJVryrJo/U2A5hCU2ZD+iiy/UIiicvxOhg6FNvpk/7RlHyM4Dtz/vHteXZj+VPw==\",\"dtype\":\"float64\",\"shape\":[29]}},\"selected\":null,\"selection_policy\":null},\"id\":\"2b531bdf-3c4a-4d7d-b10f-e33905d85789\",\"type\":\"ColumnDataSource\"},{\"attributes\":{},\"id\":\"cba97696-5b17-4836-a5b9-d269b3e77bcd\",\"type\":\"BasicTicker\"},{\"attributes\":{\"plot\":{\"id\":\"347ab833-a443-4459-b311-0c8692793c11\",\"subtype\":\"Figure\",\"type\":\"Plot\"},\"ticker\":{\"id\":\"cba97696-5b17-4836-a5b9-d269b3e77bcd\",\"type\":\"BasicTicker\"}},\"id\":\"273fbdb8-090f-44a2-9f21-d06ef754a753\",\"type\":\"Grid\"},{\"attributes\":{\"source\":{\"id\":\"423e2029-32f0-4e63-9086-a84987721995\",\"type\":\"ColumnDataSource\"}},\"id\":\"51cb200a-bb52-4af3-b07c-9048c3875c29\",\"type\":\"CDSView\"},{\"attributes\":{\"formatter\":{\"id\":\"523d14a1-bb0c-42fd-953e-34728f7608b8\",\"type\":\"BasicTickFormatter\"},\"plot\":{\"id\":\"347ab833-a443-4459-b311-0c8692793c11\",\"subtype\":\"Figure\",\"type\":\"Plot\"},\"ticker\":{\"id\":\"e25d2161-9667-4d24-bf82-9efe7aa0e609\",\"type\":\"BasicTicker\"}},\"id\":\"ad05a489-8844-4769-be78-cf30b7f1f3e7\",\"type\":\"LinearAxis\"},{\"attributes\":{\"callback\":null,\"column_names\":[\"x\",\"y\",\"desc\",\"pred\",\"not_skip\"],\"data\":{\"desc\":[\"- utter_ask_details\",\"- utter_explain_details_hotel\",\"- utter_ask_details\",\"- utter_chitchat\",\"- utter_ask_details\",\"- utter_ask_startdate\",\"- utter_ask_location\",\"- utter_correct_startdate_hotel\",\"- utter_ask_location\",\"- utter_explain_location_hotel\",\"- utter_ask_location\",\"- utter_ask_price\",\"- utter_chitchat\",\"- utter_ask_price\",\"- utter_chitchat\",\"- utter_ask_price\",\"- utter_chitchat\",\"- utter_ask_price\",\"- utter_chitchat\",\"- utter_ask_price\",\"- utter_explain_price_hotel\",\"- utter_ask_price\",\"- utter_ask_people\",\"- utter_filled_slots\",\"- action_search_hotel\",\"- utter_suggest_hotel\",\"- utter_chitchat\",\"- utter_suggest_hotel\",\"- utter_happy\"],\"not_skip\":[1.0,1.0,0.0,1.0,0.0,1.0,1.0,1.0,0.0,1.0,0.0,1.0,1.0,0.0,1.0,0.0,1.0,0.0,1.0,0.0,1.0,0.0,1.0,1.0,1.0,1.0,1.0,0.0,1.0],\"pred\":[\"- utter_ask_details\",\"- utter_explain_people_hotel\",\"- utter_ask_details\",\"- utter_chitchat\",\"- utter_ask_details\",\"- utter_ask_startdate\",\"- utter_ask_location\",\"- utter_correct_startdate_hotel\",\"- utter_ask_location\",\"- utter_explain_location_hotel\",\"- utter_ask_location\",\"- utter_ask_price\",\"- utter_chitchat\",\"- utter_ask_price\",\"- utter_chitchat\",\"- utter_ask_price\",\"- utter_chitchat\",\"- utter_ask_price\",\"- utter_chitchat\",\"- utter_ask_price\",\"- utter_explain_price_hotel\",\"- utter_ask_price\",\"- utter_ask_people\",\"- utter_filled_slots\",\"- action_search_hotel\",\"- utter_suggest_hotel\",\"- utter_chitchat\",\"- utter_suggest_hotel\",\"- utter_happy\"],\"x\":{\"__ndarray__\":\"j34NPF/Xtz8IpFSP6IiMPwNK4q5MY6I/ryXdAvJV0b+wjzpmv7mwP0LyrDv9V8I/u6jmaxpIwT8N1JkxhrmAP0Y7Jb6sErM/layiBkCHlr9LFLW4TaS4PyjhinaeWKY/TqplXPXu1r+YZ36z7yV5P8Ao/MR/u9a/TY43AK/jdj8qT7cKQ1zXv0RmYOMYyno/hqi0t82g17/6x++MSFp/P2dXJ6yri6C/L5aPLLdvir/4SAS6KNGjP5fh5VJnV7A/+ikntCzozb+/4kVcWnHcP/1wwwSXU9G/+tYDshW40j/jUpUaJEPYPw==\",\"dtype\":\"float64\",\"shape\":[29]},\"y\":{\"__ndarray__\":\"bX/asC5ttj80gZ4VDSm/P6LKdAejKrc/aonFqF31uj9dF94f3/GbP1K/XHLsZK0/OpG4tHCLwb/h2xwSAXrXPxDQO/tlfLC/IePRm8/llz84cU557Jmxv8tBFNy098y/cCxnfCLsuD9IyemxTsewv04n8llqqrg/KYWqtil2sL+RC4/2I1u5Pyws5wWEUa+/gOkzXxcRuj9+1P0+rYWuv4O7pUniP2o/Srh+6rsWj790dA1vCIhyP75Lz1Kll7U/IuARmL29tL+k/B+O4krfP/ZdLRxIRcA/Ca48MGzo0D8y498UM7aHvw==\",\"dtype\":\"float64\",\"shape\":[29]}},\"selected\":null,\"selection_policy\":null},\"id\":\"423e2029-32f0-4e63-9086-a84987721995\",\"type\":\"ColumnDataSource\"},{\"attributes\":{},\"id\":\"e25d2161-9667-4d24-bf82-9efe7aa0e609\",\"type\":\"BasicTicker\"},{\"attributes\":{\"dimension\":1,\"plot\":{\"id\":\"347ab833-a443-4459-b311-0c8692793c11\",\"subtype\":\"Figure\",\"type\":\"Plot\"},\"ticker\":{\"id\":\"e25d2161-9667-4d24-bf82-9efe7aa0e609\",\"type\":\"BasicTicker\"}},\"id\":\"fcb80b30-ff0a-4983-b9d1-3523834c2df5\",\"type\":\"Grid\"},{\"attributes\":{\"fill_alpha\":{\"value\":0.1},\"fill_color\":{\"value\":\"#1f77b4\"},\"line_alpha\":{\"value\":0.1},\"line_color\":{\"value\":\"#1f77b4\"},\"size\":{\"units\":\"screen\",\"value\":5},\"x\":{\"field\":\"x\"},\"y\":{\"field\":\"y\"}},\"id\":\"1d1d97e0-dee8-497f-9036-e87f12e4d7e4\",\"type\":\"Circle\"},{\"attributes\":{\"end\":{\"id\":\"a97759c9-c373-491d-9de0-e2a5508c3aa2\",\"type\":\"OpenHead\"},\"line_color\":{\"value\":\"gray\"},\"plot\":{\"id\":\"347ab833-a443-4459-b311-0c8692793c11\",\"subtype\":\"Figure\",\"type\":\"Plot\"},\"source\":null,\"start\":null,\"x_end\":{\"value\":0.02905640531580811},\"x_start\":{\"value\":-0.3753995515330198},\"y_end\":{\"value\":-0.2549101256491246},\"y_start\":{\"value\":0.10271058883660525}},\"id\":\"a2051f56-ebea-42ff-b524-0f31028a5545\",\"type\":\"Arrow\"},{\"attributes\":{\"callback\":null,\"data\":{},\"selected\":null,\"selection_policy\":null},\"id\":\"00842943-6833-441c-a814-3aeb0409e158\",\"type\":\"ColumnDataSource\"},{\"attributes\":{\"line_color\":{\"value\":\"firebrick\"},\"line_width\":{\"value\":2},\"plot\":null,\"size\":10},\"id\":\"7fd73d40-daee-4112-ba16-81ea8ab6c487\",\"type\":\"OpenHead\"},{\"attributes\":{\"fill_color\":{\"value\":\"magenta\"},\"line_color\":{\"value\":\"magenta\"},\"size\":{\"units\":\"screen\",\"value\":5},\"x\":{\"value\":0.05594547785535445},\"y\":{\"value\":0.02419682182128144}},\"id\":\"814d1bb4-a9a2-476d-8d21-3c2771745f2d\",\"type\":\"Circle\"},{\"attributes\":{\"line_color\":{\"value\":\"firebrick\"},\"line_width\":{\"value\":2},\"plot\":null,\"size\":10},\"id\":\"8c6e4f59-cce4-4911-a30d-7799490b941b\",\"type\":\"OpenHead\"},{\"attributes\":{\"callback\":null,\"data\":{},\"selected\":null,\"selection_policy\":null},\"id\":\"eb58ced8-a1f9-4790-8916-79f52f85b515\",\"type\":\"ColumnDataSource\"},{\"attributes\":{\"end\":{\"id\":\"d8187662-4202-443e-a7d9-23808a888ec9\",\"type\":\"OpenHead\"},\"line_color\":{\"value\":\"gray\"},\"plot\":{\"id\":\"347ab833-a443-4459-b311-0c8692793c11\",\"subtype\":\"Figure\",\"type\":\"Plot\"},\"source\":null,\"start\":null,\"x_end\":{\"value\":-0.3753995515330198},\"x_start\":{\"value\":0.028592598456574383},\"y_end\":{\"value\":0.10271058883660525},\"y_start\":{\"value\":-0.2618405527854391}},\"id\":\"411f427b-4968-4ec1-85dc-42c8e3bc8f8e\",\"type\":\"Arrow\"},{\"attributes\":{\"fill_alpha\":{\"value\":0.1},\"fill_color\":{\"value\":\"#1f77b4\"},\"line_alpha\":{\"value\":0.1},\"line_color\":{\"value\":\"#1f77b4\"},\"size\":{\"units\":\"screen\",\"value\":5},\"x\":{\"value\":0.05594547785535445},\"y\":{\"value\":0.02419682182128144}},\"id\":\"a059b3a1-cbb6-4c45-b6d0-d2d8ee416085\",\"type\":\"Circle\"},{\"attributes\":{\"fill_alpha\":{\"value\":0.1},\"fill_color\":{\"value\":\"#1f77b4\"},\"line_alpha\":{\"value\":0.1},\"line_color\":{\"value\":\"#1f77b4\"},\"x\":{\"value\":0.1392568190555826},\"y\":{\"value\":-0.20309194961420987}},\"id\":\"00d5c32d-1a28-4324-b511-c6c84bae9453\",\"type\":\"Circle\"},{\"attributes\":{\"end\":{\"id\":\"2d4f83ab-0357-4fd7-af4c-37f80b6bc422\",\"type\":\"OpenHead\"},\"line_color\":{\"value\":\"gray\"},\"plot\":{\"id\":\"347ab833-a443-4459-b311-0c8692793c11\",\"subtype\":\"Figure\",\"type\":\"Plot\"},\"source\":null,\"start\":null,\"x_end\":{\"value\":0.08565637436716099},\"x_start\":{\"value\":0.014002850883277566},\"y_end\":{\"value\":0.169966306030903},\"y_start\":{\"value\":0.12183172910549814}},\"id\":\"cab1f7c8-aef3-4ff0-b259-b8851870a6af\",\"type\":\"Arrow\"},{\"attributes\":{\"source\":{\"id\":\"eb58ced8-a1f9-4790-8916-79f52f85b515\",\"type\":\"ColumnDataSource\"}},\"id\":\"f6a5bdfe-0c17-4b46-b58f-0195525f3353\",\"type\":\"CDSView\"},{\"attributes\":{\"data_source\":{\"id\":\"eb58ced8-a1f9-4790-8916-79f52f85b515\",\"type\":\"ColumnDataSource\"},\"glyph\":{\"id\":\"814d1bb4-a9a2-476d-8d21-3c2771745f2d\",\"type\":\"Circle\"},\"hover_glyph\":null,\"muted_glyph\":null,\"nonselection_glyph\":{\"id\":\"a059b3a1-cbb6-4c45-b6d0-d2d8ee416085\",\"type\":\"Circle\"},\"selection_glyph\":null,\"view\":{\"id\":\"f6a5bdfe-0c17-4b46-b58f-0195525f3353\",\"type\":\"CDSView\"}},\"id\":\"518ec73b-d460-4ba1-8f3c-030cf1a6fc8a\",\"type\":\"GlyphRenderer\"},{\"attributes\":{\"line_color\":{\"value\":\"firebrick\"},\"line_width\":{\"value\":2},\"plot\":null,\"size\":10},\"id\":\"8787163b-5357-47a8-abf3-15330f04a39a\",\"type\":\"OpenHead\"},{\"attributes\":{\"end\":{\"id\":\"7fd73d40-daee-4112-ba16-81ea8ab6c487\",\"type\":\"OpenHead\"},\"line_color\":{\"value\":\"gray\"},\"plot\":{\"id\":\"347ab833-a443-4459-b311-0c8692793c11\",\"subtype\":\"Figure\",\"type\":\"Plot\"},\"source\":null,\"start\":null,\"x_end\":{\"value\":-0.27104259894874255},\"x_start\":{\"value\":0.08565637436716099},\"y_end\":{\"value\":0.1062401582720832},\"y_start\":{\"value\":0.169966306030903}},\"id\":\"01b8bf87-b94d-490a-b0f8-5c9643b56ecb\",\"type\":\"Arrow\"},{\"attributes\":{\"data_source\":{\"id\":\"00842943-6833-441c-a814-3aeb0409e158\",\"type\":\"ColumnDataSource\"},\"glyph\":{\"id\":\"df3cbed6-7395-435c-aa4c-169c732869c4\",\"type\":\"Circle\"},\"hover_glyph\":null,\"muted_glyph\":null,\"nonselection_glyph\":{\"id\":\"308237e1-56f5-4633-b7dc-93d69b3b060a\",\"type\":\"Circle\"},\"selection_glyph\":null,\"view\":{\"id\":\"6721e177-91bf-426b-b4ed-d5ffc7a5d788\",\"type\":\"CDSView\"}},\"id\":\"20a5c39f-cd62-4a96-af0d-e4d3913d4d88\",\"type\":\"GlyphRenderer\"},{\"attributes\":{\"line_color\":{\"value\":\"firebrick\"},\"line_width\":{\"value\":2},\"plot\":null,\"size\":10},\"id\":\"b671087f-fd49-4fc9-bf59-c254a0957eeb\",\"type\":\"OpenHead\"},{\"attributes\":{\"callback\":null,\"data\":{},\"selected\":null,\"selection_policy\":null},\"id\":\"0717cf48-bf0e-454c-8299-4bc0d6fc7d67\",\"type\":\"ColumnDataSource\"},{\"attributes\":{\"source\":{\"id\":\"f011c53f-e8a7-4c7c-9830-ff8fdc912a23\",\"type\":\"ColumnDataSource\"}},\"id\":\"ed67240e-ca62-4683-b5a8-428e01fd79d3\",\"type\":\"CDSView\"},{\"attributes\":{\"end\":{\"id\":\"8787163b-5357-47a8-abf3-15330f04a39a\",\"type\":\"OpenHead\"},\"line_color\":{\"value\":\"gray\"},\"plot\":{\"id\":\"347ab833-a443-4459-b311-0c8692793c11\",\"subtype\":\"Figure\",\"type\":\"Plot\"},\"source\":null,\"start\":null,\"x_end\":{\"value\":0.09840349392002062},\"x_start\":{\"value\":-0.27104259894874255},\"y_end\":{\"value\":0.09235710014012025},\"y_start\":{\"value\":0.1062401582720832}},\"id\":\"eab6fd5a-d262-4947-85ca-62eac437ecd6\",\"type\":\"Arrow\"},{\"attributes\":{\"fill_color\":{\"value\":\"green\"},\"line_color\":{\"value\":\"green\"},\"size\":{\"units\":\"screen\",\"value\":10},\"x\":{\"value\":0.0931300660718028},\"y\":{\"value\":0.08760349099838793}},\"id\":\"df3cbed6-7395-435c-aa4c-169c732869c4\",\"type\":\"Circle\"},{\"attributes\":{\"line_color\":{\"value\":\"firebrick\"},\"line_width\":{\"value\":2},\"plot\":null,\"size\":10},\"id\":\"a5dba983-7f6c-48a8-85bb-380c30245ba4\",\"type\":\"OpenHead\"},{\"attributes\":{\"source\":{\"id\":\"00842943-6833-441c-a814-3aeb0409e158\",\"type\":\"ColumnDataSource\"}},\"id\":\"6721e177-91bf-426b-b4ed-d5ffc7a5d788\",\"type\":\"CDSView\"},{\"attributes\":{\"end\":{\"id\":\"b671087f-fd49-4fc9-bf59-c254a0957eeb\",\"type\":\"OpenHead\"},\"line_color\":{\"value\":\"gray\"},\"plot\":{\"id\":\"347ab833-a443-4459-b311-0c8692793c11\",\"subtype\":\"Figure\",\"type\":\"Plot\"},\"source\":null,\"start\":null,\"x_end\":{\"value\":0.13895662057438207},\"x_start\":{\"value\":0.09840349392002062},\"y_end\":{\"value\":0.06309114756032749},\"y_start\":{\"value\":0.09235710014012025}},\"id\":\"cf1c117d-4ad6-42ea-99a4-e4bb8c39becd\",\"type\":\"Arrow\"},{\"attributes\":{\"fill_alpha\":{\"value\":0.1},\"fill_color\":{\"value\":\"#1f77b4\"},\"line_alpha\":{\"value\":0.1},\"line_color\":{\"value\":\"#1f77b4\"},\"size\":{\"units\":\"screen\",\"value\":10},\"x\":{\"value\":0.0931300660718028},\"y\":{\"value\":0.08760349099838793}},\"id\":\"308237e1-56f5-4633-b7dc-93d69b3b060a\",\"type\":\"Circle\"},{\"attributes\":{\"data_source\":{\"id\":\"0717cf48-bf0e-454c-8299-4bc0d6fc7d67\",\"type\":\"ColumnDataSource\"},\"glyph\":{\"id\":\"dd7b2cad-dd01-4b99-934d-77086cc432c6\",\"type\":\"Circle\"},\"hover_glyph\":null,\"muted_glyph\":null,\"nonselection_glyph\":{\"id\":\"a0ab5549-6eb0-4a61-afc9-39062ca92a7b\",\"type\":\"Circle\"},\"selection_glyph\":null,\"view\":{\"id\":\"2d271d92-d267-4602-9458-2414c9b34546\",\"type\":\"CDSView\"}},\"id\":\"c5d66b4d-f272-4008-8554-229f36d1d5ce\",\"type\":\"GlyphRenderer\"},{\"attributes\":{\"line_color\":{\"value\":\"firebrick\"},\"line_width\":{\"value\":2},\"plot\":null,\"size\":10},\"id\":\"8de605f1-8f08-49e8-8fe2-19ebe96115db\",\"type\":\"OpenHead\"},{\"attributes\":{\"end\":{\"id\":\"a5dba983-7f6c-48a8-85bb-380c30245ba4\",\"type\":\"OpenHead\"},\"line_color\":{\"value\":\"gray\"},\"plot\":{\"id\":\"347ab833-a443-4459-b311-0c8692793c11\",\"subtype\":\"Figure\",\"type\":\"Plot\"},\"source\":null,\"start\":null,\"x_end\":{\"value\":0.12950604824184558},\"x_start\":{\"value\":0.13895662057438207},\"y_end\":{\"value\":-0.13000772246189501},\"y_start\":{\"value\":0.06309114756032749}},\"id\":\"ddb4367d-fa94-4767-ae80-484c44304ecb\",\"type\":\"Arrow\"},{\"attributes\":{\"line_color\":{\"value\":\"firebrick\"},\"line_width\":{\"value\":2},\"plot\":null,\"size\":10},\"id\":\"acb9e7cb-35d7-4240-a831-cc0a0d06c9f9\",\"type\":\"OpenHead\"},{\"attributes\":{\"fill_color\":{\"value\":\"red\"},\"line_color\":{\"value\":\"red\"},\"size\":{\"units\":\"screen\",\"value\":10},\"x\":{\"value\":0.3708714345834348},\"y\":{\"value\":-0.015025144481799394}},\"id\":\"dd7b2cad-dd01-4b99-934d-77086cc432c6\",\"type\":\"Circle\"},{\"attributes\":{\"end\":{\"id\":\"8de605f1-8f08-49e8-8fe2-19ebe96115db\",\"type\":\"OpenHead\"},\"line_color\":{\"value\":\"gray\"},\"plot\":{\"id\":\"347ab833-a443-4459-b311-0c8692793c11\",\"subtype\":\"Figure\",\"type\":\"Plot\"},\"source\":null,\"start\":null,\"x_end\":{\"value\":-0.00014414656968373744},\"x_start\":{\"value\":0.12950604824184558},\"y_end\":{\"value\":0.3766038635424055},\"y_start\":{\"value\":-0.13000772246189501}},\"id\":\"6ac8f21d-1b94-403e-8280-d9fe6910e3c8\",\"type\":\"Arrow\"},{\"attributes\":{\"source\":{\"id\":\"0717cf48-bf0e-454c-8299-4bc0d6fc7d67\",\"type\":\"ColumnDataSource\"}},\"id\":\"2d271d92-d267-4602-9458-2414c9b34546\",\"type\":\"CDSView\"},{\"attributes\":{\"data_source\":{\"id\":\"f011c53f-e8a7-4c7c-9830-ff8fdc912a23\",\"type\":\"ColumnDataSource\"},\"glyph\":{\"id\":\"dc8dc1af-cea4-493b-8c6c-d8fcbf8d1706\",\"type\":\"Circle\"},\"hover_glyph\":null,\"muted_glyph\":null,\"nonselection_glyph\":{\"id\":\"00d5c32d-1a28-4324-b511-c6c84bae9453\",\"type\":\"Circle\"},\"selection_glyph\":null,\"view\":{\"id\":\"ed67240e-ca62-4683-b5a8-428e01fd79d3\",\"type\":\"CDSView\"}},\"id\":\"1db745d9-cfee-44a7-8a51-a238a358f252\",\"type\":\"GlyphRenderer\"},{\"attributes\":{\"line_color\":{\"value\":\"firebrick\"},\"line_width\":{\"value\":2},\"plot\":null,\"size\":10},\"id\":\"5c6a97b9-5208-4f47-a522-649286a9e722\",\"type\":\"OpenHead\"},{\"attributes\":{\"fill_alpha\":{\"value\":0.1},\"fill_color\":{\"value\":\"#1f77b4\"},\"line_alpha\":{\"value\":0.1},\"line_color\":{\"value\":\"#1f77b4\"},\"size\":{\"units\":\"screen\",\"value\":10},\"x\":{\"value\":0.3708714345834348},\"y\":{\"value\":-0.015025144481799394}},\"id\":\"a0ab5549-6eb0-4a61-afc9-39062ca92a7b\",\"type\":\"Circle\"},{\"attributes\":{\"end\":{\"id\":\"acb9e7cb-35d7-4240-a831-cc0a0d06c9f9\",\"type\":\"OpenHead\"},\"line_color\":{\"value\":\"gray\"},\"plot\":{\"id\":\"347ab833-a443-4459-b311-0c8692793c11\",\"subtype\":\"Figure\",\"type\":\"Plot\"},\"source\":null,\"start\":null,\"x_end\":{\"value\":0.1569844583470701},\"x_start\":{\"value\":-0.00014414656968373744},\"y_end\":{\"value\":-0.2889971105351218},\"y_start\":{\"value\":0.3766038635424055}},\"id\":\"c7ac06af-202f-4a92-80f4-9c956f444136\",\"type\":\"Arrow\"},{\"attributes\":{\"line_color\":{\"value\":\"firebrick\"},\"line_width\":{\"value\":2},\"plot\":null,\"size\":10},\"id\":\"e67f42b8-cd28-4f7d-90e6-78d7d02613e7\",\"type\":\"OpenHead\"},{\"attributes\":{\"end\":{\"id\":\"5c6a97b9-5208-4f47-a522-649286a9e722\",\"type\":\"OpenHead\"},\"line_color\":{\"value\":\"gray\"},\"plot\":{\"id\":\"347ab833-a443-4459-b311-0c8692793c11\",\"subtype\":\"Figure\",\"type\":\"Plot\"},\"source\":null,\"start\":null,\"x_end\":{\"value\":-0.019333474930818086},\"x_start\":{\"value\":0.1569844583470701},\"y_end\":{\"value\":0.01955226229662152},\"y_start\":{\"value\":-0.2889971105351218}},\"id\":\"ad4d455d-3bdf-475a-9766-b4452120b796\",\"type\":\"Arrow\"},{\"attributes\":{\"line_color\":{\"value\":\"firebrick\"},\"line_width\":{\"value\":2},\"plot\":null,\"size\":10},\"id\":\"4934da73-b9b7-4656-9c81-21800cb63383\",\"type\":\"OpenHead\"},{\"attributes\":{\"end\":{\"id\":\"e67f42b8-cd28-4f7d-90e6-78d7d02613e7\",\"type\":\"OpenHead\"},\"line_color\":{\"value\":\"gray\"},\"plot\":{\"id\":\"347ab833-a443-4459-b311-0c8692793c11\",\"subtype\":\"Figure\",\"type\":\"Plot\"},\"source\":null,\"start\":null,\"x_end\":{\"value\":0.17848777840592475},\"x_start\":{\"value\":-0.019333474930818086},\"y_end\":{\"value\":-0.292482069687605},\"y_start\":{\"value\":0.01955226229662152}},\"id\":\"9a24fd37-932c-4a25-abf7-37e2c1a67017\",\"type\":\"Arrow\"},{\"attributes\":{\"line_color\":{\"value\":\"firebrick\"},\"line_width\":{\"value\":2},\"plot\":null,\"size\":10},\"id\":\"9ef76164-a8b3-46a6-9aef-27768d975981\",\"type\":\"OpenHead\"},{\"attributes\":{\"end\":{\"id\":\"4934da73-b9b7-4656-9c81-21800cb63383\",\"type\":\"OpenHead\"},\"line_color\":{\"value\":\"gray\"},\"plot\":{\"id\":\"347ab833-a443-4459-b311-0c8692793c11\",\"subtype\":\"Figure\",\"type\":\"Plot\"},\"source\":null,\"start\":null,\"x_end\":{\"value\":0.042743117357312836},\"x_start\":{\"value\":0.17848777840592475},\"y_end\":{\"value\":-0.22451322795712433},\"y_start\":{\"value\":-0.292482069687605}},\"id\":\"65c1922c-a821-47c5-b95b-5ea9489c3405\",\"type\":\"Arrow\"},{\"attributes\":{\"line_color\":{\"value\":\"firebrick\"},\"line_width\":{\"value\":2},\"plot\":null,\"size\":10},\"id\":\"512b0039-e17a-4312-a7a0-554b2b7dbac5\",\"type\":\"OpenHead\"},{\"attributes\":{\"fill_color\":{\"value\":\"black\"},\"x\":{\"value\":0.1392568190555826},\"y\":{\"value\":-0.20309194961420987}},\"id\":\"dc8dc1af-cea4-493b-8c6c-d8fcbf8d1706\",\"type\":\"Circle\"},{\"attributes\":{\"end\":{\"id\":\"9ef76164-a8b3-46a6-9aef-27768d975981\",\"type\":\"OpenHead\"},\"line_color\":{\"value\":\"gray\"},\"plot\":{\"id\":\"347ab833-a443-4459-b311-0c8692793c11\",\"subtype\":\"Figure\",\"type\":\"Plot\"},\"source\":null,\"start\":null,\"x_end\":{\"value\":-0.36076138650994777},\"x_start\":{\"value\":0.042743117357312836},\"y_end\":{\"value\":0.09994951731474089},\"y_start\":{\"value\":-0.22451322795712433}},\"id\":\"0bcb76e4-4369-42c2-9211-560b04cec1cb\",\"type\":\"Arrow\"},{\"attributes\":{\"line_color\":{\"value\":\"firebrick\"},\"line_width\":{\"value\":2},\"plot\":null,\"size\":10},\"id\":\"9ef27647-768a-475b-89bd-d0b941ff6770\",\"type\":\"OpenHead\"},{\"attributes\":{\"end\":{\"id\":\"512b0039-e17a-4312-a7a0-554b2b7dbac5\",\"type\":\"OpenHead\"},\"line_color\":{\"value\":\"gray\"},\"plot\":{\"id\":\"347ab833-a443-4459-b311-0c8692793c11\",\"subtype\":\"Figure\",\"type\":\"Plot\"},\"source\":null,\"start\":null,\"x_end\":{\"value\":0.03221390381939985},\"x_start\":{\"value\":-0.36076138650994777},\"y_end\":{\"value\":-0.2617911627294736},\"y_start\":{\"value\":0.09994951731474089}},\"id\":\"497e8dea-2f4d-4e72-bc5a-f0bde9ca5a6e\",\"type\":\"Arrow\"},{\"attributes\":{\"line_color\":{\"value\":\"firebrick\"},\"line_width\":{\"value\":2},\"plot\":null,\"size\":10},\"id\":\"329ab291-d1dd-4666-95de-076e0ba5acee\",\"type\":\"OpenHead\"},{\"attributes\":{\"end\":{\"id\":\"9ef27647-768a-475b-89bd-d0b941ff6770\",\"type\":\"OpenHead\"},\"line_color\":{\"value\":\"gray\"},\"plot\":{\"id\":\"347ab833-a443-4459-b311-0c8692793c11\",\"subtype\":\"Figure\",\"type\":\"Plot\"},\"source\":null,\"start\":null,\"x_end\":{\"value\":-0.36305803200808845},\"x_start\":{\"value\":0.03221390381939985},\"y_end\":{\"value\":0.1007954778775079},\"y_start\":{\"value\":-0.2617911627294736}},\"id\":\"05190aa1-917f-4cbc-9ded-eaa4063cd5b2\",\"type\":\"Arrow\"},{\"attributes\":{\"line_color\":{\"value\":\"firebrick\"},\"line_width\":{\"value\":2},\"plot\":null,\"size\":10},\"id\":\"d8187662-4202-443e-a7d9-23808a888ec9\",\"type\":\"OpenHead\"},{\"attributes\":{\"end\":{\"id\":\"329ab291-d1dd-4666-95de-076e0ba5acee\",\"type\":\"OpenHead\"},\"line_color\":{\"value\":\"gray\"},\"plot\":{\"id\":\"347ab833-a443-4459-b311-0c8692793c11\",\"subtype\":\"Figure\",\"type\":\"Plot\"},\"source\":null,\"start\":null,\"x_end\":{\"value\":0.028592598456574383},\"x_start\":{\"value\":-0.36305803200808845},\"y_end\":{\"value\":-0.2618405527854391},\"y_start\":{\"value\":0.1007954778775079}},\"id\":\"e2ded1dd-c58e-474b-9e68-c7a618d8d249\",\"type\":\"Arrow\"},{\"attributes\":{\"line_color\":{\"value\":\"firebrick\"},\"line_width\":{\"value\":2},\"plot\":null,\"size\":10},\"id\":\"a97759c9-c373-491d-9de0-e2a5508c3aa2\",\"type\":\"OpenHead\"}],\"root_ids\":[\"347ab833-a443-4459-b311-0c8692793c11\"]},\"title\":\"Bokeh Application\",\"version\":\"0.12.15\"}};\n",
       "  var render_items = [{\"docid\":\"16cfbd7b-b5f2-4e06-9035-9a18049e5434\",\"elementid\":\"e38ee173-28d2-4a73-a4d0-aa968c67dc81\",\"modelid\":\"347ab833-a443-4459-b311-0c8692793c11\"}];\n",
       "  root.Bokeh.embed.embed_items_notebook(docs_json, render_items);\n",
       "\n",
       "  }\n",
       "  if (root.Bokeh !== undefined) {\n",
       "    embed_document(root);\n",
       "  } else {\n",
       "    var attempts = 0;\n",
       "    var timer = setInterval(function(root) {\n",
       "      if (root.Bokeh !== undefined) {\n",
       "        embed_document(root);\n",
       "        clearInterval(timer);\n",
       "      }\n",
       "      attempts++;\n",
       "      if (attempts > 100) {\n",
       "        console.log(\"Bokeh: ERROR: Unable to run BokehJS code because BokehJS library is missing\")\n",
       "        clearInterval(timer);\n",
       "      }\n",
       "    }, 10, root)\n",
       "  }\n",
       "})(window);"
      ],
      "application/vnd.bokehjs_exec.v0+json": ""
     },
     "metadata": {
      "application/vnd.bokehjs_exec.v0+json": {
       "id": "347ab833-a443-4459-b311-0c8692793c11"
      }
     },
     "output_type": "display_data"
    }
   ],
   "source": [
    "show(p)"
   ]
  },
  {
   "cell_type": "code",
   "execution_count": 22,
   "metadata": {},
   "outputs": [],
   "source": [
    "from collections import namedtuple"
   ]
  },
  {
   "cell_type": "code",
   "execution_count": 23,
   "metadata": {},
   "outputs": [
    {
     "data": {
      "text/plain": [
       "OrderedDict([('x', 11), ('y', 22)])"
      ]
     },
     "execution_count": 23,
     "metadata": {},
     "output_type": "execute_result"
    }
   ],
   "source": [
    "Point = namedtuple('Point', ['x', 'y'])\n",
    "p = Point(11, y=22)\n",
    "p._asdict()"
   ]
  },
  {
   "cell_type": "code",
   "execution_count": 24,
   "metadata": {},
   "outputs": [],
   "source": [
    "Point3D = namedtuple('Point3D', Point._fields + ('z',))"
   ]
  },
  {
   "cell_type": "code",
   "execution_count": 25,
   "metadata": {},
   "outputs": [
    {
     "data": {
      "text/plain": [
       "OrderedDict([('x', 11), ('y', 22), ('z', 3)])"
      ]
     },
     "execution_count": 25,
     "metadata": {},
     "output_type": "execute_result"
    }
   ],
   "source": [
    "p_asdict = p._asdict()\n",
    "p_asdict['z'] = 3\n",
    "p_asdict"
   ]
  },
  {
   "cell_type": "code",
   "execution_count": 26,
   "metadata": {},
   "outputs": [
    {
     "data": {
      "text/plain": [
       "Point3D(x=11, y=22, z=3)"
      ]
     },
     "execution_count": 26,
     "metadata": {},
     "output_type": "execute_result"
    }
   ],
   "source": [
    "p3D = Point3D(**p_asdict)\n",
    "p3D"
   ]
  },
  {
   "cell_type": "code",
   "execution_count": 27,
   "metadata": {},
   "outputs": [],
   "source": [
    "x ={\n",
    "        \"day\": \"20\",\n",
    "        \"month\": \"06\",\n",
    "        \"year\": \"2018\"\n",
    "    }"
   ]
  },
  {
   "cell_type": "code",
   "execution_count": 28,
   "metadata": {},
   "outputs": [
    {
     "data": {
      "text/plain": [
       "{'day': '20', 'month': '06', 'year': '2018'}"
      ]
     },
     "execution_count": 28,
     "metadata": {},
     "output_type": "execute_result"
    }
   ],
   "source": [
    "x"
   ]
  },
  {
   "cell_type": "code",
   "execution_count": 29,
   "metadata": {},
   "outputs": [
    {
     "data": {
      "text/plain": [
       "{'touched': True, 'value': {'value1': '20', 'value2': '06', 'value3': '2018'}}"
      ]
     },
     "execution_count": 29,
     "metadata": {},
     "output_type": "execute_result"
    }
   ],
   "source": [
    "def value_touched_dict(value):\n",
    "    if isinstance(value, dict) and value.get(\"day\"):\n",
    "        value[\"value1\"] = value.pop(\"day\")\n",
    "        value[\"value2\"] = value.pop(\"month\")\n",
    "        value[\"value3\"] = value.pop(\"year\")\n",
    "    return {\"value\": value,\n",
    "            \"touched\": True}\n",
    "value_touched_dict(x)"
   ]
  },
  {
   "cell_type": "code",
   "execution_count": 30,
   "metadata": {},
   "outputs": [
    {
     "data": {
      "text/plain": [
       "{'touched': True, 'value': 'x'}"
      ]
     },
     "execution_count": 30,
     "metadata": {},
     "output_type": "execute_result"
    }
   ],
   "source": [
    "value_touched_dict('x')"
   ]
  },
  {
   "cell_type": "code",
   "execution_count": null,
   "metadata": {},
   "outputs": [],
   "source": []
  }
 ],
 "metadata": {
  "kernelspec": {
   "display_name": "Python 3",
   "language": "python",
   "name": "python3"
  },
  "language_info": {
   "codemirror_mode": {
    "name": "ipython",
    "version": 3
   },
   "file_extension": ".py",
   "mimetype": "text/x-python",
   "name": "python",
   "nbconvert_exporter": "python",
   "pygments_lexer": "ipython3",
   "version": "3.6.5"
  }
 },
 "nbformat": 4,
 "nbformat_minor": 2
}
