{
 "cells": [
  {
   "cell_type": "code",
   "execution_count": 92,
   "metadata": {},
   "outputs": [
    {
     "name": "stdout",
     "output_type": "stream",
     "text": [
      "INFO:tensorflow:Restoring parameters from models/dialogue_embed/policy_0_EmbeddingPolicy/tensorflow_embedding.ckpt\n"
     ]
    },
    {
     "data": {
      "text/html": [
       "\n",
       "    <div class=\"bk-root\">\n",
       "        <a href=\"https://bokeh.pydata.org\" target=\"_blank\" class=\"bk-logo bk-logo-small bk-logo-notebook\"></a>\n",
       "        <span id=\"d0545896-4a61-49e9-a722-ae4d0ebd0983\">Loading BokehJS ...</span>\n",
       "    </div>"
      ]
     },
     "metadata": {},
     "output_type": "display_data"
    },
    {
     "data": {
      "application/javascript": [
       "\n",
       "(function(root) {\n",
       "  function now() {\n",
       "    return new Date();\n",
       "  }\n",
       "\n",
       "  var force = true;\n",
       "\n",
       "  if (typeof (root._bokeh_onload_callbacks) === \"undefined\" || force === true) {\n",
       "    root._bokeh_onload_callbacks = [];\n",
       "    root._bokeh_is_loading = undefined;\n",
       "  }\n",
       "\n",
       "  var JS_MIME_TYPE = 'application/javascript';\n",
       "  var HTML_MIME_TYPE = 'text/html';\n",
       "  var EXEC_MIME_TYPE = 'application/vnd.bokehjs_exec.v0+json';\n",
       "  var CLASS_NAME = 'output_bokeh rendered_html';\n",
       "\n",
       "  /**\n",
       "   * Render data to the DOM node\n",
       "   */\n",
       "  function render(props, node) {\n",
       "    var script = document.createElement(\"script\");\n",
       "    node.appendChild(script);\n",
       "  }\n",
       "\n",
       "  /**\n",
       "   * Handle when an output is cleared or removed\n",
       "   */\n",
       "  function handleClearOutput(event, handle) {\n",
       "    var cell = handle.cell;\n",
       "\n",
       "    var id = cell.output_area._bokeh_element_id;\n",
       "    var server_id = cell.output_area._bokeh_server_id;\n",
       "    // Clean up Bokeh references\n",
       "    if (id !== undefined) {\n",
       "      Bokeh.index[id].model.document.clear();\n",
       "      delete Bokeh.index[id];\n",
       "    }\n",
       "\n",
       "    if (server_id !== undefined) {\n",
       "      // Clean up Bokeh references\n",
       "      var cmd = \"from bokeh.io.state import curstate; print(curstate().uuid_to_server['\" + server_id + \"'].get_sessions()[0].document.roots[0]._id)\";\n",
       "      cell.notebook.kernel.execute(cmd, {\n",
       "        iopub: {\n",
       "          output: function(msg) {\n",
       "            var element_id = msg.content.text.trim();\n",
       "            Bokeh.index[element_id].model.document.clear();\n",
       "            delete Bokeh.index[element_id];\n",
       "          }\n",
       "        }\n",
       "      });\n",
       "      // Destroy server and session\n",
       "      var cmd = \"import bokeh.io.notebook as ion; ion.destroy_server('\" + server_id + \"')\";\n",
       "      cell.notebook.kernel.execute(cmd);\n",
       "    }\n",
       "  }\n",
       "\n",
       "  /**\n",
       "   * Handle when a new output is added\n",
       "   */\n",
       "  function handleAddOutput(event, handle) {\n",
       "    var output_area = handle.output_area;\n",
       "    var output = handle.output;\n",
       "\n",
       "    // limit handleAddOutput to display_data with EXEC_MIME_TYPE content only\n",
       "    if ((output.output_type != \"display_data\") || (!output.data.hasOwnProperty(EXEC_MIME_TYPE))) {\n",
       "      return\n",
       "    }\n",
       "\n",
       "    var toinsert = output_area.element.find(\".\" + CLASS_NAME.split(' ')[0]);\n",
       "\n",
       "    if (output.metadata[EXEC_MIME_TYPE][\"id\"] !== undefined) {\n",
       "      toinsert[toinsert.length - 1].firstChild.textContent = output.data[JS_MIME_TYPE];\n",
       "      // store reference to embed id on output_area\n",
       "      output_area._bokeh_element_id = output.metadata[EXEC_MIME_TYPE][\"id\"];\n",
       "    }\n",
       "    if (output.metadata[EXEC_MIME_TYPE][\"server_id\"] !== undefined) {\n",
       "      var bk_div = document.createElement(\"div\");\n",
       "      bk_div.innerHTML = output.data[HTML_MIME_TYPE];\n",
       "      var script_attrs = bk_div.children[0].attributes;\n",
       "      for (var i = 0; i < script_attrs.length; i++) {\n",
       "        toinsert[toinsert.length - 1].firstChild.setAttribute(script_attrs[i].name, script_attrs[i].value);\n",
       "      }\n",
       "      // store reference to server id on output_area\n",
       "      output_area._bokeh_server_id = output.metadata[EXEC_MIME_TYPE][\"server_id\"];\n",
       "    }\n",
       "  }\n",
       "\n",
       "  function register_renderer(events, OutputArea) {\n",
       "\n",
       "    function append_mime(data, metadata, element) {\n",
       "      // create a DOM node to render to\n",
       "      var toinsert = this.create_output_subarea(\n",
       "        metadata,\n",
       "        CLASS_NAME,\n",
       "        EXEC_MIME_TYPE\n",
       "      );\n",
       "      this.keyboard_manager.register_events(toinsert);\n",
       "      // Render to node\n",
       "      var props = {data: data, metadata: metadata[EXEC_MIME_TYPE]};\n",
       "      render(props, toinsert[toinsert.length - 1]);\n",
       "      element.append(toinsert);\n",
       "      return toinsert\n",
       "    }\n",
       "\n",
       "    /* Handle when an output is cleared or removed */\n",
       "    events.on('clear_output.CodeCell', handleClearOutput);\n",
       "    events.on('delete.Cell', handleClearOutput);\n",
       "\n",
       "    /* Handle when a new output is added */\n",
       "    events.on('output_added.OutputArea', handleAddOutput);\n",
       "\n",
       "    /**\n",
       "     * Register the mime type and append_mime function with output_area\n",
       "     */\n",
       "    OutputArea.prototype.register_mime_type(EXEC_MIME_TYPE, append_mime, {\n",
       "      /* Is output safe? */\n",
       "      safe: true,\n",
       "      /* Index of renderer in `output_area.display_order` */\n",
       "      index: 0\n",
       "    });\n",
       "  }\n",
       "\n",
       "  // register the mime type if in Jupyter Notebook environment and previously unregistered\n",
       "  if (root.Jupyter !== undefined) {\n",
       "    var events = require('base/js/events');\n",
       "    var OutputArea = require('notebook/js/outputarea').OutputArea;\n",
       "\n",
       "    if (OutputArea.prototype.mime_types().indexOf(EXEC_MIME_TYPE) == -1) {\n",
       "      register_renderer(events, OutputArea);\n",
       "    }\n",
       "  }\n",
       "\n",
       "  \n",
       "  if (typeof (root._bokeh_timeout) === \"undefined\" || force === true) {\n",
       "    root._bokeh_timeout = Date.now() + 5000;\n",
       "    root._bokeh_failed_load = false;\n",
       "  }\n",
       "\n",
       "  var NB_LOAD_WARNING = {'data': {'text/html':\n",
       "     \"<div style='background-color: #fdd'>\\n\"+\n",
       "     \"<p>\\n\"+\n",
       "     \"BokehJS does not appear to have successfully loaded. If loading BokehJS from CDN, this \\n\"+\n",
       "     \"may be due to a slow or bad network connection. Possible fixes:\\n\"+\n",
       "     \"</p>\\n\"+\n",
       "     \"<ul>\\n\"+\n",
       "     \"<li>re-rerun `output_notebook()` to attempt to load from CDN again, or</li>\\n\"+\n",
       "     \"<li>use INLINE resources instead, as so:</li>\\n\"+\n",
       "     \"</ul>\\n\"+\n",
       "     \"<code>\\n\"+\n",
       "     \"from bokeh.resources import INLINE\\n\"+\n",
       "     \"output_notebook(resources=INLINE)\\n\"+\n",
       "     \"</code>\\n\"+\n",
       "     \"</div>\"}};\n",
       "\n",
       "  function display_loaded() {\n",
       "    var el = document.getElementById(\"d0545896-4a61-49e9-a722-ae4d0ebd0983\");\n",
       "    if (el != null) {\n",
       "      el.textContent = \"BokehJS is loading...\";\n",
       "    }\n",
       "    if (root.Bokeh !== undefined) {\n",
       "      if (el != null) {\n",
       "        el.textContent = \"BokehJS \" + root.Bokeh.version + \" successfully loaded.\";\n",
       "      }\n",
       "    } else if (Date.now() < root._bokeh_timeout) {\n",
       "      setTimeout(display_loaded, 100)\n",
       "    }\n",
       "  }\n",
       "\n",
       "\n",
       "  function run_callbacks() {\n",
       "    try {\n",
       "      root._bokeh_onload_callbacks.forEach(function(callback) { callback() });\n",
       "    }\n",
       "    finally {\n",
       "      delete root._bokeh_onload_callbacks\n",
       "    }\n",
       "    console.info(\"Bokeh: all callbacks have finished\");\n",
       "  }\n",
       "\n",
       "  function load_libs(js_urls, callback) {\n",
       "    root._bokeh_onload_callbacks.push(callback);\n",
       "    if (root._bokeh_is_loading > 0) {\n",
       "      console.log(\"Bokeh: BokehJS is being loaded, scheduling callback at\", now());\n",
       "      return null;\n",
       "    }\n",
       "    if (js_urls == null || js_urls.length === 0) {\n",
       "      run_callbacks();\n",
       "      return null;\n",
       "    }\n",
       "    console.log(\"Bokeh: BokehJS not loaded, scheduling load and callback at\", now());\n",
       "    root._bokeh_is_loading = js_urls.length;\n",
       "    for (var i = 0; i < js_urls.length; i++) {\n",
       "      var url = js_urls[i];\n",
       "      var s = document.createElement('script');\n",
       "      s.src = url;\n",
       "      s.async = false;\n",
       "      s.onreadystatechange = s.onload = function() {\n",
       "        root._bokeh_is_loading--;\n",
       "        if (root._bokeh_is_loading === 0) {\n",
       "          console.log(\"Bokeh: all BokehJS libraries loaded\");\n",
       "          run_callbacks()\n",
       "        }\n",
       "      };\n",
       "      s.onerror = function() {\n",
       "        console.warn(\"failed to load library \" + url);\n",
       "      };\n",
       "      console.log(\"Bokeh: injecting script tag for BokehJS library: \", url);\n",
       "      document.getElementsByTagName(\"head\")[0].appendChild(s);\n",
       "    }\n",
       "  };var element = document.getElementById(\"d0545896-4a61-49e9-a722-ae4d0ebd0983\");\n",
       "  if (element == null) {\n",
       "    console.log(\"Bokeh: ERROR: autoload.js configured with elementid 'd0545896-4a61-49e9-a722-ae4d0ebd0983' but no matching script tag was found. \")\n",
       "    return false;\n",
       "  }\n",
       "\n",
       "  var js_urls = [\"https://cdn.pydata.org/bokeh/release/bokeh-0.12.15.min.js\", \"https://cdn.pydata.org/bokeh/release/bokeh-widgets-0.12.15.min.js\", \"https://cdn.pydata.org/bokeh/release/bokeh-tables-0.12.15.min.js\", \"https://cdn.pydata.org/bokeh/release/bokeh-gl-0.12.15.min.js\"];\n",
       "\n",
       "  var inline_js = [\n",
       "    function(Bokeh) {\n",
       "      Bokeh.set_log_level(\"info\");\n",
       "    },\n",
       "    \n",
       "    function(Bokeh) {\n",
       "      \n",
       "    },\n",
       "    function(Bokeh) {\n",
       "      console.log(\"Bokeh: injecting CSS: https://cdn.pydata.org/bokeh/release/bokeh-0.12.15.min.css\");\n",
       "      Bokeh.embed.inject_css(\"https://cdn.pydata.org/bokeh/release/bokeh-0.12.15.min.css\");\n",
       "      console.log(\"Bokeh: injecting CSS: https://cdn.pydata.org/bokeh/release/bokeh-widgets-0.12.15.min.css\");\n",
       "      Bokeh.embed.inject_css(\"https://cdn.pydata.org/bokeh/release/bokeh-widgets-0.12.15.min.css\");\n",
       "      console.log(\"Bokeh: injecting CSS: https://cdn.pydata.org/bokeh/release/bokeh-tables-0.12.15.min.css\");\n",
       "      Bokeh.embed.inject_css(\"https://cdn.pydata.org/bokeh/release/bokeh-tables-0.12.15.min.css\");\n",
       "    }\n",
       "  ];\n",
       "\n",
       "  function run_inline_js() {\n",
       "    \n",
       "    if ((root.Bokeh !== undefined) || (force === true)) {\n",
       "      for (var i = 0; i < inline_js.length; i++) {\n",
       "        inline_js[i].call(root, root.Bokeh);\n",
       "      }if (force === true) {\n",
       "        display_loaded();\n",
       "      }} else if (Date.now() < root._bokeh_timeout) {\n",
       "      setTimeout(run_inline_js, 100);\n",
       "    } else if (!root._bokeh_failed_load) {\n",
       "      console.log(\"Bokeh: BokehJS failed to load within specified timeout.\");\n",
       "      root._bokeh_failed_load = true;\n",
       "    } else if (force !== true) {\n",
       "      var cell = $(document.getElementById(\"d0545896-4a61-49e9-a722-ae4d0ebd0983\")).parents('.cell').data().cell;\n",
       "      cell.output_area.append_execute_result(NB_LOAD_WARNING)\n",
       "    }\n",
       "\n",
       "  }\n",
       "\n",
       "  if (root._bokeh_is_loading === 0) {\n",
       "    console.log(\"Bokeh: BokehJS loaded, going straight to plotting\");\n",
       "    run_inline_js();\n",
       "  } else {\n",
       "    load_libs(js_urls, function() {\n",
       "      console.log(\"Bokeh: BokehJS plotting callback run at\", now());\n",
       "      run_inline_js();\n",
       "    });\n",
       "  }\n",
       "}(window));"
      ],
      "application/vnd.bokehjs_load.v0+json": "\n(function(root) {\n  function now() {\n    return new Date();\n  }\n\n  var force = true;\n\n  if (typeof (root._bokeh_onload_callbacks) === \"undefined\" || force === true) {\n    root._bokeh_onload_callbacks = [];\n    root._bokeh_is_loading = undefined;\n  }\n\n  \n\n  \n  if (typeof (root._bokeh_timeout) === \"undefined\" || force === true) {\n    root._bokeh_timeout = Date.now() + 5000;\n    root._bokeh_failed_load = false;\n  }\n\n  var NB_LOAD_WARNING = {'data': {'text/html':\n     \"<div style='background-color: #fdd'>\\n\"+\n     \"<p>\\n\"+\n     \"BokehJS does not appear to have successfully loaded. If loading BokehJS from CDN, this \\n\"+\n     \"may be due to a slow or bad network connection. Possible fixes:\\n\"+\n     \"</p>\\n\"+\n     \"<ul>\\n\"+\n     \"<li>re-rerun `output_notebook()` to attempt to load from CDN again, or</li>\\n\"+\n     \"<li>use INLINE resources instead, as so:</li>\\n\"+\n     \"</ul>\\n\"+\n     \"<code>\\n\"+\n     \"from bokeh.resources import INLINE\\n\"+\n     \"output_notebook(resources=INLINE)\\n\"+\n     \"</code>\\n\"+\n     \"</div>\"}};\n\n  function display_loaded() {\n    var el = document.getElementById(\"d0545896-4a61-49e9-a722-ae4d0ebd0983\");\n    if (el != null) {\n      el.textContent = \"BokehJS is loading...\";\n    }\n    if (root.Bokeh !== undefined) {\n      if (el != null) {\n        el.textContent = \"BokehJS \" + root.Bokeh.version + \" successfully loaded.\";\n      }\n    } else if (Date.now() < root._bokeh_timeout) {\n      setTimeout(display_loaded, 100)\n    }\n  }\n\n\n  function run_callbacks() {\n    try {\n      root._bokeh_onload_callbacks.forEach(function(callback) { callback() });\n    }\n    finally {\n      delete root._bokeh_onload_callbacks\n    }\n    console.info(\"Bokeh: all callbacks have finished\");\n  }\n\n  function load_libs(js_urls, callback) {\n    root._bokeh_onload_callbacks.push(callback);\n    if (root._bokeh_is_loading > 0) {\n      console.log(\"Bokeh: BokehJS is being loaded, scheduling callback at\", now());\n      return null;\n    }\n    if (js_urls == null || js_urls.length === 0) {\n      run_callbacks();\n      return null;\n    }\n    console.log(\"Bokeh: BokehJS not loaded, scheduling load and callback at\", now());\n    root._bokeh_is_loading = js_urls.length;\n    for (var i = 0; i < js_urls.length; i++) {\n      var url = js_urls[i];\n      var s = document.createElement('script');\n      s.src = url;\n      s.async = false;\n      s.onreadystatechange = s.onload = function() {\n        root._bokeh_is_loading--;\n        if (root._bokeh_is_loading === 0) {\n          console.log(\"Bokeh: all BokehJS libraries loaded\");\n          run_callbacks()\n        }\n      };\n      s.onerror = function() {\n        console.warn(\"failed to load library \" + url);\n      };\n      console.log(\"Bokeh: injecting script tag for BokehJS library: \", url);\n      document.getElementsByTagName(\"head\")[0].appendChild(s);\n    }\n  };var element = document.getElementById(\"d0545896-4a61-49e9-a722-ae4d0ebd0983\");\n  if (element == null) {\n    console.log(\"Bokeh: ERROR: autoload.js configured with elementid 'd0545896-4a61-49e9-a722-ae4d0ebd0983' but no matching script tag was found. \")\n    return false;\n  }\n\n  var js_urls = [\"https://cdn.pydata.org/bokeh/release/bokeh-0.12.15.min.js\", \"https://cdn.pydata.org/bokeh/release/bokeh-widgets-0.12.15.min.js\", \"https://cdn.pydata.org/bokeh/release/bokeh-tables-0.12.15.min.js\", \"https://cdn.pydata.org/bokeh/release/bokeh-gl-0.12.15.min.js\"];\n\n  var inline_js = [\n    function(Bokeh) {\n      Bokeh.set_log_level(\"info\");\n    },\n    \n    function(Bokeh) {\n      \n    },\n    function(Bokeh) {\n      console.log(\"Bokeh: injecting CSS: https://cdn.pydata.org/bokeh/release/bokeh-0.12.15.min.css\");\n      Bokeh.embed.inject_css(\"https://cdn.pydata.org/bokeh/release/bokeh-0.12.15.min.css\");\n      console.log(\"Bokeh: injecting CSS: https://cdn.pydata.org/bokeh/release/bokeh-widgets-0.12.15.min.css\");\n      Bokeh.embed.inject_css(\"https://cdn.pydata.org/bokeh/release/bokeh-widgets-0.12.15.min.css\");\n      console.log(\"Bokeh: injecting CSS: https://cdn.pydata.org/bokeh/release/bokeh-tables-0.12.15.min.css\");\n      Bokeh.embed.inject_css(\"https://cdn.pydata.org/bokeh/release/bokeh-tables-0.12.15.min.css\");\n    }\n  ];\n\n  function run_inline_js() {\n    \n    if ((root.Bokeh !== undefined) || (force === true)) {\n      for (var i = 0; i < inline_js.length; i++) {\n        inline_js[i].call(root, root.Bokeh);\n      }if (force === true) {\n        display_loaded();\n      }} else if (Date.now() < root._bokeh_timeout) {\n      setTimeout(run_inline_js, 100);\n    } else if (!root._bokeh_failed_load) {\n      console.log(\"Bokeh: BokehJS failed to load within specified timeout.\");\n      root._bokeh_failed_load = true;\n    } else if (force !== true) {\n      var cell = $(document.getElementById(\"d0545896-4a61-49e9-a722-ae4d0ebd0983\")).parents('.cell').data().cell;\n      cell.output_area.append_execute_result(NB_LOAD_WARNING)\n    }\n\n  }\n\n  if (root._bokeh_is_loading === 0) {\n    console.log(\"Bokeh: BokehJS loaded, going straight to plotting\");\n    run_inline_js();\n  } else {\n    load_libs(js_urls, function() {\n      console.log(\"Bokeh: BokehJS plotting callback run at\", now());\n      run_inline_js();\n    });\n  }\n}(window));"
     },
     "metadata": {},
     "output_type": "display_data"
    }
   ],
   "source": [
    "import rasa_core\n",
    "from rasa_core.agent import Agent\n",
    "from bokeh.io import output_notebook\n",
    "agent = Agent.load(\"models/dialogue_embed\")\n",
    "# agent = Agent.load(\"models/dialogue_embed_before_norm_loss\")\n",
    "output_notebook()"
   ]
  },
  {
   "cell_type": "code",
   "execution_count": 93,
   "metadata": {},
   "outputs": [],
   "source": [
    "policy = agent.policy_ensemble.policies[0]\n",
    "interpreter = agent.interpreter"
   ]
  },
  {
   "cell_type": "code",
   "execution_count": 94,
   "metadata": {},
   "outputs": [],
   "source": [
    "domain = agent.domain\n"
   ]
  },
  {
   "cell_type": "code",
   "execution_count": 95,
   "metadata": {},
   "outputs": [],
   "source": [
    "from rasa_core.training.structures import StoryGraph\n",
    "from rasa_core.training.dsl import StoryFileReader\n",
    "from rasa_core.trackers import DialogueStateTracker\n",
    "from rasa_core.channels import UserMessage\n",
    "import numpy as np\n",
    "\n",
    "def embedding_from_tracker(story, bot=False):\n",
    "    reader = StoryFileReader(domain, interpreter)\n",
    "    story = story.split('\\n')\n",
    "    story_steps = reader.process_lines(story)\n",
    "#     story_graph = StoryGraph(story_steps)\n",
    "    tracker = DialogueStateTracker(\n",
    "            1,\n",
    "            domain.slots\n",
    "    )\n",
    "    tracker._reset()\n",
    "    for step in story_steps:\n",
    "        events = step.explicit_events(domain)\n",
    "        for event in events:\n",
    "            tracker.update(event)\n",
    "    data_X = policy.featurizer.create_X([tracker], domain)\n",
    "\n",
    "    X, slots, prev_act = policy._create_X_slots(data_X)\n",
    "    all_Y_d = policy._create_all_Y_d(X.shape[1])\n",
    "    all_Y_d_x = np.stack([all_Y_d for _ in range(X.shape[0])])\n",
    "    dial_vec = policy.session.run(policy.dial_embed, feed_dict={policy.a_in: X,\n",
    "                                           policy.b_in: all_Y_d_x,\n",
    "                                           policy.c_in: slots,\n",
    "                                           policy.b_prev_in: prev_act})\n",
    "    bot_vec = policy.session.run(policy.bot_embed, feed_dict={policy.a_in: X,\n",
    "                                           policy.b_in: all_Y_d_x,\n",
    "                                           policy.c_in: slots,\n",
    "                                           policy.b_prev_in: prev_act})\n",
    "\n",
    "    copy_gate = policy.session.run(policy.copy_gate, feed_dict={policy.a_in: X,\n",
    "                                           policy.b_in: all_Y_d_x,\n",
    "                                           policy.c_in: slots,\n",
    "                                           policy.b_prev_in: prev_act})\n",
    "    attn_prev_act_embed = policy.session.run(policy.attn_prev_act_embed,\n",
    "                                             feed_dict={policy.a_in: X,\n",
    "                                           policy.b_in: all_Y_d_x,\n",
    "                                           policy.c_in: slots,\n",
    "                                           policy.b_prev_in: prev_act})\n",
    "    rnn_embed = policy.session.run(policy.rnn_embed, feed_dict={policy.a_in: X,\n",
    "                                           policy.b_in: all_Y_d_x,\n",
    "                                           policy.c_in: slots,\n",
    "                                           policy.b_prev_in: prev_act})\n",
    "\n",
    "    del tracker\n",
    "#     print(np.shape(dial_vec))\n",
    "    if bot is False:\n",
    "        return (dial_vec[0,-2,:],\n",
    "                copy_gate[0,-2,:],\n",
    "                attn_prev_act_embed[0,-2,:],\n",
    "                rnn_embed[0,-2,:])\n",
    "    else:\n",
    "        return bot_vec\n",
    "    \n",
    "def make_prediction(story):\n",
    "    dial, _,_,_ = embedding_from_tracker(story, bot=False)\n",
    "    bot = embedding_from_tracker(story, bot=True)[0,-2,:,:]\n",
    "    abs_vals = np.array([np.absolute(vec) for vec in bot])\n",
    "    norms = np.apply_along_axis(np.linalg.norm, 1, bot)\n",
    "    return domain.action_for_index(np.argmax(np.dot(bot, dial)/norms)).name()\n",
    "#     print(dial.shape, bot.shape)"
   ]
  },
  {
   "cell_type": "code",
   "execution_count": 110,
   "metadata": {},
   "outputs": [
    {
     "name": "stdout",
     "output_type": "stream",
     "text": [
      "35\n",
      "20\n"
     ]
    }
   ],
   "source": [
    "# print(domain.intents)\n",
    "story_block = \"\"\"* request_hotel\n",
    "    - utter_ask_details\n",
    "* explain\n",
    "    - utter_explain_details_hotel\n",
    "    - utter_ask_details\n",
    "* chitchat\n",
    "    - utter_chitchat\n",
    "    - utter_ask_details\n",
    "* inform{\"enddate\": \"May 26th\"}\n",
    "    - slot{\"enddate\": \"May 26th\"}\n",
    "    - utter_ask_startdate\n",
    "* inform{\"startdate\": \"next week\"}\n",
    "    - slot{\"startdate\": \"next week\"}\n",
    "    - utter_ask_location\n",
    "* explain\n",
    "    - utter_explain_location_hotel\n",
    "    - utter_ask_location\n",
    "* inform{\"location\": \"rome\"}\n",
    "    - slot{\"location\": \"rome\"}\n",
    "    - utter_ask_price\n",
    "* chitchat\n",
    "    - utter_chitchat\n",
    "    - utter_ask_price\n",
    "* chitchat\n",
    "    - utter_chitchat\n",
    "    - utter_ask_price\n",
    "* chitchat\n",
    "    - utter_chitchat\n",
    "    - utter_ask_price\n",
    "* chitchat\n",
    "    - utter_chitchat\n",
    "    - utter_ask_price\n",
    "* explain\n",
    "    - utter_explain_price_hotel\n",
    "    - utter_ask_price\"\"\"\n",
    "# * inform{\"price\": \"expensive\"}\n",
    "#     - utter_ask_people\n",
    "# * inform{\"people\": \"4\"}\n",
    "#     - utter_filled_slots\n",
    "#     - action_search_hotel\n",
    "#     - slot{\"hotel\": \"hotel\"}\n",
    "#     - utter_suggest_hotel\n",
    "# * chitchat\n",
    "#     - utter_chitchat\n",
    "#     - utter_suggest_hotel\n",
    "# * affirm\n",
    "#     - utter_happy\"\"\"\n",
    "print(len(story_block.split('\\n')))\n",
    "cool_list = []\n",
    "lines = story_block.split('\\n')\n",
    "for idx, line in enumerate(lines):\n",
    "    if idx == len(lines)-1:\n",
    "        continue\n",
    "    if '*' in lines[idx+1] or 'slot{' in lines[idx+1]:# or 'slot{' in line:\n",
    "        continue\n",
    "    sub_story = '\\n'.join(lines[:idx+1])\n",
    "    (dial, copy, attn, rnn\n",
    "    ) = embedding_from_tracker(\"#generate story\\n{}\".format(sub_story))\n",
    "    pred = make_prediction(\"#generate story\\n{}\".format(sub_story))\n",
    "    cool_list.append((lines[idx+1], dial, pred, copy, attn, rnn))\n",
    "\n",
    "print(len(cool_list))\n",
    "#     break\n",
    "# dial = embedding_from_tracker(\"#generate story\\n{}\".format(story_block)\n",
    "# )\n",
    "# print(dial.shape)\n",
    "# print(len(story_block.split('\\n')))"
   ]
  },
  {
   "cell_type": "code",
   "execution_count": 111,
   "metadata": {},
   "outputs": [],
   "source": [
    "from sklearn.decomposition import PCA"
   ]
  },
  {
   "cell_type": "code",
   "execution_count": 112,
   "metadata": {},
   "outputs": [],
   "source": [
    "pca = PCA(n_components=2)\n",
    "X = pca.fit_transform([ting[1] for ting in cool_list])"
   ]
  },
  {
   "cell_type": "code",
   "execution_count": 113,
   "metadata": {},
   "outputs": [],
   "source": [
    "from bokeh.plotting import figure, show\n",
    "import matplotlib.pyplot as plt"
   ]
  },
  {
   "cell_type": "code",
   "execution_count": 114,
   "metadata": {},
   "outputs": [],
   "source": [
    "embed_dim = cool_list[0][1].shape[0]"
   ]
  },
  {
   "cell_type": "code",
   "execution_count": 115,
   "metadata": {},
   "outputs": [
    {
     "data": {
      "text/html": [
       "<div style=\"display: table;\"><div style=\"display: table-row;\"><div style=\"display: table-cell;\"><b title=\"bokeh.models.renderers.GlyphRenderer\">GlyphRenderer</b>(</div><div style=\"display: table-cell;\">id&nbsp;=&nbsp;'4b26e4b4-767d-4381-9072-db4aecd66b0f', <span id=\"84c21a67-091f-450b-884d-fb180481187d\" style=\"cursor: pointer;\">&hellip;)</span></div></div><div class=\"ec1e7a6c-0bdf-4b68-9c5b-fea1b69c2e81\" style=\"display: none;\"><div style=\"display: table-cell;\"></div><div style=\"display: table-cell;\">data_source&nbsp;=&nbsp;ColumnDataSource(id='f82beda6-9127-4760-9d29-6d053cda84c9', ...),</div></div><div class=\"ec1e7a6c-0bdf-4b68-9c5b-fea1b69c2e81\" style=\"display: none;\"><div style=\"display: table-cell;\"></div><div style=\"display: table-cell;\">glyph&nbsp;=&nbsp;Circle(id='66a0cdb4-8e2c-49e0-a9fa-8efb55aec25d', ...),</div></div><div class=\"ec1e7a6c-0bdf-4b68-9c5b-fea1b69c2e81\" style=\"display: none;\"><div style=\"display: table-cell;\"></div><div style=\"display: table-cell;\">hover_glyph&nbsp;=&nbsp;None,</div></div><div class=\"ec1e7a6c-0bdf-4b68-9c5b-fea1b69c2e81\" style=\"display: none;\"><div style=\"display: table-cell;\"></div><div style=\"display: table-cell;\">js_event_callbacks&nbsp;=&nbsp;{},</div></div><div class=\"ec1e7a6c-0bdf-4b68-9c5b-fea1b69c2e81\" style=\"display: none;\"><div style=\"display: table-cell;\"></div><div style=\"display: table-cell;\">js_property_callbacks&nbsp;=&nbsp;{},</div></div><div class=\"ec1e7a6c-0bdf-4b68-9c5b-fea1b69c2e81\" style=\"display: none;\"><div style=\"display: table-cell;\"></div><div style=\"display: table-cell;\">level&nbsp;=&nbsp;'glyph',</div></div><div class=\"ec1e7a6c-0bdf-4b68-9c5b-fea1b69c2e81\" style=\"display: none;\"><div style=\"display: table-cell;\"></div><div style=\"display: table-cell;\">muted&nbsp;=&nbsp;False,</div></div><div class=\"ec1e7a6c-0bdf-4b68-9c5b-fea1b69c2e81\" style=\"display: none;\"><div style=\"display: table-cell;\"></div><div style=\"display: table-cell;\">muted_glyph&nbsp;=&nbsp;None,</div></div><div class=\"ec1e7a6c-0bdf-4b68-9c5b-fea1b69c2e81\" style=\"display: none;\"><div style=\"display: table-cell;\"></div><div style=\"display: table-cell;\">name&nbsp;=&nbsp;None,</div></div><div class=\"ec1e7a6c-0bdf-4b68-9c5b-fea1b69c2e81\" style=\"display: none;\"><div style=\"display: table-cell;\"></div><div style=\"display: table-cell;\">nonselection_glyph&nbsp;=&nbsp;Circle(id='df5c3ecf-9da1-48e4-ad52-e0dc3cc8758b', ...),</div></div><div class=\"ec1e7a6c-0bdf-4b68-9c5b-fea1b69c2e81\" style=\"display: none;\"><div style=\"display: table-cell;\"></div><div style=\"display: table-cell;\">selection_glyph&nbsp;=&nbsp;None,</div></div><div class=\"ec1e7a6c-0bdf-4b68-9c5b-fea1b69c2e81\" style=\"display: none;\"><div style=\"display: table-cell;\"></div><div style=\"display: table-cell;\">subscribed_events&nbsp;=&nbsp;[],</div></div><div class=\"ec1e7a6c-0bdf-4b68-9c5b-fea1b69c2e81\" style=\"display: none;\"><div style=\"display: table-cell;\"></div><div style=\"display: table-cell;\">tags&nbsp;=&nbsp;[],</div></div><div class=\"ec1e7a6c-0bdf-4b68-9c5b-fea1b69c2e81\" style=\"display: none;\"><div style=\"display: table-cell;\"></div><div style=\"display: table-cell;\">view&nbsp;=&nbsp;CDSView(id='dfbd519d-eb32-44f3-9c10-c8ccc9fa1fd4', ...),</div></div><div class=\"ec1e7a6c-0bdf-4b68-9c5b-fea1b69c2e81\" style=\"display: none;\"><div style=\"display: table-cell;\"></div><div style=\"display: table-cell;\">visible&nbsp;=&nbsp;True,</div></div><div class=\"ec1e7a6c-0bdf-4b68-9c5b-fea1b69c2e81\" style=\"display: none;\"><div style=\"display: table-cell;\"></div><div style=\"display: table-cell;\">x_range_name&nbsp;=&nbsp;'default',</div></div><div class=\"ec1e7a6c-0bdf-4b68-9c5b-fea1b69c2e81\" style=\"display: none;\"><div style=\"display: table-cell;\"></div><div style=\"display: table-cell;\">y_range_name&nbsp;=&nbsp;'default')</div></div></div>\n",
       "<script>\n",
       "(function() {\n",
       "  var expanded = false;\n",
       "  var ellipsis = document.getElementById(\"84c21a67-091f-450b-884d-fb180481187d\");\n",
       "  ellipsis.addEventListener(\"click\", function() {\n",
       "    var rows = document.getElementsByClassName(\"ec1e7a6c-0bdf-4b68-9c5b-fea1b69c2e81\");\n",
       "    for (var i = 0; i < rows.length; i++) {\n",
       "      var el = rows[i];\n",
       "      el.style.display = expanded ? \"none\" : \"table-row\";\n",
       "    }\n",
       "    ellipsis.innerHTML = expanded ? \"&hellip;)\" : \"&lsaquo;&lsaquo;&lsaquo;\";\n",
       "    expanded = !expanded;\n",
       "  });\n",
       "})();\n",
       "</script>\n"
      ],
      "text/plain": [
       "GlyphRenderer(id='4b26e4b4-767d-4381-9072-db4aecd66b0f', ...)"
      ]
     },
     "execution_count": 115,
     "metadata": {},
     "output_type": "execute_result"
    }
   ],
   "source": [
    "from bokeh.plotting import figure, output_file, show, ColumnDataSource\n",
    "from bokeh.models import HoverTool, Arrow, OpenHead\n",
    "\n",
    "hover = HoverTool(tooltips=[(\"true action\",\"@desc\"), (\"prediction\", \"@pred\"),\n",
    "                            (\"copy_gate\", \"@copy\")],names=['circle'])\n",
    "p = figure( tools=[hover])\n",
    "\n",
    "for i in range(1, len(X)):\n",
    "    p.add_layout(Arrow(end=OpenHead(line_color=\"firebrick\", size=10, line_width=2),\n",
    "                       x_start=X[i-1,0], y_start=X[i-1,1],\n",
    "                       x_end=X[i,0], y_end=X[i,1], line_color='gray'))\n",
    "\n",
    "source = ColumnDataSource(data=dict(\n",
    "    x=X[:,0],\n",
    "    y=X[:,1],\n",
    "    desc=[ting[0] for ting in cool_list],\n",
    "    pred = [ting[2] for ting in cool_list],\n",
    "    copy = [ting[3] for ting in cool_list]\n",
    "))\n",
    "p.circle('x','y', source=source, size=10, name='circle')\n",
    "# p.line(X[:,0], X[:,1])\n",
    "\n",
    "X1 = pca.transform([ting[4] for ting in cool_list])\n",
    "source = ColumnDataSource(data=dict(\n",
    "    x=X1[:,0],\n",
    "    y=X1[:,1],\n",
    "    desc=[ting[0] for ting in cool_list],\n",
    "    pred = [ting[2] for ting in cool_list],\n",
    "    copy = [ting[3] for ting in cool_list]\n",
    "))\n",
    "p.circle('x','y', source=source, size=5, color='green', name='circle')\n",
    "\n",
    "X2 = pca.transform([ting[5] for ting in cool_list])\n",
    "source = ColumnDataSource(data=dict(\n",
    "    x=X2[:,0],\n",
    "    y=X2[:,1],\n",
    "    desc=[ting[0] for ting in cool_list],\n",
    "    pred = [ting[2] for ting in cool_list],\n",
    "    copy = [ting[3] for ting in cool_list]\n",
    "))\n",
    "p.circle('x','y', source=source, size=5, color='red', name='circle')\n",
    "\n",
    "x = pca.transform(np.zeros((1,embed_dim)))\n",
    "p.circle(x[0,0], x[0,1], size=5, color='magenta')\n",
    "p.circle(X[0,0], X[0,1], size=10, color='green')\n",
    "p.circle(X[-1,0], X[-1,1], size=10, color='red')\n"
   ]
  },
  {
   "cell_type": "code",
   "execution_count": 116,
   "metadata": {},
   "outputs": [
    {
     "data": {
      "text/html": [
       "\n",
       "<div class=\"bk-root\">\n",
       "    <div class=\"bk-plotdiv\" id=\"964e8287-4e56-4063-a108-0e816581569b\"></div>\n",
       "</div>"
      ]
     },
     "metadata": {},
     "output_type": "display_data"
    },
    {
     "data": {
      "application/javascript": [
       "(function(root) {\n",
       "  function embed_document(root) {\n",
       "    \n",
       "  var docs_json = {\"9731c90b-c8f3-4351-8aca-3a8e88087cac\":{\"roots\":{\"references\":[{\"attributes\":{\"line_color\":{\"value\":\"firebrick\"},\"line_width\":{\"value\":2},\"plot\":null,\"size\":10},\"id\":\"3b057733-503e-461c-a246-7b4fadcffe41\",\"type\":\"OpenHead\"},{\"attributes\":{\"fill_color\":{\"value\":\"green\"},\"line_color\":{\"value\":\"green\"},\"size\":{\"units\":\"screen\",\"value\":10},\"x\":{\"value\":-0.24470897271178338},\"y\":{\"value\":-0.26944558918828365}},\"id\":\"8cf578d4-fccd-421b-bfe9-b0a341f3ef9d\",\"type\":\"Circle\"},{\"attributes\":{\"data_source\":{\"id\":\"aa32854f-5390-4d14-a226-be55bfb2eaaf\",\"type\":\"ColumnDataSource\"},\"glyph\":{\"id\":\"16f0e9c0-43b0-40b2-8751-d427dbea0f4c\",\"type\":\"Circle\"},\"hover_glyph\":null,\"muted_glyph\":null,\"nonselection_glyph\":{\"id\":\"e0787db1-0a97-4517-a315-213e0fa47f7a\",\"type\":\"Circle\"},\"selection_glyph\":null,\"view\":{\"id\":\"2aa3ebba-f7ba-45e5-a0cf-0a1a1dc489ae\",\"type\":\"CDSView\"}},\"id\":\"017d4816-d8b7-4e5f-9965-505678e6cdd4\",\"type\":\"GlyphRenderer\"},{\"attributes\":{\"line_color\":{\"value\":\"firebrick\"},\"line_width\":{\"value\":2},\"plot\":null,\"size\":10},\"id\":\"75a2bd8b-d6f8-4258-b65b-68270b85c604\",\"type\":\"OpenHead\"},{\"attributes\":{\"plot\":null,\"text\":\"\"},\"id\":\"47a98e01-0c0b-42fb-9e2e-d329b64252a8\",\"type\":\"Title\"},{\"attributes\":{\"source\":{\"id\":\"aa32854f-5390-4d14-a226-be55bfb2eaaf\",\"type\":\"ColumnDataSource\"}},\"id\":\"2aa3ebba-f7ba-45e5-a0cf-0a1a1dc489ae\",\"type\":\"CDSView\"},{\"attributes\":{\"data_source\":{\"id\":\"4afae48b-7633-4927-972d-708ad75e6cd3\",\"type\":\"ColumnDataSource\"},\"glyph\":{\"id\":\"8cf578d4-fccd-421b-bfe9-b0a341f3ef9d\",\"type\":\"Circle\"},\"hover_glyph\":null,\"muted_glyph\":null,\"nonselection_glyph\":{\"id\":\"ec745279-226c-483a-b07a-a2a3b5a367cb\",\"type\":\"Circle\"},\"selection_glyph\":null,\"view\":{\"id\":\"904a15bd-b9ae-415b-b2c7-c014f12da1d7\",\"type\":\"CDSView\"}},\"id\":\"d3f5a03d-11d7-4585-ac03-080e6fdb6a45\",\"type\":\"GlyphRenderer\"},{\"attributes\":{\"active_drag\":\"auto\",\"active_inspect\":\"auto\",\"active_scroll\":\"auto\",\"active_tap\":\"auto\",\"tools\":[{\"id\":\"8acb30e4-eb99-41f2-aa0a-b2d050c6ed79\",\"type\":\"HoverTool\"}]},\"id\":\"ccf07f8c-6c4e-427d-b178-7b60edc202a3\",\"type\":\"Toolbar\"},{\"attributes\":{\"callback\":null},\"id\":\"8519e634-9180-47ae-935a-f3e17b4741fa\",\"type\":\"DataRange1d\"},{\"attributes\":{\"callback\":null,\"data\":{},\"selected\":null,\"selection_policy\":null},\"id\":\"f82beda6-9127-4760-9d29-6d053cda84c9\",\"type\":\"ColumnDataSource\"},{\"attributes\":{\"callback\":null},\"id\":\"d2b40bb7-504f-4c0c-8755-8f4490a939c4\",\"type\":\"DataRange1d\"},{\"attributes\":{\"fill_color\":{\"value\":\"red\"},\"line_color\":{\"value\":\"red\"},\"size\":{\"units\":\"screen\",\"value\":10},\"x\":{\"value\":-0.08831883584890826},\"y\":{\"value\":0.07242508282441083}},\"id\":\"66a0cdb4-8e2c-49e0-a9fa-8efb55aec25d\",\"type\":\"Circle\"},{\"attributes\":{\"line_color\":{\"value\":\"firebrick\"},\"line_width\":{\"value\":2},\"plot\":null,\"size\":10},\"id\":\"4b326bcd-b9ae-4fbf-879e-432de9683ef1\",\"type\":\"OpenHead\"},{\"attributes\":{\"fill_alpha\":{\"value\":0.1},\"fill_color\":{\"value\":\"#1f77b4\"},\"line_alpha\":{\"value\":0.1},\"line_color\":{\"value\":\"#1f77b4\"},\"size\":{\"units\":\"screen\",\"value\":10},\"x\":{\"value\":-0.24470897271178338},\"y\":{\"value\":-0.26944558918828365}},\"id\":\"ec745279-226c-483a-b07a-a2a3b5a367cb\",\"type\":\"Circle\"},{\"attributes\":{},\"id\":\"085a92e2-4bc2-4267-abec-718515c80696\",\"type\":\"LinearScale\"},{\"attributes\":{\"source\":{\"id\":\"4afae48b-7633-4927-972d-708ad75e6cd3\",\"type\":\"ColumnDataSource\"}},\"id\":\"904a15bd-b9ae-415b-b2c7-c014f12da1d7\",\"type\":\"CDSView\"},{\"attributes\":{},\"id\":\"93e2fa88-a6ec-4370-93aa-063e92c78b67\",\"type\":\"LinearScale\"},{\"attributes\":{\"data_source\":{\"id\":\"f82beda6-9127-4760-9d29-6d053cda84c9\",\"type\":\"ColumnDataSource\"},\"glyph\":{\"id\":\"66a0cdb4-8e2c-49e0-a9fa-8efb55aec25d\",\"type\":\"Circle\"},\"hover_glyph\":null,\"muted_glyph\":null,\"nonselection_glyph\":{\"id\":\"df5c3ecf-9da1-48e4-ad52-e0dc3cc8758b\",\"type\":\"Circle\"},\"selection_glyph\":null,\"view\":{\"id\":\"dfbd519d-eb32-44f3-9c10-c8ccc9fa1fd4\",\"type\":\"CDSView\"}},\"id\":\"4b26e4b4-767d-4381-9072-db4aecd66b0f\",\"type\":\"GlyphRenderer\"},{\"attributes\":{\"plot\":{\"id\":\"229f212c-4be6-45bb-b5f0-6b23238f7a47\",\"subtype\":\"Figure\",\"type\":\"Plot\"},\"ticker\":{\"id\":\"c680458d-cfb3-462d-b198-cecdeb67809b\",\"type\":\"BasicTicker\"}},\"id\":\"aa3eeb0a-1da0-4ffd-90a2-5266454b0d7c\",\"type\":\"Grid\"},{\"attributes\":{\"formatter\":{\"id\":\"7563b8ad-5890-4348-899a-34f304fc7db1\",\"type\":\"BasicTickFormatter\"},\"plot\":{\"id\":\"229f212c-4be6-45bb-b5f0-6b23238f7a47\",\"subtype\":\"Figure\",\"type\":\"Plot\"},\"ticker\":{\"id\":\"c680458d-cfb3-462d-b198-cecdeb67809b\",\"type\":\"BasicTicker\"}},\"id\":\"af93f0f9-83e9-4bef-be2e-1be302f3b075\",\"type\":\"LinearAxis\"},{\"attributes\":{},\"id\":\"c680458d-cfb3-462d-b198-cecdeb67809b\",\"type\":\"BasicTicker\"},{\"attributes\":{\"fill_alpha\":{\"value\":0.1},\"fill_color\":{\"value\":\"#1f77b4\"},\"line_alpha\":{\"value\":0.1},\"line_color\":{\"value\":\"#1f77b4\"},\"size\":{\"units\":\"screen\",\"value\":10},\"x\":{\"value\":-0.08831883584890826},\"y\":{\"value\":0.07242508282441083}},\"id\":\"df5c3ecf-9da1-48e4-ad52-e0dc3cc8758b\",\"type\":\"Circle\"},{\"attributes\":{\"formatter\":{\"id\":\"3ae39623-d8c6-42b4-9000-0bbc070fe954\",\"type\":\"BasicTickFormatter\"},\"plot\":{\"id\":\"229f212c-4be6-45bb-b5f0-6b23238f7a47\",\"subtype\":\"Figure\",\"type\":\"Plot\"},\"ticker\":{\"id\":\"de5a0807-d539-411b-b593-02fe0b66e926\",\"type\":\"BasicTicker\"}},\"id\":\"83b3c3c6-78fd-46b4-a220-dd545b89c263\",\"type\":\"LinearAxis\"},{\"attributes\":{\"source\":{\"id\":\"f82beda6-9127-4760-9d29-6d053cda84c9\",\"type\":\"ColumnDataSource\"}},\"id\":\"dfbd519d-eb32-44f3-9c10-c8ccc9fa1fd4\",\"type\":\"CDSView\"},{\"attributes\":{},\"id\":\"de5a0807-d539-411b-b593-02fe0b66e926\",\"type\":\"BasicTicker\"},{\"attributes\":{\"dimension\":1,\"plot\":{\"id\":\"229f212c-4be6-45bb-b5f0-6b23238f7a47\",\"subtype\":\"Figure\",\"type\":\"Plot\"},\"ticker\":{\"id\":\"de5a0807-d539-411b-b593-02fe0b66e926\",\"type\":\"BasicTicker\"}},\"id\":\"635394a4-cd83-4fe9-8f6d-f57d16ed4683\",\"type\":\"Grid\"},{\"attributes\":{\"end\":{\"id\":\"3b057733-503e-461c-a246-7b4fadcffe41\",\"type\":\"OpenHead\"},\"line_color\":{\"value\":\"gray\"},\"plot\":{\"id\":\"229f212c-4be6-45bb-b5f0-6b23238f7a47\",\"subtype\":\"Figure\",\"type\":\"Plot\"},\"source\":null,\"start\":null,\"x_end\":{\"value\":-0.10837362157698718},\"x_start\":{\"value\":-0.24470897271178338},\"y_end\":{\"value\":-0.18372859492380378},\"y_start\":{\"value\":-0.26944558918828365}},\"id\":\"4cca4909-95ed-4aec-b251-8b380496974c\",\"type\":\"Arrow\"},{\"attributes\":{},\"id\":\"7563b8ad-5890-4348-899a-34f304fc7db1\",\"type\":\"BasicTickFormatter\"},{\"attributes\":{\"data_source\":{\"id\":\"11334d82-e44d-43d8-97cc-4caeb5bfda3a\",\"type\":\"ColumnDataSource\"},\"glyph\":{\"id\":\"dcf47b3a-9056-40a1-ad70-3f4b7d060f3d\",\"type\":\"Circle\"},\"hover_glyph\":null,\"muted_glyph\":null,\"name\":\"circle\",\"nonselection_glyph\":{\"id\":\"6ee87a78-c5e1-45ae-bcfe-553dace9804f\",\"type\":\"Circle\"},\"selection_glyph\":null,\"view\":{\"id\":\"0c4631c7-b9e2-47e4-b749-19d15bc12053\",\"type\":\"CDSView\"}},\"id\":\"c6dbdee6-47bc-4fc1-b1e6-46dced91963a\",\"type\":\"GlyphRenderer\"},{\"attributes\":{\"fill_color\":{\"value\":\"#1f77b4\"},\"line_color\":{\"value\":\"#1f77b4\"},\"size\":{\"units\":\"screen\",\"value\":10},\"x\":{\"field\":\"x\"},\"y\":{\"field\":\"y\"}},\"id\":\"dcf47b3a-9056-40a1-ad70-3f4b7d060f3d\",\"type\":\"Circle\"},{\"attributes\":{\"end\":{\"id\":\"75a2bd8b-d6f8-4258-b65b-68270b85c604\",\"type\":\"OpenHead\"},\"line_color\":{\"value\":\"gray\"},\"plot\":{\"id\":\"229f212c-4be6-45bb-b5f0-6b23238f7a47\",\"subtype\":\"Figure\",\"type\":\"Plot\"},\"source\":null,\"start\":null,\"x_end\":{\"value\":-0.12742991180167754},\"x_start\":{\"value\":-0.10837362157698718},\"y_end\":{\"value\":-0.2004679981139038},\"y_start\":{\"value\":-0.18372859492380378}},\"id\":\"54c91a85-2409-4373-879f-1d57ab5787af\",\"type\":\"Arrow\"},{\"attributes\":{\"line_color\":{\"value\":\"firebrick\"},\"line_width\":{\"value\":2},\"plot\":null,\"size\":10},\"id\":\"cbd50021-2e8a-4677-9d02-469444f67f28\",\"type\":\"OpenHead\"},{\"attributes\":{\"end\":{\"id\":\"4b326bcd-b9ae-4fbf-879e-432de9683ef1\",\"type\":\"OpenHead\"},\"line_color\":{\"value\":\"gray\"},\"plot\":{\"id\":\"229f212c-4be6-45bb-b5f0-6b23238f7a47\",\"subtype\":\"Figure\",\"type\":\"Plot\"},\"source\":null,\"start\":null,\"x_end\":{\"value\":0.2598505366755212},\"x_start\":{\"value\":-0.12742991180167754},\"y_end\":{\"value\":-0.12712301278659727},\"y_start\":{\"value\":-0.2004679981139038}},\"id\":\"d1fef56b-48a1-418c-ab3a-d39a28d80fa7\",\"type\":\"Arrow\"},{\"attributes\":{\"line_color\":{\"value\":\"firebrick\"},\"line_width\":{\"value\":2},\"plot\":null,\"size\":10},\"id\":\"02733f6e-1911-4091-87f6-61fd1d735844\",\"type\":\"OpenHead\"},{\"attributes\":{\"end\":{\"id\":\"cbd50021-2e8a-4677-9d02-469444f67f28\",\"type\":\"OpenHead\"},\"line_color\":{\"value\":\"gray\"},\"plot\":{\"id\":\"229f212c-4be6-45bb-b5f0-6b23238f7a47\",\"subtype\":\"Figure\",\"type\":\"Plot\"},\"source\":null,\"start\":null,\"x_end\":{\"value\":-0.15668188821024331},\"x_start\":{\"value\":0.2598505366755212},\"y_end\":{\"value\":-0.2200810770967012},\"y_start\":{\"value\":-0.12712301278659727}},\"id\":\"ebf8d864-54e6-4d7b-8fe0-e9953d877a43\",\"type\":\"Arrow\"},{\"attributes\":{\"line_color\":{\"value\":\"firebrick\"},\"line_width\":{\"value\":2},\"plot\":null,\"size\":10},\"id\":\"a5411d0f-6a40-4acf-b557-3d5e950dca71\",\"type\":\"OpenHead\"},{\"attributes\":{\"end\":{\"id\":\"02733f6e-1911-4091-87f6-61fd1d735844\",\"type\":\"OpenHead\"},\"line_color\":{\"value\":\"gray\"},\"plot\":{\"id\":\"229f212c-4be6-45bb-b5f0-6b23238f7a47\",\"subtype\":\"Figure\",\"type\":\"Plot\"},\"source\":null,\"start\":null,\"x_end\":{\"value\":-0.1099800602088232},\"x_start\":{\"value\":-0.15668188821024331},\"y_end\":{\"value\":0.08829890385607292},\"y_start\":{\"value\":-0.2200810770967012}},\"id\":\"077d4fff-4557-47e5-86ee-5bb66feb7b49\",\"type\":\"Arrow\"},{\"attributes\":{\"line_color\":{\"value\":\"firebrick\"},\"line_width\":{\"value\":2},\"plot\":null,\"size\":10},\"id\":\"bacc9f95-79f0-4c59-a83d-9eda9767b5dd\",\"type\":\"OpenHead\"},{\"attributes\":{\"end\":{\"id\":\"a5411d0f-6a40-4acf-b557-3d5e950dca71\",\"type\":\"OpenHead\"},\"line_color\":{\"value\":\"gray\"},\"plot\":{\"id\":\"229f212c-4be6-45bb-b5f0-6b23238f7a47\",\"subtype\":\"Figure\",\"type\":\"Plot\"},\"source\":null,\"start\":null,\"x_end\":{\"value\":-0.12132896163607651},\"x_start\":{\"value\":-0.1099800602088232},\"y_end\":{\"value\":0.05418830129997579},\"y_start\":{\"value\":0.08829890385607292}},\"id\":\"77886524-4f43-4433-a029-be36056d3ffa\",\"type\":\"Arrow\"},{\"attributes\":{\"line_color\":{\"value\":\"firebrick\"},\"line_width\":{\"value\":2},\"plot\":null,\"size\":10},\"id\":\"4437b372-ba93-42f7-9e44-6ffaed20c838\",\"type\":\"OpenHead\"},{\"attributes\":{\"end\":{\"id\":\"bacc9f95-79f0-4c59-a83d-9eda9767b5dd\",\"type\":\"OpenHead\"},\"line_color\":{\"value\":\"gray\"},\"plot\":{\"id\":\"229f212c-4be6-45bb-b5f0-6b23238f7a47\",\"subtype\":\"Figure\",\"type\":\"Plot\"},\"source\":null,\"start\":null,\"x_end\":{\"value\":-0.002024492839467218},\"x_start\":{\"value\":-0.12132896163607651},\"y_end\":{\"value\":-0.01633924097914864},\"y_start\":{\"value\":0.05418830129997579}},\"id\":\"f6bd41d5-9da7-4cc0-9359-147afd01e83a\",\"type\":\"Arrow\"},{\"attributes\":{\"line_color\":{\"value\":\"firebrick\"},\"line_width\":{\"value\":2},\"plot\":null,\"size\":10},\"id\":\"b3e2d0c5-0b00-404e-b59a-5cf0bb20d044\",\"type\":\"OpenHead\"},{\"attributes\":{\"end\":{\"id\":\"4437b372-ba93-42f7-9e44-6ffaed20c838\",\"type\":\"OpenHead\"},\"line_color\":{\"value\":\"gray\"},\"plot\":{\"id\":\"229f212c-4be6-45bb-b5f0-6b23238f7a47\",\"subtype\":\"Figure\",\"type\":\"Plot\"},\"source\":null,\"start\":null,\"x_end\":{\"value\":-0.12208501368815541},\"x_start\":{\"value\":-0.002024492839467218},\"y_end\":{\"value\":-0.03082485410100189},\"y_start\":{\"value\":-0.01633924097914864}},\"id\":\"8123eb16-0b24-4c8b-84da-05459e935a29\",\"type\":\"Arrow\"},{\"attributes\":{\"fill_alpha\":{\"value\":0.1},\"fill_color\":{\"value\":\"#1f77b4\"},\"line_alpha\":{\"value\":0.1},\"line_color\":{\"value\":\"#1f77b4\"},\"size\":{\"units\":\"screen\",\"value\":5},\"x\":{\"field\":\"x\"},\"y\":{\"field\":\"y\"}},\"id\":\"79898273-9f81-4912-8e4a-bd2f96b4e71b\",\"type\":\"Circle\"},{\"attributes\":{\"line_color\":{\"value\":\"firebrick\"},\"line_width\":{\"value\":2},\"plot\":null,\"size\":10},\"id\":\"89130f92-5273-4779-80f3-f7203c2aa10b\",\"type\":\"OpenHead\"},{\"attributes\":{\"below\":[{\"id\":\"af93f0f9-83e9-4bef-be2e-1be302f3b075\",\"type\":\"LinearAxis\"}],\"left\":[{\"id\":\"83b3c3c6-78fd-46b4-a220-dd545b89c263\",\"type\":\"LinearAxis\"}],\"renderers\":[{\"id\":\"af93f0f9-83e9-4bef-be2e-1be302f3b075\",\"type\":\"LinearAxis\"},{\"id\":\"aa3eeb0a-1da0-4ffd-90a2-5266454b0d7c\",\"type\":\"Grid\"},{\"id\":\"83b3c3c6-78fd-46b4-a220-dd545b89c263\",\"type\":\"LinearAxis\"},{\"id\":\"635394a4-cd83-4fe9-8f6d-f57d16ed4683\",\"type\":\"Grid\"},{\"id\":\"4cca4909-95ed-4aec-b251-8b380496974c\",\"type\":\"Arrow\"},{\"id\":\"54c91a85-2409-4373-879f-1d57ab5787af\",\"type\":\"Arrow\"},{\"id\":\"d1fef56b-48a1-418c-ab3a-d39a28d80fa7\",\"type\":\"Arrow\"},{\"id\":\"ebf8d864-54e6-4d7b-8fe0-e9953d877a43\",\"type\":\"Arrow\"},{\"id\":\"077d4fff-4557-47e5-86ee-5bb66feb7b49\",\"type\":\"Arrow\"},{\"id\":\"77886524-4f43-4433-a029-be36056d3ffa\",\"type\":\"Arrow\"},{\"id\":\"f6bd41d5-9da7-4cc0-9359-147afd01e83a\",\"type\":\"Arrow\"},{\"id\":\"8123eb16-0b24-4c8b-84da-05459e935a29\",\"type\":\"Arrow\"},{\"id\":\"64930adc-9b04-44c0-a378-41a23ec72445\",\"type\":\"Arrow\"},{\"id\":\"03073fb2-5ef3-4c11-9032-2a65d0a972e1\",\"type\":\"Arrow\"},{\"id\":\"fa6ccbec-fbce-46bf-9838-b196b920c949\",\"type\":\"Arrow\"},{\"id\":\"dfb99e5c-54fe-433a-aff4-4513289a1fa7\",\"type\":\"Arrow\"},{\"id\":\"ed941518-d062-4680-9ce4-86742942a729\",\"type\":\"Arrow\"},{\"id\":\"5ec131ac-6c6e-4aa9-abd8-337f357ddd57\",\"type\":\"Arrow\"},{\"id\":\"6947d6b8-fdf8-4e24-a75a-a39b29eabf21\",\"type\":\"Arrow\"},{\"id\":\"fb21c261-1706-438b-84a7-c71d6768584f\",\"type\":\"Arrow\"},{\"id\":\"70da1156-9da8-496c-a4cf-24d1683d7348\",\"type\":\"Arrow\"},{\"id\":\"179fa8db-6b08-4456-848c-e3c834e7eff9\",\"type\":\"Arrow\"},{\"id\":\"a9f82a41-3c0a-405a-baa6-f8b28f69d890\",\"type\":\"Arrow\"},{\"id\":\"c6dbdee6-47bc-4fc1-b1e6-46dced91963a\",\"type\":\"GlyphRenderer\"},{\"id\":\"bfd05dda-ecf0-4572-a5d1-e1de2cbb0c3e\",\"type\":\"GlyphRenderer\"},{\"id\":\"ae289bbe-feac-4424-9efe-c4f6a316c2b6\",\"type\":\"GlyphRenderer\"},{\"id\":\"017d4816-d8b7-4e5f-9965-505678e6cdd4\",\"type\":\"GlyphRenderer\"},{\"id\":\"d3f5a03d-11d7-4585-ac03-080e6fdb6a45\",\"type\":\"GlyphRenderer\"},{\"id\":\"4b26e4b4-767d-4381-9072-db4aecd66b0f\",\"type\":\"GlyphRenderer\"}],\"title\":{\"id\":\"47a98e01-0c0b-42fb-9e2e-d329b64252a8\",\"type\":\"Title\"},\"toolbar\":{\"id\":\"ccf07f8c-6c4e-427d-b178-7b60edc202a3\",\"type\":\"Toolbar\"},\"x_range\":{\"id\":\"d2b40bb7-504f-4c0c-8755-8f4490a939c4\",\"type\":\"DataRange1d\"},\"x_scale\":{\"id\":\"93e2fa88-a6ec-4370-93aa-063e92c78b67\",\"type\":\"LinearScale\"},\"y_range\":{\"id\":\"8519e634-9180-47ae-935a-f3e17b4741fa\",\"type\":\"DataRange1d\"},\"y_scale\":{\"id\":\"085a92e2-4bc2-4267-abec-718515c80696\",\"type\":\"LinearScale\"}},\"id\":\"229f212c-4be6-45bb-b5f0-6b23238f7a47\",\"subtype\":\"Figure\",\"type\":\"Plot\"},{\"attributes\":{\"end\":{\"id\":\"b3e2d0c5-0b00-404e-b59a-5cf0bb20d044\",\"type\":\"OpenHead\"},\"line_color\":{\"value\":\"gray\"},\"plot\":{\"id\":\"229f212c-4be6-45bb-b5f0-6b23238f7a47\",\"subtype\":\"Figure\",\"type\":\"Plot\"},\"source\":null,\"start\":null,\"x_end\":{\"value\":-0.07744998084723244},\"x_start\":{\"value\":-0.12208501368815541},\"y_end\":{\"value\":0.31414005428979846},\"y_start\":{\"value\":-0.03082485410100189}},\"id\":\"64930adc-9b04-44c0-a378-41a23ec72445\",\"type\":\"Arrow\"},{\"attributes\":{\"line_color\":{\"value\":\"firebrick\"},\"line_width\":{\"value\":2},\"plot\":null,\"size\":10},\"id\":\"4809cfed-ade0-4cfa-a9df-24bc7186bd49\",\"type\":\"OpenHead\"},{\"attributes\":{\"fill_alpha\":{\"value\":0.1},\"fill_color\":{\"value\":\"#1f77b4\"},\"line_alpha\":{\"value\":0.1},\"line_color\":{\"value\":\"#1f77b4\"},\"size\":{\"units\":\"screen\",\"value\":10},\"x\":{\"field\":\"x\"},\"y\":{\"field\":\"y\"}},\"id\":\"6ee87a78-c5e1-45ae-bcfe-553dace9804f\",\"type\":\"Circle\"},{\"attributes\":{\"end\":{\"id\":\"89130f92-5273-4779-80f3-f7203c2aa10b\",\"type\":\"OpenHead\"},\"line_color\":{\"value\":\"gray\"},\"plot\":{\"id\":\"229f212c-4be6-45bb-b5f0-6b23238f7a47\",\"subtype\":\"Figure\",\"type\":\"Plot\"},\"source\":null,\"start\":null,\"x_end\":{\"value\":0.3069486676150022},\"x_start\":{\"value\":-0.07744998084723244},\"y_end\":{\"value\":0.001637787876582956},\"y_start\":{\"value\":0.31414005428979846}},\"id\":\"03073fb2-5ef3-4c11-9032-2a65d0a972e1\",\"type\":\"Arrow\"},{\"attributes\":{\"line_color\":{\"value\":\"firebrick\"},\"line_width\":{\"value\":2},\"plot\":null,\"size\":10},\"id\":\"9e21b2e2-bb50-469e-91a6-3b80505199d9\",\"type\":\"OpenHead\"},{\"attributes\":{\"end\":{\"id\":\"4809cfed-ade0-4cfa-a9df-24bc7186bd49\",\"type\":\"OpenHead\"},\"line_color\":{\"value\":\"gray\"},\"plot\":{\"id\":\"229f212c-4be6-45bb-b5f0-6b23238f7a47\",\"subtype\":\"Figure\",\"type\":\"Plot\"},\"source\":null,\"start\":null,\"x_end\":{\"value\":-0.10679915118670305},\"x_start\":{\"value\":0.3069486676150022},\"y_end\":{\"value\":0.14290538127973068},\"y_start\":{\"value\":0.001637787876582956}},\"id\":\"fa6ccbec-fbce-46bf-9838-b196b920c949\",\"type\":\"Arrow\"},{\"attributes\":{\"line_color\":{\"value\":\"firebrick\"},\"line_width\":{\"value\":2},\"plot\":null,\"size\":10},\"id\":\"23cffde6-0ea6-45b7-963f-f435b5ebdda6\",\"type\":\"OpenHead\"},{\"attributes\":{\"end\":{\"id\":\"9e21b2e2-bb50-469e-91a6-3b80505199d9\",\"type\":\"OpenHead\"},\"line_color\":{\"value\":\"gray\"},\"plot\":{\"id\":\"229f212c-4be6-45bb-b5f0-6b23238f7a47\",\"subtype\":\"Figure\",\"type\":\"Plot\"},\"source\":null,\"start\":null,\"x_end\":{\"value\":0.33301118536078783},\"x_start\":{\"value\":-0.10679915118670305},\"y_end\":{\"value\":-0.004887718256347975},\"y_start\":{\"value\":0.14290538127973068}},\"id\":\"dfb99e5c-54fe-433a-aff4-4513289a1fa7\",\"type\":\"Arrow\"},{\"attributes\":{\"line_color\":{\"value\":\"firebrick\"},\"line_width\":{\"value\":2},\"plot\":null,\"size\":10},\"id\":\"07408f10-988f-46c4-9684-6421c80ca97f\",\"type\":\"OpenHead\"},{\"attributes\":{\"end\":{\"id\":\"23cffde6-0ea6-45b7-963f-f435b5ebdda6\",\"type\":\"OpenHead\"},\"line_color\":{\"value\":\"gray\"},\"plot\":{\"id\":\"229f212c-4be6-45bb-b5f0-6b23238f7a47\",\"subtype\":\"Figure\",\"type\":\"Plot\"},\"source\":null,\"start\":null,\"x_end\":{\"value\":-0.11883678637706362},\"x_start\":{\"value\":0.33301118536078783},\"y_end\":{\"value\":0.12265050718560118},\"y_start\":{\"value\":-0.004887718256347975}},\"id\":\"ed941518-d062-4680-9ce4-86742942a729\",\"type\":\"Arrow\"},{\"attributes\":{\"line_color\":{\"value\":\"firebrick\"},\"line_width\":{\"value\":2},\"plot\":null,\"size\":10},\"id\":\"a3a7c1cf-3d00-4ef3-936a-f5ddcedae25e\",\"type\":\"OpenHead\"},{\"attributes\":{\"end\":{\"id\":\"07408f10-988f-46c4-9684-6421c80ca97f\",\"type\":\"OpenHead\"},\"line_color\":{\"value\":\"gray\"},\"plot\":{\"id\":\"229f212c-4be6-45bb-b5f0-6b23238f7a47\",\"subtype\":\"Figure\",\"type\":\"Plot\"},\"source\":null,\"start\":null,\"x_end\":{\"value\":0.3490933200850874},\"x_start\":{\"value\":-0.11883678637706362},\"y_end\":{\"value\":-0.013117929698746974},\"y_start\":{\"value\":0.12265050718560118}},\"id\":\"5ec131ac-6c6e-4aa9-abd8-337f357ddd57\",\"type\":\"Arrow\"},{\"attributes\":{\"line_color\":{\"value\":\"firebrick\"},\"line_width\":{\"value\":2},\"plot\":null,\"size\":10},\"id\":\"4c6afca9-5210-4482-a768-24721ab4cff9\",\"type\":\"OpenHead\"},{\"attributes\":{\"end\":{\"id\":\"a3a7c1cf-3d00-4ef3-936a-f5ddcedae25e\",\"type\":\"OpenHead\"},\"line_color\":{\"value\":\"gray\"},\"plot\":{\"id\":\"229f212c-4be6-45bb-b5f0-6b23238f7a47\",\"subtype\":\"Figure\",\"type\":\"Plot\"},\"source\":null,\"start\":null,\"x_end\":{\"value\":-0.11924213778569949},\"x_start\":{\"value\":0.3490933200850874},\"y_end\":{\"value\":0.11964175135824998},\"y_start\":{\"value\":-0.013117929698746974}},\"id\":\"6947d6b8-fdf8-4e24-a75a-a39b29eabf21\",\"type\":\"Arrow\"},{\"attributes\":{\"line_color\":{\"value\":\"firebrick\"},\"line_width\":{\"value\":2},\"plot\":null,\"size\":10},\"id\":\"39849cb9-6d22-4ec9-ba32-7313073fee5c\",\"type\":\"OpenHead\"},{\"attributes\":{\"end\":{\"id\":\"4c6afca9-5210-4482-a768-24721ab4cff9\",\"type\":\"OpenHead\"},\"line_color\":{\"value\":\"gray\"},\"plot\":{\"id\":\"229f212c-4be6-45bb-b5f0-6b23238f7a47\",\"subtype\":\"Figure\",\"type\":\"Plot\"},\"source\":null,\"start\":null,\"x_end\":{\"value\":0.3545038398874471},\"x_start\":{\"value\":-0.11924213778569949},\"y_end\":{\"value\":-0.019206856097867785},\"y_start\":{\"value\":0.11964175135824998}},\"id\":\"fb21c261-1706-438b-84a7-c71d6768584f\",\"type\":\"Arrow\"},{\"attributes\":{\"line_color\":{\"value\":\"firebrick\"},\"line_width\":{\"value\":2},\"plot\":null,\"size\":10},\"id\":\"e5437b6d-84ef-43ee-97f5-7f6a742be400\",\"type\":\"OpenHead\"},{\"attributes\":{\"end\":{\"id\":\"39849cb9-6d22-4ec9-ba32-7313073fee5c\",\"type\":\"OpenHead\"},\"line_color\":{\"value\":\"gray\"},\"plot\":{\"id\":\"229f212c-4be6-45bb-b5f0-6b23238f7a47\",\"subtype\":\"Figure\",\"type\":\"Plot\"},\"source\":null,\"start\":null,\"x_end\":{\"value\":-0.1199556676752805},\"x_start\":{\"value\":0.3545038398874471},\"y_end\":{\"value\":0.1170794413946538},\"y_start\":{\"value\":-0.019206856097867785}},\"id\":\"70da1156-9da8-496c-a4cf-24d1683d7348\",\"type\":\"Arrow\"},{\"attributes\":{\"line_color\":{\"value\":\"firebrick\"},\"line_width\":{\"value\":2},\"plot\":null,\"size\":10},\"id\":\"4e122609-f90d-4920-8445-67eef5deabab\",\"type\":\"OpenHead\"},{\"attributes\":{\"end\":{\"id\":\"e5437b6d-84ef-43ee-97f5-7f6a742be400\",\"type\":\"OpenHead\"},\"line_color\":{\"value\":\"gray\"},\"plot\":{\"id\":\"229f212c-4be6-45bb-b5f0-6b23238f7a47\",\"subtype\":\"Figure\",\"type\":\"Plot\"},\"source\":null,\"start\":null,\"x_end\":{\"value\":0.019807932770255544},\"x_start\":{\"value\":-0.1199556676752805},\"y_end\":{\"value\":0.052255659877326124},\"y_start\":{\"value\":0.1170794413946538}},\"id\":\"179fa8db-6b08-4456-848c-e3c834e7eff9\",\"type\":\"Arrow\"},{\"attributes\":{\"source\":{\"id\":\"11334d82-e44d-43d8-97cc-4caeb5bfda3a\",\"type\":\"ColumnDataSource\"}},\"id\":\"0c4631c7-b9e2-47e4-b749-19d15bc12053\",\"type\":\"CDSView\"},{\"attributes\":{\"end\":{\"id\":\"4e122609-f90d-4920-8445-67eef5deabab\",\"type\":\"OpenHead\"},\"line_color\":{\"value\":\"gray\"},\"plot\":{\"id\":\"229f212c-4be6-45bb-b5f0-6b23238f7a47\",\"subtype\":\"Figure\",\"type\":\"Plot\"},\"source\":null,\"start\":null,\"x_end\":{\"value\":-0.08831883584890826},\"x_start\":{\"value\":0.019807932770255544},\"y_end\":{\"value\":0.07242508282441083},\"y_start\":{\"value\":0.052255659877326124}},\"id\":\"a9f82a41-3c0a-405a-baa6-f8b28f69d890\",\"type\":\"Arrow\"},{\"attributes\":{\"callback\":null,\"column_names\":[\"x\",\"y\",\"desc\",\"pred\",\"copy\"],\"data\":{\"copy\":[{\"__ndarray__\":\"TVwlPg==\",\"dtype\":\"float32\",\"shape\":[1]},{\"__ndarray__\":\"kpCePg==\",\"dtype\":\"float32\",\"shape\":[1]},{\"__ndarray__\":\"X2q4Pg==\",\"dtype\":\"float32\",\"shape\":[1]},{\"__ndarray__\":\"H6f/PQ==\",\"dtype\":\"float32\",\"shape\":[1]},{\"__ndarray__\":\"WS8SPw==\",\"dtype\":\"float32\",\"shape\":[1]},{\"__ndarray__\":\"D6BkPQ==\",\"dtype\":\"float32\",\"shape\":[1]},{\"__ndarray__\":\"2/BePA==\",\"dtype\":\"float32\",\"shape\":[1]},{\"__ndarray__\":\"AU10Pg==\",\"dtype\":\"float32\",\"shape\":[1]},{\"__ndarray__\":\"A1DePg==\",\"dtype\":\"float32\",\"shape\":[1]},{\"__ndarray__\":\"HUzPOw==\",\"dtype\":\"float32\",\"shape\":[1]},{\"__ndarray__\":\"wgnhPQ==\",\"dtype\":\"float32\",\"shape\":[1]},{\"__ndarray__\":\"chgXPw==\",\"dtype\":\"float32\",\"shape\":[1]},{\"__ndarray__\":\"iAAFPg==\",\"dtype\":\"float32\",\"shape\":[1]},{\"__ndarray__\":\"YXwePw==\",\"dtype\":\"float32\",\"shape\":[1]},{\"__ndarray__\":\"ikoNPg==\",\"dtype\":\"float32\",\"shape\":[1]},{\"__ndarray__\":\"7i0iPw==\",\"dtype\":\"float32\",\"shape\":[1]},{\"__ndarray__\":\"ruUPPg==\",\"dtype\":\"float32\",\"shape\":[1]},{\"__ndarray__\":\"caIjPw==\",\"dtype\":\"float32\",\"shape\":[1]},{\"__ndarray__\":\"bkGrPg==\",\"dtype\":\"float32\",\"shape\":[1]},{\"__ndarray__\":\"R9fnPg==\",\"dtype\":\"float32\",\"shape\":[1]}],\"desc\":[\"    - utter_ask_details\",\"    - utter_explain_details_hotel\",\"    - utter_ask_details\",\"    - utter_chitchat\",\"    - utter_ask_details\",\"    - utter_ask_startdate\",\"    - utter_ask_location\",\"    - utter_explain_location_hotel\",\"    - utter_ask_location\",\"    - utter_ask_price\",\"    - utter_chitchat\",\"    - utter_ask_price\",\"    - utter_chitchat\",\"    - utter_ask_price\",\"    - utter_chitchat\",\"    - utter_ask_price\",\"    - utter_chitchat\",\"    - utter_ask_price\",\"    - utter_explain_price_hotel\",\"    - utter_ask_price\"],\"pred\":[\"utter_ask_details\",\"utter_explain_details_hotel\",\"utter_ask_people\",\"utter_chitchat\",\"utter_ask_details\",\"utter_ask_price\",\"utter_ask_location\",\"utter_explain_location_hotel\",\"utter_ask_location\",\"utter_ask_price\",\"utter_chitchat\",\"utter_ask_price\",\"utter_chitchat\",\"utter_ask_price\",\"utter_chitchat\",\"utter_ask_price\",\"utter_chitchat\",\"utter_ask_price\",\"utter_explain_price_hotel\",\"utter_ask_price\"],\"x\":{\"__ndarray__\":\"5NxqpZ9Sz7/qF2yoX767vxE13JOfT8C/c6Q3JWSh0D/sh97wJg7Evw4bzzmnJ7y/ttpIMmoPv7+a/SpRq5Vgv6pRH6X2QL+/gY/QDsPTs7/pQj0GDKXTPxJjlm0wV7u/7emUJQ5Q1T8vHQ1vFmy+v+QeQYKLV9Y/mT4YGqeGvr9T36ffMLDWP8WaoiVqtb6/rWfM3YdIlD+0g5cvEJy2vw==\",\"dtype\":\"float64\",\"shape\":[20]},\"y\":{\"__ndarray__\":\"SF5ntpg+0b+c1UQpa4THv3Sb5XPvqMm/8mM+H5FFwL8HpUzinSvMv5SgVcjBmrY/ZIHRq5G+qz+jbpbmO7uQv4EzEvGMkJ+/T3Ti4t4a1D+ri4hXYdVaP85pgjm5SsI/tlwC4SQFdL89MTMNBma/P572YLiS3Yq/guFRgdegvj8GgTJL9qqTv8vw0hPr+L0/qnRo/EDBqj9fFCRCc4qyPw==\",\"dtype\":\"float64\",\"shape\":[20]}},\"selected\":null,\"selection_policy\":null},\"id\":\"11334d82-e44d-43d8-97cc-4caeb5bfda3a\",\"type\":\"ColumnDataSource\"},{\"attributes\":{\"data_source\":{\"id\":\"40ec0305-2eb0-4562-9236-1448928573d0\",\"type\":\"ColumnDataSource\"},\"glyph\":{\"id\":\"d8f8f63c-bb23-47ce-8978-f9661a9fe3d5\",\"type\":\"Circle\"},\"hover_glyph\":null,\"muted_glyph\":null,\"name\":\"circle\",\"nonselection_glyph\":{\"id\":\"c1c0ff31-9a34-4018-a826-6c43bcc286ea\",\"type\":\"Circle\"},\"selection_glyph\":null,\"view\":{\"id\":\"287b2e20-c767-4370-a267-aa6ffdb523cb\",\"type\":\"CDSView\"}},\"id\":\"bfd05dda-ecf0-4572-a5d1-e1de2cbb0c3e\",\"type\":\"GlyphRenderer\"},{\"attributes\":{\"fill_alpha\":{\"value\":0.1},\"fill_color\":{\"value\":\"#1f77b4\"},\"line_alpha\":{\"value\":0.1},\"line_color\":{\"value\":\"#1f77b4\"},\"size\":{\"units\":\"screen\",\"value\":5},\"x\":{\"value\":-0.09019781841962204},\"y\":{\"value\":-0.0662624606529761}},\"id\":\"e0787db1-0a97-4517-a315-213e0fa47f7a\",\"type\":\"Circle\"},{\"attributes\":{\"data_source\":{\"id\":\"b326fbf7-bf52-4381-96a7-4cac4f160072\",\"type\":\"ColumnDataSource\"},\"glyph\":{\"id\":\"566b0d9f-d415-491d-bd2f-dcadc49f1ad8\",\"type\":\"Circle\"},\"hover_glyph\":null,\"muted_glyph\":null,\"name\":\"circle\",\"nonselection_glyph\":{\"id\":\"79898273-9f81-4912-8e4a-bd2f96b4e71b\",\"type\":\"Circle\"},\"selection_glyph\":null,\"view\":{\"id\":\"03a100ce-75ac-4179-8859-96aaf6095698\",\"type\":\"CDSView\"}},\"id\":\"ae289bbe-feac-4424-9efe-c4f6a316c2b6\",\"type\":\"GlyphRenderer\"},{\"attributes\":{\"source\":{\"id\":\"40ec0305-2eb0-4562-9236-1448928573d0\",\"type\":\"ColumnDataSource\"}},\"id\":\"287b2e20-c767-4370-a267-aa6ffdb523cb\",\"type\":\"CDSView\"},{\"attributes\":{\"fill_color\":{\"value\":\"green\"},\"line_color\":{\"value\":\"green\"},\"size\":{\"units\":\"screen\",\"value\":5},\"x\":{\"field\":\"x\"},\"y\":{\"field\":\"y\"}},\"id\":\"d8f8f63c-bb23-47ce-8978-f9661a9fe3d5\",\"type\":\"Circle\"},{\"attributes\":{},\"id\":\"3ae39623-d8c6-42b4-9000-0bbc070fe954\",\"type\":\"BasicTickFormatter\"},{\"attributes\":{\"callback\":null,\"data\":{},\"selected\":null,\"selection_policy\":null},\"id\":\"aa32854f-5390-4d14-a226-be55bfb2eaaf\",\"type\":\"ColumnDataSource\"},{\"attributes\":{\"callback\":null,\"column_names\":[\"x\",\"y\",\"desc\",\"pred\",\"copy\"],\"data\":{\"copy\":[{\"__ndarray__\":\"TVwlPg==\",\"dtype\":\"float32\",\"shape\":[1]},{\"__ndarray__\":\"kpCePg==\",\"dtype\":\"float32\",\"shape\":[1]},{\"__ndarray__\":\"X2q4Pg==\",\"dtype\":\"float32\",\"shape\":[1]},{\"__ndarray__\":\"H6f/PQ==\",\"dtype\":\"float32\",\"shape\":[1]},{\"__ndarray__\":\"WS8SPw==\",\"dtype\":\"float32\",\"shape\":[1]},{\"__ndarray__\":\"D6BkPQ==\",\"dtype\":\"float32\",\"shape\":[1]},{\"__ndarray__\":\"2/BePA==\",\"dtype\":\"float32\",\"shape\":[1]},{\"__ndarray__\":\"AU10Pg==\",\"dtype\":\"float32\",\"shape\":[1]},{\"__ndarray__\":\"A1DePg==\",\"dtype\":\"float32\",\"shape\":[1]},{\"__ndarray__\":\"HUzPOw==\",\"dtype\":\"float32\",\"shape\":[1]},{\"__ndarray__\":\"wgnhPQ==\",\"dtype\":\"float32\",\"shape\":[1]},{\"__ndarray__\":\"chgXPw==\",\"dtype\":\"float32\",\"shape\":[1]},{\"__ndarray__\":\"iAAFPg==\",\"dtype\":\"float32\",\"shape\":[1]},{\"__ndarray__\":\"YXwePw==\",\"dtype\":\"float32\",\"shape\":[1]},{\"__ndarray__\":\"ikoNPg==\",\"dtype\":\"float32\",\"shape\":[1]},{\"__ndarray__\":\"7i0iPw==\",\"dtype\":\"float32\",\"shape\":[1]},{\"__ndarray__\":\"ruUPPg==\",\"dtype\":\"float32\",\"shape\":[1]},{\"__ndarray__\":\"caIjPw==\",\"dtype\":\"float32\",\"shape\":[1]},{\"__ndarray__\":\"bkGrPg==\",\"dtype\":\"float32\",\"shape\":[1]},{\"__ndarray__\":\"R9fnPg==\",\"dtype\":\"float32\",\"shape\":[1]}],\"desc\":[\"    - utter_ask_details\",\"    - utter_explain_details_hotel\",\"    - utter_ask_details\",\"    - utter_chitchat\",\"    - utter_ask_details\",\"    - utter_ask_startdate\",\"    - utter_ask_location\",\"    - utter_explain_location_hotel\",\"    - utter_ask_location\",\"    - utter_ask_price\",\"    - utter_chitchat\",\"    - utter_ask_price\",\"    - utter_chitchat\",\"    - utter_ask_price\",\"    - utter_chitchat\",\"    - utter_ask_price\",\"    - utter_chitchat\",\"    - utter_ask_price\",\"    - utter_explain_price_hotel\",\"    - utter_ask_price\"],\"pred\":[\"utter_ask_details\",\"utter_explain_details_hotel\",\"utter_ask_people\",\"utter_chitchat\",\"utter_ask_details\",\"utter_ask_price\",\"utter_ask_location\",\"utter_explain_location_hotel\",\"utter_ask_location\",\"utter_ask_price\",\"utter_chitchat\",\"utter_ask_price\",\"utter_chitchat\",\"utter_ask_price\",\"utter_chitchat\",\"utter_ask_price\",\"utter_chitchat\",\"utter_ask_price\",\"utter_explain_price_hotel\",\"utter_ask_price\"],\"x\":{\"__ndarray__\":\"TqLUpgc5sb/mvdrOcJHFv0F1CuraYsK/+m7gpyNHwL8DrEGbcSTGv9Bhk0C5RcS/vg51NE2Jvr/BMAbHLD64v6Isys3ADri/opIjQsR0xb8SnlkZ2O+7v8wEZ4LNUr2/vM4DLsUFvb9JmqQPVVO9v8v4jT+K2ri/1rjsf8FTvb9kLwvUew65v3Q5WcD4U72//L3PQgRSvb8w8K+OMmK9vw==\",\"dtype\":\"float64\",\"shape\":[20]},\"y\":{\"__ndarray__\":\"X2AaqOZ1wb+Pk1+zB2bQv+8ObVaUs8m/6YfxTuWUwL/3Gy2fjsXQv3eRI7mOyc2/UJHpA/pwwr/dLDqYlaO0vwc9oGF4KLS/pnkvr2qgz7/eTFFAnyu3P/smd7OXhMo/ZZB4zCpJxz/c1+SMVYXKPyPHYjlI8sg/9KPen9eCyj+o2eep0wTJPx3yHS6kgco/C1ImUKeJyj/kOSLAONrJPw==\",\"dtype\":\"float64\",\"shape\":[20]}},\"selected\":null,\"selection_policy\":null},\"id\":\"40ec0305-2eb0-4562-9236-1448928573d0\",\"type\":\"ColumnDataSource\"},{\"attributes\":{\"callback\":null,\"data\":{},\"selected\":null,\"selection_policy\":null},\"id\":\"4afae48b-7633-4927-972d-708ad75e6cd3\",\"type\":\"ColumnDataSource\"},{\"attributes\":{\"fill_alpha\":{\"value\":0.1},\"fill_color\":{\"value\":\"#1f77b4\"},\"line_alpha\":{\"value\":0.1},\"line_color\":{\"value\":\"#1f77b4\"},\"size\":{\"units\":\"screen\",\"value\":5},\"x\":{\"field\":\"x\"},\"y\":{\"field\":\"y\"}},\"id\":\"c1c0ff31-9a34-4018-a826-6c43bcc286ea\",\"type\":\"Circle\"},{\"attributes\":{\"callback\":null,\"column_names\":[\"x\",\"y\",\"desc\",\"pred\",\"copy\"],\"data\":{\"copy\":[{\"__ndarray__\":\"TVwlPg==\",\"dtype\":\"float32\",\"shape\":[1]},{\"__ndarray__\":\"kpCePg==\",\"dtype\":\"float32\",\"shape\":[1]},{\"__ndarray__\":\"X2q4Pg==\",\"dtype\":\"float32\",\"shape\":[1]},{\"__ndarray__\":\"H6f/PQ==\",\"dtype\":\"float32\",\"shape\":[1]},{\"__ndarray__\":\"WS8SPw==\",\"dtype\":\"float32\",\"shape\":[1]},{\"__ndarray__\":\"D6BkPQ==\",\"dtype\":\"float32\",\"shape\":[1]},{\"__ndarray__\":\"2/BePA==\",\"dtype\":\"float32\",\"shape\":[1]},{\"__ndarray__\":\"AU10Pg==\",\"dtype\":\"float32\",\"shape\":[1]},{\"__ndarray__\":\"A1DePg==\",\"dtype\":\"float32\",\"shape\":[1]},{\"__ndarray__\":\"HUzPOw==\",\"dtype\":\"float32\",\"shape\":[1]},{\"__ndarray__\":\"wgnhPQ==\",\"dtype\":\"float32\",\"shape\":[1]},{\"__ndarray__\":\"chgXPw==\",\"dtype\":\"float32\",\"shape\":[1]},{\"__ndarray__\":\"iAAFPg==\",\"dtype\":\"float32\",\"shape\":[1]},{\"__ndarray__\":\"YXwePw==\",\"dtype\":\"float32\",\"shape\":[1]},{\"__ndarray__\":\"ikoNPg==\",\"dtype\":\"float32\",\"shape\":[1]},{\"__ndarray__\":\"7i0iPw==\",\"dtype\":\"float32\",\"shape\":[1]},{\"__ndarray__\":\"ruUPPg==\",\"dtype\":\"float32\",\"shape\":[1]},{\"__ndarray__\":\"caIjPw==\",\"dtype\":\"float32\",\"shape\":[1]},{\"__ndarray__\":\"bkGrPg==\",\"dtype\":\"float32\",\"shape\":[1]},{\"__ndarray__\":\"R9fnPg==\",\"dtype\":\"float32\",\"shape\":[1]}],\"desc\":[\"    - utter_ask_details\",\"    - utter_explain_details_hotel\",\"    - utter_ask_details\",\"    - utter_chitchat\",\"    - utter_ask_details\",\"    - utter_ask_startdate\",\"    - utter_ask_location\",\"    - utter_explain_location_hotel\",\"    - utter_ask_location\",\"    - utter_ask_price\",\"    - utter_chitchat\",\"    - utter_ask_price\",\"    - utter_chitchat\",\"    - utter_ask_price\",\"    - utter_chitchat\",\"    - utter_ask_price\",\"    - utter_chitchat\",\"    - utter_ask_price\",\"    - utter_explain_price_hotel\",\"    - utter_ask_price\"],\"pred\":[\"utter_ask_details\",\"utter_explain_details_hotel\",\"utter_ask_people\",\"utter_chitchat\",\"utter_ask_details\",\"utter_ask_price\",\"utter_ask_location\",\"utter_explain_location_hotel\",\"utter_ask_location\",\"utter_ask_price\",\"utter_chitchat\",\"utter_ask_price\",\"utter_chitchat\",\"utter_ask_price\",\"utter_chitchat\",\"utter_ask_price\",\"utter_chitchat\",\"utter_ask_price\",\"utter_explain_price_hotel\",\"utter_ask_price\"],\"x\":{\"__ndarray__\":\"ByQ7QCrZ0b/cbyxrgta0v2WugW4gSb6/H8tCxdYp1D9DyMwn6EbBv74zp+wlbLu/ia7izkMRv79nMlXwQKmbP7H26qJbY8K/qM2cMiOus7/fxxYKle7WP5qcB9YQfLi/6JmunsOT2T+LlcPEMRrAvwmH9NGm6do/25xJPJRMwL/RwCyOBmzbPyCK+3jJk8C/tpI0Oghbtj/yMgBVAgGxvw==\",\"dtype\":\"float64\",\"shape\":[20]},\"y\":{\"__ndarray__\":\"nKs1u1zi0r+FWmsvnVrDv5GhUXXxosm/1jKsa0A6wL8KmYSUkATFvzR6xJxwdrs/zEms9QwlrT+Fc23JXSVvP8SFuMQqXXg/pUoPP2lV1D+KLO39Oh2Dv7S7XFNwxqk/3EkTvKTHoL+P8pdFuTeOvysSZlKAw6e/+HKtLAoqoL/fChu/282rv/I3xqQ7saW/zM3DSD1Mmr8DPxX3mc6hvw==\",\"dtype\":\"float64\",\"shape\":[20]}},\"selected\":null,\"selection_policy\":null},\"id\":\"b326fbf7-bf52-4381-96a7-4cac4f160072\",\"type\":\"ColumnDataSource\"},{\"attributes\":{\"source\":{\"id\":\"b326fbf7-bf52-4381-96a7-4cac4f160072\",\"type\":\"ColumnDataSource\"}},\"id\":\"03a100ce-75ac-4179-8859-96aaf6095698\",\"type\":\"CDSView\"},{\"attributes\":{\"fill_color\":{\"value\":\"magenta\"},\"line_color\":{\"value\":\"magenta\"},\"size\":{\"units\":\"screen\",\"value\":5},\"x\":{\"value\":-0.09019781841962204},\"y\":{\"value\":-0.0662624606529761}},\"id\":\"16f0e9c0-43b0-40b2-8751-d427dbea0f4c\",\"type\":\"Circle\"},{\"attributes\":{\"fill_color\":{\"value\":\"red\"},\"line_color\":{\"value\":\"red\"},\"size\":{\"units\":\"screen\",\"value\":5},\"x\":{\"field\":\"x\"},\"y\":{\"field\":\"y\"}},\"id\":\"566b0d9f-d415-491d-bd2f-dcadc49f1ad8\",\"type\":\"Circle\"},{\"attributes\":{\"callback\":null,\"names\":[\"circle\"],\"tooltips\":[[\"true action\",\"@desc\"],[\"prediction\",\"@pred\"],[\"copy_gate\",\"@copy\"]]},\"id\":\"8acb30e4-eb99-41f2-aa0a-b2d050c6ed79\",\"type\":\"HoverTool\"}],\"root_ids\":[\"229f212c-4be6-45bb-b5f0-6b23238f7a47\"]},\"title\":\"Bokeh Application\",\"version\":\"0.12.15\"}};\n",
       "  var render_items = [{\"docid\":\"9731c90b-c8f3-4351-8aca-3a8e88087cac\",\"elementid\":\"964e8287-4e56-4063-a108-0e816581569b\",\"modelid\":\"229f212c-4be6-45bb-b5f0-6b23238f7a47\"}];\n",
       "  root.Bokeh.embed.embed_items_notebook(docs_json, render_items);\n",
       "\n",
       "  }\n",
       "  if (root.Bokeh !== undefined) {\n",
       "    embed_document(root);\n",
       "  } else {\n",
       "    var attempts = 0;\n",
       "    var timer = setInterval(function(root) {\n",
       "      if (root.Bokeh !== undefined) {\n",
       "        embed_document(root);\n",
       "        clearInterval(timer);\n",
       "      }\n",
       "      attempts++;\n",
       "      if (attempts > 100) {\n",
       "        console.log(\"Bokeh: ERROR: Unable to run BokehJS code because BokehJS library is missing\")\n",
       "        clearInterval(timer);\n",
       "      }\n",
       "    }, 10, root)\n",
       "  }\n",
       "})(window);"
      ],
      "application/vnd.bokehjs_exec.v0+json": ""
     },
     "metadata": {
      "application/vnd.bokehjs_exec.v0+json": {
       "id": "229f212c-4be6-45bb-b5f0-6b23238f7a47"
      }
     },
     "output_type": "display_data"
    }
   ],
   "source": [
    "show(p)"
   ]
  },
  {
   "cell_type": "code",
   "execution_count": 67,
   "metadata": {},
   "outputs": [
    {
     "data": {
      "text/plain": [
       "41"
      ]
     },
     "execution_count": 67,
     "metadata": {},
     "output_type": "execute_result"
    }
   ],
   "source": [
    "domain.index_for_action('utter_ask_price')\n",
    "domain.index_for_action('utter_suggest_hotel')\n",
    "domain.index_for_action('action_search_hotel')"
   ]
  },
  {
   "cell_type": "code",
   "execution_count": 78,
   "metadata": {},
   "outputs": [
    {
     "data": {
      "text/plain": [
       "(20,)"
      ]
     },
     "execution_count": 78,
     "metadata": {},
     "output_type": "execute_result"
    }
   ],
   "source": [
    "utter_price = embedding_from_tracker(\"#generate story\\n{}\".format(story_block), bot=True)[0,-1,5,:]\n",
    "utter_price.shape"
   ]
  },
  {
   "cell_type": "code",
   "execution_count": 79,
   "metadata": {},
   "outputs": [
    {
     "name": "stdout",
     "output_type": "stream",
     "text": [
      "(20,)\n"
     ]
    },
    {
     "data": {
      "text/html": [
       "<div style=\"display: table;\"><div style=\"display: table-row;\"><div style=\"display: table-cell;\"><b title=\"bokeh.models.renderers.GlyphRenderer\">GlyphRenderer</b>(</div><div style=\"display: table-cell;\">id&nbsp;=&nbsp;'40be76cd-2f47-4e6a-b3e9-952cd73afc7f', <span id=\"60ca09d2-0bff-4616-8762-a7abcd952efa\" style=\"cursor: pointer;\">&hellip;)</span></div></div><div class=\"ee1552c4-9eea-41ff-b63c-9cbb9815e60f\" style=\"display: none;\"><div style=\"display: table-cell;\"></div><div style=\"display: table-cell;\">data_source&nbsp;=&nbsp;ColumnDataSource(id='cf33adae-d11c-4d32-9f16-667cd2dccb0a', ...),</div></div><div class=\"ee1552c4-9eea-41ff-b63c-9cbb9815e60f\" style=\"display: none;\"><div style=\"display: table-cell;\"></div><div style=\"display: table-cell;\">glyph&nbsp;=&nbsp;Circle(id='5f80d410-a0be-4812-90d9-e802e18b6477', ...),</div></div><div class=\"ee1552c4-9eea-41ff-b63c-9cbb9815e60f\" style=\"display: none;\"><div style=\"display: table-cell;\"></div><div style=\"display: table-cell;\">hover_glyph&nbsp;=&nbsp;None,</div></div><div class=\"ee1552c4-9eea-41ff-b63c-9cbb9815e60f\" style=\"display: none;\"><div style=\"display: table-cell;\"></div><div style=\"display: table-cell;\">js_event_callbacks&nbsp;=&nbsp;{},</div></div><div class=\"ee1552c4-9eea-41ff-b63c-9cbb9815e60f\" style=\"display: none;\"><div style=\"display: table-cell;\"></div><div style=\"display: table-cell;\">js_property_callbacks&nbsp;=&nbsp;{},</div></div><div class=\"ee1552c4-9eea-41ff-b63c-9cbb9815e60f\" style=\"display: none;\"><div style=\"display: table-cell;\"></div><div style=\"display: table-cell;\">level&nbsp;=&nbsp;'glyph',</div></div><div class=\"ee1552c4-9eea-41ff-b63c-9cbb9815e60f\" style=\"display: none;\"><div style=\"display: table-cell;\"></div><div style=\"display: table-cell;\">muted&nbsp;=&nbsp;False,</div></div><div class=\"ee1552c4-9eea-41ff-b63c-9cbb9815e60f\" style=\"display: none;\"><div style=\"display: table-cell;\"></div><div style=\"display: table-cell;\">muted_glyph&nbsp;=&nbsp;None,</div></div><div class=\"ee1552c4-9eea-41ff-b63c-9cbb9815e60f\" style=\"display: none;\"><div style=\"display: table-cell;\"></div><div style=\"display: table-cell;\">name&nbsp;=&nbsp;None,</div></div><div class=\"ee1552c4-9eea-41ff-b63c-9cbb9815e60f\" style=\"display: none;\"><div style=\"display: table-cell;\"></div><div style=\"display: table-cell;\">nonselection_glyph&nbsp;=&nbsp;Circle(id='ad6f6129-afaa-4e70-a9bc-30d7cf1ba4d9', ...),</div></div><div class=\"ee1552c4-9eea-41ff-b63c-9cbb9815e60f\" style=\"display: none;\"><div style=\"display: table-cell;\"></div><div style=\"display: table-cell;\">selection_glyph&nbsp;=&nbsp;None,</div></div><div class=\"ee1552c4-9eea-41ff-b63c-9cbb9815e60f\" style=\"display: none;\"><div style=\"display: table-cell;\"></div><div style=\"display: table-cell;\">subscribed_events&nbsp;=&nbsp;[],</div></div><div class=\"ee1552c4-9eea-41ff-b63c-9cbb9815e60f\" style=\"display: none;\"><div style=\"display: table-cell;\"></div><div style=\"display: table-cell;\">tags&nbsp;=&nbsp;[],</div></div><div class=\"ee1552c4-9eea-41ff-b63c-9cbb9815e60f\" style=\"display: none;\"><div style=\"display: table-cell;\"></div><div style=\"display: table-cell;\">view&nbsp;=&nbsp;CDSView(id='872b1559-c589-4aaf-a8ef-4609b779166b', ...),</div></div><div class=\"ee1552c4-9eea-41ff-b63c-9cbb9815e60f\" style=\"display: none;\"><div style=\"display: table-cell;\"></div><div style=\"display: table-cell;\">visible&nbsp;=&nbsp;True,</div></div><div class=\"ee1552c4-9eea-41ff-b63c-9cbb9815e60f\" style=\"display: none;\"><div style=\"display: table-cell;\"></div><div style=\"display: table-cell;\">x_range_name&nbsp;=&nbsp;'default',</div></div><div class=\"ee1552c4-9eea-41ff-b63c-9cbb9815e60f\" style=\"display: none;\"><div style=\"display: table-cell;\"></div><div style=\"display: table-cell;\">y_range_name&nbsp;=&nbsp;'default')</div></div></div>\n",
       "<script>\n",
       "(function() {\n",
       "  var expanded = false;\n",
       "  var ellipsis = document.getElementById(\"60ca09d2-0bff-4616-8762-a7abcd952efa\");\n",
       "  ellipsis.addEventListener(\"click\", function() {\n",
       "    var rows = document.getElementsByClassName(\"ee1552c4-9eea-41ff-b63c-9cbb9815e60f\");\n",
       "    for (var i = 0; i < rows.length; i++) {\n",
       "      var el = rows[i];\n",
       "      el.style.display = expanded ? \"none\" : \"table-row\";\n",
       "    }\n",
       "    ellipsis.innerHTML = expanded ? \"&hellip;)\" : \"&lsaquo;&lsaquo;&lsaquo;\";\n",
       "    expanded = !expanded;\n",
       "  });\n",
       "})();\n",
       "</script>\n"
      ],
      "text/plain": [
       "GlyphRenderer(id='40be76cd-2f47-4e6a-b3e9-952cd73afc7f', ...)"
      ]
     },
     "execution_count": 79,
     "metadata": {},
     "output_type": "execute_result"
    }
   ],
   "source": [
    "print(utter_price.shape)\n",
    "x = pca.transform(utter_price.reshape(1,-1))\n",
    "p.circle(x[0][0], x[0][1], color='black')"
   ]
  },
  {
   "cell_type": "code",
   "execution_count": 80,
   "metadata": {},
   "outputs": [
    {
     "data": {
      "text/html": [
       "\n",
       "<div class=\"bk-root\">\n",
       "    <div class=\"bk-plotdiv\" id=\"768a98ec-a24d-4aef-878b-3eab67e3216c\"></div>\n",
       "</div>"
      ]
     },
     "metadata": {},
     "output_type": "display_data"
    },
    {
     "data": {
      "application/javascript": [
       "(function(root) {\n",
       "  function embed_document(root) {\n",
       "    \n",
       "  var docs_json = {\"75f2fbfc-8f4d-47be-814d-1eebd5a1fe6f\":{\"roots\":{\"references\":[{\"attributes\":{\"data_source\":{\"id\":\"4120ad66-839d-4fc7-b21f-1e3976c1cb96\",\"type\":\"ColumnDataSource\"},\"glyph\":{\"id\":\"75137bd7-f50e-44f1-aa89-2efab9b0c5c4\",\"type\":\"Circle\"},\"hover_glyph\":null,\"muted_glyph\":null,\"name\":\"circle\",\"nonselection_glyph\":{\"id\":\"95171731-31b0-496f-8645-10767443d7e6\",\"type\":\"Circle\"},\"selection_glyph\":null,\"view\":{\"id\":\"066c7679-e4f5-4b0c-bc6f-fe952740b62c\",\"type\":\"CDSView\"}},\"id\":\"53e21fc2-8820-424d-ae59-9ec55f6cfc57\",\"type\":\"GlyphRenderer\"},{\"attributes\":{\"line_color\":{\"value\":\"firebrick\"},\"line_width\":{\"value\":2},\"plot\":null,\"size\":10},\"id\":\"2c0111cd-eff8-4c1d-bcc2-180ed59269a8\",\"type\":\"OpenHead\"},{\"attributes\":{\"end\":{\"id\":\"338d701c-682d-41c9-9c84-fdaf8f131063\",\"type\":\"OpenHead\"},\"line_color\":{\"value\":\"gray\"},\"plot\":{\"id\":\"366a8f8c-9209-4004-9921-e68777e0bbae\",\"subtype\":\"Figure\",\"type\":\"Plot\"},\"source\":null,\"start\":null,\"x_end\":{\"value\":-0.016078416976812167},\"x_start\":{\"value\":-0.07963453441590101},\"y_end\":{\"value\":-0.024670777783684917},\"y_start\":{\"value\":-0.07934798352566691}},\"id\":\"0faa13a0-26c9-447c-8255-809d7ef381f2\",\"type\":\"Arrow\"},{\"attributes\":{\"source\":{\"id\":\"f5ed28dc-ec52-4cd6-a42e-516c32e19534\",\"type\":\"ColumnDataSource\"}},\"id\":\"9a6daa2f-8ace-4288-a3ac-6861c5e2cca4\",\"type\":\"CDSView\"},{\"attributes\":{\"data_source\":{\"id\":\"f5ed28dc-ec52-4cd6-a42e-516c32e19534\",\"type\":\"ColumnDataSource\"},\"glyph\":{\"id\":\"41d48b05-18b8-4ea8-bc4e-c86a37b66dfa\",\"type\":\"Circle\"},\"hover_glyph\":null,\"muted_glyph\":null,\"name\":\"circle\",\"nonselection_glyph\":{\"id\":\"c70a769d-ef98-45e9-8252-0400fc7544ab\",\"type\":\"Circle\"},\"selection_glyph\":null,\"view\":{\"id\":\"9a6daa2f-8ace-4288-a3ac-6861c5e2cca4\",\"type\":\"CDSView\"}},\"id\":\"e4ac6cae-5b15-419d-9383-af2aaffa87bb\",\"type\":\"GlyphRenderer\"},{\"attributes\":{\"fill_color\":{\"value\":\"#1f77b4\"},\"line_color\":{\"value\":\"#1f77b4\"},\"size\":{\"units\":\"screen\",\"value\":10},\"x\":{\"field\":\"x\"},\"y\":{\"field\":\"y\"}},\"id\":\"41d48b05-18b8-4ea8-bc4e-c86a37b66dfa\",\"type\":\"Circle\"},{\"attributes\":{\"end\":{\"id\":\"2c0111cd-eff8-4c1d-bcc2-180ed59269a8\",\"type\":\"OpenHead\"},\"line_color\":{\"value\":\"gray\"},\"plot\":{\"id\":\"366a8f8c-9209-4004-9921-e68777e0bbae\",\"subtype\":\"Figure\",\"type\":\"Plot\"},\"source\":null,\"start\":null,\"x_end\":{\"value\":-0.06008884301123745},\"x_start\":{\"value\":-0.016078416976812167},\"y_end\":{\"value\":-0.027117063143383233},\"y_start\":{\"value\":-0.024670777783684917}},\"id\":\"d787e550-ae80-43be-a7c9-f2e21a750535\",\"type\":\"Arrow\"},{\"attributes\":{},\"id\":\"d411dbd6-beb6-464f-8cfa-b318172de663\",\"type\":\"BasicTickFormatter\"},{\"attributes\":{\"plot\":null,\"text\":\"\"},\"id\":\"62fd50bc-995b-48c1-af60-b3b44ffab4dc\",\"type\":\"Title\"},{\"attributes\":{\"fill_color\":{\"value\":\"green\"},\"line_color\":{\"value\":\"green\"},\"size\":{\"units\":\"screen\",\"value\":10},\"x\":{\"value\":-0.09447892819214104},\"y\":{\"value\":0.19015060252395685}},\"id\":\"0f44eaed-d6b2-425e-9b99-5e678a285ebf\",\"type\":\"Circle\"},{\"attributes\":{\"source\":{\"id\":\"4120ad66-839d-4fc7-b21f-1e3976c1cb96\",\"type\":\"ColumnDataSource\"}},\"id\":\"066c7679-e4f5-4b0c-bc6f-fe952740b62c\",\"type\":\"CDSView\"},{\"attributes\":{\"callback\":null,\"data\":{},\"selected\":null,\"selection_policy\":null},\"id\":\"a83df1fd-fb5a-4d85-8696-f04e1c817cfb\",\"type\":\"ColumnDataSource\"},{\"attributes\":{\"callback\":null,\"column_names\":[\"x\",\"y\",\"desc\",\"pred\",\"copy\"],\"data\":{\"copy\":[{\"__ndarray__\":\"iJeUPQ==\",\"dtype\":\"float32\",\"shape\":[1]},{\"__ndarray__\":\"/yEYPQ==\",\"dtype\":\"float32\",\"shape\":[1]},{\"__ndarray__\":\"2R+SPg==\",\"dtype\":\"float32\",\"shape\":[1]},{\"__ndarray__\":\"pzMNPQ==\",\"dtype\":\"float32\",\"shape\":[1]},{\"__ndarray__\":\"r58hPQ==\",\"dtype\":\"float32\",\"shape\":[1]},{\"__ndarray__\":\"hEboPQ==\",\"dtype\":\"float32\",\"shape\":[1]},{\"__ndarray__\":\"bRpyPg==\",\"dtype\":\"float32\",\"shape\":[1]},{\"__ndarray__\":\"NhEbPQ==\",\"dtype\":\"float32\",\"shape\":[1]},{\"__ndarray__\":\"i00jPQ==\",\"dtype\":\"float32\",\"shape\":[1]},{\"__ndarray__\":\"FTyNPg==\",\"dtype\":\"float32\",\"shape\":[1]},{\"__ndarray__\":\"6UkwPQ==\",\"dtype\":\"float32\",\"shape\":[1]},{\"__ndarray__\":\"1iaPPg==\",\"dtype\":\"float32\",\"shape\":[1]},{\"__ndarray__\":\"EjgyPQ==\",\"dtype\":\"float32\",\"shape\":[1]},{\"__ndarray__\":\"3I2QPg==\",\"dtype\":\"float32\",\"shape\":[1]},{\"__ndarray__\":\"PTczPQ==\",\"dtype\":\"float32\",\"shape\":[1]},{\"__ndarray__\":\"H0eRPg==\",\"dtype\":\"float32\",\"shape\":[1]},{\"__ndarray__\":\"qWXxPQ==\",\"dtype\":\"float32\",\"shape\":[1]},{\"__ndarray__\":\"rE53Pg==\",\"dtype\":\"float32\",\"shape\":[1]}],\"desc\":[\"    - utter_ask_details\",\"    - utter_chitchat\",\"    - utter_ask_details\",\"    - utter_ask_startdate\",\"    - utter_ask_location\",\"    - utter_explain_location_hotel\",\"    - utter_ask_location\",\"    - utter_ask_price\",\"    - utter_chitchat\",\"    - utter_ask_price\",\"    - utter_chitchat\",\"    - utter_ask_price\",\"    - utter_chitchat\",\"    - utter_ask_price\",\"    - utter_chitchat\",\"    - utter_ask_price\",\"    - utter_explain_price_hotel\",\"    - utter_ask_price\"],\"pred\":[\"utter_ask_details\",\"utter_chitchat\",\"utter_ask_details\",\"utter_ask_price\",\"utter_ask_enddate\",\"utter_explain_location_hotel\",\"utter_ask_location\",\"utter_ask_price\",\"utter_chitchat\",\"utter_ask_price\",\"utter_chitchat\",\"utter_ask_price\",\"utter_chitchat\",\"utter_ask_price\",\"utter_chitchat\",\"utter_ask_price\",\"utter_explain_price_hotel\",\"utter_ask_price\"],\"x\":{\"__ndarray__\":\"vz16aTTps784tReXniC5v0lXscT4tcm/hK5WsuiIyb/6YRqz+qfJv3OrF/YWd7Y/+HU5aKQ7uj/2C83NJpTJv9R8fWYjgYC/6Ai4VH94z7+iasV5tI3Cv7PPC5yNoc+/Q2nVkLalwL9hB2Imy8TPv8o6xfdac8C/xk6jumfOz79839D0rSzQv0BWwfnRDse/\",\"dtype\":\"float64\",\"shape\":[18]},\"y\":{\"__ndarray__\":\"wFPx95q8wD/7hai7Iw/HP9e/2jXDVNs/+PCfqEUy2z9sYf5Xb0jbP3oygnBjRrQ/D0IYg170sT/faB1nOT3bP6wpjBe2XLS/tKg+S1q2078Q9H3jIfPEv5xe96INx9O/aGVVE0zYxL+WFQMZbdbTvy1yaAPzisS/T7KIDmPa07/lcQDd+BPUvywPASkrONC/\",\"dtype\":\"float64\",\"shape\":[18]}},\"selected\":null,\"selection_policy\":null},\"id\":\"4120ad66-839d-4fc7-b21f-1e3976c1cb96\",\"type\":\"ColumnDataSource\"},{\"attributes\":{},\"id\":\"e8857fcf-2121-4b01-9113-759c8b1f9414\",\"type\":\"BasicTickFormatter\"},{\"attributes\":{\"data_source\":{\"id\":\"da420807-1a69-40e3-b6c0-9269f4d6230f\",\"type\":\"ColumnDataSource\"},\"glyph\":{\"id\":\"ee1bcefa-b679-4eb2-b4ac-f2bbe73966d6\",\"type\":\"Circle\"},\"hover_glyph\":null,\"muted_glyph\":null,\"name\":\"circle\",\"nonselection_glyph\":{\"id\":\"cf9d4742-527c-4ea2-af5c-3db27972beb9\",\"type\":\"Circle\"},\"selection_glyph\":null,\"view\":{\"id\":\"78d24bf7-80ff-45f0-ad2b-9ce5a81cb269\",\"type\":\"CDSView\"}},\"id\":\"e8664bfc-bee1-400a-b4fe-aefe40823fd0\",\"type\":\"GlyphRenderer\"},{\"attributes\":{\"callback\":null,\"data\":{},\"selected\":null,\"selection_policy\":null},\"id\":\"e36951e1-54dd-4c60-94f5-bec1d0bf9f10\",\"type\":\"ColumnDataSource\"},{\"attributes\":{\"fill_color\":{\"value\":\"green\"},\"line_color\":{\"value\":\"green\"},\"size\":{\"units\":\"screen\",\"value\":5},\"x\":{\"field\":\"x\"},\"y\":{\"field\":\"y\"}},\"id\":\"75137bd7-f50e-44f1-aa89-2efab9b0c5c4\",\"type\":\"Circle\"},{\"attributes\":{\"fill_alpha\":{\"value\":0.1},\"fill_color\":{\"value\":\"#1f77b4\"},\"line_alpha\":{\"value\":0.1},\"line_color\":{\"value\":\"#1f77b4\"},\"size\":{\"units\":\"screen\",\"value\":5},\"x\":{\"field\":\"x\"},\"y\":{\"field\":\"y\"}},\"id\":\"95171731-31b0-496f-8645-10767443d7e6\",\"type\":\"Circle\"},{\"attributes\":{\"callback\":null,\"column_names\":[\"x\",\"y\",\"desc\",\"pred\",\"copy\"],\"data\":{\"copy\":[{\"__ndarray__\":\"iJeUPQ==\",\"dtype\":\"float32\",\"shape\":[1]},{\"__ndarray__\":\"/yEYPQ==\",\"dtype\":\"float32\",\"shape\":[1]},{\"__ndarray__\":\"2R+SPg==\",\"dtype\":\"float32\",\"shape\":[1]},{\"__ndarray__\":\"pzMNPQ==\",\"dtype\":\"float32\",\"shape\":[1]},{\"__ndarray__\":\"r58hPQ==\",\"dtype\":\"float32\",\"shape\":[1]},{\"__ndarray__\":\"hEboPQ==\",\"dtype\":\"float32\",\"shape\":[1]},{\"__ndarray__\":\"bRpyPg==\",\"dtype\":\"float32\",\"shape\":[1]},{\"__ndarray__\":\"NhEbPQ==\",\"dtype\":\"float32\",\"shape\":[1]},{\"__ndarray__\":\"i00jPQ==\",\"dtype\":\"float32\",\"shape\":[1]},{\"__ndarray__\":\"FTyNPg==\",\"dtype\":\"float32\",\"shape\":[1]},{\"__ndarray__\":\"6UkwPQ==\",\"dtype\":\"float32\",\"shape\":[1]},{\"__ndarray__\":\"1iaPPg==\",\"dtype\":\"float32\",\"shape\":[1]},{\"__ndarray__\":\"EjgyPQ==\",\"dtype\":\"float32\",\"shape\":[1]},{\"__ndarray__\":\"3I2QPg==\",\"dtype\":\"float32\",\"shape\":[1]},{\"__ndarray__\":\"PTczPQ==\",\"dtype\":\"float32\",\"shape\":[1]},{\"__ndarray__\":\"H0eRPg==\",\"dtype\":\"float32\",\"shape\":[1]},{\"__ndarray__\":\"qWXxPQ==\",\"dtype\":\"float32\",\"shape\":[1]},{\"__ndarray__\":\"rE53Pg==\",\"dtype\":\"float32\",\"shape\":[1]}],\"desc\":[\"    - utter_ask_details\",\"    - utter_chitchat\",\"    - utter_ask_details\",\"    - utter_ask_startdate\",\"    - utter_ask_location\",\"    - utter_explain_location_hotel\",\"    - utter_ask_location\",\"    - utter_ask_price\",\"    - utter_chitchat\",\"    - utter_ask_price\",\"    - utter_chitchat\",\"    - utter_ask_price\",\"    - utter_chitchat\",\"    - utter_ask_price\",\"    - utter_chitchat\",\"    - utter_ask_price\",\"    - utter_explain_price_hotel\",\"    - utter_ask_price\"],\"pred\":[\"utter_ask_details\",\"utter_chitchat\",\"utter_ask_details\",\"utter_ask_price\",\"utter_ask_enddate\",\"utter_explain_location_hotel\",\"utter_ask_location\",\"utter_ask_price\",\"utter_chitchat\",\"utter_ask_price\",\"utter_chitchat\",\"utter_ask_price\",\"utter_chitchat\",\"utter_ask_price\",\"utter_chitchat\",\"utter_ask_price\",\"utter_explain_price_hotel\",\"utter_ask_price\"],\"x\":{\"__ndarray__\":\"HNT8SGaFuL/1B+a/gZvCP5em2NiYGKg/w2uU8Hgvj78kN7/pSFyNvyVVp1Zdmnw/ko/8ayOAmL88f3Nw5Cukv/+DHyQjJL0/jOW/NipXmr/K3VLZ7Qi/P9Y9miKbiZS/YSsjGNFgwD9gjz4eI3yQv7JFhSEt38A/WWsK9TwZir8r1VLYs9SPPwWzP41XY5a/\",\"dtype\":\"float64\",\"shape\":[18]},\"y\":{\"__ndarray__\":\"UWHffhzvyD+OMV4mxAyGP7pQw4thF6g/NZiQDQZ7kj/73/Ro/LqXP61J64kVd3o/9+IxqiKERD+aXJYh8Uyev4UfC4wyZ5C/tIvHi09Raj8GI2MBZNOMv3U9enwXM3s/wGxDpKI3ir9zJWYvJGSFPy9bUeyGroq/29PblCrLiD+68EE6sJKMP3Yfa/W/Aqc/\",\"dtype\":\"float64\",\"shape\":[18]}},\"selected\":null,\"selection_policy\":null},\"id\":\"da420807-1a69-40e3-b6c0-9269f4d6230f\",\"type\":\"ColumnDataSource\"},{\"attributes\":{\"fill_color\":{\"value\":\"magenta\"},\"line_color\":{\"value\":\"magenta\"},\"size\":{\"units\":\"screen\",\"value\":5},\"x\":{\"value\":-0.007917340489902834},\"y\":{\"value\":0.04068793592546595}},\"id\":\"4209107b-14eb-4e53-976c-d9254b47b062\",\"type\":\"Circle\"},{\"attributes\":{\"source\":{\"id\":\"da420807-1a69-40e3-b6c0-9269f4d6230f\",\"type\":\"ColumnDataSource\"}},\"id\":\"78d24bf7-80ff-45f0-ad2b-9ce5a81cb269\",\"type\":\"CDSView\"},{\"attributes\":{\"fill_color\":{\"value\":\"red\"},\"line_color\":{\"value\":\"red\"},\"size\":{\"units\":\"screen\",\"value\":5},\"x\":{\"field\":\"x\"},\"y\":{\"field\":\"y\"}},\"id\":\"ee1bcefa-b679-4eb2-b4ac-f2bbe73966d6\",\"type\":\"Circle\"},{\"attributes\":{\"fill_alpha\":{\"value\":0.1},\"fill_color\":{\"value\":\"#1f77b4\"},\"line_alpha\":{\"value\":0.1},\"line_color\":{\"value\":\"#1f77b4\"},\"x\":{\"value\":-0.2537048933342276},\"y\":{\"value\":-0.314493497187847}},\"id\":\"ad6f6129-afaa-4e70-a9bc-30d7cf1ba4d9\",\"type\":\"Circle\"},{\"attributes\":{\"fill_alpha\":{\"value\":0.1},\"fill_color\":{\"value\":\"#1f77b4\"},\"line_alpha\":{\"value\":0.1},\"line_color\":{\"value\":\"#1f77b4\"},\"size\":{\"units\":\"screen\",\"value\":5},\"x\":{\"field\":\"x\"},\"y\":{\"field\":\"y\"}},\"id\":\"cf9d4742-527c-4ea2-af5c-3db27972beb9\",\"type\":\"Circle\"},{\"attributes\":{\"fill_alpha\":{\"value\":0.1},\"fill_color\":{\"value\":\"#1f77b4\"},\"line_alpha\":{\"value\":0.1},\"line_color\":{\"value\":\"#1f77b4\"},\"size\":{\"units\":\"screen\",\"value\":5},\"x\":{\"value\":-0.007917340489902834},\"y\":{\"value\":0.04068793592546595}},\"id\":\"c011d952-9c07-4f80-af59-aa6ab76cfd1a\",\"type\":\"Circle\"},{\"attributes\":{\"source\":{\"id\":\"e36951e1-54dd-4c60-94f5-bec1d0bf9f10\",\"type\":\"ColumnDataSource\"}},\"id\":\"62ce43a8-1db4-4c40-995e-938df93606f9\",\"type\":\"CDSView\"},{\"attributes\":{\"below\":[{\"id\":\"3fed35f7-1570-4eea-97ce-7578cafe0505\",\"type\":\"LinearAxis\"}],\"left\":[{\"id\":\"91fea602-3a02-4cc6-a71f-0b88bb2e479e\",\"type\":\"LinearAxis\"}],\"renderers\":[{\"id\":\"3fed35f7-1570-4eea-97ce-7578cafe0505\",\"type\":\"LinearAxis\"},{\"id\":\"e95a0e1a-a08d-4640-ad59-677766e54aae\",\"type\":\"Grid\"},{\"id\":\"91fea602-3a02-4cc6-a71f-0b88bb2e479e\",\"type\":\"LinearAxis\"},{\"id\":\"f1a63e8e-f6ba-45d8-88d6-c3332f700dcc\",\"type\":\"Grid\"},{\"id\":\"7037bbe0-83a1-45d5-908c-c783ddbf3dcd\",\"type\":\"Arrow\"},{\"id\":\"3bea0a45-2d97-468b-bb73-f344849035d1\",\"type\":\"Arrow\"},{\"id\":\"b8b8aef4-8f21-46d8-af80-64c9d50af664\",\"type\":\"Arrow\"},{\"id\":\"3ec2e29b-1d49-4322-8492-b9c593f87ce4\",\"type\":\"Arrow\"},{\"id\":\"ce21df0d-5221-4ef1-bfd7-44aebc1af7d0\",\"type\":\"Arrow\"},{\"id\":\"454d64fd-7f48-4c09-bdef-f43a2c4e9074\",\"type\":\"Arrow\"},{\"id\":\"588c3790-8029-45b7-b60a-0d3d06fb0560\",\"type\":\"Arrow\"},{\"id\":\"e0f484e8-6340-4e22-882b-86d7ee631f07\",\"type\":\"Arrow\"},{\"id\":\"c4d0d517-cd14-4e97-abcd-dbb97327b691\",\"type\":\"Arrow\"},{\"id\":\"de581bb9-3a17-4757-84f0-550394bf9116\",\"type\":\"Arrow\"},{\"id\":\"fe0b53b3-a280-4b02-b1bc-e8d0e1976854\",\"type\":\"Arrow\"},{\"id\":\"5ab4c680-1393-48e5-adc8-ba57f460ee5c\",\"type\":\"Arrow\"},{\"id\":\"517d6487-8062-4743-a8cf-2be83d2203cd\",\"type\":\"Arrow\"},{\"id\":\"0be14ab4-1967-48ed-8391-4e3e402f4746\",\"type\":\"Arrow\"},{\"id\":\"2f2340bb-55a7-4abb-b49b-cd480f215080\",\"type\":\"Arrow\"},{\"id\":\"0faa13a0-26c9-447c-8255-809d7ef381f2\",\"type\":\"Arrow\"},{\"id\":\"d787e550-ae80-43be-a7c9-f2e21a750535\",\"type\":\"Arrow\"},{\"id\":\"e4ac6cae-5b15-419d-9383-af2aaffa87bb\",\"type\":\"GlyphRenderer\"},{\"id\":\"53e21fc2-8820-424d-ae59-9ec55f6cfc57\",\"type\":\"GlyphRenderer\"},{\"id\":\"e8664bfc-bee1-400a-b4fe-aefe40823fd0\",\"type\":\"GlyphRenderer\"},{\"id\":\"6416eeee-f329-4531-8778-4e71f50def5a\",\"type\":\"GlyphRenderer\"},{\"id\":\"446359f0-8b29-4c5e-b1e3-d3774600c5ae\",\"type\":\"GlyphRenderer\"},{\"id\":\"bed9f861-6725-4070-85f9-4619e376b525\",\"type\":\"GlyphRenderer\"},{\"id\":\"40be76cd-2f47-4e6a-b3e9-952cd73afc7f\",\"type\":\"GlyphRenderer\"}],\"title\":{\"id\":\"62fd50bc-995b-48c1-af60-b3b44ffab4dc\",\"type\":\"Title\"},\"toolbar\":{\"id\":\"e8cba0c9-f3e4-4721-a528-97314ab8a667\",\"type\":\"Toolbar\"},\"x_range\":{\"id\":\"54335636-df31-498e-8135-9a8496bc1433\",\"type\":\"DataRange1d\"},\"x_scale\":{\"id\":\"1ea7fcc1-a369-4821-a692-cf28dd524cab\",\"type\":\"LinearScale\"},\"y_range\":{\"id\":\"6a3aa763-3ca0-43ce-80cd-23b4042588cc\",\"type\":\"DataRange1d\"},\"y_scale\":{\"id\":\"7f6f9ee6-ac93-4f26-ad81-7d7263a5c933\",\"type\":\"LinearScale\"}},\"id\":\"366a8f8c-9209-4004-9921-e68777e0bbae\",\"subtype\":\"Figure\",\"type\":\"Plot\"},{\"attributes\":{\"data_source\":{\"id\":\"e36951e1-54dd-4c60-94f5-bec1d0bf9f10\",\"type\":\"ColumnDataSource\"},\"glyph\":{\"id\":\"4209107b-14eb-4e53-976c-d9254b47b062\",\"type\":\"Circle\"},\"hover_glyph\":null,\"muted_glyph\":null,\"nonselection_glyph\":{\"id\":\"c011d952-9c07-4f80-af59-aa6ab76cfd1a\",\"type\":\"Circle\"},\"selection_glyph\":null,\"view\":{\"id\":\"62ce43a8-1db4-4c40-995e-938df93606f9\",\"type\":\"CDSView\"}},\"id\":\"6416eeee-f329-4531-8778-4e71f50def5a\",\"type\":\"GlyphRenderer\"},{\"attributes\":{\"callback\":null,\"names\":[\"circle\"],\"tooltips\":[[\"true action\",\"@desc\"],[\"prediction\",\"@pred\"],[\"copy_gate\",\"@copy\"]]},\"id\":\"e57cdb79-0569-4a18-b66d-be29bc720b55\",\"type\":\"HoverTool\"},{\"attributes\":{\"line_color\":{\"value\":\"firebrick\"},\"line_width\":{\"value\":2},\"plot\":null,\"size\":10},\"id\":\"88975bd1-6ee8-4428-89ec-b9c5b600a3c4\",\"type\":\"OpenHead\"},{\"attributes\":{\"callback\":null,\"data\":{},\"selected\":null,\"selection_policy\":null},\"id\":\"5d7f288b-eada-45ca-a1b2-14c69aaf4fae\",\"type\":\"ColumnDataSource\"},{\"attributes\":{\"line_color\":{\"value\":\"firebrick\"},\"line_width\":{\"value\":2},\"plot\":null,\"size\":10},\"id\":\"ce945397-5b18-410f-90c4-27aa366b2454\",\"type\":\"OpenHead\"},{\"attributes\":{\"fill_color\":{\"value\":\"red\"},\"line_color\":{\"value\":\"red\"},\"size\":{\"units\":\"screen\",\"value\":10},\"x\":{\"value\":-0.06008884301123745},\"y\":{\"value\":-0.027117063143383233}},\"id\":\"7339d393-8039-4bac-881d-53416b40b2ab\",\"type\":\"Circle\"},{\"attributes\":{\"callback\":null,\"column_names\":[\"x\",\"y\",\"desc\",\"pred\",\"copy\"],\"data\":{\"copy\":[{\"__ndarray__\":\"iJeUPQ==\",\"dtype\":\"float32\",\"shape\":[1]},{\"__ndarray__\":\"/yEYPQ==\",\"dtype\":\"float32\",\"shape\":[1]},{\"__ndarray__\":\"2R+SPg==\",\"dtype\":\"float32\",\"shape\":[1]},{\"__ndarray__\":\"pzMNPQ==\",\"dtype\":\"float32\",\"shape\":[1]},{\"__ndarray__\":\"r58hPQ==\",\"dtype\":\"float32\",\"shape\":[1]},{\"__ndarray__\":\"hEboPQ==\",\"dtype\":\"float32\",\"shape\":[1]},{\"__ndarray__\":\"bRpyPg==\",\"dtype\":\"float32\",\"shape\":[1]},{\"__ndarray__\":\"NhEbPQ==\",\"dtype\":\"float32\",\"shape\":[1]},{\"__ndarray__\":\"i00jPQ==\",\"dtype\":\"float32\",\"shape\":[1]},{\"__ndarray__\":\"FTyNPg==\",\"dtype\":\"float32\",\"shape\":[1]},{\"__ndarray__\":\"6UkwPQ==\",\"dtype\":\"float32\",\"shape\":[1]},{\"__ndarray__\":\"1iaPPg==\",\"dtype\":\"float32\",\"shape\":[1]},{\"__ndarray__\":\"EjgyPQ==\",\"dtype\":\"float32\",\"shape\":[1]},{\"__ndarray__\":\"3I2QPg==\",\"dtype\":\"float32\",\"shape\":[1]},{\"__ndarray__\":\"PTczPQ==\",\"dtype\":\"float32\",\"shape\":[1]},{\"__ndarray__\":\"H0eRPg==\",\"dtype\":\"float32\",\"shape\":[1]},{\"__ndarray__\":\"qWXxPQ==\",\"dtype\":\"float32\",\"shape\":[1]},{\"__ndarray__\":\"rE53Pg==\",\"dtype\":\"float32\",\"shape\":[1]}],\"desc\":[\"    - utter_ask_details\",\"    - utter_chitchat\",\"    - utter_ask_details\",\"    - utter_ask_startdate\",\"    - utter_ask_location\",\"    - utter_explain_location_hotel\",\"    - utter_ask_location\",\"    - utter_ask_price\",\"    - utter_chitchat\",\"    - utter_ask_price\",\"    - utter_chitchat\",\"    - utter_ask_price\",\"    - utter_chitchat\",\"    - utter_ask_price\",\"    - utter_chitchat\",\"    - utter_ask_price\",\"    - utter_explain_price_hotel\",\"    - utter_ask_price\"],\"pred\":[\"utter_ask_details\",\"utter_chitchat\",\"utter_ask_details\",\"utter_ask_price\",\"utter_ask_enddate\",\"utter_explain_location_hotel\",\"utter_ask_location\",\"utter_ask_price\",\"utter_chitchat\",\"utter_ask_price\",\"utter_chitchat\",\"utter_ask_price\",\"utter_chitchat\",\"utter_ask_price\",\"utter_chitchat\",\"utter_ask_price\",\"utter_explain_price_hotel\",\"utter_ask_price\"],\"x\":{\"__ndarray__\":\"pBK/YsUvuL/t5dJGH3PBP0aBlr2/Q5i/BkGwfugYlr9fkPddLDOWv+e6Ib0HiJA/NPQLCXZneD86rNx4AEinv319+T2n5bs/IyCpXoUhtr9ZvalNIxq8P/jfIOrxYrW/6lHUcunhvT8BdBXyduW0v3RtRYDd074/rM/yyO1itL+v8VhM3HaQv6fsLP/2w66/\",\"dtype\":\"float64\",\"shape\":[18]},\"y\":{\"__ndarray__\":\"+9mT3dpWyD9SjnuzlHeRP3Txq4eL58M/OBKspw1soD97LxhEbAKkP2ZKqle3II4/CGslwi54kT/M2OxWwU6Jv8dhSGMU/5K/Qasllqkntb8mb5d4fgGVv624pUPd5LS/RDvzm0jLk78yvltt9Xu0v2Pjp62g8pO/nAw/QiZQtL/twf3eS0OZv7wkdU2TxJu/\",\"dtype\":\"float64\",\"shape\":[18]}},\"selected\":null,\"selection_policy\":null},\"id\":\"f5ed28dc-ec52-4cd6-a42e-516c32e19534\",\"type\":\"ColumnDataSource\"},{\"attributes\":{\"source\":{\"id\":\"a83df1fd-fb5a-4d85-8696-f04e1c817cfb\",\"type\":\"ColumnDataSource\"}},\"id\":\"1721b955-e972-4ccd-8470-4e8ec5186fa1\",\"type\":\"CDSView\"},{\"attributes\":{\"active_drag\":\"auto\",\"active_inspect\":\"auto\",\"active_scroll\":\"auto\",\"active_tap\":\"auto\",\"tools\":[{\"id\":\"e57cdb79-0569-4a18-b66d-be29bc720b55\",\"type\":\"HoverTool\"}]},\"id\":\"e8cba0c9-f3e4-4721-a528-97314ab8a667\",\"type\":\"Toolbar\"},{\"attributes\":{\"fill_alpha\":{\"value\":0.1},\"fill_color\":{\"value\":\"#1f77b4\"},\"line_alpha\":{\"value\":0.1},\"line_color\":{\"value\":\"#1f77b4\"},\"size\":{\"units\":\"screen\",\"value\":10},\"x\":{\"value\":-0.09447892819214104},\"y\":{\"value\":0.19015060252395685}},\"id\":\"03b486b3-9784-4718-9d14-3f71d32c22bf\",\"type\":\"Circle\"},{\"attributes\":{\"callback\":null},\"id\":\"6a3aa763-3ca0-43ce-80cd-23b4042588cc\",\"type\":\"DataRange1d\"},{\"attributes\":{\"data_source\":{\"id\":\"a83df1fd-fb5a-4d85-8696-f04e1c817cfb\",\"type\":\"ColumnDataSource\"},\"glyph\":{\"id\":\"0f44eaed-d6b2-425e-9b99-5e678a285ebf\",\"type\":\"Circle\"},\"hover_glyph\":null,\"muted_glyph\":null,\"nonselection_glyph\":{\"id\":\"03b486b3-9784-4718-9d14-3f71d32c22bf\",\"type\":\"Circle\"},\"selection_glyph\":null,\"view\":{\"id\":\"1721b955-e972-4ccd-8470-4e8ec5186fa1\",\"type\":\"CDSView\"}},\"id\":\"446359f0-8b29-4c5e-b1e3-d3774600c5ae\",\"type\":\"GlyphRenderer\"},{\"attributes\":{\"callback\":null},\"id\":\"54335636-df31-498e-8135-9a8496bc1433\",\"type\":\"DataRange1d\"},{\"attributes\":{\"end\":{\"id\":\"88975bd1-6ee8-4428-89ec-b9c5b600a3c4\",\"type\":\"OpenHead\"},\"line_color\":{\"value\":\"gray\"},\"plot\":{\"id\":\"366a8f8c-9209-4004-9921-e68777e0bbae\",\"subtype\":\"Figure\",\"type\":\"Plot\"},\"source\":null,\"start\":null,\"x_end\":{\"value\":0.13632574995226268},\"x_start\":{\"value\":-0.09447892819214104},\"y_end\":{\"value\":0.017057727293730736},\"y_start\":{\"value\":0.19015060252395685}},\"id\":\"7037bbe0-83a1-45d5-908c-c783ddbf3dcd\",\"type\":\"Arrow\"},{\"attributes\":{},\"id\":\"7f6f9ee6-ac93-4f26-ad81-7d7263a5c933\",\"type\":\"LinearScale\"},{\"attributes\":{\"source\":{\"id\":\"5d7f288b-eada-45ca-a1b2-14c69aaf4fae\",\"type\":\"ColumnDataSource\"}},\"id\":\"89b68a31-b918-45ad-b290-4228257b0984\",\"type\":\"CDSView\"},{\"attributes\":{},\"id\":\"1ea7fcc1-a369-4821-a692-cf28dd524cab\",\"type\":\"LinearScale\"},{\"attributes\":{\"fill_alpha\":{\"value\":0.1},\"fill_color\":{\"value\":\"#1f77b4\"},\"line_alpha\":{\"value\":0.1},\"line_color\":{\"value\":\"#1f77b4\"},\"size\":{\"units\":\"screen\",\"value\":10},\"x\":{\"value\":-0.06008884301123745},\"y\":{\"value\":-0.027117063143383233}},\"id\":\"e36a0ebc-6c65-4cb3-8be1-4c5f5cf10cc8\",\"type\":\"Circle\"},{\"attributes\":{\"plot\":{\"id\":\"366a8f8c-9209-4004-9921-e68777e0bbae\",\"subtype\":\"Figure\",\"type\":\"Plot\"},\"ticker\":{\"id\":\"e34ba792-d927-4166-853a-eeb65fc1339d\",\"type\":\"BasicTicker\"}},\"id\":\"e95a0e1a-a08d-4640-ad59-677766e54aae\",\"type\":\"Grid\"},{\"attributes\":{\"data_source\":{\"id\":\"5d7f288b-eada-45ca-a1b2-14c69aaf4fae\",\"type\":\"ColumnDataSource\"},\"glyph\":{\"id\":\"7339d393-8039-4bac-881d-53416b40b2ab\",\"type\":\"Circle\"},\"hover_glyph\":null,\"muted_glyph\":null,\"nonselection_glyph\":{\"id\":\"e36a0ebc-6c65-4cb3-8be1-4c5f5cf10cc8\",\"type\":\"Circle\"},\"selection_glyph\":null,\"view\":{\"id\":\"89b68a31-b918-45ad-b290-4228257b0984\",\"type\":\"CDSView\"}},\"id\":\"bed9f861-6725-4070-85f9-4619e376b525\",\"type\":\"GlyphRenderer\"},{\"attributes\":{\"formatter\":{\"id\":\"d411dbd6-beb6-464f-8cfa-b318172de663\",\"type\":\"BasicTickFormatter\"},\"plot\":{\"id\":\"366a8f8c-9209-4004-9921-e68777e0bbae\",\"subtype\":\"Figure\",\"type\":\"Plot\"},\"ticker\":{\"id\":\"e34ba792-d927-4166-853a-eeb65fc1339d\",\"type\":\"BasicTicker\"}},\"id\":\"3fed35f7-1570-4eea-97ce-7578cafe0505\",\"type\":\"LinearAxis\"},{\"attributes\":{},\"id\":\"e34ba792-d927-4166-853a-eeb65fc1339d\",\"type\":\"BasicTicker\"},{\"attributes\":{\"formatter\":{\"id\":\"e8857fcf-2121-4b01-9113-759c8b1f9414\",\"type\":\"BasicTickFormatter\"},\"plot\":{\"id\":\"366a8f8c-9209-4004-9921-e68777e0bbae\",\"subtype\":\"Figure\",\"type\":\"Plot\"},\"ticker\":{\"id\":\"b8a3a732-941b-4305-9201-3c32ce7b4ecc\",\"type\":\"BasicTicker\"}},\"id\":\"91fea602-3a02-4cc6-a71f-0b88bb2e479e\",\"type\":\"LinearAxis\"},{\"attributes\":{},\"id\":\"b8a3a732-941b-4305-9201-3c32ce7b4ecc\",\"type\":\"BasicTicker\"},{\"attributes\":{\"fill_alpha\":{\"value\":0.1},\"fill_color\":{\"value\":\"#1f77b4\"},\"line_alpha\":{\"value\":0.1},\"line_color\":{\"value\":\"#1f77b4\"},\"size\":{\"units\":\"screen\",\"value\":10},\"x\":{\"field\":\"x\"},\"y\":{\"field\":\"y\"}},\"id\":\"c70a769d-ef98-45e9-8252-0400fc7544ab\",\"type\":\"Circle\"},{\"attributes\":{\"dimension\":1,\"plot\":{\"id\":\"366a8f8c-9209-4004-9921-e68777e0bbae\",\"subtype\":\"Figure\",\"type\":\"Plot\"},\"ticker\":{\"id\":\"b8a3a732-941b-4305-9201-3c32ce7b4ecc\",\"type\":\"BasicTicker\"}},\"id\":\"f1a63e8e-f6ba-45d8-88d6-c3332f700dcc\",\"type\":\"Grid\"},{\"attributes\":{\"fill_color\":{\"value\":\"black\"},\"x\":{\"value\":-0.2537048933342276},\"y\":{\"value\":-0.314493497187847}},\"id\":\"5f80d410-a0be-4812-90d9-e802e18b6477\",\"type\":\"Circle\"},{\"attributes\":{\"line_color\":{\"value\":\"firebrick\"},\"line_width\":{\"value\":2},\"plot\":null,\"size\":10},\"id\":\"338d701c-682d-41c9-9c84-fdaf8f131063\",\"type\":\"OpenHead\"},{\"attributes\":{\"line_color\":{\"value\":\"firebrick\"},\"line_width\":{\"value\":2},\"plot\":null,\"size\":10},\"id\":\"680f6c33-53ba-4281-a3c0-e9d9c3c96ec9\",\"type\":\"OpenHead\"},{\"attributes\":{\"callback\":null,\"data\":{},\"selected\":null,\"selection_policy\":null},\"id\":\"cf33adae-d11c-4d32-9f16-667cd2dccb0a\",\"type\":\"ColumnDataSource\"},{\"attributes\":{\"end\":{\"id\":\"380a14ed-4283-481e-b01e-f25af41d80d2\",\"type\":\"OpenHead\"},\"line_color\":{\"value\":\"gray\"},\"plot\":{\"id\":\"366a8f8c-9209-4004-9921-e68777e0bbae\",\"subtype\":\"Figure\",\"type\":\"Plot\"},\"source\":null,\"start\":null,\"x_end\":{\"value\":0.12042030698414924},\"x_start\":{\"value\":-0.08162635240792328},\"y_end\":{\"value\":-0.019480238532170967},\"y_start\":{\"value\":-0.08001645965463736}},\"id\":\"0be14ab4-1967-48ed-8391-4e3e402f4746\",\"type\":\"Arrow\"},{\"attributes\":{\"end\":{\"id\":\"01ff2157-008f-4e3a-a8f7-eaf64f3af8ec\",\"type\":\"OpenHead\"},\"line_color\":{\"value\":\"gray\"},\"plot\":{\"id\":\"366a8f8c-9209-4004-9921-e68777e0bbae\",\"subtype\":\"Figure\",\"type\":\"Plot\"},\"source\":null,\"start\":null,\"x_end\":{\"value\":-0.07963453441590101},\"x_start\":{\"value\":0.12042030698414924},\"y_end\":{\"value\":-0.07934798352566691},\"y_start\":{\"value\":-0.019480238532170967}},\"id\":\"2f2340bb-55a7-4abb-b49b-cd480f215080\",\"type\":\"Arrow\"},{\"attributes\":{\"end\":{\"id\":\"ce945397-5b18-410f-90c4-27aa366b2454\",\"type\":\"OpenHead\"},\"line_color\":{\"value\":\"gray\"},\"plot\":{\"id\":\"366a8f8c-9209-4004-9921-e68777e0bbae\",\"subtype\":\"Figure\",\"type\":\"Plot\"},\"source\":null,\"start\":null,\"x_end\":{\"value\":-0.023695941874053682},\"x_start\":{\"value\":0.13632574995226268},\"y_end\":{\"value\":0.15550369381515916},\"y_start\":{\"value\":0.017057727293730736}},\"id\":\"3bea0a45-2d97-468b-bb73-f344849035d1\",\"type\":\"Arrow\"},{\"attributes\":{\"data_source\":{\"id\":\"cf33adae-d11c-4d32-9f16-667cd2dccb0a\",\"type\":\"ColumnDataSource\"},\"glyph\":{\"id\":\"5f80d410-a0be-4812-90d9-e802e18b6477\",\"type\":\"Circle\"},\"hover_glyph\":null,\"muted_glyph\":null,\"nonselection_glyph\":{\"id\":\"ad6f6129-afaa-4e70-a9bc-30d7cf1ba4d9\",\"type\":\"Circle\"},\"selection_glyph\":null,\"view\":{\"id\":\"872b1559-c589-4aaf-a8ef-4609b779166b\",\"type\":\"CDSView\"}},\"id\":\"40be76cd-2f47-4e6a-b3e9-952cd73afc7f\",\"type\":\"GlyphRenderer\"},{\"attributes\":{\"line_color\":{\"value\":\"firebrick\"},\"line_width\":{\"value\":2},\"plot\":null,\"size\":10},\"id\":\"0b3fcb4f-0769-4de6-b87e-5dfce01822a9\",\"type\":\"OpenHead\"},{\"attributes\":{\"end\":{\"id\":\"680f6c33-53ba-4281-a3c0-e9d9c3c96ec9\",\"type\":\"OpenHead\"},\"line_color\":{\"value\":\"gray\"},\"plot\":{\"id\":\"366a8f8c-9209-4004-9921-e68777e0bbae\",\"subtype\":\"Figure\",\"type\":\"Plot\"},\"source\":null,\"start\":null,\"x_end\":{\"value\":-0.021579392178012767},\"x_start\":{\"value\":-0.023695941874053682},\"y_end\":{\"value\":0.03207438155917369},\"y_start\":{\"value\":0.15550369381515916}},\"id\":\"b8b8aef4-8f21-46d8-af80-64c9d50af664\",\"type\":\"Arrow\"},{\"attributes\":{\"line_color\":{\"value\":\"firebrick\"},\"line_width\":{\"value\":2},\"plot\":null,\"size\":10},\"id\":\"657d2cab-cef7-434b-a11d-b53ef0598dfa\",\"type\":\"OpenHead\"},{\"attributes\":{\"end\":{\"id\":\"0b3fcb4f-0769-4de6-b87e-5dfce01822a9\",\"type\":\"OpenHead\"},\"line_color\":{\"value\":\"gray\"},\"plot\":{\"id\":\"366a8f8c-9209-4004-9921-e68777e0bbae\",\"subtype\":\"Figure\",\"type\":\"Plot\"},\"source\":null,\"start\":null,\"x_end\":{\"value\":-0.021679585681241394},\"x_start\":{\"value\":-0.021579392178012767},\"y_end\":{\"value\":0.039080985367120534},\"y_start\":{\"value\":0.03207438155917369}},\"id\":\"3ec2e29b-1d49-4322-8492-b9c593f87ce4\",\"type\":\"Arrow\"},{\"attributes\":{\"line_color\":{\"value\":\"firebrick\"},\"line_width\":{\"value\":2},\"plot\":null,\"size\":10},\"id\":\"4ce7716c-f105-41ae-a03d-6575b4b5f65e\",\"type\":\"OpenHead\"},{\"attributes\":{\"end\":{\"id\":\"657d2cab-cef7-434b-a11d-b53ef0598dfa\",\"type\":\"OpenHead\"},\"line_color\":{\"value\":\"gray\"},\"plot\":{\"id\":\"366a8f8c-9209-4004-9921-e68777e0bbae\",\"subtype\":\"Figure\",\"type\":\"Plot\"},\"source\":null,\"start\":null,\"x_end\":{\"value\":0.016143914145170603},\"x_start\":{\"value\":-0.021679585681241394},\"y_end\":{\"value\":0.014710838663892289},\"y_start\":{\"value\":0.039080985367120534}},\"id\":\"ce21df0d-5221-4ef1-bfd7-44aebc1af7d0\",\"type\":\"Arrow\"},{\"attributes\":{\"line_color\":{\"value\":\"firebrick\"},\"line_width\":{\"value\":2},\"plot\":null,\"size\":10},\"id\":\"1f1e07db-62ab-4e98-8f2f-a6e2fed4aae1\",\"type\":\"OpenHead\"},{\"attributes\":{\"end\":{\"id\":\"4ce7716c-f105-41ae-a03d-6575b4b5f65e\",\"type\":\"OpenHead\"},\"line_color\":{\"value\":\"gray\"},\"plot\":{\"id\":\"366a8f8c-9209-4004-9921-e68777e0bbae\",\"subtype\":\"Figure\",\"type\":\"Plot\"},\"source\":null,\"start\":null,\"x_end\":{\"value\":0.005958043170491801},\"x_start\":{\"value\":0.016143914145170603},\"y_end\":{\"value\":0.017060022926084023},\"y_start\":{\"value\":0.014710838663892289}},\"id\":\"454d64fd-7f48-4c09-bdef-f43a2c4e9074\",\"type\":\"Arrow\"},{\"attributes\":{\"line_color\":{\"value\":\"firebrick\"},\"line_width\":{\"value\":2},\"plot\":null,\"size\":10},\"id\":\"745469bf-1b8f-459b-b9f8-a20ac05eb9a9\",\"type\":\"OpenHead\"},{\"attributes\":{\"end\":{\"id\":\"1f1e07db-62ab-4e98-8f2f-a6e2fed4aae1\",\"type\":\"OpenHead\"},\"line_color\":{\"value\":\"gray\"},\"plot\":{\"id\":\"366a8f8c-9209-4004-9921-e68777e0bbae\",\"subtype\":\"Figure\",\"type\":\"Plot\"},\"source\":null,\"start\":null,\"x_end\":{\"value\":-0.04547120547643897},\"x_start\":{\"value\":0.005958043170491801},\"y_end\":{\"value\":-0.012357244935270371},\"y_start\":{\"value\":0.017060022926084023}},\"id\":\"588c3790-8029-45b7-b60a-0d3d06fb0560\",\"type\":\"Arrow\"},{\"attributes\":{\"line_color\":{\"value\":\"firebrick\"},\"line_width\":{\"value\":2},\"plot\":null,\"size\":10},\"id\":\"54870342-3226-4aa7-a821-1494f03d2607\",\"type\":\"OpenHead\"},{\"attributes\":{\"end\":{\"id\":\"745469bf-1b8f-459b-b9f8-a20ac05eb9a9\",\"type\":\"OpenHead\"},\"line_color\":{\"value\":\"gray\"},\"plot\":{\"id\":\"366a8f8c-9209-4004-9921-e68777e0bbae\",\"subtype\":\"Figure\",\"type\":\"Plot\"},\"source\":null,\"start\":null,\"x_end\":{\"value\":0.10897298110056926},\"x_start\":{\"value\":-0.04547120547643897},\"y_end\":{\"value\":-0.01855117660497443},\"y_start\":{\"value\":-0.012357244935270371}},\"id\":\"e0f484e8-6340-4e22-882b-86d7ee631f07\",\"type\":\"Arrow\"},{\"attributes\":{\"line_color\":{\"value\":\"firebrick\"},\"line_width\":{\"value\":2},\"plot\":null,\"size\":10},\"id\":\"b264397d-571d-47bd-a8f9-bca076a1f8da\",\"type\":\"OpenHead\"},{\"attributes\":{\"end\":{\"id\":\"54870342-3226-4aa7-a821-1494f03d2607\",\"type\":\"OpenHead\"},\"line_color\":{\"value\":\"gray\"},\"plot\":{\"id\":\"366a8f8c-9209-4004-9921-e68777e0bbae\",\"subtype\":\"Figure\",\"type\":\"Plot\"},\"source\":null,\"start\":null,\"x_end\":{\"value\":-0.08644898949671691},\"x_start\":{\"value\":0.10897298110056926},\"y_end\":{\"value\":-0.08263645091726081},\"y_start\":{\"value\":-0.01855117660497443}},\"id\":\"c4d0d517-cd14-4e97-abcd-dbb97327b691\",\"type\":\"Arrow\"},{\"attributes\":{\"line_color\":{\"value\":\"firebrick\"},\"line_width\":{\"value\":2},\"plot\":null,\"size\":10},\"id\":\"166d5c10-127e-4a22-aa41-0a54bec255e9\",\"type\":\"OpenHead\"},{\"attributes\":{\"end\":{\"id\":\"b264397d-571d-47bd-a8f9-bca076a1f8da\",\"type\":\"OpenHead\"},\"line_color\":{\"value\":\"gray\"},\"plot\":{\"id\":\"366a8f8c-9209-4004-9921-e68777e0bbae\",\"subtype\":\"Figure\",\"type\":\"Plot\"},\"source\":null,\"start\":null,\"x_end\":{\"value\":0.109773832760529},\"x_start\":{\"value\":-0.08644898949671691},\"y_end\":{\"value\":-0.020513511762927504},\"y_start\":{\"value\":-0.08263645091726081}},\"id\":\"de581bb9-3a17-4757-84f0-550394bf9116\",\"type\":\"Arrow\"},{\"attributes\":{\"line_color\":{\"value\":\"firebrick\"},\"line_width\":{\"value\":2},\"plot\":null,\"size\":10},\"id\":\"dd22b4c6-407c-4f54-a699-ca7e23bf0b3c\",\"type\":\"OpenHead\"},{\"attributes\":{\"end\":{\"id\":\"166d5c10-127e-4a22-aa41-0a54bec255e9\",\"type\":\"OpenHead\"},\"line_color\":{\"value\":\"gray\"},\"plot\":{\"id\":\"366a8f8c-9209-4004-9921-e68777e0bbae\",\"subtype\":\"Figure\",\"type\":\"Plot\"},\"source\":null,\"start\":null,\"x_end\":{\"value\":-0.08354103055978601},\"x_start\":{\"value\":0.109773832760529},\"y_end\":{\"value\":-0.08161719228312121},\"y_start\":{\"value\":-0.020513511762927504}},\"id\":\"fe0b53b3-a280-4b02-b1bc-e8d0e1976854\",\"type\":\"Arrow\"},{\"attributes\":{\"source\":{\"id\":\"cf33adae-d11c-4d32-9f16-667cd2dccb0a\",\"type\":\"ColumnDataSource\"}},\"id\":\"872b1559-c589-4aaf-a8ef-4609b779166b\",\"type\":\"CDSView\"},{\"attributes\":{\"line_color\":{\"value\":\"firebrick\"},\"line_width\":{\"value\":2},\"plot\":null,\"size\":10},\"id\":\"f0b6b8ff-99fe-41c4-a007-139aba4a05d2\",\"type\":\"OpenHead\"},{\"attributes\":{\"end\":{\"id\":\"dd22b4c6-407c-4f54-a699-ca7e23bf0b3c\",\"type\":\"OpenHead\"},\"line_color\":{\"value\":\"gray\"},\"plot\":{\"id\":\"366a8f8c-9209-4004-9921-e68777e0bbae\",\"subtype\":\"Figure\",\"type\":\"Plot\"},\"source\":null,\"start\":null,\"x_end\":{\"value\":0.11672839215709244},\"x_start\":{\"value\":-0.08354103055978601},\"y_end\":{\"value\":-0.019330153006019715},\"y_start\":{\"value\":-0.08161719228312121}},\"id\":\"5ab4c680-1393-48e5-adc8-ba57f460ee5c\",\"type\":\"Arrow\"},{\"attributes\":{\"line_color\":{\"value\":\"firebrick\"},\"line_width\":{\"value\":2},\"plot\":null,\"size\":10},\"id\":\"380a14ed-4283-481e-b01e-f25af41d80d2\",\"type\":\"OpenHead\"},{\"attributes\":{\"end\":{\"id\":\"f0b6b8ff-99fe-41c4-a007-139aba4a05d2\",\"type\":\"OpenHead\"},\"line_color\":{\"value\":\"gray\"},\"plot\":{\"id\":\"366a8f8c-9209-4004-9921-e68777e0bbae\",\"subtype\":\"Figure\",\"type\":\"Plot\"},\"source\":null,\"start\":null,\"x_end\":{\"value\":-0.08162635240792328},\"x_start\":{\"value\":0.11672839215709244},\"y_end\":{\"value\":-0.08001645965463736},\"y_start\":{\"value\":-0.019330153006019715}},\"id\":\"517d6487-8062-4743-a8cf-2be83d2203cd\",\"type\":\"Arrow\"},{\"attributes\":{\"line_color\":{\"value\":\"firebrick\"},\"line_width\":{\"value\":2},\"plot\":null,\"size\":10},\"id\":\"01ff2157-008f-4e3a-a8f7-eaf64f3af8ec\",\"type\":\"OpenHead\"}],\"root_ids\":[\"366a8f8c-9209-4004-9921-e68777e0bbae\"]},\"title\":\"Bokeh Application\",\"version\":\"0.12.15\"}};\n",
       "  var render_items = [{\"docid\":\"75f2fbfc-8f4d-47be-814d-1eebd5a1fe6f\",\"elementid\":\"768a98ec-a24d-4aef-878b-3eab67e3216c\",\"modelid\":\"366a8f8c-9209-4004-9921-e68777e0bbae\"}];\n",
       "  root.Bokeh.embed.embed_items_notebook(docs_json, render_items);\n",
       "\n",
       "  }\n",
       "  if (root.Bokeh !== undefined) {\n",
       "    embed_document(root);\n",
       "  } else {\n",
       "    var attempts = 0;\n",
       "    var timer = setInterval(function(root) {\n",
       "      if (root.Bokeh !== undefined) {\n",
       "        embed_document(root);\n",
       "        clearInterval(timer);\n",
       "      }\n",
       "      attempts++;\n",
       "      if (attempts > 100) {\n",
       "        console.log(\"Bokeh: ERROR: Unable to run BokehJS code because BokehJS library is missing\")\n",
       "        clearInterval(timer);\n",
       "      }\n",
       "    }, 10, root)\n",
       "  }\n",
       "})(window);"
      ],
      "application/vnd.bokehjs_exec.v0+json": ""
     },
     "metadata": {
      "application/vnd.bokehjs_exec.v0+json": {
       "id": "366a8f8c-9209-4004-9921-e68777e0bbae"
      }
     },
     "output_type": "display_data"
    }
   ],
   "source": [
    "show(p)"
   ]
  },
  {
   "cell_type": "code",
   "execution_count": null,
   "metadata": {},
   "outputs": [],
   "source": []
  },
  {
   "cell_type": "code",
   "execution_count": null,
   "metadata": {},
   "outputs": [],
   "source": []
  },
  {
   "cell_type": "code",
   "execution_count": null,
   "metadata": {},
   "outputs": [],
   "source": []
  }
 ],
 "metadata": {
  "kernelspec": {
   "display_name": "Python 3",
   "language": "python",
   "name": "python3"
  },
  "language_info": {
   "codemirror_mode": {
    "name": "ipython",
    "version": 3
   },
   "file_extension": ".py",
   "mimetype": "text/x-python",
   "name": "python",
   "nbconvert_exporter": "python",
   "pygments_lexer": "ipython3",
   "version": "3.6.4"
  }
 },
 "nbformat": 4,
 "nbformat_minor": 2
}
