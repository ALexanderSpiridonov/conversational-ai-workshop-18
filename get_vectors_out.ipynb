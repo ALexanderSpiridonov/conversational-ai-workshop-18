{
 "cells": [
  {
   "cell_type": "code",
   "execution_count": 1,
   "metadata": {},
   "outputs": [
    {
     "name": "stderr",
     "output_type": "stream",
     "text": [
      "/anaconda/lib/python3.6/site-packages/h5py/__init__.py:34: FutureWarning: Conversion of the second argument of issubdtype from `float` to `np.floating` is deprecated. In future, it will be treated as `np.float64 == np.dtype(float).type`.\n",
      "  from ._conv import register_converters as _register_converters\n"
     ]
    },
    {
     "name": "stdout",
     "output_type": "stream",
     "text": [
      "INFO:tensorflow:Restoring parameters from models/dialogue_embed/policy_0_EmbeddingPolicy/tensorflow_embedding.ckpt\n"
     ]
    },
    {
     "name": "stderr",
     "output_type": "stream",
     "text": [
      "/anaconda/lib/python3.6/site-packages/pykwalify/core.py:99: UnsafeLoaderWarning: \n",
      "The default 'Loader' for 'load(stream)' without further arguments can be unsafe.\n",
      "Use 'load(stream, Loader=ruamel.yaml.Loader)' explicitly if that is OK.\n",
      "Alternatively include the following in your code:\n",
      "\n",
      "  import warnings\n",
      "  warnings.simplefilter('ignore', ruamel.yaml.error.UnsafeLoaderWarning)\n",
      "\n",
      "In most other cases you should consider using 'safe_load(stream)'\n",
      "  data = yaml.load(stream)\n"
     ]
    },
    {
     "data": {
      "text/html": [
       "\n",
       "    <div class=\"bk-root\">\n",
       "        <a href=\"https://bokeh.pydata.org\" target=\"_blank\" class=\"bk-logo bk-logo-small bk-logo-notebook\"></a>\n",
       "        <span id=\"c92e5f86-a15c-4b14-b515-4a3909c323b5\">Loading BokehJS ...</span>\n",
       "    </div>"
      ]
     },
     "metadata": {},
     "output_type": "display_data"
    },
    {
     "data": {
      "application/javascript": [
       "\n",
       "(function(root) {\n",
       "  function now() {\n",
       "    return new Date();\n",
       "  }\n",
       "\n",
       "  var force = true;\n",
       "\n",
       "  if (typeof (root._bokeh_onload_callbacks) === \"undefined\" || force === true) {\n",
       "    root._bokeh_onload_callbacks = [];\n",
       "    root._bokeh_is_loading = undefined;\n",
       "  }\n",
       "\n",
       "  var JS_MIME_TYPE = 'application/javascript';\n",
       "  var HTML_MIME_TYPE = 'text/html';\n",
       "  var EXEC_MIME_TYPE = 'application/vnd.bokehjs_exec.v0+json';\n",
       "  var CLASS_NAME = 'output_bokeh rendered_html';\n",
       "\n",
       "  /**\n",
       "   * Render data to the DOM node\n",
       "   */\n",
       "  function render(props, node) {\n",
       "    var script = document.createElement(\"script\");\n",
       "    node.appendChild(script);\n",
       "  }\n",
       "\n",
       "  /**\n",
       "   * Handle when an output is cleared or removed\n",
       "   */\n",
       "  function handleClearOutput(event, handle) {\n",
       "    var cell = handle.cell;\n",
       "\n",
       "    var id = cell.output_area._bokeh_element_id;\n",
       "    var server_id = cell.output_area._bokeh_server_id;\n",
       "    // Clean up Bokeh references\n",
       "    if (id !== undefined) {\n",
       "      Bokeh.index[id].model.document.clear();\n",
       "      delete Bokeh.index[id];\n",
       "    }\n",
       "\n",
       "    if (server_id !== undefined) {\n",
       "      // Clean up Bokeh references\n",
       "      var cmd = \"from bokeh.io.state import curstate; print(curstate().uuid_to_server['\" + server_id + \"'].get_sessions()[0].document.roots[0]._id)\";\n",
       "      cell.notebook.kernel.execute(cmd, {\n",
       "        iopub: {\n",
       "          output: function(msg) {\n",
       "            var element_id = msg.content.text.trim();\n",
       "            Bokeh.index[element_id].model.document.clear();\n",
       "            delete Bokeh.index[element_id];\n",
       "          }\n",
       "        }\n",
       "      });\n",
       "      // Destroy server and session\n",
       "      var cmd = \"import bokeh.io.notebook as ion; ion.destroy_server('\" + server_id + \"')\";\n",
       "      cell.notebook.kernel.execute(cmd);\n",
       "    }\n",
       "  }\n",
       "\n",
       "  /**\n",
       "   * Handle when a new output is added\n",
       "   */\n",
       "  function handleAddOutput(event, handle) {\n",
       "    var output_area = handle.output_area;\n",
       "    var output = handle.output;\n",
       "\n",
       "    // limit handleAddOutput to display_data with EXEC_MIME_TYPE content only\n",
       "    if ((output.output_type != \"display_data\") || (!output.data.hasOwnProperty(EXEC_MIME_TYPE))) {\n",
       "      return\n",
       "    }\n",
       "\n",
       "    var toinsert = output_area.element.find(\".\" + CLASS_NAME.split(' ')[0]);\n",
       "\n",
       "    if (output.metadata[EXEC_MIME_TYPE][\"id\"] !== undefined) {\n",
       "      toinsert[toinsert.length - 1].firstChild.textContent = output.data[JS_MIME_TYPE];\n",
       "      // store reference to embed id on output_area\n",
       "      output_area._bokeh_element_id = output.metadata[EXEC_MIME_TYPE][\"id\"];\n",
       "    }\n",
       "    if (output.metadata[EXEC_MIME_TYPE][\"server_id\"] !== undefined) {\n",
       "      var bk_div = document.createElement(\"div\");\n",
       "      bk_div.innerHTML = output.data[HTML_MIME_TYPE];\n",
       "      var script_attrs = bk_div.children[0].attributes;\n",
       "      for (var i = 0; i < script_attrs.length; i++) {\n",
       "        toinsert[toinsert.length - 1].firstChild.setAttribute(script_attrs[i].name, script_attrs[i].value);\n",
       "      }\n",
       "      // store reference to server id on output_area\n",
       "      output_area._bokeh_server_id = output.metadata[EXEC_MIME_TYPE][\"server_id\"];\n",
       "    }\n",
       "  }\n",
       "\n",
       "  function register_renderer(events, OutputArea) {\n",
       "\n",
       "    function append_mime(data, metadata, element) {\n",
       "      // create a DOM node to render to\n",
       "      var toinsert = this.create_output_subarea(\n",
       "        metadata,\n",
       "        CLASS_NAME,\n",
       "        EXEC_MIME_TYPE\n",
       "      );\n",
       "      this.keyboard_manager.register_events(toinsert);\n",
       "      // Render to node\n",
       "      var props = {data: data, metadata: metadata[EXEC_MIME_TYPE]};\n",
       "      render(props, toinsert[toinsert.length - 1]);\n",
       "      element.append(toinsert);\n",
       "      return toinsert\n",
       "    }\n",
       "\n",
       "    /* Handle when an output is cleared or removed */\n",
       "    events.on('clear_output.CodeCell', handleClearOutput);\n",
       "    events.on('delete.Cell', handleClearOutput);\n",
       "\n",
       "    /* Handle when a new output is added */\n",
       "    events.on('output_added.OutputArea', handleAddOutput);\n",
       "\n",
       "    /**\n",
       "     * Register the mime type and append_mime function with output_area\n",
       "     */\n",
       "    OutputArea.prototype.register_mime_type(EXEC_MIME_TYPE, append_mime, {\n",
       "      /* Is output safe? */\n",
       "      safe: true,\n",
       "      /* Index of renderer in `output_area.display_order` */\n",
       "      index: 0\n",
       "    });\n",
       "  }\n",
       "\n",
       "  // register the mime type if in Jupyter Notebook environment and previously unregistered\n",
       "  if (root.Jupyter !== undefined) {\n",
       "    var events = require('base/js/events');\n",
       "    var OutputArea = require('notebook/js/outputarea').OutputArea;\n",
       "\n",
       "    if (OutputArea.prototype.mime_types().indexOf(EXEC_MIME_TYPE) == -1) {\n",
       "      register_renderer(events, OutputArea);\n",
       "    }\n",
       "  }\n",
       "\n",
       "  \n",
       "  if (typeof (root._bokeh_timeout) === \"undefined\" || force === true) {\n",
       "    root._bokeh_timeout = Date.now() + 5000;\n",
       "    root._bokeh_failed_load = false;\n",
       "  }\n",
       "\n",
       "  var NB_LOAD_WARNING = {'data': {'text/html':\n",
       "     \"<div style='background-color: #fdd'>\\n\"+\n",
       "     \"<p>\\n\"+\n",
       "     \"BokehJS does not appear to have successfully loaded. If loading BokehJS from CDN, this \\n\"+\n",
       "     \"may be due to a slow or bad network connection. Possible fixes:\\n\"+\n",
       "     \"</p>\\n\"+\n",
       "     \"<ul>\\n\"+\n",
       "     \"<li>re-rerun `output_notebook()` to attempt to load from CDN again, or</li>\\n\"+\n",
       "     \"<li>use INLINE resources instead, as so:</li>\\n\"+\n",
       "     \"</ul>\\n\"+\n",
       "     \"<code>\\n\"+\n",
       "     \"from bokeh.resources import INLINE\\n\"+\n",
       "     \"output_notebook(resources=INLINE)\\n\"+\n",
       "     \"</code>\\n\"+\n",
       "     \"</div>\"}};\n",
       "\n",
       "  function display_loaded() {\n",
       "    var el = document.getElementById(\"c92e5f86-a15c-4b14-b515-4a3909c323b5\");\n",
       "    if (el != null) {\n",
       "      el.textContent = \"BokehJS is loading...\";\n",
       "    }\n",
       "    if (root.Bokeh !== undefined) {\n",
       "      if (el != null) {\n",
       "        el.textContent = \"BokehJS \" + root.Bokeh.version + \" successfully loaded.\";\n",
       "      }\n",
       "    } else if (Date.now() < root._bokeh_timeout) {\n",
       "      setTimeout(display_loaded, 100)\n",
       "    }\n",
       "  }\n",
       "\n",
       "\n",
       "  function run_callbacks() {\n",
       "    try {\n",
       "      root._bokeh_onload_callbacks.forEach(function(callback) { callback() });\n",
       "    }\n",
       "    finally {\n",
       "      delete root._bokeh_onload_callbacks\n",
       "    }\n",
       "    console.info(\"Bokeh: all callbacks have finished\");\n",
       "  }\n",
       "\n",
       "  function load_libs(js_urls, callback) {\n",
       "    root._bokeh_onload_callbacks.push(callback);\n",
       "    if (root._bokeh_is_loading > 0) {\n",
       "      console.log(\"Bokeh: BokehJS is being loaded, scheduling callback at\", now());\n",
       "      return null;\n",
       "    }\n",
       "    if (js_urls == null || js_urls.length === 0) {\n",
       "      run_callbacks();\n",
       "      return null;\n",
       "    }\n",
       "    console.log(\"Bokeh: BokehJS not loaded, scheduling load and callback at\", now());\n",
       "    root._bokeh_is_loading = js_urls.length;\n",
       "    for (var i = 0; i < js_urls.length; i++) {\n",
       "      var url = js_urls[i];\n",
       "      var s = document.createElement('script');\n",
       "      s.src = url;\n",
       "      s.async = false;\n",
       "      s.onreadystatechange = s.onload = function() {\n",
       "        root._bokeh_is_loading--;\n",
       "        if (root._bokeh_is_loading === 0) {\n",
       "          console.log(\"Bokeh: all BokehJS libraries loaded\");\n",
       "          run_callbacks()\n",
       "        }\n",
       "      };\n",
       "      s.onerror = function() {\n",
       "        console.warn(\"failed to load library \" + url);\n",
       "      };\n",
       "      console.log(\"Bokeh: injecting script tag for BokehJS library: \", url);\n",
       "      document.getElementsByTagName(\"head\")[0].appendChild(s);\n",
       "    }\n",
       "  };var element = document.getElementById(\"c92e5f86-a15c-4b14-b515-4a3909c323b5\");\n",
       "  if (element == null) {\n",
       "    console.log(\"Bokeh: ERROR: autoload.js configured with elementid 'c92e5f86-a15c-4b14-b515-4a3909c323b5' but no matching script tag was found. \")\n",
       "    return false;\n",
       "  }\n",
       "\n",
       "  var js_urls = [\"https://cdn.pydata.org/bokeh/release/bokeh-0.12.15.min.js\", \"https://cdn.pydata.org/bokeh/release/bokeh-widgets-0.12.15.min.js\", \"https://cdn.pydata.org/bokeh/release/bokeh-tables-0.12.15.min.js\", \"https://cdn.pydata.org/bokeh/release/bokeh-gl-0.12.15.min.js\"];\n",
       "\n",
       "  var inline_js = [\n",
       "    function(Bokeh) {\n",
       "      Bokeh.set_log_level(\"info\");\n",
       "    },\n",
       "    \n",
       "    function(Bokeh) {\n",
       "      \n",
       "    },\n",
       "    function(Bokeh) {\n",
       "      console.log(\"Bokeh: injecting CSS: https://cdn.pydata.org/bokeh/release/bokeh-0.12.15.min.css\");\n",
       "      Bokeh.embed.inject_css(\"https://cdn.pydata.org/bokeh/release/bokeh-0.12.15.min.css\");\n",
       "      console.log(\"Bokeh: injecting CSS: https://cdn.pydata.org/bokeh/release/bokeh-widgets-0.12.15.min.css\");\n",
       "      Bokeh.embed.inject_css(\"https://cdn.pydata.org/bokeh/release/bokeh-widgets-0.12.15.min.css\");\n",
       "      console.log(\"Bokeh: injecting CSS: https://cdn.pydata.org/bokeh/release/bokeh-tables-0.12.15.min.css\");\n",
       "      Bokeh.embed.inject_css(\"https://cdn.pydata.org/bokeh/release/bokeh-tables-0.12.15.min.css\");\n",
       "    }\n",
       "  ];\n",
       "\n",
       "  function run_inline_js() {\n",
       "    \n",
       "    if ((root.Bokeh !== undefined) || (force === true)) {\n",
       "      for (var i = 0; i < inline_js.length; i++) {\n",
       "        inline_js[i].call(root, root.Bokeh);\n",
       "      }if (force === true) {\n",
       "        display_loaded();\n",
       "      }} else if (Date.now() < root._bokeh_timeout) {\n",
       "      setTimeout(run_inline_js, 100);\n",
       "    } else if (!root._bokeh_failed_load) {\n",
       "      console.log(\"Bokeh: BokehJS failed to load within specified timeout.\");\n",
       "      root._bokeh_failed_load = true;\n",
       "    } else if (force !== true) {\n",
       "      var cell = $(document.getElementById(\"c92e5f86-a15c-4b14-b515-4a3909c323b5\")).parents('.cell').data().cell;\n",
       "      cell.output_area.append_execute_result(NB_LOAD_WARNING)\n",
       "    }\n",
       "\n",
       "  }\n",
       "\n",
       "  if (root._bokeh_is_loading === 0) {\n",
       "    console.log(\"Bokeh: BokehJS loaded, going straight to plotting\");\n",
       "    run_inline_js();\n",
       "  } else {\n",
       "    load_libs(js_urls, function() {\n",
       "      console.log(\"Bokeh: BokehJS plotting callback run at\", now());\n",
       "      run_inline_js();\n",
       "    });\n",
       "  }\n",
       "}(window));"
      ],
      "application/vnd.bokehjs_load.v0+json": "\n(function(root) {\n  function now() {\n    return new Date();\n  }\n\n  var force = true;\n\n  if (typeof (root._bokeh_onload_callbacks) === \"undefined\" || force === true) {\n    root._bokeh_onload_callbacks = [];\n    root._bokeh_is_loading = undefined;\n  }\n\n  \n\n  \n  if (typeof (root._bokeh_timeout) === \"undefined\" || force === true) {\n    root._bokeh_timeout = Date.now() + 5000;\n    root._bokeh_failed_load = false;\n  }\n\n  var NB_LOAD_WARNING = {'data': {'text/html':\n     \"<div style='background-color: #fdd'>\\n\"+\n     \"<p>\\n\"+\n     \"BokehJS does not appear to have successfully loaded. If loading BokehJS from CDN, this \\n\"+\n     \"may be due to a slow or bad network connection. Possible fixes:\\n\"+\n     \"</p>\\n\"+\n     \"<ul>\\n\"+\n     \"<li>re-rerun `output_notebook()` to attempt to load from CDN again, or</li>\\n\"+\n     \"<li>use INLINE resources instead, as so:</li>\\n\"+\n     \"</ul>\\n\"+\n     \"<code>\\n\"+\n     \"from bokeh.resources import INLINE\\n\"+\n     \"output_notebook(resources=INLINE)\\n\"+\n     \"</code>\\n\"+\n     \"</div>\"}};\n\n  function display_loaded() {\n    var el = document.getElementById(\"c92e5f86-a15c-4b14-b515-4a3909c323b5\");\n    if (el != null) {\n      el.textContent = \"BokehJS is loading...\";\n    }\n    if (root.Bokeh !== undefined) {\n      if (el != null) {\n        el.textContent = \"BokehJS \" + root.Bokeh.version + \" successfully loaded.\";\n      }\n    } else if (Date.now() < root._bokeh_timeout) {\n      setTimeout(display_loaded, 100)\n    }\n  }\n\n\n  function run_callbacks() {\n    try {\n      root._bokeh_onload_callbacks.forEach(function(callback) { callback() });\n    }\n    finally {\n      delete root._bokeh_onload_callbacks\n    }\n    console.info(\"Bokeh: all callbacks have finished\");\n  }\n\n  function load_libs(js_urls, callback) {\n    root._bokeh_onload_callbacks.push(callback);\n    if (root._bokeh_is_loading > 0) {\n      console.log(\"Bokeh: BokehJS is being loaded, scheduling callback at\", now());\n      return null;\n    }\n    if (js_urls == null || js_urls.length === 0) {\n      run_callbacks();\n      return null;\n    }\n    console.log(\"Bokeh: BokehJS not loaded, scheduling load and callback at\", now());\n    root._bokeh_is_loading = js_urls.length;\n    for (var i = 0; i < js_urls.length; i++) {\n      var url = js_urls[i];\n      var s = document.createElement('script');\n      s.src = url;\n      s.async = false;\n      s.onreadystatechange = s.onload = function() {\n        root._bokeh_is_loading--;\n        if (root._bokeh_is_loading === 0) {\n          console.log(\"Bokeh: all BokehJS libraries loaded\");\n          run_callbacks()\n        }\n      };\n      s.onerror = function() {\n        console.warn(\"failed to load library \" + url);\n      };\n      console.log(\"Bokeh: injecting script tag for BokehJS library: \", url);\n      document.getElementsByTagName(\"head\")[0].appendChild(s);\n    }\n  };var element = document.getElementById(\"c92e5f86-a15c-4b14-b515-4a3909c323b5\");\n  if (element == null) {\n    console.log(\"Bokeh: ERROR: autoload.js configured with elementid 'c92e5f86-a15c-4b14-b515-4a3909c323b5' but no matching script tag was found. \")\n    return false;\n  }\n\n  var js_urls = [\"https://cdn.pydata.org/bokeh/release/bokeh-0.12.15.min.js\", \"https://cdn.pydata.org/bokeh/release/bokeh-widgets-0.12.15.min.js\", \"https://cdn.pydata.org/bokeh/release/bokeh-tables-0.12.15.min.js\", \"https://cdn.pydata.org/bokeh/release/bokeh-gl-0.12.15.min.js\"];\n\n  var inline_js = [\n    function(Bokeh) {\n      Bokeh.set_log_level(\"info\");\n    },\n    \n    function(Bokeh) {\n      \n    },\n    function(Bokeh) {\n      console.log(\"Bokeh: injecting CSS: https://cdn.pydata.org/bokeh/release/bokeh-0.12.15.min.css\");\n      Bokeh.embed.inject_css(\"https://cdn.pydata.org/bokeh/release/bokeh-0.12.15.min.css\");\n      console.log(\"Bokeh: injecting CSS: https://cdn.pydata.org/bokeh/release/bokeh-widgets-0.12.15.min.css\");\n      Bokeh.embed.inject_css(\"https://cdn.pydata.org/bokeh/release/bokeh-widgets-0.12.15.min.css\");\n      console.log(\"Bokeh: injecting CSS: https://cdn.pydata.org/bokeh/release/bokeh-tables-0.12.15.min.css\");\n      Bokeh.embed.inject_css(\"https://cdn.pydata.org/bokeh/release/bokeh-tables-0.12.15.min.css\");\n    }\n  ];\n\n  function run_inline_js() {\n    \n    if ((root.Bokeh !== undefined) || (force === true)) {\n      for (var i = 0; i < inline_js.length; i++) {\n        inline_js[i].call(root, root.Bokeh);\n      }if (force === true) {\n        display_loaded();\n      }} else if (Date.now() < root._bokeh_timeout) {\n      setTimeout(run_inline_js, 100);\n    } else if (!root._bokeh_failed_load) {\n      console.log(\"Bokeh: BokehJS failed to load within specified timeout.\");\n      root._bokeh_failed_load = true;\n    } else if (force !== true) {\n      var cell = $(document.getElementById(\"c92e5f86-a15c-4b14-b515-4a3909c323b5\")).parents('.cell').data().cell;\n      cell.output_area.append_execute_result(NB_LOAD_WARNING)\n    }\n\n  }\n\n  if (root._bokeh_is_loading === 0) {\n    console.log(\"Bokeh: BokehJS loaded, going straight to plotting\");\n    run_inline_js();\n  } else {\n    load_libs(js_urls, function() {\n      console.log(\"Bokeh: BokehJS plotting callback run at\", now());\n      run_inline_js();\n    });\n  }\n}(window));"
     },
     "metadata": {},
     "output_type": "display_data"
    }
   ],
   "source": [
    "import rasa_core\n",
    "from rasa_core.agent import Agent\n",
    "from bokeh.io import output_notebook\n",
    "agent = Agent.load(\"models/dialogue_embed\")\n",
    "# agent = Agent.load(\"models/dialogue_embed_before_norm_loss\")\n",
    "output_notebook()"
   ]
  },
  {
   "cell_type": "code",
   "execution_count": 2,
   "metadata": {},
   "outputs": [],
   "source": [
    "policy = agent.policy_ensemble.policies[0]\n",
    "interpreter = agent.interpreter"
   ]
  },
  {
   "cell_type": "code",
   "execution_count": 3,
   "metadata": {},
   "outputs": [],
   "source": [
    "domain = agent.domain\n"
   ]
  },
  {
   "cell_type": "code",
   "execution_count": 4,
   "metadata": {},
   "outputs": [],
   "source": [
    "from rasa_core.training.structures import StoryGraph\n",
    "from rasa_core.training.dsl import StoryFileReader\n",
    "from rasa_core.trackers import DialogueStateTracker\n",
    "from rasa_core.channels import UserMessage\n",
    "import numpy as np\n",
    "\n",
    "def embedding_from_tracker(story, bot=False):\n",
    "    reader = StoryFileReader(domain, interpreter)\n",
    "    story = story.split('\\n')\n",
    "    story_steps = reader.process_lines(story)\n",
    "#     story_graph = StoryGraph(story_steps)\n",
    "    tracker = DialogueStateTracker(\n",
    "            1,\n",
    "            domain.slots\n",
    "    )\n",
    "    tracker._reset()\n",
    "    for step in story_steps:\n",
    "        events = step.explicit_events(domain)\n",
    "        for event in events:\n",
    "            tracker.update(event)\n",
    "    data_X = policy.featurizer.create_X([tracker], domain)\n",
    "\n",
    "    X, slots, prev_act = policy._create_X_slots(data_X)\n",
    "    all_Y_d = policy._create_all_Y_d(X.shape[1])\n",
    "    all_Y_d_x = np.stack([all_Y_d for _ in range(X.shape[0])])\n",
    "    dial_vec = policy.session.run(policy.dial_embed, feed_dict={policy.a_in: X,\n",
    "                                           policy.b_in: all_Y_d_x,\n",
    "                                           policy.c_in: slots,\n",
    "                                           policy.b_prev_in: prev_act})\n",
    "    bot_vec = policy.session.run(policy.bot_embed, feed_dict={policy.a_in: X,\n",
    "                                           policy.b_in: all_Y_d_x,\n",
    "                                           policy.c_in: slots,\n",
    "                                           policy.b_prev_in: prev_act})\n",
    "\n",
    "    not_skip_gate = policy.session.run(policy.not_skip_gate, feed_dict={policy.a_in: X,\n",
    "                                           policy.b_in: all_Y_d_x,\n",
    "                                           policy.c_in: slots,\n",
    "                                           policy.b_prev_in: prev_act})\n",
    "    attn_prev_act_embed = policy.session.run(policy.attn_prev_act_embed,\n",
    "                                             feed_dict={policy.a_in: X,\n",
    "                                           policy.b_in: all_Y_d_x,\n",
    "                                           policy.c_in: slots,\n",
    "                                           policy.b_prev_in: prev_act})\n",
    "    rnn_embed = policy.session.run(policy.rnn_embed, feed_dict={policy.a_in: X,\n",
    "                                           policy.b_in: all_Y_d_x,\n",
    "                                           policy.c_in: slots,\n",
    "                                           policy.b_prev_in: prev_act})\n",
    "    probs = policy.session.run(policy.alignment_history, feed_dict={policy.a_in: X,\n",
    "                                           policy.b_in: all_Y_d_x,\n",
    "                                           policy.c_in: slots,\n",
    "                                           policy.b_prev_in: prev_act})\n",
    "    \n",
    "    del tracker\n",
    "#     print(np.shape(dial_vec))\n",
    "    if bot is False:\n",
    "        return (dial_vec[0,-2,:],\n",
    "                not_skip_gate[0,-2,:],\n",
    "                attn_prev_act_embed[0,-2,:],\n",
    "                rnn_embed[0,-2,:],\n",
    "                probs[1][0,-2,:])\n",
    "    else:\n",
    "        return bot_vec\n",
    "    \n",
    "def make_prediction(story):\n",
    "    dial, _,_,_,_ = embedding_from_tracker(story, bot=False)\n",
    "    bot = embedding_from_tracker(story, bot=True)[0,-2,:,:]\n",
    "    abs_vals = np.array([np.absolute(vec) for vec in bot])\n",
    "    norms = np.apply_along_axis(np.linalg.norm, 1, bot)\n",
    "    return domain.action_for_index(np.argmax(np.dot(bot, dial)/norms)).name()\n",
    "#     print(dial.shape, bot.shape)"
   ]
  },
  {
   "cell_type": "code",
   "execution_count": 17,
   "metadata": {},
   "outputs": [
    {
     "name": "stdout",
     "output_type": "stream",
     "text": [
      "47\n",
      "27\n",
      "(20,)\n"
     ]
    }
   ],
   "source": [
    "# print(domain.intents)\n",
    "story_block = \"\"\"* request_hotel\n",
    "    - utter_ask_details\n",
    "* explain\n",
    "    - utter_explain_details_hotel\n",
    "    - utter_ask_details\n",
    "* chitchat\n",
    "    - utter_chitchat\n",
    "    - utter_ask_details\n",
    "* inform{\"enddate\": \"May 26th\"}\n",
    "    - slot{\"enddate\": \"May 26th\"}\n",
    "    - utter_ask_startdate\n",
    "* inform{\"startdate\": \"next week\"}\n",
    "    - slot{\"startdate\": \"next week\"}\n",
    "    - utter_ask_location\n",
    "* explain\n",
    "    - utter_explain_location_hotel\n",
    "    - utter_ask_location\n",
    "* inform{\"location\": \"rome\"}\n",
    "    - slot{\"location\": \"rome\"}\n",
    "    - utter_ask_price\n",
    "* chitchat\n",
    "    - utter_chitchat\n",
    "    - utter_ask_price\n",
    "* chitchat\n",
    "    - utter_chitchat\n",
    "    - utter_ask_price\n",
    "* chitchat\n",
    "    - utter_chitchat\n",
    "    - utter_ask_price\n",
    "* chitchat\n",
    "    - utter_chitchat\n",
    "    - utter_ask_price\n",
    "* explain\n",
    "    - utter_explain_price_hotel\n",
    "    - utter_ask_price\n",
    "* inform{\"price\": \"expensive\"}\n",
    "    - utter_ask_people\n",
    "* inform{\"people\": \"4\"}\n",
    "    - utter_filled_slots\n",
    "    - action_search_hotel\n",
    "    - slot{\"hotel\": \"hotel\"}\n",
    "    - utter_suggest_hotel\n",
    "* chitchat\n",
    "    - utter_chitchat\n",
    "    - utter_suggest_hotel\n",
    "* affirm\n",
    "    - utter_happy\"\"\"\n",
    "print(len(story_block.split('\\n')))\n",
    "cool_list = []\n",
    "lines = story_block.split('\\n')\n",
    "for idx, line in enumerate(lines):\n",
    "    if idx == len(lines)-1:\n",
    "        continue\n",
    "    if '*' in lines[idx+1] or 'slot{' in lines[idx+1]:# or 'slot{' in line:\n",
    "        continue\n",
    "    sub_story = '\\n'.join(lines[:idx+1])\n",
    "    (dial, not_skip, attn, rnn, probs\n",
    "    ) = embedding_from_tracker(\"#generate story\\n{}\".format(sub_story))\n",
    "    pred = make_prediction(\"#generate story\\n{}\".format(sub_story))\n",
    "    cool_list.append((lines[idx+1], dial, pred, not_skip, attn[20:40], rnn, probs))\n",
    "\n",
    "print(len(cool_list))\n",
    "print(cool_list[0][4].shape)\n",
    "#     break\n",
    "# dial = embedding_from_tracker(\"#generate story\\n{}\".format(story_block)\n",
    "# )\n",
    "# print(dial.shape)\n",
    "# print(len(story_block.split('\\n')))"
   ]
  },
  {
   "cell_type": "code",
   "execution_count": 18,
   "metadata": {},
   "outputs": [
    {
     "data": {
      "text/plain": [
       "('    - utter_explain_details_hotel',\n",
       " array([-0.07017   , -0.12417912, -0.05461308,  0.04667568,  0.07568872,\n",
       "        -0.08635624,  0.04791246,  0.12534887,  0.08985595, -0.04385621,\n",
       "        -0.15184714,  0.05664096, -0.08428319, -0.10451296, -0.08474922,\n",
       "        -0.04798458,  0.07425719, -0.0065468 ,  0.0315646 ,  0.03931988],\n",
       "       dtype=float32),\n",
       " 'utter_explain_details_hotel',\n",
       " array([0.03416986], dtype=float32),\n",
       " array([-0.07680654, -0.06450343,  0.00637732, -0.14087948, -0.03164571,\n",
       "        -0.11726426, -0.01582895,  0.00276147, -0.04073505, -0.02681653,\n",
       "        -0.00091857,  0.0333023 , -0.04507484, -0.05830846, -0.04314952,\n",
       "        -0.06908584,  0.05656552,  0.06983338,  0.06335373,  0.03745424],\n",
       "       dtype=float32),\n",
       " array([ 0.00663654, -0.05967569, -0.06099039,  0.18755516,  0.10733443,\n",
       "         0.03090801,  0.06374142,  0.1225874 ,  0.130591  , -0.01703968,\n",
       "        -0.15092857,  0.02333865, -0.03920836, -0.04620449, -0.04159969,\n",
       "         0.02110126,  0.01769167, -0.07638018, -0.03178913,  0.00186564],\n",
       "       dtype=float32),\n",
       " array([1.3605724e-04, 5.8821478e-04, 9.4428730e-01, 5.4988481e-02,\n",
       "        0.0000000e+00], dtype=float32))"
      ]
     },
     "execution_count": 18,
     "metadata": {},
     "output_type": "execute_result"
    }
   ],
   "source": [
    "cool_list[1]"
   ]
  },
  {
   "cell_type": "code",
   "execution_count": 19,
   "metadata": {},
   "outputs": [],
   "source": [
    "from sklearn.decomposition import PCA"
   ]
  },
  {
   "cell_type": "code",
   "execution_count": 20,
   "metadata": {},
   "outputs": [],
   "source": [
    "pca = PCA(n_components=2)\n",
    "X = pca.fit_transform([ting[1] for ting in cool_list])"
   ]
  },
  {
   "cell_type": "code",
   "execution_count": 21,
   "metadata": {},
   "outputs": [],
   "source": [
    "from bokeh.plotting import figure, show\n",
    "import matplotlib.pyplot as plt"
   ]
  },
  {
   "cell_type": "code",
   "execution_count": 22,
   "metadata": {},
   "outputs": [],
   "source": [
    "embed_dim = cool_list[0][1].shape[0]\n"
   ]
  },
  {
   "cell_type": "code",
   "execution_count": 23,
   "metadata": {},
   "outputs": [
    {
     "data": {
      "text/html": [
       "<div style=\"display: table;\"><div style=\"display: table-row;\"><div style=\"display: table-cell;\"><b title=\"bokeh.models.renderers.GlyphRenderer\">GlyphRenderer</b>(</div><div style=\"display: table-cell;\">id&nbsp;=&nbsp;'5523d59e-b80f-47de-a5c1-51dc318d127d', <span id=\"22d5af97-4325-4bed-8d90-5399668691ba\" style=\"cursor: pointer;\">&hellip;)</span></div></div><div class=\"1b33c205-4d9a-46d6-86a3-8e62635c6e5a\" style=\"display: none;\"><div style=\"display: table-cell;\"></div><div style=\"display: table-cell;\">data_source&nbsp;=&nbsp;ColumnDataSource(id='3434e11b-944c-4d33-b3f5-2dac24c2f3b2', ...),</div></div><div class=\"1b33c205-4d9a-46d6-86a3-8e62635c6e5a\" style=\"display: none;\"><div style=\"display: table-cell;\"></div><div style=\"display: table-cell;\">glyph&nbsp;=&nbsp;Circle(id='42272c17-1280-42cb-b351-8c2e29e361ce', ...),</div></div><div class=\"1b33c205-4d9a-46d6-86a3-8e62635c6e5a\" style=\"display: none;\"><div style=\"display: table-cell;\"></div><div style=\"display: table-cell;\">hover_glyph&nbsp;=&nbsp;None,</div></div><div class=\"1b33c205-4d9a-46d6-86a3-8e62635c6e5a\" style=\"display: none;\"><div style=\"display: table-cell;\"></div><div style=\"display: table-cell;\">js_event_callbacks&nbsp;=&nbsp;{},</div></div><div class=\"1b33c205-4d9a-46d6-86a3-8e62635c6e5a\" style=\"display: none;\"><div style=\"display: table-cell;\"></div><div style=\"display: table-cell;\">js_property_callbacks&nbsp;=&nbsp;{},</div></div><div class=\"1b33c205-4d9a-46d6-86a3-8e62635c6e5a\" style=\"display: none;\"><div style=\"display: table-cell;\"></div><div style=\"display: table-cell;\">level&nbsp;=&nbsp;'glyph',</div></div><div class=\"1b33c205-4d9a-46d6-86a3-8e62635c6e5a\" style=\"display: none;\"><div style=\"display: table-cell;\"></div><div style=\"display: table-cell;\">muted&nbsp;=&nbsp;False,</div></div><div class=\"1b33c205-4d9a-46d6-86a3-8e62635c6e5a\" style=\"display: none;\"><div style=\"display: table-cell;\"></div><div style=\"display: table-cell;\">muted_glyph&nbsp;=&nbsp;None,</div></div><div class=\"1b33c205-4d9a-46d6-86a3-8e62635c6e5a\" style=\"display: none;\"><div style=\"display: table-cell;\"></div><div style=\"display: table-cell;\">name&nbsp;=&nbsp;None,</div></div><div class=\"1b33c205-4d9a-46d6-86a3-8e62635c6e5a\" style=\"display: none;\"><div style=\"display: table-cell;\"></div><div style=\"display: table-cell;\">nonselection_glyph&nbsp;=&nbsp;Circle(id='b13dd19d-0a9d-477d-bdf2-26cdcd9aa1a7', ...),</div></div><div class=\"1b33c205-4d9a-46d6-86a3-8e62635c6e5a\" style=\"display: none;\"><div style=\"display: table-cell;\"></div><div style=\"display: table-cell;\">selection_glyph&nbsp;=&nbsp;None,</div></div><div class=\"1b33c205-4d9a-46d6-86a3-8e62635c6e5a\" style=\"display: none;\"><div style=\"display: table-cell;\"></div><div style=\"display: table-cell;\">subscribed_events&nbsp;=&nbsp;[],</div></div><div class=\"1b33c205-4d9a-46d6-86a3-8e62635c6e5a\" style=\"display: none;\"><div style=\"display: table-cell;\"></div><div style=\"display: table-cell;\">tags&nbsp;=&nbsp;[],</div></div><div class=\"1b33c205-4d9a-46d6-86a3-8e62635c6e5a\" style=\"display: none;\"><div style=\"display: table-cell;\"></div><div style=\"display: table-cell;\">view&nbsp;=&nbsp;CDSView(id='07166579-9002-43aa-afc0-5dcecd00d7d8', ...),</div></div><div class=\"1b33c205-4d9a-46d6-86a3-8e62635c6e5a\" style=\"display: none;\"><div style=\"display: table-cell;\"></div><div style=\"display: table-cell;\">visible&nbsp;=&nbsp;True,</div></div><div class=\"1b33c205-4d9a-46d6-86a3-8e62635c6e5a\" style=\"display: none;\"><div style=\"display: table-cell;\"></div><div style=\"display: table-cell;\">x_range_name&nbsp;=&nbsp;'default',</div></div><div class=\"1b33c205-4d9a-46d6-86a3-8e62635c6e5a\" style=\"display: none;\"><div style=\"display: table-cell;\"></div><div style=\"display: table-cell;\">y_range_name&nbsp;=&nbsp;'default')</div></div></div>\n",
       "<script>\n",
       "(function() {\n",
       "  var expanded = false;\n",
       "  var ellipsis = document.getElementById(\"22d5af97-4325-4bed-8d90-5399668691ba\");\n",
       "  ellipsis.addEventListener(\"click\", function() {\n",
       "    var rows = document.getElementsByClassName(\"1b33c205-4d9a-46d6-86a3-8e62635c6e5a\");\n",
       "    for (var i = 0; i < rows.length; i++) {\n",
       "      var el = rows[i];\n",
       "      el.style.display = expanded ? \"none\" : \"table-row\";\n",
       "    }\n",
       "    ellipsis.innerHTML = expanded ? \"&hellip;)\" : \"&lsaquo;&lsaquo;&lsaquo;\";\n",
       "    expanded = !expanded;\n",
       "  });\n",
       "})();\n",
       "</script>\n"
      ],
      "text/plain": [
       "GlyphRenderer(id='5523d59e-b80f-47de-a5c1-51dc318d127d', ...)"
      ]
     },
     "execution_count": 23,
     "metadata": {},
     "output_type": "execute_result"
    }
   ],
   "source": [
    "from bokeh.plotting import figure, output_file, show, ColumnDataSource\n",
    "from bokeh.models import HoverTool, Arrow, OpenHead\n",
    "\n",
    "hover = HoverTool(tooltips=[(\"true action\",\"@desc\"), (\"prediction\", \"@pred\"),\n",
    "                            (\"not_skip_gate\", \"@not_skip\")],names=['circle'])\n",
    "p = figure( tools=[hover])\n",
    "\n",
    "for i in range(1, len(X)):\n",
    "    p.add_layout(Arrow(end=OpenHead(line_color=\"firebrick\", size=10, line_width=2),\n",
    "                       x_start=X[i-1,0], y_start=X[i-1,1],\n",
    "                       x_end=X[i,0], y_end=X[i,1], line_color='gray'))\n",
    "\n",
    "source = ColumnDataSource(data=dict(\n",
    "    x=X[:,0],\n",
    "    y=X[:,1],\n",
    "    desc=[ting[0] for ting in cool_list],\n",
    "    pred = [ting[2] for ting in cool_list],\n",
    "    not_skip = [ting[3] for ting in cool_list]\n",
    "))\n",
    "p.circle('x','y', source=source, size=10, name='circle')\n",
    "# p.line(X[:,0], X[:,1])\n",
    "\n",
    "X1 = pca.transform([ting[4] for ting in cool_list])\n",
    "source = ColumnDataSource(data=dict(\n",
    "    x=X1[:,0],\n",
    "    y=X1[:,1],\n",
    "    desc=[ting[0] for ting in cool_list],\n",
    "    pred = [ting[2] for ting in cool_list],\n",
    "    not_skip = [ting[3] for ting in cool_list]\n",
    "))\n",
    "p.circle('x','y', source=source, size=5, color='green', name='circle')\n",
    "\n",
    "X2 = pca.transform([ting[5] for ting in cool_list])\n",
    "source = ColumnDataSource(data=dict(\n",
    "    x=X2[:,0],\n",
    "    y=X2[:,1],\n",
    "    desc=[ting[0] for ting in cool_list],\n",
    "    pred = [ting[2] for ting in cool_list],\n",
    "    not_skip = [ting[3] for ting in cool_list]\n",
    "))\n",
    "p.circle('x','y', source=source, size=5, color='red', name='circle')\n",
    "\n",
    "x = pca.transform(np.zeros((1,embed_dim)))\n",
    "p.circle(x[0,0], x[0,1], size=5, color='magenta')\n",
    "p.circle(X[0,0], X[0,1], size=10, color='green')\n",
    "p.circle(X[-1,0], X[-1,1], size=10, color='red')\n"
   ]
  },
  {
   "cell_type": "code",
   "execution_count": 24,
   "metadata": {},
   "outputs": [
    {
     "data": {
      "text/html": [
       "\n",
       "<div class=\"bk-root\">\n",
       "    <div class=\"bk-plotdiv\" id=\"fc19b757-716f-4e7c-b4e6-15247ef555cd\"></div>\n",
       "</div>"
      ]
     },
     "metadata": {},
     "output_type": "display_data"
    },
    {
     "data": {
      "application/javascript": [
       "(function(root) {\n",
       "  function embed_document(root) {\n",
       "    \n",
       "  var docs_json = {\"589eb3bc-e566-480d-b703-89a7f3481f41\":{\"roots\":{\"references\":[{\"attributes\":{\"data_source\":{\"id\":\"6a6fa796-3b6e-4429-b7cc-8e23047ca497\",\"type\":\"ColumnDataSource\"},\"glyph\":{\"id\":\"84b9bedf-99a9-4ac0-9038-0d9cca54b7e9\",\"type\":\"Circle\"},\"hover_glyph\":null,\"muted_glyph\":null,\"name\":\"circle\",\"nonselection_glyph\":{\"id\":\"0f844e5e-de01-4de5-8de4-391a4cf7f375\",\"type\":\"Circle\"},\"selection_glyph\":null,\"view\":{\"id\":\"a026b0e0-60b9-4232-bde6-7ff497b6d662\",\"type\":\"CDSView\"}},\"id\":\"33eff6c5-f5c8-45cd-9cf7-2564b404837c\",\"type\":\"GlyphRenderer\"},{\"attributes\":{\"line_color\":{\"value\":\"firebrick\"},\"line_width\":{\"value\":2},\"plot\":null,\"size\":10},\"id\":\"df252ea3-5630-43cf-9b10-a12b1eedef11\",\"type\":\"OpenHead\"},{\"attributes\":{},\"id\":\"50c54de6-51e9-4429-945b-08db3a2f6d12\",\"type\":\"BasicTickFormatter\"},{\"attributes\":{\"fill_color\":{\"value\":\"#1f77b4\"},\"line_color\":{\"value\":\"#1f77b4\"},\"size\":{\"units\":\"screen\",\"value\":10},\"x\":{\"field\":\"x\"},\"y\":{\"field\":\"y\"}},\"id\":\"4642be72-12b8-4b3b-a158-134f04323c55\",\"type\":\"Circle\"},{\"attributes\":{\"end\":{\"id\":\"49825f2d-332c-42f2-96cc-b2b83cd0b6e5\",\"type\":\"OpenHead\"},\"line_color\":{\"value\":\"gray\"},\"plot\":{\"id\":\"484110da-b044-4256-912b-d9049c8c082f\",\"subtype\":\"Figure\",\"type\":\"Plot\"},\"source\":null,\"start\":null,\"x_end\":{\"value\":-0.006422153586502098},\"x_start\":{\"value\":-0.21385750418890315},\"y_end\":{\"value\":0.16567094654317122},\"y_start\":{\"value\":-0.051357881084932014}},\"id\":\"10cd174c-5da4-407f-b0f3-1acc18b0e66d\",\"type\":\"Arrow\"},{\"attributes\":{\"line_color\":{\"value\":\"firebrick\"},\"line_width\":{\"value\":2},\"plot\":null,\"size\":10},\"id\":\"ad0c5b64-1b5c-44c1-9d6c-678775ab3dec\",\"type\":\"OpenHead\"},{\"attributes\":{\"end\":{\"id\":\"df252ea3-5630-43cf-9b10-a12b1eedef11\",\"type\":\"OpenHead\"},\"line_color\":{\"value\":\"gray\"},\"plot\":{\"id\":\"484110da-b044-4256-912b-d9049c8c082f\",\"subtype\":\"Figure\",\"type\":\"Plot\"},\"source\":null,\"start\":null,\"x_end\":{\"value\":-0.0465527325742646},\"x_start\":{\"value\":-0.006422153586502098},\"y_end\":{\"value\":0.2114171785161447},\"y_start\":{\"value\":0.16567094654317122}},\"id\":\"79ab0205-aae5-45bc-a882-813e4fad80fa\",\"type\":\"Arrow\"},{\"attributes\":{\"line_color\":{\"value\":\"firebrick\"},\"line_width\":{\"value\":2},\"plot\":null,\"size\":10},\"id\":\"015300df-751a-4181-a984-8b6113d97bee\",\"type\":\"OpenHead\"},{\"attributes\":{\"end\":{\"id\":\"ad0c5b64-1b5c-44c1-9d6c-678775ab3dec\",\"type\":\"OpenHead\"},\"line_color\":{\"value\":\"gray\"},\"plot\":{\"id\":\"484110da-b044-4256-912b-d9049c8c082f\",\"subtype\":\"Figure\",\"type\":\"Plot\"},\"source\":null,\"start\":null,\"x_end\":{\"value\":-0.050635161601422805},\"x_start\":{\"value\":-0.0465527325742646},\"y_end\":{\"value\":0.2070623011660235},\"y_start\":{\"value\":0.2114171785161447}},\"id\":\"d0ef4dc6-6bff-43a9-8ebe-6ca7bf432a73\",\"type\":\"Arrow\"},{\"attributes\":{\"line_color\":{\"value\":\"firebrick\"},\"line_width\":{\"value\":2},\"plot\":null,\"size\":10},\"id\":\"7bcc8216-ba92-42a9-b9ad-091bd999aa2f\",\"type\":\"OpenHead\"},{\"attributes\":{\"end\":{\"id\":\"015300df-751a-4181-a984-8b6113d97bee\",\"type\":\"OpenHead\"},\"line_color\":{\"value\":\"gray\"},\"plot\":{\"id\":\"484110da-b044-4256-912b-d9049c8c082f\",\"subtype\":\"Figure\",\"type\":\"Plot\"},\"source\":null,\"start\":null,\"x_end\":{\"value\":0.058805398547173766},\"x_start\":{\"value\":-0.050635161601422805},\"y_end\":{\"value\":-0.10576357130685592},\"y_start\":{\"value\":0.2070623011660235}},\"id\":\"4b591f62-af88-438e-bf54-eab29892b34d\",\"type\":\"Arrow\"},{\"attributes\":{\"line_color\":{\"value\":\"firebrick\"},\"line_width\":{\"value\":2},\"plot\":null,\"size\":10},\"id\":\"52b1265d-b5a3-4a8e-ac7d-4058b0c5b6af\",\"type\":\"OpenHead\"},{\"attributes\":{\"end\":{\"id\":\"7bcc8216-ba92-42a9-b9ad-091bd999aa2f\",\"type\":\"OpenHead\"},\"line_color\":{\"value\":\"gray\"},\"plot\":{\"id\":\"484110da-b044-4256-912b-d9049c8c082f\",\"subtype\":\"Figure\",\"type\":\"Plot\"},\"source\":null,\"start\":null,\"x_end\":{\"value\":0.057916196817420426},\"x_start\":{\"value\":0.058805398547173766},\"y_end\":{\"value\":-0.10117115401756663},\"y_start\":{\"value\":-0.10576357130685592}},\"id\":\"bf44557f-3369-40b0-b73c-99234da9526e\",\"type\":\"Arrow\"},{\"attributes\":{\"line_color\":{\"value\":\"firebrick\"},\"line_width\":{\"value\":2},\"plot\":null,\"size\":10},\"id\":\"74327bac-d3b5-434a-8413-6c9284707fbf\",\"type\":\"OpenHead\"},{\"attributes\":{\"end\":{\"id\":\"52b1265d-b5a3-4a8e-ac7d-4058b0c5b6af\",\"type\":\"OpenHead\"},\"line_color\":{\"value\":\"gray\"},\"plot\":{\"id\":\"484110da-b044-4256-912b-d9049c8c082f\",\"subtype\":\"Figure\",\"type\":\"Plot\"},\"source\":null,\"start\":null,\"x_end\":{\"value\":0.07695081370776662},\"x_start\":{\"value\":0.057916196817420426},\"y_end\":{\"value\":-0.01381690606305775},\"y_start\":{\"value\":-0.10117115401756663}},\"id\":\"25847c2c-80f0-40ca-a3be-2418090916d8\",\"type\":\"Arrow\"},{\"attributes\":{\"line_color\":{\"value\":\"firebrick\"},\"line_width\":{\"value\":2},\"plot\":null,\"size\":10},\"id\":\"9e659b52-53e3-45a0-85ee-e5e8f070773a\",\"type\":\"OpenHead\"},{\"attributes\":{\"end\":{\"id\":\"74327bac-d3b5-434a-8413-6c9284707fbf\",\"type\":\"OpenHead\"},\"line_color\":{\"value\":\"gray\"},\"plot\":{\"id\":\"484110da-b044-4256-912b-d9049c8c082f\",\"subtype\":\"Figure\",\"type\":\"Plot\"},\"source\":null,\"start\":null,\"x_end\":{\"value\":0.044822273380206515},\"x_start\":{\"value\":0.07695081370776662},\"y_end\":{\"value\":-0.029465947887145405},\"y_start\":{\"value\":-0.01381690606305775}},\"id\":\"5e058b44-51be-45bf-8c0f-41e76f7e686c\",\"type\":\"Arrow\"},{\"attributes\":{\"line_color\":{\"value\":\"firebrick\"},\"line_width\":{\"value\":2},\"plot\":null,\"size\":10},\"id\":\"8a4fab15-f394-4335-8202-ecedc1bd4087\",\"type\":\"OpenHead\"},{\"attributes\":{\"end\":{\"id\":\"9e659b52-53e3-45a0-85ee-e5e8f070773a\",\"type\":\"OpenHead\"},\"line_color\":{\"value\":\"gray\"},\"plot\":{\"id\":\"484110da-b044-4256-912b-d9049c8c082f\",\"subtype\":\"Figure\",\"type\":\"Plot\"},\"source\":null,\"start\":null,\"x_end\":{\"value\":-0.23285697575555142},\"x_start\":{\"value\":0.044822273380206515},\"y_end\":{\"value\":-0.17769678484282667},\"y_start\":{\"value\":-0.029465947887145405}},\"id\":\"2b555f03-2ddb-4799-9d4e-ec89bfb818c0\",\"type\":\"Arrow\"},{\"attributes\":{\"line_color\":{\"value\":\"firebrick\"},\"line_width\":{\"value\":2},\"plot\":null,\"size\":10},\"id\":\"c3022428-4e4d-4750-ac50-3f0168a01e5d\",\"type\":\"OpenHead\"},{\"attributes\":{\"end\":{\"id\":\"8a4fab15-f394-4335-8202-ecedc1bd4087\",\"type\":\"OpenHead\"},\"line_color\":{\"value\":\"gray\"},\"plot\":{\"id\":\"484110da-b044-4256-912b-d9049c8c082f\",\"subtype\":\"Figure\",\"type\":\"Plot\"},\"source\":null,\"start\":null,\"x_end\":{\"value\":0.07261443332035752},\"x_start\":{\"value\":-0.23285697575555142},\"y_end\":{\"value\":0.016356292084848293},\"y_start\":{\"value\":-0.17769678484282667}},\"id\":\"901d4ffb-b802-4729-ac7e-841b423f258c\",\"type\":\"Arrow\"},{\"attributes\":{\"data_source\":{\"id\":\"c503438a-fe95-42a8-b3aa-96d0292594f6\",\"type\":\"ColumnDataSource\"},\"glyph\":{\"id\":\"4642be72-12b8-4b3b-a158-134f04323c55\",\"type\":\"Circle\"},\"hover_glyph\":null,\"muted_glyph\":null,\"name\":\"circle\",\"nonselection_glyph\":{\"id\":\"5f0a05ac-8fd1-43c4-8ef3-cc14f246c30f\",\"type\":\"Circle\"},\"selection_glyph\":null,\"view\":{\"id\":\"b61a95cd-0ed5-4d74-bb3d-b0115e36d0d8\",\"type\":\"CDSView\"}},\"id\":\"0c50090e-b8e4-486d-b19c-3e46e80ee110\",\"type\":\"GlyphRenderer\"},{\"attributes\":{\"end\":{\"id\":\"c3022428-4e4d-4750-ac50-3f0168a01e5d\",\"type\":\"OpenHead\"},\"line_color\":{\"value\":\"gray\"},\"plot\":{\"id\":\"484110da-b044-4256-912b-d9049c8c082f\",\"subtype\":\"Figure\",\"type\":\"Plot\"},\"source\":null,\"start\":null,\"x_end\":{\"value\":-0.014607863118992957},\"x_start\":{\"value\":0.07261443332035752},\"y_end\":{\"value\":-0.09063985812613698},\"y_start\":{\"value\":0.016356292084848293}},\"id\":\"15ccf059-41df-49b3-817f-9df62ea893d2\",\"type\":\"Arrow\"},{\"attributes\":{\"plot\":null,\"text\":\"\"},\"id\":\"fa811d88-1a20-4afd-adfa-9a5082443caa\",\"type\":\"Title\"},{\"attributes\":{\"source\":{\"id\":\"c503438a-fe95-42a8-b3aa-96d0292594f6\",\"type\":\"ColumnDataSource\"}},\"id\":\"b61a95cd-0ed5-4d74-bb3d-b0115e36d0d8\",\"type\":\"CDSView\"},{\"attributes\":{\"below\":[{\"id\":\"729f6eb6-46b8-4930-90aa-ebc62b3b709f\",\"type\":\"LinearAxis\"}],\"left\":[{\"id\":\"7467627b-43f6-4743-981d-77d355c9bd48\",\"type\":\"LinearAxis\"}],\"renderers\":[{\"id\":\"729f6eb6-46b8-4930-90aa-ebc62b3b709f\",\"type\":\"LinearAxis\"},{\"id\":\"6dd1012a-b90c-479d-a6e8-3ac2b0022d68\",\"type\":\"Grid\"},{\"id\":\"7467627b-43f6-4743-981d-77d355c9bd48\",\"type\":\"LinearAxis\"},{\"id\":\"658c3998-7ced-4be1-af62-b29a91d12d12\",\"type\":\"Grid\"},{\"id\":\"e09cd5aa-d236-4e61-a2d2-8bf8ec42d464\",\"type\":\"Arrow\"},{\"id\":\"27edc0d7-41c8-4924-8922-2ed8cebc441c\",\"type\":\"Arrow\"},{\"id\":\"38d32a31-00b1-4889-84a3-4e5e45817ac3\",\"type\":\"Arrow\"},{\"id\":\"e10dfdc3-7c13-4ec7-8957-76a291a0b905\",\"type\":\"Arrow\"},{\"id\":\"1560ccb1-9d52-4c7b-b0ac-fed932a33644\",\"type\":\"Arrow\"},{\"id\":\"6f6e80ba-6006-4152-8758-9d4605889413\",\"type\":\"Arrow\"},{\"id\":\"adf1af25-e2f3-4c66-84d1-575797c79938\",\"type\":\"Arrow\"},{\"id\":\"66c06d27-472e-4563-aa5e-5887502b33a2\",\"type\":\"Arrow\"},{\"id\":\"dea72b38-b0f5-4a68-9c87-01616693f50b\",\"type\":\"Arrow\"},{\"id\":\"45de2527-49c3-4efa-bf18-89e525b254f0\",\"type\":\"Arrow\"},{\"id\":\"13d6dd33-5b01-49b5-be09-968256715dd0\",\"type\":\"Arrow\"},{\"id\":\"308a4dd7-2078-4dcc-8e9d-307c194f8b21\",\"type\":\"Arrow\"},{\"id\":\"d920c24b-a805-499d-bc12-9d511dd10e3b\",\"type\":\"Arrow\"},{\"id\":\"cb38498d-2a86-4a5d-aab3-dd717df3ac1a\",\"type\":\"Arrow\"},{\"id\":\"17b90b04-2e20-4a48-bfb1-c34b5235e43d\",\"type\":\"Arrow\"},{\"id\":\"4c034ddc-8a88-4ce1-87a2-876a5feaac74\",\"type\":\"Arrow\"},{\"id\":\"10cd174c-5da4-407f-b0f3-1acc18b0e66d\",\"type\":\"Arrow\"},{\"id\":\"79ab0205-aae5-45bc-a882-813e4fad80fa\",\"type\":\"Arrow\"},{\"id\":\"d0ef4dc6-6bff-43a9-8ebe-6ca7bf432a73\",\"type\":\"Arrow\"},{\"id\":\"4b591f62-af88-438e-bf54-eab29892b34d\",\"type\":\"Arrow\"},{\"id\":\"bf44557f-3369-40b0-b73c-99234da9526e\",\"type\":\"Arrow\"},{\"id\":\"25847c2c-80f0-40ca-a3be-2418090916d8\",\"type\":\"Arrow\"},{\"id\":\"5e058b44-51be-45bf-8c0f-41e76f7e686c\",\"type\":\"Arrow\"},{\"id\":\"2b555f03-2ddb-4799-9d4e-ec89bfb818c0\",\"type\":\"Arrow\"},{\"id\":\"901d4ffb-b802-4729-ac7e-841b423f258c\",\"type\":\"Arrow\"},{\"id\":\"15ccf059-41df-49b3-817f-9df62ea893d2\",\"type\":\"Arrow\"},{\"id\":\"0c50090e-b8e4-486d-b19c-3e46e80ee110\",\"type\":\"GlyphRenderer\"},{\"id\":\"33eff6c5-f5c8-45cd-9cf7-2564b404837c\",\"type\":\"GlyphRenderer\"},{\"id\":\"e530e37f-65af-4915-92e8-c7fb8345ecc3\",\"type\":\"GlyphRenderer\"},{\"id\":\"6212e820-0f41-4e90-88b5-bba71efe11c2\",\"type\":\"GlyphRenderer\"},{\"id\":\"573e0108-5610-4fb4-a280-6f095f9ca040\",\"type\":\"GlyphRenderer\"},{\"id\":\"5523d59e-b80f-47de-a5c1-51dc318d127d\",\"type\":\"GlyphRenderer\"}],\"title\":{\"id\":\"fa811d88-1a20-4afd-adfa-9a5082443caa\",\"type\":\"Title\"},\"toolbar\":{\"id\":\"1b71c75f-b049-46e2-aa4f-6c16160ee2b7\",\"type\":\"Toolbar\"},\"x_range\":{\"id\":\"6109233d-7bdb-4b12-8b7e-80c94729a206\",\"type\":\"DataRange1d\"},\"x_scale\":{\"id\":\"39cc55f3-41f7-4ed7-a320-dbd485de0c6a\",\"type\":\"LinearScale\"},\"y_range\":{\"id\":\"98ab61ad-2373-4db9-883e-a037ae04bc32\",\"type\":\"DataRange1d\"},\"y_scale\":{\"id\":\"e7fdc9db-f496-40bb-8dbe-243ad0f2b339\",\"type\":\"LinearScale\"}},\"id\":\"484110da-b044-4256-912b-d9049c8c082f\",\"subtype\":\"Figure\",\"type\":\"Plot\"},{\"attributes\":{},\"id\":\"450cbea6-7691-4cd3-953a-898f2d887625\",\"type\":\"BasicTickFormatter\"},{\"attributes\":{\"callback\":null,\"names\":[\"circle\"],\"tooltips\":[[\"true action\",\"@desc\"],[\"prediction\",\"@pred\"],[\"not_skip_gate\",\"@not_skip\"]]},\"id\":\"27df58a0-0a8d-4711-ab6f-45df7941078e\",\"type\":\"HoverTool\"},{\"attributes\":{\"fill_alpha\":{\"value\":0.1},\"fill_color\":{\"value\":\"#1f77b4\"},\"line_alpha\":{\"value\":0.1},\"line_color\":{\"value\":\"#1f77b4\"},\"size\":{\"units\":\"screen\",\"value\":10},\"x\":{\"field\":\"x\"},\"y\":{\"field\":\"y\"}},\"id\":\"5f0a05ac-8fd1-43c4-8ef3-cc14f246c30f\",\"type\":\"Circle\"},{\"attributes\":{\"data_source\":{\"id\":\"6a1044a0-f7f7-45a1-ae5f-0427679cd01d\",\"type\":\"ColumnDataSource\"},\"glyph\":{\"id\":\"9a332eff-2896-4d43-98a0-05e1df33e13f\",\"type\":\"Circle\"},\"hover_glyph\":null,\"muted_glyph\":null,\"name\":\"circle\",\"nonselection_glyph\":{\"id\":\"bd854c1e-25a7-4007-8dba-3028c5f3955c\",\"type\":\"Circle\"},\"selection_glyph\":null,\"view\":{\"id\":\"ec05d715-f7f4-42a7-a2cb-65fe9de6bd7d\",\"type\":\"CDSView\"}},\"id\":\"e530e37f-65af-4915-92e8-c7fb8345ecc3\",\"type\":\"GlyphRenderer\"},{\"attributes\":{\"callback\":null},\"id\":\"6109233d-7bdb-4b12-8b7e-80c94729a206\",\"type\":\"DataRange1d\"},{\"attributes\":{\"callback\":null},\"id\":\"98ab61ad-2373-4db9-883e-a037ae04bc32\",\"type\":\"DataRange1d\"},{\"attributes\":{\"source\":{\"id\":\"766d994e-2d2b-491f-9da5-cff0b7be49ee\",\"type\":\"ColumnDataSource\"}},\"id\":\"48393e1d-c416-455f-8050-58f23163c1e3\",\"type\":\"CDSView\"},{\"attributes\":{\"line_color\":{\"value\":\"firebrick\"},\"line_width\":{\"value\":2},\"plot\":null,\"size\":10},\"id\":\"5fcb7a08-8632-4a4b-8a58-b9e63432dab6\",\"type\":\"OpenHead\"},{\"attributes\":{\"callback\":null,\"data\":{},\"selected\":null,\"selection_policy\":null},\"id\":\"be8e77ae-b3d0-45af-ab54-08613fab176a\",\"type\":\"ColumnDataSource\"},{\"attributes\":{\"line_color\":{\"value\":\"firebrick\"},\"line_width\":{\"value\":2},\"plot\":null,\"size\":10},\"id\":\"2e6575cb-735a-4754-b224-dd3417b1b31e\",\"type\":\"OpenHead\"},{\"attributes\":{\"fill_color\":{\"value\":\"magenta\"},\"line_color\":{\"value\":\"magenta\"},\"size\":{\"units\":\"screen\",\"value\":5},\"x\":{\"value\":0.08714701482274484},\"y\":{\"value\":-0.004280495349866128}},\"id\":\"832d6a5a-3b8f-4c37-abd6-62450a2f244b\",\"type\":\"Circle\"},{\"attributes\":{\"callback\":null,\"column_names\":[\"x\",\"y\",\"desc\",\"pred\",\"not_skip\"],\"data\":{\"desc\":[\"    - utter_ask_details\",\"    - utter_explain_details_hotel\",\"    - utter_ask_details\",\"    - utter_chitchat\",\"    - utter_ask_details\",\"    - utter_ask_startdate\",\"    - utter_ask_location\",\"    - utter_explain_location_hotel\",\"    - utter_ask_location\",\"    - utter_ask_price\",\"    - utter_chitchat\",\"    - utter_ask_price\",\"    - utter_chitchat\",\"    - utter_ask_price\",\"    - utter_chitchat\",\"    - utter_ask_price\",\"    - utter_chitchat\",\"    - utter_ask_price\",\"    - utter_explain_price_hotel\",\"    - utter_ask_price\",\"    - utter_ask_people\",\"    - utter_filled_slots\",\"    - action_search_hotel\",\"    - utter_suggest_hotel\",\"    - utter_chitchat\",\"    - utter_suggest_hotel\",\"    - utter_happy\"],\"not_skip\":[{\"__ndarray__\":\"cdMGOw==\",\"dtype\":\"float32\",\"shape\":[1]},{\"__ndarray__\":\"s/ULPQ==\",\"dtype\":\"float32\",\"shape\":[1]},{\"__ndarray__\":\"iWEPPQ==\",\"dtype\":\"float32\",\"shape\":[1]},{\"__ndarray__\":\"HsKxPA==\",\"dtype\":\"float32\",\"shape\":[1]},{\"__ndarray__\":\"Co4MPQ==\",\"dtype\":\"float32\",\"shape\":[1]},{\"__ndarray__\":\"BFh8Pw==\",\"dtype\":\"float32\",\"shape\":[1]},{\"__ndarray__\":\"9VV6Pw==\",\"dtype\":\"float32\",\"shape\":[1]},{\"__ndarray__\":\"wfkJPQ==\",\"dtype\":\"float32\",\"shape\":[1]},{\"__ndarray__\":\"FRQuPQ==\",\"dtype\":\"float32\",\"shape\":[1]},{\"__ndarray__\":\"M718Pw==\",\"dtype\":\"float32\",\"shape\":[1]},{\"__ndarray__\":\"yTCvPA==\",\"dtype\":\"float32\",\"shape\":[1]},{\"__ndarray__\":\"eGYPPQ==\",\"dtype\":\"float32\",\"shape\":[1]},{\"__ndarray__\":\"dMm2PA==\",\"dtype\":\"float32\",\"shape\":[1]},{\"__ndarray__\":\"u5EPPQ==\",\"dtype\":\"float32\",\"shape\":[1]},{\"__ndarray__\":\"k561PA==\",\"dtype\":\"float32\",\"shape\":[1]},{\"__ndarray__\":\"SaIOPQ==\",\"dtype\":\"float32\",\"shape\":[1]},{\"__ndarray__\":\"T9y0PA==\",\"dtype\":\"float32\",\"shape\":[1]},{\"__ndarray__\":\"CwIOPQ==\",\"dtype\":\"float32\",\"shape\":[1]},{\"__ndarray__\":\"8XELPQ==\",\"dtype\":\"float32\",\"shape\":[1]},{\"__ndarray__\":\"uWg0PQ==\",\"dtype\":\"float32\",\"shape\":[1]},{\"__ndarray__\":\"aMF7Pw==\",\"dtype\":\"float32\",\"shape\":[1]},{\"__ndarray__\":\"Eyd1Pw==\",\"dtype\":\"float32\",\"shape\":[1]},{\"__ndarray__\":\"A/VhPQ==\",\"dtype\":\"float32\",\"shape\":[1]},{\"__ndarray__\":\"p5cSPQ==\",\"dtype\":\"float32\",\"shape\":[1]},{\"__ndarray__\":\"PUCnPA==\",\"dtype\":\"float32\",\"shape\":[1]},{\"__ndarray__\":\"y/YCPQ==\",\"dtype\":\"float32\",\"shape\":[1]},{\"__ndarray__\":\"/X2/PQ==\",\"dtype\":\"float32\",\"shape\":[1]}],\"pred\":[\"utter_ask_details\",\"utter_explain_details_hotel\",\"utter_ask_details\",\"utter_chitchat\",\"utter_ask_details\",\"utter_ask_startdate\",\"utter_ask_location\",\"utter_explain_location_hotel\",\"utter_ask_location\",\"utter_ask_price\",\"utter_chitchat\",\"utter_ask_price\",\"utter_chitchat\",\"utter_ask_price\",\"utter_chitchat\",\"utter_ask_price\",\"utter_chitchat\",\"utter_ask_price\",\"utter_explain_price_hotel\",\"utter_ask_price\",\"utter_ask_people\",\"utter_filled_slots\",\"action_search_hotel\",\"utter_suggest_hotel\",\"utter_chitchat\",\"utter_suggest_hotel\",\"utter_happy\"],\"x\":{\"__ndarray__\":\"l3094el9yj8xldo/+r/QP3uBghuLk8g/R/YBonNfuL/967CvTTTJPzLEbnBkFbc/2mqVURVdpj/SJ+7zQ09QP2eLVr3oBZK/0Ft7Qil3c78qcD/8LGbKv2CBdbCYAkO/8ES7Vz6uyb/RASrZampZvxxNUrx1uMq/lUi6pCYHa79EbT/Frl/Lv/GO+7kdTnq/DU3kf8LVp7+TKTYW2uypvyk9Lb+9G64/XqJ6FjGnrT+jg0ZsDLOzP5LImezx8qY/0P3B40HOzb8eGVQI3JayP/JX4jK66o2/\",\"dtype\":\"float64\",\"shape\":[27]},\"y\":{\"__ndarray__\":\"+iVbfia5tr8C93ydAJuuv+81NKeF4qm/V+Gxm/Qzwb/+coEFCterv78xY6iAuU+/0UHJqihFtb+epWLVK023v4IoeSL9sau/2uoSsQbMxz9bvBMFBQOiv48Jlm75Zsg/e/2/lj2OqL9yBu6ulmLGPx5GFboHiam/gCxIgoSBxT/Co02HlEuqv7pvpqC0NMU/NwzF1bcPyz+nDN95BIHKPxMB30dSE7u/wtTNTVrmub8ExGG9CUyMv6BuFUpSLJ6/i4zAq8S+xr9xXVoutL+QP5KnXXosNLe/\",\"dtype\":\"float64\",\"shape\":[27]}},\"selected\":null,\"selection_policy\":null},\"id\":\"c503438a-fe95-42a8-b3aa-96d0292594f6\",\"type\":\"ColumnDataSource\"},{\"attributes\":{\"active_drag\":\"auto\",\"active_inspect\":\"auto\",\"active_scroll\":\"auto\",\"active_tap\":\"auto\",\"tools\":[{\"id\":\"27df58a0-0a8d-4711-ab6f-45df7941078e\",\"type\":\"HoverTool\"}]},\"id\":\"1b71c75f-b049-46e2-aa4f-6c16160ee2b7\",\"type\":\"Toolbar\"},{\"attributes\":{\"callback\":null,\"column_names\":[\"x\",\"y\",\"desc\",\"pred\",\"not_skip\"],\"data\":{\"desc\":[\"    - utter_ask_details\",\"    - utter_explain_details_hotel\",\"    - utter_ask_details\",\"    - utter_chitchat\",\"    - utter_ask_details\",\"    - utter_ask_startdate\",\"    - utter_ask_location\",\"    - utter_explain_location_hotel\",\"    - utter_ask_location\",\"    - utter_ask_price\",\"    - utter_chitchat\",\"    - utter_ask_price\",\"    - utter_chitchat\",\"    - utter_ask_price\",\"    - utter_chitchat\",\"    - utter_ask_price\",\"    - utter_chitchat\",\"    - utter_ask_price\",\"    - utter_explain_price_hotel\",\"    - utter_ask_price\",\"    - utter_ask_people\",\"    - utter_filled_slots\",\"    - action_search_hotel\",\"    - utter_suggest_hotel\",\"    - utter_chitchat\",\"    - utter_suggest_hotel\",\"    - utter_happy\"],\"not_skip\":[{\"__ndarray__\":\"cdMGOw==\",\"dtype\":\"float32\",\"shape\":[1]},{\"__ndarray__\":\"s/ULPQ==\",\"dtype\":\"float32\",\"shape\":[1]},{\"__ndarray__\":\"iWEPPQ==\",\"dtype\":\"float32\",\"shape\":[1]},{\"__ndarray__\":\"HsKxPA==\",\"dtype\":\"float32\",\"shape\":[1]},{\"__ndarray__\":\"Co4MPQ==\",\"dtype\":\"float32\",\"shape\":[1]},{\"__ndarray__\":\"BFh8Pw==\",\"dtype\":\"float32\",\"shape\":[1]},{\"__ndarray__\":\"9VV6Pw==\",\"dtype\":\"float32\",\"shape\":[1]},{\"__ndarray__\":\"wfkJPQ==\",\"dtype\":\"float32\",\"shape\":[1]},{\"__ndarray__\":\"FRQuPQ==\",\"dtype\":\"float32\",\"shape\":[1]},{\"__ndarray__\":\"M718Pw==\",\"dtype\":\"float32\",\"shape\":[1]},{\"__ndarray__\":\"yTCvPA==\",\"dtype\":\"float32\",\"shape\":[1]},{\"__ndarray__\":\"eGYPPQ==\",\"dtype\":\"float32\",\"shape\":[1]},{\"__ndarray__\":\"dMm2PA==\",\"dtype\":\"float32\",\"shape\":[1]},{\"__ndarray__\":\"u5EPPQ==\",\"dtype\":\"float32\",\"shape\":[1]},{\"__ndarray__\":\"k561PA==\",\"dtype\":\"float32\",\"shape\":[1]},{\"__ndarray__\":\"SaIOPQ==\",\"dtype\":\"float32\",\"shape\":[1]},{\"__ndarray__\":\"T9y0PA==\",\"dtype\":\"float32\",\"shape\":[1]},{\"__ndarray__\":\"CwIOPQ==\",\"dtype\":\"float32\",\"shape\":[1]},{\"__ndarray__\":\"8XELPQ==\",\"dtype\":\"float32\",\"shape\":[1]},{\"__ndarray__\":\"uWg0PQ==\",\"dtype\":\"float32\",\"shape\":[1]},{\"__ndarray__\":\"aMF7Pw==\",\"dtype\":\"float32\",\"shape\":[1]},{\"__ndarray__\":\"Eyd1Pw==\",\"dtype\":\"float32\",\"shape\":[1]},{\"__ndarray__\":\"A/VhPQ==\",\"dtype\":\"float32\",\"shape\":[1]},{\"__ndarray__\":\"p5cSPQ==\",\"dtype\":\"float32\",\"shape\":[1]},{\"__ndarray__\":\"PUCnPA==\",\"dtype\":\"float32\",\"shape\":[1]},{\"__ndarray__\":\"y/YCPQ==\",\"dtype\":\"float32\",\"shape\":[1]},{\"__ndarray__\":\"/X2/PQ==\",\"dtype\":\"float32\",\"shape\":[1]}],\"pred\":[\"utter_ask_details\",\"utter_explain_details_hotel\",\"utter_ask_details\",\"utter_chitchat\",\"utter_ask_details\",\"utter_ask_startdate\",\"utter_ask_location\",\"utter_explain_location_hotel\",\"utter_ask_location\",\"utter_ask_price\",\"utter_chitchat\",\"utter_ask_price\",\"utter_chitchat\",\"utter_ask_price\",\"utter_chitchat\",\"utter_ask_price\",\"utter_chitchat\",\"utter_ask_price\",\"utter_explain_price_hotel\",\"utter_ask_price\",\"utter_ask_people\",\"utter_filled_slots\",\"action_search_hotel\",\"utter_suggest_hotel\",\"utter_chitchat\",\"utter_suggest_hotel\",\"utter_happy\"],\"x\":{\"__ndarray__\":\"2OQxiRGMwj/d+HUJ+BLLP/vFxzxHq8s/82qYxzwtvT/S93/mCyzMP0LLKYlUXsk/PVivMog6xz+MXmgE1LeYP30ruYrMtp4/UGHwLngoxT+JfzHDrguoP6Nd//wU5Z0/LBI5VKUDqz+J2XaaIaWiP7cZvvE2H6o/mYNQfk4foz/fKthUz5KpPwK1wnrwraI/IpQ+K9hzjb9GuPhN73NtP3dpVf8tp8U/5BpHDrWwxD8yjx0WQH3CP1mUt7l9M8Q/QFRsMC1vtj8hsESo4NXAP1+segVMGcU/\",\"dtype\":\"float64\",\"shape\":[27]},\"y\":{\"__ndarray__\":\"JUMxWJ7svr+Kx9LFhuu1vwy3LlNc8bW/G5uiRBE0lr8O3UiRFH21vx42JWtop7G/9vm58Kd7tL8WfJwuSRy1v7XkV13xl7S/GjLJ9P5Ysr8NLMPc4ha2PxxrbLOkvsM/SsyNoX+8sj9uKmX39zXCP0t2OCoMvrM/eyuB6RngwT/SSig7JVy0P84wpxvDBsI/LtBZPj27zD+mDtjwk/vIPz8gXeWp+bG/5Wb4b4rtrb8ZxXvek16av/xfd03y0KG/jZ8mj7sjcL+hSe4aa9g6P3uNt8Atqqi/\",\"dtype\":\"float64\",\"shape\":[27]}},\"selected\":null,\"selection_policy\":null},\"id\":\"6a6fa796-3b6e-4429-b7cc-8e23047ca497\",\"type\":\"ColumnDataSource\"},{\"attributes\":{\"source\":{\"id\":\"6a6fa796-3b6e-4429-b7cc-8e23047ca497\",\"type\":\"ColumnDataSource\"}},\"id\":\"a026b0e0-60b9-4232-bde6-7ff497b6d662\",\"type\":\"CDSView\"},{\"attributes\":{},\"id\":\"e7fdc9db-f496-40bb-8dbe-243ad0f2b339\",\"type\":\"LinearScale\"},{\"attributes\":{\"fill_color\":{\"value\":\"green\"},\"line_color\":{\"value\":\"green\"},\"size\":{\"units\":\"screen\",\"value\":5},\"x\":{\"field\":\"x\"},\"y\":{\"field\":\"y\"}},\"id\":\"84b9bedf-99a9-4ac0-9038-0d9cca54b7e9\",\"type\":\"Circle\"},{\"attributes\":{},\"id\":\"39cc55f3-41f7-4ed7-a320-dbd485de0c6a\",\"type\":\"LinearScale\"},{\"attributes\":{\"fill_alpha\":{\"value\":0.1},\"fill_color\":{\"value\":\"#1f77b4\"},\"line_alpha\":{\"value\":0.1},\"line_color\":{\"value\":\"#1f77b4\"},\"size\":{\"units\":\"screen\",\"value\":5},\"x\":{\"field\":\"x\"},\"y\":{\"field\":\"y\"}},\"id\":\"0f844e5e-de01-4de5-8de4-391a4cf7f375\",\"type\":\"Circle\"},{\"attributes\":{\"end\":{\"id\":\"5fcb7a08-8632-4a4b-8a58-b9e63432dab6\",\"type\":\"OpenHead\"},\"line_color\":{\"value\":\"gray\"},\"plot\":{\"id\":\"484110da-b044-4256-912b-d9049c8c082f\",\"subtype\":\"Figure\",\"type\":\"Plot\"},\"source\":null,\"start\":null,\"x_end\":{\"value\":0.2617173789570471},\"x_start\":{\"value\":0.2069675779157307},\"y_end\":{\"value\":-0.05977632448637672},\"y_start\":{\"value\":-0.088762670372624}},\"id\":\"e09cd5aa-d236-4e61-a2d2-8bf8ec42d464\",\"type\":\"Arrow\"},{\"attributes\":{\"formatter\":{\"id\":\"50c54de6-51e9-4429-945b-08db3a2f6d12\",\"type\":\"BasicTickFormatter\"},\"plot\":{\"id\":\"484110da-b044-4256-912b-d9049c8c082f\",\"subtype\":\"Figure\",\"type\":\"Plot\"},\"ticker\":{\"id\":\"d3d7dc58-b2cf-43ee-9be7-6f03dcf9b4b0\",\"type\":\"BasicTicker\"}},\"id\":\"729f6eb6-46b8-4930-90aa-ebc62b3b709f\",\"type\":\"LinearAxis\"},{\"attributes\":{\"source\":{\"id\":\"6a1044a0-f7f7-45a1-ae5f-0427679cd01d\",\"type\":\"ColumnDataSource\"}},\"id\":\"ec05d715-f7f4-42a7-a2cb-65fe9de6bd7d\",\"type\":\"CDSView\"},{\"attributes\":{\"plot\":{\"id\":\"484110da-b044-4256-912b-d9049c8c082f\",\"subtype\":\"Figure\",\"type\":\"Plot\"},\"ticker\":{\"id\":\"d3d7dc58-b2cf-43ee-9be7-6f03dcf9b4b0\",\"type\":\"BasicTicker\"}},\"id\":\"6dd1012a-b90c-479d-a6e8-3ac2b0022d68\",\"type\":\"Grid\"},{\"attributes\":{\"callback\":null,\"column_names\":[\"x\",\"y\",\"desc\",\"pred\",\"not_skip\"],\"data\":{\"desc\":[\"    - utter_ask_details\",\"    - utter_explain_details_hotel\",\"    - utter_ask_details\",\"    - utter_chitchat\",\"    - utter_ask_details\",\"    - utter_ask_startdate\",\"    - utter_ask_location\",\"    - utter_explain_location_hotel\",\"    - utter_ask_location\",\"    - utter_ask_price\",\"    - utter_chitchat\",\"    - utter_ask_price\",\"    - utter_chitchat\",\"    - utter_ask_price\",\"    - utter_chitchat\",\"    - utter_ask_price\",\"    - utter_chitchat\",\"    - utter_ask_price\",\"    - utter_explain_price_hotel\",\"    - utter_ask_price\",\"    - utter_ask_people\",\"    - utter_filled_slots\",\"    - action_search_hotel\",\"    - utter_suggest_hotel\",\"    - utter_chitchat\",\"    - utter_suggest_hotel\",\"    - utter_happy\"],\"not_skip\":[{\"__ndarray__\":\"cdMGOw==\",\"dtype\":\"float32\",\"shape\":[1]},{\"__ndarray__\":\"s/ULPQ==\",\"dtype\":\"float32\",\"shape\":[1]},{\"__ndarray__\":\"iWEPPQ==\",\"dtype\":\"float32\",\"shape\":[1]},{\"__ndarray__\":\"HsKxPA==\",\"dtype\":\"float32\",\"shape\":[1]},{\"__ndarray__\":\"Co4MPQ==\",\"dtype\":\"float32\",\"shape\":[1]},{\"__ndarray__\":\"BFh8Pw==\",\"dtype\":\"float32\",\"shape\":[1]},{\"__ndarray__\":\"9VV6Pw==\",\"dtype\":\"float32\",\"shape\":[1]},{\"__ndarray__\":\"wfkJPQ==\",\"dtype\":\"float32\",\"shape\":[1]},{\"__ndarray__\":\"FRQuPQ==\",\"dtype\":\"float32\",\"shape\":[1]},{\"__ndarray__\":\"M718Pw==\",\"dtype\":\"float32\",\"shape\":[1]},{\"__ndarray__\":\"yTCvPA==\",\"dtype\":\"float32\",\"shape\":[1]},{\"__ndarray__\":\"eGYPPQ==\",\"dtype\":\"float32\",\"shape\":[1]},{\"__ndarray__\":\"dMm2PA==\",\"dtype\":\"float32\",\"shape\":[1]},{\"__ndarray__\":\"u5EPPQ==\",\"dtype\":\"float32\",\"shape\":[1]},{\"__ndarray__\":\"k561PA==\",\"dtype\":\"float32\",\"shape\":[1]},{\"__ndarray__\":\"SaIOPQ==\",\"dtype\":\"float32\",\"shape\":[1]},{\"__ndarray__\":\"T9y0PA==\",\"dtype\":\"float32\",\"shape\":[1]},{\"__ndarray__\":\"CwIOPQ==\",\"dtype\":\"float32\",\"shape\":[1]},{\"__ndarray__\":\"8XELPQ==\",\"dtype\":\"float32\",\"shape\":[1]},{\"__ndarray__\":\"uWg0PQ==\",\"dtype\":\"float32\",\"shape\":[1]},{\"__ndarray__\":\"aMF7Pw==\",\"dtype\":\"float32\",\"shape\":[1]},{\"__ndarray__\":\"Eyd1Pw==\",\"dtype\":\"float32\",\"shape\":[1]},{\"__ndarray__\":\"A/VhPQ==\",\"dtype\":\"float32\",\"shape\":[1]},{\"__ndarray__\":\"p5cSPQ==\",\"dtype\":\"float32\",\"shape\":[1]},{\"__ndarray__\":\"PUCnPA==\",\"dtype\":\"float32\",\"shape\":[1]},{\"__ndarray__\":\"y/YCPQ==\",\"dtype\":\"float32\",\"shape\":[1]},{\"__ndarray__\":\"/X2/PQ==\",\"dtype\":\"float32\",\"shape\":[1]}],\"pred\":[\"utter_ask_details\",\"utter_explain_details_hotel\",\"utter_ask_details\",\"utter_chitchat\",\"utter_ask_details\",\"utter_ask_startdate\",\"utter_ask_location\",\"utter_explain_location_hotel\",\"utter_ask_location\",\"utter_ask_price\",\"utter_chitchat\",\"utter_ask_price\",\"utter_chitchat\",\"utter_ask_price\",\"utter_chitchat\",\"utter_ask_price\",\"utter_chitchat\",\"utter_ask_price\",\"utter_explain_price_hotel\",\"utter_ask_price\",\"utter_ask_people\",\"utter_filled_slots\",\"action_search_hotel\",\"utter_suggest_hotel\",\"utter_chitchat\",\"utter_suggest_hotel\",\"utter_happy\"],\"x\":{\"__ndarray__\":\"ETICfnoZwz8FnDiXnpTBP2cJugPMH7A/LFlkJGw9v7+0el7fx1+wP6Io9DUBYJW/uBei5ILuqb98IqpdjGKwP/JLp+gtQKQ/l5GSrB45tb89Y1CDdkHFv9/XWK3zX60/mmyRhoVHxb/QQ6uZEy6pP8JsYFShGMa/3/9nmsfOpz/6BahrwJzGvzOAYVbUpqY/RFVTIrwlrD+bfMuEb9qgPxw6KWLjxJe/bG8s9DT6kL8BMW44Qh+UP1OK86X4eJq/Sa//Sjbezb9L8B8sfOmcP4qG1ReroLe/\",\"dtype\":\"float64\",\"shape\":[27]},\"y\":{\"__ndarray__\":\"sMx0FsRrnD8z0neh/hWWP+xOEM9Knp8/3j2wrGvzvb/vGucxI+SZPxhatKVuT7A/BTYD9Hcgfr/WOpB3S0uKvz6zKCWwmZY/gvgeYyE20D9yt2QMdhjAv4fuH1xFcKA/a3DJnxIOwL8HW8KI2gKdPyXi1GSLzcC/UrZQozmpmD/+UkEfO03Bv51a6h5xDZU/Xaeamka+kb+X5s2cpCV/PyaRhlReZKS/wAs31jcQqL+aLNc3z1l/P08Jw81yN1E/BSi8L+rJxr8iGEMXb+SHPzGC4Ns476e/\",\"dtype\":\"float64\",\"shape\":[27]}},\"selected\":null,\"selection_policy\":null},\"id\":\"6a1044a0-f7f7-45a1-ae5f-0427679cd01d\",\"type\":\"ColumnDataSource\"},{\"attributes\":{},\"id\":\"d3d7dc58-b2cf-43ee-9be7-6f03dcf9b4b0\",\"type\":\"BasicTicker\"},{\"attributes\":{\"fill_color\":{\"value\":\"green\"},\"line_color\":{\"value\":\"green\"},\"size\":{\"units\":\"screen\",\"value\":10},\"x\":{\"value\":0.2069675779157307},\"y\":{\"value\":-0.088762670372624}},\"id\":\"f0db527a-9db6-4d3c-b853-c2a6c135236f\",\"type\":\"Circle\"},{\"attributes\":{\"formatter\":{\"id\":\"450cbea6-7691-4cd3-953a-898f2d887625\",\"type\":\"BasicTickFormatter\"},\"plot\":{\"id\":\"484110da-b044-4256-912b-d9049c8c082f\",\"subtype\":\"Figure\",\"type\":\"Plot\"},\"ticker\":{\"id\":\"36708252-cfc2-43cb-8961-4f5410b943d8\",\"type\":\"BasicTicker\"}},\"id\":\"7467627b-43f6-4743-981d-77d355c9bd48\",\"type\":\"LinearAxis\"},{\"attributes\":{\"callback\":null,\"data\":{},\"selected\":null,\"selection_policy\":null},\"id\":\"766d994e-2d2b-491f-9da5-cff0b7be49ee\",\"type\":\"ColumnDataSource\"},{\"attributes\":{},\"id\":\"36708252-cfc2-43cb-8961-4f5410b943d8\",\"type\":\"BasicTicker\"},{\"attributes\":{\"fill_color\":{\"value\":\"red\"},\"line_color\":{\"value\":\"red\"},\"size\":{\"units\":\"screen\",\"value\":5},\"x\":{\"field\":\"x\"},\"y\":{\"field\":\"y\"}},\"id\":\"9a332eff-2896-4d43-98a0-05e1df33e13f\",\"type\":\"Circle\"},{\"attributes\":{\"dimension\":1,\"plot\":{\"id\":\"484110da-b044-4256-912b-d9049c8c082f\",\"subtype\":\"Figure\",\"type\":\"Plot\"},\"ticker\":{\"id\":\"36708252-cfc2-43cb-8961-4f5410b943d8\",\"type\":\"BasicTicker\"}},\"id\":\"658c3998-7ced-4be1-af62-b29a91d12d12\",\"type\":\"Grid\"},{\"attributes\":{\"fill_alpha\":{\"value\":0.1},\"fill_color\":{\"value\":\"#1f77b4\"},\"line_alpha\":{\"value\":0.1},\"line_color\":{\"value\":\"#1f77b4\"},\"size\":{\"units\":\"screen\",\"value\":5},\"x\":{\"field\":\"x\"},\"y\":{\"field\":\"y\"}},\"id\":\"bd854c1e-25a7-4007-8dba-3028c5f3955c\",\"type\":\"Circle\"},{\"attributes\":{\"data_source\":{\"id\":\"be8e77ae-b3d0-45af-ab54-08613fab176a\",\"type\":\"ColumnDataSource\"},\"glyph\":{\"id\":\"832d6a5a-3b8f-4c37-abd6-62450a2f244b\",\"type\":\"Circle\"},\"hover_glyph\":null,\"muted_glyph\":null,\"nonselection_glyph\":{\"id\":\"0e3ee12a-0448-40a9-8d8f-7bbb56be9e0c\",\"type\":\"Circle\"},\"selection_glyph\":null,\"view\":{\"id\":\"17e3bcc4-7d88-45cf-b40c-5ed39e9b9215\",\"type\":\"CDSView\"}},\"id\":\"6212e820-0f41-4e90-88b5-bba71efe11c2\",\"type\":\"GlyphRenderer\"},{\"attributes\":{\"line_color\":{\"value\":\"firebrick\"},\"line_width\":{\"value\":2},\"plot\":null,\"size\":10},\"id\":\"49825f2d-332c-42f2-96cc-b2b83cd0b6e5\",\"type\":\"OpenHead\"},{\"attributes\":{\"line_color\":{\"value\":\"firebrick\"},\"line_width\":{\"value\":2},\"plot\":null,\"size\":10},\"id\":\"9c1d77f3-0298-4c24-a51b-d6b840a3f079\",\"type\":\"OpenHead\"},{\"attributes\":{\"fill_alpha\":{\"value\":0.1},\"fill_color\":{\"value\":\"#1f77b4\"},\"line_alpha\":{\"value\":0.1},\"line_color\":{\"value\":\"#1f77b4\"},\"size\":{\"units\":\"screen\",\"value\":5},\"x\":{\"value\":0.08714701482274484},\"y\":{\"value\":-0.004280495349866128}},\"id\":\"0e3ee12a-0448-40a9-8d8f-7bbb56be9e0c\",\"type\":\"Circle\"},{\"attributes\":{\"end\":{\"id\":\"abf69eff-4823-4c56-b8b8-48d32d18fe2f\",\"type\":\"OpenHead\"},\"line_color\":{\"value\":\"gray\"},\"plot\":{\"id\":\"484110da-b044-4256-912b-d9049c8c082f\",\"subtype\":\"Figure\",\"type\":\"Plot\"},\"source\":null,\"start\":null,\"x_end\":{\"value\":-0.0032993082766746376},\"x_start\":{\"value\":-0.20875426955590448},\"y_end\":{\"value\":0.16801506387159648},\"y_start\":{\"value\":-0.04987358232996207}},\"id\":\"17b90b04-2e20-4a48-bfb1-c34b5235e43d\",\"type\":\"Arrow\"},{\"attributes\":{\"source\":{\"id\":\"be8e77ae-b3d0-45af-ab54-08613fab176a\",\"type\":\"ColumnDataSource\"}},\"id\":\"17e3bcc4-7d88-45cf-b40c-5ed39e9b9215\",\"type\":\"CDSView\"},{\"attributes\":{\"end\":{\"id\":\"986f5286-b853-4d1d-a4d8-8050de876ba4\",\"type\":\"OpenHead\"},\"line_color\":{\"value\":\"gray\"},\"plot\":{\"id\":\"484110da-b044-4256-912b-d9049c8c082f\",\"subtype\":\"Figure\",\"type\":\"Plot\"},\"source\":null,\"start\":null,\"x_end\":{\"value\":-0.21385750418890315},\"x_start\":{\"value\":-0.0032993082766746376},\"y_end\":{\"value\":-0.051357881084932014},\"y_start\":{\"value\":0.16801506387159648}},\"id\":\"4c034ddc-8a88-4ce1-87a2-876a5feaac74\",\"type\":\"Arrow\"},{\"attributes\":{\"fill_alpha\":{\"value\":0.1},\"fill_color\":{\"value\":\"#1f77b4\"},\"line_alpha\":{\"value\":0.1},\"line_color\":{\"value\":\"#1f77b4\"},\"size\":{\"units\":\"screen\",\"value\":10},\"x\":{\"value\":0.2069675779157307},\"y\":{\"value\":-0.088762670372624}},\"id\":\"33a9b85d-a3d8-4a4b-8c2c-89393059c78e\",\"type\":\"Circle\"},{\"attributes\":{\"end\":{\"id\":\"2e6575cb-735a-4754-b224-dd3417b1b31e\",\"type\":\"OpenHead\"},\"line_color\":{\"value\":\"gray\"},\"plot\":{\"id\":\"484110da-b044-4256-912b-d9049c8c082f\",\"subtype\":\"Figure\",\"type\":\"Plot\"},\"source\":null,\"start\":null,\"x_end\":{\"value\":0.19200266688586595},\"x_start\":{\"value\":0.2617173789570471},\"y_end\":{\"value\":-0.050556351338041476},\"y_start\":{\"value\":-0.05977632448637672}},\"id\":\"27edc0d7-41c8-4924-8922-2ed8cebc441c\",\"type\":\"Arrow\"},{\"attributes\":{\"callback\":null,\"data\":{},\"selected\":null,\"selection_policy\":null},\"id\":\"3434e11b-944c-4d33-b3f5-2dac24c2f3b2\",\"type\":\"ColumnDataSource\"},{\"attributes\":{\"data_source\":{\"id\":\"766d994e-2d2b-491f-9da5-cff0b7be49ee\",\"type\":\"ColumnDataSource\"},\"glyph\":{\"id\":\"f0db527a-9db6-4d3c-b853-c2a6c135236f\",\"type\":\"Circle\"},\"hover_glyph\":null,\"muted_glyph\":null,\"nonselection_glyph\":{\"id\":\"33a9b85d-a3d8-4a4b-8c2c-89393059c78e\",\"type\":\"Circle\"},\"selection_glyph\":null,\"view\":{\"id\":\"48393e1d-c416-455f-8050-58f23163c1e3\",\"type\":\"CDSView\"}},\"id\":\"573e0108-5610-4fb4-a280-6f095f9ca040\",\"type\":\"GlyphRenderer\"},{\"attributes\":{\"line_color\":{\"value\":\"firebrick\"},\"line_width\":{\"value\":2},\"plot\":null,\"size\":10},\"id\":\"cf7e4691-2587-4947-959c-66ea67286b97\",\"type\":\"OpenHead\"},{\"attributes\":{\"end\":{\"id\":\"9c1d77f3-0298-4c24-a51b-d6b840a3f079\",\"type\":\"OpenHead\"},\"line_color\":{\"value\":\"gray\"},\"plot\":{\"id\":\"484110da-b044-4256-912b-d9049c8c082f\",\"subtype\":\"Figure\",\"type\":\"Plot\"},\"source\":null,\"start\":null,\"x_end\":{\"value\":-0.09520647721543539},\"x_start\":{\"value\":0.19200266688586595},\"y_end\":{\"value\":-0.13439805605208718},\"y_start\":{\"value\":-0.050556351338041476}},\"id\":\"38d32a31-00b1-4889-84a3-4e5e45817ac3\",\"type\":\"Arrow\"},{\"attributes\":{\"fill_color\":{\"value\":\"red\"},\"line_color\":{\"value\":\"red\"},\"size\":{\"units\":\"screen\",\"value\":10},\"x\":{\"value\":-0.014607863118992957},\"y\":{\"value\":-0.09063985812613698}},\"id\":\"42272c17-1280-42cb-b351-8c2e29e361ce\",\"type\":\"Circle\"},{\"attributes\":{\"line_color\":{\"value\":\"firebrick\"},\"line_width\":{\"value\":2},\"plot\":null,\"size\":10},\"id\":\"cdc4aafa-8027-42be-93fc-68b35214ffe1\",\"type\":\"OpenHead\"},{\"attributes\":{\"source\":{\"id\":\"3434e11b-944c-4d33-b3f5-2dac24c2f3b2\",\"type\":\"ColumnDataSource\"}},\"id\":\"07166579-9002-43aa-afc0-5dcecd00d7d8\",\"type\":\"CDSView\"},{\"attributes\":{\"end\":{\"id\":\"cf7e4691-2587-4947-959c-66ea67286b97\",\"type\":\"OpenHead\"},\"line_color\":{\"value\":\"gray\"},\"plot\":{\"id\":\"484110da-b044-4256-912b-d9049c8c082f\",\"subtype\":\"Figure\",\"type\":\"Plot\"},\"source\":null,\"start\":null,\"x_end\":{\"value\":0.19690867499033962},\"x_start\":{\"value\":-0.09520647721543539},\"y_end\":{\"value\":-0.05437499348838591},\"y_start\":{\"value\":-0.13439805605208718}},\"id\":\"e10dfdc3-7c13-4ec7-8957-76a291a0b905\",\"type\":\"Arrow\"},{\"attributes\":{\"line_color\":{\"value\":\"firebrick\"},\"line_width\":{\"value\":2},\"plot\":null,\"size\":10},\"id\":\"e284f694-0e8b-4ae8-8cdd-eafbddbd3b8e\",\"type\":\"OpenHead\"},{\"attributes\":{\"fill_alpha\":{\"value\":0.1},\"fill_color\":{\"value\":\"#1f77b4\"},\"line_alpha\":{\"value\":0.1},\"line_color\":{\"value\":\"#1f77b4\"},\"size\":{\"units\":\"screen\",\"value\":10},\"x\":{\"value\":-0.014607863118992957},\"y\":{\"value\":-0.09063985812613698}},\"id\":\"b13dd19d-0a9d-477d-bdf2-26cdcd9aa1a7\",\"type\":\"Circle\"},{\"attributes\":{\"end\":{\"id\":\"cdc4aafa-8027-42be-93fc-68b35214ffe1\",\"type\":\"OpenHead\"},\"line_color\":{\"value\":\"gray\"},\"plot\":{\"id\":\"484110da-b044-4256-912b-d9049c8c082f\",\"subtype\":\"Figure\",\"type\":\"Plot\"},\"source\":null,\"start\":null,\"x_end\":{\"value\":0.09017017121256357},\"x_start\":{\"value\":0.19690867499033962},\"y_end\":{\"value\":-0.0009681585513817078},\"y_start\":{\"value\":-0.05437499348838591}},\"id\":\"1560ccb1-9d52-4c7b-b0ac-fed932a33644\",\"type\":\"Arrow\"},{\"attributes\":{\"data_source\":{\"id\":\"3434e11b-944c-4d33-b3f5-2dac24c2f3b2\",\"type\":\"ColumnDataSource\"},\"glyph\":{\"id\":\"42272c17-1280-42cb-b351-8c2e29e361ce\",\"type\":\"Circle\"},\"hover_glyph\":null,\"muted_glyph\":null,\"nonselection_glyph\":{\"id\":\"b13dd19d-0a9d-477d-bdf2-26cdcd9aa1a7\",\"type\":\"Circle\"},\"selection_glyph\":null,\"view\":{\"id\":\"07166579-9002-43aa-afc0-5dcecd00d7d8\",\"type\":\"CDSView\"}},\"id\":\"5523d59e-b80f-47de-a5c1-51dc318d127d\",\"type\":\"GlyphRenderer\"},{\"attributes\":{\"line_color\":{\"value\":\"firebrick\"},\"line_width\":{\"value\":2},\"plot\":null,\"size\":10},\"id\":\"8dcc6bee-cccc-48b9-812c-82a887e5eb25\",\"type\":\"OpenHead\"},{\"attributes\":{\"end\":{\"id\":\"e284f694-0e8b-4ae8-8cdd-eafbddbd3b8e\",\"type\":\"OpenHead\"},\"line_color\":{\"value\":\"gray\"},\"plot\":{\"id\":\"484110da-b044-4256-912b-d9049c8c082f\",\"subtype\":\"Figure\",\"type\":\"Plot\"},\"source\":null,\"start\":null,\"x_end\":{\"value\":0.04367891903776462},\"x_start\":{\"value\":0.09017017121256357},\"y_end\":{\"value\":-0.0830865303953552},\"y_start\":{\"value\":-0.0009681585513817078}},\"id\":\"6f6e80ba-6006-4152-8758-9d4605889413\",\"type\":\"Arrow\"},{\"attributes\":{\"line_color\":{\"value\":\"firebrick\"},\"line_width\":{\"value\":2},\"plot\":null,\"size\":10},\"id\":\"a54bf1b7-1121-42b6-b331-42a95996f249\",\"type\":\"OpenHead\"},{\"attributes\":{\"end\":{\"id\":\"8dcc6bee-cccc-48b9-812c-82a887e5eb25\",\"type\":\"OpenHead\"},\"line_color\":{\"value\":\"gray\"},\"plot\":{\"id\":\"484110da-b044-4256-912b-d9049c8c082f\",\"subtype\":\"Figure\",\"type\":\"Plot\"},\"source\":null,\"start\":null,\"x_end\":{\"value\":0.0009954608537747667},\"x_start\":{\"value\":0.04367891903776462},\"y_end\":{\"value\":-0.09102128944018381},\"y_start\":{\"value\":-0.0830865303953552}},\"id\":\"adf1af25-e2f3-4c66-84d1-575797c79938\",\"type\":\"Arrow\"},{\"attributes\":{\"line_color\":{\"value\":\"firebrick\"},\"line_width\":{\"value\":2},\"plot\":null,\"size\":10},\"id\":\"a6d7e028-b7b9-4562-8e8d-773f9e013272\",\"type\":\"OpenHead\"},{\"attributes\":{\"end\":{\"id\":\"a54bf1b7-1121-42b6-b331-42a95996f249\",\"type\":\"OpenHead\"},\"line_color\":{\"value\":\"gray\"},\"plot\":{\"id\":\"484110da-b044-4256-912b-d9049c8c082f\",\"subtype\":\"Figure\",\"type\":\"Plot\"},\"source\":null,\"start\":null,\"x_end\":{\"value\":-0.01760066657665096},\"x_start\":{\"value\":0.0009954608537747667},\"y_end\":{\"value\":-0.054092321832812665},\"y_start\":{\"value\":-0.09102128944018381}},\"id\":\"66c06d27-472e-4563-aa5e-5887502b33a2\",\"type\":\"Arrow\"},{\"attributes\":{\"line_color\":{\"value\":\"firebrick\"},\"line_width\":{\"value\":2},\"plot\":null,\"size\":10},\"id\":\"230e5243-d344-4253-b719-6679ee41728b\",\"type\":\"OpenHead\"},{\"attributes\":{\"end\":{\"id\":\"a6d7e028-b7b9-4562-8e8d-773f9e013272\",\"type\":\"OpenHead\"},\"line_color\":{\"value\":\"gray\"},\"plot\":{\"id\":\"484110da-b044-4256-912b-d9049c8c082f\",\"subtype\":\"Figure\",\"type\":\"Plot\"},\"source\":null,\"start\":null,\"x_end\":{\"value\":-0.004752312822993113},\"x_start\":{\"value\":-0.01760066657665096},\"y_end\":{\"value\":0.1859138836496957},\"y_start\":{\"value\":-0.054092321832812665}},\"id\":\"dea72b38-b0f5-4a68-9c87-01616693f50b\",\"type\":\"Arrow\"},{\"attributes\":{\"line_color\":{\"value\":\"firebrick\"},\"line_width\":{\"value\":2},\"plot\":null,\"size\":10},\"id\":\"3737b5dc-1cea-4491-857c-bbab6bb7b7e1\",\"type\":\"OpenHead\"},{\"attributes\":{\"end\":{\"id\":\"230e5243-d344-4253-b719-6679ee41728b\",\"type\":\"OpenHead\"},\"line_color\":{\"value\":\"gray\"},\"plot\":{\"id\":\"484110da-b044-4256-912b-d9049c8c082f\",\"subtype\":\"Figure\",\"type\":\"Plot\"},\"source\":null,\"start\":null,\"x_end\":{\"value\":-0.20624315563952794},\"x_start\":{\"value\":-0.004752312822993113},\"y_end\":{\"value\":-0.035179287786257084},\"y_start\":{\"value\":0.1859138836496957}},\"id\":\"45de2527-49c3-4efa-bf18-89e525b254f0\",\"type\":\"Arrow\"},{\"attributes\":{\"line_color\":{\"value\":\"firebrick\"},\"line_width\":{\"value\":2},\"plot\":null,\"size\":10},\"id\":\"e85b07ce-b119-4c43-bec4-b25c2625194b\",\"type\":\"OpenHead\"},{\"attributes\":{\"end\":{\"id\":\"3737b5dc-1cea-4491-857c-bbab6bb7b7e1\",\"type\":\"OpenHead\"},\"line_color\":{\"value\":\"gray\"},\"plot\":{\"id\":\"484110da-b044-4256-912b-d9049c8c082f\",\"subtype\":\"Figure\",\"type\":\"Plot\"},\"source\":null,\"start\":null,\"x_end\":{\"value\":-0.0005801435044468332},\"x_start\":{\"value\":-0.20624315563952794},\"y_end\":{\"value\":0.19064252757750608},\"y_start\":{\"value\":-0.035179287786257084}},\"id\":\"13d6dd33-5b01-49b5-be09-968256715dd0\",\"type\":\"Arrow\"},{\"attributes\":{\"line_color\":{\"value\":\"firebrick\"},\"line_width\":{\"value\":2},\"plot\":null,\"size\":10},\"id\":\"72b58bfd-1e4f-470e-aacc-13e1d076319c\",\"type\":\"OpenHead\"},{\"attributes\":{\"end\":{\"id\":\"e85b07ce-b119-4c43-bec4-b25c2625194b\",\"type\":\"OpenHead\"},\"line_color\":{\"value\":\"gray\"},\"plot\":{\"id\":\"484110da-b044-4256-912b-d9049c8c082f\",\"subtype\":\"Figure\",\"type\":\"Plot\"},\"source\":null,\"start\":null,\"x_end\":{\"value\":-0.200629990422875},\"x_start\":{\"value\":-0.0005801435044468332},\"y_end\":{\"value\":-0.04796020951470844},\"y_start\":{\"value\":0.19064252757750608}},\"id\":\"308a4dd7-2078-4dcc-8e9d-307c194f8b21\",\"type\":\"Arrow\"},{\"attributes\":{\"line_color\":{\"value\":\"firebrick\"},\"line_width\":{\"value\":2},\"plot\":null,\"size\":10},\"id\":\"b0c2810c-8541-41e3-a385-98d8660ecd4b\",\"type\":\"OpenHead\"},{\"attributes\":{\"end\":{\"id\":\"72b58bfd-1e4f-470e-aacc-13e1d076319c\",\"type\":\"OpenHead\"},\"line_color\":{\"value\":\"gray\"},\"plot\":{\"id\":\"484110da-b044-4256-912b-d9049c8c082f\",\"subtype\":\"Figure\",\"type\":\"Plot\"},\"source\":null,\"start\":null,\"x_end\":{\"value\":-0.0015512507858660327},\"x_start\":{\"value\":-0.200629990422875},\"y_end\":{\"value\":0.17488368550771188},\"y_start\":{\"value\":-0.04796020951470844}},\"id\":\"d920c24b-a805-499d-bc12-9d511dd10e3b\",\"type\":\"Arrow\"},{\"attributes\":{\"line_color\":{\"value\":\"firebrick\"},\"line_width\":{\"value\":2},\"plot\":null,\"size\":10},\"id\":\"abf69eff-4823-4c56-b8b8-48d32d18fe2f\",\"type\":\"OpenHead\"},{\"attributes\":{\"end\":{\"id\":\"b0c2810c-8541-41e3-a385-98d8660ecd4b\",\"type\":\"OpenHead\"},\"line_color\":{\"value\":\"gray\"},\"plot\":{\"id\":\"484110da-b044-4256-912b-d9049c8c082f\",\"subtype\":\"Figure\",\"type\":\"Plot\"},\"source\":null,\"start\":null,\"x_end\":{\"value\":-0.20875426955590448},\"x_start\":{\"value\":-0.0015512507858660327},\"y_end\":{\"value\":-0.04987358232996207},\"y_start\":{\"value\":0.17488368550771188}},\"id\":\"cb38498d-2a86-4a5d-aab3-dd717df3ac1a\",\"type\":\"Arrow\"},{\"attributes\":{\"line_color\":{\"value\":\"firebrick\"},\"line_width\":{\"value\":2},\"plot\":null,\"size\":10},\"id\":\"986f5286-b853-4d1d-a4d8-8050de876ba4\",\"type\":\"OpenHead\"}],\"root_ids\":[\"484110da-b044-4256-912b-d9049c8c082f\"]},\"title\":\"Bokeh Application\",\"version\":\"0.12.15\"}};\n",
       "  var render_items = [{\"docid\":\"589eb3bc-e566-480d-b703-89a7f3481f41\",\"elementid\":\"fc19b757-716f-4e7c-b4e6-15247ef555cd\",\"modelid\":\"484110da-b044-4256-912b-d9049c8c082f\"}];\n",
       "  root.Bokeh.embed.embed_items_notebook(docs_json, render_items);\n",
       "\n",
       "  }\n",
       "  if (root.Bokeh !== undefined) {\n",
       "    embed_document(root);\n",
       "  } else {\n",
       "    var attempts = 0;\n",
       "    var timer = setInterval(function(root) {\n",
       "      if (root.Bokeh !== undefined) {\n",
       "        embed_document(root);\n",
       "        clearInterval(timer);\n",
       "      }\n",
       "      attempts++;\n",
       "      if (attempts > 100) {\n",
       "        console.log(\"Bokeh: ERROR: Unable to run BokehJS code because BokehJS library is missing\")\n",
       "        clearInterval(timer);\n",
       "      }\n",
       "    }, 10, root)\n",
       "  }\n",
       "})(window);"
      ],
      "application/vnd.bokehjs_exec.v0+json": ""
     },
     "metadata": {
      "application/vnd.bokehjs_exec.v0+json": {
       "id": "484110da-b044-4256-912b-d9049c8c082f"
      }
     },
     "output_type": "display_data"
    }
   ],
   "source": [
    "show(p)"
   ]
  },
  {
   "cell_type": "code",
   "execution_count": 25,
   "metadata": {},
   "outputs": [
    {
     "name": "stdout",
     "output_type": "stream",
     "text": [
      "5\n",
      "27\n",
      "4\n",
      "6\n",
      "11\n",
      "41\n",
      "0\n",
      "UtterAction('utter_explain_location_hotel')\n"
     ]
    }
   ],
   "source": [
    "print(domain.index_for_action('utter_ask_price'))\n",
    "print(domain.index_for_action('utter_ask_details'))\n",
    "print(domain.index_for_action('utter_ask_location'))\n",
    "print(domain.index_for_action('utter_ask_startdate'))\n",
    "print(domain.index_for_action('utter_suggest_hotel'))\n",
    "print(domain.index_for_action('action_search_hotel'))\n",
    "print(domain.index_for_action('action_listen'))\n",
    "print(domain.action_for_index(16))"
   ]
  },
  {
   "cell_type": "code",
   "execution_count": 26,
   "metadata": {},
   "outputs": [
    {
     "data": {
      "text/plain": [
       "(20,)"
      ]
     },
     "execution_count": 26,
     "metadata": {},
     "output_type": "execute_result"
    }
   ],
   "source": [
    "utter_price = embedding_from_tracker(\"#generate story\\n{}\".format(story_block), bot=True)[0,-1,4,:]\n",
    "utter_price.shape"
   ]
  },
  {
   "cell_type": "code",
   "execution_count": 27,
   "metadata": {},
   "outputs": [
    {
     "name": "stdout",
     "output_type": "stream",
     "text": [
      "(20,)\n"
     ]
    },
    {
     "data": {
      "text/html": [
       "<div style=\"display: table;\"><div style=\"display: table-row;\"><div style=\"display: table-cell;\"><b title=\"bokeh.models.renderers.GlyphRenderer\">GlyphRenderer</b>(</div><div style=\"display: table-cell;\">id&nbsp;=&nbsp;'8ea1a2e8-fbb5-45b4-bbf7-7ff29aff3a5f', <span id=\"10d0cb67-1fe2-423e-ae61-64ee937f978f\" style=\"cursor: pointer;\">&hellip;)</span></div></div><div class=\"02f7e80b-5b54-41d0-8bc9-a3b2eb257a02\" style=\"display: none;\"><div style=\"display: table-cell;\"></div><div style=\"display: table-cell;\">data_source&nbsp;=&nbsp;ColumnDataSource(id='4022123f-cb91-41fa-a9a9-7570be18e8ba', ...),</div></div><div class=\"02f7e80b-5b54-41d0-8bc9-a3b2eb257a02\" style=\"display: none;\"><div style=\"display: table-cell;\"></div><div style=\"display: table-cell;\">glyph&nbsp;=&nbsp;Circle(id='4f0c7d6a-c0c7-4b5c-92a9-4a89a1815c28', ...),</div></div><div class=\"02f7e80b-5b54-41d0-8bc9-a3b2eb257a02\" style=\"display: none;\"><div style=\"display: table-cell;\"></div><div style=\"display: table-cell;\">hover_glyph&nbsp;=&nbsp;None,</div></div><div class=\"02f7e80b-5b54-41d0-8bc9-a3b2eb257a02\" style=\"display: none;\"><div style=\"display: table-cell;\"></div><div style=\"display: table-cell;\">js_event_callbacks&nbsp;=&nbsp;{},</div></div><div class=\"02f7e80b-5b54-41d0-8bc9-a3b2eb257a02\" style=\"display: none;\"><div style=\"display: table-cell;\"></div><div style=\"display: table-cell;\">js_property_callbacks&nbsp;=&nbsp;{},</div></div><div class=\"02f7e80b-5b54-41d0-8bc9-a3b2eb257a02\" style=\"display: none;\"><div style=\"display: table-cell;\"></div><div style=\"display: table-cell;\">level&nbsp;=&nbsp;'glyph',</div></div><div class=\"02f7e80b-5b54-41d0-8bc9-a3b2eb257a02\" style=\"display: none;\"><div style=\"display: table-cell;\"></div><div style=\"display: table-cell;\">muted&nbsp;=&nbsp;False,</div></div><div class=\"02f7e80b-5b54-41d0-8bc9-a3b2eb257a02\" style=\"display: none;\"><div style=\"display: table-cell;\"></div><div style=\"display: table-cell;\">muted_glyph&nbsp;=&nbsp;None,</div></div><div class=\"02f7e80b-5b54-41d0-8bc9-a3b2eb257a02\" style=\"display: none;\"><div style=\"display: table-cell;\"></div><div style=\"display: table-cell;\">name&nbsp;=&nbsp;None,</div></div><div class=\"02f7e80b-5b54-41d0-8bc9-a3b2eb257a02\" style=\"display: none;\"><div style=\"display: table-cell;\"></div><div style=\"display: table-cell;\">nonselection_glyph&nbsp;=&nbsp;Circle(id='a3cc7d71-e611-45e6-bb62-747270b2721b', ...),</div></div><div class=\"02f7e80b-5b54-41d0-8bc9-a3b2eb257a02\" style=\"display: none;\"><div style=\"display: table-cell;\"></div><div style=\"display: table-cell;\">selection_glyph&nbsp;=&nbsp;None,</div></div><div class=\"02f7e80b-5b54-41d0-8bc9-a3b2eb257a02\" style=\"display: none;\"><div style=\"display: table-cell;\"></div><div style=\"display: table-cell;\">subscribed_events&nbsp;=&nbsp;[],</div></div><div class=\"02f7e80b-5b54-41d0-8bc9-a3b2eb257a02\" style=\"display: none;\"><div style=\"display: table-cell;\"></div><div style=\"display: table-cell;\">tags&nbsp;=&nbsp;[],</div></div><div class=\"02f7e80b-5b54-41d0-8bc9-a3b2eb257a02\" style=\"display: none;\"><div style=\"display: table-cell;\"></div><div style=\"display: table-cell;\">view&nbsp;=&nbsp;CDSView(id='88ec8e7f-9f9d-4131-8685-95b4f1859e34', ...),</div></div><div class=\"02f7e80b-5b54-41d0-8bc9-a3b2eb257a02\" style=\"display: none;\"><div style=\"display: table-cell;\"></div><div style=\"display: table-cell;\">visible&nbsp;=&nbsp;True,</div></div><div class=\"02f7e80b-5b54-41d0-8bc9-a3b2eb257a02\" style=\"display: none;\"><div style=\"display: table-cell;\"></div><div style=\"display: table-cell;\">x_range_name&nbsp;=&nbsp;'default',</div></div><div class=\"02f7e80b-5b54-41d0-8bc9-a3b2eb257a02\" style=\"display: none;\"><div style=\"display: table-cell;\"></div><div style=\"display: table-cell;\">y_range_name&nbsp;=&nbsp;'default')</div></div></div>\n",
       "<script>\n",
       "(function() {\n",
       "  var expanded = false;\n",
       "  var ellipsis = document.getElementById(\"10d0cb67-1fe2-423e-ae61-64ee937f978f\");\n",
       "  ellipsis.addEventListener(\"click\", function() {\n",
       "    var rows = document.getElementsByClassName(\"02f7e80b-5b54-41d0-8bc9-a3b2eb257a02\");\n",
       "    for (var i = 0; i < rows.length; i++) {\n",
       "      var el = rows[i];\n",
       "      el.style.display = expanded ? \"none\" : \"table-row\";\n",
       "    }\n",
       "    ellipsis.innerHTML = expanded ? \"&hellip;)\" : \"&lsaquo;&lsaquo;&lsaquo;\";\n",
       "    expanded = !expanded;\n",
       "  });\n",
       "})();\n",
       "</script>\n"
      ],
      "text/plain": [
       "GlyphRenderer(id='8ea1a2e8-fbb5-45b4-bbf7-7ff29aff3a5f', ...)"
      ]
     },
     "execution_count": 27,
     "metadata": {},
     "output_type": "execute_result"
    }
   ],
   "source": [
    "print(utter_price.shape)\n",
    "x = pca.transform(utter_price.reshape(1,-1))\n",
    "p.circle(x[0][0], x[0][1], color='black')"
   ]
  },
  {
   "cell_type": "code",
   "execution_count": 28,
   "metadata": {},
   "outputs": [
    {
     "data": {
      "text/html": [
       "\n",
       "<div class=\"bk-root\">\n",
       "    <div class=\"bk-plotdiv\" id=\"8a66580b-4a07-4232-90ca-e773b7ee73dd\"></div>\n",
       "</div>"
      ]
     },
     "metadata": {},
     "output_type": "display_data"
    },
    {
     "data": {
      "application/javascript": [
       "(function(root) {\n",
       "  function embed_document(root) {\n",
       "    \n",
       "  var docs_json = {\"c8d03667-7637-46a4-a990-7142b468b72b\":{\"roots\":{\"references\":[{\"attributes\":{\"data_source\":{\"id\":\"6a6fa796-3b6e-4429-b7cc-8e23047ca497\",\"type\":\"ColumnDataSource\"},\"glyph\":{\"id\":\"84b9bedf-99a9-4ac0-9038-0d9cca54b7e9\",\"type\":\"Circle\"},\"hover_glyph\":null,\"muted_glyph\":null,\"name\":\"circle\",\"nonselection_glyph\":{\"id\":\"0f844e5e-de01-4de5-8de4-391a4cf7f375\",\"type\":\"Circle\"},\"selection_glyph\":null,\"view\":{\"id\":\"a026b0e0-60b9-4232-bde6-7ff497b6d662\",\"type\":\"CDSView\"}},\"id\":\"33eff6c5-f5c8-45cd-9cf7-2564b404837c\",\"type\":\"GlyphRenderer\"},{\"attributes\":{\"line_color\":{\"value\":\"firebrick\"},\"line_width\":{\"value\":2},\"plot\":null,\"size\":10},\"id\":\"df252ea3-5630-43cf-9b10-a12b1eedef11\",\"type\":\"OpenHead\"},{\"attributes\":{},\"id\":\"50c54de6-51e9-4429-945b-08db3a2f6d12\",\"type\":\"BasicTickFormatter\"},{\"attributes\":{\"fill_color\":{\"value\":\"#1f77b4\"},\"line_color\":{\"value\":\"#1f77b4\"},\"size\":{\"units\":\"screen\",\"value\":10},\"x\":{\"field\":\"x\"},\"y\":{\"field\":\"y\"}},\"id\":\"4642be72-12b8-4b3b-a158-134f04323c55\",\"type\":\"Circle\"},{\"attributes\":{\"end\":{\"id\":\"49825f2d-332c-42f2-96cc-b2b83cd0b6e5\",\"type\":\"OpenHead\"},\"line_color\":{\"value\":\"gray\"},\"plot\":{\"id\":\"484110da-b044-4256-912b-d9049c8c082f\",\"subtype\":\"Figure\",\"type\":\"Plot\"},\"source\":null,\"start\":null,\"x_end\":{\"value\":-0.006422153586502098},\"x_start\":{\"value\":-0.21385750418890315},\"y_end\":{\"value\":0.16567094654317122},\"y_start\":{\"value\":-0.051357881084932014}},\"id\":\"10cd174c-5da4-407f-b0f3-1acc18b0e66d\",\"type\":\"Arrow\"},{\"attributes\":{\"line_color\":{\"value\":\"firebrick\"},\"line_width\":{\"value\":2},\"plot\":null,\"size\":10},\"id\":\"ad0c5b64-1b5c-44c1-9d6c-678775ab3dec\",\"type\":\"OpenHead\"},{\"attributes\":{\"end\":{\"id\":\"df252ea3-5630-43cf-9b10-a12b1eedef11\",\"type\":\"OpenHead\"},\"line_color\":{\"value\":\"gray\"},\"plot\":{\"id\":\"484110da-b044-4256-912b-d9049c8c082f\",\"subtype\":\"Figure\",\"type\":\"Plot\"},\"source\":null,\"start\":null,\"x_end\":{\"value\":-0.0465527325742646},\"x_start\":{\"value\":-0.006422153586502098},\"y_end\":{\"value\":0.2114171785161447},\"y_start\":{\"value\":0.16567094654317122}},\"id\":\"79ab0205-aae5-45bc-a882-813e4fad80fa\",\"type\":\"Arrow\"},{\"attributes\":{\"line_color\":{\"value\":\"firebrick\"},\"line_width\":{\"value\":2},\"plot\":null,\"size\":10},\"id\":\"015300df-751a-4181-a984-8b6113d97bee\",\"type\":\"OpenHead\"},{\"attributes\":{\"end\":{\"id\":\"ad0c5b64-1b5c-44c1-9d6c-678775ab3dec\",\"type\":\"OpenHead\"},\"line_color\":{\"value\":\"gray\"},\"plot\":{\"id\":\"484110da-b044-4256-912b-d9049c8c082f\",\"subtype\":\"Figure\",\"type\":\"Plot\"},\"source\":null,\"start\":null,\"x_end\":{\"value\":-0.050635161601422805},\"x_start\":{\"value\":-0.0465527325742646},\"y_end\":{\"value\":0.2070623011660235},\"y_start\":{\"value\":0.2114171785161447}},\"id\":\"d0ef4dc6-6bff-43a9-8ebe-6ca7bf432a73\",\"type\":\"Arrow\"},{\"attributes\":{\"line_color\":{\"value\":\"firebrick\"},\"line_width\":{\"value\":2},\"plot\":null,\"size\":10},\"id\":\"7bcc8216-ba92-42a9-b9ad-091bd999aa2f\",\"type\":\"OpenHead\"},{\"attributes\":{\"end\":{\"id\":\"015300df-751a-4181-a984-8b6113d97bee\",\"type\":\"OpenHead\"},\"line_color\":{\"value\":\"gray\"},\"plot\":{\"id\":\"484110da-b044-4256-912b-d9049c8c082f\",\"subtype\":\"Figure\",\"type\":\"Plot\"},\"source\":null,\"start\":null,\"x_end\":{\"value\":0.058805398547173766},\"x_start\":{\"value\":-0.050635161601422805},\"y_end\":{\"value\":-0.10576357130685592},\"y_start\":{\"value\":0.2070623011660235}},\"id\":\"4b591f62-af88-438e-bf54-eab29892b34d\",\"type\":\"Arrow\"},{\"attributes\":{\"line_color\":{\"value\":\"firebrick\"},\"line_width\":{\"value\":2},\"plot\":null,\"size\":10},\"id\":\"52b1265d-b5a3-4a8e-ac7d-4058b0c5b6af\",\"type\":\"OpenHead\"},{\"attributes\":{\"end\":{\"id\":\"7bcc8216-ba92-42a9-b9ad-091bd999aa2f\",\"type\":\"OpenHead\"},\"line_color\":{\"value\":\"gray\"},\"plot\":{\"id\":\"484110da-b044-4256-912b-d9049c8c082f\",\"subtype\":\"Figure\",\"type\":\"Plot\"},\"source\":null,\"start\":null,\"x_end\":{\"value\":0.057916196817420426},\"x_start\":{\"value\":0.058805398547173766},\"y_end\":{\"value\":-0.10117115401756663},\"y_start\":{\"value\":-0.10576357130685592}},\"id\":\"bf44557f-3369-40b0-b73c-99234da9526e\",\"type\":\"Arrow\"},{\"attributes\":{\"data_source\":{\"id\":\"4022123f-cb91-41fa-a9a9-7570be18e8ba\",\"type\":\"ColumnDataSource\"},\"glyph\":{\"id\":\"4f0c7d6a-c0c7-4b5c-92a9-4a89a1815c28\",\"type\":\"Circle\"},\"hover_glyph\":null,\"muted_glyph\":null,\"nonselection_glyph\":{\"id\":\"a3cc7d71-e611-45e6-bb62-747270b2721b\",\"type\":\"Circle\"},\"selection_glyph\":null,\"view\":{\"id\":\"88ec8e7f-9f9d-4131-8685-95b4f1859e34\",\"type\":\"CDSView\"}},\"id\":\"8ea1a2e8-fbb5-45b4-bbf7-7ff29aff3a5f\",\"type\":\"GlyphRenderer\"},{\"attributes\":{\"line_color\":{\"value\":\"firebrick\"},\"line_width\":{\"value\":2},\"plot\":null,\"size\":10},\"id\":\"74327bac-d3b5-434a-8413-6c9284707fbf\",\"type\":\"OpenHead\"},{\"attributes\":{\"end\":{\"id\":\"52b1265d-b5a3-4a8e-ac7d-4058b0c5b6af\",\"type\":\"OpenHead\"},\"line_color\":{\"value\":\"gray\"},\"plot\":{\"id\":\"484110da-b044-4256-912b-d9049c8c082f\",\"subtype\":\"Figure\",\"type\":\"Plot\"},\"source\":null,\"start\":null,\"x_end\":{\"value\":0.07695081370776662},\"x_start\":{\"value\":0.057916196817420426},\"y_end\":{\"value\":-0.01381690606305775},\"y_start\":{\"value\":-0.10117115401756663}},\"id\":\"25847c2c-80f0-40ca-a3be-2418090916d8\",\"type\":\"Arrow\"},{\"attributes\":{\"line_color\":{\"value\":\"firebrick\"},\"line_width\":{\"value\":2},\"plot\":null,\"size\":10},\"id\":\"9e659b52-53e3-45a0-85ee-e5e8f070773a\",\"type\":\"OpenHead\"},{\"attributes\":{\"end\":{\"id\":\"74327bac-d3b5-434a-8413-6c9284707fbf\",\"type\":\"OpenHead\"},\"line_color\":{\"value\":\"gray\"},\"plot\":{\"id\":\"484110da-b044-4256-912b-d9049c8c082f\",\"subtype\":\"Figure\",\"type\":\"Plot\"},\"source\":null,\"start\":null,\"x_end\":{\"value\":0.044822273380206515},\"x_start\":{\"value\":0.07695081370776662},\"y_end\":{\"value\":-0.029465947887145405},\"y_start\":{\"value\":-0.01381690606305775}},\"id\":\"5e058b44-51be-45bf-8c0f-41e76f7e686c\",\"type\":\"Arrow\"},{\"attributes\":{\"line_color\":{\"value\":\"firebrick\"},\"line_width\":{\"value\":2},\"plot\":null,\"size\":10},\"id\":\"8a4fab15-f394-4335-8202-ecedc1bd4087\",\"type\":\"OpenHead\"},{\"attributes\":{\"end\":{\"id\":\"9e659b52-53e3-45a0-85ee-e5e8f070773a\",\"type\":\"OpenHead\"},\"line_color\":{\"value\":\"gray\"},\"plot\":{\"id\":\"484110da-b044-4256-912b-d9049c8c082f\",\"subtype\":\"Figure\",\"type\":\"Plot\"},\"source\":null,\"start\":null,\"x_end\":{\"value\":-0.23285697575555142},\"x_start\":{\"value\":0.044822273380206515},\"y_end\":{\"value\":-0.17769678484282667},\"y_start\":{\"value\":-0.029465947887145405}},\"id\":\"2b555f03-2ddb-4799-9d4e-ec89bfb818c0\",\"type\":\"Arrow\"},{\"attributes\":{\"line_color\":{\"value\":\"firebrick\"},\"line_width\":{\"value\":2},\"plot\":null,\"size\":10},\"id\":\"c3022428-4e4d-4750-ac50-3f0168a01e5d\",\"type\":\"OpenHead\"},{\"attributes\":{\"end\":{\"id\":\"8a4fab15-f394-4335-8202-ecedc1bd4087\",\"type\":\"OpenHead\"},\"line_color\":{\"value\":\"gray\"},\"plot\":{\"id\":\"484110da-b044-4256-912b-d9049c8c082f\",\"subtype\":\"Figure\",\"type\":\"Plot\"},\"source\":null,\"start\":null,\"x_end\":{\"value\":0.07261443332035752},\"x_start\":{\"value\":-0.23285697575555142},\"y_end\":{\"value\":0.016356292084848293},\"y_start\":{\"value\":-0.17769678484282667}},\"id\":\"901d4ffb-b802-4729-ac7e-841b423f258c\",\"type\":\"Arrow\"},{\"attributes\":{\"data_source\":{\"id\":\"c503438a-fe95-42a8-b3aa-96d0292594f6\",\"type\":\"ColumnDataSource\"},\"glyph\":{\"id\":\"4642be72-12b8-4b3b-a158-134f04323c55\",\"type\":\"Circle\"},\"hover_glyph\":null,\"muted_glyph\":null,\"name\":\"circle\",\"nonselection_glyph\":{\"id\":\"5f0a05ac-8fd1-43c4-8ef3-cc14f246c30f\",\"type\":\"Circle\"},\"selection_glyph\":null,\"view\":{\"id\":\"b61a95cd-0ed5-4d74-bb3d-b0115e36d0d8\",\"type\":\"CDSView\"}},\"id\":\"0c50090e-b8e4-486d-b19c-3e46e80ee110\",\"type\":\"GlyphRenderer\"},{\"attributes\":{\"end\":{\"id\":\"c3022428-4e4d-4750-ac50-3f0168a01e5d\",\"type\":\"OpenHead\"},\"line_color\":{\"value\":\"gray\"},\"plot\":{\"id\":\"484110da-b044-4256-912b-d9049c8c082f\",\"subtype\":\"Figure\",\"type\":\"Plot\"},\"source\":null,\"start\":null,\"x_end\":{\"value\":-0.014607863118992957},\"x_start\":{\"value\":0.07261443332035752},\"y_end\":{\"value\":-0.09063985812613698},\"y_start\":{\"value\":0.016356292084848293}},\"id\":\"15ccf059-41df-49b3-817f-9df62ea893d2\",\"type\":\"Arrow\"},{\"attributes\":{\"plot\":null,\"text\":\"\"},\"id\":\"fa811d88-1a20-4afd-adfa-9a5082443caa\",\"type\":\"Title\"},{\"attributes\":{\"source\":{\"id\":\"c503438a-fe95-42a8-b3aa-96d0292594f6\",\"type\":\"ColumnDataSource\"}},\"id\":\"b61a95cd-0ed5-4d74-bb3d-b0115e36d0d8\",\"type\":\"CDSView\"},{\"attributes\":{\"below\":[{\"id\":\"729f6eb6-46b8-4930-90aa-ebc62b3b709f\",\"type\":\"LinearAxis\"}],\"left\":[{\"id\":\"7467627b-43f6-4743-981d-77d355c9bd48\",\"type\":\"LinearAxis\"}],\"renderers\":[{\"id\":\"729f6eb6-46b8-4930-90aa-ebc62b3b709f\",\"type\":\"LinearAxis\"},{\"id\":\"6dd1012a-b90c-479d-a6e8-3ac2b0022d68\",\"type\":\"Grid\"},{\"id\":\"7467627b-43f6-4743-981d-77d355c9bd48\",\"type\":\"LinearAxis\"},{\"id\":\"658c3998-7ced-4be1-af62-b29a91d12d12\",\"type\":\"Grid\"},{\"id\":\"e09cd5aa-d236-4e61-a2d2-8bf8ec42d464\",\"type\":\"Arrow\"},{\"id\":\"27edc0d7-41c8-4924-8922-2ed8cebc441c\",\"type\":\"Arrow\"},{\"id\":\"38d32a31-00b1-4889-84a3-4e5e45817ac3\",\"type\":\"Arrow\"},{\"id\":\"e10dfdc3-7c13-4ec7-8957-76a291a0b905\",\"type\":\"Arrow\"},{\"id\":\"1560ccb1-9d52-4c7b-b0ac-fed932a33644\",\"type\":\"Arrow\"},{\"id\":\"6f6e80ba-6006-4152-8758-9d4605889413\",\"type\":\"Arrow\"},{\"id\":\"adf1af25-e2f3-4c66-84d1-575797c79938\",\"type\":\"Arrow\"},{\"id\":\"66c06d27-472e-4563-aa5e-5887502b33a2\",\"type\":\"Arrow\"},{\"id\":\"dea72b38-b0f5-4a68-9c87-01616693f50b\",\"type\":\"Arrow\"},{\"id\":\"45de2527-49c3-4efa-bf18-89e525b254f0\",\"type\":\"Arrow\"},{\"id\":\"13d6dd33-5b01-49b5-be09-968256715dd0\",\"type\":\"Arrow\"},{\"id\":\"308a4dd7-2078-4dcc-8e9d-307c194f8b21\",\"type\":\"Arrow\"},{\"id\":\"d920c24b-a805-499d-bc12-9d511dd10e3b\",\"type\":\"Arrow\"},{\"id\":\"cb38498d-2a86-4a5d-aab3-dd717df3ac1a\",\"type\":\"Arrow\"},{\"id\":\"17b90b04-2e20-4a48-bfb1-c34b5235e43d\",\"type\":\"Arrow\"},{\"id\":\"4c034ddc-8a88-4ce1-87a2-876a5feaac74\",\"type\":\"Arrow\"},{\"id\":\"10cd174c-5da4-407f-b0f3-1acc18b0e66d\",\"type\":\"Arrow\"},{\"id\":\"79ab0205-aae5-45bc-a882-813e4fad80fa\",\"type\":\"Arrow\"},{\"id\":\"d0ef4dc6-6bff-43a9-8ebe-6ca7bf432a73\",\"type\":\"Arrow\"},{\"id\":\"4b591f62-af88-438e-bf54-eab29892b34d\",\"type\":\"Arrow\"},{\"id\":\"bf44557f-3369-40b0-b73c-99234da9526e\",\"type\":\"Arrow\"},{\"id\":\"25847c2c-80f0-40ca-a3be-2418090916d8\",\"type\":\"Arrow\"},{\"id\":\"5e058b44-51be-45bf-8c0f-41e76f7e686c\",\"type\":\"Arrow\"},{\"id\":\"2b555f03-2ddb-4799-9d4e-ec89bfb818c0\",\"type\":\"Arrow\"},{\"id\":\"901d4ffb-b802-4729-ac7e-841b423f258c\",\"type\":\"Arrow\"},{\"id\":\"15ccf059-41df-49b3-817f-9df62ea893d2\",\"type\":\"Arrow\"},{\"id\":\"0c50090e-b8e4-486d-b19c-3e46e80ee110\",\"type\":\"GlyphRenderer\"},{\"id\":\"33eff6c5-f5c8-45cd-9cf7-2564b404837c\",\"type\":\"GlyphRenderer\"},{\"id\":\"e530e37f-65af-4915-92e8-c7fb8345ecc3\",\"type\":\"GlyphRenderer\"},{\"id\":\"6212e820-0f41-4e90-88b5-bba71efe11c2\",\"type\":\"GlyphRenderer\"},{\"id\":\"573e0108-5610-4fb4-a280-6f095f9ca040\",\"type\":\"GlyphRenderer\"},{\"id\":\"5523d59e-b80f-47de-a5c1-51dc318d127d\",\"type\":\"GlyphRenderer\"},{\"id\":\"8ea1a2e8-fbb5-45b4-bbf7-7ff29aff3a5f\",\"type\":\"GlyphRenderer\"}],\"title\":{\"id\":\"fa811d88-1a20-4afd-adfa-9a5082443caa\",\"type\":\"Title\"},\"toolbar\":{\"id\":\"1b71c75f-b049-46e2-aa4f-6c16160ee2b7\",\"type\":\"Toolbar\"},\"x_range\":{\"id\":\"6109233d-7bdb-4b12-8b7e-80c94729a206\",\"type\":\"DataRange1d\"},\"x_scale\":{\"id\":\"39cc55f3-41f7-4ed7-a320-dbd485de0c6a\",\"type\":\"LinearScale\"},\"y_range\":{\"id\":\"98ab61ad-2373-4db9-883e-a037ae04bc32\",\"type\":\"DataRange1d\"},\"y_scale\":{\"id\":\"e7fdc9db-f496-40bb-8dbe-243ad0f2b339\",\"type\":\"LinearScale\"}},\"id\":\"484110da-b044-4256-912b-d9049c8c082f\",\"subtype\":\"Figure\",\"type\":\"Plot\"},{\"attributes\":{},\"id\":\"450cbea6-7691-4cd3-953a-898f2d887625\",\"type\":\"BasicTickFormatter\"},{\"attributes\":{\"callback\":null,\"names\":[\"circle\"],\"tooltips\":[[\"true action\",\"@desc\"],[\"prediction\",\"@pred\"],[\"not_skip_gate\",\"@not_skip\"]]},\"id\":\"27df58a0-0a8d-4711-ab6f-45df7941078e\",\"type\":\"HoverTool\"},{\"attributes\":{\"fill_alpha\":{\"value\":0.1},\"fill_color\":{\"value\":\"#1f77b4\"},\"line_alpha\":{\"value\":0.1},\"line_color\":{\"value\":\"#1f77b4\"},\"size\":{\"units\":\"screen\",\"value\":10},\"x\":{\"field\":\"x\"},\"y\":{\"field\":\"y\"}},\"id\":\"5f0a05ac-8fd1-43c4-8ef3-cc14f246c30f\",\"type\":\"Circle\"},{\"attributes\":{\"data_source\":{\"id\":\"6a1044a0-f7f7-45a1-ae5f-0427679cd01d\",\"type\":\"ColumnDataSource\"},\"glyph\":{\"id\":\"9a332eff-2896-4d43-98a0-05e1df33e13f\",\"type\":\"Circle\"},\"hover_glyph\":null,\"muted_glyph\":null,\"name\":\"circle\",\"nonselection_glyph\":{\"id\":\"bd854c1e-25a7-4007-8dba-3028c5f3955c\",\"type\":\"Circle\"},\"selection_glyph\":null,\"view\":{\"id\":\"ec05d715-f7f4-42a7-a2cb-65fe9de6bd7d\",\"type\":\"CDSView\"}},\"id\":\"e530e37f-65af-4915-92e8-c7fb8345ecc3\",\"type\":\"GlyphRenderer\"},{\"attributes\":{\"callback\":null},\"id\":\"6109233d-7bdb-4b12-8b7e-80c94729a206\",\"type\":\"DataRange1d\"},{\"attributes\":{\"callback\":null},\"id\":\"98ab61ad-2373-4db9-883e-a037ae04bc32\",\"type\":\"DataRange1d\"},{\"attributes\":{\"source\":{\"id\":\"766d994e-2d2b-491f-9da5-cff0b7be49ee\",\"type\":\"ColumnDataSource\"}},\"id\":\"48393e1d-c416-455f-8050-58f23163c1e3\",\"type\":\"CDSView\"},{\"attributes\":{\"line_color\":{\"value\":\"firebrick\"},\"line_width\":{\"value\":2},\"plot\":null,\"size\":10},\"id\":\"5fcb7a08-8632-4a4b-8a58-b9e63432dab6\",\"type\":\"OpenHead\"},{\"attributes\":{\"callback\":null,\"data\":{},\"selected\":null,\"selection_policy\":null},\"id\":\"be8e77ae-b3d0-45af-ab54-08613fab176a\",\"type\":\"ColumnDataSource\"},{\"attributes\":{\"line_color\":{\"value\":\"firebrick\"},\"line_width\":{\"value\":2},\"plot\":null,\"size\":10},\"id\":\"2e6575cb-735a-4754-b224-dd3417b1b31e\",\"type\":\"OpenHead\"},{\"attributes\":{\"fill_color\":{\"value\":\"magenta\"},\"line_color\":{\"value\":\"magenta\"},\"size\":{\"units\":\"screen\",\"value\":5},\"x\":{\"value\":0.08714701482274484},\"y\":{\"value\":-0.004280495349866128}},\"id\":\"832d6a5a-3b8f-4c37-abd6-62450a2f244b\",\"type\":\"Circle\"},{\"attributes\":{\"fill_alpha\":{\"value\":0.1},\"fill_color\":{\"value\":\"#1f77b4\"},\"line_alpha\":{\"value\":0.1},\"line_color\":{\"value\":\"#1f77b4\"},\"x\":{\"value\":0.02389701968215754},\"y\":{\"value\":-0.08276225615218868}},\"id\":\"a3cc7d71-e611-45e6-bb62-747270b2721b\",\"type\":\"Circle\"},{\"attributes\":{\"callback\":null,\"column_names\":[\"x\",\"y\",\"desc\",\"pred\",\"not_skip\"],\"data\":{\"desc\":[\"    - utter_ask_details\",\"    - utter_explain_details_hotel\",\"    - utter_ask_details\",\"    - utter_chitchat\",\"    - utter_ask_details\",\"    - utter_ask_startdate\",\"    - utter_ask_location\",\"    - utter_explain_location_hotel\",\"    - utter_ask_location\",\"    - utter_ask_price\",\"    - utter_chitchat\",\"    - utter_ask_price\",\"    - utter_chitchat\",\"    - utter_ask_price\",\"    - utter_chitchat\",\"    - utter_ask_price\",\"    - utter_chitchat\",\"    - utter_ask_price\",\"    - utter_explain_price_hotel\",\"    - utter_ask_price\",\"    - utter_ask_people\",\"    - utter_filled_slots\",\"    - action_search_hotel\",\"    - utter_suggest_hotel\",\"    - utter_chitchat\",\"    - utter_suggest_hotel\",\"    - utter_happy\"],\"not_skip\":[{\"__ndarray__\":\"cdMGOw==\",\"dtype\":\"float32\",\"shape\":[1]},{\"__ndarray__\":\"s/ULPQ==\",\"dtype\":\"float32\",\"shape\":[1]},{\"__ndarray__\":\"iWEPPQ==\",\"dtype\":\"float32\",\"shape\":[1]},{\"__ndarray__\":\"HsKxPA==\",\"dtype\":\"float32\",\"shape\":[1]},{\"__ndarray__\":\"Co4MPQ==\",\"dtype\":\"float32\",\"shape\":[1]},{\"__ndarray__\":\"BFh8Pw==\",\"dtype\":\"float32\",\"shape\":[1]},{\"__ndarray__\":\"9VV6Pw==\",\"dtype\":\"float32\",\"shape\":[1]},{\"__ndarray__\":\"wfkJPQ==\",\"dtype\":\"float32\",\"shape\":[1]},{\"__ndarray__\":\"FRQuPQ==\",\"dtype\":\"float32\",\"shape\":[1]},{\"__ndarray__\":\"M718Pw==\",\"dtype\":\"float32\",\"shape\":[1]},{\"__ndarray__\":\"yTCvPA==\",\"dtype\":\"float32\",\"shape\":[1]},{\"__ndarray__\":\"eGYPPQ==\",\"dtype\":\"float32\",\"shape\":[1]},{\"__ndarray__\":\"dMm2PA==\",\"dtype\":\"float32\",\"shape\":[1]},{\"__ndarray__\":\"u5EPPQ==\",\"dtype\":\"float32\",\"shape\":[1]},{\"__ndarray__\":\"k561PA==\",\"dtype\":\"float32\",\"shape\":[1]},{\"__ndarray__\":\"SaIOPQ==\",\"dtype\":\"float32\",\"shape\":[1]},{\"__ndarray__\":\"T9y0PA==\",\"dtype\":\"float32\",\"shape\":[1]},{\"__ndarray__\":\"CwIOPQ==\",\"dtype\":\"float32\",\"shape\":[1]},{\"__ndarray__\":\"8XELPQ==\",\"dtype\":\"float32\",\"shape\":[1]},{\"__ndarray__\":\"uWg0PQ==\",\"dtype\":\"float32\",\"shape\":[1]},{\"__ndarray__\":\"aMF7Pw==\",\"dtype\":\"float32\",\"shape\":[1]},{\"__ndarray__\":\"Eyd1Pw==\",\"dtype\":\"float32\",\"shape\":[1]},{\"__ndarray__\":\"A/VhPQ==\",\"dtype\":\"float32\",\"shape\":[1]},{\"__ndarray__\":\"p5cSPQ==\",\"dtype\":\"float32\",\"shape\":[1]},{\"__ndarray__\":\"PUCnPA==\",\"dtype\":\"float32\",\"shape\":[1]},{\"__ndarray__\":\"y/YCPQ==\",\"dtype\":\"float32\",\"shape\":[1]},{\"__ndarray__\":\"/X2/PQ==\",\"dtype\":\"float32\",\"shape\":[1]}],\"pred\":[\"utter_ask_details\",\"utter_explain_details_hotel\",\"utter_ask_details\",\"utter_chitchat\",\"utter_ask_details\",\"utter_ask_startdate\",\"utter_ask_location\",\"utter_explain_location_hotel\",\"utter_ask_location\",\"utter_ask_price\",\"utter_chitchat\",\"utter_ask_price\",\"utter_chitchat\",\"utter_ask_price\",\"utter_chitchat\",\"utter_ask_price\",\"utter_chitchat\",\"utter_ask_price\",\"utter_explain_price_hotel\",\"utter_ask_price\",\"utter_ask_people\",\"utter_filled_slots\",\"action_search_hotel\",\"utter_suggest_hotel\",\"utter_chitchat\",\"utter_suggest_hotel\",\"utter_happy\"],\"x\":{\"__ndarray__\":\"l3094el9yj8xldo/+r/QP3uBghuLk8g/R/YBonNfuL/967CvTTTJPzLEbnBkFbc/2mqVURVdpj/SJ+7zQ09QP2eLVr3oBZK/0Ft7Qil3c78qcD/8LGbKv2CBdbCYAkO/8ES7Vz6uyb/RASrZampZvxxNUrx1uMq/lUi6pCYHa79EbT/Frl/Lv/GO+7kdTnq/DU3kf8LVp7+TKTYW2uypvyk9Lb+9G64/XqJ6FjGnrT+jg0ZsDLOzP5LImezx8qY/0P3B40HOzb8eGVQI3JayP/JX4jK66o2/\",\"dtype\":\"float64\",\"shape\":[27]},\"y\":{\"__ndarray__\":\"+iVbfia5tr8C93ydAJuuv+81NKeF4qm/V+Gxm/Qzwb/+coEFCterv78xY6iAuU+/0UHJqihFtb+epWLVK023v4IoeSL9sau/2uoSsQbMxz9bvBMFBQOiv48Jlm75Zsg/e/2/lj2OqL9yBu6ulmLGPx5GFboHiam/gCxIgoSBxT/Co02HlEuqv7pvpqC0NMU/NwzF1bcPyz+nDN95BIHKPxMB30dSE7u/wtTNTVrmub8ExGG9CUyMv6BuFUpSLJ6/i4zAq8S+xr9xXVoutL+QP5KnXXosNLe/\",\"dtype\":\"float64\",\"shape\":[27]}},\"selected\":null,\"selection_policy\":null},\"id\":\"c503438a-fe95-42a8-b3aa-96d0292594f6\",\"type\":\"ColumnDataSource\"},{\"attributes\":{\"active_drag\":\"auto\",\"active_inspect\":\"auto\",\"active_scroll\":\"auto\",\"active_tap\":\"auto\",\"tools\":[{\"id\":\"27df58a0-0a8d-4711-ab6f-45df7941078e\",\"type\":\"HoverTool\"}]},\"id\":\"1b71c75f-b049-46e2-aa4f-6c16160ee2b7\",\"type\":\"Toolbar\"},{\"attributes\":{\"callback\":null,\"column_names\":[\"x\",\"y\",\"desc\",\"pred\",\"not_skip\"],\"data\":{\"desc\":[\"    - utter_ask_details\",\"    - utter_explain_details_hotel\",\"    - utter_ask_details\",\"    - utter_chitchat\",\"    - utter_ask_details\",\"    - utter_ask_startdate\",\"    - utter_ask_location\",\"    - utter_explain_location_hotel\",\"    - utter_ask_location\",\"    - utter_ask_price\",\"    - utter_chitchat\",\"    - utter_ask_price\",\"    - utter_chitchat\",\"    - utter_ask_price\",\"    - utter_chitchat\",\"    - utter_ask_price\",\"    - utter_chitchat\",\"    - utter_ask_price\",\"    - utter_explain_price_hotel\",\"    - utter_ask_price\",\"    - utter_ask_people\",\"    - utter_filled_slots\",\"    - action_search_hotel\",\"    - utter_suggest_hotel\",\"    - utter_chitchat\",\"    - utter_suggest_hotel\",\"    - utter_happy\"],\"not_skip\":[{\"__ndarray__\":\"cdMGOw==\",\"dtype\":\"float32\",\"shape\":[1]},{\"__ndarray__\":\"s/ULPQ==\",\"dtype\":\"float32\",\"shape\":[1]},{\"__ndarray__\":\"iWEPPQ==\",\"dtype\":\"float32\",\"shape\":[1]},{\"__ndarray__\":\"HsKxPA==\",\"dtype\":\"float32\",\"shape\":[1]},{\"__ndarray__\":\"Co4MPQ==\",\"dtype\":\"float32\",\"shape\":[1]},{\"__ndarray__\":\"BFh8Pw==\",\"dtype\":\"float32\",\"shape\":[1]},{\"__ndarray__\":\"9VV6Pw==\",\"dtype\":\"float32\",\"shape\":[1]},{\"__ndarray__\":\"wfkJPQ==\",\"dtype\":\"float32\",\"shape\":[1]},{\"__ndarray__\":\"FRQuPQ==\",\"dtype\":\"float32\",\"shape\":[1]},{\"__ndarray__\":\"M718Pw==\",\"dtype\":\"float32\",\"shape\":[1]},{\"__ndarray__\":\"yTCvPA==\",\"dtype\":\"float32\",\"shape\":[1]},{\"__ndarray__\":\"eGYPPQ==\",\"dtype\":\"float32\",\"shape\":[1]},{\"__ndarray__\":\"dMm2PA==\",\"dtype\":\"float32\",\"shape\":[1]},{\"__ndarray__\":\"u5EPPQ==\",\"dtype\":\"float32\",\"shape\":[1]},{\"__ndarray__\":\"k561PA==\",\"dtype\":\"float32\",\"shape\":[1]},{\"__ndarray__\":\"SaIOPQ==\",\"dtype\":\"float32\",\"shape\":[1]},{\"__ndarray__\":\"T9y0PA==\",\"dtype\":\"float32\",\"shape\":[1]},{\"__ndarray__\":\"CwIOPQ==\",\"dtype\":\"float32\",\"shape\":[1]},{\"__ndarray__\":\"8XELPQ==\",\"dtype\":\"float32\",\"shape\":[1]},{\"__ndarray__\":\"uWg0PQ==\",\"dtype\":\"float32\",\"shape\":[1]},{\"__ndarray__\":\"aMF7Pw==\",\"dtype\":\"float32\",\"shape\":[1]},{\"__ndarray__\":\"Eyd1Pw==\",\"dtype\":\"float32\",\"shape\":[1]},{\"__ndarray__\":\"A/VhPQ==\",\"dtype\":\"float32\",\"shape\":[1]},{\"__ndarray__\":\"p5cSPQ==\",\"dtype\":\"float32\",\"shape\":[1]},{\"__ndarray__\":\"PUCnPA==\",\"dtype\":\"float32\",\"shape\":[1]},{\"__ndarray__\":\"y/YCPQ==\",\"dtype\":\"float32\",\"shape\":[1]},{\"__ndarray__\":\"/X2/PQ==\",\"dtype\":\"float32\",\"shape\":[1]}],\"pred\":[\"utter_ask_details\",\"utter_explain_details_hotel\",\"utter_ask_details\",\"utter_chitchat\",\"utter_ask_details\",\"utter_ask_startdate\",\"utter_ask_location\",\"utter_explain_location_hotel\",\"utter_ask_location\",\"utter_ask_price\",\"utter_chitchat\",\"utter_ask_price\",\"utter_chitchat\",\"utter_ask_price\",\"utter_chitchat\",\"utter_ask_price\",\"utter_chitchat\",\"utter_ask_price\",\"utter_explain_price_hotel\",\"utter_ask_price\",\"utter_ask_people\",\"utter_filled_slots\",\"action_search_hotel\",\"utter_suggest_hotel\",\"utter_chitchat\",\"utter_suggest_hotel\",\"utter_happy\"],\"x\":{\"__ndarray__\":\"2OQxiRGMwj/d+HUJ+BLLP/vFxzxHq8s/82qYxzwtvT/S93/mCyzMP0LLKYlUXsk/PVivMog6xz+MXmgE1LeYP30ruYrMtp4/UGHwLngoxT+JfzHDrguoP6Nd//wU5Z0/LBI5VKUDqz+J2XaaIaWiP7cZvvE2H6o/mYNQfk4foz/fKthUz5KpPwK1wnrwraI/IpQ+K9hzjb9GuPhN73NtP3dpVf8tp8U/5BpHDrWwxD8yjx0WQH3CP1mUt7l9M8Q/QFRsMC1vtj8hsESo4NXAP1+segVMGcU/\",\"dtype\":\"float64\",\"shape\":[27]},\"y\":{\"__ndarray__\":\"JUMxWJ7svr+Kx9LFhuu1vwy3LlNc8bW/G5uiRBE0lr8O3UiRFH21vx42JWtop7G/9vm58Kd7tL8WfJwuSRy1v7XkV13xl7S/GjLJ9P5Ysr8NLMPc4ha2PxxrbLOkvsM/SsyNoX+8sj9uKmX39zXCP0t2OCoMvrM/eyuB6RngwT/SSig7JVy0P84wpxvDBsI/LtBZPj27zD+mDtjwk/vIPz8gXeWp+bG/5Wb4b4rtrb8ZxXvek16av/xfd03y0KG/jZ8mj7sjcL+hSe4aa9g6P3uNt8Atqqi/\",\"dtype\":\"float64\",\"shape\":[27]}},\"selected\":null,\"selection_policy\":null},\"id\":\"6a6fa796-3b6e-4429-b7cc-8e23047ca497\",\"type\":\"ColumnDataSource\"},{\"attributes\":{\"source\":{\"id\":\"6a6fa796-3b6e-4429-b7cc-8e23047ca497\",\"type\":\"ColumnDataSource\"}},\"id\":\"a026b0e0-60b9-4232-bde6-7ff497b6d662\",\"type\":\"CDSView\"},{\"attributes\":{},\"id\":\"e7fdc9db-f496-40bb-8dbe-243ad0f2b339\",\"type\":\"LinearScale\"},{\"attributes\":{\"fill_color\":{\"value\":\"green\"},\"line_color\":{\"value\":\"green\"},\"size\":{\"units\":\"screen\",\"value\":5},\"x\":{\"field\":\"x\"},\"y\":{\"field\":\"y\"}},\"id\":\"84b9bedf-99a9-4ac0-9038-0d9cca54b7e9\",\"type\":\"Circle\"},{\"attributes\":{},\"id\":\"39cc55f3-41f7-4ed7-a320-dbd485de0c6a\",\"type\":\"LinearScale\"},{\"attributes\":{\"fill_alpha\":{\"value\":0.1},\"fill_color\":{\"value\":\"#1f77b4\"},\"line_alpha\":{\"value\":0.1},\"line_color\":{\"value\":\"#1f77b4\"},\"size\":{\"units\":\"screen\",\"value\":5},\"x\":{\"field\":\"x\"},\"y\":{\"field\":\"y\"}},\"id\":\"0f844e5e-de01-4de5-8de4-391a4cf7f375\",\"type\":\"Circle\"},{\"attributes\":{\"end\":{\"id\":\"5fcb7a08-8632-4a4b-8a58-b9e63432dab6\",\"type\":\"OpenHead\"},\"line_color\":{\"value\":\"gray\"},\"plot\":{\"id\":\"484110da-b044-4256-912b-d9049c8c082f\",\"subtype\":\"Figure\",\"type\":\"Plot\"},\"source\":null,\"start\":null,\"x_end\":{\"value\":0.2617173789570471},\"x_start\":{\"value\":0.2069675779157307},\"y_end\":{\"value\":-0.05977632448637672},\"y_start\":{\"value\":-0.088762670372624}},\"id\":\"e09cd5aa-d236-4e61-a2d2-8bf8ec42d464\",\"type\":\"Arrow\"},{\"attributes\":{\"formatter\":{\"id\":\"50c54de6-51e9-4429-945b-08db3a2f6d12\",\"type\":\"BasicTickFormatter\"},\"plot\":{\"id\":\"484110da-b044-4256-912b-d9049c8c082f\",\"subtype\":\"Figure\",\"type\":\"Plot\"},\"ticker\":{\"id\":\"d3d7dc58-b2cf-43ee-9be7-6f03dcf9b4b0\",\"type\":\"BasicTicker\"}},\"id\":\"729f6eb6-46b8-4930-90aa-ebc62b3b709f\",\"type\":\"LinearAxis\"},{\"attributes\":{\"source\":{\"id\":\"6a1044a0-f7f7-45a1-ae5f-0427679cd01d\",\"type\":\"ColumnDataSource\"}},\"id\":\"ec05d715-f7f4-42a7-a2cb-65fe9de6bd7d\",\"type\":\"CDSView\"},{\"attributes\":{\"plot\":{\"id\":\"484110da-b044-4256-912b-d9049c8c082f\",\"subtype\":\"Figure\",\"type\":\"Plot\"},\"ticker\":{\"id\":\"d3d7dc58-b2cf-43ee-9be7-6f03dcf9b4b0\",\"type\":\"BasicTicker\"}},\"id\":\"6dd1012a-b90c-479d-a6e8-3ac2b0022d68\",\"type\":\"Grid\"},{\"attributes\":{\"callback\":null,\"column_names\":[\"x\",\"y\",\"desc\",\"pred\",\"not_skip\"],\"data\":{\"desc\":[\"    - utter_ask_details\",\"    - utter_explain_details_hotel\",\"    - utter_ask_details\",\"    - utter_chitchat\",\"    - utter_ask_details\",\"    - utter_ask_startdate\",\"    - utter_ask_location\",\"    - utter_explain_location_hotel\",\"    - utter_ask_location\",\"    - utter_ask_price\",\"    - utter_chitchat\",\"    - utter_ask_price\",\"    - utter_chitchat\",\"    - utter_ask_price\",\"    - utter_chitchat\",\"    - utter_ask_price\",\"    - utter_chitchat\",\"    - utter_ask_price\",\"    - utter_explain_price_hotel\",\"    - utter_ask_price\",\"    - utter_ask_people\",\"    - utter_filled_slots\",\"    - action_search_hotel\",\"    - utter_suggest_hotel\",\"    - utter_chitchat\",\"    - utter_suggest_hotel\",\"    - utter_happy\"],\"not_skip\":[{\"__ndarray__\":\"cdMGOw==\",\"dtype\":\"float32\",\"shape\":[1]},{\"__ndarray__\":\"s/ULPQ==\",\"dtype\":\"float32\",\"shape\":[1]},{\"__ndarray__\":\"iWEPPQ==\",\"dtype\":\"float32\",\"shape\":[1]},{\"__ndarray__\":\"HsKxPA==\",\"dtype\":\"float32\",\"shape\":[1]},{\"__ndarray__\":\"Co4MPQ==\",\"dtype\":\"float32\",\"shape\":[1]},{\"__ndarray__\":\"BFh8Pw==\",\"dtype\":\"float32\",\"shape\":[1]},{\"__ndarray__\":\"9VV6Pw==\",\"dtype\":\"float32\",\"shape\":[1]},{\"__ndarray__\":\"wfkJPQ==\",\"dtype\":\"float32\",\"shape\":[1]},{\"__ndarray__\":\"FRQuPQ==\",\"dtype\":\"float32\",\"shape\":[1]},{\"__ndarray__\":\"M718Pw==\",\"dtype\":\"float32\",\"shape\":[1]},{\"__ndarray__\":\"yTCvPA==\",\"dtype\":\"float32\",\"shape\":[1]},{\"__ndarray__\":\"eGYPPQ==\",\"dtype\":\"float32\",\"shape\":[1]},{\"__ndarray__\":\"dMm2PA==\",\"dtype\":\"float32\",\"shape\":[1]},{\"__ndarray__\":\"u5EPPQ==\",\"dtype\":\"float32\",\"shape\":[1]},{\"__ndarray__\":\"k561PA==\",\"dtype\":\"float32\",\"shape\":[1]},{\"__ndarray__\":\"SaIOPQ==\",\"dtype\":\"float32\",\"shape\":[1]},{\"__ndarray__\":\"T9y0PA==\",\"dtype\":\"float32\",\"shape\":[1]},{\"__ndarray__\":\"CwIOPQ==\",\"dtype\":\"float32\",\"shape\":[1]},{\"__ndarray__\":\"8XELPQ==\",\"dtype\":\"float32\",\"shape\":[1]},{\"__ndarray__\":\"uWg0PQ==\",\"dtype\":\"float32\",\"shape\":[1]},{\"__ndarray__\":\"aMF7Pw==\",\"dtype\":\"float32\",\"shape\":[1]},{\"__ndarray__\":\"Eyd1Pw==\",\"dtype\":\"float32\",\"shape\":[1]},{\"__ndarray__\":\"A/VhPQ==\",\"dtype\":\"float32\",\"shape\":[1]},{\"__ndarray__\":\"p5cSPQ==\",\"dtype\":\"float32\",\"shape\":[1]},{\"__ndarray__\":\"PUCnPA==\",\"dtype\":\"float32\",\"shape\":[1]},{\"__ndarray__\":\"y/YCPQ==\",\"dtype\":\"float32\",\"shape\":[1]},{\"__ndarray__\":\"/X2/PQ==\",\"dtype\":\"float32\",\"shape\":[1]}],\"pred\":[\"utter_ask_details\",\"utter_explain_details_hotel\",\"utter_ask_details\",\"utter_chitchat\",\"utter_ask_details\",\"utter_ask_startdate\",\"utter_ask_location\",\"utter_explain_location_hotel\",\"utter_ask_location\",\"utter_ask_price\",\"utter_chitchat\",\"utter_ask_price\",\"utter_chitchat\",\"utter_ask_price\",\"utter_chitchat\",\"utter_ask_price\",\"utter_chitchat\",\"utter_ask_price\",\"utter_explain_price_hotel\",\"utter_ask_price\",\"utter_ask_people\",\"utter_filled_slots\",\"action_search_hotel\",\"utter_suggest_hotel\",\"utter_chitchat\",\"utter_suggest_hotel\",\"utter_happy\"],\"x\":{\"__ndarray__\":\"ETICfnoZwz8FnDiXnpTBP2cJugPMH7A/LFlkJGw9v7+0el7fx1+wP6Io9DUBYJW/uBei5ILuqb98IqpdjGKwP/JLp+gtQKQ/l5GSrB45tb89Y1CDdkHFv9/XWK3zX60/mmyRhoVHxb/QQ6uZEy6pP8JsYFShGMa/3/9nmsfOpz/6BahrwJzGvzOAYVbUpqY/RFVTIrwlrD+bfMuEb9qgPxw6KWLjxJe/bG8s9DT6kL8BMW44Qh+UP1OK86X4eJq/Sa//Sjbezb9L8B8sfOmcP4qG1ReroLe/\",\"dtype\":\"float64\",\"shape\":[27]},\"y\":{\"__ndarray__\":\"sMx0FsRrnD8z0neh/hWWP+xOEM9Knp8/3j2wrGvzvb/vGucxI+SZPxhatKVuT7A/BTYD9Hcgfr/WOpB3S0uKvz6zKCWwmZY/gvgeYyE20D9yt2QMdhjAv4fuH1xFcKA/a3DJnxIOwL8HW8KI2gKdPyXi1GSLzcC/UrZQozmpmD/+UkEfO03Bv51a6h5xDZU/Xaeamka+kb+X5s2cpCV/PyaRhlReZKS/wAs31jcQqL+aLNc3z1l/P08Jw81yN1E/BSi8L+rJxr8iGEMXb+SHPzGC4Ns476e/\",\"dtype\":\"float64\",\"shape\":[27]}},\"selected\":null,\"selection_policy\":null},\"id\":\"6a1044a0-f7f7-45a1-ae5f-0427679cd01d\",\"type\":\"ColumnDataSource\"},{\"attributes\":{},\"id\":\"d3d7dc58-b2cf-43ee-9be7-6f03dcf9b4b0\",\"type\":\"BasicTicker\"},{\"attributes\":{\"fill_color\":{\"value\":\"green\"},\"line_color\":{\"value\":\"green\"},\"size\":{\"units\":\"screen\",\"value\":10},\"x\":{\"value\":0.2069675779157307},\"y\":{\"value\":-0.088762670372624}},\"id\":\"f0db527a-9db6-4d3c-b853-c2a6c135236f\",\"type\":\"Circle\"},{\"attributes\":{\"formatter\":{\"id\":\"450cbea6-7691-4cd3-953a-898f2d887625\",\"type\":\"BasicTickFormatter\"},\"plot\":{\"id\":\"484110da-b044-4256-912b-d9049c8c082f\",\"subtype\":\"Figure\",\"type\":\"Plot\"},\"ticker\":{\"id\":\"36708252-cfc2-43cb-8961-4f5410b943d8\",\"type\":\"BasicTicker\"}},\"id\":\"7467627b-43f6-4743-981d-77d355c9bd48\",\"type\":\"LinearAxis\"},{\"attributes\":{\"callback\":null,\"data\":{},\"selected\":null,\"selection_policy\":null},\"id\":\"766d994e-2d2b-491f-9da5-cff0b7be49ee\",\"type\":\"ColumnDataSource\"},{\"attributes\":{\"source\":{\"id\":\"4022123f-cb91-41fa-a9a9-7570be18e8ba\",\"type\":\"ColumnDataSource\"}},\"id\":\"88ec8e7f-9f9d-4131-8685-95b4f1859e34\",\"type\":\"CDSView\"},{\"attributes\":{},\"id\":\"36708252-cfc2-43cb-8961-4f5410b943d8\",\"type\":\"BasicTicker\"},{\"attributes\":{\"fill_color\":{\"value\":\"red\"},\"line_color\":{\"value\":\"red\"},\"size\":{\"units\":\"screen\",\"value\":5},\"x\":{\"field\":\"x\"},\"y\":{\"field\":\"y\"}},\"id\":\"9a332eff-2896-4d43-98a0-05e1df33e13f\",\"type\":\"Circle\"},{\"attributes\":{\"dimension\":1,\"plot\":{\"id\":\"484110da-b044-4256-912b-d9049c8c082f\",\"subtype\":\"Figure\",\"type\":\"Plot\"},\"ticker\":{\"id\":\"36708252-cfc2-43cb-8961-4f5410b943d8\",\"type\":\"BasicTicker\"}},\"id\":\"658c3998-7ced-4be1-af62-b29a91d12d12\",\"type\":\"Grid\"},{\"attributes\":{\"fill_alpha\":{\"value\":0.1},\"fill_color\":{\"value\":\"#1f77b4\"},\"line_alpha\":{\"value\":0.1},\"line_color\":{\"value\":\"#1f77b4\"},\"size\":{\"units\":\"screen\",\"value\":5},\"x\":{\"field\":\"x\"},\"y\":{\"field\":\"y\"}},\"id\":\"bd854c1e-25a7-4007-8dba-3028c5f3955c\",\"type\":\"Circle\"},{\"attributes\":{\"data_source\":{\"id\":\"be8e77ae-b3d0-45af-ab54-08613fab176a\",\"type\":\"ColumnDataSource\"},\"glyph\":{\"id\":\"832d6a5a-3b8f-4c37-abd6-62450a2f244b\",\"type\":\"Circle\"},\"hover_glyph\":null,\"muted_glyph\":null,\"nonselection_glyph\":{\"id\":\"0e3ee12a-0448-40a9-8d8f-7bbb56be9e0c\",\"type\":\"Circle\"},\"selection_glyph\":null,\"view\":{\"id\":\"17e3bcc4-7d88-45cf-b40c-5ed39e9b9215\",\"type\":\"CDSView\"}},\"id\":\"6212e820-0f41-4e90-88b5-bba71efe11c2\",\"type\":\"GlyphRenderer\"},{\"attributes\":{\"line_color\":{\"value\":\"firebrick\"},\"line_width\":{\"value\":2},\"plot\":null,\"size\":10},\"id\":\"49825f2d-332c-42f2-96cc-b2b83cd0b6e5\",\"type\":\"OpenHead\"},{\"attributes\":{\"line_color\":{\"value\":\"firebrick\"},\"line_width\":{\"value\":2},\"plot\":null,\"size\":10},\"id\":\"9c1d77f3-0298-4c24-a51b-d6b840a3f079\",\"type\":\"OpenHead\"},{\"attributes\":{\"fill_alpha\":{\"value\":0.1},\"fill_color\":{\"value\":\"#1f77b4\"},\"line_alpha\":{\"value\":0.1},\"line_color\":{\"value\":\"#1f77b4\"},\"size\":{\"units\":\"screen\",\"value\":5},\"x\":{\"value\":0.08714701482274484},\"y\":{\"value\":-0.004280495349866128}},\"id\":\"0e3ee12a-0448-40a9-8d8f-7bbb56be9e0c\",\"type\":\"Circle\"},{\"attributes\":{\"end\":{\"id\":\"abf69eff-4823-4c56-b8b8-48d32d18fe2f\",\"type\":\"OpenHead\"},\"line_color\":{\"value\":\"gray\"},\"plot\":{\"id\":\"484110da-b044-4256-912b-d9049c8c082f\",\"subtype\":\"Figure\",\"type\":\"Plot\"},\"source\":null,\"start\":null,\"x_end\":{\"value\":-0.0032993082766746376},\"x_start\":{\"value\":-0.20875426955590448},\"y_end\":{\"value\":0.16801506387159648},\"y_start\":{\"value\":-0.04987358232996207}},\"id\":\"17b90b04-2e20-4a48-bfb1-c34b5235e43d\",\"type\":\"Arrow\"},{\"attributes\":{\"source\":{\"id\":\"be8e77ae-b3d0-45af-ab54-08613fab176a\",\"type\":\"ColumnDataSource\"}},\"id\":\"17e3bcc4-7d88-45cf-b40c-5ed39e9b9215\",\"type\":\"CDSView\"},{\"attributes\":{\"end\":{\"id\":\"986f5286-b853-4d1d-a4d8-8050de876ba4\",\"type\":\"OpenHead\"},\"line_color\":{\"value\":\"gray\"},\"plot\":{\"id\":\"484110da-b044-4256-912b-d9049c8c082f\",\"subtype\":\"Figure\",\"type\":\"Plot\"},\"source\":null,\"start\":null,\"x_end\":{\"value\":-0.21385750418890315},\"x_start\":{\"value\":-0.0032993082766746376},\"y_end\":{\"value\":-0.051357881084932014},\"y_start\":{\"value\":0.16801506387159648}},\"id\":\"4c034ddc-8a88-4ce1-87a2-876a5feaac74\",\"type\":\"Arrow\"},{\"attributes\":{\"fill_alpha\":{\"value\":0.1},\"fill_color\":{\"value\":\"#1f77b4\"},\"line_alpha\":{\"value\":0.1},\"line_color\":{\"value\":\"#1f77b4\"},\"size\":{\"units\":\"screen\",\"value\":10},\"x\":{\"value\":0.2069675779157307},\"y\":{\"value\":-0.088762670372624}},\"id\":\"33a9b85d-a3d8-4a4b-8c2c-89393059c78e\",\"type\":\"Circle\"},{\"attributes\":{\"end\":{\"id\":\"2e6575cb-735a-4754-b224-dd3417b1b31e\",\"type\":\"OpenHead\"},\"line_color\":{\"value\":\"gray\"},\"plot\":{\"id\":\"484110da-b044-4256-912b-d9049c8c082f\",\"subtype\":\"Figure\",\"type\":\"Plot\"},\"source\":null,\"start\":null,\"x_end\":{\"value\":0.19200266688586595},\"x_start\":{\"value\":0.2617173789570471},\"y_end\":{\"value\":-0.050556351338041476},\"y_start\":{\"value\":-0.05977632448637672}},\"id\":\"27edc0d7-41c8-4924-8922-2ed8cebc441c\",\"type\":\"Arrow\"},{\"attributes\":{\"callback\":null,\"data\":{},\"selected\":null,\"selection_policy\":null},\"id\":\"3434e11b-944c-4d33-b3f5-2dac24c2f3b2\",\"type\":\"ColumnDataSource\"},{\"attributes\":{\"data_source\":{\"id\":\"766d994e-2d2b-491f-9da5-cff0b7be49ee\",\"type\":\"ColumnDataSource\"},\"glyph\":{\"id\":\"f0db527a-9db6-4d3c-b853-c2a6c135236f\",\"type\":\"Circle\"},\"hover_glyph\":null,\"muted_glyph\":null,\"nonselection_glyph\":{\"id\":\"33a9b85d-a3d8-4a4b-8c2c-89393059c78e\",\"type\":\"Circle\"},\"selection_glyph\":null,\"view\":{\"id\":\"48393e1d-c416-455f-8050-58f23163c1e3\",\"type\":\"CDSView\"}},\"id\":\"573e0108-5610-4fb4-a280-6f095f9ca040\",\"type\":\"GlyphRenderer\"},{\"attributes\":{\"line_color\":{\"value\":\"firebrick\"},\"line_width\":{\"value\":2},\"plot\":null,\"size\":10},\"id\":\"cf7e4691-2587-4947-959c-66ea67286b97\",\"type\":\"OpenHead\"},{\"attributes\":{\"end\":{\"id\":\"9c1d77f3-0298-4c24-a51b-d6b840a3f079\",\"type\":\"OpenHead\"},\"line_color\":{\"value\":\"gray\"},\"plot\":{\"id\":\"484110da-b044-4256-912b-d9049c8c082f\",\"subtype\":\"Figure\",\"type\":\"Plot\"},\"source\":null,\"start\":null,\"x_end\":{\"value\":-0.09520647721543539},\"x_start\":{\"value\":0.19200266688586595},\"y_end\":{\"value\":-0.13439805605208718},\"y_start\":{\"value\":-0.050556351338041476}},\"id\":\"38d32a31-00b1-4889-84a3-4e5e45817ac3\",\"type\":\"Arrow\"},{\"attributes\":{\"fill_color\":{\"value\":\"red\"},\"line_color\":{\"value\":\"red\"},\"size\":{\"units\":\"screen\",\"value\":10},\"x\":{\"value\":-0.014607863118992957},\"y\":{\"value\":-0.09063985812613698}},\"id\":\"42272c17-1280-42cb-b351-8c2e29e361ce\",\"type\":\"Circle\"},{\"attributes\":{\"callback\":null,\"data\":{},\"selected\":null,\"selection_policy\":null},\"id\":\"4022123f-cb91-41fa-a9a9-7570be18e8ba\",\"type\":\"ColumnDataSource\"},{\"attributes\":{\"line_color\":{\"value\":\"firebrick\"},\"line_width\":{\"value\":2},\"plot\":null,\"size\":10},\"id\":\"cdc4aafa-8027-42be-93fc-68b35214ffe1\",\"type\":\"OpenHead\"},{\"attributes\":{\"source\":{\"id\":\"3434e11b-944c-4d33-b3f5-2dac24c2f3b2\",\"type\":\"ColumnDataSource\"}},\"id\":\"07166579-9002-43aa-afc0-5dcecd00d7d8\",\"type\":\"CDSView\"},{\"attributes\":{\"end\":{\"id\":\"cf7e4691-2587-4947-959c-66ea67286b97\",\"type\":\"OpenHead\"},\"line_color\":{\"value\":\"gray\"},\"plot\":{\"id\":\"484110da-b044-4256-912b-d9049c8c082f\",\"subtype\":\"Figure\",\"type\":\"Plot\"},\"source\":null,\"start\":null,\"x_end\":{\"value\":0.19690867499033962},\"x_start\":{\"value\":-0.09520647721543539},\"y_end\":{\"value\":-0.05437499348838591},\"y_start\":{\"value\":-0.13439805605208718}},\"id\":\"e10dfdc3-7c13-4ec7-8957-76a291a0b905\",\"type\":\"Arrow\"},{\"attributes\":{\"line_color\":{\"value\":\"firebrick\"},\"line_width\":{\"value\":2},\"plot\":null,\"size\":10},\"id\":\"e284f694-0e8b-4ae8-8cdd-eafbddbd3b8e\",\"type\":\"OpenHead\"},{\"attributes\":{\"fill_alpha\":{\"value\":0.1},\"fill_color\":{\"value\":\"#1f77b4\"},\"line_alpha\":{\"value\":0.1},\"line_color\":{\"value\":\"#1f77b4\"},\"size\":{\"units\":\"screen\",\"value\":10},\"x\":{\"value\":-0.014607863118992957},\"y\":{\"value\":-0.09063985812613698}},\"id\":\"b13dd19d-0a9d-477d-bdf2-26cdcd9aa1a7\",\"type\":\"Circle\"},{\"attributes\":{\"end\":{\"id\":\"cdc4aafa-8027-42be-93fc-68b35214ffe1\",\"type\":\"OpenHead\"},\"line_color\":{\"value\":\"gray\"},\"plot\":{\"id\":\"484110da-b044-4256-912b-d9049c8c082f\",\"subtype\":\"Figure\",\"type\":\"Plot\"},\"source\":null,\"start\":null,\"x_end\":{\"value\":0.09017017121256357},\"x_start\":{\"value\":0.19690867499033962},\"y_end\":{\"value\":-0.0009681585513817078},\"y_start\":{\"value\":-0.05437499348838591}},\"id\":\"1560ccb1-9d52-4c7b-b0ac-fed932a33644\",\"type\":\"Arrow\"},{\"attributes\":{\"data_source\":{\"id\":\"3434e11b-944c-4d33-b3f5-2dac24c2f3b2\",\"type\":\"ColumnDataSource\"},\"glyph\":{\"id\":\"42272c17-1280-42cb-b351-8c2e29e361ce\",\"type\":\"Circle\"},\"hover_glyph\":null,\"muted_glyph\":null,\"nonselection_glyph\":{\"id\":\"b13dd19d-0a9d-477d-bdf2-26cdcd9aa1a7\",\"type\":\"Circle\"},\"selection_glyph\":null,\"view\":{\"id\":\"07166579-9002-43aa-afc0-5dcecd00d7d8\",\"type\":\"CDSView\"}},\"id\":\"5523d59e-b80f-47de-a5c1-51dc318d127d\",\"type\":\"GlyphRenderer\"},{\"attributes\":{\"line_color\":{\"value\":\"firebrick\"},\"line_width\":{\"value\":2},\"plot\":null,\"size\":10},\"id\":\"8dcc6bee-cccc-48b9-812c-82a887e5eb25\",\"type\":\"OpenHead\"},{\"attributes\":{\"end\":{\"id\":\"e284f694-0e8b-4ae8-8cdd-eafbddbd3b8e\",\"type\":\"OpenHead\"},\"line_color\":{\"value\":\"gray\"},\"plot\":{\"id\":\"484110da-b044-4256-912b-d9049c8c082f\",\"subtype\":\"Figure\",\"type\":\"Plot\"},\"source\":null,\"start\":null,\"x_end\":{\"value\":0.04367891903776462},\"x_start\":{\"value\":0.09017017121256357},\"y_end\":{\"value\":-0.0830865303953552},\"y_start\":{\"value\":-0.0009681585513817078}},\"id\":\"6f6e80ba-6006-4152-8758-9d4605889413\",\"type\":\"Arrow\"},{\"attributes\":{\"line_color\":{\"value\":\"firebrick\"},\"line_width\":{\"value\":2},\"plot\":null,\"size\":10},\"id\":\"a54bf1b7-1121-42b6-b331-42a95996f249\",\"type\":\"OpenHead\"},{\"attributes\":{\"fill_color\":{\"value\":\"black\"},\"x\":{\"value\":0.02389701968215754},\"y\":{\"value\":-0.08276225615218868}},\"id\":\"4f0c7d6a-c0c7-4b5c-92a9-4a89a1815c28\",\"type\":\"Circle\"},{\"attributes\":{\"end\":{\"id\":\"8dcc6bee-cccc-48b9-812c-82a887e5eb25\",\"type\":\"OpenHead\"},\"line_color\":{\"value\":\"gray\"},\"plot\":{\"id\":\"484110da-b044-4256-912b-d9049c8c082f\",\"subtype\":\"Figure\",\"type\":\"Plot\"},\"source\":null,\"start\":null,\"x_end\":{\"value\":0.0009954608537747667},\"x_start\":{\"value\":0.04367891903776462},\"y_end\":{\"value\":-0.09102128944018381},\"y_start\":{\"value\":-0.0830865303953552}},\"id\":\"adf1af25-e2f3-4c66-84d1-575797c79938\",\"type\":\"Arrow\"},{\"attributes\":{\"line_color\":{\"value\":\"firebrick\"},\"line_width\":{\"value\":2},\"plot\":null,\"size\":10},\"id\":\"a6d7e028-b7b9-4562-8e8d-773f9e013272\",\"type\":\"OpenHead\"},{\"attributes\":{\"end\":{\"id\":\"a54bf1b7-1121-42b6-b331-42a95996f249\",\"type\":\"OpenHead\"},\"line_color\":{\"value\":\"gray\"},\"plot\":{\"id\":\"484110da-b044-4256-912b-d9049c8c082f\",\"subtype\":\"Figure\",\"type\":\"Plot\"},\"source\":null,\"start\":null,\"x_end\":{\"value\":-0.01760066657665096},\"x_start\":{\"value\":0.0009954608537747667},\"y_end\":{\"value\":-0.054092321832812665},\"y_start\":{\"value\":-0.09102128944018381}},\"id\":\"66c06d27-472e-4563-aa5e-5887502b33a2\",\"type\":\"Arrow\"},{\"attributes\":{\"line_color\":{\"value\":\"firebrick\"},\"line_width\":{\"value\":2},\"plot\":null,\"size\":10},\"id\":\"230e5243-d344-4253-b719-6679ee41728b\",\"type\":\"OpenHead\"},{\"attributes\":{\"end\":{\"id\":\"a6d7e028-b7b9-4562-8e8d-773f9e013272\",\"type\":\"OpenHead\"},\"line_color\":{\"value\":\"gray\"},\"plot\":{\"id\":\"484110da-b044-4256-912b-d9049c8c082f\",\"subtype\":\"Figure\",\"type\":\"Plot\"},\"source\":null,\"start\":null,\"x_end\":{\"value\":-0.004752312822993113},\"x_start\":{\"value\":-0.01760066657665096},\"y_end\":{\"value\":0.1859138836496957},\"y_start\":{\"value\":-0.054092321832812665}},\"id\":\"dea72b38-b0f5-4a68-9c87-01616693f50b\",\"type\":\"Arrow\"},{\"attributes\":{\"line_color\":{\"value\":\"firebrick\"},\"line_width\":{\"value\":2},\"plot\":null,\"size\":10},\"id\":\"3737b5dc-1cea-4491-857c-bbab6bb7b7e1\",\"type\":\"OpenHead\"},{\"attributes\":{\"end\":{\"id\":\"230e5243-d344-4253-b719-6679ee41728b\",\"type\":\"OpenHead\"},\"line_color\":{\"value\":\"gray\"},\"plot\":{\"id\":\"484110da-b044-4256-912b-d9049c8c082f\",\"subtype\":\"Figure\",\"type\":\"Plot\"},\"source\":null,\"start\":null,\"x_end\":{\"value\":-0.20624315563952794},\"x_start\":{\"value\":-0.004752312822993113},\"y_end\":{\"value\":-0.035179287786257084},\"y_start\":{\"value\":0.1859138836496957}},\"id\":\"45de2527-49c3-4efa-bf18-89e525b254f0\",\"type\":\"Arrow\"},{\"attributes\":{\"line_color\":{\"value\":\"firebrick\"},\"line_width\":{\"value\":2},\"plot\":null,\"size\":10},\"id\":\"e85b07ce-b119-4c43-bec4-b25c2625194b\",\"type\":\"OpenHead\"},{\"attributes\":{\"end\":{\"id\":\"3737b5dc-1cea-4491-857c-bbab6bb7b7e1\",\"type\":\"OpenHead\"},\"line_color\":{\"value\":\"gray\"},\"plot\":{\"id\":\"484110da-b044-4256-912b-d9049c8c082f\",\"subtype\":\"Figure\",\"type\":\"Plot\"},\"source\":null,\"start\":null,\"x_end\":{\"value\":-0.0005801435044468332},\"x_start\":{\"value\":-0.20624315563952794},\"y_end\":{\"value\":0.19064252757750608},\"y_start\":{\"value\":-0.035179287786257084}},\"id\":\"13d6dd33-5b01-49b5-be09-968256715dd0\",\"type\":\"Arrow\"},{\"attributes\":{\"line_color\":{\"value\":\"firebrick\"},\"line_width\":{\"value\":2},\"plot\":null,\"size\":10},\"id\":\"72b58bfd-1e4f-470e-aacc-13e1d076319c\",\"type\":\"OpenHead\"},{\"attributes\":{\"end\":{\"id\":\"e85b07ce-b119-4c43-bec4-b25c2625194b\",\"type\":\"OpenHead\"},\"line_color\":{\"value\":\"gray\"},\"plot\":{\"id\":\"484110da-b044-4256-912b-d9049c8c082f\",\"subtype\":\"Figure\",\"type\":\"Plot\"},\"source\":null,\"start\":null,\"x_end\":{\"value\":-0.200629990422875},\"x_start\":{\"value\":-0.0005801435044468332},\"y_end\":{\"value\":-0.04796020951470844},\"y_start\":{\"value\":0.19064252757750608}},\"id\":\"308a4dd7-2078-4dcc-8e9d-307c194f8b21\",\"type\":\"Arrow\"},{\"attributes\":{\"line_color\":{\"value\":\"firebrick\"},\"line_width\":{\"value\":2},\"plot\":null,\"size\":10},\"id\":\"b0c2810c-8541-41e3-a385-98d8660ecd4b\",\"type\":\"OpenHead\"},{\"attributes\":{\"end\":{\"id\":\"72b58bfd-1e4f-470e-aacc-13e1d076319c\",\"type\":\"OpenHead\"},\"line_color\":{\"value\":\"gray\"},\"plot\":{\"id\":\"484110da-b044-4256-912b-d9049c8c082f\",\"subtype\":\"Figure\",\"type\":\"Plot\"},\"source\":null,\"start\":null,\"x_end\":{\"value\":-0.0015512507858660327},\"x_start\":{\"value\":-0.200629990422875},\"y_end\":{\"value\":0.17488368550771188},\"y_start\":{\"value\":-0.04796020951470844}},\"id\":\"d920c24b-a805-499d-bc12-9d511dd10e3b\",\"type\":\"Arrow\"},{\"attributes\":{\"line_color\":{\"value\":\"firebrick\"},\"line_width\":{\"value\":2},\"plot\":null,\"size\":10},\"id\":\"abf69eff-4823-4c56-b8b8-48d32d18fe2f\",\"type\":\"OpenHead\"},{\"attributes\":{\"end\":{\"id\":\"b0c2810c-8541-41e3-a385-98d8660ecd4b\",\"type\":\"OpenHead\"},\"line_color\":{\"value\":\"gray\"},\"plot\":{\"id\":\"484110da-b044-4256-912b-d9049c8c082f\",\"subtype\":\"Figure\",\"type\":\"Plot\"},\"source\":null,\"start\":null,\"x_end\":{\"value\":-0.20875426955590448},\"x_start\":{\"value\":-0.0015512507858660327},\"y_end\":{\"value\":-0.04987358232996207},\"y_start\":{\"value\":0.17488368550771188}},\"id\":\"cb38498d-2a86-4a5d-aab3-dd717df3ac1a\",\"type\":\"Arrow\"},{\"attributes\":{\"line_color\":{\"value\":\"firebrick\"},\"line_width\":{\"value\":2},\"plot\":null,\"size\":10},\"id\":\"986f5286-b853-4d1d-a4d8-8050de876ba4\",\"type\":\"OpenHead\"}],\"root_ids\":[\"484110da-b044-4256-912b-d9049c8c082f\"]},\"title\":\"Bokeh Application\",\"version\":\"0.12.15\"}};\n",
       "  var render_items = [{\"docid\":\"c8d03667-7637-46a4-a990-7142b468b72b\",\"elementid\":\"8a66580b-4a07-4232-90ca-e773b7ee73dd\",\"modelid\":\"484110da-b044-4256-912b-d9049c8c082f\"}];\n",
       "  root.Bokeh.embed.embed_items_notebook(docs_json, render_items);\n",
       "\n",
       "  }\n",
       "  if (root.Bokeh !== undefined) {\n",
       "    embed_document(root);\n",
       "  } else {\n",
       "    var attempts = 0;\n",
       "    var timer = setInterval(function(root) {\n",
       "      if (root.Bokeh !== undefined) {\n",
       "        embed_document(root);\n",
       "        clearInterval(timer);\n",
       "      }\n",
       "      attempts++;\n",
       "      if (attempts > 100) {\n",
       "        console.log(\"Bokeh: ERROR: Unable to run BokehJS code because BokehJS library is missing\")\n",
       "        clearInterval(timer);\n",
       "      }\n",
       "    }, 10, root)\n",
       "  }\n",
       "})(window);"
      ],
      "application/vnd.bokehjs_exec.v0+json": ""
     },
     "metadata": {
      "application/vnd.bokehjs_exec.v0+json": {
       "id": "484110da-b044-4256-912b-d9049c8c082f"
      }
     },
     "output_type": "display_data"
    }
   ],
   "source": [
    "show(p)"
   ]
  },
  {
   "cell_type": "code",
   "execution_count": null,
   "metadata": {},
   "outputs": [],
   "source": []
  },
  {
   "cell_type": "code",
   "execution_count": null,
   "metadata": {},
   "outputs": [],
   "source": []
  },
  {
   "cell_type": "code",
   "execution_count": null,
   "metadata": {},
   "outputs": [],
   "source": []
  }
 ],
 "metadata": {
  "kernelspec": {
   "display_name": "Python 3",
   "language": "python",
   "name": "python3"
  },
  "language_info": {
   "codemirror_mode": {
    "name": "ipython",
    "version": 3
   },
   "file_extension": ".py",
   "mimetype": "text/x-python",
   "name": "python",
   "nbconvert_exporter": "python",
   "pygments_lexer": "ipython3",
   "version": "3.6.5"
  }
 },
 "nbformat": 4,
 "nbformat_minor": 2
}
