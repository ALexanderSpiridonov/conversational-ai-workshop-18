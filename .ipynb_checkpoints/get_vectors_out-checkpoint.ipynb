{
 "cells": [
  {
   "cell_type": "code",
   "execution_count": 1,
   "metadata": {},
   "outputs": [
    {
     "name": "stderr",
     "output_type": "stream",
     "text": [
      "/anaconda/lib/python3.6/site-packages/h5py/__init__.py:34: FutureWarning: Conversion of the second argument of issubdtype from `float` to `np.floating` is deprecated. In future, it will be treated as `np.float64 == np.dtype(float).type`.\n",
      "  from ._conv import register_converters as _register_converters\n"
     ]
    },
    {
     "name": "stdout",
     "output_type": "stream",
     "text": [
      "INFO:tensorflow:Restoring parameters from models/dialogue_embed/policy_0_EmbeddingPolicy/tensorflow_embedding.ckpt\n"
     ]
    },
    {
     "name": "stderr",
     "output_type": "stream",
     "text": [
      "/anaconda/lib/python3.6/site-packages/pykwalify/core.py:99: UnsafeLoaderWarning: \n",
      "The default 'Loader' for 'load(stream)' without further arguments can be unsafe.\n",
      "Use 'load(stream, Loader=ruamel.yaml.Loader)' explicitly if that is OK.\n",
      "Alternatively include the following in your code:\n",
      "\n",
      "  import warnings\n",
      "  warnings.simplefilter('ignore', ruamel.yaml.error.UnsafeLoaderWarning)\n",
      "\n",
      "In most other cases you should consider using 'safe_load(stream)'\n",
      "  data = yaml.load(stream)\n"
     ]
    },
    {
     "data": {
      "text/html": [
       "\n",
       "    <div class=\"bk-root\">\n",
       "        <a href=\"https://bokeh.pydata.org\" target=\"_blank\" class=\"bk-logo bk-logo-small bk-logo-notebook\"></a>\n",
       "        <span id=\"c3245256-5011-42d2-affb-30f7a90fb6ac\">Loading BokehJS ...</span>\n",
       "    </div>"
      ]
     },
     "metadata": {},
     "output_type": "display_data"
    },
    {
     "data": {
      "application/javascript": [
       "\n",
       "(function(root) {\n",
       "  function now() {\n",
       "    return new Date();\n",
       "  }\n",
       "\n",
       "  var force = true;\n",
       "\n",
       "  if (typeof (root._bokeh_onload_callbacks) === \"undefined\" || force === true) {\n",
       "    root._bokeh_onload_callbacks = [];\n",
       "    root._bokeh_is_loading = undefined;\n",
       "  }\n",
       "\n",
       "  var JS_MIME_TYPE = 'application/javascript';\n",
       "  var HTML_MIME_TYPE = 'text/html';\n",
       "  var EXEC_MIME_TYPE = 'application/vnd.bokehjs_exec.v0+json';\n",
       "  var CLASS_NAME = 'output_bokeh rendered_html';\n",
       "\n",
       "  /**\n",
       "   * Render data to the DOM node\n",
       "   */\n",
       "  function render(props, node) {\n",
       "    var script = document.createElement(\"script\");\n",
       "    node.appendChild(script);\n",
       "  }\n",
       "\n",
       "  /**\n",
       "   * Handle when an output is cleared or removed\n",
       "   */\n",
       "  function handleClearOutput(event, handle) {\n",
       "    var cell = handle.cell;\n",
       "\n",
       "    var id = cell.output_area._bokeh_element_id;\n",
       "    var server_id = cell.output_area._bokeh_server_id;\n",
       "    // Clean up Bokeh references\n",
       "    if (id !== undefined) {\n",
       "      Bokeh.index[id].model.document.clear();\n",
       "      delete Bokeh.index[id];\n",
       "    }\n",
       "\n",
       "    if (server_id !== undefined) {\n",
       "      // Clean up Bokeh references\n",
       "      var cmd = \"from bokeh.io.state import curstate; print(curstate().uuid_to_server['\" + server_id + \"'].get_sessions()[0].document.roots[0]._id)\";\n",
       "      cell.notebook.kernel.execute(cmd, {\n",
       "        iopub: {\n",
       "          output: function(msg) {\n",
       "            var element_id = msg.content.text.trim();\n",
       "            Bokeh.index[element_id].model.document.clear();\n",
       "            delete Bokeh.index[element_id];\n",
       "          }\n",
       "        }\n",
       "      });\n",
       "      // Destroy server and session\n",
       "      var cmd = \"import bokeh.io.notebook as ion; ion.destroy_server('\" + server_id + \"')\";\n",
       "      cell.notebook.kernel.execute(cmd);\n",
       "    }\n",
       "  }\n",
       "\n",
       "  /**\n",
       "   * Handle when a new output is added\n",
       "   */\n",
       "  function handleAddOutput(event, handle) {\n",
       "    var output_area = handle.output_area;\n",
       "    var output = handle.output;\n",
       "\n",
       "    // limit handleAddOutput to display_data with EXEC_MIME_TYPE content only\n",
       "    if ((output.output_type != \"display_data\") || (!output.data.hasOwnProperty(EXEC_MIME_TYPE))) {\n",
       "      return\n",
       "    }\n",
       "\n",
       "    var toinsert = output_area.element.find(\".\" + CLASS_NAME.split(' ')[0]);\n",
       "\n",
       "    if (output.metadata[EXEC_MIME_TYPE][\"id\"] !== undefined) {\n",
       "      toinsert[toinsert.length - 1].firstChild.textContent = output.data[JS_MIME_TYPE];\n",
       "      // store reference to embed id on output_area\n",
       "      output_area._bokeh_element_id = output.metadata[EXEC_MIME_TYPE][\"id\"];\n",
       "    }\n",
       "    if (output.metadata[EXEC_MIME_TYPE][\"server_id\"] !== undefined) {\n",
       "      var bk_div = document.createElement(\"div\");\n",
       "      bk_div.innerHTML = output.data[HTML_MIME_TYPE];\n",
       "      var script_attrs = bk_div.children[0].attributes;\n",
       "      for (var i = 0; i < script_attrs.length; i++) {\n",
       "        toinsert[toinsert.length - 1].firstChild.setAttribute(script_attrs[i].name, script_attrs[i].value);\n",
       "      }\n",
       "      // store reference to server id on output_area\n",
       "      output_area._bokeh_server_id = output.metadata[EXEC_MIME_TYPE][\"server_id\"];\n",
       "    }\n",
       "  }\n",
       "\n",
       "  function register_renderer(events, OutputArea) {\n",
       "\n",
       "    function append_mime(data, metadata, element) {\n",
       "      // create a DOM node to render to\n",
       "      var toinsert = this.create_output_subarea(\n",
       "        metadata,\n",
       "        CLASS_NAME,\n",
       "        EXEC_MIME_TYPE\n",
       "      );\n",
       "      this.keyboard_manager.register_events(toinsert);\n",
       "      // Render to node\n",
       "      var props = {data: data, metadata: metadata[EXEC_MIME_TYPE]};\n",
       "      render(props, toinsert[toinsert.length - 1]);\n",
       "      element.append(toinsert);\n",
       "      return toinsert\n",
       "    }\n",
       "\n",
       "    /* Handle when an output is cleared or removed */\n",
       "    events.on('clear_output.CodeCell', handleClearOutput);\n",
       "    events.on('delete.Cell', handleClearOutput);\n",
       "\n",
       "    /* Handle when a new output is added */\n",
       "    events.on('output_added.OutputArea', handleAddOutput);\n",
       "\n",
       "    /**\n",
       "     * Register the mime type and append_mime function with output_area\n",
       "     */\n",
       "    OutputArea.prototype.register_mime_type(EXEC_MIME_TYPE, append_mime, {\n",
       "      /* Is output safe? */\n",
       "      safe: true,\n",
       "      /* Index of renderer in `output_area.display_order` */\n",
       "      index: 0\n",
       "    });\n",
       "  }\n",
       "\n",
       "  // register the mime type if in Jupyter Notebook environment and previously unregistered\n",
       "  if (root.Jupyter !== undefined) {\n",
       "    var events = require('base/js/events');\n",
       "    var OutputArea = require('notebook/js/outputarea').OutputArea;\n",
       "\n",
       "    if (OutputArea.prototype.mime_types().indexOf(EXEC_MIME_TYPE) == -1) {\n",
       "      register_renderer(events, OutputArea);\n",
       "    }\n",
       "  }\n",
       "\n",
       "  \n",
       "  if (typeof (root._bokeh_timeout) === \"undefined\" || force === true) {\n",
       "    root._bokeh_timeout = Date.now() + 5000;\n",
       "    root._bokeh_failed_load = false;\n",
       "  }\n",
       "\n",
       "  var NB_LOAD_WARNING = {'data': {'text/html':\n",
       "     \"<div style='background-color: #fdd'>\\n\"+\n",
       "     \"<p>\\n\"+\n",
       "     \"BokehJS does not appear to have successfully loaded. If loading BokehJS from CDN, this \\n\"+\n",
       "     \"may be due to a slow or bad network connection. Possible fixes:\\n\"+\n",
       "     \"</p>\\n\"+\n",
       "     \"<ul>\\n\"+\n",
       "     \"<li>re-rerun `output_notebook()` to attempt to load from CDN again, or</li>\\n\"+\n",
       "     \"<li>use INLINE resources instead, as so:</li>\\n\"+\n",
       "     \"</ul>\\n\"+\n",
       "     \"<code>\\n\"+\n",
       "     \"from bokeh.resources import INLINE\\n\"+\n",
       "     \"output_notebook(resources=INLINE)\\n\"+\n",
       "     \"</code>\\n\"+\n",
       "     \"</div>\"}};\n",
       "\n",
       "  function display_loaded() {\n",
       "    var el = document.getElementById(\"c3245256-5011-42d2-affb-30f7a90fb6ac\");\n",
       "    if (el != null) {\n",
       "      el.textContent = \"BokehJS is loading...\";\n",
       "    }\n",
       "    if (root.Bokeh !== undefined) {\n",
       "      if (el != null) {\n",
       "        el.textContent = \"BokehJS \" + root.Bokeh.version + \" successfully loaded.\";\n",
       "      }\n",
       "    } else if (Date.now() < root._bokeh_timeout) {\n",
       "      setTimeout(display_loaded, 100)\n",
       "    }\n",
       "  }\n",
       "\n",
       "\n",
       "  function run_callbacks() {\n",
       "    try {\n",
       "      root._bokeh_onload_callbacks.forEach(function(callback) { callback() });\n",
       "    }\n",
       "    finally {\n",
       "      delete root._bokeh_onload_callbacks\n",
       "    }\n",
       "    console.info(\"Bokeh: all callbacks have finished\");\n",
       "  }\n",
       "\n",
       "  function load_libs(js_urls, callback) {\n",
       "    root._bokeh_onload_callbacks.push(callback);\n",
       "    if (root._bokeh_is_loading > 0) {\n",
       "      console.log(\"Bokeh: BokehJS is being loaded, scheduling callback at\", now());\n",
       "      return null;\n",
       "    }\n",
       "    if (js_urls == null || js_urls.length === 0) {\n",
       "      run_callbacks();\n",
       "      return null;\n",
       "    }\n",
       "    console.log(\"Bokeh: BokehJS not loaded, scheduling load and callback at\", now());\n",
       "    root._bokeh_is_loading = js_urls.length;\n",
       "    for (var i = 0; i < js_urls.length; i++) {\n",
       "      var url = js_urls[i];\n",
       "      var s = document.createElement('script');\n",
       "      s.src = url;\n",
       "      s.async = false;\n",
       "      s.onreadystatechange = s.onload = function() {\n",
       "        root._bokeh_is_loading--;\n",
       "        if (root._bokeh_is_loading === 0) {\n",
       "          console.log(\"Bokeh: all BokehJS libraries loaded\");\n",
       "          run_callbacks()\n",
       "        }\n",
       "      };\n",
       "      s.onerror = function() {\n",
       "        console.warn(\"failed to load library \" + url);\n",
       "      };\n",
       "      console.log(\"Bokeh: injecting script tag for BokehJS library: \", url);\n",
       "      document.getElementsByTagName(\"head\")[0].appendChild(s);\n",
       "    }\n",
       "  };var element = document.getElementById(\"c3245256-5011-42d2-affb-30f7a90fb6ac\");\n",
       "  if (element == null) {\n",
       "    console.log(\"Bokeh: ERROR: autoload.js configured with elementid 'c3245256-5011-42d2-affb-30f7a90fb6ac' but no matching script tag was found. \")\n",
       "    return false;\n",
       "  }\n",
       "\n",
       "  var js_urls = [\"https://cdn.pydata.org/bokeh/release/bokeh-0.12.15.min.js\", \"https://cdn.pydata.org/bokeh/release/bokeh-widgets-0.12.15.min.js\", \"https://cdn.pydata.org/bokeh/release/bokeh-tables-0.12.15.min.js\", \"https://cdn.pydata.org/bokeh/release/bokeh-gl-0.12.15.min.js\"];\n",
       "\n",
       "  var inline_js = [\n",
       "    function(Bokeh) {\n",
       "      Bokeh.set_log_level(\"info\");\n",
       "    },\n",
       "    \n",
       "    function(Bokeh) {\n",
       "      \n",
       "    },\n",
       "    function(Bokeh) {\n",
       "      console.log(\"Bokeh: injecting CSS: https://cdn.pydata.org/bokeh/release/bokeh-0.12.15.min.css\");\n",
       "      Bokeh.embed.inject_css(\"https://cdn.pydata.org/bokeh/release/bokeh-0.12.15.min.css\");\n",
       "      console.log(\"Bokeh: injecting CSS: https://cdn.pydata.org/bokeh/release/bokeh-widgets-0.12.15.min.css\");\n",
       "      Bokeh.embed.inject_css(\"https://cdn.pydata.org/bokeh/release/bokeh-widgets-0.12.15.min.css\");\n",
       "      console.log(\"Bokeh: injecting CSS: https://cdn.pydata.org/bokeh/release/bokeh-tables-0.12.15.min.css\");\n",
       "      Bokeh.embed.inject_css(\"https://cdn.pydata.org/bokeh/release/bokeh-tables-0.12.15.min.css\");\n",
       "    }\n",
       "  ];\n",
       "\n",
       "  function run_inline_js() {\n",
       "    \n",
       "    if ((root.Bokeh !== undefined) || (force === true)) {\n",
       "      for (var i = 0; i < inline_js.length; i++) {\n",
       "        inline_js[i].call(root, root.Bokeh);\n",
       "      }if (force === true) {\n",
       "        display_loaded();\n",
       "      }} else if (Date.now() < root._bokeh_timeout) {\n",
       "      setTimeout(run_inline_js, 100);\n",
       "    } else if (!root._bokeh_failed_load) {\n",
       "      console.log(\"Bokeh: BokehJS failed to load within specified timeout.\");\n",
       "      root._bokeh_failed_load = true;\n",
       "    } else if (force !== true) {\n",
       "      var cell = $(document.getElementById(\"c3245256-5011-42d2-affb-30f7a90fb6ac\")).parents('.cell').data().cell;\n",
       "      cell.output_area.append_execute_result(NB_LOAD_WARNING)\n",
       "    }\n",
       "\n",
       "  }\n",
       "\n",
       "  if (root._bokeh_is_loading === 0) {\n",
       "    console.log(\"Bokeh: BokehJS loaded, going straight to plotting\");\n",
       "    run_inline_js();\n",
       "  } else {\n",
       "    load_libs(js_urls, function() {\n",
       "      console.log(\"Bokeh: BokehJS plotting callback run at\", now());\n",
       "      run_inline_js();\n",
       "    });\n",
       "  }\n",
       "}(window));"
      ],
      "application/vnd.bokehjs_load.v0+json": "\n(function(root) {\n  function now() {\n    return new Date();\n  }\n\n  var force = true;\n\n  if (typeof (root._bokeh_onload_callbacks) === \"undefined\" || force === true) {\n    root._bokeh_onload_callbacks = [];\n    root._bokeh_is_loading = undefined;\n  }\n\n  \n\n  \n  if (typeof (root._bokeh_timeout) === \"undefined\" || force === true) {\n    root._bokeh_timeout = Date.now() + 5000;\n    root._bokeh_failed_load = false;\n  }\n\n  var NB_LOAD_WARNING = {'data': {'text/html':\n     \"<div style='background-color: #fdd'>\\n\"+\n     \"<p>\\n\"+\n     \"BokehJS does not appear to have successfully loaded. If loading BokehJS from CDN, this \\n\"+\n     \"may be due to a slow or bad network connection. Possible fixes:\\n\"+\n     \"</p>\\n\"+\n     \"<ul>\\n\"+\n     \"<li>re-rerun `output_notebook()` to attempt to load from CDN again, or</li>\\n\"+\n     \"<li>use INLINE resources instead, as so:</li>\\n\"+\n     \"</ul>\\n\"+\n     \"<code>\\n\"+\n     \"from bokeh.resources import INLINE\\n\"+\n     \"output_notebook(resources=INLINE)\\n\"+\n     \"</code>\\n\"+\n     \"</div>\"}};\n\n  function display_loaded() {\n    var el = document.getElementById(\"c3245256-5011-42d2-affb-30f7a90fb6ac\");\n    if (el != null) {\n      el.textContent = \"BokehJS is loading...\";\n    }\n    if (root.Bokeh !== undefined) {\n      if (el != null) {\n        el.textContent = \"BokehJS \" + root.Bokeh.version + \" successfully loaded.\";\n      }\n    } else if (Date.now() < root._bokeh_timeout) {\n      setTimeout(display_loaded, 100)\n    }\n  }\n\n\n  function run_callbacks() {\n    try {\n      root._bokeh_onload_callbacks.forEach(function(callback) { callback() });\n    }\n    finally {\n      delete root._bokeh_onload_callbacks\n    }\n    console.info(\"Bokeh: all callbacks have finished\");\n  }\n\n  function load_libs(js_urls, callback) {\n    root._bokeh_onload_callbacks.push(callback);\n    if (root._bokeh_is_loading > 0) {\n      console.log(\"Bokeh: BokehJS is being loaded, scheduling callback at\", now());\n      return null;\n    }\n    if (js_urls == null || js_urls.length === 0) {\n      run_callbacks();\n      return null;\n    }\n    console.log(\"Bokeh: BokehJS not loaded, scheduling load and callback at\", now());\n    root._bokeh_is_loading = js_urls.length;\n    for (var i = 0; i < js_urls.length; i++) {\n      var url = js_urls[i];\n      var s = document.createElement('script');\n      s.src = url;\n      s.async = false;\n      s.onreadystatechange = s.onload = function() {\n        root._bokeh_is_loading--;\n        if (root._bokeh_is_loading === 0) {\n          console.log(\"Bokeh: all BokehJS libraries loaded\");\n          run_callbacks()\n        }\n      };\n      s.onerror = function() {\n        console.warn(\"failed to load library \" + url);\n      };\n      console.log(\"Bokeh: injecting script tag for BokehJS library: \", url);\n      document.getElementsByTagName(\"head\")[0].appendChild(s);\n    }\n  };var element = document.getElementById(\"c3245256-5011-42d2-affb-30f7a90fb6ac\");\n  if (element == null) {\n    console.log(\"Bokeh: ERROR: autoload.js configured with elementid 'c3245256-5011-42d2-affb-30f7a90fb6ac' but no matching script tag was found. \")\n    return false;\n  }\n\n  var js_urls = [\"https://cdn.pydata.org/bokeh/release/bokeh-0.12.15.min.js\", \"https://cdn.pydata.org/bokeh/release/bokeh-widgets-0.12.15.min.js\", \"https://cdn.pydata.org/bokeh/release/bokeh-tables-0.12.15.min.js\", \"https://cdn.pydata.org/bokeh/release/bokeh-gl-0.12.15.min.js\"];\n\n  var inline_js = [\n    function(Bokeh) {\n      Bokeh.set_log_level(\"info\");\n    },\n    \n    function(Bokeh) {\n      \n    },\n    function(Bokeh) {\n      console.log(\"Bokeh: injecting CSS: https://cdn.pydata.org/bokeh/release/bokeh-0.12.15.min.css\");\n      Bokeh.embed.inject_css(\"https://cdn.pydata.org/bokeh/release/bokeh-0.12.15.min.css\");\n      console.log(\"Bokeh: injecting CSS: https://cdn.pydata.org/bokeh/release/bokeh-widgets-0.12.15.min.css\");\n      Bokeh.embed.inject_css(\"https://cdn.pydata.org/bokeh/release/bokeh-widgets-0.12.15.min.css\");\n      console.log(\"Bokeh: injecting CSS: https://cdn.pydata.org/bokeh/release/bokeh-tables-0.12.15.min.css\");\n      Bokeh.embed.inject_css(\"https://cdn.pydata.org/bokeh/release/bokeh-tables-0.12.15.min.css\");\n    }\n  ];\n\n  function run_inline_js() {\n    \n    if ((root.Bokeh !== undefined) || (force === true)) {\n      for (var i = 0; i < inline_js.length; i++) {\n        inline_js[i].call(root, root.Bokeh);\n      }if (force === true) {\n        display_loaded();\n      }} else if (Date.now() < root._bokeh_timeout) {\n      setTimeout(run_inline_js, 100);\n    } else if (!root._bokeh_failed_load) {\n      console.log(\"Bokeh: BokehJS failed to load within specified timeout.\");\n      root._bokeh_failed_load = true;\n    } else if (force !== true) {\n      var cell = $(document.getElementById(\"c3245256-5011-42d2-affb-30f7a90fb6ac\")).parents('.cell').data().cell;\n      cell.output_area.append_execute_result(NB_LOAD_WARNING)\n    }\n\n  }\n\n  if (root._bokeh_is_loading === 0) {\n    console.log(\"Bokeh: BokehJS loaded, going straight to plotting\");\n    run_inline_js();\n  } else {\n    load_libs(js_urls, function() {\n      console.log(\"Bokeh: BokehJS plotting callback run at\", now());\n      run_inline_js();\n    });\n  }\n}(window));"
     },
     "metadata": {},
     "output_type": "display_data"
    }
   ],
   "source": [
    "import rasa_core\n",
    "from rasa_core.agent import Agent\n",
    "from bokeh.io import output_notebook\n",
    "agent = Agent.load(\"models/dialogue_embed\")\n",
    "# agent = Agent.load(\"models/dialogue_embed_before_norm_loss\")\n",
    "output_notebook()"
   ]
  },
  {
   "cell_type": "code",
   "execution_count": 2,
   "metadata": {},
   "outputs": [],
   "source": [
    "policy = agent.policy_ensemble.policies[0]\n",
    "interpreter = agent.interpreter"
   ]
  },
  {
   "cell_type": "code",
   "execution_count": 3,
   "metadata": {},
   "outputs": [],
   "source": [
    "domain = agent.domain\n"
   ]
  },
  {
   "cell_type": "code",
   "execution_count": 4,
   "metadata": {},
   "outputs": [],
   "source": [
    "from rasa_core.training.structures import StoryGraph\n",
    "from rasa_core.training.dsl import StoryFileReader\n",
    "from rasa_core.trackers import DialogueStateTracker\n",
    "from rasa_core.channels import UserMessage\n",
    "import numpy as np\n",
    "np.set_printoptions(precision=3, suppress=True)\n",
    "\n",
    "def embedding_from_tracker(story, bot=False):\n",
    "    reader = StoryFileReader(domain, interpreter)\n",
    "    story = story.split('\\n')\n",
    "    story_steps = reader.process_lines(story)\n",
    "#     story_graph = StoryGraph(story_steps)\n",
    "    tracker = DialogueStateTracker(\n",
    "            1,\n",
    "            domain.slots\n",
    "    )\n",
    "    tracker._reset()\n",
    "    for step in story_steps:\n",
    "        events = step.explicit_events(domain)\n",
    "        for event in events:\n",
    "            tracker.update(event)\n",
    "    data_X = policy.featurizer.create_X([tracker], domain)\n",
    "\n",
    "    X, slots, prev_act = policy._create_X_slots_prev_acts(data_X)\n",
    "    all_Y_d = policy._create_all_Y_d(X.shape[1])\n",
    "    all_Y_d_x = np.stack([all_Y_d for _ in range(X.shape[0])])\n",
    "    dial_vec = policy.session.run(policy.dial_embed, feed_dict={policy.a_in: X,\n",
    "                                           policy.b_in: all_Y_d_x,\n",
    "                                           policy.c_in: slots,\n",
    "                                           policy.b_prev_in: prev_act})\n",
    "    bot_vec = policy.session.run(policy.bot_embed, feed_dict={policy.a_in: X,\n",
    "                                           policy.b_in: all_Y_d_x,\n",
    "                                           policy.c_in: slots,\n",
    "                                           policy.b_prev_in: prev_act})\n",
    "\n",
    "    no_skip_gate = policy.session.run(policy.no_skip_gate, feed_dict={policy.a_in: X,\n",
    "                                           policy.b_in: all_Y_d_x,\n",
    "                                           policy.c_in: slots,\n",
    "                                           policy.b_prev_in: prev_act})\n",
    "    attn_embed = policy.session.run(policy.attn_embed, feed_dict={policy.a_in: X,\n",
    "                                           policy.b_in: all_Y_d_x,\n",
    "                                           policy.c_in: slots,\n",
    "                                           policy.b_prev_in: prev_act})\n",
    "    rnn_embed = policy.session.run(policy.rnn_embed, feed_dict={policy.a_in: X,\n",
    "                                           policy.b_in: all_Y_d_x,\n",
    "                                           policy.c_in: slots,\n",
    "                                           policy.b_prev_in: prev_act})\n",
    "    probs = policy.session.run(policy.alignment_history, feed_dict={policy.a_in: X,\n",
    "                                           policy.b_in: all_Y_d_x,\n",
    "                                           policy.c_in: slots,\n",
    "                                           policy.b_prev_in: prev_act})\n",
    "    hidden_states = policy.session.run(policy.hidden_states, feed_dict={policy.a_in: X,\n",
    "                                           policy.b_in: all_Y_d_x,\n",
    "                                           policy.c_in: slots,\n",
    "                                           policy.b_prev_in: prev_act})\n",
    "\n",
    "    del tracker\n",
    "#     print(np.shape(dial_vec))\n",
    "    if bot is False:\n",
    "        return (dial_vec[0,-2,:],\n",
    "                no_skip_gate[0,-2,:],\n",
    "                attn_embed[0,-2,:],\n",
    "                rnn_embed[0,-2,:],\n",
    "                probs[1][0,-2,:],\n",
    "                hidden_states[0,-2,:])\n",
    "    else:\n",
    "        return bot_vec\n",
    "    \n",
    "def make_prediction(story):\n",
    "    dial, _,_,_,_,_ = embedding_from_tracker(story, bot=False)\n",
    "    bot = embedding_from_tracker(story, bot=True)[0,-2,:,:]\n",
    "    abs_vals = np.array([np.absolute(vec) for vec in bot])\n",
    "    norms = np.apply_along_axis(np.linalg.norm, 1, bot)\n",
    "    sims = np.dot(bot, dial)/norms\n",
    "    name = domain.action_for_index(np.argmax(sims)).name()\n",
    "#     print(name)\n",
    "    ids = sims.argsort()[::-1]\n",
    "#     print(ids)\n",
    "#     print(sims[ids])\n",
    "    return '- ' + name\n",
    "#     print(dial.shape, bot.shape)"
   ]
  },
  {
   "cell_type": "code",
   "execution_count": 47,
   "metadata": {},
   "outputs": [],
   "source": [
    "# print(domain.intents)\n",
    "story_block = \"\"\"* request_hotel\n",
    "    - utter_ask_details\n",
    "* explain\n",
    "    - utter_explain_details_hotel\n",
    "    - utter_ask_details\n",
    "* chitchat\n",
    "    - utter_chitchat\n",
    "    - utter_ask_details\n",
    "* inform{\"enddate\": \"May 26th\"}\n",
    "    - slot{\"enddate\": \"May 26th\"}\n",
    "    - utter_ask_startdate\n",
    "* inform{\"startdate\": \"next week\"}\n",
    "    - slot{\"startdate\": \"next week\"}\n",
    "    - utter_ask_location\n",
    "* correct{\"startdate\": \"next week\"}\n",
    "    - slot{\"startdate\": \"next week\"}\n",
    "    - utter_correct_startdate_hotel\n",
    "    - utter_ask_location\n",
    "* explain\n",
    "    - utter_explain_location_hotel\n",
    "    - utter_ask_location\n",
    "* inform{\"location\": \"rome\"}\n",
    "    - slot{\"location\": \"rome\"}\n",
    "    - utter_ask_price\n",
    "* chitchat\n",
    "    - utter_chitchat\n",
    "    - utter_ask_price\n",
    "* chitchat\n",
    "    - utter_chitchat\n",
    "    - utter_ask_price\n",
    "* chitchat\n",
    "    - utter_chitchat\n",
    "    - utter_ask_price\n",
    "* chitchat\n",
    "    - utter_chitchat\n",
    "    - utter_ask_price\n",
    "* explain\n",
    "    - utter_explain_price_hotel\n",
    "    - utter_ask_price\n",
    "* inform{\"price\": \"expensive\"}\n",
    "    - utter_ask_people\n",
    "* inform{\"people\": \"4\"}\n",
    "    - utter_filled_slots\n",
    "    - action_search_hotel\n",
    "    - slot{\"hotel\": \"hotel\"}\n",
    "    - utter_suggest_hotel\n",
    "* chitchat\n",
    "    - utter_chitchat\n",
    "    - utter_suggest_hotel\n",
    "* affirm\n",
    "    - utter_happy\"\"\"\n",
    "\n",
    "story_block = \"\"\"* request_hotel\n",
    "    - utter_ask_details\n",
    "* inform{\"enddate\": \"May 26th\", \"people\": \"2\"}\n",
    "    - slot{\"enddate\": \"May 26th\"}\n",
    "    - slot{\"people\": \"2\"}\n",
    "    - utter_ask_location\n",
    "* chitchat\n",
    "    - utter_chitchat\n",
    "    - utter_ask_location\n",
    "* chitchat\n",
    "    - utter_chitchat\n",
    "    - utter_ask_location\n",
    "* chitchat\n",
    "    - utter_chitchat\n",
    "    - utter_ask_location\n",
    "* explain\n",
    "    - utter_explain_location_hotel\n",
    "    - utter_ask_location\n",
    "* inform{\"location\": \"paris\"}\n",
    "    - utter_ask_startdate\n",
    "* did_that_work\n",
    "    - utter_more_info_hotel\n",
    "    - utter_ask_startdate\n",
    "* inform{\"startdate\": \"May 25th\"}\n",
    "    - utter_ask_price\n",
    "* explain\n",
    "    - utter_explain_price_hotel\n",
    "    - utter_ask_price\n",
    "* did_that_work\n",
    "    - utter_more_info_hotel\n",
    "    - utter_ask_price\n",
    "* inform{\"price\": \"cheap\"}\n",
    "    - utter_filled_slots\n",
    "    - action_search_hotel\n",
    "    - slot{\"hotel\": \"hotel\"}\n",
    "    - utter_suggest_hotel\n",
    "* affirm\n",
    "    - utter_happy\"\"\""
   ]
  },
  {
   "cell_type": "code",
   "execution_count": 48,
   "metadata": {},
   "outputs": [
    {
     "name": "stdout",
     "output_type": "stream",
     "text": [
      "38\n",
      "22\n",
      "(20,)\n"
     ]
    }
   ],
   "source": [
    "print(len(story_block.split('\\n')))\n",
    "cool_list = []\n",
    "lines = story_block.split('\\n')\n",
    "for idx, line in enumerate(lines):\n",
    "    if idx == len(lines)-1:\n",
    "        continue\n",
    "    if '*' in lines[idx+1] or 'slot{' in lines[idx+1]:\n",
    "#     if 'slot{' in lines[idx+1]:\n",
    "        continue\n",
    "    sub_story = '\\n'.join(lines[:idx+1])\n",
    "    (dial, not_skip, attn, rnn, probs, hidden_states\n",
    "    ) = embedding_from_tracker(\"#generate story\\n{}\".format(sub_story))\n",
    "    pred = make_prediction(\"#generate story\\n{}\".format(sub_story))\n",
    "    cool_list.append((lines[idx+1].strip(), dial, pred, not_skip, attn[20:40], rnn, probs, hidden_states))\n",
    "\n",
    "print(len(cool_list))\n",
    "print(cool_list[0][4].shape)\n",
    "#     break\n",
    "# dial = embedding_from_tracker(\"#generate story\\n{}\".format(story_block)\n",
    "# )\n",
    "# print(dial.shape)\n",
    "# print(len(story_block.split('\\n')))"
   ]
  },
  {
   "cell_type": "code",
   "execution_count": 49,
   "metadata": {},
   "outputs": [
    {
     "data": {
      "text/plain": [
       "('- utter_ask_details',\n",
       " array([ 0.051, -0.004,  0.276, -0.014,  0.115,  0.026, -0.256, -0.037,\n",
       "         0.072, -0.063,  0.075, -0.177, -0.059,  0.249,  0.11 ,  0.078,\n",
       "         0.004, -0.039, -0.018,  0.16 ], dtype=float32),\n",
       " '- utter_ask_details',\n",
       " array([1.], dtype=float32),\n",
       " array([-0.001, -0.002, -0.   ,  0.002,  0.   ,  0.001,  0.003, -0.003,\n",
       "         0.002,  0.002,  0.002,  0.001,  0.   ,  0.002, -0.002, -0.001,\n",
       "         0.001, -0.003, -0.001, -0.002], dtype=float32),\n",
       " array([ 0.052, -0.001,  0.276, -0.016,  0.115,  0.025, -0.259, -0.034,\n",
       "         0.07 , -0.065,  0.073, -0.178, -0.059,  0.247,  0.112,  0.079,\n",
       "         0.004, -0.036, -0.017,  0.162], dtype=float32),\n",
       " array([0.02, 0.98, 0.  ], dtype=float32),\n",
       " array([-0.378,  0.146,  0.044,  0.292,  0.126,  0.004,  0.284,  0.03 ,\n",
       "        -0.239, -0.398,  0.015, -0.349,  0.076,  0.024,  0.223, -1.247,\n",
       "         0.062,  0.423, -0.011, -0.661, -0.056, -0.06 , -0.148, -0.241,\n",
       "         0.491, -0.287,  0.139, -0.151, -0.324,  0.044, -0.294, -0.09 ,\n",
       "        -0.046,  0.048,  0.202, -0.249, -0.063, -0.341, -0.356,  0.081,\n",
       "        -0.401,  0.214, -0.044, -0.018,  0.432,  0.135, -0.08 , -0.066,\n",
       "         0.532,  0.638,  0.518, -0.467,  0.303,  0.016, -0.046, -0.191,\n",
       "        -0.255, -0.238,  0.343,  0.053,  0.184, -0.454,  0.133,  0.12 ],\n",
       "       dtype=float32))"
      ]
     },
     "execution_count": 49,
     "metadata": {},
     "output_type": "execute_result"
    }
   ],
   "source": [
    "cool_list[0]"
   ]
  },
  {
   "cell_type": "code",
   "execution_count": 50,
   "metadata": {},
   "outputs": [
    {
     "data": {
      "text/plain": [
       "('- action_search_hotel',\n",
       " array([-0.348,  0.108,  0.017, -0.064,  0.07 , -0.213,  0.003, -0.028,\n",
       "         0.015, -0.043,  0.123,  0.197, -0.069, -0.083, -0.029, -0.177,\n",
       "         0.219, -0.128,  0.058,  0.041], dtype=float32),\n",
       " '- action_search_hotel',\n",
       " array([1.], dtype=float32),\n",
       " array([-0.062,  0.009,  0.086,  0.129, -0.023, -0.016, -0.001, -0.038,\n",
       "        -0.045,  0.006, -0.005,  0.133, -0.076, -0.082, -0.085, -0.023,\n",
       "         0.062, -0.06 ,  0.063, -0.001], dtype=float32),\n",
       " array([-0.286,  0.1  , -0.069, -0.193,  0.093, -0.197,  0.003,  0.01 ,\n",
       "         0.061, -0.048,  0.128,  0.064,  0.007, -0.001,  0.056, -0.154,\n",
       "         0.157, -0.069, -0.005,  0.042], dtype=float32),\n",
       " array([0.002, 0.001, 0.005, 0.004, 0.011, 0.006, 0.01 , 0.006, 0.005,\n",
       "        0.007, 0.005, 0.003, 0.007, 0.005, 0.006, 0.006, 0.006, 0.005,\n",
       "        0.011, 0.009, 0.008, 0.009, 0.013, 0.017, 0.009, 0.084, 0.063,\n",
       "        0.073, 0.05 , 0.187, 0.102, 0.267, 0.   ], dtype=float32),\n",
       " array([ 0.186,  0.324, -0.084,  0.391,  0.249, -0.078,  0.237,  0.07 ,\n",
       "         0.041, -0.51 ,  0.114, -0.092, -0.096,  0.263,  0.131,  0.429,\n",
       "        -0.251,  0.079,  0.223,  0.776,  0.278, -0.052, -0.221, -0.439,\n",
       "         0.254, -0.357,  0.057,  0.286, -0.109, -0.97 , -0.376, -0.098,\n",
       "        -0.089, -0.094,  0.265, -0.523,  0.104,  0.008, -0.106, -0.374,\n",
       "         0.064,  0.011, -0.128,  0.376,  0.365,  0.21 , -0.568,  0.134,\n",
       "        -0.188, -0.177,  0.009,  0.266, -0.361, -0.343, -1.079, -0.052,\n",
       "         0.029,  0.497,  0.111,  0.297, -0.041,  0.002, -0.074, -0.245],\n",
       "       dtype=float32))"
      ]
     },
     "execution_count": 50,
     "metadata": {},
     "output_type": "execute_result"
    }
   ],
   "source": [
    "cool_list[19]"
   ]
  },
  {
   "cell_type": "code",
   "execution_count": 51,
   "metadata": {},
   "outputs": [
    {
     "name": "stdout",
     "output_type": "stream",
     "text": [
      "[-0.326  0.02   0.08   0.189 -0.379 -0.113  0.093 -0.066 -0.017 -0.292\n",
      " -0.122 -0.367 -0.455 -0.102  0.343 -0.246  0.061  0.434 -0.111 -0.777\n",
      " -0.151 -0.376 -0.407  0.442  0.526 -0.563 -0.124 -0.313 -0.851 -0.1\n",
      " -0.551  0.032  0.635  0.36   0.215  0.046 -0.008  0.059  0.42   0.084\n",
      " -0.348  0.205  0.093  0.108  0.383 -0.261  0.154  0.194  1.326  0.475\n",
      "  0.433 -1.199  0.252  0.059  0.701 -0.199 -0.409  0.109  0.658  0.055\n",
      "  0.616 -0.127  0.341  0.07 ]\n"
     ]
    },
    {
     "data": {
      "text/plain": [
       "False"
      ]
     },
     "execution_count": 51,
     "metadata": {},
     "output_type": "execute_result"
    }
   ],
   "source": [
    "c1=cool_list[0][-1]\n",
    "c2=cool_list[4][-1]\n",
    "print(c1-c2)\n",
    "np.all(c1==c2)"
   ]
  },
  {
   "cell_type": "code",
   "execution_count": null,
   "metadata": {},
   "outputs": [],
   "source": []
  },
  {
   "cell_type": "code",
   "execution_count": 52,
   "metadata": {},
   "outputs": [],
   "source": [
    "from sklearn.decomposition import PCA"
   ]
  },
  {
   "cell_type": "code",
   "execution_count": 53,
   "metadata": {},
   "outputs": [],
   "source": [
    "pca = PCA(n_components=2)\n",
    "X = pca.fit_transform([ting[1] for ting in cool_list])"
   ]
  },
  {
   "cell_type": "code",
   "execution_count": 54,
   "metadata": {},
   "outputs": [],
   "source": [
    "from bokeh.plotting import figure, show\n",
    "import matplotlib.pyplot as plt"
   ]
  },
  {
   "cell_type": "code",
   "execution_count": 55,
   "metadata": {},
   "outputs": [],
   "source": [
    "embed_dim = cool_list[0][1].shape[0]\n"
   ]
  },
  {
   "cell_type": "code",
   "execution_count": 56,
   "metadata": {},
   "outputs": [
    {
     "data": {
      "text/html": [
       "<div style=\"display: table;\"><div style=\"display: table-row;\"><div style=\"display: table-cell;\"><b title=\"bokeh.models.renderers.GlyphRenderer\">GlyphRenderer</b>(</div><div style=\"display: table-cell;\">id&nbsp;=&nbsp;'2143014e-e127-43ec-bbc1-485af2bd5465', <span id=\"f233dc41-f0f7-491f-8f9f-1ab22d3e2c8d\" style=\"cursor: pointer;\">&hellip;)</span></div></div><div class=\"4e869062-1178-46b0-90ce-a12b8d546f2d\" style=\"display: none;\"><div style=\"display: table-cell;\"></div><div style=\"display: table-cell;\">data_source&nbsp;=&nbsp;ColumnDataSource(id='13bf506c-63ed-4290-9aff-0b456ca36925', ...),</div></div><div class=\"4e869062-1178-46b0-90ce-a12b8d546f2d\" style=\"display: none;\"><div style=\"display: table-cell;\"></div><div style=\"display: table-cell;\">glyph&nbsp;=&nbsp;Circle(id='50be9d56-a88c-4a99-aaa1-1e0a00b9d034', ...),</div></div><div class=\"4e869062-1178-46b0-90ce-a12b8d546f2d\" style=\"display: none;\"><div style=\"display: table-cell;\"></div><div style=\"display: table-cell;\">hover_glyph&nbsp;=&nbsp;None,</div></div><div class=\"4e869062-1178-46b0-90ce-a12b8d546f2d\" style=\"display: none;\"><div style=\"display: table-cell;\"></div><div style=\"display: table-cell;\">js_event_callbacks&nbsp;=&nbsp;{},</div></div><div class=\"4e869062-1178-46b0-90ce-a12b8d546f2d\" style=\"display: none;\"><div style=\"display: table-cell;\"></div><div style=\"display: table-cell;\">js_property_callbacks&nbsp;=&nbsp;{},</div></div><div class=\"4e869062-1178-46b0-90ce-a12b8d546f2d\" style=\"display: none;\"><div style=\"display: table-cell;\"></div><div style=\"display: table-cell;\">level&nbsp;=&nbsp;'glyph',</div></div><div class=\"4e869062-1178-46b0-90ce-a12b8d546f2d\" style=\"display: none;\"><div style=\"display: table-cell;\"></div><div style=\"display: table-cell;\">muted&nbsp;=&nbsp;False,</div></div><div class=\"4e869062-1178-46b0-90ce-a12b8d546f2d\" style=\"display: none;\"><div style=\"display: table-cell;\"></div><div style=\"display: table-cell;\">muted_glyph&nbsp;=&nbsp;None,</div></div><div class=\"4e869062-1178-46b0-90ce-a12b8d546f2d\" style=\"display: none;\"><div style=\"display: table-cell;\"></div><div style=\"display: table-cell;\">name&nbsp;=&nbsp;None,</div></div><div class=\"4e869062-1178-46b0-90ce-a12b8d546f2d\" style=\"display: none;\"><div style=\"display: table-cell;\"></div><div style=\"display: table-cell;\">nonselection_glyph&nbsp;=&nbsp;Circle(id='0c4090bc-6479-42de-af2c-ff1fd19fe758', ...),</div></div><div class=\"4e869062-1178-46b0-90ce-a12b8d546f2d\" style=\"display: none;\"><div style=\"display: table-cell;\"></div><div style=\"display: table-cell;\">selection_glyph&nbsp;=&nbsp;None,</div></div><div class=\"4e869062-1178-46b0-90ce-a12b8d546f2d\" style=\"display: none;\"><div style=\"display: table-cell;\"></div><div style=\"display: table-cell;\">subscribed_events&nbsp;=&nbsp;[],</div></div><div class=\"4e869062-1178-46b0-90ce-a12b8d546f2d\" style=\"display: none;\"><div style=\"display: table-cell;\"></div><div style=\"display: table-cell;\">tags&nbsp;=&nbsp;[],</div></div><div class=\"4e869062-1178-46b0-90ce-a12b8d546f2d\" style=\"display: none;\"><div style=\"display: table-cell;\"></div><div style=\"display: table-cell;\">view&nbsp;=&nbsp;CDSView(id='d725be10-2124-42fd-8709-25d7379c1c85', ...),</div></div><div class=\"4e869062-1178-46b0-90ce-a12b8d546f2d\" style=\"display: none;\"><div style=\"display: table-cell;\"></div><div style=\"display: table-cell;\">visible&nbsp;=&nbsp;True,</div></div><div class=\"4e869062-1178-46b0-90ce-a12b8d546f2d\" style=\"display: none;\"><div style=\"display: table-cell;\"></div><div style=\"display: table-cell;\">x_range_name&nbsp;=&nbsp;'default',</div></div><div class=\"4e869062-1178-46b0-90ce-a12b8d546f2d\" style=\"display: none;\"><div style=\"display: table-cell;\"></div><div style=\"display: table-cell;\">y_range_name&nbsp;=&nbsp;'default')</div></div></div>\n",
       "<script>\n",
       "(function() {\n",
       "  var expanded = false;\n",
       "  var ellipsis = document.getElementById(\"f233dc41-f0f7-491f-8f9f-1ab22d3e2c8d\");\n",
       "  ellipsis.addEventListener(\"click\", function() {\n",
       "    var rows = document.getElementsByClassName(\"4e869062-1178-46b0-90ce-a12b8d546f2d\");\n",
       "    for (var i = 0; i < rows.length; i++) {\n",
       "      var el = rows[i];\n",
       "      el.style.display = expanded ? \"none\" : \"table-row\";\n",
       "    }\n",
       "    ellipsis.innerHTML = expanded ? \"&hellip;)\" : \"&lsaquo;&lsaquo;&lsaquo;\";\n",
       "    expanded = !expanded;\n",
       "  });\n",
       "})();\n",
       "</script>\n"
      ],
      "text/plain": [
       "GlyphRenderer(id='2143014e-e127-43ec-bbc1-485af2bd5465', ...)"
      ]
     },
     "execution_count": 56,
     "metadata": {},
     "output_type": "execute_result"
    }
   ],
   "source": [
    "from bokeh.plotting import figure, output_file, show, ColumnDataSource\n",
    "from bokeh.models import HoverTool, Arrow, OpenHead\n",
    "\n",
    "hover = HoverTool(tooltips=[(\"true action\",\"@desc\"), (\"prediction\", \"@pred\"),\n",
    "                            (\"not_skip_gate\", \"@not_skip\")],names=['circle'])\n",
    "p = figure( tools=[hover])\n",
    "\n",
    "for i in range(1, len(X)):\n",
    "    p.add_layout(Arrow(end=OpenHead(line_color=\"firebrick\", size=10, line_width=2),\n",
    "                       x_start=X[i-1,0], y_start=X[i-1,1],\n",
    "                       x_end=X[i,0], y_end=X[i,1], line_color='gray'))\n",
    "\n",
    "source = ColumnDataSource(data=dict(\n",
    "    x=X[:,0],\n",
    "    y=X[:,1],\n",
    "    desc=[ting[0] for ting in cool_list],\n",
    "    pred = [ting[2] for ting in cool_list],\n",
    "    not_skip = [ting[3] for ting in cool_list]\n",
    "))\n",
    "p.circle('x','y', source=source, size=10, name='circle')\n",
    "# p.line(X[:,0], X[:,1])\n",
    "\n",
    "X1 = pca.transform([ting[4] for ting in cool_list])\n",
    "source = ColumnDataSource(data=dict(\n",
    "    x=X1[:,0],\n",
    "    y=X1[:,1],\n",
    "    desc=[ting[0] for ting in cool_list],\n",
    "    pred = [ting[2] for ting in cool_list],\n",
    "    not_skip = [ting[3] for ting in cool_list]\n",
    "))\n",
    "p.circle('x','y', source=source, size=5, color='green', name='circle')\n",
    "\n",
    "X2 = pca.transform([ting[5] for ting in cool_list])\n",
    "source = ColumnDataSource(data=dict(\n",
    "    x=X2[:,0],\n",
    "    y=X2[:,1],\n",
    "    desc=[ting[0] for ting in cool_list],\n",
    "    pred = [ting[2] for ting in cool_list],\n",
    "    not_skip = [ting[3] for ting in cool_list]\n",
    "))\n",
    "p.circle('x','y', source=source, size=5, color='red', name='circle')\n",
    "\n",
    "x = pca.transform(np.zeros((1,embed_dim)))\n",
    "p.circle(x[0,0], x[0,1], size=5, color='magenta')\n",
    "p.circle(X[0,0], X[0,1], size=10, color='green')\n",
    "p.circle(X[-1,0], X[-1,1], size=10, color='red')\n"
   ]
  },
  {
   "cell_type": "code",
   "execution_count": 57,
   "metadata": {
    "scrolled": false
   },
   "outputs": [
    {
     "data": {
      "text/html": [
       "\n",
       "<div class=\"bk-root\">\n",
       "    <div class=\"bk-plotdiv\" id=\"276c554a-96b5-44fe-883e-3b4c0eb4ed77\"></div>\n",
       "</div>"
      ]
     },
     "metadata": {},
     "output_type": "display_data"
    },
    {
     "data": {
      "application/javascript": [
       "(function(root) {\n",
       "  function embed_document(root) {\n",
       "    \n",
       "  var docs_json = {\"cb76cffd-57a1-4810-b6bd-8ac2326a67f9\":{\"roots\":{\"references\":[{\"attributes\":{\"line_color\":{\"value\":\"firebrick\"},\"line_width\":{\"value\":2},\"plot\":null,\"size\":10},\"id\":\"30001d72-42b0-4859-b331-69329daac53d\",\"type\":\"OpenHead\"},{\"attributes\":{\"data_source\":{\"id\":\"8329a2db-ad8d-4839-a13b-6e4330ce3296\",\"type\":\"ColumnDataSource\"},\"glyph\":{\"id\":\"e956e1f5-a557-4fdb-a73d-a1a8f7a0100b\",\"type\":\"Circle\"},\"hover_glyph\":null,\"muted_glyph\":null,\"name\":\"circle\",\"nonselection_glyph\":{\"id\":\"d2201cca-d33a-4651-b5ec-0e0e924cae8c\",\"type\":\"Circle\"},\"selection_glyph\":null,\"view\":{\"id\":\"d0a6f084-559d-48dd-bd1f-815a436bc62c\",\"type\":\"CDSView\"}},\"id\":\"e8d7b353-88df-43f0-9157-9b3470b3dda3\",\"type\":\"GlyphRenderer\"},{\"attributes\":{\"end\":{\"id\":\"30001d72-42b0-4859-b331-69329daac53d\",\"type\":\"OpenHead\"},\"line_color\":{\"value\":\"gray\"},\"plot\":{\"id\":\"1b563e82-ce4a-4ac9-a009-b25bb881a712\",\"subtype\":\"Figure\",\"type\":\"Plot\"},\"source\":null,\"start\":null,\"x_end\":{\"value\":0.653247590920051},\"x_start\":{\"value\":-0.35073242896815715},\"y_end\":{\"value\":0.01413551209168328},\"y_start\":{\"value\":0.5338868474493785}},\"id\":\"ff7f5769-67c4-44c0-a36c-31f709425b1f\",\"type\":\"Arrow\"},{\"attributes\":{\"line_color\":{\"value\":\"firebrick\"},\"line_width\":{\"value\":2},\"plot\":null,\"size\":10},\"id\":\"f3bde3da-3406-4cd3-b400-054774ba3458\",\"type\":\"OpenHead\"},{\"attributes\":{\"line_color\":{\"value\":\"firebrick\"},\"line_width\":{\"value\":2},\"plot\":null,\"size\":10},\"id\":\"61f0d9c0-5da2-4bce-b3f5-ccc95dc0746c\",\"type\":\"OpenHead\"},{\"attributes\":{},\"id\":\"1387b653-d5ce-4271-9fe2-37f38d92dcaa\",\"type\":\"BasicTickFormatter\"},{\"attributes\":{\"fill_color\":{\"value\":\"#1f77b4\"},\"line_color\":{\"value\":\"#1f77b4\"},\"size\":{\"units\":\"screen\",\"value\":10},\"x\":{\"field\":\"x\"},\"y\":{\"field\":\"y\"}},\"id\":\"7b52cc91-6533-4feb-bdb8-bd917e06909c\",\"type\":\"Circle\"},{\"attributes\":{\"end\":{\"id\":\"f3bde3da-3406-4cd3-b400-054774ba3458\",\"type\":\"OpenHead\"},\"line_color\":{\"value\":\"gray\"},\"plot\":{\"id\":\"1b563e82-ce4a-4ac9-a009-b25bb881a712\",\"subtype\":\"Figure\",\"type\":\"Plot\"},\"source\":null,\"start\":null,\"x_end\":{\"value\":-0.35438109376942406},\"x_start\":{\"value\":0.653247590920051},\"y_end\":{\"value\":0.5398437140808146},\"y_start\":{\"value\":0.01413551209168328}},\"id\":\"ec7f37be-221e-49e8-a754-29f85c26b6e0\",\"type\":\"Arrow\"},{\"attributes\":{\"line_color\":{\"value\":\"firebrick\"},\"line_width\":{\"value\":2},\"plot\":null,\"size\":10},\"id\":\"c562d57e-d71b-49c6-98d4-144005b78c8f\",\"type\":\"OpenHead\"},{\"attributes\":{\"end\":{\"id\":\"61f0d9c0-5da2-4bce-b3f5-ccc95dc0746c\",\"type\":\"OpenHead\"},\"line_color\":{\"value\":\"gray\"},\"plot\":{\"id\":\"1b563e82-ce4a-4ac9-a009-b25bb881a712\",\"subtype\":\"Figure\",\"type\":\"Plot\"},\"source\":null,\"start\":null,\"x_end\":{\"value\":0.6134307749772622},\"x_start\":{\"value\":-0.35438109376942406},\"y_end\":{\"value\":0.03590967052786958},\"y_start\":{\"value\":0.5398437140808146}},\"id\":\"eb58a44b-f22d-4103-864a-93e31a54ac3d\",\"type\":\"Arrow\"},{\"attributes\":{\"line_color\":{\"value\":\"firebrick\"},\"line_width\":{\"value\":2},\"plot\":null,\"size\":10},\"id\":\"4baac10c-f012-4d00-a51c-a3932cc94152\",\"type\":\"OpenHead\"},{\"attributes\":{\"end\":{\"id\":\"c562d57e-d71b-49c6-98d4-144005b78c8f\",\"type\":\"OpenHead\"},\"line_color\":{\"value\":\"gray\"},\"plot\":{\"id\":\"1b563e82-ce4a-4ac9-a009-b25bb881a712\",\"subtype\":\"Figure\",\"type\":\"Plot\"},\"source\":null,\"start\":null,\"x_end\":{\"value\":0.3107942228784128},\"x_start\":{\"value\":0.6134307749772622},\"y_end\":{\"value\":0.23530149845907528},\"y_start\":{\"value\":0.03590967052786958}},\"id\":\"b097fdb0-01b6-4a69-ac69-deb4a14e7839\",\"type\":\"Arrow\"},{\"attributes\":{\"line_color\":{\"value\":\"firebrick\"},\"line_width\":{\"value\":2},\"plot\":null,\"size\":10},\"id\":\"a6551bb0-6dfa-4b6b-82ef-c0d52038d2a9\",\"type\":\"OpenHead\"},{\"attributes\":{\"end\":{\"id\":\"4baac10c-f012-4d00-a51c-a3932cc94152\",\"type\":\"OpenHead\"},\"line_color\":{\"value\":\"gray\"},\"plot\":{\"id\":\"1b563e82-ce4a-4ac9-a009-b25bb881a712\",\"subtype\":\"Figure\",\"type\":\"Plot\"},\"source\":null,\"start\":null,\"x_end\":{\"value\":0.5904285057207034},\"x_start\":{\"value\":0.3107942228784128},\"y_end\":{\"value\":-0.01460457238536169},\"y_start\":{\"value\":0.23530149845907528}},\"id\":\"02d02289-d4c2-4623-ac1a-10ce7bbaaf11\",\"type\":\"Arrow\"},{\"attributes\":{\"line_color\":{\"value\":\"firebrick\"},\"line_width\":{\"value\":2},\"plot\":null,\"size\":10},\"id\":\"acd329eb-44c4-4641-8af9-1856d878260e\",\"type\":\"OpenHead\"},{\"attributes\":{\"end\":{\"id\":\"a6551bb0-6dfa-4b6b-82ef-c0d52038d2a9\",\"type\":\"OpenHead\"},\"line_color\":{\"value\":\"gray\"},\"plot\":{\"id\":\"1b563e82-ce4a-4ac9-a009-b25bb881a712\",\"subtype\":\"Figure\",\"type\":\"Plot\"},\"source\":null,\"start\":null,\"x_end\":{\"value\":0.007905313778514276},\"x_start\":{\"value\":0.5904285057207034},\"y_end\":{\"value\":0.0008113245371208987},\"y_start\":{\"value\":-0.01460457238536169}},\"id\":\"e6311799-cb18-414a-ab6e-7075fd319890\",\"type\":\"Arrow\"},{\"attributes\":{\"line_color\":{\"value\":\"firebrick\"},\"line_width\":{\"value\":2},\"plot\":null,\"size\":10},\"id\":\"9de11ac6-21d8-44e9-8bfc-771702364df3\",\"type\":\"OpenHead\"},{\"attributes\":{\"end\":{\"id\":\"acd329eb-44c4-4641-8af9-1856d878260e\",\"type\":\"OpenHead\"},\"line_color\":{\"value\":\"gray\"},\"plot\":{\"id\":\"1b563e82-ce4a-4ac9-a009-b25bb881a712\",\"subtype\":\"Figure\",\"type\":\"Plot\"},\"source\":null,\"start\":null,\"x_end\":{\"value\":-0.1551563992287984},\"x_start\":{\"value\":0.007905313778514276},\"y_end\":{\"value\":-0.08766100820648196},\"y_start\":{\"value\":0.0008113245371208987}},\"id\":\"d9430a6e-bcff-4532-a283-548bd6258efe\",\"type\":\"Arrow\"},{\"attributes\":{\"line_color\":{\"value\":\"firebrick\"},\"line_width\":{\"value\":2},\"plot\":null,\"size\":10},\"id\":\"98ae9a0f-7500-4e52-86cc-fa63e2e65664\",\"type\":\"OpenHead\"},{\"attributes\":{\"end\":{\"id\":\"9de11ac6-21d8-44e9-8bfc-771702364df3\",\"type\":\"OpenHead\"},\"line_color\":{\"value\":\"gray\"},\"plot\":{\"id\":\"1b563e82-ce4a-4ac9-a009-b25bb881a712\",\"subtype\":\"Figure\",\"type\":\"Plot\"},\"source\":null,\"start\":null,\"x_end\":{\"value\":-0.009629595373593198},\"x_start\":{\"value\":-0.1551563992287984},\"y_end\":{\"value\":0.06530446562492685},\"y_start\":{\"value\":-0.08766100820648196}},\"id\":\"7879633a-79a8-4d5f-a12c-33e586a87efb\",\"type\":\"Arrow\"},{\"attributes\":{\"line_color\":{\"value\":\"firebrick\"},\"line_width\":{\"value\":2},\"plot\":null,\"size\":10},\"id\":\"4e178834-a36a-4340-951b-e7fda320d15e\",\"type\":\"OpenHead\"},{\"attributes\":{\"end\":{\"id\":\"98ae9a0f-7500-4e52-86cc-fa63e2e65664\",\"type\":\"OpenHead\"},\"line_color\":{\"value\":\"gray\"},\"plot\":{\"id\":\"1b563e82-ce4a-4ac9-a009-b25bb881a712\",\"subtype\":\"Figure\",\"type\":\"Plot\"},\"source\":null,\"start\":null,\"x_end\":{\"value\":-0.31029088505556746},\"x_start\":{\"value\":-0.009629595373593198},\"y_end\":{\"value\":-0.3522559073042871},\"y_start\":{\"value\":0.06530446562492685}},\"id\":\"cc0e6573-7ef8-4c97-b756-c13597e539f1\",\"type\":\"Arrow\"},{\"attributes\":{\"line_color\":{\"value\":\"firebrick\"},\"line_width\":{\"value\":2},\"plot\":null,\"size\":10},\"id\":\"a5e939a5-1b84-4882-a88e-a48810d0c7e4\",\"type\":\"OpenHead\"},{\"attributes\":{\"end\":{\"id\":\"4e178834-a36a-4340-951b-e7fda320d15e\",\"type\":\"OpenHead\"},\"line_color\":{\"value\":\"gray\"},\"plot\":{\"id\":\"1b563e82-ce4a-4ac9-a009-b25bb881a712\",\"subtype\":\"Figure\",\"type\":\"Plot\"},\"source\":null,\"start\":null,\"x_end\":{\"value\":-0.6045038660718521},\"x_start\":{\"value\":-0.31029088505556746},\"y_end\":{\"value\":-0.06769191010912638},\"y_start\":{\"value\":-0.3522559073042871}},\"id\":\"759520d1-2062-4a95-9cfa-9163d8ce23e2\",\"type\":\"Arrow\"},{\"attributes\":{\"line_color\":{\"value\":\"firebrick\"},\"line_width\":{\"value\":2},\"plot\":null,\"size\":10},\"id\":\"f5a1f53e-1936-48ae-a80b-201e35c7e6d4\",\"type\":\"OpenHead\"},{\"attributes\":{\"end\":{\"id\":\"a5e939a5-1b84-4882-a88e-a48810d0c7e4\",\"type\":\"OpenHead\"},\"line_color\":{\"value\":\"gray\"},\"plot\":{\"id\":\"1b563e82-ce4a-4ac9-a009-b25bb881a712\",\"subtype\":\"Figure\",\"type\":\"Plot\"},\"source\":null,\"start\":null,\"x_end\":{\"value\":-0.3300229408930273},\"x_start\":{\"value\":-0.6045038660718521},\"y_end\":{\"value\":-0.39849452779197814},\"y_start\":{\"value\":-0.06769191010912638}},\"id\":\"18d6221d-e9ce-473d-a8c7-4a869c7aca02\",\"type\":\"Arrow\"},{\"attributes\":{\"line_color\":{\"value\":\"firebrick\"},\"line_width\":{\"value\":2},\"plot\":null,\"size\":10},\"id\":\"7546801b-f17c-49ca-b98d-6506e57eba55\",\"type\":\"OpenHead\"},{\"attributes\":{\"callback\":null,\"column_names\":[\"x\",\"y\",\"desc\",\"pred\",\"not_skip\"],\"data\":{\"desc\":[\"- utter_ask_details\",\"- utter_ask_location\",\"- utter_chitchat\",\"- utter_ask_location\",\"- utter_chitchat\",\"- utter_ask_location\",\"- utter_chitchat\",\"- utter_ask_location\",\"- utter_explain_location_hotel\",\"- utter_ask_location\",\"- utter_ask_startdate\",\"- utter_more_info_hotel\",\"- utter_ask_startdate\",\"- utter_ask_price\",\"- utter_explain_price_hotel\",\"- utter_ask_price\",\"- utter_more_info_hotel\",\"- utter_ask_price\",\"- utter_filled_slots\",\"- action_search_hotel\",\"- utter_suggest_hotel\",\"- utter_happy\"],\"not_skip\":[{\"__ndarray__\":\"AACAPw==\",\"dtype\":\"float32\",\"shape\":[1]},{\"__ndarray__\":\"AACAPw==\",\"dtype\":\"float32\",\"shape\":[1]},{\"__ndarray__\":\"AACAPw==\",\"dtype\":\"float32\",\"shape\":[1]},{\"__ndarray__\":\"AAAAAA==\",\"dtype\":\"float32\",\"shape\":[1]},{\"__ndarray__\":\"AACAPw==\",\"dtype\":\"float32\",\"shape\":[1]},{\"__ndarray__\":\"AAAAAA==\",\"dtype\":\"float32\",\"shape\":[1]},{\"__ndarray__\":\"AACAPw==\",\"dtype\":\"float32\",\"shape\":[1]},{\"__ndarray__\":\"AAAAAA==\",\"dtype\":\"float32\",\"shape\":[1]},{\"__ndarray__\":\"AAAAAA==\",\"dtype\":\"float32\",\"shape\":[1]},{\"__ndarray__\":\"AAAAAA==\",\"dtype\":\"float32\",\"shape\":[1]},{\"__ndarray__\":\"AACAPw==\",\"dtype\":\"float32\",\"shape\":[1]},{\"__ndarray__\":\"AACAPw==\",\"dtype\":\"float32\",\"shape\":[1]},{\"__ndarray__\":\"AAAAAA==\",\"dtype\":\"float32\",\"shape\":[1]},{\"__ndarray__\":\"AACAPw==\",\"dtype\":\"float32\",\"shape\":[1]},{\"__ndarray__\":\"AAAAAA==\",\"dtype\":\"float32\",\"shape\":[1]},{\"__ndarray__\":\"AAAAAA==\",\"dtype\":\"float32\",\"shape\":[1]},{\"__ndarray__\":\"AACAPw==\",\"dtype\":\"float32\",\"shape\":[1]},{\"__ndarray__\":\"AAAAAA==\",\"dtype\":\"float32\",\"shape\":[1]},{\"__ndarray__\":\"AACAPw==\",\"dtype\":\"float32\",\"shape\":[1]},{\"__ndarray__\":\"AACAPw==\",\"dtype\":\"float32\",\"shape\":[1]},{\"__ndarray__\":\"AACAPw==\",\"dtype\":\"float32\",\"shape\":[1]},{\"__ndarray__\":\"AACAPw==\",\"dtype\":\"float32\",\"shape\":[1]}],\"pred\":[\"- utter_ask_details\",\"- utter_ask_location\",\"- utter_chitchat\",\"- utter_ask_location\",\"- utter_chitchat\",\"- utter_ask_location\",\"- utter_chitchat\",\"- utter_ask_location\",\"- utter_explain_location_hotel\",\"- utter_ask_location\",\"- utter_ask_startdate\",\"- utter_more_info_hotel\",\"- utter_ask_startdate\",\"- utter_ask_price\",\"- utter_explain_price_hotel\",\"- utter_ask_price\",\"- utter_more_info_hotel\",\"- utter_ask_price\",\"- utter_ask_startdate\",\"- action_search_hotel\",\"- utter_suggest_hotel\",\"- utter_happy\"],\"x\":{\"__ndarray__\":\"UCFVa6Dvur9t4AI3FazgP84w4m7PGdG/c2YhbOM+5j/2JgRuZnLWvzAo5n1n5+Q/XN0DCi6u1r+RZJyTOaHjP+saw3MN5NM/TUpWUsrk4j/fjSVBqTCAP6P1OTYq3MO/fVmgaa64g78s4ONMztvTv4Ox4n0YWOO/xC2Eihgf1b+t0MmeBlvMv6b6k37aONe/3OS8EJEfhb+JCin0S2nFv9qyWvQX27q/c9gs1rByo78=\",\"dtype\":\"float64\",\"shape\":[22]},\"y\":{\"__ndarray__\":\"rYWdV3XPyL/JlTBTw4m+v3ny2N/yX+E/iYu6pEJnWL9s6LHemRXhP/v9KlEU84w/arQdU2ZG4T/X/g2ZwGKiP1ZvSghcHs4/LDYjhgDpjb/CcTst4pVKPyKYYavzcLa/H04kIMu3sD9NdmxcXIvWvytaH8xBVLG/uhggMe+A2b/sAG1MZ769v1QCvcg9BMy/CuxPZm/0mT/gwWCkJuHYv5zgTTB7D7K/kCsrcUKFoj8=\",\"dtype\":\"float64\",\"shape\":[22]}},\"selected\":null,\"selection_policy\":null},\"id\":\"8c613001-1343-45aa-abd9-8ae4022f66ea\",\"type\":\"ColumnDataSource\"},{\"attributes\":{\"end\":{\"id\":\"f5a1f53e-1936-48ae-a80b-201e35c7e6d4\",\"type\":\"OpenHead\"},\"line_color\":{\"value\":\"gray\"},\"plot\":{\"id\":\"1b563e82-ce4a-4ac9-a009-b25bb881a712\",\"subtype\":\"Figure\",\"type\":\"Plot\"},\"source\":null,\"start\":null,\"x_end\":{\"value\":-0.2215278888066953},\"x_start\":{\"value\":-0.3300229408930273},\"y_end\":{\"value\":-0.11618657699455398},\"y_start\":{\"value\":-0.39849452779197814}},\"id\":\"bd1f621f-fdc3-48a8-9413-13a40b1d6493\",\"type\":\"Arrow\"},{\"attributes\":{\"line_color\":{\"value\":\"firebrick\"},\"line_width\":{\"value\":2},\"plot\":null,\"size\":10},\"id\":\"a5ad30ed-301f-454c-a362-8aeaa4d46833\",\"type\":\"OpenHead\"},{\"attributes\":{\"end\":{\"id\":\"7546801b-f17c-49ca-b98d-6506e57eba55\",\"type\":\"OpenHead\"},\"line_color\":{\"value\":\"gray\"},\"plot\":{\"id\":\"1b563e82-ce4a-4ac9-a009-b25bb881a712\",\"subtype\":\"Figure\",\"type\":\"Plot\"},\"source\":null,\"start\":null,\"x_end\":{\"value\":-0.36284506188523336},\"x_start\":{\"value\":-0.2215278888066953},\"y_end\":{\"value\":-0.2188794355552256},\"y_start\":{\"value\":-0.11618657699455398}},\"id\":\"8dc97582-ccc4-4b40-87fb-4585e8cc6a2f\",\"type\":\"Arrow\"},{\"attributes\":{\"line_color\":{\"value\":\"firebrick\"},\"line_width\":{\"value\":2},\"plot\":null,\"size\":10},\"id\":\"d78e822f-53d6-4674-bf64-9ec443f52242\",\"type\":\"OpenHead\"},{\"attributes\":{\"end\":{\"id\":\"a5ad30ed-301f-454c-a362-8aeaa4d46833\",\"type\":\"OpenHead\"},\"line_color\":{\"value\":\"gray\"},\"plot\":{\"id\":\"1b563e82-ce4a-4ac9-a009-b25bb881a712\",\"subtype\":\"Figure\",\"type\":\"Plot\"},\"source\":null,\"start\":null,\"x_end\":{\"value\":-0.010314114878939788},\"x_start\":{\"value\":-0.36284506188523336},\"y_end\":{\"value\":0.025346508617058595},\"y_start\":{\"value\":-0.2188794355552256}},\"id\":\"f271696d-b92a-4736-8325-339d067dd567\",\"type\":\"Arrow\"},{\"attributes\":{\"line_color\":{\"value\":\"firebrick\"},\"line_width\":{\"value\":2},\"plot\":null,\"size\":10},\"id\":\"ff5265e7-7c92-4e94-9b76-88f9477bf3b4\",\"type\":\"OpenHead\"},{\"attributes\":{\"end\":{\"id\":\"d78e822f-53d6-4674-bf64-9ec443f52242\",\"type\":\"OpenHead\"},\"line_color\":{\"value\":\"gray\"},\"plot\":{\"id\":\"1b563e82-ce4a-4ac9-a009-b25bb881a712\",\"subtype\":\"Figure\",\"type\":\"Plot\"},\"source\":null,\"start\":null,\"x_end\":{\"value\":-0.16727590009584883},\"x_start\":{\"value\":-0.010314114878939788},\"y_end\":{\"value\":-0.3887421231511592},\"y_start\":{\"value\":0.025346508617058595}},\"id\":\"edef6c62-c1b9-4bb5-a950-8618c52b794e\",\"type\":\"Arrow\"},{\"attributes\":{\"line_color\":{\"value\":\"firebrick\"},\"line_width\":{\"value\":2},\"plot\":null,\"size\":10},\"id\":\"819b001e-f763-4267-aadc-28188d42979f\",\"type\":\"OpenHead\"},{\"attributes\":{\"end\":{\"id\":\"ff5265e7-7c92-4e94-9b76-88f9477bf3b4\",\"type\":\"OpenHead\"},\"line_color\":{\"value\":\"gray\"},\"plot\":{\"id\":\"1b563e82-ce4a-4ac9-a009-b25bb881a712\",\"subtype\":\"Figure\",\"type\":\"Plot\"},\"source\":null,\"start\":null,\"x_end\":{\"value\":-0.10490560260468432},\"x_start\":{\"value\":-0.16727590009584883},\"y_end\":{\"value\":-0.07054872445394483},\"y_start\":{\"value\":-0.3887421231511592}},\"id\":\"a20b248f-8af9-4213-8bcb-32127d7d5b9c\",\"type\":\"Arrow\"},{\"attributes\":{\"data_source\":{\"id\":\"8c613001-1343-45aa-abd9-8ae4022f66ea\",\"type\":\"ColumnDataSource\"},\"glyph\":{\"id\":\"7b52cc91-6533-4feb-bdb8-bd917e06909c\",\"type\":\"Circle\"},\"hover_glyph\":null,\"muted_glyph\":null,\"name\":\"circle\",\"nonselection_glyph\":{\"id\":\"fff0089d-b24f-431a-84ab-d4e606a65bf6\",\"type\":\"Circle\"},\"selection_glyph\":null,\"view\":{\"id\":\"e759b39c-fbc0-4050-b5fb-b83a7774b469\",\"type\":\"CDSView\"}},\"id\":\"7ed38f08-5565-47af-9954-8556e895e6df\",\"type\":\"GlyphRenderer\"},{\"attributes\":{\"end\":{\"id\":\"819b001e-f763-4267-aadc-28188d42979f\",\"type\":\"OpenHead\"},\"line_color\":{\"value\":\"gray\"},\"plot\":{\"id\":\"1b563e82-ce4a-4ac9-a009-b25bb881a712\",\"subtype\":\"Figure\",\"type\":\"Plot\"},\"source\":null,\"start\":null,\"x_end\":{\"value\":-0.03798439611857498},\"x_start\":{\"value\":-0.10490560260468432},\"y_end\":{\"value\":0.03617293960049672},\"y_start\":{\"value\":-0.07054872445394483}},\"id\":\"9870333d-bc56-41bb-8cf6-19ca03cd1dfa\",\"type\":\"Arrow\"},{\"attributes\":{\"source\":{\"id\":\"8c613001-1343-45aa-abd9-8ae4022f66ea\",\"type\":\"ColumnDataSource\"}},\"id\":\"e759b39c-fbc0-4050-b5fb-b83a7774b469\",\"type\":\"CDSView\"},{\"attributes\":{\"source\":{\"id\":\"8329a2db-ad8d-4839-a13b-6e4330ce3296\",\"type\":\"ColumnDataSource\"}},\"id\":\"d0a6f084-559d-48dd-bd1f-815a436bc62c\",\"type\":\"CDSView\"},{\"attributes\":{\"data_source\":{\"id\":\"a806e14e-8406-4034-bc29-ba3771735d6a\",\"type\":\"ColumnDataSource\"},\"glyph\":{\"id\":\"993b5e34-5358-450e-a2c0-04c8c3d56cbc\",\"type\":\"Circle\"},\"hover_glyph\":null,\"muted_glyph\":null,\"name\":\"circle\",\"nonselection_glyph\":{\"id\":\"ac151c70-4206-4ed6-aff7-4af6b12f2c55\",\"type\":\"Circle\"},\"selection_glyph\":null,\"view\":{\"id\":\"c360d452-7a7b-4343-9d85-5d359e6a7340\",\"type\":\"CDSView\"}},\"id\":\"63f68950-affd-42e2-b5e3-cde5957a7f8e\",\"type\":\"GlyphRenderer\"},{\"attributes\":{\"fill_alpha\":{\"value\":0.1},\"fill_color\":{\"value\":\"#1f77b4\"},\"line_alpha\":{\"value\":0.1},\"line_color\":{\"value\":\"#1f77b4\"},\"size\":{\"units\":\"screen\",\"value\":10},\"x\":{\"field\":\"x\"},\"y\":{\"field\":\"y\"}},\"id\":\"fff0089d-b24f-431a-84ab-d4e606a65bf6\",\"type\":\"Circle\"},{\"attributes\":{\"plot\":null,\"text\":\"\"},\"id\":\"71c18f9d-e9b5-4666-bdd2-52c000c2f325\",\"type\":\"Title\"},{\"attributes\":{\"callback\":null,\"data\":{},\"selected\":null,\"selection_policy\":null},\"id\":\"25bbb9f9-bf8e-49ae-9e89-1c24d6e01903\",\"type\":\"ColumnDataSource\"},{\"attributes\":{},\"id\":\"dee1c0f8-8849-4382-9634-2bb94e0287d0\",\"type\":\"BasicTickFormatter\"},{\"attributes\":{\"fill_color\":{\"value\":\"green\"},\"line_color\":{\"value\":\"green\"},\"size\":{\"units\":\"screen\",\"value\":10},\"x\":{\"value\":-0.10521891231940583},\"y\":{\"value\":-0.1938311269578156}},\"id\":\"72ffc13a-88f0-4b42-9fa7-33aa99a5ab56\",\"type\":\"Circle\"},{\"attributes\":{\"callback\":null,\"data\":{},\"selected\":null,\"selection_policy\":null},\"id\":\"a1dcb868-75da-4407-bb71-1db47cae7c29\",\"type\":\"ColumnDataSource\"},{\"attributes\":{\"callback\":null,\"column_names\":[\"x\",\"y\",\"desc\",\"pred\",\"not_skip\"],\"data\":{\"desc\":[\"- utter_ask_details\",\"- utter_ask_location\",\"- utter_chitchat\",\"- utter_ask_location\",\"- utter_chitchat\",\"- utter_ask_location\",\"- utter_chitchat\",\"- utter_ask_location\",\"- utter_explain_location_hotel\",\"- utter_ask_location\",\"- utter_ask_startdate\",\"- utter_more_info_hotel\",\"- utter_ask_startdate\",\"- utter_ask_price\",\"- utter_explain_price_hotel\",\"- utter_ask_price\",\"- utter_more_info_hotel\",\"- utter_ask_price\",\"- utter_filled_slots\",\"- action_search_hotel\",\"- utter_suggest_hotel\",\"- utter_happy\"],\"not_skip\":[{\"__ndarray__\":\"AACAPw==\",\"dtype\":\"float32\",\"shape\":[1]},{\"__ndarray__\":\"AACAPw==\",\"dtype\":\"float32\",\"shape\":[1]},{\"__ndarray__\":\"AACAPw==\",\"dtype\":\"float32\",\"shape\":[1]},{\"__ndarray__\":\"AAAAAA==\",\"dtype\":\"float32\",\"shape\":[1]},{\"__ndarray__\":\"AACAPw==\",\"dtype\":\"float32\",\"shape\":[1]},{\"__ndarray__\":\"AAAAAA==\",\"dtype\":\"float32\",\"shape\":[1]},{\"__ndarray__\":\"AACAPw==\",\"dtype\":\"float32\",\"shape\":[1]},{\"__ndarray__\":\"AAAAAA==\",\"dtype\":\"float32\",\"shape\":[1]},{\"__ndarray__\":\"AAAAAA==\",\"dtype\":\"float32\",\"shape\":[1]},{\"__ndarray__\":\"AAAAAA==\",\"dtype\":\"float32\",\"shape\":[1]},{\"__ndarray__\":\"AACAPw==\",\"dtype\":\"float32\",\"shape\":[1]},{\"__ndarray__\":\"AACAPw==\",\"dtype\":\"float32\",\"shape\":[1]},{\"__ndarray__\":\"AAAAAA==\",\"dtype\":\"float32\",\"shape\":[1]},{\"__ndarray__\":\"AACAPw==\",\"dtype\":\"float32\",\"shape\":[1]},{\"__ndarray__\":\"AAAAAA==\",\"dtype\":\"float32\",\"shape\":[1]},{\"__ndarray__\":\"AAAAAA==\",\"dtype\":\"float32\",\"shape\":[1]},{\"__ndarray__\":\"AACAPw==\",\"dtype\":\"float32\",\"shape\":[1]},{\"__ndarray__\":\"AAAAAA==\",\"dtype\":\"float32\",\"shape\":[1]},{\"__ndarray__\":\"AACAPw==\",\"dtype\":\"float32\",\"shape\":[1]},{\"__ndarray__\":\"AACAPw==\",\"dtype\":\"float32\",\"shape\":[1]},{\"__ndarray__\":\"AACAPw==\",\"dtype\":\"float32\",\"shape\":[1]},{\"__ndarray__\":\"AACAPw==\",\"dtype\":\"float32\",\"shape\":[1]}],\"pred\":[\"- utter_ask_details\",\"- utter_ask_location\",\"- utter_chitchat\",\"- utter_ask_location\",\"- utter_chitchat\",\"- utter_ask_location\",\"- utter_chitchat\",\"- utter_ask_location\",\"- utter_explain_location_hotel\",\"- utter_ask_location\",\"- utter_ask_startdate\",\"- utter_more_info_hotel\",\"- utter_ask_startdate\",\"- utter_ask_price\",\"- utter_explain_price_hotel\",\"- utter_ask_price\",\"- utter_more_info_hotel\",\"- utter_ask_price\",\"- utter_ask_startdate\",\"- action_search_hotel\",\"- utter_suggest_hotel\",\"- utter_happy\"],\"x\":{\"__ndarray__\":\"ty++wYpWpb9gTdNBYsWiv8AFmrwtC6S/EMDGKTq92j9Dxx/xi8ijvwHS76ha+ds/X7ks8cL/o7+43GImSqzbP+U2WnL/6do/LwRdy+iB3D9P+1mRqPWgv2dQ9yaotKO/FJ3yZ0yauj/kajlK9Uijvww3Ir+Kbsa/60taTtnzx793c5C+yO6mv4o+mMsazcS/QJTbFKH6pb/FUMjvdnG6v9SKgfs0mWi/q2YVDKQKpb8=\",\"dtype\":\"float64\",\"shape\":[22]},\"y\":{\"__ndarray__\":\"iIWz4F5emb95MVgKplC2v8XQQCBTrJq/xkyN3JaLrL9wFre5JbCZvy7FVnR8uqG/5BrAUD/BmL8jBmfVXcWUv4U3Yu6ZDHm//3n9mpvidT+ep1szNgSavyW1cUABQ5m/ZBZWxInEij8ZvdYSCBKcv6HvAtWVt8u/lwDC+LKBzb8kPRAYJIyfvxhRcPIsds+/1vRfnSXgmr9HYSDXkXbAv2X/71/7CsG/8fokmJnrnb8=\",\"dtype\":\"float64\",\"shape\":[22]}},\"selected\":null,\"selection_policy\":null},\"id\":\"8329a2db-ad8d-4839-a13b-6e4330ce3296\",\"type\":\"ColumnDataSource\"},{\"attributes\":{\"fill_color\":{\"value\":\"green\"},\"line_color\":{\"value\":\"green\"},\"size\":{\"units\":\"screen\",\"value\":5},\"x\":{\"field\":\"x\"},\"y\":{\"field\":\"y\"}},\"id\":\"e956e1f5-a557-4fdb-a73d-a1a8f7a0100b\",\"type\":\"Circle\"},{\"attributes\":{\"fill_alpha\":{\"value\":0.1},\"fill_color\":{\"value\":\"#1f77b4\"},\"line_alpha\":{\"value\":0.1},\"line_color\":{\"value\":\"#1f77b4\"},\"size\":{\"units\":\"screen\",\"value\":5},\"x\":{\"field\":\"x\"},\"y\":{\"field\":\"y\"}},\"id\":\"d2201cca-d33a-4651-b5ec-0e0e924cae8c\",\"type\":\"Circle\"},{\"attributes\":{\"below\":[{\"id\":\"fa25e232-04af-4ffe-b6ce-0ec18ded9f7f\",\"type\":\"LinearAxis\"}],\"left\":[{\"id\":\"374f484e-1141-486c-8331-295126170a69\",\"type\":\"LinearAxis\"}],\"renderers\":[{\"id\":\"fa25e232-04af-4ffe-b6ce-0ec18ded9f7f\",\"type\":\"LinearAxis\"},{\"id\":\"85060311-a892-48a8-9995-902d86a51b97\",\"type\":\"Grid\"},{\"id\":\"374f484e-1141-486c-8331-295126170a69\",\"type\":\"LinearAxis\"},{\"id\":\"3863b276-39de-4e66-a857-fd2f45f1941a\",\"type\":\"Grid\"},{\"id\":\"e5fb87bc-2cf7-4c86-87e5-77e321d28262\",\"type\":\"Arrow\"},{\"id\":\"031c1a6b-cfff-409c-92a3-efeffb79c4fe\",\"type\":\"Arrow\"},{\"id\":\"51ec00d5-5f18-4d76-91b2-7c640f4c25ec\",\"type\":\"Arrow\"},{\"id\":\"190e2d04-07ec-403f-926f-1b7171017a13\",\"type\":\"Arrow\"},{\"id\":\"ff7f5769-67c4-44c0-a36c-31f709425b1f\",\"type\":\"Arrow\"},{\"id\":\"ec7f37be-221e-49e8-a754-29f85c26b6e0\",\"type\":\"Arrow\"},{\"id\":\"eb58a44b-f22d-4103-864a-93e31a54ac3d\",\"type\":\"Arrow\"},{\"id\":\"b097fdb0-01b6-4a69-ac69-deb4a14e7839\",\"type\":\"Arrow\"},{\"id\":\"02d02289-d4c2-4623-ac1a-10ce7bbaaf11\",\"type\":\"Arrow\"},{\"id\":\"e6311799-cb18-414a-ab6e-7075fd319890\",\"type\":\"Arrow\"},{\"id\":\"d9430a6e-bcff-4532-a283-548bd6258efe\",\"type\":\"Arrow\"},{\"id\":\"7879633a-79a8-4d5f-a12c-33e586a87efb\",\"type\":\"Arrow\"},{\"id\":\"cc0e6573-7ef8-4c97-b756-c13597e539f1\",\"type\":\"Arrow\"},{\"id\":\"759520d1-2062-4a95-9cfa-9163d8ce23e2\",\"type\":\"Arrow\"},{\"id\":\"18d6221d-e9ce-473d-a8c7-4a869c7aca02\",\"type\":\"Arrow\"},{\"id\":\"bd1f621f-fdc3-48a8-9413-13a40b1d6493\",\"type\":\"Arrow\"},{\"id\":\"8dc97582-ccc4-4b40-87fb-4585e8cc6a2f\",\"type\":\"Arrow\"},{\"id\":\"f271696d-b92a-4736-8325-339d067dd567\",\"type\":\"Arrow\"},{\"id\":\"edef6c62-c1b9-4bb5-a950-8618c52b794e\",\"type\":\"Arrow\"},{\"id\":\"a20b248f-8af9-4213-8bcb-32127d7d5b9c\",\"type\":\"Arrow\"},{\"id\":\"9870333d-bc56-41bb-8cf6-19ca03cd1dfa\",\"type\":\"Arrow\"},{\"id\":\"7ed38f08-5565-47af-9954-8556e895e6df\",\"type\":\"GlyphRenderer\"},{\"id\":\"e8d7b353-88df-43f0-9157-9b3470b3dda3\",\"type\":\"GlyphRenderer\"},{\"id\":\"63f68950-affd-42e2-b5e3-cde5957a7f8e\",\"type\":\"GlyphRenderer\"},{\"id\":\"954b0f47-93d3-446e-92c1-8cfdea0f0e38\",\"type\":\"GlyphRenderer\"},{\"id\":\"71661a7b-b3bb-4d55-aaaa-75c1b4c0b566\",\"type\":\"GlyphRenderer\"},{\"id\":\"2143014e-e127-43ec-bbc1-485af2bd5465\",\"type\":\"GlyphRenderer\"}],\"title\":{\"id\":\"71c18f9d-e9b5-4666-bdd2-52c000c2f325\",\"type\":\"Title\"},\"toolbar\":{\"id\":\"c744859b-9bde-4710-82d0-5459f568c46b\",\"type\":\"Toolbar\"},\"x_range\":{\"id\":\"3c04cc6b-0947-4d0c-8c14-0573ce819bd6\",\"type\":\"DataRange1d\"},\"x_scale\":{\"id\":\"7650db6c-1300-4079-b2b8-9c02fb68f666\",\"type\":\"LinearScale\"},\"y_range\":{\"id\":\"b1fda4eb-5e48-4b22-8ad0-9c11d8bece7f\",\"type\":\"DataRange1d\"},\"y_scale\":{\"id\":\"48114931-d276-41c6-a94e-44730ddb0be5\",\"type\":\"LinearScale\"}},\"id\":\"1b563e82-ce4a-4ac9-a009-b25bb881a712\",\"subtype\":\"Figure\",\"type\":\"Plot\"},{\"attributes\":{\"source\":{\"id\":\"a806e14e-8406-4034-bc29-ba3771735d6a\",\"type\":\"ColumnDataSource\"}},\"id\":\"c360d452-7a7b-4343-9d85-5d359e6a7340\",\"type\":\"CDSView\"},{\"attributes\":{\"callback\":null,\"names\":[\"circle\"],\"tooltips\":[[\"true action\",\"@desc\"],[\"prediction\",\"@pred\"],[\"not_skip_gate\",\"@not_skip\"]]},\"id\":\"951f20fa-793e-4556-8af2-c1b5e669d049\",\"type\":\"HoverTool\"},{\"attributes\":{\"line_color\":{\"value\":\"firebrick\"},\"line_width\":{\"value\":2},\"plot\":null,\"size\":10},\"id\":\"e6e6b8e6-ff52-44e7-8e4c-aba0eced5db8\",\"type\":\"OpenHead\"},{\"attributes\":{\"fill_color\":{\"value\":\"magenta\"},\"line_color\":{\"value\":\"magenta\"},\"size\":{\"units\":\"screen\",\"value\":5},\"x\":{\"value\":-0.04205151687922943},\"y\":{\"value\":-0.024463145610086532}},\"id\":\"58ca9bd5-09e2-4baa-8147-3e9084137288\",\"type\":\"Circle\"},{\"attributes\":{},\"id\":\"b670714d-79f5-4a6d-9e84-1b3cdeb88027\",\"type\":\"BasicTicker\"},{\"attributes\":{\"callback\":null,\"column_names\":[\"x\",\"y\",\"desc\",\"pred\",\"not_skip\"],\"data\":{\"desc\":[\"- utter_ask_details\",\"- utter_ask_location\",\"- utter_chitchat\",\"- utter_ask_location\",\"- utter_chitchat\",\"- utter_ask_location\",\"- utter_chitchat\",\"- utter_ask_location\",\"- utter_explain_location_hotel\",\"- utter_ask_location\",\"- utter_ask_startdate\",\"- utter_more_info_hotel\",\"- utter_ask_startdate\",\"- utter_ask_price\",\"- utter_explain_price_hotel\",\"- utter_ask_price\",\"- utter_more_info_hotel\",\"- utter_ask_price\",\"- utter_filled_slots\",\"- action_search_hotel\",\"- utter_suggest_hotel\",\"- utter_happy\"],\"not_skip\":[{\"__ndarray__\":\"AACAPw==\",\"dtype\":\"float32\",\"shape\":[1]},{\"__ndarray__\":\"AACAPw==\",\"dtype\":\"float32\",\"shape\":[1]},{\"__ndarray__\":\"AACAPw==\",\"dtype\":\"float32\",\"shape\":[1]},{\"__ndarray__\":\"AAAAAA==\",\"dtype\":\"float32\",\"shape\":[1]},{\"__ndarray__\":\"AACAPw==\",\"dtype\":\"float32\",\"shape\":[1]},{\"__ndarray__\":\"AAAAAA==\",\"dtype\":\"float32\",\"shape\":[1]},{\"__ndarray__\":\"AACAPw==\",\"dtype\":\"float32\",\"shape\":[1]},{\"__ndarray__\":\"AAAAAA==\",\"dtype\":\"float32\",\"shape\":[1]},{\"__ndarray__\":\"AAAAAA==\",\"dtype\":\"float32\",\"shape\":[1]},{\"__ndarray__\":\"AAAAAA==\",\"dtype\":\"float32\",\"shape\":[1]},{\"__ndarray__\":\"AACAPw==\",\"dtype\":\"float32\",\"shape\":[1]},{\"__ndarray__\":\"AACAPw==\",\"dtype\":\"float32\",\"shape\":[1]},{\"__ndarray__\":\"AAAAAA==\",\"dtype\":\"float32\",\"shape\":[1]},{\"__ndarray__\":\"AACAPw==\",\"dtype\":\"float32\",\"shape\":[1]},{\"__ndarray__\":\"AAAAAA==\",\"dtype\":\"float32\",\"shape\":[1]},{\"__ndarray__\":\"AAAAAA==\",\"dtype\":\"float32\",\"shape\":[1]},{\"__ndarray__\":\"AACAPw==\",\"dtype\":\"float32\",\"shape\":[1]},{\"__ndarray__\":\"AAAAAA==\",\"dtype\":\"float32\",\"shape\":[1]},{\"__ndarray__\":\"AACAPw==\",\"dtype\":\"float32\",\"shape\":[1]},{\"__ndarray__\":\"AACAPw==\",\"dtype\":\"float32\",\"shape\":[1]},{\"__ndarray__\":\"AACAPw==\",\"dtype\":\"float32\",\"shape\":[1]},{\"__ndarray__\":\"AACAPw==\",\"dtype\":\"float32\",\"shape\":[1]}],\"pred\":[\"- utter_ask_details\",\"- utter_ask_location\",\"- utter_chitchat\",\"- utter_ask_location\",\"- utter_chitchat\",\"- utter_ask_location\",\"- utter_chitchat\",\"- utter_ask_location\",\"- utter_explain_location_hotel\",\"- utter_ask_location\",\"- utter_ask_startdate\",\"- utter_more_info_hotel\",\"- utter_ask_startdate\",\"- utter_ask_price\",\"- utter_explain_price_hotel\",\"- utter_ask_price\",\"- utter_more_info_hotel\",\"- utter_ask_price\",\"- utter_ask_startdate\",\"- action_search_hotel\",\"- utter_suggest_hotel\",\"- utter_happy\"],\"x\":{\"__ndarray__\":\"IEg+Yj4Iu782uQbx7n/gP10yRI1iSdG/mfabmicfzj8hqMvJTarWv9KCZvr2SMY/tun8iS7f1r82jjVJYMrBPzD9E6rVbcO/YVjY7stauj/wva6we75Qv8uM4+TxUMS/p1cwxaLqw78QR/l7qCPUv4+pb3fkKd6/KkBFcEmsx7+X9F4dRgHMvzuokd6LBs+/AaRJSydUg78UtzNaBCW7v/vAaNYYbcK/+5KiitPvo78=\",\"dtype\":\"float64\",\"shape\":[22]},\"y\":{\"__ndarray__\":\"8CSNRUXFyL8hm91Rqfisv30gCYnubOE/pCMbgNuDnj8JO1sbtBrhP6f1woqk4Zg/9+VtYwlE4T9fbRB+AD+gP17t8h8lxcs/fl8AdwK9pr8O8FdKdMBcP6UB2dtqY7a/zCkyqQlwnD8BrWS1CVvWv+1ih1+y178/CCkYGcehyL8XKo3ElR68v+UCsHrcFGQ/hrOaGrfHmz/B/GOdqzbSv0s1cTSIhqM/dQVwSqD0pD8=\",\"dtype\":\"float64\",\"shape\":[22]}},\"selected\":null,\"selection_policy\":null},\"id\":\"a806e14e-8406-4034-bc29-ba3771735d6a\",\"type\":\"ColumnDataSource\"},{\"attributes\":{\"plot\":{\"id\":\"1b563e82-ce4a-4ac9-a009-b25bb881a712\",\"subtype\":\"Figure\",\"type\":\"Plot\"},\"ticker\":{\"id\":\"b670714d-79f5-4a6d-9e84-1b3cdeb88027\",\"type\":\"BasicTicker\"}},\"id\":\"85060311-a892-48a8-9995-902d86a51b97\",\"type\":\"Grid\"},{\"attributes\":{\"fill_color\":{\"value\":\"red\"},\"line_color\":{\"value\":\"red\"},\"size\":{\"units\":\"screen\",\"value\":5},\"x\":{\"field\":\"x\"},\"y\":{\"field\":\"y\"}},\"id\":\"993b5e34-5358-450e-a2c0-04c8c3d56cbc\",\"type\":\"Circle\"},{\"attributes\":{\"line_color\":{\"value\":\"firebrick\"},\"line_width\":{\"value\":2},\"plot\":null,\"size\":10},\"id\":\"118040be-4f3c-4391-b2ff-b81bb584f8e7\",\"type\":\"OpenHead\"},{\"attributes\":{\"fill_alpha\":{\"value\":0.1},\"fill_color\":{\"value\":\"#1f77b4\"},\"line_alpha\":{\"value\":0.1},\"line_color\":{\"value\":\"#1f77b4\"},\"size\":{\"units\":\"screen\",\"value\":5},\"x\":{\"field\":\"x\"},\"y\":{\"field\":\"y\"}},\"id\":\"ac151c70-4206-4ed6-aff7-4af6b12f2c55\",\"type\":\"Circle\"},{\"attributes\":{\"end\":{\"id\":\"e6e6b8e6-ff52-44e7-8e4c-aba0eced5db8\",\"type\":\"OpenHead\"},\"line_color\":{\"value\":\"gray\"},\"plot\":{\"id\":\"1b563e82-ce4a-4ac9-a009-b25bb881a712\",\"subtype\":\"Figure\",\"type\":\"Plot\"},\"source\":null,\"start\":null,\"x_end\":{\"value\":0.521006209796736},\"x_start\":{\"value\":-0.10521891231940583},\"y_end\":{\"value\":-0.11928959637642501},\"y_start\":{\"value\":-0.1938311269578156}},\"id\":\"e5fb87bc-2cf7-4c86-87e5-77e321d28262\",\"type\":\"Arrow\"},{\"attributes\":{\"source\":{\"id\":\"a1dcb868-75da-4407-bb71-1db47cae7c29\",\"type\":\"ColumnDataSource\"}},\"id\":\"11350dba-5849-4e08-b8c6-ea0e519ebbaa\",\"type\":\"CDSView\"},{\"attributes\":{\"data_source\":{\"id\":\"a1dcb868-75da-4407-bb71-1db47cae7c29\",\"type\":\"ColumnDataSource\"},\"glyph\":{\"id\":\"58ca9bd5-09e2-4baa-8147-3e9084137288\",\"type\":\"Circle\"},\"hover_glyph\":null,\"muted_glyph\":null,\"nonselection_glyph\":{\"id\":\"cc5a7775-a3df-44eb-82ef-48d03833299b\",\"type\":\"Circle\"},\"selection_glyph\":null,\"view\":{\"id\":\"11350dba-5849-4e08-b8c6-ea0e519ebbaa\",\"type\":\"CDSView\"}},\"id\":\"954b0f47-93d3-446e-92c1-8cfdea0f0e38\",\"type\":\"GlyphRenderer\"},{\"attributes\":{\"active_drag\":\"auto\",\"active_inspect\":\"auto\",\"active_scroll\":\"auto\",\"active_tap\":\"auto\",\"tools\":[{\"id\":\"951f20fa-793e-4556-8af2-c1b5e669d049\",\"type\":\"HoverTool\"}]},\"id\":\"c744859b-9bde-4710-82d0-5459f568c46b\",\"type\":\"Toolbar\"},{\"attributes\":{\"callback\":null},\"id\":\"b1fda4eb-5e48-4b22-8ad0-9c11d8bece7f\",\"type\":\"DataRange1d\"},{\"attributes\":{\"callback\":null},\"id\":\"3c04cc6b-0947-4d0c-8c14-0573ce819bd6\",\"type\":\"DataRange1d\"},{\"attributes\":{\"fill_alpha\":{\"value\":0.1},\"fill_color\":{\"value\":\"#1f77b4\"},\"line_alpha\":{\"value\":0.1},\"line_color\":{\"value\":\"#1f77b4\"},\"size\":{\"units\":\"screen\",\"value\":5},\"x\":{\"value\":-0.04205151687922943},\"y\":{\"value\":-0.024463145610086532}},\"id\":\"cc5a7775-a3df-44eb-82ef-48d03833299b\",\"type\":\"Circle\"},{\"attributes\":{\"end\":{\"id\":\"8e93b7df-20f7-4c40-acb1-b5b19f89c705\",\"type\":\"OpenHead\"},\"line_color\":{\"value\":\"gray\"},\"plot\":{\"id\":\"1b563e82-ce4a-4ac9-a009-b25bb881a712\",\"subtype\":\"Figure\",\"type\":\"Plot\"},\"source\":null,\"start\":null,\"x_end\":{\"value\":-0.35073242896815715},\"x_start\":{\"value\":0.6951768028186066},\"y_end\":{\"value\":0.5338868474493785},\"y_start\":{\"value\":-0.0014894629302168747}},\"id\":\"190e2d04-07ec-403f-926f-1b7171017a13\",\"type\":\"Arrow\"},{\"attributes\":{\"callback\":null,\"data\":{},\"selected\":null,\"selection_policy\":null},\"id\":\"13bf506c-63ed-4290-9aff-0b456ca36925\",\"type\":\"ColumnDataSource\"},{\"attributes\":{},\"id\":\"48114931-d276-41c6-a94e-44730ddb0be5\",\"type\":\"LinearScale\"},{\"attributes\":{\"fill_color\":{\"value\":\"red\"},\"line_color\":{\"value\":\"red\"},\"size\":{\"units\":\"screen\",\"value\":10},\"x\":{\"value\":-0.03798439611857498},\"y\":{\"value\":0.03617293960049672}},\"id\":\"50be9d56-a88c-4a99-aaa1-1e0a00b9d034\",\"type\":\"Circle\"},{\"attributes\":{},\"id\":\"7650db6c-1300-4079-b2b8-9c02fb68f666\",\"type\":\"LinearScale\"},{\"attributes\":{\"data_source\":{\"id\":\"25bbb9f9-bf8e-49ae-9e89-1c24d6e01903\",\"type\":\"ColumnDataSource\"},\"glyph\":{\"id\":\"72ffc13a-88f0-4b42-9fa7-33aa99a5ab56\",\"type\":\"Circle\"},\"hover_glyph\":null,\"muted_glyph\":null,\"nonselection_glyph\":{\"id\":\"4c2ee859-c2fd-484a-8474-e161e1bd8540\",\"type\":\"Circle\"},\"selection_glyph\":null,\"view\":{\"id\":\"d1b154b4-9a63-469c-866b-52e92cbd0085\",\"type\":\"CDSView\"}},\"id\":\"71661a7b-b3bb-4d55-aaaa-75c1b4c0b566\",\"type\":\"GlyphRenderer\"},{\"attributes\":{},\"id\":\"0b67abdb-0cf4-4261-acee-8ceb68dcad54\",\"type\":\"BasicTicker\"},{\"attributes\":{\"source\":{\"id\":\"25bbb9f9-bf8e-49ae-9e89-1c24d6e01903\",\"type\":\"ColumnDataSource\"}},\"id\":\"d1b154b4-9a63-469c-866b-52e92cbd0085\",\"type\":\"CDSView\"},{\"attributes\":{\"formatter\":{\"id\":\"dee1c0f8-8849-4382-9634-2bb94e0287d0\",\"type\":\"BasicTickFormatter\"},\"plot\":{\"id\":\"1b563e82-ce4a-4ac9-a009-b25bb881a712\",\"subtype\":\"Figure\",\"type\":\"Plot\"},\"ticker\":{\"id\":\"b670714d-79f5-4a6d-9e84-1b3cdeb88027\",\"type\":\"BasicTicker\"}},\"id\":\"fa25e232-04af-4ffe-b6ce-0ec18ded9f7f\",\"type\":\"LinearAxis\"},{\"attributes\":{\"fill_alpha\":{\"value\":0.1},\"fill_color\":{\"value\":\"#1f77b4\"},\"line_alpha\":{\"value\":0.1},\"line_color\":{\"value\":\"#1f77b4\"},\"size\":{\"units\":\"screen\",\"value\":10},\"x\":{\"value\":-0.10521891231940583},\"y\":{\"value\":-0.1938311269578156}},\"id\":\"4c2ee859-c2fd-484a-8474-e161e1bd8540\",\"type\":\"Circle\"},{\"attributes\":{\"formatter\":{\"id\":\"1387b653-d5ce-4271-9fe2-37f38d92dcaa\",\"type\":\"BasicTickFormatter\"},\"plot\":{\"id\":\"1b563e82-ce4a-4ac9-a009-b25bb881a712\",\"subtype\":\"Figure\",\"type\":\"Plot\"},\"ticker\":{\"id\":\"0b67abdb-0cf4-4261-acee-8ceb68dcad54\",\"type\":\"BasicTicker\"}},\"id\":\"374f484e-1141-486c-8331-295126170a69\",\"type\":\"LinearAxis\"},{\"attributes\":{\"fill_alpha\":{\"value\":0.1},\"fill_color\":{\"value\":\"#1f77b4\"},\"line_alpha\":{\"value\":0.1},\"line_color\":{\"value\":\"#1f77b4\"},\"size\":{\"units\":\"screen\",\"value\":10},\"x\":{\"value\":-0.03798439611857498},\"y\":{\"value\":0.03617293960049672}},\"id\":\"0c4090bc-6479-42de-af2c-ff1fd19fe758\",\"type\":\"Circle\"},{\"attributes\":{\"dimension\":1,\"plot\":{\"id\":\"1b563e82-ce4a-4ac9-a009-b25bb881a712\",\"subtype\":\"Figure\",\"type\":\"Plot\"},\"ticker\":{\"id\":\"0b67abdb-0cf4-4261-acee-8ceb68dcad54\",\"type\":\"BasicTicker\"}},\"id\":\"3863b276-39de-4e66-a857-fd2f45f1941a\",\"type\":\"Grid\"},{\"attributes\":{\"data_source\":{\"id\":\"13bf506c-63ed-4290-9aff-0b456ca36925\",\"type\":\"ColumnDataSource\"},\"glyph\":{\"id\":\"50be9d56-a88c-4a99-aaa1-1e0a00b9d034\",\"type\":\"Circle\"},\"hover_glyph\":null,\"muted_glyph\":null,\"nonselection_glyph\":{\"id\":\"0c4090bc-6479-42de-af2c-ff1fd19fe758\",\"type\":\"Circle\"},\"selection_glyph\":null,\"view\":{\"id\":\"d725be10-2124-42fd-8709-25d7379c1c85\",\"type\":\"CDSView\"}},\"id\":\"2143014e-e127-43ec-bbc1-485af2bd5465\",\"type\":\"GlyphRenderer\"},{\"attributes\":{\"line_color\":{\"value\":\"firebrick\"},\"line_width\":{\"value\":2},\"plot\":null,\"size\":10},\"id\":\"a8e4d9a7-d51b-4245-914b-382356234e89\",\"type\":\"OpenHead\"},{\"attributes\":{\"end\":{\"id\":\"118040be-4f3c-4391-b2ff-b81bb584f8e7\",\"type\":\"OpenHead\"},\"line_color\":{\"value\":\"gray\"},\"plot\":{\"id\":\"1b563e82-ce4a-4ac9-a009-b25bb881a712\",\"subtype\":\"Figure\",\"type\":\"Plot\"},\"source\":null,\"start\":null,\"x_end\":{\"value\":-0.267200334820484},\"x_start\":{\"value\":0.521006209796736},\"y_end\":{\"value\":0.5429624912281518},\"y_start\":{\"value\":-0.11928959637642501}},\"id\":\"031c1a6b-cfff-409c-92a3-efeffb79c4fe\",\"type\":\"Arrow\"},{\"attributes\":{\"source\":{\"id\":\"13bf506c-63ed-4290-9aff-0b456ca36925\",\"type\":\"ColumnDataSource\"}},\"id\":\"d725be10-2124-42fd-8709-25d7379c1c85\",\"type\":\"CDSView\"},{\"attributes\":{\"line_color\":{\"value\":\"firebrick\"},\"line_width\":{\"value\":2},\"plot\":null,\"size\":10},\"id\":\"8e93b7df-20f7-4c40-acb1-b5b19f89c705\",\"type\":\"OpenHead\"},{\"attributes\":{\"end\":{\"id\":\"a8e4d9a7-d51b-4245-914b-382356234e89\",\"type\":\"OpenHead\"},\"line_color\":{\"value\":\"gray\"},\"plot\":{\"id\":\"1b563e82-ce4a-4ac9-a009-b25bb881a712\",\"subtype\":\"Figure\",\"type\":\"Plot\"},\"source\":null,\"start\":null,\"x_end\":{\"value\":0.6951768028186066},\"x_start\":{\"value\":-0.267200334820484},\"y_end\":{\"value\":-0.0014894629302168747},\"y_start\":{\"value\":0.5429624912281518}},\"id\":\"51ec00d5-5f18-4d76-91b2-7c640f4c25ec\",\"type\":\"Arrow\"}],\"root_ids\":[\"1b563e82-ce4a-4ac9-a009-b25bb881a712\"]},\"title\":\"Bokeh Application\",\"version\":\"0.12.15\"}};\n",
       "  var render_items = [{\"docid\":\"cb76cffd-57a1-4810-b6bd-8ac2326a67f9\",\"elementid\":\"276c554a-96b5-44fe-883e-3b4c0eb4ed77\",\"modelid\":\"1b563e82-ce4a-4ac9-a009-b25bb881a712\"}];\n",
       "  root.Bokeh.embed.embed_items_notebook(docs_json, render_items);\n",
       "\n",
       "  }\n",
       "  if (root.Bokeh !== undefined) {\n",
       "    embed_document(root);\n",
       "  } else {\n",
       "    var attempts = 0;\n",
       "    var timer = setInterval(function(root) {\n",
       "      if (root.Bokeh !== undefined) {\n",
       "        embed_document(root);\n",
       "        clearInterval(timer);\n",
       "      }\n",
       "      attempts++;\n",
       "      if (attempts > 100) {\n",
       "        console.log(\"Bokeh: ERROR: Unable to run BokehJS code because BokehJS library is missing\")\n",
       "        clearInterval(timer);\n",
       "      }\n",
       "    }, 10, root)\n",
       "  }\n",
       "})(window);"
      ],
      "application/vnd.bokehjs_exec.v0+json": ""
     },
     "metadata": {
      "application/vnd.bokehjs_exec.v0+json": {
       "id": "1b563e82-ce4a-4ac9-a009-b25bb881a712"
      }
     },
     "output_type": "display_data"
    }
   ],
   "source": [
    "show(p)"
   ]
  },
  {
   "cell_type": "code",
   "execution_count": 58,
   "metadata": {},
   "outputs": [
    {
     "name": "stdout",
     "output_type": "stream",
     "text": [
      "5\n",
      "27\n",
      "13\n",
      "4\n",
      "16\n",
      "6\n",
      "11\n",
      "41\n",
      "0\n",
      "UtterAction('utter_explain_location_hotel')\n"
     ]
    }
   ],
   "source": [
    "print(domain.index_for_action('utter_ask_price'))\n",
    "print(domain.index_for_action('utter_ask_details'))\n",
    "print(domain.index_for_action('utter_explain_details_hotel'))\n",
    "print(domain.index_for_action('utter_ask_location'))\n",
    "print(domain.index_for_action('utter_explain_location_hotel'))\n",
    "print(domain.index_for_action('utter_ask_startdate'))\n",
    "print(domain.index_for_action('utter_suggest_hotel'))\n",
    "print(domain.index_for_action('action_search_hotel'))\n",
    "print(domain.index_for_action('action_listen'))\n",
    "print(domain.action_for_index(16))"
   ]
  },
  {
   "cell_type": "code",
   "execution_count": 59,
   "metadata": {},
   "outputs": [
    {
     "data": {
      "text/plain": [
       "(20,)"
      ]
     },
     "execution_count": 59,
     "metadata": {},
     "output_type": "execute_result"
    }
   ],
   "source": [
    "utter_price = embedding_from_tracker(\"#generate story\\n{}\".format(story_block), bot=True)[0,-1,27,:]\n",
    "utter_price.shape"
   ]
  },
  {
   "cell_type": "code",
   "execution_count": 60,
   "metadata": {},
   "outputs": [
    {
     "name": "stdout",
     "output_type": "stream",
     "text": [
      "(20,)\n"
     ]
    },
    {
     "data": {
      "text/html": [
       "<div style=\"display: table;\"><div style=\"display: table-row;\"><div style=\"display: table-cell;\"><b title=\"bokeh.models.renderers.GlyphRenderer\">GlyphRenderer</b>(</div><div style=\"display: table-cell;\">id&nbsp;=&nbsp;'6d9a2ffb-742c-4e71-b06d-6ba788695732', <span id=\"058dfca7-d978-4789-b206-870176eea35d\" style=\"cursor: pointer;\">&hellip;)</span></div></div><div class=\"3563cdf3-9794-4c7f-95c6-bc269171e5a6\" style=\"display: none;\"><div style=\"display: table-cell;\"></div><div style=\"display: table-cell;\">data_source&nbsp;=&nbsp;ColumnDataSource(id='0b7a96d0-f7f6-428d-ab8a-a973b71c0d77', ...),</div></div><div class=\"3563cdf3-9794-4c7f-95c6-bc269171e5a6\" style=\"display: none;\"><div style=\"display: table-cell;\"></div><div style=\"display: table-cell;\">glyph&nbsp;=&nbsp;Circle(id='c7e2a1f0-99a6-44a1-83be-fe355db23da7', ...),</div></div><div class=\"3563cdf3-9794-4c7f-95c6-bc269171e5a6\" style=\"display: none;\"><div style=\"display: table-cell;\"></div><div style=\"display: table-cell;\">hover_glyph&nbsp;=&nbsp;None,</div></div><div class=\"3563cdf3-9794-4c7f-95c6-bc269171e5a6\" style=\"display: none;\"><div style=\"display: table-cell;\"></div><div style=\"display: table-cell;\">js_event_callbacks&nbsp;=&nbsp;{},</div></div><div class=\"3563cdf3-9794-4c7f-95c6-bc269171e5a6\" style=\"display: none;\"><div style=\"display: table-cell;\"></div><div style=\"display: table-cell;\">js_property_callbacks&nbsp;=&nbsp;{},</div></div><div class=\"3563cdf3-9794-4c7f-95c6-bc269171e5a6\" style=\"display: none;\"><div style=\"display: table-cell;\"></div><div style=\"display: table-cell;\">level&nbsp;=&nbsp;'glyph',</div></div><div class=\"3563cdf3-9794-4c7f-95c6-bc269171e5a6\" style=\"display: none;\"><div style=\"display: table-cell;\"></div><div style=\"display: table-cell;\">muted&nbsp;=&nbsp;False,</div></div><div class=\"3563cdf3-9794-4c7f-95c6-bc269171e5a6\" style=\"display: none;\"><div style=\"display: table-cell;\"></div><div style=\"display: table-cell;\">muted_glyph&nbsp;=&nbsp;None,</div></div><div class=\"3563cdf3-9794-4c7f-95c6-bc269171e5a6\" style=\"display: none;\"><div style=\"display: table-cell;\"></div><div style=\"display: table-cell;\">name&nbsp;=&nbsp;None,</div></div><div class=\"3563cdf3-9794-4c7f-95c6-bc269171e5a6\" style=\"display: none;\"><div style=\"display: table-cell;\"></div><div style=\"display: table-cell;\">nonselection_glyph&nbsp;=&nbsp;Circle(id='dffd2c28-1447-4c13-92f8-0bf985c75304', ...),</div></div><div class=\"3563cdf3-9794-4c7f-95c6-bc269171e5a6\" style=\"display: none;\"><div style=\"display: table-cell;\"></div><div style=\"display: table-cell;\">selection_glyph&nbsp;=&nbsp;None,</div></div><div class=\"3563cdf3-9794-4c7f-95c6-bc269171e5a6\" style=\"display: none;\"><div style=\"display: table-cell;\"></div><div style=\"display: table-cell;\">subscribed_events&nbsp;=&nbsp;[],</div></div><div class=\"3563cdf3-9794-4c7f-95c6-bc269171e5a6\" style=\"display: none;\"><div style=\"display: table-cell;\"></div><div style=\"display: table-cell;\">tags&nbsp;=&nbsp;[],</div></div><div class=\"3563cdf3-9794-4c7f-95c6-bc269171e5a6\" style=\"display: none;\"><div style=\"display: table-cell;\"></div><div style=\"display: table-cell;\">view&nbsp;=&nbsp;CDSView(id='e0a012a9-ae27-4e93-a3ac-99b275b97e32', ...),</div></div><div class=\"3563cdf3-9794-4c7f-95c6-bc269171e5a6\" style=\"display: none;\"><div style=\"display: table-cell;\"></div><div style=\"display: table-cell;\">visible&nbsp;=&nbsp;True,</div></div><div class=\"3563cdf3-9794-4c7f-95c6-bc269171e5a6\" style=\"display: none;\"><div style=\"display: table-cell;\"></div><div style=\"display: table-cell;\">x_range_name&nbsp;=&nbsp;'default',</div></div><div class=\"3563cdf3-9794-4c7f-95c6-bc269171e5a6\" style=\"display: none;\"><div style=\"display: table-cell;\"></div><div style=\"display: table-cell;\">y_range_name&nbsp;=&nbsp;'default')</div></div></div>\n",
       "<script>\n",
       "(function() {\n",
       "  var expanded = false;\n",
       "  var ellipsis = document.getElementById(\"058dfca7-d978-4789-b206-870176eea35d\");\n",
       "  ellipsis.addEventListener(\"click\", function() {\n",
       "    var rows = document.getElementsByClassName(\"3563cdf3-9794-4c7f-95c6-bc269171e5a6\");\n",
       "    for (var i = 0; i < rows.length; i++) {\n",
       "      var el = rows[i];\n",
       "      el.style.display = expanded ? \"none\" : \"table-row\";\n",
       "    }\n",
       "    ellipsis.innerHTML = expanded ? \"&hellip;)\" : \"&lsaquo;&lsaquo;&lsaquo;\";\n",
       "    expanded = !expanded;\n",
       "  });\n",
       "})();\n",
       "</script>\n"
      ],
      "text/plain": [
       "GlyphRenderer(id='6d9a2ffb-742c-4e71-b06d-6ba788695732', ...)"
      ]
     },
     "execution_count": 60,
     "metadata": {},
     "output_type": "execute_result"
    }
   ],
   "source": [
    "print(utter_price.shape)\n",
    "x = pca.transform(utter_price.reshape(1,-1))\n",
    "p.circle(x[0][0], x[0][1], color='black')"
   ]
  },
  {
   "cell_type": "code",
   "execution_count": 61,
   "metadata": {},
   "outputs": [
    {
     "data": {
      "text/html": [
       "\n",
       "<div class=\"bk-root\">\n",
       "    <div class=\"bk-plotdiv\" id=\"072f23d2-fe44-4d04-90ed-ffa440c947a9\"></div>\n",
       "</div>"
      ]
     },
     "metadata": {},
     "output_type": "display_data"
    },
    {
     "data": {
      "application/javascript": [
       "(function(root) {\n",
       "  function embed_document(root) {\n",
       "    \n",
       "  var docs_json = {\"bc0ab64d-b82a-4389-953f-83957a0704c6\":{\"roots\":{\"references\":[{\"attributes\":{\"line_color\":{\"value\":\"firebrick\"},\"line_width\":{\"value\":2},\"plot\":null,\"size\":10},\"id\":\"30001d72-42b0-4859-b331-69329daac53d\",\"type\":\"OpenHead\"},{\"attributes\":{\"data_source\":{\"id\":\"8329a2db-ad8d-4839-a13b-6e4330ce3296\",\"type\":\"ColumnDataSource\"},\"glyph\":{\"id\":\"e956e1f5-a557-4fdb-a73d-a1a8f7a0100b\",\"type\":\"Circle\"},\"hover_glyph\":null,\"muted_glyph\":null,\"name\":\"circle\",\"nonselection_glyph\":{\"id\":\"d2201cca-d33a-4651-b5ec-0e0e924cae8c\",\"type\":\"Circle\"},\"selection_glyph\":null,\"view\":{\"id\":\"d0a6f084-559d-48dd-bd1f-815a436bc62c\",\"type\":\"CDSView\"}},\"id\":\"e8d7b353-88df-43f0-9157-9b3470b3dda3\",\"type\":\"GlyphRenderer\"},{\"attributes\":{\"end\":{\"id\":\"30001d72-42b0-4859-b331-69329daac53d\",\"type\":\"OpenHead\"},\"line_color\":{\"value\":\"gray\"},\"plot\":{\"id\":\"1b563e82-ce4a-4ac9-a009-b25bb881a712\",\"subtype\":\"Figure\",\"type\":\"Plot\"},\"source\":null,\"start\":null,\"x_end\":{\"value\":0.653247590920051},\"x_start\":{\"value\":-0.35073242896815715},\"y_end\":{\"value\":0.01413551209168328},\"y_start\":{\"value\":0.5338868474493785}},\"id\":\"ff7f5769-67c4-44c0-a36c-31f709425b1f\",\"type\":\"Arrow\"},{\"attributes\":{\"line_color\":{\"value\":\"firebrick\"},\"line_width\":{\"value\":2},\"plot\":null,\"size\":10},\"id\":\"8e93b7df-20f7-4c40-acb1-b5b19f89c705\",\"type\":\"OpenHead\"},{\"attributes\":{\"line_color\":{\"value\":\"firebrick\"},\"line_width\":{\"value\":2},\"plot\":null,\"size\":10},\"id\":\"f3bde3da-3406-4cd3-b400-054774ba3458\",\"type\":\"OpenHead\"},{\"attributes\":{\"line_color\":{\"value\":\"firebrick\"},\"line_width\":{\"value\":2},\"plot\":null,\"size\":10},\"id\":\"61f0d9c0-5da2-4bce-b3f5-ccc95dc0746c\",\"type\":\"OpenHead\"},{\"attributes\":{\"source\":{\"id\":\"0b7a96d0-f7f6-428d-ab8a-a973b71c0d77\",\"type\":\"ColumnDataSource\"}},\"id\":\"e0a012a9-ae27-4e93-a3ac-99b275b97e32\",\"type\":\"CDSView\"},{\"attributes\":{},\"id\":\"1387b653-d5ce-4271-9fe2-37f38d92dcaa\",\"type\":\"BasicTickFormatter\"},{\"attributes\":{\"fill_color\":{\"value\":\"#1f77b4\"},\"line_color\":{\"value\":\"#1f77b4\"},\"size\":{\"units\":\"screen\",\"value\":10},\"x\":{\"field\":\"x\"},\"y\":{\"field\":\"y\"}},\"id\":\"7b52cc91-6533-4feb-bdb8-bd917e06909c\",\"type\":\"Circle\"},{\"attributes\":{\"end\":{\"id\":\"f3bde3da-3406-4cd3-b400-054774ba3458\",\"type\":\"OpenHead\"},\"line_color\":{\"value\":\"gray\"},\"plot\":{\"id\":\"1b563e82-ce4a-4ac9-a009-b25bb881a712\",\"subtype\":\"Figure\",\"type\":\"Plot\"},\"source\":null,\"start\":null,\"x_end\":{\"value\":-0.35438109376942406},\"x_start\":{\"value\":0.653247590920051},\"y_end\":{\"value\":0.5398437140808146},\"y_start\":{\"value\":0.01413551209168328}},\"id\":\"ec7f37be-221e-49e8-a754-29f85c26b6e0\",\"type\":\"Arrow\"},{\"attributes\":{\"line_color\":{\"value\":\"firebrick\"},\"line_width\":{\"value\":2},\"plot\":null,\"size\":10},\"id\":\"c562d57e-d71b-49c6-98d4-144005b78c8f\",\"type\":\"OpenHead\"},{\"attributes\":{\"end\":{\"id\":\"61f0d9c0-5da2-4bce-b3f5-ccc95dc0746c\",\"type\":\"OpenHead\"},\"line_color\":{\"value\":\"gray\"},\"plot\":{\"id\":\"1b563e82-ce4a-4ac9-a009-b25bb881a712\",\"subtype\":\"Figure\",\"type\":\"Plot\"},\"source\":null,\"start\":null,\"x_end\":{\"value\":0.6134307749772622},\"x_start\":{\"value\":-0.35438109376942406},\"y_end\":{\"value\":0.03590967052786958},\"y_start\":{\"value\":0.5398437140808146}},\"id\":\"eb58a44b-f22d-4103-864a-93e31a54ac3d\",\"type\":\"Arrow\"},{\"attributes\":{\"line_color\":{\"value\":\"firebrick\"},\"line_width\":{\"value\":2},\"plot\":null,\"size\":10},\"id\":\"4baac10c-f012-4d00-a51c-a3932cc94152\",\"type\":\"OpenHead\"},{\"attributes\":{\"end\":{\"id\":\"c562d57e-d71b-49c6-98d4-144005b78c8f\",\"type\":\"OpenHead\"},\"line_color\":{\"value\":\"gray\"},\"plot\":{\"id\":\"1b563e82-ce4a-4ac9-a009-b25bb881a712\",\"subtype\":\"Figure\",\"type\":\"Plot\"},\"source\":null,\"start\":null,\"x_end\":{\"value\":0.3107942228784128},\"x_start\":{\"value\":0.6134307749772622},\"y_end\":{\"value\":0.23530149845907528},\"y_start\":{\"value\":0.03590967052786958}},\"id\":\"b097fdb0-01b6-4a69-ac69-deb4a14e7839\",\"type\":\"Arrow\"},{\"attributes\":{\"line_color\":{\"value\":\"firebrick\"},\"line_width\":{\"value\":2},\"plot\":null,\"size\":10},\"id\":\"a6551bb0-6dfa-4b6b-82ef-c0d52038d2a9\",\"type\":\"OpenHead\"},{\"attributes\":{\"end\":{\"id\":\"4baac10c-f012-4d00-a51c-a3932cc94152\",\"type\":\"OpenHead\"},\"line_color\":{\"value\":\"gray\"},\"plot\":{\"id\":\"1b563e82-ce4a-4ac9-a009-b25bb881a712\",\"subtype\":\"Figure\",\"type\":\"Plot\"},\"source\":null,\"start\":null,\"x_end\":{\"value\":0.5904285057207034},\"x_start\":{\"value\":0.3107942228784128},\"y_end\":{\"value\":-0.01460457238536169},\"y_start\":{\"value\":0.23530149845907528}},\"id\":\"02d02289-d4c2-4623-ac1a-10ce7bbaaf11\",\"type\":\"Arrow\"},{\"attributes\":{\"line_color\":{\"value\":\"firebrick\"},\"line_width\":{\"value\":2},\"plot\":null,\"size\":10},\"id\":\"acd329eb-44c4-4641-8af9-1856d878260e\",\"type\":\"OpenHead\"},{\"attributes\":{\"end\":{\"id\":\"a6551bb0-6dfa-4b6b-82ef-c0d52038d2a9\",\"type\":\"OpenHead\"},\"line_color\":{\"value\":\"gray\"},\"plot\":{\"id\":\"1b563e82-ce4a-4ac9-a009-b25bb881a712\",\"subtype\":\"Figure\",\"type\":\"Plot\"},\"source\":null,\"start\":null,\"x_end\":{\"value\":0.007905313778514276},\"x_start\":{\"value\":0.5904285057207034},\"y_end\":{\"value\":0.0008113245371208987},\"y_start\":{\"value\":-0.01460457238536169}},\"id\":\"e6311799-cb18-414a-ab6e-7075fd319890\",\"type\":\"Arrow\"},{\"attributes\":{\"line_color\":{\"value\":\"firebrick\"},\"line_width\":{\"value\":2},\"plot\":null,\"size\":10},\"id\":\"9de11ac6-21d8-44e9-8bfc-771702364df3\",\"type\":\"OpenHead\"},{\"attributes\":{\"end\":{\"id\":\"acd329eb-44c4-4641-8af9-1856d878260e\",\"type\":\"OpenHead\"},\"line_color\":{\"value\":\"gray\"},\"plot\":{\"id\":\"1b563e82-ce4a-4ac9-a009-b25bb881a712\",\"subtype\":\"Figure\",\"type\":\"Plot\"},\"source\":null,\"start\":null,\"x_end\":{\"value\":-0.1551563992287984},\"x_start\":{\"value\":0.007905313778514276},\"y_end\":{\"value\":-0.08766100820648196},\"y_start\":{\"value\":0.0008113245371208987}},\"id\":\"d9430a6e-bcff-4532-a283-548bd6258efe\",\"type\":\"Arrow\"},{\"attributes\":{\"line_color\":{\"value\":\"firebrick\"},\"line_width\":{\"value\":2},\"plot\":null,\"size\":10},\"id\":\"98ae9a0f-7500-4e52-86cc-fa63e2e65664\",\"type\":\"OpenHead\"},{\"attributes\":{\"end\":{\"id\":\"9de11ac6-21d8-44e9-8bfc-771702364df3\",\"type\":\"OpenHead\"},\"line_color\":{\"value\":\"gray\"},\"plot\":{\"id\":\"1b563e82-ce4a-4ac9-a009-b25bb881a712\",\"subtype\":\"Figure\",\"type\":\"Plot\"},\"source\":null,\"start\":null,\"x_end\":{\"value\":-0.009629595373593198},\"x_start\":{\"value\":-0.1551563992287984},\"y_end\":{\"value\":0.06530446562492685},\"y_start\":{\"value\":-0.08766100820648196}},\"id\":\"7879633a-79a8-4d5f-a12c-33e586a87efb\",\"type\":\"Arrow\"},{\"attributes\":{\"line_color\":{\"value\":\"firebrick\"},\"line_width\":{\"value\":2},\"plot\":null,\"size\":10},\"id\":\"4e178834-a36a-4340-951b-e7fda320d15e\",\"type\":\"OpenHead\"},{\"attributes\":{\"end\":{\"id\":\"98ae9a0f-7500-4e52-86cc-fa63e2e65664\",\"type\":\"OpenHead\"},\"line_color\":{\"value\":\"gray\"},\"plot\":{\"id\":\"1b563e82-ce4a-4ac9-a009-b25bb881a712\",\"subtype\":\"Figure\",\"type\":\"Plot\"},\"source\":null,\"start\":null,\"x_end\":{\"value\":-0.31029088505556746},\"x_start\":{\"value\":-0.009629595373593198},\"y_end\":{\"value\":-0.3522559073042871},\"y_start\":{\"value\":0.06530446562492685}},\"id\":\"cc0e6573-7ef8-4c97-b756-c13597e539f1\",\"type\":\"Arrow\"},{\"attributes\":{\"line_color\":{\"value\":\"firebrick\"},\"line_width\":{\"value\":2},\"plot\":null,\"size\":10},\"id\":\"a5e939a5-1b84-4882-a88e-a48810d0c7e4\",\"type\":\"OpenHead\"},{\"attributes\":{\"end\":{\"id\":\"4e178834-a36a-4340-951b-e7fda320d15e\",\"type\":\"OpenHead\"},\"line_color\":{\"value\":\"gray\"},\"plot\":{\"id\":\"1b563e82-ce4a-4ac9-a009-b25bb881a712\",\"subtype\":\"Figure\",\"type\":\"Plot\"},\"source\":null,\"start\":null,\"x_end\":{\"value\":-0.6045038660718521},\"x_start\":{\"value\":-0.31029088505556746},\"y_end\":{\"value\":-0.06769191010912638},\"y_start\":{\"value\":-0.3522559073042871}},\"id\":\"759520d1-2062-4a95-9cfa-9163d8ce23e2\",\"type\":\"Arrow\"},{\"attributes\":{\"line_color\":{\"value\":\"firebrick\"},\"line_width\":{\"value\":2},\"plot\":null,\"size\":10},\"id\":\"f5a1f53e-1936-48ae-a80b-201e35c7e6d4\",\"type\":\"OpenHead\"},{\"attributes\":{\"end\":{\"id\":\"a5e939a5-1b84-4882-a88e-a48810d0c7e4\",\"type\":\"OpenHead\"},\"line_color\":{\"value\":\"gray\"},\"plot\":{\"id\":\"1b563e82-ce4a-4ac9-a009-b25bb881a712\",\"subtype\":\"Figure\",\"type\":\"Plot\"},\"source\":null,\"start\":null,\"x_end\":{\"value\":-0.3300229408930273},\"x_start\":{\"value\":-0.6045038660718521},\"y_end\":{\"value\":-0.39849452779197814},\"y_start\":{\"value\":-0.06769191010912638}},\"id\":\"18d6221d-e9ce-473d-a8c7-4a869c7aca02\",\"type\":\"Arrow\"},{\"attributes\":{\"line_color\":{\"value\":\"firebrick\"},\"line_width\":{\"value\":2},\"plot\":null,\"size\":10},\"id\":\"7546801b-f17c-49ca-b98d-6506e57eba55\",\"type\":\"OpenHead\"},{\"attributes\":{\"callback\":null,\"column_names\":[\"x\",\"y\",\"desc\",\"pred\",\"not_skip\"],\"data\":{\"desc\":[\"- utter_ask_details\",\"- utter_ask_location\",\"- utter_chitchat\",\"- utter_ask_location\",\"- utter_chitchat\",\"- utter_ask_location\",\"- utter_chitchat\",\"- utter_ask_location\",\"- utter_explain_location_hotel\",\"- utter_ask_location\",\"- utter_ask_startdate\",\"- utter_more_info_hotel\",\"- utter_ask_startdate\",\"- utter_ask_price\",\"- utter_explain_price_hotel\",\"- utter_ask_price\",\"- utter_more_info_hotel\",\"- utter_ask_price\",\"- utter_filled_slots\",\"- action_search_hotel\",\"- utter_suggest_hotel\",\"- utter_happy\"],\"not_skip\":[{\"__ndarray__\":\"AACAPw==\",\"dtype\":\"float32\",\"shape\":[1]},{\"__ndarray__\":\"AACAPw==\",\"dtype\":\"float32\",\"shape\":[1]},{\"__ndarray__\":\"AACAPw==\",\"dtype\":\"float32\",\"shape\":[1]},{\"__ndarray__\":\"AAAAAA==\",\"dtype\":\"float32\",\"shape\":[1]},{\"__ndarray__\":\"AACAPw==\",\"dtype\":\"float32\",\"shape\":[1]},{\"__ndarray__\":\"AAAAAA==\",\"dtype\":\"float32\",\"shape\":[1]},{\"__ndarray__\":\"AACAPw==\",\"dtype\":\"float32\",\"shape\":[1]},{\"__ndarray__\":\"AAAAAA==\",\"dtype\":\"float32\",\"shape\":[1]},{\"__ndarray__\":\"AAAAAA==\",\"dtype\":\"float32\",\"shape\":[1]},{\"__ndarray__\":\"AAAAAA==\",\"dtype\":\"float32\",\"shape\":[1]},{\"__ndarray__\":\"AACAPw==\",\"dtype\":\"float32\",\"shape\":[1]},{\"__ndarray__\":\"AACAPw==\",\"dtype\":\"float32\",\"shape\":[1]},{\"__ndarray__\":\"AAAAAA==\",\"dtype\":\"float32\",\"shape\":[1]},{\"__ndarray__\":\"AACAPw==\",\"dtype\":\"float32\",\"shape\":[1]},{\"__ndarray__\":\"AAAAAA==\",\"dtype\":\"float32\",\"shape\":[1]},{\"__ndarray__\":\"AAAAAA==\",\"dtype\":\"float32\",\"shape\":[1]},{\"__ndarray__\":\"AACAPw==\",\"dtype\":\"float32\",\"shape\":[1]},{\"__ndarray__\":\"AAAAAA==\",\"dtype\":\"float32\",\"shape\":[1]},{\"__ndarray__\":\"AACAPw==\",\"dtype\":\"float32\",\"shape\":[1]},{\"__ndarray__\":\"AACAPw==\",\"dtype\":\"float32\",\"shape\":[1]},{\"__ndarray__\":\"AACAPw==\",\"dtype\":\"float32\",\"shape\":[1]},{\"__ndarray__\":\"AACAPw==\",\"dtype\":\"float32\",\"shape\":[1]}],\"pred\":[\"- utter_ask_details\",\"- utter_ask_location\",\"- utter_chitchat\",\"- utter_ask_location\",\"- utter_chitchat\",\"- utter_ask_location\",\"- utter_chitchat\",\"- utter_ask_location\",\"- utter_explain_location_hotel\",\"- utter_ask_location\",\"- utter_ask_startdate\",\"- utter_more_info_hotel\",\"- utter_ask_startdate\",\"- utter_ask_price\",\"- utter_explain_price_hotel\",\"- utter_ask_price\",\"- utter_more_info_hotel\",\"- utter_ask_price\",\"- utter_ask_startdate\",\"- action_search_hotel\",\"- utter_suggest_hotel\",\"- utter_happy\"],\"x\":{\"__ndarray__\":\"UCFVa6Dvur9t4AI3FazgP84w4m7PGdG/c2YhbOM+5j/2JgRuZnLWvzAo5n1n5+Q/XN0DCi6u1r+RZJyTOaHjP+saw3MN5NM/TUpWUsrk4j/fjSVBqTCAP6P1OTYq3MO/fVmgaa64g78s4ONMztvTv4Ox4n0YWOO/xC2Eihgf1b+t0MmeBlvMv6b6k37aONe/3OS8EJEfhb+JCin0S2nFv9qyWvQX27q/c9gs1rByo78=\",\"dtype\":\"float64\",\"shape\":[22]},\"y\":{\"__ndarray__\":\"rYWdV3XPyL/JlTBTw4m+v3ny2N/yX+E/iYu6pEJnWL9s6LHemRXhP/v9KlEU84w/arQdU2ZG4T/X/g2ZwGKiP1ZvSghcHs4/LDYjhgDpjb/CcTst4pVKPyKYYavzcLa/H04kIMu3sD9NdmxcXIvWvytaH8xBVLG/uhggMe+A2b/sAG1MZ769v1QCvcg9BMy/CuxPZm/0mT/gwWCkJuHYv5zgTTB7D7K/kCsrcUKFoj8=\",\"dtype\":\"float64\",\"shape\":[22]}},\"selected\":null,\"selection_policy\":null},\"id\":\"8c613001-1343-45aa-abd9-8ae4022f66ea\",\"type\":\"ColumnDataSource\"},{\"attributes\":{\"end\":{\"id\":\"f5a1f53e-1936-48ae-a80b-201e35c7e6d4\",\"type\":\"OpenHead\"},\"line_color\":{\"value\":\"gray\"},\"plot\":{\"id\":\"1b563e82-ce4a-4ac9-a009-b25bb881a712\",\"subtype\":\"Figure\",\"type\":\"Plot\"},\"source\":null,\"start\":null,\"x_end\":{\"value\":-0.2215278888066953},\"x_start\":{\"value\":-0.3300229408930273},\"y_end\":{\"value\":-0.11618657699455398},\"y_start\":{\"value\":-0.39849452779197814}},\"id\":\"bd1f621f-fdc3-48a8-9413-13a40b1d6493\",\"type\":\"Arrow\"},{\"attributes\":{\"line_color\":{\"value\":\"firebrick\"},\"line_width\":{\"value\":2},\"plot\":null,\"size\":10},\"id\":\"a5ad30ed-301f-454c-a362-8aeaa4d46833\",\"type\":\"OpenHead\"},{\"attributes\":{\"end\":{\"id\":\"7546801b-f17c-49ca-b98d-6506e57eba55\",\"type\":\"OpenHead\"},\"line_color\":{\"value\":\"gray\"},\"plot\":{\"id\":\"1b563e82-ce4a-4ac9-a009-b25bb881a712\",\"subtype\":\"Figure\",\"type\":\"Plot\"},\"source\":null,\"start\":null,\"x_end\":{\"value\":-0.36284506188523336},\"x_start\":{\"value\":-0.2215278888066953},\"y_end\":{\"value\":-0.2188794355552256},\"y_start\":{\"value\":-0.11618657699455398}},\"id\":\"8dc97582-ccc4-4b40-87fb-4585e8cc6a2f\",\"type\":\"Arrow\"},{\"attributes\":{\"line_color\":{\"value\":\"firebrick\"},\"line_width\":{\"value\":2},\"plot\":null,\"size\":10},\"id\":\"d78e822f-53d6-4674-bf64-9ec443f52242\",\"type\":\"OpenHead\"},{\"attributes\":{\"end\":{\"id\":\"a5ad30ed-301f-454c-a362-8aeaa4d46833\",\"type\":\"OpenHead\"},\"line_color\":{\"value\":\"gray\"},\"plot\":{\"id\":\"1b563e82-ce4a-4ac9-a009-b25bb881a712\",\"subtype\":\"Figure\",\"type\":\"Plot\"},\"source\":null,\"start\":null,\"x_end\":{\"value\":-0.010314114878939788},\"x_start\":{\"value\":-0.36284506188523336},\"y_end\":{\"value\":0.025346508617058595},\"y_start\":{\"value\":-0.2188794355552256}},\"id\":\"f271696d-b92a-4736-8325-339d067dd567\",\"type\":\"Arrow\"},{\"attributes\":{\"line_color\":{\"value\":\"firebrick\"},\"line_width\":{\"value\":2},\"plot\":null,\"size\":10},\"id\":\"ff5265e7-7c92-4e94-9b76-88f9477bf3b4\",\"type\":\"OpenHead\"},{\"attributes\":{\"data_source\":{\"id\":\"0b7a96d0-f7f6-428d-ab8a-a973b71c0d77\",\"type\":\"ColumnDataSource\"},\"glyph\":{\"id\":\"c7e2a1f0-99a6-44a1-83be-fe355db23da7\",\"type\":\"Circle\"},\"hover_glyph\":null,\"muted_glyph\":null,\"nonselection_glyph\":{\"id\":\"dffd2c28-1447-4c13-92f8-0bf985c75304\",\"type\":\"Circle\"},\"selection_glyph\":null,\"view\":{\"id\":\"e0a012a9-ae27-4e93-a3ac-99b275b97e32\",\"type\":\"CDSView\"}},\"id\":\"6d9a2ffb-742c-4e71-b06d-6ba788695732\",\"type\":\"GlyphRenderer\"},{\"attributes\":{\"end\":{\"id\":\"d78e822f-53d6-4674-bf64-9ec443f52242\",\"type\":\"OpenHead\"},\"line_color\":{\"value\":\"gray\"},\"plot\":{\"id\":\"1b563e82-ce4a-4ac9-a009-b25bb881a712\",\"subtype\":\"Figure\",\"type\":\"Plot\"},\"source\":null,\"start\":null,\"x_end\":{\"value\":-0.16727590009584883},\"x_start\":{\"value\":-0.010314114878939788},\"y_end\":{\"value\":-0.3887421231511592},\"y_start\":{\"value\":0.025346508617058595}},\"id\":\"edef6c62-c1b9-4bb5-a950-8618c52b794e\",\"type\":\"Arrow\"},{\"attributes\":{\"line_color\":{\"value\":\"firebrick\"},\"line_width\":{\"value\":2},\"plot\":null,\"size\":10},\"id\":\"819b001e-f763-4267-aadc-28188d42979f\",\"type\":\"OpenHead\"},{\"attributes\":{\"end\":{\"id\":\"ff5265e7-7c92-4e94-9b76-88f9477bf3b4\",\"type\":\"OpenHead\"},\"line_color\":{\"value\":\"gray\"},\"plot\":{\"id\":\"1b563e82-ce4a-4ac9-a009-b25bb881a712\",\"subtype\":\"Figure\",\"type\":\"Plot\"},\"source\":null,\"start\":null,\"x_end\":{\"value\":-0.10490560260468432},\"x_start\":{\"value\":-0.16727590009584883},\"y_end\":{\"value\":-0.07054872445394483},\"y_start\":{\"value\":-0.3887421231511592}},\"id\":\"a20b248f-8af9-4213-8bcb-32127d7d5b9c\",\"type\":\"Arrow\"},{\"attributes\":{\"data_source\":{\"id\":\"8c613001-1343-45aa-abd9-8ae4022f66ea\",\"type\":\"ColumnDataSource\"},\"glyph\":{\"id\":\"7b52cc91-6533-4feb-bdb8-bd917e06909c\",\"type\":\"Circle\"},\"hover_glyph\":null,\"muted_glyph\":null,\"name\":\"circle\",\"nonselection_glyph\":{\"id\":\"fff0089d-b24f-431a-84ab-d4e606a65bf6\",\"type\":\"Circle\"},\"selection_glyph\":null,\"view\":{\"id\":\"e759b39c-fbc0-4050-b5fb-b83a7774b469\",\"type\":\"CDSView\"}},\"id\":\"7ed38f08-5565-47af-9954-8556e895e6df\",\"type\":\"GlyphRenderer\"},{\"attributes\":{\"end\":{\"id\":\"819b001e-f763-4267-aadc-28188d42979f\",\"type\":\"OpenHead\"},\"line_color\":{\"value\":\"gray\"},\"plot\":{\"id\":\"1b563e82-ce4a-4ac9-a009-b25bb881a712\",\"subtype\":\"Figure\",\"type\":\"Plot\"},\"source\":null,\"start\":null,\"x_end\":{\"value\":-0.03798439611857498},\"x_start\":{\"value\":-0.10490560260468432},\"y_end\":{\"value\":0.03617293960049672},\"y_start\":{\"value\":-0.07054872445394483}},\"id\":\"9870333d-bc56-41bb-8cf6-19ca03cd1dfa\",\"type\":\"Arrow\"},{\"attributes\":{\"source\":{\"id\":\"8c613001-1343-45aa-abd9-8ae4022f66ea\",\"type\":\"ColumnDataSource\"}},\"id\":\"e759b39c-fbc0-4050-b5fb-b83a7774b469\",\"type\":\"CDSView\"},{\"attributes\":{\"source\":{\"id\":\"8329a2db-ad8d-4839-a13b-6e4330ce3296\",\"type\":\"ColumnDataSource\"}},\"id\":\"d0a6f084-559d-48dd-bd1f-815a436bc62c\",\"type\":\"CDSView\"},{\"attributes\":{\"data_source\":{\"id\":\"a806e14e-8406-4034-bc29-ba3771735d6a\",\"type\":\"ColumnDataSource\"},\"glyph\":{\"id\":\"993b5e34-5358-450e-a2c0-04c8c3d56cbc\",\"type\":\"Circle\"},\"hover_glyph\":null,\"muted_glyph\":null,\"name\":\"circle\",\"nonselection_glyph\":{\"id\":\"ac151c70-4206-4ed6-aff7-4af6b12f2c55\",\"type\":\"Circle\"},\"selection_glyph\":null,\"view\":{\"id\":\"c360d452-7a7b-4343-9d85-5d359e6a7340\",\"type\":\"CDSView\"}},\"id\":\"63f68950-affd-42e2-b5e3-cde5957a7f8e\",\"type\":\"GlyphRenderer\"},{\"attributes\":{\"fill_alpha\":{\"value\":0.1},\"fill_color\":{\"value\":\"#1f77b4\"},\"line_alpha\":{\"value\":0.1},\"line_color\":{\"value\":\"#1f77b4\"},\"size\":{\"units\":\"screen\",\"value\":10},\"x\":{\"field\":\"x\"},\"y\":{\"field\":\"y\"}},\"id\":\"fff0089d-b24f-431a-84ab-d4e606a65bf6\",\"type\":\"Circle\"},{\"attributes\":{\"plot\":null,\"text\":\"\"},\"id\":\"71c18f9d-e9b5-4666-bdd2-52c000c2f325\",\"type\":\"Title\"},{\"attributes\":{\"callback\":null,\"data\":{},\"selected\":null,\"selection_policy\":null},\"id\":\"25bbb9f9-bf8e-49ae-9e89-1c24d6e01903\",\"type\":\"ColumnDataSource\"},{\"attributes\":{},\"id\":\"dee1c0f8-8849-4382-9634-2bb94e0287d0\",\"type\":\"BasicTickFormatter\"},{\"attributes\":{\"fill_color\":{\"value\":\"green\"},\"line_color\":{\"value\":\"green\"},\"size\":{\"units\":\"screen\",\"value\":10},\"x\":{\"value\":-0.10521891231940583},\"y\":{\"value\":-0.1938311269578156}},\"id\":\"72ffc13a-88f0-4b42-9fa7-33aa99a5ab56\",\"type\":\"Circle\"},{\"attributes\":{\"callback\":null,\"data\":{},\"selected\":null,\"selection_policy\":null},\"id\":\"a1dcb868-75da-4407-bb71-1db47cae7c29\",\"type\":\"ColumnDataSource\"},{\"attributes\":{\"callback\":null,\"column_names\":[\"x\",\"y\",\"desc\",\"pred\",\"not_skip\"],\"data\":{\"desc\":[\"- utter_ask_details\",\"- utter_ask_location\",\"- utter_chitchat\",\"- utter_ask_location\",\"- utter_chitchat\",\"- utter_ask_location\",\"- utter_chitchat\",\"- utter_ask_location\",\"- utter_explain_location_hotel\",\"- utter_ask_location\",\"- utter_ask_startdate\",\"- utter_more_info_hotel\",\"- utter_ask_startdate\",\"- utter_ask_price\",\"- utter_explain_price_hotel\",\"- utter_ask_price\",\"- utter_more_info_hotel\",\"- utter_ask_price\",\"- utter_filled_slots\",\"- action_search_hotel\",\"- utter_suggest_hotel\",\"- utter_happy\"],\"not_skip\":[{\"__ndarray__\":\"AACAPw==\",\"dtype\":\"float32\",\"shape\":[1]},{\"__ndarray__\":\"AACAPw==\",\"dtype\":\"float32\",\"shape\":[1]},{\"__ndarray__\":\"AACAPw==\",\"dtype\":\"float32\",\"shape\":[1]},{\"__ndarray__\":\"AAAAAA==\",\"dtype\":\"float32\",\"shape\":[1]},{\"__ndarray__\":\"AACAPw==\",\"dtype\":\"float32\",\"shape\":[1]},{\"__ndarray__\":\"AAAAAA==\",\"dtype\":\"float32\",\"shape\":[1]},{\"__ndarray__\":\"AACAPw==\",\"dtype\":\"float32\",\"shape\":[1]},{\"__ndarray__\":\"AAAAAA==\",\"dtype\":\"float32\",\"shape\":[1]},{\"__ndarray__\":\"AAAAAA==\",\"dtype\":\"float32\",\"shape\":[1]},{\"__ndarray__\":\"AAAAAA==\",\"dtype\":\"float32\",\"shape\":[1]},{\"__ndarray__\":\"AACAPw==\",\"dtype\":\"float32\",\"shape\":[1]},{\"__ndarray__\":\"AACAPw==\",\"dtype\":\"float32\",\"shape\":[1]},{\"__ndarray__\":\"AAAAAA==\",\"dtype\":\"float32\",\"shape\":[1]},{\"__ndarray__\":\"AACAPw==\",\"dtype\":\"float32\",\"shape\":[1]},{\"__ndarray__\":\"AAAAAA==\",\"dtype\":\"float32\",\"shape\":[1]},{\"__ndarray__\":\"AAAAAA==\",\"dtype\":\"float32\",\"shape\":[1]},{\"__ndarray__\":\"AACAPw==\",\"dtype\":\"float32\",\"shape\":[1]},{\"__ndarray__\":\"AAAAAA==\",\"dtype\":\"float32\",\"shape\":[1]},{\"__ndarray__\":\"AACAPw==\",\"dtype\":\"float32\",\"shape\":[1]},{\"__ndarray__\":\"AACAPw==\",\"dtype\":\"float32\",\"shape\":[1]},{\"__ndarray__\":\"AACAPw==\",\"dtype\":\"float32\",\"shape\":[1]},{\"__ndarray__\":\"AACAPw==\",\"dtype\":\"float32\",\"shape\":[1]}],\"pred\":[\"- utter_ask_details\",\"- utter_ask_location\",\"- utter_chitchat\",\"- utter_ask_location\",\"- utter_chitchat\",\"- utter_ask_location\",\"- utter_chitchat\",\"- utter_ask_location\",\"- utter_explain_location_hotel\",\"- utter_ask_location\",\"- utter_ask_startdate\",\"- utter_more_info_hotel\",\"- utter_ask_startdate\",\"- utter_ask_price\",\"- utter_explain_price_hotel\",\"- utter_ask_price\",\"- utter_more_info_hotel\",\"- utter_ask_price\",\"- utter_ask_startdate\",\"- action_search_hotel\",\"- utter_suggest_hotel\",\"- utter_happy\"],\"x\":{\"__ndarray__\":\"ty++wYpWpb9gTdNBYsWiv8AFmrwtC6S/EMDGKTq92j9Dxx/xi8ijvwHS76ha+ds/X7ks8cL/o7+43GImSqzbP+U2WnL/6do/LwRdy+iB3D9P+1mRqPWgv2dQ9yaotKO/FJ3yZ0yauj/kajlK9Uijvww3Ir+Kbsa/60taTtnzx793c5C+yO6mv4o+mMsazcS/QJTbFKH6pb/FUMjvdnG6v9SKgfs0mWi/q2YVDKQKpb8=\",\"dtype\":\"float64\",\"shape\":[22]},\"y\":{\"__ndarray__\":\"iIWz4F5emb95MVgKplC2v8XQQCBTrJq/xkyN3JaLrL9wFre5JbCZvy7FVnR8uqG/5BrAUD/BmL8jBmfVXcWUv4U3Yu6ZDHm//3n9mpvidT+ep1szNgSavyW1cUABQ5m/ZBZWxInEij8ZvdYSCBKcv6HvAtWVt8u/lwDC+LKBzb8kPRAYJIyfvxhRcPIsds+/1vRfnSXgmr9HYSDXkXbAv2X/71/7CsG/8fokmJnrnb8=\",\"dtype\":\"float64\",\"shape\":[22]}},\"selected\":null,\"selection_policy\":null},\"id\":\"8329a2db-ad8d-4839-a13b-6e4330ce3296\",\"type\":\"ColumnDataSource\"},{\"attributes\":{\"fill_color\":{\"value\":\"green\"},\"line_color\":{\"value\":\"green\"},\"size\":{\"units\":\"screen\",\"value\":5},\"x\":{\"field\":\"x\"},\"y\":{\"field\":\"y\"}},\"id\":\"e956e1f5-a557-4fdb-a73d-a1a8f7a0100b\",\"type\":\"Circle\"},{\"attributes\":{\"fill_alpha\":{\"value\":0.1},\"fill_color\":{\"value\":\"#1f77b4\"},\"line_alpha\":{\"value\":0.1},\"line_color\":{\"value\":\"#1f77b4\"},\"size\":{\"units\":\"screen\",\"value\":5},\"x\":{\"field\":\"x\"},\"y\":{\"field\":\"y\"}},\"id\":\"d2201cca-d33a-4651-b5ec-0e0e924cae8c\",\"type\":\"Circle\"},{\"attributes\":{\"below\":[{\"id\":\"fa25e232-04af-4ffe-b6ce-0ec18ded9f7f\",\"type\":\"LinearAxis\"}],\"left\":[{\"id\":\"374f484e-1141-486c-8331-295126170a69\",\"type\":\"LinearAxis\"}],\"renderers\":[{\"id\":\"fa25e232-04af-4ffe-b6ce-0ec18ded9f7f\",\"type\":\"LinearAxis\"},{\"id\":\"85060311-a892-48a8-9995-902d86a51b97\",\"type\":\"Grid\"},{\"id\":\"374f484e-1141-486c-8331-295126170a69\",\"type\":\"LinearAxis\"},{\"id\":\"3863b276-39de-4e66-a857-fd2f45f1941a\",\"type\":\"Grid\"},{\"id\":\"e5fb87bc-2cf7-4c86-87e5-77e321d28262\",\"type\":\"Arrow\"},{\"id\":\"031c1a6b-cfff-409c-92a3-efeffb79c4fe\",\"type\":\"Arrow\"},{\"id\":\"51ec00d5-5f18-4d76-91b2-7c640f4c25ec\",\"type\":\"Arrow\"},{\"id\":\"190e2d04-07ec-403f-926f-1b7171017a13\",\"type\":\"Arrow\"},{\"id\":\"ff7f5769-67c4-44c0-a36c-31f709425b1f\",\"type\":\"Arrow\"},{\"id\":\"ec7f37be-221e-49e8-a754-29f85c26b6e0\",\"type\":\"Arrow\"},{\"id\":\"eb58a44b-f22d-4103-864a-93e31a54ac3d\",\"type\":\"Arrow\"},{\"id\":\"b097fdb0-01b6-4a69-ac69-deb4a14e7839\",\"type\":\"Arrow\"},{\"id\":\"02d02289-d4c2-4623-ac1a-10ce7bbaaf11\",\"type\":\"Arrow\"},{\"id\":\"e6311799-cb18-414a-ab6e-7075fd319890\",\"type\":\"Arrow\"},{\"id\":\"d9430a6e-bcff-4532-a283-548bd6258efe\",\"type\":\"Arrow\"},{\"id\":\"7879633a-79a8-4d5f-a12c-33e586a87efb\",\"type\":\"Arrow\"},{\"id\":\"cc0e6573-7ef8-4c97-b756-c13597e539f1\",\"type\":\"Arrow\"},{\"id\":\"759520d1-2062-4a95-9cfa-9163d8ce23e2\",\"type\":\"Arrow\"},{\"id\":\"18d6221d-e9ce-473d-a8c7-4a869c7aca02\",\"type\":\"Arrow\"},{\"id\":\"bd1f621f-fdc3-48a8-9413-13a40b1d6493\",\"type\":\"Arrow\"},{\"id\":\"8dc97582-ccc4-4b40-87fb-4585e8cc6a2f\",\"type\":\"Arrow\"},{\"id\":\"f271696d-b92a-4736-8325-339d067dd567\",\"type\":\"Arrow\"},{\"id\":\"edef6c62-c1b9-4bb5-a950-8618c52b794e\",\"type\":\"Arrow\"},{\"id\":\"a20b248f-8af9-4213-8bcb-32127d7d5b9c\",\"type\":\"Arrow\"},{\"id\":\"9870333d-bc56-41bb-8cf6-19ca03cd1dfa\",\"type\":\"Arrow\"},{\"id\":\"7ed38f08-5565-47af-9954-8556e895e6df\",\"type\":\"GlyphRenderer\"},{\"id\":\"e8d7b353-88df-43f0-9157-9b3470b3dda3\",\"type\":\"GlyphRenderer\"},{\"id\":\"63f68950-affd-42e2-b5e3-cde5957a7f8e\",\"type\":\"GlyphRenderer\"},{\"id\":\"954b0f47-93d3-446e-92c1-8cfdea0f0e38\",\"type\":\"GlyphRenderer\"},{\"id\":\"71661a7b-b3bb-4d55-aaaa-75c1b4c0b566\",\"type\":\"GlyphRenderer\"},{\"id\":\"2143014e-e127-43ec-bbc1-485af2bd5465\",\"type\":\"GlyphRenderer\"},{\"id\":\"6d9a2ffb-742c-4e71-b06d-6ba788695732\",\"type\":\"GlyphRenderer\"}],\"title\":{\"id\":\"71c18f9d-e9b5-4666-bdd2-52c000c2f325\",\"type\":\"Title\"},\"toolbar\":{\"id\":\"c744859b-9bde-4710-82d0-5459f568c46b\",\"type\":\"Toolbar\"},\"x_range\":{\"id\":\"3c04cc6b-0947-4d0c-8c14-0573ce819bd6\",\"type\":\"DataRange1d\"},\"x_scale\":{\"id\":\"7650db6c-1300-4079-b2b8-9c02fb68f666\",\"type\":\"LinearScale\"},\"y_range\":{\"id\":\"b1fda4eb-5e48-4b22-8ad0-9c11d8bece7f\",\"type\":\"DataRange1d\"},\"y_scale\":{\"id\":\"48114931-d276-41c6-a94e-44730ddb0be5\",\"type\":\"LinearScale\"}},\"id\":\"1b563e82-ce4a-4ac9-a009-b25bb881a712\",\"subtype\":\"Figure\",\"type\":\"Plot\"},{\"attributes\":{\"fill_color\":{\"value\":\"black\"},\"x\":{\"value\":-0.0504464094726127},\"y\":{\"value\":-0.2030029194940923}},\"id\":\"c7e2a1f0-99a6-44a1-83be-fe355db23da7\",\"type\":\"Circle\"},{\"attributes\":{\"source\":{\"id\":\"a806e14e-8406-4034-bc29-ba3771735d6a\",\"type\":\"ColumnDataSource\"}},\"id\":\"c360d452-7a7b-4343-9d85-5d359e6a7340\",\"type\":\"CDSView\"},{\"attributes\":{\"callback\":null,\"names\":[\"circle\"],\"tooltips\":[[\"true action\",\"@desc\"],[\"prediction\",\"@pred\"],[\"not_skip_gate\",\"@not_skip\"]]},\"id\":\"951f20fa-793e-4556-8af2-c1b5e669d049\",\"type\":\"HoverTool\"},{\"attributes\":{\"callback\":null,\"data\":{},\"selected\":null,\"selection_policy\":null},\"id\":\"0b7a96d0-f7f6-428d-ab8a-a973b71c0d77\",\"type\":\"ColumnDataSource\"},{\"attributes\":{\"line_color\":{\"value\":\"firebrick\"},\"line_width\":{\"value\":2},\"plot\":null,\"size\":10},\"id\":\"e6e6b8e6-ff52-44e7-8e4c-aba0eced5db8\",\"type\":\"OpenHead\"},{\"attributes\":{\"fill_color\":{\"value\":\"magenta\"},\"line_color\":{\"value\":\"magenta\"},\"size\":{\"units\":\"screen\",\"value\":5},\"x\":{\"value\":-0.04205151687922943},\"y\":{\"value\":-0.024463145610086532}},\"id\":\"58ca9bd5-09e2-4baa-8147-3e9084137288\",\"type\":\"Circle\"},{\"attributes\":{},\"id\":\"b670714d-79f5-4a6d-9e84-1b3cdeb88027\",\"type\":\"BasicTicker\"},{\"attributes\":{\"callback\":null,\"column_names\":[\"x\",\"y\",\"desc\",\"pred\",\"not_skip\"],\"data\":{\"desc\":[\"- utter_ask_details\",\"- utter_ask_location\",\"- utter_chitchat\",\"- utter_ask_location\",\"- utter_chitchat\",\"- utter_ask_location\",\"- utter_chitchat\",\"- utter_ask_location\",\"- utter_explain_location_hotel\",\"- utter_ask_location\",\"- utter_ask_startdate\",\"- utter_more_info_hotel\",\"- utter_ask_startdate\",\"- utter_ask_price\",\"- utter_explain_price_hotel\",\"- utter_ask_price\",\"- utter_more_info_hotel\",\"- utter_ask_price\",\"- utter_filled_slots\",\"- action_search_hotel\",\"- utter_suggest_hotel\",\"- utter_happy\"],\"not_skip\":[{\"__ndarray__\":\"AACAPw==\",\"dtype\":\"float32\",\"shape\":[1]},{\"__ndarray__\":\"AACAPw==\",\"dtype\":\"float32\",\"shape\":[1]},{\"__ndarray__\":\"AACAPw==\",\"dtype\":\"float32\",\"shape\":[1]},{\"__ndarray__\":\"AAAAAA==\",\"dtype\":\"float32\",\"shape\":[1]},{\"__ndarray__\":\"AACAPw==\",\"dtype\":\"float32\",\"shape\":[1]},{\"__ndarray__\":\"AAAAAA==\",\"dtype\":\"float32\",\"shape\":[1]},{\"__ndarray__\":\"AACAPw==\",\"dtype\":\"float32\",\"shape\":[1]},{\"__ndarray__\":\"AAAAAA==\",\"dtype\":\"float32\",\"shape\":[1]},{\"__ndarray__\":\"AAAAAA==\",\"dtype\":\"float32\",\"shape\":[1]},{\"__ndarray__\":\"AAAAAA==\",\"dtype\":\"float32\",\"shape\":[1]},{\"__ndarray__\":\"AACAPw==\",\"dtype\":\"float32\",\"shape\":[1]},{\"__ndarray__\":\"AACAPw==\",\"dtype\":\"float32\",\"shape\":[1]},{\"__ndarray__\":\"AAAAAA==\",\"dtype\":\"float32\",\"shape\":[1]},{\"__ndarray__\":\"AACAPw==\",\"dtype\":\"float32\",\"shape\":[1]},{\"__ndarray__\":\"AAAAAA==\",\"dtype\":\"float32\",\"shape\":[1]},{\"__ndarray__\":\"AAAAAA==\",\"dtype\":\"float32\",\"shape\":[1]},{\"__ndarray__\":\"AACAPw==\",\"dtype\":\"float32\",\"shape\":[1]},{\"__ndarray__\":\"AAAAAA==\",\"dtype\":\"float32\",\"shape\":[1]},{\"__ndarray__\":\"AACAPw==\",\"dtype\":\"float32\",\"shape\":[1]},{\"__ndarray__\":\"AACAPw==\",\"dtype\":\"float32\",\"shape\":[1]},{\"__ndarray__\":\"AACAPw==\",\"dtype\":\"float32\",\"shape\":[1]},{\"__ndarray__\":\"AACAPw==\",\"dtype\":\"float32\",\"shape\":[1]}],\"pred\":[\"- utter_ask_details\",\"- utter_ask_location\",\"- utter_chitchat\",\"- utter_ask_location\",\"- utter_chitchat\",\"- utter_ask_location\",\"- utter_chitchat\",\"- utter_ask_location\",\"- utter_explain_location_hotel\",\"- utter_ask_location\",\"- utter_ask_startdate\",\"- utter_more_info_hotel\",\"- utter_ask_startdate\",\"- utter_ask_price\",\"- utter_explain_price_hotel\",\"- utter_ask_price\",\"- utter_more_info_hotel\",\"- utter_ask_price\",\"- utter_ask_startdate\",\"- action_search_hotel\",\"- utter_suggest_hotel\",\"- utter_happy\"],\"x\":{\"__ndarray__\":\"IEg+Yj4Iu782uQbx7n/gP10yRI1iSdG/mfabmicfzj8hqMvJTarWv9KCZvr2SMY/tun8iS7f1r82jjVJYMrBPzD9E6rVbcO/YVjY7stauj/wva6we75Qv8uM4+TxUMS/p1cwxaLqw78QR/l7qCPUv4+pb3fkKd6/KkBFcEmsx7+X9F4dRgHMvzuokd6LBs+/AaRJSydUg78UtzNaBCW7v/vAaNYYbcK/+5KiitPvo78=\",\"dtype\":\"float64\",\"shape\":[22]},\"y\":{\"__ndarray__\":\"8CSNRUXFyL8hm91Rqfisv30gCYnubOE/pCMbgNuDnj8JO1sbtBrhP6f1woqk4Zg/9+VtYwlE4T9fbRB+AD+gP17t8h8lxcs/fl8AdwK9pr8O8FdKdMBcP6UB2dtqY7a/zCkyqQlwnD8BrWS1CVvWv+1ih1+y178/CCkYGcehyL8XKo3ElR68v+UCsHrcFGQ/hrOaGrfHmz/B/GOdqzbSv0s1cTSIhqM/dQVwSqD0pD8=\",\"dtype\":\"float64\",\"shape\":[22]}},\"selected\":null,\"selection_policy\":null},\"id\":\"a806e14e-8406-4034-bc29-ba3771735d6a\",\"type\":\"ColumnDataSource\"},{\"attributes\":{\"plot\":{\"id\":\"1b563e82-ce4a-4ac9-a009-b25bb881a712\",\"subtype\":\"Figure\",\"type\":\"Plot\"},\"ticker\":{\"id\":\"b670714d-79f5-4a6d-9e84-1b3cdeb88027\",\"type\":\"BasicTicker\"}},\"id\":\"85060311-a892-48a8-9995-902d86a51b97\",\"type\":\"Grid\"},{\"attributes\":{\"fill_color\":{\"value\":\"red\"},\"line_color\":{\"value\":\"red\"},\"size\":{\"units\":\"screen\",\"value\":5},\"x\":{\"field\":\"x\"},\"y\":{\"field\":\"y\"}},\"id\":\"993b5e34-5358-450e-a2c0-04c8c3d56cbc\",\"type\":\"Circle\"},{\"attributes\":{\"line_color\":{\"value\":\"firebrick\"},\"line_width\":{\"value\":2},\"plot\":null,\"size\":10},\"id\":\"118040be-4f3c-4391-b2ff-b81bb584f8e7\",\"type\":\"OpenHead\"},{\"attributes\":{\"fill_alpha\":{\"value\":0.1},\"fill_color\":{\"value\":\"#1f77b4\"},\"line_alpha\":{\"value\":0.1},\"line_color\":{\"value\":\"#1f77b4\"},\"size\":{\"units\":\"screen\",\"value\":5},\"x\":{\"field\":\"x\"},\"y\":{\"field\":\"y\"}},\"id\":\"ac151c70-4206-4ed6-aff7-4af6b12f2c55\",\"type\":\"Circle\"},{\"attributes\":{\"end\":{\"id\":\"e6e6b8e6-ff52-44e7-8e4c-aba0eced5db8\",\"type\":\"OpenHead\"},\"line_color\":{\"value\":\"gray\"},\"plot\":{\"id\":\"1b563e82-ce4a-4ac9-a009-b25bb881a712\",\"subtype\":\"Figure\",\"type\":\"Plot\"},\"source\":null,\"start\":null,\"x_end\":{\"value\":0.521006209796736},\"x_start\":{\"value\":-0.10521891231940583},\"y_end\":{\"value\":-0.11928959637642501},\"y_start\":{\"value\":-0.1938311269578156}},\"id\":\"e5fb87bc-2cf7-4c86-87e5-77e321d28262\",\"type\":\"Arrow\"},{\"attributes\":{\"source\":{\"id\":\"a1dcb868-75da-4407-bb71-1db47cae7c29\",\"type\":\"ColumnDataSource\"}},\"id\":\"11350dba-5849-4e08-b8c6-ea0e519ebbaa\",\"type\":\"CDSView\"},{\"attributes\":{\"data_source\":{\"id\":\"a1dcb868-75da-4407-bb71-1db47cae7c29\",\"type\":\"ColumnDataSource\"},\"glyph\":{\"id\":\"58ca9bd5-09e2-4baa-8147-3e9084137288\",\"type\":\"Circle\"},\"hover_glyph\":null,\"muted_glyph\":null,\"nonselection_glyph\":{\"id\":\"cc5a7775-a3df-44eb-82ef-48d03833299b\",\"type\":\"Circle\"},\"selection_glyph\":null,\"view\":{\"id\":\"11350dba-5849-4e08-b8c6-ea0e519ebbaa\",\"type\":\"CDSView\"}},\"id\":\"954b0f47-93d3-446e-92c1-8cfdea0f0e38\",\"type\":\"GlyphRenderer\"},{\"attributes\":{\"active_drag\":\"auto\",\"active_inspect\":\"auto\",\"active_scroll\":\"auto\",\"active_tap\":\"auto\",\"tools\":[{\"id\":\"951f20fa-793e-4556-8af2-c1b5e669d049\",\"type\":\"HoverTool\"}]},\"id\":\"c744859b-9bde-4710-82d0-5459f568c46b\",\"type\":\"Toolbar\"},{\"attributes\":{\"callback\":null},\"id\":\"b1fda4eb-5e48-4b22-8ad0-9c11d8bece7f\",\"type\":\"DataRange1d\"},{\"attributes\":{\"callback\":null},\"id\":\"3c04cc6b-0947-4d0c-8c14-0573ce819bd6\",\"type\":\"DataRange1d\"},{\"attributes\":{\"fill_alpha\":{\"value\":0.1},\"fill_color\":{\"value\":\"#1f77b4\"},\"line_alpha\":{\"value\":0.1},\"line_color\":{\"value\":\"#1f77b4\"},\"size\":{\"units\":\"screen\",\"value\":5},\"x\":{\"value\":-0.04205151687922943},\"y\":{\"value\":-0.024463145610086532}},\"id\":\"cc5a7775-a3df-44eb-82ef-48d03833299b\",\"type\":\"Circle\"},{\"attributes\":{\"end\":{\"id\":\"8e93b7df-20f7-4c40-acb1-b5b19f89c705\",\"type\":\"OpenHead\"},\"line_color\":{\"value\":\"gray\"},\"plot\":{\"id\":\"1b563e82-ce4a-4ac9-a009-b25bb881a712\",\"subtype\":\"Figure\",\"type\":\"Plot\"},\"source\":null,\"start\":null,\"x_end\":{\"value\":-0.35073242896815715},\"x_start\":{\"value\":0.6951768028186066},\"y_end\":{\"value\":0.5338868474493785},\"y_start\":{\"value\":-0.0014894629302168747}},\"id\":\"190e2d04-07ec-403f-926f-1b7171017a13\",\"type\":\"Arrow\"},{\"attributes\":{\"callback\":null,\"data\":{},\"selected\":null,\"selection_policy\":null},\"id\":\"13bf506c-63ed-4290-9aff-0b456ca36925\",\"type\":\"ColumnDataSource\"},{\"attributes\":{},\"id\":\"48114931-d276-41c6-a94e-44730ddb0be5\",\"type\":\"LinearScale\"},{\"attributes\":{\"fill_color\":{\"value\":\"red\"},\"line_color\":{\"value\":\"red\"},\"size\":{\"units\":\"screen\",\"value\":10},\"x\":{\"value\":-0.03798439611857498},\"y\":{\"value\":0.03617293960049672}},\"id\":\"50be9d56-a88c-4a99-aaa1-1e0a00b9d034\",\"type\":\"Circle\"},{\"attributes\":{},\"id\":\"7650db6c-1300-4079-b2b8-9c02fb68f666\",\"type\":\"LinearScale\"},{\"attributes\":{\"data_source\":{\"id\":\"25bbb9f9-bf8e-49ae-9e89-1c24d6e01903\",\"type\":\"ColumnDataSource\"},\"glyph\":{\"id\":\"72ffc13a-88f0-4b42-9fa7-33aa99a5ab56\",\"type\":\"Circle\"},\"hover_glyph\":null,\"muted_glyph\":null,\"nonselection_glyph\":{\"id\":\"4c2ee859-c2fd-484a-8474-e161e1bd8540\",\"type\":\"Circle\"},\"selection_glyph\":null,\"view\":{\"id\":\"d1b154b4-9a63-469c-866b-52e92cbd0085\",\"type\":\"CDSView\"}},\"id\":\"71661a7b-b3bb-4d55-aaaa-75c1b4c0b566\",\"type\":\"GlyphRenderer\"},{\"attributes\":{},\"id\":\"0b67abdb-0cf4-4261-acee-8ceb68dcad54\",\"type\":\"BasicTicker\"},{\"attributes\":{\"source\":{\"id\":\"25bbb9f9-bf8e-49ae-9e89-1c24d6e01903\",\"type\":\"ColumnDataSource\"}},\"id\":\"d1b154b4-9a63-469c-866b-52e92cbd0085\",\"type\":\"CDSView\"},{\"attributes\":{\"formatter\":{\"id\":\"dee1c0f8-8849-4382-9634-2bb94e0287d0\",\"type\":\"BasicTickFormatter\"},\"plot\":{\"id\":\"1b563e82-ce4a-4ac9-a009-b25bb881a712\",\"subtype\":\"Figure\",\"type\":\"Plot\"},\"ticker\":{\"id\":\"b670714d-79f5-4a6d-9e84-1b3cdeb88027\",\"type\":\"BasicTicker\"}},\"id\":\"fa25e232-04af-4ffe-b6ce-0ec18ded9f7f\",\"type\":\"LinearAxis\"},{\"attributes\":{\"fill_alpha\":{\"value\":0.1},\"fill_color\":{\"value\":\"#1f77b4\"},\"line_alpha\":{\"value\":0.1},\"line_color\":{\"value\":\"#1f77b4\"},\"size\":{\"units\":\"screen\",\"value\":10},\"x\":{\"value\":-0.10521891231940583},\"y\":{\"value\":-0.1938311269578156}},\"id\":\"4c2ee859-c2fd-484a-8474-e161e1bd8540\",\"type\":\"Circle\"},{\"attributes\":{\"formatter\":{\"id\":\"1387b653-d5ce-4271-9fe2-37f38d92dcaa\",\"type\":\"BasicTickFormatter\"},\"plot\":{\"id\":\"1b563e82-ce4a-4ac9-a009-b25bb881a712\",\"subtype\":\"Figure\",\"type\":\"Plot\"},\"ticker\":{\"id\":\"0b67abdb-0cf4-4261-acee-8ceb68dcad54\",\"type\":\"BasicTicker\"}},\"id\":\"374f484e-1141-486c-8331-295126170a69\",\"type\":\"LinearAxis\"},{\"attributes\":{\"fill_alpha\":{\"value\":0.1},\"fill_color\":{\"value\":\"#1f77b4\"},\"line_alpha\":{\"value\":0.1},\"line_color\":{\"value\":\"#1f77b4\"},\"x\":{\"value\":-0.0504464094726127},\"y\":{\"value\":-0.2030029194940923}},\"id\":\"dffd2c28-1447-4c13-92f8-0bf985c75304\",\"type\":\"Circle\"},{\"attributes\":{\"dimension\":1,\"plot\":{\"id\":\"1b563e82-ce4a-4ac9-a009-b25bb881a712\",\"subtype\":\"Figure\",\"type\":\"Plot\"},\"ticker\":{\"id\":\"0b67abdb-0cf4-4261-acee-8ceb68dcad54\",\"type\":\"BasicTicker\"}},\"id\":\"3863b276-39de-4e66-a857-fd2f45f1941a\",\"type\":\"Grid\"},{\"attributes\":{\"data_source\":{\"id\":\"13bf506c-63ed-4290-9aff-0b456ca36925\",\"type\":\"ColumnDataSource\"},\"glyph\":{\"id\":\"50be9d56-a88c-4a99-aaa1-1e0a00b9d034\",\"type\":\"Circle\"},\"hover_glyph\":null,\"muted_glyph\":null,\"nonselection_glyph\":{\"id\":\"0c4090bc-6479-42de-af2c-ff1fd19fe758\",\"type\":\"Circle\"},\"selection_glyph\":null,\"view\":{\"id\":\"d725be10-2124-42fd-8709-25d7379c1c85\",\"type\":\"CDSView\"}},\"id\":\"2143014e-e127-43ec-bbc1-485af2bd5465\",\"type\":\"GlyphRenderer\"},{\"attributes\":{\"line_color\":{\"value\":\"firebrick\"},\"line_width\":{\"value\":2},\"plot\":null,\"size\":10},\"id\":\"a8e4d9a7-d51b-4245-914b-382356234e89\",\"type\":\"OpenHead\"},{\"attributes\":{\"end\":{\"id\":\"118040be-4f3c-4391-b2ff-b81bb584f8e7\",\"type\":\"OpenHead\"},\"line_color\":{\"value\":\"gray\"},\"plot\":{\"id\":\"1b563e82-ce4a-4ac9-a009-b25bb881a712\",\"subtype\":\"Figure\",\"type\":\"Plot\"},\"source\":null,\"start\":null,\"x_end\":{\"value\":-0.267200334820484},\"x_start\":{\"value\":0.521006209796736},\"y_end\":{\"value\":0.5429624912281518},\"y_start\":{\"value\":-0.11928959637642501}},\"id\":\"031c1a6b-cfff-409c-92a3-efeffb79c4fe\",\"type\":\"Arrow\"},{\"attributes\":{\"source\":{\"id\":\"13bf506c-63ed-4290-9aff-0b456ca36925\",\"type\":\"ColumnDataSource\"}},\"id\":\"d725be10-2124-42fd-8709-25d7379c1c85\",\"type\":\"CDSView\"},{\"attributes\":{\"fill_alpha\":{\"value\":0.1},\"fill_color\":{\"value\":\"#1f77b4\"},\"line_alpha\":{\"value\":0.1},\"line_color\":{\"value\":\"#1f77b4\"},\"size\":{\"units\":\"screen\",\"value\":10},\"x\":{\"value\":-0.03798439611857498},\"y\":{\"value\":0.03617293960049672}},\"id\":\"0c4090bc-6479-42de-af2c-ff1fd19fe758\",\"type\":\"Circle\"},{\"attributes\":{\"end\":{\"id\":\"a8e4d9a7-d51b-4245-914b-382356234e89\",\"type\":\"OpenHead\"},\"line_color\":{\"value\":\"gray\"},\"plot\":{\"id\":\"1b563e82-ce4a-4ac9-a009-b25bb881a712\",\"subtype\":\"Figure\",\"type\":\"Plot\"},\"source\":null,\"start\":null,\"x_end\":{\"value\":0.6951768028186066},\"x_start\":{\"value\":-0.267200334820484},\"y_end\":{\"value\":-0.0014894629302168747},\"y_start\":{\"value\":0.5429624912281518}},\"id\":\"51ec00d5-5f18-4d76-91b2-7c640f4c25ec\",\"type\":\"Arrow\"}],\"root_ids\":[\"1b563e82-ce4a-4ac9-a009-b25bb881a712\"]},\"title\":\"Bokeh Application\",\"version\":\"0.12.15\"}};\n",
       "  var render_items = [{\"docid\":\"bc0ab64d-b82a-4389-953f-83957a0704c6\",\"elementid\":\"072f23d2-fe44-4d04-90ed-ffa440c947a9\",\"modelid\":\"1b563e82-ce4a-4ac9-a009-b25bb881a712\"}];\n",
       "  root.Bokeh.embed.embed_items_notebook(docs_json, render_items);\n",
       "\n",
       "  }\n",
       "  if (root.Bokeh !== undefined) {\n",
       "    embed_document(root);\n",
       "  } else {\n",
       "    var attempts = 0;\n",
       "    var timer = setInterval(function(root) {\n",
       "      if (root.Bokeh !== undefined) {\n",
       "        embed_document(root);\n",
       "        clearInterval(timer);\n",
       "      }\n",
       "      attempts++;\n",
       "      if (attempts > 100) {\n",
       "        console.log(\"Bokeh: ERROR: Unable to run BokehJS code because BokehJS library is missing\")\n",
       "        clearInterval(timer);\n",
       "      }\n",
       "    }, 10, root)\n",
       "  }\n",
       "})(window);"
      ],
      "application/vnd.bokehjs_exec.v0+json": ""
     },
     "metadata": {
      "application/vnd.bokehjs_exec.v0+json": {
       "id": "1b563e82-ce4a-4ac9-a009-b25bb881a712"
      }
     },
     "output_type": "display_data"
    }
   ],
   "source": [
    "show(p)"
   ]
  },
  {
   "cell_type": "code",
   "execution_count": null,
   "metadata": {},
   "outputs": [],
   "source": []
  },
  {
   "cell_type": "code",
   "execution_count": null,
   "metadata": {},
   "outputs": [],
   "source": []
  },
  {
   "cell_type": "code",
   "execution_count": null,
   "metadata": {},
   "outputs": [],
   "source": []
  }
 ],
 "metadata": {
  "kernelspec": {
   "display_name": "Python 3",
   "language": "python",
   "name": "python3"
  },
  "language_info": {
   "codemirror_mode": {
    "name": "ipython",
    "version": 3
   },
   "file_extension": ".py",
   "mimetype": "text/x-python",
   "name": "python",
   "nbconvert_exporter": "python",
   "pygments_lexer": "ipython3",
   "version": "3.6.5"
  }
 },
 "nbformat": 4,
 "nbformat_minor": 2
}
